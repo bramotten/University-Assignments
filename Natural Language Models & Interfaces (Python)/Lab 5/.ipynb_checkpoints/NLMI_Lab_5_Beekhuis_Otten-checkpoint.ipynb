{
 "cells": [
  {
   "cell_type": "markdown",
   "metadata": {
    "colab_type": "text",
    "id": "VmQBiivavVAu"
   },
   "source": [
    "# HMM Experiments\n",
    "\n",
    "Lennart Beekhuis, TODO\n",
    "\n",
    "Bram Otten, 10992456"
   ]
  },
  {
   "cell_type": "code",
   "execution_count": 1,
   "metadata": {
    "colab": {
     "autoexec": {
      "startup": false,
      "wait_interval": 0
     },
     "base_uri": "https://localhost:8080/",
     "height": 3730,
     "output_extras": [
      {
       "item_id": 44
      },
      {
       "item_id": 82
      },
      {
       "item_id": 98
      }
     ]
    },
    "colab_type": "code",
    "executionInfo": {
     "elapsed": 120987,
     "status": "ok",
     "timestamp": 1520682623917,
     "user": {
      "displayName": "Bram Otten",
      "photoUrl": "https://lh3.googleusercontent.com/a/default-user=s128",
      "userId": "110618989541510237728"
     },
     "user_tz": -60
    },
    "id": "PqWxHmX4vVAx",
    "outputId": "84835a88-5989-4aeb-ef1f-cce5087f9402"
   },
   "outputs": [],
   "source": [
    "import nltk\n",
    "try:\n",
    "    treebank_sents = nltk.corpus.treebank.tagged_sents(tagset='universal')\n",
    "except:\n",
    "    nltk.download()\n",
    "    treebank_sents = nltk.corpus.treebank.tagged_sents(tagset='universal')"
   ]
  },
  {
   "cell_type": "markdown",
   "metadata": {
    "colab_type": "text",
    "id": "iu72EQZevVA1"
   },
   "source": [
    "## Defining the model"
   ]
  },
  {
   "cell_type": "code",
   "execution_count": 2,
   "metadata": {
    "colab": {
     "autoexec": {
      "startup": false,
      "wait_interval": 0
     }
    },
    "colab_type": "code",
    "id": "4Jz2ZULZvVA2"
   },
   "outputs": [],
   "source": [
    "import numpy as np\n",
    "from collections import defaultdict\n",
    "\n",
    "\n",
    "def extract_sentences(treebank_corpus):\n",
    "    sentences = []\n",
    "    for observations in treebank_corpus:\n",
    "        sentences.append([x for x, c in observations])\n",
    "    return sentences\n",
    "\n",
    "\n",
    "def extract_tags(treebank_corpus):\n",
    "    tags = []\n",
    "    for observations in treebank_corpus:\n",
    "        tags.append([c for x, c in observations])\n",
    "    return tags\n",
    "\n",
    "\n",
    "class HMMLM:\n",
    "    \"\"\"\n",
    "    This is our HMM language model class.\n",
    "\n",
    "    It will be responsible for estimating parameters by MLE\n",
    "    as well as computing probabilities using the HMM.\n",
    "\n",
    "    We will use Laplace smoothing by default (because we do not want \n",
    "    to assign 0 probabilities).\n",
    "\n",
    "    GUIDELINES:\n",
    "        - by convention we will use the string '-UNK-' for an unknown POS tag\n",
    "            - and '<unk>' for an unknown word\n",
    "        - don't forget that with Laplace smoothing the unknown symbols have \n",
    "          to be in the support\n",
    "          of distributions\n",
    "        - now you will have 2 types of distributions, so you should deal \n",
    "          with unknown symbols\n",
    "          for both of them\n",
    "        - we also need padding for sentences and tag sequences, by convention \n",
    "          we will use\n",
    "            - '-BOS-' and '-EOS-' for padding tag sequences\n",
    "            - '<s>' and '</s>' for padding sentences\n",
    "        - do recall that '-BOS-' is **not** a valid tag\n",
    "            in other words we never *generate* '-BOS-' tags, we only pretend \n",
    "            they occur at\n",
    "            the 0th position of the tag sequence in order to provide \n",
    "            conditioning context for the first actual tag\n",
    "        - similarly, '<s>' is not a valid word\n",
    "            in other words, we never *generate* '<s>' as a word\n",
    "            in fact '<s>' is optional as no emission event is based on it\n",
    "        - on the other hand, '-EOS-' is a valid tag\n",
    "            you should model it as the last event of a tag sequence\n",
    "        - similarly, '</s>' is a valid word\n",
    "            you should consider it as the last event of a sentence\n",
    "\n",
    "    You can use whatever data structures you like for cpds\n",
    "        - we suggest python dict or collections.defaultdict\n",
    "            but you are free to experiment with list and/or np.array if you \n",
    "            like\n",
    "    \"\"\"\n",
    "\n",
    "    def __init__(self, transition_alpha=1.0, emission_alpha=1.0):\n",
    "        self._vocab = set()\n",
    "        self._tagset = set()\n",
    "        self._emission_cpds = dict()\n",
    "        self._transition_cpds = dict()\n",
    "        self._transition_alpha = transition_alpha\n",
    "        self._emission_alpha = emission_alpha\n",
    "\n",
    "    def tagset(self):\n",
    "        \"\"\"\n",
    "        Return the tagset: a set of all tags seen by the model (including \n",
    "        '-UNK-').\n",
    "\n",
    "        You can modify this if you judge necessary (for example, because \n",
    "        you decided  to use different datastructures, but do note that we \n",
    "        provide you an implementation of the Viterbi algorithm that\n",
    "        expects this functionality).\n",
    "        \"\"\"\n",
    "        # the -BOS- tag is just something for internal representation\n",
    "        #  in case you have added it to the tagset, we are removing it here\n",
    "        #  as keeping it would be bad for algorithms such as Viterbi\n",
    "        # the -UNK- tag must be in the support (due to Laplace smoothing)\n",
    "        #  thus in case you forgot it, we are adding it now\n",
    "        return self._tagset - {'-BOS-'} | {'-UNK-'}\n",
    "\n",
    "    def vocab(self):\n",
    "        \"\"\"\n",
    "        Return the vocabulary of words: all words seen by the model \n",
    "        (including '<unk>').\n",
    "\n",
    "        You can modify this if you judge necessary (for example, because \n",
    "        you decided to use different datastructures, but do note that \n",
    "        we provide you an implementation of the Viterbi algorithm that \n",
    "        expects this functionality).\n",
    "        \"\"\"\n",
    "        # the <s> token is just something for internal representation\n",
    "        #  in case you have added it to the vocabulary, we are removing it here\n",
    "        # the <unk> word must be in the support (due to Laplace smoothing)\n",
    "        #  thus in case you forgot it, we are adding it now\n",
    "        return self._vocab - {'<s>'} | {'<unk>'}\n",
    "\n",
    "    def preprocess_sentence(self, sentence, bos=True, eos=True):\n",
    "        \"\"\"\n",
    "        Preprocess a sentence by lowercasing its words and possibly padding it.\n",
    "\n",
    "        :param sentence: a list of tokens (each a string)\n",
    "        :param bos: if True you will get <s> at the beginning\n",
    "        :param eos: if True you will get </s> at the end\n",
    "        :returns: a list of tokens (lowercased strings)\n",
    "        \"\"\"\n",
    "        # lowercase\n",
    "        sentence = [x.lower() for x in sentence]\n",
    "        # optional padding\n",
    "        if bos:\n",
    "            sentence = ['<s>'] + sentence\n",
    "        if eos:\n",
    "            sentence = sentence + ['</s>']\n",
    "        return sentence\n",
    "\n",
    "    def preprocess_tag_sequence(self, tag_sequence, bos=True, eos=True):\n",
    "        \"\"\"\n",
    "        Preprocess a tag sequence with optional padding.\n",
    "\n",
    "        :param tag_sequence: a list of tags (each a string)\n",
    "        :param bos: if True you will get -BOS- at the beginning\n",
    "        :param eos: if True you will get -EOS- at the end\n",
    "        :returns: a list of tokens\n",
    "        \"\"\"\n",
    "        # optional padding\n",
    "        if bos:\n",
    "            tag_sequence = ['-BOS-'] + tag_sequence\n",
    "        if eos:\n",
    "            tag_sequence = tag_sequence + ['-EOS-']\n",
    "        return tag_sequence\n",
    "\n",
    "    def estimate_model(self, treebank):\n",
    "        \"\"\"\n",
    "        :param treebank: a sequence of observations as provided by nltk\n",
    "            each observation is a list of pairs (x_i, c_i)\n",
    "            and they have not yet been pre-processed\n",
    "\n",
    "        Estimate the model parameters.\n",
    "\n",
    "        This method does not have to return anything, it simply computes \n",
    "        the necessary cpds.\n",
    "        \"\"\"\n",
    "        reference_tagged_words = nltk.corpus.treebank.tagged_words(\n",
    "            tagset='universal')\n",
    "        self._vocab = set([w for (w, _) in reference_tagged_words])\n",
    "        self._tagset = set([t for (_, t) in reference_tagged_words])\n",
    "\n",
    "        self._tagset.add('-EOS-')\n",
    "        self._tagset.add('-UNK-')\n",
    "        # Init emissions inbetween so it doesn't unnecessarily contain the BOS\n",
    "        # tag\n",
    "        self._emission_cpds = {\n",
    "            tag: {\n",
    "                '<unk>': self._emission_alpha\n",
    "            }\n",
    "            for tag in self._tagset\n",
    "        }\n",
    "        self._tagset.add('-BOS-')\n",
    "        for key in self._tagset:\n",
    "            self._transition_cpds[key] = dict.fromkeys(self.tagset(),\n",
    "                                                       self._transition_alpha)\n",
    "\n",
    "        sentences = extract_sentences(treebank)\n",
    "        tree_tags = extract_tags(treebank)\n",
    "        for sentence_i, tags in enumerate(tree_tags):\n",
    "            tags = self.preprocess_tag_sequence(tags)\n",
    "            for i in range(1, len(tags)):\n",
    "                tag1 = tags[i - 1]\n",
    "                tag2 = tags[i]\n",
    "                self._transition_cpds[tag1][tag2] += 1\n",
    "\n",
    "            sentt = self.preprocess_sentence(sentences[sentence_i])\n",
    "            for word_i, tag in enumerate(tags):\n",
    "                word = sentt[word_i]\n",
    "                if word == '<s>' or word == '</s>' or tag == '-BOS-':\n",
    "                    continue\n",
    "                if word not in self._emission_cpds[tag]:\n",
    "                    self._vocab.add(word)\n",
    "                    self._emission_cpds[tag][word] = self._emission_alpha\n",
    "                self._emission_cpds[tag][word] += 1\n",
    "                # So the value will be 1 + emission_alpha for everything\n",
    "                # that occurs with this tag and later be made emission_alpha\n",
    "                # for every word that occurs at all.\n",
    "\n",
    "        # By now the vocab is full, throw into every tag's emission cpd.\n",
    "        # This doesn't really make sense (we have unk for this)\n",
    "        # but gets us closer to the wanted P value.\n",
    "        for tag in self._tagset:\n",
    "            if tag == '-BOS-':\n",
    "                continue\n",
    "            for word in self._vocab:\n",
    "                if word not in self._emission_cpds[tag]:\n",
    "                    self._emission_cpds[tag][word] = self._emission_alpha\n",
    "\n",
    "    def transition_parameter(self, previous_tag, current_tag):\n",
    "        \"\"\"\n",
    "        This method returns the transition probability for tag given \n",
    "        the previous tag.\n",
    "\n",
    "        Tips: do not forget that we have a smoothed model, thus\n",
    "            - if the either tag was never seen, you should pretend it \n",
    "              to be '-UNK-'\n",
    "\n",
    "        :param previous_tag: the previous tag (str)\n",
    "        :param current_tag: the current tag (str)\n",
    "        :return: transition parameter\n",
    "        \"\"\"\n",
    "        if current_tag not in self.tagset():\n",
    "            current_tag = '-UNK-'\n",
    "        if previous_tag not in self.tagset():\n",
    "            previous_tag = '-UNK-'\n",
    "\n",
    "        count_pair = self._transition_cpds[previous_tag][current_tag]\n",
    "        count_single = 0\n",
    "        for value in self._transition_cpds[previous_tag].values():\n",
    "            count_single += value\n",
    "\n",
    "        return count_pair / count_single\n",
    "\n",
    "    def emission_parameter(self, tag, word):\n",
    "        \"\"\"\n",
    "        This method returns the emission probability for a word given a tag.\n",
    "        Tips: do not forget that we have a smoothed model, thus\n",
    "            - if the tag was never seen, you should pretend it to be '-UNK-'\n",
    "            - similarly, if the word was never seen, you shoud pretend \n",
    "              it to be '<unk>'\n",
    "\n",
    "        :param tag: the current tag (str)\n",
    "        :param word: the current word (str)\n",
    "        :return: the emission probability\n",
    "        \"\"\"\n",
    "        word = word.lower()\n",
    "        if tag not in self.tagset():\n",
    "            tag = '-UNK-'\n",
    "        if word not in self._emission_cpds[tag]:\n",
    "            word = '<unk>'\n",
    "\n",
    "        count_tag_word = self._emission_cpds[tag][word]\n",
    "        count_tag = 0\n",
    "        for value in self._emission_cpds[tag].values():\n",
    "            count_tag += value\n",
    "\n",
    "        return count_tag_word / count_tag\n",
    "\n",
    "    def joint_parameter(self, previous_tag, current_tag, word):\n",
    "        \"\"\"\n",
    "        This method returns the joint probability of (current tag, word) \n",
    "        given the previous tag according to Equation (3)\n",
    "\n",
    "        :param previous_tag: the previous tag (str)\n",
    "        :param current_tag: the current tag (str)\n",
    "        :param word: the current word (str)\n",
    "        :returns: P(word, current_tag|previous_tag)\n",
    "        \"\"\"\n",
    "        return self.transition_parameter(previous_tag, current_tag) * \\\n",
    "            self.emission_parameter(current_tag, word)\n",
    "\n",
    "    def marginal_x_given_cprev(self, previous_tag, word):\n",
    "        \"\"\"\n",
    "        Return P(x|prev) as defined in Equation (4) by marginalising current \n",
    "        tag.\n",
    "\n",
    "        :param previous_tag: the previous tag (str)\n",
    "        :param word: the current word (str)\n",
    "        \"\"\"\n",
    "        total = 0\n",
    "        word = word.lower()\n",
    "        for cu_tag in self.tagset():\n",
    "            p = self.joint_parameter(previous_tag, cu_tag, word)\n",
    "            total += p\n",
    "        return total\n",
    "\n",
    "    def log_joint(self, sentence, tag_sequence):\n",
    "        \"\"\"\n",
    "        Implement the logarithm of the joint probability over a sentence and \n",
    "        tag sequence as in Equation (8)\n",
    "\n",
    "        :param sentence: a sequence of words (each a string) not yet preprocessed\n",
    "        :param tag_sequence: a sequence of tags (each a string) not yet preprocessed\n",
    "        :returns: log P(x_1^n, c_1^n|n) as defined in Equation (8)\n",
    "        \"\"\"\n",
    "        sentence = self.preprocess_sentence(sentence)\n",
    "        tag_sequence = self.preprocess_tag_sequence(tag_sequence)\n",
    "\n",
    "        counter = 0\n",
    "        for i in range(1, len(sentence)):\n",
    "            counter += np.log(\n",
    "                self.joint_parameter(tag_sequence[i - 1], tag_sequence[i],\n",
    "                                     sentence[i]))\n",
    "\n",
    "        return counter\n",
    "\n",
    "    def log_marginal(self, sentence):\n",
    "        \"\"\"\n",
    "        Implement the logarithm of the marginal probability of a sentence as in Equation (9)\n",
    "            by marginalisation of all possible tag sequences.\n",
    "\n",
    "        :param sentence: a sequence of words (each a string) not yet preprocessed\n",
    "        :returns: log P(x_1^m|n) as defined in Equation (9)\n",
    "        \"\"\"\n",
    "        sentence = self.preprocess_sentence(sentence)\n",
    "        total = 0\n",
    "        for word in sentence[1:]:\n",
    "            p = 0\n",
    "            for previous_tag in self.tagset():\n",
    "                p += self.marginal_x_given_cprev(previous_tag, word)\n",
    "            total += np.log(p)\n",
    "        return total"
   ]
  },
  {
   "cell_type": "code",
   "execution_count": 3,
   "metadata": {
    "code_folding": [
     39
    ],
    "colab": {
     "autoexec": {
      "startup": false,
      "wait_interval": 0
     }
    },
    "colab_type": "code",
    "id": "vTJIx1N7vVA5"
   },
   "outputs": [],
   "source": [
    "def log_perplexity(sentences, hmm):\n",
    "    \"\"\"\n",
    "    TYPE YOUR SOLUTION\n",
    "\n",
    "    For a dataset of sentences (each sentence is a list of words)\n",
    "        and an instance of the HMMLM class\n",
    "        return the log perplexity as defined in Equation (12)\n",
    "    \"\"\"\n",
    "    total_log_p = 0\n",
    "    n = 0\n",
    "    for sentence in sentences:\n",
    "        # Only care about words, so use this marginal. Each sentence has\n",
    "        n += len(sentence)\n",
    "        total_log_p += hmm.log_marginal(sentence) * (-1 / n)\n",
    "    return total_log_p  # * (-1 / n)\n",
    "\n",
    "\n",
    "def accuracy(gold_sequences, pred_sequences):\n",
    "    \"\"\"\n",
    "    Return percentage of instances in the test data that our tagger labeled correctly.\n",
    "\n",
    "    :param gold_sequences: a list of tag sequences that can be assumed to be correct\n",
    "    :param pred_sequences: a list of tag sequences predicted by Viterbi\n",
    "    \"\"\"\n",
    "\n",
    "    pred_counter = 0\n",
    "    token_counter = 0\n",
    "\n",
    "    for i, gold in enumerate(gold_sequences):\n",
    "        gold = gold_sequences[i]\n",
    "        pred = pred_sequences[i]\n",
    "        for j in range(len(gold)):\n",
    "            if gold[j] == pred[j]:\n",
    "                pred_counter += 1\n",
    "        token_counter += len(pred)\n",
    "\n",
    "    return pred_counter / token_counter\n",
    "\n",
    "\n",
    "def viterbi_recursion(sentence, hmm):\n",
    "    \"\"\"\n",
    "    Computes the best possible tag sequence for a given input\n",
    "    and also returns it log probability.\n",
    "\n",
    "    This implementation uses recursion.\n",
    "\n",
    "    :returns: tag sequence, log probability\n",
    "    \"\"\"\n",
    "    # here we pad the sentence with </s> only\n",
    "    sentence = hmm.preprocess_sentence(sentence, bos=False, eos=True)\n",
    "    # this is the length (but recall that padding added 1 token)\n",
    "    n = len(sentence)\n",
    "    # this is the complete tagset, which for convenience we will turn into a\n",
    "    # list\n",
    "    tagset = list(hmm.tagset())\n",
    "    t = len(tagset)\n",
    "    # We need a table to store log alpha(i, j) values\n",
    "    # - where i is an integer from 0 to n-1 which refers to a position in the list `sentence`\n",
    "    #   i.e. sentence[i]\n",
    "    # - and j is an integer from 0 to t-1 that refers to a tag in the list `tagset`\n",
    "    #   i.e. tagset[j]\n",
    "    # - together (i, j) means that we are setting `C_i = tagset[j]`\n",
    "    # - we will be exploring the space of possible tags per position\n",
    "    #   thus our table has as many as n * t cells\n",
    "    # - Recall that the value \\log \\alpha(i, j)\n",
    "    #   corresponds to the log probability value of the best\n",
    "    #   path (C_1, ..., C_i) such that C_i = j\n",
    "    #   in other words the log probability of the best sequence up to the ith token where C_i = j\n",
    "    # At the beginning path probabilities have not been computed, we use a probability of 0 to indicate that\n",
    "    #  as we will be computing log probabilities, we use -inf instead\n",
    "    #  numpy arrays are very handy and we can actually use the quantity -inf\n",
    "    log_alpha_table = np.full([n, t], -float('inf'))\n",
    "    # In a best path algorithm we are interested in two things\n",
    "    #  the best score (or best log probability)\n",
    "    #  as well as the path that corresponds to the best score\n",
    "    # We compute the best score by moving i forward from 0 to n-1 computing the maximum value\n",
    "    #  and we traverse the table backwards following the path that led to the maximum\n",
    "    #  thus we create a table of \"back pointers\"\n",
    "    #  this is an integer for each cell (i, j) that tells us which tag `p` for position `i - 1`\n",
    "    #   leads to the score stored in `log_alpha_table[i, j]`\n",
    "    back_pointer_table = np.full([n, t], -1, dtype=int)\n",
    "\n",
    "    # Here we define the log alpha recursion\n",
    "    def log_alpha(i, j):\n",
    "        \"\"\"\n",
    "        This function returns\n",
    "                max_{c_1, ..., c_i=j} log P(c_1, ..., c_i=j)\n",
    "            where i is a (0-based) position in `sentence`\n",
    "            and j is a (0-based) position in `tagset`\n",
    "        \"\"\"\n",
    "        if i == 0:  # we do not need to tag the 0th position and it should not affect the probability\n",
    "            return 0.  # np.log(1)\n",
    "        # When we implement dynamic programs, we like to re-use computations already made\n",
    "        # thus first of all we test if we have already computed a value for this cell\n",
    "        # if so, it will not have a zero probability (-inf in log space)\n",
    "        if log_alpha_table[i, j] != -float('inf'):\n",
    "            # then we can simply return it\n",
    "            return log_alpha_table[i, j]\n",
    "        # At this point we know we have not yet computed a score for this path\n",
    "        #  thus we proceed to compute it\n",
    "        # We will have to figure out the log prob of the best prefix\n",
    "        #  and which tag best continues from it\n",
    "        # There are exactly t classes that may tag this position\n",
    "        #  thus we just go over the tagset trying one at a time\n",
    "        #  and memorise the score we would have if we would select them\n",
    "        path_max_log_prob = np.full(t, -float('inf'))\n",
    "        for p in range(t):\n",
    "            # this is the essential part of the recursion\n",
    "            # we ask for the best score associated with the previous position\n",
    "            #  had it been tagged with p\n",
    "            #  and we incorporate the probability of C_i = tagset[j] given that C_{i-1} = tagset[p]\n",
    "            # as well as the probability of X_i = sentence[i] given that C_i =\n",
    "            # tagset[j]\n",
    "            path_max_log_prob[p] = log_alpha(\n",
    "                i - 1, p) + np.log(hmm.joint_parameter(tagset[p], tagset[j], sentence[i]))\n",
    "        # From all possibilities, we are only interested in the best\n",
    "        log_alpha_table[i, j] = np.max(path_max_log_prob)\n",
    "        # and we also want to store a pointer to the best\n",
    "        back_pointer_table[i, j] = np.argmax(path_max_log_prob)\n",
    "        return log_alpha_table[i, j]\n",
    "\n",
    "    # Let's get the index associated with -EOS-\n",
    "    #  which is the tag for the </s> symbol in sentence[-1]\n",
    "    eos_index = tagset.index('-EOS-')\n",
    "    # We want the last word in the sentence (</s>) to have the tag -EOS-\n",
    "    # thus we ask \"what's the probability of the best path that ends in\n",
    "    # -EOS-?\"\n",
    "    max_log_prob = log_alpha(n - 1, eos_index)\n",
    "\n",
    "    # Here we retrieve the backpointers for the best analysis\n",
    "    #  the best analisys has n tags\n",
    "    bwd_argmax = [None] * n\n",
    "    #  the last tag is the -EOS- symbol\n",
    "    bwd_argmax[-1] = eos_index\n",
    "    # Here we maintain the \"current tag\" c_i\n",
    "    c_i = eos_index\n",
    "    for i in range(n - 1, 0, -1):  # we go backwards from c_{n-1} to c_1\n",
    "        # and set the value of c_{i-1} for the current c_i\n",
    "        bwd_argmax[i - 1] = back_pointer_table[i, c_i]\n",
    "        # we need, of course, to update c_i\n",
    "        c_i = bwd_argmax[i - 1]\n",
    "\n",
    "    # Here we translate from ids back to actual tags (strings)\n",
    "    #  we leave the -EOS- symbol out, since it was just a convenience\n",
    "    #  and return both the tag sequence and the total log probability\n",
    "    return [tagset[c] for c in bwd_argmax[:-1]], max_log_prob"
   ]
  },
  {
   "cell_type": "markdown",
   "metadata": {
    "colab_type": "text",
    "id": "bkHeST72vVA8"
   },
   "source": [
    "## Testing the model"
   ]
  },
  {
   "cell_type": "code",
   "execution_count": 4,
   "metadata": {
    "colab": {
     "autoexec": {
      "startup": false,
      "wait_interval": 0
     },
     "base_uri": "https://localhost:8080/",
     "height": 51,
     "output_extras": [
      {
       "item_id": 1
      }
     ]
    },
    "colab_type": "code",
    "executionInfo": {
     "elapsed": 10990,
     "status": "ok",
     "timestamp": 1520682636373,
     "user": {
      "displayName": "Bram Otten",
      "photoUrl": "https://lh3.googleusercontent.com/a/default-user=s128",
      "userId": "110618989541510237728"
     },
     "user_tz": -60
    },
    "id": "nYro_nxlvVA-",
    "outputId": "95115b6a-e43d-4b02-f80f-3d0fb12ae733"
   },
   "outputs": [
    {
     "name": "stdout",
     "output_type": "stream",
     "text": [
      "814\n",
      "8.700521289904906e-05\n",
      "-207.70297815546238\n"
     ]
    }
   ],
   "source": [
    "# treebank_sents = nltk.corpus.treebank.tagged_sents(tagset='universal')\n",
    "treebank_training = list(treebank_sents[:3000])\n",
    "treebank_dev = list(treebank_sents[3000:3100])\n",
    "treebank_test = list(treebank_sents[3100:])\n",
    "print(len(treebank_test))\n",
    "\n",
    "treebank_hmm = HMMLM()\n",
    "treebank_hmm.estimate_model(treebank_training)\n",
    "\n",
    "print(treebank_hmm.joint_parameter('DET', 'NOUN', 'book'))\n",
    "sentence = [x for x, _ in treebank_dev[0]]\n",
    "tag_sequence = [c for _, c in treebank_dev[0]]\n",
    "print(treebank_hmm.log_joint(sentence, tag_sequence))"
   ]
  },
  {
   "cell_type": "code",
   "execution_count": 5,
   "metadata": {
    "colab": {
     "autoexec": {
      "startup": false,
      "wait_interval": 0
     },
     "base_uri": "https://localhost:8080/",
     "height": 34,
     "output_extras": [
      {
       "item_id": 1
      }
     ]
    },
    "colab_type": "code",
    "executionInfo": {
     "elapsed": 31933,
     "status": "ok",
     "timestamp": 1520682668612,
     "user": {
      "displayName": "Bram Otten",
      "photoUrl": "https://lh3.googleusercontent.com/a/default-user=s128",
      "userId": "110618989541510237728"
     },
     "user_tz": -60
    },
    "id": "gXjsMaZcvVBC",
    "outputId": "6b206320-50d1-4932-d2b8-1ea6d943bc62"
   },
   "outputs": [
    {
     "name": "stdout",
     "output_type": "stream",
     "text": [
      "0.864406779661017\n"
     ]
    }
   ],
   "source": [
    "def make_tag_sents(testset):\n",
    "    result = []\n",
    "    for sent in testset:\n",
    "        to_sent = []\n",
    "        for _, c in sent:\n",
    "            to_sent.append(c)\n",
    "        result.append(to_sent)\n",
    "\n",
    "    return result\n",
    "\n",
    "\n",
    "def make_word_sents(testset):\n",
    "    result = []\n",
    "    for sent in testset:\n",
    "        to_sent = []\n",
    "        for x, _ in sent:\n",
    "            to_sent.append(x)\n",
    "        result.append(to_sent)\n",
    "\n",
    "    return result\n",
    "\n",
    "\n",
    "def determine_viterbi_rec_accuracy(hmm, golden_std, test_set):\n",
    "    test_result = []\n",
    "    for sent in test_set:\n",
    "        viterbi_path, _ = viterbi_recursion(sent, hmm)\n",
    "        test_result.append(viterbi_path)\n",
    "\n",
    "    return(accuracy(golden_std, test_result))\n",
    "\n",
    "\n",
    "ptb_gold = make_tag_sents(treebank_test)\n",
    "sents_ptb = make_word_sents(treebank_test)\n",
    "\n",
    "lim = 2\n",
    "print(determine_viterbi_rec_accuracy(treebank_hmm,\n",
    "                                     ptb_gold[:lim],\n",
    "                                     sents_ptb[:lim]))\n",
    "# print(determine_viterbi_rec_accuracy(treebank_hmm, ptb_gold, sents_ptb))"
   ]
  },
  {
   "cell_type": "code",
   "execution_count": 6,
   "metadata": {
    "colab": {
     "autoexec": {
      "startup": false,
      "wait_interval": 0
     },
     "base_uri": "https://localhost:8080/",
     "height": 34,
     "output_extras": [
      {
       "item_id": 1
      }
     ]
    },
    "colab_type": "code",
    "executionInfo": {
     "elapsed": 447,
     "status": "ok",
     "timestamp": 1520682669114,
     "user": {
      "displayName": "Bram Otten",
      "photoUrl": "https://lh3.googleusercontent.com/a/default-user=s128",
      "userId": "110618989541510237728"
     },
     "user_tz": -60
    },
    "id": "0ivzwbpRvVBE",
    "outputId": "8fc540fe-4d73-40f5-f5bc-1d8b14eec0e5",
    "scrolled": false
   },
   "outputs": [
    {
     "name": "stdout",
     "output_type": "stream",
     "text": [
      "Mine: (['DET', 'VERB', 'DET', 'NOUN', '.', 'CONJ', 'ADV', 'VERB'], -61.239278580821974)\n",
      "Recu: (['PRON', 'VERB', 'DET', 'NOUN', '.', 'CONJ', 'ADV', '.'], -62.86055666422245)\n",
      "Mine: (['DET', 'VERB', 'DET', 'NOUN', '.'], -31.94496736549541)\n",
      "Recu: (['PRON', 'VERB', 'DET', 'NOUN', '.'], -32.75258925965308)\n",
      "Mine: 0.8697916666666666\n",
      "Recu: 0.8541666666666666\n"
     ]
    }
   ],
   "source": [
    "def viterbi(sentence, hmm):\n",
    "    \"\"\"\n",
    "    Computes the best possible tag sequence for a given input\n",
    "    and also returns it log probability.\n",
    "\n",
    "    This implementation should NOT use recursion.\n",
    "\n",
    "    :returns: tag sequence, log probability\n",
    "    \"\"\"\n",
    "    sentence = hmm.preprocess_sentence(sentence,\n",
    "                                       bos=False,\n",
    "                                       eos=False)\n",
    "    n = len(sentence)\n",
    "    tagset = list(hmm.tagset())\n",
    "\n",
    "    # Fill in array, keys are tags, separated by spaces\n",
    "    V = [{} for _ in range(n)]\n",
    "    for tag in tagset:\n",
    "        V[0]['-BOS- ' + tag] = np.log(\n",
    "            hmm.joint_parameter('-BOS-', tag, sentence[0]))\n",
    "        #np.log(hmm.emission_parameter(tag, sentence[0]))\n",
    "    for i in range(1, n):\n",
    "        # Could prune\n",
    "        best_prev_tags = max(V[i - 1], key=V[i - 1].get)\n",
    "        prev_p = V[i - 1][best_prev_tags]\n",
    "        for tag in tagset:\n",
    "            V[i][best_prev_tags + ' ' + tag] = prev_p + np.log(\n",
    "                hmm.joint_parameter(best_prev_tags.split()[-1],\n",
    "                                    tag, sentence[i]))\n",
    "    best_tags = max(V[n-1], key=V[n-1].get)\n",
    "    return best_tags.split()[1:], V[n-1][best_tags]\n",
    "\n",
    "\n",
    "def determine_viterbi_own_accuracy(hmm, golden_std, test_set):\n",
    "    test_result = []\n",
    "    for sent in test_set:\n",
    "        viterbi_path, _ = viterbi(sent, hmm)\n",
    "        test_result.append(viterbi_path)\n",
    "\n",
    "    return(accuracy(golden_std, test_result))\n",
    "\n",
    "\n",
    "x = \"This is a sentence , but very bad.\".split()\n",
    "print(\"Mine:\", viterbi(x, treebank_hmm))\n",
    "print(\"Recu:\", viterbi_recursion(x, treebank_hmm))\n",
    "x = \"This is a book .\".split()\n",
    "print(\"Mine:\", viterbi(x, treebank_hmm))\n",
    "print(\"Recu:\", viterbi_recursion(x, treebank_hmm))\n",
    "lim = 6\n",
    "print(\"Mine:\", determine_viterbi_own_accuracy(treebank_hmm,\n",
    "                                              ptb_gold[:lim],\n",
    "                                              sents_ptb[:lim]))\n",
    "if lim > 20:\n",
    "    lim = 20  # mokerbad Wilker\n",
    "print(\"Recu:\", determine_viterbi_rec_accuracy(treebank_hmm,\n",
    "                                              ptb_gold[:lim],\n",
    "                                              sents_ptb[:lim]))\n",
    "\n",
    "# Unprofessional conclusion: the recursive version REALLY sucks."
   ]
  },
  {
   "cell_type": "markdown",
   "metadata": {
    "colab_type": "text",
    "id": "pRSvxq_OvVBH"
   },
   "source": [
    "## Running the experiments (TODO)"
   ]
  },
  {
   "cell_type": "code",
   "execution_count": 7,
   "metadata": {
    "colab": {
     "autoexec": {
      "startup": false,
      "wait_interval": 0
     },
     "base_uri": "https://localhost:8080/",
     "height": 196,
     "output_extras": [
      {
       "item_id": 1
      }
     ]
    },
    "colab_type": "code",
    "executionInfo": {
     "elapsed": 632,
     "status": "error",
     "timestamp": 1520682669828,
     "user": {
      "displayName": "Bram Otten",
      "photoUrl": "https://lh3.googleusercontent.com/a/default-user=s128",
      "userId": "110618989541510237728"
     },
     "user_tz": -60
    },
    "id": "yOOczklRvVBH",
    "outputId": "7ba79180-4112-4a4b-d332-8d6ed33903c1"
   },
   "outputs": [],
   "source": [
    "training_ids = [int(i) for i in open('training.ids') if i.strip()]\n",
    "development_ids = [int(i) for i in open('development.ids') if i.strip()]\n",
    "test_ids = [int(i) for i in open('test.ids') if i.strip()]"
   ]
  },
  {
   "cell_type": "code",
   "execution_count": 8,
   "metadata": {
    "colab": {
     "autoexec": {
      "startup": false,
      "wait_interval": 0
     }
    },
    "colab_type": "code",
    "id": "02WT8AvdvVBJ"
   },
   "outputs": [],
   "source": [
    "ptb_training = [treebank_sents[i] for i in training_ids]\n",
    "ptb_development = [treebank_sents[i] for i in development_ids]\n",
    "ptb_test = [treebank_sents[i] for i in test_ids]"
   ]
  },
  {
   "cell_type": "code",
   "execution_count": 10,
   "metadata": {},
   "outputs": [
    {
     "name": "stdout",
     "output_type": "stream",
     "text": [
      "** Alpha = transition_alpha, beta = emission_alpha **\n",
      "\n",
      "** Results for alpha = 0.01 and beta = 0.01**\n",
      "   Perplexity: 12.3        Viterbi: 0.16\n",
      "\n",
      "** Results for alpha = 0.01 and beta = 0.1**\n",
      "   Perplexity: 12.4        Viterbi: 0.16\n",
      "\n",
      "** Results for alpha = 0.01 and beta = 1.0**\n",
      "   Perplexity: 12.5        Viterbi: 0.16\n",
      "\n",
      "** Results for alpha = 0.01 and beta = 10.0**\n",
      "   Perplexity: 12.5        Viterbi: 0.06\n",
      "\n",
      "** Results for alpha = 0.1 and beta = 0.01**\n",
      "   Perplexity: 12.2        Viterbi: 0.25\n",
      "\n",
      "** Results for alpha = 0.1 and beta = 0.1**\n",
      "   Perplexity: 12.4        Viterbi: 0.16\n",
      "\n",
      "** Results for alpha = 0.1 and beta = 1.0**\n",
      "   Perplexity: 12.5        Viterbi: 0.16\n",
      "\n",
      "** Results for alpha = 0.1 and beta = 10.0**\n",
      "   Perplexity: 12.5        Viterbi: 0.06\n",
      "\n",
      "** Results for alpha = 1.0 and beta = 0.01**\n",
      "   Perplexity: 12.1        Viterbi: 0.25\n",
      "\n",
      "** Results for alpha = 1.0 and beta = 0.1**\n",
      "   Perplexity: 12.4        Viterbi: 0.25\n",
      "\n",
      "** Results for alpha = 1.0 and beta = 1.0**\n",
      "   Perplexity: 12.5        Viterbi: 0.16\n",
      "\n",
      "** Results for alpha = 1.0 and beta = 10.0**\n",
      "   Perplexity: 12.5        Viterbi: 0.06\n",
      "\n",
      "** Results for alpha = 10.0 and beta = 0.01**\n",
      "   Perplexity: 12.1        Viterbi: 0.25\n",
      "\n",
      "** Results for alpha = 10.0 and beta = 0.1**\n",
      "   Perplexity: 12.4        Viterbi: 0.25\n",
      "\n",
      "** Results for alpha = 10.0 and beta = 1.0**\n",
      "   Perplexity: 12.5        Viterbi: 0.25\n",
      "\n",
      "** Results for alpha = 10.0 and beta = 10.0**\n",
      "   Perplexity: 12.5        Viterbi: 0.16\n",
      "\n"
     ]
    },
    {
     "data": {
      "text/plain": [
       "[[(12.312813482574477, 0.16129032258064516),\n",
       "  (12.496750944420171, 0.16129032258064516),\n",
       "  (12.567095003977059, 0.16129032258064516),\n",
       "  (12.576511540223452, 0.06451612903225806)],\n",
       " [(12.258362113537132, 0.25806451612903225),\n",
       "  (12.472661673087462, 0.16129032258064516),\n",
       "  (12.563145564208686, 0.16129032258064516),\n",
       "  (12.576089117725154, 0.06451612903225806)],\n",
       " [(12.189050799986951, 0.25806451612903225),\n",
       "  (12.439890058806414, 0.25806451612903225),\n",
       "  (12.557090696931997, 0.16129032258064516),\n",
       "  (12.575425812609847, 0.06451612903225806)],\n",
       " [(12.167223770991562, 0.25806451612903225),\n",
       "  (12.429994509805667, 0.25806451612903225),\n",
       "  (12.55512069213029, 0.25806451612903225),\n",
       "  (12.575206092161354, 0.16129032258064516)]]"
      ]
     },
     "execution_count": 10,
     "metadata": {},
     "output_type": "execute_result"
    }
   ],
   "source": [
    " def test_parameters(training_set, test_set,\n",
    "                    parameters_alpha, parameters_beta):\n",
    "\n",
    "    test_sents = make_word_sents(test_set)\n",
    "    test_tags = make_tag_sents(test_set)\n",
    "\n",
    "    result_array = []\n",
    "    print(\"** Alpha = transition_alpha, beta = emission_alpha **\\n\")\n",
    "\n",
    "    for alpha in parameters_alpha:\n",
    "        results = []\n",
    "        for beta in parameters_beta:\n",
    "            treebank_hmm = HMMLM(transition_alpha=alpha,\n",
    "                                 emission_alpha=beta)\n",
    "            treebank_hmm.estimate_model(training_set)\n",
    "            perp = log_perplexity(test_tags, treebank_hmm)\n",
    "            viterbi = determine_viterbi_own_accuracy(\n",
    "                treebank_hmm, test_tags, test_sents)\n",
    "            results.append((perp, viterbi))\n",
    "            print(\"** Results for alpha = \" + str(alpha)[:4] +\n",
    "                  \" and beta = \" + str(beta)[:4] + \"**\")\n",
    "            print(\"   Perplexity: \" + str(perp)[:4] + \"        \"\n",
    "                  \"Viterbi: \" + str(viterbi)[:4])\n",
    "            print()\n",
    "\n",
    "        result_array.append(results)\n",
    "\n",
    "    return result_array\n",
    "\n",
    "\n",
    "parameters_alpha = [0.01, 0.10, 1.00, 10.0]\n",
    "parameters_beta = [0.01, 0.10, 1.00, 10.0]\n",
    "lim = 2\n",
    "test_parameters(ptb_training[:lim], ptb_development[:lim],\n",
    "                parameters_alpha, parameters_beta)"
   ]
  },
  {
   "cell_type": "code",
   "execution_count": null,
   "metadata": {},
   "outputs": [],
   "source": [
    "# Without limit:\n",
    "test_parameters(ptb_training[:lim], ptb_development[:lim],\n",
    "                parameters_alpha, parameters_beta)\n",
    "results = [[(53.448521686290697, 0.8919712793733682),\n",
    "            (47.330927607654615, 0.8864229765013055),\n",
    "            (41.96051297236022, 0.8560704960835509),\n",
    "            (41.161865555645363, 0.7682767624020888)],\n",
    "           [(53.445369099263594, 0.8919712793733682),\n",
    "            (47.329609438720318, 0.8864229765013055),\n",
    "            (41.96014643605119, 0.8560704960835509),\n",
    "            (41.161812748821752, 0.7682767624020888)],\n",
    "           [(53.414116822901967, 0.8919712793733682),\n",
    "            (47.316515993240216, 0.8864229765013055),\n",
    "            (41.956502095575537, 0.8560704960835509),\n",
    "            (41.161288040286323, 0.7682767624020888)],\n",
    "           [(53.126548139688857, 0.8913185378590078),\n",
    "            (47.193792971447294, 0.8870757180156658),\n",
    "            (41.922031064051346, 0.8616187989556136),\n",
    "            (41.156354423292662, 0.7689295039164491)]]\n",
    "\n",
    "check_alpha = [10.0]\n",
    "check_beta = [10.0, 1.0]\n",
    "check2_alpha = [0.01]\n",
    "check2_beta = [0.01]\n",
    "\n",
    "test_parameters(ptb_training, ptb_test,\n",
    "                check_alpha, check_beta)\n",
    "\n",
    "test_parameters(ptb_training, ptb_test,\n",
    "                check2_alpha, check2_beta)\n",
    "\n",
    "# Prepare for the KeyboardInterrupt."
   ]
  },
  {
   "cell_type": "markdown",
   "metadata": {
    "colab_type": "text",
    "id": "3gvOx-WfvVBO"
   },
   "source": [
    "## Other stuff"
   ]
  },
  {
   "cell_type": "code",
   "execution_count": 11,
   "metadata": {},
   "outputs": [
    {
     "name": "stdout",
     "output_type": "stream",
     "text": [
      "  alpha    beta     ppl    vit\n",
      "-------  ------  ------  -----\n",
      "   0.01    0.01  53.449  0.892\n",
      "   0.01    0.1   47.331  0.887\n",
      "   0.01    1     41.961  0.856\n",
      "   0.01   10     41.162  0.768\n",
      "   0.1     0.01  53.445  0.892\n",
      "   0.1     0.1   47.33   0.886\n",
      "   0.1     1     41.96   0.856\n",
      "   0.1    10     41.162  0.768\n",
      "   1       0.01  53.414  0.892\n",
      "   1       0.1   47.317  0.886\n",
      "   1       1     41.957  0.856\n",
      "   1      10     41.161  0.768\n",
      "  10       0.01  53.127  0.891\n",
      "  10       0.1   47.194  0.887\n",
      "  10       1     41.922  0.862\n",
      "  10      10     41.156  0.769\n"
     ]
    }
   ],
   "source": [
    "from tabulate import tabulate\n",
    "results = [[0.01, 0.01, 53.449, 0.892], [0.01, 0.1, 47.331, 0.887], [0.01, 1.0, 41.961, 0.856], [0.01, 10.0, 41.162, 0.768],\n",
    "           [0.1, 0.01, 53.445, 0.892], [0.1, 0.1, 47.330, 0.886], [\n",
    "               0.1, 1.0, 41.960, 0.856], [0.1, 10.0, 41.162, 0.768],\n",
    "           [1.0, 0.01, 53.414, 0.892], [1.0, 0.1, 47.317, 0.886], [\n",
    "               1.0, 1.0, 41.957, 0.856], [1.0, 10.0, 41.161, 0.768],\n",
    "           [10.0, 0.01, 53.127, 0.891], [10.0, 0.1, 47.194, 0.887], [10.0, 1.0, 41.922, 0.862], [10.0, 10.0, 41.156, 0.769]]\n",
    "headers = ['alpha', 'beta', 'ppl', 'vit']\n",
    "print(tabulate(results, headers=headers))"
   ]
  },
  {
   "cell_type": "code",
   "execution_count": 13,
   "metadata": {},
   "outputs": [
    {
     "data": {
      "image/png": "[encoded data removed]",
      "text/plain": [
       "<matplotlib.figure.Figure at 0x198b5298fd0>"
      ]
     },
     "metadata": {},
     "output_type": "display_data"
    },
    {
     "data": {
      "image/png": "[encoded data removed]",
      "text/plain": [
       "<matplotlib.figure.Figure at 0x198b4f96d68>"
      ]
     },
     "metadata": {},
     "output_type": "display_data"
    }
   ],
   "source": [
    "import matplotlib.pyplot as plt\n",
    "import numpy as np\n",
    "\n",
    "plt.semilogx(subsy=[0.01, 0.1, 1.0, 10.0])\n",
    "plt.yticks([0.78, 0.8, 0.82, 0.84, 0.86, 0.88])\n",
    "plt.plot([0.01, 0.1, 1.0, 10.0], [0.892, 0.887, 0.856, 0.768], 'b')\n",
    "plt.plot([0.01, 0.1, 1.0, 10.0], [0.892, 0.892, 0.892, 0.891], 'r')\n",
    "plt.plot([0.01, 0.1, 1.0, 10.0], [0.887, 0.886, 0.886, 0.887], 'r')\n",
    "plt.plot([0.01, 0.1, 1.0, 10.0], [0.856, 0.856, 0.856, 0.862], 'r')\n",
    "plt.plot([0.01, 0.1, 1.0, 10.0], [0.768, 0.768, 0.768, 0.768], 'r')\n",
    "plt.xlabel('Alpha (red) and beta (blue) values')\n",
    "plt.ylabel('Accuracy')\n",
    "plt.title('Accuracy with varying values of alpha and beta')\n",
    "plt.show()\n",
    "\n",
    "\n",
    "plt.semilogx(subsy=[0.01, 0.1, 1.0, 10.0])\n",
    "plt.yticks([42.5, 45, 47.5, 50, 52.5])\n",
    "plt.plot([0.01, 0.1, 1.0, 10.0], [53.449, 47.331, 41.961, 41.162], 'b')\n",
    "plt.plot([0.01, 0.1, 1.0, 10.0], [53.449, 53.445, 53.414, 53.127], 'r')\n",
    "plt.plot([0.01, 0.1, 1.0, 10.0], [47.331, 47.33, 47.317, 47.194], 'r')\n",
    "plt.plot([0.01, 0.1, 1.0, 10.0], [41.961, 41.96, 41.957, 41.922], 'r')\n",
    "plt.plot([0.01, 0.1, 1.0, 10.0], [41.162, 41.162, 41.161, 41.156], 'r')\n",
    "plt.xlabel('Alpha (red) and beta (blue) values')\n",
    "plt.ylabel('Logarithmic perplexity')\n",
    "plt.title('Logarithmic perplexity on varying values of alpha and beta')\n",
    "\n",
    "plt.show()"
   ]
  },
  {
   "cell_type": "code",
   "execution_count": null,
   "metadata": {
    "colab": {
     "autoexec": {
      "startup": false,
      "wait_interval": 0
     },
     "output_extras": [
      {}
     ]
    },
    "colab_type": "code",
    "id": "rfwVaSMnvVBP",
    "outputId": "ee4c7d77-11e4-4f72-f688-e63ee217a2f9"
   },
   "outputs": [],
   "source": [
    "# # Optional: Brown treebank too\n",
    "\n",
    "# brown_sentences = nltk.corpus.brown.tagged_sents(tagset='universal')\n",
    "# brown_training = list(brown_sentences[:56000])\n",
    "# brown_dev = list(brown_sentences[56000:56340])\n",
    "# brown_test = list(brown_sentences[56340:])\n",
    "\n",
    "# brown_hmm = HMMLM()\n",
    "# brown_hmm.estimate_model(treebank_training)\n",
    "\n",
    "# print(brown_hmm.joint_parameter('DET', 'NOUN', 'book'))\n",
    "# sentence = [x for x, _ in treebank_dev[0]]\n",
    "# tag_sequence = [c for _, c in treebank_dev[0]]\n",
    "# print(brown_hmm.log_joint(sentence, tag_sequence))\n",
    "\n",
    "# brown_gold = make_tag_sents(brown_test)\n",
    "# sents_brown = make_word_sents(brown_test)\n",
    "\n",
    "# print(determine_viterbi_rec_accuracy(\n",
    "#     brown_hmm, brown_gold[:5], sents_brown[:5]))\n",
    "# # print(determine_viterbi_rec_accuracy(brown_hmm, brown_gold, sents_brown))\n",
    "# # print(determine_viterbi_rec_accuracy(brown_hmm, ptb_gold, sents_ptb))\n",
    "# # print(determine_viterbi_rec_accuracy(treebank_hmm, brown_gold, sents_brown))"
   ]
  }
 ],
 "metadata": {
  "colab": {
   "default_view": {},
   "name": "Lab5-Colab.ipynb",
   "provenance": [],
   "version": "0.3.2",
   "views": {}
  },
  "kernelspec": {
   "display_name": "Python 3",
   "language": "python",
   "name": "python3"
  },
  "language_info": {
   "codemirror_mode": {
    "name": "ipython",
    "version": 3
   },
   "file_extension": ".py",
   "mimetype": "text/x-python",
   "name": "python",
   "nbconvert_exporter": "python",
   "pygments_lexer": "ipython3",
   "version": "3.6.4"
  },
  "varInspector": {
   "cols": {
    "lenName": 16,
    "lenType": 16,
    "lenVar": 40
   },
   "kernels_config": {
    "python": {
     "delete_cmd_postfix": "",
     "delete_cmd_prefix": "del ",
     "library": "var_list.py",
     "varRefreshCmd": "print(var_dic_list())"
    },
    "r": {
     "delete_cmd_postfix": ") ",
     "delete_cmd_prefix": "rm(",
     "library": "var_list.r",
     "varRefreshCmd": "cat(var_dic_list()) "
    }
   },
   "types_to_exclude": [
    "module",
    "function",
    "builtin_function_or_method",
    "instance",
    "_Feature"
   ],
   "window_display": false
  }
 },
 "nbformat": 4,
 "nbformat_minor": 2
}
