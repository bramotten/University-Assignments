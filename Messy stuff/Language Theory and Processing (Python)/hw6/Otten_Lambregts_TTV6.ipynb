{
 "cells": [
  {
   "cell_type": "markdown",
   "metadata": {
    "deletable": true,
    "editable": true
   },
   "source": [
    "# Taaltheorie & Taalverwerking 2017 - Assignment 6\n",
    "\n",
    "Last week, we used the following **Node** class to represent a simple ontological structure in Python, in which the argument is used to represent a concept (a word sense) and the second argument is used to represent its immediate hypernym. We use the same class again this week.\n"
   ]
  },
  {
   "cell_type": "code",
   "execution_count": 1,
   "metadata": {
    "collapsed": true,
    "deletable": true,
    "editable": true
   },
   "outputs": [],
   "source": [
    "# FILL THIS IN FOR YOUR GROUP, also name your file as: tttv_ass6_<group>_<name1>_<name2>.ipynb\n",
    "# Group        : G\n",
    "# Name - UvaID : Bram Otten - 10992456\n",
    "# Name - UvaID : Deborah Lambregts - 11318643\n",
    "# Date         : 23-05-2017"
   ]
  },
  {
   "cell_type": "code",
   "execution_count": 2,
   "metadata": {
    "collapsed": false,
    "deletable": true,
    "editable": true
   },
   "outputs": [],
   "source": [
    "class Node:\n",
    "    def __init__(self, node_value, parent_node=None):\n",
    "        self._set_parent(parent_node)            \n",
    "        self._children = set()\n",
    "        self.value = node_value\n",
    "        \n",
    "    def _set_parent(self, parent):\n",
    "        if isinstance(parent, Node):\n",
    "            self._parent_node = parent\n",
    "            parent.get_children().add(self)\n",
    "        else:\n",
    "            self._parent_node = None\n",
    "    \n",
    "    def get_parent(self):\n",
    "        return self._parent_node    \n",
    "    \n",
    "    def get_children(self):\n",
    "        return self._children\n",
    "\n",
    "animate_being = Node(\"animate_being\")\n",
    "animal = Node(\"animal\", animate_being)\n",
    "mammal = Node(\"mammal\", animal)\n",
    "carnivore = Node(\"carnivore\", mammal)\n",
    "feline = Node(\"feline\", carnivore)\n",
    "cat = Node(\"cat\", feline)\n",
    "insectivore = Node(\"insectivore\", mammal)\n",
    "hedgehog = Node(\"hedgehog\", insectivore)"
   ]
  },
  {
   "cell_type": "markdown",
   "metadata": {
    "deletable": true,
    "editable": true
   },
   "source": [
    "The purpose of these exercises is to implement more tools for exploring a given ontological structure. For all of the examples that follow, we shall assume that the sample ontology above is used (but, of course, the tools you are expected to implement are general and should work for any such ontology).\n"
   ]
  },
  {
   "cell_type": "markdown",
   "metadata": {
    "deletable": true,
    "editable": true
   },
   "source": [
    "### Question 1 (6pts total)\n",
    "\n",
    "In this exercise you will explore the output of a distributional semantic model and compare its semantic similarity ranking to that obtained with path-length distance in an ontology. \n",
    "\n",
    "#### Question 1.1 (1pt)\n",
    "Infomap is an implementation of a distributional semantic model that can be queried online at http://clic.cimec.unitn.it/infomap-query/. For a target word, it will return its $n$ nearest semantic neighbours ordered by similarity strength (calculated using cosine similarity between vectors in semantic space). Have a look at the model options that can be selected in the querying interface. Read the Infomap documentation (link at the end of the  page) and briefly summarise (in your own words) the features of the model option **bnc-lemma-narrow**. Your summary should include the language for which the model has been constructed, the corpus used, the characteristics of the target words (the rows), and the size of the context.\n",
    "\n",
    "#### Answers:"
   ]
  },
  {
   "cell_type": "markdown",
   "metadata": {
    "deletable": true,
    "editable": true
   },
   "source": [
    "The corpus of the bnc-lemma-narrow model contains lemmatized lowercased English nouns, verbs, and adjectives. The narrow model only returns similar words with the same part of speech (e.g. noun), whereas the wide model returns any similar word from the corpus."
   ]
  },
  {
   "cell_type": "markdown",
   "metadata": {
    "deletable": true,
    "editable": true
   },
   "source": [
    "#### Question 1.2 (2pts)\n",
    "Search for the target word **car** using the following parameters: target word PoS **noun**, model option **bnc-lemma-narrow**, neighbor PoS  **noun**, max. number of neighbors **5**. As output you should get a list of five words including **car**, with a similarity score that indicates how similar they are to **car** according to the model. \n",
    "\n",
    "Now search for each of these five words in WordNet and, by exploring their inherited hypernym chains, discover the ontological structure that links them (it may help you to draw a tree like the one shown at the beginning of this document). Implement this ontological structure in Python, using our **Node** class (up to their common hypernym in WordNet). Give the hypernyms of **car** in this ontology. The WordNet ontology can be searched through: http://wordnetweb.princeton.edu/perl/webwn. Once you search for **car**, you will get entries similar to:\n",
    "\n",
    "    S: (n) car, auto, automobile, machine, motorcar (a motor vehicle with four wheels; usually propelled by an internal combustion engine) \"he needs a car to get to work\"\n",
    "    \n",
    "By clicking the **S** you will get options to for instance, list all of its hypernyms.    "
   ]
  },
  {
   "cell_type": "code",
   "execution_count": 4,
   "metadata": {
    "collapsed": true,
    "deletable": true,
    "editable": true
   },
   "outputs": [],
   "source": [
    "# Give the list of neigbours and provide the ontological structure up to their common hypernym.\n",
    "similar_words = ['car', 'van', 'vehicle', 'truck', 'motorcycle']\n",
    "# Vehicle looks good. (Its hypernym is conveyance.)"
   ]
  },
  {
   "cell_type": "code",
   "execution_count": 5,
   "metadata": {
    "collapsed": false,
    "deletable": true,
    "editable": true
   },
   "outputs": [],
   "source": [
    "# Give the ontological structure linking these words according to WordNet:\n",
    "\n",
    "vehicle = Node(\"vehicle\")\n",
    "wheeled = Node(\"wheeled\", vehicle)\n",
    "propelled = Node(\"propelled\", wheeled)\n",
    "motor = Node(\"motor\", propelled)\n",
    "motorcycle = Node(\"cycle\", motor)\n",
    "car = Node(\"car\", motor)\n",
    "truck = Node(\"truck\", motor)\n",
    "van = Node(\"van\", truck)"
   ]
  },
  {
   "cell_type": "markdown",
   "metadata": {
    "deletable": true,
    "editable": true
   },
   "source": [
    "#### Question 1.3 (2pts)\n",
    "\n",
    " Implement a function called **co\\_hyponym(node1, node2)** to check whether two concepts are co-hyponyms or sister terms (i.e., have the same immediate hypernym). Examples:"
   ]
  },
  {
   "cell_type": "code",
   "execution_count": 6,
   "metadata": {
    "collapsed": false,
    "deletable": true,
    "editable": true
   },
   "outputs": [
    {
     "name": "stdout",
     "output_type": "stream",
     "text": [
      "True\n",
      "False\n",
      "True\n"
     ]
    }
   ],
   "source": [
    "# Check if they have the same parent.\n",
    "def co_hyponym(node1, node2):\n",
    "    return node1.get_parent() == node2.get_parent()\n",
    "\n",
    "print(co_hyponym(car, motorcycle))\n",
    "print(co_hyponym(vehicle, wheeled))\n",
    "print(co_hyponym(vehicle, vehicle))"
   ]
  },
  {
   "cell_type": "markdown",
   "metadata": {
    "deletable": true,
    "editable": true
   },
   "source": [
    "#### Question 1.4 (1pt)\n",
    "Give the results of **path_length** queries between **car** and each of the other four words in this ontology. Give the resulting list of semantic neighbours of **car** ordered by similarity strength (according to path-length) and compare this ranking to the one output by Infomap.\n"
   ]
  },
  {
   "cell_type": "code",
   "execution_count": 7,
   "metadata": {
    "collapsed": false,
    "deletable": true,
    "editable": true
   },
   "outputs": [
    {
     "name": "stdout",
     "output_type": "stream",
     "text": [
      "0\n",
      "1\n",
      "4\n",
      "0\n",
      "0\n",
      "['car', 'van', 'vehicle', 'truck', 'motorcycle']\n"
     ]
    }
   ],
   "source": [
    "def path_length(nodeA, nodeB, count = 0):\n",
    "    \n",
    "    if co_hyponym(nodeA, nodeB):\n",
    "        return count\n",
    "    \n",
    "    # Kind of hard-coded, but I'm not even sure a\n",
    "    # new function was necessary.\n",
    "    if nodeB.get_parent() == None:    \n",
    "        return path_length(nodeA.get_parent(), nodeB, count + 1)\n",
    "    \n",
    "    return path_length(nodeA, nodeB.get_parent(), count + 1)\n",
    "    \n",
    "print(path_length(car, car))\n",
    "print(path_length(car, van))\n",
    "print(path_length(car, vehicle))\n",
    "print(path_length(car, truck))\n",
    "print(path_length(car, motorcycle))\n",
    "print(similar_words)"
   ]
  },
  {
   "cell_type": "markdown",
   "metadata": {
    "collapsed": true,
    "deletable": true,
    "editable": true
   },
   "source": [
    "**Answers:**"
   ]
  },
  {
   "cell_type": "code",
   "execution_count": 8,
   "metadata": {
    "collapsed": true
   },
   "outputs": [],
   "source": [
    "# A comparison based on just these five words makes me \n",
    "# conclude either WordNet's path length or that Web\n",
    "# Infomap is pretty bad at returning similar words. \n",
    "\n",
    "# Intuitively, the InfoMap list sucks: car is only\n",
    "# interchangeable imperfectly with vehicle, and sometimes\n",
    "# with van or truck.\n",
    "\n",
    "# Wordnet lists things like \"automobile\" as alternative \n",
    "# to car. That may be a rarer word, but it is better."
   ]
  }
 ],
 "metadata": {
  "kernelspec": {
   "display_name": "Python 3",
   "language": "python",
   "name": "python3"
  },
  "language_info": {
   "codemirror_mode": {
    "name": "ipython",
    "version": 3
   },
   "file_extension": ".py",
   "mimetype": "text/x-python",
   "name": "python",
   "nbconvert_exporter": "python",
   "pygments_lexer": "ipython3",
   "version": "3.6.0"
  }
 },
 "nbformat": 4,
 "nbformat_minor": 2
}