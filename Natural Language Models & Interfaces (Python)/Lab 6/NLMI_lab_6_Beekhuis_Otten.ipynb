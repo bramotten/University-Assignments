{
 "cells": [
  {
   "cell_type": "code",
   "execution_count": 1,
   "metadata": {
    "colab": {
     "autoexec": {
      "startup": false,
      "wait_interval": 0
     }
    },
    "colab_type": "code",
    "id": "I33_bCNoQDM_"
   },
   "outputs": [],
   "source": [
    "# Lennart Beekhuis, 11344873\n",
    "# Bram Otten, 10992456"
   ]
  },
  {
   "cell_type": "markdown",
   "metadata": {
    "colab_type": "text",
    "id": "K1yLMcx4QDND"
   },
   "source": [
    "**Table of contents**\n",
    "\n",
    "* Context-Free Grammars\n",
    "    * [Symbols](#symbols)\n",
    "    * [Rules](#rules)\n",
    "    * [Grammar](#grammar)\n",
    "    * [Generation](#generation)\n",
    "* Recogniser\n",
    "    * [Shift-Reduce](#shiftreduce)\n",
    "    * [CKY](#cky)\n",
    "* PCFGs\n",
    "    * [Definition](#pcfg)\n",
    "    * [MLE](#mle)\n",
    "    \n",
    "    \n",
    "**Table of Exercises**\n",
    "\n",
    "* Theory (10 points)\n",
    "    * [Exercise 6-2](#ex6-2)\n",
    "    * [Exercise 6-4](#ex6-4)\n",
    "    * [Exercise 6-5](#ex6-5)\n",
    "    * [Exercise 6-7](#ex6-7)\n",
    "    * [Exercise 6-8](#ex6-8)\n",
    "* Practice (22 points)    \n",
    "    * [Exercise 6-1](#ex6-1)\n",
    "    * [Exercise 6-3](#ex6-3)\n",
    "    * [Exercise 6-6](#ex6-6)\n",
    "    * [Exercise 6-9](#ex6-9)\n",
    "    * [Exercise 6-10](#ex6-10)\n",
    "    * [Exercise 6-11](#ex6-11)\n",
    "    \n",
    "\n",
    "\n",
    "**General notes**\n",
    "\n",
    "* In this notebook you are expected to use $\\LaTeX$\n",
    "* Use python3.\n",
    "* Use NLTK to read annotated data.\n",
    "* **Document your code**: TAs are more likely to understand the steps if you document them. If you don't, it's also difficult to give you partial points for exercises that are not completely correct."
   ]
  },
  {
   "cell_type": "markdown",
   "metadata": {
    "colab_type": "text",
    "id": "pV2E0SC2QDNE"
   },
   "source": [
    "# <a name=\"symbols\">  Symbols\n",
    "\n",
    "Context-free grammars manipulate **symbols**, namely, **terminals** (or constants) and **nonterminals** (or variables).\n",
    "\n",
    "For us, a **word** is an instance of a *terminal symbol* and **part-of-speech categories** as well as **phrasal categories** are instances of *nonterminals symbols*. \n",
    "\n",
    "We will create classes to represent terminals and nonterminals separetely."
   ]
  },
  {
   "cell_type": "markdown",
   "metadata": {
    "colab_type": "text",
    "id": "tNIW8XCwQDNF"
   },
   "source": [
    "We start with a class for a general *Symbol*, this class does not do much, but it gives terminals and nonterminals a common interface."
   ]
  },
  {
   "cell_type": "code",
   "execution_count": 2,
   "metadata": {
    "colab": {
     "autoexec": {
      "startup": false,
      "wait_interval": 0
     }
    },
    "colab_type": "code",
    "id": "l0v6zAagQDNG"
   },
   "outputs": [],
   "source": [
    "class Symbol:\n",
    "    \"\"\"\n",
    "    A symbol in a grammar, this is an abstract class that does not do \n",
    "    anything other than to establish the minimum interface of terminals \n",
    "    and nonterminals.\n",
    "\n",
    "    A symbol is an object much like a python string, but we don't need \n",
    "    operations such as concatenation and other string operations. \n",
    "    We just need to be able to compare symbols and check their identity. \n",
    "\n",
    "    Some of the methods below must be implemented in classes that \n",
    "    inherit from Symbol. \n",
    "    \"\"\"\n",
    "\n",
    "    def __str__(self):\n",
    "        \"\"\"This method allows us to inspect the identity of the symbol\"\"\"\n",
    "        raise NotImplementedError(\n",
    "            'Children classes must implement this method')\n",
    "\n",
    "    def __hash__(self):\n",
    "        \"\"\"\n",
    "        This returns a hash value, python needs this in order to \n",
    "        use a Symbol in hash-based containers such as sets and dictionaries\n",
    "        \"\"\"\n",
    "        raise NotImplementedError(\n",
    "            'Children classes must implement this method')\n",
    "\n",
    "    def __eq__(self, other):\n",
    "        \"\"\"This returns whether or not two symbols are the same\"\"\"\n",
    "        raise NotImplementedError(\n",
    "            'Children classes must implement this method')\n",
    "\n",
    "    def __lt__(self, other):\n",
    "        \"\"\"\n",
    "        This is necessary so that python can sort symbols lexicographically.\n",
    "\n",
    "        We just delegate this comparison function to python, \n",
    "        since it knows how to compare strings, \n",
    "        we use the result of __str__ applied to each symbol.\n",
    "        \"\"\"\n",
    "        return str(self) < str(other)\n",
    "\n",
    "    def __repr__(self):\n",
    "        \"\"\"We just make __repr__ and __str__ return the same\"\"\"\n",
    "        return str(self)"
   ]
  },
  {
   "cell_type": "markdown",
   "metadata": {
    "colab_type": "text",
    "id": "LFM1Z0vwQDNK"
   },
   "source": [
    "Now we can define a **Terminal** class, symbols of this type are simply words in the language."
   ]
  },
  {
   "cell_type": "code",
   "execution_count": 3,
   "metadata": {
    "colab": {
     "autoexec": {
      "startup": false,
      "wait_interval": 0
     }
    },
    "colab_type": "code",
    "id": "zTFPxPstQDNK"
   },
   "outputs": [],
   "source": [
    "class Terminal(Symbol):\n",
    "    \"\"\"\n",
    "    A type of Symbol that acts like a constant. \n",
    "\n",
    "    A terminal is simply a container for a python string which represents \n",
    "    the actual symbol. For example, a terminal symbol 'cat' simply \n",
    "    contains the python string 'cat' in it.\n",
    "    \"\"\"\n",
    "\n",
    "    def __init__(self, word: str):\n",
    "        \"\"\"\n",
    "        word: a python string representing a word\n",
    "        \"\"\"\n",
    "        self._word = word\n",
    "\n",
    "    @property\n",
    "    def word(self):\n",
    "        return self._word\n",
    "\n",
    "    def __str__(self):\n",
    "        \"\"\"\n",
    "        We print terminals around single quotes, this gives a nice visual clue.\n",
    "\n",
    "        If you need the underlying word (as a python string) and without \n",
    "        the single quotes around it, then you need to use the property \n",
    "        Terminal.word.\n",
    "        \"\"\"\n",
    "        return \"'%s'\" % self._word\n",
    "\n",
    "    def __hash__(self):\n",
    "        \"\"\" This is necessary in order for python to be able to use Terminal \n",
    "            objects in sets and dictionaries\"\"\"\n",
    "        # Python knows how to compute hash values for basic types\n",
    "        # (str, tuple, etc.), so we delegate to python this job.\n",
    "        # This is a good idea since we don't really know how to write\n",
    "        # good hash functions and the team of python developers must\n",
    "        # have put quite some work into it.\n",
    "        return hash(self._word)\n",
    "\n",
    "    def __eq__(self, other: Symbol):\n",
    "        \"\"\" This is necessary if order for python to be able to compare \n",
    "            terminals symbols\"\"\"\n",
    "        # Two symbols are the same if they are both terminals\n",
    "        #  and the words they stand for are also the same\n",
    "        return isinstance(other, Terminal) and other._word == self._word"
   ]
  },
  {
   "cell_type": "markdown",
   "metadata": {
    "colab_type": "text",
    "id": "gOJLLzF4QDNO"
   },
   "source": [
    "We can now define a **Nonterminal** class"
   ]
  },
  {
   "cell_type": "code",
   "execution_count": 4,
   "metadata": {
    "colab": {
     "autoexec": {
      "startup": false,
      "wait_interval": 0
     }
    },
    "colab_type": "code",
    "id": "_wwIsZ8yQDNP"
   },
   "outputs": [],
   "source": [
    "class Nonterminal(Symbol):\n",
    "    \"\"\"\n",
    "    A type of Symbol that acts like a variable. \n",
    "\n",
    "    A nonterminal is simply a container for a python string which represents the actual symbol. \n",
    "    For example, a nonterminal symbol [NP] simply contains the python string 'NP' in it.\n",
    "    \"\"\"\n",
    "\n",
    "    def __init__(self, category: str):\n",
    "        \"\"\"\n",
    "        category: a python string representing a POS or phrasal category\n",
    "        \"\"\"\n",
    "        self._category = category\n",
    "\n",
    "    @property\n",
    "    def category(self):\n",
    "        return self._category\n",
    "\n",
    "    def __str__(self):\n",
    "        \"\"\"\n",
    "        We print nonterminals wrapped around squared brackets to make a visual clue.\n",
    "        If you need the underlying category (as a python string) without the brackets around it, \n",
    "         then you need to use the property Nonterminal.category.\n",
    "        \"\"\"\n",
    "        return \"[%s]\" % self._category\n",
    "\n",
    "    def __hash__(self):\n",
    "        \"\"\"Python can only hash objects that properly implement this method\"\"\"\n",
    "        # Again we delegate to python the job of computing a hash value for our category\n",
    "        return hash(self._category)\n",
    "\n",
    "    def __eq__(self, other: Symbol):\n",
    "        \"\"\"Python needs this in order to compare nonterminal symbols\"\"\"\n",
    "        # Two symbols are the same if they are both nonterminals\n",
    "        #  and their categories are the same\n",
    "        return isinstance(other, Nonterminal) and other._category == self._category"
   ]
  },
  {
   "cell_type": "markdown",
   "metadata": {
    "colab_type": "text",
    "id": "Ih2NiLx2QDNS"
   },
   "source": [
    "Let's now use our classes and see what we got so far. \n",
    "\n",
    "Here is how we use *Terminal* objects"
   ]
  },
  {
   "cell_type": "code",
   "execution_count": 5,
   "metadata": {
    "colab": {
     "autoexec": {
      "startup": false,
      "wait_interval": 0
     },
     "base_uri": "https://localhost:8080/",
     "height": 35,
     "output_extras": [
      {
       "item_id": 1
      }
     ]
    },
    "colab_type": "code",
    "executionInfo": {
     "elapsed": 441,
     "status": "ok",
     "timestamp": 1521210025473,
     "user": {
      "displayName": "Bram Otten",
      "photoUrl": "https://lh3.googleusercontent.com/a/default-user=s128",
      "userId": "110618989541510237728"
     },
     "user_tz": -60
    },
    "id": "LwUvCTUnQDNS",
    "outputId": "7a44e72c-c3f6-4371-edab-1eec66ea7315"
   },
   "outputs": [
    {
     "data": {
      "text/plain": [
       "'cat'"
      ]
     },
     "execution_count": 5,
     "metadata": {},
     "output_type": "execute_result"
    }
   ],
   "source": [
    "Terminal('cat')"
   ]
  },
  {
   "cell_type": "markdown",
   "metadata": {
    "colab_type": "text",
    "id": "rW-msd6yQDNX"
   },
   "source": [
    "Note that we implemented `__eq__` and therefore we can test equality"
   ]
  },
  {
   "cell_type": "code",
   "execution_count": 6,
   "metadata": {
    "colab": {
     "autoexec": {
      "startup": false,
      "wait_interval": 0
     },
     "base_uri": "https://localhost:8080/",
     "height": 35,
     "output_extras": [
      {
       "item_id": 1
      }
     ]
    },
    "colab_type": "code",
    "executionInfo": {
     "elapsed": 411,
     "status": "ok",
     "timestamp": 1521210026150,
     "user": {
      "displayName": "Bram Otten",
      "photoUrl": "https://lh3.googleusercontent.com/a/default-user=s128",
      "userId": "110618989541510237728"
     },
     "user_tz": -60
    },
    "id": "sRXQtT6LQDNZ",
    "outputId": "193295d9-c29a-4cb1-e4bd-ed33dfc9a5ba"
   },
   "outputs": [
    {
     "data": {
      "text/plain": [
       "True"
      ]
     },
     "execution_count": 6,
     "metadata": {},
     "output_type": "execute_result"
    }
   ],
   "source": [
    "Terminal('cat') == Terminal('cat')"
   ]
  },
  {
   "cell_type": "code",
   "execution_count": 7,
   "metadata": {
    "colab": {
     "autoexec": {
      "startup": false,
      "wait_interval": 0
     },
     "base_uri": "https://localhost:8080/",
     "height": 35,
     "output_extras": [
      {
       "item_id": 1
      }
     ]
    },
    "colab_type": "code",
    "executionInfo": {
     "elapsed": 941,
     "status": "ok",
     "timestamp": 1521210027411,
     "user": {
      "displayName": "Bram Otten",
      "photoUrl": "https://lh3.googleusercontent.com/a/default-user=s128",
      "userId": "110618989541510237728"
     },
     "user_tz": -60
    },
    "id": "GeW50a1MQDNc",
    "outputId": "0e890f27-e9af-4a2a-ce3c-fde62a74c948"
   },
   "outputs": [
    {
     "data": {
      "text/plain": [
       "False"
      ]
     },
     "execution_count": 7,
     "metadata": {},
     "output_type": "execute_result"
    }
   ],
   "source": [
    "Terminal('cat') == Terminal('dog')"
   ]
  },
  {
   "cell_type": "markdown",
   "metadata": {
    "colab_type": "text",
    "id": "Efb1GVkaQDNg"
   },
   "source": [
    "we can also test inequality because by default python assumes this to be the result of negating what `__eq__` returns"
   ]
  },
  {
   "cell_type": "code",
   "execution_count": 8,
   "metadata": {
    "colab": {
     "autoexec": {
      "startup": false,
      "wait_interval": 0
     },
     "base_uri": "https://localhost:8080/",
     "height": 35,
     "output_extras": [
      {
       "item_id": 1
      }
     ]
    },
    "colab_type": "code",
    "executionInfo": {
     "elapsed": 464,
     "status": "ok",
     "timestamp": 1521210028354,
     "user": {
      "displayName": "Bram Otten",
      "photoUrl": "https://lh3.googleusercontent.com/a/default-user=s128",
      "userId": "110618989541510237728"
     },
     "user_tz": -60
    },
    "id": "JzNdxPSMQDNh",
    "outputId": "70472b85-a155-458e-e71d-779aa36bce08"
   },
   "outputs": [
    {
     "data": {
      "text/plain": [
       "True"
      ]
     },
     "execution_count": 8,
     "metadata": {},
     "output_type": "execute_result"
    }
   ],
   "source": [
    "Terminal('cat') != Terminal('dog')"
   ]
  },
  {
   "cell_type": "markdown",
   "metadata": {
    "colab_type": "text",
    "id": "mBreUzQkQDNj"
   },
   "source": [
    "and we can do all of the above with nonterminals as well"
   ]
  },
  {
   "cell_type": "code",
   "execution_count": 9,
   "metadata": {
    "colab": {
     "autoexec": {
      "startup": false,
      "wait_interval": 0
     },
     "base_uri": "https://localhost:8080/",
     "height": 35,
     "output_extras": [
      {
       "item_id": 1
      }
     ]
    },
    "colab_type": "code",
    "executionInfo": {
     "elapsed": 707,
     "status": "ok",
     "timestamp": 1521210029290,
     "user": {
      "displayName": "Bram Otten",
      "photoUrl": "https://lh3.googleusercontent.com/a/default-user=s128",
      "userId": "110618989541510237728"
     },
     "user_tz": -60
    },
    "id": "yKfqE2aRQDNk",
    "outputId": "397442a1-2b66-466e-a775-83d1b86b4198"
   },
   "outputs": [
    {
     "data": {
      "text/plain": [
       "[S]"
      ]
     },
     "execution_count": 9,
     "metadata": {},
     "output_type": "execute_result"
    }
   ],
   "source": [
    "Nonterminal('S')"
   ]
  },
  {
   "cell_type": "code",
   "execution_count": 10,
   "metadata": {
    "colab": {
     "autoexec": {
      "startup": false,
      "wait_interval": 0
     },
     "base_uri": "https://localhost:8080/",
     "height": 35,
     "output_extras": [
      {
       "item_id": 1
      }
     ]
    },
    "colab_type": "code",
    "executionInfo": {
     "elapsed": 567,
     "status": "ok",
     "timestamp": 1521210030163,
     "user": {
      "displayName": "Bram Otten",
      "photoUrl": "https://lh3.googleusercontent.com/a/default-user=s128",
      "userId": "110618989541510237728"
     },
     "user_tz": -60
    },
    "id": "MogACTulQDNp",
    "outputId": "dd2d9e09-1d3a-420e-c525-fe11ea535652"
   },
   "outputs": [
    {
     "data": {
      "text/plain": [
       "True"
      ]
     },
     "execution_count": 10,
     "metadata": {},
     "output_type": "execute_result"
    }
   ],
   "source": [
    "Nonterminal('S') == Nonterminal('S')"
   ]
  },
  {
   "cell_type": "code",
   "execution_count": 11,
   "metadata": {
    "colab": {
     "autoexec": {
      "startup": false,
      "wait_interval": 0
     },
     "base_uri": "https://localhost:8080/",
     "height": 35,
     "output_extras": [
      {
       "item_id": 1
      }
     ]
    },
    "colab_type": "code",
    "executionInfo": {
     "elapsed": 703,
     "status": "ok",
     "timestamp": 1521210031164,
     "user": {
      "displayName": "Bram Otten",
      "photoUrl": "https://lh3.googleusercontent.com/a/default-user=s128",
      "userId": "110618989541510237728"
     },
     "user_tz": -60
    },
    "id": "aetZAZupQDNr",
    "outputId": "776dc9ba-4d24-4c5b-c7e4-c6c6b78778db"
   },
   "outputs": [
    {
     "data": {
      "text/plain": [
       "False"
      ]
     },
     "execution_count": 11,
     "metadata": {},
     "output_type": "execute_result"
    }
   ],
   "source": [
    "Nonterminal('S') == Nonterminal('VP')"
   ]
  },
  {
   "cell_type": "code",
   "execution_count": 12,
   "metadata": {
    "colab": {
     "autoexec": {
      "startup": false,
      "wait_interval": 0
     },
     "base_uri": "https://localhost:8080/",
     "height": 35,
     "output_extras": [
      {
       "item_id": 1
      }
     ]
    },
    "colab_type": "code",
    "executionInfo": {
     "elapsed": 739,
     "status": "ok",
     "timestamp": 1521210032188,
     "user": {
      "displayName": "Bram Otten",
      "photoUrl": "https://lh3.googleusercontent.com/a/default-user=s128",
      "userId": "110618989541510237728"
     },
     "user_tz": -60
    },
    "id": "ZWLkoCS-QDNt",
    "outputId": "ebb944a0-7f2e-4dd5-97cf-10f98779fde6"
   },
   "outputs": [
    {
     "data": {
      "text/plain": [
       "True"
      ]
     },
     "execution_count": 12,
     "metadata": {},
     "output_type": "execute_result"
    }
   ],
   "source": [
    "Nonterminal('S') != Nonterminal('VP')"
   ]
  },
  {
   "cell_type": "markdown",
   "metadata": {
    "colab_type": "text",
    "id": "E6-fcS5DQDNw"
   },
   "source": [
    "Because we've implemented `__eq__` and `__hash__` our symbols are *hashable* objects. This means that python will do the correct thing whenener we try to use these symbols in hash-based data structures such as sets and dictionaries.\n",
    "\n",
    "Let's play a bit with sets:"
   ]
  },
  {
   "cell_type": "code",
   "execution_count": 13,
   "metadata": {
    "colab": {
     "autoexec": {
      "startup": false,
      "wait_interval": 0
     },
     "base_uri": "https://localhost:8080/",
     "height": 35,
     "output_extras": [
      {
       "item_id": 1
      }
     ]
    },
    "colab_type": "code",
    "executionInfo": {
     "elapsed": 661,
     "status": "ok",
     "timestamp": 1521210033157,
     "user": {
      "displayName": "Bram Otten",
      "photoUrl": "https://lh3.googleusercontent.com/a/default-user=s128",
      "userId": "110618989541510237728"
     },
     "user_tz": -60
    },
    "id": "bCqtEgeeQDNx",
    "outputId": "ca3256b9-9e4f-4f84-998a-4dbeb7f93ac3"
   },
   "outputs": [
    {
     "data": {
      "text/plain": [
       "{'cat', 'dog'}"
      ]
     },
     "execution_count": 13,
     "metadata": {},
     "output_type": "execute_result"
    }
   ],
   "source": [
    "{Terminal('cat'), Terminal('cat'), Terminal('dog')}"
   ]
  },
  {
   "cell_type": "code",
   "execution_count": 14,
   "metadata": {
    "colab": {
     "autoexec": {
      "startup": false,
      "wait_interval": 0
     },
     "base_uri": "https://localhost:8080/",
     "height": 35,
     "output_extras": [
      {
       "item_id": 1
      }
     ]
    },
    "colab_type": "code",
    "executionInfo": {
     "elapsed": 705,
     "status": "ok",
     "timestamp": 1521210034150,
     "user": {
      "displayName": "Bram Otten",
      "photoUrl": "https://lh3.googleusercontent.com/a/default-user=s128",
      "userId": "110618989541510237728"
     },
     "user_tz": -60
    },
    "id": "hTE1nYdrQDN2",
    "outputId": "f2d543d6-1531-4f61-da35-a146bdd5fae9"
   },
   "outputs": [
    {
     "data": {
      "text/plain": [
       "{[NP], [S], [VP]}"
      ]
     },
     "execution_count": 14,
     "metadata": {},
     "output_type": "execute_result"
    }
   ],
   "source": [
    "{Nonterminal('S'), Nonterminal('NP'), Nonterminal('VP'),  Nonterminal('VP')}"
   ]
  },
  {
   "cell_type": "code",
   "execution_count": 15,
   "metadata": {
    "colab": {
     "autoexec": {
      "startup": false,
      "wait_interval": 0
     },
     "base_uri": "https://localhost:8080/",
     "height": 35,
     "output_extras": [
      {
       "item_id": 1
      }
     ]
    },
    "colab_type": "code",
    "executionInfo": {
     "elapsed": 573,
     "status": "ok",
     "timestamp": 1521210035879,
     "user": {
      "displayName": "Bram Otten",
      "photoUrl": "https://lh3.googleusercontent.com/a/default-user=s128",
      "userId": "110618989541510237728"
     },
     "user_tz": -60
    },
    "id": "UOSVESoiQDN3",
    "outputId": "fdab65c0-801e-4b58-c704-7d8f3efebc7f"
   },
   "outputs": [
    {
     "data": {
      "text/plain": [
       "{'bird': 2, 'cat': 3, 'dog': 1}"
      ]
     },
     "execution_count": 15,
     "metadata": {},
     "output_type": "execute_result"
    }
   ],
   "source": [
    "# Here we make a small vocabulary of terminals\n",
    "mini_t_vocab = {Terminal('cat'), Terminal('bird'), Terminal('dog')}\n",
    "# and map terminals to an enumeration of the set\n",
    "{x: i for i, x in enumerate(mini_t_vocab, 1)}"
   ]
  },
  {
   "cell_type": "markdown",
   "metadata": {
    "colab_type": "text",
    "id": "OCHButj2QDN6"
   },
   "source": [
    "And let's also play a bit with dictionaries"
   ]
  },
  {
   "cell_type": "code",
   "execution_count": 16,
   "metadata": {
    "colab": {
     "autoexec": {
      "startup": false,
      "wait_interval": 0
     },
     "base_uri": "https://localhost:8080/",
     "height": 35,
     "output_extras": [
      {
       "item_id": 1
      }
     ]
    },
    "colab_type": "code",
    "executionInfo": {
     "elapsed": 961,
     "status": "ok",
     "timestamp": 1521210037240,
     "user": {
      "displayName": "Bram Otten",
      "photoUrl": "https://lh3.googleusercontent.com/a/default-user=s128",
      "userId": "110618989541510237728"
     },
     "user_tz": -60
    },
    "id": "Mvd5SrloQDN6",
    "outputId": "4ecc1185-f04f-4ba0-9120-90c8e95f9bf7"
   },
   "outputs": [
    {
     "data": {
      "text/plain": [
       "{[NP]: 2, [S]: 3, [VP]: 1}"
      ]
     },
     "execution_count": 16,
     "metadata": {},
     "output_type": "execute_result"
    }
   ],
   "source": [
    "# Here we make a small vocabulary of nonterminals\n",
    "mini_nt_vocab = {Nonterminal('S'), Nonterminal('NP'), Nonterminal('VP')}\n",
    "# and map nonterminals to an enumeration of the set\n",
    "{x: i for i, x in enumerate(mini_nt_vocab, 1)}"
   ]
  },
  {
   "cell_type": "markdown",
   "metadata": {
    "colab_type": "text",
    "id": "Yde0lvdzQDN9"
   },
   "source": [
    "Obviously our objects can also be added to python lists, but for that we need no special treatment"
   ]
  },
  {
   "cell_type": "code",
   "execution_count": 17,
   "metadata": {
    "colab": {
     "autoexec": {
      "startup": false,
      "wait_interval": 0
     },
     "base_uri": "https://localhost:8080/",
     "height": 35,
     "output_extras": [
      {
       "item_id": 1
      }
     ]
    },
    "colab_type": "code",
    "executionInfo": {
     "elapsed": 453,
     "status": "ok",
     "timestamp": 1521210038514,
     "user": {
      "displayName": "Bram Otten",
      "photoUrl": "https://lh3.googleusercontent.com/a/default-user=s128",
      "userId": "110618989541510237728"
     },
     "user_tz": -60
    },
    "id": "3HSEKiqGQDN9",
    "outputId": "7c0545a2-07b8-4562-8e71-53e252a83372"
   },
   "outputs": [
    {
     "data": {
      "text/plain": [
       "[[NP], 'and', [NP]]"
      ]
     },
     "execution_count": 17,
     "metadata": {},
     "output_type": "execute_result"
    }
   ],
   "source": [
    "[Nonterminal('NP'), Terminal('and'), Nonterminal('NP')]"
   ]
  },
  {
   "cell_type": "markdown",
   "metadata": {
    "colab_type": "text",
    "id": "d5jQ09B0QDN_"
   },
   "source": [
    "# <a name=\"rules\"> Rules\n",
    "\n",
    "We are now ready to define context-free **rules** or context-free *productions*.\n",
    "\n",
    "A context-free rule is an object of the kind $\\text{X} \\rightarrow \\beta $ where\n",
    "* $\\text{X}$ is a nonterminal symbol\n",
    "* and $\\beta$ is a sequence of terminals and nonterminals\n",
    "\n",
    "In python we can easily represent a rule as a container for a left-hand side (LHS) nonterminal and a right-hand side (RHS) sequence. Check the class below (in particular its documentation).\n",
    "\n",
    "\n"
   ]
  },
  {
   "cell_type": "markdown",
   "metadata": {
    "colab_type": "text",
    "id": "Y6uTygSyQDOA"
   },
   "source": [
    "<a name=\"ex6-1\" style=\"color:red\">**Exercise 6-1**</a> **[1 point]** Implement checks to validate that a rule is well-formed at construction time. In other words, read the documentation of the class `Rule` below and complete its constructor `__init__`.\n",
    "\n"
   ]
  },
  {
   "cell_type": "code",
   "execution_count": 18,
   "metadata": {
    "colab": {
     "autoexec": {
      "startup": false,
      "wait_interval": 0
     }
    },
    "colab_type": "code",
    "id": "yLnQzDnkQDOB"
   },
   "outputs": [],
   "source": [
    "from collections import defaultdict\n",
    "\n",
    "\n",
    "class Rule:\n",
    "    \"\"\"\n",
    "    A Rule is just a container, in particular, a pair. \n",
    "\n",
    "    It stores a LHS nonterminal and a RHS sequence of symbols.\n",
    "\n",
    "    In general, RHS could be empty, but we will not implement such grammars.\n",
    "    We will restrict the RHS to containing at least one symbol.    \n",
    "\n",
    "    \"\"\"\n",
    "\n",
    "    def __init__(self, lhs: Nonterminal, rhs: list):\n",
    "        \"\"\"\n",
    "        Constructs a Rule: LHS -> RHS.\n",
    "\n",
    "        We must validate that rules are well formed, that is, the LHS symbol is \n",
    "        indeed a Nonterminal, the RHS is *not* empty and only contains Symbol \n",
    "        (i.e. Terminal or Nonterminal) objects.\n",
    "\n",
    "        lhs: the LHS nonterminal\n",
    "        rhs: a sequence of RHS symbols\n",
    "        \"\"\"\n",
    "        if (not isinstance(lhs, Nonterminal)):\n",
    "            raise ValueError('lhs is not a nonterminal')\n",
    "        if len(rhs) < 1:\n",
    "            raise ValueError('rhs is empty')\n",
    "        for x in rhs:\n",
    "            if (not isinstance(x, Symbol)):\n",
    "                raise ValueError('rhs contains a non-symbol')\n",
    "\n",
    "        self._lhs = lhs\n",
    "        self._rhs = tuple(rhs)\n",
    "\n",
    "    def __eq__(self, other: 'Rule'):\n",
    "        \"\"\"Two rules are the same if they have the same LHS and the same RHS\"\"\"\n",
    "        return self._lhs == other._lhs and self._rhs == other._rhs\n",
    "\n",
    "    def __hash__(self):\n",
    "        \"\"\"The hash value of the Rule is the hash value of the pair (LHS, RHS)\"\"\"\n",
    "        # Once more we delegate the computation of the hash value to python\n",
    "        return hash((self._lhs, self._rhs))\n",
    "\n",
    "    def __str__(self):\n",
    "        \"\"\"We print rules using the notation LHS -> RHS\"\"\"\n",
    "        return '%s -> %s' % (self._lhs, ' '.join(str(sym) for sym in self._rhs))\n",
    "\n",
    "    def __repr__(self):\n",
    "        return str(self)\n",
    "\n",
    "    @property\n",
    "    def lhs(self):\n",
    "        \"\"\"Returns the LHS nonterminal\"\"\"\n",
    "        return self._lhs\n",
    "\n",
    "    @property\n",
    "    def rhs(self):\n",
    "        \"\"\"Returns the RHS sequence\"\"\"\n",
    "        return self._rhs\n",
    "\n",
    "    @property\n",
    "    def arity(self):\n",
    "        \"\"\"Returns the arity (length of the RHS sequence)\"\"\"\n",
    "        return len(self._rhs)"
   ]
  },
  {
   "cell_type": "markdown",
   "metadata": {
    "colab_type": "text",
    "id": "_4blJM29QDOC"
   },
   "source": [
    "To use *Rule* objects, let's first create a few symbols"
   ]
  },
  {
   "cell_type": "code",
   "execution_count": 19,
   "metadata": {
    "colab": {
     "autoexec": {
      "startup": false,
      "wait_interval": 0
     }
    },
    "colab_type": "code",
    "id": "wPxvg8TcQDOE"
   },
   "outputs": [],
   "source": [
    "S = Nonterminal('S')\n",
    "NP = Nonterminal('NP')\n",
    "VP = Nonterminal('VP')\n",
    "cats = Terminal('cats')\n",
    "run = Terminal('run')"
   ]
  },
  {
   "cell_type": "markdown",
   "metadata": {
    "colab_type": "text",
    "id": "aa7gobJFQDOH"
   },
   "source": [
    "which we can then combine into rules"
   ]
  },
  {
   "cell_type": "code",
   "execution_count": 20,
   "metadata": {
    "colab": {
     "autoexec": {
      "startup": false,
      "wait_interval": 0
     },
     "base_uri": "https://localhost:8080/",
     "height": 35,
     "output_extras": [
      {
       "item_id": 1
      }
     ]
    },
    "colab_type": "code",
    "executionInfo": {
     "elapsed": 414,
     "status": "ok",
     "timestamp": 1521210041427,
     "user": {
      "displayName": "Bram Otten",
      "photoUrl": "https://lh3.googleusercontent.com/a/default-user=s128",
      "userId": "110618989541510237728"
     },
     "user_tz": -60
    },
    "id": "fHwh8_FlQDOJ",
    "outputId": "64880693-9ba6-4f07-d48a-5c2c4ae66e5d"
   },
   "outputs": [
    {
     "data": {
      "text/plain": [
       "[S] -> [NP] [NP]"
      ]
     },
     "execution_count": 20,
     "metadata": {},
     "output_type": "execute_result"
    }
   ],
   "source": [
    "Rule(S, [NP, NP])"
   ]
  },
  {
   "cell_type": "code",
   "execution_count": 21,
   "metadata": {
    "colab": {
     "autoexec": {
      "startup": false,
      "wait_interval": 0
     },
     "base_uri": "https://localhost:8080/",
     "height": 35,
     "output_extras": [
      {
       "item_id": 1
      }
     ]
    },
    "colab_type": "code",
    "executionInfo": {
     "elapsed": 459,
     "status": "ok",
     "timestamp": 1521210042119,
     "user": {
      "displayName": "Bram Otten",
      "photoUrl": "https://lh3.googleusercontent.com/a/default-user=s128",
      "userId": "110618989541510237728"
     },
     "user_tz": -60
    },
    "id": "aP4u5xqYQDOL",
    "outputId": "1a9b08ce-c9b5-4802-a50c-2b95f02405c4"
   },
   "outputs": [
    {
     "data": {
      "text/plain": [
       "[NP] -> 'cats'"
      ]
     },
     "execution_count": 21,
     "metadata": {},
     "output_type": "execute_result"
    }
   ],
   "source": [
    "Rule(NP, [cats])"
   ]
  },
  {
   "cell_type": "code",
   "execution_count": 22,
   "metadata": {
    "colab": {
     "autoexec": {
      "startup": false,
      "wait_interval": 0
     },
     "base_uri": "https://localhost:8080/",
     "height": 35,
     "output_extras": [
      {
       "item_id": 1
      }
     ]
    },
    "colab_type": "code",
    "executionInfo": {
     "elapsed": 770,
     "status": "ok",
     "timestamp": 1521210043244,
     "user": {
      "displayName": "Bram Otten",
      "photoUrl": "https://lh3.googleusercontent.com/a/default-user=s128",
      "userId": "110618989541510237728"
     },
     "user_tz": -60
    },
    "id": "glveRgn3QDOO",
    "outputId": "f862b230-c69d-4ce6-f713-8332c22ea28b"
   },
   "outputs": [
    {
     "data": {
      "text/plain": [
       "[VP] -> 'run'"
      ]
     },
     "execution_count": 22,
     "metadata": {},
     "output_type": "execute_result"
    }
   ],
   "source": [
    "Rule(VP, [run])"
   ]
  },
  {
   "cell_type": "code",
   "execution_count": 23,
   "metadata": {
    "colab": {
     "autoexec": {
      "startup": false,
      "wait_interval": 0
     },
     "base_uri": "https://localhost:8080/",
     "height": 35,
     "output_extras": [
      {
       "item_id": 1
      }
     ]
    },
    "colab_type": "code",
    "executionInfo": {
     "elapsed": 556,
     "status": "ok",
     "timestamp": 1521210044093,
     "user": {
      "displayName": "Bram Otten",
      "photoUrl": "https://lh3.googleusercontent.com/a/default-user=s128",
      "userId": "110618989541510237728"
     },
     "user_tz": -60
    },
    "id": "g5n-BddPQDOP",
    "outputId": "ee81ed23-6e4b-49da-f294-b0ebb52e6208"
   },
   "outputs": [
    {
     "data": {
      "text/plain": [
       "[S] -> [NP] [VP] 'and' [VP]"
      ]
     },
     "execution_count": 23,
     "metadata": {},
     "output_type": "execute_result"
    }
   ],
   "source": [
    "Rule(S, [NP, VP, Terminal('and'), VP])"
   ]
  },
  {
   "cell_type": "code",
   "execution_count": 24,
   "metadata": {
    "colab": {
     "autoexec": {
      "startup": false,
      "wait_interval": 0
     },
     "base_uri": "https://localhost:8080/",
     "height": 90,
     "output_extras": [
      {
       "item_id": 1
      }
     ]
    },
    "colab_type": "code",
    "executionInfo": {
     "elapsed": 718,
     "status": "ok",
     "timestamp": 1521210045128,
     "user": {
      "displayName": "Bram Otten",
      "photoUrl": "https://lh3.googleusercontent.com/a/default-user=s128",
      "userId": "110618989541510237728"
     },
     "user_tz": -60
    },
    "id": "nVxrqFbbQDOS",
    "outputId": "a7b0e235-0479-4971-864a-2633bb268558"
   },
   "outputs": [
    {
     "name": "stdout",
     "output_type": "stream",
     "text": [
      "Rule [S] -> [NP] [NP] '.'\n",
      "LHS [S]\n",
      "RHS ([NP], [NP], '.')\n",
      "Arity 3\n"
     ]
    }
   ],
   "source": [
    "r = Rule(S, [NP, NP, Terminal('.')])\n",
    "print('Rule', r)\n",
    "print('LHS', r.lhs)\n",
    "print('RHS', r.rhs)\n",
    "print('Arity', r.arity)"
   ]
  },
  {
   "cell_type": "markdown",
   "metadata": {
    "colab_type": "text",
    "id": "ZCbTGsdwQDOX"
   },
   "source": [
    "We can now create a context-free grammar"
   ]
  },
  {
   "cell_type": "markdown",
   "metadata": {
    "colab_type": "text",
    "id": "KJ-pAxiXQDOY"
   },
   "source": [
    "# <a name=\"grammar\"> Grammar\n",
    "\n",
    "A context free grammar is again just a container, this time for context-free rules. \n",
    "\n",
    "A grammar is formally specified by:\n",
    "\n",
    "\\begin{equation}\n",
    "\\mathfrak G = \\langle \\Sigma, \\mathcal V, \\text{S}, \\mathcal R \\rangle \n",
    "\\end{equation}\n",
    "\n",
    "* a *finite set* of **terminals** which we denote $\\Sigma$\n",
    "* a *finite set* of **nonterminals** which we denote $\\mathcal V$\n",
    "* a distinguished nonterminal $\\text{S}$ called the *start symbol*\n",
    "* a *finite set* of context-free **rules** which we denote $\\mathcal R$\n",
    "    * each rule is of the form $v \\rightarrow \\beta$ for some $v \\in \\mathcal V$ and $\\beta \\in (\\Sigma \\cup \\mathcal V)^a$\n",
    "    * and $a$ is the **arity** of the grammar, that is, the size of the longest RHS sequence in a rule of the grammar\n",
    "    \n"
   ]
  },
  {
   "cell_type": "markdown",
   "metadata": {
    "colab_type": "text",
    "id": "EcExXnt_QDOY"
   },
   "source": [
    "<a name=\"ex6-2\" style=\"color:red\">**Exercise 6-2**</a> **[1 points]** If we have $|\\Sigma|$ terminals, $|\\mathcal V|$ nonterminals, and $a$ is the arity of the grammar, how many rules can there be asymptotically (use big-o-notation)? Explain the result rather than simply stating the solution.\n",
    "\n",
    "$O(|\\mathcal{V}| \\times (|\\mathcal{V} \\cup \\Sigma|)^a)$.\n",
    "\n",
    "There can be rules for all non-terminals (in V) mapping to either any of all non-terminals and/or any of all terminals (in E) arity times."
   ]
  },
  {
   "cell_type": "markdown",
   "metadata": {
    "colab_type": "text",
    "id": "WcUCizk9QDOZ"
   },
   "source": [
    "In python, we will implement a grammar as a container that behaves like a mixture of list, set, and dict. For example, it behaves like a list because we are able to iterate through the rules, it behaves like a set because we can check whether a rule belongs to the grammar, and it also behaves like a dictionary mapping a LHS Nonterminal to rules that have that nonterminal as their LHS symbol."
   ]
  },
  {
   "cell_type": "code",
   "execution_count": 25,
   "metadata": {
    "colab": {
     "autoexec": {
      "startup": false,
      "wait_interval": 0
     }
    },
    "colab_type": "code",
    "id": "D-GZQGpgQDOZ"
   },
   "outputs": [],
   "source": [
    "from collections import defaultdict\n",
    "\n",
    "\n",
    "class CFG:\n",
    "    \"\"\"\n",
    "    A CFG is a container for rules.\n",
    "\n",
    "    Internally we maintain a few sets:\n",
    "    * _terminals: the set of terminal symbols\n",
    "    * _nonterminal: the set of all nonterminal symbols     \n",
    "    * _preterminals: a subset of nonterminal symbols that correspond to POS categories\n",
    "\n",
    "    We also maintain a set of rules: _rules\n",
    "\n",
    "    We also maintain a dictionary whose keys are Nonterminal LHS symbols, and whose values are lists of rules.\n",
    "    Thus, if X is a symbol, _rules_by_lhs[X] should return the list of rules that share that symbol as their\n",
    "        LHS nonterminal.\n",
    "\n",
    "    \"\"\"\n",
    "\n",
    "    def __init__(self, start_symbol: Nonterminal):\n",
    "        if not isinstance(start_symbol, Nonterminal):\n",
    "            raise ValueError('The start symbol must be a nonterminal')\n",
    "        self._start = start_symbol\n",
    "        # this should contain all rules of the grammar\n",
    "        self._rules = set()\n",
    "        # this should map a LHS symbol to a list of context-free rules rewriting that symbol\n",
    "        self._rules_by_lhs = defaultdict(list)\n",
    "        # this should contain all terminals\n",
    "        self._terminals = set()\n",
    "        # this should contain all nonterminals (including start symbol and preterminals)\n",
    "        self._nonterminals = set()\n",
    "        # this should contain only pre-terminals (that is, POS categories)\n",
    "        self._preterminals = set()\n",
    "        # length of the longest RHS\n",
    "        self._arity = 0\n",
    "\n",
    "    def add(self, rule: Rule):\n",
    "        \"\"\"\n",
    "        Add a rule to the ruleset, unless the rule is already known.\n",
    "        This method also updates the sets of symbols with the symbols in this rule.\n",
    "        \"\"\"\n",
    "        if rule in self._rules:  # we do not add repeated rules\n",
    "            return\n",
    "        # add rule to ruleset\n",
    "        self._rules.add(rule)\n",
    "        # also maps it for convenience\n",
    "        self._rules_by_lhs[rule.lhs].append(rule)\n",
    "        # the rule's LHS is now part of the nonterminal set\n",
    "        self._nonterminals.add(rule.lhs)\n",
    "        # and we should also add all other symbols in the rule\n",
    "        for sym in rule.rhs:\n",
    "            if isinstance(sym, Terminal):  # terminals\n",
    "                self._terminals.add(sym)\n",
    "            else:  # nonterminals\n",
    "                self._nonterminals.add(sym)\n",
    "        # a preterminal rule has arity 1 and rewrites to a terminal\n",
    "        if rule.arity == 1 and isinstance(rule.rhs[0], Terminal):\n",
    "            self._preterminals.add(rule.lhs)\n",
    "        # here we update the arity of the grammar\n",
    "        if rule.arity > self._arity:\n",
    "            self._arity = rule.arity\n",
    "\n",
    "    def update(self, rules):\n",
    "        \"\"\"Adds a collection of rules to the grammar\"\"\"\n",
    "        for rule in rules:\n",
    "            self.add(rule)\n",
    "\n",
    "    @property\n",
    "    def start(self):\n",
    "        return self._start\n",
    "\n",
    "    @property\n",
    "    def nonterminals(self):\n",
    "        return self._nonterminals\n",
    "\n",
    "    @property\n",
    "    def preterminals(self):\n",
    "        return self._preterminals\n",
    "\n",
    "    @property\n",
    "    def terminals(self):\n",
    "        return self._terminals\n",
    "\n",
    "    @property\n",
    "    def arity(self):\n",
    "        \"\"\"Returns the arity of the longest rule\"\"\"\n",
    "        return self._arity\n",
    "\n",
    "    def __len__(self):\n",
    "        \"\"\"The size of the grammar in number of rules\"\"\"\n",
    "        return len(self._rules)\n",
    "\n",
    "    def __getitem__(self, lhs: Nonterminal):\n",
    "        \"\"\"Returns rules for a certain LHS symbol\"\"\"\n",
    "        return self._rules_by_lhs.get(lhs, frozenset())\n",
    "\n",
    "    def get(self, lhs: Nonterminal, default=frozenset()):\n",
    "        \"\"\"Return rules whose LHS is the given symbol\"\"\"\n",
    "        return self._rules_by_lhs.get(lhs, frozenset())\n",
    "\n",
    "    def can_rewrite(self, lhs: Nonterminal):\n",
    "        \"\"\"\n",
    "        Whether a given nonterminal can be rewritten. In other words, do we know a rule whose LHS is this\n",
    "         symbol?\n",
    "        \"\"\"\n",
    "        return lhs in self._rules_by_lhs\n",
    "\n",
    "    def __iter__(self):\n",
    "        \"\"\"Iterator over rules (in arbitrary order)\"\"\"\n",
    "        return iter(self._rules)\n",
    "\n",
    "    def items(self):\n",
    "        \"\"\"Iterator over pairs of the kind (LHS, rules rewriting LHS)\"\"\"\n",
    "        return self._rules_by_lhs.items()\n",
    "\n",
    "    def __str__(self):\n",
    "        \"\"\"Converts all rules to string\"\"\"\n",
    "        lines = []\n",
    "        # First rules for the start symbol\n",
    "        for rule in self[self._start]:\n",
    "            lines.append(str(rule))\n",
    "        # Then other rules (except pre-terminal ones)\n",
    "        for lhs, rules in sorted(self.items(), key=lambda pair: pair[0]):\n",
    "            if lhs == self._start or lhs in self._preterminals:\n",
    "                continue\n",
    "            for rule in rules:\n",
    "                lines.append(str(rule))\n",
    "        # And finally the pre-terminal rules\n",
    "        for pos in sorted(self._preterminals):\n",
    "            for rule in self[pos]:\n",
    "                lines.append(str(rule))\n",
    "        # Now we concatenate them all\n",
    "        return '\\n'.join(lines)\n",
    "\n",
    "    def __repr__(self):\n",
    "        return 'CFG: start=%s n_terminals=%d n_nonterminals=%d n_rules=%d' % (\n",
    "            self._start, len(self._terminals), len(\n",
    "                self._nonterminals), len(self._rules)\n",
    "        )"
   ]
  },
  {
   "cell_type": "code",
   "execution_count": 26,
   "metadata": {
    "colab": {
     "autoexec": {
      "startup": false,
      "wait_interval": 0
     }
    },
    "colab_type": "code",
    "id": "hucYm_h9QDOb"
   },
   "outputs": [],
   "source": [
    "def get_toy_grammar(np_cc_np=True, vp_cc_vp=True):\n",
    "    # Some symbols\n",
    "    S = Nonterminal('S')\n",
    "    NP = Nonterminal('NP')\n",
    "    N = Nonterminal('N')\n",
    "    VP = Nonterminal('VP')\n",
    "    V = Nonterminal('V')\n",
    "    # Grammar\n",
    "    G = CFG(S)\n",
    "    # Phrasal rules\n",
    "    G.add(Rule(S, [NP, VP]))\n",
    "    G.add(Rule(NP, [N]))\n",
    "    G.add(Rule(VP, [V]))\n",
    "    # Preterminal rules\n",
    "    G.add(Rule(N, [Terminal('cats')]))\n",
    "    G.add(Rule(N, [Terminal('dogs')]))\n",
    "    G.add(Rule(N, [Terminal('birds')]))\n",
    "    G.add(Rule(V, [Terminal('run')]))\n",
    "    G.add(Rule(V, [Terminal('bark')]))\n",
    "    G.add(Rule(V, [Terminal('meow')]))\n",
    "    G.add(Rule(V, [Terminal('chirp')]))\n",
    "    # Making the grammar more complex\n",
    "    if np_cc_np or vp_cc_vp:\n",
    "        CC = Nonterminal('CC')\n",
    "        G.add(Rule(CC, [Terminal('and')]))\n",
    "        if np_cc_np:\n",
    "            G.add(Rule(NP, [NP, CC, NP]))\n",
    "        if vp_cc_vp:\n",
    "            G.add(Rule(VP, [VP, CC, VP]))\n",
    "    return G"
   ]
  },
  {
   "cell_type": "code",
   "execution_count": 27,
   "metadata": {
    "colab": {
     "autoexec": {
      "startup": false,
      "wait_interval": 0
     },
     "base_uri": "https://localhost:8080/",
     "height": 258,
     "output_extras": [
      {
       "item_id": 1
      }
     ]
    },
    "colab_type": "code",
    "executionInfo": {
     "elapsed": 662,
     "status": "ok",
     "timestamp": 1521213744100,
     "user": {
      "displayName": "Grote Weegschaal",
      "photoUrl": "//lh4.googleusercontent.com/-KfZBK2pKfJ0/AAAAAAAAAAI/AAAAAAAAACU/Zxktak12jLw/s50-c-k-no/photo.jpg",
      "userId": "118191901390674533680"
     },
     "user_tz": -60
    },
    "id": "APT_AwZmQDOd",
    "outputId": "e8964aa7-27ab-4fe8-dee9-87afe4ec27e6"
   },
   "outputs": [
    {
     "name": "stdout",
     "output_type": "stream",
     "text": [
      "[S] -> [NP] [VP]\n",
      "[NP] -> [N]\n",
      "[NP] -> [NP] [CC] [NP]\n",
      "[VP] -> [V]\n",
      "[VP] -> [VP] [CC] [VP]\n",
      "[CC] -> 'and'\n",
      "[N] -> 'cats'\n",
      "[N] -> 'dogs'\n",
      "[N] -> 'birds'\n",
      "[V] -> 'run'\n",
      "[V] -> 'bark'\n",
      "[V] -> 'meow'\n",
      "[V] -> 'chirp'\n"
     ]
    }
   ],
   "source": [
    "G = get_toy_grammar()\n",
    "print(G)"
   ]
  },
  {
   "cell_type": "markdown",
   "metadata": {
    "colab_type": "text",
    "id": "JZGwGDQBQDOe"
   },
   "source": [
    "Let's get a sense of how to use the CFG object."
   ]
  },
  {
   "cell_type": "code",
   "execution_count": 28,
   "metadata": {
    "colab": {
     "autoexec": {
      "startup": false,
      "wait_interval": 0
     },
     "base_uri": "https://localhost:8080/",
     "height": 72,
     "output_extras": [
      {
       "item_id": 1
      }
     ]
    },
    "colab_type": "code",
    "executionInfo": {
     "elapsed": 443,
     "status": "ok",
     "timestamp": 1521210049832,
     "user": {
      "displayName": "Bram Otten",
      "photoUrl": "https://lh3.googleusercontent.com/a/default-user=s128",
      "userId": "110618989541510237728"
     },
     "user_tz": -60
    },
    "id": "vknY8317QDOf",
    "outputId": "1bd296b4-ac10-42d8-8aa4-85b5903c4582"
   },
   "outputs": [
    {
     "name": "stdout",
     "output_type": "stream",
     "text": [
      "[N] -> 'cats'\n",
      "[N] -> 'dogs'\n",
      "[N] -> 'birds'\n"
     ]
    }
   ],
   "source": [
    "N = Nonterminal('N')\n",
    "for rule in G[N]:\n",
    "    print(rule)"
   ]
  },
  {
   "cell_type": "code",
   "execution_count": 29,
   "metadata": {
    "colab": {
     "autoexec": {
      "startup": false,
      "wait_interval": 0
     },
     "base_uri": "https://localhost:8080/",
     "height": 72,
     "output_extras": [
      {
       "item_id": 1
      }
     ]
    },
    "colab_type": "code",
    "executionInfo": {
     "elapsed": 820,
     "status": "ok",
     "timestamp": 1521210051026,
     "user": {
      "displayName": "Bram Otten",
      "photoUrl": "https://lh3.googleusercontent.com/a/default-user=s128",
      "userId": "110618989541510237728"
     },
     "user_tz": -60
    },
    "id": "LwoMBu4rQDOh",
    "outputId": "f15dfb62-f0cb-41b8-bcfb-fbdad810ba0c"
   },
   "outputs": [
    {
     "name": "stdout",
     "output_type": "stream",
     "text": [
      "This is a POS category: [CC]\n",
      "This is a POS category: [N]\n",
      "This is a POS category: [V]\n"
     ]
    }
   ],
   "source": [
    "for pos in G.preterminals:\n",
    "    print('This is a POS category: %s' % pos)"
   ]
  },
  {
   "cell_type": "code",
   "execution_count": 30,
   "metadata": {
    "colab": {
     "autoexec": {
      "startup": false,
      "wait_interval": 0
     },
     "base_uri": "https://localhost:8080/",
     "height": 35,
     "output_extras": [
      {
       "item_id": 1
      }
     ]
    },
    "colab_type": "code",
    "executionInfo": {
     "elapsed": 477,
     "status": "ok",
     "timestamp": 1521210051896,
     "user": {
      "displayName": "Bram Otten",
      "photoUrl": "https://lh3.googleusercontent.com/a/default-user=s128",
      "userId": "110618989541510237728"
     },
     "user_tz": -60
    },
    "id": "l915kkqyQDOi",
    "outputId": "90b78048-1af9-4311-a5bb-7439ce7665a2"
   },
   "outputs": [
    {
     "name": "stdout",
     "output_type": "stream",
     "text": [
      "We can rewrite the symbol [S]: True\n"
     ]
    }
   ],
   "source": [
    "S = Nonterminal('S')\n",
    "print('We can rewrite the symbol %s: %s' % (S, G.can_rewrite(S)))"
   ]
  },
  {
   "cell_type": "code",
   "execution_count": 31,
   "metadata": {
    "colab": {
     "autoexec": {
      "startup": false,
      "wait_interval": 0
     },
     "base_uri": "https://localhost:8080/",
     "height": 35,
     "output_extras": [
      {
       "item_id": 1
      }
     ]
    },
    "colab_type": "code",
    "executionInfo": {
     "elapsed": 410,
     "status": "ok",
     "timestamp": 1521210052890,
     "user": {
      "displayName": "Bram Otten",
      "photoUrl": "https://lh3.googleusercontent.com/a/default-user=s128",
      "userId": "110618989541510237728"
     },
     "user_tz": -60
    },
    "id": "VgNuBpfIQDOo",
    "outputId": "64dbc42b-2fff-442d-e33d-fbe4f0e642a2"
   },
   "outputs": [
    {
     "name": "stdout",
     "output_type": "stream",
     "text": [
      "We can rewrite the symbol [T]: False\n"
     ]
    }
   ],
   "source": [
    "T = Nonterminal('T')\n",
    "print('We can rewrite the symbol %s: %s' % (T, G.can_rewrite(T)))"
   ]
  },
  {
   "cell_type": "code",
   "execution_count": 32,
   "metadata": {
    "colab": {
     "autoexec": {
      "startup": false,
      "wait_interval": 0
     },
     "base_uri": "https://localhost:8080/",
     "height": 35,
     "output_extras": [
      {
       "item_id": 1
      }
     ]
    },
    "colab_type": "code",
    "executionInfo": {
     "elapsed": 810,
     "status": "ok",
     "timestamp": 1521210054280,
     "user": {
      "displayName": "Bram Otten",
      "photoUrl": "https://lh3.googleusercontent.com/a/default-user=s128",
      "userId": "110618989541510237728"
     },
     "user_tz": -60
    },
    "id": "kWkxRFniQDOr",
    "outputId": "28233f2a-bc12-46f4-d4d8-e182d170fc29"
   },
   "outputs": [
    {
     "name": "stdout",
     "output_type": "stream",
     "text": [
      "We known 3 rules to rewrite the symbol [N]\n"
     ]
    }
   ],
   "source": [
    "print('We known %d rules to rewrite the symbol %s' % (len(G[N]), N))"
   ]
  },
  {
   "cell_type": "markdown",
   "metadata": {
    "colab_type": "text",
    "id": "yANoAVvUQDOs"
   },
   "source": [
    "## <a name=\"generation\"> Generation\n",
    "\n",
    "\n",
    "We can use CFG grammars to generate strings, the basic idea is really simple, we start from the grammars start symbol\n",
    "\\begin{align}\n",
    "(1) \\quad \\langle \\text{S} \\rangle\n",
    "\\end{align}\n",
    "then we randomly select a rule that rewrites it. Suppose that we have only 1 rule available `S -> NP VP`, then the only thing we can do at this point is to expand `S`\n",
    "\\begin{align}\n",
    "(1) &\\quad \\langle \\text{S} \\rangle  \\\\\n",
    "(2) &\\quad \\langle \\text{NP} \\, \\text{VP} \\rangle   \\\\\n",
    "\\end{align}\n",
    "\n",
    "We then recursively repeat this procedure for the leftmost nonterminal. Suppose that we can rewrite `NP` as `N`, or `D N`, or `NP NP`. Then we would have to select one of those 3 options. Let's assume for now that we pick one of them uniformly at random. For example, suppose we choose `N`, then the derivation proceeds as follows:\n",
    "\\begin{align}\n",
    "(1) &\\quad \\langle \\text{S} \\rangle \\\\\n",
    "(2) &\\quad \\langle \\text{NP} \\, \\text{VP} \\rangle \\\\\n",
    "(3) &\\quad \\langle \\text{N} \\, \\text{VP} \\rangle \\\\\n",
    "\\end{align}\n",
    "we recursively repeat this procedure\n",
    "\\begin{align}\n",
    "(1) &\\quad \\langle \\text{S} \\rangle \\\\\n",
    "(2) &\\quad \\langle \\text{NP} \\, \\text{VP} \\rangle \\\\\n",
    "(3) &\\quad \\langle \\text{N} \\, \\text{VP} \\rangle \\\\\n",
    "(4) &\\quad \\langle \\text{cats} \\, \\text{VP} \\rangle \\\\\n",
    "\\end{align}\n",
    "until we are left with terminal symbols only. For example\n",
    "\\begin{align}\n",
    "(1) &\\quad \\langle \\text{S} \\rangle \\\\\n",
    "(2) &\\quad \\langle \\text{NP} \\, \\text{VP} \\rangle \\\\\n",
    "(3) &\\quad \\langle \\text{N} \\, \\text{VP} \\rangle \\\\\n",
    "(4) &\\quad \\langle \\text{cats} \\, \\text{VP} \\rangle \\\\\n",
    "(5) &\\quad \\langle \\text{cats} \\, \\text{V} \\rangle \\\\\n",
    "(6) &\\quad \\langle \\text{cats} \\, \\text{meow} \\rangle \\\\\n",
    "\\end{align}\n",
    "\n",
    "Then the sequence of rule applications (in *this order*) \n",
    "\\begin{align}\n",
    "\\langle \\text{S} \\rightarrow \\text{NP} \\, \\text{VP} ,\\\\\n",
    "\\text{NP} \\rightarrow \\text{N} , \\\\\n",
    "\\text{N} \\rightarrow \\text{cats} , \\\\\n",
    "\\text{VP} \\rightarrow \\text{V} , \\\\\n",
    "\\text{V} \\rightarrow \\text{meow} \\rangle\n",
    "\\end{align}\n",
    "is our **derivation**, and the final sequence of words\n",
    "\\begin{equation}\n",
    "\\langle \\text{cats}, \\, \\text{meow} \\rangle\n",
    "\\end{equation}\n",
    "is the **yield**.\n",
    "\n",
    "Below you will implement this **depth-first traversal**, that is, a top-down and left-to-right recursion."
   ]
  },
  {
   "cell_type": "markdown",
   "metadata": {
    "colab_type": "text",
    "id": "eh9TCmWdQDOt"
   },
   "source": [
    "<a name=\"ex6-3\" style=\"color:red\">**Exercise 6-3**</a> **[3 points]** Implement a recursive algorithm that randomly generates derivations and their yields from the start symbol of the grammar. For now, use a uniform distribution to select which rule rewrites a symbol whenever multiple rules are available.\n",
    "\n",
    "* Guidelines: complete the function below (note that you can write additional functions which you can from within the function below, if you want).\n"
   ]
  },
  {
   "cell_type": "code",
   "execution_count": 33,
   "metadata": {
    "colab": {
     "autoexec": {
      "startup": false,
      "wait_interval": 0
     },
     "base_uri": "https://localhost:8080/",
     "height": 93,
     "output_extras": [
      {
       "item_id": 1
      }
     ]
    },
    "colab_type": "code",
    "executionInfo": {
     "elapsed": 827,
     "status": "ok",
     "timestamp": 1521213751629,
     "user": {
      "displayName": "Grote Weegschaal",
      "photoUrl": "//lh4.googleusercontent.com/-KfZBK2pKfJ0/AAAAAAAAAAI/AAAAAAAAACU/Zxktak12jLw/s50-c-k-no/photo.jpg",
      "userId": "118191901390674533680"
     },
     "user_tz": -60
    },
    "id": "TKKUd8jJQDOu",
    "outputId": "3e21b17a-6680-43d2-e38a-da6c49759876"
   },
   "outputs": [
    {
     "name": "stdout",
     "output_type": "stream",
     "text": [
      "([[S] -> [NP] [VP], [NP] -> [N], [N] -> 'cats', [VP] -> [V], [V] -> 'bark'], 'cats bark')\n",
      "([[S] -> [NP] [VP], [NP] -> [NP] [CC] [NP], [NP] -> [N], [N] -> 'cats', [CC] -> 'and', [NP] -> [N], [N] -> 'cats', [VP] -> [V], [V] -> 'run'], 'cats and cats run')\n",
      "([[S] -> [NP] [VP], [NP] -> [N], [N] -> 'birds', [VP] -> [V], [V] -> 'run'], 'birds run')\n"
     ]
    }
   ],
   "source": [
    "import numpy as np\n",
    "import random\n",
    "\n",
    "\n",
    "def choose_uniformly(nb_objects):\n",
    "    \"\"\"\n",
    "    This is a helper function that reminds you how to choose 1 of k objects uniformly.\n",
    "\n",
    "    :param nb_objects: total number of objects to choose from\n",
    "    :returns: an index from 0 to nb_objects - 1 (because we assumed 0-based indexing)\n",
    "    \"\"\"\n",
    "    # and make a uniform distribution over them\n",
    "    uniform_dist = np.ones(nb_objects) / nb_objects\n",
    "    # we then select one of the available rules uniformly at random\n",
    "    i = np.random.choice(nb_objects, p=uniform_dist)\n",
    "    return i\n",
    "\n",
    "\n",
    "def generate_uniform_sample(cfg: CFG, stop_recursion_at=42):\n",
    "    \"\"\"\n",
    "    Given a CFG,returns a derivation (and its yield) sampled top-down uniformly at random.\n",
    "\n",
    "    Recall that a derivation is a depth-first traversal, that is, \n",
    "        we always rewrite the leftmost nonterminal symbol first.\n",
    "\n",
    "    :param cfg: a CFG grammar    \n",
    "    :returns: derivation (sequence of rules), yield (sequence of words)\n",
    "    \"\"\"\n",
    "    s = cfg.get(Nonterminal('S'))[0]\n",
    "    d = [s]\n",
    "    s = list(s._rhs)\n",
    "    while cfg.can_rewrite(s[-1]):\n",
    "        for i, symbol in enumerate(s):\n",
    "            if cfg.can_rewrite(symbol):\n",
    "                del s[i]\n",
    "                x = cfg.get(symbol)\n",
    "                # To avoid NP CC NP -> NP CC NP hole\n",
    "                if len(s) < stop_recursion_at:\n",
    "                    x = x[choose_uniformly(len(x))]\n",
    "                else:\n",
    "                    x = x[0]\n",
    "                d.append(x)\n",
    "                x = list(x._rhs)\n",
    "                s = s[:i] + x + s[i:]\n",
    "                break\n",
    "            else:\n",
    "                pass\n",
    "    y = ' '.join(map(str, s)).replace(\"'\", \"\")\n",
    "    return d, y\n",
    "\n",
    "\n",
    "G2 = get_toy_grammar(np_cc_np=True, vp_cc_vp=False)\n",
    "print(generate_uniform_sample(G2))\n",
    "print(generate_uniform_sample(G2))\n",
    "print(generate_uniform_sample(G2))"
   ]
  },
  {
   "cell_type": "markdown",
   "metadata": {
    "colab_type": "text",
    "id": "zTAN5PKWQDOu"
   },
   "source": [
    "Let's generate a bit from this grammar.\n",
    "\n",
    "Note: as we are sampling uniformly, sometimes the derivations might be quite long, to reduce that effect, let's play with a simpler grammar which allows noun phrases to grow recursively, but not verb phrases. \n",
    "\n",
    "\n",
    "```python\n",
    "G2 = get_toy_grammar(np_cc_np=True, vp_cc_vp=False)\n",
    "generate_uniform_sample(G2)\n",
    "# you will get something like the following (but of course this is a random example)\n",
    "# (([S] -> [NP] [VP], [NP] -> [N], [N] -> 'cats', [VP] -> [V], [V] -> 'bark'), ('cats', 'bark'))\n",
    "```"
   ]
  },
  {
   "cell_type": "markdown",
   "metadata": {
    "colab_type": "text",
    "id": "i5_F6khyQDOw"
   },
   "source": [
    "For now we are sampling uniformly at each step, later we will give CFGs a probabilistic treatment."
   ]
  },
  {
   "cell_type": "markdown",
   "metadata": {
    "colab_type": "text",
    "id": "GYYNIc_wQDOw"
   },
   "source": [
    "# Recognisers\n",
    "\n",
    "Now we want to design *recognisers*, that is, algorithms that can decide whether or not a string belongs to the language of the grammar.\n",
    "\n",
    "The *language of the grammar* $L(\\mathfrak G)$ is the set of all terminal strings that can be derived from the grammar's start symbol by application of grammar rules. Formally, \n",
    "\n",
    "\\begin{equation}\n",
    "L(\\mathfrak G) = \\{\\omega \\in \\Sigma^*: \\text{S} \\overset{*}{\\Rightarrow} \\omega\\}\n",
    "\\end{equation}\n",
    "\n",
    "We read this as:\n",
    "* $\\omega$ is a string of terminals, which we know because $\\omega$ lives in the set of all strings, the set of all strings is denoted $\\Sigma^*$ and $\\omega \\in \\Sigma^*$ means that $\\omega$ is one string in that set\n",
    "* then the language $L(\\mathfrak G)$ is a set of strings such that (denoted by $:$) each and every string in the language can be derived from the grammar's start symbol $\\text{S}$\n",
    "\n",
    "We can design recognisers that work top-down as well as bottom-up, that is, from start symbol to the strings or vice-versa. \n"
   ]
  },
  {
   "cell_type": "markdown",
   "metadata": {
    "colab_type": "text",
    "id": "ZawPdp_HQDOw"
   },
   "source": [
    "## <a name=\"shiftreduce\"> Shift-Reduce\n",
    "\n",
    "Shift-reduce is a bottom-up recogniser. The following deductive system completely specifies it:\n",
    "\n",
    "\\begin{align}\n",
    "\\text{Item} &\\qquad [\\alpha \\, \\bullet, i] \\\\\n",
    "\\text{Goal} &\\qquad [\\text{S} \\, \\bullet, n] \\\\\n",
    "\\text{Axiom} &\\qquad [\\bullet, 0] \\\\\n",
    "\\text{Shift} &\\qquad \\frac{[\\alpha \\, \\bullet, i]}{[\\alpha \\, x_{i+1}, i + 1]} \\\\\n",
    "\\text{Reduce} & \\qquad \\frac{[\\alpha \\, \\beta \\, \\bullet, i]}{[\\alpha \\, X, i]} \\quad X \\rightarrow \\beta \\in \\mathcal R\n",
    "\\end{align}\n",
    "\n",
    "Let's understand the *item* form\n",
    "* we have a string $\\alpha$ which is a (possibly empty) sequence of terminals and nonterminal symbols\n",
    "* this string is typically known as a *stack*, that is the case because we typically use stacks to implement it\n",
    "* and we have an integer $i \\in [0, n]$ that denotes how many words of the input sentence we have parsed so far (from left-to-right)\n",
    "* when $i=0$ we haven't yet parsed anything\n",
    "* we interpret an item $[\\alpha \\bullet, i]$ as: *we have parsed $i$ words and we have justified them with the symbols in the stack $\\alpha$*\n",
    "* the dot $\\bullet$ in the item does not really have a function, it just reminds us that the algorithm expands the string inside of the item from left-to-right\n",
    "\n",
    "Let's understand the *goal*\n",
    "* the goal is simply to parse the complete sentence, that is, parse $n$ input words\n",
    "* and at the end of the algorithm we must have only the grammar's start symbol $\\text{S}$ in the stack\n",
    "\n",
    "Let's understand the *axioms*\n",
    "* there's only a single axiom item, namely, an item that states that we have not yet parsed anything (and thus we have an empty stack)\n",
    "\n",
    "Let's understand *shift*\n",
    "* this inference rule simply pushes a terminal (a word) into the stack\n",
    "* this means that the position $i$ advances by 1\n",
    "\n",
    "Let's understand *reduce*\n",
    "* this rule checks the top of the stack for a string that matches the RHS sequence of one of the grammar's rules\n",
    "* if we find such a sequence $\\beta$ and such a rule, e.g. $X \\rightarrow \\beta$, then we replace $\\beta$ by $X$ in the top of the stack\n",
    "* note that this rule does not advance over the string ($i$ does not change), it only *reduces* the size of the stack\n",
    "\n",
    "In python, we implement shift-reduce by programming the item, the rules (i.e. axiom, shift, reduce), and the deduction loop. We use an agenda of *active* items in order to explore the space of valid inferences. The logic is simple, we must process every item exactly once and we must give every rule a chance to infer new items from existing ones. \n",
    "\n",
    "We implement this parsing strategy below for you. Study it carefuly as it explains the general design necessary to implement deductive systems."
   ]
  },
  {
   "cell_type": "code",
   "execution_count": 34,
   "metadata": {
    "colab": {
     "autoexec": {
      "startup": false,
      "wait_interval": 0
     }
    },
    "colab_type": "code",
    "id": "YcnpnjiGQDOx"
   },
   "outputs": [],
   "source": [
    "from collections import deque\n",
    "\n",
    "\n",
    "class ShiftReduce:\n",
    "    \"\"\"\n",
    "    A bottom-up recogniser for epsilon-free CFGs.\n",
    "\n",
    "    Here an Item is a pair (sequence, position) where\n",
    "    * sequence is a tuple of terminals and nonterminals\n",
    "    * position is a positive integer \n",
    "\n",
    "    The algorithm is based on the deductive system specified above and we use one auxiliary data-structure\n",
    "     to map from RHS sequences to sets of LHS. This kind of reverses the CFG internal dictionary of rules.\n",
    "     We use this in order to make the check in the REDUCE rule a little easier to perform (see below).\n",
    "    \"\"\"\n",
    "\n",
    "    def __init__(self, cfg: CFG):\n",
    "        self._cfg = cfg\n",
    "        # this reverses the CFG internal rule map\n",
    "        # here we map from RHS to LHS\n",
    "        # since there are many rules (with different LHS) that may produce the same RHS\n",
    "        # we use a defaultdict of sets\n",
    "        self._rhs_to_lhs = defaultdict(set)\n",
    "        for r in self._cfg:\n",
    "            self._rhs_to_lhs[r.rhs].add(r.lhs)\n",
    "\n",
    "    def make_item(self, stack, position: int):\n",
    "        \"\"\"\n",
    "        Returns a pair (stack, position)\n",
    "        \"\"\"\n",
    "        return (stack, position)\n",
    "\n",
    "    def axioms(self):\n",
    "        \"\"\"\n",
    "        Returns a set of axiomatic items.\n",
    "         In fact, we only have a single axiom: the empty-stack, 0-position item.\n",
    "        \"\"\"\n",
    "        return {self.make_item(tuple(), 0)}\n",
    "\n",
    "    def shift(self, item, sentence):\n",
    "        \"\"\"\n",
    "        Returns a set of items according to the SHIFT rule.\n",
    "         This is in fact either no item or a single item.\n",
    "        \"\"\"\n",
    "        stack, position = item\n",
    "        items = set()\n",
    "        # shift\n",
    "        if position < len(sentence):\n",
    "            # expand the stack by pushing sentence[position] onto its top\n",
    "            # we also advance the position variable\n",
    "            items.add(self.make_item(\n",
    "                stack + (sentence[position],), position + 1))\n",
    "        return items\n",
    "\n",
    "    def reduce(self, item):\n",
    "        \"\"\"\n",
    "        Returns a set of new items according to the REDUCE rule.\n",
    "        \"\"\"\n",
    "        # This is the current item\n",
    "        stack, position = item\n",
    "        new_items = set()\n",
    "        for a in range(1, len(stack) + 1):  # we will inspect the top symbols in the stack\n",
    "            # here we get the last a symbols\n",
    "            suffix = stack[-a:]\n",
    "            # and here everything else\n",
    "            prefix = stack[: -a]\n",
    "            # if there are rules that can cover this suffix\n",
    "            for lhs in self._rhs_to_lhs.get(tuple(suffix), set()):\n",
    "                # we replace the top of the stack with the LHS of those rules\n",
    "                # and we do not touch the position variable\n",
    "                new_items.add(self.make_item(tuple(prefix) + (lhs,), position))\n",
    "            # there is no point in trying sequences longer than the grammar's arity\n",
    "            if a >= self._cfg.arity:\n",
    "                break\n",
    "        return new_items\n",
    "\n",
    "    def recognise(self, sentence):\n",
    "        \"\"\"\n",
    "        Test whether a sentence belong to the language of the grammar.\n",
    "\n",
    "        The general strategy with deductive systems is always the same:\n",
    "\n",
    "            - we need to manage `active items`, some form of agenda of items to be processed\n",
    "            - we also need some form or mechanism to track items that have already been discovered\n",
    "            - then we exhaust the agenda with something like `while agenda`\n",
    "            - we check whether we have derived the goal item, and if so, we return True\n",
    "            - if we have not, we continue by trying to shift and reduce, which causes new items to become active\n",
    "\n",
    "        :param sentence: a sequence of Terminal symbols\n",
    "        :returns: True if S =>* sentence, False otherwise\n",
    "        \"\"\"\n",
    "        # our agenda is a python double ended queue\n",
    "        #  but it could well be a list, we are using deque so you learn about it\n",
    "        agenda = deque(self.axioms())\n",
    "\n",
    "        # we need to maintain a set of already discovered items,\n",
    "        #  we use this to prevent adding the same item multiple times to the agenda\n",
    "        #  as the agenda is not a hash-based object, searching through it would take too long\n",
    "        #  (linear time on the agenda size)\n",
    "        #  instead we use a set which has average access time O(1)\n",
    "        discovered = set(agenda)\n",
    "\n",
    "        # We iterate for as long as there are active items in the agenda\n",
    "        while agenda:\n",
    "            # we chose to pop from the agenda's end, which gives it a stack treatment\n",
    "            # this is not necessarily the only alternative\n",
    "            # we could have done agenda.popleft() which would give it a queue treatment\n",
    "            # the stack treatment typically works a bit faster ;)\n",
    "            item = agenda.pop()\n",
    "            # recall the item form [\\alpha, i]\n",
    "            stack, position = item\n",
    "            # GOAL: check whether this is the GOAL item: [S, n]\n",
    "            if position == len(sentence) and len(stack) == 1 and stack[-1] == self._cfg.start:\n",
    "                # we accept the sentence\n",
    "                return True\n",
    "            # SHIFT\n",
    "            for new_item in self.shift(item, sentence):\n",
    "                if new_item not in discovered:  # we never process an item twice\n",
    "                    discovered.add(new_item)\n",
    "                    agenda.append(new_item)\n",
    "            # REDUCE\n",
    "            for new_item in self.reduce(item):\n",
    "                if new_item not in discovered:  # we never process an item twice\n",
    "                    discovered.add(new_item)\n",
    "                    agenda.append(new_item)\n",
    "\n",
    "        return False"
   ]
  },
  {
   "cell_type": "code",
   "execution_count": 35,
   "metadata": {
    "colab": {
     "autoexec": {
      "startup": false,
      "wait_interval": 0
     }
    },
    "colab_type": "code",
    "id": "pPw7QDL-QDOy"
   },
   "outputs": [],
   "source": [
    "recogniser = ShiftReduce(get_toy_grammar())"
   ]
  },
  {
   "cell_type": "code",
   "execution_count": 36,
   "metadata": {
    "colab": {
     "autoexec": {
      "startup": false,
      "wait_interval": 0
     },
     "base_uri": "https://localhost:8080/",
     "height": 35,
     "output_extras": [
      {
       "item_id": 1
      }
     ]
    },
    "colab_type": "code",
    "executionInfo": {
     "elapsed": 395,
     "status": "ok",
     "timestamp": 1521210058565,
     "user": {
      "displayName": "Bram Otten",
      "photoUrl": "https://lh3.googleusercontent.com/a/default-user=s128",
      "userId": "110618989541510237728"
     },
     "user_tz": -60
    },
    "id": "xxGg0IgZQDO1",
    "outputId": "2e000ecb-649f-42a2-f2b7-7c783d3a795f"
   },
   "outputs": [
    {
     "data": {
      "text/plain": [
       "True"
      ]
     },
     "execution_count": 36,
     "metadata": {},
     "output_type": "execute_result"
    }
   ],
   "source": [
    "recogniser.recognise([Terminal(\n",
    "    w) for w in 'cats and dogs and birds run and meow and bark and chirp'.split()])"
   ]
  },
  {
   "cell_type": "code",
   "execution_count": 37,
   "metadata": {
    "colab": {
     "autoexec": {
      "startup": false,
      "wait_interval": 0
     },
     "base_uri": "https://localhost:8080/",
     "height": 35,
     "output_extras": [
      {
       "item_id": 1
      }
     ]
    },
    "colab_type": "code",
    "executionInfo": {
     "elapsed": 1590,
     "status": "ok",
     "timestamp": 1521210060503,
     "user": {
      "displayName": "Bram Otten",
      "photoUrl": "https://lh3.googleusercontent.com/a/default-user=s128",
      "userId": "110618989541510237728"
     },
     "user_tz": -60
    },
    "id": "db9jfHwVQDO2",
    "outputId": "a4d2d744-1575-4e0b-b4bf-0f0cd86e4234"
   },
   "outputs": [
    {
     "data": {
      "text/plain": [
       "False"
      ]
     },
     "execution_count": 37,
     "metadata": {},
     "output_type": "execute_result"
    }
   ],
   "source": [
    "recogniser.recognise([Terminal(\n",
    "    w) for w in 'cats and dogs and birds run and jump and bark and chirp'.split()])"
   ]
  },
  {
   "cell_type": "markdown",
   "metadata": {
    "colab_type": "text",
    "id": "zE1goYCmQDO4"
   },
   "source": [
    "# <a name=\"cky\"> CKY\n",
    "\n",
    "If we know our grammars obey to a certain form, such as *Chomsky Normal Form* (CNF) we can design efficient recognisers. One such recogniser is the CKY algorithm for CNF grammars.\n",
    "\n",
    "\n"
   ]
  },
  {
   "cell_type": "markdown",
   "metadata": {
    "colab_type": "text",
    "id": "dsn32M81QDO4"
   },
   "source": [
    "<a name=\"ex6-4\" style=\"color:red\">**Exercise 6-4**</a> **[2 points]** Describe a CNF grammar (do not simply state the conditions, explain them in English).\n",
    "\n",
    "The rules of a CNF grammar need to have one of these three forms:\n",
    "\n",
    "- A -> BC (where A, B and C are non-terminals; B != S, C != S);\n",
    "- A -> a (where 'A' is a non-terminal and 'a' is a terminal);\n",
    "- S -> $\\epsilon$ (where S is the start symbol and $\\epsilon$ is an empty string).\n",
    "\n",
    "S -> $\\epsilon$ can only be used if $\\epsilon$ is in the language of the grammar. Lecturer mentioned that would not be the case here.\n"
   ]
  },
  {
   "cell_type": "markdown",
   "metadata": {
    "colab_type": "text",
    "id": "PXR-ffeSQDO6"
   },
   "source": [
    "**Deductive system for CKY**\n",
    "\n",
    "The following deductive system specifies the CKY parsing strategy\n",
    "\n",
    "\\begin{align}\n",
    "\\text{Item} &\\qquad [i, X, j] \\\\\n",
    "\\text{Goal} &\\qquad [0, \\text{S}, n] \\\\\n",
    "\\text{Axiom} &\\qquad [i, X, i + 1] \\quad X \\rightarrow x_i \\in \\mathcal R\\\\\n",
    "\\text{Merge} & \\qquad \\frac{[i, A, k] \\, [k, B, j]}{[i, C, j]} \\quad C \\rightarrow A \\, B \\in \\mathcal R\n",
    "\\end{align}\n",
    "\n",
    "\n",
    "Now you will implement the CKY recogniser:\n",
    "* we expect you to use as items a tuple such as `(start, nonterminal, end)`. \n",
    "\n"
   ]
  },
  {
   "cell_type": "markdown",
   "metadata": {
    "colab_type": "text",
    "id": "70W070RZQDO6"
   },
   "source": [
    "<a name=\"ex6-5\" style=\"color:red\">**Exercise 6-5**</a> **[4 points]** Explain the following \n",
    "\n",
    "* **[1 point]** CKY items\n",
    "\n",
    "Sound intermediate result, a sequence from the input sentence that's parsed correctly by placing a rule between two indicated indices. \n",
    "\n",
    "* **[1 point]** CKY goal\n",
    "\n",
    "State in which entire sentence of length n is 'encapsulated' by an S. This is not the case in the beginning because the CKY algorithm works bottom-up. The S itself will (here and usually) be the result of merges, and can only cover 0 to n if every part of the sentence has been converted to non-terminals.\n",
    "\n",
    "* **[1 point]** CKY axioms\n",
    "\n",
    "Something assumed to be true. Here, that's the minimum number of rules. There must be at least one, which must be rewritable as at least one terminal.\n",
    "\n",
    "* **[1 point]** CKY merge rule\n",
    "\n",
    "Makes one item (containing C) out of two (containing A and B). This can be done if the two 'input' items follow each other directly, and there's a rule which encapsulates both items."
   ]
  },
  {
   "cell_type": "markdown",
   "metadata": {
    "colab_type": "text",
    "id": "SHjZNLsvQDO7"
   },
   "source": [
    "**Implementation**\n",
    "\n",
    "<a name=\"ex6-6\" style=\"color:red\">**Exercise 6-6**</a> **[9 points]** Here you will implement a CKY recogniser.\n",
    "\n",
    "Start by carefully checking the documentation and relating each method to a part of the deductive system, then carefully study the form of the CKY item (which is implemented in the method `make_item`). Then solve the exercises below:\n",
    "\n",
    "* **[1 point]** Implement the checks for CNF grammars in the constructor\n",
    "* **[1 point]** Implement the GOAL check in the method `is_goal` (check the documentation)\n",
    "* **[1 point]** Implement the axioms of the system in the method `axioms` (check the documentation)\n",
    "* **[2 points]** Implement the rule *merge* in the method `merge` (check the documentation)\n",
    "* **[3 points]** Implement the main loop in `recognise`\n",
    "* **[1 point]** Show that you get the correct answers for the grammar in `get_toy_cnf_grammar` below and the following sentences:\n",
    "    * `cats and dogs run`\n",
    "    * `cats and dogs jump`\n",
    "    * try some additional examples\n",
    "\n"
   ]
  },
  {
   "cell_type": "code",
   "execution_count": 38,
   "metadata": {
    "colab": {
     "autoexec": {
      "startup": false,
      "wait_interval": 0
     }
    },
    "colab_type": "code",
    "id": "Z6-cCs0UQDO7"
   },
   "outputs": [],
   "source": [
    "from collections import defaultdict, deque\n",
    "\n",
    "\n",
    "class CKYRecogniser:\n",
    "    \"\"\"\n",
    "    A CKY recogniser for CFGs in CNF which is implemented as a deductive system.\n",
    "    \"\"\"\n",
    "\n",
    "    def __init__(self, cfg: CFG):\n",
    "        \"\"\"\n",
    "        This constructs the recogniser for a certain grammar.\n",
    "\n",
    "        You may use this as an opportunity to precompute certain quantities or cache certain objects\n",
    "         if that helps you.\n",
    "\n",
    "        You should make sure the input is indeed in CNF.\n",
    "\n",
    "        :param cfg: a CFG in Chomsky Normal Form (CNF)\n",
    "        \"\"\"\n",
    "        for nonterminal in cfg.nonterminals:\n",
    "            for rule in cfg[nonterminal]:\n",
    "                if (len(rule.rhs) > 2):\n",
    "                    raise valueError('rhs is longer than 2 symbols')\n",
    "                for thing in rule.rhs:\n",
    "                    if (cfg.start == thing):\n",
    "                        raise valueError(\n",
    "                            'start symbol is equal to a non-terminal in rhs of a rule')\n",
    "\n",
    "        self._cfg = cfg\n",
    "\n",
    "        # because the formatting of this exercise is completely insane\n",
    "        # we have to put the rules with an S on the rhs in another dict\n",
    "        # or it will terminate too early\n",
    "        self._terminating_rules = defaultdict(set)\n",
    "        for r in cfg:\n",
    "            if r.lhs.category == 'S':\n",
    "                self._terminating_rules[r.rhs].add(r)\n",
    "\n",
    "        # It is convenient to map from RHS to rules\n",
    "        self._rhs_to_rules = defaultdict(set)\n",
    "        for r in cfg:\n",
    "            if r.lhs.category != 'S':\n",
    "                self._rhs_to_rules[r.rhs].add(r)\n",
    "\n",
    "    def make_item(self, rule: Rule, start: int, end: int):\n",
    "        \"\"\"\n",
    "        We can create items based on a rule which justifies a span of the sentence.\n",
    "        :param rule: a Rule object\n",
    "        :param start: an integer from 0 to n\n",
    "        :param end: an integer from 0 to n (where end >= start)\n",
    "        :returns: a CKY item represented as a tuple (start, rule.lhs, end)\n",
    "        \"\"\"\n",
    "        return (start, rule.lhs, end)\n",
    "\n",
    "    def set_to_rule(self, rule):\n",
    "        \"\"\"\n",
    "        The designer of this exercise made a call to the _rhs_to_rules dictionary\n",
    "        return a set. Which is... questionable. Let's keep it at that\n",
    "        This function rectifies that (in an ugly way)\n",
    "        \"\"\"\n",
    "        thing = None\n",
    "        for i in rule:\n",
    "            thing = i\n",
    "        return thing\n",
    "\n",
    "    def get_category(self, item):\n",
    "        \"\"\"Returns the phrase category of the CKY item\"\"\"\n",
    "        return item[1]\n",
    "\n",
    "    def get_start(self, item):\n",
    "        \"\"\"Returns the start position of the CKY item\"\"\"\n",
    "        return item[0]\n",
    "\n",
    "    def get_end(self, item):\n",
    "        \"\"\"Returns the end position of the CKY item\"\"\"\n",
    "        return item[2]\n",
    "\n",
    "    def is_goal(self, item, n):\n",
    "        \"\"\"\n",
    "        Test if this is a goal item\n",
    "        :param item: a CKY item as returned by `make_item`\n",
    "        :param n: length of the input sentence\n",
    "        :returns: True if GOAL, False otherwise\n",
    "        \"\"\"\n",
    "        if (self.get_end(item) == n) and (self.get_category(item) == self._cfg.start):\n",
    "            return True\n",
    "        return False\n",
    "\n",
    "    def axioms(self, sentence):\n",
    "        \"\"\"\n",
    "        Return the axioms compatible with a certain input sentence\n",
    "        :param sentence: a sequence of Terminal objects\n",
    "        :returns: a set of items\n",
    "        \"\"\"\n",
    "        result = set()\n",
    "        count = 0\n",
    "        for item in sentence:\n",
    "            for rhs in self._rhs_to_rules.keys():\n",
    "                if rhs[0] == item:\n",
    "                    rule = self._rhs_to_rules[rhs]\n",
    "                    rule = self.set_to_rule(rule)\n",
    "                    new_item = self.make_item(rule, count, count+1)\n",
    "                    count += 1\n",
    "                    result.add(new_item)\n",
    "\n",
    "        if (len(result) != len(sentence)):\n",
    "            return None\n",
    "        return result\n",
    "\n",
    "    def merge(self, item1, item2):\n",
    "        \"\"\"\n",
    "        Returns a set of inferred items based on the MERGE rule.\n",
    "        :param item1: a CKY item as created by `make_item`\n",
    "        :param item2: a CKY item as created by `make_item`\n",
    "\n",
    "        Note that you need to make sure whether the MERGE rule applies at all,\n",
    "         that is, item1 and item2 need to be adjacent. Also note that the items\n",
    "         may have been passed to this function in opposite order.\n",
    "        Examples of valid applications of the merge rule:\n",
    "             * [1, X, 2] [2, Y, 3]: this is valid because one item ends where the other starts\n",
    "             * [2, Y, 3] [1, X, 2]: this is also valid! because again one item (the second) ends where the other (the first) starts\n",
    "\n",
    "        :returns: a set of items inferred by application of MERGE\n",
    "        \"\"\"\n",
    "        if self.get_end(item1) == self.get_start(item2):\n",
    "            rhs = (self.get_category(item1), self.get_category(item2))\n",
    "            lhs = self._rhs_to_rules[rhs]\n",
    "            if lhs == set():\n",
    "                return None\n",
    "            lhs = self.set_to_rule(lhs)\n",
    "            return self.make_item(lhs, self.get_start(item1), self.get_end(item2))\n",
    "\n",
    "        if self.get_end(item2) == self.get_start(item1):\n",
    "            rhs = (self.get_category(item2), self.get_category(item1))\n",
    "            lhs = self._rhs_to_rules[rhs]\n",
    "            if lhs == set():\n",
    "                return None\n",
    "            lhs = self.set_to_rule(lhs)\n",
    "            return self.make_item(lhs, self.get_start(item2), self.get_end(item1))\n",
    "\n",
    "        return None\n",
    "\n",
    "    def terminate(self, item1, item2):\n",
    "        \"\"\"\n",
    "        Returns a set of inferred items based on the MERGE rule.\n",
    "        :param item1: a CKY item as created by `make_item`\n",
    "        :param item2: a CKY item as created by `make_item`\n",
    "\n",
    "        this function only chooses from the terminating rules,\n",
    "        aka, only the rules where the lhs is 'S'\n",
    "\n",
    "        :returns: a set of items inferred by application of MERGE\n",
    "        \"\"\"\n",
    "        if self.get_end(item1) == self.get_start(item2):\n",
    "            rhs = (self.get_category(item1), self.get_category(item2))\n",
    "            lhs = self._terminating_rules[rhs]\n",
    "\n",
    "            if lhs == None:\n",
    "                return None\n",
    "            lhs = self.set_to_rule(lhs)\n",
    "            return self.make_item(lhs, self.get_start(item1), self.get_end(item2))\n",
    "\n",
    "        if self.get_end(item2) == self.get_start(item1):\n",
    "            rhs = (self.get_category(item2), self.get_category(item1))\n",
    "            lhs = self._terminating_rules[rhs]\n",
    "            if lhs == None:\n",
    "                return None\n",
    "            lhs = self.set_to_rule(lhs)\n",
    "            return self.make_item(lhs, self.get_start(item2), self.get_end(item1))\n",
    "\n",
    "        return None\n",
    "\n",
    "    def recognise(self, sentence, max_length=42):\n",
    "        \"\"\"\n",
    "        Test whether a sentence belongs to the language of the grammar.\n",
    "\n",
    "        Recall the general strategy:\n",
    "            - maintain an agenda of items\n",
    "            - explore items exhaustively\n",
    "            - never put in the agenda an item that you have already discovered\n",
    "            - stop whenever you manage to prove the GOAL item\n",
    "\n",
    "        :param sentence: a sequence of Terminal objects\n",
    "        :returns: True if S =>* sentence, False otherwise.\n",
    "        \"\"\"\n",
    "        if isinstance(sentence, str):\n",
    "            sentence = sentence.lower()\n",
    "            sentence = [Terminal(w) for w in sentence.split()]\n",
    "\n",
    "        rules = self.axioms(sentence)\n",
    "        if (rules == None):\n",
    "            print('Terminating: necessary axioms aren\\'t in the grammar')\n",
    "            return False\n",
    "\n",
    "        agenda = deque()\n",
    "        for i in rules:\n",
    "            agenda.append(i)\n",
    "\n",
    "        loop = 0\n",
    "        length_sentence = len(sentence)\n",
    "        if length_sentence == 0:\n",
    "            print(\"Terminating: sentence too short.\")\n",
    "            return False\n",
    "\n",
    "        discovered = set(agenda)\n",
    "\n",
    "        if len(agenda) == 1:\n",
    "            if self.is_goal(agenda[0], length_sentence) == False:\n",
    "                print('Terminating: sentence of length 1 doesn\\'t map to S.')\n",
    "            return self.is_goal(agenda[0], length_sentence)\n",
    "\n",
    "        while len(agenda) > 2:\n",
    "            loop += 1\n",
    "            for item1 in list(agenda):\n",
    "                for item2 in list(agenda):\n",
    "                    if item1 == item2:\n",
    "                        continue\n",
    "\n",
    "                    # if the function is looping we terminate\n",
    "                    if loop > max_length:\n",
    "                        print('Terminating because of infinite loop, and/or your',\n",
    "                              'sentence doesn\\'t belong to the grammar')\n",
    "                        return False\n",
    "\n",
    "                    if self.merge(item1, item2) != None:\n",
    "                        new_item = self.merge(item1, item2)\n",
    "                        if new_item not in discovered:\n",
    "                            loop = 0\n",
    "                            discovered.add(new_item)\n",
    "                            if item1 in agenda:\n",
    "                                agenda.remove(item1)\n",
    "                            if item2 in agenda:\n",
    "                                agenda.remove(item2)\n",
    "                            agenda.appendleft(new_item)\n",
    "\n",
    "        # If agenda has 2 items left, try the S -> AB rules on them.\n",
    "\n",
    "        last_item = self.terminate(agenda[0], agenda[1])\n",
    "        if last_item != None:\n",
    "            return self.is_goal(last_item, length_sentence)\n",
    "\n",
    "        return False"
   ]
  },
  {
   "cell_type": "code",
   "execution_count": 39,
   "metadata": {
    "colab": {
     "autoexec": {
      "startup": false,
      "wait_interval": 0
     },
     "base_uri": "https://localhost:8080/",
     "height": 296,
     "output_extras": [
      {
       "item_id": 1
      }
     ]
    },
    "colab_type": "code",
    "executionInfo": {
     "elapsed": 676,
     "status": "ok",
     "timestamp": 1521214894228,
     "user": {
      "displayName": "Grote Weegschaal",
      "photoUrl": "//lh4.googleusercontent.com/-KfZBK2pKfJ0/AAAAAAAAAAI/AAAAAAAAACU/Zxktak12jLw/s50-c-k-no/photo.jpg",
      "userId": "118191901390674533680"
     },
     "user_tz": -60
    },
    "id": "2jnHK0XaQDO_",
    "outputId": "0da53d95-861d-4865-fcc3-f675ed38a1ce"
   },
   "outputs": [
    {
     "name": "stdout",
     "output_type": "stream",
     "text": [
      "True\n",
      "Terminating: necessary axioms aren't in the grammar\n",
      "False\n",
      "Terminating because of infinite loop, and/or your sentence doesn't belong to the grammar\n",
      "False\n",
      "True\n",
      "\n",
      "Terminating: sentence of length 1 doesn't map to S.\n",
      "False\n",
      "Terminating: sentence too short.\n",
      "False\n",
      "Terminating: necessary axioms aren't in the grammar\n",
      "False\n",
      "Terminating because of infinite loop, and/or your sentence doesn't belong to the grammar\n",
      "False\n"
     ]
    }
   ],
   "source": [
    "def get_toy_cnf_grammar():\n",
    "    # Some symbols\n",
    "    S = Nonterminal('S')\n",
    "    NP = Nonterminal('NP')\n",
    "    N = Nonterminal('N')\n",
    "    VP = Nonterminal('VP')\n",
    "    V = Nonterminal('V')\n",
    "    CC = Nonterminal('CC')\n",
    "    cnf = CFG(S)\n",
    "    # Phrasal rules\n",
    "    cnf.add(Rule(S, [NP, VP]))\n",
    "    cnf.add(Rule(S, [NP, V]))\n",
    "    cnf.add(Rule(S, [N, VP]))\n",
    "    cnf.add(Rule(S, [N, V]))\n",
    "    cnf.add(Rule(NP, [N, NP]))\n",
    "    cnf.add(Rule(NP, [CC, N]))\n",
    "    cnf.add(Rule(VP, [V, VP]))\n",
    "    cnf.add(Rule(VP, [CC, V]))\n",
    "    # Preterminal rules\n",
    "    cnf.add(Rule(N, [Terminal('cats')]))\n",
    "    cnf.add(Rule(N, [Terminal('dogs')]))\n",
    "    cnf.add(Rule(N, [Terminal('birds')]))\n",
    "    cnf.add(Rule(V, [Terminal('run')]))\n",
    "    cnf.add(Rule(V, [Terminal('bark')]))\n",
    "    cnf.add(Rule(V, [Terminal('meow')]))\n",
    "    cnf.add(Rule(V, [Terminal('chirp')]))\n",
    "    cnf.add(Rule(CC, [Terminal('and')]))\n",
    "    return cnf\n",
    "\n",
    "\n",
    "cky = CKYRecogniser(get_toy_cnf_grammar())\n",
    "print(cky.recognise('Cats and dogs run'))\n",
    "print(cky.recognise('cats and dogs jump'))\n",
    "print(cky.recognise('cats cats cats cats'))\n",
    "print(cky.recognise('cats and dogs run and run'))\n",
    "\n",
    "print()\n",
    "x = 'cats'\n",
    "print(cky.recognise(x))\n",
    "x = ''\n",
    "print(cky.recognise(x))\n",
    "x = 'Cats and such are something'\n",
    "print(cky.recognise(x))\n",
    "# TODO2: moet misschien werken\n",
    "x = 'cats and dogs and birds meow and run and chirp and run'\n",
    "print(cky.recognise(x))"
   ]
  },
  {
   "cell_type": "markdown",
   "metadata": {
    "colab_type": "text",
    "id": "DUVwSmOhQDPB"
   },
   "source": [
    "#  <a name=\"pcfg\"> PCFG\n",
    "\n",
    "A probabilistic CFG is a simple extension to CFGs where we assign a joint probability distribution over the space of context-free *derivations*. \n",
    "\n",
    "A random **derivation** $D = \\langle R_1, \\ldots, R_m \\rangle$ is a sequence of $m$ *random rule applications*.\n",
    "A random rule is a pair of a random LHS nonterminal $V$ and a random RHS sequence $\\beta$, where $V \\rightarrow \\beta$ corresponds to a valid rule in the grammar.\n",
    "\n",
    "We assume that a derivation is generated one rule at a time and each rule is generated independently. Moreover, the probability value of a rule is given by a conditional probability distribution over RHS sequences given LHS nonterminal. \n",
    "\n",
    "\n",
    "\\begin{align}\n",
    "P_{D|M}(r_1^m|m) &= \\prod_{i=1}^m P_R(r_i) \\\\\n",
    " &= \\prod_{i=1}^m P_{\\text{RHS}|\\text{LHS}}(\\beta_i | v_i)\\\\\n",
    " &= \\prod_{i=1}^m \\text{Cat}(\\beta_i | \\boldsymbol \\theta^{v_i})\\\\\n",
    " &= \\prod_{i=1}^m \\theta_{v_i \\rightarrow \\beta_i}\\\\\n",
    "\\end{align}\n",
    "\n"
   ]
  },
  {
   "cell_type": "markdown",
   "metadata": {
    "colab_type": "text",
    "id": "zNEPYwdZQDPC"
   },
   "source": [
    "<a name=\"ex6-7\" style=\"color:red\">**Exercise 6-7**</a> **[1 point]** How many parameters are there in this model? Express your answer in big-o-notation as a function of sizes of terminal and nonterminal sets as well as the grammar's arity (note that we are not assuming CNF grammars here).\n",
    "\n",
    "Remember $O(|V| \\times (|V \\cup \\Sigma|)^a)$ from ex. 6-2, which described the maximum number of rules there could be for a CFG. \n",
    "\n",
    "There are still that many valid rules, so $O(|V| \\times (|V \\cup \\Sigma|)^a)$"
   ]
  },
  {
   "cell_type": "markdown",
   "metadata": {
    "colab_type": "text",
    "id": "rsBKK4hDQDPC"
   },
   "source": [
    "<a name=\"ex6-8\" style=\"color:red\">**Exercise 6-8**</a> **[2 points]** If our grammar were in CNF form, then how many parameters would we have?\n",
    "\n",
    "The $|V| \\times (|V \\cup \\Sigma|)^a$ bit from above becomes $|V| \\times (|V|^2 \\cup |\\Sigma|)$. (In words: a non-terminal can be replaced by two non-terminals or by a single terminal.)\n",
    "\n",
    "So $O(|V| \\times (|V|^2 \\cup |\\Sigma|))$. "
   ]
  },
  {
   "cell_type": "markdown",
   "metadata": {
    "colab_type": "text",
    "id": "o6Wq7nXvQDPC"
   },
   "source": [
    "**Implementation**\n",
    "\n",
    "We can implement PCFGs rather easily by pairing a CFG grammar with a dictionary mapping from rules to their probabilities. But we must remember that for each given LHS symbol, the probability values of all of its rewriting rules must sum to 1.\n",
    "\n",
    "\\begin{equation}\n",
    "\\sum_{\\beta} \\theta_{v \\rightarrow \\beta} = 1\n",
    "\\end{equation}\n",
    "\n",
    "Below we have an example of how we could code the necessary cpds for our toy grammar"
   ]
  },
  {
   "cell_type": "code",
   "execution_count": 40,
   "metadata": {
    "colab": {
     "autoexec": {
      "startup": false,
      "wait_interval": 0
     }
    },
    "colab_type": "code",
    "id": "s3UE4jE5QDPD"
   },
   "outputs": [],
   "source": [
    "def get_toy_pcfg():\n",
    "    cfg = get_toy_grammar(np_cc_np=True, vp_cc_vp=True)\n",
    "    # Some symbols\n",
    "    S = Nonterminal('S')\n",
    "    NP = Nonterminal('NP')\n",
    "    N = Nonterminal('N')\n",
    "    VP = Nonterminal('VP')\n",
    "    V = Nonterminal('V')\n",
    "    CC = Nonterminal('CC')\n",
    "    p_R = {\n",
    "        S: {\n",
    "            Rule(S, [NP, VP]): 1.0,\n",
    "        },\n",
    "        # NP -> *\n",
    "        NP: {\n",
    "            Rule(NP, [NP, CC, NP]): 0.2,\n",
    "            Rule(NP, [N]): 0.8,\n",
    "        },\n",
    "        # VP -> *\n",
    "        VP: {\n",
    "            Rule(VP, [VP, CC, VP]): 0.1,\n",
    "            Rule(VP, [V]): 0.9,\n",
    "        },\n",
    "        # N -> *\n",
    "        N: {\n",
    "            Rule(N, [Terminal('cats')]): 0.3,\n",
    "            Rule(N, [Terminal('dogs')]): 0.5,\n",
    "            Rule(N, [Terminal('birds')]): 0.2,\n",
    "        },\n",
    "        # V -> *\n",
    "        V: {\n",
    "            Rule(V, [Terminal('run')]): 0.4,\n",
    "            Rule(V, [Terminal('bark')]): 0.25,\n",
    "            Rule(V, [Terminal('meow')]): 0.25,\n",
    "            Rule(V, [Terminal('chirp')]): 0.1,\n",
    "        },\n",
    "        CC: {\n",
    "            Rule(CC, [Terminal('and')]): 1.0,\n",
    "        }\n",
    "    }\n",
    "    return cfg, p_R"
   ]
  },
  {
   "cell_type": "markdown",
   "metadata": {
    "colab_type": "text",
    "id": "YiOwG0_VQDPG"
   },
   "source": [
    "Let's have a look at what we got"
   ]
  },
  {
   "cell_type": "code",
   "execution_count": 41,
   "metadata": {
    "colab": {
     "autoexec": {
      "startup": false,
      "wait_interval": 0
     },
     "base_uri": "https://localhost:8080/",
     "height": 648,
     "output_extras": [
      {
       "item_id": 1
      }
     ]
    },
    "colab_type": "code",
    "executionInfo": {
     "elapsed": 542,
     "status": "ok",
     "timestamp": 1521215594933,
     "user": {
      "displayName": "Grote Weegschaal",
      "photoUrl": "//lh4.googleusercontent.com/-KfZBK2pKfJ0/AAAAAAAAAAI/AAAAAAAAACU/Zxktak12jLw/s50-c-k-no/photo.jpg",
      "userId": "118191901390674533680"
     },
     "user_tz": -60
    },
    "id": "gliEQFM1QDPH",
    "outputId": "b5510254-1b9e-4f21-fba0-c59caed5e357"
   },
   "outputs": [
    {
     "name": "stdout",
     "output_type": "stream",
     "text": [
      "CFG\n",
      "[S] -> [NP] [VP]\n",
      "[NP] -> [N]\n",
      "[NP] -> [NP] [CC] [NP]\n",
      "[VP] -> [V]\n",
      "[VP] -> [VP] [CC] [VP]\n",
      "[CC] -> 'and'\n",
      "[N] -> 'cats'\n",
      "[N] -> 'dogs'\n",
      "[N] -> 'birds'\n",
      "[V] -> 'run'\n",
      "[V] -> 'bark'\n",
      "[V] -> 'meow'\n",
      "[V] -> 'chirp'\n",
      "P_R\n",
      "1.00 [S] -> [NP] [VP]\n",
      "LHS [S] Total probability 1.00\n",
      "0.20 [NP] -> [NP] [CC] [NP]\n",
      "0.80 [NP] -> [N]\n",
      "LHS [NP] Total probability 1.00\n",
      "0.10 [VP] -> [VP] [CC] [VP]\n",
      "0.90 [VP] -> [V]\n",
      "LHS [VP] Total probability 1.00\n",
      "0.30 [N] -> 'cats'\n",
      "0.50 [N] -> 'dogs'\n",
      "0.20 [N] -> 'birds'\n",
      "LHS [N] Total probability 1.00\n",
      "0.40 [V] -> 'run'\n",
      "0.25 [V] -> 'bark'\n",
      "0.25 [V] -> 'meow'\n",
      "0.10 [V] -> 'chirp'\n",
      "LHS [V] Total probability 1.00\n",
      "1.00 [CC] -> 'and'\n",
      "LHS [CC] Total probability 1.00\n"
     ]
    }
   ],
   "source": [
    "cfg, p_R = get_toy_pcfg()\n",
    "print('CFG')\n",
    "print(cfg)\n",
    "print('P_R')\n",
    "for lhs, cpd in p_R.items():\n",
    "    total_prob = 0.0\n",
    "    for rule, prob in cpd.items():\n",
    "        print('%.2f' % prob, rule)\n",
    "        total_prob += prob\n",
    "    print('LHS %s Total probability %.2f' % (lhs, total_prob))"
   ]
  },
  {
   "cell_type": "markdown",
   "metadata": {
    "colab_type": "text",
    "id": "AIS5SRTQQDPK"
   },
   "source": [
    "<a name=\"ex6-9\" style=\"color:red\">**Exercise 6-9**</a> **[3 points]** Implement a function that generates samples from the grammar respecting a certain specification of $P_R$. *Tip:* this is very similar to uniform generation, but instead of choosing rules uniformly at random, we should choose them according to the given cpds."
   ]
  },
  {
   "cell_type": "code",
   "execution_count": 42,
   "metadata": {
    "colab": {
     "autoexec": {
      "startup": false,
      "wait_interval": 0
     }
    },
    "colab_type": "code",
    "id": "9P7-Yyl1QDPL"
   },
   "outputs": [],
   "source": [
    "from numpy.random import choice\n",
    "\n",
    "\n",
    "def choose_empirically(cpd):\n",
    "    # Returns one of the keys of the cpd dict.\n",
    "    return choice(list(cpd.keys()), p=list(cpd.values()))\n",
    "\n",
    "\n",
    "def generate_sample(cfg: CFG, cpds):\n",
    "    \"\"\"\n",
    "    Given a CFG,returns a derivation (and its yield) sampled top-down uniformly at random.\n",
    "\n",
    "    Recall that a derivation is a depth-first traversal, that is, \n",
    "        we always rewrite the leftmost nonterminal symbol first.\n",
    "\n",
    "    :param cfg: a CFG grammar    \n",
    "    :param cpds: a dictionary mapping a LHS to a cpd\n",
    "        where each cpd is a dictionary mapping rules to probabilities\n",
    "        see the output of get_toy_pcfg above\n",
    "    :returns: derivation (sequence of rules), yield (sequence of words)\n",
    "    \"\"\"\n",
    "    s = cfg.get(Nonterminal('S'))[0]\n",
    "    d = [s]\n",
    "    s = list(s._rhs)\n",
    "    while cfg.can_rewrite(s[-1]):\n",
    "        for i, symbol in enumerate(s):\n",
    "            if cfg.can_rewrite(symbol):\n",
    "                del s[i]\n",
    "                x = choose_empirically(cpds[symbol])\n",
    "                d.append([x, cpds[symbol][x]])\n",
    "                x = list(x._rhs)\n",
    "                s = s[:i] + x + s[i:]\n",
    "                break\n",
    "            else:\n",
    "                pass\n",
    "    y = ' '.join(map(str, s)).replace(\"'\", \"\")\n",
    "    return d, y"
   ]
  },
  {
   "cell_type": "markdown",
   "metadata": {
    "colab_type": "text",
    "id": "rNhtNfk0QDPM"
   },
   "source": [
    "<a name=\"ex6-10\" style=\"color:red\">**Exercise 6-10**</a> **[2 points]** A correct implementation should produce strings with certain patterns.  Get a large sample from your grammar (e.g. 1000 samples) and verify the following patterns.\n",
    "\n",
    "* **[1 point]** Sentences of the kind: \"... and ...\". The terminal `and` can only be generated by `CC`, which appears in 20% of the derivations containing `NP` and 10% of the derivations containing `VP`. Since every derivation contains at least one NP and at least one VP, we expect about 30% of the strings to match this pattern.\n",
    "* **[1 point]** According to our toy grammar, every sentence has at least one verb, and we can see from the distribution over verbs that running is the most popular thing to do amongst these animals. We expect about 40% of the strings to contain `run`."
   ]
  },
  {
   "cell_type": "code",
   "execution_count": 43,
   "metadata": {
    "colab": {
     "autoexec": {
      "startup": false,
      "wait_interval": 0
     },
     "base_uri": "https://localhost:8080/",
     "height": 54,
     "output_extras": [
      {
       "item_id": 1
      }
     ]
    },
    "colab_type": "code",
    "executionInfo": {
     "elapsed": 519,
     "status": "ok",
     "timestamp": 1521215599104,
     "user": {
      "displayName": "Grote Weegschaal",
      "photoUrl": "//lh4.googleusercontent.com/-KfZBK2pKfJ0/AAAAAAAAAAI/AAAAAAAAACU/Zxktak12jLw/s50-c-k-no/photo.jpg",
      "userId": "118191901390674533680"
     },
     "user_tz": -60
    },
    "id": "FSwm5wUEykaU",
    "outputId": "cba51fe2-260f-4102-82d8-bbbfd066f789"
   },
   "outputs": [
    {
     "name": "stdout",
     "output_type": "stream",
     "text": [
      "Ratio of 'and' should be about 0.3, is 0.269\n",
      "Ratio of 'run' should be about 0.4, is 0.422\n"
     ]
    }
   ],
   "source": [
    "G2, P_R = get_toy_pcfg()\n",
    "results = [generate_sample(G2, P_R) for _ in range(1000)]\n",
    "count_and = 0\n",
    "count_run = 0\n",
    "for r in results:\n",
    "    count_and += 'and' in r[1]\n",
    "    count_run += 'run' in r[1]\n",
    "print(\"Ratio of 'and' should be about 0.3, is\", count_and / 1000)\n",
    "print(\"Ratio of 'run' should be about 0.4, is\", count_run / 1000)"
   ]
  },
  {
   "cell_type": "markdown",
   "metadata": {
    "colab_type": "text",
    "id": "SzAQX5oLQDPO"
   },
   "source": [
    "In the rest of this this lab we will then consider the question:\n",
    "* how do estimate $P_R$ from data?\n",
    "\n",
    "Next lab we will investigate questions such as:\n",
    "* how do parse existing sentences with a CFG?\n",
    "* how do we predict a good tree?"
   ]
  },
  {
   "cell_type": "markdown",
   "metadata": {
    "colab_type": "text",
    "id": "4AUP-XkrQDPP"
   },
   "source": [
    "#  <a name=\"mle\"> MLE\n",
    "\n",
    "Now we can get a treebank from NLTK and compute maximum likelihood estimates for the various Categorical distributions.\n",
    "\n",
    "For a given rule $v \\rightarrow \\beta$, the maximum likelihood estimate is\n",
    "\\begin{equation}\n",
    "\\theta_{v \\rightarrow \\beta} = \\frac{\\text{count}_R(v \\rightarrow \\beta)}{\\sum_{\\beta'} \\text{count}_R(v \\rightarrow \\beta')} = \\frac{\\text{count}_R(v \\rightarrow \\beta)}{\\text{count}_V(v) }\n",
    "\\end{equation}\n",
    "\n",
    "\n",
    "We will work with **smoothed** lexical distributions. This means we will only smooth **preterminal** rules, that is,  rules where the LHS is a POS category and the RHS is a single terminal. \n",
    "\n",
    "For such preterminal rules the smoothed MLE solution is\n",
    "\\begin{equation}\n",
    "\\theta_{v \\rightarrow x} = \\frac{\\text{count}_R(v \\rightarrow \\beta) + \\alpha}{\\text{count}_V(v) +|\\Sigma|\\times \\alpha }\n",
    "\\end{equation}\n",
    "\n",
    "For smoothing to work we have to add an unknown word to the vocabulary of terminals of the grammar, as well as preterminals rules that map from POS categories to this unknown word. \n",
    "\n",
    "\n"
   ]
  },
  {
   "cell_type": "markdown",
   "metadata": {
    "colab_type": "text",
    "id": "UXACF_LCQDPP"
   },
   "source": [
    "Below we will use annotated data from NLTK. For that we have a few example of how to read data and we have provided code that converts from nltk internal objects to objects we have defined in this notebook."
   ]
  },
  {
   "cell_type": "code",
   "execution_count": 44,
   "metadata": {
    "colab": {
     "autoexec": {
      "startup": false,
      "wait_interval": 0
     },
     "base_uri": "https://localhost:8080/",
     "height": 54,
     "output_extras": [
      {
       "item_id": 2
      }
     ]
    },
    "colab_type": "code",
    "executionInfo": {
     "elapsed": 1729,
     "status": "ok",
     "timestamp": 1521215603716,
     "user": {
      "displayName": "Grote Weegschaal",
      "photoUrl": "//lh4.googleusercontent.com/-KfZBK2pKfJ0/AAAAAAAAAAI/AAAAAAAAACU/Zxktak12jLw/s50-c-k-no/photo.jpg",
      "userId": "118191901390674533680"
     },
     "user_tz": -60
    },
    "id": "2s0RVYTpQDPP",
    "outputId": "f0a9288b-1c4a-44d2-9c7d-c91c330d60e4"
   },
   "outputs": [],
   "source": [
    "import nltk\n",
    "try:\n",
    "    treebank = nltk.corpus.treebank.parsed_sents()\n",
    "except:\n",
    "    nltk.download('treebank')\n",
    "    treebank = nltk.corpus.treebank.parsed_sents()"
   ]
  },
  {
   "cell_type": "code",
   "execution_count": 45,
   "metadata": {
    "colab": {
     "autoexec": {
      "startup": false,
      "wait_interval": 0
     },
     "base_uri": "https://localhost:8080/",
     "height": 36,
     "output_extras": [
      {
       "item_id": 1
      }
     ]
    },
    "colab_type": "code",
    "executionInfo": {
     "elapsed": 2924,
     "status": "ok",
     "timestamp": 1521215610113,
     "user": {
      "displayName": "Grote Weegschaal",
      "photoUrl": "//lh4.googleusercontent.com/-KfZBK2pKfJ0/AAAAAAAAAAI/AAAAAAAAACU/Zxktak12jLw/s50-c-k-no/photo.jpg",
      "userId": "118191901390674533680"
     },
     "user_tz": -60
    },
    "id": "h0PlIrABQDPR",
    "outputId": "c6472555-1ec0-4e4b-ebee-870f10b436ea"
   },
   "outputs": [
    {
     "name": "stdout",
     "output_type": "stream",
     "text": [
      "3000\n"
     ]
    }
   ],
   "source": [
    "training_parses = treebank[:3000]\n",
    "print(len(training_parses))"
   ]
  },
  {
   "cell_type": "code",
   "execution_count": 46,
   "metadata": {
    "colab": {
     "autoexec": {
      "startup": false,
      "wait_interval": 0
     },
     "base_uri": "https://localhost:8080/",
     "height": 36,
     "output_extras": [
      {
       "item_id": 1
      }
     ]
    },
    "colab_type": "code",
    "executionInfo": {
     "elapsed": 1648,
     "status": "ok",
     "timestamp": 1521215612036,
     "user": {
      "displayName": "Grote Weegschaal",
      "photoUrl": "//lh4.googleusercontent.com/-KfZBK2pKfJ0/AAAAAAAAAAI/AAAAAAAAACU/Zxktak12jLw/s50-c-k-no/photo.jpg",
      "userId": "118191901390674533680"
     },
     "user_tz": -60
    },
    "id": "F5kPgvB-QDPS",
    "outputId": "5a5638fc-2f88-4a71-8b23-e0729e383591"
   },
   "outputs": [
    {
     "data": {
      "text/plain": [
       "900"
      ]
     },
     "execution_count": 46,
     "metadata": {},
     "output_type": "execute_result"
    }
   ],
   "source": [
    "test_parses = treebank[3000:3900]\n",
    "len(test_parses)"
   ]
  },
  {
   "cell_type": "code",
   "execution_count": 47,
   "metadata": {
    "colab": {
     "autoexec": {
      "startup": false,
      "wait_interval": 0
     },
     "base_uri": "https://localhost:8080/",
     "height": 36,
     "output_extras": [
      {
       "item_id": 1
      }
     ]
    },
    "colab_type": "code",
    "executionInfo": {
     "elapsed": 491,
     "status": "ok",
     "timestamp": 1521215612818,
     "user": {
      "displayName": "Grote Weegschaal",
      "photoUrl": "//lh4.googleusercontent.com/-KfZBK2pKfJ0/AAAAAAAAAAI/AAAAAAAAACU/Zxktak12jLw/s50-c-k-no/photo.jpg",
      "userId": "118191901390674533680"
     },
     "user_tz": -60
    },
    "id": "ItimVYF5QDPU",
    "outputId": "7a80e1b7-a694-45c8-99e2-fbb019397593"
   },
   "outputs": [
    {
     "data": {
      "text/plain": [
       "14"
      ]
     },
     "execution_count": 47,
     "metadata": {},
     "output_type": "execute_result"
    }
   ],
   "source": [
    "dev_parses = treebank[3900:]\n",
    "len(dev_parses)"
   ]
  },
  {
   "cell_type": "code",
   "execution_count": 48,
   "metadata": {
    "colab": {
     "autoexec": {
      "startup": false,
      "wait_interval": 0
     }
    },
    "colab_type": "code",
    "id": "wVVOSCczQDPV"
   },
   "outputs": [],
   "source": [
    "# You can visualise a tree as an image\n",
    "# dev_parses[0]  # yeah but not on like all installations"
   ]
  },
  {
   "cell_type": "code",
   "execution_count": 49,
   "metadata": {
    "colab": {
     "autoexec": {
      "startup": false,
      "wait_interval": 0
     },
     "base_uri": "https://localhost:8080/",
     "height": 555,
     "output_extras": [
      {
       "item_id": 1
      }
     ]
    },
    "colab_type": "code",
    "executionInfo": {
     "elapsed": 512,
     "status": "ok",
     "timestamp": 1521215614488,
     "user": {
      "displayName": "Grote Weegschaal",
      "photoUrl": "//lh4.googleusercontent.com/-KfZBK2pKfJ0/AAAAAAAAAAI/AAAAAAAAACU/Zxktak12jLw/s50-c-k-no/photo.jpg",
      "userId": "118191901390674533680"
     },
     "user_tz": -60
    },
    "id": "Pe-aBTC8QDPX",
    "outputId": "0b2212f5-d68c-45df-fd94-f98f347f3b4e"
   },
   "outputs": [
    {
     "name": "stdout",
     "output_type": "stream",
     "text": [
      "(S\n",
      "  (NP-SBJ\n",
      "    (CD Two)\n",
      "    (VBG leading)\n",
      "    (NN constitutional-law)\n",
      "    (NNS experts))\n",
      "  (VP\n",
      "    (VBD said)\n",
      "    (SBAR\n",
      "      (-NONE- 0)\n",
      "      (S\n",
      "        (NP-SBJ (NNP President) (NNP Bush))\n",
      "        (VP\n",
      "          (VBZ does)\n",
      "          (RB n't)\n",
      "          (VP\n",
      "            (VB have)\n",
      "            (NP\n",
      "              (DT the)\n",
      "              (JJ legal)\n",
      "              (NN authority)\n",
      "              (S\n",
      "                (NP-SBJ (-NONE- *))\n",
      "                (VP\n",
      "                  (TO to)\n",
      "                  (VP\n",
      "                    (VB exercise)\n",
      "                    (NP (DT a) (JJ line-item) (NN veto)))))))))))\n",
      "  (. .))\n"
     ]
    }
   ],
   "source": [
    "# and you can also visualise it as a nested bracketed string\n",
    "print(dev_parses[0])"
   ]
  },
  {
   "cell_type": "markdown",
   "metadata": {
    "colab_type": "text",
    "id": "lA0hiO6mQDPZ"
   },
   "source": [
    "Below we convert from nltk CFG production object to our own Rule object"
   ]
  },
  {
   "cell_type": "code",
   "execution_count": 50,
   "metadata": {
    "colab": {
     "autoexec": {
      "startup": false,
      "wait_interval": 0
     }
    },
    "colab_type": "code",
    "id": "uWtdQWRCQDPZ"
   },
   "outputs": [],
   "source": [
    "from nltk.grammar import Nonterminal as NLTKNonterminal\n",
    "\n",
    "\n",
    "def convert_nltk_rule(nltk_rule) -> Rule:\n",
    "    \"\"\"Here we convert from nltk production object to our own Rule object\"\"\"\n",
    "    lhs = Nonterminal(str(nltk_rule.lhs()))\n",
    "    rhs = []\n",
    "    for sym in nltk_rule.rhs():\n",
    "        if isinstance(sym, NLTKNonterminal):\n",
    "            rhs.append(Nonterminal(str(sym)))\n",
    "        else:\n",
    "            rhs.append(Terminal(str(sym)))\n",
    "    return Rule(lhs, rhs)"
   ]
  },
  {
   "cell_type": "markdown",
   "metadata": {
    "colab_type": "text",
    "id": "SAok2LPJQDPa"
   },
   "source": [
    "Here we make a CFG by inspecting the rules used in a treebank"
   ]
  },
  {
   "cell_type": "code",
   "execution_count": 51,
   "metadata": {
    "colab": {
     "autoexec": {
      "startup": false,
      "wait_interval": 0
     }
    },
    "colab_type": "code",
    "id": "lkFJO0WgQDPc"
   },
   "outputs": [],
   "source": [
    "def make_cfg(parse_trees, max_arity=4, start=Nonterminal('S')):\n",
    "    \"\"\"\n",
    "    Here we make a CFG by collecting rules used to in a treebank.\n",
    "    We impose a maximum arity because some annotated rules are incredibly long!\n",
    "\n",
    "    :param parse_trees: a collection of nltk trees\n",
    "    :param max_arity: maximum arity we want for our grammar (we discard rules longer than this)\n",
    "    :param start: the nonterminal that starts derivations in this grammar\n",
    "        - Penn treebank uses S as start symbol\n",
    "    :returns: a CFG object containing all rules used in parse_trees if they are not longer than what we want\n",
    "    \"\"\"\n",
    "    cfg = CFG(start)\n",
    "    for nltk_tree in parse_trees:\n",
    "        for nltk_rule in nltk_tree.productions():\n",
    "            rule = convert_nltk_rule(nltk_rule)\n",
    "            if rule.arity <= max_arity:\n",
    "                cfg.add(rule)\n",
    "    return cfg"
   ]
  },
  {
   "cell_type": "code",
   "execution_count": 52,
   "metadata": {
    "colab": {
     "autoexec": {
      "startup": false,
      "wait_interval": 0
     }
    },
    "colab_type": "code",
    "id": "3pWGEj2WQDPe"
   },
   "outputs": [],
   "source": [
    "ptb_grammar = make_cfg(training_parses, max_arity=4)"
   ]
  },
  {
   "cell_type": "code",
   "execution_count": 53,
   "metadata": {
    "colab": {
     "autoexec": {
      "startup": false,
      "wait_interval": 0
     },
     "base_uri": "https://localhost:8080/",
     "height": 128,
     "output_extras": [
      {
       "item_id": 1
      }
     ]
    },
    "colab_type": "code",
    "executionInfo": {
     "elapsed": 981,
     "status": "ok",
     "timestamp": 1521215624768,
     "user": {
      "displayName": "Grote Weegschaal",
      "photoUrl": "//lh4.googleusercontent.com/-KfZBK2pKfJ0/AAAAAAAAAAI/AAAAAAAAACU/Zxktak12jLw/s50-c-k-no/photo.jpg",
      "userId": "118191901390674533680"
     },
     "user_tz": -60
    },
    "id": "9_Tpa-CQQDPg",
    "outputId": "306e5a48-d2cd-4729-cdfe-e75685657e1b"
   },
   "outputs": [
    {
     "name": "stdout",
     "output_type": "stream",
     "text": [
      "PTB\n",
      "17537 rules\n",
      "10779 terminal\n",
      "668 nonterminal\n",
      "46 preterminals\n",
      "arity 4\n"
     ]
    }
   ],
   "source": [
    "print('PTB')\n",
    "print(len(ptb_grammar), 'rules')\n",
    "print(len(ptb_grammar.terminals), 'terminal')\n",
    "print(len(ptb_grammar.nonterminals), 'nonterminal')\n",
    "print(len(ptb_grammar.preterminals), 'preterminals')\n",
    "print('arity', ptb_grammar.arity)"
   ]
  },
  {
   "cell_type": "markdown",
   "metadata": {
    "colab_type": "text",
    "id": "xUvO0lUQQDPh"
   },
   "source": [
    "**Implementation** Now you will implement MLE for PCFGs with lexical smoothing."
   ]
  },
  {
   "cell_type": "markdown",
   "metadata": {
    "colab_type": "text",
    "id": "L-tao0f-QDPh"
   },
   "source": [
    "<a name=\"ex6-11\" style=\"color:red\">**Exercise 6-11**</a> **[4 points]** MLE for PCFGs\n",
    "\n",
    "* **[1 point]** Start by implementing `count_rules` below to gather counts from the data. Organise counts in a data structure similar to our $P_R$ in `get_toy_pcfg`, that is, a dictionary of dictionaries where the outer dict maps LHS to Rule objects, the inner dict maps from a Rule object to its count in the data.\n",
    "* **[1 point]** Implement Laplace smoothing for pre-terminal rules in `add_pseudo_counts_and_unk_rules`\n",
    "* **[1 point]** Estimate MLE parameters using the treebank `training_parses` above (first 3000 examples of NLTK's PTB data), and save your MLE solutions to a file where each line contains ```PROB LHS -> RHS```, make sure your file is sorted by LHS (lexicographically) and then by probability value (best first). Example:\n",
    "\n",
    "```\n",
    "0.6 NP -> N\n",
    "0.4 NP -> D N\n",
    "0.9 S -> NP VP\n",
    "0.1 S -> VP\n",
    "0.5 VP -> V\n",
    "0.5 VP -> VP VP\n",
    "```\n",
    "* **[1 point]** Show examples of string generated by sampling from the grammar using the function `generate_sample` you implemented earlier. \n"
   ]
  },
  {
   "cell_type": "code",
   "execution_count": 54,
   "metadata": {
    "colab": {
     "autoexec": {
      "startup": false,
      "wait_interval": 0
     },
     "base_uri": "https://localhost:8080/",
     "height": 7564,
     "output_extras": [
      {
       "item_id": 1
      }
     ]
    },
    "colab_type": "code",
    "executionInfo": {
     "elapsed": 17209,
     "status": "ok",
     "timestamp": 1521213578430,
     "user": {
      "displayName": "Bram Otten",
      "photoUrl": "https://lh3.googleusercontent.com/a/default-user=s128",
      "userId": "110618989541510237728"
     },
     "user_tz": -60
    },
    "id": "IpsQLZdfQDPi",
    "outputId": "614e4cbb-0522-47ce-d98d-d0a42e0f95de"
   },
   "outputs": [
    {
     "name": "stdout",
     "output_type": "stream",
     "text": [
      "[NN] {\"('experience',)\": 1, \"('size',)\": 1, \"('buildup',)\": 1, \"('assemblyline',)\": 1, \"('PHOTOGRAPH',)\": 1, \"('End',)\": 1, \"('paper',)\": 1, \"('rendering',)\": 1, \"('ounce',)\": 1, \"('team',)\": 1, \"('resolution',)\": 1, \"('residence',)\": 1, \"('audit',)\": 1, \"('science',)\": 1, \"('network',)\": 1, \"('operator',)\": 1, \"('course',)\": 1, \"('vintage',)\": 1, \"('centimeter',)\": 1, \"('enforcement',)\": 1, \"('partner',)\": 1, \"('motive',)\": 1, \"('road',)\": 1, \"('syndication',)\": 1, \"('parking',)\": 1, \"('Everyone',)\": 1, \"('measurement',)\": 1, \"('health',)\": 1, \"('bull',)\": 1, \"('restructure',)\": 1, \"('agriculture',)\": 1, \"('speculator',)\": 1, \"('closeup',)\": 1, \"('majority',)\": 1, \"('socialstudies',)\": 1, \"('creature',)\": 1, \"('expert',)\": 1, \"('wonder',)\": 1, \"('backing',)\": 1, \"('surrender',)\": 1, \"('message',)\": 1, \"('web',)\": 1, \"('giant',)\": 1, \"('Trading',)\": 1, \"('bestseller',)\": 1, \"('prejudice',)\": 1, \"('dismissal',)\": 1, \"('significance',)\": 1, \"('attitude',)\": 1, \"('university',)\": 1, \"('rash',)\": 1, \"('fret',)\": 1, \"('retort',)\": 1, \"('reference',)\": 1, \"('waterworks',)\": 1, \"('value',)\": 1, \"('Erbamont',)\": 1, \"('watch',)\": 1, \"('tissue',)\": 1, \"('glass',)\": 1, \"('integration',)\": 1, \"('plane',)\": 1, \"('catch',)\": 1, \"('freeenterprise',)\": 1, \"('lowaltitude',)\": 1, \"('knowledge',)\": 1, \"('workforce',)\": 1, \"('novelist',)\": 1, \"('rebellion',)\": 1, \"('singlefamily',)\": 1, \"('act',)\": 1, \"('proposition',)\": 1, \"('desktop',)\": 1, \"('homelessness',)\": 1, \"('designer',)\": 1, \"('cocoa',)\": 1, \"('rampage',)\": 1, \"('withdrawal',)\": 1, \"('Literacy',)\": 1, \"('cardevelopment',)\": 1, \"('Policy',)\": 1, \"('economist',)\": 1, \"('museum',)\": 1, \"('publication',)\": 1, \"('recorder',)\": 1, \"('rival',)\": 1, \"('load',)\": 1, \"('Use',)\": 1, \"('pound',)\": 1, \"('category',)\": 1, \"('privilege',)\": 1, \"('rope',)\": 1, \"('decrease',)\": 1, \"('working',)\": 1, \"('uptick',)\": 1, \"('eye',)\": 1, \"('vineyard',)\": 1, \"('sickness',)\": 1, \"('breakfast',)\": 1, \"('resignation',)\": 1, \"('concept',)\": 1, \"('infusion',)\": 1, \"('candidate',)\": 1, \"('reaction',)\": 1, \"('veal',)\": 1, \"('moratorium',)\": 1, \"('tort',)\": 1, \"('faculty',)\": 1, \"('hope',)\": 1, \"('powwow',)\": 1, \"('secretary',)\": 1, \"('insurance',)\": 1, \"('buyback',)\": 1, \"('weakening',)\": 1, \"('air',)\": 1, \"('DEFENSE',)\": 1, \"('drought',)\": 1, \"('persuasion',)\": 1, \"('item',)\": 1, \"('subscription',)\": 1, \"('congregation',)\": 1, \"('recordkeeping',)\": 1, \"('likeness',)\": 1, \"('buffet',)\": 1, \"('EVERYONE',)\": 1, \"('ruling',)\": 1, \"('block',)\": 1, \"('favor',)\": 1, \"('consomme',)\": 1, \"('Government',)\": 1, \"('bang',)\": 1, \"('executive',)\": 1, \"('union',)\": 1, \"('turnaround',)\": 1, \"('gallium',)\": 1, \"('chauffeur',)\": 1, \"('lender',)\": 1, \"('amendment',)\": 1, \"('mainframe',)\": 1, \"('safety',)\": 1, \"('correspondence',)\": 1, \"('diagram',)\": 1, \"('death',)\": 1, \"('Spending',)\": 1, \"('consequence',)\": 1, \"('print',)\": 1, \"('nation',)\": 1, \"('highway',)\": 1, \"('relation',)\": 1, \"('approval',)\": 1, \"('image',)\": 1, \"('film',)\": 1, \"('suffering',)\": 1, \"('prepayment',)\": 1, \"('purchase',)\": 1, \"('branch',)\": 1, \"('diaper',)\": 1, \"('pretext',)\": 1, \"('mininumwage',)\": 1, \"('reliance',)\": 1, \"('bridge',)\": 1, \"('try',)\": 1, \"('faithful',)\": 1, \"('manager',)\": 1, \"('depositary',)\": 1, \"('takeover',)\": 1, \"('illness',)\": 1, \"('cement',)\": 1, \"('deputy',)\": 1, \"('royalty',)\": 1, \"('brat',)\": 1, \"('litigation',)\": 1, \"('contribution',)\": 1, \"('Copperweld',)\": 1, \"('purpose',)\": 1, \"('suppression',)\": 1, \"('crapshoot',)\": 1, \"('province',)\": 1, \"('store',)\": 1, \"('junk',)\": 1, \"('comfort',)\": 1, \"('unit',)\": 1, \"('underwriter',)\": 1, \"('professor',)\": 1, \"('mignon',)\": 1, \"('anticipation',)\": 1, \"('claim',)\": 1, \"('boutique',)\": 1, \"('leap',)\": 1, \"('assault',)\": 1, \"('midyear',)\": 1, \"('artist',)\": 1, \"('dismay',)\": 1, \"('cheating',)\": 1, \"('Catch',)\": 1, \"('researcher',)\": 1, \"('restructuring',)\": 1, \"('tooth',)\": 1, \"('agreement',)\": 1, \"('label',)\": 1, \"('sky',)\": 1, \"('delivery',)\": 1, \"('dessert',)\": 1, \"('fairness',)\": 1, \"('dean',)\": 1, \"('woman',)\": 1, \"('bitterness',)\": 1, \"('slack',)\": 1, \"('standard',)\": 1, \"('strategy',)\": 1, \"('listing',)\": 1, \"('Cartoonist',)\": 1, \"('match',)\": 1, \"('response',)\": 1, \"('Merchant',)\": 1, \"('force',)\": 1, \"('mesothelioma',)\": 1, \"('gasoline',)\": 1, \"('solicitor',)\": 1, \"('loss',)\": 1, \"('club',)\": 1, \"('design',)\": 1, \"('dam',)\": 1, \"('rim',)\": 1, \"('opinion',)\": 1, \"('junkbond',)\": 1, \"('couple',)\": 1, \"('globe',)\": 1, \"('century',)\": 1, \"('citation',)\": 1, \"('man',)\": 1, \"('curriculum',)\": 1, \"('Section',)\": 1, \"('owner',)\": 1, \"('companion',)\": 1, \"('debut',)\": 1, \"('passport',)\": 1, \"('downturn',)\": 1, \"('group',)\": 1, \"('process',)\": 1, \"('office',)\": 1, \"('governor',)\": 1, \"('machine',)\": 1, \"('apartment',)\": 1, \"('something',)\": 1, \"('neighborhood',)\": 1, \"('wife',)\": 1, \"('document',)\": 1, \"('renovation',)\": 1, \"('megastadium',)\": 1, \"('idea',)\": 1, \"('completion',)\": 1, \"('day',)\": 1, \"('poor',)\": 1, \"('discretion',)\": 1, \"('tender',)\": 1, \"('evensong',)\": 1, \"('intervention',)\": 1, \"('weight',)\": 1, \"('industry',)\": 1, \"('liquidnitrogen',)\": 1, \"('somebody',)\": 1, \"('spokeswoman',)\": 1, \"('prostitute',)\": 1, \"('pep',)\": 1, \"('farm',)\": 1, \"('aide',)\": 1, \"('training',)\": 1, \"('food',)\": 1, \"('auction',)\": 1, \"('wholesale',)\": 1, \"('holding',)\": 1, \"('lifeinsurance',)\": 1, \"('tea',)\": 1, \"('possibility',)\": 1, \"('murder',)\": 1, \"('quality',)\": 1, \"('rally',)\": 1, \"('Crime',)\": 1, \"('succession',)\": 1, \"('batting',)\": 1, \"('insolvency',)\": 1, \"('light',)\": 1, \"('are',)\": 1, \"('code',)\": 1, \"('police',)\": 1, \"('ascendency',)\": 1, \"('tobacco',)\": 1, \"('lung',)\": 1, \"('stalemate',)\": 1, \"('turmoil',)\": 1, \"('merchandise',)\": 1, \"('beneficiary',)\": 1, \"('head',)\": 1, \"('buy',)\": 1, \"('absurdity',)\": 1, \"('flap',)\": 1, \"('fault',)\": 1, \"('attack',)\": 1, \"('pattern',)\": 1, \"('crunch',)\": 1, \"('downside',)\": 1, \"('WAR',)\": 1, \"('sigh',)\": 1, \"('prosecution',)\": 1, \"('benefit',)\": 1, \"('culprit',)\": 1, \"('following',)\": 1, \"('estimation',)\": 1, \"('casino',)\": 1, \"('halt',)\": 1, \"('sympathy',)\": 1, \"('employment',)\": 1, \"('turn',)\": 1, \"('Publishing',)\": 1, \"('sheaf',)\": 1, \"('help',)\": 1, \"('core',)\": 1, \"('electricity',)\": 1, \"('sufficiency',)\": 1, \"('inadequacy',)\": 1, \"('toilet',)\": 1, \"('obsession',)\": 1, \"('quota',)\": 1, \"('Texan',)\": 1, \"('living',)\": 1, \"('dancing',)\": 1, \"('flow',)\": 1, \"('individual',)\": 1, \"('magazine',)\": 1, \"('registration',)\": 1, \"('drug',)\": 1, \"('year',)\": 1, \"('cargo',)\": 1, \"('decorator',)\": 1, \"('statue',)\": 1, \"('censorship',)\": 1, \"('can',)\": 1, \"('skin',)\": 1, \"('pasta',)\": 1, \"('empire',)\": 1, \"('fluctuation',)\": 1, \"('astonishment',)\": 1, \"('community',)\": 1, \"('tradition',)\": 1, \"('hightechnology',)\": 1, \"('doubt',)\": 1, \"('hypocrisy',)\": 1, \"('conversion',)\": 1, \"('credibility',)\": 1, \"('perception',)\": 1, \"('fire',)\": 1, \"('adviser',)\": 1, \"('figure',)\": 1, \"('high',)\": 1, \"('reporting',)\": 1, \"('celebrity',)\": 1, \"('testing',)\": 1, \"('tow',)\": 1, \"('onethird',)\": 1, \"('milk',)\": 1, \"('grandstander',)\": 1, \"('business',)\": 1, \"('flexibility',)\": 1, \"('motorhome',)\": 1, \"('bill',)\": 1, \"('indicator',)\": 1, \"('mudslinging',)\": 1, \"('dominance',)\": 1, \"('similarity',)\": 1, \"('leasing',)\": 1, \"('note',)\": 1, \"('iota',)\": 1, \"('maintenance',)\": 1, \"('stability',)\": 1, \"('pack',)\": 1, \"('part',)\": 1, \"('editorial',)\": 1, \"('track',)\": 1, \"('difficulty',)\": 1, \"('rout',)\": 1, \"('interview',)\": 1, \"('profit',)\": 1, \"('dozen',)\": 1, \"('cause',)\": 1, \"('crisis',)\": 1, \"('achievementtest',)\": 1, \"('heartland',)\": 1, \"('dustup',)\": 1, \"('representative',)\": 1, \"('headline',)\": 1, \"('job',)\": 1, \"('speculation',)\": 1, \"('buck',)\": 1, \"('example',)\": 1, \"('Californian',)\": 1, \"('prayer',)\": 1, \"('caution',)\": 1, \"('sensation',)\": 1, \"('permission',)\": 1, \"('liability',)\": 1, \"('problem',)\": 1, \"('changeringing',)\": 1, \"('location',)\": 1, \"('affair',)\": 1, \"('decay',)\": 1, \"('thrift',)\": 1, \"('upturn',)\": 1, \"('power',)\": 1, \"('departure',)\": 1, \"('behest',)\": 1, \"('victory',)\": 1, \"('bellringer',)\": 1, \"('marketer',)\": 1, \"('threat',)\": 1, \"('prison',)\": 1, \"('party',)\": 1, \"('Carrier',)\": 1, \"('judiciary',)\": 1, \"('reason',)\": 1, \"('prosecutor',)\": 1, \"('theme',)\": 1, \"('baseball',)\": 1, \"('bat',)\": 1, \"('spokewoman',)\": 1, \"('question',)\": 1, \"('volume',)\": 1, \"('survival',)\": 1, \"('petition',)\": 1, \"('assertion',)\": 1, \"('lens',)\": 1, \"('scale',)\": 1, \"('forum',)\": 1, \"('plot',)\": 1, \"('midnight',)\": 1, \"('management',)\": 1, \"('inventiveness',)\": 1, \"('nobody',)\": 1, \"('career',)\": 1, \"('meal',)\": 1, \"('sum',)\": 1, \"('exhibition',)\": 1, \"('demand',)\": 1, \"('maze',)\": 1, \"('subskill',)\": 1, \"('winter',)\": 1, \"('smoke',)\": 1, \"('RULING',)\": 1, \"('CREATOR'S',)\": 1, \"('trouble',)\": 1, \"('dormitory',)\": 1, \"('dinner',)\": 1, \"('harm',)\": 1, \"('water',)\": 1, \"('envoy',)\": 1, \"('nature',)\": 1, \"('dexterity',)\": 1, \"('world',)\": 1, \"('frontseat',)\": 1, \"('blessing',)\": 1, \"('kindness',)\": 1, \"('restaurant',)\": 1, \"('protection',)\": 1, \"('publishing',)\": 1, \"('retaliation',)\": 1, \"('fabricator',)\": 1, \"('courtroom',)\": 1, \"('sign',)\": 1, \"('beverage',)\": 1, \"('readership',)\": 1, \"('factor',)\": 1, \"('array',)\": 1, \"('routine',)\": 1, \"('attendance',)\": 1, \"('playwright',)\": 1, \"('Dividend',)\": 1, \"('syndrome',)\": 1, \"('wheat',)\": 1, \"('cell',)\": 1, \"('fraud',)\": 1, \"('controversy',)\": 1, \"('history',)\": 1, \"('History',)\": 1, \"('refund',)\": 1, \"('Cruise',)\": 1, \"('exhaust',)\": 1, \"('slippage',)\": 1, \"('education',)\": 1, \"('counter',)\": 1, \"('truck',)\": 1, \"('Law',)\": 1, \"('slate',)\": 1, \"('violation',)\": 1, \"('downtown',)\": 1, \"('public',)\": 1, \"('stuff',)\": 1, \"('mill',)\": 1, \"('communication',)\": 1, \"('rapprochement',)\": 1, \"('lieu',)\": 1, \"('55yearold',)\": 1, \"('Spirit',)\": 1, \"('innercity',)\": 1, \"('worry',)\": 1, \"('insistence',)\": 1, \"('appreciation',)\": 1, \"('bin',)\": 1, \"('person',)\": 1, \"('cut',)\": 1, \"('incident',)\": 1, \"('option',)\": 1, \"('precedent',)\": 1, \"('technique',)\": 1, \"('funding',)\": 1, \"('age',)\": 1, \"('law',)\": 1, \"('kicker',)\": 1, \"('jam',)\": 1, \"('rule',)\": 1, \"('retail',)\": 1, \"('collapse',)\": 1, \"('contract',)\": 1, \"('supply',)\": 1, \"('campaigner',)\": 1, \"('fan',)\": 1, \"('war',)\": 1, \"('foundation',)\": 1, \"('tag',)\": 1, \"('change',)\": 1, \"('resort',)\": 1, \"('band',)\": 1, \"('incentive',)\": 1, \"('lobbyist',)\": 1, \"('youth',)\": 1, \"('language',)\": 1, \"('INTERBANK',)\": 1, \"('week',)\": 1, \"('subject',)\": 1, \"('start',)\": 1, \"('borrowing',)\": 1, \"('bankruptcy',)\": 1, \"('work',)\": 1, \"('cow',)\": 1, \"('railroad',)\": 1, \"('pinning',)\": 1, \"('divergence',)\": 1, \"('phone',)\": 1, \"('behavior',)\": 1, \"('barrel',)\": 1, \"('cardmember',)\": 1, \"('examination',)\": 1, \"('embassy',)\": 1, \"('chatter',)\": 1, \"('disposal',)\": 1, \"('pianistcomedian',)\": 1, \"('table',)\": 1, \"('membership',)\": 1, \"('box',)\": 1, \"('investment',)\": 1, \"('volunteer',)\": 1, \"('manpower',)\": 1, \"('intention',)\": 1, \"('parent',)\": 1, \"('minimum',)\": 1, \"('clouding',)\": 1, \"('currency',)\": 1, \"('logo',)\": 1, \"('specialty',)\": 1, \"('recognition',)\": 1, \"('Yesterday',)\": 1, \"('counterattack',)\": 1, \"('1980s',)\": 1, \"('subscriber',)\": 1, \"('deterioration',)\": 1, \"('harassment',)\": 1, \"('marketplace',)\": 1, \"('study',)\": 1, \"('biscuit',)\": 1, \"('temperature',)\": 1, \"('count',)\": 1, \"('hoopla',)\": 1, \"('American',)\": 1, \"('overhead',)\": 1, \"('goverment',)\": 1, \"('area',)\": 1, \"('awareness',)\": 1, \"('environment',)\": 1, \"('muster',)\": 1, \"('tension',)\": 1, \"('patent',)\": 1, \"('advantage',)\": 1, \"('suspension',)\": 1, \"('appropriation',)\": 1, \"('minority',)\": 1, \"('concentration',)\": 1, \"('lobster',)\": 1, \"('player',)\": 1, \"('mobster',)\": 1, \"('nose',)\": 1, \"('cycle',)\": 1, \"('speech',)\": 1, \"('DEPOSIT',)\": 1, \"('yield',)\": 1, \"('hair',)\": 1, \"('coliseum',)\": 1, \"('visit',)\": 1, \"('stable',)\": 1, \"('result',)\": 1, \"('effect',)\": 1, \"('pollution',)\": 1, \"('race',)\": 1, \"('profitability',)\": 1, \"('crusade',)\": 1, \"('curse',)\": 1, \"('producer',)\": 1, \"('equity',)\": 1, \"('consideration',)\": 1, \"('property',)\": 1, \"('efficiency',)\": 1, \"('sketch',)\": 1, \"('tramp',)\": 1, \"('faith',)\": 1, \"('recyclability',)\": 1, \"('Propaganda',)\": 1, \"('petroleum',)\": 1, \"('marketing',)\": 1, \"('cartoonist',)\": 1, \"('trap',)\": 1, \"('donor',)\": 1, \"('master',)\": 1, \"('premises',)\": 1, \"('Diaper',)\": 1, \"('right',)\": 1, \"('chassis',)\": 1, \"('domination',)\": 1, \"('compound',)\": 1, \"('Root',)\": 1, \"('anyone',)\": 1, \"('headquarters',)\": 1, \"('quarter',)\": 1, \"('spending',)\": 1, \"('conference',)\": 1, \"('coverage',)\": 1, \"('reasoning',)\": 1, \"('unpopularity',)\": 1, \"('craze',)\": 1, \"('list',)\": 1, \"('interference',)\": 1, \"('slogan',)\": 1, \"('tenth',)\": 1, \"('plea',)\": 1, \"('venture',)\": 1, \"('Asia',)\": 1, \"('irony',)\": 1, \"('landing',)\": 1, \"('commodity',)\": 1, \"('protest',)\": 1, \"('conduct',)\": 1, \"('company',)\": 1, \"('feature',)\": 1, \"('indexfund',)\": 1, \"('shot',)\": 1, \"('version',)\": 1, \"('retardation',)\": 1, \"('purhasing',)\": 1, \"('participation',)\": 1, \"('corn',)\": 1, \"('remodeling',)\": 1, \"('nutrition',)\": 1, \"('stadium',)\": 1, \"('checking',)\": 1, \"('goodfaith',)\": 1, \"('organization',)\": 1, \"('Solution',)\": 1, \"('back',)\": 1, \"('philosophy',)\": 1, \"('disease',)\": 1, \"('position',)\": 1, \"('pioneer',)\": 1, \"('quantity',)\": 1, \"('brain',)\": 1, \"('disregard',)\": 1, \"('level',)\": 1, \"('sheep',)\": 1, \"('rapport',)\": 1, \"('spread',)\": 1, \"('beerbelly',)\": 1, \"('ordeal',)\": 1, \"('matter',)\": 1, \"('prizefighter',)\": 1, \"('declaration',)\": 1, \"('Today',)\": 1, \"('schooldistrict',)\": 1, \"('Sterling',)\": 1, \"('Labor',)\": 1, \"('loser',)\": 1, \"('oilman',)\": 1, \"('refocusing',)\": 1, \"('pretax',)\": 1, \"('need',)\": 1, \"('effort',)\": 1, \"('net',)\": 1, \"('wrath',)\": 1, \"('mainland',)\": 1, \"('centennial',)\": 1, \"('Program',)\": 1, \"('plan',)\": 1, \"('deal',)\": 1, \"('climate',)\": 1, \"('wake',)\": 1, \"('playing',)\": 1, \"('romance',)\": 1, \"('closing',)\": 1, \"('city',)\": 1, \"('joy',)\": 1, \"('surgeon',)\": 1, \"('toast',)\": 1, \"('concern',)\": 1, \"('sogoshosha',)\": 1, \"('hint',)\": 1, \"('len',)\": 1, \"('bass',)\": 1, \"('N.V',)\": 1, \"('broker',)\": 1, \"('shambles',)\": 1, \"('finding',)\": 1, \"('privacy',)\": 1, \"('dialogue',)\": 1, \"('character',)\": 1, \"('land',)\": 1, \"('recess',)\": 1, \"('unraveling',)\": 1, \"('series',)\": 1, \"('gunship',)\": 1, \"('sunlight',)\": 1, \"('announcer',)\": 1, \"('gelatin',)\": 1, \"('acne',)\": 1, \"('gold',)\": 1, \"('beauty',)\": 1, \"('remainder',)\": 1, \"('Ringing',)\": 1, \"('potential',)\": 1, \"('housing',)\": 1, \"('summons',)\": 1, \"('asbestos',)\": 1, \"('stance',)\": 1, \"('incest',)\": 1, \"('newsstand',)\": 1, \"('tariff',)\": 1, \"('exclusion',)\": 1, \"('applicability',)\": 1, \"('rock',)\": 1, \"('misdemeanor',)\": 1, \"('limbo',)\": 1, \"('rise',)\": 1, \"('Drink',)\": 1, \"('pain',)\": 1, \"('relevance',)\": 1, \"('election',)\": 1, \"('return',)\": 1, \"('stereo',)\": 1, \"('truthinlending',)\": 1, \"('wage',)\": 1, \"('press',)\": 1, \"('station',)\": 1, \"('deadwood',)\": 1, \"('twindam',)\": 1, \"('subindustry',)\": 1, \"('test',)\": 1, \"('strength',)\": 1, \"('guest',)\": 1, \"('Volatility',)\": 1, \"('indexarbitrage',)\": 1, \"('defense',)\": 1, \"('solicitation',)\": 1, \"('A.',)\": 1, \"('production',)\": 1, \"('aerospace',)\": 1, \"('Stock',)\": 1, \"('disagreement',)\": 1, \"('adult',)\": 1, \"('diamond',)\": 1, \"('compensation',)\": 1, \"('Year',)\": 1, \"('Seed',)\": 1, \"('recession',)\": 1, \"('overtime',)\": 1, \"('impatient',)\": 1, \"('Montedison',)\": 1, \"('male',)\": 1, \"('mode',)\": 1, \"('incentivebonus',)\": 1, \"('turnover',)\": 1, \"('yen',)\": 1, \"('worthiness',)\": 1, \"('nervousness',)\": 1, \"('lady',)\": 1, \"('ton',)\": 1, \"('common',)\": 1, \"('conglomerate',)\": 1, \"('bell',)\": 1, \"('diethylstilbestrol',)\": 1, \"('chain',)\": 1, \"('savings',)\": 1, \"('%',)\": 1, \"('installment',)\": 1, \"('complaint',)\": 1, \"('investor',)\": 1, \"('valuation',)\": 1, \"('shop',)\": 1, \"('behalf',)\": 1, \"('projector',)\": 1, \"('talk',)\": 1, \"('reputation',)\": 1, \"('criticism',)\": 1, \"('greed',)\": 1, \"('lesson',)\": 1, \"('burden',)\": 1, \"('Northeast',)\": 1, \"('technology',)\": 1, \"('case',)\": 1, \"('ticket',)\": 1, \"('spokesman',)\": 1, \"('row',)\": 1, \"('female',)\": 1, \"('Output',)\": 1, \"('consent',)\": 1, \"('progress',)\": 1, \"('information',)\": 1, \"('girlfriend',)\": 1, \"('referenda',)\": 1, \"('last',)\": 1, \"('evening',)\": 1, \"('while',)\": 1, \"('one',)\": 1, \"('hit',)\": 1, \"('report',)\": 1, \"('jury',)\": 1, \"('Market',)\": 1, \"('jeopardy',)\": 1, \"('FAMILY',)\": 1, \"('meatpacking',)\": 1, \"('offender',)\": 1, \"('population',)\": 1, \"('grandfather',)\": 1, \"('taste',)\": 1, \"('UNION',)\": 1, \"('extension',)\": 1, \"('slide',)\": 1, \"('benchmark',)\": 1, \"('roadblock',)\": 1, \"('fuel',)\": 1, \"('bar',)\": 1, \"('welfare',)\": 1, \"('warning',)\": 1, \"('launch',)\": 1, \"('Backseat',)\": 1, \"('minus',)\": 1, \"('repayment',)\": 1, \"('transaction',)\": 1, \"('rollover',)\": 1, \"('score',)\": 1, \"('ministry',)\": 1, \"('engineer',)\": 1, \"('explosion',)\": 1, \"('writer',)\": 1, \"('campus',)\": 1, \"('maximum',)\": 1, \"('newsroom',)\": 1, \"('ban',)\": 1, \"('abuse',)\": 1, \"('worsening',)\": 1, \"('helm',)\": 1, \"('Recess',)\": 1, \"('genie',)\": 1, \"('date',)\": 1, \"('arrival',)\": 1, \"('rider',)\": 1, \"('caller',)\": 1, \"('passbook',)\": 1, \"('media',)\": 1, \"('specialist',)\": 1, \"('forestproduct',)\": 1, \"('downfall',)\": 1, \"('friendship',)\": 1, \"('Champagne',)\": 1, \"('trader',)\": 1, \"('ballpark',)\": 1, \"('merger',)\": 1, \"('state',)\": 1, \"('bronze',)\": 1, \"('shame',)\": 1, \"('stand',)\": 1, \"('raspberry',)\": 1, \"('species',)\": 1, \"('den',)\": 1, \"('auto',)\": 1, \"('novel',)\": 1, \"('number',)\": 1, \"('secret',)\": 1, \"('Micronite',)\": 1, \"('bidding',)\": 1, \"('retailing',)\": 1, \"('circle',)\": 1, \"('rhetoric',)\": 1, \"('summer',)\": 1, \"('blindfold',)\": 1, \"('scoop',)\": 1, \"('depository',)\": 1, \"('honor',)\": 1, \"('hegemony',)\": 1, \"('bellwether',)\": 1, \"('ground',)\": 1, \"('programtrading',)\": 1, \"('loan',)\": 1, \"('actor',)\": 1, \"('creator',)\": 1, \"('cosmetic',)\": 1, \"('front',)\": 1, \"('disaffiliation',)\": 1, \"('touch',)\": 1, \"('preparation',)\": 1, \"('borough',)\": 1, \"('sociology',)\": 1, \"('Something',)\": 1, \"('slew',)\": 1, \"('introduction',)\": 1, \"('subtraction',)\": 1, \"('electricutility',)\": 1, \"('ball',)\": 1, \"('sidewalk',)\": 1, \"('initiative',)\": 1, \"('Power',)\": 1, \"('copyright',)\": 1, \"('condition',)\": 1, \"('kind',)\": 1, \"('fragmentation',)\": 1, \"('Source',)\": 1, \"('limitedpartnership',)\": 1, \"('elite',)\": 1, \"('yesterday',)\": 1, \"('division',)\": 1, \"('handling',)\": 1, \"('oil',)\": 1, \"('occupant',)\": 1, \"('morning',)\": 1, \"('senate',)\": 1, \"('Everybody',)\": 1, \"('current',)\": 1, \"('cloud',)\": 1, \"('liberty',)\": 1, \"('center',)\": 1, \"('juggernaut',)\": 1, \"('intoxication',)\": 1, \"('prototype',)\": 1, \"('reduction',)\": 1, \"('care',)\": 1, \"('leash',)\": 1, \"('Card',)\": 1, \"('poverty',)\": 1, \"('country',)\": 1, \"('involvement',)\": 1, \"('software',)\": 1, \"('stigma',)\": 1, \"('blank',)\": 1, \"('card',)\": 1, \"('airline',)\": 1, \"('period',)\": 1, \"('name',)\": 1, \"('Wine',)\": 1, \"('investing',)\": 1, \"('intensity',)\": 1, \"('combination',)\": 1, \"('expansion',)\": 1, \"('fraction',)\": 1, \"('hostile',)\": 1, \"('institute',)\": 1, \"('panel',)\": 1, \"('opposition',)\": 1, \"('distribution',)\": 1, \"('limit',)\": 1, \"('grade',)\": 1, \"('assistant',)\": 1, \"('renewal',)\": 1, \"('carrier',)\": 1, \"('reader',)\": 1, \"('art',)\": 1, \"('vice',)\": 1, \"('total',)\": 1, \"('chip',)\": 1, \"('reporter',)\": 1, \"('steelmaker',)\": 1, \"('remorse',)\": 1, \"('denial',)\": 1, \"('energy',)\": 1, \"('apology',)\": 1, \"('fastfood',)\": 1, \"('classroom',)\": 1, \"('Drug',)\": 1, \"('heart',)\": 1, \"('brokerage',)\": 1, \"('and',)\": 1, \"('notice',)\": 1, \"('taxpayer',)\": 1, \"('mania',)\": 1, \"('spouse',)\": 1, \"('Ballot',)\": 1, \"('page',)\": 1, \"('car',)\": 1, \"('association',)\": 1, \"('dollar',)\": 1, \"('toll',)\": 1, \"('framework',)\": 1, \"('inkling',)\": 1, \"('S&L',)\": 1, \"('motion',)\": 1, \"('acre',)\": 1, \"('spinoff',)\": 2, \"('mayor',)\": 1, \"('enrollment',)\": 1, \"('bonus',)\": 1, \"('portion',)\": 1, \"('homeless',)\": 1, \"('startup',)\": 1, \"('insurer',)\": 1, \"('arm',)\": 1, \"('tire',)\": 1, \"('salary',)\": 1, \"('disarray',)\": 1, \"('model',)\": 1, \"('forecast',)\": 1, \"('baby',)\": 1, \"('freedom',)\": 1, \"('seller',)\": 1, \"('fledgling',)\": 1, \"('supermarket',)\": 1, \"('magnitude',)\": 1, \"('separation',)\": 1, \"('fashion',)\": 1, \"('handful',)\": 1, \"('distributor',)\": 1, \"('stress',)\": 1, \"('kidney',)\": 1, \"('piracy',)\": 1, \"('Pretax',)\": 1, \"('rancor',)\": 1, \"('committee',)\": 1, \"('loyalty',)\": 1, \"('point',)\": 1, \"('custom',)\": 1, \"('account',)\": 1, \"('cabinet',)\": 1, \"('circulation',)\": 1, \"('blow',)\": 1, \"('sentiment',)\": 1, \"('limitation',)\": 1, \"('Japanese',)\": 1, \"('weapon',)\": 1, \"('inverse',)\": 1, \"('mousseline',)\": 1, \"('None',)\": 1, \"('congressman',)\": 1, \"('disaster',)\": 1, \"('sweat',)\": 1, \"('fate',)\": 1, \"('circuitbreaker',)\": 1, \"('removal',)\": 1, \"('leader',)\": 1, \"('intelligence',)\": 1, \"('independence',)\": 1, \"('textile',)\": 1, \"('director',)\": 1, \"('abortionist',)\": 1, \"('interestrate',)\": 1, \"('street',)\": 1, \"('vacation',)\": 1, \"('malnutrition',)\": 1, \"('PAPER',)\": 1, \"('preference',)\": 1, \"('gas',)\": 1, \"('stock',)\": 1, \"('democracy',)\": 1, \"('mortgage',)\": 1, \"('clause',)\": 1, \"('wholesaler',)\": 1, \"('legislature',)\": 1, \"('obligation',)\": 1, \"('supplier',)\": 1, \"('Highway',)\": 1, \"('unknown',)\": 1, \"('smallcompany',)\": 1, \"('railing',)\": 1, \"('widow',)\": 1, \"('future',)\": 1, \"('injury',)\": 1, \"('calculator',)\": 1, \"('thread',)\": 1, \"('virtue',)\": 1, \"('lion',)\": 1, \"('notion',)\": 1, \"('capital',)\": 1, \"('lifting',)\": 1, \"('detectivestory',)\": 1, \"('drawing',)\": 1, \"('overcrowding',)\": 1, \"('editing',)\": 1, \"('supreme',)\": 1, \"('courage',)\": 1, \"('manufacturer',)\": 1, \"('plight',)\": 1, \"('downgrading',)\": 1, \"('World',)\": 1, \"('sheepskin',)\": 1, \"('access',)\": 1, \"('cranesafety',)\": 1, \"('acquisition',)\": 1, \"('squeeze',)\": 1, \"('billionaire',)\": 1, \"('crowd',)\": 1, \"('insurancecompany',)\": 1, \"('reading',)\": 1, \"('resistance',)\": 1, \"('outlook',)\": 1, \"('growth',)\": 1, \"('hospital',)\": 1, \"('stake',)\": 1, \"('type',)\": 1, \"('beginning',)\": 1, \"('sphere',)\": 1, \"('argument',)\": 1, \"('JUDGE',)\": 1, \"('cleanliness',)\": 1, \"('pressure',)\": 1, \"('merchandising',)\": 1, \"('oversight',)\": 1, \"('amount',)\": 1, \"('reelection',)\": 1, \"('disk',)\": 1, \"('stone',)\": 1, \"('rearseat',)\": 1, \"('cable',)\": 1, \"('liquid',)\": 1, \"('variety',)\": 1, \"('concession',)\": 1, \"('conviction',)\": 1, \"('municipality',)\": 1, \"('certificate',)\": 1, \"('president',)\": 1, \"('pressman',)\": 1, \"('tree',)\": 1, \"('summary',)\": 1, \"('minute',)\": 1, \"('self',)\": 1, \"('home',)\": 1, \"('vote',)\": 1, \"('disruption',)\": 1, \"('blood',)\": 1, \"('zone',)\": 1, \"('troop',)\": 1, \"('knight',)\": 1, \"('ovation',)\": 1, \"('ringing',)\": 1, \"('coordinator',)\": 1, \"('Civilization',)\": 1, \"('cultivation',)\": 1, \"('Failure',)\": 1, \"('packaging',)\": 1, \"('deck',)\": 1, \"('sterling',)\": 1, \"('ceiling',)\": 1, \"('extent',)\": 1, \"('cash',)\": 1, \"('movie',)\": 1, \"('supercomputer',)\": 1, \"('scholar',)\": 1, \"('line',)\": 1, \"('luck',)\": 1, \"('estate',)\": 1, \"('witness',)\": 1, \"('entertainment',)\": 1, \"('teacher',)\": 1, \"('BALLOT',)\": 1, \"('Composer',)\": 1, \"('guy',)\": 1, \"('appeal',)\": 1, \"('realization',)\": 1, \"('afternoon',)\": 1, \"('desire',)\": 1, \"('TRIAL',)\": 1, \"('Speculation',)\": 1, \"('nameplate',)\": 1, \"('burlap',)\": 1, \"('council',)\": 1, \"('hand',)\": 1, \"('standing',)\": 1, \"('survivor',)\": 1, \"('caretaker',)\": 1, \"('chairman',)\": 1, \"('radio',)\": 1, \"('gain',)\": 1, \"('checkbook',)\": 1, \"('milestone',)\": 1, \"('premiere',)\": 1, \"('belfry',)\": 1, \"('campaigning',)\": 1, \"('set',)\": 1, \"('promotion',)\": 1, \"('exchange',)\": 1, \"('issue',)\": 1, \"('asbestosis',)\": 1, \"('theory',)\": 1, \"('relief',)\": 1, \"('mechanism',)\": 1, \"('premium',)\": 1, \"('peak',)\": 1, \"('memory',)\": 1, \"('jail',)\": 1, \"('sheet',)\": 1, \"('aircraft',)\": 1, \"('chest',)\": 1, \"('economics',)\": 1, \"('mailing',)\": 1, \"('livelihood',)\": 1, \"('official',)\": 1, \"('pocket',)\": 1, \"('recovery',)\": 1, \"('principle',)\": 1, \"('control',)\": 1, \"('soul',)\": 1, \"('flightiness',)\": 1, \"('stage',)\": 1, \"('actress',)\": 1, \"('equipment',)\": 1, \"('trial',)\": 1, \"('bias',)\": 1, \"('justice',)\": 1, \"('purchasing',)\": 1, \"('context',)\": 1, \"('sound',)\": 1, \"('Growth',)\": 1, \"('cadet',)\": 1, \"('mother',)\": 1, \"('bond',)\": 1, \"('diversification',)\": 1, \"('diabetes',)\": 1, \"('F',)\": 1, \"('identitymanagement',)\": 1, \"('Oil',)\": 1, \"('memo',)\": 1, \"('tally',)\": 1, \"('ambassador',)\": 1, \"('pay',)\": 1, \"('balance',)\": 1, \"('steel',)\": 1, \"('creditor',)\": 1, \"('dawn',)\": 1, \"('risk',)\": 1, \"('acetate',)\": 1, \"('invention',)\": 1, \"('Safety',)\": 1, \"('prescription',)\": 1, \"('businessman',)\": 1, \"('difference',)\": 1, \"('plus',)\": 1, \"('garage',)\": 1, \"('onus',)\": 1, \"('reluctance',)\": 1, \"('damage',)\": 1, \"('arsenide',)\": 1, \"('hysteria',)\": 1, \"('search',)\": 1, \"('intent',)\": 1, \"('fall',)\": 1, \"('Department',)\": 1, \"('Jail',)\": 1, \"('data',)\": 1, \"('enthusiasm',)\": 1, \"('content',)\": 1, \"('portfolio',)\": 1, \"('onslaught',)\": 1, \"('cochairman',)\": 1, \"('seat',)\": 1, \"('rest',)\": 1, \"('utility',)\": 1, \"('schoolboard',)\": 1, \"('breaker',)\": 1, \"('sense',)\": 1, \"('administration',)\": 1, \"('crackdown',)\": 1, \"('civilization',)\": 1, \"('temptation',)\": 1, \"('sell',)\": 1, \"('composting',)\": 1, \"('greenmailer',)\": 1, \"('style',)\": 1, \"('snow',)\": 1, \"('Macmillan\\\\/McGraw',)\": 1, \"('veteran',)\": 1, \"('post',)\": 1, \"('dust',)\": 1, \"('material',)\": 1, \"('drain',)\": 1, \"('performance',)\": 1, \"('charm',)\": 1, \"('waste',)\": 1, \"('hostility',)\": 1, \"('era',)\": 1, \"('thing',)\": 1, \"('violence',)\": 1, \"('good',)\": 1, \"('hero',)\": 1, \"('recommendation',)\": 1, \"('dispute',)\": 1, \"('Title',)\": 1, \"('record',)\": 1, \"('harbinger',)\": 1, \"('understanding',)\": 1, \"('society',)\": 1, \"('format',)\": 1, \"('pool',)\": 1, \"('Evidence',)\": 1, \"('flag',)\": 1, \"('polystyrene',)\": 1, \"('veto',)\": 1, \"('Bond',)\": 1, \"('substitute',)\": 1, \"('rebound',)\": 1, \"('felony',)\": 1, \"('willingness',)\": 1, \"('moneyfund',)\": 1, \"('brand',)\": 1, \"('slab',)\": 1, \"('hitter',)\": 1, \"('bulk',)\": 1, \"('crack',)\": 1, \"('choosing',)\": 1, \"('banquet',)\": 1, \"('perspective',)\": 1, \"('innovation',)\": 1, \"('optimism',)\": 1, \"('Arbitrage',)\": 1, \"('project',)\": 1, \"('radioactivity',)\": 1, \"('instruction',)\": 1, \"('surprise',)\": 1, \"('smoking',)\": 1, \"('modification',)\": 1, \"('blender',)\": 1, \"('TV',)\": 1, \"('outlay',)\": 1, \"('Commodity',)\": 1, \"('service',)\": 1, \"('laser',)\": 1, \"('shelter',)\": 1, \"('transplantation',)\": 1, \"('structure',)\": 1, \"('lunch',)\": 1, \"('proviso',)\": 1, \"('child',)\": 1, \"('syndicate',)\": 1, \"('regime',)\": 1, \"('engineering',)\": 1, \"('door',)\": 1, \"('mark',)\": 1, \"('responsibility',)\": 1, \"('pit',)\": 1, \"('voice',)\": 1, \"('coke',)\": 1, \"('sake',)\": 1, \"('lotter',)\": 1, \"('wound',)\": 1, \"('vindication',)\": 1, \"('picture',)\": 1, \"('profession',)\": 1, \"('meaning',)\": 1, \"('tiein',)\": 1, \"('compromise',)\": 1, \"('staff',)\": 1, \"('trading',)\": 1, \"('constituent',)\": 1, \"('inquiry',)\": 1, \"('circuit',)\": 1, \"('payoff',)\": 1, \"('frenzy',)\": 1, \"('cult',)\": 1, \"('banker',)\": 1, \"('fact',)\": 1, \"('beer',)\": 1, \"('music',)\": 1, \"('rhythm',)\": 1, \"('reorganization',)\": 1, \"('hostage',)\": 1, \"('lawsuit',)\": 1, \"('counseling',)\": 1, \"('yielding',)\": 1, \"('crystallattice',)\": 1, \"('computing',)\": 1, \"('morale',)\": 1, \"('trust',)\": 1, \"('telecommunications',)\": 1, \"('geography',)\": 1, \"('trade',)\": 1, \"('round',)\": 1, \"('skepticism',)\": 1, \"('penny',)\": 1, \"('wish',)\": 1, \"('alcoholism',)\": 1, \"('form',)\": 1, \"('column',)\": 1, \"('average',)\": 1, \"('passenger',)\": 1, \"('wordprocessing',)\": 1, \"('license',)\": 1, \"('crop',)\": 1, \"('respite',)\": 1, \"('turf',)\": 1, \"('lap',)\": 1, \"('debate',)\": 1, \"('announcement',)\": 1, \"('filling',)\": 1, \"('customer',)\": 1, \"('inheritor',)\": 1, \"('addiction',)\": 1, \"('gut',)\": 1, \"('construction',)\": 1, \"('hook',)\": 1, \"('passage',)\": 1, \"('ability',)\": 1, \"('institution',)\": 1, \"('lead',)\": 1, \"('focus',)\": 1, \"('nightmare',)\": 1, \"('truth',)\": 1, \"('deviation',)\": 1, \"('investigation',)\": 1, \"('compassion',)\": 1, \"('share',)\": 1, \"('guild',)\": 1, \"('creditrating',)\": 1, \"('texture',)\": 1, \"('instance',)\": 1, \"('franc',)\": 1, \"('silicone',)\": 1, \"('government',)\": 1, \"('analysis',)\": 1, \"('son',)\": 1, \"('detail',)\": 1, \"('place',)\": 1, \"('firm',)\": 1, \"('client',)\": 1, \"('edition',)\": 1, \"('logic',)\": 1, \"('advance',)\": 1, \"('mutualfund',)\": 1, \"('chrysotile',)\": 1, \"('regret',)\": 1, \"('waterauthority',)\": 1, \"('duty',)\": 1, \"('homosexual',)\": 1, \"('intrusion',)\": 1, \"('affiliate',)\": 1, \"('suit',)\": 1, \"('index',)\": 1, \"('pub',)\": 1, \"('import',)\": 1, \"('tone',)\": 1, \"('offering',)\": 1, \"('par',)\": 1, \"('ACU',)\": 1, \"('editor',)\": 1, \"('competitor',)\": 1, \"('voting',)\": 1, \"('harmony',)\": 1, \"('wine',)\": 1, \"('appetite',)\": 1, \"('replacementcar',)\": 1, \"('crib',)\": 1, \"('product',)\": 1, \"('microphone',)\": 1, \"('region',)\": 1, \"('aid',)\": 1, \"('degree',)\": 1, \"('wealth',)\": 1, \"('volatility',)\": 1, \"('squad',)\": 1, \"('photograph',)\": 1, \"('buyout',)\": 1, \"('completeness',)\": 1, \"('chamber',)\": 1, \"('kidnapper',)\": 1, \"('word',)\": 1, \"('wave',)\": 1, \"('corporation',)\": 1, \"('thirtysomething',)\": 1, \"('floor',)\": 1, \"('interpretation',)\": 1, \"('banking',)\": 1, \"('teaching',)\": 1, \"('purse',)\": 1, \"('smattering',)\": 1, \"('body',)\": 1, \"('statement',)\": 1, \"('thought',)\": 1, \"('father',)\": 1, \"('referendum',)\": 1, \"('exercise',)\": 1, \"('auditor',)\": 1, \"('Teacher',)\": 1, \"('comment',)\": 1, \"('household',)\": 1, \"('choice',)\": 1, \"('computer',)\": 1, \"('in',)\": 1, \"('improvement',)\": 1, \"('everyone',)\": 1, \"('Guarantee',)\": 1, \"('piece',)\": 1, \"('Price',)\": 1, \"('excess',)\": 1, \"('tower',)\": 1, \"('program',)\": 1, \"('evolution',)\": 1, \"('none',)\": 1, \"('vortex',)\": 1, \"('Country',)\": 1, \"('employer',)\": 1, \"('widget',)\": 1, \"('default',)\": 1, \"('Chinese',)\": 1, \"('boost',)\": 1, \"('foodindustry',)\": 1, \"('cardboard',)\": 1, \"('victim',)\": 1, \"('black',)\": 1, \"('hardware',)\": 1, \"('punishment',)\": 1, \"('commitment',)\": 1, \"('trademark',)\": 1, \"('videocassette',)\": 1, \"('necklace',)\": 1, \"('dislike',)\": 1, \"('stickershock',)\": 1, \"('park',)\": 1, \"('market',)\": 1, \"('tool',)\": 1, \"('Consequence',)\": 1, \"('fueling',)\": 1, \"('buying',)\": 1, \"('travel',)\": 1, \"('evil',)\": 1, \"('bit',)\": 1, \"('rating',)\": 1, \"('sight',)\": 1, \"('agency',)\": 1, \"('thirdquarter',)\": 1, \"('run',)\": 1, \"('fringe',)\": 1, \"('caveat',)\": 1, \"('building',)\": 1, \"('parliament',)\": 1, \"('shortage',)\": 1, \"('hearing',)\": 1, \"('merchant',)\": 1, \"('route',)\": 1, \"('disappointment',)\": 1, \"('tour',)\": 1, \"('medicine',)\": 1, \"('release',)\": 1, \"('polyproplene',)\": 1, \"('advisory',)\": 1, \"('ballroom',)\": 1, \"('entrance',)\": 1, \"('hay',)\": 1, \"('escrow',)\": 1, \"('pie',)\": 1, \"('Nov.',)\": 1, \"('COLLECTING',)\": 1, \"('fatherinlaw',)\": 1, \"('judge',)\": 1, \"('payment',)\": 1, \"('cost',)\": 1, \"('refusal',)\": 1, \"('flimflammery',)\": 1, \"('thunder',)\": 1, \"('Chapter',)\": 1, \"('deadline',)\": 1, \"('vagabond',)\": 1, \"('town',)\": 1, \"('chemical',)\": 1, \"('middle',)\": 1, \"('coaching',)\": 1, \"('ankle',)\": 1, \"('seminar',)\": 1, \"('surgery',)\": 1, \"('achievement',)\": 1, \"('economy',)\": 1, \"('commission',)\": 1, \"('symmetry',)\": 1, \"('massacre',)\": 1, \"('excision',)\": 1, \"('facility',)\": 1, \"('month',)\": 1, \"('play',)\": 1, \"('newcar',)\": 1, \"('satisfaction',)\": 1, \"('creation',)\": 1, \"('hole',)\": 1, \"('escape',)\": 1, \"('stream',)\": 1, \"('radiostation',)\": 1, \"('movement',)\": 1, \"('charge',)\": 1, \"('portrayal',)\": 1, \"('immense',)\": 1, \"('patient',)\": 1, \"('solidarity',)\": 1, \"('finance',)\": 1, \"('term',)\": 1, \"('deficit',)\": 1, \"('lure',)\": 1, \"('impact',)\": 1, \"('prevalance',)\": 1, \"('pillow',)\": 1, \"('range',)\": 1, \"('interbank',)\": 1, \"('One',)\": 1, \"('foot',)\": 1, \"('clock',)\": 1, \"('worship',)\": 1, \"('step',)\": 1, \"('stoppage',)\": 1, \"('consumer',)\": 1, \"('assistance',)\": 1, \"('reform',)\": 1, \"('base',)\": 1, \"('revolt',)\": 1, \"('everybody',)\": 1, \"('foam',)\": 1, \"('navigation',)\": 1, \"('offer',)\": 1, \"('defeat',)\": 1, \"('resentment',)\": 1, \"('multitude',)\": 1, \"('money',)\": 1, \"('paperback',)\": 1, \"('package',)\": 1, \"('way',)\": 1, \"('journal',)\": 1, \"('doctorate',)\": 1, \"('view',)\": 1, \"('Packaging',)\": 1, \"('plant',)\": 1, \"('slowing',)\": 1, \"('moment',)\": 1, \"('behemoth',)\": 1, \"('weakness',)\": 1, \"('attorney',)\": 1, \"('key',)\": 1, \"('chief',)\": 1, \"('dairy',)\": 1, \"('equalopportunity',)\": 1, \"('sluggishness',)\": 1, \"('flood',)\": 1, \"('castle',)\": 1, \"('system',)\": 1, \"('crocidolite',)\": 1, \"('captive',)\": 1, \"('signal',)\": 1, \"('target',)\": 1, \"('buyer',)\": 1, \"('sauce',)\": 1, \"('officer',)\": 1, \"('capacity',)\": 1, \"('chance',)\": 1, \"('prestige',)\": 1, \"('Test',)\": 1, \"('nomination',)\": 1, \"('addition',)\": 1, \"('length',)\": 1, \"('twinjet',)\": 1, \"('success',)\": 1, \"('exit',)\": 1, \"('friction',)\": 1, \"('transplant',)\": 1, \"('markdown',)\": 1, \"('layer',)\": 1, \"('creativity',)\": 1, \"('provision',)\": 1, \"('collegebowl',)\": 1, \"('surge',)\": 1, \"('interest',)\": 1, \"('morbidity',)\": 1, \"('closeness',)\": 1, \"('decline',)\": 1, \"('debacle',)\": 1, \"('authority',)\": 1, \"('factory',)\": 1, \"('crystal',)\": 1, \"('picket',)\": 1, \"('butterfly',)\": 1, \"('assumption',)\": 1, \"('replacement',)\": 1, \"('shape',)\": 1, \"('vehicle',)\": 1, \"('Beauty',)\": 1, \"('Grain',)\": 1, \"('star',)\": 1, \"('agreed',)\": 1, \"('oneupsmanship',)\": 1, \"('upscale',)\": 1, \"('mind',)\": 1, \"('landfill',)\": 1, \"('fit',)\": 1, \"('learning',)\": 1, \"('newspaper',)\": 1, \"('strip',)\": 1, \"('holder',)\": 1, \"('down',)\": 1, \"('liquidity',)\": 1, \"('wrongdoing',)\": 1, \"('trend',)\": 1, \"('show',)\": 1, \"('nominee',)\": 1, \"('dissident',)\": 1, \"('exemption',)\": 1, \"('board',)\": 1, \"('coal',)\": 1, \"('overproduction',)\": 1, \"('season',)\": 1, \"('standpoint',)\": 1, \"('treatment',)\": 1, \"('end',)\": 1, \"('promise',)\": 1, \"('INQUIRY',)\": 1, \"('numeral',)\": 1, \"('minister',)\": 1, \"('emphasis',)\": 1, \"('offense',)\": 1, \"('inventory',)\": 1, \"('spot',)\": 1, \"('entrepreneur',)\": 1, \"('consensus',)\": 1, \"('segment',)\": 1, \"('shareholder',)\": 1, \"('indictment',)\": 1, \"('workplace',)\": 1, \"('acceleration',)\": 1, \"('telegraph',)\": 1, \"('ire',)\": 1, \"('look',)\": 1, \"('debt',)\": 1, \"('husband',)\": 1, \"('State',)\": 1, \"('warrant',)\": 1, \"('fear',)\": 1, \"('taxation',)\": 1, \"('formula',)\": 1, \"('sponsor',)\": 1, \"('proposal',)\": 1, \"('district',)\": 1, \"('ABORTION',)\": 1, \"('disapproval',)\": 1, \"('substance',)\": 1, \"('barrier',)\": 1, \"('lot',)\": 1, \"('initiate',)\": 1, \"('diplomacy',)\": 1, \"('indifference',)\": 1, \"('export',)\": 1, \"('driver',)\": 1, \"('destination',)\": 1, \"('raise',)\": 1, \"('appointment',)\": 1, \"('proprietor',)\": 1, \"('crime',)\": 1, \"('session',)\": 1, \"('signature',)\": 1, \"('notch',)\": 1, \"('confidence',)\": 1, \"('slope',)\": 1, \"('cent',)\": 1, \"('vision',)\": 1, \"('march',)\": 1, \"('litany',)\": 1, \"('illegality',)\": 1, \"('rate',)\": 1, \"('skittishness',)\": 1, \"('Money',)\": 1, \"('scientist',)\": 1, \"('bottle',)\": 1, \"('bureaucracy',)\": 1, \"('plunge',)\": 1, \"('raising',)\": 1, \"('manufacturing',)\": 1, \"('furor',)\": 1, \"('wisdom',)\": 1, \"('practice',)\": 1, \"('presence',)\": 1, \"('transportation',)\": 1, \"('grader',)\": 1, \"('stockprice',)\": 1, \"('struggle',)\": 1, \"('doctor',)\": 1, \"('passion',)\": 1, \"('duo',)\": 1, \"('game',)\": 1, \"('pact',)\": 1, \"('facade',)\": 1, \"('swap',)\": 1, \"('psychiatrist',)\": 1, \"('bottom',)\": 1, \"('realestate',)\": 1, \"('painting',)\": 1, \"('shoulder',)\": 1, \"('executiveoffice',)\": 1, \"('employee',)\": 1, \"('tenure',)\": 1, \"('Design',)\": 1, \"('reinstatement',)\": 1, \"('objective',)\": 1, \"('book',)\": 1, \"('field',)\": 1, \"('mirror',)\": 1, \"('airplane',)\": 1, \"('physics',)\": 1, \"('pageone',)\": 1, \"('policy',)\": 1, \"('speedway',)\": 1, \"('pulp',)\": 1, \"('bank',)\": 1, \"('pension',)\": 1, \"('arrangement',)\": 1, \"('elephant',)\": 1, \"('relationship',)\": 1, \"('screen',)\": 1, \"('strike',)\": 1, \"('analyst',)\": 1, \"('stockmarket',)\": 1, \"('vinyl',)\": 1, \"('maker',)\": 1, \"('dividend',)\": 1, \"('exposure',)\": 1, \"('uncertainty',)\": 1, \"('citizen',)\": 1, \"('cancer',)\": 1, \"('backyard',)\": 1, \"('settlement',)\": 1, \"('respect',)\": 1, \"('exception',)\": 1, \"('deregulation',)\": 1, \"('hormone',)\": 1, \"('repair',)\": 1, \"('equivalent',)\": 1, \"('selfesteem',)\": 1, \"('generation',)\": 1, \"('device',)\": 1, \"('gambling',)\": 1, \"('reality',)\": 1, \"('general',)\": 1, \"('reach',)\": 1, \"('slump',)\": 1, \"('filing',)\": 1, \"('slowdown',)\": 1, \"('cataract',)\": 1, \"('hotel',)\": 1, \"('Part',)\": 1, \"('interrogation',)\": 1, \"('article',)\": 1, \"('telephone',)\": 1, \"('betterment',)\": 1, \"('retailer',)\": 1, \"('catchup',)\": 1, \"('fiscal',)\": 1, \"('scandal',)\": 1, \"('PC',)\": 1, \"('wines',)\": 1, \"('inside',)\": 1, \"('lore',)\": 1, \"('hour',)\": 1, \"('administrator',)\": 1, \"('impression',)\": 1, \"('cue',)\": 1, \"('pace',)\": 1, \"('presentation',)\": 1, \"('outcry',)\": 1, \"('spite',)\": 1, \"('contractor',)\": 1, \"('revenue',)\": 1, \"('chalk',)\": 1, \"('programmer',)\": 1, \"('pricing',)\": 1, \"('face',)\": 1, \"('architecture',)\": 1, \"('Stadium',)\": 1, \"('midtown',)\": 1, \"('counterweight',)\": 1, \"('nail',)\": 1, \"('space',)\": 1, \"('sugar',)\": 1, \"('meeting',)\": 1, \"('stockindex',)\": 1, \"('direction',)\": 1, \"('member',)\": 1, \"('symbol',)\": 1, \"('operation',)\": 1, \"('serial',)\": 1, \"('torrent',)\": 1, \"('anger',)\": 1, \"('productivity',)\": 1, \"('link',)\": 1, \"('familiarization',)\": 1, \"('bickering',)\": 1, \"('refuge',)\": 1, \"('knell',)\": 1, \"('EXCHANGE',)\": 1, \"('income',)\": 1, \"('family',)\": 1, \"('cigarette',)\": 1, \"('undertone',)\": 1, \"('roof',)\": 1, \"('cloth',)\": 1, \"('support',)\": 1, \"('warming',)\": 1, \"('fight',)\": 1, \"('disadvantage',)\": 1, \"('boom',)\": 1, \"('C',)\": 1, \"('cheerleading',)\": 1, \"('silicon',)\": 1, \"('influence',)\": 1, \"('sleep',)\": 1, \"('bargain',)\": 1, \"('credit',)\": 1, \"('text',)\": 1, \"('surplus',)\": 1, \"('activity',)\": 1, \"('perfection',)\": 1, \"('tax',)\": 1, \"('peal',)\": 1, \"('frequency',)\": 1, \"('Index',)\": 1, \"('nothing',)\": 1, \"('heating',)\": 1, \"('senior',)\": 1, \"('camera',)\": 1, \"('development',)\": 1, \"('rap',)\": 1, \"('Lorillard',)\": 1, \"('nickel',)\": 1, \"('white',)\": 1, \"('licensing',)\": 1, \"('escort',)\": 1, \"('consultant',)\": 1, \"('viewership',)\": 1, \"('publisher',)\": 1, \"('estimate',)\": 1, \"('capitalism',)\": 1, \"('competition',)\": 1, \"('spirit',)\": 1, \"('undersecretary',)\": 1, \"('arbitrage',)\": 1, \"('excellence',)\": 1, \"('Science',)\": 1, \"('Fahrenheit',)\": 1, \"('belt',)\": 1, \"('mathematics',)\": 1, \"('chunk',)\": 1, \"('Midwest',)\": 1, \"('priority',)\": 1, \"('doctrine',)\": 1, \"('twin',)\": 1, \"('basis',)\": 1, \"('fund',)\": 1, \"('library',)\": 1, \"('ballot',)\": 1, \"('buckle',)\": 1, \"('gamut',)\": 1, \"('billing',)\": 1, \"('someone',)\": 1, \"('college',)\": 1, \"('ultimatum',)\": 1, \"('reinvestment',)\": 1, \"('panic',)\": 1, \"('request',)\": 1, \"('discontent',)\": 1, \"('grain',)\": 1, \"('sensitivity',)\": 1, \"('move',)\": 1, \"('contingent',)\": 1, \"('department',)\": 1, \"('sweepstakes',)\": 1, \"('increase',)\": 1, \"('subminimum',)\": 1, \"('programming',)\": 1, \"('sort',)\": 1, \"('side',)\": 1, \"('guarantee',)\": 1, \"('worth',)\": 1, \"('demise',)\": 1, \"('insanity',)\": 1, \"('collateral',)\": 1, \"('prerogative',)\": 1, \"('logjam',)\": 1, \"('everything',)\": 1, \"('truce',)\": 1, \"('understatement',)\": 1, \"('commerce',)\": 1, \"('pill',)\": 1, \"('luxury',)\": 1, \"('schoolchildren',)\": 1, \"('publicity',)\": 1, \"('maturity',)\": 1, \"('Factory',)\": 1, \"('disclosure',)\": 1, \"('ropesight',)\": 1, \"('principal',)\": 1, \"('low',)\": 1, \"('compliance',)\": 1, \"('lawyer',)\": 1, \"('house',)\": 1, \"('lack',)\": 1, \"('window',)\": 1, \"('order',)\": 1, \"('counterpart',)\": 1, \"('manner',)\": 1, \"('percentage',)\": 1, \"('fee',)\": 1, \"('rape',)\": 1, \"('knife',)\": 1, \"('source',)\": 1, \"('top',)\": 1, \"('switch',)\": 1, \"('scrutiny',)\": 1, \"('retirement',)\": 1, \"('statute',)\": 1, \"('predecessor',)\": 1, \"('commonlaw',)\": 1, \"('fancy',)\": 1, \"('powerhouse',)\": 1, \"('electorate',)\": 1, \"('aim',)\": 1, \"('proponent',)\": 1, \"('bedding',)\": 1, \"('margin',)\": 1, \"('monster',)\": 1, \"('accountability',)\": 1, \"('Share',)\": 1, \"('winemaking',)\": 1, \"('superconductor',)\": 1, \"('colony',)\": 1, \"('waif',)\": 1, \"('decade',)\": 1, \"('corruption',)\": 1, \"('polyester',)\": 1, \"('creditworthiness',)\": 1, \"('psychology',)\": 1, \"('grant',)\": 1, \"('past',)\": 1, \"('Deregulation',)\": 1, \"('downgrade',)\": 1, \"('collar',)\": 1, \"('anybody',)\": 1, \"('goodwill',)\": 1, \"('ringer',)\": 1, \"('Changeringing',)\": 1, \"('subsidiary',)\": 1, \"('coupon',)\": 1, \"('outrage',)\": 1, \"('machinery',)\": 1, \"('fine',)\": 1, \"('attention',)\": 1, \"('role',)\": 1, \"('storm',)\": 1, \"('housewife',)\": 1, \"('vicar',)\": 1, \"('legislation',)\": 1, \"('aftermath',)\": 1, \"('advertising',)\": 1, \"('apple',)\": 1, \"('status',)\": 1, \"('church',)\": 1, \"('transition',)\": 1, \"('bearing',)\": 1, \"('kit',)\": 1, \"('microwave',)\": 1, \"('budget',)\": 1, \"('chronicle',)\": 1, \"('DIAPER',)\": 1, \"('cotton',)\": 1, \"('leadership',)\": 1, \"('viewpoint',)\": 1, \"('coowner',)\": 1, \"('sex',)\": 1, \"('time',)\": 1, \"('phrase',)\": 1, \"('conduit',)\": 1, \"('friend',)\": 1, \"('allocation',)\": 1, \"('autumn',)\": 1, \"('use',)\": 1, \"('garbage',)\": 1, \"('lottery',)\": 1, \"('fiber',)\": 1, \"('traffic',)\": 1, \"('mistake',)\": 1, \"('worker',)\": 1, \"('spilling',)\": 1, \"('sector',)\": 1, \"('answer',)\": 1, \"('evaluation',)\": 1, \"('measure',)\": 1, \"('Act',)\": 1, \"('restriction',)\": 1, \"('prospect',)\": 1, \"('decision',)\": 1, \"('participant',)\": 1, \"('diming',)\": 1, \"('implication',)\": 1, \"('furniture',)\": 1, \"('glory',)\": 1, \"('cooperation',)\": 1, \"('student',)\": 1, \"('briefing',)\": 1, \"('sticker',)\": 1, \"('guide',)\": 1, \"('price',)\": 1, \"('trigger',)\": 1, \"('selling',)\": 1, \"('Form',)\": 1, \"('collection',)\": 1, \"('therapy',)\": 1, \"('planner',)\": 1, \"('subcommittee',)\": 1, \"('presidency',)\": 1, \"('challenge',)\": 1, \"('associate',)\": 1, \"('kindergarten',)\": 1, \"('campaign',)\": 1, \"('terrine',)\": 1, \"('breakdown',)\": 1, \"('variation',)\": 1, \"('palace',)\": 1, \"('criminal',)\": 1, \"('schedule',)\": 1, \"('oblivion',)\": 1, \"('lieutenant',)\": 1, \"('close',)\": 1, \"('deposit',)\": 1, \"('cancellation',)\": 1, \"('operating',)\": 1, \"('overcapacity',)\": 1, \"('telephoneinformation',)\": 1, \"('penalty',)\": 1, \"('alcohol',)\": 1, \"('research',)\": 1, \"('deprivation',)\": 1, \"('swing',)\": 1, \"('physicist',)\": 1, \"('attempt',)\": 1, \"('expectation',)\": 1, \"('Compound',)\": 1, \"('football',)\": 1, \"('asset',)\": 1, \"('prefecture',)\": 1, \"('plastic',)\": 1, \"('ownership',)\": 1, \"('procurement',)\": 1, \"('proportion',)\": 1, \"('FALL',)\": 1, \"('night',)\": 1, \"('comeback',)\": 1, \"('likelihood',)\": 1, \"('foldability',)\": 1, \"('lover',)\": 1, \"('redemption',)\": 1, \"('monopoly',)\": 1, \"('traitor',)\": 1, \"('author',)\": 1, \"('lab',)\": 1, \"('haul',)\": 1, \"('consumption',)\": 1, \"('Dec.',)\": 1, \"('audience',)\": 1, \"('semiconductor',)\": 1, \"('half',)\": 1, \"('fifthgrade',)\": 1, \"('court',)\": 1, \"('drink',)\": 1, \"('tad',)\": 1, \"('successor',)\": 1, \"('boogieman',)\": 1, \"('penetration',)\": 1, \"('security',)\": 1, \"('approach',)\": 1, \"('Indexarbitrage',)\": 1, \"('life',)\": 1, \"('skill',)\": 1, \"('superintendent',)\": 1, \"('depression',)\": 1, \"('advice',)\": 1, \"('application',)\": 1, \"('tradingcompany',)\": 1, \"('battle',)\": 1, \"('Image',)\": 1, \"('negotiator',)\": 1, \"('boy',)\": 1, \"('event',)\": 1, \"('discount',)\": 1, \"('crash',)\": 1, \"('survey',)\": 1, \"('elimination',)\": 1, \"('No.',)\": 1, \"('dilemma',)\": 1, \"('inflation',)\": 1, \"('Esso',)\": 1, \"('freshman',)\": 1, \"('impetus',)\": 1, \"('warehousing',)\": 1, \"('scenario',)\": 1, \"('review',)\": 1, \"('girl',)\": 1, \"('speed',)\": 1, \"('pence',)\": 1, \"('altar',)\": 1, \"('stockbroker',)\": 1, \"('alternative',)\": 1, \"('Velcro',)\": 1, \"('anything',)\": 1, \"('Anything',)\": 1, \"('evidence',)\": 1, \"('yearend',)\": 1, \"('homework',)\": 1, \"('accordance',)\": 1, \"('Excision',)\": 1, \"('stature',)\": 1, \"('error',)\": 1, \"('drop',)\": 1, \"('betrayer',)\": 1, \"('penchant',)\": 1, \"('school',)\": 1, \"('placement',)\": 1, \"('motor',)\": 1, \"('Revenue',)\": 1, \"('execution',)\": 1, \"('existence',)\": 1, \"('class',)\": 1, \"('opportunity',)\": 1, \"('call',)\": 1, \"('goal',)\": 1, \"('commercial',)\": 1, \"('action',)\": 1, \"('kidnapping',)\": 1, \"('pathlogy',)\": 1, \"('booklet',)\": 1, \"('task',)\": 1, \"('story',)\": 1, \"('Insurance',)\": 1, \"('morass',)\": 1, \"('lifestyle',)\": 1, \"('abortion',)\": 1, \"('ritual',)\": 1, \"('plate',)\": 1, \"('shipping',)\": 1, \"('founder',)\": 1, \"('spring',)\": 1, \"('connection',)\": 1, \"('hill',)\": 1, \"('acceptance',)\": 1, \"('markup',)\": 1, \"('leeway',)\": 1, \"('denominator',)\": 1, \"('consulting',)\": 1, \"('dissemination',)\": 1, \"('martyr',)\": 1, \"('labor',)\": 1, \"('financing',)\": 1, \"('ad',)\": 1, \"('Legislation',)\": 1, \"('architect',)\": 1, \"('reflection',)\": 1, \"('television',)\": 1, \"('gift',)\": 1, \"('propaganda',)\": 1, \"('defendant',)\": 1, \"('longevity',)\": 1, \"('situation',)\": 1, \"('push',)\": 1, \"('today',)\": 1, \"('refrigerator',)\": 1, \"('accountant',)\": 1, \"('sale',)\": 1, \"('host',)\": 1, \"('setback',)\": 1, \"('bid',)\": 1, \"('element',)\": 1, \"('Session',)\": 1, \"('folio',)\": 1, \"('capability',)\": 1, \"('establishment',)\": 1, \"('angle',)\": 1, \"('racket',)\": 1, \"('schoolteacher',)\": 1, \"('outside',)\": 1, \"('pride',)\": 1, \"('basket',)\": 1, \"('fanfare',)\": 1, \"('freeway',)\": 1, \"('flux',)\": 1, \"('duckling',)\": 1, \"('letter',)\": 1, \"('habit',)\": 1, \"('Profit',)\": 1, \"('minicrash',)\": 1, \"('timing',)\": 1, \"('automation',)\": 1, \"('advent',)\": 1, \"('newcomer',)\": 1, \"('livestock',)\": 1, \"('filter',)\": 1, \"('unavailability',)\": 1, \"('requirement',)\": 1, \"('1\\\\/10th',)\": 1, \"('plenty',)\": 1, \"('agenda',)\": 1, \"('bout',)\": 1, \"('talkshow',)\": 1, \"('regulation',)\": 1, \"('section',)\": 1, \"('news',)\": 1, \"('mail',)\": 1, \"('powder',)\": 1, \"('aspect',)\": 1} \n",
      "\n",
      "[JJ] {\"('advanced',)\": 1, \"('nonbiodegradable',)\": 1, \"('solvent',)\": 1, \"('modern',)\": 1, \"('stockmanipulation',)\": 1, \"('cocky',)\": 1, \"('NBCowned',)\": 1, \"('favorable',)\": 1, \"('startup',)\": 1, \"('Common',)\": 1, \"('nonfinancial',)\": 1, \"('36minute',)\": 1, \"('pretax',)\": 1, \"('Outside',)\": 1, \"('attorneyclient',)\": 1, \"('to',)\": 1, \"('disaffected',)\": 1, \"('internal',)\": 1, \"('mathematical',)\": 1, \"('recordkeeping',)\": 1, \"('upscale',)\": 1, \"('several',)\": 1, \"('unfettered',)\": 1, \"('jurisdictional',)\": 1, \"('awful',)\": 1, \"('punitive',)\": 1, \"('peaceful',)\": 1, \"('monthly',)\": 1, \"('Coincident',)\": 1, \"('expensive',)\": 1, \"('durable',)\": 1, \"('green',)\": 1, \"('mortgagebased',)\": 1, \"('Jerseybased',)\": 1, \"('bygone',)\": 1, \"('French',)\": 1, \"('matching',)\": 1, \"('active',)\": 1, \"('computerdriven',)\": 1, \"('antitrustlaw',)\": 1, \"('supplemental',)\": 1, \"('overseas',)\": 1, \"('84yearold',)\": 1, \"('wheelloader',)\": 1, \"('costly',)\": 1, \"('unfilled',)\": 1, \"('retail',)\": 1, \"('uncharted',)\": 1, \"('premier',)\": 1, \"('jointventure',)\": 1, \"('quarterly',)\": 1, \"('stockspecialist',)\": 1, \"('exempt',)\": 1, \"('bandwagon',)\": 1, \"('outraged',)\": 1, \"('exercisable',)\": 1, \"('Russian',)\": 1, \"('balkanized',)\": 1, \"('aesthetic',)\": 1, \"('giant',)\": 1, \"('rusty',)\": 1, \"('traditional',)\": 1, \"('highstakes',)\": 1, \"('unfounded',)\": 1, \"('surprising',)\": 1, \"('vague',)\": 1, \"('Standardized',)\": 1, \"('capitalist',)\": 1, \"('Short',)\": 1, \"('peculiar',)\": 1, \"('190point',)\": 1, \"('conspicuous',)\": 1, \"('Political',)\": 1, \"('fourcolor',)\": 1, \"('singleA',)\": 1, \"('annualized',)\": 1, \"('dark',)\": 1, \"('firm',)\": 1, \"('notable',)\": 1, \"('bottomline',)\": 1, \"('twotimelosers',)\": 1, \"('ultimate',)\": 1, \"('total',)\": 1, \"('capitalmarkets',)\": 1, \"('antimorningsickness',)\": 1, \"('31yearold',)\": 1, \"('hardcharging',)\": 1, \"('preferred',)\": 1, \"('grim',)\": 1, \"('quiet',)\": 1, \"('broad',)\": 1, \"('flagrant',)\": 1, \"('known',)\": 1, \"('unclear',)\": 1, \"('initial',)\": 1, \"('attractive',)\": 1, \"('Proper',)\": 1, \"('dismayed',)\": 1, \"('necessary',)\": 1, \"('lackluster',)\": 1, \"('botched',)\": 1, \"('thenSpeaker',)\": 1, \"('ReaganBush',)\": 1, \"('wellconnected',)\": 1, \"('floral',)\": 1, \"('Such',)\": 1, \"('longerterm',)\": 1, \"('systematic',)\": 1, \"('onemonth',)\": 1, \"('fourday',)\": 1, \"('teachercadet',)\": 1, \"('unenticing',)\": 1, \"('highestpitched',)\": 1, \"('omnipresent',)\": 1, \"('30minute',)\": 1, \"('only',)\": 1, \"('formal',)\": 1, \"('semiannual',)\": 1, \"('wild',)\": 1, \"('50state',)\": 1, \"('correct',)\": 1, \"('stellar',)\": 1, \"('deceptive',)\": 1, \"('Proforma',)\": 1, \"('sometimesexhausting',)\": 1, \"('policymaking',)\": 1, \"('accurate',)\": 1, \"('bitter',)\": 1, \"('Heightened',)\": 1, \"('Followup',)\": 1, \"('popular',)\": 1, \"('domestic',)\": 1, \"('capped',)\": 1, \"('14hour',)\": 1, \"('Australian',)\": 1, \"('very',)\": 1, \"('public',)\": 1, \"('overnight',)\": 1, \"('fouryearold',)\": 1, \"('void',)\": 1, \"('over',)\": 1, \"('laborintensive',)\": 1, \"('fiscal',)\": 1, \"('antitrust',)\": 1, \"('average',)\": 1, \"('Anglian',)\": 1, \"('Few',)\": 1, \"('statewide',)\": 1, \"('momentary',)\": 1, \"('nonfat',)\": 1, \"('true',)\": 1, \"('key',)\": 1, \"('operational',)\": 1, \"('energyservices',)\": 1, \"('sweet',)\": 1, \"('wherewithal',)\": 1, \"('weak',)\": 1, \"('shortterm',)\": 1, \"('fastgrowing',)\": 1, \"('midsized',)\": 1, \"('biannual',)\": 1, \"('global',)\": 1, \"('financial',)\": 1, \"('Individual',)\": 1, \"('lapshoulder',)\": 1, \"('late',)\": 1, \"('bluecollar',)\": 1, \"('Minneapolisbased',)\": 1, \"('final',)\": 1, \"('disproportionate',)\": 1, \"('18yearold',)\": 1, \"('bilateral',)\": 1, \"('stereotyped',)\": 1, \"('controversial',)\": 1, \"('English',)\": 1, \"('solid',)\": 1, \"('ancient',)\": 1, \"('Unable',)\": 1, \"('basic',)\": 1, \"('inherent',)\": 1, \"('deserving',)\": 1, \"('sixth',)\": 1, \"('cancercausing',)\": 1, \"('builtfromkit',)\": 1, \"('explanatory',)\": 1, \"('persistent',)\": 1, \"('Lead',)\": 1, \"('oneweek',)\": 1, \"('off',)\": 1, \"('fast',)\": 1, \"('yensupport',)\": 1, \"('anxious',)\": 1, \"('vitriolic',)\": 1, \"('anecdotal',)\": 1, \"('careful',)\": 1, \"('independent',)\": 1, \"('longterm',)\": 1, \"('confused',)\": 1, \"('obedient',)\": 1, \"('Possible',)\": 1, \"('electronic',)\": 1, \"('takeoverstock',)\": 1, \"('tissuetransplant',)\": 1, \"('firsttime',)\": 1, \"('floatingrate',)\": 1, \"('foodshop',)\": 1, \"('bigtime',)\": 1, \"('suspect',)\": 1, \"('idiomatic',)\": 1, \"('loyal',)\": 1, \"('Public',)\": 1, \"('redcarpet',)\": 1, \"('safedeposit',)\": 1, \"('various',)\": 1, \"('autosafety',)\": 1, \"('used',)\": 1, \"('unlikely',)\": 1, \"('eager',)\": 1, \"('deadeyed',)\": 1, \"('automotivelighting',)\": 1, \"('alleged',)\": 1, \"('dreadful',)\": 1, \"('cautious',)\": 1, \"('partisan',)\": 1, \"('indirect',)\": 1, \"('10lap',)\": 1, \"('highrisk',)\": 1, \"('applicable',)\": 1, \"('unloaded',)\": 1, \"('Total',)\": 1, \"('Asian',)\": 1, \"('Many',)\": 1, \"('Torontobased',)\": 1, \"('governmentcertified',)\": 1, \"('direct',)\": 1, \"('razorthin',)\": 1, \"('female',)\": 1, \"('economical',)\": 1, \"('unabated',)\": 1, \"('wrong',)\": 1, \"('extraordinary',)\": 1, \"('odd',)\": 1, \"('phony',)\": 1, \"('carsafety',)\": 1, \"('Democratic',)\": 1, \"('58yearold',)\": 1, \"('disturbing',)\": 1, \"('conceivable',)\": 1, \"('degenerative',)\": 1, \"('unstinting',)\": 1, \"('bellringing',)\": 1, \"('cozy',)\": 1, \"('flashy',)\": 1, \"('ongoing',)\": 1, \"('First',)\": 1, \"('unwashed',)\": 1, \"('promising',)\": 1, \"('bilingual',)\": 1, \"('prodemocracy',)\": 1, \"('lasting',)\": 1, \"('primary',)\": 1, \"('helpful',)\": 1, \"('relieved',)\": 1, \"('severable',)\": 1, \"('Long',)\": 1, \"('demographic',)\": 1, \"('freelance',)\": 1, \"('84month',)\": 1, \"('modest',)\": 1, \"('responsive',)\": 1, \"('Argentine',)\": 1, \"('programtrading',)\": 1, \"('consecutive',)\": 1, \"('general',)\": 1, \"('private',)\": 1, \"('unfunded',)\": 1, \"('noble',)\": 1, \"('superior',)\": 1, \"('nameless',)\": 1, \"('moneycenter',)\": 1, \"('longstanding',)\": 1, \"('forcing',)\": 1, \"('Roman',)\": 1, \"('needlelike',)\": 1, \"('chocolate',)\": 1, \"('juvenile',)\": 1, \"('secondary',)\": 1, \"('sole',)\": 1, \"('alive',)\": 1, \"('powerful',)\": 1, \"('hospitable',)\": 1, \"('Dollaryen',)\": 1, \"('crib',)\": 1, \"('prying',)\": 1, \"('oneyen',)\": 1, \"('62%owned',)\": 1, \"('recyclable',)\": 1, \"('military',)\": 1, \"('8300',)\": 1, \"('disparate',)\": 1, \"('goodhearted',)\": 1, \"('hierarchical',)\": 1, \"('mediumsized',)\": 1, \"('sixbottle',)\": 1, \"('technical',)\": 1, \"('150point',)\": 1, \"('cavernous',)\": 1, \"('psychiatric',)\": 1, \"('free',)\": 1, \"('highrise',)\": 1, \"('courtordered',)\": 1, \"('Typical',)\": 1, \"('practical',)\": 1, \"('ill',)\": 1, \"('inappropriate',)\": 1, \"('Scandinavian',)\": 1, \"('crystallattice',)\": 1, \"('own',)\": 1, \"('theological',)\": 1, \"('confidential',)\": 1, \"('dead',)\": 1, \"('confrontational',)\": 1, \"('excessive',)\": 1, \"('benign',)\": 1, \"('tabloid',)\": 1, \"('impressive',)\": 1, \"('selfregulatory',)\": 1, \"('brief',)\": 1, \"('Republican',)\": 1, \"('Swiss',)\": 1, \"('proof',)\": 1, \"('54yearold',)\": 1, \"('electric',)\": 1, \"('compelling',)\": 1, \"('blackandwhite',)\": 1, \"('and',)\": 1, \"('minor',)\": 1, \"('threeyear',)\": 1, \"('educational',)\": 1, \"('COMMERCIAL',)\": 1, \"('differential',)\": 1, \"('low',)\": 1, \"('nominal',)\": 1, \"('twoletter',)\": 1, \"('little',)\": 1, \"('mouthup',)\": 1, \"('unheard',)\": 1, \"('elementary',)\": 1, \"('socalled',)\": 1, \"('marketshare',)\": 1, \"('63yearold',)\": 1, \"('whenissued',)\": 1, \"('infectious',)\": 1, \"('lousy',)\": 1, \"('incapable',)\": 1, \"('warrationed',)\": 1, \"('36day',)\": 1, \"('citizensparked',)\": 1, \"('personal',)\": 1, \"('cashrich',)\": 1, \"('diversionary',)\": 1, \"('excess',)\": 1, \"('additional',)\": 1, \"('Longterm',)\": 1, \"('Hawaiian',)\": 1, \"('oneyear',)\": 1, \"('legislative',)\": 1, \"('nearby',)\": 1, \"('metropolitan',)\": 1, \"('impartial',)\": 1, \"('synthetic',)\": 1, \"('winning',)\": 1, \"('Skilled',)\": 1, \"('yttriumcontaining',)\": 1, \"('cityowned',)\": 1, \"('breathtaking',)\": 1, \"('sentimental',)\": 1, \"('impudent',)\": 1, \"('tough',)\": 1, \"('convertible',)\": 1, \"('eligible',)\": 1, \"('ethical',)\": 1, \"('maleonly',)\": 1, \"('intraocular',)\": 1, \"('Muzzling',)\": 1, \"('packed',)\": 1, \"('fiberend',)\": 1, \"('redandwhite',)\": 1, \"('separate',)\": 1, \"('unfair',)\": 1, \"('volatile',)\": 1, \"('25yearold',)\": 1, \"('Chinese',)\": 1, \"('distasteful',)\": 1, \"('consonant',)\": 1, \"('weekly',)\": 1, \"('curly',)\": 1, \"('selfperpetuating',)\": 1, \"('staggering',)\": 1, \"('Homeless',)\": 1, \"('30year',)\": 1, \"('yearlong',)\": 1, \"('batteryoperated',)\": 1, \"('affordable',)\": 1, \"('howto',)\": 1, \"('yielding',)\": 1, \"('overthecounter',)\": 1, \"('testpractice',)\": 1, \"('resilient',)\": 1, \"('unique',)\": 1, \"('elderly',)\": 1, \"('uncomfortable',)\": 1, \"('Nearby',)\": 1, \"('Southeast',)\": 1, \"('fierce',)\": 1, \"('African',)\": 1, \"('foul',)\": 1, \"('untrained',)\": 1, \"('Economic',)\": 1, \"('onethird',)\": 1, \"('severe',)\": 1, \"('unreasonable',)\": 1, \"('TIRED',)\": 1, \"('lowtech',)\": 1, \"('common',)\": 1, \"('playful',)\": 1, \"('captivating',)\": 1, \"('crucial',)\": 1, \"('drunk',)\": 1, \"('homeless',)\": 1, \"('billiondollar',)\": 1, \"('antidrug',)\": 1, \"('receptive',)\": 1, \"('wrenching',)\": 1, \"('chary',)\": 1, \"('strong',)\": 1, \"('obvious',)\": 1, \"('municipal',)\": 1, \"('moneymarket',)\": 1, \"('erroneous',)\": 1, \"('machineguntoting',)\": 1, \"('improbable',)\": 1, \"('unchanged',)\": 1, \"('recessionary',)\": 1, \"('electrical',)\": 1, \"('illegal',)\": 1, \"('deluxe',)\": 1, \"('if',)\": 1, \"('whitecollar',)\": 1, \"('schoolsponsored',)\": 1, \"('pickup',)\": 1, \"('materialistic',)\": 1, \"('Americanmade',)\": 1, \"('70ashare',)\": 1, \"('friendly',)\": 1, \"('truthful',)\": 1, \"('lowpriced',)\": 1, \"('foreignled',)\": 1, \"('counterrevolutionary',)\": 1, \"('impossible',)\": 1, \"('Big',)\": 1, \"('strongwilled',)\": 1, \"('undisclosed',)\": 1, \"('Average',)\": 1, \"('large',)\": 1, \"('fragile',)\": 1, \"('dutyfree',)\": 1, \"('original',)\": 1, \"('electricalsafety',)\": 1, \"('highyield',)\": 1, \"('Basic',)\": 1, \"('adjustable',)\": 1, \"('inaccurate',)\": 1, \"('startling',)\": 1, \"('beaten',)\": 1, \"('grand',)\": 1, \"('gutwrenching',)\": 1, \"('nonresidential',)\": 1, \"('speculative',)\": 1, \"('500stock',)\": 1, \"('gubernatorial',)\": 1, \"('carefree',)\": 1, \"('democratic',)\": 1, \"('industrialproduction',)\": 1, \"('conventional',)\": 1, \"('amusing',)\": 1, \"('genuine',)\": 1, \"('main',)\": 1, \"('nutty',)\": 1, \"('Fourth',)\": 1, \"('69point',)\": 1, \"('Other',)\": 1, \"('minute',)\": 1, \"('simple',)\": 1, \"('neat',)\": 1, \"('fetal',)\": 1, \"('retentive',)\": 1, \"('short',)\": 1, \"('21month',)\": 1, \"('wealthy',)\": 1, \"('onenewspaper',)\": 1, \"('joint',)\": 1, \"('buttoneddown',)\": 1, \"('pageone',)\": 1, \"('tripleArated',)\": 1, \"('housingassistance',)\": 1, \"('doubleA',)\": 1, \"('nice',)\": 1, \"('regulatory',)\": 1, \"('FEDERAL',)\": 1, \"('next',)\": 1, \"('organized',)\": 1, \"('plenty',)\": 1, \"('double',)\": 1, \"('resistant',)\": 1, \"('red',)\": 1, \"('venerable',)\": 1, \"('conservative',)\": 1, \"('Philippine',)\": 1, \"('dramatic',)\": 1, \"('lineitem',)\": 1, \"('perpetual',)\": 1, \"('eternal',)\": 1, \"('outrageous',)\": 1, \"('lowball',)\": 1, \"('bicameral',)\": 1, \"('excise',)\": 1, \"('worthy',)\": 1, \"('antiChina',)\": 1, \"('comprehensive',)\": 1, \"('growing',)\": 1, \"('oldfashioned',)\": 1, \"('feudal',)\": 1, \"('young',)\": 1, \"('unsecured',)\": 1, \"('fearful',)\": 1, \"('spectacular',)\": 1, \"('ceramic',)\": 1, \"('familyplanning',)\": 1, \"('letterwriting',)\": 1, \"('concrete',)\": 1, \"('paltry',)\": 1, \"('rethought',)\": 1, \"('statesupervised',)\": 1, \"('interested',)\": 1, \"('journalistic',)\": 1, \"('securitiesbased',)\": 1, \"('leery',)\": 1, \"('minimal',)\": 1, \"('big',)\": 1, \"('lovely',)\": 1, \"('12member',)\": 1, \"('positive',)\": 1, \"('heated',)\": 1, \"('whimsical',)\": 1, \"('newhome',)\": 1, \"('oddsounding',)\": 1, \"('elusive',)\": 1, \"('yeartoyear',)\": 1, \"('U.S.Japanese',)\": 1, \"('sharp',)\": 1, \"('mutual',)\": 1, \"('valuable',)\": 1, \"('discretionary',)\": 1, \"('crash',)\": 1, \"('Private',)\": 1, \"('cashflow',)\": 1, \"('Small',)\": 1, \"('nearly',)\": 1, \"('sure',)\": 1, \"('pressured',)\": 1, \"('toplevel',)\": 1, \"('roofcrush',)\": 1, \"('residential',)\": 1, \"('significant',)\": 1, \"('selfaggrandizing',)\": 1, \"('unjust',)\": 1, \"('strategic',)\": 1, \"('thin',)\": 1, \"('inspirational',)\": 1, \"('needed',)\": 1, \"('sassy',)\": 1, \"('damaged',)\": 1, \"('strict',)\": 1, \"('easy',)\": 1, \"('prefectural',)\": 1, \"('healthy',)\": 1, \"('intermediate',)\": 1, \"('classical',)\": 1, \"('vast',)\": 1, \"('engaging',)\": 1, \"('tight',)\": 1, \"('Retail',)\": 1, \"('youthful',)\": 1, \"('fundamentalist',)\": 1, \"('sixmonth',)\": 1, \"('local',)\": 1, \"('erudite',)\": 1, \"('stupid',)\": 1, \"('improper',)\": 1, \"('automotiveparts',)\": 1, \"('multibilliondollar',)\": 1, \"('troubled',)\": 1, \"('harddrinking',)\": 1, \"('mushy',)\": 1, \"('oncampus',)\": 1, \"('inverted',)\": 1, \"('Redblooded',)\": 1, \"('twoyear',)\": 1, \"('mindboggling',)\": 1, \"('troublesome',)\": 1, \"('Close',)\": 1, \"('straight',)\": 1, \"('seventh',)\": 1, \"('unimpeded',)\": 1, \"('downward',)\": 1, \"('extramarital',)\": 1, \"('unwilling',)\": 1, \"('undiplomatic',)\": 1, \"('Later',)\": 1, \"('costbenefit',)\": 1, \"('Londonbased',)\": 1, \"('feline',)\": 1, \"('nationwide',)\": 1, \"('nonreligious',)\": 1, \"('tripleA',)\": 1, \"('gradual',)\": 1, \"('disruptive',)\": 1, \"('Huge',)\": 1, \"('verbatim',)\": 1, \"('front',)\": 1, \"('distributable',)\": 1, \"('highbalance',)\": 1, \"('combined',)\": 1, \"('evil',)\": 1, \"('outright',)\": 1, \"('discordant',)\": 1, \"('likely',)\": 1, \"('Crude',)\": 1, \"('precious',)\": 1, \"('complicated',)\": 1, \"('Italian',)\": 1, \"('Much',)\": 1, \"('bright',)\": 1, \"('unpublished',)\": 1, \"('crushed',)\": 1, \"('tiny',)\": 1, \"('nonprofit',)\": 1, \"('pensionfund',)\": 1, \"('galling',)\": 1, \"('fond',)\": 1, \"('hightech',)\": 1, \"('precooked',)\": 1, \"('cute',)\": 1, \"('threelawyer',)\": 1, \"('Yorkbased',)\": 1, \"('nervous',)\": 1, \"('north',)\": 1, \"('lucky',)\": 1, \"('serious',)\": 1, \"('current',)\": 1, \"('trivial',)\": 1, \"('noncallable',)\": 1, \"('bloody',)\": 1, \"('fourth',)\": 1, \"('first',)\": 1, \"('leveraged',)\": 1, \"('middleground',)\": 1, \"('%',)\": 1, \"('gilt',)\": 1, \"('rough',)\": 1, \"('petulant',)\": 1, \"('sluggish',)\": 1, \"('tumultuous',)\": 1, \"('preventative',)\": 1, \"('scholarly',)\": 1, \"('prominent',)\": 1, \"('Testpreparation',)\": 1, \"('recipient',)\": 1, \"('Nasty',)\": 1, \"('junkbond',)\": 1, \"('needy',)\": 1, \"('foreign',)\": 1, \"('nondurable',)\": 1, \"('vagrant',)\": 1, \"('Financial',)\": 1, \"('frantic',)\": 1, \"('northern',)\": 1, \"('futuresrelated',)\": 1, \"('planned',)\": 1, \"('standardized',)\": 1, \"('disagreeable',)\": 1, \"('Americanstyle',)\": 1, \"('clear',)\": 1, \"('Costeffective',)\": 1, \"('51yearold',)\": 1, \"('unanimous',)\": 1, \"('Encouraged',)\": 1, \"('satisfactory',)\": 1, \"('selfserving',)\": 1, \"('split',)\": 1, \"('statutory',)\": 1, \"('institutional',)\": 1, \"('15day',)\": 1, \"('Western',)\": 1, \"('Englishspeaking',)\": 1, \"('identical',)\": 1, \"('compatible',)\": 1, \"('regional',)\": 1, \"('senior',)\": 1, \"('millionayear',)\": 1, \"('entertaining',)\": 1, \"('contemporary',)\": 1, \"('worstcase',)\": 1, \"('onecountry',)\": 1, \"('recessioninspired',)\": 1, \"('dusty',)\": 1, \"('intricate',)\": 1, \"('rear',)\": 1, \"('flatulent',)\": 1, \"('lucrative',)\": 1, \"('shortwave',)\": 1, \"('principal',)\": 1, \"('stockpicking',)\": 1, \"('homemarket',)\": 1, \"('Corporate',)\": 1, \"('hardesthit',)\": 1, \"('tiebreaking',)\": 1, \"('angry',)\": 1, \"('fixedrate',)\": 1, \"('foreignstock',)\": 1, \"('assetsale',)\": 1, \"('progressive',)\": 1, \"('much',)\": 1, \"('gentle',)\": 1, \"('rural',)\": 1, \"('shallow',)\": 1, \"('unsuccessful',)\": 1, \"('stockindex',)\": 1, \"('outside',)\": 1, \"('substantial',)\": 1, \"('directmail',)\": 1, \"('travelrelated',)\": 1, \"('newsworthy',)\": 1, \"('empty',)\": 1, \"('physical',)\": 1, \"('fetaltissue',)\": 1, \"('Washingtonbased',)\": 1, \"('following',)\": 1, \"('worth',)\": 1, \"('smalltime',)\": 1, \"('lowcost',)\": 1, \"('European',)\": 1, \"('East',)\": 1, \"('consumerdriven',)\": 1, \"('Due',)\": 1, \"('seasonal',)\": 1, \"('Dutch',)\": 1, \"('sinister',)\": 1, \"('single',)\": 1, \"('firstrate',)\": 1, \"('retractable',)\": 1, \"('striking',)\": 1, \"('indexfund',)\": 1, \"('precise',)\": 1, \"('bad',)\": 1, \"('Nipponese',)\": 1, \"('longtime',)\": 1, \"('Supportive',)\": 1, \"('profitable',)\": 1, \"('baldfaced',)\": 1, \"('exclusive',)\": 1, \"('ambitious',)\": 1, \"('clannish',)\": 1, \"('classic',)\": 1, \"('small',)\": 1, \"('damaging',)\": 1, \"('Renaissancestyle',)\": 1, \"('liable',)\": 1, \"('daycare',)\": 1, \"('NIHappointed',)\": 1, \"('academic',)\": 1, \"('Second',)\": 1, \"('old',)\": 1, \"('social',)\": 1, \"('daily',)\": 1, \"('interior',)\": 1, \"('composite',)\": 1, \"('computeraided',)\": 1, \"('sevenday',)\": 1, \"('64yearold',)\": 1, \"('influential',)\": 1, \"('magnetic',)\": 1, \"('underlying',)\": 1, \"('longtenured',)\": 1, \"('yendenominated',)\": 1, \"('largescale',)\": 1, \"('Federal',)\": 1, \"('wouldbe',)\": 1, \"('leading',)\": 1, \"('schoolimprovement',)\": 1, \"('middle',)\": 1, \"('complete',)\": 1, \"('nineyear',)\": 1, \"('unable',)\": 1, \"('unpleasant',)\": 1, \"('10th',)\": 1, \"('unsympathetic',)\": 1, \"('literary',)\": 1, \"('preliminary',)\": 1, \"('natural',)\": 1, \"('plastic',)\": 1, \"('explosive',)\": 1, \"('onehouse',)\": 1, \"('whipping',)\": 1, \"('more',)\": 1, \"('immediate',)\": 1, \"('professional',)\": 1, \"('regrettable',)\": 1, \"('mobile',)\": 1, \"('oldtime',)\": 1, \"('Bermudabased',)\": 1, \"('consistent',)\": 1, \"('punishable',)\": 1, \"('guilty',)\": 1, \"('favorite',)\": 1, \"('mere',)\": 1, \"('noncore',)\": 1, \"('fabled',)\": 1, \"('disciplinary',)\": 1, \"('mental',)\": 1, \"('Highgrade',)\": 1, \"('largerthannormal',)\": 1, \"('marketoriented',)\": 1, \"('cardiovascular',)\": 1, \"('laborbacked',)\": 1, \"('cyclical',)\": 1, \"('malignant',)\": 1, \"('near',)\": 1, \"('harmful',)\": 1, \"('inadequate',)\": 1, \"('supportive',)\": 1, \"('blue',)\": 1, \"('contrary',)\": 1, \"('nuclear',)\": 1, \"('light',)\": 1, \"('British',)\": 1, \"('yellow',)\": 1, \"('yearearlier',)\": 1, \"('questionable',)\": 1, \"('computerassisted',)\": 1, \"('widespread',)\": 1, \"('feasible',)\": 1, \"('enough',)\": 1, \"('bluechip',)\": 1, \"('buyout',)\": 1, \"('highvolume',)\": 1, \"('safe',)\": 1, \"('desultory',)\": 1, \"('male',)\": 1, \"('insidious',)\": 1, \"('fouryear',)\": 1, \"('slippery',)\": 1, \"('permanent',)\": 1, \"('U.S.',)\": 1, \"('modernday',)\": 1, \"('net',)\": 1, \"('preset',)\": 1, \"('New',)\": 1, \"('disembodied',)\": 1, \"('bigticket',)\": 1, \"('disappointed',)\": 1, \"('mergerrelated',)\": 1, \"('undesirable',)\": 1, \"('automotive',)\": 1, \"('17yearold',)\": 1, \"('supercilious',)\": 1, \"('topselling',)\": 1, \"('distant',)\": 1, \"('unfocused',)\": 1, \"('midsize',)\": 1, \"('instrumental',)\": 1, \"('suburban',)\": 1, \"('negotiable',)\": 1, \"('possible',)\": 1, \"('fundamental',)\": 1, \"('Solomonic',)\": 1, \"('stunned',)\": 1, \"('mature',)\": 1, \"('symbolic',)\": 1, \"('endless',)\": 1, \"('inner',)\": 1, \"('directinvestment',)\": 1, \"('resigned',)\": 1, \"('convenient',)\": 1, \"('presidential',)\": 1, \"('moreefficient',)\": 1, \"('second',)\": 1, \"('huge',)\": 1, \"('winebuying',)\": 1, \"('full',)\": 1, \"('pricesupport',)\": 1, \"('able',)\": 1, \"('uncomplaining',)\": 1, \"('vicious',)\": 1, \"('getoutthevote',)\": 1, \"('castiron',)\": 1, \"('fulllength',)\": 1, \"('raw',)\": 1, \"('dropoff',)\": 1, \"('100share',)\": 1, \"('ratesensitive',)\": 1, \"('currentcarrying',)\": 1, \"('productdesign',)\": 1, \"('multilevel',)\": 1, \"('90day',)\": 1, \"('wholesale',)\": 1, \"('agricultural',)\": 1, \"('subordinate',)\": 1, \"('Current',)\": 1, \"('11th',)\": 1, \"('austere',)\": 1, \"('energetic',)\": 1, \"('Sept.',)\": 1, \"('lighttruck',)\": 1, \"('collectivebargaining',)\": 1, \"('unaware',)\": 1, \"('heavyduty',)\": 1, \"('sunny',)\": 1, \"('the',)\": 1, \"('high',)\": 1, \"('head',)\": 1, \"('useful',)\": 1, \"('meaningful',)\": 1, \"('10year',)\": 1, \"('central',)\": 1, \"('coincidental',)\": 1, \"('62yearold',)\": 1, \"('related',)\": 1, \"('promotional',)\": 1, \"('administrative',)\": 1, \"('integrated',)\": 1, \"('Negotiable',)\": 1, \"('sexy',)\": 1, \"('economic',)\": 1, \"('everyday',)\": 1, \"('unlike',)\": 1, \"('legal',)\": 1, \"('same',)\": 1, \"('considerable',)\": 1, \"('tubular',)\": 1, \"('familiar',)\": 1, \"('53yearold',)\": 1, \"('40yearold',)\": 1, \"('tender',)\": 1, \"('detailed',)\": 1, \"('bottom',)\": 1, \"('prospective',)\": 1, \"('blind',)\": 1, \"('mean',)\": 1, \"('unneeded',)\": 1, \"('unfathomable',)\": 1, \"('silent',)\": 1, \"('dry',)\": 1, \"('a',)\": 1, \"('Varying',)\": 1, \"('even',)\": 1, \"('roundtrip',)\": 1, \"('humble',)\": 1, \"('critical',)\": 1, \"('stable',)\": 1, \"('conditional',)\": 1, \"('diplomatic',)\": 1, \"('close',)\": 1, \"('standard',)\": 1, \"('absurd',)\": 1, \"('halfhour',)\": 1, \"('Philadelphiabased',)\": 1, \"('lightningfast',)\": 1, \"('substanceabusing',)\": 1, \"('furious',)\": 1, \"('effective',)\": 1, \"('shirtsleeved',)\": 1, \"('antimiscarriage',)\": 1, \"('special',)\": 1, \"('exceptional',)\": 1, \"('athletic',)\": 1, \"('historical',)\": 1, \"('working',)\": 1, \"('yearago',)\": 1, \"('former',)\": 1, \"('automatic',)\": 1, \"('sudden',)\": 1, \"('teenage',)\": 1, \"('unjustified',)\": 1, \"('gross',)\": 1, \"('openend',)\": 1, \"('disasterassistance',)\": 1, \"('asbestosrelated',)\": 1, \"('238,000circulation',)\": 1, \"('seasoned',)\": 1, \"('top',)\": 1, \"('highpriced',)\": 1, \"('appropriate',)\": 1, \"('parallel',)\": 1, \"('limited',)\": 1, \"('facial',)\": 1, \"('capitalgains',)\": 1, \"('Last',)\": 1, \"('Serial',)\": 1, \"('different',)\": 1, \"('tired',)\": 1, \"('similar',)\": 1, \"('unsolicited',)\": 1, \"('further',)\": 1, \"('kind',)\": 1, \"('American',)\": 1, \"('realestate',)\": 1, \"('difficult',)\": 1, \"('lofty',)\": 1, \"('moderate',)\": 1, \"('interesting',)\": 1, \"('Japanese',)\": 1, \"('muchlarger',)\": 1, \"('impetuous',)\": 1, \"('interestbearing',)\": 1, \"('congressional',)\": 1, \"('Net',)\": 1, \"('competitive',)\": 1, \"('numerous',)\": 1, \"('searchandseizure',)\": 1, \"('eighth',)\": 1, \"('regular',)\": 1, \"('inauspicious',)\": 1, \"('U.S.Japan',)\": 1, \"('intense',)\": 1, \"('mostlikelysuccessor',)\": 1, \"('bureaucratic',)\": 1, \"('threedigit',)\": 1, \"('securitytype',)\": 1, \"('altruistic',)\": 1, \"('Christian',)\": 1, \"('poignant',)\": 1, \"('happy',)\": 1, \"('fat',)\": 1, \"('stiff',)\": 1, \"('unitary',)\": 1, \"('peripheral',)\": 1, \"('airlinerelated',)\": 1, \"('antiabortion',)\": 1, \"('foldable',)\": 1, \"('finite',)\": 1, \"('hot',)\": 1, \"('exportoriented',)\": 1, \"('privileged',)\": 1, \"('childish',)\": 1, \"('oldstyle',)\": 1, \"('stateowned',)\": 1, \"('twotiered',)\": 1, \"('white',)\": 1, \"('industrywide',)\": 1, \"('whole',)\": 1, \"('beneficial',)\": 1, \"('offyear',)\": 1, \"('intriguing',)\": 1, \"('closedend',)\": 1, \"('aftertax',)\": 1, \"('dragdown',)\": 1, \"('stockselection',)\": 1, \"('soured',)\": 1, \"('persuasive',)\": 1, \"('topyielding',)\": 1, \"('sidecrash',)\": 1, \"('avid',)\": 1, \"('doubledigit',)\": 1, \"('Preliminary',)\": 1, \"('semicircular',)\": 1, \"('preexisting',)\": 1, \"('highrate',)\": 1, \"('Austrian',)\": 1, \"('annual',)\": 1, \"('international',)\": 1, \"('chaotic',)\": 1, \"('greedy',)\": 1, \"('embarrassing',)\": 1, \"('bearish',)\": 1, \"('hostile',)\": 1, \"('slack',)\": 1, \"('disappointing',)\": 1, \"('interim',)\": 1, \"('mundane',)\": 1, \"('pricedepressing',)\": 1, \"('unproductive',)\": 1, \"('hefty',)\": 1, \"('sensitive',)\": 1, \"('sound',)\": 1, \"('far',)\": 1, \"('recent',)\": 1, \"('standing',)\": 1, \"('civil',)\": 1, \"('ancillary',)\": 1, \"('akin',)\": 1, \"('back',)\": 1, \"('confident',)\": 1, \"('nearrecord',)\": 1, \"('schoolresearch',)\": 1, \"('socialist',)\": 1, \"('taxable',)\": 1, \"('criminal',)\": 1, \"('rich',)\": 1, \"('responsible',)\": 1, \"('unmarked',)\": 1, \"('brilliant',)\": 1, \"('unofficial',)\": 1, \"('entire',)\": 1, \"('fiveyear',)\": 1, \"('exact',)\": 1, \"('highlevel',)\": 1, \"('assistant',)\": 1, \"('architectural',)\": 1, \"('10day',)\": 1, \"('homosexual',)\": 1, \"('fiberoptic',)\": 1, \"('twoyearold',)\": 1, \"('predictable',)\": 1, \"('visible',)\": 1, \"('goodnatured',)\": 1, \"('Strategic',)\": 1, \"('Next',)\": 1, \"('fluent',)\": 1, \"('egregious',)\": 1, \"('offoff',)\": 1, \"('later',)\": 1, \"('dirty',)\": 1, \"('brutal',)\": 1, \"('20point',)\": 1, \"('mediocre',)\": 1, \"('indexarbitrage',)\": 1, \"('human',)\": 1, \"('aggressive',)\": 1, \"('lynchmob',)\": 1, \"('52week',)\": 1, \"('Several',)\": 1, \"('controlled',)\": 1, \"('crude',)\": 1, \"('dollardenominated',)\": 1, \"('ideological',)\": 1, \"('medical',)\": 1, \"('early',)\": 1, \"('smooth',)\": 1, \"('preapproved',)\": 1, \"('weJapanese',)\": 1, \"('steady',)\": 1, \"('ordinary',)\": 1, \"('countless',)\": 1, \"('future',)\": 1, \"('Perpetual',)\": 1, \"('environmental',)\": 1, \"('intellectual',)\": 1, \"('vacant',)\": 1, \"('sufficient',)\": 1, \"('carcare',)\": 1, \"('imaginative',)\": 1, \"('Strong',)\": 1, \"('fellow',)\": 1, \"('promissory',)\": 1, \"('tremendous',)\": 1, \"('famed',)\": 1, \"('flat',)\": 1, \"('worldwide',)\": 1, \"('equitypurchase',)\": 1, \"('Comprehensive',)\": 1, \"('funny',)\": 1, \"('shaded',)\": 1, \"('desirable',)\": 1, \"('JUDICIAL',)\": 1, \"('quick',)\": 1, \"('stark',)\": 1, \"('timely',)\": 1, \"('above',)\": 1, \"('hypothetical',)\": 1, \"('poor',)\": 1, \"('German',)\": 1, \"('overhead',)\": 1, \"('uncanny',)\": 1, \"('eightmonth',)\": 1, \"('negative',)\": 1, \"('hard',)\": 1, \"('continental',)\": 1, \"('computergenerated',)\": 1, \"('cumbersome',)\": 1, \"('bankbacked',)\": 1, \"('testpreparation',)\": 1, \"('successful',)\": 1, \"('rapid',)\": 1, \"('moraledamaging',)\": 1, \"('myriad',)\": 1, \"('enviable',)\": 1, \"('subject',)\": 1, \"('unworkable',)\": 1, \"('30point',)\": 1, \"('lowerpriority',)\": 1, \"('buyback',)\": 1, \"('upward',)\": 1, \"('singlelot',)\": 1, \"('pharmaceutical',)\": 1, \"('potential',)\": 1, \"('singlefamily',)\": 1, \"('multicrystal',)\": 1, \"('lowability',)\": 1, \"('fresh',)\": 1, \"('pre',)\": 2, \"('square',)\": 1, \"('unrecognizable',)\": 1, \"('replete',)\": 1, \"('doityourself',)\": 1, \"('sometimestawdry',)\": 1, \"('right',)\": 1, \"('intentioned',)\": 1, \"('temporary',)\": 1, \"('ninth',)\": 1, \"('scientific',)\": 1, \"('sympathetic',)\": 1, \"('aghast',)\": 1, \"('37ashare',)\": 1, \"('political',)\": 1, \"('12point',)\": 1, \"('wary',)\": 1, \"('cutthroat',)\": 1, \"('unfairtrade',)\": 1, \"('mammoth',)\": 1, \"('prescient',)\": 1, \"('judicial',)\": 1, \"('raring',)\": 1, \"('lessthanbrilliant',)\": 1, \"('59yearold',)\": 1, \"('fivepoint',)\": 1, \"('unproven',)\": 1, \"('gloomy',)\": 1, \"('black',)\": 1, \"('actual',)\": 1, \"('highquality',)\": 1, \"('chief',)\": 1, \"('record',)\": 1, \"('open',)\": 1, \"('posthearing',)\": 1, \"('steep',)\": 1, \"('deviant',)\": 1, \"('executive',)\": 1, \"('fastestgrowing',)\": 1, \"('many',)\": 1, \"('harsh',)\": 1, \"('wardamaged',)\": 1, \"('fifth',)\": 1, \"('governmentfunded',)\": 1, \"('outstanding',)\": 1, \"('fiveinch',)\": 1, \"('nonencapsulating',)\": 1, \"('mortgagebacked',)\": 1, \"('historic',)\": 1, \"('definitive',)\": 1, \"('advertorial',)\": 1, \"('incomplete',)\": 1, \"('robotic',)\": 1, \"('cohesive',)\": 1, \"('tense',)\": 1, \"('preCommunist',)\": 1, \"('antitakeover',)\": 1, \"('complex',)\": 1, \"('whirling',)\": 1, \"('520lawyer',)\": 1, \"('third',)\": 1, \"('secondlargest',)\": 1, \"('N.J.based',)\": 1, \"('broadbased',)\": 1, \"('sevenyear',)\": 1, \"('SenateHouse',)\": 1, \"('aware',)\": 1, \"('solicitous',)\": 1, \"('mechanical',)\": 1, \"('photographic',)\": 1, \"('dropin',)\": 1, \"('Medical',)\": 1, \"('soft',)\": 1, \"('external',)\": 1, \"('lessserious',)\": 1, \"('Uzimodel',)\": 1, \"('monied',)\": 1, \"('elaborate',)\": 1, \"('overleveraged',)\": 1, \"('contingencyfee',)\": 1, \"('moneylosing',)\": 1, \"('metric',)\": 1, \"('touchy',)\": 1, \"('relative',)\": 1, \"('highersalaried',)\": 1, \"('benevolent',)\": 1, \"('implicit',)\": 1, \"('new',)\": 1, \"('usual',)\": 1, \"('gigantic',)\": 1, \"('geometrical',)\": 1, \"('long',)\": 1, \"('sweeping',)\": 1, \"('accelerated',)\": 1, \"('nonexecutive',)\": 1, \"('Egyptian',)\": 1, \"('solemn',)\": 1, \"('adequate',)\": 1, \"('upstate',)\": 1, \"('Franciscobased',)\": 1, \"('equal',)\": 1, \"('inevitable',)\": 1, \"('entangled',)\": 1, \"('preemptive',)\": 1, \"('wide',)\": 1, \"('eclectic',)\": 1, \"('evident',)\": 1, \"('Industrial',)\": 1, \"('slow',)\": 1, \"('extensive',)\": 1, \"('fit',)\": 1, \"('princely',)\": 1, \"('superabsorbent',)\": 1, \"('astronomical',)\": 1, \"('due',)\": 1, \"('sprawling',)\": 1, \"('enormous',)\": 1, \"('objectionable',)\": 1, \"('sportutility',)\": 1, \"('major',)\": 1, \"('scenic',)\": 1, \"('previous',)\": 1, \"('High',)\": 1, \"('partsengineering',)\": 1, \"('90centanhour',)\": 1, \"('upset',)\": 1, \"('incredible',)\": 1, \"('shortlived',)\": 1, \"('willing',)\": 1, \"('loose',)\": 1, \"('specific',)\": 1, \"('cool',)\": 1, \"('wellknown',)\": 1, \"('efficient',)\": 1, \"('distorted',)\": 1, \"('beautiful',)\": 1, \"('Great',)\": 1, \"('heavy',)\": 1, \"('computerized',)\": 1, \"('official',)\": 1, \"('sorry',)\": 1, \"('protracted',)\": 1, \"('loathsome',)\": 1, \"('exciting',)\": 1, \"('docile',)\": 1, \"('ornamental',)\": 1, \"('rival',)\": 1, \"('industrial',)\": 1, \"('generic',)\": 1, \"('bold',)\": 1, \"('knowledgeable',)\": 1, \"('canine',)\": 1, \"('languagehousekeeper',)\": 1, \"('fulltime',)\": 1, \"('national',)\": 1, \"('laughing',)\": 1, \"('afraid',)\": 1, \"('thirdquarter',)\": 1, \"('ninemember',)\": 1, \"('unwary',)\": 1, \"('muzzling',)\": 1, \"('constitutional',)\": 1, \"('lendlease',)\": 1, \"('arched',)\": 1, \"('commercial',)\": 1, \"('interstate',)\": 1, \"('unconstitutional',)\": 1, \"('unrestricted',)\": 1, \"('Oddyear',)\": 1, \"('regimented',)\": 1, \"('narrow',)\": 1, \"('hazardous',)\": 1, \"('certain',)\": 1, \"('immune',)\": 1, \"('30day',)\": 1, \"('tasty',)\": 1, \"('good',)\": 1, \"('past',)\": 1, \"('closing',)\": 1, \"('unhappy',)\": 1, \"('apprehensive',)\": 1, \"('summer\\\\/winter',)\": 1, \"('available',)\": 1, \"('melttextured',)\": 1, \"('insidertrading',)\": 1, \"('Sacramentobased',)\": 1, \"('savingsandloan',)\": 1, \"('overall',)\": 1, \"('unattractive',)\": 1, \"('absolute',)\": 1, \"('Abrupt',)\": 1, \"('copkiller',)\": 1, \"('level',)\": 1, \"('devastating',)\": 1, \"('subsequent',)\": 1, \"('minimum',)\": 1, \"('sprightly',)\": 1, \"('Canadian',)\": 1, \"('balanced',)\": 1, \"('other',)\": 1, \"('Justice',)\": 1, \"('fourfoothigh',)\": 1, \"('corporate',)\": 1, \"('depositary',)\": 1, \"('testprep',)\": 1, \"('rundown',)\": 1, \"('sixinch',)\": 1, \"('revenuedesperate',)\": 1, \"('onehour',)\": 1, \"('enlarged',)\": 1, \"('dismal',)\": 1, \"('underprivileged',)\": 1, \"('pursuant',)\": 1, \"('emotional',)\": 1, \"('comparable',)\": 1, \"('individual',)\": 1, \"('Polish',)\": 1, \"('roughhewn',)\": 1, \"('Soviet',)\": 1, \"('few',)\": 1, \"('abortionrelated',)\": 1, \"('Funny',)\": 1, \"('tall',)\": 1, \"('onetime',)\": 1, \"('Traditional',)\": 1, \"('Czech',)\": 1, \"('antiprogram',)\": 1, \"('unethical',)\": 1, \"('videoviewing',)\": 1, \"('intellectualproperty',)\": 1, \"('important',)\": 1, \"('sizable',)\": 1, \"('oneday',)\": 1, \"('hardhitting',)\": 1, \"('Palestinian',)\": 1, \"('collective',)\": 1, \"('unusual',)\": 1, \"('extra',)\": 1, \"('sophisticated',)\": 1, \"('unauthorized',)\": 1, \"('payable',)\": 1, \"('testcoaching',)\": 1, \"('decisive',)\": 1, \"('240page',)\": 1, \"('indexrelated',)\": 1, \"('singledigit',)\": 1, \"('fiveday',)\": 1, \"('unintelligible',)\": 1, \"('great',)\": 1, \"('such',)\": 1, \"('inflationary',)\": 1, \"('oddyear',)\": 1, \"('normal',)\": 1, \"('particular',)\": 1, \"('pregnant',)\": 1, \"('maledominated',)\": 1, \"('federal',)\": 1, \"('acting',)\": 1, \"('eightcount',)\": 1, \"('ready',)\": 1, \"('Atlantabased',)\": 1, \"('Chicagostyle',)\": 1, \"('majorleague',)\": 1, \"('comfortable',)\": 1, \"('sad',)\": 1, \"('studenttest',)\": 1, \"('prestigious',)\": 1, \"('sportsoriented',)\": 1, \"('computersystemdesign',)\": 1, \"('prochoice',)\": 1, \"('dumbfounded',)\": 1, \"('trainingwage',)\": 1, \"('weird',)\": 1, \"('voluntary',)\": 1, \"('cold',)\": 1, \"('twoweek',)\": 1, \"('thinlipped',)\": 1, \"('fanciful',)\": 1, \"('Cultural',)\": 1, \"('content',)\": 1, \"('decadelong',)\": 1, \"('customchip',)\": 1, \"('extended',)\": 1, \"('yearly',)\": 1, \"('quantitative',)\": 1, \"('37yearold',)\": 1, \"('landidling',)\": 1, \"('forthcoming',)\": 1, \"('certified',)\": 1, \"('ugly',)\": 1, \"('Hot',)\": 1, \"('corporatewide',)\": 1, \"('imminent',)\": 1, \"('last',)\": 1, \"('scarce',)\": 1, \"('tricky',)\": 1, \"('prime',)\": 1, \"('real',)\": 1, \"('uncompensated',)\": 1, \"('funded',)\": 1, \"('imperative',)\": 1} \n",
      "\n",
      "[ADVP] {'([VB], [RB])': 1, '([RB], [CC], [RB])': 1, '([IN], [NN])': 1, '([RB], [NN], [IN], [NN])': 1, '([RB], [NP], [PP])': 1, '([RB], [RBR])': 1, '([RB], [RB], [RB])': 1, '([DT],)': 1, '([NP], [JJR])': 1, '([IN], [JJS])': 1, '([``], [RB], [RB], [.])': 1, '([RBS], [RB])': 1, '([NONE],)': 1, '([IN],)': 1, '([JJS],)': 1, '([RBR],)': 1, '([RBR], [RB])': 1, '([CD], [TO], [CD])': 1, '([DT], [NN], [SBAR])': 1, '([RBR], [CC], [RBR])': 1, '([DT], [RBR])': 1, '([RB], [NP])': 1, '([DT], [DT], [JJ])': 1, '([RB], [PP])': 1, '([IN], [RB])': 1, '([NN],)': 1, '([NPADV], [JJR])': 1, '([JJ],)': 1, '([IN], [PP])': 1, '([RB], [RB])': 1, '([DT], [NN], [SBARNOM])': 1, '([RB], [JJ], [RB])': 1, '([CD],)': 1, '([ADVPTMP], [CC], [ADVP])': 1, '([NP], [IN])': 1, '([RB],)': 1, '([RB], [JJR])': 1, '([RB], [IN], [RB])': 1, '([RBR], [IN])': 1, '([RB], [RBR], [RB])': 1, '([RB], [JJ])': 1, '([DT], [DT])': 1, '([IN], [DT])': 1, '([NPADV], [RBR])': 1, '([PDT],)': 1, '([RB], [IN])': 1, '([RP],)': 1, '([JJR],)': 1, '([ADVP], [SBAR])': 1, '([NNP],)': 1, '([NP], [RBR])': 1, '([IN], [NP])': 1, '([ADVP], [PP])': 1, '([RB], [NP], [PPTMP])': 1, '([JJ], [PP])': 1} \n",
      "\n",
      "[DT] {\"('both',)\": 1, \"('no',)\": 1, \"('those',)\": 1, \"('every',)\": 1, \"('That',)\": 1, \"('all',)\": 1, \"('the',)\": 1, \"('del',)\": 1, \"('la',)\": 1, \"('Both',)\": 1, \"('Each',)\": 1, \"('THE',)\": 1, \"('some',)\": 1, \"('Neither',)\": 1, \"('an',)\": 1, \"('This',)\": 1, \"('this',)\": 1, \"('Any',)\": 1, \"('An',)\": 1, \"('a',)\": 1, \"('that',)\": 1, \"('le',)\": 1, \"('neither',)\": 1, \"('A',)\": 1, \"('another',)\": 1, \"('either',)\": 1, \"('All',)\": 1, \"('Those',)\": 1, \"('Another',)\": 1, \"('these',)\": 1, \"('half',)\": 1, \"('any',)\": 1, \"('These',)\": 1, \"('Every',)\": 1, \"('AN',)\": 1, \"('The',)\": 1, \"('No',)\": 1, \"('Some',)\": 1, \"('each',)\": 1} \n",
      "\n",
      "[SBAR] {'([WHADVP], [S])': 6, '([WHNP], [S])': 249, '([IN], [S])': 4, '([SBAR], [SBAR])': 1, '([LRB], [WHNP], [RRB], [S])': 1, '([DT], [S])': 2, '([SBAR], [,], [SBAR])': 1, '([IN], [,], [S])': 1, '([WHNP], [S], [.])': 1, '([WHADVP], [IN], [S])': 1, '([WHNP], [``], [S])': 3, '([SBAR], [,], [CC], [SBAR])': 1, '([IN], [``], [S])': 2, '([WHNP], [IN], [S])': 1, '([NONE],)': 1, '([WHPP], [S])': 4, '([SBAR], [CC], [SBAR])': 1, '([NONE], [SINV])': 1, '([SBAR], [:], [NN], [SBAR])': 1, '([NONE], [S])': 2, '([WHNP], [SQ])': 1, '([NONE], [SCLF])': 1, '([WHNP], [,], [S])': 1, '([RB], [S])': 1, '([IN], [WHADVP], [S])': 1, '([IN], [SADV])': 1} \n",
      "\n",
      "[NP] {'([LST], [NP], [PP])': 1, '([NNP], [NNP], [POS])': 1, '([NP],)': 2, \"([NP], [''], [SBAR])\": 1, '([JJR], [NN])': 1, '([NNP], [NNP], [NNP])': 1, '([PRP$], [JJS], [NNS])': 1, '([NP], [PP], [PP], [PP])': 2, '([ADJP], [NN])': 1, '([DT], [VBN], [CD], [NN])': 1, '([NP], [:], [VP], [.])': 1, '([NP], [NN], [CC], [NN])': 1, '([NP], [SBAR], [,], [PP])': 1, '([DT], [ADJP], [NN], [NN])': 1, '([DT], [JJ], [NN], [NNP])': 1, '([RB], [DT], [NNS])': 1, '([DT], [QP], [NNS])': 1, '([PRP$], [NN], [S])': 1, '([NP], [CC], [NPTTL])': 1, '([JJ], [JJ], [NNP])': 1, '([NNS], [NN])': 1, '([NP], [,], [NP], [.])': 1, '([CD], [NN])': 1, '([DT], [NP], [CC], [NP])': 1, '([JJ], [NNS])': 2, '([DT], [NNS], [RB])': 1, '([VBG], [NNS])': 1, '([PRP],)': 4, '([DT], [ADJP], [NN], [POS])': 1, '([QP], [DT], [JJ], [NN])': 1, \"([``], [NPTTL], [''], [PRN])\": 1, '([PRP$], [NXTTL], [JJ], [NNS])': 1, '([NNP], [CD], [NNS])': 1, '([DT], [VBG], [NNP], [NN])': 1, '([DT], [NN], [NNS])': 1, '([NP], [UCP])': 1, '([NNS], [CC], [NNS])': 1, '([NNP], [NNP], [NNP], [POS])': 1, '([NP], [,], [NP])': 1, '([RB], [DT], [VBG], [NNS])': 1, '([CD], [NNP], [NNP])': 1, '([PRP$], [JJ], [NN], [NN])': 1, '([UCP], [NNS])': 1, '([DT], [NNP], [NNS])': 1, '([CD], [NNP], [NN], [NNS])': 1, '([VBN], [JJ], [NNS])': 1, \"([NP], [SBAR], [,], [''])\": 1, '([NP], [PPDIR])': 2, '([NPTTL], [CC], [NPTTL])': 1, '([DT], [VBG])': 1, '([NNP], [CC], [JJ], [NNS])': 1, '([CD], [NN], [POS])': 1, '([NP], [JJR], [NNS])': 1, '([DT], [NN], [PRN])': 1, '([DT], [``], [NN], [S])': 1, '([DT], [JJ], [NN], [QP])': 1, \"([``], [NP], [NN], [''])\": 1, '([NP], [PPLOC], [PPTMP], [PP])': 1, '([DT], [JJR], [NN])': 1, '([RB], [NN], [NNS])': 1, '([NP], [SBARPRP])': 1, '([NP], [.])': 1, '([PRP$], [JJ], [NNP], [NNP])': 1, '([DT], [CD], [NN], [NN])': 1, '([NNP], [NNP], [NNP], [NN])': 1, '([JJ], [DT], [JJ], [NN])': 1, '([PRP$], [VBN], [NN])': 1, '([NP], [VBN], [NNP], [NN])': 1, '([DT], [NNP])': 2, '([DT], [QP], [NONE])': 1, '([NP], [CD], [NN])': 1, '([DT], [NNP], [JJ], [NN])': 1, '([NP], [NPLOC], [.])': 1, '([DT], [JJS], [VBG], [NNS])': 1, '([JJR], [NNS])': 1, '([PRP$], [NACLOC], [NN])': 1, '([DT], [``], [ADJP], [NN])': 1, '([$], [CD], [NONE])': 3, '([JJ], [JJ], [JJ], [NNS])': 1, '([NP], [NNS])': 2, '([JJ], [NN], [NN], [NNS])': 1, '([NN], [NNS], [NNS])': 1, '([DT], [NNP], [NN])': 2, '([DT], [VBG], [JJ], [NNS])': 1, '([JJ], [NN], [NNS])': 2, '([CD], [NN], [NONE])': 1, '([PRP$], [NNS])': 1, '([CD], [POS])': 1, '([JJ], [NN], [VBG], [NNS])': 1, '([DT], [NN])': 4, '([DT], [CC], [NN])': 1, '([DT], [CD], [CC], [CD])': 1, '([ADJP], [NNS])': 1, '([NP], [NNPS])': 1, '([NP], [,], [RB], [NP])': 1, '([NNS], [NNS])': 1, '([JJS], [RB], [JJ], [NNS])': 1, '([JJ], [,], [ADJP], [NNS])': 1, '([IN], [DT], [JJ], [NN])': 1, '([NP], [NNS], [SBAR])': 1, '([JJ], [NN])': 1, '([NP], [PRN], [:])': 1, '([ADJP], [NN], [NNS], [NN])': 1, '([DT], [VBN], [CD], [CD])': 1, '([NP], [NNP], [NNP], [NNP])': 1, '([NP], [,], [SBAR])': 1, '([DT], [NNP], [CD], [NNP])': 1, '([DT], [JJS], [NN])': 1, \"([DT], [``], [NN], [''])\": 1, '([ADJP], [JJR])': 1, '([DT], [``], [NN])': 1, '([DT], [RB], [JJ], [NN])': 1, '([NAC], [NNP], [NNP])': 1, '([NNP], [NNP], [CC], [NNP])': 1, '([CD], [NN], [JJ], [NNS])': 1, '([NN], [NN])': 2, '([NP], [NNPS], [NNP], [NNP])': 1, '([JJ], [NNP], [NN], [NNS])': 1, '([NNP], [NNP], [NNP], [NNS])': 1, '([NNP], [NNPS], [NNP])': 1, '([NP], [NPTMP])': 1, '([QP], [DT], [NN])': 1, '([NP], [PP], [PP], [SBARADV])': 1, '([JJ], [JJ], [NX])': 1, '([QP], [NONE], [QP])': 1, '([JJ], [NN], [NN])': 1, '([DT], [JJS], [NN], [NNS])': 1, '([NP], [,], [PP])': 1, '([DT],)': 1, '([NP], [,], [PPDIR])': 1, '([DT], [NN], [,], [SBAR])': 1, '([$], [CD], [NONE], [QP])': 1, '([NNP], [NNP], [JJ], [NNS])': 1, '([PRP], [NN], [NN])': 1, '([PRP$], [CD], [CC], [CD])': 1, '([NP], [PPTMP], [PPTMP])': 1, '([NNP], [NNP], [NNS])': 2, '([PRP$], [ADJP], [JJ], [NN])': 1, '([SNOM], [,], [NP])': 1, '([JJ], [NN], [VBZ])': 1, '([JJ], [NN], [NNS], [NN])': 1, '([DT], [NN], [CC], [NN])': 1, '([DT], [NNP], [NNP], [NNP])': 1, '([PRP$], [ADJP], [NN], [NN])': 1, '([LST], [NP], [VP])': 1, '([NP], [ADVPLOC], [PP])': 1, '([CD], [NNP], [NN])': 1, '([DT], [NNS], [S])': 1, '([ADJP], [JJ], [NNS])': 1, '([NP], [,], [NPLOC], [SBAR])': 1, '([NNP], [NNP])': 2, '([ADVP], [DT])': 1, '([JJ], [NNP], [CD])': 1, '([NP], [ADVP])': 1, '([PRP$], [JJ], [NN])': 1, '([NP], [JJ], [NN], [NN])': 1, '([DT], [JJ], [NNS], [NNS])': 1, '([NP], [SBAR], [PP])': 1, '([DT], [NNP], [NNP], [CD])': 1, '([NP], [CD], [JJS], [NNS])': 1, '([NP], [PP], [ADVPTMP])': 1, '([NP], [CD], [NN], [NN])': 1, '([NP], [PP])': 3, '([PRP$], [``], [NXTTL])': 1, '([CD], [NNS])': 1, '([NP], [PP], [NPTMP])': 1, '([QP], [NNP], [NNS])': 1, '([PRP$], [JJ], [VBG], [NN])': 1, '([DT], [PRP])': 1, '([DT], [CD], [NN], [NNS])': 1, '([NP], [:], [ADVPLOC])': 1, '([ADJP], [NNP], [NNP])': 1, '([NNP], [CC], [NNP], [NNP])': 1, '([RB], [JJ], [NNS])': 1, '([DT], [VBN], [NN], [POS])': 1, '([NN], [JJ], [NNS])': 1, '([DT], [NP], [NN], [SBAR])': 1, '([DT], [NNP], [CD], [NN])': 1, '([JJR], [JJ], [NNS])': 1, '([DT], [ADJP], [NNP], [NN])': 1, '([NNP], [NN], [NNS])': 2, '([DT], [JJ], [CD], [NN])': 1, '([RB], [DT])': 1, '([DT], [VBG], [NNS])': 1, '([NP], [JJS], [VBN], [NN])': 1, '([NP], [,], [NPLOC], [.])': 1, '([PRP$], [NN], [NN], [NN])': 1, '([NP], [JJ], [NN], [NNS])': 1, '([NONE],)': 6, '([NP], [SNOM])': 1, '([PRP$], [JJ], [NN], [NNS])': 1, '([NP], [PP], [NPLOC])': 1, '([NN], [POS])': 1, '([IN],)': 1, '([NP], [NPTMP], [PP])': 1, '([PPLOC], [PPDIR])': 1, '([NN], [NN], [CC], [VBZ])': 1, '([DT], [JJS], [NNS], [NN])': 1, '([JJR], [NNP], [NN], [NNS])': 1, '([DT], [CD], [NNS])': 1, '([NP], [ADVP], [PP])': 1, '([NP], [ADJP], [NN])': 1, '([DT], [DT], [NN])': 1, '([NN], [NN], [NN])': 1, '([DT], [NNP], [CD])': 1, '([VBN], [NNS])': 1, '([DT], [JJ], [NNS])': 1, '([DT], [NACLOC], [NN])': 1, '([NNP], [:])': 1, '([NNP], [NNPS], [NNP], [NNP])': 1, '([CD], [CD], [NN])': 1, '([DT], [NNS])': 2, '([RB], [CD], [NN])': 1, \"([NP], [PP], [''], [SBAR])\": 1, '([JJ], [,], [JJ], [NN])': 1, '([PDT], [DT], [NN], [NN])': 1, '([VBN], [NN], [NN])': 1, '([NP], [VP], [.])': 1, '([NNP], [RB], [NNS])': 1, '([NNP], [CD])': 1, '([DT], [JJR], [ADJP], [NN])': 1, '([NP], [SBAR], [.])': 1, '([DT], [JJ], [VBG], [NNS])': 1, '([NNP], [CC], [NNP], [NNS])': 1, '([NP], [:], [NP])': 2, '([NP], [NPADV])': 1, '([RB], [JJ])': 1, '([NP], [NN])': 2, '([DT], [NNS], [CC], [NN])': 1, '([PRP$], [JJ], [NN], [POS])': 1, '([DT], [NNS], [NNS])': 1, '([NP], [``], [JJ], [NNS])': 1, '([PRP$], [NX])': 1, '([NAC], [NN], [NN])': 1, '([NP], [NN], [JJ], [NN])': 1, '([NNP], [NN], [NN])': 1, '([NN], [CC], [NNS])': 1, '([NN], [CD])': 1, '([PRP$], [NN], [NN], [NNS])': 1, '([DT], [JJ], [NX])': 1, '([NP], [PP], [NP])': 1, '([DT], [NN], [S])': 1, '([NNP], [NNPS])': 2, '([RB], [NNPS])': 1, '([DT], [JJR], [NN], [NN])': 1, '([DT], [ADJP], [NN])': 1, '([NP], [PP], [ADVPLOC], [SBAR])': 1, '([VB],)': 1, '([NP], [JJS], [NN])': 1, '([DT], [JJ], [NN])': 3, '([NNPS], [NNP], [NNP], [NNP])': 1, '([NP], [PP], [S])': 3, '([PRP$], [NNP])': 1, '([ADJP], [NN], [NNS])': 1, '([JJ], [VBG])': 1, '([DT], [NN], [NN], [S])': 1, '([NN], [NN], [NN], [NN])': 1, '([CD], [NN], [NN])': 1, '([NP], [PP], [PP], [PPTMP])': 1, '([ADVPTMP], [NN], [NN], [NN])': 1, '([JJ], [NNS], [POS])': 1, '([NP], [PP], [PPDIR])': 1, '([NP], [ADJP], [PP], [SBAR])': 1, '([CD], [ADJP], [JJ], [NNS])': 1, '([NACLOC], [CD], [NNP], [NNP])': 1, '([DT], [NNS], [CC], [VBZ])': 1, '([NP], [,], [CONJP], [NP])': 1, '([DT], [JJ], [NN], [CD])': 1, '([DT], [ADJP], [NNS], [NN])': 1, '([PRP$], [QP], [NNS])': 1, '([NP], [VP])': 2, '([WDT],)': 1, '([IN], [DT], [NN])': 1, '([ADJP], [NNP], [NNS])': 1, '([NNP], [NN], [NNP], [NNP])': 1, '([NNS], [CC], [NN], [NNS])': 1, '([NP], [ADJP], [NPTMP])': 1, '([NP], [SBAR], [SBAR])': 1, '([NP], [PP], [PRN], [NP])': 1, '([NP], [SBAR])': 1, '([NN], [VBG], [NN])': 1, '([PRP$], [JJ], [NNP], [NN])': 1, '([VBN], [NN], [NNS])': 1, \"([``], [NN], [''], [NNS])\": 1, '([DT], [VBG], [JJ], [NN])': 1, '([DT], [JJ], [DT])': 1, '([DT], [JJS], [CD], [NNS])': 1, '([VBG], [JJ], [NNS])': 1, '([NP], [PP], [PPLOC], [SBAR])': 1, '([NP], [,], [NPLOC])': 1, '([NP], [JJ], [JJ], [VBG])': 1, '([PRP$], [JJ])': 1, '([PRP$], [CD], [NN], [NNS])': 1, '([NNP], [NX])': 1, '([NP], [PPLOC], [SBAR])': 1, '([NN], [NNS])': 2, '([NP], [VP], [PP])': 1, '([NP], [PPLOC])': 1, '([JJ], [NNS], [NN])': 1, '([PRP$], [PRN], [NN])': 1, '([NP], [:], [``], [S])': 1, '([QP], [NN], [NN], [NNS])': 1, '([NP], [,], [ADJP])': 1, '([PDT], [DT])': 1, \"([NP], [''], [PP])\": 1, '([VBG], [NN])': 1, '([NP], [SBARTMP])': 1, '([RB], [JJR], [NNS])': 1, '([JJ], [VBN], [NN])': 1, '([DT], [JJ], [CD])': 1, '([CD], [JJ])': 1, '([JJ], [ADJP], [NNS])': 1, '([PRP$], [JJ], [ADJP], [NN])': 1, '([NP], [JJ], [CD])': 1, '([NP], [:], [NP], [:])': 1, '([NP], [PRN], [SBARTMP])': 1, '([DT], [NN], [CD], [NN])': 1, '([DT], [VBG], [CD], [NNS])': 1, '([NP], [PPLOC], [ADVPTMP], [SBAR])': 1, '([JJ], [CC], [DT], [NN])': 1, '([PDT], [PRP$], [NNS])': 1, '([DT], [NNP], [NNS], [NNS])': 1, '([NACLOC], [NN])': 1, '([DT], [NAC], [NNS])': 1, '([NP], [PP], [PP])': 1, '([NP], [PP], [PP], [NPTMP])': 1, '([NP], [NNP], [NNP], [NNS])': 1, '([DT], [RB], [JJS])': 1, '([NP], [ADVPTMP])': 1, '([DT], [NN], [VBG], [NN])': 1, '([CD], [NNP], [NNS])': 1, '([NP], [``], [STTL])': 1, '([NP], [,], [NP], [,])': 1, '([DT], [NN], [JJ], [NNS])': 1, '([NP], [:], [CC], [NP])': 1, '([NP], [,], [SBAR], [,])': 2, '([PRP$], [JJ], [JJ], [NNS])': 1, '([NNP], [NNP], [.], [NNP])': 1, '([NNP], [NNP], [.])': 1, '([PRP$], [NNS], [CC], [NNS])': 1, '([RB], [JJR])': 1, \"([DT], [''], [NNS])\": 1, '([NNP], [NNPS], [POS])': 1, '([RB], [DT], [QP], [NNS])': 1, '([NP], [,], [UCP])': 1, '([NP], [NNS], [NNS])': 1, '([LST], [VBN], [NN])': 1, '([NP], [JJ], [NNP], [NNP])': 1, '([CD], [CD])': 1, '([DT], [$], [CD], [NONE])': 1, '([NNP], [,], [NNP])': 1, '([$], [QP], [NONE])': 1, '([NAC], [NNS])': 1, '([NP], [PP], [,], [SBAR])': 1, '([QP], [NONE])': 3, '([DT], [NNP], [.])': 1, '([PRP$], [NNP], [NNP], [NNP])': 1, '([DT], [JJ], [NNP])': 1, '([QP], [JJ], [NNS])': 1, \"([``], [NP], [''], [PPLOC])\": 1, '([DT], [NXTTL])': 1, '([NN], [CC], [DT])': 1, '([DT], [NNP], [NNS], [NN])': 1, '([ADJP], [NN], [NNP], [NNP])': 1, '([NNS],)': 3, '([NP], [ADJP], [NN], [NNS])': 1, '([NNP], [NNP], [PRN], [NNP])': 1, '([NNS], [POS])': 1, '([NN], [NNP], [POS])': 1, '([NP], [PPTMP], [VP])': 1, '([NN], [JJ], [NN])': 1, '([RB], [NNP])': 1, '([NP], [PRN], [VP])': 1, '([DT], [JJ], [NNP], [NN])': 1, '([JJR], [NN], [NN], [NN])': 1, '([DT], [CD], [JJ], [NNS])': 1, '([DT], [NNP], [NNP])': 2, '([NP], [,], [SBARTMP])': 1, '([IN], [JJ], [NN])': 1, '([NN], [NNS], [NN])': 1, '([NP], [CC], [ADVP], [NP])': 1, '([DT], [NNP], [CC], [NNP])': 1, '([PRP$], [CD], [JJR], [NNS])': 1, '([NP], [``], [VP])': 1, '([DT], [RBR], [JJ], [NN])': 1, '([JJ], [NN], [SBAR])': 1, '([DT], [JJ], [VBG])': 1, '([DT], [JJ], [QP], [NONE])': 1, '([CD], [NP], [NNS])': 1, '([NP], [JJS], [NNS])': 1, '([JJ], [NNP], [NNP], [NNP])': 1, '([DT], [NNS], [POS])': 1, '([JJ], [NNS], [S])': 1, '([RB], [DT], [JJ], [NN])': 1, '([NP], [NNP], [CD], [NN])': 1, '([CD], [JJ], [NN], [QP])': 1, '([DT], [JJ], [NNP], [NNP])': 1, '([NP], [NNP], [NNP], [NN])': 1, '([NP], [NPADV], [QP])': 1, '([DT], [JJ], [ADJP], [NN])': 1, '([IN], [CD], [NNS])': 1, '([PRP$], [CD], [NNS])': 1, '([PDT], [DT], [NN])': 1, '([RB], [RB])': 1, '([CD], [NNS], [JJ])': 1, '([DT], [NN], [QP], [NONE])': 1, '([PRP$], [NNP], [NNS])': 1, '([NP], [PP], [,], [SBARLOC])': 1, '([DT], [NNP], [NNPS])': 1, '([NNP], [NNP], [NNP], [:])': 1, '([PDT], [DT], [NNS])': 1, '([CD], [CC], [CD])': 1, '([PRP$], [NNP], [NN], [NN])': 1, '([DT], [ADJP], [NN], [NNS])': 1, '([DT], [NP])': 1, '([ADJP], [ADJP], [NNS])': 1, '([RB], [DT], [JJ])': 1, '([NN], [NNS], [POS])': 1, '([PRP$], [CD], [NNP])': 1, '([JJ], [VBG], [NN])': 1, '([DT], [CD])': 1, '([NP], [PPLOC], [PPTMP])': 1, '([DT], [NAC], [NN])': 1, '([JJ], [NN], [NNP], [NNS])': 1, '([NP], [NX])': 1, \"([NP], [''], [PPLOC])\": 1, '([ADJP], [VBG], [NNS])': 1, '([DT], [NN], [JJR])': 1, '([CD], [NNS], [QP])': 1, '([NP], [PP], [PPTMP])': 1, '([JJ], [NNP], [JJ], [NNS])': 1, '([NNP], [NN])': 1, '([NP], [PRN], [PP])': 1, '([NNP], [NN], [NNP])': 1, '([CD], [RB])': 1, '([NP], [CC], [NP])': 3, '([NN], [VBG], [NNS])': 1, '([NP], [NPTMP], [PPLOC])': 1, '([NP], [PP], [SBARPRP])': 1, '([VBG], [JJ], [NN])': 1, '([DT], [RB])': 1, '([DT], [JJS], [JJ], [NN])': 1, '([NN], [NNP], [NNP], [NNP])': 1, '([NP], [PP], [PPLOC], [PP])': 1, '([CD], [NN], [NNS], [NNS])': 1, '([DT], [CD], [NX])': 1, '([VBN], [JJ], [NN])': 1, '([NP], [NN], [NNS])': 1, '([JJ], [NNP], [NNS])': 1, '([DT], [NN], [VBZ])': 1, '([DT], [CD], [NNS], [POS])': 1, '([NNP], [NNP], [NNP], [.])': 1, '([DT], [NX])': 1, '([DT], [NNPS], [NNP], [NN])': 1, '([JJ], [NNS], [CC], [NNS])': 1, '([PRP$], [NN], [CC], [NN])': 1, '([RB], [DT], [CD])': 1, '([NP], [PPTMP], [PP])': 1, '([DT], [NN], [POS])': 1, '([NP], [VP], [SBAR])': 1, '([JJ], [NNP])': 1, '([NP], [PRN], [SBAR])': 1, '([PRP$], [JJS])': 1, '([JJ], [JJ], [NNS], [S])': 1, '([NP], [,], [ADVPTMP], [NP])': 1, '([NP], [:], [SQ], [.])': 1, '([DT], [VBG], [NN], [NN])': 1, '([SBARNOM], [CC], [NP])': 2, '([QP], [NN], [NN])': 1, '([NNP], [DT], [NNP])': 1, '([QP], [PRP$], [NN], [NN])': 1, '([NNP], [NP])': 1, '([ADVPTMP], [$], [CD], [NONE])': 1, '([NNP], [NNP], [NN], [NNS])': 1, '([JJR],)': 1, \"([NP], [,], [''], [NP])\": 1, '([NNPS], [NNP])': 1, '([NNP], [NNS], [NNS])': 1, '([VBG], [NN], [NNS])': 1, '([ADVP], [DT], [JJ], [NN])': 1, '([NP], [PP], [PRN])': 1, '([DT], [JJ], [VBG], [NN])': 1, '([NP], [PP], [:], [NP])': 1, '([NP], [CC], [PRN], [NP])': 1, '([NAC], [JJ], [NN])': 1, '([DT], [NNS], [CC], [NNS])': 1, '([NNPS], [POS])': 1, '([NNP], [NNP], [NN])': 1, '([JJ], [VBG], [NNS])': 1, '([JJ], [JJ], [NNP], [NNS])': 1, '([DT], [JJ], [JJS], [NN])': 1, '([NN], [NNP], [NNP])': 1, '([PRP], [NN])': 1, '([NP], [NP])': 1, '([PRP$], [JJR], [NN])': 1, '([NN], [VBG])': 1, \"([DT], [``], [NNS], [''])\": 1, '([DT], [UCP], [NN])': 1, '([QP], [DT], [VBN], [NN])': 1, '([NP], [PP], [PPLOC])': 1, '([RBR],)': 1, '([PRP$], [NN], [POS])': 1, '([NNS], [SBAR])': 1, '([ADVP], [NP], [SBAR])': 1, '([PRP$], [IN], [NNS])': 1, '([PRP$], [NN])': 2, '([NP], [JJS], [NN], [NNS])': 1, '([CD], [JJ], [JJ], [NNS])': 1, '([ADVP], [CD])': 1, \"([NP], [''], [VP])\": 1, '([NP], [NN], [NN])': 1, '([DT], [ADJP], [JJ], [NN])': 1, '([DT], [VBG], [NNP])': 1, '([JJ], [JJ], [NN], [NN])': 1, '([NNP], [NN], [NNP], [NN])': 1, '([NP], [NN], [PRN], [S])': 1, '([NP], [PPCLR], [PP])': 1, '([NP], [NACLOC], [NN], [NNS])': 1, '([DT], [NNP], [NN], [POS])': 1, '([NNP], [CD], [,], [CD])': 1, '([PRP$], [NP])': 1, '([QP],)': 1, '([SNOM], [CC], [NP])': 1, '([UCP], [NN])': 1, '([QP], [VBN], [NNS])': 1, '([DT], [VBN], [ADJP], [NN])': 1, '([PRP$], [NN], [NNS])': 1, '([RB], [CD])': 1, '([DT], [NN], [NN], [NN])': 1, '([DT], [JJ], [NACLOC], [NN])': 1, '([VBG],)': 1, '([NNP], [NN], [VBN], [NNS])': 1, '([NP], [QP], [.])': 1, '([DT], [NNP], [NNP], [NN])': 1, '([PRP$], [NNP], [CD], [NN])': 1, '([NNP],)': 3, '([JJ], [UCP], [NNS])': 1, '([NN], [NNS], [CC], [NNS])': 1, '([VBG], [NX])': 1, '([NP], [JJS], [CC], [JJS])': 1, '([DT], [NACLOC], [NN], [NN])': 1, '([DT], [JJ], [NNS], [NN])': 1, '([DT], [VBN], [NNS])': 1, '([DT], [NAC], [NNP])': 1, '([NP], [PPCLR])': 1, '([NP], [:], [S])': 1, '([DT], [NNS], [SBAR])': 1, '([DT], [CD], [NN])': 1, '([NP], [JJS], [VBG], [NNS])': 1, '([JJR], [JJ], [NX])': 1, '([CD], [JJ], [NN])': 1, '([DT], [NNP], [NNP], [NNS])': 1, '([RB], [JJ], [NN])': 1, '([NP], [,], [VP])': 1, '([DT], [VBN], [NN], [NN])': 1, '([JJ], [JJ], [NNS], [NNS])': 1, '([PRP$], [NN], [NN])': 1, '([NN], [RB])': 1, '([CD], [CC], [JJR], [NNS])': 1, '([NP], [NNP], [NN], [NN])': 1, '([DT], [CD], [NNP], [NN])': 1, '([NNP], [POS])': 1, '([NP], [,], [CC], [NP])': 1, '([JJ], [NN], [NN], [NN])': 1, '([NP], [NP], [PP])': 1, '([NP], [JJR], [NN])': 1, '([DT], [RB], [CD], [NNS])': 1, '([DT], [JJ], [VBN], [NNS])': 1, '([JJ], [JJ], [NN], [NNS])': 1, '([DT], [NNP], [NNP], [POS])': 1, '([NNP], [NNS])': 1, '([DT], [NNP], [NN], [CD])': 1, '([DT], [JJS], [NN], [RB])': 1, '([RB],)': 1, '([DT], [JJS], [NNS])': 1, '([NP], [RB], [NP])': 1, '([NNP], [NNP], [NNPS])': 1, '([VBG], [CC], [NN])': 1, '([NP], [NN], [S])': 1, '([NP], [PP], [SBARTMP])': 1, '([NP], [PP], [PPDIR], [PP])': 1, '([NP], [,], [SBARLOC])': 1, '([NP], [PPTMP], [SBAR])': 1, '([NN], [CC], [VBG], [NN])': 1, '([NP], [ADJP], [VP])': 1, '([DT], [JJR], [JJ], [NN])': 1, '([DT], [JJ], [NNP], [NNS])': 1, '([NP], [ADJP], [JJ], [NN])': 1, '([ADJP], [NNP])': 1, '([DT], [JJ], [NNS], [POS])': 1, '([RB], [DT], [JJ], [NNS])': 1, '([PRP$], [JJS], [NN], [NN])': 1, '([DT], [``], [NN], [NN])': 1, '([NP], [SBARLOC])': 1, '([PRP$], [NNS], [NN])': 1, '([JJ], [NNP], [POS])': 1, '([DT], [RBS], [JJ], [NN])': 1, '([NNP], [.])': 1, '([DT], [NNS], [NN])': 1, '([RB], [CD], [NNS])': 1, '([NN], [VBD], [NNS])': 1, '([JJ], [NNP], [NNP])': 2, '([NP], [PPDIR], [,], [PP])': 1, '([JJ], [CC], [JJ], [NNS])': 1, '([DT], [JJ], [QP], [NNS])': 1, '([NP], [PP], [PPPRP])': 1, '([DT], [JJ], [NNS], [S])': 1, '([NNP], [CC], [NNP])': 1, '([NP], [PPLOC], [NP])': 1, '([VBN], [NN])': 1, '([DT], [JJ], [NN], [POS])': 1, '([NN],)': 1, '([DT], [ADJP], [NNP])': 1, '([NP], [VBG], [NN])': 1, '([NP], [,], [PPDIR], [,])': 1, '([JJ], [CD])': 1, '([ADJP], [VBN], [NN])': 1, '([DT], [JJR], [CD])': 1, '([PRP$], [JJ], [NP], [NN])': 1, '([RB], [NN])': 1, '([JJ], [NNP], [NNP], [NN])': 1, '([NP], [CC], [NP], [PP])': 1, '([NNS], [S])': 1, '([NNS], [CC], [NN], [NN])': 1, '([NP], [JJ], [JJ], [NN])': 1, '([DT], [NNPS], [NNP])': 1, '([PRP$], [JJ], [JJ], [NN])': 1, '([CD], [ADJP], [NNS])': 1, '([DT], [CD], [CD])': 1, '([VB], [NNS])': 1, '([JJ], [CD], [NNP], [NNS])': 1, '([NP], [,], [PP], [,])': 1, '([NP], [LRB], [NP], [RRB])': 1, '([PRP$], [JJ], [VBG], [NNS])': 1, '([QP], [JJ], [NN])': 1, '([PRP$], [NNS], [S])': 1, '([JJ], [NNS], [CC], [NN])': 1, '([CD], [RB], [.])': 1, '([DT], [JJS], [JJ], [NNS])': 1, '([NP], [PPLOC], [PRN])': 1, '([DT], [NN], [NNP])': 1, '([NXTTL], [NNS], [POS])': 1, '([NN], [NN], [CC], [NNS])': 1, '([NP], [TO], [NP])': 1, '([PRP$], [NNP], [NNP], [NNS])': 1, '([NP], [,], [ADVP])': 1, '([DT], [ADJP], [CD])': 1, '([NP], [JJ], [CD], [NNS])': 1, '([NP], [PP], [,], [PP])': 1, '([NNP], [NNP], [JJ], [NN])': 1, '([NP], [VBN], [QP], [NONE])': 1, '([NAC], [POS])': 1, '([QP], [NNS])': 1, '([NP], [CONJP], [NP])': 1, '([NP], [PPLOC], [NPTMP])': 1, '([CD], [CD], [JJ], [NNS])': 1, '([NP], [,], [NP], [NP])': 1, '([NN], [CC], [JJ], [NNS])': 1, '([FW],)': 1, '([DT], [NACTMP], [NN])': 1, '([NP], [NPLOC])': 1, '([ADJP], [NNP], [NNPS], [NNP])': 1, '([NP], [VP], [PPLOC])': 1, '([PRP$], [JJS], [NN])': 1, '([RB], [NNS])': 1, '([DT], [JJ], [JJ], [NNS])': 1, '([NP], [,], [NPLOC], [,])': 1, '([PRP$], [NNP], [NN])': 1, '([NP], [:], [``], [SBARADV])': 1, '([DT], [CD], [VBG], [NNS])': 1, '([JJS],)': 1, '([DT], [NN], [CC], [NNS])': 1, '([NP], [PP], [.])': 1, '([CD], [JJR], [NNS])': 1, '([JJ], [NNS], [NNS])': 1, '([NP], [ADJP], [NNS])': 1, '([NP], [PP], [,], [NP])': 1, '([JJS], [JJ], [NNS])': 1, '([DT], [VBN], [NN])': 1, '([RB], [DT], [ADJP], [NNS])': 1, '([NP], [VBN], [NN], [NNS])': 1, '([ADVP], [NP], [CC], [NP])': 1, '([NP], [JJ], [NN])': 1, '([DT], [NNP], [VBG], [NN])': 1, '([DT], [NNP], [POS])': 1, '([PRP$], [JJS], [JJ], [NNS])': 1, '([WP], [RB])': 1, '([DT], [NNP], [CD], [NNS])': 1, '([NP], [NACLOC], [NN], [NN])': 1, '([PRP$], [UCP], [NN])': 1, '([NNPS], [NNPS])': 1, '([PRP$], [VBN], [NNS], [NN])': 1, '([VBN], [NNS], [NNS])': 1, '([QP], [NNS], [NN])': 1, '([CD], [NNP], [NNP], [NN])': 1, '([IN], [JJ], [NN], [NN])': 1, \"([``], [NP], [''], [SBAR])\": 1, '([NN], [NN], [NNS])': 1, '([NNS], [RB])': 1, '([JJ], [DT], [NN])': 1, '([NP], [JJ], [ADJP], [NN])': 1, '([JJS], [NNS])': 1, '([NN], [CC], [NNS], [NNS])': 1, '([JJS], [NN], [NNS])': 1, '([NP], [ADVPLOC])': 1, '([NP], [ADJP], [PP])': 1, '([JJ],)': 1, '([ADVP], [DT], [QP], [NONE])': 1, '([NP], [NNP], [NNPS])': 1, '([NN], [S])': 1, '([NNS], [CONJP], [NNS])': 1, '([NP], [NPADV], [ADVP])': 1, '([ADVPTMP], [NN])': 1, '([NPTTL], [,], [SBAR])': 1, \"([JJ], [NNS], [''])\": 1, '([NP], [PP], [SBAR])': 1, '([NP], [CD], [NN], [NNS])': 1, \"([NP], [,], [''], [PP])\": 1, '([NP], [NNP])': 1, \"([``], [JJ], [''], [NNS])\": 1, '([VBG], [NNS], [.])': 1, '([NP], [:], [ADJP], [:])': 1, '([DT], [CD], [VBN], [NNS])': 1, '([DT], [JJ], [NNP], [NNPS])': 1, '([NP], [NNS], [CC], [NNS])': 1, \"([JJ], [NN], [''])\": 1, '([DT], [NNP], [NX])': 1, '([NNP], [IN], [NNP])': 1, '([PRP$], [NNS], [POS])': 1, '([DT], [VBN], [QP], [NONE])': 1, '([CD], [NN], [NNS])': 1, '([DT], [NN], [NNS], [NN])': 1, '([DT], [ADJP], [NNS])': 1, '([DT], [CD], [CD], [NNS])': 1, '([DT], [JJS])': 1, '([NP], [NNS], [CC], [NN])': 1, '([DT], [JJ], [CD], [NNS])': 1, '([JJ], [NN], [CC], [NN])': 1, '([DT], [NNP], [NN], [NN])': 1, '([DT], [JJ], [JJ])': 1, '([$], [CD], [CD], [NONE])': 1, '([JJ], [VBN], [NNS])': 1, '([DT], [JJ], [NN], [S])': 1, '([JJ], [NN], [NNP], [NNP])': 1, '([PRP$], [ADJP], [NN])': 1, '([DT], [NN], [NNS], [POS])': 1, '([DT], [JJ], [JJ], [NN])': 1, '([JJR], [NN], [NN])': 1, '([DT], [JJR], [NNS])': 1, '([DT], [NN], [JJ], [NN])': 1, '([DT], [ADJP], [QP], [NONE])': 1, '([NP], [PPLOC], [PP])': 1, '([NN], [CD], [NN], [NNS])': 1, '([QP], [NNP], [NNP], [NNS])': 1, '([NP], [,], [VP], [,])': 1, '([CD], [NN], [NN], [NNS])': 1, '([NP], [RRC])': 1, '([NP], [ADJP])': 1, '([DT], [JJ])': 1, '([DT], [JJ], [NN], [NNS])': 1, '([DT], [VBG], [NN])': 1, '([PRP$], [JJ], [CD], [NN])': 1, '([DT], [ADJP], [NXTTL])': 1, '([NNS], [CC], [NN])': 1, '([JJR], [JJ], [NN])': 1, '([JJR], [NN], [NNS])': 1, '([DT], [``], [JJ], [NN])': 1, '([NN], [CC], [NN])': 1, \"([``], [QP], [''], [NNS])\": 1, '([NNP], [JJ], [NN])': 1, '([DT], [JJR], [NN], [S])': 1, \"([JJ], [``], [NN], [''])\": 1, '([NP], [PP], [PP], [.])': 1, '([NP], [:], [NP], [.])': 1, '([NN], [SBAR])': 1, '([NP], [NP], [.])': 1, '([NNP], [NN], [NN], [NN])': 1, '([ADJP], [LRB], [NNS], [RRB])': 1, '([JJ], [JJ], [NNS])': 1, '([NP], [:], [SBARNOM])': 1, '([DT], [NN], [NN])': 1, '([NP], [,], [PPTMP])': 1, '([PRP$], [CD], [NN])': 1, '([ADJP], [NN], [QP])': 1, '([JJR], [DT], [NN])': 1, '([NP], [NNP], [NNPS], [NNP])': 1, '([NP], [PP], [ADVP])': 1, '([QP], [NN], [NNS])': 1, '([JJ], [NN], [POS])': 1, '([NP], [PP], [,], [PPLOC])': 1, \"([NP], [''], [ADVP])\": 1, '([ADJP], [JJ], [NN])': 1, '([JJ], [CD], [NNS])': 1, '([PRP$], [VBG], [JJ], [NNS])': 1, '([NP], [NNS], [NN])': 1, '([NP], [PP], [RRC])': 1, '([JJ], [NN], [S])': 1, '([DT], [JJR])': 1, '([DT], [NN], [NN], [POS])': 1, '([NP], [PPTMP])': 1, '([PDT], [DT], [JJ], [NN])': 1, '([DT], [JJS], [RB])': 1, '([NP], [JJ], [NNS])': 1, '([NNP], [NNPS], [NNP], [POS])': 1, '([CD],)': 1, '([DT], [VBG], [NN], [SBAR])': 1, '([NP], [NNP], [NNP])': 1, '([JJ], [JJ], [NN])': 1, '([QP], [NNP], [NN])': 1, '([RBS],)': 1, '([DT], [NN], [NN], [SBAR])': 1, '([VB], [NN])': 1, '([NP], [PP], [,], [VP])': 1, '([PRP$], [JJ], [NNS])': 1, '([NNP], [NNP], [NNP], [NNP])': 1, '([NP], [NN], [SBAR])': 1, '([PRP$], [JJ], [NN], [S])': 1, '([NN], [CC], [NN], [NNS])': 1, '([PRP$], [JJ], [CD], [NNS])': 1, '([NP], [NN], [JJ])': 1, '([RB], [JJ], [DT], [NN])': 1, '([JJS], [JJ], [JJ], [NNS])': 1, '([NP], [,], [PPLOC])': 1, '([QP], [NN])': 1, '([DT], [NN], [CD])': 1, '([CD], [NN], [QP])': 1, '([NP], [,], [ADVPTMP])': 1, '([NNP], [JJ], [NNS])': 1, '([DT], [JJ], [NN], [NN])': 1, '([DT], [JJS], [NN], [NN])': 1, '([NP], [ADVPDIR], [PPDIR])': 1, '([NNPS],)': 1, '([DT], [NN], [SBAR])': 1, '([NP], [PRN])': 1, '([VBZ], [S])': 1, '([``], [NN])': 1, '([NP], [PPLOC], [VP])': 1, '([ADJP], [NN], [NN])': 1, '([DT], [NNPS])': 1, '([NNP], [CC], [NNP], [.])': 1, '([PRP$], [JJ], [VBN], [NNS])': 1, '([NN], [NN], [CC], [NN])': 1, '([DT], [DT], [JJ], [NNS])': 1, '([NNP], [NNP], [NNPS], [NNP])': 1, '([CD], [VBN], [NNS])': 1, '([PRP$], [NNP], [NNP], [NN])': 1, \"([``], [NNP], [''], [NNS])\": 1, '([NP], [PPLOC], [ADJP])': 1, '([NP], [NNP], [NN])': 1, '([ADJP], [DT], [NN])': 1, '([NP], [PPLOC], [,], [SBAR])': 1, '([NP], [JJ])': 1, '([JJ], [SBAR])': 1, '([NP], [:], [ADJP])': 1, '([NP], [VBN], [NNS])': 1, '([NP], [PP], [VP])': 1, '([DT], [VBN], [NN], [NNS])': 1, '([JJ], [NX])': 1, '([RB], [DT], [NN])': 1, '([DT], [ADJP])': 1, '([PRP$], [NN], [NNS], [NN])': 1, '([NP], [PPLOC], [PPDIR])': 1, '([NNP], [CC], [NNP], [POS])': 1, '([ADVPTMP], [NP], [PP])': 1, '([PRP$],)': 1, '([NP], [NNS], [S])': 1, '([CD], [JJ], [NN], [NNS])': 1, '([CD], [JJ], [NNS])': 1, '([JJ], [,], [JJ], [NNS])': 1} \n",
      "\n",
      "[NPSBJ] {'([NNS],)': 6, '([DT], [NNS])': 10, '([JJ], [NNS])': 10, '([DT], [ADJP], [NNP])': 1, '([NONE],)': 54, '([NP], [PP], [,])': 1, '([PDT], [DT], [NN], [NNS])': 1, '([JJ], [NN], [NN], [NNS])': 2, '([NP], [PPLOC], [PP])': 2, '([NP], [NN], [JJ], [NN])': 1, '([NP], [NN])': 7, '([NNP], [NNP], [NNP])': 6, '([PRP],)': 22, '([DT], [NP], [CC], [NP])': 3, \"([``], [NP], [''], [PP])\": 1, '([NP], [ADJP])': 3, '([JJ], [VBN], [NNS])': 1, '([DT], [DT], [NNS])': 2, '([DT], [NNP], [NNS], [NN])': 1, '([NP], [PRN])': 5, '([NNPS],)': 1, '([JJR], [NNS])': 4, '([NNS], [CC], [NNS])': 5, '([NN], [CC], [NNS])': 1, '([NP], [``], [NN], [S])': 1, '([NNP], [NNP])': 10, '([JJ],)': 2, '([NP], [RRC])': 1, '([NP], [PP])': 30, '([NP], [,], [NP], [,])': 11, '([DT], [ADJP], [CD])': 1, '([NP], [JJ], [NNS])': 2, '([PRP$], [NN], [POS])': 1, '([NN],)': 6, '([DT], [NNP], [NN], [NN])': 2, '([DT], [NN], [NN])': 6, '([DT], [NACLOC], [NN])': 1, '([JJ], [NN])': 3, '([NP], [,], [VP], [,])': 5, '([NP], [,], [NPLOC], [,])': 6, '([PRP$], [JJ], [NN])': 3, '([NP], [CC], [NPTTL])': 1, '([DT],)': 3, '([NN], [NNS])': 8, '([JJS],)': 2, '([NP], [NNP], [NN])': 1, '([JJ], [NN], [NNS])': 2, '([DT], [JJ], [NN])': 13, '([NNP], [NNP], [NNS])': 3, '([PRP$], [$], [CD], [NONE])': 1, '([CD], [CD], [NNP])': 1, '([NP], [VP], [PRN])': 1, '([DT], [NNP], [NNS])': 1, '([DT], [NN])': 29, '([NPTTL], [CC], [NPTTL])': 1, '([DT], [VBN], [NN], [NN])': 1, '([PRP$], [JJS], [NN])': 1, '([NP], [NN], [NNS])': 2, '([NP],)': 2, '([DT], [PRP])': 1, '([DT], [NAC], [NN])': 1, '([NP], [PPLOC])': 5, '([DT], [CD], [NNS])': 1, '([NNP], [CC], [NNP], [NNP])': 1, '([PRP], [CC], [PRP])': 1, '([DT], [NNP], [NNP], [NNP])': 3, '([NNP], [NNP], [NNP], [NNP])': 2, '([DT], [NNS], [RB])': 1, '([NP], [,], [SBAR])': 1, '([NP], [NN], [NN])': 3, '([NP], [,], [SBAR], [,])': 7, '([NNP], [NNP], [POS])': 1, '([NP], [VBG], [NN], [NNS])': 1, '([DT], [NNS], [CC], [NNS])': 1, '([NNS], [NNS])': 2, '([JJ], [NNP], [NNP])': 2, '([PRP$], [NN])': 3, '([NNP], [CD], [NNS])': 1, '([DT], [VBG], [NNS])': 2, '([DT], [ADJP], [JJ], [NN])': 1, '([NP], [,], [NP])': 2, '([DT], [NNP], [NNPS], [NNP])': 1, '([DT], [NNP])': 9, '([DT], [JJ], [JJ], [NNS])': 1, '([DT], [QP], [NONE])': 1, '([JJS], [NN], [NNS])': 1, '([NN], [NN], [NN])': 2, '([NP], [NPTMP])': 1, '([NP], [NP], [:])': 1, '([DT], [NNS], [NN])': 3, '([NP], [VBN], [NN])': 1, '([DT], [JJS], [NN])': 1, '([NP], [,], [ADJP], [,])': 3, '([NP], [PPTMP], [PP])': 1, '([NP], [NP])': 4, '([JJ], [JJ], [NNS])': 3, '([NP], [,], [PP], [,])': 2, '([NP], [,], [RRC], [,])': 1, '([DT], [JJ], [NNS], [NN])': 1, '([DT], [ADJP], [NNS])': 1, '([DT], [NNP], [NNP])': 4, '([NP], [S])': 2, '([CD], [JJ], [NNS])': 2, \"([NP], [PP], [''], [VP])\": 1, '([NP], [SBAR])': 10, '([ADJP], [NN])': 1, '([QP], [NNS])': 2, '([DT], [JJR], [NN])': 1, '([PRP$], [NNS])': 5, '([NP], [,], [NP], [SBAR])': 1, '([NP], [NNP], [CD], [NN])': 1, '([JJ], [NNS], [CC], [NNS])': 1, '([NP], [PP], [NP])': 1, '([PDT], [DT], [JJ], [NN])': 1, '([JJR], [NNP], [NN], [NNS])': 1, '([NP], [NN], [NNS], [NN])': 1, '([NN], [NN])': 2, '([DT], [JJ], [NN], [NN])': 3, '([NP], [,], [VP])': 1, '([NP], [NN], [PPLOC])': 1, '([DT], [NNP], [JJ], [NN])': 1, '([NP], [VBG], [NNS])': 1, '([NP], [,], [PP])': 1, '([NAC], [NNS])': 1, '([PRP$], [NNP], [NNP], [NNP])': 1, '([NP], [ADVPLOC])': 2, '([DT], [JJS], [NNS])': 1, '([NP], [PPLOC], [NP])': 1, '([CD], [NNS])': 2, '([CD], [NNS], [CC], [NNS])': 1, '([DT], [JJ], [NNS])': 3, '([NN], [NN], [NNS])': 2, '([NNP], [NNP], [NN], [NNS])': 1, '([NP], [NNP], [NNP], [NNP])': 2, '([IN],)': 1, '([JJ], [LRB], [NN], [RRB])': 1, '([NP], [NP], [PPLOC])': 1, '([RBR], [JJ], [NNS])': 1, '([NP], [CC], [NP])': 2, '([DT], [VBN], [NN])': 1, '([NP], [PPLOC], [PPTMP])': 1, '([NP], [,], [CC], [NP])': 2, '([DT], [NNP], [POS], [NNP])': 1, '([NP], [FRAG])': 2, '([IN], [JJ], [NNS])': 1, '([NP], [PP], [PPLOC])': 2, '([NP], [NN], [S])': 1, '([EX],)': 3, '([DT], [NNP], [NN])': 3, '([DT], [NN], [S])': 2, '([NP], [PPTMP])': 1, '([VBN], [NNS])': 1, '([DT], [CD], [JJ], [NNS])': 1, '([NNP], [NN], [NNS])': 3, '([DT], [NN], [NN], [NN])': 2, '([VBG], [NN])': 1, '([NNP], [.], [NNP])': 1, '([NP], [NNS])': 4, \"([``], [NNP], [''], [NNS])\": 1, '([PRP], [CC], [NNS])': 1, '([NP], [VP])': 5, '([NP], [,], [NPLOC])': 4, \"([NP], [``], [NPTTL], [''])\": 1, '([NP], [JJ], [JJ], [NNS])': 1, '([JJ], [NNP], [NNP], [NNP])': 1, '([PRP$], [JJ], [NNS])': 2, '([NNP],)': 6, '([NNP], [NNP], [NN])': 2, '([NP], [PP], [NPTMP], [PRN])': 1, '([VBN], [NN], [SBAR])': 1, '([DT], [JJS], [CD], [NNS])': 1, '([PRP$], [NN], [S])': 1, '([DT], [VBG])': 1, '([NP], [,], [SBARLOC], [,])': 1, '([NP], [,], [UCP], [,])': 1, '([CD], [NNP], [NNP], [NNS])': 1, '([NN], [CC], [NN])': 1, \"([NP], [``], [STTL], [''])\": 1, '([NAC], [NNP])': 1, '([NP], [PP], [PPLOC], [PP])': 1, '([NPLOC], [SBAR], [,])': 1, '([JJ], [VBG], [NNS])': 1, '([UCP], [NNS])': 1, '([DT], [JJ], [JJ], [NN])': 3, '([PRP$], [NNS], [NN])': 1, '([RB],)': 1, '([DT], [ADJP], [NN])': 3, '([NP], [JJ], [NNS], [S])': 1, '([DT], [NN], [NNS])': 3, '([DT], [CD], [NNS], [NN])': 1, '([NP], [,], [PRN])': 1, '([DT], [RBS], [JJ], [NN])': 1, '([PRP$], [NN], [NN])': 2, '([DT], [NNPS])': 1, '([NP], [NNPS])': 1, '([RB], [JJ], [NN])': 1, '([NN], [S])': 1, '([JJ], [NN], [NNP], [NNP])': 1, '([ADJP], [JJ], [NN])': 1, '([NP], [NNP])': 2, '([QP], [NN])': 1, '([NNP], [CC], [NNP])': 1, '([PRP], [NN])': 1, '([PDT], [DT], [NN])': 1, '([DT], [JJ], [NNPS])': 1, '([NN], [NNP], [NNS])': 1, '([DT], [NN], [SBAR])': 1, '([DT], [CD], [NNS], [NNS])': 1, '([NP], [JJ], [NN], [NNS])': 1, '([DT], [JJ], [NNP], [NNP])': 1, '([PRP$], [NN], [NNS])': 1, '([DT], [NNP], [CD], [NN])': 2, '([RB], [JJ], [NNS])': 1, '([NP], [PP], [PRN])': 1, '([NP], [SBARLOC])': 1, '([NNPS], [NNP], [CC], [NNP])': 1, '([NP], [CC], [NP], [DT])': 1, '([JJ], [NN], [NN])': 2, '([JJ], [NNPS])': 1, '([DT], [NN], [NN], [S])': 1, '([NP], [PPDIR])': 2, '([JJ], [NNP])': 1, '([NN], [CC], [NN], [NNS])': 1, '([NP], [JJ], [NNS], [NN])': 1, '([NP], [:], [NP], [:])': 1, '([VBG],)': 1, '([NP], [VP], [SBAR], [,])': 1, '([NNP], [VBZ])': 1, '([NNP], [NN], [NN])': 1, '([NP], [JJ], [NN])': 2, '([DT], [NNP], [CC], [NNP])': 1, '([NP], [PP], [S])': 1, '([VBG], [NNS])': 2, '([DT], [NNS], [NNS])': 1, '([IN], [DT])': 1, '([NN], [NN], [NN], [NNS])': 1, '([JJ], [CC], [NN], [NNS])': 1, '([DT], [CD])': 1, '([PRP$],)': 1, '([NNP], [NNS])': 3, '([NP], [VBN], [NNS])': 1, '([NP], [:], [NP])': 1, '([JJ], [NNS], [NNS])': 2, '([DT], [JJ], [NX])': 1, '([NP], [PP], [PPTMP])': 1, '([ADJP], [NNS])': 1, '([DT], [CD], [NNP])': 1, '([RB], [DT], [JJ], [NN])': 2, '([CD], [NN], [NN])': 2, '([NNP], [NN])': 2, '([VBN], [NN])': 1, '([NP], [LRB], [PPLOC], [RRB])': 1, '([NNP], [NNPS], [NNP])': 1, '([NP], [NNP], [NNP])': 2, '([NP], [PP], [PP], [PP])': 1, '([NNS], [SBAR])': 1, '([DT], [ADJP], [NN], [NNS])': 1, '([DT], [CD], [NN], [NN])': 1, '([DT], [JJ], [CD], [NNS])': 1, '([DT], [NNP], [NNP], [NNS])': 1, '([DT], [VBN], [NNS])': 1, '([DT], [CD], [NN])': 1, '([NP], [JJ], [NN], [NN])': 2, '([RBS], [JJ], [NN], [NNS])': 1, '([NP], [NNP], [NNP], [NNS])': 1, '([NNP], [POS])': 1, '([DT], [NN], [VBG], [NN])': 1, '([NP], [NPADV])': 1, '([NP], [PP], [PP])': 2, '([JJ], [PRN], [JJ], [NNS])': 1, '([DT], [QP], [NNS])': 1, '([QP],)': 1, '([ADJP], [VBG], [NN])': 1, '([DT], [VBG], [QP], [NONE])': 1, '([DT], [JJ], [NNS], [NNS])': 1, '([NP], [PPLOC], [NPTMP])': 1, '([JJ], [DT], [NN])': 2, '([NP], [NNS], [NN])': 1, '([RBR], [JJ], [NN], [NNS])': 1, '([DT], [JJ], [NN], [NNS])': 2, '([DT], [NN], [JJ], [NN])': 1, '([NP], [NNP], [NNP], [CD])': 1, '([WDT],)': 1, '([NP], [SBAR], [PP])': 1, '([FW],)': 1, '([DT], [CD], [NNS], [RB])': 1, '([DT], [JJ])': 1, '([NP], [,], [ADJP])': 1, '([CD], [JJ], [NN])': 1, '([NPTTL], [PP])': 1, '([NP], [UCP])': 1, '([NN], [NNP], [NNP])': 1, '([NP], [:], [SBAR], [:])': 1, '([NP], [SBARADV])': 1, '([NN], [NNS], [NN])': 1, '([DT], [VBG], [CD], [NNS])': 1, '([NP], [JJ], [NNS], [NNS])': 1, '([DT], [NNP], [NNP], [NN])': 1, '([NP], [NN], [NN], [NNS])': 1, '([NP], [NN], [CC], [NN])': 1, '([NN], [NN], [NNP], [NNP])': 1, '([NP], [PP], [PPDIR])': 1, '([DT], [VBG], [NN])': 1, '([DT], [JJS], [NN], [NN])': 1, '([DT], [JJR], [NNS])': 1, '([NN], [.], [NNP])': 1, '([NNS], [S])': 1, '([DT], [JJ], [NNP])': 1, '([NP], [PP], [VP])': 2, '([NNP], [NNPS])': 2, '([NP], [PP], [SBAR])': 1, '([DT], [JJ], [ADJP], [NN])': 1, '([JJ], [NNP], [NNS])': 1, '([PRP$], [NNS], [CC], [NNS])': 1, '([JJS], [NNS])': 1, '([CD],)': 3, '([JJ], [NNP], [NNP], [NNS])': 1, '([RB], [JJ])': 1, '([PRP$], [NNP], [NNP], [NN])': 1, '([CD], [NN])': 1, '([JJS], [NNPS])': 1, '([NP], [PRN], [PP])': 1, '([NNP], [NNP], [CC], [NNP])': 1, '([NP], [,], [PPLOC], [,])': 1, '([NP], [VP], [PP])': 1, '([NN], [CD])': 1, '([NP], [:], [PPLOC], [:])': 1} \n",
      "\n",
      "[RB] {\"('above',)\": 1, \"('surprisingly',)\": 1, \"('earlier',)\": 1, \"('expressly',)\": 1, \"('though',)\": 1, \"('alike',)\": 1, \"('flat',)\": 1, \"('downright',)\": 1, \"('dramatically',)\": 1, \"('wide',)\": 1, \"('overseas',)\": 1, \"('Only',)\": 1, \"('Once',)\": 1, \"('exclusively',)\": 1, \"('instead',)\": 1, \"('back',)\": 1, \"('supposedly',)\": 1, \"('clearly',)\": 1, \"('separately',)\": 1, \"('vice',)\": 1, \"('free',)\": 1, \"('aggressively',)\": 1, \"('Late',)\": 1, \"('financially',)\": 1, \"('so',)\": 1, \"('Just',)\": 1, \"('out',)\": 1, \"('modestly',)\": 1, \"('actually',)\": 1, \"('below',)\": 1, \"('Typically',)\": 1, \"('Actually',)\": 1, \"('poorly',)\": 1, \"('Often',)\": 1, \"('ultimately',)\": 1, \"('Virtually',)\": 1, \"('formerly',)\": 1, \"('somehow',)\": 1, \"('altogether',)\": 1, \"('openly',)\": 1, \"('surreptitiously',)\": 1, \"('even',)\": 1, \"('however',)\": 1, \"('hopefully',)\": 1, \"('extremely',)\": 1, \"('As',)\": 1, \"('tight',)\": 1, \"('consistently',)\": 1, \"('down',)\": 1, \"('suddenly',)\": 1, \"('prominently',)\": 1, \"('informally',)\": 1, \"('accurately',)\": 1, \"('However',)\": 1, \"('partly',)\": 1, \"('thus',)\": 1, \"('finally',)\": 1, \"('simultaneously',)\": 1, \"('then',)\": 1, \"('nearby',)\": 1, \"('moreover',)\": 1, \"('Sure',)\": 1, \"('apparently',)\": 1, \"('sufficiently',)\": 1, \"('After',)\": 1, \"('globally',)\": 1, \"('anywhere',)\": 1, \"('robustly',)\": 1, \"('primarily',)\": 1, \"('slowly',)\": 1, \"('Even',)\": 1, \"('sharply',)\": 1, \"('properly',)\": 1, \"('strictly',)\": 1, \"('completely',)\": 1, \"('simply',)\": 1, \"('Nevertheless',)\": 1, \"('hardly',)\": 1, \"('vertically',)\": 1, \"('namely',)\": 1, \"('about',)\": 1, \"('but',)\": 1, \"('radically',)\": 1, \"('previously',)\": 1, \"('before',)\": 1, \"('plus',)\": 1, \"('Currently',)\": 1, \"('badly',)\": 1, \"('exactly',)\": 1, \"('perfectly',)\": 1, \"('alone',)\": 1, \"('Perhaps',)\": 1, \"('essentially',)\": 1, \"('Now',)\": 1, \"('structurally',)\": 1, \"('fine',)\": 1, \"('carefully',)\": 1, \"('easily',)\": 1, \"('Certainly',)\": 1, \"('Sometimes',)\": 1, \"('promptly',)\": 1, \"('Moreover',)\": 1, \"('Partly',)\": 1, \"('invariably',)\": 1, \"('studiously',)\": 1, \"('also',)\": 1, \"('historically',)\": 1, \"('abroad',)\": 1, \"('skyward',)\": 1, \"('smartly',)\": 1, \"('rather',)\": 1, \"('high',)\": 1, \"('Then',)\": 1, \"('first',)\": 1, \"('chiefly',)\": 1, \"('Prior',)\": 1, \"('Frankly',)\": 1, \"('Particularly',)\": 1, \"('frequently',)\": 1, \"('reportedly',)\": 1, \"('pretty',)\": 1, \"('far',)\": 1, \"('now',)\": 1, \"('p.m',)\": 1, \"('equally',)\": 1, \"('slightly',)\": 1, \"('yet',)\": 1, \"('tenfold',)\": 1, \"('constantly',)\": 1, \"('immediately',)\": 1, \"('Mostly',)\": 1, \"('everywhere',)\": 1, \"('downward',)\": 1, \"('Almost',)\": 1, \"('perhaps',)\": 1, \"('Some',)\": 1, \"('Always',)\": 1, \"('Previously',)\": 1, \"('vitally',)\": 1, \"('currently',)\": 1, \"('any',)\": 1, \"('frankly',)\": 1, \"('really',)\": 1, \"('Not',)\": 1, \"('Invariably',)\": 1, \"('favorably',)\": 1, \"('largely',)\": 1, \"('once',)\": 1, \"('marginally',)\": 1, \"('Also',)\": 1, \"('away',)\": 1, \"('Right',)\": 1, \"('strongly',)\": 1, \"('harshly',)\": 1, \"('smoothly',)\": 1, \"('wildly',)\": 1, \"('marvelously',)\": 1, \"('nonetheless',)\": 1, \"('fairly',)\": 1, \"('drastically',)\": 1, \"('mistakenly',)\": 1, \"('ago',)\": 1, \"('unusually',)\": 1, \"('differently',)\": 1, \"('shortly',)\": 1, \"('moderately',)\": 1, \"('last',)\": 1, \"('allegedly',)\": 1, \"('amazingly',)\": 1, \"('Totally',)\": 1, \"('predictably',)\": 1, \"('therefore',)\": 1, \"('Much',)\": 1, \"('over',)\": 1, \"('very',)\": 1, \"('madly',)\": 1, \"('sometimes',)\": 1, \"('maybe',)\": 1, \"('precisely',)\": 1, \"('eventually',)\": 1, \"('Instead',)\": 1, \"('mechanically',)\": 1, \"('upstream',)\": 1, \"('relentlessly',)\": 1, \"('anyway',)\": 1, \"('manually',)\": 1, \"('never',)\": 1, \"('as',)\": 1, \"('Recently',)\": 1, \"('substantially',)\": 1, \"('annually',)\": 1, \"('Far',)\": 1, \"('narrowly',)\": 1, \"('often',)\": 1, \"('accidentally',)\": 1, \"('awfully',)\": 1, \"('excessively',)\": 1, \"('Again',)\": 1, \"('slow',)\": 1, \"('gradually',)\": 1, \"('derisively',)\": 1, \"('typically',)\": 1, \"('Nonetheless',)\": 1, \"('increasingly',)\": 1, \"('effectively',)\": 1, \"('all',)\": 1, \"('Thus',)\": 1, \"('honorably',)\": 1, \"('inherently',)\": 1, \"('damn',)\": 1, \"('continuously',)\": 1, \"('hydraulically',)\": 1, \"('by',)\": 1, \"('twice',)\": 1, \"('technically',)\": 1, \"('solely',)\": 1, \"('long',)\": 1, \"('quite',)\": 1, \"('newsweekly',)\": 1, \"('apiece',)\": 1, \"('intimately',)\": 1, \"('well',)\": 1, \"('short',)\": 1, \"('considerably',)\": 1, \"('duly',)\": 1, \"('tidily',)\": 1, \"('unfairly',)\": 1, \"('in',)\": 1, \"('greatly',)\": 1, \"('Academically',)\": 1, \"('personally',)\": 1, \"('directly',)\": 1, \"('officially',)\": 1, \"('traditionally',)\": 1, \"('illegally',)\": 1, \"('home',)\": 1, \"('nearly',)\": 1, \"('Little',)\": 1, \"('laboriously',)\": 1, \"('straight',)\": 1, \"('fractionally',)\": 1, \"('fundamentally',)\": 1, \"('federally',)\": 1, \"('Already',)\": 1, \"('quickly',)\": 1, \"('longer',)\": 1, \"('prospectively',)\": 1, \"('obviously',)\": 1, \"('early',)\": 1, \"('relatively',)\": 1, \"('not',)\": 1, \"('unsuccessfully',)\": 1, \"('probably',)\": 1, \"('on',)\": 1, \"('anytime',)\": 1, \"('unrealistically',)\": 1, \"('evenly',)\": 1, \"('sure',)\": 1, \"('swiftly',)\": 1, \"('LATE',)\": 1, \"('merely',)\": 1, \"('alternatively',)\": 1, \"('Similarly',)\": 1, \"('little',)\": 1, \"('no',)\": 1, \"('hither',)\": 1, \"('No',)\": 1, \"('singlehandedly',)\": 1, \"('soon',)\": 1, \"('successfully',)\": 1, \"('there',)\": 1, \"('Unfortunately',)\": 1, \"('publicly',)\": 1, \"('jointly',)\": 1, \"('purely',)\": 1, \"('only',)\": 1, \"('Shortly',)\": 1, \"('exceptionally',)\": 1, \"('exceedingly',)\": 1, \"('because',)\": 1, \"('indefinitely',)\": 1, \"('Further',)\": 1, \"('politely',)\": 1, \"('originally',)\": 1, \"('actively',)\": 1, \"('always',)\": 1, \"('usually',)\": 1, \"('nowhere',)\": 1, \"('again',)\": 1, \"('utterly',)\": 1, \"('continually',)\": 1, \"('temporarily',)\": 1, \"('here',)\": 1, \"('further',)\": 1, \"('already',)\": 1, \"('seasonally',)\": 1, \"('presumably',)\": 1, \"('n't',)\": 1, \"('apart',)\": 1, \"('right',)\": 1, \"('mainly',)\": 1, \"('close',)\": 1, \"('indeed',)\": 1, \"('almost',)\": 1, \"('else',)\": 1, \"('afterwards',)\": 1, \"('elsewhere',)\": 1, \"('approximately',)\": 1, \"('voluntarily',)\": 1, \"('lately',)\": 1, \"('upside',)\": 1, \"('hard',)\": 1, \"('together',)\": 1, \"('prior',)\": 1, \"('Altogether',)\": 1, \"('around',)\": 1, \"('notably',)\": 1, \"('cautiously',)\": 1, \"('inaccurately',)\": 1, \"('closely',)\": 1, \"('beforehand',)\": 1, \"('rhythmically',)\": 1, \"('faultlessly',)\": 1, \"('too',)\": 1, \"('recently',)\": 1, \"('unbearably',)\": 1, \"('triple',)\": 1, \"('potentially',)\": 1, \"('Financially',)\": 1, \"('highly',)\": 1, \"('profitably',)\": 1, \"('rarely',)\": 1, \"('deeply',)\": 1, \"('low',)\": 1, \"('brilliantly',)\": 1, \"('universally',)\": 1, \"('ever',)\": 1, \"('enough',)\": 1, \"('enormously',)\": 1, \"('stocks',)\": 1, \"('desperately',)\": 1, \"('for',)\": 1, \"('that',)\": 1, \"('occasionally',)\": 1, \"('meanwhile',)\": 1, \"('yon',)\": 1, \"('privately',)\": 1, \"('after',)\": 1, \"('normally',)\": 1, \"('possibly',)\": 1, \"('ahead',)\": 1, \"('certainly',)\": 1, \"('yes',)\": 1, \"('roughly',)\": 1, \"('generally',)\": 1, \"('basically',)\": 1, \"('Here',)\": 1, \"('tentatively',)\": 1, \"('Indeed',)\": 1, \"('heavily',)\": 1, \"('Meanwhile',)\": 1, \"('Back',)\": 1, \"('darned',)\": 1, \"('Yet',)\": 1, \"('particularly',)\": 1, \"('mentally',)\": 1, \"('much',)\": 1, \"('repeatedly',)\": 1, \"('newly',)\": 1, \"('forward',)\": 1, \"('especially',)\": 1, \"('just',)\": 1, \"('absolutely',)\": 1, \"('Too',)\": 1, \"('Rather',)\": 1, \"('domestically',)\": 1, \"('locally',)\": 1, \"('fast',)\": 1, \"('off',)\": 1, \"('adequately',)\": 1, \"('either',)\": 1, \"('seriously',)\": 1, \"('Maybe',)\": 1, \"('late',)\": 1, \"('sooner',)\": 1, \"('mostly',)\": 1, \"('editorially',)\": 1, \"('fully',)\": 1, \"('scarcely',)\": 1, \"('entirely',)\": 1, \"('widely',)\": 1, \"('Separately',)\": 1, \"('scrupulously',)\": 1, \"('clear',)\": 1, \"('up',)\": 1, \"('initially',)\": 1, \"('likely',)\": 1, \"('broadly',)\": 1, \"('steadily',)\": 1, \"('stringently',)\": 1, \"('Soon',)\": 1, \"('virtually',)\": 1, \"('Probably',)\": 1, \"('significantly',)\": 1, \"('still',)\": 1, \"('Traditionally',)\": 1, \"('Still',)\": 1, \"('surely',)\": 1, \"('necessarily',)\": 1, \"('spectacularly',)\": 1, \"('partially',)\": 1, \"('rapidly',)\": 1, \"('So',)\": 1} \n",
      "\n",
      "[NNS] {\"('causes',)\": 1, \"('neighbors',)\": 1, \"('Ratings',)\": 1, \"('students',)\": 1, \"('Judges',)\": 1, \"('comments',)\": 1, \"('guarantees',)\": 1, \"('Relations',)\": 1, \"('acquirers',)\": 1, \"('investorrelations',)\": 1, \"('justices',)\": 1, \"('Critics',)\": 1, \"('troubles',)\": 1, \"('credentials',)\": 1, \"('plainclothes',)\": 1, \"('balls',)\": 1, \"('yields',)\": 1, \"('experts',)\": 1, \"('Risks',)\": 1, \"('twothirds',)\": 1, \"('reruns',)\": 1, \"('duties',)\": 1, \"('implications',)\": 1, \"('payouts',)\": 1, \"('statistics',)\": 1, \"('anxieties',)\": 1, \"('rentals',)\": 1, \"('cities',)\": 1, \"('techniques',)\": 1, \"('Associates',)\": 1, \"('printers',)\": 1, \"('passages',)\": 1, \"('networks',)\": 1, \"('drawbacks',)\": 1, \"('writedowns',)\": 1, \"('tutorials',)\": 1, \"('merits',)\": 1, \"('parents',)\": 1, \"('Champagnes',)\": 1, \"('copycats',)\": 1, \"('memories',)\": 1, \"('tissues',)\": 1, \"('slowdowns',)\": 1, \"('appointments',)\": 1, \"('locations',)\": 1, \"('rigors',)\": 1, \"('negotiations',)\": 1, \"('valuations',)\": 1, \"('debts',)\": 1, \"('judges',)\": 1, \"('PAPERS',)\": 1, \"('Seats',)\": 1, \"('officers',)\": 1, \"('costs',)\": 1, \"('1920s',)\": 1, \"('Results',)\": 1, \"('trials',)\": 1, \"('providers',)\": 1, \"('Assets',)\": 1, \"('motives',)\": 1, \"('submarkets',)\": 1, \"('stocks',)\": 1, \"('offenders',)\": 1, \"('magicians',)\": 1, \"('diplomats',)\": 1, \"('fronts',)\": 1, \"('planners',)\": 1, \"('classmates',)\": 1, \"('laws',)\": 1, \"('pharaohs',)\": 1, \"('replies',)\": 1, \"('consultants',)\": 1, \"('carillons',)\": 1, \"('materials',)\": 1, \"('1990s',)\": 1, \"('titans',)\": 1, \"('premiums',)\": 1, \"('signs',)\": 1, \"('ballplayers',)\": 1, \"('disputes',)\": 1, \"('payrolls',)\": 1, \"('practitioners',)\": 1, \"('performers',)\": 1, \"('holdings',)\": 1, \"('members',)\": 1, \"('colleges',)\": 1, \"('Yields',)\": 1, \"('guns',)\": 1, \"('Cataracts',)\": 1, \"('months',)\": 1, \"('ones',)\": 1, \"('prices',)\": 1, \"('proceeds',)\": 1, \"('Barrels',)\": 1, \"('clerks',)\": 1, \"('depressions',)\": 1, \"('showings',)\": 1, \"('yen',)\": 1, \"('Buyers',)\": 1, \"('boomers',)\": 1, \"('views',)\": 1, \"('Modifications',)\": 1, \"('soldiers',)\": 1, \"('devices',)\": 1, \"('neutrons',)\": 1, \"('sales',)\": 1, \"('broadcasts',)\": 1, \"('taxpayers',)\": 1, \"('functions',)\": 1, \"('days',)\": 1, \"('discussions',)\": 1, \"('stairs',)\": 1, \"('legislators',)\": 1, \"('blacks',)\": 1, \"('corporations',)\": 1, \"('stalls',)\": 1, \"('moons',)\": 1, \"('smiles',)\": 1, \"('industrials',)\": 1, \"('flows',)\": 1, \"('companies',)\": 1, \"('Terms',)\": 1, \"('bricks',)\": 1, \"('weekends',)\": 1, \"('accessories',)\": 1, \"('Plans',)\": 1, \"('designers',)\": 1, \"('crops',)\": 1, \"('communications',)\": 1, \"('cycles',)\": 1, \"('examinations',)\": 1, \"('viewers',)\": 1, \"('publications',)\": 1, \"('leaders',)\": 1, \"('mergers',)\": 1, \"('debentures',)\": 1, \"('exports',)\": 1, \"('deaths',)\": 1, \"('cousins',)\": 1, \"('children',)\": 1, \"('aides',)\": 1, \"('wires',)\": 1, \"('sounds',)\": 1, \"('billions',)\": 1, \"('segments',)\": 1, \"('marriages',)\": 1, \"('academics',)\": 1, \"('departures',)\": 1, \"('abortions',)\": 1, \"('sanctions',)\": 1, \"('investigations',)\": 1, \"('voices',)\": 1, \"('businesses',)\": 1, \"('campaigns',)\": 1, \"('contributions',)\": 1, \"('restrictions',)\": 1, \"('derivatives',)\": 1, \"('purposes',)\": 1, \"('staffs',)\": 1, \"('slides',)\": 1, \"('bids',)\": 1, \"('sports',)\": 1, \"('relations',)\": 1, \"('emergencies',)\": 1, \"('buildingproducts',)\": 1, \"('hopes',)\": 1, \"('arrows',)\": 1, \"('threesevenths',)\": 1, \"('copyrights',)\": 1, \"('chips',)\": 1, \"('administrations',)\": 1, \"('outlets',)\": 1, \"('disclosures',)\": 1, \"('autos',)\": 1, \"('resources',)\": 1, \"('items',)\": 1, \"('blocks',)\": 1, \"('flights',)\": 1, \"('examples',)\": 1, \"('airlines',)\": 1, \"('solutions',)\": 1, \"('pins',)\": 1, \"('briefings',)\": 1, \"('vetoes',)\": 1, \"('perceptions',)\": 1, \"('CDs',)\": 1, \"('lyrics',)\": 1, \"('citizens',)\": 1, \"('COMPUTERS',)\": 1, \"('representatives',)\": 1, \"('provisions',)\": 1, \"('conditions',)\": 1, \"('contributors',)\": 1, \"('individuals',)\": 1, \"('heebiejeebies',)\": 1, \"('degrees',)\": 1, \"('dynamics',)\": 1, \"('Advocates',)\": 1, \"('steps',)\": 1, \"('forecasts',)\": 1, \"('ringers',)\": 1, \"('hours',)\": 1, \"('tens',)\": 1, \"('Payouts',)\": 1, \"('railings',)\": 1, \"('interventions',)\": 1, \"('joys',)\": 1, \"('Experts',)\": 1, \"('capsules',)\": 1, \"('swings',)\": 1, \"('airports',)\": 1, \"('Soviets',)\": 1, \"('Ideas',)\": 1, \"('patents',)\": 1, \"('editions',)\": 1, \"('IRAs',)\": 1, \"('stations',)\": 1, \"('ratepayers',)\": 1, \"('moneymakers',)\": 1, \"('reds',)\": 1, \"('discounts',)\": 1, \"('Banks',)\": 1, \"('farmers',)\": 1, \"('settlements',)\": 1, \"('carriers',)\": 1, \"('heirs',)\": 1, \"('traders',)\": 1, \"('factors',)\": 1, \"('worries',)\": 1, \"('cheerleaders',)\": 1, \"('cases',)\": 1, \"('constraints',)\": 1, \"('Commissions',)\": 1, \"('scores',)\": 1, \"('comedies',)\": 1, \"('assaults',)\": 1, \"('amounts',)\": 1, \"('skirmishes',)\": 1, \"('styles',)\": 1, \"('contradictions',)\": 1, \"('forestproducts',)\": 1, \"('signboards',)\": 1, \"('vaccines',)\": 1, \"('swaps',)\": 1, \"('bloods',)\": 1, \"('instances',)\": 1, \"('parishioners',)\": 1, \"('noodles',)\": 1, \"('viewpoints',)\": 1, \"('ACCEPTANCES',)\": 1, \"('trends',)\": 1, \"('councils',)\": 1, \"('backlogs',)\": 1, \"('apples',)\": 1, \"('posters',)\": 1, \"('guests',)\": 1, \"('times',)\": 1, \"('attorneys',)\": 1, \"('actions',)\": 1, \"('riders',)\": 1, \"('purchases',)\": 1, \"('breakers',)\": 1, \"('starters',)\": 1, \"('questions',)\": 1, \"('beers',)\": 1, \"('youngsters',)\": 1, \"('subscribers',)\": 1, \"('rules',)\": 1, \"('millionaires',)\": 1, \"('goodies',)\": 1, \"('cups',)\": 1, \"('friends',)\": 1, \"('soybeans',)\": 1, \"('felonies',)\": 1, \"('sparkplugs',)\": 1, \"('autions',)\": 1, \"('inmates',)\": 1, \"('minivans',)\": 1, \"('meetings',)\": 1, \"('Voters',)\": 1, \"('states',)\": 1, \"('allegations',)\": 1, \"('concerns',)\": 1, \"('fights',)\": 1, \"('pages',)\": 1, \"('Destinations',)\": 1, \"('Americans',)\": 1, \"('visits',)\": 1, \"('consequences',)\": 1, \"('Eurobonds',)\": 1, \"('fears',)\": 1, \"('magnets',)\": 1, \"('cutbacks',)\": 1, \"('fibers',)\": 1, \"('funds',)\": 1, \"('trays',)\": 1, \"('marketingcommunications',)\": 1, \"('Economists',)\": 1, \"('concessions',)\": 1, \"('workers',)\": 1, \"('Sales',)\": 1, \"('environmentalists',)\": 1, \"('metals',)\": 1, \"('Stockbrokers',)\": 1, \"('citations',)\": 1, \"('Vacancies',)\": 1, \"('peculiarities',)\": 1, \"('inquiries',)\": 1, \"('parallels',)\": 1, \"('newspapers',)\": 1, \"('watches',)\": 1, \"('spreads',)\": 1, \"('advocates',)\": 1, \"('governors',)\": 1, \"('managers',)\": 1, \"('lives',)\": 1, \"('insiders',)\": 1, \"('topics',)\": 1, \"('efforts',)\": 1, \"('churches',)\": 1, \"('Officials',)\": 1, \"('auctions',)\": 1, \"('rises',)\": 1, \"('seconds',)\": 1, \"('letters',)\": 1, \"('ads',)\": 1, \"('prisoners',)\": 1, \"('Prosecutors',)\": 1, \"('Farmers',)\": 1, \"('educators',)\": 1, \"('engineers',)\": 1, \"('lawyers',)\": 1, \"('reasons',)\": 1, \"('clippings',)\": 1, \"('dams',)\": 1, \"('busloads',)\": 1, \"('cents',)\": 1, \"('machines',)\": 1, \"('preferences',)\": 1, \"('tons',)\": 1, \"('films',)\": 1, \"('rifles',)\": 1, \"('deposits',)\": 1, \"('Superconductors',)\": 1, \"('wings',)\": 1, \"('Dealers',)\": 1, \"('smokers',)\": 1, \"('portfolios',)\": 1, \"('CEOs',)\": 1, \"('sights',)\": 1, \"('identities',)\": 1, \"('drives',)\": 1, \"('queers',)\": 1, \"('restaurants',)\": 1, \"('Individuals',)\": 1, \"('retailers',)\": 1, \"('strings',)\": 1, \"('civics',)\": 1, \"('judgments',)\": 1, \"('consumers',)\": 1, \"('studies',)\": 1, \"('Stadiums',)\": 1, \"('processors',)\": 1, \"('taxes',)\": 1, \"('Documents',)\": 1, \"('jobs',)\": 1, \"('pools',)\": 1, \"('durablegoods',)\": 1, \"('folks',)\": 1, \"('schools',)\": 1, \"('assertions',)\": 1, \"('producers',)\": 1, \"('threats',)\": 1, \"('savings',)\": 1, \"('covers',)\": 1, \"('SERVICES',)\": 1, \"('ropes',)\": 1, \"('families',)\": 1, \"('plants',)\": 1, \"('regulators',)\": 1, \"('presidents',)\": 1, \"('languages',)\": 1, \"('women',)\": 1, \"('bargains',)\": 1, \"('areas',)\": 1, \"('Compromises',)\": 1, \"('hustlers',)\": 1, \"('graders',)\": 1, \"('tablets',)\": 1, \"('data',)\": 1, \"('jitters',)\": 1, \"('holidays',)\": 1, \"('rivals',)\": 1, \"('Bonds',)\": 1, \"('patterns',)\": 1, \"('lesions',)\": 1, \"('intrusions',)\": 1, \"('calculations',)\": 1, \"('cuvees',)\": 1, \"('disposables',)\": 1, \"('streets',)\": 1, \"('maturities',)\": 1, \"('mothers',)\": 1, \"('stores',)\": 1, \"('sections',)\": 1, \"('accomplishments',)\": 1, \"('execs',)\": 1, \"('ushers',)\": 1, \"('Germans',)\": 1, \"('growers',)\": 1, \"('partners',)\": 1, \"('gangs',)\": 1, \"('Earnings',)\": 1, \"('Imports',)\": 1, \"('multinationals',)\": 1, \"('polls',)\": 1, \"('advantages',)\": 1, \"('editors',)\": 1, \"('appeals',)\": 1, \"('bidders',)\": 1, \"('niches',)\": 1, \"('dozens',)\": 1, \"('feelings',)\": 1, \"('opportunities',)\": 1, \"('Graduates',)\": 1, \"('Participants',)\": 1, \"('killings',)\": 1, \"('ministers',)\": 1, \"('ideas',)\": 1, \"('fatalities',)\": 1, \"('powers',)\": 1, \"('Packages',)\": 1, \"('inefficiencies',)\": 1, \"('charges',)\": 1, \"('doors',)\": 1, \"('wheels',)\": 1, \"('differences',)\": 1, \"('Policies',)\": 1, \"('losses',)\": 1, \"('transactions',)\": 1, \"('humans',)\": 1, \"('arbs',)\": 1, \"('numbers',)\": 1, \"('operations',)\": 1, \"('merchants',)\": 1, \"('booklets',)\": 1, \"('cattle',)\": 1, \"('heads',)\": 1, \"('architects',)\": 1, \"('arts',)\": 1, \"('shudders',)\": 1, \"('places',)\": 1, \"('landfills',)\": 1, \"('thrifts',)\": 1, \"('characters',)\": 1, \"('affiliates',)\": 1, \"('theaters',)\": 1, \"('fixtures',)\": 1, \"('products',)\": 1, \"('developments',)\": 1, \"('indexoptions',)\": 1, \"('ships',)\": 1, \"('brokers',)\": 1, \"('boyfriends',)\": 1, \"('therapies',)\": 1, \"('mortgages',)\": 1, \"('schoolboys',)\": 1, \"('wrists',)\": 1, \"('microcomputers',)\": 1, \"('clerics',)\": 1, \"('responses',)\": 1, \"('spiders',)\": 1, \"('schemes',)\": 1, \"('salarymen',)\": 1, \"('genes',)\": 1, \"('narcotics',)\": 1, \"('municipalities',)\": 1, \"('octogenarians',)\": 1, \"('screenwriters',)\": 1, \"('proposals',)\": 1, \"('pyramids',)\": 1, \"('platitudes',)\": 1, \"('suspensions',)\": 1, \"('ethics',)\": 1, \"('drums',)\": 1, \"('persons',)\": 1, \"('ranks',)\": 1, \"('futures',)\": 1, \"('accountants',)\": 1, \"('playgrounds',)\": 1, \"('bunches',)\": 1, \"('pricings',)\": 1, \"('symptoms',)\": 1, \"('Interviews',)\": 1, \"('tigers',)\": 1, \"('lungs',)\": 1, \"('fees',)\": 1, \"('males',)\": 1, \"('ISSUES',)\": 1, \"('pennies',)\": 1, \"('fires',)\": 1, \"('payments',)\": 1, \"('photos',)\": 1, \"('bullets',)\": 1, \"('recommendations',)\": 1, \"('reports',)\": 1, \"('pieces',)\": 1, \"('politicians',)\": 1, \"('Fears',)\": 1, \"('goods',)\": 1, \"('minutes',)\": 1, \"('demonstrations',)\": 1, \"('commercials',)\": 1, \"('mistakes',)\": 1, \"('versions',)\": 1, \"('Fans',)\": 1, \"('drivers',)\": 1, \"('signals',)\": 1, \"('makers',)\": 1, \"('TROUBLES',)\": 1, \"('Reserves',)\": 1, \"('Skills',)\": 1, \"('pirates',)\": 1, \"('prerogatives',)\": 1, \"('newsstands',)\": 1, \"('skills',)\": 1, \"('thugs',)\": 1, \"('increases',)\": 1, \"('aids',)\": 1, \"('environments',)\": 1, \"('details',)\": 1, \"('selloffs',)\": 1, \"('deficiencies',)\": 1, \"('buyouts',)\": 1, \"('types',)\": 1, \"('filters',)\": 1, \"('bases',)\": 1, \"('aftereffects',)\": 1, \"('vans',)\": 1, \"('walls',)\": 1, \"('automobiles',)\": 1, \"('results',)\": 1, \"('technologies',)\": 1, \"('People',)\": 1, \"('plaintiffs',)\": 1, \"('classifications',)\": 1, \"('scientists',)\": 1, \"('English',)\": 1, \"('elevators',)\": 1, \"('Sundays',)\": 1, \"('complexes',)\": 1, \"('clues',)\": 1, \"('branches',)\": 1, \"('owners',)\": 1, \"('measures',)\": 1, \"('returns',)\": 1, \"('shovels',)\": 1, \"('peaks',)\": 1, \"('expectations',)\": 1, \"('Tshirts',)\": 1, \"('Stockholders',)\": 1, \"('countries',)\": 1, \"('telecommunications',)\": 1, \"('negatives',)\": 1, \"('problems',)\": 1, \"('emotions',)\": 1, \"('observers',)\": 1, \"('stands',)\": 1, \"('administrators',)\": 1, \"('tunes',)\": 1, \"('wizards',)\": 1, \"('currencies',)\": 1, \"('stones',)\": 1, \"('boys',)\": 1, \"('applications',)\": 1, \"('peals',)\": 1, \"('positions',)\": 1, \"('dealings',)\": 1, \"('rewards',)\": 1, \"('shortages',)\": 1, \"('pickups',)\": 1, \"('milestones',)\": 1, \"('divisions',)\": 1, \"('semesters',)\": 1, \"('delays',)\": 1, \"('tests',)\": 1, \"('Countries',)\": 1, \"('financings',)\": 1, \"('designations',)\": 1, \"('foods',)\": 1, \"('businessmen',)\": 1, \"('codevelopers',)\": 1, \"('charts',)\": 1, \"('virtues',)\": 1, \"('Signs',)\": 1, \"('ensembles',)\": 1, \"('amphobiles',)\": 1, \"('facilities',)\": 1, \"('customers',)\": 1, \"('ways',)\": 1, \"('links',)\": 1, \"('cabs',)\": 1, \"('tools',)\": 1, \"('addresses',)\": 1, \"('C.D.s',)\": 1, \"('participants',)\": 1, \"('liberals',)\": 1, \"('wafers',)\": 1, \"('subjects',)\": 1, \"('miscarriages',)\": 1, \"('profits',)\": 1, \"('passions',)\": 1, \"('negotiators',)\": 1, \"('promotions',)\": 1, \"('unions',)\": 1, \"('demonstrators',)\": 1, \"('voters',)\": 1, \"('sectors',)\": 1, \"('billings',)\": 1, \"('headquarters',)\": 1, \"('partisans',)\": 1, \"('prints',)\": 1, \"('commodities',)\": 1, \"('opponents',)\": 1, \"('columns',)\": 1, \"('years',)\": 1, \"('threequarters',)\": 1, \"('semiconductors',)\": 1, \"('ramparts',)\": 1, \"('Futures',)\": 1, \"('bars',)\": 1, \"('8300s',)\": 1, \"('kits',)\": 1, \"('fields',)\": 1, \"('labels',)\": 1, \"('advertisers',)\": 1, \"('personnel',)\": 1, \"('buyers',)\": 1, \"('foreigners',)\": 1, \"('shops',)\": 1, \"('houses',)\": 1, \"('tapes',)\": 1, \"('requests',)\": 1, \"('Pressures',)\": 1, \"('conflicts',)\": 1, \"('margins',)\": 1, \"('standards',)\": 1, \"('diseases',)\": 1, \"('Neanderthals',)\": 1, \"('RATES',)\": 1, \"('witnesses',)\": 1, \"('efficiencies',)\": 1, \"('rings',)\": 1, \"('filings',)\": 1, \"('samples',)\": 1, \"('underwriters',)\": 1, \"('superpremiums',)\": 1, \"('issues',)\": 1, \"('towns',)\": 1, \"('stages',)\": 1, \"('economies',)\": 1, \"('PCs',)\": 1, \"('amendments',)\": 1, \"('speeches',)\": 1, \"('excesses',)\": 1, \"('Patients',)\": 1, \"('daughters',)\": 1, \"('articles',)\": 1, \"('imbalances',)\": 1, \"('Billings',)\": 1, \"('commissions',)\": 1, \"('neighborhoods',)\": 1, \"('EURODOLLARS',)\": 1, \"('weddings',)\": 1, \"('lookeeloos',)\": 1, \"('firms',)\": 1, \"('parties',)\": 1, \"('subsegments',)\": 1, \"('documents',)\": 1, \"('improvements',)\": 1, \"('computers',)\": 1, \"('people',)\": 1, \"('savers\\\\/investors',)\": 1, \"('protests',)\": 1, \"('Payments',)\": 1, \"('decisions',)\": 1, \"('keyboards',)\": 1, \"('Lawyers',)\": 1, \"('kids',)\": 1, \"('alumni',)\": 1, \"('quotations',)\": 1, \"('others',)\": 1, \"('books',)\": 1, \"('sorts',)\": 1, \"('POTABLES',)\": 1, \"('Scientists',)\": 1, \"('odds',)\": 1, \"('modems',)\": 1, \"('innuendoes',)\": 1, \"('borders',)\": 1, \"('barrels',)\": 1, \"('burdens',)\": 1, \"('matters',)\": 1, \"('preparatives',)\": 1, \"('tickets',)\": 1, \"('SALARIES',)\": 1, \"('sweatshirts',)\": 1, \"('decades',)\": 1, \"('bridges',)\": 1, \"('quotas',)\": 1, \"('stirrings',)\": 1, \"('wages',)\": 1, \"('combinations',)\": 1, \"('incisions',)\": 1, \"('clouds',)\": 1, \"('dances',)\": 1, \"('hazards',)\": 1, \"('confines',)\": 1, \"('works',)\": 1, \"('approaches',)\": 1, \"('departments',)\": 1, \"('hotels',)\": 1, \"('vehicles',)\": 1, \"('injuries',)\": 1, \"('outsiders',)\": 1, \"('marketers',)\": 1, \"('cracks',)\": 1, \"('mechanisms',)\": 1, \"('electronics',)\": 1, \"('methods',)\": 1, \"('earnings',)\": 1, \"('words',)\": 1, \"('projects',)\": 1, \"('phobias',)\": 1, \"('guys',)\": 1, \"('crews',)\": 1, \"('halts',)\": 1, \"('Producers',)\": 1, \"('competitors',)\": 1, \"('Orders',)\": 1, \"('Items',)\": 1, \"('necessities',)\": 1, \"('regulations',)\": 1, \"('risks',)\": 1, \"('dinosaurs',)\": 1, \"('agents',)\": 1, \"('speculators',)\": 1, \"('processes',)\": 1, \"('obstacles',)\": 1, \"('tags',)\": 1, \"('programs',)\": 1, \"('Analysts',)\": 1, \"('sides',)\": 1, \"('episodes',)\": 1, \"('rapists',)\": 1, \"('advances',)\": 1, \"('incomes',)\": 1, \"('battles',)\": 1, \"('grants',)\": 1, \"('BANKERS',)\": 1, \"('officials',)\": 1, \"('backers',)\": 1, \"('antiabortionists',)\": 1, \"('Editorials',)\": 1, \"('beneficiaries',)\": 1, \"('prosecutors',)\": 1, \"('shipments',)\": 1, \"('loans',)\": 1, \"('offerings',)\": 1, \"('worms',)\": 1, \"('railcars',)\": 1, \"('drugs',)\": 1, \"('audiocassettes',)\": 1, \"('attractions',)\": 1, \"('dollars',)\": 1, \"('stockholders',)\": 1, \"('beds',)\": 1, \"('guilders',)\": 1, \"('shivers',)\": 1, \"('imports',)\": 1, \"('ties',)\": 1, \"('fits',)\": 1, \"('Characters',)\": 1, \"('ratings',)\": 1, \"('subsidiaries',)\": 1, \"('guards',)\": 1, \"('expenditures',)\": 1, \"('superconductors',)\": 1, \"('cuts',)\": 1, \"('kinds',)\": 1, \"('rounds',)\": 1, \"('growths',)\": 1, \"('reservations',)\": 1, \"('giants',)\": 1, \"('demands',)\": 1, \"('periods',)\": 1, \"('stars',)\": 1, \"('competitions',)\": 1, \"('terms',)\": 1, \"('belts',)\": 1, \"('remarks',)\": 1, \"('issuers',)\": 1, \"('Auctions',)\": 1, \"('accommodations',)\": 1, \"('reformers',)\": 1, \"('chairs',)\": 1, \"('affairs',)\": 1, \"('generations',)\": 1, \"('Employers',)\": 1, \"('portions',)\": 1, \"('Gilts',)\": 1, \"('interests',)\": 1, \"('combines',)\": 1, \"('declines',)\": 1, \"('revenues',)\": 1, \"('economists',)\": 1, \"('responsibilities',)\": 1, \"('corners',)\": 1, \"('manufacturers',)\": 1, \"('contracts',)\": 1, \"('Attorneys',)\": 1, \"('adults',)\": 1, \"('publicrelations',)\": 1, \"('stakes',)\": 1, \"('criteria',)\": 1, \"('hobbyists',)\": 1, \"('drinks',)\": 1, \"('Securities',)\": 1, \"('trades',)\": 1, \"('churchgoers',)\": 1, \"('lawsuits',)\": 1, \"('lobbies',)\": 1, \"('marbles',)\": 1, \"('thousands',)\": 1, \"('dailies',)\": 1, \"('talks',)\": 1, \"('Communists',)\": 1, \"('crashes',)\": 1, \"('features',)\": 1, \"('employees',)\": 1, \"('shadows',)\": 1, \"('banks',)\": 1, \"('transplants',)\": 1, \"('wives',)\": 1, \"('mistrials',)\": 1, \"('pressures',)\": 1, \"('protections',)\": 1, \"('Areas',)\": 1, \"('supercomputers',)\": 1, \"('alcoholics',)\": 1, \"('callers',)\": 1, \"('clients',)\": 1, \"('structures',)\": 1, \"('assets',)\": 1, \"('universities',)\": 1, \"('spenders',)\": 1, \"('movies',)\": 1, \"('models',)\": 1, \"('lines',)\": 1, \"('borrowings',)\": 1, \"('quarters',)\": 1, \"('ballots',)\": 1, \"('deals',)\": 1, \"('complaints',)\": 1, \"('releases',)\": 1, \"('Appropriations',)\": 1, \"('ounces',)\": 1, \"('circumstances',)\": 1, \"('sellers',)\": 1, \"('systems',)\": 1, \"('scholars',)\": 1, \"('facts',)\": 1, \"('services',)\": 1, \"('generalizations',)\": 1, \"('levels',)\": 1, \"('tours',)\": 1, \"('moments',)\": 1, \"('passersby',)\": 1, \"('options',)\": 1, \"('things',)\": 1, \"('controls',)\": 1, \"('notes',)\": 1, \"('rates',)\": 1, \"('jolts',)\": 1, \"('knowns',)\": 1, \"('nations',)\": 1, \"('associates',)\": 1, \"('warnings',)\": 1, \"('Cartons',)\": 1, \"('millions',)\": 1, \"('units',)\": 1, \"('thanks',)\": 1, \"('PETS',)\": 1, \"('appropriations',)\": 1, \"('halls',)\": 1, \"('Mitsubishi',)\": 1, \"('meals',)\": 1, \"('medallions',)\": 1, \"('curses',)\": 1, \"('observations',)\": 1, \"('means',)\": 1, \"('listeners',)\": 1, \"('contacts',)\": 1, \"('grapes',)\": 1, \"('Firms',)\": 1, \"('subskills',)\": 1, \"('Pictures',)\": 1, \"('waters',)\": 1, \"('operators',)\": 1, \"('travelers',)\": 1, \"('vendors',)\": 1, \"('weeks',)\": 1, \"('thumbs',)\": 1, \"('miles',)\": 1, \"('findings',)\": 1, \"('benefits',)\": 1, \"('goblins',)\": 1, \"('bottles',)\": 1, \"('additions',)\": 1, \"('telephones',)\": 1, \"('corridors',)\": 1, \"('mids',)\": 1, \"('retorts',)\": 1, \"('scenes',)\": 1, \"('hundreds',)\": 1, \"('sites',)\": 1, \"('points',)\": 1, \"('belfries',)\": 1, \"('bundles',)\": 1, \"('Investors',)\": 1, \"('bonds',)\": 1, \"('fighters',)\": 1, \"('Periods',)\": 1, \"('accounts',)\": 1, \"('firings',)\": 1, \"('elections',)\": 1, \"('marks',)\": 1, \"('chemicals',)\": 1, \"('parlors',)\": 1, \"('aisles',)\": 1, \"('defendants',)\": 1, \"('pounds',)\": 1, \"('investors',)\": 1, \"('obligations',)\": 1, \"('principals',)\": 1, \"('intertitles',)\": 1, \"('specialists',)\": 1, \"('superiors',)\": 1, \"('baskets',)\": 1, \"('committees',)\": 1, \"('allies',)\": 1, \"('discrepancies',)\": 1, \"('bellringers',)\": 1, \"('Hours',)\": 1, \"('referrals',)\": 1, \"('bankers',)\": 1, \"('moves',)\": 1, \"('shirts',)\": 1, \"('transfers',)\": 1, \"('Colleges',)\": 1, \"('professionals',)\": 1, \"('Proponents',)\": 1, \"('media',)\": 1, \"('contests',)\": 1, \"('tubes',)\": 1, \"('reserves',)\": 1, \"('variables',)\": 1, \"('orders',)\": 1, \"('strategies',)\": 1, \"('names',)\": 1, \"('openings',)\": 1, \"('foundations',)\": 1, \"('chefs',)\": 1, \"('estimates',)\": 1, \"('errors',)\": 1, \"('borrowers',)\": 1, \"('magazines',)\": 1, \"('practices',)\": 1, \"('horoscopes',)\": 1, \"('screens',)\": 1, \"('parts',)\": 1, \"('targets',)\": 1, \"('tirekickers',)\": 1, \"('dealers',)\": 1, \"('spirits',)\": 1, \"('expenses',)\": 1, \"('witches',)\": 1, \"('tallies',)\": 1, \"('properties',)\": 1, \"('vicissitudes',)\": 1, \"('offers',)\": 1, \"('Equivalents',)\": 1, \"('champions',)\": 1, \"('entrants',)\": 1, \"('lawmakers',)\": 1, \"('sources',)\": 1, \"('twosevenths',)\": 1, \"('offices',)\": 1, \"('eyes',)\": 1, \"('watchers',)\": 1, \"('acts',)\": 1, \"('fixes',)\": 1, \"('jugglers',)\": 1, \"('wines',)\": 1, \"('arms',)\": 1, \"('players',)\": 1, \"('checks',)\": 1, \"('Lids',)\": 1, \"('investments',)\": 1, \"('buildings',)\": 1, \"('jockeys',)\": 1, \"('regions',)\": 1, \"('politics',)\": 1, \"('manipulators',)\": 1, \"('gyrations',)\": 1, \"('incentives',)\": 1, \"('proceedings',)\": 1, \"('honors',)\": 1, \"('generators',)\": 1, \"('institutions',)\": 1, \"('capitalgains',)\": 1, \"('journalists',)\": 1, \"('antiprogrammers',)\": 1, \"('aspects',)\": 1, \"('activities',)\": 1, \"('trucks',)\": 1, \"('framers',)\": 1, \"('plans',)\": 1, \"('cards',)\": 1, \"('protocols',)\": 1, \"('graphs',)\": 1, \"('cigarettes',)\": 1, \"('arrangements',)\": 1, \"('IOUs',)\": 1, \"('initiatives',)\": 1, \"('vicars',)\": 1, \"('fans',)\": 1, \"('pulls',)\": 1, \"('policies',)\": 1, \"('papers',)\": 1, \"('traditionalists',)\": 1, \"('commitments',)\": 1, \"('authors',)\": 1, \"('warrants',)\": 1, \"('pockets',)\": 1, \"('desires',)\": 1, \"('critics',)\": 1, \"('photographs',)\": 1, \"('organizations',)\": 1, \"('hospitals',)\": 1, \"('watchdogs',)\": 1, \"('colleagues',)\": 1, \"('refunds',)\": 1, \"('arguments',)\": 1, \"('Factories',)\": 1, \"('Shipments',)\": 1, \"('uncertainties',)\": 1, \"('clubs',)\": 1, \"('indexers',)\": 1, \"('motors',)\": 1, \"('conversations',)\": 1, \"('droughts',)\": 1, \"('specifics',)\": 1, \"('inferences',)\": 1, \"('overruns',)\": 1, \"('gifts',)\": 1, \"('BIRDS',)\": 1, \"('Foreigners',)\": 1, \"('reforms',)\": 1, \"('analysts',)\": 1, \"('vacations',)\": 1, \"('economics',)\": 1, \"('amps',)\": 1, \"('francs',)\": 1, \"('fluctuations',)\": 1, \"('forms',)\": 1, \"('sheets',)\": 1, \"('parishes',)\": 1, \"('supporters',)\": 1, \"('hands',)\": 1, \"('credits',)\": 1, \"('bells',)\": 1, \"('missiles',)\": 1, \"('ambitions',)\": 1, \"('prospects',)\": 1, \"('requirements',)\": 1, \"('pharmaceuticals',)\": 1, \"('executives',)\": 1, \"('cars',)\": 1, \"('pickers',)\": 1, \"('weeklies',)\": 1, \"('movements',)\": 1, \"('surpluses',)\": 1, \"('cues',)\": 1, \"('loops',)\": 1, \"('claims',)\": 1, \"('indicators',)\": 1, \"('bulls',)\": 1, \"('feet',)\": 1, \"('alternatives',)\": 1, \"('directors',)\": 1, \"('farms',)\": 1, \"('fines',)\": 1, \"('calls',)\": 1, \"('reps',)\": 1, \"('Spreads',)\": 1, \"('users',)\": 1, \"('Americana',)\": 1, \"('Discos',)\": 1, \"('protesters',)\": 1, \"('researchers',)\": 1, \"('instruments',)\": 1, \"('takings',)\": 1, \"('avenues',)\": 1, \"('sums',)\": 1, \"('markets',)\": 1, \"('lenders',)\": 1, \"('fasteners',)\": 1, \"('stockbrokers',)\": 1, \"('cells',)\": 1, \"('tormentors',)\": 1, \"('teams',)\": 1, \"('events',)\": 1, \"('objectives',)\": 1, \"('subscriptions',)\": 1, \"('accidents',)\": 1, \"('leases',)\": 1, \"('quantities',)\": 1, \"('homes',)\": 1, \"('oils',)\": 1, \"('Jews',)\": 1, \"('teachers',)\": 1, \"('Inventories',)\": 1, \"('occurrences',)\": 1, \"('districts',)\": 1, \"('rankings',)\": 1, \"('Courts',)\": 1, \"('discos',)\": 1, \"('worksheets',)\": 1, \"('erasures',)\": 1, \"('exposures',)\": 1, \"('prizes',)\": 1, \"('bills',)\": 1, \"('lights',)\": 1, \"('essays',)\": 1, \"('dummies',)\": 1, \"('proponents',)\": 1, \"('tactics',)\": 1, \"('floors',)\": 1, \"('penalties',)\": 1, \"('Ringers',)\": 1, \"('museums',)\": 1, \"('particulars',)\": 1, \"('Fees',)\": 1, \"('ventures',)\": 1, \"('acquisitions',)\": 1, \"('sixpacks',)\": 1, \"('victims',)\": 1, \"('figures',)\": 1, \"('Exports',)\": 1, \"('laurels',)\": 1, \"('interactions',)\": 1, \"('changes',)\": 1, \"('men',)\": 1, \"('Japanese',)\": 1, \"('categories',)\": 1, \"('reins',)\": 1, \"('damages',)\": 1, \"('stadiums',)\": 1, \"('doctors',)\": 1, \"('pistols',)\": 1, \"('arbitragers',)\": 1, \"('centers',)\": 1, \"('CERTIFICATES',)\": 1, \"('ambassadors',)\": 1, \"('deeds',)\": 1, \"('aspersions',)\": 1, \"('Researchers',)\": 1, \"('shares',)\": 1, \"('congressmen',)\": 1, \"('packages',)\": 1, \"('situations',)\": 1, \"('workbooks',)\": 1, \"('senses',)\": 1, \"('dividends',)\": 1, \"('bonuses',)\": 1, \"('contractors',)\": 1, \"('bags',)\": 1, \"('Workers',)\": 1, \"('sets',)\": 1, \"('matches',)\": 1, \"('gains',)\": 1, \"('warranties',)\": 1, \"('Manufacturers',)\": 1, \"('texts',)\": 1, \"('shows',)\": 1, \"('needs',)\": 1, \"('games',)\": 1, \"('boosters',)\": 1, \"('couples',)\": 1, \"('nets',)\": 1, \"('Friends',)\": 1, \"('inventories',)\": 1, \"('barriers',)\": 1, \"('binders',)\": 1, \"('managements',)\": 1, \"('disorders',)\": 1, \"('crystals',)\": 1, \"('widgets',)\": 1, \"('exchanges',)\": 1, \"('uses',)\": 1, \"('forces',)\": 1, \"('appliances',)\": 1, \"('purchasers',)\": 1, \"('roofs',)\": 1, \"('receipts',)\": 1, \"('failures',)\": 1, \"('multiples',)\": 1, \"('creditors',)\": 1, \"('opinions',)\": 1, \"('Citizens',)\": 1, \"('agencies',)\": 1, \"('cornerstones',)\": 1, \"('collections',)\": 1, \"('copies',)\": 1, \"('securities',)\": 1, \"('seats',)\": 1, \"('certificates',)\": 1, \"('records',)\": 1, \"('exits',)\": 1, \"('Corporations',)\": 1, \"('appropriators',)\": 1, \"('giveaways',)\": 1, \"('reductions',)\": 1, \"('procedures',)\": 1, \"('headrests',)\": 1, \"('violations',)\": 1, \"('Worksheets',)\": 1, \"('police',)\": 1, \"('brakes',)\": 1, \"('attacks',)\": 1, \"('scripts',)\": 1, \"('acres',)\": 1, \"('hurdles',)\": 1, \"('authorities',)\": 1, \"('patients',)\": 1, \"('rights',)\": 1, \"('effects',)\": 1, \"('salaries',)\": 1, \"('classics',)\": 1, \"('shareholders',)\": 1, \"('strains',)\": 1, \"('pills',)\": 1, \"('buses',)\": 1, \"('images',)\": 1, \"('benchmarks',)\": 1, \"('inches',)\": 1, \"('ADRs',)\": 1, \"('vintages',)\": 1, \"('classes',)\": 1, \"('visitors',)\": 1, \"('sponsors',)\": 1, \"('sacks',)\": 1, \"('employers',)\": 1, \"('Polls',)\": 1, \"('posts',)\": 1, \"('boosts',)\": 1, \"('indications',)\": 1, \"('spaces',)\": 1, \"('answers',)\": 1, \"('Charities',)\": 1, \"('holders',)\": 1, \"('advertisements',)\": 1, \"('counterparts',)\": 1, \"('dashes',)\": 1, \"('careers',)\": 1, \"('possessions',)\": 1, \"('masters',)\": 1, \"('limits',)\": 1, \"('courts',)\": 1, \"('groups',)\": 1, \"('writers',)\": 1, \"('starts',)\": 1, \"('corkscrews',)\": 1, \"('values',)\": 1, \"('attempts',)\": 1, \"('suppliers',)\": 1, \"('candidates',)\": 1, \"('reporters',)\": 1} \n",
      "\n",
      "[PPLOCPRD] {'([RB], [IN], [NP])': 1, '([IN], [NP])': 1, '([ADVP], [IN], [NP])': 1, '([NONE],)': 1} \n",
      "\n",
      "[VBD] {\"('tumbled',)\": 1, \"('recovered',)\": 1, \"('voted',)\": 1, \"('hosted',)\": 1, \"('viewed',)\": 1, \"('reduced',)\": 1, \"('CHANGED',)\": 1, \"('forced',)\": 1, \"('thought',)\": 1, \"('settled',)\": 1, \"('entered',)\": 1, \"('slid',)\": 1, \"('participated',)\": 1, \"('upheld',)\": 1, \"('signed',)\": 1, \"('profited',)\": 1, \"('put',)\": 1, \"('offered',)\": 1, \"('let',)\": 1, \"('lauded',)\": 1, \"('bothered',)\": 1, \"('retired',)\": 1, \"('loved',)\": 1, \"('disciplined',)\": 1, \"('awarded',)\": 1, \"('sacked',)\": 1, \"('placed',)\": 1, \"('adapted',)\": 1, \"('paid',)\": 1, \"('maintained',)\": 1, \"('held',)\": 1, \"('led',)\": 1, \"('barred',)\": 1, \"('poured',)\": 1, \"('arranged',)\": 1, \"('favored',)\": 1, \"('spotted',)\": 1, \"('acceded',)\": 1, \"('spent',)\": 1, \"('stood',)\": 1, \"('denied',)\": 1, \"('rejected',)\": 1, \"('obligated',)\": 1, \"('identified',)\": 1, \"('noted',)\": 1, \"('met',)\": 1, \"('reached',)\": 1, \"('printed',)\": 1, \"('negotiated',)\": 1, \"('attached',)\": 1, \"('asked',)\": 1, \"('dubbed',)\": 1, \"('sought',)\": 1, \"('created',)\": 1, \"('broke',)\": 1, \"('lost',)\": 1, \"('ushered',)\": 1, \"('wrote',)\": 1, \"('accused',)\": 1, \"('rebuked',)\": 1, \"('chastised',)\": 1, \"('feared',)\": 1, \"('banned',)\": 1, \"('seemed',)\": 1, \"('went',)\": 1, \"('killed',)\": 1, \"('treated',)\": 1, \"('meant',)\": 1, \"('clipped',)\": 1, \"('implied',)\": 1, \"('contained',)\": 1, \"('endorsed',)\": 1, \"('picked',)\": 1, \"('authorized',)\": 1, \"('lay',)\": 1, \"('ventilated',)\": 1, \"('resulted',)\": 1, \"('pleaded',)\": 1, \"('unleashed',)\": 1, \"('examined',)\": 1, \"('sold',)\": 1, \"('turned',)\": 1, \"('stopped',)\": 1, \"('attended',)\": 1, \"('limited',)\": 1, \"('opposed',)\": 1, \"('terminated',)\": 1, \"('read',)\": 1, \"('overvalued',)\": 1, \"('stirred',)\": 1, \"('arrived',)\": 1, \"('filed',)\": 1, \"('set',)\": 1, \"('spurned',)\": 1, \"('reflected',)\": 1, \"('released',)\": 1, \"('enraged',)\": 1, \"('clicked',)\": 1, \"('intended',)\": 1, \"('fought',)\": 1, \"('fed',)\": 1, \"('refused',)\": 1, \"('replaced',)\": 1, \"('polled',)\": 1, \"('deemed',)\": 1, \"('traced',)\": 1, \"('sweetened',)\": 1, \"('disclosed',)\": 1, \"('bowed',)\": 1, \"('acquired',)\": 1, \"('tripled',)\": 1, \"('reversed',)\": 1, \"('disagreed',)\": 1, \"('passed',)\": 1, \"('determined',)\": 1, \"('surrendered',)\": 1, \"('breathed',)\": 1, \"('agreed',)\": 1, \"('waited',)\": 1, \"('waived',)\": 1, \"('had',)\": 1, \"('remained',)\": 1, \"('got',)\": 1, \"('built',)\": 1, \"('blamed',)\": 1, \"('removed',)\": 1, \"('proposed',)\": 1, \"('were',)\": 1, \"('inched',)\": 1, \"('copied',)\": 1, \"('skidded',)\": 1, \"('argued',)\": 1, \"('did',)\": 1, \"('occurred',)\": 1, \"('stretched',)\": 1, \"('licensed',)\": 1, \"('surged',)\": 1, \"('launched',)\": 1, \"('cared',)\": 1, \"('tied',)\": 1, \"('lowered',)\": 1, \"('showed',)\": 1, \"('booked',)\": 1, \"('begot',)\": 1, \"('resolved',)\": 1, \"('applied',)\": 1, \"('ran',)\": 1, \"('heard',)\": 1, \"('rebuffed',)\": 1, \"('raised',)\": 1, \"('served',)\": 1, \"('learned',)\": 1, \"('restructured',)\": 1, \"('included',)\": 1, \"('quipped',)\": 1, \"('slipped',)\": 1, \"('broadened',)\": 1, \"('evaporated',)\": 1, \"('matched',)\": 1, \"('acted',)\": 1, \"('climbed',)\": 1, \"('returned',)\": 1, \"('befuddled',)\": 1, \"('rose',)\": 1, \"('introduced',)\": 1, \"('admitted',)\": 1, \"('evolved',)\": 1, \"('received',)\": 1, \"('aimed',)\": 1, \"('speculated',)\": 1, \"('controlled',)\": 1, \"('approached',)\": 1, \"('wanted',)\": 1, \"('referred',)\": 1, \"('visited',)\": 1, \"('hung',)\": 1, \"('emphasized',)\": 1, \"('devoted',)\": 1, \"('bled',)\": 1, \"('attributed',)\": 1, \"('reviewed',)\": 1, \"('appeared',)\": 1, \"('made',)\": 1, \"('urged',)\": 1, \"('advocated',)\": 1, \"('joined',)\": 1, \"('estimated',)\": 1, \"('enticed',)\": 1, \"('saw',)\": 1, \"('cautioned',)\": 1, \"('curtailed',)\": 1, \"('raced',)\": 1, \"('drooled',)\": 1, \"('hid',)\": 1, \"('featured',)\": 1, \"('ruled',)\": 1, \"('owed',)\": 1, \"('invested',)\": 1, \"('assured',)\": 1, \"('developed',)\": 1, \"('planned',)\": 1, \"('renewed',)\": 1, \"('insisted',)\": 1, \"('mounted',)\": 1, \"('depended',)\": 1, \"('chose',)\": 1, \"('anticipated',)\": 1, \"('left',)\": 1, \"('lacked',)\": 1, \"('graduated',)\": 1, \"('triggered',)\": 1, \"('billed',)\": 1, \"('guided',)\": 1, \"('advised',)\": 1, \"('expanded',)\": 1, \"('kicked',)\": 1, \"('alleged',)\": 1, \"('hoped',)\": 1, \"('averaged',)\": 1, \"('omitted',)\": 1, \"('exuded',)\": 1, \"('called',)\": 1, \"('lasted',)\": 1, \"('edged',)\": 1, \"('fared',)\": 1, \"('pointed',)\": 1, \"('handed',)\": 1, \"('boosted',)\": 1, \"('strengthened',)\": 1, \"('imposed',)\": 1, \"('dreamt',)\": 1, \"('won',)\": 1, \"('saved',)\": 1, \"('allowed',)\": 1, \"('opened',)\": 1, \"('followed',)\": 1, \"('criticized',)\": 1, \"('began',)\": 1, \"('threatened',)\": 1, \"('knew',)\": 1, \"('escaped',)\": 1, \"('eased',)\": 1, \"('defended',)\": 1, \"('evaluated',)\": 1, \"('screwed',)\": 1, \"('expired',)\": 1, \"('grew',)\": 1, \"('responded',)\": 1, \"('ended',)\": 1, \"('registered',)\": 1, \"('fell',)\": 1, \"('told',)\": 1, \"('distinguished',)\": 1, \"('dreamed',)\": 1, \"('stuck',)\": 1, \"('enabled',)\": 1, \"('nominated',)\": 1, \"('continued',)\": 1, \"('contributed',)\": 1, \"('stepped',)\": 1, \"('sounded',)\": 1, \"('seized',)\": 1, \"('closed',)\": 1, \"('aggravated',)\": 1, \"('inspired',)\": 1, \"('recommended',)\": 1, \"('underwent',)\": 1, \"('consented',)\": 1, \"('fired',)\": 1, \"('have',)\": 1, \"('died',)\": 1, \"('wound',)\": 1, \"('transformed',)\": 1, \"('drove',)\": 1, \"('helped',)\": 1, \"('took',)\": 1, \"('changed',)\": 1, \"('approved',)\": 1, \"('explained',)\": 1, \"('understood',)\": 1, \"('weighed',)\": 1, \"('felt',)\": 1, \"('hauled',)\": 1, \"('confirmed',)\": 1, \"('Asked',)\": 1, \"('managed',)\": 1, \"('inherited',)\": 1, \"('squeezed',)\": 1, \"('predicted',)\": 1, \"('imported',)\": 1, \"('merged',)\": 1, \"('added',)\": 1, \"('tried',)\": 1, \"('recorded',)\": 1, \"('published',)\": 1, \"('earned',)\": 1, \"('devised',)\": 1, \"('dumped',)\": 1, \"('jumped',)\": 1, \"('formed',)\": 1, \"('downgraded',)\": 1, \"('carried',)\": 1, \"('solved',)\": 1, \"('totaled',)\": 1, \"('succeeded',)\": 1, \"('suffered',)\": 1, \"('studied',)\": 1, \"('benefited',)\": 1, \"('ordered',)\": 1, \"('knocked',)\": 1, \"('halted',)\": 1, \"('decided',)\": 1, \"('retraced',)\": 1, \"('brightened',)\": 1, \"('decried',)\": 1, \"('snapped',)\": 1, \"('involved',)\": 1, \"('reopened',)\": 1, \"('stated',)\": 1, \"('accepted',)\": 1, \"('dismissed',)\": 1, \"('amounted',)\": 1, \"('violated',)\": 1, \"('aired',)\": 1, \"('gained',)\": 1, \"('backed',)\": 1, \"('bought',)\": 1, \"('numbered',)\": 1, \"('declared',)\": 1, \"('came',)\": 1, \"('fueled',)\": 1, \"('circulated',)\": 1, \"('soared',)\": 1, \"('caused',)\": 1, \"('described',)\": 1, \"('annoyed',)\": 1, \"('claimed',)\": 1, \"('fielded',)\": 1, \"('mixed',)\": 1, \"('expelled',)\": 1, \"('complained',)\": 1, \"('folded',)\": 1, \"('moved',)\": 1, \"('summoned',)\": 1, \"('prompted',)\": 1, \"('needed',)\": 1, \"('failed',)\": 1, \"('indicated',)\": 1, \"('fretted',)\": 1, \"('expressed',)\": 1, \"('kept',)\": 1, \"('was',)\": 1, \"('rushed',)\": 1, \"('patented',)\": 1, \"('sneaked',)\": 1, \"('cut',)\": 1, \"('lengthened',)\": 1, \"('suspended',)\": 1, \"('produced',)\": 1, \"('materialized',)\": 1, \"('screened',)\": 1, \"('named',)\": 1, \"('welcomed',)\": 1, \"('started',)\": 1, \"('believed',)\": 1, \"('doubled',)\": 1, \"('stressed',)\": 1, \"('happened',)\": 1, \"('reacted',)\": 1, \"('possessed',)\": 1, \"('issued',)\": 1, \"('sent',)\": 1, \"('surfaced',)\": 1, \"('obtained',)\": 1, \"('leapt',)\": 1, \"('posted',)\": 1, \"('yielded',)\": 1, \"('finished',)\": 1, \"('found',)\": 1, \"('completed',)\": 1, \"('curled',)\": 1, \"('established',)\": 1, \"('pulled',)\": 1, \"('harped',)\": 1, \"('sued',)\": 1, \"('concentrated',)\": 1, \"('became',)\": 1, \"('hired',)\": 1, \"('struggled',)\": 1, \"('stored',)\": 1, \"('shot',)\": 1, \"('bid',)\": 1, \"('concluded',)\": 1, \"('suggested',)\": 1, \"('marketed',)\": 1, \"('secured',)\": 1, \"('gave',)\": 1, \"('dropped',)\": 1, \"('realized',)\": 1, \"('collaborated',)\": 1, \"('used',)\": 1, \"('plunged',)\": 1, \"('discussed',)\": 1, \"('brought',)\": 1, \"('cranked',)\": 1, \"('represented',)\": 1, \"('damaged',)\": 1, \"('touched',)\": 1, \"('remarked',)\": 1, \"('invented',)\": 1, \"('restored',)\": 1, \"('resigned',)\": 1, \"('cited',)\": 1, \"('accelerated',)\": 1, \"('quoted',)\": 1, \"('declined',)\": 1, \"('trailed',)\": 1, \"('increased',)\": 1, \"('spoke',)\": 1, \"('eliminated',)\": 1, \"('worked',)\": 1, \"('drifted',)\": 1, \"('reminded',)\": 1, \"('said',)\": 1, \"('skipped',)\": 1, \"('compared',)\": 1, \"('angered',)\": 1, \"('purchased',)\": 1, \"('beat',)\": 1, \"('praised',)\": 1, \"('ranged',)\": 1, \"('committed',)\": 1, \"('entitled',)\": 1, \"('adopted',)\": 1, \"('announced',)\": 1, \"('contracted',)\": 1, \"('asserted',)\": 1, \"('reported',)\": 1, \"('taught',)\": 1, \"('balked',)\": 1} \n",
      "\n",
      "[PPPRD] {'([IN], [ADVP])': 1, '([IN], [SBARNOM])': 1, '([NPADV], [IN], [NP])': 1, '([RB], [IN], [NP])': 1, '([IN], [PP])': 1, '([JJ], [TO], [NP])': 1, '([TO], [NP])': 1, '([IN], [NP])': 1, '([IN], [SNOM])': 1, '([PP], [SBAR])': 1, '([ADVP], [IN], [NP])': 1, '([IN], [ADJP])': 1, '([ADJP], [IN], [NP])': 1, '([VBN], [PP])': 1, '([NONE],)': 1} \n",
      "\n",
      "[VB] {\"('resonate',)\": 1, \"('watch',)\": 1, \"('replicate',)\": 1, \"('publish',)\": 1, \"('spend',)\": 1, \"('plan',)\": 1, \"('manipulate',)\": 1, \"('faint',)\": 1, \"('call',)\": 1, \"('care',)\": 1, \"('stem',)\": 1, \"('head',)\": 1, \"('time',)\": 1, \"('touch',)\": 1, \"('become',)\": 1, \"('institute',)\": 1, \"('sit',)\": 1, \"('bless',)\": 1, \"('implement',)\": 1, \"('merit',)\": 1, \"('intend',)\": 1, \"('brief',)\": 1, \"('require',)\": 1, \"('sink',)\": 1, \"('enter',)\": 1, \"('devote',)\": 1, \"('hear',)\": 1, \"('offset',)\": 1, \"('review',)\": 1, \"('close',)\": 1, \"('attack',)\": 1, \"('clear',)\": 1, \"('eliminate',)\": 1, \"('hit',)\": 1, \"('invite',)\": 1, \"('emasculate',)\": 1, \"('oppose',)\": 1, \"('underpin',)\": 1, \"('breach',)\": 1, \"('restore',)\": 1, \"('regenerate',)\": 1, \"('make',)\": 1, \"('bolster',)\": 1, \"('increase',)\": 1, \"('submit',)\": 1, \"('combat',)\": 1, \"('expect',)\": 1, \"('slide',)\": 1, \"('mention',)\": 1, \"('disappear',)\": 1, \"('cite',)\": 1, \"('beg',)\": 1, \"('spur',)\": 1, \"('profit',)\": 1, \"('veto',)\": 1, \"('breathe',)\": 1, \"('persuade',)\": 1, \"('offer',)\": 1, \"('back',)\": 1, \"('complete',)\": 1, \"('acknowledge',)\": 1, \"('use',)\": 1, \"('pull',)\": 1, \"('speculate',)\": 1, \"('push',)\": 1, \"('assemble',)\": 1, \"('modify',)\": 1, \"('arrest',)\": 1, \"('quote',)\": 1, \"('conduct',)\": 1, \"('facilitate',)\": 1, \"('sacrifice',)\": 1, \"('notify',)\": 1, \"('want',)\": 1, \"('wait',)\": 1, \"('pay',)\": 1, \"('support',)\": 1, \"('prove',)\": 1, \"('issue',)\": 1, \"('sleep',)\": 1, \"('harass',)\": 1, \"('generate',)\": 1, \"('contribute',)\": 1, \"('curb',)\": 1, \"('punish',)\": 1, \"('default',)\": 1, \"('compensate',)\": 1, \"('afford',)\": 1, \"('hang',)\": 1, \"('prepare',)\": 1, \"('like',)\": 1, \"('compel',)\": 1, \"('recover',)\": 1, \"('expire',)\": 1, \"('export',)\": 1, \"('vary',)\": 1, \"('consist',)\": 1, \"('follow',)\": 1, \"('benefit',)\": 1, \"('trash',)\": 1, \"('go',)\": 1, \"('survive',)\": 1, \"('boast',)\": 1, \"('emigrate',)\": 1, \"('turn',)\": 1, \"('add',)\": 1, \"('replace',)\": 1, \"('predict',)\": 1, \"('die',)\": 1, \"('impose',)\": 1, \"('chat',)\": 1, \"('demand',)\": 1, \"('emerge',)\": 1, \"('address',)\": 1, \"('tolerate',)\": 1, \"('sign',)\": 1, \"('discourage',)\": 1, \"('print',)\": 1, \"('think',)\": 1, \"('swing',)\": 1, \"('reclaim',)\": 1, \"('rise',)\": 1, \"('regulate',)\": 1, \"('approve',)\": 1, \"('concern',)\": 1, \"('accompany',)\": 1, \"('start',)\": 1, \"('lead',)\": 1, \"('agree',)\": 1, \"('appear',)\": 1, \"('speed',)\": 1, \"('string',)\": 1, \"('take',)\": 1, \"('reject',)\": 1, \"('pressure',)\": 1, \"('spark',)\": 1, \"('command',)\": 1, \"('match',)\": 1, \"('occur',)\": 1, \"('send',)\": 1, \"('bring',)\": 1, \"('hope',)\": 1, \"('resume',)\": 1, \"('map',)\": 1, \"('compete',)\": 1, \"('supply',)\": 1, \"('figure',)\": 1, \"('serve',)\": 1, \"('contest',)\": 1, \"('design',)\": 1, \"('remain',)\": 1, \"('perform',)\": 1, \"('advertise',)\": 1, \"('weather',)\": 1, \"('project',)\": 1, \"('panic',)\": 1, \"('continue',)\": 1, \"('sue',)\": 1, \"('extend',)\": 1, \"('engage',)\": 1, \"('administer',)\": 1, \"('run',)\": 1, \"('merge',)\": 1, \"('display',)\": 1, \"('renew',)\": 1, \"('telephone',)\": 1, \"('cure',)\": 1, \"('Take',)\": 1, \"('begin',)\": 1, \"('enact',)\": 1, \"('mend',)\": 1, \"('buffet',)\": 1, \"('attract',)\": 1, \"('drop',)\": 1, \"('lessen',)\": 1, \"('set',)\": 1, \"('spread',)\": 1, \"('prevent',)\": 1, \"('ban',)\": 1, \"('qualify',)\": 1, \"('declare',)\": 1, \"('steal',)\": 1, \"('blip',)\": 1, \"('halve',)\": 1, \"('yield',)\": 1, \"('include',)\": 1, \"('work',)\": 1, \"('intimidate',)\": 1, \"('force',)\": 1, \"('hurt',)\": 1, \"('lure',)\": 1, \"('fall',)\": 1, \"('link',)\": 1, \"('involve',)\": 1, \"('convince',)\": 1, \"('discredit',)\": 1, \"('lose',)\": 1, \"('recognize',)\": 1, \"('bounce',)\": 1, \"('suit',)\": 1, \"('manufacture',)\": 1, \"('pick',)\": 1, \"('mature',)\": 1, \"('control',)\": 1, \"('deal',)\": 1, \"('mind',)\": 1, \"('last',)\": 1, \"('accept',)\": 1, \"('bend',)\": 1, \"('erect',)\": 1, \"('pass',)\": 1, \"('improve',)\": 1, \"('strip',)\": 1, \"('read',)\": 1, \"('hire',)\": 1, \"('resubmit',)\": 1, \"('C'mon',)\": 1, \"('block',)\": 1, \"('introduce',)\": 1, \"('license',)\": 1, \"('assist',)\": 1, \"('purchase',)\": 1, \"('suspend',)\": 1, \"('attend',)\": 1, \"('announce',)\": 1, \"('describe',)\": 1, \"('slow',)\": 1, \"('maximize',)\": 1, \"('realize',)\": 1, \"('augment',)\": 1, \"('implant',)\": 1, \"('exceed',)\": 1, \"('suffer',)\": 1, \"('erode',)\": 1, \"('consider',)\": 1, \"('Sit',)\": 1, \"('finance',)\": 1, \"('disgorge',)\": 1, \"('store',)\": 1, \"('learn',)\": 1, \"('vote',)\": 1, \"('hunker',)\": 1, \"('recommend',)\": 1, \"('view',)\": 1, \"('understand',)\": 1, \"('Eliminate',)\": 1, \"('tuck',)\": 1, \"('keep',)\": 1, \"('affect',)\": 1, \"('end',)\": 1, \"('discontinue',)\": 1, \"('fold',)\": 1, \"('produce',)\": 1, \"('preclude',)\": 1, \"('capture',)\": 1, \"('acquire',)\": 1, \"('justify',)\": 1, \"('concentrate',)\": 1, \"('unwind',)\": 1, \"('inhibit',)\": 1, \"('single',)\": 1, \"('shake',)\": 1, \"('rewrite',)\": 1, \"('speak',)\": 1, \"('decide',)\": 1, \"('aim',)\": 1, \"('chase',)\": 1, \"('shrug',)\": 1, \"('contract',)\": 1, \"('slip',)\": 1, \"('log',)\": 1, \"('pursue',)\": 1, \"('house',)\": 1, \"('have',)\": 1, \"('fund',)\": 1, \"('Choose',)\": 1, \"('buy',)\": 1, \"('cheat',)\": 1, \"('commit',)\": 1, \"('please',)\": 1, \"('trust',)\": 1, \"('wish',)\": 1, \"('crack',)\": 1, \"('appoint',)\": 1, \"('target',)\": 1, \"('Pick',)\": 1, \"('grant',)\": 1, \"('account',)\": 1, \"('shut',)\": 1, \"('be',)\": 1, \"('propagandize',)\": 1, \"('analyze',)\": 1, \"('deserve',)\": 1, \"('swallow',)\": 1, \"('Kill',)\": 1, \"('join',)\": 1, \"('shore',)\": 1, \"('celebrate',)\": 1, \"('favor',)\": 1, \"('lift',)\": 1, \"('taper',)\": 1, \"('mean',)\": 1, \"('stop',)\": 1, \"('achieve',)\": 1, \"('encourage',)\": 1, \"('Think',)\": 1, \"('draw',)\": 1, \"('discuss',)\": 1, \"('bludgeon',)\": 1, \"('impede',)\": 1, \"('sew',)\": 1, \"('encounter',)\": 1, \"('do',)\": 1, \"('Put',)\": 1, \"('identify',)\": 1, \"('Buy',)\": 1, \"('direct',)\": 1, \"('herald',)\": 1, \"('define',)\": 1, \"('comment',)\": 1, \"('face',)\": 1, \"('ask',)\": 1, \"('file',)\": 1, \"('launch',)\": 1, \"('boost',)\": 1, \"('despise',)\": 1, \"('contain',)\": 1, \"('juggle',)\": 1, \"('prosecute',)\": 1, \"('expand',)\": 1, \"('settle',)\": 1, \"('Remember',)\": 1, \"('seek',)\": 1, \"('worry',)\": 1, \"('meet',)\": 1, \"('overcome',)\": 1, \"('break',)\": 1, \"('entice',)\": 1, \"('divest',)\": 1, \"('report',)\": 1, \"('specialize',)\": 1, \"('evolve',)\": 1, \"('undo',)\": 1, \"('install',)\": 1, \"('try',)\": 1, \"('Compare',)\": 1, \"('cause',)\": 1, \"('prescribe',)\": 1, \"('nominate',)\": 1, \"('exploit',)\": 1, \"('excise',)\": 1, \"('book',)\": 1, \"('compromise',)\": 1, \"('craft',)\": 1, \"('pose',)\": 1, \"('overlap',)\": 1, \"('own',)\": 1, \"('retard',)\": 1, \"('gain',)\": 1, \"('glamorize',)\": 1, \"('place',)\": 1, \"('catch',)\": 1, \"('contradict',)\": 1, \"('defuse',)\": 1, \"('argue',)\": 1, \"('recruit',)\": 1, \"('usurp',)\": 1, \"('stifle',)\": 1, \"('cover',)\": 1, \"('seem',)\": 1, \"('teach',)\": 1, \"('monopolize',)\": 1, \"('split',)\": 1, \"('redeem',)\": 1, \"('offend',)\": 1, \"('grapple',)\": 1, \"('risk',)\": 1, \"('imagine',)\": 1, \"('transfer',)\": 1, \"('welcome',)\": 1, \"('answer',)\": 1, \"('clarify',)\": 1, \"('establish',)\": 1, \"('refile',)\": 1, \"('Forget',)\": 1, \"('violate',)\": 1, \"('endorse',)\": 1, \"('retain',)\": 1, \"('color',)\": 1, \"('develop',)\": 1, \"('Send',)\": 1, \"('permit',)\": 1, \"('reduce',)\": 1, \"('stay',)\": 1, \"('talk',)\": 1, \"('protect',)\": 1, \"('train',)\": 1, \"('audit',)\": 1, \"('fail',)\": 1, \"('explain',)\": 1, \"('flourish',)\": 1, \"('whipsaw',)\": 1, \"('cope',)\": 1, \"('unload',)\": 1, \"('provoke',)\": 1, \"('execute',)\": 1, \"('fly',)\": 1, \"('recall',)\": 1, \"('parallel',)\": 1, \"('obtain',)\": 1, \"('suspect',)\": 1, \"('let',)\": 1, \"('scrape',)\": 1, \"('insert',)\": 1, \"('find',)\": 1, \"('debate',)\": 1, \"('disclose',)\": 1, \"('disseminate',)\": 1, \"('avoid',)\": 1, \"('override',)\": 1, \"('Consider',)\": 1, \"('underline',)\": 1, \"('record',)\": 1, \"('choose',)\": 1, \"('signal',)\": 1, \"('photocopy',)\": 1, \"('elaborate',)\": 1, \"('respond',)\": 1, \"('check',)\": 1, \"('gauge',)\": 1, \"('diversify',)\": 1, \"('belong',)\": 1, \"('provide',)\": 1, \"('withstand',)\": 1, \"('note',)\": 1, \"('get',)\": 1, \"('conclude',)\": 1, \"('charge',)\": 1, \"('lock',)\": 1, \"('ring',)\": 1, \"('ward',)\": 1, \"('limit',)\": 1, \"('sell',)\": 1, \"('look',)\": 1, \"('maintain',)\": 1, \"('polish',)\": 1, \"('enforce',)\": 1, \"('switch',)\": 1, \"('eclipse',)\": 1, \"('computerize',)\": 1, \"('reach',)\": 1, \"('swap',)\": 1, \"('ease',)\": 1, \"('seize',)\": 1, \"('resist',)\": 1, \"('revive',)\": 1, \"('decrease',)\": 1, \"('deny',)\": 1, \"('reallocate',)\": 1, \"('stand',)\": 1, \"('focus',)\": 1, \"('bar',)\": 1, \"('withdraw',)\": 1, \"('migrate',)\": 1, \"('trade',)\": 1, \"('invent',)\": 1, \"('tip',)\": 1, \"('pair',)\": 1, \"('ensure',)\": 1, \"('come',)\": 1, \"('equip',)\": 1, \"('Do',)\": 1, \"('share',)\": 1, \"('play',)\": 1, \"('redflag',)\": 1, \"('determine',)\": 1, \"('experience',)\": 1, \"('refund',)\": 1, \"('resolve',)\": 1, \"('test',)\": 1, \"('destroy',)\": 1, \"('feel',)\": 1, \"('jump',)\": 1, \"('see',)\": 1, \"('reap',)\": 1, \"('reprint',)\": 1, \"('counteract',)\": 1, \"('wear',)\": 1, \"('aid',)\": 1, \"('beat',)\": 1, \"('cut',)\": 1, \"('sound',)\": 1, \"('diminish',)\": 1, \"('return',)\": 1, \"('tilt',)\": 1, \"('total',)\": 1, \"('fabricate',)\": 1, \"('clean',)\": 1, \"('advance',)\": 1, \"('oversee',)\": 1, \"('impart',)\": 1, \"('negotiate',)\": 1, \"('help',)\": 1, \"('change',)\": 1, \"('name',)\": 1, \"('complicate',)\": 1, \"('reward',)\": 1, \"('succeed',)\": 1, \"('top',)\": 1, \"('give',)\": 1, \"('double',)\": 1, \"('range',)\": 1, \"('wield',)\": 1, \"('weaken',)\": 1, \"('uptick',)\": 1, \"('defeat',)\": 1, \"('indicate',)\": 1, \"('depend',)\": 1, \"('know',)\": 1, \"('testify',)\": 1, \"('tote',)\": 1, \"('confuse',)\": 1, \"('handle',)\": 1, \"('result',)\": 1, \"('withhold',)\": 1, \"('happen',)\": 1, \"('create',)\": 1, \"('remove',)\": 1, \"('live',)\": 1, \"('abandon',)\": 1, \"('load',)\": 1, \"('stake',)\": 1, \"('decline',)\": 1, \"('raise',)\": 1, \"('copy',)\": 1, \"('move',)\": 1, \"('slash',)\": 1, \"('exist',)\": 1, \"('honor',)\": 1, \"('operate',)\": 1, \"('reflect',)\": 1, \"('broaden',)\": 1, \"('believe',)\": 1, \"('duck',)\": 1, \"('reopen',)\": 1, \"('exercise',)\": 1, \"('hold',)\": 1, \"('act',)\": 1, \"('phase',)\": 1, \"('assert',)\": 1, \"('redistribute',)\": 1, \"('rule',)\": 1, \"('pour',)\": 1, \"('shoot',)\": 1, \"('win',)\": 1, \"('save',)\": 1, \"('travel',)\": 1, \"('treat',)\": 1, \"('fill',)\": 1, \"('fend',)\": 1, \"('allow',)\": 1, \"('entrench',)\": 1, \"('select',)\": 1, \"('rate',)\": 1, \"('represent',)\": 1, \"('apply',)\": 1, \"('roll',)\": 1, \"('leave',)\": 1, \"('study',)\": 1, \"('open',)\": 1, \"('abide',)\": 1, \"('amend',)\": 1, \"('enable',)\": 1, \"('denounce',)\": 1, \"('receive',)\": 1, \"('say',)\": 1, \"('assure',)\": 1, \"('promote',)\": 1, \"('seduce',)\": 1, \"('inform',)\": 1, \"('discharge',)\": 1, \"('combine',)\": 1, \"('post',)\": 1, \"('highlight',)\": 1, \"('apologize',)\": 1, \"('build',)\": 1, \"('accommodate',)\": 1, \"('predispose',)\": 1, \"('even',)\": 1, \"('correct',)\": 1, \"('Make',)\": 1, \"('redeploy',)\": 1, \"('cost',)\": 1, \"('step',)\": 1, \"('put',)\": 1, \"('scream',)\": 1, \"('matter',)\": 1, \"('entertain',)\": 1, \"('deliver',)\": 1, \"('earn',)\": 1, \"('reprove',)\": 1, \"('carry',)\": 1, \"('delete',)\": 1, \"('penetrate',)\": 1, \"('measure',)\": 1} \n",
      "\n",
      "[WRB] {\"('when',)\": 1, \"('Why',)\": 1, \"('When',)\": 1, \"('how',)\": 1, \"('How',)\": 1, \"('whereby',)\": 1, \"('where',)\": 1, \"('why',)\": 1, \"('Where',)\": 1} \n",
      "\n",
      "[SBARCLR] {'([IN], [SNOM])': 1, '([WHADVP], [S])': 1, '([IN], [S])': 1} \n",
      "\n",
      "[NNP] {\"('Chaplin',)\": 1, \"('Estate',)\": 1, \"('Democrat',)\": 1, \"('Commodity',)\": 1, \"('Dreyfus',)\": 1, \"('Bell',)\": 1, \"('Stevens',)\": 1, \"('Viacom',)\": 1, \"('Lilly',)\": 1, \"('Publications',)\": 1, \"('NEC',)\": 1, \"('English',)\": 1, \"('Bridgeville',)\": 1, \"('Mission',)\": 1, \"('ShareData',)\": 1, \"('Avenue',)\": 1, \"('Elisa',)\": 1, \"('W.N.',)\": 1, \"('Berger',)\": 1, \"('Plaza',)\": 1, \"('Odyssey',)\": 1, \"('Fargo',)\": 1, \"('Burt',)\": 1, \"('Thursday',)\": 1, \"('Taurus',)\": 1, \"('McLeod',)\": 1, \"('U.S.A',)\": 1, \"('Kansas',)\": 1, \"('Edwards',)\": 1, \"('Kane',)\": 1, \"('Richard',)\": 1, \"('Lorenzo',)\": 1, \"('Ackerman',)\": 1, \"('Ga.',)\": 1, \"('Loews',)\": 1, \"('California',)\": 1, \"('Monchecourt',)\": 1, \"('Conn.',)\": 1, \"('Chamber',)\": 1, \"('VOA',)\": 1, \"('Force',)\": 1, \"('Team',)\": 1, \"('Steelworkers',)\": 1, \"('D.',)\": 1, \"('Marie',)\": 1, \"('Moines',)\": 1, \"('Kawasaki',)\": 1, \"('Haruki',)\": 1, \"('Little',)\": 1, \"('Saitama',)\": 1, \"('Aslacton',)\": 1, \"('MITI',)\": 1, \"('Supreme',)\": 1, \"('Dec.',)\": 1, \"('Wakui',)\": 1, \"('O.',)\": 1, \"('Fidelity',)\": 1, \"('Wild',)\": 1, \"('McCabe',)\": 1, \"('Colony',)\": 1, \"('Olympia',)\": 1, \"('Gaithersburg',)\": 1, \"('CTB',)\": 1, \"('Rail',)\": 1, \"('Fire',)\": 1, \"('Dunn',)\": 1, \"('IRS',)\": 1, \"('NASD',)\": 1, \"('Nelson',)\": 1, \"('Judge',)\": 1, \"('New',)\": 1, \"('Moon',)\": 1, \"('District',)\": 1, \"('Davis',)\": 1, \"('Silicon',)\": 1, \"('Society',)\": 1, \"('Fred',)\": 1, \"('Johnson',)\": 1, \"('Bumkins',)\": 1, \"('Riese',)\": 1, \"('Skinner',)\": 1, \"('Miguel',)\": 1, \"('Deryck',)\": 1, \"('Olympic',)\": 1, \"('Electronics',)\": 1, \"('Greenville',)\": 1, \"('Haney',)\": 1, \"('Three',)\": 1, \"('YMCA',)\": 1, \"('Consolidated',)\": 1, \"('Stoll',)\": 1, \"('Mazda',)\": 1, \"('Ringing',)\": 1, \"('Natural',)\": 1, \"('Petersburg',)\": 1, \"('Sonnett',)\": 1, \"('Scoring',)\": 1, \"('Brooks',)\": 1, \"('Cab',)\": 1, \"('Beatles',)\": 1, \"('WPP',)\": 1, \"('Chandler',)\": 1, \"('Hiroshi',)\": 1, \"('Mark',)\": 1, \"('Denver',)\": 1, \"('Bordeaux',)\": 1, \"('Claude',)\": 1, \"('Electric',)\": 1, \"('Mara',)\": 1, \"('Newhouse',)\": 1, \"('Newgate',)\": 1, \"('Robertson',)\": 1, \"('Fuji',)\": 1, \"('Hartford',)\": 1, \"('Nagano',)\": 1, \"('Jack',)\": 1, \"('Separately',)\": 1, \"('Eric',)\": 1, \"('Court',)\": 1, \"('Riviera',)\": 1, \"('March',)\": 1, \"('Brean',)\": 1, \"('Bennett',)\": 1, \"('Purchase',)\": 1, \"('Fortune',)\": 1, \"('Stirlen',)\": 1, \"('Loan',)\": 1, \"('Garanti',)\": 1, \"('Hopkins',)\": 1, \"('Hiroshima',)\": 1, \"('Solaia',)\": 1, \"('Hale',)\": 1, \"('Miklos',)\": 1, \"('Sebastian',)\": 1, \"('Butler',)\": 1, \"('TimesStock',)\": 1, \"('Jefferson',)\": 1, \"('Rill',)\": 1, \"('Southeast',)\": 1, \"('Citadel',)\": 1, \"('Stronach',)\": 1, \"('Maytag',)\": 1, \"('Minneapolis',)\": 1, \"('Stephens',)\": 1, \"('Mercantile',)\": 1, \"('Federal',)\": 1, \"('Reserve',)\": 1, \"('Fischer',)\": 1, \"('Opus',)\": 1, \"('Aptitude',)\": 1, \"('Springfield',)\": 1, \"('Bridgestone\\\\/Firestone',)\": 1, \"('Basin',)\": 1, \"('Alexander',)\": 1, \"('Boulder',)\": 1, \"('McAlpine',)\": 1, \"('Hamilton',)\": 1, \"('Ramirez',)\": 1, \"('Depositsa',)\": 1, \"('McFall',)\": 1, \"('Different',)\": 1, \"('Yamamoto',)\": 1, \"('Sept.',)\": 1, \"('Hearst',)\": 1, \"('COMMUNICATIONS',)\": 1, \"('Itoh',)\": 1, \"('Woodward',)\": 1, \"('Reed',)\": 1, \"('Finmeccanica',)\": 1, \"('S&P',)\": 1, \"('Allied',)\": 1, \"('Marty',)\": 1, \"('FOREIGN',)\": 1, \"('Restaurant',)\": 1, \"('Gorbachev',)\": 1, \"('Group',)\": 1, \"('Dolphin',)\": 1, \"('Standard',)\": 1, \"('Wall',)\": 1, \"('Spain',)\": 1, \"('YWCA',)\": 1, \"('Correll',)\": 1, \"('Foster',)\": 1, \"('Scholastic',)\": 1, \"('Pamela',)\": 1, \"('Comprehensive',)\": 1, \"('Weisfield',)\": 1, \"('Plains',)\": 1, \"('Mass.',)\": 1, \"('Wilder',)\": 1, \"('Ore.',)\": 1, \"('Lurie',)\": 1, \"('PRIME',)\": 1, \"('Economic',)\": 1, \"('Shuxian',)\": 1, \"('Tuesday',)\": 1, \"('Manfred',)\": 1, \"('Renee',)\": 1, \"('Angelo',)\": 1, \"('Banking',)\": 1, \"('Courter',)\": 1, \"('BRAMALEA',)\": 1, \"('CarnegieMellon',)\": 1, \"('Manufacturers',)\": 1, \"('Rudolph',)\": 1, \"('Stockholm',)\": 1, \"('Silverman',)\": 1, \"('Shrum',)\": 1, \"('Human',)\": 1, \"('W.',)\": 1, \"('Dell',)\": 1, \"('LANDOR',)\": 1, \"('Cleveland',)\": 1, \"('Somerset',)\": 1, \"('Centerbank',)\": 1, \"('Heiwado',)\": 1, \"('Wilfred',)\": 1, \"('ChineseAmerican',)\": 1, \"('Manchester',)\": 1, \"('Martin',)\": 1, \"('Frederick',)\": 1, \"('Brownstein',)\": 1, \"('Tuscany',)\": 1, \"('Landis',)\": 1, \"('N.H.',)\": 1, \"('Owner',)\": 1, \"('Gray',)\": 1, \"('WAFA',)\": 1, \"('Have',)\": 1, \"('Express',)\": 1, \"('Catholic',)\": 1, \"('Woodcliff',)\": 1, \"('Neuberger',)\": 1, \"('Columbia',)\": 1, \"('Phipps',)\": 1, \"('Westminster',)\": 1, \"('England',)\": 1, \"('Ruth',)\": 1, \"('Ross',)\": 1, \"('Guild',)\": 1, \"('AT&T',)\": 1, \"('Britta',)\": 1, \"('Dodger',)\": 1, \"('Hayes',)\": 1, \"('Olson',)\": 1, \"('Lewis',)\": 1, \"('Factory',)\": 1, \"('Palmer',)\": 1, \"('Tokio',)\": 1, \"('Seagate',)\": 1, \"('Kong',)\": 1, \"('Santa',)\": 1, \"('Mount',)\": 1, \"('Long',)\": 1, \"('Trettien',)\": 1, \"('Danzig',)\": 1, \"('Temple',)\": 1, \"('RomaneeConti',)\": 1, \"('Altair',)\": 1, \"('Steven',)\": 1, \"('Israel',)\": 1, \"('Guinea',)\": 1, \"('Hazell',)\": 1, \"('Oct.',)\": 1, \"('Blanc',)\": 1, \"('Heidelberg',)\": 1, \"('Rozell',)\": 1, \"('Cray',)\": 2, \"('Conn',)\": 1, \"('Chairman',)\": 1, \"('Mogavero',)\": 1, \"('UAL',)\": 1, \"('I',)\": 1, \"('Soviet',)\": 1, \"('Adolph',)\": 1, \"('Pepperdine',)\": 1, \"('Pierre',)\": 1, \"('Erbamont',)\": 1, \"('Beige',)\": 1, \"('Insight',)\": 1, \"('Journal',)\": 1, \"('L.P.',)\": 1, \"('Michaels',)\": 1, \"('Wickliffe',)\": 1, \"('Leap',)\": 1, \"('Joe',)\": 1, \"('Wong',)\": 1, \"('Gates',)\": 1, \"('HautBrion',)\": 1, \"('Unico',)\": 1, \"('Chardonnay',)\": 1, \"('Internal',)\": 1, \"('Average',)\": 1, \"('GHKM',)\": 1, \"('Merrill',)\": 1, \"('Local',)\": 1, \"('Northy',)\": 1, \"('Wick',)\": 1, \"('Andy',)\": 1, \"('Simon',)\": 1, \"('Chivas',)\": 1, \"('Fulham',)\": 1, \"('Hutchinson',)\": 1, \"('Perch',)\": 1, \"('Lizhi',)\": 1, \"('Bangkok',)\": 1, \"('Glass',)\": 1, \"('Defense',)\": 1, \"('NTG',)\": 1, \"('Australian',)\": 1, \"('Clairton',)\": 1, \"('Harpo',)\": 1, \"('Thomas',)\": 1, \"('Time',)\": 1, \"('Candela',)\": 1, \"('Wilton',)\": 1, \"('Learning',)\": 1, \"('Indiana',)\": 1, \"('Estates',)\": 1, \"('Marc',)\": 1, \"('G.',)\": 1, \"('Rotie',)\": 1, \"('Debt',)\": 1, \"('NIH',)\": 1, \"('Maine',)\": 1, \"('CBS',)\": 1, \"('Carson',)\": 1, \"('Hitachi',)\": 1, \"('Wash.',)\": 1, \"('Philippine',)\": 1, \"('Watson',)\": 1, \"('Sol',)\": 1, \"('Noble',)\": 1, \"('Yamaichi',)\": 1, \"('Republican',)\": 1, \"('U.S.S.R.',)\": 1, \"('Commerce',)\": 1, \"('Growth',)\": 1, \"('Crew',)\": 1, \"('Magna',)\": 1, \"('Shugart',)\": 1, \"('Wozniak',)\": 1, \"('Psychiatry',)\": 1, \"('Sigler',)\": 1, \"('Nederlanden',)\": 1, \"('Dorrance',)\": 1, \"('Lehman',)\": 1, \"('Tokyo',)\": 1, \"('Keehn',)\": 1, \"('Warrenton',)\": 1, \"('Phi',)\": 1, \"('Menem',)\": 1, \"('Labor',)\": 1, \"('Egnuss',)\": 1, \"('Rouge',)\": 1, \"('Ginsberg',)\": 1, \"('Baldwin',)\": 1, \"('Memphis',)\": 1, \"('Riserva',)\": 1, \"('Communication',)\": 1, \"('Alleghany',)\": 1, \"('Salty',)\": 1, \"('Dorothy',)\": 1, \"('Mexican',)\": 1, \"('Media',)\": 1, \"('Black',)\": 1, \"('Exxon',)\": 1, \"('NATIONAL',)\": 1, \"('Deane',)\": 1, \"('GeorgiaPacific',)\": 1, \"('Griffin',)\": 1, \"('Broken',)\": 1, \"('Legal',)\": 1, \"('Poland',)\": 1, \"('Vermont',)\": 1, \"('Conduct',)\": 1, \"('Furukawa',)\": 1, \"('Zenith',)\": 1, \"('Arabia',)\": 1, \"('VanSant',)\": 1, \"('Simmons',)\": 1, \"('Hammerschmidt',)\": 1, \"('Chadha',)\": 1, \"('Data',)\": 1, \"('WHAS',)\": 1, \"('Bankruptcy',)\": 1, \"('Louisiana',)\": 1, \"('Trudeau',)\": 1, \"('Samuel',)\": 1, \"('TRS',)\": 1, \"('Dennis',)\": 1, \"('ChemPlus',)\": 1, \"('Scott',)\": 1, \"('Roosevelt',)\": 1, \"('Eastern',)\": 1, \"('Wayne',)\": 1, \"('Bailey',)\": 1, \"('Sherwood',)\": 1, \"('Speedway',)\": 1, \"('Roof',)\": 1, \"('Devon',)\": 1, \"('Legend',)\": 1, \"('Code',)\": 1, \"('Truck',)\": 1, \"('Michigan',)\": 1, \"('Beth',)\": 1, \"('Environmental',)\": 1, \"('Ethel',)\": 1, \"('Anthony',)\": 1, \"('Australia',)\": 1, \"('Stadium',)\": 1, \"('Mindy',)\": 1, \"('Md.',)\": 1, \"('Alurralde',)\": 1, \"('Champion',)\": 1, \"('Smelting',)\": 1, \"('GOODY',)\": 1, \"('Platt',)\": 1, \"('Hammerton',)\": 1, \"('Derek',)\": 1, \"('van',)\": 1, \"('Belt',)\": 1, \"('Dale',)\": 1, \"('Mitsubishi',)\": 1, \"('Nelms',)\": 1, \"('Ray',)\": 1, \"('AG',)\": 1, \"('Duke',)\": 1, \"('Henry',)\": 1, \"('Dakota',)\": 1, \"('Utsumi',)\": 1, \"('Guffey',)\": 1, \"('Petroleum',)\": 1, \"('London',)\": 1, \"('AIDS',)\": 1, \"('Business',)\": 1, \"('N.Y',)\": 1, \"('Crash',)\": 1, \"('Saudi',)\": 1, \"('Advance',)\": 1, \"('Darkhorse',)\": 1, \"('Stephen',)\": 1, \"('Doerflinger',)\": 1, \"('Mickey',)\": 1, \"('Montedison',)\": 1, \"('Down',)\": 1, \"('Anku',)\": 1, \"('Sauvignon',)\": 1, \"('Susan',)\": 1, \"('Tiphook',)\": 1, \"('Institute',)\": 1, \"('Bush',)\": 1, \"('Dynamics',)\": 1, \"('PrudentialBache',)\": 1, \"('Bob',)\": 1, \"('Macmillan\\\\/McGraw',)\": 1, \"('Pennsylvania',)\": 1, \"('Computer',)\": 1, \"('Drug',)\": 1, \"('Guard',)\": 1, \"('Judie',)\": 1, \"('Phoenix',)\": 1, \"('Alliance',)\": 1, \"('Kidder',)\": 1, \"('Hudson',)\": 1, \"('Rockefeller',)\": 1, \"('Dan',)\": 1, \"('Times',)\": 1, \"('Del',)\": 1, \"('Bureau',)\": 1, \"('ASSOCIATION',)\": 1, \"('Minister',)\": 1, \"('LaSalle',)\": 1, \"('Washington',)\": 1, \"('McAuley',)\": 1, \"('Sanderoff',)\": 1, \"('Petersen',)\": 1, \"('Vitulli',)\": 1, \"('Partners',)\": 1, \"('Barbaresco',)\": 1, \"('Fannie',)\": 1, \"('Red',)\": 1, \"('Hutton',)\": 1, \"('Southern',)\": 1, \"('Giuliani',)\": 1, \"('Child',)\": 1, \"('Baton',)\": 1, \"('A.',)\": 1, \"('Trockenbeerenauslesen',)\": 1, \"('Dominus',)\": 1, \"('Trans',)\": 1, \"('Barclays',)\": 1, \"('CTBS',)\": 1, \"('Sea',)\": 1, \"('Bass',)\": 1, \"('Safety',)\": 1, \"('Spoon',)\": 1, \"('Cutrer',)\": 1, \"('PAP',)\": 1, \"('HHS',)\": 1, \"('William',)\": 1, \"('Giant',)\": 1, \"('Giraud',)\": 1, \"('Appellate',)\": 1, \"('Walters',)\": 1, \"('Confederation',)\": 1, \"('Ilminster',)\": 1, \"('Chabrol',)\": 1, \"('Gingl',)\": 1, \"('Hoffman',)\": 1, \"('National',)\": 1, \"('Trading',)\": 1, \"('Handelsbanken',)\": 1, \"('Health',)\": 1, \"('Lorillard',)\": 1, \"('Sangyo',)\": 1, \"('Ala.',)\": 1, \"('Xerox',)\": 1, \"('Act',)\": 1, \"('Angeles',)\": 1, \"('Program',)\": 1, \"('Backe',)\": 1, \"('Ariail',)\": 1, \"('Fair',)\": 1, \"('F.',)\": 1, \"('Ill.',)\": 1, \"('Friday',)\": 1, \"('Banque',)\": 1, \"('Bill',)\": 1, \"('Illinois',)\": 1, \"('Elisabeth',)\": 1, \"('Nasdaq',)\": 1, \"('Hills',)\": 1, \"('Pet',)\": 1, \"('Dugdale',)\": 1, \"('Grange',)\": 1, \"('Tassinari',)\": 1, \"('Valley',)\": 1, \"('George',)\": 1, \"('Salmore',)\": 1, \"('Basham',)\": 1, \"('Chevrolet',)\": 1, \"('Switzerland',)\": 1, \"('Norwest',)\": 1, \"('Utah',)\": 1, \"('WorldWide',)\": 1, \"('Heavy',)\": 1, \"('Sasaki',)\": 1, \"('Sen.',)\": 1, \"('Joel',)\": 1, \"('Woodrow',)\": 1, \"('Yeargin',)\": 1, \"('Singapore',)\": 1, \"('Mae',)\": 1, \"('European',)\": 1, \"('Lord',)\": 1, \"('Horsham',)\": 1, \"('Glenn',)\": 1, \"('Peabody',)\": 1, \"('First',)\": 1, \"('Campbell',)\": 1, \"('Bretz',)\": 1, \"('NoSmoking',)\": 1, \"('Elliott',)\": 1, \"('Davies',)\": 1, \"('Sidewalk',)\": 1, \"('Burgundy',)\": 1, \"('Stanford',)\": 1, \"('Pentagon',)\": 1, \"('Mayer',)\": 1, \"('RATE',)\": 1, \"('CAT',)\": 1, \"('Meinders',)\": 1, \"('Trojan',)\": 1, \"('Kenneth',)\": 1, \"('Jaguar',)\": 1, \"('Colonsville',)\": 1, \"('Securities',)\": 1, \"('O'Loughlin',)\": 1, \"('India',)\": 1, \"('Dollar',)\": 1, \"('Georgia',)\": 1, \"('Drexel',)\": 1, \"('Dr.',)\": 1, \"('Dresser',)\": 1, \"('Place',)\": 1, \"('Anderson',)\": 1, \"('GAF',)\": 1, \"('Emile',)\": 1, \"('Gaja',)\": 1, \"('Administration',)\": 1, \"('Secretary',)\": 1, \"('H.',)\": 1, \"('PS',)\": 1, \"('Ogilvy',)\": 1, \"('Commodore',)\": 1, \"('Daily',)\": 1, \"('Ronald',)\": 1, \"('Ohio',)\": 1, \"('Hummerstone',)\": 1, \"('James',)\": 1, \"('Tulane',)\": 1, \"('People',)\": 1, \"('GatesWarren',)\": 1, \"('Miss.',)\": 1, \"('Florida',)\": 1, \"('J.P.',)\": 1, \"('Charles',)\": 1, \"('Rogers',)\": 1, \"('Kangyo',)\": 1, \"('Garret',)\": 1, \"('Lane',)\": 1, \"('Freddie',)\": 1, \"('Pitcher',)\": 1, \"('Ltd.',)\": 1, \"('Arthur',)\": 1, \"('World',)\": 1, \"('Malizia',)\": 1, \"('Yorkbased',)\": 1, \"('Whelen',)\": 1, \"('Dallas',)\": 1, \"('Northeast',)\": 1, \"('Food',)\": 1, \"('Abbey',)\": 1, \"('Hot',)\": 1, \"('Houghton',)\": 1, \"('Graham',)\": 1, \"('Tire',)\": 1, \"('Stories',)\": 1, \"('Barney',)\": 1, \"('Edge',)\": 1, \"('Edward',)\": 1, \"('Earle',)\": 1, \"('Signet',)\": 1, \"('Virgin',)\": 1, \"('Feb.',)\": 1, \"('Revenue',)\": 1, \"('Mesnil',)\": 1, \"('Corp',)\": 1, \"('FERC',)\": 1, \"('Jersey',)\": 1, \"('Terrace',)\": 1, \"('ON',)\": 1, \"('Circle',)\": 1, \"('Hudnut',)\": 1, \"('Kuala',)\": 1, \"('Sandberg',)\": 1, \"('CAMPAIGN',)\": 1, \"('Christopher',)\": 1, \"('Finance',)\": 1, \"('Chilver',)\": 1, \"('Jan.',)\": 1, \"('Lufkin',)\": 1, \"('Cabernet',)\": 1, \"('Budget',)\": 1, \"('Wells',)\": 1, \"('Berliner',)\": 1, \"('Pattenden',)\": 1, \"('Hahn',)\": 1, \"('Vegas',)\": 1, \"('Morrison',)\": 1, \"('Beta',)\": 1, \"('Bew',)\": 1, \"('Jackson',)\": 1, \"('Pa',)\": 1, \"('RentACar',)\": 1, \"('Hungary',)\": 1, \"('Corazon',)\": 1, \"('Mason',)\": 1, \"('Vineyard',)\": 1, \"('Nov.',)\": 1, \"('Orleans',)\": 1, \"('O'Brien',)\": 1, \"('TRANSPLANT',)\": 1, \"('Univest',)\": 1, \"('Agriculture',)\": 1, \"('Lefcourt',)\": 1, \"('Chinese',)\": 1, \"('Saturday',)\": 1, \"('Chateau',)\": 1, \"('NEW',)\": 1, \"('Weatherly',)\": 1, \"('LONDON',)\": 1, \"('Si',)\": 1, \"('Oliver',)\": 1, \"('Tache',)\": 1, \"('Boone',)\": 1, \"('Ketchum',)\": 1, \"('CocaCola',)\": 1, \"('Barbara',)\": 1, \"('Hormats',)\": 1, \"('Cullowhee',)\": 1, \"('Newsweek',)\": 1, \"('Elizabeth',)\": 1, \"('Nilson',)\": 1, \"('Tandy',)\": 1, \"('Eagleton',)\": 1, \"('Gary',)\": 1, \"('Cerf',)\": 1, \"('Carbide',)\": 1, \"('Francis',)\": 1, \"('Clays',)\": 1, \"('Foundation',)\": 1, \"('Messrs.',)\": 1, \"('Asian',)\": 1, \"('Pickens',)\": 1, \"('Triton',)\": 1, \"('Queen',)\": 1, \"('MERRILL',)\": 1, \"('Manufacturing',)\": 1, \"('Swearingen',)\": 1, \"('ROGERS',)\": 1, \"('McDermott',)\": 1, \"('The',)\": 1, \"('N.J.',)\": 1, \"('Diamond',)\": 1, \"('Trust',)\": 1, \"('Holding',)\": 1, \"('Brunello',)\": 1, \"('Pratt',)\": 1, \"('Hara',)\": 1, \"('Dompierre',)\": 1, \"('Salomon',)\": 1, \"('Sheep',)\": 1, \"('Council',)\": 1, \"('GM',)\": 1, \"('F.H.',)\": 1, \"('Video',)\": 1, \"('Bermuda',)\": 1, \"('Latin',)\": 1, \"('Signore',)\": 1, \"('TRUST',)\": 1, \"('Mike',)\": 1, \"('Rep.',)\": 1, \"('Makato',)\": 1, \"('Bells',)\": 1, \"('Rubber',)\": 1, \"('Ricken',)\": 1, \"('Roukema',)\": 1, \"('Carla',)\": 1, \"('Limited',)\": 1, \"('Klauser',)\": 1, \"('Kendrick',)\": 1, \"('Rock',)\": 1, \"('Consent',)\": 1, \"('Soup',)\": 1, \"('Central',)\": 1, \"('Circulations',)\": 1, \"('Anne',)\": 1, \"('Katzenstein',)\": 1, \"('Robert',)\": 1, \"('Moscow',)\": 1, \"('Man',)\": 1, \"('Kelli',)\": 1, \"('Glenham',)\": 1, \"('Hospital',)\": 1, \"('Breeden',)\": 1, \"('Futures',)\": 1, \"('Stores',)\": 1, \"('Kentucky',)\": 1, \"('Kalipharma',)\": 1, \"('Carlos',)\": 1, \"('Collins',)\": 1, \"('Sauternes',)\": 1, \"('Baum',)\": 1, \"('Synergistics',)\": 1, \"('Dow',)\": 1, \"('Planters',)\": 1, \"('Glendale',)\": 1, \"('Copperweld',)\": 1, \"('Prof',)\": 1, \"('Lobo',)\": 1, \"('Gerard',)\": 1, \"('LOAN',)\": 1, \"('Environment',)\": 1, \"('Goldinger',)\": 1, \"('Patrick',)\": 1, \"('Century',)\": 1, \"('Minnesota',)\": 1, \"('Eaton',)\": 1, \"('Hallett',)\": 1, \"('Charlie',)\": 1, \"('Ill',)\": 1, \"('A.C.',)\": 1, \"('Brazil',)\": 1, \"('Canada',)\": 1, \"('WFRR',)\": 1, \"('Dogs',)\": 1, \"('IBM',)\": 1, \"('SEC',)\": 1, \"('Stearn',)\": 1, \"('David',)\": 1, \"('Coors',)\": 1, \"('Resistance',)\": 1, \"('Management',)\": 1, \"('Pat',)\": 1, \"('T.',)\": 1, \"('Boca',)\": 1, \"('Rowe',)\": 1, \"('Brady',)\": 1, \"('Automobile',)\": 1, \"('Market',)\": 1, \"('SHAREDATA',)\": 1, \"('J.',)\": 1, \"('Michio',)\": 1, \"('Williams',)\": 1, \"('Rey',)\": 1, \"('Murakami',)\": 1, \"('Albuquerque',)\": 1, \"('Atlantic',)\": 1, \"('Brooke',)\": 1, \"('Japanese',)\": 1, \"('Albert',)\": 1, \"('Syracuse',)\": 1, \"('High',)\": 1, \"('Social',)\": 1, \"('Chrysler',)\": 1, \"('Campaign',)\": 1, \"('S.',)\": 1, \"('Phillip',)\": 1, \"('Orrick',)\": 1, \"('Marine',)\": 1, \"('Los',)\": 1, \"('Mortgage',)\": 1, \"('Homebrew',)\": 1, \"('Funny',)\": 1, \"('University',)\": 1, \"('Westport',)\": 1, \"('CS',)\": 1, \"('Association',)\": 1, \"('In',)\": 1, \"('Brunswick',)\": 1, \"('nonU.S.',)\": 1, \"('Kligman',)\": 1, \"('Boorse',)\": 1, \"('Corrigan',)\": 1, \"('Foot',)\": 1, \"('Manhattan',)\": 1, \"('SALT',)\": 1, \"('School',)\": 1, \"('Merc',)\": 1, \"('MEDICINE',)\": 1, \"('Fax',)\": 1, \"('Jihad',)\": 1, \"('Tom',)\": 1, \"('NCNB',)\": 1, \"('Kuvin',)\": 1, \"('U.S.A.',)\": 1, \"('Heights',)\": 1, \"('Circuit',)\": 1, \"('Antinori',)\": 1, \"('City',)\": 1, \"('Prize',)\": 1, \"('Jr.',)\": 1, \"('Farm',)\": 1, \"('M.',)\": 1, \"('Akio',)\": 1, \"('Aktiebolaget',)\": 1, \"('R',)\": 1, \"('Regulatory',)\": 1, \"('Vice',)\": 1, \"('Wu',)\": 1, \"('Nancy',)\": 1, \"('Landonne',)\": 1, \"('Creek',)\": 1, \"('Keith',)\": 1, \"('Zicklin',)\": 1, \"('Taiwan',)\": 1, \"('Prime',)\": 1, \"('Herbert',)\": 1, \"('Revolution',)\": 1, \"('Thai',)\": 1, \"('Jovanovich',)\": 1, \"('County',)\": 1, \"('S.p',)\": 1, \"('Purepac',)\": 1, \"('Princeton',)\": 1, \"('Gotta',)\": 1, \"('Corp.',)\": 1, \"('Plan',)\": 1, \"('N.J',)\": 1, \"('Bancorp',)\": 1, \"('Ky.',)\": 1, \"('Russel',)\": 1, \"('News',)\": 1, \"('Sony',)\": 1, \"('Regal',)\": 1, \"('Blackstone',)\": 1, \"('Nixon',)\": 1, \"('Massachusetts',)\": 1, \"('Cathedral',)\": 1, \"('Schlemmer',)\": 1, \"('Monday',)\": 1, \"('Rapanelli',)\": 1, \"('Industrial',)\": 1, \"('Borough',)\": 1, \"('International',)\": 1, \"('Mac',)\": 1, \"('Security',)\": 1, \"('Allen',)\": 1, \"('Telegraph',)\": 1, \"('Siegal',)\": 1, \"('Timex',)\": 1, \"('Cancer',)\": 1, \"('Antonio',)\": 1, \"('Relations',)\": 1, \"('Phillips',)\": 1, \"('Class',)\": 1, \"('Elco',)\": 1, \"('Wine',)\": 1, \"('Brenda',)\": 1, \"('SDI',)\": 1, \"('Inventor',)\": 1, \"('Advanced',)\": 1, \"('Sugarman',)\": 1, \"('INTERPUBLIC',)\": 1, \"('Reagan',)\": 1, \"('Braun',)\": 1, \"('DSM',)\": 1, \"('NisshoIwai',)\": 1, \"('Sidak',)\": 1, \"('Knopf',)\": 1, \"('Charter',)\": 1, \"('Breakey',)\": 1, \"('Ms.',)\": 1, \"('Taccetta',)\": 1, \"('Patents',)\": 1, \"('Brigham',)\": 1, \"('Constitution',)\": 1, \"('Kaminski',)\": 1, \"('Dill',)\": 1, \"('Bronx',)\": 1, \"('Us',)\": 1, \"('Jones',)\": 1, \"('Duchossois',)\": 1, \"('Frank',)\": 1, \"('Tiny',)\": 1, \"('Great',)\": 1, \"('Ad',)\": 1, \"('Salvador',)\": 1, \"('Terrence',)\": 1, \"('Zealand',)\": 1, \"('Legg',)\": 1, \"('York',)\": 1, \"('Richmond',)\": 1, \"('Cannell',)\": 1, \"('SinoU.S.',)\": 1, \"('Organization',)\": 1, \"('IranContra',)\": 1, \"('April',)\": 1, \"('Nationwide',)\": 1, \"('Bromwich',)\": 1, \"('Goldman',)\": 1, \"('Grace',)\": 1, \"('Beverly',)\": 1, \"('Leroy',)\": 1, \"('Cru',)\": 1, \"('Fulton',)\": 1, \"('NBC',)\": 1, \"('Audit',)\": 1, \"('PaineWebber',)\": 1, \"('Donoghue',)\": 1, \"('Gottlieb',)\": 1, \"('Donald',)\": 1, \"('Ed',)\": 1, \"('Embassy',)\": 1, \"('G',)\": 1, \"('Marder',)\": 1, \"('Green',)\": 1, \"('Gerald',)\": 1, \"('Interpublic',)\": 1, \"('AD',)\": 1, \"('Kodansha',)\": 1, \"('Strindberg',)\": 1, \"('RBC',)\": 1, \"('Gov.',)\": 1, \"('Jobs',)\": 1, \"('Industries',)\": 1, \"('Virginia',)\": 1, \"('Maryland',)\": 1, \"('Keidanren',)\": 1, \"('Faulding',)\": 1, \"('Gillespie',)\": 1, \"('December',)\": 1, \"('Ichiro',)\": 1, \"('Koizumi',)\": 1, \"('Rabia',)\": 1, \"('Nebraska',)\": 1, \"('Cosmopolitan',)\": 1, \"('Home',)\": 1, \"('Toronto',)\": 1, \"('Gringo',)\": 1, \"('Nev.',)\": 1, \"('Cellars',)\": 1, \"('Miles',)\": 1, \"('Deborah',)\": 1, \"('Germany',)\": 1, \"('Veselich',)\": 1, \"('Bridge',)\": 1, \"('Sprint',)\": 1, \"('Sr.',)\": 1, \"('Ward',)\": 1, \"('Street',)\": 1, \"('Europe',)\": 1, \"('Rankin',)\": 1, \"('Hotel',)\": 1, \"('Chongsik',)\": 1, \"('Technology',)\": 1, \"('Myron',)\": 1, \"('Systems',)\": 1, \"('Disease',)\": 1, \"('Vos',)\": 1, \"('Shores',)\": 1, \"('Sale',)\": 1, \"('SCI',)\": 1, \"('Piero',)\": 1, \"('Rev.',)\": 1, \"('Nature',)\": 1, \"('Kerensky',)\": 1, \"('Greece',)\": 1, \"('Fields',)\": 1, \"('Cask',)\": 1, \"('Bentsen',)\": 1, \"('Entertainment',)\": 1, \"('Service',)\": 1, \"('Kondo',)\": 1, \"('TEXAS',)\": 1, \"('Johnny',)\": 1, \"('Majority',)\": 1, \"('Northern',)\": 1, \"('Chase',)\": 1, \"('Common',)\": 1, \"('Akerfeldt',)\": 1, \"('Kuhns',)\": 1, \"('Sable',)\": 1, \"('Hammond',)\": 1, \"('LafiteRothschild',)\": 1, \"('Tenn.',)\": 1, \"('Dahl',)\": 1, \"('M.D.',)\": 1, \"('Steve',)\": 1, \"('Justice',)\": 1, \"('Reddington',)\": 1, \"('Ringers',)\": 1, \"('WTVJ',)\": 1, \"('Claire',)\": 1, \"('Satrum',)\": 1, \"('Indonesia',)\": 1, \"('Book',)\": 1, \"('Hymowitz',)\": 1, \"('Fed',)\": 1, \"('Oklahoma',)\": 1, \"('Abbot',)\": 1, \"('Driskill',)\": 1, \"('Egypt',)\": 1, \"('Vinken',)\": 1, \"('Vega',)\": 1, \"('Education',)\": 1, \"('Mrs.',)\": 1, \"('Taittinger',)\": 1, \"('Esso',)\": 1, \"('Fund',)\": 1, \"('Yorker',)\": 1, \"('Va.',)\": 1, \"('Barbados',)\": 1, \"('Macheski',)\": 1, \"('Holdings',)\": 1, \"('Evans',)\": 1, \"('FAX',)\": 1, \"('Reames',)\": 1, \"('Orchestra',)\": 1, \"('Acquisition',)\": 1, \"('Nicole',)\": 1, \"('Novello',)\": 1, \"('La.',)\": 1, \"('Byron',)\": 1, \"('Development',)\": 1, \"('Free',)\": 1, \"('Inc.',)\": 1, \"('Impediments',)\": 1, \"('Review',)\": 1, \"('Department',)\": 1, \"('ACCOUNT',)\": 1, \"('Siti',)\": 1, \"('Groucho',)\": 1, \"('Citizen',)\": 1, \"('Xiaoping',)\": 1, \"('Scowcroft',)\": 1, \"('Pitney',)\": 1, \"('Cincinnati',)\": 1, \"('Sayers',)\": 1, \"('Rate',)\": 1, \"('Oak',)\": 1, \"('Law',)\": 1, \"('Arighi',)\": 1, \"('Superdome',)\": 1, \"('Furillo',)\": 1, \"('Farren',)\": 1, \"('Center',)\": 1, \"('Danube',)\": 1, \"('Dobson',)\": 1, \"('Old',)\": 1, \"('Dumpster',)\": 1, \"('Killeen',)\": 1, \"('Cheese',)\": 1, \"('Youths',)\": 1, \"('Dutch',)\": 1, \"('DDB',)\": 1, \"('Mossman',)\": 1, \"('Cooper',)\": 1, \"('Fellowship',)\": 1, \"('Brownell',)\": 1, \"('BiondiSanti',)\": 1, \"('Powers',)\": 1, \"('Midland',)\": 1, \"('Garbage',)\": 1, \"('Rolling',)\": 1, \"('Zaharah',)\": 1, \"('Wohlstetter',)\": 1, \"('Trade',)\": 1, \"('Jennison',)\": 1, \"('St.',)\": 1, \"('Florio',)\": 1, \"('Initiative',)\": 1, \"('Dom',)\": 1, \"('Warner',)\": 1, \"('Democracy',)\": 1, \"('Paribas',)\": 1, \"('Palestinian',)\": 1, \"('Redevelopment',)\": 1, \"('C.',)\": 1, \"('Wa',)\": 1, \"('Charlotte',)\": 1, \"('Seymour',)\": 1, \"('Gerhard',)\": 1, \"('IntegraA',)\": 1, \"('Lezovich',)\": 1, \"('A.D.',)\": 1, \"('A',)\": 1, \"('E.',)\": 1, \"('Daniel',)\": 1, \"('DanaFarber',)\": 1, \"('Andrew',)\": 1, \"('Baris',)\": 1, \"('Dean',)\": 1, \"('Freshbake',)\": 1, \"('Bolivia',)\": 1, \"('Takuma',)\": 1, \"('Madison',)\": 1, \"('Peter',)\": 1, \"('East',)\": 1, \"('Logic',)\": 1, \"('Bonnell',)\": 1, \"('Tramp',)\": 1, \"('Bendectin',)\": 1, \"('Adams',)\": 1, \"('J.L.',)\": 1, \"('Don',)\": 1, \"('Pamplin',)\": 1, \"('Stieglitz',)\": 1, \"('Jamaica',)\": 1, \"('Explorer',)\": 1, \"('Cellar',)\": 1, \"('Angier',)\": 1, \"('Practical',)\": 1, \"('Schwab',)\": 1, \"('OffTrack',)\": 1, \"('La',)\": 1, \"('Sherwin',)\": 1, \"('Mehrens',)\": 1, \"('Sacramento',)\": 1, \"('November',)\": 1, \"('Wilson',)\": 1, \"('Herald',)\": 1, \"('Constitutional',)\": 1, \"('Nagymaros',)\": 1, \"('Rosenblum',)\": 1, \"('Poor',)\": 1, \"('NewsAmerican',)\": 1, \"('Panama',)\": 1, \"('Jeffrey',)\": 1, \"('Collector',)\": 1, \"('Alan',)\": 1, \"('Haven',)\": 1, \"('Homeless',)\": 1, \"('Register',)\": 1, \"('Taizo',)\": 1, \"('Marchand',)\": 1, \"('Henderson',)\": 1, \"('Mortimer',)\": 1, \"('Hoosier',)\": 1, \"('Beach',)\": 1, \"('Buick',)\": 1, \"('Pharaoh',)\": 1, \"('Edwin',)\": 1, \"('Illuminating',)\": 1, \"('Criticism',)\": 1, \"('POP',)\": 1, \"('Jeremy',)\": 1, \"('Jerry',)\": 1, \"('Veraldi',)\": 1, \"('Svenska',)\": 1, \"('Hammacher',)\": 1, \"('Monetary',)\": 1, \"('Brent',)\": 1, \"('Osaka',)\": 1, \"('Negus',)\": 1, \"('War',)\": 1, \"('Mich.',)\": 1, \"('Braidwood',)\": 1, \"('Western',)\": 1, \"('Champagne',)\": 1, \"('Russo',)\": 1, \"('Rick',)\": 1, \"('Cross',)\": 1, \"('Overseas',)\": 1, \"('Insurance',)\": 1, \"('Townes',)\": 1, \"('Goode',)\": 1, \"('Voice',)\": 1, \"('Bodner',)\": 1, \"('Austria',)\": 1, \"('Rubinfien',)\": 1, \"('Photography',)\": 1, \"('US',)\": 1, \"('Spiro',)\": 1, \"('Paul',)\": 1, \"('Show',)\": 1, \"('Series',)\": 1, \"('Economy',)\": 1, \"('Brunei',)\": 1, \"('Secilia',)\": 1, \"('Orville',)\": 1, \"('Raymond',)\": 1, \"('South',)\": 1, \"('Parent',)\": 1, \"('Korea',)\": 1, \"('Operations',)\": 1, \"('NRDC',)\": 1, \"('Palestine',)\": 1, \"('Union',)\": 1, \"('MORTGAGE',)\": 1, \"('Co.',)\": 1, \"('Highway',)\": 1, \"('Stork',)\": 1, \"('Marge',)\": 1, \"('Fishman',)\": 1, \"('Del.',)\": 1, \"('Housing',)\": 1, \"('Boeing',)\": 1, \"('Representative',)\": 1, \"('Spanish',)\": 1, \"('H.N.',)\": 1, \"('Pinocchio',)\": 1, \"('Currently',)\": 1, \"('Doak',)\": 1, \"('HOME',)\": 1, \"('Hans',)\": 1, \"('Utilities',)\": 1, \"('Darrell',)\": 1, \"('Rockford',)\": 1, \"('Julia',)\": 1, \"('Harris',)\": 1, \"('None',)\": 1, \"('Stuart',)\": 1, \"('Brands',)\": 1, \"('Traded',)\": 1, \"('Grand',)\": 1, \"('Monticello',)\": 1, \"('Amin',)\": 1, \"('Taylor',)\": 1, \"('Mexico',)\": 1, \"('Danforth',)\": 1, \"('Campeau',)\": 1, \"('Midvale',)\": 1, \"('Netherlands',)\": 1, \"('TV',)\": 1, \"('God',)\": 1, \"('Oshkosh',)\": 1, \"('HeraldAmerican',)\": 1, \"('Second',)\": 1, \"('Miller',)\": 1, \"('Rally',)\": 1, \"('Huxtable',)\": 1, \"('Osborn',)\": 1, \"('Pretty',)\": 1, \"('Joanne',)\": 1, \"('Iran\\\\/Contra',)\": 1, \"('Alysia',)\": 1, \"('Rice',)\": 1, \"('Price',)\": 1, \"('Birmingham',)\": 1, \"('Italy',)\": 1, \"('Donaldson',)\": 1, \"('Porter',)\": 1, \"('Hampshire',)\": 1, \"('INGERSOLLRAND',)\": 1, \"('N.Y.',)\": 1, \"('Amendment',)\": 1, \"('Protection',)\": 1, \"('Ala',)\": 1, \"('Sweden',)\": 1, \"('Magleby',)\": 1, \"('Federalist',)\": 1, \"('Educational',)\": 1, \"('Treble',)\": 1, \"('Treasury',)\": 1, \"('Pictures',)\": 1, \"('CALL',)\": 1, \"('Senior',)\": 1, \"('Citibank',)\": 1, \"('Partnership',)\": 1, \"('Rae',)\": 1, \"('Sachs',)\": 1, \"('Banks',)\": 1, \"('Seahorse',)\": 1, \"('Prebon',)\": 1, \"('Assurance',)\": 1, \"('Ratners',)\": 1, \"('CoreStates',)\": 1, \"('Stanley',)\": 1, \"('Agnew',)\": 1, \"('Macmillan\\\\/McGrawHill',)\": 1, \"('Pepperidge',)\": 1, \"('Controls',)\": 1, \"('PLC',)\": 1, \"('Wood',)\": 1, \"('Stena',)\": 1, \"('Leinonen',)\": 1, \"('Thrall',)\": 1, \"('Key',)\": 1, \"('EC',)\": 1, \"('N.C.',)\": 1, \"('Foreign',)\": 1, \"('Mikhail',)\": 1, \"('CocheDury',)\": 1, \"('Cheetham',)\": 1, \"('PLO',)\": 1, \"('Baltimore',)\": 1, \"('Grandsire',)\": 1, \"('July',)\": 1, \"('Agency',)\": 1, \"('CORP',)\": 1, \"('PRODUCTS',)\": 1, \"('Hallwood',)\": 1, \"('Shangkun',)\": 1, \"('Melamed',)\": 1, \"('Investor',)\": 1, \"('Marietta',)\": 1, \"('Huppert',)\": 1, \"('Minn.',)\": 1, \"('Wayland',)\": 1, \"('Christmas',)\": 1, \"('Landor',)\": 1, \"('USX',)\": 1, \"('Hatch',)\": 1, \"('Anglia',)\": 1, \"('Polytechnic',)\": 1, \"('Knapp',)\": 1, \"('Dover',)\": 1, \"('Bowl',)\": 1, \"('Cathryn',)\": 1, \"('Canepa',)\": 1, \"('Victor',)\": 1, \"('Backer',)\": 1, \"('Pennview',)\": 1, \"('Wilcox',)\": 1, \"('Industry',)\": 1, \"('Koito',)\": 1, \"('Leming',)\": 1, \"('FTC',)\": 1, \"('Research',)\": 1, \"('Wright',)\": 1, \"('Liberation',)\": 1, \"('Test',)\": 1, \"('Connecticut',)\": 1, \"('Christie',)\": 1, \"('Valhi',)\": 1, \"('Salon',)\": 1, \"('I.',)\": 1, \"('Z.',)\": 1, \"('Zuckerman',)\": 1, \"('Enterprise',)\": 1, \"('Aquino',)\": 1, \"('Impact',)\": 1, \"('Publishers',)\": 1, \"('Betting',)\": 1, \"('DOONESBURY',)\": 1, \"('Blue',)\": 1, \"('Ridgefield',)\": 1, \"('Capitol',)\": 1, \"('Kappa',)\": 1, \"('Hampton',)\": 1, \"('OTC',)\": 1, \"('Hollis',)\": 1, \"('Traverse',)\": 1, \"('Aug.',)\": 1, \"('Philippines',)\": 1, \"('Pate',)\": 1, \"('Wakayama',)\": 1, \"('Piscataway',)\": 1, \"('CupTote',)\": 1, \"('Fang',)\": 1, \"('Buckhead',)\": 1, \"('Jerritts',)\": 1, \"('Randolph',)\": 1, \"('Soups',)\": 1, \"('John',)\": 1, \"('Symphony',)\": 1, \"('Bar',)\": 1, \"('Hayne',)\": 1, \"('HartScottRodino',)\": 1, \"('Czechoslovakia',)\": 1, \"('Visa',)\": 1, \"('Gordon',)\": 1, \"('Telerate',)\": 1, \"('Zayed',)\": 1, \"('Lynch',)\": 1, \"('McGrawHill',)\": 1, \"('CEO',)\": 1, \"('Torrington',)\": 1, \"('Lauderhill',)\": 1, \"('Medical',)\": 1, \"('Francisco',)\": 1, \"('Felten',)\": 1, \"('Berman',)\": 1, \"('Walt',)\": 1, \"('Louis',)\": 1, \"('Luce',)\": 1, \"('Diaper',)\": 1, \"('Huntington',)\": 1, \"('Cotran',)\": 1, \"('Leo',)\": 1, \"('Peck',)\": 1, \"('Acceptance',)\": 1, \"('Economics',)\": 1, \"('IBC',)\": 1, \"('Chinchon',)\": 1, \"('Aurora',)\": 1, \"('Mont',)\": 1, \"('PTA',)\": 1, \"('Albany',)\": 1, \"('Leigh',)\": 1, \"('FEDERAL',)\": 1, \"('Douglas',)\": 1, \"('Kean',)\": 1, \"('Mattress',)\": 1, \"('Women',)\": 1, \"('America',)\": 1, \"('Malcolm',)\": 1, \"('Valrico',)\": 1, \"('Sonny',)\": 1, \"('Tatsunori',)\": 1, \"('Asada',)\": 1, \"('Jenrette',)\": 1, \"('Rothschild',)\": 1, \"('Guigal',)\": 1, \"('Pont',)\": 1, \"('Inc',)\": 1, \"('Mayland',)\": 1, \"('Structural',)\": 1, \"('Leningrad',)\": 1, \"('Publishing',)\": 1, \"('Lucille',)\": 1, \"('Church',)\": 1, \"('Hong',)\": 1, \"('Mary',)\": 1, \"('Carolina',)\": 1, \"('Corporate',)\": 1, \"('Alstyne',)\": 1, \"('Sabhavasu',)\": 1, \"('GOP',)\": 1, \"('American',)\": 1, \"('Chile',)\": 1, \"('K.',)\": 1, \"('Soho',)\": 1, \"('Arnold',)\": 1, \"('Stark',)\": 1, \"('Schaefer',)\": 1, \"('Congress',)\": 1, \"('Suisse',)\": 1, \"('Broadcasting',)\": 1, \"('DyDee',)\": 1, \"('Bradley',)\": 1, \"('Morita',)\": 1, \"('Raleigh',)\": 1, \"('Money',)\": 1, \"('China',)\": 1, \"('Landrieu',)\": 1, \"('LIBOR',)\": 1, \"('W.R.',)\": 1, \"('Alfred',)\": 1, \"('DES',)\": 1, \"('Moody',)\": 1, \"('Chiodo',)\": 1, \"('System',)\": 1, \"('Garry',)\": 1, \"('FreudToy',)\": 1, \"('Des',)\": 1, \"('Jim',)\": 1, \"('Patricia',)\": 1, \"('Tip',)\": 1, \"('Langner',)\": 1, \"('President',)\": 1, \"('Macmillan',)\": 1, \"('Dallara',)\": 1, \"('Nielsen',)\": 1, \"('Cole',)\": 1, \"('State',)\": 1, \"('Chuck',)\": 1, \"('Mitsui',)\": 1, \"('Strait',)\": 1, \"('Coxon',)\": 1, \"('Blancs',)\": 1, \"('Investment',)\": 1, \"('Dingell',)\": 1, \"('Tailors',)\": 1, \"('Biscayne',)\": 1, \"('Mifflin',)\": 1, \"('College',)\": 1, \"('Steel',)\": 1, \"('Arlington',)\": 1, \"('Michael',)\": 1, \"('Marchese',)\": 1, \"('Einhorn',)\": 1, \"('Wis.',)\": 1, \"('Nationale',)\": 1, \"('S.p.A.',)\": 1, \"('Exchange',)\": 1, \"('Connections',)\": 1, \"('N.M.',)\": 1, \"('Mo',)\": 1, \"('Hermitage',)\": 1, \"('Royal',)\": 1, \"('Indianapolis',)\": 1, \"('Optical',)\": 1, \"('Davenport',)\": 1, \"('Whiting',)\": 1, \"('Ind.',)\": 1, \"('Giants',)\": 1, \"('October',)\": 1, \"('Genel',)\": 1, \"('Kearny',)\": 1, \"('McGovern',)\": 1, \"('midOctober',)\": 1, \"('Warsaw',)\": 1, \"('Mutchin',)\": 1, \"('Marina',)\": 1, \"('N.C',)\": 1, \"('Wednesday',)\": 1, \"('Otero',)\": 1, \"('Du',)\": 1, \"('Dole',)\": 1, \"('Seattle',)\": 1, \"('Office',)\": 1, \"('Murray',)\": 1, \"('Noriega',)\": 1, \"('Seniors',)\": 1, \"('Energy',)\": 1, \"('January',)\": 1, \"('C.J.B.',)\": 1, \"('Thailand',)\": 1, \"('Spitler',)\": 1, \"('Traficant',)\": 1, \"('Kirkpatrick',)\": 1, \"('U.S.',)\": 1, \"('Trustco',)\": 1, \"('Detroit',)\": 1, \"('Walbrecher',)\": 1, \"('Neil',)\": 1, \"('Pacific',)\": 1, \"('Tourism',)\": 1, \"('Commission',)\": 1, \"('Plantation',)\": 1, \"('Nemeth',)\": 1, \"('Cosby',)\": 1, \"('Whip',)\": 1, \"('Winiarski',)\": 1, \"('Major',)\": 1, \"('E.C.',)\": 1, \"('Dolan',)\": 1, \"('Latour',)\": 1, \"('Carney',)\": 1, \"('Lumpur',)\": 1, \"('Brooklyn',)\": 1, \"('Clive',)\": 1, \"('Dodge',)\": 1, \"('Moore',)\": 1, \"('Clark',)\": 1, \"('Week',)\": 1, \"('Intecknings',)\": 1, \"('Metropolitan',)\": 1, \"('Contel',)\": 1, \"('Spielvogel',)\": 1, \"('September',)\": 1, \"('Driscoll',)\": 1, \"('Bowes',)\": 1, \"('Norwalk',)\": 1, \"('Calif',)\": 1, \"('Brian',)\": 1, \"('Advice',)\": 1, \"('Mo.',)\": 1, \"('Corn',)\": 1, \"('Scannell',)\": 1, \"('Perignon',)\": 1, \"('Chicago',)\": 1, \"('Maxwell',)\": 1, \"('Sheffield',)\": 1, \"('Cougar',)\": 1, \"('Generalized',)\": 1, \"('Control',)\": 1, \"('Sunday',)\": 1, \"('Purchasing',)\": 1, \"('Random',)\": 1, \"('Enzor',)\": 1, \"('B',)\": 1, \"('Rey\\\\/Fawcett',)\": 1, \"('READY',)\": 1, \"('Raul',)\": 1, \"('Prater',)\": 1, \"('House',)\": 1, \"('Daniels',)\": 1, \"('Herrington',)\": 1, \"('Floyd',)\": 1, \"('Board',)\": 1, \"('Laser',)\": 1, \"('Najarian',)\": 1, \"('Co',)\": 1, \"('D.C.',)\": 1, \"('Artist',)\": 1, \"('Richebourg',)\": 1, \"('Colo.',)\": 1, \"('Lambert',)\": 1, \"('Takeshi',)\": 1, \"('DaiIchi',)\": 1, \"('Internatonal',)\": 1, \"('River',)\": 1, \"('Babcock',)\": 1, \"('Hawaii',)\": 1, \"('Gartner',)\": 1, \"('Pramual',)\": 1, \"('Fremantle',)\": 1, \"('Crane',)\": 1, \"('Hammersmith',)\": 1, \"('Fujitsu',)\": 1, \"('Bowman',)\": 1, \"('Van',)\": 1, \"('Report',)\": 1, \"('Li',)\": 1, \"('El',)\": 1, \"('Hill',)\": 1, \"('McGuigan',)\": 1, \"('Beijing',)\": 1, \"('Milwaukee',)\": 1, \"('Pace',)\": 1, \"('United',)\": 1, \"('Article',)\": 1, \"('Bramalea',)\": 1, \"('Berson',)\": 1, \"('Parliament',)\": 1, \"('Ballantine\\\\/Del',)\": 1, \"('Prof.',)\": 1, \"('Trotter',)\": 1, \"('Scypher',)\": 1, \"('Ailes',)\": 1, \"('Parents',)\": 1, \"('P.',)\": 1, \"('Delwin',)\": 1, \"('Maughan',)\": 1, \"('Poore',)\": 1, \"('Raton',)\": 1, \"('Life',)\": 1, \"('Peninsula',)\": 1, \"('Gold',)\": 1, \"('Harold',)\": 1, \"('Mercury',)\": 1, \"('McMillin',)\": 1, \"('Turkey',)\": 1, \"('Hawke',)\": 1, \"('USA',)\": 1, \"('Preston',)\": 1, \"('Mrs',)\": 1, \"('L.A.',)\": 1, \"('Baim',)\": 1, \"('Barfield',)\": 1, \"('Lancaster',)\": 1, \"('Cluff',)\": 1, \"('Associates',)\": 1, \"('Linda',)\": 1, \"('Pencil',)\": 1, \"('NBI',)\": 1, \"('Yquem',)\": 1, \"('Occupational',)\": 1, \"('Crown',)\": 1, \"('Post',)\": 1, \"('Sulaiman',)\": 1, \"('Government',)\": 1, \"('Criminal',)\": 1, \"('Dinkins',)\": 1, \"('Arafat',)\": 1, \"('Kensington',)\": 1, \"('Barnett',)\": 1, \"('R.I.',)\": 1, \"('Heritage',)\": 1, \"('Scotia',)\": 1, \"('Foods',)\": 1, \"('Senate',)\": 1, \"('Peng',)\": 1, \"('Ltd',)\": 1, \"('Nicholas',)\": 1, \"('Institution',)\": 1, \"('RetinA',)\": 1, \"('Edison',)\": 1, \"('Chemical',)\": 1, \"('Sloan',)\": 1, \"('Club',)\": 1, \"('Park',)\": 1, \"('Ford',)\": 1, \"('Isabelle',)\": 1, \"('Information',)\": 1, \"('Curry',)\": 1, \"('Desai',)\": 1, \"('Sierra',)\": 1, \"('Freud',)\": 1, \"('Lawless',)\": 1, \"('Achievement',)\": 1, \"('Watanabe',)\": 1, \"('Marshall',)\": 1, \"('Pa.',)\": 1, \"('Kent',)\": 1, \"('Souper',)\": 1, \"('Frances',)\": 1, \"('Integra',)\": 1, \"('Larry',)\": 1, \"('Robbie',)\": 1, \"('Simeon',)\": 1, \"('Palisades',)\": 1, \"('Boston',)\": 1, \"('Rita',)\": 1, \"('Jay',)\": 1, \"('Roger',)\": 1, \"('Daiwa',)\": 1, \"('LYNCH',)\": 1, \"('Fernando',)\": 1, \"('White',)\": 1, \"('Coleman',)\": 1, \"('Antitrust',)\": 1, \"('Mehta',)\": 1, \"('Jalaalwalikraam',)\": 1, \"('TREASURY',)\": 1, \"('Shelby',)\": 1, \"('Carballo',)\": 1, \"('Nobel',)\": 1, \"('West',)\": 1, \"('Private',)\": 1, \"('ABA',)\": 1, \"('Barth',)\": 1, \"('Samnick',)\": 1, \"('Tribune',)\": 1, \"('Needham',)\": 1, \"('British',)\": 1, \"('Stewart',)\": 1, \"('Aloha',)\": 1, \"('Fairless',)\": 1, \"('U.K.',)\": 1, \"('Troubled',)\": 1, \"('Stock',)\": 1, \"('Borge',)\": 1, \"('USIA',)\": 1, \"('Yasser',)\": 1, \"('Photograph',)\": 1, \"('II',)\": 1, \"('Blanchard',)\": 1, \"('Savings',)\": 1, \"('Upham',)\": 1, \"('Midwestern',)\": 1, \"('Groton',)\": 1, \"('Caribbean',)\": 1, \"('Newspapers',)\": 1, \"('Ana',)\": 1, \"('Columbus',)\": 1, \"('Brace',)\": 1, \"('Pty.',)\": 1, \"('Morrell',)\": 1, \"('France',)\": 1, \"('Elsevier',)\": 1, \"('ExpressBuick',)\": 1, \"('INS',)\": 1, \"('Radio',)\": 1, \"('Mayor',)\": 1, \"('Northampton',)\": 1, \"('Seoul',)\": 1, \"('Philadelphia',)\": 1, \"('Parkinson',)\": 1, \"('Teddy',)\": 1, \"('Huntsville',)\": 1, \"('Klein',)\": 1, \"('Johns',)\": 1, \"('Ministry',)\": 1, \"('Nestor',)\": 1, \"('R.',)\": 1, \"('CortonCharlemagne',)\": 1, \"('Harvard',)\": 1, \"('Population',)\": 1, \"('Bolduc',)\": 1, \"('Schmidt',)\": 1, \"('Calder',)\": 1, \"('Olsen',)\": 1, \"('Smith',)\": 1, \"('Village',)\": 1, \"('Westborough',)\": 1, \"('Grant',)\": 1, \"('Family',)\": 1, \"('Takashima',)\": 1, \"('Gorman',)\": 1, \"('Napa',)\": 1, \"('Roederer',)\": 1, \"('Pasadena',)\": 1, \"('Spillane',)\": 1, \"('Warren',)\": 1, \"('Sigmund',)\": 1, \"('Lloyd',)\": 1, \"('Derel',)\": 1, \"('AntiDeficiency',)\": 1, \"('Credit',)\": 1, \"('Alvin',)\": 1, \"('Underwood',)\": 1, \"('Sutcliffe',)\": 1, \"('Thunderbird',)\": 1, \"('Asia',)\": 1, \"('Ranieri',)\": 1, \"('Spence',)\": 1, \"('Medicine',)\": 1, \"('CDC',)\": 1, \"('Sotheby',)\": 1, \"('August',)\": 1, \"('Bankers',)\": 1, \"('Income',)\": 1, \"('Rust',)\": 1, \"('Island',)\": 1, \"('Wamre',)\": 1, \"('Caldor',)\": 1, \"('OldHouse',)\": 1, \"('Young',)\": 1, \"('Kingdom',)\": 1, \"('Muscolina',)\": 1, \"('Nesconset',)\": 1, \"('Britain',)\": 1, \"('HouseSenate',)\": 1, \"('Affairs',)\": 1, \"('Huber',)\": 1, \"('F.W.',)\": 1, \"('Section',)\": 1, \"('Monitor',)\": 1, \"('Sullivan',)\": 1, \"('SAT',)\": 1, \"('Clemens',)\": 1, \"('Inouye',)\": 1, \"('Pardus',)\": 1, \"('Persky',)\": 1, \"('Capital',)\": 1, \"('Merrick',)\": 1, \"('Arizona',)\": 1, \"('Scherer',)\": 1, \"('Lowe',)\": 1, \"('Las',)\": 1, \"('Organizations',)\": 1, \"('Television',)\": 1, \"('McCormick',)\": 1, \"('Gardner',)\": 1, \"('Joseph',)\": 1, \"('N.V.',)\": 1, \"('Venture',)\": 1, \"('Atlanta',)\": 1, \"('Brown',)\": 1, \"('Comtes',)\": 1, \"('Bates',)\": 1, \"('Honolulu',)\": 1, \"('Napolitan',)\": 1, \"('Harcourt',)\": 1, \"('Tray',)\": 1, \"('Jr',)\": 1, \"('Gross',)\": 1, \"('Markey',)\": 1, \"('Sandifer',)\": 1, \"('Eugene',)\": 1, \"('Pittsburgh',)\": 1, \"('Tube',)\": 1, \"('Danville',)\": 1, \"('Smaby',)\": 1, \"('Sixth',)\": 1, \"('Bunny',)\": 1, \"('Marvin',)\": 1, \"('S.I.',)\": 1, \"('Bellows',)\": 1, \"('Rexinger',)\": 1, \"('R.P.',)\": 1, \"('Combo',)\": 1, \"('Candlestick',)\": 1, \"('Stephanie',)\": 1, \"('Bernstein',)\": 1, \"('Portugal',)\": 1, \"('Fulbright',)\": 1, \"('Enright',)\": 1, \"('Argentina',)\": 1, \"('Public',)\": 1, \"('Stamford',)\": 1, \"('Wheeland',)\": 1, \"('Professional',)\": 1, \"('May',)\": 1, \"('N.',)\": 1, \"('Tarwhine',)\": 1, \"('Vose',)\": 1, \"('Committee',)\": 1, \"('Clara',)\": 1, \"('Nekoosa',)\": 1, \"('Orlando',)\": 1, \"('Commonwealth',)\": 1, \"('Domaine',)\": 1, \"('Deng',)\": 1, \"('Texas',)\": 1, \"('Providence',)\": 1, \"('Stag',)\": 1, \"('B.',)\": 1, \"('Division',)\": 1, \"('Ancient',)\": 1, \"('Big',)\": 1, \"('Hubbard',)\": 1, \"('Japan',)\": 1, \"('Mahoney',)\": 1, \"('Rhone',)\": 1, \"('Ian',)\": 1, \"('LSI',)\": 1, \"('Eggers',)\": 1, \"('Care',)\": 1, \"('Dick',)\": 1, \"('Schweiz',)\": 1, \"('GMAC',)\": 1, \"('Ann',)\": 1, \"('Mulford',)\": 1, \"('ACQUISITION',)\": 1, \"('the',)\": 1, \"('Mr.',)\": 1, \"('Rockwell',)\": 1, \"('Greer',)\": 1, \"('Taipei',)\": 1, \"('Ariz.',)\": 1, \"('MONEY',)\": 1, \"('DeFazio',)\": 1, \"('Skokie',)\": 1, \"('Greenwich',)\": 1, \"('Houston',)\": 1, \"('Georgetown',)\": 1, \"('Longwood',)\": 1, \"('Coconut',)\": 1, \"('Norman',)\": 1, \"('Jacob',)\": 1, \"('Morgan',)\": 1, \"('Graduate',)\": 1, \"('Bon',)\": 1, \"('Lee',)\": 1, \"('Vichy',)\": 1, \"('Wilbur',)\": 1, \"('Gayle',)\": 1, \"('Calif.',)\": 1, \"('Mather',)\": 1, \"('PhacoFlex',)\": 1, \"('Harper',)\": 1, \"('Yang',)\": 1, \"('Iowa',)\": 1, \"('Heatherington',)\": 1, \"('Mass',)\": 1, \"('WTD',)\": 1, \"('Communications',)\": 1, \"('Ensrud',)\": 1, \"('Fla.',)\": 1, \"('Joni',)\": 1, \"('III',)\": 1, \"('Telephone',)\": 1, \"('Convention',)\": 1, \"('MacDonald',)\": 1, \"('Boesel',)\": 1, \"('Community',)\": 1, \"('Norwegian',)\": 1, \"('Default',)\": 1, \"('Lazzaroni',)\": 1, \"('Jenkins',)\": 1, \"('Vicar',)\": 1, \"('Federation',)\": 1, \"('Glauber',)\": 1, \"('Fuentes',)\": 1, \"('Baker',)\": 1, \"('Deere',)\": 1, \"('O'Connor',)\": 1, \"('Squier',)\": 1, \"('Springs',)\": 1, \"('Hurley',)\": 1, \"('Account',)\": 1, \"('W.D.',)\": 1, \"('Karl',)\": 1, \"('Orange',)\": 1, \"('Talcott',)\": 1, \"('San',)\": 1, \"('February',)\": 1, \"('Cristal',)\": 1, \"('Colorado',)\": 1, \"('Grgich',)\": 1, \"('IMSAI',)\": 1, \"('Clinton',)\": 1, \"('Lighthouse',)\": 1, \"('Mona',)\": 1, \"('Milne',)\": 1, \"('Alzheimer',)\": 1, \"('Avrett',)\": 1, \"('ASLACTON',)\": 1, \"('Solihull',)\": 1, \"('Rubicam',)\": 1, \"('Phelan',)\": 1, \"('MarieLouise',)\": 1, \"('Strother',)\": 1, \"('FTSE',)\": 1, \"('Allergan',)\": 1, \"('Improvement',)\": 1, \"('Walkman',)\": 1, \"('Gregory',)\": 1, \"('North',)\": 1, \"('Kathryn',)\": 1, \"('Elmhurst',)\": 1, \"('Vargas',)\": 1, \"('Sterling',)\": 1, \"('Gulf',)\": 1, \"('Droz',)\": 1, \"('Andrea',)\": 1, \"('Leighton',)\": 1, \"('Al',)\": 1, \"('Laura',)\": 1, \"('GHS',)\": 1, \"('Bowery',)\": 1, \"('Goodman',)\": 1, \"('Lake',)\": 1, \"('Mining',)\": 1, \"('Cambridge',)\": 1, \"('OSHA',)\": 1, \"('Chafic',)\": 1, \"('Sir',)\": 1, \"('Cote',)\": 1, \"('Jacksonville',)\": 1, \"('Transportation',)\": 1, \"('Drobnick',)\": 1, \"('Lt.',)\": 1, \"('Louisville',)\": 1, \"('Malaysia',)\": 1, \"('June',)\": 1, \"('Machines',)\": 1, \"('Petrus',)\": 1, \"('Shapiro',)\": 1, \"('Judicial',)\": 1, \"('Sun',)\": 1, \"('Neal',)\": 1, \"('Barnum',)\": 1, \"('Waste',)\": 1, \"('Miami',)\": 1, \"('DISCOUNT',)\": 1, \"('X',)\": 1, \"('Vanderbilt',)\": 1, \"('Lights',)\": 1, \"('Circulation',)\": 1, \"('Navy',)\": 1, \"('Fountain',)\": 1, \"('Motor',)\": 1, \"('Perritt',)\": 1, \"('Assistant',)\": 1, \"('Financial',)\": 1, \"('Genie',)\": 1, \"('Mercer',)\": 1, \"('Air',)\": 1, \"('Marion',)\": 1, \"('Hollingsworth',)\": 1, \"('Ark',)\": 1, \"('Cedric',)\": 1, \"('L.',)\": 1, \"('Camille',)\": 1, \"('Burnham',)\": 1, \"('Dominion',)\": 1, \"('Sandra',)\": 1, \"('LTV',)\": 1, \"('Cigna',)\": 1, \"('Apple',)\": 1, \"('Premier',)\": 1, \"('Norwick',)\": 1, \"('Bugs',)\": 1, \"('Citicorp',)\": 1, \"('Caters',)\": 1, \"('Earlham',)\": 1, \"('Ames',)\": 1, \"('NESB',)\": 1, \"('Bank',)\": 1, \"('Moleculon',)\": 1, \"('Shearson',)\": 1, \"('Story',)\": 1, \"('R.D.',)\": 1, \"('NL',)\": 1, \"('Examiner',)\": 1, \"('Wadsworth',)\": 1, \"('General',)\": 1, \"('Yale',)\": 1} \n",
      "\n",
      "[VP] {'([VBD], [NP], [,], [PPTMP])': 1, '([VBN], [NP], [PPLOC], [PP])': 2, '([VBD], [PRT], [NP])': 1, '([VBG], [PPCLR], [,], [SBARPRP])': 1, '([VBP], [SBAR], [,], [SBARADV])': 1, '([VBN], [ADVPMNR], [PPCLR])': 1, '([VB], [ADJPPRD], [ADVP])': 1, '([VBD], [PP], [NP])': 1, '([VBZ], [NPPRD], [SBAR])': 2, '([VBG], [ADVP], [PPDIR])': 1, '([VBZ], [NP], [NPTMP])': 1, '([VBG], [PPCLR], [SBARTMP])': 1, '([VBN], [NPEXT])': 1, '([VBD], [PRT], [PPLOC])': 1, '([VB], [NP], [PPLOC])': 1, '([VBN], [ADJPPRD])': 1, '([ADVPMNR], [VBD], [NP], [PPCLR])': 1, '([VP], [CC], [VP], [PPTMP])': 1, '([VBZ], [ADVP], [ADJPPRD], [S])': 1, '([VBN], [PPLOCPRD], [NPTMP], [SADV])': 1, '([VBG], [NP], [PPCLR])': 4, '([VBP], [NPTMP], [PPDIR], [PP])': 1, '([VBG], [NP], [ADVPDIR])': 1, '([VBP], [ADVPTMP], [PPPRDLOC])': 1, '([VBP], [RB], [NPPRD])': 1, '([VBP], [PPPRD])': 1, '([VBZ], [PPMNR])': 1, '([VBZ], [NP], [,], [SBARADV])': 1, '([VBN], [NP], [SPRP])': 1, '([VBD], [PPLOCPRD])': 1, '([VBD], [NP], [NP])': 1, '([VBP], [ADVPTMP], [SPRP])': 1, '([VBP],)': 1, '([VB], [ADVP], [PPLOC])': 1, '([VBP], [ADVPMNR], [PPLOC])': 1, '([VB], [NP], [S])': 3, '([VBP], [NP], [PPLOC])': 1, '([VBP], [NPPRD], [,], [SBARADV])': 1, '([VP], [CC], [VP], [VP])': 1, '([VBG], [NP], [PPTMP], [PPMNR])': 1, '([VB], [UCPPRD])': 1, '([VBZ], [NP], [PPDIR])': 1, '([VBD], [RB], [VP])': 1, '([VBZ], [ADVPTMP])': 1, '([VBN], [PPLOCCLR], [ADVP])': 1, '([VBZ], [NP], [SBARADV])': 1, '([VB], [NP], [PPEXT], [SPRP])': 1, '([VBG], [PPCLR], [ADVPTMP])': 1, '([VB], [PRN], [PPCLR])': 1, '([VBN], [PP], [PPTMP])': 1, '([VP], [CC], [VP], [PPLOC])': 1, '([VBG], [NP], [PRN], [PPCLR])': 1, '([ADVPMNR], [VBN], [NP], [PPCLR])': 1, '([VBP], [ADVP], [ADJPPRD])': 1, '([VBN], [PPDIR], [SPRP])': 1, '([VBN], [PRT], [PP], [PPTMP])': 1, '([NN], [PPDIR])': 1, '([VB], [PPCLR], [PPLOC])': 1, '([VBN], [NP], [PPDIR])': 1, '([VBP], [UCPPRD])': 1, '([VB], [NP], [PPCLR])': 4, '([ADVP], [VBG], [NP], [PPDIR])': 1, '([VBD], [NP], [,], [PPLOC])': 1, '([VBZ], [ADJPPRD], [PP], [ADVPTMP])': 1, '([VBZ], [PPCLR])': 1, '([VB], [NP], [,], [SADV])': 1, '([VBN], [PPCLR], [PPBNF])': 1, '([VBN], [NPTMP])': 1, '([VB], [NPPRD], [PP])': 1, '([VBP], [NP], [PP])': 2, '([VBD], [NP], [PPTMP])': 2, '([VB], [PRT], [NP], [ADVPTMP])': 1, '([VBD], [S], [SBARTMP])': 1, '([VP], [NP])': 1, '([VBN], [S], [SBARADV])': 1, '([VBD], [S], [PP], [SBARTMP])': 1, '([VBG], [ADJP], [SBARPRP])': 1, '([VB], [PPCLR], [:], [SBARADV])': 1, '([VB], [``], [NPPRD])': 1, '([VBZ], [``], [ADVPTMP], [NPPRD])': 1, '([VB], [NP], [PPCLR], [PP])': 1, '([VB], [S])': 1, '([VBD], [NP], [PPLOC], [PPTMP])': 1, '([VB], [NP], [PPPRP], [PPTMP])': 1, '([VBD], [NP], [PRT], [PPDIR])': 1, '([VBN], [NPPRD], [PPTMP])': 1, '([VBG], [ADVPDIR])': 1, '([VBG], [NP], [PRT])': 1, '([VBN], [NP], [PPCLR])': 4, '([VB], [PPTMP], [,], [NP])': 1, '([ADVPMNR], [VBD], [PRT], [NP])': 1, '([TO], [NP])': 1, '([VBN], [NP], [PPLOCCLR])': 1, '([VB], [NP], [PRN])': 1, '([VB], [ADVP], [ADVP])': 1, '([VBZ], [ADVP], [PPCLR])': 1, '([VBG], [NP], [SCLR])': 2, '([VBP], [NP], [ADVPTMP])': 1, \"([VBD], [''], [NP])\": 1, '([VBZ], [NP], [NP], [SBARPRP])': 1, '([VBN], [S])': 1, '([NONE], [ADVPTMP])': 1, '([VBZ], [ADJPPRD], [SBAR])': 3, '([VB], [NP], [SBARADV])': 1, '([VBD], [NP], [NPTMP], [PPLOC])': 1, '([VBP], [NPPRD], [,], [SADV])': 1, '([VBN], [NP], [PPMNR], [PPLOC])': 1, '([VBN], [PP], [SBARTMP])': 1, '([VB], [ADVP], [PPTMP])': 1, '([VB], [NP], [PPLOC], [SBARTMP])': 1, '([VBD], [PPMNR], [,], [SBARADV])': 1, '([MD], [ADVP], [ADVP], [VP])': 1, '([VBP], [NP], [SBAR])': 1, '([VBN], [NP], [PPLOCCLR], [PPLOC])': 1, '([VBD], [ADVPMNR], [VP])': 1, '([NONE], [PPLOC])': 1, '([VBN], [NP], [PP], [PP])': 1, '([VB], [PRT], [NP], [PPTMP])': 1, '([VB], [NP], [ADVPCLR], [ADVPTMP])': 1, '([VB], [NP], [PP])': 4, '([VBD], [ADVPPRD], [NPTMP])': 1, '([ADVPTMP], [VBP], [NP])': 1, '([VBD], [CC], [VBD], [NP])': 1, '([VB], [NP], [PPCLR], [PPCLR])': 1, '([VBN], [NP], [PPLOC], [PPTMP])': 1, '([VBN], [PPLOC])': 1, '([VBD], [NPEXT], [ADVPTMP])': 1, '([ADVPMNR], [VBG], [NP], [PPCLR])': 1, '([VB], [PPLOC])': 1, '([VBD], [RB], [ADJPPRD])': 1, '([VBN], [SBARADV])': 1, '([ADVP], [VBD], [S])': 1, '([VBD], [PPEXT], [PPTMP], [PPDIR])': 1, '([VBZ], [RB], [ADJPPRD])': 1, '([VBG], [NP], [PPDTV])': 1, '([VBN], [NP], [PPLOC], [SBAR])': 1, '([VBP], [NP], [PPMNR])': 1, '([VBN], [S], [,], [SADV])': 1, '([VP], [,], [ADVP], [VP])': 1, '([VBP], [NP], [NPTMP])': 1, '([VBZ], [NPPRD], [PPTMP])': 1, \"([VBP], [``], [NPTTL], [''])\": 1, '([VBZ], [``], [SBAR])': 1, '([VB], [ADVP], [ADJPPRD], [PP])': 1, '([VBN], [S], [PPLOC])': 1, '([VBZ], [PPLOC])': 1, '([VB], [NP], [,], [SBARADV])': 1, '([VBG], [NP], [NP])': 1, '([VBZ], [ADJPPRD])': 1, '([VBN], [NP], [SBARPRP])': 1, '([VB], [NP], [SPRP])': 1, '([VBG], [NP], [PP], [PPMNR])': 1, '([VBN], [NP], [PP])': 4, '([VBN], [NP], [PPPUT])': 1, '([VBN], [S], [SBARTMP])': 1, '([VB], [NP], [PPCLR], [SADV])': 1, '([VBD], [NP], [,], [SBARTMP])': 1, '([VBP], [PPLOCCLR])': 1, '([ADVPTMP], [VBZ], [PPCLR])': 1, '([VBN], [NP], [ADVPTMP])': 1, '([VBG], [PPCLR], [SBAR])': 1, '([VBD], [PRT], [NP], [PPPRP])': 1, '([VBZ], [PRT], [PPCLR])': 1, '([VBG], [NP], [S])': 3, '([ADVP], [VBN], [PPTMP])': 1, '([VBN], [NP], [PPLOCCLR], [SBARTMP])': 1, '([VB], [NP], [SMNR], [PPTMP])': 1, '([VBD], [PPDIR], [PPTMP], [S])': 1, '([VBD], [NP], [PRT], [PP])': 1, '([VBD], [PPLOCPRD], [NPTMP], [SPRP])': 1, '([VBD], [PRT], [SBAR])': 1, '([VBG], [NP], [PPDIR], [PPDIR])': 1, '([VBZ], [ADVP], [VP])': 1, '([ADVPTMP], [VBZ], [NP], [PPLOC])': 1, '([VBD], [PPDIR], [PPTMP], [ADVPTMP])': 1, '([ADVPMNR], [VBZ], [S])': 1, '([VB], [PPMNR])': 1, '([VBD], [PPDIR], [SBARPRP])': 1, '([VBZ], [NPADV], [ADJPPRD])': 1, '([VB], [ADVPLOC], [SBARNOM])': 1, '([VBZ], [ADVPCLR])': 1, '([NONE], [ADVPPRD])': 1, '([VBP], [ADJPPRD], [PP])': 1, '([VBZ], [ADJP])': 1, '([VB], [PPDIR], [PPTMP])': 1, '([VBG], [PPDIR], [NPADV])': 1, '([VBN], [PPMNR])': 2, '([VBD], [NP], [NPADV])': 1, '([VBZ], [NP], [PPLOC])': 1, '([VBD], [ADVPPRD])': 1, '([VBZ], [ADVPMNR], [PPCLR])': 1, '([VBD], [NP], [PPDIR], [NPTMP])': 1, '([VBP], [ADVPMNR], [VP])': 1, '([VBD], [ADVPTMP])': 1, '([VBN], [PRT], [SBARPRP])': 1, '([VBG], [NP])': 2, '([VBZ], [NP], [SBARTMP])': 1, '([TO], [ADVPLOC], [VP])': 1, '([VBZ], [PP])': 2, '([VBD], [NPPRD], [PPTMP])': 1, '([VBD], [PPTMP], [PPTMP])': 1, '([VBG], [PPLOCCLR], [PPLOC])': 1, '([VBD], [PPLOCPRD], [SADV])': 1, '([VBN], [PP])': 1, '([VBG], [NP], [,], [PPDTV])': 1, '([VBN], [NP], [PPCLR], [ADVPTMP])': 1, '([NONE], [NP], [PPLOC])': 1, '([VB], [PPLOC], [NPTMP])': 1, '([VBN], [ADVP], [VP])': 1, '([VBP], [PPPRD], [,], [SADV])': 1, '([VBN], [NP], [S])': 6, '([VBN], [ADVPMNR])': 1, '([ADVPMNR], [VBD], [NP])': 1, '([VB], [PPDIR], [,], [PP])': 1, '([VBP], [SBARTMP])': 1, '([VBN], [NP], [PP], [PRN])': 1, '([VBP], [PPPRD], [ADVPTMP])': 1, '([VBZ], [ADJPPRD], [NPTMP])': 1, '([VBG], [NP], [ADVPMNR])': 1, '([VB], [NP], [ADVP|PRT], [PPPUT])': 1, '([VBN], [PPCLR], [SCLR])': 1, '([NN], [NP], [PP])': 1, '([VBD], [NPCLR])': 1, '([VB], [PRN], [NPPRD])': 1, '([VBN], [NP], [PPCLR], [PPLOC])': 1, '([ADVPMNR], [VBG])': 1, '([VBZ], [PPPRD], [SBAR])': 1, '([VBD], [NP], [PPPUT])': 1, '([VBG], [PPPRP])': 1, '([VBZ],)': 1, '([VB], [NP], [PPLOCCLR])': 1, '([VBD], [PPDIR], [PPDIR])': 1, '([VBZ], [ADJPPRD], [PPPRP])': 1, '([VP], [,], [NP])': 1, '([VBZ], [NP], [SCLR])': 1, '([VBN], [PPDIR], [SADV])': 1, '([VBG], [NPEXT], [NPTMP])': 1, '([VBN], [PRT], [,], [ADVPTMP])': 1, '([VBP], [ADVP], [PPPRD])': 1, '([VB], [ADVPMNR])': 1, '([VB], [PPLOC], [PPTMP])': 1, '([VBD], [SBAR], [,], [SBARADV])': 1, '([VBN], [ADVPMNR], [SBARTMP])': 1, '([VB], [,], [SADV])': 1, '([VB], [ADJPPRD], [SBARADV])': 1, '([VBN], [PPLOCCLR], [,], [ADVP])': 1, '([VBZ], [NP], [NP], [SBARADV])': 1, '([VB], [ADVP], [VP])': 1, '([VBZ], [NP], [SBARNOM], [ADVPMNR])': 1, '([VBG], [NP], [SBARCLR])': 1, '([NN], [PRT], [NP])': 1, '([VBN], [S], [PPTMP])': 1, '([VBG], [PP])': 3, '([VBD], [PPDIR], [PPPRP])': 1, '([VBP], [PPLOC], [PPTMP])': 1, '([VBN], [NP], [SCLR])': 4, '([VB], [PRT], [NP], [ADVP])': 1, '([VBN], [NP], [SBARADV])': 1, '([NN], [NP])': 1, '([VBZ], [NP], [,], [PP])': 1, '([VBD], [RB], [NP])': 1, '([VBN], [NP], [PPTMP], [PPLOC])': 1, '([NONE], [PPTMP])': 1, '([JJ], [NP])': 1, '([VBP], [PPPRDLOC])': 1, '([VBZ], [PRT], [PPLOC])': 1, '([VBZ], [NPPRD], [,], [PP])': 1, '([VB], [NP], [ADVPTMP], [PPDIR])': 1, '([VBD], [ADVPCLR], [PPTMP])': 1, '([VB], [ADVPDIR], [SADV], [ADVPLOC])': 1, '([VBD], [VP])': 1, '([VBP], [NP], [S])': 2, '([VBG], [NP], [:], [SADV])': 1, '([VB], [NP], [PPTMP], [SBARTMP])': 1, '([VBD], [ADVP], [PP])': 1, '([VBZ], [ADJPPRD], [S])': 2, '([VB], [NPTMP], [SBARADV])': 1, '([VBZ], [PPLOC], [NP])': 1, '([VBN], [S], [PPPRP])': 1, '([VBZ], [:], [NP])': 1, '([VBG], [NP], [SBARTMP])': 1, '([VBD], [NP], [PPLOC], [NPTMP])': 1, '([VB], [SBAR], [PPLOC])': 1, '([VB], [SBARPRD])': 1, '([VB], [NP], [,], [PP])': 1, '([VBZ], [NP], [PPCLR])': 2, '([VBD], [PPMNR])': 1, '([VBP], [ADVPDIR], [,], [SADV])': 1, '([VBD], [PRT], [NP], [PPTMP])': 1, '([VB], [NP], [PPCLR], [ADVPLOC])': 1, '([VBZ], [PRN], [NP])': 1, '([VBN], [NP], [PPLOC])': 2, '([VBD], [SBAR])': 1, '([VB], [UCPMNR])': 1, '([VB], [PPDIRCLR], [SBARPRP])': 1, '([VBZ], [ADJPPRD], [SBARADV])': 1, '([VB], [NP], [PPTMP], [PPCLR])': 1, '([VB], [ADVPPRD])': 1, '([VBP], [NP], [ADVPMNR], [ADVPMNR])': 1, '([VBN], [SBARNOM])': 1, '([VB], [SBARNOM], [ADVPMNR])': 1, '([VB], [PRT], [PPLOCCLR])': 1, '([VB], [PP], [ADVPTMP])': 1, '([VBZ], [NP], [PP], [PPCLR])': 1, '([VBN], [NP], [PPTMP], [PPDTV])': 1, '([VBN], [NP], [ADVPMNR])': 1, '([VBZ], [ADVP], [ADJPPRD], [SBAR])': 2, '([JJ], [,], [SBARADV])': 1, '([VBZ], [PRT], [SBAR])': 1, '([VBD], [NP], [NPTMP], [ADVPTMP])': 1, '([VBD], [NP], [PPTMP], [VP])': 1, '([VBZ], [ADVP], [NPPRD], [PPLOC])': 1, '([VBP], [NP], [SBARPRP])': 1, '([VP], [,], [NPADV])': 1, '([VBN], [PRT], [ADVPLOC])': 1, '([VBD], [RB], [NPPRD])': 1, '([VBD], [NPEXT], [PPDIR], [PPLOC])': 1, '([VBZ], [SQ])': 1, '([VBN], [NP], [PPLOC], [NPTMP])': 1, '([VBZ], [S], [SBARADV])': 1, '([VBN], [NP], [PRT], [PPLOC])': 1, '([VB], [PP])': 1, '([VB], [ADVPDIR], [PPDIR])': 1, '([VBD], [SBAR], [,], [PP])': 1, '([VBD], [ADJPPRD], [PP])': 1, '([VBN], [NP], [NPTMP], [ADVPTMP])': 1, '([VBD], [ADVP], [PPTMP], [SPRP])': 1, '([VBN], [NP], [PPCLR], [PPCLR])': 1, '([VBD], [NPPRD], [ADVPMNR])': 1, '([VBN], [NP], [SBARCLR])': 2, '([VBD], [S])': 1, '([NN], [NPPRD])': 1, '([VBN], [NP], [ADVPTMP], [NPTMP])': 1, '([VP], [CC], [PRN], [VP])': 1, '([VBD], [NPEXT], [,], [SADV])': 1, '([VBG], [NP], [NPTMP], [PP])': 1, '([VBP], [NPPRD], [ADVPTMP])': 1, '([VBD], [PPTMP], [ADVPTMP])': 1, '([ADVPMNR], [VB], [NP])': 1, '([VBZ], [PRT], [PP])': 1, \"([VBG], [NP], [''], [PPCLR])\": 1, '([VBZ], [NP], [NP], [PPMNR])': 1, '([VBD], [PPDIRCLR])': 1, '([VBD], [NPPRD], [,], [SADV])': 1, '([VBD], [NPTMPCLR])': 1, '([VBD], [NPCLR], [PPLOCCLR], [ADVPTMP])': 1, '([VBD], [NP], [ADVPDIR], [ADVPTMP])': 1, '([VBP], [NP], [,], [SADV])': 1, '([VB], [PP], [ADVP])': 1, '([JJ], [PPCLR])': 1, '([VBN], [NP], [NPTMP], [PPLOC])': 1, '([VBZ], [S], [PPLOC])': 1, '([ADVPTMP], [VBN], [NP], [PPLGS])': 1, '([VB], [UCPLOCCLR])': 1, '([VB], [NP], [PPTMP], [SBARADV])': 1, '([VBG], [NP], [ADVPMNR], [SBARTMP])': 1, '([VBG], [PPLOC], [SPRP])': 1, '([VBG], [PPDIR])': 1, '([VBD], [PPCLR], [ADVPTMP])': 1, '([VBD], [ADVP])': 1, '([VBD], [NP], [PPLOC])': 1, '([VBG], [ADVPLOC])': 1, '([VBZ], [NP], [:], [SADV])': 1, '([VBN], [NP], [PPTMP], [ADVPTMP])': 1, '([VBZ], [SPRD])': 1, '([VB], [PPCLR], [PP])': 1, '([VBG], [PPTMP], [SBARTMP])': 1, '([VBG], [ADJPPRD], [:], [SADV])': 1, '([VBD], [ADVPLOC], [VP])': 1, '([ADVPMNR], [VBN], [PPCLR])': 1, '([VBN], [PPPRP], [S])': 1, '([VBZ], [SBARNOMPRD])': 1, '([IN], [NP])': 1, '([VBZ], [ADVPTMP], [VP])': 1, '([VBP], [``], [ADJPPRD])': 1, '([VBN], [NP], [PPCLR], [PPTMP])': 3, '([VBG], [ADVPMNR], [VP])': 1, '([VBN], [PPTMP])': 1, '([VBD], [NP], [S])': 3, '([VB], [NPSBJ], [PPLOCCLR])': 1, '([VBP], [NPTMPCLR])': 1, '([VBP], [PP], [PPCLR])': 1, '([VBP], [ADVPTMP], [NPPRD], [SBARPRP])': 1, '([PRN], [VBZ], [VP])': 1, '([VBG], [NP], [PPCLR], [SPRP])': 1, '([VBZ], [ADVPLOCCLR])': 1, '([ADVP], [VBN], [PPCLR])': 1, '([VB], [ADVPMNR], [PPCLR])': 1, '([VBP], [RB], [NP])': 1, '([VBD], [ADVPPRD], [PPTMP])': 1, '([VBP], [ADVPCLR])': 1, '([VBN], [NPCLR], [SCLR])': 1, '([VBG], [NP], [PPCLR], [S])': 1, '([POS], [ADJPPRD])': 1, '([VBP], [NPPRD])': 1, '([VB], [SBARTMP])': 1, '([VBP], [NPTMP])': 1, '([VBZ], [NP], [SBARPRP])': 1, '([VBZ], [NP], [NPADV])': 1, '([VBN], [ADVPTMP])': 1, '([VBP], [NP], [,], [ADVP])': 1, '([VBN], [NP], [PPCLR], [PP])': 1, '([VBZ], [S], [SPRP])': 1, '([VBZ], [ADVPLOCCLR], [PPCLR])': 1, '([NN], [NP], [PPCLR])': 1, '([VBP], [NP], [PPMNR], [S])': 1, '([VBZ], [ADVPTMP], [NPPRD])': 1, '([VBD], [ADVPPRD], [ADVP], [PPLOC])': 1, '([VBP], [PPPRD], [PP], [PPTMP])': 1, '([JJ],)': 1, '([VBG], [ADVPCLR], [PPCLR])': 1, '([VBN], [NP], [PP], [ADVPLOC])': 1, '([CC], [VP], [CC], [VP])': 1, '([VBG], [NP], [PPCLR], [VP])': 1, '([VB], [PRT], [ADVPTMP], [SBARCLR])': 1, '([VB], [PPDIRCLR])': 1, '([VB], [NP], [PPCLR], [SBARADV])': 1, '([VBD], [PPCLR], [PPTMP], [PP])': 1, '([VBD], [NP], [ADVPMNR])': 1, '([VBN], [NP], [PPDIR], [ADVPTMP])': 1, '([VBZ], [S], [ADVP])': 1, '([VBP], [NP], [PPMNR], [SBARTMP])': 1, '([VBZ], [ADJPPRD], [PRN], [ADVP])': 1, '([VBG], [S], [PPPRP])': 1, '([VBN], [PPCLR], [ADVPMNR])': 1, '([VB], [ADVPDIR], [NP])': 1, '([VBN], [NP], [``], [PPMNR])': 1, '([VBD], [NP], [PP])': 1, \"([VBZ], [S], [''], [PPTMP])\": 1, '([VBD], [NPEXT], [PPTMP])': 1, '([VBZ], [PPLOCPRD])': 1, '([VBD], [NP], [SBARPRP])': 1, '([VBD], [PPCLR], [SBARPRP])': 1, '([VBZ], [ADJPPRD], [ADVPTMP])': 1, '([VBG], [PPDIR], [PPTMP])': 1, '([VBD], [NP], [,], [SADV])': 1, '([VB], [NP], [ADVPPRP])': 1, '([VBN], [NP], [PPCLR], [SBARTMP])': 1, '([VBN], [NPPRD], [PRN], [PP])': 1, '([VBN], [NP], [PPMNR])': 1, '([VBG], [NP], [SBARPRP])': 1, '([VBD], [S], [SADV])': 1, '([VBN], [NP], [PPTMP], [PP])': 2, '([VBZ], [S], [SADV])': 1, '([VBD], [NPEXT], [,], [PPTMP])': 1, '([VBG], [NP], [PPDIR])': 1, '([VBD], [PPLOCCLR], [SBAR])': 1, '([VBN], [PPCLR], [PPMNR])': 1, '([VBD], [PPCLR], [NP])': 1, '([VBN], [NP], [,], [SBARADV])': 1, '([VBP], [ADVPPRD], [PPTMP])': 1, \"([TO], [``], [VP], [''])\": 1, '([VBN], [NP], [PP], [PPPRP])': 1, '([VBD], [PPTMP], [PP], [PPTMP])': 1, '([VBP], [PPCLR], [PPCLR])': 1, '([VBZ], [PPLOC], [NPPRD])': 1, '([VBZ], [NPPRD], [ADVPTMP])': 1, '([VBN], [PPCLR], [PPLOC])': 1, '([VBN], [NP], [PPTMP])': 1, '([VBG], [NP], [ADVPTMP])': 1, '([VBP], [PP])': 1, '([VBD], [NPEXT], [NPTMP], [SBARTMP])': 1, '([VBD], [RB], [ADVPTMP], [VP])': 1, '([VBP], [PPMNR], [,], [SADV])': 1, '([VB], [ADJPPRD], [,], [SBARADV])': 1, '([VBD], [NP], [PPCLR], [SPRP])': 1, '([VBN], [ADJPPRD], [,], [PPLOC])': 1, '([VBD], [PPDIR])': 1, '([VBP], [ADVPMNR])': 1, '([VBD], [S], [PPTMP])': 1, '([VBP], [ADVPMNR], [SBAR])': 1, '([VB], [S], [ADVPMNR])': 1, '([VB], [NP], [PPMNR])': 1, '([VBN], [NP], [NP], [PPLOC])': 1, '([VBD], [NPPRD], [PP])': 1, '([VBP], [ADVPMNR], [PPCLR], [PP])': 1, \"([VB], [PPTMP], [''], [SBARADV])\": 1, '([VBP], [RB], [ADVPTMP], [VP])': 1, '([VBZ], [PRN], [SBAR])': 1, '([ADVP], [TO], [VP])': 1, '([VBN], [NP], [PP], [PPTMP])': 1, '([VBN], [NP], [PPMNR], [PPTMP])': 1, '([VBZ], [``], [S])': 1, '([ADVP], [VB], [NP])': 1, '([VB], [PPLOCPRD], [PPTMP])': 1, '([VBD], [NPEXT], [PP])': 1, '([VBG], [SBARADV])': 1, '([VBD], [NP], [PPPRP])': 1, '([VBZ], [SBAR])': 1, '([VBD], [NPCLR], [PPCLR])': 1, '([VB], [PPDIR], [PPLOC])': 1, '([VP], [CC], [VP], [SBARPRP])': 1, '([VBZ], [RB], [VP])': 1, '([VB], [PPTMP], [NP])': 1, '([ADVPMNR], [VBZ], [NP])': 1, '([VB], [PPCLR], [NP], [ADVPMNR])': 1, '([VBD], [NP], [PPDIR])': 1, '([VBD], [PPCLR], [PPTMP])': 1, '([VBN], [NP], [PPCLR], [SCLR])': 1, '([VB], [NP], [,], [PPLOC])': 1, '([VB], [PP], [,], [SADV])': 1, '([VBD], [NP], [PPCLR], [ADVPTMP])': 1, '([VBZ], [PRT])': 1, '([NN], [ADVPMNR], [PPCLR])': 1, '([VBG], [,], [``], [S])': 1, '([VB], [PRT], [PPTMP], [SBARADV])': 1, '([VBG], [NP], [PPTMP], [PP])': 1, '([VBP], [DT], [VP])': 1, '([VBG], [NPPRD])': 1, '([VBZ], [NP], [PPDIR], [PP])': 1, '([VBN], [ADVPTMP], [SBAR])': 1, '([VBD], [ADVPTMP], [SBAR])': 1, '([VB], [PPCLR], [SPRP])': 1, '([VBP], [RB], [ADJPPRD], [PPLOC])': 1, '([VBN], [PPPRD])': 1, '([VB], [NP], [PPPUT], [PPPRP])': 1, '([VBN], [PPCLR], [PPTMP], [PP])': 1, '([VBD], [NPPRD], [,], [ADVP])': 1, '([VBG], [NP], [ADVPCLR])': 1, '([VBZ], [ADJPPRD], [:], [NP])': 1, '([VBZ], [PRT], [S])': 1, '([VB], [PP], [NPPRD])': 1, '([VB], [CC], [VB], [NP])': 1, '([VBD], [NPTMP], [PPCLR], [PPLOC])': 1, '([ADVP], [VBG], [NP])': 1, '([VBP], [ADVPTMP], [VP])': 1, '([VBD], [NPEXT], [PPDIR], [PP])': 1, '([VBP], [PPDIR], [SADV])': 1, '([VB], [ADJPPRD])': 1, '([VBZ], [NP], [,], [PPMNR])': 1, '([VBD], [ADJPPRD], [SBARPRP])': 1, '([VBG], [PRN], [NP])': 1, '([VB], [ADVPCLR], [PPDIR])': 1, '([VBZ], [NP], [,], [SADV])': 1, '([VBN], [PPLOC], [PPTMP])': 1, '([VBD], [ADJPPRD], [PPTMP])': 1, '([VBG], [CC], [VBG], [SPRP])': 1, '([VBD], [PP], [PPCLR])': 1, '([VBN], [NP], [PPCLR], [VP])': 1, '([VBN], [NP], [ADJPADV])': 1, '([VBZ], [NP], [PPMNR])': 1, '([VBZ], [NP], [NP])': 1, '([VBG], [NP], [PPCLR], [PPCLR])': 2, '([VBD], [PPTMP], [NPTMP])': 1, '([MD], [ADVPTMP], [VP])': 1, '([ADVPTMP], [VBD], [PPCLR], [PPLOC])': 1, '([VBD], [NP], [PP], [PP])': 1, '([ADVPMNR], [VBN], [``], [SBAR])': 1, '([VBZ], [NP], [,], [SBAR])': 1, '([VB], [NP], [SADV])': 1, '([VBD], [NPTMP], [PPPRP])': 1, '([VB], [ADJPPRD], [PPTMP])': 1, '([PPLOC], [VBD], [NP])': 1, '([VBN], [PRT], [NP], [PPTMP])': 1, '([VP], [,], [CC], [VP])': 1, '([VBD], [SBAR], [,], [SADV])': 1, '([VB], [ADJPPRD], [S])': 2, '([VBD], [NP], [PPDIR], [PPLOC])': 1, '([VBZ], [NP], [S])': 1, '([VB], [PPCLR], [PPLOC], [PRN])': 1, '([VBD], [PPCLR], [,], [ADVP])': 1, '([VBG], [ADVP], [PPLOCCLR])': 1, '([JJ], [NP], [ADVPMNR], [SBARPRP])': 1, '([VBZ], [S], [,], [SADV])': 1, '([VBP], [PPCLR], [PPMNR])': 1, '([VB], [PPLOCCLR], [PPLOC])': 1, '([VBZ], [CC], [VBZ], [NP])': 1, '([VBD], [ADVPCLR], [PPTMP], [ADVPTMP])': 1, '([ADVPMNR], [VBP], [NP])': 1, '([VBG], [NPTMP], [PPLOC])': 1, '([VBD], [PPTMP], [VP])': 1, '([VBG], [ADVPDIR], [PP])': 1, '([VB], [CC], [VB])': 1, '([VBP], [NPPRD], [NPTMP])': 1, '([VBN], [ADVPTMP], [VP])': 1, '([VBD], [NPEXT], [PPDIR], [PPDIR])': 1, '([VBD], [PPDIR], [PP])': 1, '([VB], [ADVPMNR], [PP])': 1, '([VBN], [NP], [,], [PP])': 1, '([VBP], [NP], [,], [SBARADV])': 1, '([VBG], [PPCLR], [PPLOC])': 1, '([VBG], [ADVPMNR], [PPCLR])': 1, '([VBP], [ADVPTMP])': 1, '([VBD], [ADJPPRD], [PRN])': 1, '([VBD], [PPPRD], [NP])': 1, '([VBZ], [PPTMP], [SBAR])': 1, '([VBG], [PPLOC], [PPMNR])': 1, '([VB], [PPCLR], [PPCLR])': 1, '([VB], [PPCLR], [NP])': 1, '([VBN], [ADVPCLR], [PPLOC], [PPTMP])': 1, '([VBZ], [ADVPDIR])': 1, '([VBP], [NP], [SBARADV])': 1, '([VBG], [PPTMP])': 1, '([VBD], [PPLOCCLR])': 1, '([VBZ], [NPTTL])': 1, '([VB], [:], [SBARQ])': 1, '([VBP], [CC], [VBP], [NP])': 1, '([MD], [ADVP], [ADVPTMP], [VP])': 1, '([VBP], [PRT], [PP], [NPTMP])': 1, '([VB], [NP], [``], [SBARPRP])': 1, '([VB], [NP], [PPMNR], [ADVPMNR])': 1, '([VBP], [PPLOC])': 1, '([VBG], [NPTMP])': 2, '([VB], [NP], [ADVPLOC])': 1, '([VBN], [NP], [SPRPCLR])': 1, '([VBP], [NP], [,], [NPADV])': 1, '([VBZ], [PPLOC], [ADVPMNR])': 1, '([ADVPTMP], [MD], [VP])': 1, '([VBG], [NP], [PPLOC], [PP])': 1, '([VBD], [SBAR], [ADVPTMP])': 1, '([VBD], [NPEXT], [PPDIR])': 1, '([VB], [NP], [SBARTMP], [PRN])': 1, '([VBG], [NP], [ADVPTMP], [SBARPRP])': 1, '([VBD], [NP], [PPCLR])': 3, '([VBZ], [NP], [ADVPMNR])': 1, '([VBG], [PRT], [NP], [PPTMP])': 1, '([VB], [NPCLR], [PPCLR])': 1, '([VBZ], [:], [``], [S])': 1, '([VBN], [NPTTL], [SBARPRP])': 1, '([VBZ], [``], [UCPPRD])': 1, '([TO], [ADVP], [VP])': 1, '([VB], [NP], [PPBNF])': 1, '([VBZ], [RB])': 1, '([ADVP], [VBN], [NP])': 1, '([VBP], [SBARNOMPRD])': 1, '([VBG], [ADVPCLR])': 1, '([VB], [NP], [PP], [PPLOC])': 1, '([VBD], [NP], [PPDTV])': 1, '([VBG], [NP], [PPPUT])': 1, '([VB], [PPTMP], [SCLR])': 1, '([ADVP], [VBD], [PPDIR], [ADVPTMP])': 1, '([VBG], [NP], [SPRP])': 1, '([VBD], [PRT], [NPTMP], [PPCLR])': 1, '([VB], [RRB], [NPPRD])': 1, '([VB], [PRT], [SPRP])': 1, '([VBZ], [NPPRD], [ADVPLOC])': 1, '([VBD], [NP], [SPRP], [ADVPTMP])': 1, '([VB], [PPLOCPRD], [PPLOC])': 1, '([VBG], [NP], [PPTMP], [S])': 1, '([VB], [ADVP])': 1, '([VB], [PRT], [NP], [SBARTMP])': 1, '([VBG], [SBARNOM])': 1, '([VBN], [S], [ADVPTMPCLR])': 1, '([VBZ], [PPCLR], [,], [SBARADV])': 1, '([VBD], [PRT], [PP])': 1, '([VBZ], [SINV])': 1, '([VP], [CC], [RB], [VP])': 1, '([VBD], [ADVPDIR])': 1, '([VB], [PPDIR], [NPTMP])': 1, '([VB], [SBARCLR])': 1, '([VBD], [NP], [PRT], [PPCLR])': 1, '([VBN], [SCLR])': 1, '([IN], [S])': 1, '([VBN], [ADJPPRD], [ADVP])': 1, '([VBD], [PPTMP], [PPCLR])': 1, '([VBD], [PPLOC], [,], [SBARADV])': 1, '([VB], [NP], [PPLOC], [NPTMP])': 1, '([VBZ], [PPLOCPRD], [ADVPPRP])': 1, '([VB], [PPPRP])': 1, '([VBD], [PPPRD])': 1, '([VBP], [NP], [PPCLR])': 3, '([VBD], [RB], [ADJPPRD], [PPPRP])': 1, '([VBZ], [PPLOCCLR], [,], [ADVP])': 1, '([VBD], [ADJPPRD], [:], [PPTMP])': 1, '([VBZ], [RB], [NPPRD], [PPLOC])': 1, '([VB], [PRN], [SBAR])': 1, '([VBD], [PPTMP])': 1, '([VBD], [NP], [PPCLR], [VP])': 1, '([VBD], [ADVPLOC], [PPTMP])': 1, '([ADVPMNR], [VBG], [NP])': 1, '([VB], [NP], [PPPUT])': 1, '([VB], [ADVPDIR])': 1, '([TO], [VP])': 1, '([VBD], [PPCLR], [SPRP], [NPTMP])': 1, '([VBZ], [PPCLR], [PP])': 1, '([VBD], [ADVPLOCPRD])': 1, '([VBN], [NP], [NP], [PPTMP])': 1, '([VB], [SPRD])': 1, '([VBN], [PRT], [NP], [PPPRP])': 1, '([VBG], [PPCLR], [,], [VP])': 1, '([VBG], [NP], [PPDIR], [SBAR])': 1, '([VBD], [ADJPPRD], [PPTMP], [PPTMP])': 1, '([VBZ], [NPTMP])': 1, '([VBZ], [ADVPMNR], [SCLR])': 1, '([VBP], [NP], [NPADV])': 1, '([VBD], [NP], [PPCLR], [PPLOC])': 1, '([VBN], [PPDIR], [PPDIR])': 1, '([VBZ], [RB], [ADVPLOCPRD])': 1, '([ADVPTMP], [VBD], [PPCLR], [PPTMP])': 1, '([ADVPTMP], [VBZ], [S])': 1, '([VBN], [NP], [NP])': 1, '([VBN], [NP], [ADVPCLR], [PP])': 1, '([VP], [PRN])': 1, '([VBN], [NP], [PPLOC], [ADVPMNR])': 1, '([VBD], [ADVPCLR])': 1, '([VBZ], [NP], [ADVPLOC])': 1, '([VB], [ADVPMNR], [SBARADV])': 1, '([VBD], [S], [PP], [PPTMP])': 1, '([VBG], [NP], [NPEXT])': 1, '([VBN], [ADVPDIR])': 1, '([VB], [NP], [SPRPCLR])': 1, '([VB], [NP], [ADVPTMP])': 1, '([VB], [ADJPPRD], [,], [SADV])': 1, '([VBN], [NP], [PPEXT])': 1, '([VBG], [ADVPMNR], [NPTMP])': 1, '([VBN], [PP], [S])': 1, '([VB], [PP], [PPLOC])': 1, '([VBD], [,], [``], [NPTTL])': 1, '([ADVPMNR], [VBN])': 1, '([VBP], [NPPRD], [,], [PP])': 1, '([VBZ], [PRT], [NP])': 1, '([VB], [PPPRD])': 1, '([VP], [CC], [,], [VP])': 1, '([VBZ], [NP])': 1, '([VB], [NP], [STMP])': 1, '([VBD], [SBAR], [NPTMP])': 1, '([VBG], [PP], [PPCLR])': 1, '([VBN], [NP], [NPADV])': 1, '([VB], [NP], [ADVPDIR], [PPTMP])': 1, '([VBN], [ADVPEXT], [PPTMP])': 1, '([VBG], [PPLOC])': 1, '([VB], [ADVP], [PPCLR])': 1, '([VBD], [NP], [NPTMP])': 1, '([VB], [NP], [PPDIRCLR])': 1, '([VBG], [NP], [ADVP])': 1, '([VBD], [NP], [NPTMP], [SBARPRP])': 1, '([VBP], [S])': 1, '([MD], [ADVP], [VP])': 1, '([VB], [PRT], [ADVPMNR])': 1, '([VBD], [SBARNOM], [,], [SPRP])': 1, '([VBN], [NPTMP], [S])': 1, '([VB], [VP])': 1, '([VBZ], [ADVP], [NPPRD], [PP])': 1, '([VBZ], [NPPRD], [ADVPCLR], [S])': 1, '([VB], [PRT], [NP], [PP])': 1, '([VBD], [NP], [,], [NP])': 1, '([VBN], [NP], [SBAR])': 2, '([VBG], [SBAR])': 2, '([VB], [RB], [VP])': 1, '([VB], [PPDIR], [PPPRP])': 1, '([VBG], [PPMNR], [ADVPTMP])': 1, '([VBD], [NP], [PPTMP], [SPRP])': 1, '([VBD], [PPCLR], [NPTMP])': 1, '([VBD], [ADJPPRD])': 2, '([VB], [ADJPPRD], [PPLOC])': 1, '([VBD], [NPTMP], [SBAR])': 1, '([VBD], [ADVPTMP], [VP])': 1, '([ADVPTMP], [VBN], [NP], [PPCLR])': 1, '([VBD], [PPTMP], [SBARTMP])': 1, '([VB], [NP], [:], [PPTMP])': 1, '([VB], [NP], [PPCLR], [PPMNR])': 1, \"([VB], [''], [PPLOC])\": 1, '([VBP], [PPMNR])': 1, '([VBZ], [``], [NPPRD])': 1, '([ADVP], [VBG], [S])': 1, '([VBZ], [RB], [ADVPTMP], [VP])': 1, '([VBG], [S], [SBARADV])': 1, '([VBP], [NP], [SCLR])': 1, '([VBZ], [NP], [ADVPTMP])': 1, '([VBG], [NP], [,], [SADV])': 1, '([VBD], [NP], [ADVPTMP])': 1, '([VBD], [ADVPPRD], [PP])': 1, '([VBG], [NP], [PRT], [PPMNR])': 1, '([VB], [NP], [PPTMP], [PPTMP])': 1, '([VBD], [PPDIR], [NPTMP])': 1, '([VBG], [NP], [PRT], [PPTMP])': 1, '([VBN], [PRT])': 1, '([ADVPMNR], [VBN], [PPLOCCLR])': 1, '([VBD], [PPCLR], [PPLOC])': 1, '([VBD], [PPTMP], [S])': 1, '([VBZ], [PRT], [PPLOCCLR])': 1, '([VBG], [NP], [SBARADV])': 1, '([VBN], [NPTMP], [PP])': 1, '([MD], [S])': 1, '([VBZ], [ADJPPRD], [SBARPRP])': 1, '([VB], [NPPRD], [ADVPTMP])': 1, '([VBP], [NP], [ADVPMNR], [SBARTMP])': 1, '([VBN], [NP], [PPPRP])': 1, '([VBG], [:], [``], [S])': 2, '([VBG], [PRT], [PPLOC], [SBARMNR])': 1, '([VBD], [PRT], [PPTMP], [NP])': 1, '([ADVPTMP], [VBG], [S])': 1, \"([PP], [''], [VB], [NP])\": 1, '([VBZ], [PPLOC], [NPTMP])': 1, '([VBP], [PPCLR], [ADVPTMP])': 1, '([ADVP], [LRB], [MD], [VP])': 1, '([VB], [NPMNR])': 1, '([NN], [PPLOC], [NPTMP])': 1, '([VB], [PPCLR], [ADVPMNR])': 1, '([VBP], [ADVPTMP], [PPPRD], [PP])': 1, '([VB], [UCP])': 1, '([VBG], [NP], [PPLOC], [PPLOC])': 1, '([VBP], [ADJPPRD], [PPCLR])': 1, '([VBD], [SPRP])': 1, '([VB], [ADVPTMP])': 1, '([ADVPMNR], [VB], [NP], [SBARADV])': 1, '([VBD], [SBARPRP])': 1, '([VB], [PRT])': 1, '([VBG], [PPLOC], [ADVPTMP])': 1, '([MD], [``], [VP])': 1, '([VBN], [NPPRD], [,], [SADV])': 1, '([VBD], [PPCLR], [SBAR])': 1, '([VBN], [NP], [PPLGS], [PPCLR])': 1, '([VBD], [NP], [PPDIR], [SBAR])': 1, '([VBN], [ADJPPRD], [NPTMP], [PP])': 1, '([VBD], [PPCLR], [NPTMP], [SPRP])': 1, '([VBD], [NP], [``], [PP])': 1, '([VBD], [ADVP], [ADVPTMP])': 1, '([VBD], [ADVPDIR], [PPTMP])': 1, '([VBD], [PPPRD], [PPTMP])': 1, '([VBN], [PPPRP])': 1, '([VBP], [NP], [ADVPMNR])': 1, '([VBN], [NP], [PRT], [PP])': 1, '([VBN], [ADVP])': 1, '([VBD], [NP], [PPBNF])': 1, '([VBZ], [RB], [ADJPPRD], [S])': 1, '([VBP], [ADJPPRD], [SBARTMP])': 1, '([VBD], [ADVP], [NPPRD])': 1, '([VBD], [ADVP], [SPRP])': 1, '([VP], [:], [CC], [VP])': 1, '([VBD], [NP], [,], [ADVP])': 1, '([VBZ], [NP], [``], [NP])': 1, '([VBZ], [NP], [PPCLR], [PPLOC])': 1, '([VBG], [NP], [NP], [SBARTMP])': 1, '([VBZ], [NPPRD], [,], [SADV])': 1, '([VBD], [NP], [ADVPLOC])': 1, '([ADVPMNR], [VBD], [NPPRD])': 1, '([VBP], [RB], [ADJPPRD])': 1, '([VBN], [PP], [PP], [ADVPTMP])': 1, '([VBD], [NPPRD], [ADVPTMP])': 1, '([VBP], [NP], [,], [PP])': 1, '([VBD], [PPCLR], [PP])': 1, '([NONE], [,], [SADV])': 1, '([VBD], [NPCLR], [ADVPTMP])': 1, '([VBG], [NP], [PPTMP], [PRN])': 1, '([VBG], [ADVPMNR])': 1, '([VB], [S], [NPTMP])': 1, '([VBN], [NP], [NPTMP], [PP])': 1, '([VBZ], [NPPRD])': 1, '([VBD], [SBARTMP])': 1, '([VBP], [PRT], [NP])': 1, '([ADVPTMP], [VBG], [SBARADV])': 1, '([VBG], [PPLOC], [,], [SADV])': 1, '([VBZ], [``], [INTJ])': 1, '([VBZ], [S], [,], [SBARADV])': 1, '([VB], [ADVPMNR], [NP])': 1, '([VBP], [PRT], [SBAR])': 1, '([VBZ], [PPDIR])': 1, '([VBD], [NP], [PPCLR], [ADVPLOC])': 1, '([VBG], [ADVPMNR], [PP])': 1, '([VB], [NP], [PPDIR])': 1, '([VBD], [:], [SBAR])': 1, '([VB], [NP], [SBARMNR])': 1, '([VB], [PPLOCPRD], [SBARTMP])': 1, '([VBD], [ADJPPRD], [ADVPTMP])': 1, '([VBG], [PPCLR])': 1, '([VB], [NP], [ADVP])': 1, '([VBG], [PRT])': 1, '([VBD], [PPPRP])': 1, '([VBG], [PRN], [S])': 1, '([VBG], [PRT], [NP], [SBARADV])': 1, '([VBZ], [PP], [NPPRD])': 1, '([VBG], [ADVPDIR], [SPRP])': 1, '([VBD], [PPCLR], [PPCLR])': 1, '([VBD], [RB], [ADVP], [VP])': 1, '([VB], [NPPRD], [,], [SBARADV])': 1, '([VBN], [NP], [PPCLR], [PPPRP])': 1, '([VBN], [PPCLRLOC], [SPRP])': 1, '([VBD], [NPPRD], [SBARTMP])': 1, '([VBD], [PPLOCPRD], [,], [ADVP])': 1, '([VB], [,], [``], [S])': 1, '([VBD], [S], [,], [PPLOC])': 1, '([VBN], [NP], [ADVPMNR], [PP])': 1, '([VBP], [ADJPPRD], [SBARADV])': 1, '([ADVPMNR], [VBD], [NP], [SBARTMP])': 1, '([MD], [PRN], [ADVP], [VP])': 1, '([VBD], [NPTMP], [PPLOC])': 1, '([VBP], [ADJPPRD], [,], [SADV])': 1, '([VBN], [NP], [NP], [ADVPLOC])': 1, '([VBN], [VP])': 1, '([VBP], [NP], [SPRP])': 1, '([VBD], [SBARPRD])': 1, '([VB], [NP], [PPLOC], [PPTMP])': 1, \"([VB], [''], [SBAR])\": 1, '([VBG], [ADVPMNR], [PPLOC])': 1, '([VB], [NP], [SBARTMP])': 1, '([ADVP], [VBN], [NP], [PP])': 1, '([VBD], [ADVPDIR], [NPTMP], [PP])': 1, '([VBZ], [FRAG])': 1, '([VBD], [SBAR], [PPTMP])': 1, '([VBD], [NP], [PP], [PPTMP])': 1, '([ADVPMNR], [VBP], [SBARNOM])': 1, '([VBG], [NP], [PPTMP])': 1, '([VB], [ADJPCLR])': 1, '([VBP], [ADVPLOCPRD])': 1, '([VBN], [PPCLR], [PP])': 1, \"([VBZ], [''], [PP])\": 1, '([VBD], [NP], [PPCLR], [PPTMP])': 1, '([VBZ], [NP], [PPLOCCLR])': 1, '([VBP], [NPPRD], [PPLOC])': 1, '([VBD], [NP], [PPEXT])': 1, '([VBZ], [NP], [PP], [PPLOC])': 1, '([VBN], [NP], [ADVPTMP], [SPRP])': 1, '([VB], [SBARNOM])': 1, '([VB], [NPPRD], [PPLOC])': 1, '([VBD], [NPPRD])': 1, '([VBN], [S], [SBARPRP])': 1, '([VBG], [PPTMP], [S])': 1, '([VBN], [NP], [ADVPTMP], [PP])': 1, '([VBP], [PPDIR])': 1, '([VBD], [NPPRD], [NPTMP], [PP])': 1, '([VBG], [NP], [NPTMP])': 1, '([VBD], [PPDIR], [ADVPTMP])': 1, '([VBD], [PPTMPPRD])': 1, '([ADVPTMP], [VB], [PRT], [NP])': 1, '([VB], [NP], [PPTMP], [SBARPRP])': 1, '([VBZ], [NPPRD], [ADVP])': 1, '([VBD], [NPADV], [NPTMP], [PPTMP])': 1, '([VBZ], [RB], [ADVPPRD])': 1, '([VBD], [NPADV], [NPTMP], [SBARTMP])': 1, '([VBZ], [RB], [SPRD])': 1, '([VBD], [PPLOCCLR], [NPTMP], [SPRP])': 1, '([VBD], [ADVPLOCCLR], [PPLOC])': 1, '([VBG], [NP], [PPPRP])': 1, '([VBN], [S], [ADVP])': 1, '([NONE],)': 1, '([VBG], [ADVPCLR], [SPRP])': 1, '([VBZ], [NP], [PP])': 2, '([VBZ], [PPCLR], [NP])': 1, '([VBG], [ADVP], [NPTMP])': 1, '([VBG], [PPPRP], [PPDIR], [PPTMP])': 1, '([JJ], [S])': 1, '([VB], [PPCLR], [PPMNR])': 1, '([VB], [NP], [PPCLR], [SBARTMP])': 1, '([VB], [PPTMP], [SPRPCLR])': 1, '([VB], [NP], [``], [SADV])': 1, '([VP], [CC], [VP], [SPRP])': 1, '([VBP], [PRN], [VP])': 1, '([NN], [S])': 1, '([VBD], [NP], [S], [ADVPTMP])': 1, '([VBG], [ADVP])': 1, '([VBP], [S], [ADVPTMP])': 1, '([VBZ], [VP])': 1, '([ADVP], [VBP], [NP])': 1, '([VBN], [NP], [PPTMP], [PPCLR])': 1, '([VBG], [SBARTMP])': 1, '([VBZ], [RB], [ADJPPRD], [SBARADV])': 1, '([VBP], [PRT], [PPDIR])': 1, '([VBN], [PPCLR], [``], [NP])': 1, '([VBD], [PPTMP], [SBAR])': 1, '([VBD], [PPLOC], [SBAR])': 2, '([VBN], [NP], [PPDIR], [PP])': 1, '([MD], [VP])': 1, '([VP], [,], [RB], [VP])': 1, '([VBP], [S], [SBARADV])': 1, '([VBG], [NP], [PP])': 2, '([VBP], [PPCLR], [PP])': 1, '([VB], [PPCLR])': 2, '([VB], [PPLOCPRD], [PPPRP])': 1, '([VB], [S], [SBARADV])': 1, '([VBD], [PPCLR], [SPRP])': 1, '([VP], [CC], [``], [VP])': 1, '([VBN], [NP], [PP], [PPLOC])': 1, '([VB],)': 1, '([VBN], [ADJPPRD], [SBARTMP])': 1, '([VBD], [S], [ADVPTMP])': 1, '([VBN], [NPPRD])': 1, '([VBN], [NP], [PPTMP], [SBARPRP])': 1, '([VBP], [ADVP])': 1, '([VB], [NP], [PPCLR], [NPTMP])': 1, '([VBP], [VP])': 1, '([VBD], [RB], [S])': 1, '([VBD], [NP], [ADVP])': 1, '([ADVPLOC], [VP], [CC], [VP])': 1, '([VBD], [RB], [PRN], [VP])': 1, '([VBG], [CC], [VBG], [NP])': 1, '([VBG], [PPMNR], [NP])': 1, '([VBN], [NP], [PRT], [PPMNR])': 1, '([VBG], [PPCLR], [UCPTMP])': 1, '([VBN], [PPLOCPRD])': 1, '([NPTMP], [VBD], [NP])': 1, '([VB], [SBAR], [ADVPTMP])': 1, '([VBZ], [``], [ADJPPRD], [S])': 1, '([VB], [PPPRDLOC], [PPTMP], [SPRP])': 1, '([VBD], [PPLOCCLR], [SBARTMP])': 1, '([VBN], [NP], [PPLOC], [PPPRP])': 1, '([VBP], [SBAR])': 1, '([VBN], [ADVPPRDLOC], [PPTMP])': 1, '([VBG], [SBARPRP])': 1, '([VBP], [PPCLR])': 1, '([VB], [PPLOC], [ADVPPRP])': 1, '([VBG], [PPCLR], [PPTMP])': 1, '([VBD], [ADJPPRD], [SBAR])': 2, '([VBG], [ADVPDIR], [PPDIR])': 1, '([ADVPMNR], [VBP], [NP], [PPCLR])': 1, '([VBD], [NP], [PPMNR])': 1, '([VP], [CC], [ADVP], [VP])': 1, '([VB], [NP], [ADVPMNR])': 1, '([VBG], [ADVP], [SBAR])': 1, '([VBZ], [ADJPPRD], [PP])': 2, '([VBP], [PPLOCPRD])': 1, '([TO], [``], [VP])': 1, '([VBD], [ADVPDIR], [PPDIR])': 1, '([VBN], [S], [PP])': 1, '([VBD], [S], [PPLOC], [SBARTMP])': 1, '([VBN], [ADJPPRD], [,], [SBARADV])': 1, '([VBN], [PRT], [PPCLR])': 1, '([VBP], [ADJPPRD])': 1, '([VBD], [NPPRD], [NPTMP])': 1, '([VB], [PPLOCPRD])': 1, '([VBN], [PP], [ADVPLOC], [PPCLR])': 1, '([VBD], [ADVPMNR], [ADVP])': 1, '([VB], [NP], [PPCLR], [SBAR])': 1, '([VBD], [PPMNR], [SADV])': 1, '([VBZ], [RB], [ADJPPRD], [SBAR])': 1, '([VBZ], [PPDIR], [ADVPTMP], [PPDIR])': 1, '([VBN], [NP], [PPLOC], [PPCLR])': 1, '([VBD], [S], [PPMNR])': 1, '([VBD], [NP], [PP], [PPLOC])': 1, '([ADVPMNR], [VB], [PP], [ADVPTMP])': 1, '([VBD], [PPPRD], [PP])': 1, '([VBN], [NPSBJ], [S])': 1, '([VBN], [NP], [ADVPTMP], [PPMNR])': 1, '([VBZ], [PPDIR], [ADVPTMP])': 1, '([VB], [SBARADV])': 1, '([VBG], [VP])': 1, '([VBN], [NP], [ADVPLOC])': 1, '([VBD], [PPCLR], [,], [SBARADV])': 1, '([VB], [SBAR])': 1, '([VB], [S], [PPTMP])': 1, '([VBD], [SBARNOM])': 1, '([VBZ], [ADVPPRD], [PPTMP])': 1, '([IN], [NP], [PPTMP])': 1, '([VBN], [NP], [NP], [ADVPTMP])': 1, '([VBN], [NP], [ADVPMNR], [PPLOC])': 1, '([VBZ], [PPTMP])': 1, '([VBD], [NP], [PPLOC], [ADVPTMP])': 1, '([VBP], [ADVP], [NPPRD])': 1, '([VB], [``], [NP])': 1, '([VBP], [ADVPMNR], [PP])': 1, '([VB], [S], [PPMNR])': 1, '([VBD], [NP], [SPRP])': 1, '([VBN], [SBAR])': 1, '([VBD], [PPLOC], [PPLOC])': 1, '([VBD], [ADVP], [ADJPPRD])': 1, '([VB], [PPTMP])': 1, '([VB], [ADVP], [PPMNR])': 1, '([VB], [ADVPLOC])': 1, '([VBD], [RB], [ADVP])': 1, '([VBG], [PRT], [NP], [SCLR])': 1, '([VBG], [PPCLR], [SCLR])': 1, '([VBP], [PPCLR], [ADVPTMP], [NP])': 1, '([VBZ], [ADVPTMP], [ADJPPRD])': 1, '([VBP], [``], [VP])': 1, '([VBG], [ADVPMNR], [:], [SBARADV])': 1, '([NONE], [NP])': 1, '([VBG], [ADVPTMP], [NP])': 1, '([VBG], [NP], [ADVPMNR], [PPLOC])': 1, '([VBD], [ADJP])': 1, '([NNS], [NP], [PPDIR])': 1, '([VBD], [S], [SBARPRP])': 1, '([VBG], [PP], [SBAR])': 1, '([VBP], [ADVPDIR])': 1, '([VBP], [SBAR], [,], [PP])': 1, '([VBN], [NP])': 1, '([VBN], [NP], [ADVPTMP], [SBARADV])': 1, '([VBZ], [``], [ADJPPRD])': 1, '([VBP], [SBARPRP])': 1, '([VB], [PPCLR], [NPTMP])': 1, '([ADVPTMP], [VBG], [PPCLR])': 1, '([VB], [NP], [PRN], [S])': 1, '([VBP], [SBAR], [ADVPTMP])': 1, '([VBP], [NPPRD], [PRN])': 1, '([VBD], [ADVPMNR])': 1, '([VB], [ADJPPRD], [SBARTMP])': 1, '([VBG], [NP], [PPLOCCLR])': 1, '([ADVPMNR], [VBD], [NP], [PPLOC])': 1, '([ADVPMNR], [VBN], [NP], [NP])': 1, '([VBD], [PPCLRLOC], [PPDIR])': 1, '([VBD], [NPTMP])': 1, '([VBD], [NP], [PRN], [SBARPRP])': 1, '([VB], [NP], [PPCLR], [ADVPMNR])': 1, '([VBN], [NP], [PPDIR], [PPLOC])': 1, \"([ADVPMNR], [VBP], [''], [S])\": 1, '([VB], [PPCLR], [PPTMP])': 1, '([PRN], [VBN], [NP])': 1, '([VBD], [ADVP], [VP])': 1, '([VBP], [RB], [ADJPPRD], [ADVP])': 1, '([VBP], [ADJPPRD], [PRN], [SADV])': 1, '([VBD], [PRT], [ADVPMNR], [PPTMP])': 1, '([ADVP], [VBP], [SBAR])': 1, '([VBN], [NP], [ADVPTMP], [PPLOC])': 1, '([VBN], [``], [ADJPPRD])': 1, '([VBN], [PPTMP], [,], [SBAR])': 1, '([VB], [NP], [,], [NP])': 1, '([VBP], [PRT], [NP], [PPCLR])': 1, '([VBD], [NPPRD], [SBAR])': 1, '([VBZ], [UCPPRP])': 1, '([VBG], [PRN], [SBARPRP])': 1, '([VBZ], [RB], [ADVP], [VP])': 1, '([VBD], [PPTMPCLR], [PP])': 1, '([ADVPMNR], [VBN], [NP], [PP])': 1, '([VBP], [ADVPTMP], [ADJPPRD])': 1, '([VB], [NPPRD])': 1, '([VBP], [SCLR])': 1, '([VBG], [NP], [,], [ADVPCLR])': 1, '([MD], [RB], [ADVP], [VP])': 1, '([VBG], [NP], [PPLOC])': 1, '([VBZ], [NPADV], [VP])': 1, '([VBD], [NPEXT])': 1, '([VBN], [ADJPPRD], [PPLOC])': 1, '([VBZ], [RB], [ADJPPRD], [PP])': 1, '([VBZ], [SBAR], [,], [SADV])': 1, '([VBP], [PPTMP])': 1, '([VB], [NPTMP])': 1, '([VBD], [PPEXT], [PPDIR], [PP])': 1, '([VBP], [NP], [ADVPLOC])': 1, '([VBG], [PPDIR], [,], [SADV])': 1, '([VBD], [NP], [PPTMP], [PP])': 1, '([ADVP], [VBN], [ADVPMNR], [PPTMP])': 1, '([VB], [ADJP], [,], [PP])': 1, '([VBZ], [SBAR], [SBARPRP])': 1, '([VBN], [NP], [SINV])': 1, '([VB], [NP], [SCLR])': 1, '([VB], [PRT], [PPCLR])': 1, '([VBG], [NP], [SADV])': 1, '([VBD], [PPMNR], [PPCLR])': 1, '([VBD], [PPDIR], [,], [SADV])': 1, '([VP], [PRN], [SBARPRP])': 1, '([VBD], [PRT], [PPCLR])': 1, '([VBD], [NPEXT], [SCLR])': 1, '([VBD],)': 1, '([VB], [PRT], [PP])': 1, '([NNS], [NP], [PPCLR])': 1, '([MD], [ADVPMNR], [VB], [NP])': 1, '([VB], [NP], [PPDIRCLR], [PPPRP])': 1, '([VBD], [NPEXT], [PPDIR], [PPTMP])': 1, '([NP], [PPTMP])': 1, '([VBG], [SADV], [SPRP])': 1, '([ADVP], [VBD], [SBAR])': 1, '([VBD], [PPCLR], [:], [PP])': 1, '([VBG], [SPRP])': 1, '([VB], [S], [SBARTMP])': 1, '([VBN], [NP], [PPLOC], [ADVPTMP])': 1, '([VBZ], [PPCLR], [PPTMP])': 1, '([VB], [NP], [SBARPRP])': 1, '([VBG], [NPTMPCLR])': 1, '([VB], [PPDIR], [PPDIR])': 1, '([VB], [RB], [ADVP], [VP])': 1, '([VBD], [SBAR], [PPLOC])': 1, '([NNS], [NP])': 1, '([VBN], [CC], [VBN], [NP])': 1, '([VBD], [PP])': 1, '([ADVPMNR], [VBG], [PPCLR])': 1, '([VBZ], [S])': 1, '([VBD], [S], [SBARADV])': 1, '([VBD], [SBARQ])': 1, '([VBN], [ADJPPRD], [PPTMP])': 1, '([VBD], [NP], [NPTMPCLR], [PPMNR])': 1, '([VB], [PPLOC], [NPTMP], [SPRP])': 1, '([VBZ], [NPPRD], [SBARADV])': 1, '([VBN], [NP], [SBARMNR])': 1, '([VBD], [NP], [PPDIR], [PPDIR])': 1, '([VB], [ADJPPRD], [PP])': 1, '([VBZ], [NPPRD], [,], [SBAR])': 1, '([VB], [PPTMPCLR])': 1, '([VBZ], [RB], [PPLOCPRD])': 1, '([VBD], [ADVPTMP], [NPPRD])': 1, '([VBD], [PRT], [S])': 1, '([VBZ], [SBARNOM])': 1, '([VBZ], [NP], [PPTMP])': 1, '([VBD], [ADJP], [PPCLR])': 1, '([VBN], [NP], [PPCLR], [ADVPMNR])': 1, '([VBG], [PPDIR], [,], [PP])': 1, '([VB], [ADVPMNR], [PPLOC])': 1, '([VB], [PPCLR], [SBAR])': 1, '([VBN], [PRT], [NP], [PPCLR])': 1, '([VBZ], [NPPRD], [PPLOC], [ADVPTMP])': 1, '([ADVPMNR], [VBN], [NP], [SBARTMP])': 1, '([VBG], [NP], [ADVPLOC])': 1, '([VP],)': 1, '([VBN], [NP], [PPTMP], [PPMNR])': 1, '([VBN], [PPCLR])': 1, '([VBZ], [PPMNRCLR], [SBARPRP])': 1, '([VBD], [NP], [``], [PPMNR])': 1, '([VBN], [NP], [PPMNR], [PP])': 1, '([VBD], [NP], [PP], [SBARPRP])': 1, '([VBD], [NP], [SBARTMP])': 1, '([VBD], [NP], [NPTMP], [PPMNR])': 1, '([VBD], [PPCLR], [PPMNR])': 1, '([VBP], [NP], [NP])': 1, '([VB], [NP])': 1, '([VBN], [NP], [,], [SADV])': 1, '([VBZ], [PPCLR], [,], [SBARPRP])': 1, '([VBD], [PRT], [PPLOC], [NPTMP])': 1, '([VBD], [,], [``], [S])': 1, '([VBP], [ADVPLOC])': 1, '([VB], [NPTMPCLR])': 1, '([VBZ], [,], [``], [FRAG])': 1, '([VBN], [NP], [SADV])': 1, '([ADVPMNR], [VBD], [PPLOC], [SBAR])': 1, '([VB], [ADVPMNR], [SBAR])': 1, '([VB], [NP], [NPADV])': 1, '([VBD], [S], [,], [SADV])': 1, '([ADVP], [VBD], [ADVPCLR])': 1, '([VB], [NP], [``], [SBARTMP])': 1, '([VB], [PRT], [PPLOC])': 1, '([VBD], [PPLOC])': 1, '([VBD], [NP], [PRN], [SPRP])': 1, '([VB], [,], [ADVP])': 1, '([VBN], [NP], [ADVP], [PPTMP])': 1, '([VBG], [``], [NPTTL])': 1, '([VBG], [PPMNR])': 1, '([VBG], [S])': 1, '([VBP], [ADVPMNR], [ADVPTMP])': 1, '([VBD], [ADVPCLR], [PPTMP], [PPTMP])': 1, '([VBP], [NPCLR])': 1, '([VBZ], [``], [NP])': 1, '([VBD], [PPPRD], [PPLOC])': 1, '([VB], [NP], [PRT])': 1, '([MD], [ADVP], [RB], [VP])': 1, '([VB], [NP], [PRT], [PPCLR])': 1, '([VB], [ADVPPRP])': 1, '([VBP], [ADVP], [VP])': 1, '([VB], [NP], [PPPRP])': 1, '([ADVPTMP], [VBG], [ADVPDIR])': 1, '([VBZ], [SBARTMP])': 1, '([VBD], [S], [PPTMP], [NPTMP])': 1, '([VBZ], [NP], [SPRP])': 1, '([VBN], [NP], [PP], [PPCLR])': 2, '([ADVP], [VBZ], [NP], [PPCLR])': 1, '([VBD], [NP], [SBARNOM])': 1, '([NN], [PPCLR])': 1, '([VBN], [NP], [SBARTMP])': 1, '([VBN], [ADVPDIR], [PPTMP])': 1, '([VBZ], [PPPRD])': 1, '([VBD], [ADVPTMP], [PPPRD], [ADVPTMP])': 1, '([VBD], [ADVPMNR], [PPCLR])': 1, '([VBG], [NPEXT], [PPTMP])': 1, '([VBD], [S], [PPLOC])': 1, '([VBD], [NP], [PRT])': 1, '([VBG], [ADVPCLR], [ADVPTMP], [SPRP])': 1, '([VBP], [ADVPLOC], [PPCLR])': 1, '([VBD], [PPLOC], [NPTMP], [SBAR])': 1, '([MD], [ADVPMNR], [VP])': 1, '([VB], [PRT], [NP], [SPRP])': 1, '([VBN], [S], [ADJPADV])': 1, '([VBG], [PPPRD])': 1, '([VBN], [NP], [PRN], [SBARPRP])': 1, '([VBZ], [NPPRD], [PP])': 1, '([VP], [CC], [VP], [NP])': 1, '([VBZ], [,], [``], [S])': 1, '([VBD], [PPLOC], [PPTMP])': 1, '([VBP], [NP], [PPPRP])': 1, '([VBZ], [PPCLR], [ADVPTMP])': 1, '([VBZ], [SBARQ])': 1, '([VBD], [``], [ADJPPRD])': 1, '([VBD], [NPEXT], [NPTMP], [ADVPTMP])': 1, '([VBD], [ADVP], [PPTMP])': 1, '([VBZ], [NP], [PPCLR], [SPRP])': 1, '([VBD], [ADVPCLR], [PPDIR], [PPDIR])': 1, '([VB], [NPEXT], [PPTMP])': 1, '([VBD], [RB], [ADJPPRD], [SBARNOM])': 1, '([VB], [NPEXT], [NPTMP], [SCLR])': 1, '([VB], [ADVPCLR])': 1, '([VB], [PP], [ADVPMNR])': 1, '([VBN], [NP], [NPMNR])': 1, '([VBD], [PRT])': 1, '([VBN], [NP], [NPEXT])': 1, '([VB], [S], [NPADV])': 1, '([VBN],)': 1, '([VBZ], [ADJPPRD], [SPRP])': 1, '([VBN], [SCLR], [PPTMP])': 1, '([VBN], [NP], [NPTMP])': 1, '([VBD], [NPPRD], [,], [PP])': 1, '([VBN], [NP], [PRT])': 1, '([VBN], [ADVPDIR], [ADVPTMP])': 1, '([VBG], [NP], [PPBNF])': 1, '([VBZ], [PP], [NP])': 1, '([VB], [PPTMP], [SBARADV])': 1, '([NONE], [ADVP])': 1, '([VBN], [NP], [ADVP])': 1, '([VBD], [PPTMP], [PPLOC])': 1, '([VBZ], [PPTMPCLR])': 1, '([ADVPTMP], [VBD], [NP])': 1, '([VBZ], [RB], [NPPRD])': 1, '([VBD], [PRT], [UCP])': 1, '([VBD], [PPCLR])': 1, '([VB], [PPCLR], [SBARADV])': 1, '([VBD], [SPRD])': 1, '([VBZ], [ADVPPRD])': 1, '([VBZ], [SBARPRD])': 1, '([VBD], [PPLOC], [PPCLR])': 1, '([RB], [VBG], [NP])': 1, \"([VBD], [PRT], [''], [SBARPRP])\": 1, '([VBN], [NP], [PPDTV])': 1, '([VBD], [NPADV], [SBARADV])': 1, '([VP], [CC], [VP], [ADVPLOC])': 1, '([VBD], [ADVPMNR], [SBARPRP])': 1, '([VBZ], [PPLOC], [SBARADV])': 1, '([VBG], [``], [NP])': 1, '([VB], [NP], [NP])': 1, '([VBD], [NP], [,], [SBARADV])': 1, '([VBD], [PRT], [NP], [PP])': 1, '([VBG], [NP], [PPLOCCLR], [PPTMP])': 1, '([VBG], [PPCLR], [PPCLR])': 1, '([VBD], [PPDIR], [SPRP])': 1, '([VBN], [NPPRD], [SBARTMP])': 1, '([VB], [NP], [PPDTV])': 1, '([VP], [,], [SBARADV])': 1, '([VBZ], [PRN], [VP])': 1, '([VBD], [ADVPMNR], [PPLOC])': 1, '([VBG], [PRT], [NP])': 1, '([VBZ], [ADVP], [NPPRD])': 1, '([VB], [ADVP], [ADVPTMP])': 1, '([VBD], [ADVPMNR], [PPDIR])': 1, '([VBP], [ADVP], [PPLOCPRD])': 1, '([VBD], [:], [VP])': 1, '([VP], [,], [CONJP], [VP])': 1, '([VBN], [PRT], [NP])': 1, '([VBG], [PPLOCCLR])': 1, '([ADVP], [MD], [VP])': 1, '([VBZ], [ADVPTMP], [S])': 1, '([ADVPTMP], [VBG], [PPDIR])': 1, '([VB], [S], [SBARPRP])': 1, '([VBG], [S], [SBARTMP])': 1, '([ADVPTMP], [VBD], [NP], [PPCLR])': 1, '([VBP], [NPCLR], [PPCLR])': 1, '([PPTMP], [VBZ], [VP])': 1, '([VBD], [PPDIR], [PPDIR], [PPTMP])': 1, '([MD], [RB], [VP])': 1, '([VBP], [RB], [VP])': 1, '([ADVP], [JJ], [NP], [PP])': 1, '([VBD], [RB], [ADJPPRD], [SBARPRP])': 1, '([VBN], [``], [NP])': 1, '([VP], [:], [NP])': 1, '([VBP], [NP], [PPTMP])': 1, '([VBD], [RB], [``], [VP])': 1, '([VBZ], [ADVPMNR], [PPCLR], [ADVPLOC])': 1, '([VB], [PPLOCPRD], [PPCLR])': 1, '([VBD], [NPTMP], [,], [SBARTMP])': 1, '([VBD], [NP], [SADV])': 1, '([VP], [CC], [VP])': 1, '([VBG],)': 1, '([VBD], [NP], [PPMNR], [SPRP])': 1, '([VBZ], [PPLOC], [,], [SADV])': 1, '([JJ], [VP])': 1, '([VBZ], [RB], [NP])': 1, '([VBD], [NP], [PPLOC], [SBAR])': 1, '([VBP], [NP], [NP], [PPTMP])': 1, '([VBZ], [NP], [SBARNOM])': 1, '([VBD], [NP], [ADVP], [PP])': 1, '([VBP], [NP])': 1, '([VBN], [NP], [ADVPDIR], [PPDIR])': 1, '([VBD], [NP], [,], [PP])': 1, '([VBZ], [ADVP], [ADJPPRD])': 1, '([VBG], [``], [NP], [PPCLR])': 1, '([VBN], [:], [NP])': 1, '([VBG], [PP], [PPTMP])': 1, '([VBD], [NP], [ADVPPRP])': 1, '([VBG], [PPTMPCLR])': 1, '([VBD], [NPPRD], [SBARADV])': 1, '([VBD], [ADVPPRD], [PPTMP], [PPDIR])': 1, '([VBG], [PPDIR], [PP])': 1, '([VBZ], [PPTMP], [VP])': 1, '([VBZ], [PPLOCCLR])': 1, '([VBD], [ADVPTMP], [S])': 1, '([VBP], [NP], [ADVP])': 1, '([VBD], [ADVPTMP], [PPLOCPRD])': 1, '([VB], [NP], [ADVPDIR], [PPDIR])': 1, '([VBD], [:], [``], [S])': 1, '([VBG], [NP], [PPMNR])': 1, '([ADVPTMP], [VBG])': 1, '([VB], [CC], [VB], [NPTTL])': 1, '([ADVP], [VBD], [PPDIR], [PPDIR])': 1, '([VBN], [PRT], [NP], [PP])': 1, '([VBZ], [ADVP], [SNOMPRD])': 1, '([VBD], [NP], [ADVPMNR], [PPDIRCLR])': 1, '([VBP], [PRT], [PPCLR])': 1, '([VBD], [NPEXT], [PPTMP], [PPDIR])': 1, '([VBD], [PPCLR], [NPTMP], [SBARTMP])': 1, '([VBZ], [PPCLR], [PPCLR])': 1, '([VB], [NP], [ADVPCLR])': 1, '([VBD], [NP])': 1, '([VBN], [NP], [``], [SBARADV])': 1, '([VB], [ADJPPRD], [,], [SBARPRP])': 1, '([ADVPMNR], [VBN], [NP])': 1, '([VBN], [NP], [ADVPMNR], [PPCLR])': 1, '([ADVPTMP], [VBN], [NP])': 1, '([VB], [PPTMP], [PPTMP])': 1, '([VBG], [NP], [,], [PP])': 1, '([VBD], [PPLOC], [ADVPTMP])': 1, '([VB], [PPDIR])': 1, '([VB], [ADJPPRD], [SBAR])': 1, '([VBN], [PPPRD], [NPTMP])': 1, '([VB], [PRT], [SBAR])': 1, '([VBN], [S], [NPTMP])': 1, '([VBZ], [ADVPMNR], [VP])': 1, '([ADVP], [RB], [VBG], [ADVP])': 1, '([VBG], [ADVPCLR], [PPLOC])': 1, '([VBZ], [ADVPPRD], [PP], [ADVPLOC])': 1, '([PPTMP], [SBARADV])': 1, '([VBZ], [``], [VP])': 1, '([VB], [NPPRD], [SBARPRP])': 1, '([VBZ], [NPPRD], [,], [SBARADV])': 1, '([VBP], [NP], [SBARTMP])': 1, '([VBN], [ADJPPRD], [,], [SBARPRP])': 1, '([VB], [``], [NPTTL])': 1, '([VBZ], [:], [``], [SCLF])': 1, '([VBN], [PPCLR], [PPTMP])': 1, '([VBZ], [NP], [SMNR])': 1, '([ADVP], [VBP], [ADVPDIR])': 1, '([VBG], [PRT], [PP], [PPTMP])': 1, '([VBD], [NP], [PPDIRCLR])': 1, '([VB], [NP], [NPTMP])': 1, '([VBN], [NP], [ADVPTMP], [SBAR])': 1, '([NN], [SBAR])': 1, '([VBG], [ADJPPRD])': 1, '([VBP], [PRT], [PPTMP])': 1, '([VBD], [PPPRD], [SBARADV])': 1, '([VBD], [NP], [PPTMP], [ADVPTMP])': 1, '([VBD], [NP], [SBAR])': 1, '([VBG], [NP], [ADVPDIR], [SPRP])': 1, '([VP], [,], [VP])': 1, '([VBZ], [ADVP], [NP])': 1, '([VBD], [NPEXT], [PPCLR], [PP])': 1, '([VBD], [NP], [SCLR], [SBARPRP])': 1, '([VBP], [RB], [ADVP], [VP])': 1, '([VBP], [PPDIR], [ADVPTMP])': 1, '([VB], [PRT], [NP])': 1, '([VBN], [PPDIR])': 1, '([VBZ], [ADVPCLR], [PPCLR])': 1, '([VBG], [NP], [PPDIRCLR])': 1, '([VBP], [ADJPPRD], [SBARPRP])': 1, '([VBN], [NP], [PPDIR], [PPTMP])': 1, '([JJ], [NP], [PP])': 1, '([VBP], [PPTMPCLR])': 1, '([VBP], [UCP])': 1, '([VB], [PPPRD], [PPTMP])': 1, '([VBP], [S], [,], [SBARPRP])': 1, '([VB], [ADVPMNR], [VP])': 1, '([VBN], [NP], [NPEXT], [PPTMP])': 1, '([VBN], [NP], [ADVPDIR], [PP])': 1, '([VBG], [NP], [PPCLR], [SBARTMP])': 1, '([VB], [NP], [PPCLR], [PPLOC])': 1, '([VBN], [PPTMP], [,], [SADV])': 1, '([VBZ], [ADVP], [NPPRD], [SBAR])': 1, '([VBZ], [SBARLOCPRD])': 1, '([VB], [SADV], [SBARTMP])': 1, '([VB], [NP], [PPEXT])': 1, '([VBP], [ADJP])': 1, '([VBZ], [RB], [PPPRD])': 1, '([VBP], [PP], [NP])': 1, '([VBG], [NPCLR])': 1, '([VB], [NPEXT], [PPDIR])': 1, '([VBZ], [NPPRD], [PPLOC])': 1, '([VB], [NP], [PPTMP])': 1, '([VB], [ADVPMNR], [PPDIR])': 1, '([VBD], [SBARCLR])': 1, '([VBN], [ADJPPRD], [PPMNR], [PPTMP])': 1, '([VBP], [PRT], [ADVPTMP])': 1, '([VBN], [NP], [PPDTV], [PP])': 1, '([VBG], [PPLOC], [PPTMP])': 1, '([NN],)': 1} \n",
      "\n",
      "[NPLGS] {'([NP], [,], [NP], [,])': 1, '([DT], [NNP], [NN], [NNS])': 1, '([PRP$], [NNS])': 1, '([NP], [CC], [NP])': 1, '([NP], [,], [NPLOC])': 1, '([DT], [NNP], [NNS])': 1, '([NP], [NNS])': 1, '([NP], [JJ], [NN])': 1, '([NP], [VP])': 1, '([PRP],)': 1, '([NP], [PRN])': 1, '([NNP], [NNPS], [NNP], [NNP])': 1, '([NNP], [CC], [NNP], [NNP])': 1, '([DT], [JJ], [NN])': 1, '([NP], [NN], [S])': 1, '([NNP], [NNP], [NNP], [NNP])': 1, '([NP], [PP])': 1, '([DT], [NNP], [CC], [NNP])': 1, '([NNP], [NNP], [NNP])': 1, '([NP], [PPLOC], [PP])': 1, '([NNP], [CC], [NNP])': 1, '([DT], [NP], [CC], [NP])': 1, '([NNP], [NNP])': 1, '([NP], [NP])': 1, '([DT], [NNP])': 1, '([DT], [NNP], [NN])': 1, '([DT], [NN], [NN])': 1, '([NP], [PP], [PP])': 1, '([NNP],)': 1, '([JJ], [NN])': 1, '([NP], [,], [SBAR])': 1, '([JJ], [NNS], [CC], [NNS])': 1, '([NNS], [SBAR])': 1, '([QP], [NN], [NNS])': 1, '([NP], [,], [ADVP], [NP])': 1, '([VBN], [NN])': 1, '([JJ], [NNS])': 1, '([NP], [PPLOC])': 1, '([NP], [PP], [SBAR])': 1, '([DT], [NN])': 1, '([DT], [NNP], [NNP], [NNP])': 1, '([DT], [NN], [JJ], [NN])': 1, '([NNP], [NNPS], [NNP])': 1, '([QP], [JJ], [NNS])': 1, '([NN], [NNS])': 1, '([NP], [,], [NP], [SBAR])': 1, '([NP], [NN])': 1, '([JJ], [NNP], [NNP], [NNS])': 1, '([NNS],)': 1, '([NP], [,], [NP])': 1, '([NN],)': 1, '([NP], [NNP], [NNP], [NNP])': 1, '([DT],)': 1, '([NP],)': 1, '([NP], [,], [NPLOC], [,])': 1, '([NN], [NN])': 1, '([DT], [NNP], [NNP])': 1} \n",
      "\n",
      "[CD] {\"('1980s',)\": 1, \"('963',)\": 1, \"('10.5',)\": 1, \"('12',)\": 1, \"('1,400',)\": 1, \"('22',)\": 1, \"('141.9',)\": 1, \"('195',)\": 1, \"('mids',)\": 1, \"('1:30',)\": 1, \"('3.375',)\": 1, \"('59.6',)\": 1, \"('270',)\": 1, \"('89',)\": 1, \"('29',)\": 1, \"('47',)\": 1, \"('2000',)\": 1, \"('280',)\": 1, \"('777',)\": 1, \"(''40s',)\": 1, \"('6,500',)\": 1, \"('135',)\": 1, \"('3057',)\": 1, \"('8.55',)\": 1, \"('251.2',)\": 1, \"('3.80',)\": 1, \"('20s',)\": 1, \"('273.5',)\": 1, \"('5.5',)\": 1, \"('5,000',)\": 1, \"('1940s',)\": 1, \"('4,000',)\": 1, \"('2.8',)\": 1, \"('1986',)\": 2, \"('8.64',)\": 1, \"('271',)\": 1, \"('1787',)\": 1, \"('70.7',)\": 1, \"('million',)\": 1, \"('23.72',)\": 1, \"('7.15',)\": 1, \"('500,000',)\": 1, \"('6.9',)\": 1, \"('188',)\": 1, \"('3.253',)\": 1, \"('3.2',)\": 1, \"('500,004',)\": 1, \"('228',)\": 1, \"('thousand',)\": 1, \"('274',)\": 1, \"('59',)\": 1, \"('Ten',)\": 1, \"('2,303,328',)\": 1, \"('94',)\": 1, \"('9.82',)\": 1, \"('0.25',)\": 1, \"('2.29',)\": 1, \"('20',)\": 1, \"('0.4',)\": 1, \"(''86',)\": 1, \"('139',)\": 1, \"('1928',)\": 1, \"('1637',)\": 1, \"('9.3',)\": 1, \"('1.75',)\": 1, \"('1917',)\": 1, \"('100,000',)\": 1, \"('7.50',)\": 1, \"('133',)\": 1, \"('17.95',)\": 1, \"('3',)\": 2, \"('FIRST',)\": 1, \"('38.375',)\": 1, \"('8.60',)\": 1, \"('1,200',)\": 1, \"('8.14',)\": 1, \"('2.42',)\": 1, \"('1990s',)\": 1, \"('9.8',)\": 1, \"('8.75',)\": 1, \"('1.5805',)\": 1, \"('32.8',)\": 1, \"('501',)\": 1, \"('10,000',)\": 1, \"('38.3',)\": 1, \"('0.2',)\": 1, \"('105',)\": 1, \"('Nine',)\": 1, \"('149',)\": 1, \"('497.34',)\": 1, \"('4.1',)\": 1, \"('1.8',)\": 1, \"('184',)\": 1, \"('1.1',)\": 1, \"('5.3',)\": 1, \"('1.64',)\": 1, \"('13.73',)\": 1, \"('245',)\": 1, \"('1997',)\": 1, \"('13.5',)\": 1, \"('16.125',)\": 1, \"('24',)\": 1, \"('8300',)\": 1, \"('240',)\": 1, \"('86.12',)\": 1, \"('4.4',)\": 1, \"('361,376',)\": 1, \"('8.45',)\": 1, \"('29.3',)\": 1, \"('82,389',)\": 1, \"('93',)\": 1, \"('133.8',)\": 1, \"('8.07',)\": 1, \"('49.9',)\": 1, \"('1976',)\": 1, \"('374.19',)\": 1, \"('2.4',)\": 1, \"('8.65',)\": 1, \"('40,000',)\": 1, \"('16',)\": 1, \"('120,000',)\": 1, \"('1970s',)\": 1, \"('nine',)\": 1, \"('5.29',)\": 1, \"('737.5',)\": 1, \"('847',)\": 1, \"('33',)\": 1, \"('150',)\": 1, \"('1903',)\": 1, \"('4.3',)\": 1, \"('144',)\": 1, \"('143.80',)\": 1, \"('9.9',)\": 1, \"('4.898',)\": 1, \"('21',)\": 1, \"('1979',)\": 1, \"('3.19',)\": 1, \"('7\\\\/8',)\": 1, \"('1972',)\": 1, \"('30.9',)\": 1, \"('126,000',)\": 1, \"('1981',)\": 1, \"('billion',)\": 1, \"('45.3',)\": 1, \"('992,000',)\": 1, \"('23,403',)\": 1, \"('7.3',)\": 1, \"('133.7',)\": 1, \"('6.21',)\": 1, \"(''30s',)\": 1, \"('seven',)\": 1, \"('7.74',)\": 1, \"('50',)\": 1, \"('1,620',)\": 1, \"('850',)\": 1, \"('the',)\": 1, \"('42',)\": 1, \"('730',)\": 1, \"('37',)\": 1, \"('230',)\": 1, \"('50,000',)\": 1, \"('352.9',)\": 1, \"('90',)\": 1, \"('1992',)\": 2, \"('20,000',)\": 1, \"('1989',)\": 1, \"('3.75',)\": 1, \"('7.80',)\": 1, \"('98',)\": 1, \"('36.9',)\": 1, \"('6',)\": 1, \"('24.95',)\": 1, \"('11,762',)\": 1, \"('1988',)\": 1, \"('47.125',)\": 1, \"('7.90',)\": 1, \"('5',)\": 1, \"('49',)\": 1, \"('449.04',)\": 1, \"('13.50',)\": 1, \"('Cray',)\": 1, \"('27.1',)\": 1, \"('20.5',)\": 1, \"('6.40',)\": 1, \"('18,000',)\": 1, \"('8.50',)\": 1, \"('1901',)\": 1, \"('2.6',)\": 1, \"('11,000',)\": 1, \"('701',)\": 1, \"('3\\\\/8',)\": 1, \"('1953',)\": 1, \"('77',)\": 1, \"('8.12',)\": 1, \"('3,288,453',)\": 1, \"('176',)\": 1, \"('44',)\": 1, \"('five',)\": 1, \"('6.5',)\": 1, \"('6,000',)\": 1, \"('107',)\": 1, \"('7.458',)\": 1, \"('23.5',)\": 1, \"('700,000',)\": 1, \"('62.625',)\": 1, \"('266',)\": 1, \"('128',)\": 1, \"('5.9',)\": 1, \"('7.45',)\": 1, \"('3.1',)\": 1, \"('179',)\": 1, \"('1.2',)\": 1, \"('609',)\": 1, \"('0.7',)\": 1, \"('1614',)\": 1, \"('hundred',)\": 1, \"('28.6',)\": 1, \"('4.6',)\": 1, \"('6.25',)\": 1, \"('3,600',)\": 1, \"('212',)\": 1, \"('9.625',)\": 1, \"('6.1',)\": 1, \"('490',)\": 1, \"('Two',)\": 1, \"('142.85',)\": 1, \"('1973',)\": 2, \"('300',)\": 2, \"('0.1',)\": 1, \"('37.5',)\": 1, \"('45.75',)\": 1, \"('11.6',)\": 1, \"('TWO',)\": 1, \"('415.8',)\": 1, \"('64',)\": 1, \"('2,500',)\": 1, \"('42.5',)\": 1, \"('1.8415',)\": 1, \"('trillion',)\": 1, \"('8.30',)\": 1, \"('7.272',)\": 1, \"('620',)\": 1, \"('19',)\": 1, \"('236.74',)\": 1, \"('Five',)\": 1, \"('1977',)\": 1, \"('6.79',)\": 1, \"('3.9',)\": 1, \"('374.20',)\": 1, \"('71',)\": 1, \"('2.95',)\": 1, \"('2.46',)\": 1, \"('46',)\": 1, \"('118',)\": 1, \"('1991',)\": 3, \"('1987',)\": 2, \"('95,142',)\": 1, \"('9,118',)\": 1, \"('62',)\": 1, \"('241',)\": 1, \"('77,000',)\": 1, \"('1.8500',)\": 1, \"('3.8',)\": 1, \"('65',)\": 1, \"('0.3',)\": 1, \"('1960s',)\": 1, \"('2019',)\": 1, \"('200,000',)\": 1, \"('THREE',)\": 1, \"('3,500',)\": 1, \"('2.87',)\": 1, \"('446.62',)\": 1, \"('1.39',)\": 1, \"('2.25',)\": 1, \"('18',)\": 1, \"('9.45',)\": 1, \"('83.4',)\": 1, \"('Four',)\": 1, \"('4',)\": 1, \"('130.7',)\": 1, \"('19.3',)\": 1, \"('78',)\": 1, \"('320',)\": 1, \"('321,000',)\": 1, \"('29.9',)\": 1, \"('4,393,237',)\": 1, \"('127.03',)\": 1, \"('48',)\": 1, \"('10',)\": 1, \"('99',)\": 1, \"('339',)\": 1, \"('17.3',)\": 1, \"('8',)\": 1, \"('1990',)\": 1, \"('23,000',)\": 1, \"('600,000',)\": 1, \"('7,500',)\": 1, \"('one',)\": 1, \"('77.56',)\": 1, \"('295',)\": 1, \"('62.5',)\": 1, \"('Three',)\": 1, \"('2.7',)\": 1, \"('160',)\": 1, \"('16,072',)\": 1, \"('35.7',)\": 1, \"('8.25',)\": 1, \"('100',)\": 1, \"('191.9',)\": 1, \"('353',)\": 1, \"('14',)\": 1, \"('2.44',)\": 1, \"('450',)\": 1, \"('445',)\": 1, \"('370',)\": 1, \"('1948',)\": 1, \"('5.276',)\": 1, \"('85.1',)\": 1, \"('2009',)\": 1, \"('1',)\": 1, \"('1.5',)\": 1, \"('8.70',)\": 1, \"('5.57',)\": 1, \"('7.422',)\": 1, \"('88',)\": 1, \"('30,537',)\": 1, \"('220',)\": 1, \"('917',)\": 1, \"('30s',)\": 1, \"('68',)\": 1, \"('8.15',)\": 1, \"('1,500',)\": 1, \"('51',)\": 1, \"('1.82',)\": 1, \"('225',)\": 1, \"('187',)\": 1, \"('175',)\": 1, \"('5.39',)\": 1, \"('16.7',)\": 1, \"('600',)\": 1, \"('119',)\": 1, \"('1.92',)\": 1, \"('1961',)\": 1, \"('2,000',)\": 1, \"('143.08',)\": 1, \"('672',)\": 1, \"('1.65',)\": 1, \"('8.19',)\": 1, \"('2.5',)\": 1, \"('3.01',)\": 1, \"('140',)\": 1, \"('100,980',)\": 1, \"('60,000',)\": 1, \"('8.47',)\": 1, \"('57.6',)\": 1, \"('51.25',)\": 1, \"('66.5',)\": 1, \"('1.9',)\": 1, \"('25.50',)\": 1, \"('1966',)\": 1, \"('35',)\": 1, \"('30,841',)\": 1, \"('2,700',)\": 1, \"('1.28',)\": 1, \"('7.5',)\": 1, \"('12.5',)\": 1, \"('46.1',)\": 1, \"('234.4',)\": 1, \"('72',)\": 1, \"('4,645',)\": 1, \"('214',)\": 1, \"('877,663',)\": 1, \"('1.61',)\": 1, \"('7.20',)\": 1, \"('7.55',)\": 1, \"('25',)\": 1, \"('1999',)\": 1, \"('3.4',)\": 1, \"('8.575',)\": 1, \"('13.8',)\": 1, \"('1984',)\": 1, \"('5\\\\/8',)\": 1, \"('23.4',)\": 1, \"('382',)\": 1, \"('467',)\": 1, \"('5.7',)\": 1, \"('800',)\": 1, \"('75yearold',)\": 1, \"('436.01',)\": 1, \"('70',)\": 1, \"('180',)\": 1, \"('1934',)\": 1, \"('352.7',)\": 1, \"('343',)\": 1, \"('80.8',)\": 1, \"('1.5755',)\": 1, \"('1929',)\": 1, \"('30',)\": 1, \"('60',)\": 1, \"('1.125',)\": 1, \"('58',)\": 1, \"(''50s',)\": 1, \"('Fifteen',)\": 1, \"('77.70',)\": 1, \"('4.8',)\": 1, \"('138',)\": 1, \"('11.5',)\": 1, \"('23',)\": 1, \"('7.88',)\": 1, \"('109.73',)\": 1, \"('858,000',)\": 1, \"('331,000',)\": 1, \"('3.6',)\": 1, \"('57.7',)\": 1, \"('8.04',)\": 1, \"('143.93',)\": 1, \"('150.00',)\": 1, \"('101',)\": 1, \"('45',)\": 1, \"('1982',)\": 1, \"('154.2',)\": 1, \"('2645.90',)\": 1, \"('86',)\": 1, \"('10.2',)\": 1, \"('9.75',)\": 1, \"('2.1',)\": 1, \"('2.80',)\": 1, \"('14.6',)\": 1, \"('1993',)\": 1, \"('59.9',)\": 1, \"('1956',)\": 1, \"('3.42',)\": 1, \"('225.6',)\": 1, \"('13,056',)\": 1, \"('153.3',)\": 1, \"('1970',)\": 1, \"('10year',)\": 1, \"('16,000',)\": 1, \"('5.4',)\": 1, \"('50.45',)\": 1, \"('72.7',)\": 1, \"('15',)\": 1, \"('71,309',)\": 1, \"('1.85',)\": 1, \"('32',)\": 1, \"('84.29',)\": 1, \"('3.7',)\": 1, \"('240,000',)\": 1, \"('50.38',)\": 1, \"('17',)\": 1, \"('1985',)\": 1, \"('1965',)\": 1, \"('1\\\\/8',)\": 1, \"('40',)\": 1, \"('1937',)\": 1, \"('28.4',)\": 1, \"('6.03',)\": 1, \"('1,000',)\": 1, \"('76',)\": 1, \"('325,000',)\": 1, \"('278.7',)\": 1, \"('3:15',)\": 1, \"('8.56',)\": 1, \"('1.01',)\": 1, \"('three',)\": 1, \"('21.9',)\": 1, \"('12,252',)\": 1, \"('69',)\": 1, \"('380',)\": 1, \"('57.50',)\": 1, \"('900',)\": 1, \"('4.25',)\": 1, \"('One',)\": 1, \"('26',)\": 1, \"('14,821',)\": 1, \"('4.9',)\": 1, \"('30,000',)\": 1, \"('13',)\": 1, \"('26.2',)\": 1, \"('130',)\": 1, \"('2',)\": 2, \"('34',)\": 1, \"('1st',)\": 1, \"('360',)\": 1, \"('81.8',)\": 1, \"('13\\\\/16',)\": 1, \"('321',)\": 1, \"('18.95',)\": 1, \"('605',)\": 1, \"('4.75',)\": 1, \"('148.9',)\": 1, \"('149.9',)\": 1, \"('1971',)\": 1, \"('6\\\\/2',)\": 1, \"('250',)\": 1, \"('57',)\": 1, \"('145',)\": 1, \"('55',)\": 1, \"('1980',)\": 1, \"('534',)\": 1, \"('29.4',)\": 1, \"('1,298',)\": 1, \"('456.64',)\": 1, \"('47.6',)\": 1, \"('236.79',)\": 1, \"('27',)\": 1, \"('244,000',)\": 1, \"('two',)\": 1, \"('1\\\\/4',)\": 1, \"('350,000',)\": 1, \"('52',)\": 1, \"('7.78',)\": 1, \"('235',)\": 1, \"('93,000',)\": 1, \"('0.5',)\": 1, \"('1983',)\": 1, \"('1925',)\": 1, \"('9.5',)\": 1, \"('73',)\": 1, \"('3.3',)\": 1, \"('4.875',)\": 1, \"('28',)\": 1, \"('six',)\": 1, \"('43',)\": 1, \"('7.62',)\": 1, \"('170,000',)\": 1, \"('2.3',)\": 1, \"('301',)\": 1, \"('1\\\\/2',)\": 1, \"('3.43',)\": 1, \"('8.53',)\": 1, \"('415.6',)\": 1, \"('7',)\": 1, \"('8.35',)\": 1, \"('250,000',)\": 1, \"('3\\\\/4',)\": 1, \"('500',)\": 1, \"('115',)\": 1, \"('7.40',)\": 1, \"('1996',)\": 1, \"('1967',)\": 1, \"('271,124',)\": 1, \"('750',)\": 1, \"('14.5',)\": 1, \"('340,000',)\": 1, \"('200',)\": 1, \"('3.18',)\": 1, \"('700',)\": 1, \"('61',)\": 1, \"('45,000',)\": 1, \"('705.6',)\": 1, \"('64.5',)\": 1, \"('1955',)\": 1, \"('130.6',)\": 1, \"('767',)\": 1, \"('1.457',)\": 1, \"('6.70',)\": 1, \"('13.625',)\": 1, \"('89.9',)\": 1, \"('1.55',)\": 1, \"('1968',)\": 1, \"('3.23',)\": 1, \"('400',)\": 1, \"('203',)\": 1, \"('8.48',)\": 1, \"('80',)\": 1, \"('eight',)\": 1, \"('2.2',)\": 1, \"('113.2',)\": 1, \"('125',)\": 1, \"('6.20',)\": 1, \"('47.5',)\": 1, \"('IX',)\": 1, \"('190',)\": 1, \"('2.875',)\": 1, \"('2017',)\": 1, \"('four',)\": 1, \"('121.6',)\": 1, \"('53',)\": 1, \"('1933',)\": 1, \"('3.35',)\": 1, \"('7.8',)\": 1, \"('25,000',)\": 1, \"('37.3',)\": 1, \"('89,500',)\": 1, \"('18,444',)\": 1, \"('300,000',)\": 1, \"('120',)\": 1, \"('2029',)\": 1, \"('3.61',)\": 1, \"('22.75',)\": 1, \"('1920s',)\": 1, \"('11',)\": 1, \"('3.5',)\": 1, \"(''82',)\": 1, \"('1975',)\": 1, \"('7.65',)\": 1, \"('400,000',)\": 1, \"('7.95',)\": 1, \"('9.37',)\": 1, \"('7\\\\/16',)\": 1, \"('36',)\": 1, \"('9',)\": 1, \"('41',)\": 1, \"('99.1',)\": 1, \"('26,000',)\": 1, \"('550,000',)\": 1, \"('1.6',)\": 1, \"('25.6',)\": 1, \"('2.65',)\": 1, \"('38',)\": 1, \"('106',)\": 1, \"('570',)\": 1, \"('388',)\": 1, \"('1.7',)\": 1, \"('118.6',)\": 1, \"('722',)\": 1, \"('98.3',)\": 1, \"('89.7',)\": 1, \"('94.8',)\": 1, \"('1950s',)\": 1, \"('1994',)\": 1, \"('155',)\": 1, \"('4.10',)\": 1, \"('15,000',)\": 1, \"('8.06',)\": 1, \"('31',)\": 1, \"('2005',)\": 1, \"('396,000',)\": 1, \"('2.50',)\": 1, \"('0.9',)\": 1, \"('644',)\": 1, \"('11\\\\/16',)\": 1, \"('85',)\": 1, \"('8.467',)\": 1, \"('8.22',)\": 1, \"('63',)\": 1, \"('75',)\": 1, \"('4.5',)\": 1} \n",
      "\n",
      "[NX] {'([NNS],)': 2, '([NONE],)': 1, '([NN], [NN])': 1, '([JJS], [NN], [NN])': 1, '([NNS], [NN])': 1, '([NNP], [NN])': 1, '([JJS], [JJ], [NN])': 1, '([NN], [NNS])': 1, '([NX], [CC], [NX], [PP])': 1, '([DT], [NN])': 1, '([JJS], [NN])': 1, '([NX], [CC], [NX])': 1, '([NNP], [NNP], [NN])': 1, '([JJ], [JJ], [NNS])': 1, '([NN], [VBG], [NN])': 1, '([NN], [JJ], [NN])': 1, '([JJ], [NN])': 1, '([NNP], [NNP], [NNP])': 1, '([NN], [NN], [NN])': 1, '([JJ], [NNS])': 1, '([NNP], [NNP])': 1, '([JJ], [JJ], [NN])': 1, '([NX], [PP])': 1, '([NXTTL], [CC], [NXTTL])': 1, '([NP], [SBAR])': 1, '([JJ], [NN], [NN])': 1, '([DT], [JJ], [NN])': 1, '([VBN], [NNS])': 1, '([NN],)': 1, '([JJ], [NN], [NNS])': 1} \n",
      "\n",
      "[NPPRD] {'([NP], [PRN], [SBAR])': 1, '([DT], [ADJP], [NN])': 1, '([CD], [NN], [NNS])': 1, '([NP], [PP], [SBAR])': 2, '([CD], [NN], [SBAR])': 1, '([DT], [``], [NN])': 1, '([$], [CD], [NONE])': 1, '([QP], [NONE])': 1, '([NP], [,], [NP])': 1, '([PRP$], [JJ], [NN])': 1, '([NP], [CC], [NP], [PP])': 2, '([DT], [VBG], [NN])': 1, '([DT], [NN], [FW], [NN])': 1, \"([DT], [``], [NN], [''])\": 1, '([DT], [RB], [JJ], [NN])': 1, '([DT], [NN], [JJ])': 1, '([NP], [CC], [ADVP], [NP])': 1, '([NP], [SBAR])': 1, '([NP], [CC], [ADVPTMP], [NP])': 1, '([NP], [X])': 1, '([NP], [PP], [,], [SBAR])': 1, '([DT], [JJR], [NN])': 1, '([NP], [ADVPLOC], [PPCLR])': 1, '([NP], [JJ], [JJ], [NN])': 1, '([DT], [VBG], [VBG], [NN])': 1, '([NP], [PP], [ADJP], [VP])': 1, '([NP], [,], [SBAR])': 1, '([NP], [PP], [S])': 1, '([JJ], [NN], [NN], [NNS])': 1, '([DT], [JJ], [NN])': 1, '([JJR],)': 1, '([JJ], [NNS])': 1, '([NP], [PP])': 1, '([DT], [NNS])': 1, '([NNS], [,], [RB], [NNS])': 1, '([DT], [NN], [NN])': 1, '([JJ], [NN])': 1, '([VBG], [NN], [SBAR])': 1, '([NP], [PP], [PPLOC])': 1, '([JJ], [NN], [NNS])': 1, '([NP], [PPDIR])': 1, '([ADJP], [JJ], [NNS])': 1, '([NP], [ADJP])': 1, '([NP], [ADVP])': 1, '([NP], [``], [NP])': 1, '([DT],)': 1, '([DT], [ADJP])': 1, '([NP], [CC], [NP])': 1, '([NNP], [NNP])': 1, '([NP], [JJ], [NN], [NN])': 1, '([DT], [NAC], [NN])': 1, '([NP], [PPLOC], [SBAR])': 1, '([QP], [NN])': 1, '([DT], [NN])': 1, '([CD], [JJ], [CD])': 1, '([NP],)': 1, '([VBN], [NNS])': 1, '([DT], [NNP], [CD])': 1, '([NP], [PP], [PP])': 1, '([NP], [VP])': 1, '([NP], [NP])': 1, '([NP], [PP], [PPTMP])': 1, '([DT], [NN], [S])': 1, '([NP], [PPLOC], [S])': 1, '([DT], [JJS], [NN], [NNS])': 1, \"([``], [NP], [''], [PRN])\": 1, '([NNP], [NN])': 1, '([RB], [JJ], [NNS])': 1, '([NP], [PPLOC])': 1, '([NP], [SBARLOC])': 1, '([JJ], [JJ], [NNS], [SBAR])': 1, '([NN], [NN])': 1, '([NP], [SBARTMP])': 1, '([NP], [:], [VP])': 1, '([NP], [PPTMP])': 1, '([PRP$], [NN])': 1, '([DT], [JJ])': 1, '([DT], [NN], [SBAR])': 1, '([NN], [NNS])': 1, '([NP], [PP], [NP])': 1, '([NN], [SBAR])': 1, '([NP], [PPLOC], [SBARLOC])': 1, '([NP], [,], [RB], [SNOM])': 1, '([DT], [JJ], [QP], [NNS])': 1, '([NP], [:], [NP])': 1, '([DT], [JJS])': 1, '([NN],)': 1, '([NP], [PRN], [PP])': 1, '([``], [NP], [SBAR])': 1, '([NNP],)': 1, '([NNP], [NNP], [NNP])': 1, '([PDT], [DT], [JJ], [NN])': 1, '([NP], [,], [ADVP])': 1, '([NP], [PPLOC], [PP])': 1, '([NP], [,], [CC], [NP])': 1, '([CD],)': 1, '([NNS], [SBAR])': 1, '([NP], [VP], [PP])': 1, '([NP], [ADJP], [PP])': 1, '([NONE],)': 1, '([NNS],)': 1, '([DT], [JJ], [NN], [NN])': 1, '([NP], [PRN])': 1, '([CD], [NN])': 1, '([DT], [JJ], [JJ], [NN])': 1} \n",
      "\n",
      "[VBZ] {\"('gets',)\": 1, \"('defends',)\": 1, \"('develops',)\": 1, \"('involves',)\": 1, \"('moves',)\": 1, \"('eases',)\": 1, \"('lacks',)\": 1, \"('Is',)\": 1, \"('boosts',)\": 1, \"('relies',)\": 1, \"('conforms',)\": 1, \"('stands',)\": 1, \"('picks',)\": 1, \"('carries',)\": 1, \"('mirrors',)\": 1, \"('insists',)\": 1, \"('contends',)\": 1, \"('changes',)\": 1, \"('puts',)\": 1, \"('equals',)\": 1, \"('complains',)\": 1, \"('answers',)\": 1, \"('follows',)\": 1, \"('protects',)\": 1, \"('considers',)\": 1, \"('restricts',)\": 1, \"('views',)\": 1, \"('creates',)\": 1, \"('returns',)\": 1, \"('decides',)\": 1, \"('belongs',)\": 1, \"('denies',)\": 1, \"('takes',)\": 1, \"('is',)\": 1, \"('prohibits',)\": 1, \"('plays',)\": 1, \"('responds',)\": 1, \"('works',)\": 1, \"('spurns',)\": 1, \"('manages',)\": 1, \"('invades',)\": 1, \"('prevents',)\": 1, \"('comments',)\": 1, \"('dissolves',)\": 1, \"('measures',)\": 1, \"('costs',)\": 1, \"('purrs',)\": 1, \"('owns',)\": 1, \"('enables',)\": 1, \"('claims',)\": 1, \"('values',)\": 1, \"('starts',)\": 1, \"('runs',)\": 1, \"('heads',)\": 1, \"('fills',)\": 1, \"('initiatives',)\": 1, \"('succeeds',)\": 1, \"('interjects',)\": 1, \"('quips',)\": 1, \"('sells',)\": 1, \"('matters',)\": 1, \"('Takes',)\": 1, \"('anticipates',)\": 1, \"('transfers',)\": 1, \"('begins',)\": 1, \"('emerges',)\": 1, \"('publishes',)\": 1, \"('tracks',)\": 1, \"('keeps',)\": 1, \"('Closes',)\": 1, \"('earns',)\": 1, \"('becomes',)\": 1, \"('propagandizes',)\": 1, \"('specializes',)\": 1, \"('promises',)\": 1, \"('outstrips',)\": 1, \"('illustrates',)\": 1, \"('gains',)\": 1, \"('supplies',)\": 1, \"('warrants',)\": 1, \"('CLEARS',)\": 1, \"('decries',)\": 1, \"('serves',)\": 1, \"('attributes',)\": 1, \"('causes',)\": 1, \"('blinks',)\": 1, \"('implies',)\": 1, \"('disturbs',)\": 1, \"('sanctions',)\": 1, \"('targets',)\": 1, \"('helps',)\": 1, \"('throws',)\": 1, \"('empowers',)\": 1, \"('chooses',)\": 1, \"('prompts',)\": 1, \"('aims',)\": 1, \"('aces',)\": 1, \"('finds',)\": 1, \"('brings',)\": 1, \"('counts',)\": 1, \"('exhibits',)\": 1, \"('hopes',)\": 1, \"('holds',)\": 1, \"('bans',)\": 1, \"('provides',)\": 1, \"('increases',)\": 1, \"('describes',)\": 1, \"('centers',)\": 1, \"('awards',)\": 1, \"('lapses',)\": 1, \"('opens',)\": 1, \"('accounts',)\": 1, \"('receives',)\": 1, \"('approves',)\": 1, \"('fumes',)\": 1, \"('encourages',)\": 1, \"('sees',)\": 1, \"('covers',)\": 1, \"('indicates',)\": 1, \"('draws',)\": 1, \"('digs',)\": 1, \"('signals',)\": 1, \"('spends',)\": 1, \"('pushes',)\": 1, \"('charges',)\": 1, \"('stays',)\": 1, \"('forces',)\": 1, \"('offers',)\": 1, \"('perceives',)\": 1, \"('marks',)\": 1, \"('uses',)\": 1, \"('replies',)\": 1, \"('disappears',)\": 1, \"('posts',)\": 1, \"('goes',)\": 1, \"('expires',)\": 1, \"(''s',)\": 1, \"('repeals',)\": 1, \"('invests',)\": 1, \"('factors',)\": 1, \"('operates',)\": 1, \"('agrees',)\": 1, \"('looks',)\": 1, \"('tells',)\": 1, \"('makes',)\": 1, \"('turns',)\": 1, \"('flows',)\": 1, \"('talks',)\": 1, \"('hangs',)\": 1, \"('estimates',)\": 1, \"('executes',)\": 1, \"('trades',)\": 1, \"('dominates',)\": 1, \"('parallels',)\": 1, \"('introduces',)\": 1, \"('worries',)\": 1, \"('declines',)\": 1, \"('reasserts',)\": 1, \"('faces',)\": 1, \"('seems',)\": 1, \"('warns',)\": 1, \"('breaks',)\": 1, \"('plans',)\": 1, \"('entitles',)\": 1, \"('Says',)\": 1, \"('proscribes',)\": 1, \"('harms',)\": 1, \"('suspects',)\": 1, \"('reaches',)\": 1, \"('pitches',)\": 1, \"('gauges',)\": 1, \"('scoffs',)\": 1, \"('aspires',)\": 1, \"('argues',)\": 1, \"('outranks',)\": 1, \"('builds',)\": 1, \"('sends',)\": 1, \"('raises',)\": 1, \"('attracts',)\": 1, \"('comes',)\": 1, \"('attempts',)\": 1, \"('states',)\": 1, \"('controls',)\": 1, \"('includes',)\": 1, \"('predicts',)\": 1, \"('teaches',)\": 1, \"('has',)\": 1, \"('AGREES',)\": 1, \"('Earns',)\": 1, \"('fails',)\": 1, \"('acknowledges',)\": 1, \"('thinks',)\": 1, \"('employs',)\": 1, \"('opposes',)\": 1, \"('means',)\": 1, \"('favors',)\": 1, \"('speaks',)\": 1, \"('shrinks',)\": 1, \"('explains',)\": 1, \"('admits',)\": 1, \"('expects',)\": 1, \"('retires',)\": 1, \"('confirms',)\": 1, \"('exists',)\": 1, \"('wins',)\": 1, \"('notes',)\": 1, \"('erodes',)\": 1, \"('suggests',)\": 1, \"('disagrees',)\": 1, \"('knows',)\": 1, \"('concedes',)\": 1, \"('loses',)\": 1, \"('calls',)\": 1, \"('does',)\": 1, \"('pins',)\": 1, \"('ends',)\": 1, \"('improves',)\": 1, \"('rates',)\": 1, \"('contrasts',)\": 1, \"('occurs',)\": 1, \"('meets',)\": 1, \"('orders',)\": 1, \"('enters',)\": 1, \"('benefits',)\": 1, \"('wears',)\": 1, \"('feels',)\": 1, \"('lives',)\": 1, \"('reflects',)\": 1, \"('amounts',)\": 1, \"('appears',)\": 1, \"('remains',)\": 1, \"(''S',)\": 1, \"('understands',)\": 1, \"('says',)\": 1, \"('resembles',)\": 1, \"('represents',)\": 1, \"('doubts',)\": 1, \"('leaves',)\": 1, \"('markets',)\": 1, \"('places',)\": 1, \"('casts',)\": 1, \"('threatens',)\": 1, \"('tempts',)\": 1, \"('Competes',)\": 1, \"('wants',)\": 1, \"('cites',)\": 1, \"('Adds',)\": 1, \"('seeks',)\": 1, \"('needs',)\": 1, \"('shows',)\": 1, \"('perpetuates',)\": 1, \"('continues',)\": 1, \"('refuses',)\": 1, \"('happens',)\": 1, \"('resists',)\": 1, \"('adds',)\": 1, \"('contains',)\": 1, \"('asserts',)\": 1, \"('sounds',)\": 1, \"('imposes',)\": 1, \"('blocks',)\": 1, \"('alerts',)\": 1, \"('sets',)\": 1, \"('asks',)\": 1, \"('eliminates',)\": 1, \"('recalls',)\": 1, \"('reasons',)\": 1, \"('presumes',)\": 1, \"('reports',)\": 1, \"('stresses',)\": 1, \"('blames',)\": 1, \"('acquires',)\": 1, \"('requires',)\": 1, \"('broadcasts',)\": 1, \"('defeats',)\": 1, \"('acts',)\": 1, \"('rings',)\": 1, \"('gives',)\": 1, \"('competes',)\": 1, \"('demonstrates',)\": 1, \"('grows',)\": 1, \"('consists',)\": 1, \"('believes',)\": 1, \"('Fails',)\": 1, \"('combines',)\": 1, \"('Touches',)\": 1, \"('compares',)\": 1, \"('treats',)\": 1, \"('joins',)\": 1, \"('expands',)\": 1} \n",
      "\n",
      "[ADJP] {'([JJR], [VBN])': 1, '([RB], [JJR], [IN])': 1, '([RB], [VBN])': 1, '([ADJP], [CC], [ADJP])': 1, '([CD], [CD], [NN])': 1, '([NN], [NN])': 1, '([NNS], [CC], [NNS])': 1, '([JJ], [PPLOC])': 1, '([RB],)': 1, '([ADJP], [,], [CC], [ADJP])': 1, '([ADVP], [JJ])': 1, '([JJR], [PP])': 1, '([RB], [VBG])': 1, '([JJ], [,], [CC], [JJ])': 1, '([$], [CD], [JJ])': 1, '([JJS], [JJ], [S])': 1, '([RB], [RB], [S])': 1, '([NN], [JJ])': 1, '([JJ],)': 1, '([RB], [JJ])': 1, '([NN], [RB], [SBAR])': 1, '([JJ], [PRN])': 1, '([RBR], [JJ])': 1, '([JJ], [JJ])': 1, '([RBS], [RB], [JJ])': 1, '([JJ], [RB])': 1, '([NP], [JJ])': 1, '([RB], [RB])': 1, '([JJ], [CC], [NNP])': 1, '([ADVPTMP], [RB], [JJ])': 1, '([$], [JJ], [NONE])': 1, '([NN],)': 1, '([JJR], [JJ])': 1, '([NNP], [,], [JJ])': 1, '([JJ], [PP])': 2, '([JJ], [RB], [SBAR])': 1, '([RB], [VBN], [PRT], [PP])': 1, '([RB], [JJ], [PPLOC])': 1, '([QP], [JJR])': 1, '([JJ], [CC], [JJ])': 1, '([RB], [RB], [PP], [S])': 1, '([ADVPTMP], [VBN])': 1, '([JJ], [NPTMP])': 1, '([DT], [ADJP], [CC], [ADJP])': 1, '([RBS], [VBN])': 1, '([ADVP], [JJ], [PP])': 1, '([JJ], [CC], [VBG])': 1, '([JJ], [CD], [NN])': 1, '([RB], [JJR])': 1, '([VBN], [PP])': 1, '([NPADV], [JJR])': 1, '([QP], [RB], [JJ])': 1, '([ADJP], [PP])': 1, '([RB], [JJ], [PP])': 2, '([RBR], [JJ], [PP])': 1, '([RB], [DT])': 1, '([JJS], [JJ])': 1, '([RB], [RB], [JJ], [PP])': 1, '([JJ], [JJS])': 1, '([ADVP], [VBN])': 1, '([VBN],)': 1, '([VB], [JJR])': 1, '([NONE],)': 1, '([JJ], [PPTMP])': 1, '([DT],)': 1, '([NNP], [JJ])': 1, '([JJ], [S])': 1, '([RB], [RBR], [JJ])': 1, '([ADVP], [RB], [JJR])': 1, '([JJR], [CC], [JJR])': 1, '([QP], [NN])': 1, '([NPADV], [JJ])': 1, '([NNP], [NNP])': 1, '([ADVPTMP], [JJ])': 1, '([JJ], [SBAR])': 1, '([CD], [NN])': 1, '([$], [CD], [NONE])': 1, '([VBN], [PPCLR])': 1, '([JJ], [JJR])': 1, '([CD], [NNS])': 1, '([VBG], [CC], [VBG])': 1, '([RB], [RB], [JJ])': 1, '([NNS], [PRN], [VBN])': 1, '([RB], [JJ], [CC], [JJ])': 1, '([JJR],)': 1, '([RBS], [JJ])': 1, '([QP], [NONE])': 1} \n",
      "\n",
      "[JJR] {\"('greater',)\": 1, \"('older',)\": 1, \"('younger',)\": 1, \"('better',)\": 1, \"('stiffer',)\": 1, \"('longer',)\": 1, \"('Shorter',)\": 1, \"('faster',)\": 1, \"('newer',)\": 1, \"('slower',)\": 1, \"('worse',)\": 1, \"('sharper',)\": 1, \"('more',)\": 1, \"('lighter',)\": 1, \"('lower',)\": 1, \"('Moreover',)\": 1, \"('steeper',)\": 1, \"('Longer',)\": 1, \"('closer',)\": 1, \"('Earlier',)\": 1, \"('larger',)\": 1, \"('savvier',)\": 1, \"('broader',)\": 1, \"('Higher',)\": 1, \"('further',)\": 1, \"('More',)\": 1, \"('higher',)\": 1, \"('riskier',)\": 1, \"('smaller',)\": 1, \"('cheaper',)\": 1, \"('bigger',)\": 1, \"('harder',)\": 1, \"('lesser',)\": 1, \"('happier',)\": 1, \"('fuller',)\": 1, \"('less',)\": 1, \"('cleaner',)\": 1, \"('earlier',)\": 1, \"('softer',)\": 1, \"('stronger',)\": 1, \"('easier',)\": 1, \"('fewer',)\": 1} \n",
      "\n",
      "[FRAG] {'([NPSBJ], [PPTMP])': 1, '([NPSBJ], [NP], [,], [VP])': 1, '([NP], [.])': 1, '([NPSBJ], [VP])': 5, '([RB], [PP])': 1, '([ADJP], [.])': 1, '([SADV], [:], [NP], [.])': 1, '([NPSBJ], [,], [VP])': 3, '([NP], [:], [S], [.])': 1, '([ADVPTMP], [ADVPLOC])': 1, '([ADVP],)': 1, '([ADJPPRD],)': 1, '([NONE],)': 1, '([NP], [,], [SBARPRP], [.])': 1, '([RB], [NPTMP], [.])': 1, '([PPLOC],)': 1, '([NP],)': 1, '([ADVP], [ADJP])': 1, '([PP],)': 1, '([RB], [NPSBJ])': 1, '([FRAG], [:], [FRAG], [.])': 1, '([NP], [:], [S])': 1, '([SBARADV],)': 1, '([PP], [:], [NP], [.])': 1, '([WHNP], [SBAR], [.])': 1, '([NPSBJ], [NP])': 1, '([NPSBJ], [,], [NP])': 1} \n",
      "\n",
      "[VBG] {\"('descending',)\": 1, \"('asserting',)\": 1, \"('deteriorating',)\": 1, \"('sweeping',)\": 1, \"('twisting',)\": 1, \"('diversifying',)\": 1, \"('manufacturing',)\": 1, \"('Continuing',)\": 1, \"('arising',)\": 1, \"('sparking',)\": 1, \"('according',)\": 1, \"('slashing',)\": 1, \"('driving',)\": 1, \"('studying',)\": 1, \"('crying',)\": 1, \"('increasing',)\": 1, \"('adjusting',)\": 1, \"('building',)\": 1, \"('swelling',)\": 1, \"('requiring',)\": 1, \"('following',)\": 1, \"('apologizing',)\": 1, \"('contributing',)\": 1, \"('hitting',)\": 1, \"('Citing',)\": 1, \"('limiting',)\": 1, \"('refreshing',)\": 1, \"('dwindling',)\": 1, \"('attacking',)\": 1, \"('undergoing',)\": 1, \"('beginning',)\": 1, \"('drawing',)\": 1, \"('Performing',)\": 1, \"('offsetting',)\": 1, \"('bundling',)\": 1, \"('sounding',)\": 1, \"('mating',)\": 1, \"('sitting',)\": 1, \"('naming',)\": 1, \"('removing',)\": 1, \"('needing',)\": 1, \"('demonstrating',)\": 1, \"('stimulating',)\": 1, \"('TRIMMING',)\": 1, \"('choosing',)\": 1, \"('appearing',)\": 1, \"('Being',)\": 1, \"('planning',)\": 1, \"('marching',)\": 1, \"('tailoring',)\": 1, \"('selling',)\": 1, \"('changing',)\": 1, \"('punishing',)\": 1, \"('recruiting',)\": 1, \"('happening',)\": 1, \"('closing',)\": 1, \"('photocopying',)\": 1, \"('joining',)\": 1, \"('killing',)\": 1, \"('opening',)\": 1, \"('explaining',)\": 1, \"('viewing',)\": 1, \"('resulting',)\": 1, \"('completing',)\": 1, \"('pending',)\": 1, \"('appealing',)\": 1, \"('Getting',)\": 1, \"('anticipating',)\": 1, \"('belonging',)\": 1, \"('noticing',)\": 1, \"('agreeing',)\": 1, \"('consisting',)\": 1, \"('continuing',)\": 1, \"('enjoying',)\": 1, \"('walking',)\": 1, \"('pushing',)\": 1, \"('ignoring',)\": 1, \"('sorting',)\": 1, \"('redeeming',)\": 1, \"('teetering',)\": 1, \"('boarding',)\": 1, \"('fuming',)\": 1, \"('using',)\": 1, \"('looking',)\": 1, \"('pumping',)\": 1, \"('returning',)\": 1, \"('doing',)\": 1, \"('prosecuting',)\": 1, \"('carrying',)\": 1, \"('achieving',)\": 1, \"('warning',)\": 1, \"('purchasing',)\": 1, \"('investigating',)\": 1, \"('resisting',)\": 1, \"('bearing',)\": 1, \"('extending',)\": 1, \"('eating',)\": 1, \"('addressing',)\": 1, \"('scrambling',)\": 1, \"('altering',)\": 1, \"('advertising',)\": 1, \"('conducting',)\": 1, \"('betting',)\": 1, \"('arguing',)\": 1, \"('ushering',)\": 1, \"('stepping',)\": 1, \"('recognizing',)\": 1, \"('asking',)\": 1, \"('declining',)\": 1, \"('performing',)\": 1, \"('condemning',)\": 1, \"('Adopting',)\": 1, \"('retaining',)\": 1, \"('watching',)\": 1, \"('quitting',)\": 1, \"('recovering',)\": 1, \"('sleeping',)\": 1, \"('lying',)\": 1, \"('signaling',)\": 1, \"('growing',)\": 1, \"('retaliating',)\": 1, \"('keeping',)\": 1, \"('designing',)\": 1, \"('Filling',)\": 1, \"('segmenting',)\": 1, \"('PORTING',)\": 1, \"('servicing',)\": 1, \"('calling',)\": 1, \"('factoring',)\": 1, \"('dating',)\": 1, \"('ailing',)\": 1, \"('Winning',)\": 1, \"('serving',)\": 1, \"('paying',)\": 1, \"('Beginning',)\": 1, \"('publishing',)\": 1, \"('cooperating',)\": 1, \"('refitting',)\": 1, \"('facing',)\": 1, \"('marketing',)\": 1, \"('Determining',)\": 1, \"('showing',)\": 1, \"('noting',)\": 1, \"('meaning',)\": 1, \"('devouring',)\": 1, \"('transferring',)\": 1, \"('researching',)\": 1, \"('justifying',)\": 1, \"('Judging',)\": 1, \"('specializing',)\": 1, \"('drinking',)\": 1, \"('putting',)\": 1, \"('evoking',)\": 1, \"('ratcheting',)\": 1, \"('undercutting',)\": 1, \"('aiming',)\": 1, \"('collecting',)\": 1, \"('claiming',)\": 1, \"('rewarding',)\": 1, \"('varying',)\": 1, \"('eyeing',)\": 1, \"('devastating',)\": 1, \"('wallowing',)\": 1, \"('running',)\": 1, \"('soaring',)\": 1, \"('acquiring',)\": 1, \"('reflecting',)\": 1, \"('correcting',)\": 1, \"('lessening',)\": 1, \"('abounding',)\": 1, \"('starting',)\": 1, \"('outlawing',)\": 1, \"('racing',)\": 1, \"('preserving',)\": 1, \"('disseminating',)\": 1, \"('alleging',)\": 1, \"('providing',)\": 1, \"('featuring',)\": 1, \"('pointing',)\": 1, \"('satisfying',)\": 1, \"('jeopardizing',)\": 1, \"('losing',)\": 1, \"('challenging',)\": 1, \"('eliminating',)\": 1, \"('revising',)\": 1, \"('trying',)\": 1, \"('disclosing',)\": 1, \"('practicing',)\": 1, \"('protecting',)\": 1, \"('setting',)\": 1, \"('leaving',)\": 1, \"('owning',)\": 1, \"('boosting',)\": 1, \"('fundraising',)\": 1, \"('searching',)\": 1, \"('posing',)\": 1, \"('including',)\": 1, \"('counting',)\": 1, \"('cutting',)\": 1, \"('reporting',)\": 1, \"('booming',)\": 1, \"('prohibiting',)\": 1, \"('Defending',)\": 1, \"('surrounding',)\": 1, \"('winning',)\": 1, \"('suing',)\": 1, \"('mailing',)\": 1, \"('expanding',)\": 1, \"('experiencing',)\": 1, \"('failing',)\": 1, \"('dividing',)\": 1, \"('undertaking',)\": 1, \"('sliding',)\": 1, \"('enabling',)\": 1, \"('permitting',)\": 1, \"('inching',)\": 1, \"('smothering',)\": 1, \"('surviving',)\": 1, \"('mobilizing',)\": 1, \"('rallying',)\": 1, \"('underlying',)\": 1, \"('granting',)\": 1, \"('thinking',)\": 1, \"('insinuating',)\": 1, \"('spurring',)\": 1, \"('traveling',)\": 1, \"('urging',)\": 1, \"('Assuming',)\": 1, \"('fainting',)\": 1, \"('feeling',)\": 1, \"('refunding',)\": 1, \"('DIALING',)\": 1, \"('funding',)\": 1, \"('transporting',)\": 1, \"('easing',)\": 1, \"('SWITCHING',)\": 1, \"('Taking',)\": 1, \"('retiring',)\": 1, \"('striving',)\": 1, \"('investing',)\": 1, \"('acknowledging',)\": 1, \"('abridging',)\": 1, \"('plunging',)\": 1, \"('prevailing',)\": 1, \"('assuming',)\": 1, \"('guarding',)\": 1, \"('considering',)\": 1, \"('creating',)\": 1, \"('cascading',)\": 1, \"('restricting',)\": 1, \"('copying',)\": 1, \"('abating',)\": 1, \"('exerting',)\": 1, \"('committing',)\": 1, \"('defying',)\": 1, \"('talking',)\": 1, \"('going',)\": 1, \"('accusing',)\": 1, \"('referring',)\": 1, \"('being',)\": 1, \"('managing',)\": 1, \"('working',)\": 1, \"('posting',)\": 1, \"('stretching',)\": 1, \"('having',)\": 1, \"('ending',)\": 1, \"('sending',)\": 1, \"('Following',)\": 1, \"('foundering',)\": 1, \"('authorizing',)\": 1, \"('According',)\": 1, \"('propelling',)\": 1, \"('raising',)\": 1, \"('shrinking',)\": 1, \"('advancing',)\": 1, \"('causing',)\": 1, \"('characterizing',)\": 1, \"('exceeding',)\": 1, \"('cruising',)\": 1, \"('converting',)\": 1, \"('tracking',)\": 1, \"('sagging',)\": 1, \"('scaring',)\": 1, \"('barking',)\": 1, \"('labeling',)\": 1, \"('overriding',)\": 1, \"('proposing',)\": 1, \"('buying',)\": 1, \"('placing',)\": 1, \"('seeking',)\": 1, \"('existing',)\": 1, \"('waiving',)\": 1, \"('developing',)\": 1, \"('Offering',)\": 1, \"('inviting',)\": 1, \"('falling',)\": 1, \"('awarding',)\": 1, \"('slowing',)\": 1, \"('recommending',)\": 1, \"('laughing',)\": 1, \"('indulging',)\": 1, \"('yielding',)\": 1, \"('encroaching',)\": 1, \"('depending',)\": 1, \"('attempting',)\": 1, \"('filling',)\": 1, \"('Arbitraging',)\": 1, \"('functioning',)\": 1, \"('citing',)\": 1, \"('uttering',)\": 1, \"('transforming',)\": 1, \"('frustrating',)\": 1, \"('hailing',)\": 1, \"('responding',)\": 1, \"('pulling',)\": 1, \"('directing',)\": 1, \"('relating',)\": 1, \"('stacking',)\": 1, \"('discontinuing',)\": 1, \"('trading',)\": 1, \"('lagging',)\": 1, \"('finding',)\": 1, \"('telling',)\": 1, \"('getting',)\": 1, \"('forcing',)\": 1, \"('replacing',)\": 1, \"('saving',)\": 1, \"('making',)\": 1, \"('picking',)\": 1, \"('heating',)\": 1, \"('passing',)\": 1, \"('quashing',)\": 1, \"('installing',)\": 1, \"('upsetting',)\": 1, \"('thumbing',)\": 1, \"('transacting',)\": 1, \"('rising',)\": 1, \"('saying',)\": 1, \"('admitting',)\": 1, \"('declaring',)\": 1, \"('offering',)\": 1, \"('signing',)\": 1, \"('helping',)\": 1, \"('leveraging',)\": 1, \"('queuing',)\": 1, \"('crashing',)\": 1, \"('ordering',)\": 1, \"('amending',)\": 1, \"('controlling',)\": 1, \"('establishing',)\": 1, \"('initiating',)\": 1, \"('deterring',)\": 1, \"('leveling',)\": 1, \"('expecting',)\": 1, \"('crossing',)\": 1, \"('pressing',)\": 1, \"('improving',)\": 1, \"('behaving',)\": 1, \"('ranging',)\": 1, \"('pitting',)\": 1, \"('lending',)\": 1, \"('sketching',)\": 1, \"('emerging',)\": 1, \"('remaining',)\": 1, \"('financing',)\": 1, \"('pealing',)\": 1, \"('letting',)\": 1, \"('entering',)\": 1, \"('complaining',)\": 1, \"('engaging',)\": 1, \"('Knowing',)\": 1, \"('limping',)\": 1, \"('accepting',)\": 1, \"('gauging',)\": 1, \"('encircling',)\": 1, \"('stemming',)\": 1, \"('scrutinizing',)\": 1, \"('safeguarding',)\": 1, \"('spending',)\": 1, \"('moving',)\": 1, \"('dominating',)\": 1, \"('promoting',)\": 1, \"('overpaying',)\": 1, \"('restructuring',)\": 1, \"('attending',)\": 1, \"('phasing',)\": 1, \"('demanding',)\": 1, \"('fetching',)\": 1, \"('packaging',)\": 1, \"('checking',)\": 1, \"('proving',)\": 1, \"('covering',)\": 1, \"('sentencing',)\": 1, \"('curbing',)\": 1, \"('focusing',)\": 1, \"('issuing',)\": 1, \"('turning',)\": 1, \"('lowering',)\": 1, \"('ringing',)\": 1, \"('wrecking',)\": 1, \"('delivering',)\": 1, \"('subjecting',)\": 1, \"('commenting',)\": 1, \"('clearing',)\": 1, \"('attracting',)\": 1, \"('imposing',)\": 1, \"('Moving',)\": 1, \"('denouncing',)\": 1, \"('receiving',)\": 1, \"('leading',)\": 1, \"('discussing',)\": 1, \"('rebounding',)\": 1, \"('hurting',)\": 1, \"('Encouraging',)\": 1, \"('reducing',)\": 1, \"('broadcasting',)\": 1, \"('holding',)\": 1, \"('deliberating',)\": 1, \"('stressing',)\": 1, \"('indicating',)\": 1, \"('becoming',)\": 1, \"('sacrificing',)\": 1, \"('speaking',)\": 1, \"('banning',)\": 1, \"('occupying',)\": 1, \"('representing',)\": 1, \"('maturing',)\": 1, \"('borrowing',)\": 1, \"('gaining',)\": 1, \"('discouraging',)\": 1, \"('offending',)\": 1, \"('recalling',)\": 1, \"('operating',)\": 1, \"('reshaping',)\": 1, \"('totaling',)\": 1, \"('targeting',)\": 1, \"('visiting',)\": 1, \"('jumping',)\": 1, \"('predicting',)\": 1, \"('living',)\": 1, \"('reinstating',)\": 1, \"('taking',)\": 1, \"('succeeding',)\": 1, \"('dealing',)\": 1, \"('writing',)\": 1, \"('bombarding',)\": 1, \"('Having',)\": 1, \"('negotiating',)\": 1, \"('championing',)\": 1, \"('conceding',)\": 1, \"('containing',)\": 1, \"('breaking',)\": 1, \"('Observing',)\": 1, \"('executing',)\": 1, \"('producing',)\": 1, \"('quoting',)\": 1, \"('snaking',)\": 1, \"('Legislating',)\": 1, \"('initialing',)\": 1, \"('wooing',)\": 1, \"('introducing',)\": 1, \"('impending',)\": 1, \"('preventing',)\": 1, \"('weighing',)\": 1, \"('climbing',)\": 1, \"('playing',)\": 1, \"('maintaining',)\": 1, \"('bringing',)\": 1, \"('contesting',)\": 1, \"('Standing',)\": 1, \"('replicating',)\": 1, \"('waiting',)\": 1, \"('competing',)\": 1, \"('reviewing',)\": 1, \"('abolishing',)\": 1, \"('casting',)\": 1, \"('fighting',)\": 1, \"('denying',)\": 1, \"('involving',)\": 1, \"('concentrating',)\": 1, \"('heading',)\": 1, \"('looming',)\": 1, \"('regarding',)\": 1, \"('inquiring',)\": 1, \"('encouraging',)\": 1, \"('reciting',)\": 1, \"('forecasting',)\": 1, \"('coming',)\": 1, \"('Excluding',)\": 1, \"('fawning',)\": 1, \"('adapting',)\": 1, \"('exchanging',)\": 1, \"('banking',)\": 1, \"('deducting',)\": 1, \"('Reducing',)\": 1, \"('worrying',)\": 1, \"('obtaining',)\": 1, \"('regulating',)\": 1, \"('giving',)\": 1, \"('reeling',)\": 1, \"('backing',)\": 1, \"('struggling',)\": 1, \"('requesting',)\": 1, \"('accounting',)\": 1, \"('shaping',)\": 1, \"('adding',)\": 1, \"('seeing',)\": 1, \"('shoring',)\": 1, \"('evaluating',)\": 1} \n",
      "\n",
      "[VBN] {\"('proven',)\": 1, \"('removed',)\": 1, \"('protected',)\": 1, \"('stacked',)\": 1, \"('diversified',)\": 1, \"('helped',)\": 1, \"('repaired',)\": 1, \"('allocated',)\": 1, \"('mounted',)\": 1, \"('located',)\": 1, \"('dominated',)\": 1, \"('organized',)\": 1, \"('won',)\": 1, \"('compared',)\": 1, \"('boosted',)\": 1, \"('scrapped',)\": 1, \"('invested',)\": 1, \"('colored',)\": 1, \"('rumored',)\": 1, \"('polarized',)\": 1, \"('OFFERED',)\": 1, \"('understood',)\": 1, \"('impaired',)\": 1, \"('mortgaged',)\": 1, \"('brought',)\": 1, \"('respected',)\": 1, \"('auctioned',)\": 1, \"('discovered',)\": 1, \"('headed',)\": 1, \"('increased',)\": 1, \"('acquired',)\": 1, \"('accelerated',)\": 1, \"('convinced',)\": 1, \"('Related',)\": 1, \"('endorsed',)\": 1, \"('remarked',)\": 1, \"('predicated',)\": 1, \"('exhibited',)\": 1, \"('hunted',)\": 1, \"('risen',)\": 1, \"('hired',)\": 1, \"('closed',)\": 1, \"('studied',)\": 1, \"('known',)\": 1, \"('got',)\": 1, \"('contacted',)\": 1, \"('completed',)\": 1, \"('chosen',)\": 1, \"('drafted',)\": 1, \"('promised',)\": 1, \"('frightened',)\": 1, \"('convicted',)\": 1, \"('planned',)\": 1, \"('developed',)\": 1, \"('assured',)\": 1, \"('worked',)\": 1, \"('found',)\": 1, \"('replicated',)\": 1, \"('condemned',)\": 1, \"('determined',)\": 1, \"('passed',)\": 1, \"('stressed',)\": 1, \"('integrated',)\": 1, \"('Rated',)\": 1, \"('overused',)\": 1, \"('revived',)\": 1, \"('followed',)\": 1, \"('reached',)\": 1, \"('believed',)\": 1, \"('limited',)\": 1, \"('concerned',)\": 1, \"('matched',)\": 1, \"('invented',)\": 1, \"('given',)\": 1, \"('wasted',)\": 1, \"('skyrocketed',)\": 1, \"('stopped',)\": 1, \"('used',)\": 1, \"('cluttered',)\": 1, \"('desired',)\": 1, \"('midsized',)\": 1, \"('permitted',)\": 1, \"('started',)\": 1, \"('begun',)\": 1, \"('torn',)\": 1, \"('sparked',)\": 1, \"('reallocated',)\": 1, \"('relegated',)\": 1, \"('prohibited',)\": 1, \"('intended',)\": 1, \"('overstated',)\": 1, \"('involved',)\": 1, \"('entrenched',)\": 1, \"('charged',)\": 1, \"('assisted',)\": 1, \"('retired',)\": 1, \"('gotten',)\": 1, \"('recycled',)\": 1, \"('rusted',)\": 1, \"('pointed',)\": 1, \"('expected',)\": 1, \"('outlawed',)\": 1, \"('regarded',)\": 1, \"('populated',)\": 1, \"('become',)\": 1, \"('scheduled',)\": 1, \"('cultivated',)\": 1, \"('excited',)\": 1, \"('committed',)\": 1, \"('recouped',)\": 1, \"('beleaguered',)\": 1, \"('solved',)\": 1, \"('expunged',)\": 1, \"('failed',)\": 1, \"('complained',)\": 1, \"('mailed',)\": 1, \"('heated',)\": 1, \"('contributed',)\": 1, \"('staid',)\": 1, \"('filed',)\": 1, \"('tied',)\": 1, \"('climbed',)\": 1, \"('publicized',)\": 1, \"('lent',)\": 1, \"('linked',)\": 1, \"('traded',)\": 1, \"('soared',)\": 1, \"('eliminated',)\": 1, \"('accumulated',)\": 1, \"('fixed',)\": 1, \"('loaded',)\": 1, \"('heard',)\": 1, \"('composed',)\": 1, \"('initiated',)\": 1, \"('zoomed',)\": 1, \"('absorbed',)\": 1, \"('renewed',)\": 1, \"('spooked',)\": 1, \"('changed',)\": 1, \"('gained',)\": 1, \"('forgotten',)\": 1, \"('specified',)\": 1, \"('scared',)\": 1, \"('held',)\": 1, \"('instituted',)\": 1, \"('altered',)\": 1, \"('clamped',)\": 1, \"('kept',)\": 1, \"('opened',)\": 1, \"('cited',)\": 1, \"('clashed',)\": 1, \"('stepped',)\": 1, \"('noticed',)\": 1, \"('expedited',)\": 1, \"('banned',)\": 1, \"('painted',)\": 1, \"('watched',)\": 1, \"('decided',)\": 1, \"('offset',)\": 1, \"('written',)\": 1, \"('deteriorated',)\": 1, \"('been',)\": 1, \"('alarmed',)\": 1, \"('Guaranteed',)\": 1, \"('trained',)\": 1, \"('released',)\": 1, \"('rooted',)\": 1, \"('construed',)\": 1, \"('posted',)\": 1, \"('relied',)\": 1, \"('touted',)\": 1, \"('hampered',)\": 1, \"('described',)\": 1, \"('sought',)\": 1, \"('identified',)\": 1, \"('discontinued',)\": 1, \"('spread',)\": 1, \"('registered',)\": 1, \"('Founded',)\": 1, \"('proposed',)\": 1, \"('dressed',)\": 1, \"('advised',)\": 1, \"('implemented',)\": 1, \"('tried',)\": 1, \"('subordinated',)\": 1, \"('combined',)\": 1, \"('added',)\": 1, \"('UPHELD',)\": 1, \"('noted',)\": 1, \"('served',)\": 1, \"('buoyed',)\": 1, \"('related',)\": 1, \"('engineered',)\": 1, \"('paid',)\": 1, \"('maintained',)\": 1, \"('answered',)\": 1, \"('compiled',)\": 1, \"('agreed',)\": 1, \"('vested',)\": 1, \"('earned',)\": 1, \"('done',)\": 1, \"('enclosed',)\": 1, \"('engaged',)\": 1, \"('imported',)\": 1, \"('minted',)\": 1, \"('signed',)\": 1, \"('turned',)\": 1, \"('converted',)\": 1, \"('borrowed',)\": 1, \"('approved',)\": 1, \"('parched',)\": 1, \"('surprised',)\": 1, \"('awarded',)\": 1, \"('raised',)\": 1, \"('lowered',)\": 1, \"('swapped',)\": 1, \"('Posted',)\": 1, \"('enacted',)\": 1, \"('prompted',)\": 1, \"('made',)\": 1, \"('died',)\": 1, \"('preapproved',)\": 1, \"('rolled',)\": 1, \"('troubled',)\": 1, \"('fired',)\": 1, \"('equipped',)\": 1, \"('mixed',)\": 1, \"('consented',)\": 1, \"('funded',)\": 1, \"('indicated',)\": 1, \"('appropriated',)\": 1, \"('refunded',)\": 1, \"('presented',)\": 1, \"('tailored',)\": 1, \"('nominated',)\": 1, \"('treated',)\": 1, \"('hurt',)\": 1, \"('chastised',)\": 1, \"('enhanced',)\": 1, \"('robbed',)\": 1, \"('oriented',)\": 1, \"('flirted',)\": 1, \"('shown',)\": 1, \"('Reached',)\": 1, \"('terminated',)\": 1, \"('opposed',)\": 1, \"('lost',)\": 1, \"('blocked',)\": 1, \"('stabbed',)\": 1, \"('met',)\": 1, \"('nurtured',)\": 1, \"('installed',)\": 1, \"('disapproved',)\": 1, \"('diminished',)\": 1, \"('pleased',)\": 1, \"('blamed',)\": 1, \"('declared',)\": 1, \"('cast',)\": 1, \"('Confronted',)\": 1, \"('included',)\": 1, \"('disclosed',)\": 1, \"('favored',)\": 1, \"('learned',)\": 1, \"('hit',)\": 1, \"('led',)\": 1, \"('confined',)\": 1, \"('repaid',)\": 1, \"('depressed',)\": 1, \"('cooled',)\": 1, \"('replaced',)\": 1, \"('plunged',)\": 1, \"('fallen',)\": 1, \"('requested',)\": 1, \"('seen',)\": 1, \"('orchestrated',)\": 1, \"('performed',)\": 1, \"('empowered',)\": 1, \"('pursued',)\": 1, \"('continued',)\": 1, \"('labeled',)\": 1, \"('wanted',)\": 1, \"('synchronized',)\": 1, \"('viewed',)\": 1, \"('observed',)\": 1, \"('collapsed',)\": 1, \"('pressed',)\": 1, \"('needed',)\": 1, \"('dumped',)\": 1, \"('speculated',)\": 1, \"('characterized',)\": 1, \"('exhausted',)\": 1, \"('infringed',)\": 1, \"('clobbered',)\": 1, \"('run',)\": 1, \"('expanded',)\": 1, \"('guaranteed',)\": 1, \"('finished',)\": 1, \"('argued',)\": 1, \"('automated',)\": 1, \"('knitted',)\": 1, \"('interested',)\": 1, \"('talked',)\": 1, \"('come',)\": 1, \"('attempted',)\": 1, \"('priced',)\": 1, \"('purchased',)\": 1, \"('named',)\": 1, \"('fueled',)\": 1, \"('provoked',)\": 1, \"('read',)\": 1, \"('operated',)\": 1, \"('capped',)\": 1, \"('Annualized',)\": 1, \"('echoed',)\": 1, \"('tightened',)\": 1, \"('suspended',)\": 1, \"('proved',)\": 1, \"('put',)\": 1, \"('warned',)\": 1, \"('entered',)\": 1, \"('surged',)\": 1, \"('associated',)\": 1, \"('quoted',)\": 1, \"('locked',)\": 1, \"('thought',)\": 1, \"('generated',)\": 1, \"('shut',)\": 1, \"('secured',)\": 1, \"('moderated',)\": 1, \"('vowed',)\": 1, \"('drawn',)\": 1, \"('Left',)\": 1, \"('incorporated',)\": 1, \"('moved',)\": 1, \"('referred',)\": 1, \"('ended',)\": 1, \"('ranged',)\": 1, \"('aimed',)\": 1, \"('afflicted',)\": 1, \"('designed',)\": 1, \"('interrogated',)\": 1, \"('set',)\": 1, \"('had',)\": 1, \"('backed',)\": 1, \"('decorated',)\": 1, \"('stripped',)\": 1, \"('judged',)\": 1, \"('escalated',)\": 1, \"('owned',)\": 1, \"('justified',)\": 1, \"('commanded',)\": 1, \"('unsettled',)\": 1, \"('handled',)\": 1, \"('entrusted',)\": 1, \"('threatened',)\": 1, \"('hidden',)\": 1, \"('Provided',)\": 1, \"('broken',)\": 1, \"('managed',)\": 1, \"('stated',)\": 1, \"('played',)\": 1, \"('accrued',)\": 1, \"('laid',)\": 1, \"('retained',)\": 1, \"('inserted',)\": 1, \"('manufactured',)\": 1, \"('accounted',)\": 1, \"('insured',)\": 1, \"('crippled',)\": 1, \"('upheld',)\": 1, \"('diagnosed',)\": 1, \"('accepted',)\": 1, \"('halted',)\": 1, \"('financed',)\": 1, \"('prosecuted',)\": 1, \"('gone',)\": 1, \"('grown',)\": 1, \"('applied',)\": 1, \"('postponed',)\": 1, \"('competed',)\": 1, \"('superimposed',)\": 1, \"('caught',)\": 1, \"('tested',)\": 1, \"('classified',)\": 1, \"('serviced',)\": 1, \"('cushioned',)\": 1, \"('assumed',)\": 1, \"('carried',)\": 1, \"('reported',)\": 1, \"('elected',)\": 1, \"('muffled',)\": 1, \"('Concerned',)\": 1, \"('adopted',)\": 1, \"('harmed',)\": 1, \"('received',)\": 1, \"('portrayed',)\": 1, \"('interviewed',)\": 1, \"('milked',)\": 1, \"('feared',)\": 1, \"('introduced',)\": 1, \"('forced',)\": 1, \"('withdrawn',)\": 1, \"('accused',)\": 1, \"('squeezed',)\": 1, \"('obtained',)\": 1, \"('surfaced',)\": 1, \"('crossed',)\": 1, \"('sent',)\": 1, \"('caused',)\": 1, \"('perceived',)\": 1, \"('ensnarled',)\": 1, \"('recruited',)\": 1, \"('codified',)\": 1, \"('triggered',)\": 1, \"('measured',)\": 1, \"('attached',)\": 1, \"('adjusted',)\": 1, \"('built',)\": 1, \"('instructed',)\": 1, \"('fined',)\": 1, \"('rarefied',)\": 1, \"('obsessed',)\": 1, \"('twinned',)\": 1, \"('disappointed',)\": 1, \"('prepared',)\": 1, \"('clarified',)\": 1, \"('tracked',)\": 1, \"('prolonged',)\": 1, \"('designated',)\": 1, \"('upset',)\": 1, \"('Filmed',)\": 1, \"('sold',)\": 1, \"('discussed',)\": 1, \"('owed',)\": 1, \"('assigned',)\": 1, \"('exacerbated',)\": 1, \"('beaten',)\": 1, \"('transformed',)\": 1, \"('faded',)\": 1, \"('provided',)\": 1, \"('connected',)\": 1, \"('placed',)\": 1, \"('assessed',)\": 1, \"('Funded',)\": 1, \"('exposed',)\": 1, \"('damaged',)\": 1, \"('employed',)\": 1, \"('Stung',)\": 1, \"('ratified',)\": 1, \"('targeted',)\": 1, \"('chopped',)\": 1, \"('dismissed',)\": 1, \"('dropped',)\": 1, \"('deprived',)\": 1, \"('shipped',)\": 1, \"('achieved',)\": 1, \"('asked',)\": 1, \"('scattered',)\": 1, \"('classed',)\": 1, \"('mired',)\": 1, \"('created',)\": 1, \"('preferred',)\": 1, \"('discarded',)\": 1, \"('Rekindled',)\": 1, \"('impressed',)\": 1, \"('rejected',)\": 1, \"('spent',)\": 1, \"('advertised',)\": 1, \"('overpriced',)\": 1, \"('left',)\": 1, \"('welcomed',)\": 1, \"('rationed',)\": 1, \"('missed',)\": 1, \"('scrambled',)\": 1, \"('denied',)\": 1, \"('allowed',)\": 1, \"('covered',)\": 1, \"('founded',)\": 1, \"('recorded',)\": 1, \"('tanked',)\": 1, \"('inflated',)\": 1, \"('confirmed',)\": 1, \"('structured',)\": 1, \"('documented',)\": 1, \"('coupled',)\": 1, \"('tripled',)\": 1, \"('corrected',)\": 1, \"('curbed',)\": 1, \"('cut',)\": 1, \"('surveyed',)\": 1, \"('Asked',)\": 1, \"('focused',)\": 1, \"('exercised',)\": 1, \"('deemed',)\": 1, \"('cleaned',)\": 1, \"('amended',)\": 1, \"('offered',)\": 1, \"('estimated',)\": 1, \"('taken',)\": 1, \"('sustained',)\": 1, \"('contained',)\": 1, \"('represented',)\": 1, \"('required',)\": 1, \"('stoked',)\": 1, \"('ordered',)\": 1, \"('forgiven',)\": 1, \"('industrialized',)\": 1, \"('spurred',)\": 1, \"('improved',)\": 1, \"('worried',)\": 1, \"('enjoyed',)\": 1, \"('voted',)\": 1, \"('embroiled',)\": 1, \"('incurred',)\": 1, \"('expressed',)\": 1, \"('positioned',)\": 1, \"('anticipated',)\": 1, \"('formed',)\": 1, \"('marketed',)\": 1, \"('alienated',)\": 1, \"('looked',)\": 1, \"('rung',)\": 1, \"('launched',)\": 1, \"('pushed',)\": 1, \"('said',)\": 1, \"('flooded',)\": 1, \"('renovated',)\": 1, \"('romanticized',)\": 1, \"('expelled',)\": 1, \"('strapped',)\": 1, \"('rated',)\": 1, \"('wedded',)\": 1, \"('assembled',)\": 1, \"('redeemed',)\": 1, \"('pegged',)\": 1, \"('burned',)\": 1, \"('educated',)\": 1, \"('issued',)\": 1, \"('disputed',)\": 1, \"('responded',)\": 1, \"('collected',)\": 1, \"('negotiated',)\": 1, \"('Put',)\": 1, \"('appointed',)\": 1, \"('gored',)\": 1, \"('practiced',)\": 1, \"('faced',)\": 1, \"('headlined',)\": 1, \"('mollified',)\": 1, \"('existed',)\": 1, \"('mentioned',)\": 1, \"('filled',)\": 1, \"('supported',)\": 1, \"('refused',)\": 1, \"('fed',)\": 1, \"('produced',)\": 1, \"('reclaimed',)\": 1, \"('Given',)\": 1, \"('killed',)\": 1, \"('attracted',)\": 1, \"('based',)\": 1, \"('Developed',)\": 1, \"('fattened',)\": 1, \"('barred',)\": 1, \"('called',)\": 1, \"('rescheduled',)\": 1, \"('rectified',)\": 1, \"('frozen',)\": 1, \"('listed',)\": 1, \"('chaired',)\": 1, \"('crowded',)\": 1, \"('murdered',)\": 1, \"('reduced',)\": 1, \"('considered',)\": 1, \"('overcome',)\": 1, \"('kicked',)\": 1, \"('abandoned',)\": 1, \"('outpaced',)\": 1, \"('reaped',)\": 1, \"('returned',)\": 1, \"('lifted',)\": 1, \"('settled',)\": 1, \"('defined',)\": 1, \"('alleged',)\": 1, \"('announced',)\": 1, \"('executed',)\": 1, \"('divided',)\": 1, \"('printed',)\": 1, \"('shaken',)\": 1, \"('Estimated',)\": 1, \"('switched',)\": 1, \"('Regarded',)\": 1, \"('valued',)\": 1, \"('jumped',)\": 1, \"('chilled',)\": 1, \"('regulated',)\": 1} \n",
      "\n",
      "[S] {'([NPSBJ], [VP])': 121, '([NPSBJ], [PPLOCPRD])': 1, '([NPSBJ], [VP], [.])': 59, '([NPSBJ], [NPTMP], [VP], [.])': 2, '([NPSBJ], [VP], [ADVPTMP])': 2, '([ADVPTMP], [NPSBJ], [VP], [.])': 3, '([PPLOC], [NPSBJ], [VP], [.])': 4, '([NPSBJ], [PRN], [VP], [.])': 4, '([STPC], [NPSBJ], [VP], [.])': 2, '([CC], [NPSBJ], [ADVP], [VP])': 1, '([NPSBJ], [PRN], [VP])': 2, '([INTJ], [,], [NPSBJ], [VP])': 1, '([NPSBJ], [VP], [:])': 2, '([SBARTMP], [,], [NPSBJ], [VP])': 4, '([PP], [NPSBJ], [VP])': 4, '([IN], [NPSBJ], [VP], [.])': 1, '([NPTMP], [NPSBJ], [VP])': 2, '([NPSBJ], [UCPPRD])': 1, '([NPSBJ], [ADJPPRD], [NPTMP])': 1, '([PP], [NPSBJ], [VP], [.])': 2, '([PP], [,], [NPSBJ], [VP])': 5, \"([NPSBJ], [``], [NPPRD], [''])\": 1, '([PPTMP], [,], [NPSBJ], [VP])': 4, '([ADVP], [,], [NPSBJ], [VP])': 2, '([LST], [NPSBJ], [VP], [PRN])': 1, '([``], [PPMNR], [NPSBJ], [VP])': 1, \"([NPSBJ], [VP], [.], [''])\": 2, '([NPSBJ], [ADJPPRD])': 3, '([``], [NPSBJ], [VP], [:])': 2, '([ADVPTMP], [NPSBJ], [VP])': 1, '([NPSBJ], [ADVP], [VP])': 4, '([S], [,], [NPSBJ], [VP])': 1, '([CC], [NPSBJ], [ADVPTMP], [VP])': 1, '([CC], [SNOMSBJ], [VP], [.])': 1, '([NPSBJ], [``], [VP], [.])': 1, '([S], [,], [S], [.])': 1, '([S], [CC], [S])': 1, '([CC], [NPTTLSBJ], [VP], [.])': 1, '([NPSBJ], [ADJPPRD], [S])': 2, '([NPSBJ], [:], [VP])': 2, '([NPSBJ], [NPPRD])': 1, '([NPSBJ], [RB], [VP], [.])': 1, '([NPSBJ], [ADVPTMP], [VP])': 4, '([NPSBJ], [``], [NPPRD])': 1, '([CC], [NPSBJ], [VP], [.])': 7, '([NPTTLSBJ], [VP])': 2, '([ADVPTMP], [S], [CC], [S])': 1, '([NPSBJ], [ADVP], [VP], [.])': 6, '([``], [NPSBJ], [VP])': 2, '([NPSBJ], [ADVPMNR], [VP], [.])': 1, '([ADVP], [NPSBJ], [VP])': 2, '([PPPRP], [NPSBJ], [VP])': 1, '([NPSBJ], [,], [VP], [.])': 2, '([S], [,], [CC], [S])': 1, '([SNOMSBJ], [VP], [.])': 1, '([NPSBJ], [``], [RB], [ADJPPRD])': 1, '([NPSBJ], [NPTTLPRD])': 1, '([NPSBJ], [VP], [,])': 2, '([SNOMSBJ], [VP])': 2, '([PRN], [NPSBJ], [VP])': 1, \"([SBARNOMSBJ], [VP], [.], [''])\": 1, '([SBARNOMSBJ], [VP])': 1, '([S], [CC], [S], [.])': 1, '([S], [,], [S])': 1, '([SBARTMP], [NPSBJ], [VP])': 2, '([NPSBJ], [ADVPTMP], [VP], [.])': 4, '([NPTTLSBJ], [VP], [.])': 1, '([NPSBJ], [ADJPPRD], [PP])': 1, '([SBARADV], [,], [NPSBJ], [VP])': 3, '([``], [NPSBJ], [VP], [.])': 2, '([PPTPC], [,], [NPSBJ], [VP])': 1, '([NPSBJ], [,], [VP])': 2, '([NPTMP], [NPSBJ], [VP], [.])': 2, '([ADVP], [PRN], [NPSBJ], [VP])': 1, '([NPSBJ], [ADVPTMP], [``], [VP])': 1, '([PPLOC], [,], [NPSBJ], [VP])': 2, '([NPSBJ], [VP], [PPTMP])': 1, '([ADJPPRD], [NPSBJ])': 1, '([SBARADV], [NPSBJ], [VP], [.])': 1, '([ADVPTMP], [,], [NPSBJ], [VP])': 2, '([NONE],)': 1, '([NPTTLSBJ], [ADVPTMP], [VP])': 1, '([NPSBJ], [ADVPPRDLOC])': 1, '([NPVOC], [INTJ], [NPSBJ], [VP])': 1, '([STPC], [,], [NPSBJ], [VP])': 1, '([SADV], [,], [NPSBJ], [VP])': 4, '([NPSBJ], [ADVPLOC], [:], [VP])': 1, \"([``], [NPTTLSBJ], [''], [VP])\": 1, '([PPLOC], [NPSBJ], [VP])': 1, '([NPSBJ], [PP], [VP])': 1, '([:], [NPSBJ], [VP], [.])': 1, '([SNOMSBJ], [ADVP], [VP])': 1, '([NPSBJ], [``], [VP])': 2, \"([``], [NPSBJ], [''], [VP])\": 2, '([S], [:], [NN], [S])': 1, '([NPSBJ], [NPPRDTTL])': 1, '([ADVP], [NPSBJ], [VP], [.])': 2, '([PPTMP], [NPSBJ], [VP])': 2, '([SNOMSBJ], [ADJPPRD])': 1, '([NPSBJ], [RB], [VP])': 1, '([NPSBJ], [VP], [CC], [VP])': 1, '([UCP], [,], [NPSBJ], [VP])': 1, '([S], [:], [S], [.])': 2, '([S], [CC], [S], [S])': 1, '([NPSBJ], [CONJP], [VP])': 1, '([SBARADV], [NPSBJ], [VP])': 1, '([NPSBJ], [PPPRD])': 1, '([NPSBJ], [ADVPPRD])': 1, '([ADVPMNR], [NPSBJ], [VP], [.])': 1, '([``], [SBARNOMSBJ], [VP], [.])': 1, '([NPSBJ], [PPPRD], [S])': 1, '([S], [:], [S])': 1, '([ADJPPRD], [SBARSBJ])': 1, '([NPSBJ], [PPTMP], [VP], [.])': 1, '([NPSBJ], [ADVPMNR], [VP])': 1, '([NPMNR], [NPSBJ], [VP], [.])': 1, '([IN], [NPSBJ], [VP])': 1, '([NPSBJ], [PPCLR])': 1, '([SBARPRP], [,], [NPSBJ], [VP])': 1, '([NPSBJ], [ADVPLOC], [VP], [.])': 1, '([PPTMP], [NPSBJ], [VP], [.])': 1, '([ADVPMNR], [,], [NPSBJ], [VP])': 1, \"([SSBJ], [''], [VP], [.])\": 1, '([NPSBJ], [NPPRD], [S])': 1, \"([''], [NPSBJ], [VP], [.])\": 1, '([PPMNR], [,], [NPSBJ], [VP])': 1, '([NPSBJ], [NPTMP])': 1, '([NPSBJ], [ADJPPRD], [ADVP])': 1, '([SBARNOMSBJ], [VP], [.])': 1, '([CC], [NPSBJ], [VP])': 1, '([NPSBJ], [PPTMP], [VP])': 1, '([NPTPC], [,], [NPSBJ], [VP])': 1, '([NPSBJ], [NPTMP], [VP])': 1, '([NPSBJ], [:], [VP], [.])': 1, '([NPSBJ], [``], [PPTTL])': 1, '([RB], [NPSBJ], [VP], [.])': 1, '([SADV], [NPSBJ], [VP], [.])': 1, '([NPSBJ], [VP], [PPLOC])': 1, '([LST], [NPSBJ], [VP], [.])': 1, '([NPSBJ], [DT], [VP], [.])': 1} \n",
      "\n",
      "[VBP] {\"('recognize',)\": 1, \"('require',)\": 1, \"('study',)\": 1, \"('reach',)\": 1, \"(''ve',)\": 1, \"('mean',)\": 1, \"('contain',)\": 1, \"('portray',)\": 1, \"('find',)\": 1, \"('lengthen',)\": 1, \"('differ',)\": 1, \"('play',)\": 1, \"('jostle',)\": 1, \"('describe',)\": 1, \"('belong',)\": 1, \"('need',)\": 1, \"('total',)\": 1, \"('undercut',)\": 1, \"('denounce',)\": 1, \"('buy',)\": 1, \"('fail',)\": 1, \"('exhaust',)\": 1, \"('give',)\": 1, \"('work',)\": 1, \"('conflict',)\": 1, \"('respond',)\": 1, \"('resent',)\": 1, \"('invest',)\": 1, \"('Do',)\": 1, \"('skip',)\": 1, \"('fly',)\": 1, \"('begin',)\": 1, \"('lead',)\": 1, \"('settle',)\": 1, \"('hope',)\": 1, \"('applaud',)\": 1, \"('help',)\": 1, \"('air',)\": 1, \"('propose',)\": 1, \"(''re',)\": 1, \"('touch',)\": 1, \"('draw',)\": 1, \"('run',)\": 1, \"('read',)\": 1, \"('offer',)\": 1, \"('want',)\": 1, \"('set',)\": 1, \"('swim',)\": 1, \"('argue',)\": 1, \"('talk',)\": 1, \"('expect',)\": 1, \"('test',)\": 1, \"('lock',)\": 1, \"('import',)\": 1, \"('state',)\": 1, \"('mention',)\": 1, \"('go',)\": 1, \"('stand',)\": 1, \"('attract',)\": 1, \"('seek',)\": 1, \"('battle',)\": 1, \"('ripen',)\": 1, \"('allow',)\": 1, \"('complain',)\": 1, \"('amass',)\": 1, \"('hit',)\": 1, \"('agree',)\": 1, \"('are',)\": 1, \"('suspect',)\": 1, \"('tell',)\": 1, \"('memorize',)\": 1, \"('operate',)\": 1, \"('live',)\": 1, \"('cry',)\": 1, \"('call',)\": 1, \"('violate',)\": 1, \"('do',)\": 1, \"('create',)\": 1, \"('send',)\": 1, \"('continue',)\": 1, \"('intend',)\": 1, \"('recede',)\": 1, \"('regard',)\": 1, \"('accept',)\": 1, \"('take',)\": 1, \"('indicate',)\": 1, \"('concede',)\": 1, \"(''m',)\": 1, \"('appear',)\": 1, \"('oppose',)\": 1, \"('voice',)\": 1, \"('build',)\": 1, \"('stare',)\": 1, \"('mature',)\": 1, \"('provide',)\": 1, \"('seem',)\": 1, \"('trade',)\": 1, \"('refuse',)\": 1, \"('place',)\": 1, \"('blip',)\": 1, \"('ask',)\": 1, \"('keep',)\": 1, \"('permit',)\": 1, \"('view',)\": 1, \"('like',)\": 1, \"('claim',)\": 1, \"('hang',)\": 1, \"('enjoy',)\": 1, \"('disapprove',)\": 1, \"('ease',)\": 1, \"('tune',)\": 1, \"('bankroll',)\": 1, \"('engage',)\": 1, \"('testdrive',)\": 1, \"('channel',)\": 1, \"('return',)\": 1, \"('espouse',)\": 1, \"('suffer',)\": 1, \"('win',)\": 1, \"('succeed',)\": 1, \"('own',)\": 1, \"('cater',)\": 1, \"('sidestep',)\": 1, \"('suggest',)\": 1, \"('mirror',)\": 1, \"('whistle',)\": 1, \"('meet',)\": 1, \"('pay',)\": 1, \"('hold',)\": 1, \"('assist',)\": 1, \"('represent',)\": 1, \"('delay',)\": 1, \"('calculate',)\": 1, \"('commit',)\": 1, \"('hire',)\": 1, \"('face',)\": 1, \"('advocate',)\": 1, \"('transcribe',)\": 1, \"('approve',)\": 1, \"('show',)\": 1, \"('point',)\": 1, \"('copy',)\": 1, \"('encourage',)\": 1, \"('stem',)\": 1, \"('evoke',)\": 1, \"('subscribe',)\": 1, \"('manage',)\": 1, \"('stop',)\": 1, \"('ring',)\": 1, \"('possess',)\": 1, \"('plan',)\": 1, \"('drift',)\": 1, \"('drink',)\": 1, \"('dismiss',)\": 1, \"('deserve',)\": 1, \"('approach',)\": 1, \"('examine',)\": 1, \"('have',)\": 1, \"('teach',)\": 1, \"('conclude',)\": 1, \"('pull',)\": 1, \"('know',)\": 1, \"('arise',)\": 1, \"('fear',)\": 1, \"('range',)\": 1, \"('Lure',)\": 1, \"('change',)\": 1, \"('underscore',)\": 1, \"('spook',)\": 1, \"('refer',)\": 1, \"('decide',)\": 1, \"('expire',)\": 1, \"('materialize',)\": 1, \"('ascribe',)\": 1, \"('start',)\": 1, \"('think',)\": 1, \"('make',)\": 1, \"('watch',)\": 1, \"('realize',)\": 1, \"('extend',)\": 1, \"('weigh',)\": 1, \"('fare',)\": 1, \"('flush',)\": 1, \"('promise',)\": 1, \"('note',)\": 1, \"('mark',)\": 1, \"('urge',)\": 1, \"('imply',)\": 1, \"('pine',)\": 1, \"('sell',)\": 1, \"('walk',)\": 1, \"('promote',)\": 1, \"('conduct',)\": 1, \"('spend',)\": 1, \"('constitute',)\": 1, \"('prefer',)\": 1, \"('receive',)\": 1, \"('deal',)\": 1, \"('jet',)\": 1, \"('improve',)\": 1, \"('feel',)\": 1, \"('print',)\": 1, \"('occur',)\": 1, \"('feed',)\": 1, \"('advise',)\": 1, \"('get',)\": 1, \"('has',)\": 1, \"('deem',)\": 1, \"('tend',)\": 1, \"('contrast',)\": 1, \"('beat',)\": 1, \"('predict',)\": 1, \"('raise',)\": 1, \"('consider',)\": 1, \"('eat',)\": 1, \"('look',)\": 1, \"('carry',)\": 1, \"('assume',)\": 1, \"('reflect',)\": 1, \"('convey',)\": 1, \"('cause',)\": 1, \"('insist',)\": 1, \"('telegraph',)\": 1, \"('charge',)\": 1, \"('say',)\": 1, \"('sound',)\": 1, \"('account',)\": 1, \"('weaken',)\": 1, \"('lack',)\": 1, \"('disagree',)\": 1, \"('rise',)\": 1, \"('become',)\": 1, \"('appeal',)\": 1, \"('swing',)\": 1, \"('perpetuate',)\": 1, \"('include',)\": 1, \"('cite',)\": 1, \"('avoid',)\": 1, \"('use',)\": 1, \"('question',)\": 1, \"('dislike',)\": 1, \"('exceed',)\": 1, \"('kill',)\": 1, \"('fall',)\": 1, \"('trespass',)\": 1, \"('understand',)\": 1, \"('profess',)\": 1, \"('worry',)\": 1, \"('prevent',)\": 1, \"('drive',)\": 1, \"('figure',)\": 1, \"('consist',)\": 1, \"('decline',)\": 1, \"('pursue',)\": 1, \"('come',)\": 1, \"('let',)\": 1, \"('stretch',)\": 1, \"('loom',)\": 1, \"('add',)\": 1, \"('believe',)\": 1, \"('see',)\": 1, \"('eliminate',)\": 1, \"('warn',)\": 1, \"('ai',)\": 1} \n",
      "\n",
      "[WHNP] {'([WP],)': 133, '([WDT],)': 162, '([WP$], [NN])': 3, '([WHNP], [PP])': 2, '([WDT], [NN])': 2, '([NONE],)': 4, '([WDT], [JJ], [NN])': 1, '([IN],)': 5, '([WP$], [NP])': 1, '([QP], [NONE])': 1, '([WDT], [NNS])': 3, '([WP$], [NNS])': 3, '([WHNP], [ADVP])': 1, '([PRP],)': 1, '([WP$], [JJ], [NNS])': 1, '([WHNP], [WHPP])': 2, '([WDT], [JJ], [NNS])': 1, '([WP$], [NN], [NN])': 1, '([WDT], [NN], [NNS])': 1, '([WP], [RB])': 1, '([WP], [NN])': 1, '([NP], [WHPP])': 1, '([WRB], [RB])': 1, '([WHNP], [PP], [ADJP])': 1, '([DT],)': 1, '([WP$], [NN], [CC], [NN])': 1, '([WHNP], [,], [NP], [,])': 1, '([DT], [NN])': 1, '([DT], [WHPP])': 1, '([WRB], [JJ])': 1} \n",
      "\n",
      "[UCP] {'([PPTMP], [,], [CC], [S])': 1, '([NP], [CC], [ADJP])': 1, '([S], [CC], [SBAR])': 1, '([JJ], [CC], [NNP], [NNP])': 1, '([PP], [PRN])': 1, '([SBARTMP], [CC], [SPRP])': 1, '([ADVP], [CC], [PP])': 1, '([ADJP], [CC], [NP])': 1, '([NNP], [CC], [JJ])': 1, '([NN], [CC], [JJ])': 1, '([NP], [CC], [SBAR])': 1, '([JJ], [CC], [NN])': 1} \n",
      "\n",
      "[CC] {\"('plus',)\": 1, \"('Or',)\": 1, \"('versus',)\": 1, \"('nor',)\": 1, \"('yet',)\": 1, \"('but',)\": 1, \"('and',)\": 1, \"('Nor',)\": 1, \"('minus',)\": 1, \"('or',)\": 1, \"('either',)\": 1, \"('v.',)\": 1, \"('Either',)\": 1, \"('&',)\": 1, \"('And',)\": 1, \"('But',)\": 1, \"('Yet',)\": 1} \n",
      "\n",
      "[PDT] {\"('such',)\": 1, \"('half',)\": 1, \"('Such',)\": 1, \"('both',)\": 1, \"('all',)\": 1} \n",
      "\n",
      "[RBR] {\"('less',)\": 1, \"('harder',)\": 1, \"('more',)\": 1, \"('longer',)\": 1, \"('later',)\": 1, \"('drearier',)\": 1, \"('earlier',)\": 1, \"('closer',)\": 1, \"('higher',)\": 1, \"('More',)\": 1, \"('better',)\": 1, \"('further',)\": 1, \"('lower',)\": 1, \"('never',)\": 1, \"('sooner',)\": 1} \n",
      "\n",
      "[PRN] {'([LRB], [ADJP], [RRB])': 1, '([LRB], [NP], [RRB])': 1, '([:], [SBAR])': 1, '([,], [PP])': 1, '([:], [NP], [PPDIR], [:])': 1, '([,], [SBARLOC], [,])': 1, '([:], [S], [:])': 1, '([SINV],)': 1, '([,], [NPSBJ], [VP], [,])': 1, '([:], [ADVP], [NP])': 1, '([SBAR],)': 1, '([S],)': 1, '([:], [ADJP])': 1, '([,], [SINV], [,])': 1, '([LRB], [VP], [RRB])': 1, '([,], [NP], [,])': 1, '([,], [ADVPTMP], [,])': 1, '([,], [CC], [NP])': 1, '([,], [SBAR], [,])': 1, '([:], [SBARSBJ], [:])': 1, '([LRB], [SADV], [RRB])': 1, '([LRB], [PP], [RRB])': 1, '([,], [S], [,])': 1, \"([,], [''], [S], [,])\": 1, '([:], [ADJP], [:])': 1, '([,], [IN], [DT], [,])': 1, '([:], [PP])': 1, '([,], [PPLOC], [,])': 1, '([:], [CC], [JJ], [:])': 1, '([,], [PP], [,])': 1, '([:], [CC], [NP], [:])': 1, '([:], [PP], [NP])': 1, '([:], [S])': 1, '([,], [ADVPMNR], [,])': 1, '([:], [PP], [:])': 1, '([,], [PPTMP], [,])': 1, '([:], [NP], [:])': 1, '([LRB], [SBARADV], [RRB])': 1, '([:], [CC], [NN], [:])': 1, '([,], [INTJ], [NP], [,])': 1, '([LRB], [CC], [VP], [RRB])': 1, '([,], [ADVP], [,])': 1, '([LRB], [ADVP], [NP], [RRB])': 1, '([LRB], [NP], [PP], [RRB])': 1, '([LRB], [NPLOC], [RRB])': 1, '([,], [SBARADV], [,])': 1, '([LRB], [S], [RRB])': 1, '([:], [SBAR], [:])': 1, '([,], [CC], [PPCLR])': 1, '([:], [PPTMP], [:])': 1, \"([,], [''], [SINV], [,])\": 1, '([:], [VP], [:])': 1, '([:], [NPLOC], [PPTMP])': 1, '([:], [SADV], [:])': 1, '([:], [NP])': 1, '([,], [PPMNR], [,])': 1, '([:], [NP], [PP], [:])': 1, '([SINV], [,])': 1} \n",
      "\n",
      "[ADVPTMP] {'([NP], [IN])': 1, '([ADVP], [SBAR])': 1, '([DT], [IN], [DT], [JJ])': 1, '([ADVP], [PP])': 1, '([NP], [RB], [PP])': 1, '([IN], [RB])': 1, '([NONE],)': 1, '([IN], [JJS], [RB])': 1, '([RBR],)': 1, '([RB], [IN])': 1, '([JJ], [RP])': 1, '([JJR],)': 1, '([RB], [CC], [RB])': 1, '([RBS], [RB])': 1, '([NN],)': 1, '([RB], [RB], [RB])': 1, '([RB],)': 1, '([DT], [RBR])': 1, '([IN],)': 1, '([NP], [RB])': 1, '([RB], [RB])': 1, '([RBR], [NP])': 1, '([NP], [JJR])': 1, '([RB], [.])': 1, '([RB], [PP])': 1, '([NP], [JJ])': 1, '([NP], [RBR])': 1, '([RBR], [RB])': 1, '([IN], [RB], [SBAR])': 1, '([RB], [JJR])': 1, '([IN], [IN])': 1, '([RB], [RBR])': 1, '([JJ],)': 1, '([NPADV], [PRN])': 1, '([RB], [RB], [PP])': 1} \n",
      "\n",
      "[NONE] {\"('*T*',)\": 259, \"('*',)\": 164, \"('*PPA*',)\": 3, \"('*U*',)\": 1, \"('*ICH*',)\": 4, \"('*NOT*',)\": 1, \"('*RNR*',)\": 3, \"('*EXP*',)\": 3, \"('0',)\": 1, \"('*?*',)\": 1} \n",
      "\n",
      "[NNPS] {\"('BILLS',)\": 1, \"('Islands',)\": 1, \"('Services',)\": 1, \"('Friends',)\": 1, \"('Fundamentalists',)\": 1, \"('Securities',)\": 1, \"('Lawmakers',)\": 1, \"('Republicans',)\": 1, \"('Delegates',)\": 1, \"('BRIEFS',)\": 1, \"('Netherlands',)\": 1, \"('Institutes',)\": 1, \"('Parkinson',)\": 1, \"('Industries',)\": 1, \"('Options',)\": 1, \"('Dolphins',)\": 1, \"('Writers',)\": 1, \"('Airlines',)\": 1, \"('Asians',)\": 1, \"('Yorkers',)\": 1, \"('Springs',)\": 1, \"('Preferences',)\": 1, \"('Chardonnays',)\": 1, \"('Foods',)\": 1, \"('Cabernets',)\": 1, \"('Craftsmen',)\": 1, \"('Toys',)\": 1, \"('Bricklayers',)\": 1, \"('Systems',)\": 1, \"('Tots',)\": 1, \"('Materials',)\": 1, \"('Lawyers',)\": 1, \"('Americans',)\": 1, \"('Instruments',)\": 1, \"('Motors',)\": 1, \"('Philippines',)\": 1, \"('Publications',)\": 1, \"('Plains',)\": 1, \"('Appropriations',)\": 1, \"('Charities',)\": 1, \"('Travelers',)\": 1, \"('Markets',)\": 1, \"('Messrs.',)\": 1, \"('Stores',)\": 1, \"('Containers',)\": 1, \"('Savings',)\": 1, \"('Underwoods',)\": 1, \"('Dakotas',)\": 1, \"('ASSETS',)\": 1, \"('ASSOCIATES',)\": 1, \"('Notes',)\": 1, \"('RATES',)\": 1, \"('FUNDS',)\": 1, \"('Investors',)\": 1, \"('Articles',)\": 1, \"('Laboratories',)\": 1, \"('Fseries',)\": 1, \"('Productions',)\": 1, \"('Rieslings',)\": 1, \"('Builders',)\": 1, \"('Bridges',)\": 1, \"('Machines',)\": 1, \"('Partners',)\": 1, \"('Burgundies',)\": 1, \"('ADRs',)\": 1, \"('Virginians',)\": 1, \"('Angels',)\": 1, \"('States',)\": 1, \"('Centers',)\": 1, \"('Utilities',)\": 1, \"('Dealers',)\": 1, \"('Appeals',)\": 1, \"('Democrats',)\": 1, \"('Works',)\": 1, \"('Giants',)\": 1, \"('Brothers',)\": 1, \"('Soviets',)\": 1, \"('Futures',)\": 1, \"('Resources',)\": 1, \"('Communications',)\": 1, \"('Nations',)\": 1, \"('Associates',)\": 1} \n",
      "\n",
      "[ADJPPRD] {'([JJ], [NP])': 1, '([VBN], [NP], [PP])': 1, '([RBR], [VBN])': 1, '([RB], [VBN])': 1, \"([``], [RB], [VBN], [''])\": 1, '([JJ], [RBR])': 1, '([RB], [JJ], [S])': 2, '([RBR], [JJ])': 1, '([JJ], [NPTMP])': 1, '([ADJP], [CC], [RB], [ADJP])': 1, '([RB], [JJ], [PPLOC])': 1, '([JJR], [CC], [JJR], [SBAR])': 1, '([NN],)': 1, '([RB], [SCLR])': 1, '([JJ], [PPTMP])': 1, '([RB], [RBR], [JJ])': 1, '([QP], [JJR])': 1, '([VBN], [SBAR])': 1, '([UH],)': 1, '([JJR], [IN])': 1, '([JJ], [RB], [S])': 1, '([RBR], [JJ], [SBAR])': 1, '([JJ], [PPDIR])': 1, '([IN], [NP])': 1, '([JJ], [SBAR])': 1, '([JJ], [CC], [JJ])': 1, '([VBD],)': 1, '([ADJP], [,], [ADJP])': 1, '([IN], [SNOM])': 1, '([RB], [VBG], [PP])': 1, '([JJ], [NPTMP], [PP])': 1, '([NPADV], [RB], [PPDIR])': 1, '([RB], [JJ], [PP])': 1, '([JJ],)': 1, '([NPADV], [JJR])': 1, '([ADJP], [CC], [ADJP])': 1, '([JJ], [PP])': 1, '([RBR], [JJ], [S])': 1, '([JJS],)': 1, '([NPADV], [JJ])': 1, '([ADJP], [CC], [ADJP], [SBAR])': 1, '([RB], [VBN], [S])': 1, '([VBN],)': 1, '([VBN], [PP])': 1, '([RB],)': 1, '([JJ], [PPLOC])': 1, '([RBS], [JJ])': 1, \"([``], [VBN], [''], [PPCLR])\": 1, '([VB],)': 1, '([JJ], [,], [RB], [JJ])': 1, '([ADVP], [IN], [JJ], [PP])': 1, '([RB], [JJ], [CC], [JJ])': 1, '([RB], [VBN], [PP])': 1, '([NONE],)': 1, '([RBR], [JJ], [PP])': 1, '([RB], [RB])': 1, '([ADJP], [S])': 1, '([VBG],)': 1, '([JJR],)': 1, '([JJR], [SBAR])': 1, '([JJ], [PP], [``], [PP])': 1, '([RB], [JJ], [SBAR])': 1, '([RB], [JJ])': 1, '([ADVP], [JJ])': 1, '([RB], [SBAR])': 1, '([RB], [JJR])': 1, '([JJ], [CC], [JJ], [PP])': 1, '([ADJP], [SBAR])': 1, '([ADJP], [PP])': 1, '([JJR], [PP])': 1, '([JJ], [S])': 1, \"([``], [JJ], [''])\": 1} \n",
      "\n",
      "[ADVPDIR] {'([IN],)': 1, '([RB], [CC], [RB])': 1, '([JJR], [PP])': 1, '([RB], [IN])': 1, '([NONE],)': 1, '([RBR],)': 1, '([RB],)': 1, '([RP],)': 1, '([RB], [PP])': 1, '([RBR], [PP])': 1, '([NN], [NN], [RB])': 1, '([RB], [RB])': 1, '([RB], [NP])': 1} \n",
      "\n",
      "[NPLOC] {'([NNP],)': 1, '([NNP], [.])': 1, '([NP], [,], [NP])': 1, '([RB],)': 1, '([NP], [,], [NP], [,])': 1, '([DT], [NNP])': 1, '([NNP], [NNP])': 1} \n",
      "\n",
      "[QP] {'([RBR], [IN], [DT])': 1, '([JJR], [IN], [CD], [CD])': 1, '([CC], [RBR])': 1, '([CD], [CC], [CD])': 1, '([IN], [CD], [CD])': 1, '([RB], [IN], [CD], [CD])': 1, '([CD], [CC], [JJR])': 1, '([IN], [#], [CD], [CD])': 1, '([JJR], [IN], [CD])': 1, '([RB], [JJ])': 1, '([CD], [NNS])': 1, '([IN], [$], [CD], [CD])': 1, '([RB], [JJR], [IN], [CD])': 1, '([JJ], [NNS])': 1, '([RBR], [IN], [CD])': 1, '([JJR], [IN], [DT], [JJ])': 1, '([DT], [$], [CD], [CD])': 1, '([JJR], [IN], [$], [CD])': 1, '([JJ], [CD], [CD])': 1, '([CC], [RB])': 2, '([IN], [$], [CD])': 1, '([DT], [NN], [IN], [CD])': 1, '([IN], [JJS], [CD])': 1, '([IN], [IN], [CD])': 1, '([JJR], [IN], [DT])': 1, '([CC], [CD])': 1, '([JJR], [IN], [PDT])': 1, '([JJ], [IN], [CD], [NNS])': 1, '([$], [CD], [CD])': 1, '([IN], [JJS], [DT])': 1, '([IN], [TO], [CD])': 1, '([RB], [DT], [NN])': 1, '([CC], [JJR])': 1, '([DT], [CD], [CD])': 1, '([CD], [CC], [RB])': 1, '([IN], [CD])': 1, '([DT], [CD])': 1, '([RB], [IN], [CD])': 1, '([RB], [$], [CD])': 1, '([RB], [$], [CD], [CD])': 1, '([RB], [JJ], [IN], [CD])': 1, '([RB], [RB], [$], [CD])': 1, '([CD], [CD])': 1, '([DT], [JJ], [CD])': 1, '([RB], [RB], [DT])': 1, '([IN], [JJS], [DT], [NN])': 1, '([RP], [CD])': 1, '([NONE],)': 1, '([RB], [NN])': 1, '([RB], [JJ], [IN], [DT])': 1, '([RB], [DT])': 1, '([CD], [IN], [CD])': 1, '([RB], [CD])': 1, '([IN], [TO], [$], [CD])': 1, '([#], [CD], [CD])': 1, '([CD], [TO], [CD])': 1, '([RB],)': 1, '([RBR], [IN], [CD], [NNS])': 1, '([RB], [DT], [JJ])': 1, '([RB], [CD], [CD])': 1} \n",
      "\n",
      "[STPC] {'([SBARTMP], [,], [NPSBJ], [VP])': 3, '([SADV], [,], [NPSBJ], [VP])': 2, '([NPSBJ], [ADVPTMP], [VP])': 3, '([NPSBJ], [VP])': 10, '([CC], [NPSBJ], [VP])': 2, '([NPSBJ], [ADVP], [VP])': 3, '([PPLOC], [,], [NPSBJ], [VP])': 2, '([CC], [NPSBJ], [NPTMP], [VP])': 1, '([ADVPTMP], [NPSBJ], [VP])': 1, '([S], [:], [SBARQ])': 1, '([NPSBJ], [:], [VP])': 1, '([NPSBJ], [VP], [,])': 2, '([NPTMP], [,], [NPSBJ], [VP])': 2, '([PPTMP], [,], [NPSBJ], [VP])': 3, '([NPSBJ], [``], [VP])': 2, '([SBARADV], [,], [NPSBJ], [VP])': 4, '([S], [IN], [S])': 1, '([PP], [,], [NPSBJ], [VP])': 2, '([NPSBJ], [PRN], [VP])': 1, '([RB], [NPSBJ], [VP])': 1, '([SBARNOMSBJ], [VP])': 1, '([ADVP], [,], [NPSBJ], [VP])': 1, '([SPRP], [,], [NPSBJ], [VP])': 1, '([S], [,], [CC], [S])': 4, '([S], [:], [S])': 2, '([NPSBJ], [ADVP], [ADVPTMP], [VP])': 1, '([CC], [``], [NPSBJ], [VP])': 1, '([SSBJ], [VP])': 1, '([S], [CC], [S])': 2, '([``], [NPSBJ], [VP])': 1, '([SNOMSBJ], [ADVP], [VP])': 1, '([ADVPTMP], [,], [NPSBJ], [VP])': 1, '([SNOMSBJ], [VP])': 1} \n",
      "\n"
     ]
    }
   ],
   "source": [
    "import re\n",
    "\n",
    "\n",
    "def count_rules(parse_trees):\n",
    "    \"\"\"\n",
    "    Gather counts necessary for MLE.\n",
    "    :param parse_trees: a collection of nltk parse trees\n",
    "        - TIP: use the convertion function we provided\n",
    "    :returns: counts as a dictionary of dictionaries mapping from LHS to RULE to count\n",
    "    \"\"\"\n",
    "    cfg = make_cfg(parse_trees)\n",
    "    # Have to strip the -DIGIT part that apparently duplicates.\n",
    "    # (Example implementation doesn't do this.)\n",
    "    count_dict = {re.sub(\"[-=][0-9]*\", '', str(rule._lhs)): {}\n",
    "                  for rule in set(cfg)}\n",
    "    for lhs in count_dict:\n",
    "        for rule in cfg:\n",
    "            if re.sub(\"[-=][0-9]*\", '', str(rule._lhs)) == lhs:\n",
    "                rhs = re.sub(\"[-=][0-9]*\", '', str(rule._rhs))\n",
    "                if rhs not in count_dict[lhs]:\n",
    "                    count_dict[lhs][rhs] = 1\n",
    "                else:\n",
    "                    count_dict[lhs][rhs] += 1\n",
    "    return count_dict\n",
    "\n",
    "\n",
    "joint_counts = count_rules(training_parses)\n",
    "for i, x in enumerate(joint_counts):\n",
    "    if i > 42:\n",
    "        break\n",
    "    print(x, joint_counts[x], \"\\n\")"
   ]
  },
  {
   "cell_type": "code",
   "execution_count": 55,
   "metadata": {
    "colab": {
     "autoexec": {
      "startup": false,
      "wait_interval": 0
     },
     "base_uri": "https://localhost:8080/",
     "height": 7564,
     "output_extras": [
      {
       "item_id": 1
      }
     ]
    },
    "colab_type": "code",
    "executionInfo": {
     "elapsed": 13883,
     "status": "ok",
     "timestamp": 1521214279020,
     "user": {
      "displayName": "Bram Otten",
      "photoUrl": "https://lh3.googleusercontent.com/a/default-user=s128",
      "userId": "110618989541510237728"
     },
     "user_tz": -60
    },
    "id": "i72SLqppLcZX",
    "outputId": "276d9875-099f-4440-931f-c89dd55d9c91"
   },
   "outputs": [
    {
     "name": "stdout",
     "output_type": "stream",
     "text": [
      "[NN] {\"('experience',)\": 1, \"('size',)\": 1, \"('buildup',)\": 1, \"('assemblyline',)\": 1, \"('PHOTOGRAPH',)\": 1, \"('End',)\": 1, \"('paper',)\": 1, \"('rendering',)\": 1, \"('ounce',)\": 1, \"('team',)\": 1, \"('resolution',)\": 1, \"('residence',)\": 1, \"('audit',)\": 1, \"('science',)\": 1, \"('network',)\": 1, \"('operator',)\": 1, \"('course',)\": 1, \"('vintage',)\": 1, \"('centimeter',)\": 1, \"('enforcement',)\": 1, \"('partner',)\": 1, \"('motive',)\": 1, \"('road',)\": 1, \"('syndication',)\": 1, \"('parking',)\": 1, \"('Everyone',)\": 1, \"('measurement',)\": 1, \"('health',)\": 1, \"('bull',)\": 1, \"('restructure',)\": 1, \"('agriculture',)\": 1, \"('speculator',)\": 1, \"('closeup',)\": 1, \"('majority',)\": 1, \"('socialstudies',)\": 1, \"('creature',)\": 1, \"('expert',)\": 1, \"('wonder',)\": 1, \"('backing',)\": 1, \"('surrender',)\": 1, \"('message',)\": 1, \"('web',)\": 1, \"('giant',)\": 1, \"('Trading',)\": 1, \"('bestseller',)\": 1, \"('prejudice',)\": 1, \"('dismissal',)\": 1, \"('significance',)\": 1, \"('attitude',)\": 1, \"('university',)\": 1, \"('rash',)\": 1, \"('fret',)\": 1, \"('retort',)\": 1, \"('reference',)\": 1, \"('waterworks',)\": 1, \"('value',)\": 1, \"('Erbamont',)\": 1, \"('watch',)\": 1, \"('tissue',)\": 1, \"('glass',)\": 1, \"('integration',)\": 1, \"('plane',)\": 1, \"('catch',)\": 1, \"('freeenterprise',)\": 1, \"('lowaltitude',)\": 1, \"('knowledge',)\": 1, \"('workforce',)\": 1, \"('novelist',)\": 1, \"('rebellion',)\": 1, \"('singlefamily',)\": 1, \"('act',)\": 1, \"('proposition',)\": 1, \"('desktop',)\": 1, \"('homelessness',)\": 1, \"('designer',)\": 1, \"('cocoa',)\": 1, \"('rampage',)\": 1, \"('withdrawal',)\": 1, \"('Literacy',)\": 1, \"('cardevelopment',)\": 1, \"('Policy',)\": 1, \"('economist',)\": 1, \"('museum',)\": 1, \"('publication',)\": 1, \"('recorder',)\": 1, \"('rival',)\": 1, \"('load',)\": 1, \"('Use',)\": 1, \"('pound',)\": 1, \"('category',)\": 1, \"('privilege',)\": 1, \"('rope',)\": 1, \"('decrease',)\": 1, \"('working',)\": 1, \"('uptick',)\": 1, \"('eye',)\": 1, \"('vineyard',)\": 1, \"('sickness',)\": 1, \"('breakfast',)\": 1, \"('resignation',)\": 1, \"('concept',)\": 1, \"('infusion',)\": 1, \"('candidate',)\": 1, \"('reaction',)\": 1, \"('veal',)\": 1, \"('moratorium',)\": 1, \"('tort',)\": 1, \"('faculty',)\": 1, \"('hope',)\": 1, \"('powwow',)\": 1, \"('secretary',)\": 1, \"('insurance',)\": 1, \"('buyback',)\": 1, \"('weakening',)\": 1, \"('air',)\": 1, \"('DEFENSE',)\": 1, \"('drought',)\": 1, \"('persuasion',)\": 1, \"('item',)\": 1, \"('subscription',)\": 1, \"('congregation',)\": 1, \"('recordkeeping',)\": 1, \"('likeness',)\": 1, \"('buffet',)\": 1, \"('EVERYONE',)\": 1, \"('ruling',)\": 1, \"('block',)\": 1, \"('favor',)\": 1, \"('consomme',)\": 1, \"('Government',)\": 1, \"('bang',)\": 1, \"('executive',)\": 1, \"('union',)\": 1, \"('turnaround',)\": 1, \"('gallium',)\": 1, \"('chauffeur',)\": 1, \"('lender',)\": 1, \"('amendment',)\": 1, \"('mainframe',)\": 1, \"('safety',)\": 1, \"('correspondence',)\": 1, \"('diagram',)\": 1, \"('death',)\": 1, \"('Spending',)\": 1, \"('consequence',)\": 1, \"('print',)\": 1, \"('nation',)\": 1, \"('highway',)\": 1, \"('relation',)\": 1, \"('approval',)\": 1, \"('image',)\": 1, \"('film',)\": 1, \"('suffering',)\": 1, \"('prepayment',)\": 1, \"('purchase',)\": 1, \"('branch',)\": 1, \"('diaper',)\": 1, \"('pretext',)\": 1, \"('mininumwage',)\": 1, \"('reliance',)\": 1, \"('bridge',)\": 1, \"('try',)\": 1, \"('faithful',)\": 1, \"('manager',)\": 1, \"('depositary',)\": 1, \"('takeover',)\": 1, \"('illness',)\": 1, \"('cement',)\": 1, \"('deputy',)\": 1, \"('royalty',)\": 1, \"('brat',)\": 1, \"('litigation',)\": 1, \"('contribution',)\": 1, \"('Copperweld',)\": 1, \"('purpose',)\": 1, \"('suppression',)\": 1, \"('crapshoot',)\": 1, \"('province',)\": 1, \"('store',)\": 1, \"('junk',)\": 1, \"('comfort',)\": 1, \"('unit',)\": 1, \"('underwriter',)\": 1, \"('professor',)\": 1, \"('mignon',)\": 1, \"('anticipation',)\": 1, \"('claim',)\": 1, \"('boutique',)\": 1, \"('leap',)\": 1, \"('assault',)\": 1, \"('midyear',)\": 1, \"('artist',)\": 1, \"('dismay',)\": 1, \"('cheating',)\": 1, \"('Catch',)\": 1, \"('researcher',)\": 1, \"('restructuring',)\": 1, \"('tooth',)\": 1, \"('agreement',)\": 1, \"('label',)\": 1, \"('sky',)\": 1, \"('delivery',)\": 1, \"('dessert',)\": 1, \"('fairness',)\": 1, \"('dean',)\": 1, \"('woman',)\": 1, \"('bitterness',)\": 1, \"('slack',)\": 1, \"('standard',)\": 1, \"('strategy',)\": 1, \"('listing',)\": 1, \"('Cartoonist',)\": 1, \"('match',)\": 1, \"('response',)\": 1, \"('Merchant',)\": 1, \"('force',)\": 1, \"('mesothelioma',)\": 1, \"('gasoline',)\": 1, \"('solicitor',)\": 1, \"('loss',)\": 1, \"('club',)\": 1, \"('design',)\": 1, \"('dam',)\": 1, \"('rim',)\": 1, \"('opinion',)\": 1, \"('junkbond',)\": 1, \"('couple',)\": 1, \"('globe',)\": 1, \"('century',)\": 1, \"('citation',)\": 1, \"('man',)\": 1, \"('curriculum',)\": 1, \"('Section',)\": 1, \"('owner',)\": 1, \"('companion',)\": 1, \"('debut',)\": 1, \"('passport',)\": 1, \"('downturn',)\": 1, \"('group',)\": 1, \"('process',)\": 1, \"('office',)\": 1, \"('governor',)\": 1, \"('machine',)\": 1, \"('apartment',)\": 1, \"('something',)\": 1, \"('neighborhood',)\": 1, \"('wife',)\": 1, \"('document',)\": 1, \"('renovation',)\": 1, \"('megastadium',)\": 1, \"('idea',)\": 1, \"('completion',)\": 1, \"('day',)\": 1, \"('poor',)\": 1, \"('discretion',)\": 1, \"('tender',)\": 1, \"('evensong',)\": 1, \"('intervention',)\": 1, \"('weight',)\": 1, \"('industry',)\": 1, \"('liquidnitrogen',)\": 1, \"('somebody',)\": 1, \"('spokeswoman',)\": 1, \"('prostitute',)\": 1, \"('pep',)\": 1, \"('farm',)\": 1, \"('aide',)\": 1, \"('training',)\": 1, \"('food',)\": 1, \"('auction',)\": 1, \"('wholesale',)\": 1, \"('holding',)\": 1, \"('lifeinsurance',)\": 1, \"('tea',)\": 1, \"('possibility',)\": 1, \"('murder',)\": 1, \"('quality',)\": 1, \"('rally',)\": 1, \"('Crime',)\": 1, \"('succession',)\": 1, \"('batting',)\": 1, \"('insolvency',)\": 1, \"('light',)\": 1, \"('are',)\": 1, \"('code',)\": 1, \"('police',)\": 1, \"('ascendency',)\": 1, \"('tobacco',)\": 1, \"('lung',)\": 1, \"('stalemate',)\": 1, \"('turmoil',)\": 1, \"('merchandise',)\": 1, \"('beneficiary',)\": 1, \"('head',)\": 1, \"('buy',)\": 1, \"('absurdity',)\": 1, \"('flap',)\": 1, \"('fault',)\": 1, \"('attack',)\": 1, \"('pattern',)\": 1, \"('crunch',)\": 1, \"('downside',)\": 1, \"('WAR',)\": 1, \"('sigh',)\": 1, \"('prosecution',)\": 1, \"('benefit',)\": 1, \"('culprit',)\": 1, \"('following',)\": 1, \"('estimation',)\": 1, \"('casino',)\": 1, \"('halt',)\": 1, \"('sympathy',)\": 1, \"('employment',)\": 1, \"('turn',)\": 1, \"('Publishing',)\": 1, \"('sheaf',)\": 1, \"('help',)\": 1, \"('core',)\": 1, \"('electricity',)\": 1, \"('sufficiency',)\": 1, \"('inadequacy',)\": 1, \"('toilet',)\": 1, \"('obsession',)\": 1, \"('quota',)\": 1, \"('Texan',)\": 1, \"('living',)\": 1, \"('dancing',)\": 1, \"('flow',)\": 1, \"('individual',)\": 1, \"('magazine',)\": 1, \"('registration',)\": 1, \"('drug',)\": 1, \"('year',)\": 1, \"('cargo',)\": 1, \"('decorator',)\": 1, \"('statue',)\": 1, \"('censorship',)\": 1, \"('can',)\": 1, \"('skin',)\": 1, \"('pasta',)\": 1, \"('empire',)\": 1, \"('fluctuation',)\": 1, \"('astonishment',)\": 1, \"('community',)\": 1, \"('tradition',)\": 1, \"('hightechnology',)\": 1, \"('doubt',)\": 1, \"('hypocrisy',)\": 1, \"('conversion',)\": 1, \"('credibility',)\": 1, \"('perception',)\": 1, \"('fire',)\": 1, \"('adviser',)\": 1, \"('figure',)\": 1, \"('high',)\": 1, \"('reporting',)\": 1, \"('celebrity',)\": 1, \"('testing',)\": 1, \"('tow',)\": 1, \"('onethird',)\": 1, \"('milk',)\": 1, \"('grandstander',)\": 1, \"('business',)\": 1, \"('flexibility',)\": 1, \"('motorhome',)\": 1, \"('bill',)\": 1, \"('indicator',)\": 1, \"('mudslinging',)\": 1, \"('dominance',)\": 1, \"('similarity',)\": 1, \"('leasing',)\": 1, \"('note',)\": 1, \"('iota',)\": 1, \"('maintenance',)\": 1, \"('stability',)\": 1, \"('pack',)\": 1, \"('part',)\": 1, \"('editorial',)\": 1, \"('track',)\": 1, \"('difficulty',)\": 1, \"('rout',)\": 1, \"('interview',)\": 1, \"('profit',)\": 1, \"('dozen',)\": 1, \"('cause',)\": 1, \"('crisis',)\": 1, \"('achievementtest',)\": 1, \"('heartland',)\": 1, \"('dustup',)\": 1, \"('representative',)\": 1, \"('headline',)\": 1, \"('job',)\": 1, \"('speculation',)\": 1, \"('buck',)\": 1, \"('example',)\": 1, \"('Californian',)\": 1, \"('prayer',)\": 1, \"('caution',)\": 1, \"('sensation',)\": 1, \"('permission',)\": 1, \"('liability',)\": 1, \"('problem',)\": 1, \"('changeringing',)\": 1, \"('location',)\": 1, \"('affair',)\": 1, \"('decay',)\": 1, \"('thrift',)\": 1, \"('upturn',)\": 1, \"('power',)\": 1, \"('departure',)\": 1, \"('behest',)\": 1, \"('victory',)\": 1, \"('bellringer',)\": 1, \"('marketer',)\": 1, \"('threat',)\": 1, \"('prison',)\": 1, \"('party',)\": 1, \"('Carrier',)\": 1, \"('judiciary',)\": 1, \"('reason',)\": 1, \"('prosecutor',)\": 1, \"('theme',)\": 1, \"('baseball',)\": 1, \"('bat',)\": 1, \"('spokewoman',)\": 1, \"('question',)\": 1, \"('volume',)\": 1, \"('survival',)\": 1, \"('petition',)\": 1, \"('assertion',)\": 1, \"('lens',)\": 1, \"('scale',)\": 1, \"('forum',)\": 1, \"('plot',)\": 1, \"('midnight',)\": 1, \"('management',)\": 1, \"('inventiveness',)\": 1, \"('nobody',)\": 1, \"('career',)\": 1, \"('meal',)\": 1, \"('sum',)\": 1, \"('exhibition',)\": 1, \"('demand',)\": 1, \"('maze',)\": 1, \"('subskill',)\": 1, \"('winter',)\": 1, \"('smoke',)\": 1, \"('RULING',)\": 1, \"('CREATOR'S',)\": 1, \"('trouble',)\": 1, \"('dormitory',)\": 1, \"('dinner',)\": 1, \"('harm',)\": 1, \"('water',)\": 1, \"('envoy',)\": 1, \"('nature',)\": 1, \"('dexterity',)\": 1, \"('world',)\": 1, \"('frontseat',)\": 1, \"('blessing',)\": 1, \"('kindness',)\": 1, \"('restaurant',)\": 1, \"('protection',)\": 1, \"('publishing',)\": 1, \"('retaliation',)\": 1, \"('fabricator',)\": 1, \"('courtroom',)\": 1, \"('sign',)\": 1, \"('beverage',)\": 1, \"('readership',)\": 1, \"('factor',)\": 1, \"('array',)\": 1, \"('routine',)\": 1, \"('attendance',)\": 1, \"('playwright',)\": 1, \"('Dividend',)\": 1, \"('syndrome',)\": 1, \"('wheat',)\": 1, \"('cell',)\": 1, \"('fraud',)\": 1, \"('controversy',)\": 1, \"('history',)\": 1, \"('History',)\": 1, \"('refund',)\": 1, \"('Cruise',)\": 1, \"('exhaust',)\": 1, \"('slippage',)\": 1, \"('education',)\": 1, \"('counter',)\": 1, \"('truck',)\": 1, \"('Law',)\": 1, \"('slate',)\": 1, \"('violation',)\": 1, \"('downtown',)\": 1, \"('public',)\": 1, \"('stuff',)\": 1, \"('mill',)\": 1, \"('communication',)\": 1, \"('rapprochement',)\": 1, \"('lieu',)\": 1, \"('55yearold',)\": 1, \"('Spirit',)\": 1, \"('innercity',)\": 1, \"('worry',)\": 1, \"('insistence',)\": 1, \"('appreciation',)\": 1, \"('bin',)\": 1, \"('person',)\": 1, \"('cut',)\": 1, \"('incident',)\": 1, \"('option',)\": 1, \"('precedent',)\": 1, \"('technique',)\": 1, \"('funding',)\": 1, \"('age',)\": 1, \"('law',)\": 1, \"('kicker',)\": 1, \"('jam',)\": 1, \"('rule',)\": 1, \"('retail',)\": 1, \"('collapse',)\": 1, \"('contract',)\": 1, \"('supply',)\": 1, \"('campaigner',)\": 1, \"('fan',)\": 1, \"('war',)\": 1, \"('foundation',)\": 1, \"('tag',)\": 1, \"('change',)\": 1, \"('resort',)\": 1, \"('band',)\": 1, \"('incentive',)\": 1, \"('lobbyist',)\": 1, \"('youth',)\": 1, \"('language',)\": 1, \"('INTERBANK',)\": 1, \"('week',)\": 1, \"('subject',)\": 1, \"('start',)\": 1, \"('borrowing',)\": 1, \"('bankruptcy',)\": 1, \"('work',)\": 1, \"('cow',)\": 1, \"('railroad',)\": 1, \"('pinning',)\": 1, \"('divergence',)\": 1, \"('phone',)\": 1, \"('behavior',)\": 1, \"('barrel',)\": 1, \"('cardmember',)\": 1, \"('examination',)\": 1, \"('embassy',)\": 1, \"('chatter',)\": 1, \"('disposal',)\": 1, \"('pianistcomedian',)\": 1, \"('table',)\": 1, \"('membership',)\": 1, \"('box',)\": 1, \"('investment',)\": 1, \"('volunteer',)\": 1, \"('manpower',)\": 1, \"('intention',)\": 1, \"('parent',)\": 1, \"('minimum',)\": 1, \"('clouding',)\": 1, \"('currency',)\": 1, \"('logo',)\": 1, \"('specialty',)\": 1, \"('recognition',)\": 1, \"('Yesterday',)\": 1, \"('counterattack',)\": 1, \"('1980s',)\": 1, \"('subscriber',)\": 1, \"('deterioration',)\": 1, \"('harassment',)\": 1, \"('marketplace',)\": 1, \"('study',)\": 1, \"('biscuit',)\": 1, \"('temperature',)\": 1, \"('count',)\": 1, \"('hoopla',)\": 1, \"('American',)\": 1, \"('overhead',)\": 1, \"('goverment',)\": 1, \"('area',)\": 1, \"('awareness',)\": 1, \"('environment',)\": 1, \"('muster',)\": 1, \"('tension',)\": 1, \"('patent',)\": 1, \"('advantage',)\": 1, \"('suspension',)\": 1, \"('appropriation',)\": 1, \"('minority',)\": 1, \"('concentration',)\": 1, \"('lobster',)\": 1, \"('player',)\": 1, \"('mobster',)\": 1, \"('nose',)\": 1, \"('cycle',)\": 1, \"('speech',)\": 1, \"('DEPOSIT',)\": 1, \"('yield',)\": 1, \"('hair',)\": 1, \"('coliseum',)\": 1, \"('visit',)\": 1, \"('stable',)\": 1, \"('result',)\": 1, \"('effect',)\": 1, \"('pollution',)\": 1, \"('race',)\": 1, \"('profitability',)\": 1, \"('crusade',)\": 1, \"('curse',)\": 1, \"('producer',)\": 1, \"('equity',)\": 1, \"('consideration',)\": 1, \"('property',)\": 1, \"('efficiency',)\": 1, \"('sketch',)\": 1, \"('tramp',)\": 1, \"('faith',)\": 1, \"('recyclability',)\": 1, \"('Propaganda',)\": 1, \"('petroleum',)\": 1, \"('marketing',)\": 1, \"('cartoonist',)\": 1, \"('trap',)\": 1, \"('donor',)\": 1, \"('master',)\": 1, \"('premises',)\": 1, \"('Diaper',)\": 1, \"('right',)\": 1, \"('chassis',)\": 1, \"('domination',)\": 1, \"('compound',)\": 1, \"('Root',)\": 1, \"('anyone',)\": 1, \"('headquarters',)\": 1, \"('quarter',)\": 1, \"('spending',)\": 1, \"('conference',)\": 1, \"('coverage',)\": 1, \"('reasoning',)\": 1, \"('unpopularity',)\": 1, \"('craze',)\": 1, \"('list',)\": 1, \"('interference',)\": 1, \"('slogan',)\": 1, \"('tenth',)\": 1, \"('plea',)\": 1, \"('venture',)\": 1, \"('Asia',)\": 1, \"('irony',)\": 1, \"('landing',)\": 1, \"('commodity',)\": 1, \"('protest',)\": 1, \"('conduct',)\": 1, \"('company',)\": 1, \"('feature',)\": 1, \"('indexfund',)\": 1, \"('shot',)\": 1, \"('version',)\": 1, \"('retardation',)\": 1, \"('purhasing',)\": 1, \"('participation',)\": 1, \"('corn',)\": 1, \"('remodeling',)\": 1, \"('nutrition',)\": 1, \"('stadium',)\": 1, \"('checking',)\": 1, \"('goodfaith',)\": 1, \"('organization',)\": 1, \"('Solution',)\": 1, \"('back',)\": 1, \"('philosophy',)\": 1, \"('disease',)\": 1, \"('position',)\": 1, \"('pioneer',)\": 1, \"('quantity',)\": 1, \"('brain',)\": 1, \"('disregard',)\": 1, \"('level',)\": 1, \"('sheep',)\": 1, \"('rapport',)\": 1, \"('spread',)\": 1, \"('beerbelly',)\": 1, \"('ordeal',)\": 1, \"('matter',)\": 1, \"('prizefighter',)\": 1, \"('declaration',)\": 1, \"('Today',)\": 1, \"('schooldistrict',)\": 1, \"('Sterling',)\": 1, \"('Labor',)\": 1, \"('loser',)\": 1, \"('oilman',)\": 1, \"('refocusing',)\": 1, \"('pretax',)\": 1, \"('need',)\": 1, \"('effort',)\": 1, \"('net',)\": 1, \"('wrath',)\": 1, \"('mainland',)\": 1, \"('centennial',)\": 1, \"('Program',)\": 1, \"('plan',)\": 1, \"('deal',)\": 1, \"('climate',)\": 1, \"('wake',)\": 1, \"('playing',)\": 1, \"('romance',)\": 1, \"('closing',)\": 1, \"('city',)\": 1, \"('joy',)\": 1, \"('surgeon',)\": 1, \"('toast',)\": 1, \"('concern',)\": 1, \"('sogoshosha',)\": 1, \"('hint',)\": 1, \"('len',)\": 1, \"('bass',)\": 1, \"('N.V',)\": 1, \"('broker',)\": 1, \"('shambles',)\": 1, \"('finding',)\": 1, \"('privacy',)\": 1, \"('dialogue',)\": 1, \"('character',)\": 1, \"('land',)\": 1, \"('recess',)\": 1, \"('unraveling',)\": 1, \"('series',)\": 1, \"('gunship',)\": 1, \"('sunlight',)\": 1, \"('announcer',)\": 1, \"('gelatin',)\": 1, \"('acne',)\": 1, \"('gold',)\": 1, \"('beauty',)\": 1, \"('remainder',)\": 1, \"('Ringing',)\": 1, \"('potential',)\": 1, \"('housing',)\": 1, \"('summons',)\": 1, \"('asbestos',)\": 1, \"('stance',)\": 1, \"('incest',)\": 1, \"('newsstand',)\": 1, \"('tariff',)\": 1, \"('exclusion',)\": 1, \"('applicability',)\": 1, \"('rock',)\": 1, \"('misdemeanor',)\": 1, \"('limbo',)\": 1, \"('rise',)\": 1, \"('Drink',)\": 1, \"('pain',)\": 1, \"('relevance',)\": 1, \"('election',)\": 1, \"('return',)\": 1, \"('stereo',)\": 1, \"('truthinlending',)\": 1, \"('wage',)\": 1, \"('press',)\": 1, \"('station',)\": 1, \"('deadwood',)\": 1, \"('twindam',)\": 1, \"('subindustry',)\": 1, \"('test',)\": 1, \"('strength',)\": 1, \"('guest',)\": 1, \"('Volatility',)\": 1, \"('indexarbitrage',)\": 1, \"('defense',)\": 1, \"('solicitation',)\": 1, \"('A.',)\": 1, \"('production',)\": 1, \"('aerospace',)\": 1, \"('Stock',)\": 1, \"('disagreement',)\": 1, \"('adult',)\": 1, \"('diamond',)\": 1, \"('compensation',)\": 1, \"('Year',)\": 1, \"('Seed',)\": 1, \"('recession',)\": 1, \"('overtime',)\": 1, \"('impatient',)\": 1, \"('Montedison',)\": 1, \"('male',)\": 1, \"('mode',)\": 1, \"('incentivebonus',)\": 1, \"('turnover',)\": 1, \"('yen',)\": 1, \"('worthiness',)\": 1, \"('nervousness',)\": 1, \"('lady',)\": 1, \"('ton',)\": 1, \"('common',)\": 1, \"('conglomerate',)\": 1, \"('bell',)\": 1, \"('diethylstilbestrol',)\": 1, \"('chain',)\": 1, \"('savings',)\": 1, \"('%',)\": 1, \"('installment',)\": 1, \"('complaint',)\": 1, \"('investor',)\": 1, \"('valuation',)\": 1, \"('shop',)\": 1, \"('behalf',)\": 1, \"('projector',)\": 1, \"('talk',)\": 1, \"('reputation',)\": 1, \"('criticism',)\": 1, \"('greed',)\": 1, \"('lesson',)\": 1, \"('burden',)\": 1, \"('Northeast',)\": 1, \"('technology',)\": 1, \"('case',)\": 1, \"('ticket',)\": 1, \"('spokesman',)\": 1, \"('row',)\": 1, \"('female',)\": 1, \"('Output',)\": 1, \"('consent',)\": 1, \"('progress',)\": 1, \"('information',)\": 1, \"('girlfriend',)\": 1, \"('referenda',)\": 1, \"('last',)\": 1, \"('evening',)\": 1, \"('while',)\": 1, \"('one',)\": 1, \"('hit',)\": 1, \"('report',)\": 1, \"('jury',)\": 1, \"('Market',)\": 1, \"('jeopardy',)\": 1, \"('FAMILY',)\": 1, \"('meatpacking',)\": 1, \"('offender',)\": 1, \"('population',)\": 1, \"('grandfather',)\": 1, \"('taste',)\": 1, \"('UNION',)\": 1, \"('extension',)\": 1, \"('slide',)\": 1, \"('benchmark',)\": 1, \"('roadblock',)\": 1, \"('fuel',)\": 1, \"('bar',)\": 1, \"('welfare',)\": 1, \"('warning',)\": 1, \"('launch',)\": 1, \"('Backseat',)\": 1, \"('minus',)\": 1, \"('repayment',)\": 1, \"('transaction',)\": 1, \"('rollover',)\": 1, \"('score',)\": 1, \"('ministry',)\": 1, \"('engineer',)\": 1, \"('explosion',)\": 1, \"('writer',)\": 1, \"('campus',)\": 1, \"('maximum',)\": 1, \"('newsroom',)\": 1, \"('ban',)\": 1, \"('abuse',)\": 1, \"('worsening',)\": 1, \"('helm',)\": 1, \"('Recess',)\": 1, \"('genie',)\": 1, \"('date',)\": 1, \"('arrival',)\": 1, \"('rider',)\": 1, \"('caller',)\": 1, \"('passbook',)\": 1, \"('media',)\": 1, \"('specialist',)\": 1, \"('forestproduct',)\": 1, \"('downfall',)\": 1, \"('friendship',)\": 1, \"('Champagne',)\": 1, \"('trader',)\": 1, \"('ballpark',)\": 1, \"('merger',)\": 1, \"('state',)\": 1, \"('bronze',)\": 1, \"('shame',)\": 1, \"('stand',)\": 1, \"('raspberry',)\": 1, \"('species',)\": 1, \"('den',)\": 1, \"('auto',)\": 1, \"('novel',)\": 1, \"('number',)\": 1, \"('secret',)\": 1, \"('Micronite',)\": 1, \"('bidding',)\": 1, \"('retailing',)\": 1, \"('circle',)\": 1, \"('rhetoric',)\": 1, \"('summer',)\": 1, \"('blindfold',)\": 1, \"('scoop',)\": 1, \"('depository',)\": 1, \"('honor',)\": 1, \"('hegemony',)\": 1, \"('bellwether',)\": 1, \"('ground',)\": 1, \"('programtrading',)\": 1, \"('loan',)\": 1, \"('actor',)\": 1, \"('creator',)\": 1, \"('cosmetic',)\": 1, \"('front',)\": 1, \"('disaffiliation',)\": 1, \"('touch',)\": 1, \"('preparation',)\": 1, \"('borough',)\": 1, \"('sociology',)\": 1, \"('Something',)\": 1, \"('slew',)\": 1, \"('introduction',)\": 1, \"('subtraction',)\": 1, \"('electricutility',)\": 1, \"('ball',)\": 1, \"('sidewalk',)\": 1, \"('initiative',)\": 1, \"('Power',)\": 1, \"('copyright',)\": 1, \"('condition',)\": 1, \"('kind',)\": 1, \"('fragmentation',)\": 1, \"('Source',)\": 1, \"('limitedpartnership',)\": 1, \"('elite',)\": 1, \"('yesterday',)\": 1, \"('division',)\": 1, \"('handling',)\": 1, \"('oil',)\": 1, \"('occupant',)\": 1, \"('morning',)\": 1, \"('senate',)\": 1, \"('Everybody',)\": 1, \"('current',)\": 1, \"('cloud',)\": 1, \"('liberty',)\": 1, \"('center',)\": 1, \"('juggernaut',)\": 1, \"('intoxication',)\": 1, \"('prototype',)\": 1, \"('reduction',)\": 1, \"('care',)\": 1, \"('leash',)\": 1, \"('Card',)\": 1, \"('poverty',)\": 1, \"('country',)\": 1, \"('involvement',)\": 1, \"('software',)\": 1, \"('stigma',)\": 1, \"('blank',)\": 1, \"('card',)\": 1, \"('airline',)\": 1, \"('period',)\": 1, \"('name',)\": 1, \"('Wine',)\": 1, \"('investing',)\": 1, \"('intensity',)\": 1, \"('combination',)\": 1, \"('expansion',)\": 1, \"('fraction',)\": 1, \"('hostile',)\": 1, \"('institute',)\": 1, \"('panel',)\": 1, \"('opposition',)\": 1, \"('distribution',)\": 1, \"('limit',)\": 1, \"('grade',)\": 1, \"('assistant',)\": 1, \"('renewal',)\": 1, \"('carrier',)\": 1, \"('reader',)\": 1, \"('art',)\": 1, \"('vice',)\": 1, \"('total',)\": 1, \"('chip',)\": 1, \"('reporter',)\": 1, \"('steelmaker',)\": 1, \"('remorse',)\": 1, \"('denial',)\": 1, \"('energy',)\": 1, \"('apology',)\": 1, \"('fastfood',)\": 1, \"('classroom',)\": 1, \"('Drug',)\": 1, \"('heart',)\": 1, \"('brokerage',)\": 1, \"('and',)\": 1, \"('notice',)\": 1, \"('taxpayer',)\": 1, \"('mania',)\": 1, \"('spouse',)\": 1, \"('Ballot',)\": 1, \"('page',)\": 1, \"('car',)\": 1, \"('association',)\": 1, \"('dollar',)\": 1, \"('toll',)\": 1, \"('framework',)\": 1, \"('inkling',)\": 1, \"('S&L',)\": 1, \"('motion',)\": 1, \"('acre',)\": 1, \"('spinoff',)\": 2, \"('mayor',)\": 1, \"('enrollment',)\": 1, \"('bonus',)\": 1, \"('portion',)\": 1, \"('homeless',)\": 1, \"('startup',)\": 1, \"('insurer',)\": 1, \"('arm',)\": 1, \"('tire',)\": 1, \"('salary',)\": 1, \"('disarray',)\": 1, \"('model',)\": 1, \"('forecast',)\": 1, \"('baby',)\": 1, \"('freedom',)\": 1, \"('seller',)\": 1, \"('fledgling',)\": 1, \"('supermarket',)\": 1, \"('magnitude',)\": 1, \"('separation',)\": 1, \"('fashion',)\": 1, \"('handful',)\": 1, \"('distributor',)\": 1, \"('stress',)\": 1, \"('kidney',)\": 1, \"('piracy',)\": 1, \"('Pretax',)\": 1, \"('rancor',)\": 1, \"('committee',)\": 1, \"('loyalty',)\": 1, \"('point',)\": 1, \"('custom',)\": 1, \"('account',)\": 1, \"('cabinet',)\": 1, \"('circulation',)\": 1, \"('blow',)\": 1, \"('sentiment',)\": 1, \"('limitation',)\": 1, \"('Japanese',)\": 1, \"('weapon',)\": 1, \"('inverse',)\": 1, \"('mousseline',)\": 1, \"('None',)\": 1, \"('congressman',)\": 1, \"('disaster',)\": 1, \"('sweat',)\": 1, \"('fate',)\": 1, \"('circuitbreaker',)\": 1, \"('removal',)\": 1, \"('leader',)\": 1, \"('intelligence',)\": 1, \"('independence',)\": 1, \"('textile',)\": 1, \"('director',)\": 1, \"('abortionist',)\": 1, \"('interestrate',)\": 1, \"('street',)\": 1, \"('vacation',)\": 1, \"('malnutrition',)\": 1, \"('PAPER',)\": 1, \"('preference',)\": 1, \"('gas',)\": 1, \"('stock',)\": 1, \"('democracy',)\": 1, \"('mortgage',)\": 1, \"('clause',)\": 1, \"('wholesaler',)\": 1, \"('legislature',)\": 1, \"('obligation',)\": 1, \"('supplier',)\": 1, \"('Highway',)\": 1, \"('unknown',)\": 1, \"('smallcompany',)\": 1, \"('railing',)\": 1, \"('widow',)\": 1, \"('future',)\": 1, \"('injury',)\": 1, \"('calculator',)\": 1, \"('thread',)\": 1, \"('virtue',)\": 1, \"('lion',)\": 1, \"('notion',)\": 1, \"('capital',)\": 1, \"('lifting',)\": 1, \"('detectivestory',)\": 1, \"('drawing',)\": 1, \"('overcrowding',)\": 1, \"('editing',)\": 1, \"('supreme',)\": 1, \"('courage',)\": 1, \"('manufacturer',)\": 1, \"('plight',)\": 1, \"('downgrading',)\": 1, \"('World',)\": 1, \"('sheepskin',)\": 1, \"('access',)\": 1, \"('cranesafety',)\": 1, \"('acquisition',)\": 1, \"('squeeze',)\": 1, \"('billionaire',)\": 1, \"('crowd',)\": 1, \"('insurancecompany',)\": 1, \"('reading',)\": 1, \"('resistance',)\": 1, \"('outlook',)\": 1, \"('growth',)\": 1, \"('hospital',)\": 1, \"('stake',)\": 1, \"('type',)\": 1, \"('beginning',)\": 1, \"('sphere',)\": 1, \"('argument',)\": 1, \"('JUDGE',)\": 1, \"('cleanliness',)\": 1, \"('pressure',)\": 1, \"('merchandising',)\": 1, \"('oversight',)\": 1, \"('amount',)\": 1, \"('reelection',)\": 1, \"('disk',)\": 1, \"('stone',)\": 1, \"('rearseat',)\": 1, \"('cable',)\": 1, \"('liquid',)\": 1, \"('variety',)\": 1, \"('concession',)\": 1, \"('conviction',)\": 1, \"('municipality',)\": 1, \"('certificate',)\": 1, \"('president',)\": 1, \"('pressman',)\": 1, \"('tree',)\": 1, \"('summary',)\": 1, \"('minute',)\": 1, \"('self',)\": 1, \"('home',)\": 1, \"('vote',)\": 1, \"('disruption',)\": 1, \"('blood',)\": 1, \"('zone',)\": 1, \"('troop',)\": 1, \"('knight',)\": 1, \"('ovation',)\": 1, \"('ringing',)\": 1, \"('coordinator',)\": 1, \"('Civilization',)\": 1, \"('cultivation',)\": 1, \"('Failure',)\": 1, \"('packaging',)\": 1, \"('deck',)\": 1, \"('sterling',)\": 1, \"('ceiling',)\": 1, \"('extent',)\": 1, \"('cash',)\": 1, \"('movie',)\": 1, \"('supercomputer',)\": 1, \"('scholar',)\": 1, \"('line',)\": 1, \"('luck',)\": 1, \"('estate',)\": 1, \"('witness',)\": 1, \"('entertainment',)\": 1, \"('teacher',)\": 1, \"('BALLOT',)\": 1, \"('Composer',)\": 1, \"('guy',)\": 1, \"('appeal',)\": 1, \"('realization',)\": 1, \"('afternoon',)\": 1, \"('desire',)\": 1, \"('TRIAL',)\": 1, \"('Speculation',)\": 1, \"('nameplate',)\": 1, \"('burlap',)\": 1, \"('council',)\": 1, \"('hand',)\": 1, \"('standing',)\": 1, \"('survivor',)\": 1, \"('caretaker',)\": 1, \"('chairman',)\": 1, \"('radio',)\": 1, \"('gain',)\": 1, \"('checkbook',)\": 1, \"('milestone',)\": 1, \"('premiere',)\": 1, \"('belfry',)\": 1, \"('campaigning',)\": 1, \"('set',)\": 1, \"('promotion',)\": 1, \"('exchange',)\": 1, \"('issue',)\": 1, \"('asbestosis',)\": 1, \"('theory',)\": 1, \"('relief',)\": 1, \"('mechanism',)\": 1, \"('premium',)\": 1, \"('peak',)\": 1, \"('memory',)\": 1, \"('jail',)\": 1, \"('sheet',)\": 1, \"('aircraft',)\": 1, \"('chest',)\": 1, \"('economics',)\": 1, \"('mailing',)\": 1, \"('livelihood',)\": 1, \"('official',)\": 1, \"('pocket',)\": 1, \"('recovery',)\": 1, \"('principle',)\": 1, \"('control',)\": 1, \"('soul',)\": 1, \"('flightiness',)\": 1, \"('stage',)\": 1, \"('actress',)\": 1, \"('equipment',)\": 1, \"('trial',)\": 1, \"('bias',)\": 1, \"('justice',)\": 1, \"('purchasing',)\": 1, \"('context',)\": 1, \"('sound',)\": 1, \"('Growth',)\": 1, \"('cadet',)\": 1, \"('mother',)\": 1, \"('bond',)\": 1, \"('diversification',)\": 1, \"('diabetes',)\": 1, \"('F',)\": 1, \"('identitymanagement',)\": 1, \"('Oil',)\": 1, \"('memo',)\": 1, \"('tally',)\": 1, \"('ambassador',)\": 1, \"('pay',)\": 1, \"('balance',)\": 1, \"('steel',)\": 1, \"('creditor',)\": 1, \"('dawn',)\": 1, \"('risk',)\": 1, \"('acetate',)\": 1, \"('invention',)\": 1, \"('Safety',)\": 1, \"('prescription',)\": 1, \"('businessman',)\": 1, \"('difference',)\": 1, \"('plus',)\": 1, \"('garage',)\": 1, \"('onus',)\": 1, \"('reluctance',)\": 1, \"('damage',)\": 1, \"('arsenide',)\": 1, \"('hysteria',)\": 1, \"('search',)\": 1, \"('intent',)\": 1, \"('fall',)\": 1, \"('Department',)\": 1, \"('Jail',)\": 1, \"('data',)\": 1, \"('enthusiasm',)\": 1, \"('content',)\": 1, \"('portfolio',)\": 1, \"('onslaught',)\": 1, \"('cochairman',)\": 1, \"('seat',)\": 1, \"('rest',)\": 1, \"('utility',)\": 1, \"('schoolboard',)\": 1, \"('breaker',)\": 1, \"('sense',)\": 1, \"('administration',)\": 1, \"('crackdown',)\": 1, \"('civilization',)\": 1, \"('temptation',)\": 1, \"('sell',)\": 1, \"('composting',)\": 1, \"('greenmailer',)\": 1, \"('style',)\": 1, \"('snow',)\": 1, \"('Macmillan\\\\/McGraw',)\": 1, \"('veteran',)\": 1, \"('post',)\": 1, \"('dust',)\": 1, \"('material',)\": 1, \"('drain',)\": 1, \"('performance',)\": 1, \"('charm',)\": 1, \"('waste',)\": 1, \"('hostility',)\": 1, \"('era',)\": 1, \"('thing',)\": 1, \"('violence',)\": 1, \"('good',)\": 1, \"('hero',)\": 1, \"('recommendation',)\": 1, \"('dispute',)\": 1, \"('Title',)\": 1, \"('record',)\": 1, \"('harbinger',)\": 1, \"('understanding',)\": 1, \"('society',)\": 1, \"('format',)\": 1, \"('pool',)\": 1, \"('Evidence',)\": 1, \"('flag',)\": 1, \"('polystyrene',)\": 1, \"('veto',)\": 1, \"('Bond',)\": 1, \"('substitute',)\": 1, \"('rebound',)\": 1, \"('felony',)\": 1, \"('willingness',)\": 1, \"('moneyfund',)\": 1, \"('brand',)\": 1, \"('slab',)\": 1, \"('hitter',)\": 1, \"('bulk',)\": 1, \"('crack',)\": 1, \"('choosing',)\": 1, \"('banquet',)\": 1, \"('perspective',)\": 1, \"('innovation',)\": 1, \"('optimism',)\": 1, \"('Arbitrage',)\": 1, \"('project',)\": 1, \"('radioactivity',)\": 1, \"('instruction',)\": 1, \"('surprise',)\": 1, \"('smoking',)\": 1, \"('modification',)\": 1, \"('blender',)\": 1, \"('TV',)\": 1, \"('outlay',)\": 1, \"('Commodity',)\": 1, \"('service',)\": 1, \"('laser',)\": 1, \"('shelter',)\": 1, \"('transplantation',)\": 1, \"('structure',)\": 1, \"('lunch',)\": 1, \"('proviso',)\": 1, \"('child',)\": 1, \"('syndicate',)\": 1, \"('regime',)\": 1, \"('engineering',)\": 1, \"('door',)\": 1, \"('mark',)\": 1, \"('responsibility',)\": 1, \"('pit',)\": 1, \"('voice',)\": 1, \"('coke',)\": 1, \"('sake',)\": 1, \"('lotter',)\": 1, \"('wound',)\": 1, \"('vindication',)\": 1, \"('picture',)\": 1, \"('profession',)\": 1, \"('meaning',)\": 1, \"('tiein',)\": 1, \"('compromise',)\": 1, \"('staff',)\": 1, \"('trading',)\": 1, \"('constituent',)\": 1, \"('inquiry',)\": 1, \"('circuit',)\": 1, \"('payoff',)\": 1, \"('frenzy',)\": 1, \"('cult',)\": 1, \"('banker',)\": 1, \"('fact',)\": 1, \"('beer',)\": 1, \"('music',)\": 1, \"('rhythm',)\": 1, \"('reorganization',)\": 1, \"('hostage',)\": 1, \"('lawsuit',)\": 1, \"('counseling',)\": 1, \"('yielding',)\": 1, \"('crystallattice',)\": 1, \"('computing',)\": 1, \"('morale',)\": 1, \"('trust',)\": 1, \"('telecommunications',)\": 1, \"('geography',)\": 1, \"('trade',)\": 1, \"('round',)\": 1, \"('skepticism',)\": 1, \"('penny',)\": 1, \"('wish',)\": 1, \"('alcoholism',)\": 1, \"('form',)\": 1, \"('column',)\": 1, \"('average',)\": 1, \"('passenger',)\": 1, \"('wordprocessing',)\": 1, \"('license',)\": 1, \"('crop',)\": 1, \"('respite',)\": 1, \"('turf',)\": 1, \"('lap',)\": 1, \"('debate',)\": 1, \"('announcement',)\": 1, \"('filling',)\": 1, \"('customer',)\": 1, \"('inheritor',)\": 1, \"('addiction',)\": 1, \"('gut',)\": 1, \"('construction',)\": 1, \"('hook',)\": 1, \"('passage',)\": 1, \"('ability',)\": 1, \"('institution',)\": 1, \"('lead',)\": 1, \"('focus',)\": 1, \"('nightmare',)\": 1, \"('truth',)\": 1, \"('deviation',)\": 1, \"('investigation',)\": 1, \"('compassion',)\": 1, \"('share',)\": 1, \"('guild',)\": 1, \"('creditrating',)\": 1, \"('texture',)\": 1, \"('instance',)\": 1, \"('franc',)\": 1, \"('silicone',)\": 1, \"('government',)\": 1, \"('analysis',)\": 1, \"('son',)\": 1, \"('detail',)\": 1, \"('place',)\": 1, \"('firm',)\": 1, \"('client',)\": 1, \"('edition',)\": 1, \"('logic',)\": 1, \"('advance',)\": 1, \"('mutualfund',)\": 1, \"('chrysotile',)\": 1, \"('regret',)\": 1, \"('waterauthority',)\": 1, \"('duty',)\": 1, \"('homosexual',)\": 1, \"('intrusion',)\": 1, \"('affiliate',)\": 1, \"('suit',)\": 1, \"('index',)\": 1, \"('pub',)\": 1, \"('import',)\": 1, \"('tone',)\": 1, \"('offering',)\": 1, \"('par',)\": 1, \"('ACU',)\": 1, \"('editor',)\": 1, \"('competitor',)\": 1, \"('voting',)\": 1, \"('harmony',)\": 1, \"('wine',)\": 1, \"('appetite',)\": 1, \"('replacementcar',)\": 1, \"('crib',)\": 1, \"('product',)\": 1, \"('microphone',)\": 1, \"('region',)\": 1, \"('aid',)\": 1, \"('degree',)\": 1, \"('wealth',)\": 1, \"('volatility',)\": 1, \"('squad',)\": 1, \"('photograph',)\": 1, \"('buyout',)\": 1, \"('completeness',)\": 1, \"('chamber',)\": 1, \"('kidnapper',)\": 1, \"('word',)\": 1, \"('wave',)\": 1, \"('corporation',)\": 1, \"('thirtysomething',)\": 1, \"('floor',)\": 1, \"('interpretation',)\": 1, \"('banking',)\": 1, \"('teaching',)\": 1, \"('purse',)\": 1, \"('smattering',)\": 1, \"('body',)\": 1, \"('statement',)\": 1, \"('thought',)\": 1, \"('father',)\": 1, \"('referendum',)\": 1, \"('exercise',)\": 1, \"('auditor',)\": 1, \"('Teacher',)\": 1, \"('comment',)\": 1, \"('household',)\": 1, \"('choice',)\": 1, \"('computer',)\": 1, \"('in',)\": 1, \"('improvement',)\": 1, \"('everyone',)\": 1, \"('Guarantee',)\": 1, \"('piece',)\": 1, \"('Price',)\": 1, \"('excess',)\": 1, \"('tower',)\": 1, \"('program',)\": 1, \"('evolution',)\": 1, \"('none',)\": 1, \"('vortex',)\": 1, \"('Country',)\": 1, \"('employer',)\": 1, \"('widget',)\": 1, \"('default',)\": 1, \"('Chinese',)\": 1, \"('boost',)\": 1, \"('foodindustry',)\": 1, \"('cardboard',)\": 1, \"('victim',)\": 1, \"('black',)\": 1, \"('hardware',)\": 1, \"('punishment',)\": 1, \"('commitment',)\": 1, \"('trademark',)\": 1, \"('videocassette',)\": 1, \"('necklace',)\": 1, \"('dislike',)\": 1, \"('stickershock',)\": 1, \"('park',)\": 1, \"('market',)\": 1, \"('tool',)\": 1, \"('Consequence',)\": 1, \"('fueling',)\": 1, \"('buying',)\": 1, \"('travel',)\": 1, \"('evil',)\": 1, \"('bit',)\": 1, \"('rating',)\": 1, \"('sight',)\": 1, \"('agency',)\": 1, \"('thirdquarter',)\": 1, \"('run',)\": 1, \"('fringe',)\": 1, \"('caveat',)\": 1, \"('building',)\": 1, \"('parliament',)\": 1, \"('shortage',)\": 1, \"('hearing',)\": 1, \"('merchant',)\": 1, \"('route',)\": 1, \"('disappointment',)\": 1, \"('tour',)\": 1, \"('medicine',)\": 1, \"('release',)\": 1, \"('polyproplene',)\": 1, \"('advisory',)\": 1, \"('ballroom',)\": 1, \"('entrance',)\": 1, \"('hay',)\": 1, \"('escrow',)\": 1, \"('pie',)\": 1, \"('Nov.',)\": 1, \"('COLLECTING',)\": 1, \"('fatherinlaw',)\": 1, \"('judge',)\": 1, \"('payment',)\": 1, \"('cost',)\": 1, \"('refusal',)\": 1, \"('flimflammery',)\": 1, \"('thunder',)\": 1, \"('Chapter',)\": 1, \"('deadline',)\": 1, \"('vagabond',)\": 1, \"('town',)\": 1, \"('chemical',)\": 1, \"('middle',)\": 1, \"('coaching',)\": 1, \"('ankle',)\": 1, \"('seminar',)\": 1, \"('surgery',)\": 1, \"('achievement',)\": 1, \"('economy',)\": 1, \"('commission',)\": 1, \"('symmetry',)\": 1, \"('massacre',)\": 1, \"('excision',)\": 1, \"('facility',)\": 1, \"('month',)\": 1, \"('play',)\": 1, \"('newcar',)\": 1, \"('satisfaction',)\": 1, \"('creation',)\": 1, \"('hole',)\": 1, \"('escape',)\": 1, \"('stream',)\": 1, \"('radiostation',)\": 1, \"('movement',)\": 1, \"('charge',)\": 1, \"('portrayal',)\": 1, \"('immense',)\": 1, \"('patient',)\": 1, \"('solidarity',)\": 1, \"('finance',)\": 1, \"('term',)\": 1, \"('deficit',)\": 1, \"('lure',)\": 1, \"('impact',)\": 1, \"('prevalance',)\": 1, \"('pillow',)\": 1, \"('range',)\": 1, \"('interbank',)\": 1, \"('One',)\": 1, \"('foot',)\": 1, \"('clock',)\": 1, \"('worship',)\": 1, \"('step',)\": 1, \"('stoppage',)\": 1, \"('consumer',)\": 1, \"('assistance',)\": 1, \"('reform',)\": 1, \"('base',)\": 1, \"('revolt',)\": 1, \"('everybody',)\": 1, \"('foam',)\": 1, \"('navigation',)\": 1, \"('offer',)\": 1, \"('defeat',)\": 1, \"('resentment',)\": 1, \"('multitude',)\": 1, \"('money',)\": 1, \"('paperback',)\": 1, \"('package',)\": 1, \"('way',)\": 1, \"('journal',)\": 1, \"('doctorate',)\": 1, \"('view',)\": 1, \"('Packaging',)\": 1, \"('plant',)\": 1, \"('slowing',)\": 1, \"('moment',)\": 1, \"('behemoth',)\": 1, \"('weakness',)\": 1, \"('attorney',)\": 1, \"('key',)\": 1, \"('chief',)\": 1, \"('dairy',)\": 1, \"('equalopportunity',)\": 1, \"('sluggishness',)\": 1, \"('flood',)\": 1, \"('castle',)\": 1, \"('system',)\": 1, \"('crocidolite',)\": 1, \"('captive',)\": 1, \"('signal',)\": 1, \"('target',)\": 1, \"('buyer',)\": 1, \"('sauce',)\": 1, \"('officer',)\": 1, \"('capacity',)\": 1, \"('chance',)\": 1, \"('prestige',)\": 1, \"('Test',)\": 1, \"('nomination',)\": 1, \"('addition',)\": 1, \"('length',)\": 1, \"('twinjet',)\": 1, \"('success',)\": 1, \"('exit',)\": 1, \"('friction',)\": 1, \"('transplant',)\": 1, \"('markdown',)\": 1, \"('layer',)\": 1, \"('creativity',)\": 1, \"('provision',)\": 1, \"('collegebowl',)\": 1, \"('surge',)\": 1, \"('interest',)\": 1, \"('morbidity',)\": 1, \"('closeness',)\": 1, \"('decline',)\": 1, \"('debacle',)\": 1, \"('authority',)\": 1, \"('factory',)\": 1, \"('crystal',)\": 1, \"('picket',)\": 1, \"('butterfly',)\": 1, \"('assumption',)\": 1, \"('replacement',)\": 1, \"('shape',)\": 1, \"('vehicle',)\": 1, \"('Beauty',)\": 1, \"('Grain',)\": 1, \"('star',)\": 1, \"('agreed',)\": 1, \"('oneupsmanship',)\": 1, \"('upscale',)\": 1, \"('mind',)\": 1, \"('landfill',)\": 1, \"('fit',)\": 1, \"('learning',)\": 1, \"('newspaper',)\": 1, \"('strip',)\": 1, \"('holder',)\": 1, \"('down',)\": 1, \"('liquidity',)\": 1, \"('wrongdoing',)\": 1, \"('trend',)\": 1, \"('show',)\": 1, \"('nominee',)\": 1, \"('dissident',)\": 1, \"('exemption',)\": 1, \"('board',)\": 1, \"('coal',)\": 1, \"('overproduction',)\": 1, \"('season',)\": 1, \"('standpoint',)\": 1, \"('treatment',)\": 1, \"('end',)\": 1, \"('promise',)\": 1, \"('INQUIRY',)\": 1, \"('numeral',)\": 1, \"('minister',)\": 1, \"('emphasis',)\": 1, \"('offense',)\": 1, \"('inventory',)\": 1, \"('spot',)\": 1, \"('entrepreneur',)\": 1, \"('consensus',)\": 1, \"('segment',)\": 1, \"('shareholder',)\": 1, \"('indictment',)\": 1, \"('workplace',)\": 1, \"('acceleration',)\": 1, \"('telegraph',)\": 1, \"('ire',)\": 1, \"('look',)\": 1, \"('debt',)\": 1, \"('husband',)\": 1, \"('State',)\": 1, \"('warrant',)\": 1, \"('fear',)\": 1, \"('taxation',)\": 1, \"('formula',)\": 1, \"('sponsor',)\": 1, \"('proposal',)\": 1, \"('district',)\": 1, \"('ABORTION',)\": 1, \"('disapproval',)\": 1, \"('substance',)\": 1, \"('barrier',)\": 1, \"('lot',)\": 1, \"('initiate',)\": 1, \"('diplomacy',)\": 1, \"('indifference',)\": 1, \"('export',)\": 1, \"('driver',)\": 1, \"('destination',)\": 1, \"('raise',)\": 1, \"('appointment',)\": 1, \"('proprietor',)\": 1, \"('crime',)\": 1, \"('session',)\": 1, \"('signature',)\": 1, \"('notch',)\": 1, \"('confidence',)\": 1, \"('slope',)\": 1, \"('cent',)\": 1, \"('vision',)\": 1, \"('march',)\": 1, \"('litany',)\": 1, \"('illegality',)\": 1, \"('rate',)\": 1, \"('skittishness',)\": 1, \"('Money',)\": 1, \"('scientist',)\": 1, \"('bottle',)\": 1, \"('bureaucracy',)\": 1, \"('plunge',)\": 1, \"('raising',)\": 1, \"('manufacturing',)\": 1, \"('furor',)\": 1, \"('wisdom',)\": 1, \"('practice',)\": 1, \"('presence',)\": 1, \"('transportation',)\": 1, \"('grader',)\": 1, \"('stockprice',)\": 1, \"('struggle',)\": 1, \"('doctor',)\": 1, \"('passion',)\": 1, \"('duo',)\": 1, \"('game',)\": 1, \"('pact',)\": 1, \"('facade',)\": 1, \"('swap',)\": 1, \"('psychiatrist',)\": 1, \"('bottom',)\": 1, \"('realestate',)\": 1, \"('painting',)\": 1, \"('shoulder',)\": 1, \"('executiveoffice',)\": 1, \"('employee',)\": 1, \"('tenure',)\": 1, \"('Design',)\": 1, \"('reinstatement',)\": 1, \"('objective',)\": 1, \"('book',)\": 1, \"('field',)\": 1, \"('mirror',)\": 1, \"('airplane',)\": 1, \"('physics',)\": 1, \"('pageone',)\": 1, \"('policy',)\": 1, \"('speedway',)\": 1, \"('pulp',)\": 1, \"('bank',)\": 1, \"('pension',)\": 1, \"('arrangement',)\": 1, \"('elephant',)\": 1, \"('relationship',)\": 1, \"('screen',)\": 1, \"('strike',)\": 1, \"('analyst',)\": 1, \"('stockmarket',)\": 1, \"('vinyl',)\": 1, \"('maker',)\": 1, \"('dividend',)\": 1, \"('exposure',)\": 1, \"('uncertainty',)\": 1, \"('citizen',)\": 1, \"('cancer',)\": 1, \"('backyard',)\": 1, \"('settlement',)\": 1, \"('respect',)\": 1, \"('exception',)\": 1, \"('deregulation',)\": 1, \"('hormone',)\": 1, \"('repair',)\": 1, \"('equivalent',)\": 1, \"('selfesteem',)\": 1, \"('generation',)\": 1, \"('device',)\": 1, \"('gambling',)\": 1, \"('reality',)\": 1, \"('general',)\": 1, \"('reach',)\": 1, \"('slump',)\": 1, \"('filing',)\": 1, \"('slowdown',)\": 1, \"('cataract',)\": 1, \"('hotel',)\": 1, \"('Part',)\": 1, \"('interrogation',)\": 1, \"('article',)\": 1, \"('telephone',)\": 1, \"('betterment',)\": 1, \"('retailer',)\": 1, \"('catchup',)\": 1, \"('fiscal',)\": 1, \"('scandal',)\": 1, \"('PC',)\": 1, \"('wines',)\": 1, \"('inside',)\": 1, \"('lore',)\": 1, \"('hour',)\": 1, \"('administrator',)\": 1, \"('impression',)\": 1, \"('cue',)\": 1, \"('pace',)\": 1, \"('presentation',)\": 1, \"('outcry',)\": 1, \"('spite',)\": 1, \"('contractor',)\": 1, \"('revenue',)\": 1, \"('chalk',)\": 1, \"('programmer',)\": 1, \"('pricing',)\": 1, \"('face',)\": 1, \"('architecture',)\": 1, \"('Stadium',)\": 1, \"('midtown',)\": 1, \"('counterweight',)\": 1, \"('nail',)\": 1, \"('space',)\": 1, \"('sugar',)\": 1, \"('meeting',)\": 1, \"('stockindex',)\": 1, \"('direction',)\": 1, \"('member',)\": 1, \"('symbol',)\": 1, \"('operation',)\": 1, \"('serial',)\": 1, \"('torrent',)\": 1, \"('anger',)\": 1, \"('productivity',)\": 1, \"('link',)\": 1, \"('familiarization',)\": 1, \"('bickering',)\": 1, \"('refuge',)\": 1, \"('knell',)\": 1, \"('EXCHANGE',)\": 1, \"('income',)\": 1, \"('family',)\": 1, \"('cigarette',)\": 1, \"('undertone',)\": 1, \"('roof',)\": 1, \"('cloth',)\": 1, \"('support',)\": 1, \"('warming',)\": 1, \"('fight',)\": 1, \"('disadvantage',)\": 1, \"('boom',)\": 1, \"('C',)\": 1, \"('cheerleading',)\": 1, \"('silicon',)\": 1, \"('influence',)\": 1, \"('sleep',)\": 1, \"('bargain',)\": 1, \"('credit',)\": 1, \"('text',)\": 1, \"('surplus',)\": 1, \"('activity',)\": 1, \"('perfection',)\": 1, \"('tax',)\": 1, \"('peal',)\": 1, \"('frequency',)\": 1, \"('Index',)\": 1, \"('nothing',)\": 1, \"('heating',)\": 1, \"('senior',)\": 1, \"('camera',)\": 1, \"('development',)\": 1, \"('rap',)\": 1, \"('Lorillard',)\": 1, \"('nickel',)\": 1, \"('white',)\": 1, \"('licensing',)\": 1, \"('escort',)\": 1, \"('consultant',)\": 1, \"('viewership',)\": 1, \"('publisher',)\": 1, \"('estimate',)\": 1, \"('capitalism',)\": 1, \"('competition',)\": 1, \"('spirit',)\": 1, \"('undersecretary',)\": 1, \"('arbitrage',)\": 1, \"('excellence',)\": 1, \"('Science',)\": 1, \"('Fahrenheit',)\": 1, \"('belt',)\": 1, \"('mathematics',)\": 1, \"('chunk',)\": 1, \"('Midwest',)\": 1, \"('priority',)\": 1, \"('doctrine',)\": 1, \"('twin',)\": 1, \"('basis',)\": 1, \"('fund',)\": 1, \"('library',)\": 1, \"('ballot',)\": 1, \"('buckle',)\": 1, \"('gamut',)\": 1, \"('billing',)\": 1, \"('someone',)\": 1, \"('college',)\": 1, \"('ultimatum',)\": 1, \"('reinvestment',)\": 1, \"('panic',)\": 1, \"('request',)\": 1, \"('discontent',)\": 1, \"('grain',)\": 1, \"('sensitivity',)\": 1, \"('move',)\": 1, \"('contingent',)\": 1, \"('department',)\": 1, \"('sweepstakes',)\": 1, \"('increase',)\": 1, \"('subminimum',)\": 1, \"('programming',)\": 1, \"('sort',)\": 1, \"('side',)\": 1, \"('guarantee',)\": 1, \"('worth',)\": 1, \"('demise',)\": 1, \"('insanity',)\": 1, \"('collateral',)\": 1, \"('prerogative',)\": 1, \"('logjam',)\": 1, \"('everything',)\": 1, \"('truce',)\": 1, \"('understatement',)\": 1, \"('commerce',)\": 1, \"('pill',)\": 1, \"('luxury',)\": 1, \"('schoolchildren',)\": 1, \"('publicity',)\": 1, \"('maturity',)\": 1, \"('Factory',)\": 1, \"('disclosure',)\": 1, \"('ropesight',)\": 1, \"('principal',)\": 1, \"('low',)\": 1, \"('compliance',)\": 1, \"('lawyer',)\": 1, \"('house',)\": 1, \"('lack',)\": 1, \"('window',)\": 1, \"('order',)\": 1, \"('counterpart',)\": 1, \"('manner',)\": 1, \"('percentage',)\": 1, \"('fee',)\": 1, \"('rape',)\": 1, \"('knife',)\": 1, \"('source',)\": 1, \"('top',)\": 1, \"('switch',)\": 1, \"('scrutiny',)\": 1, \"('retirement',)\": 1, \"('statute',)\": 1, \"('predecessor',)\": 1, \"('commonlaw',)\": 1, \"('fancy',)\": 1, \"('powerhouse',)\": 1, \"('electorate',)\": 1, \"('aim',)\": 1, \"('proponent',)\": 1, \"('bedding',)\": 1, \"('margin',)\": 1, \"('monster',)\": 1, \"('accountability',)\": 1, \"('Share',)\": 1, \"('winemaking',)\": 1, \"('superconductor',)\": 1, \"('colony',)\": 1, \"('waif',)\": 1, \"('decade',)\": 1, \"('corruption',)\": 1, \"('polyester',)\": 1, \"('creditworthiness',)\": 1, \"('psychology',)\": 1, \"('grant',)\": 1, \"('past',)\": 1, \"('Deregulation',)\": 1, \"('downgrade',)\": 1, \"('collar',)\": 1, \"('anybody',)\": 1, \"('goodwill',)\": 1, \"('ringer',)\": 1, \"('Changeringing',)\": 1, \"('subsidiary',)\": 1, \"('coupon',)\": 1, \"('outrage',)\": 1, \"('machinery',)\": 1, \"('fine',)\": 1, \"('attention',)\": 1, \"('role',)\": 1, \"('storm',)\": 1, \"('housewife',)\": 1, \"('vicar',)\": 1, \"('legislation',)\": 1, \"('aftermath',)\": 1, \"('advertising',)\": 1, \"('apple',)\": 1, \"('status',)\": 1, \"('church',)\": 1, \"('transition',)\": 1, \"('bearing',)\": 1, \"('kit',)\": 1, \"('microwave',)\": 1, \"('budget',)\": 1, \"('chronicle',)\": 1, \"('DIAPER',)\": 1, \"('cotton',)\": 1, \"('leadership',)\": 1, \"('viewpoint',)\": 1, \"('coowner',)\": 1, \"('sex',)\": 1, \"('time',)\": 1, \"('phrase',)\": 1, \"('conduit',)\": 1, \"('friend',)\": 1, \"('allocation',)\": 1, \"('autumn',)\": 1, \"('use',)\": 1, \"('garbage',)\": 1, \"('lottery',)\": 1, \"('fiber',)\": 1, \"('traffic',)\": 1, \"('mistake',)\": 1, \"('worker',)\": 1, \"('spilling',)\": 1, \"('sector',)\": 1, \"('answer',)\": 1, \"('evaluation',)\": 1, \"('measure',)\": 1, \"('Act',)\": 1, \"('restriction',)\": 1, \"('prospect',)\": 1, \"('decision',)\": 1, \"('participant',)\": 1, \"('diming',)\": 1, \"('implication',)\": 1, \"('furniture',)\": 1, \"('glory',)\": 1, \"('cooperation',)\": 1, \"('student',)\": 1, \"('briefing',)\": 1, \"('sticker',)\": 1, \"('guide',)\": 1, \"('price',)\": 1, \"('trigger',)\": 1, \"('selling',)\": 1, \"('Form',)\": 1, \"('collection',)\": 1, \"('therapy',)\": 1, \"('planner',)\": 1, \"('subcommittee',)\": 1, \"('presidency',)\": 1, \"('challenge',)\": 1, \"('associate',)\": 1, \"('kindergarten',)\": 1, \"('campaign',)\": 1, \"('terrine',)\": 1, \"('breakdown',)\": 1, \"('variation',)\": 1, \"('palace',)\": 1, \"('criminal',)\": 1, \"('schedule',)\": 1, \"('oblivion',)\": 1, \"('lieutenant',)\": 1, \"('close',)\": 1, \"('deposit',)\": 1, \"('cancellation',)\": 1, \"('operating',)\": 1, \"('overcapacity',)\": 1, \"('telephoneinformation',)\": 1, \"('penalty',)\": 1, \"('alcohol',)\": 1, \"('research',)\": 1, \"('deprivation',)\": 1, \"('swing',)\": 1, \"('physicist',)\": 1, \"('attempt',)\": 1, \"('expectation',)\": 1, \"('Compound',)\": 1, \"('football',)\": 1, \"('asset',)\": 1, \"('prefecture',)\": 1, \"('plastic',)\": 1, \"('ownership',)\": 1, \"('procurement',)\": 1, \"('proportion',)\": 1, \"('FALL',)\": 1, \"('night',)\": 1, \"('comeback',)\": 1, \"('likelihood',)\": 1, \"('foldability',)\": 1, \"('lover',)\": 1, \"('redemption',)\": 1, \"('monopoly',)\": 1, \"('traitor',)\": 1, \"('author',)\": 1, \"('lab',)\": 1, \"('haul',)\": 1, \"('consumption',)\": 1, \"('Dec.',)\": 1, \"('audience',)\": 1, \"('semiconductor',)\": 1, \"('half',)\": 1, \"('fifthgrade',)\": 1, \"('court',)\": 1, \"('drink',)\": 1, \"('tad',)\": 1, \"('successor',)\": 1, \"('boogieman',)\": 1, \"('penetration',)\": 1, \"('security',)\": 1, \"('approach',)\": 1, \"('Indexarbitrage',)\": 1, \"('life',)\": 1, \"('skill',)\": 1, \"('superintendent',)\": 1, \"('depression',)\": 1, \"('advice',)\": 1, \"('application',)\": 1, \"('tradingcompany',)\": 1, \"('battle',)\": 1, \"('Image',)\": 1, \"('negotiator',)\": 1, \"('boy',)\": 1, \"('event',)\": 1, \"('discount',)\": 1, \"('crash',)\": 1, \"('survey',)\": 1, \"('elimination',)\": 1, \"('No.',)\": 1, \"('dilemma',)\": 1, \"('inflation',)\": 1, \"('Esso',)\": 1, \"('freshman',)\": 1, \"('impetus',)\": 1, \"('warehousing',)\": 1, \"('scenario',)\": 1, \"('review',)\": 1, \"('girl',)\": 1, \"('speed',)\": 1, \"('pence',)\": 1, \"('altar',)\": 1, \"('stockbroker',)\": 1, \"('alternative',)\": 1, \"('Velcro',)\": 1, \"('anything',)\": 1, \"('Anything',)\": 1, \"('evidence',)\": 1, \"('yearend',)\": 1, \"('homework',)\": 1, \"('accordance',)\": 1, \"('Excision',)\": 1, \"('stature',)\": 1, \"('error',)\": 1, \"('drop',)\": 1, \"('betrayer',)\": 1, \"('penchant',)\": 1, \"('school',)\": 1, \"('placement',)\": 1, \"('motor',)\": 1, \"('Revenue',)\": 1, \"('execution',)\": 1, \"('existence',)\": 1, \"('class',)\": 1, \"('opportunity',)\": 1, \"('call',)\": 1, \"('goal',)\": 1, \"('commercial',)\": 1, \"('action',)\": 1, \"('kidnapping',)\": 1, \"('pathlogy',)\": 1, \"('booklet',)\": 1, \"('task',)\": 1, \"('story',)\": 1, \"('Insurance',)\": 1, \"('morass',)\": 1, \"('lifestyle',)\": 1, \"('abortion',)\": 1, \"('ritual',)\": 1, \"('plate',)\": 1, \"('shipping',)\": 1, \"('founder',)\": 1, \"('spring',)\": 1, \"('connection',)\": 1, \"('hill',)\": 1, \"('acceptance',)\": 1, \"('markup',)\": 1, \"('leeway',)\": 1, \"('denominator',)\": 1, \"('consulting',)\": 1, \"('dissemination',)\": 1, \"('martyr',)\": 1, \"('labor',)\": 1, \"('financing',)\": 1, \"('ad',)\": 1, \"('Legislation',)\": 1, \"('architect',)\": 1, \"('reflection',)\": 1, \"('television',)\": 1, \"('gift',)\": 1, \"('propaganda',)\": 1, \"('defendant',)\": 1, \"('longevity',)\": 1, \"('situation',)\": 1, \"('push',)\": 1, \"('today',)\": 1, \"('refrigerator',)\": 1, \"('accountant',)\": 1, \"('sale',)\": 1, \"('host',)\": 1, \"('setback',)\": 1, \"('bid',)\": 1, \"('element',)\": 1, \"('Session',)\": 1, \"('folio',)\": 1, \"('capability',)\": 1, \"('establishment',)\": 1, \"('angle',)\": 1, \"('racket',)\": 1, \"('schoolteacher',)\": 1, \"('outside',)\": 1, \"('pride',)\": 1, \"('basket',)\": 1, \"('fanfare',)\": 1, \"('freeway',)\": 1, \"('flux',)\": 1, \"('duckling',)\": 1, \"('letter',)\": 1, \"('habit',)\": 1, \"('Profit',)\": 1, \"('minicrash',)\": 1, \"('timing',)\": 1, \"('automation',)\": 1, \"('advent',)\": 1, \"('newcomer',)\": 1, \"('livestock',)\": 1, \"('filter',)\": 1, \"('unavailability',)\": 1, \"('requirement',)\": 1, \"('1\\\\/10th',)\": 1, \"('plenty',)\": 1, \"('agenda',)\": 1, \"('bout',)\": 1, \"('talkshow',)\": 1, \"('regulation',)\": 1, \"('section',)\": 1, \"('news',)\": 1, \"('mail',)\": 1, \"('powder',)\": 1, \"('aspect',)\": 1, '<unk>': 1.0} \n",
      "\n",
      "[JJ] {\"('advanced',)\": 1, \"('nonbiodegradable',)\": 1, \"('solvent',)\": 1, \"('modern',)\": 1, \"('stockmanipulation',)\": 1, \"('cocky',)\": 1, \"('NBCowned',)\": 1, \"('favorable',)\": 1, \"('startup',)\": 1, \"('Common',)\": 1, \"('nonfinancial',)\": 1, \"('36minute',)\": 1, \"('pretax',)\": 1, \"('Outside',)\": 1, \"('attorneyclient',)\": 1, \"('to',)\": 1, \"('disaffected',)\": 1, \"('internal',)\": 1, \"('mathematical',)\": 1, \"('recordkeeping',)\": 1, \"('upscale',)\": 1, \"('several',)\": 1, \"('unfettered',)\": 1, \"('jurisdictional',)\": 1, \"('awful',)\": 1, \"('punitive',)\": 1, \"('peaceful',)\": 1, \"('monthly',)\": 1, \"('Coincident',)\": 1, \"('expensive',)\": 1, \"('durable',)\": 1, \"('green',)\": 1, \"('mortgagebased',)\": 1, \"('Jerseybased',)\": 1, \"('bygone',)\": 1, \"('French',)\": 1, \"('matching',)\": 1, \"('active',)\": 1, \"('computerdriven',)\": 1, \"('antitrustlaw',)\": 1, \"('supplemental',)\": 1, \"('overseas',)\": 1, \"('84yearold',)\": 1, \"('wheelloader',)\": 1, \"('costly',)\": 1, \"('unfilled',)\": 1, \"('retail',)\": 1, \"('uncharted',)\": 1, \"('premier',)\": 1, \"('jointventure',)\": 1, \"('quarterly',)\": 1, \"('stockspecialist',)\": 1, \"('exempt',)\": 1, \"('bandwagon',)\": 1, \"('outraged',)\": 1, \"('exercisable',)\": 1, \"('Russian',)\": 1, \"('balkanized',)\": 1, \"('aesthetic',)\": 1, \"('giant',)\": 1, \"('rusty',)\": 1, \"('traditional',)\": 1, \"('highstakes',)\": 1, \"('unfounded',)\": 1, \"('surprising',)\": 1, \"('vague',)\": 1, \"('Standardized',)\": 1, \"('capitalist',)\": 1, \"('Short',)\": 1, \"('peculiar',)\": 1, \"('190point',)\": 1, \"('conspicuous',)\": 1, \"('Political',)\": 1, \"('fourcolor',)\": 1, \"('singleA',)\": 1, \"('annualized',)\": 1, \"('dark',)\": 1, \"('firm',)\": 1, \"('notable',)\": 1, \"('bottomline',)\": 1, \"('twotimelosers',)\": 1, \"('ultimate',)\": 1, \"('total',)\": 1, \"('capitalmarkets',)\": 1, \"('antimorningsickness',)\": 1, \"('31yearold',)\": 1, \"('hardcharging',)\": 1, \"('preferred',)\": 1, \"('grim',)\": 1, \"('quiet',)\": 1, \"('broad',)\": 1, \"('flagrant',)\": 1, \"('known',)\": 1, \"('unclear',)\": 1, \"('initial',)\": 1, \"('attractive',)\": 1, \"('Proper',)\": 1, \"('dismayed',)\": 1, \"('necessary',)\": 1, \"('lackluster',)\": 1, \"('botched',)\": 1, \"('thenSpeaker',)\": 1, \"('ReaganBush',)\": 1, \"('wellconnected',)\": 1, \"('floral',)\": 1, \"('Such',)\": 1, \"('longerterm',)\": 1, \"('systematic',)\": 1, \"('onemonth',)\": 1, \"('fourday',)\": 1, \"('teachercadet',)\": 1, \"('unenticing',)\": 1, \"('highestpitched',)\": 1, \"('omnipresent',)\": 1, \"('30minute',)\": 1, \"('only',)\": 1, \"('formal',)\": 1, \"('semiannual',)\": 1, \"('wild',)\": 1, \"('50state',)\": 1, \"('correct',)\": 1, \"('stellar',)\": 1, \"('deceptive',)\": 1, \"('Proforma',)\": 1, \"('sometimesexhausting',)\": 1, \"('policymaking',)\": 1, \"('accurate',)\": 1, \"('bitter',)\": 1, \"('Heightened',)\": 1, \"('Followup',)\": 1, \"('popular',)\": 1, \"('domestic',)\": 1, \"('capped',)\": 1, \"('14hour',)\": 1, \"('Australian',)\": 1, \"('very',)\": 1, \"('public',)\": 1, \"('overnight',)\": 1, \"('fouryearold',)\": 1, \"('void',)\": 1, \"('over',)\": 1, \"('laborintensive',)\": 1, \"('fiscal',)\": 1, \"('antitrust',)\": 1, \"('average',)\": 1, \"('Anglian',)\": 1, \"('Few',)\": 1, \"('statewide',)\": 1, \"('momentary',)\": 1, \"('nonfat',)\": 1, \"('true',)\": 1, \"('key',)\": 1, \"('operational',)\": 1, \"('energyservices',)\": 1, \"('sweet',)\": 1, \"('wherewithal',)\": 1, \"('weak',)\": 1, \"('shortterm',)\": 1, \"('fastgrowing',)\": 1, \"('midsized',)\": 1, \"('biannual',)\": 1, \"('global',)\": 1, \"('financial',)\": 1, \"('Individual',)\": 1, \"('lapshoulder',)\": 1, \"('late',)\": 1, \"('bluecollar',)\": 1, \"('Minneapolisbased',)\": 1, \"('final',)\": 1, \"('disproportionate',)\": 1, \"('18yearold',)\": 1, \"('bilateral',)\": 1, \"('stereotyped',)\": 1, \"('controversial',)\": 1, \"('English',)\": 1, \"('solid',)\": 1, \"('ancient',)\": 1, \"('Unable',)\": 1, \"('basic',)\": 1, \"('inherent',)\": 1, \"('deserving',)\": 1, \"('sixth',)\": 1, \"('cancercausing',)\": 1, \"('builtfromkit',)\": 1, \"('explanatory',)\": 1, \"('persistent',)\": 1, \"('Lead',)\": 1, \"('oneweek',)\": 1, \"('off',)\": 1, \"('fast',)\": 1, \"('yensupport',)\": 1, \"('anxious',)\": 1, \"('vitriolic',)\": 1, \"('anecdotal',)\": 1, \"('careful',)\": 1, \"('independent',)\": 1, \"('longterm',)\": 1, \"('confused',)\": 1, \"('obedient',)\": 1, \"('Possible',)\": 1, \"('electronic',)\": 1, \"('takeoverstock',)\": 1, \"('tissuetransplant',)\": 1, \"('firsttime',)\": 1, \"('floatingrate',)\": 1, \"('foodshop',)\": 1, \"('bigtime',)\": 1, \"('suspect',)\": 1, \"('idiomatic',)\": 1, \"('loyal',)\": 1, \"('Public',)\": 1, \"('redcarpet',)\": 1, \"('safedeposit',)\": 1, \"('various',)\": 1, \"('autosafety',)\": 1, \"('used',)\": 1, \"('unlikely',)\": 1, \"('eager',)\": 1, \"('deadeyed',)\": 1, \"('automotivelighting',)\": 1, \"('alleged',)\": 1, \"('dreadful',)\": 1, \"('cautious',)\": 1, \"('partisan',)\": 1, \"('indirect',)\": 1, \"('10lap',)\": 1, \"('highrisk',)\": 1, \"('applicable',)\": 1, \"('unloaded',)\": 1, \"('Total',)\": 1, \"('Asian',)\": 1, \"('Many',)\": 1, \"('Torontobased',)\": 1, \"('governmentcertified',)\": 1, \"('direct',)\": 1, \"('razorthin',)\": 1, \"('female',)\": 1, \"('economical',)\": 1, \"('unabated',)\": 1, \"('wrong',)\": 1, \"('extraordinary',)\": 1, \"('odd',)\": 1, \"('phony',)\": 1, \"('carsafety',)\": 1, \"('Democratic',)\": 1, \"('58yearold',)\": 1, \"('disturbing',)\": 1, \"('conceivable',)\": 1, \"('degenerative',)\": 1, \"('unstinting',)\": 1, \"('bellringing',)\": 1, \"('cozy',)\": 1, \"('flashy',)\": 1, \"('ongoing',)\": 1, \"('First',)\": 1, \"('unwashed',)\": 1, \"('promising',)\": 1, \"('bilingual',)\": 1, \"('prodemocracy',)\": 1, \"('lasting',)\": 1, \"('primary',)\": 1, \"('helpful',)\": 1, \"('relieved',)\": 1, \"('severable',)\": 1, \"('Long',)\": 1, \"('demographic',)\": 1, \"('freelance',)\": 1, \"('84month',)\": 1, \"('modest',)\": 1, \"('responsive',)\": 1, \"('Argentine',)\": 1, \"('programtrading',)\": 1, \"('consecutive',)\": 1, \"('general',)\": 1, \"('private',)\": 1, \"('unfunded',)\": 1, \"('noble',)\": 1, \"('superior',)\": 1, \"('nameless',)\": 1, \"('moneycenter',)\": 1, \"('longstanding',)\": 1, \"('forcing',)\": 1, \"('Roman',)\": 1, \"('needlelike',)\": 1, \"('chocolate',)\": 1, \"('juvenile',)\": 1, \"('secondary',)\": 1, \"('sole',)\": 1, \"('alive',)\": 1, \"('powerful',)\": 1, \"('hospitable',)\": 1, \"('Dollaryen',)\": 1, \"('crib',)\": 1, \"('prying',)\": 1, \"('oneyen',)\": 1, \"('62%owned',)\": 1, \"('recyclable',)\": 1, \"('military',)\": 1, \"('8300',)\": 1, \"('disparate',)\": 1, \"('goodhearted',)\": 1, \"('hierarchical',)\": 1, \"('mediumsized',)\": 1, \"('sixbottle',)\": 1, \"('technical',)\": 1, \"('150point',)\": 1, \"('cavernous',)\": 1, \"('psychiatric',)\": 1, \"('free',)\": 1, \"('highrise',)\": 1, \"('courtordered',)\": 1, \"('Typical',)\": 1, \"('practical',)\": 1, \"('ill',)\": 1, \"('inappropriate',)\": 1, \"('Scandinavian',)\": 1, \"('crystallattice',)\": 1, \"('own',)\": 1, \"('theological',)\": 1, \"('confidential',)\": 1, \"('dead',)\": 1, \"('confrontational',)\": 1, \"('excessive',)\": 1, \"('benign',)\": 1, \"('tabloid',)\": 1, \"('impressive',)\": 1, \"('selfregulatory',)\": 1, \"('brief',)\": 1, \"('Republican',)\": 1, \"('Swiss',)\": 1, \"('proof',)\": 1, \"('54yearold',)\": 1, \"('electric',)\": 1, \"('compelling',)\": 1, \"('blackandwhite',)\": 1, \"('and',)\": 1, \"('minor',)\": 1, \"('threeyear',)\": 1, \"('educational',)\": 1, \"('COMMERCIAL',)\": 1, \"('differential',)\": 1, \"('low',)\": 1, \"('nominal',)\": 1, \"('twoletter',)\": 1, \"('little',)\": 1, \"('mouthup',)\": 1, \"('unheard',)\": 1, \"('elementary',)\": 1, \"('socalled',)\": 1, \"('marketshare',)\": 1, \"('63yearold',)\": 1, \"('whenissued',)\": 1, \"('infectious',)\": 1, \"('lousy',)\": 1, \"('incapable',)\": 1, \"('warrationed',)\": 1, \"('36day',)\": 1, \"('citizensparked',)\": 1, \"('personal',)\": 1, \"('cashrich',)\": 1, \"('diversionary',)\": 1, \"('excess',)\": 1, \"('additional',)\": 1, \"('Longterm',)\": 1, \"('Hawaiian',)\": 1, \"('oneyear',)\": 1, \"('legislative',)\": 1, \"('nearby',)\": 1, \"('metropolitan',)\": 1, \"('impartial',)\": 1, \"('synthetic',)\": 1, \"('winning',)\": 1, \"('Skilled',)\": 1, \"('yttriumcontaining',)\": 1, \"('cityowned',)\": 1, \"('breathtaking',)\": 1, \"('sentimental',)\": 1, \"('impudent',)\": 1, \"('tough',)\": 1, \"('convertible',)\": 1, \"('eligible',)\": 1, \"('ethical',)\": 1, \"('maleonly',)\": 1, \"('intraocular',)\": 1, \"('Muzzling',)\": 1, \"('packed',)\": 1, \"('fiberend',)\": 1, \"('redandwhite',)\": 1, \"('separate',)\": 1, \"('unfair',)\": 1, \"('volatile',)\": 1, \"('25yearold',)\": 1, \"('Chinese',)\": 1, \"('distasteful',)\": 1, \"('consonant',)\": 1, \"('weekly',)\": 1, \"('curly',)\": 1, \"('selfperpetuating',)\": 1, \"('staggering',)\": 1, \"('Homeless',)\": 1, \"('30year',)\": 1, \"('yearlong',)\": 1, \"('batteryoperated',)\": 1, \"('affordable',)\": 1, \"('howto',)\": 1, \"('yielding',)\": 1, \"('overthecounter',)\": 1, \"('testpractice',)\": 1, \"('resilient',)\": 1, \"('unique',)\": 1, \"('elderly',)\": 1, \"('uncomfortable',)\": 1, \"('Nearby',)\": 1, \"('Southeast',)\": 1, \"('fierce',)\": 1, \"('African',)\": 1, \"('foul',)\": 1, \"('untrained',)\": 1, \"('Economic',)\": 1, \"('onethird',)\": 1, \"('severe',)\": 1, \"('unreasonable',)\": 1, \"('TIRED',)\": 1, \"('lowtech',)\": 1, \"('common',)\": 1, \"('playful',)\": 1, \"('captivating',)\": 1, \"('crucial',)\": 1, \"('drunk',)\": 1, \"('homeless',)\": 1, \"('billiondollar',)\": 1, \"('antidrug',)\": 1, \"('receptive',)\": 1, \"('wrenching',)\": 1, \"('chary',)\": 1, \"('strong',)\": 1, \"('obvious',)\": 1, \"('municipal',)\": 1, \"('moneymarket',)\": 1, \"('erroneous',)\": 1, \"('machineguntoting',)\": 1, \"('improbable',)\": 1, \"('unchanged',)\": 1, \"('recessionary',)\": 1, \"('electrical',)\": 1, \"('illegal',)\": 1, \"('deluxe',)\": 1, \"('if',)\": 1, \"('whitecollar',)\": 1, \"('schoolsponsored',)\": 1, \"('pickup',)\": 1, \"('materialistic',)\": 1, \"('Americanmade',)\": 1, \"('70ashare',)\": 1, \"('friendly',)\": 1, \"('truthful',)\": 1, \"('lowpriced',)\": 1, \"('foreignled',)\": 1, \"('counterrevolutionary',)\": 1, \"('impossible',)\": 1, \"('Big',)\": 1, \"('strongwilled',)\": 1, \"('undisclosed',)\": 1, \"('Average',)\": 1, \"('large',)\": 1, \"('fragile',)\": 1, \"('dutyfree',)\": 1, \"('original',)\": 1, \"('electricalsafety',)\": 1, \"('highyield',)\": 1, \"('Basic',)\": 1, \"('adjustable',)\": 1, \"('inaccurate',)\": 1, \"('startling',)\": 1, \"('beaten',)\": 1, \"('grand',)\": 1, \"('gutwrenching',)\": 1, \"('nonresidential',)\": 1, \"('speculative',)\": 1, \"('500stock',)\": 1, \"('gubernatorial',)\": 1, \"('carefree',)\": 1, \"('democratic',)\": 1, \"('industrialproduction',)\": 1, \"('conventional',)\": 1, \"('amusing',)\": 1, \"('genuine',)\": 1, \"('main',)\": 1, \"('nutty',)\": 1, \"('Fourth',)\": 1, \"('69point',)\": 1, \"('Other',)\": 1, \"('minute',)\": 1, \"('simple',)\": 1, \"('neat',)\": 1, \"('fetal',)\": 1, \"('retentive',)\": 1, \"('short',)\": 1, \"('21month',)\": 1, \"('wealthy',)\": 1, \"('onenewspaper',)\": 1, \"('joint',)\": 1, \"('buttoneddown',)\": 1, \"('pageone',)\": 1, \"('tripleArated',)\": 1, \"('housingassistance',)\": 1, \"('doubleA',)\": 1, \"('nice',)\": 1, \"('regulatory',)\": 1, \"('FEDERAL',)\": 1, \"('next',)\": 1, \"('organized',)\": 1, \"('plenty',)\": 1, \"('double',)\": 1, \"('resistant',)\": 1, \"('red',)\": 1, \"('venerable',)\": 1, \"('conservative',)\": 1, \"('Philippine',)\": 1, \"('dramatic',)\": 1, \"('lineitem',)\": 1, \"('perpetual',)\": 1, \"('eternal',)\": 1, \"('outrageous',)\": 1, \"('lowball',)\": 1, \"('bicameral',)\": 1, \"('excise',)\": 1, \"('worthy',)\": 1, \"('antiChina',)\": 1, \"('comprehensive',)\": 1, \"('growing',)\": 1, \"('oldfashioned',)\": 1, \"('feudal',)\": 1, \"('young',)\": 1, \"('unsecured',)\": 1, \"('fearful',)\": 1, \"('spectacular',)\": 1, \"('ceramic',)\": 1, \"('familyplanning',)\": 1, \"('letterwriting',)\": 1, \"('concrete',)\": 1, \"('paltry',)\": 1, \"('rethought',)\": 1, \"('statesupervised',)\": 1, \"('interested',)\": 1, \"('journalistic',)\": 1, \"('securitiesbased',)\": 1, \"('leery',)\": 1, \"('minimal',)\": 1, \"('big',)\": 1, \"('lovely',)\": 1, \"('12member',)\": 1, \"('positive',)\": 1, \"('heated',)\": 1, \"('whimsical',)\": 1, \"('newhome',)\": 1, \"('oddsounding',)\": 1, \"('elusive',)\": 1, \"('yeartoyear',)\": 1, \"('U.S.Japanese',)\": 1, \"('sharp',)\": 1, \"('mutual',)\": 1, \"('valuable',)\": 1, \"('discretionary',)\": 1, \"('crash',)\": 1, \"('Private',)\": 1, \"('cashflow',)\": 1, \"('Small',)\": 1, \"('nearly',)\": 1, \"('sure',)\": 1, \"('pressured',)\": 1, \"('toplevel',)\": 1, \"('roofcrush',)\": 1, \"('residential',)\": 1, \"('significant',)\": 1, \"('selfaggrandizing',)\": 1, \"('unjust',)\": 1, \"('strategic',)\": 1, \"('thin',)\": 1, \"('inspirational',)\": 1, \"('needed',)\": 1, \"('sassy',)\": 1, \"('damaged',)\": 1, \"('strict',)\": 1, \"('easy',)\": 1, \"('prefectural',)\": 1, \"('healthy',)\": 1, \"('intermediate',)\": 1, \"('classical',)\": 1, \"('vast',)\": 1, \"('engaging',)\": 1, \"('tight',)\": 1, \"('Retail',)\": 1, \"('youthful',)\": 1, \"('fundamentalist',)\": 1, \"('sixmonth',)\": 1, \"('local',)\": 1, \"('erudite',)\": 1, \"('stupid',)\": 1, \"('improper',)\": 1, \"('automotiveparts',)\": 1, \"('multibilliondollar',)\": 1, \"('troubled',)\": 1, \"('harddrinking',)\": 1, \"('mushy',)\": 1, \"('oncampus',)\": 1, \"('inverted',)\": 1, \"('Redblooded',)\": 1, \"('twoyear',)\": 1, \"('mindboggling',)\": 1, \"('troublesome',)\": 1, \"('Close',)\": 1, \"('straight',)\": 1, \"('seventh',)\": 1, \"('unimpeded',)\": 1, \"('downward',)\": 1, \"('extramarital',)\": 1, \"('unwilling',)\": 1, \"('undiplomatic',)\": 1, \"('Later',)\": 1, \"('costbenefit',)\": 1, \"('Londonbased',)\": 1, \"('feline',)\": 1, \"('nationwide',)\": 1, \"('nonreligious',)\": 1, \"('tripleA',)\": 1, \"('gradual',)\": 1, \"('disruptive',)\": 1, \"('Huge',)\": 1, \"('verbatim',)\": 1, \"('front',)\": 1, \"('distributable',)\": 1, \"('highbalance',)\": 1, \"('combined',)\": 1, \"('evil',)\": 1, \"('outright',)\": 1, \"('discordant',)\": 1, \"('likely',)\": 1, \"('Crude',)\": 1, \"('precious',)\": 1, \"('complicated',)\": 1, \"('Italian',)\": 1, \"('Much',)\": 1, \"('bright',)\": 1, \"('unpublished',)\": 1, \"('crushed',)\": 1, \"('tiny',)\": 1, \"('nonprofit',)\": 1, \"('pensionfund',)\": 1, \"('galling',)\": 1, \"('fond',)\": 1, \"('hightech',)\": 1, \"('precooked',)\": 1, \"('cute',)\": 1, \"('threelawyer',)\": 1, \"('Yorkbased',)\": 1, \"('nervous',)\": 1, \"('north',)\": 1, \"('lucky',)\": 1, \"('serious',)\": 1, \"('current',)\": 1, \"('trivial',)\": 1, \"('noncallable',)\": 1, \"('bloody',)\": 1, \"('fourth',)\": 1, \"('first',)\": 1, \"('leveraged',)\": 1, \"('middleground',)\": 1, \"('%',)\": 1, \"('gilt',)\": 1, \"('rough',)\": 1, \"('petulant',)\": 1, \"('sluggish',)\": 1, \"('tumultuous',)\": 1, \"('preventative',)\": 1, \"('scholarly',)\": 1, \"('prominent',)\": 1, \"('Testpreparation',)\": 1, \"('recipient',)\": 1, \"('Nasty',)\": 1, \"('junkbond',)\": 1, \"('needy',)\": 1, \"('foreign',)\": 1, \"('nondurable',)\": 1, \"('vagrant',)\": 1, \"('Financial',)\": 1, \"('frantic',)\": 1, \"('northern',)\": 1, \"('futuresrelated',)\": 1, \"('planned',)\": 1, \"('standardized',)\": 1, \"('disagreeable',)\": 1, \"('Americanstyle',)\": 1, \"('clear',)\": 1, \"('Costeffective',)\": 1, \"('51yearold',)\": 1, \"('unanimous',)\": 1, \"('Encouraged',)\": 1, \"('satisfactory',)\": 1, \"('selfserving',)\": 1, \"('split',)\": 1, \"('statutory',)\": 1, \"('institutional',)\": 1, \"('15day',)\": 1, \"('Western',)\": 1, \"('Englishspeaking',)\": 1, \"('identical',)\": 1, \"('compatible',)\": 1, \"('regional',)\": 1, \"('senior',)\": 1, \"('millionayear',)\": 1, \"('entertaining',)\": 1, \"('contemporary',)\": 1, \"('worstcase',)\": 1, \"('onecountry',)\": 1, \"('recessioninspired',)\": 1, \"('dusty',)\": 1, \"('intricate',)\": 1, \"('rear',)\": 1, \"('flatulent',)\": 1, \"('lucrative',)\": 1, \"('shortwave',)\": 1, \"('principal',)\": 1, \"('stockpicking',)\": 1, \"('homemarket',)\": 1, \"('Corporate',)\": 1, \"('hardesthit',)\": 1, \"('tiebreaking',)\": 1, \"('angry',)\": 1, \"('fixedrate',)\": 1, \"('foreignstock',)\": 1, \"('assetsale',)\": 1, \"('progressive',)\": 1, \"('much',)\": 1, \"('gentle',)\": 1, \"('rural',)\": 1, \"('shallow',)\": 1, \"('unsuccessful',)\": 1, \"('stockindex',)\": 1, \"('outside',)\": 1, \"('substantial',)\": 1, \"('directmail',)\": 1, \"('travelrelated',)\": 1, \"('newsworthy',)\": 1, \"('empty',)\": 1, \"('physical',)\": 1, \"('fetaltissue',)\": 1, \"('Washingtonbased',)\": 1, \"('following',)\": 1, \"('worth',)\": 1, \"('smalltime',)\": 1, \"('lowcost',)\": 1, \"('European',)\": 1, \"('East',)\": 1, \"('consumerdriven',)\": 1, \"('Due',)\": 1, \"('seasonal',)\": 1, \"('Dutch',)\": 1, \"('sinister',)\": 1, \"('single',)\": 1, \"('firstrate',)\": 1, \"('retractable',)\": 1, \"('striking',)\": 1, \"('indexfund',)\": 1, \"('precise',)\": 1, \"('bad',)\": 1, \"('Nipponese',)\": 1, \"('longtime',)\": 1, \"('Supportive',)\": 1, \"('profitable',)\": 1, \"('baldfaced',)\": 1, \"('exclusive',)\": 1, \"('ambitious',)\": 1, \"('clannish',)\": 1, \"('classic',)\": 1, \"('small',)\": 1, \"('damaging',)\": 1, \"('Renaissancestyle',)\": 1, \"('liable',)\": 1, \"('daycare',)\": 1, \"('NIHappointed',)\": 1, \"('academic',)\": 1, \"('Second',)\": 1, \"('old',)\": 1, \"('social',)\": 1, \"('daily',)\": 1, \"('interior',)\": 1, \"('composite',)\": 1, \"('computeraided',)\": 1, \"('sevenday',)\": 1, \"('64yearold',)\": 1, \"('influential',)\": 1, \"('magnetic',)\": 1, \"('underlying',)\": 1, \"('longtenured',)\": 1, \"('yendenominated',)\": 1, \"('largescale',)\": 1, \"('Federal',)\": 1, \"('wouldbe',)\": 1, \"('leading',)\": 1, \"('schoolimprovement',)\": 1, \"('middle',)\": 1, \"('complete',)\": 1, \"('nineyear',)\": 1, \"('unable',)\": 1, \"('unpleasant',)\": 1, \"('10th',)\": 1, \"('unsympathetic',)\": 1, \"('literary',)\": 1, \"('preliminary',)\": 1, \"('natural',)\": 1, \"('plastic',)\": 1, \"('explosive',)\": 1, \"('onehouse',)\": 1, \"('whipping',)\": 1, \"('more',)\": 1, \"('immediate',)\": 1, \"('professional',)\": 1, \"('regrettable',)\": 1, \"('mobile',)\": 1, \"('oldtime',)\": 1, \"('Bermudabased',)\": 1, \"('consistent',)\": 1, \"('punishable',)\": 1, \"('guilty',)\": 1, \"('favorite',)\": 1, \"('mere',)\": 1, \"('noncore',)\": 1, \"('fabled',)\": 1, \"('disciplinary',)\": 1, \"('mental',)\": 1, \"('Highgrade',)\": 1, \"('largerthannormal',)\": 1, \"('marketoriented',)\": 1, \"('cardiovascular',)\": 1, \"('laborbacked',)\": 1, \"('cyclical',)\": 1, \"('malignant',)\": 1, \"('near',)\": 1, \"('harmful',)\": 1, \"('inadequate',)\": 1, \"('supportive',)\": 1, \"('blue',)\": 1, \"('contrary',)\": 1, \"('nuclear',)\": 1, \"('light',)\": 1, \"('British',)\": 1, \"('yellow',)\": 1, \"('yearearlier',)\": 1, \"('questionable',)\": 1, \"('computerassisted',)\": 1, \"('widespread',)\": 1, \"('feasible',)\": 1, \"('enough',)\": 1, \"('bluechip',)\": 1, \"('buyout',)\": 1, \"('highvolume',)\": 1, \"('safe',)\": 1, \"('desultory',)\": 1, \"('male',)\": 1, \"('insidious',)\": 1, \"('fouryear',)\": 1, \"('slippery',)\": 1, \"('permanent',)\": 1, \"('U.S.',)\": 1, \"('modernday',)\": 1, \"('net',)\": 1, \"('preset',)\": 1, \"('New',)\": 1, \"('disembodied',)\": 1, \"('bigticket',)\": 1, \"('disappointed',)\": 1, \"('mergerrelated',)\": 1, \"('undesirable',)\": 1, \"('automotive',)\": 1, \"('17yearold',)\": 1, \"('supercilious',)\": 1, \"('topselling',)\": 1, \"('distant',)\": 1, \"('unfocused',)\": 1, \"('midsize',)\": 1, \"('instrumental',)\": 1, \"('suburban',)\": 1, \"('negotiable',)\": 1, \"('possible',)\": 1, \"('fundamental',)\": 1, \"('Solomonic',)\": 1, \"('stunned',)\": 1, \"('mature',)\": 1, \"('symbolic',)\": 1, \"('endless',)\": 1, \"('inner',)\": 1, \"('directinvestment',)\": 1, \"('resigned',)\": 1, \"('convenient',)\": 1, \"('presidential',)\": 1, \"('moreefficient',)\": 1, \"('second',)\": 1, \"('huge',)\": 1, \"('winebuying',)\": 1, \"('full',)\": 1, \"('pricesupport',)\": 1, \"('able',)\": 1, \"('uncomplaining',)\": 1, \"('vicious',)\": 1, \"('getoutthevote',)\": 1, \"('castiron',)\": 1, \"('fulllength',)\": 1, \"('raw',)\": 1, \"('dropoff',)\": 1, \"('100share',)\": 1, \"('ratesensitive',)\": 1, \"('currentcarrying',)\": 1, \"('productdesign',)\": 1, \"('multilevel',)\": 1, \"('90day',)\": 1, \"('wholesale',)\": 1, \"('agricultural',)\": 1, \"('subordinate',)\": 1, \"('Current',)\": 1, \"('11th',)\": 1, \"('austere',)\": 1, \"('energetic',)\": 1, \"('Sept.',)\": 1, \"('lighttruck',)\": 1, \"('collectivebargaining',)\": 1, \"('unaware',)\": 1, \"('heavyduty',)\": 1, \"('sunny',)\": 1, \"('the',)\": 1, \"('high',)\": 1, \"('head',)\": 1, \"('useful',)\": 1, \"('meaningful',)\": 1, \"('10year',)\": 1, \"('central',)\": 1, \"('coincidental',)\": 1, \"('62yearold',)\": 1, \"('related',)\": 1, \"('promotional',)\": 1, \"('administrative',)\": 1, \"('integrated',)\": 1, \"('Negotiable',)\": 1, \"('sexy',)\": 1, \"('economic',)\": 1, \"('everyday',)\": 1, \"('unlike',)\": 1, \"('legal',)\": 1, \"('same',)\": 1, \"('considerable',)\": 1, \"('tubular',)\": 1, \"('familiar',)\": 1, \"('53yearold',)\": 1, \"('40yearold',)\": 1, \"('tender',)\": 1, \"('detailed',)\": 1, \"('bottom',)\": 1, \"('prospective',)\": 1, \"('blind',)\": 1, \"('mean',)\": 1, \"('unneeded',)\": 1, \"('unfathomable',)\": 1, \"('silent',)\": 1, \"('dry',)\": 1, \"('a',)\": 1, \"('Varying',)\": 1, \"('even',)\": 1, \"('roundtrip',)\": 1, \"('humble',)\": 1, \"('critical',)\": 1, \"('stable',)\": 1, \"('conditional',)\": 1, \"('diplomatic',)\": 1, \"('close',)\": 1, \"('standard',)\": 1, \"('absurd',)\": 1, \"('halfhour',)\": 1, \"('Philadelphiabased',)\": 1, \"('lightningfast',)\": 1, \"('substanceabusing',)\": 1, \"('furious',)\": 1, \"('effective',)\": 1, \"('shirtsleeved',)\": 1, \"('antimiscarriage',)\": 1, \"('special',)\": 1, \"('exceptional',)\": 1, \"('athletic',)\": 1, \"('historical',)\": 1, \"('working',)\": 1, \"('yearago',)\": 1, \"('former',)\": 1, \"('automatic',)\": 1, \"('sudden',)\": 1, \"('teenage',)\": 1, \"('unjustified',)\": 1, \"('gross',)\": 1, \"('openend',)\": 1, \"('disasterassistance',)\": 1, \"('asbestosrelated',)\": 1, \"('238,000circulation',)\": 1, \"('seasoned',)\": 1, \"('top',)\": 1, \"('highpriced',)\": 1, \"('appropriate',)\": 1, \"('parallel',)\": 1, \"('limited',)\": 1, \"('facial',)\": 1, \"('capitalgains',)\": 1, \"('Last',)\": 1, \"('Serial',)\": 1, \"('different',)\": 1, \"('tired',)\": 1, \"('similar',)\": 1, \"('unsolicited',)\": 1, \"('further',)\": 1, \"('kind',)\": 1, \"('American',)\": 1, \"('realestate',)\": 1, \"('difficult',)\": 1, \"('lofty',)\": 1, \"('moderate',)\": 1, \"('interesting',)\": 1, \"('Japanese',)\": 1, \"('muchlarger',)\": 1, \"('impetuous',)\": 1, \"('interestbearing',)\": 1, \"('congressional',)\": 1, \"('Net',)\": 1, \"('competitive',)\": 1, \"('numerous',)\": 1, \"('searchandseizure',)\": 1, \"('eighth',)\": 1, \"('regular',)\": 1, \"('inauspicious',)\": 1, \"('U.S.Japan',)\": 1, \"('intense',)\": 1, \"('mostlikelysuccessor',)\": 1, \"('bureaucratic',)\": 1, \"('threedigit',)\": 1, \"('securitytype',)\": 1, \"('altruistic',)\": 1, \"('Christian',)\": 1, \"('poignant',)\": 1, \"('happy',)\": 1, \"('fat',)\": 1, \"('stiff',)\": 1, \"('unitary',)\": 1, \"('peripheral',)\": 1, \"('airlinerelated',)\": 1, \"('antiabortion',)\": 1, \"('foldable',)\": 1, \"('finite',)\": 1, \"('hot',)\": 1, \"('exportoriented',)\": 1, \"('privileged',)\": 1, \"('childish',)\": 1, \"('oldstyle',)\": 1, \"('stateowned',)\": 1, \"('twotiered',)\": 1, \"('white',)\": 1, \"('industrywide',)\": 1, \"('whole',)\": 1, \"('beneficial',)\": 1, \"('offyear',)\": 1, \"('intriguing',)\": 1, \"('closedend',)\": 1, \"('aftertax',)\": 1, \"('dragdown',)\": 1, \"('stockselection',)\": 1, \"('soured',)\": 1, \"('persuasive',)\": 1, \"('topyielding',)\": 1, \"('sidecrash',)\": 1, \"('avid',)\": 1, \"('doubledigit',)\": 1, \"('Preliminary',)\": 1, \"('semicircular',)\": 1, \"('preexisting',)\": 1, \"('highrate',)\": 1, \"('Austrian',)\": 1, \"('annual',)\": 1, \"('international',)\": 1, \"('chaotic',)\": 1, \"('greedy',)\": 1, \"('embarrassing',)\": 1, \"('bearish',)\": 1, \"('hostile',)\": 1, \"('slack',)\": 1, \"('disappointing',)\": 1, \"('interim',)\": 1, \"('mundane',)\": 1, \"('pricedepressing',)\": 1, \"('unproductive',)\": 1, \"('hefty',)\": 1, \"('sensitive',)\": 1, \"('sound',)\": 1, \"('far',)\": 1, \"('recent',)\": 1, \"('standing',)\": 1, \"('civil',)\": 1, \"('ancillary',)\": 1, \"('akin',)\": 1, \"('back',)\": 1, \"('confident',)\": 1, \"('nearrecord',)\": 1, \"('schoolresearch',)\": 1, \"('socialist',)\": 1, \"('taxable',)\": 1, \"('criminal',)\": 1, \"('rich',)\": 1, \"('responsible',)\": 1, \"('unmarked',)\": 1, \"('brilliant',)\": 1, \"('unofficial',)\": 1, \"('entire',)\": 1, \"('fiveyear',)\": 1, \"('exact',)\": 1, \"('highlevel',)\": 1, \"('assistant',)\": 1, \"('architectural',)\": 1, \"('10day',)\": 1, \"('homosexual',)\": 1, \"('fiberoptic',)\": 1, \"('twoyearold',)\": 1, \"('predictable',)\": 1, \"('visible',)\": 1, \"('goodnatured',)\": 1, \"('Strategic',)\": 1, \"('Next',)\": 1, \"('fluent',)\": 1, \"('egregious',)\": 1, \"('offoff',)\": 1, \"('later',)\": 1, \"('dirty',)\": 1, \"('brutal',)\": 1, \"('20point',)\": 1, \"('mediocre',)\": 1, \"('indexarbitrage',)\": 1, \"('human',)\": 1, \"('aggressive',)\": 1, \"('lynchmob',)\": 1, \"('52week',)\": 1, \"('Several',)\": 1, \"('controlled',)\": 1, \"('crude',)\": 1, \"('dollardenominated',)\": 1, \"('ideological',)\": 1, \"('medical',)\": 1, \"('early',)\": 1, \"('smooth',)\": 1, \"('preapproved',)\": 1, \"('weJapanese',)\": 1, \"('steady',)\": 1, \"('ordinary',)\": 1, \"('countless',)\": 1, \"('future',)\": 1, \"('Perpetual',)\": 1, \"('environmental',)\": 1, \"('intellectual',)\": 1, \"('vacant',)\": 1, \"('sufficient',)\": 1, \"('carcare',)\": 1, \"('imaginative',)\": 1, \"('Strong',)\": 1, \"('fellow',)\": 1, \"('promissory',)\": 1, \"('tremendous',)\": 1, \"('famed',)\": 1, \"('flat',)\": 1, \"('worldwide',)\": 1, \"('equitypurchase',)\": 1, \"('Comprehensive',)\": 1, \"('funny',)\": 1, \"('shaded',)\": 1, \"('desirable',)\": 1, \"('JUDICIAL',)\": 1, \"('quick',)\": 1, \"('stark',)\": 1, \"('timely',)\": 1, \"('above',)\": 1, \"('hypothetical',)\": 1, \"('poor',)\": 1, \"('German',)\": 1, \"('overhead',)\": 1, \"('uncanny',)\": 1, \"('eightmonth',)\": 1, \"('negative',)\": 1, \"('hard',)\": 1, \"('continental',)\": 1, \"('computergenerated',)\": 1, \"('cumbersome',)\": 1, \"('bankbacked',)\": 1, \"('testpreparation',)\": 1, \"('successful',)\": 1, \"('rapid',)\": 1, \"('moraledamaging',)\": 1, \"('myriad',)\": 1, \"('enviable',)\": 1, \"('subject',)\": 1, \"('unworkable',)\": 1, \"('30point',)\": 1, \"('lowerpriority',)\": 1, \"('buyback',)\": 1, \"('upward',)\": 1, \"('singlelot',)\": 1, \"('pharmaceutical',)\": 1, \"('potential',)\": 1, \"('singlefamily',)\": 1, \"('multicrystal',)\": 1, \"('lowability',)\": 1, \"('fresh',)\": 1, \"('pre',)\": 2, \"('square',)\": 1, \"('unrecognizable',)\": 1, \"('replete',)\": 1, \"('doityourself',)\": 1, \"('sometimestawdry',)\": 1, \"('right',)\": 1, \"('intentioned',)\": 1, \"('temporary',)\": 1, \"('ninth',)\": 1, \"('scientific',)\": 1, \"('sympathetic',)\": 1, \"('aghast',)\": 1, \"('37ashare',)\": 1, \"('political',)\": 1, \"('12point',)\": 1, \"('wary',)\": 1, \"('cutthroat',)\": 1, \"('unfairtrade',)\": 1, \"('mammoth',)\": 1, \"('prescient',)\": 1, \"('judicial',)\": 1, \"('raring',)\": 1, \"('lessthanbrilliant',)\": 1, \"('59yearold',)\": 1, \"('fivepoint',)\": 1, \"('unproven',)\": 1, \"('gloomy',)\": 1, \"('black',)\": 1, \"('actual',)\": 1, \"('highquality',)\": 1, \"('chief',)\": 1, \"('record',)\": 1, \"('open',)\": 1, \"('posthearing',)\": 1, \"('steep',)\": 1, \"('deviant',)\": 1, \"('executive',)\": 1, \"('fastestgrowing',)\": 1, \"('many',)\": 1, \"('harsh',)\": 1, \"('wardamaged',)\": 1, \"('fifth',)\": 1, \"('governmentfunded',)\": 1, \"('outstanding',)\": 1, \"('fiveinch',)\": 1, \"('nonencapsulating',)\": 1, \"('mortgagebacked',)\": 1, \"('historic',)\": 1, \"('definitive',)\": 1, \"('advertorial',)\": 1, \"('incomplete',)\": 1, \"('robotic',)\": 1, \"('cohesive',)\": 1, \"('tense',)\": 1, \"('preCommunist',)\": 1, \"('antitakeover',)\": 1, \"('complex',)\": 1, \"('whirling',)\": 1, \"('520lawyer',)\": 1, \"('third',)\": 1, \"('secondlargest',)\": 1, \"('N.J.based',)\": 1, \"('broadbased',)\": 1, \"('sevenyear',)\": 1, \"('SenateHouse',)\": 1, \"('aware',)\": 1, \"('solicitous',)\": 1, \"('mechanical',)\": 1, \"('photographic',)\": 1, \"('dropin',)\": 1, \"('Medical',)\": 1, \"('soft',)\": 1, \"('external',)\": 1, \"('lessserious',)\": 1, \"('Uzimodel',)\": 1, \"('monied',)\": 1, \"('elaborate',)\": 1, \"('overleveraged',)\": 1, \"('contingencyfee',)\": 1, \"('moneylosing',)\": 1, \"('metric',)\": 1, \"('touchy',)\": 1, \"('relative',)\": 1, \"('highersalaried',)\": 1, \"('benevolent',)\": 1, \"('implicit',)\": 1, \"('new',)\": 1, \"('usual',)\": 1, \"('gigantic',)\": 1, \"('geometrical',)\": 1, \"('long',)\": 1, \"('sweeping',)\": 1, \"('accelerated',)\": 1, \"('nonexecutive',)\": 1, \"('Egyptian',)\": 1, \"('solemn',)\": 1, \"('adequate',)\": 1, \"('upstate',)\": 1, \"('Franciscobased',)\": 1, \"('equal',)\": 1, \"('inevitable',)\": 1, \"('entangled',)\": 1, \"('preemptive',)\": 1, \"('wide',)\": 1, \"('eclectic',)\": 1, \"('evident',)\": 1, \"('Industrial',)\": 1, \"('slow',)\": 1, \"('extensive',)\": 1, \"('fit',)\": 1, \"('princely',)\": 1, \"('superabsorbent',)\": 1, \"('astronomical',)\": 1, \"('due',)\": 1, \"('sprawling',)\": 1, \"('enormous',)\": 1, \"('objectionable',)\": 1, \"('sportutility',)\": 1, \"('major',)\": 1, \"('scenic',)\": 1, \"('previous',)\": 1, \"('High',)\": 1, \"('partsengineering',)\": 1, \"('90centanhour',)\": 1, \"('upset',)\": 1, \"('incredible',)\": 1, \"('shortlived',)\": 1, \"('willing',)\": 1, \"('loose',)\": 1, \"('specific',)\": 1, \"('cool',)\": 1, \"('wellknown',)\": 1, \"('efficient',)\": 1, \"('distorted',)\": 1, \"('beautiful',)\": 1, \"('Great',)\": 1, \"('heavy',)\": 1, \"('computerized',)\": 1, \"('official',)\": 1, \"('sorry',)\": 1, \"('protracted',)\": 1, \"('loathsome',)\": 1, \"('exciting',)\": 1, \"('docile',)\": 1, \"('ornamental',)\": 1, \"('rival',)\": 1, \"('industrial',)\": 1, \"('generic',)\": 1, \"('bold',)\": 1, \"('knowledgeable',)\": 1, \"('canine',)\": 1, \"('languagehousekeeper',)\": 1, \"('fulltime',)\": 1, \"('national',)\": 1, \"('laughing',)\": 1, \"('afraid',)\": 1, \"('thirdquarter',)\": 1, \"('ninemember',)\": 1, \"('unwary',)\": 1, \"('muzzling',)\": 1, \"('constitutional',)\": 1, \"('lendlease',)\": 1, \"('arched',)\": 1, \"('commercial',)\": 1, \"('interstate',)\": 1, \"('unconstitutional',)\": 1, \"('unrestricted',)\": 1, \"('Oddyear',)\": 1, \"('regimented',)\": 1, \"('narrow',)\": 1, \"('hazardous',)\": 1, \"('certain',)\": 1, \"('immune',)\": 1, \"('30day',)\": 1, \"('tasty',)\": 1, \"('good',)\": 1, \"('past',)\": 1, \"('closing',)\": 1, \"('unhappy',)\": 1, \"('apprehensive',)\": 1, \"('summer\\\\/winter',)\": 1, \"('available',)\": 1, \"('melttextured',)\": 1, \"('insidertrading',)\": 1, \"('Sacramentobased',)\": 1, \"('savingsandloan',)\": 1, \"('overall',)\": 1, \"('unattractive',)\": 1, \"('absolute',)\": 1, \"('Abrupt',)\": 1, \"('copkiller',)\": 1, \"('level',)\": 1, \"('devastating',)\": 1, \"('subsequent',)\": 1, \"('minimum',)\": 1, \"('sprightly',)\": 1, \"('Canadian',)\": 1, \"('balanced',)\": 1, \"('other',)\": 1, \"('Justice',)\": 1, \"('fourfoothigh',)\": 1, \"('corporate',)\": 1, \"('depositary',)\": 1, \"('testprep',)\": 1, \"('rundown',)\": 1, \"('sixinch',)\": 1, \"('revenuedesperate',)\": 1, \"('onehour',)\": 1, \"('enlarged',)\": 1, \"('dismal',)\": 1, \"('underprivileged',)\": 1, \"('pursuant',)\": 1, \"('emotional',)\": 1, \"('comparable',)\": 1, \"('individual',)\": 1, \"('Polish',)\": 1, \"('roughhewn',)\": 1, \"('Soviet',)\": 1, \"('few',)\": 1, \"('abortionrelated',)\": 1, \"('Funny',)\": 1, \"('tall',)\": 1, \"('onetime',)\": 1, \"('Traditional',)\": 1, \"('Czech',)\": 1, \"('antiprogram',)\": 1, \"('unethical',)\": 1, \"('videoviewing',)\": 1, \"('intellectualproperty',)\": 1, \"('important',)\": 1, \"('sizable',)\": 1, \"('oneday',)\": 1, \"('hardhitting',)\": 1, \"('Palestinian',)\": 1, \"('collective',)\": 1, \"('unusual',)\": 1, \"('extra',)\": 1, \"('sophisticated',)\": 1, \"('unauthorized',)\": 1, \"('payable',)\": 1, \"('testcoaching',)\": 1, \"('decisive',)\": 1, \"('240page',)\": 1, \"('indexrelated',)\": 1, \"('singledigit',)\": 1, \"('fiveday',)\": 1, \"('unintelligible',)\": 1, \"('great',)\": 1, \"('such',)\": 1, \"('inflationary',)\": 1, \"('oddyear',)\": 1, \"('normal',)\": 1, \"('particular',)\": 1, \"('pregnant',)\": 1, \"('maledominated',)\": 1, \"('federal',)\": 1, \"('acting',)\": 1, \"('eightcount',)\": 1, \"('ready',)\": 1, \"('Atlantabased',)\": 1, \"('Chicagostyle',)\": 1, \"('majorleague',)\": 1, \"('comfortable',)\": 1, \"('sad',)\": 1, \"('studenttest',)\": 1, \"('prestigious',)\": 1, \"('sportsoriented',)\": 1, \"('computersystemdesign',)\": 1, \"('prochoice',)\": 1, \"('dumbfounded',)\": 1, \"('trainingwage',)\": 1, \"('weird',)\": 1, \"('voluntary',)\": 1, \"('cold',)\": 1, \"('twoweek',)\": 1, \"('thinlipped',)\": 1, \"('fanciful',)\": 1, \"('Cultural',)\": 1, \"('content',)\": 1, \"('decadelong',)\": 1, \"('customchip',)\": 1, \"('extended',)\": 1, \"('yearly',)\": 1, \"('quantitative',)\": 1, \"('37yearold',)\": 1, \"('landidling',)\": 1, \"('forthcoming',)\": 1, \"('certified',)\": 1, \"('ugly',)\": 1, \"('Hot',)\": 1, \"('corporatewide',)\": 1, \"('imminent',)\": 1, \"('last',)\": 1, \"('scarce',)\": 1, \"('tricky',)\": 1, \"('prime',)\": 1, \"('real',)\": 1, \"('uncompensated',)\": 1, \"('funded',)\": 1, \"('imperative',)\": 1, '<unk>': 1.0} \n",
      "\n",
      "[ADVP] {'([VB], [RB])': 1, '([RB], [CC], [RB])': 1, '([IN], [NN])': 1, '([RB], [NN], [IN], [NN])': 1, '([RB], [NP], [PP])': 1, '([RB], [RBR])': 1, '([RB], [RB], [RB])': 1, '([DT],)': 1, '([NP], [JJR])': 1, '([IN], [JJS])': 1, '([``], [RB], [RB], [.])': 1, '([RBS], [RB])': 1, '([NONE],)': 1, '([IN],)': 1, '([JJS],)': 1, '([RBR],)': 1, '([RBR], [RB])': 1, '([CD], [TO], [CD])': 1, '([DT], [NN], [SBAR])': 1, '([RBR], [CC], [RBR])': 1, '([DT], [RBR])': 1, '([RB], [NP])': 1, '([DT], [DT], [JJ])': 1, '([RB], [PP])': 1, '([IN], [RB])': 1, '([NN],)': 1, '([NPADV], [JJR])': 1, '([JJ],)': 1, '([IN], [PP])': 1, '([RB], [RB])': 1, '([DT], [NN], [SBARNOM])': 1, '([RB], [JJ], [RB])': 1, '([CD],)': 1, '([ADVPTMP], [CC], [ADVP])': 1, '([NP], [IN])': 1, '([RB],)': 1, '([RB], [JJR])': 1, '([RB], [IN], [RB])': 1, '([RBR], [IN])': 1, '([RB], [RBR], [RB])': 1, '([RB], [JJ])': 1, '([DT], [DT])': 1, '([IN], [DT])': 1, '([NPADV], [RBR])': 1, '([PDT],)': 1, '([RB], [IN])': 1, '([RP],)': 1, '([JJR],)': 1, '([ADVP], [SBAR])': 1, '([NNP],)': 1, '([NP], [RBR])': 1, '([IN], [NP])': 1, '([ADVP], [PP])': 1, '([RB], [NP], [PPTMP])': 1, '([JJ], [PP])': 1, '<unk>': 1.0} \n",
      "\n",
      "[DT] {\"('both',)\": 1, \"('no',)\": 1, \"('those',)\": 1, \"('every',)\": 1, \"('That',)\": 1, \"('all',)\": 1, \"('the',)\": 1, \"('del',)\": 1, \"('la',)\": 1, \"('Both',)\": 1, \"('Each',)\": 1, \"('THE',)\": 1, \"('some',)\": 1, \"('Neither',)\": 1, \"('an',)\": 1, \"('This',)\": 1, \"('this',)\": 1, \"('Any',)\": 1, \"('An',)\": 1, \"('a',)\": 1, \"('that',)\": 1, \"('le',)\": 1, \"('neither',)\": 1, \"('A',)\": 1, \"('another',)\": 1, \"('either',)\": 1, \"('All',)\": 1, \"('Those',)\": 1, \"('Another',)\": 1, \"('these',)\": 1, \"('half',)\": 1, \"('any',)\": 1, \"('These',)\": 1, \"('Every',)\": 1, \"('AN',)\": 1, \"('The',)\": 1, \"('No',)\": 1, \"('Some',)\": 1, \"('each',)\": 1, '<unk>': 1.0} \n",
      "\n",
      "[SBAR] {'([WHADVP], [S])': 6, '([WHNP], [S])': 249, '([IN], [S])': 4, '([SBAR], [SBAR])': 1, '([LRB], [WHNP], [RRB], [S])': 1, '([DT], [S])': 2, '([SBAR], [,], [SBAR])': 1, '([IN], [,], [S])': 1, '([WHNP], [S], [.])': 1, '([WHADVP], [IN], [S])': 1, '([WHNP], [``], [S])': 3, '([SBAR], [,], [CC], [SBAR])': 1, '([IN], [``], [S])': 2, '([WHNP], [IN], [S])': 1, '([NONE],)': 1, '([WHPP], [S])': 4, '([SBAR], [CC], [SBAR])': 1, '([NONE], [SINV])': 1, '([SBAR], [:], [NN], [SBAR])': 1, '([NONE], [S])': 2, '([WHNP], [SQ])': 1, '([NONE], [SCLF])': 1, '([WHNP], [,], [S])': 1, '([RB], [S])': 1, '([IN], [WHADVP], [S])': 1, '([IN], [SADV])': 1, '<unk>': 1.0} \n",
      "\n",
      "[NP] {'([LST], [NP], [PP])': 1, '([NNP], [NNP], [POS])': 1, '([NP],)': 2, \"([NP], [''], [SBAR])\": 1, '([JJR], [NN])': 1, '([NNP], [NNP], [NNP])': 1, '([PRP$], [JJS], [NNS])': 1, '([NP], [PP], [PP], [PP])': 2, '([ADJP], [NN])': 1, '([DT], [VBN], [CD], [NN])': 1, '([NP], [:], [VP], [.])': 1, '([NP], [NN], [CC], [NN])': 1, '([NP], [SBAR], [,], [PP])': 1, '([DT], [ADJP], [NN], [NN])': 1, '([DT], [JJ], [NN], [NNP])': 1, '([RB], [DT], [NNS])': 1, '([DT], [QP], [NNS])': 1, '([PRP$], [NN], [S])': 1, '([NP], [CC], [NPTTL])': 1, '([JJ], [JJ], [NNP])': 1, '([NNS], [NN])': 1, '([NP], [,], [NP], [.])': 1, '([CD], [NN])': 1, '([DT], [NP], [CC], [NP])': 1, '([JJ], [NNS])': 2, '([DT], [NNS], [RB])': 1, '([VBG], [NNS])': 1, '([PRP],)': 4, '([DT], [ADJP], [NN], [POS])': 1, '([QP], [DT], [JJ], [NN])': 1, \"([``], [NPTTL], [''], [PRN])\": 1, '([PRP$], [NXTTL], [JJ], [NNS])': 1, '([NNP], [CD], [NNS])': 1, '([DT], [VBG], [NNP], [NN])': 1, '([DT], [NN], [NNS])': 1, '([NP], [UCP])': 1, '([NNS], [CC], [NNS])': 1, '([NNP], [NNP], [NNP], [POS])': 1, '([NP], [,], [NP])': 1, '([RB], [DT], [VBG], [NNS])': 1, '([CD], [NNP], [NNP])': 1, '([PRP$], [JJ], [NN], [NN])': 1, '([UCP], [NNS])': 1, '([DT], [NNP], [NNS])': 1, '([CD], [NNP], [NN], [NNS])': 1, '([VBN], [JJ], [NNS])': 1, \"([NP], [SBAR], [,], [''])\": 1, '([NP], [PPDIR])': 2, '([NPTTL], [CC], [NPTTL])': 1, '([DT], [VBG])': 1, '([NNP], [CC], [JJ], [NNS])': 1, '([CD], [NN], [POS])': 1, '([NP], [JJR], [NNS])': 1, '([DT], [NN], [PRN])': 1, '([DT], [``], [NN], [S])': 1, '([DT], [JJ], [NN], [QP])': 1, \"([``], [NP], [NN], [''])\": 1, '([NP], [PPLOC], [PPTMP], [PP])': 1, '([DT], [JJR], [NN])': 1, '([RB], [NN], [NNS])': 1, '([NP], [SBARPRP])': 1, '([NP], [.])': 1, '([PRP$], [JJ], [NNP], [NNP])': 1, '([DT], [CD], [NN], [NN])': 1, '([NNP], [NNP], [NNP], [NN])': 1, '([JJ], [DT], [JJ], [NN])': 1, '([PRP$], [VBN], [NN])': 1, '([NP], [VBN], [NNP], [NN])': 1, '([DT], [NNP])': 2, '([DT], [QP], [NONE])': 1, '([NP], [CD], [NN])': 1, '([DT], [NNP], [JJ], [NN])': 1, '([NP], [NPLOC], [.])': 1, '([DT], [JJS], [VBG], [NNS])': 1, '([JJR], [NNS])': 1, '([PRP$], [NACLOC], [NN])': 1, '([DT], [``], [ADJP], [NN])': 1, '([$], [CD], [NONE])': 3, '([JJ], [JJ], [JJ], [NNS])': 1, '([NP], [NNS])': 2, '([JJ], [NN], [NN], [NNS])': 1, '([NN], [NNS], [NNS])': 1, '([DT], [NNP], [NN])': 2, '([DT], [VBG], [JJ], [NNS])': 1, '([JJ], [NN], [NNS])': 2, '([CD], [NN], [NONE])': 1, '([PRP$], [NNS])': 1, '([CD], [POS])': 1, '([JJ], [NN], [VBG], [NNS])': 1, '([DT], [NN])': 4, '([DT], [CC], [NN])': 1, '([DT], [CD], [CC], [CD])': 1, '([ADJP], [NNS])': 1, '([NP], [NNPS])': 1, '([NP], [,], [RB], [NP])': 1, '([NNS], [NNS])': 1, '([JJS], [RB], [JJ], [NNS])': 1, '([JJ], [,], [ADJP], [NNS])': 1, '([IN], [DT], [JJ], [NN])': 1, '([NP], [NNS], [SBAR])': 1, '([JJ], [NN])': 1, '([NP], [PRN], [:])': 1, '([ADJP], [NN], [NNS], [NN])': 1, '([DT], [VBN], [CD], [CD])': 1, '([NP], [NNP], [NNP], [NNP])': 1, '([NP], [,], [SBAR])': 1, '([DT], [NNP], [CD], [NNP])': 1, '([DT], [JJS], [NN])': 1, \"([DT], [``], [NN], [''])\": 1, '([ADJP], [JJR])': 1, '([DT], [``], [NN])': 1, '([DT], [RB], [JJ], [NN])': 1, '([NAC], [NNP], [NNP])': 1, '([NNP], [NNP], [CC], [NNP])': 1, '([CD], [NN], [JJ], [NNS])': 1, '([NN], [NN])': 2, '([NP], [NNPS], [NNP], [NNP])': 1, '([JJ], [NNP], [NN], [NNS])': 1, '([NNP], [NNP], [NNP], [NNS])': 1, '([NNP], [NNPS], [NNP])': 1, '([NP], [NPTMP])': 1, '([QP], [DT], [NN])': 1, '([NP], [PP], [PP], [SBARADV])': 1, '([JJ], [JJ], [NX])': 1, '([QP], [NONE], [QP])': 1, '([JJ], [NN], [NN])': 1, '([DT], [JJS], [NN], [NNS])': 1, '([NP], [,], [PP])': 1, '([DT],)': 1, '([NP], [,], [PPDIR])': 1, '([DT], [NN], [,], [SBAR])': 1, '([$], [CD], [NONE], [QP])': 1, '([NNP], [NNP], [JJ], [NNS])': 1, '([PRP], [NN], [NN])': 1, '([PRP$], [CD], [CC], [CD])': 1, '([NP], [PPTMP], [PPTMP])': 1, '([NNP], [NNP], [NNS])': 2, '([PRP$], [ADJP], [JJ], [NN])': 1, '([SNOM], [,], [NP])': 1, '([JJ], [NN], [VBZ])': 1, '([JJ], [NN], [NNS], [NN])': 1, '([DT], [NN], [CC], [NN])': 1, '([DT], [NNP], [NNP], [NNP])': 1, '([PRP$], [ADJP], [NN], [NN])': 1, '([LST], [NP], [VP])': 1, '([NP], [ADVPLOC], [PP])': 1, '([CD], [NNP], [NN])': 1, '([DT], [NNS], [S])': 1, '([ADJP], [JJ], [NNS])': 1, '([NP], [,], [NPLOC], [SBAR])': 1, '([NNP], [NNP])': 2, '([ADVP], [DT])': 1, '([JJ], [NNP], [CD])': 1, '([NP], [ADVP])': 1, '([PRP$], [JJ], [NN])': 1, '([NP], [JJ], [NN], [NN])': 1, '([DT], [JJ], [NNS], [NNS])': 1, '([NP], [SBAR], [PP])': 1, '([DT], [NNP], [NNP], [CD])': 1, '([NP], [CD], [JJS], [NNS])': 1, '([NP], [PP], [ADVPTMP])': 1, '([NP], [CD], [NN], [NN])': 1, '([NP], [PP])': 3, '([PRP$], [``], [NXTTL])': 1, '([CD], [NNS])': 1, '([NP], [PP], [NPTMP])': 1, '([QP], [NNP], [NNS])': 1, '([PRP$], [JJ], [VBG], [NN])': 1, '([DT], [PRP])': 1, '([DT], [CD], [NN], [NNS])': 1, '([NP], [:], [ADVPLOC])': 1, '([ADJP], [NNP], [NNP])': 1, '([NNP], [CC], [NNP], [NNP])': 1, '([RB], [JJ], [NNS])': 1, '([DT], [VBN], [NN], [POS])': 1, '([NN], [JJ], [NNS])': 1, '([DT], [NP], [NN], [SBAR])': 1, '([DT], [NNP], [CD], [NN])': 1, '([JJR], [JJ], [NNS])': 1, '([DT], [ADJP], [NNP], [NN])': 1, '([NNP], [NN], [NNS])': 2, '([DT], [JJ], [CD], [NN])': 1, '([RB], [DT])': 1, '([DT], [VBG], [NNS])': 1, '([NP], [JJS], [VBN], [NN])': 1, '([NP], [,], [NPLOC], [.])': 1, '([PRP$], [NN], [NN], [NN])': 1, '([NP], [JJ], [NN], [NNS])': 1, '([NONE],)': 6, '([NP], [SNOM])': 1, '([PRP$], [JJ], [NN], [NNS])': 1, '([NP], [PP], [NPLOC])': 1, '([NN], [POS])': 1, '([IN],)': 1, '([NP], [NPTMP], [PP])': 1, '([PPLOC], [PPDIR])': 1, '([NN], [NN], [CC], [VBZ])': 1, '([DT], [JJS], [NNS], [NN])': 1, '([JJR], [NNP], [NN], [NNS])': 1, '([DT], [CD], [NNS])': 1, '([NP], [ADVP], [PP])': 1, '([NP], [ADJP], [NN])': 1, '([DT], [DT], [NN])': 1, '([NN], [NN], [NN])': 1, '([DT], [NNP], [CD])': 1, '([VBN], [NNS])': 1, '([DT], [JJ], [NNS])': 1, '([DT], [NACLOC], [NN])': 1, '([NNP], [:])': 1, '([NNP], [NNPS], [NNP], [NNP])': 1, '([CD], [CD], [NN])': 1, '([DT], [NNS])': 2, '([RB], [CD], [NN])': 1, \"([NP], [PP], [''], [SBAR])\": 1, '([JJ], [,], [JJ], [NN])': 1, '([PDT], [DT], [NN], [NN])': 1, '([VBN], [NN], [NN])': 1, '([NP], [VP], [.])': 1, '([NNP], [RB], [NNS])': 1, '([NNP], [CD])': 1, '([DT], [JJR], [ADJP], [NN])': 1, '([NP], [SBAR], [.])': 1, '([DT], [JJ], [VBG], [NNS])': 1, '([NNP], [CC], [NNP], [NNS])': 1, '([NP], [:], [NP])': 2, '([NP], [NPADV])': 1, '([RB], [JJ])': 1, '([NP], [NN])': 2, '([DT], [NNS], [CC], [NN])': 1, '([PRP$], [JJ], [NN], [POS])': 1, '([DT], [NNS], [NNS])': 1, '([NP], [``], [JJ], [NNS])': 1, '([PRP$], [NX])': 1, '([NAC], [NN], [NN])': 1, '([NP], [NN], [JJ], [NN])': 1, '([NNP], [NN], [NN])': 1, '([NN], [CC], [NNS])': 1, '([NN], [CD])': 1, '([PRP$], [NN], [NN], [NNS])': 1, '([DT], [JJ], [NX])': 1, '([NP], [PP], [NP])': 1, '([DT], [NN], [S])': 1, '([NNP], [NNPS])': 2, '([RB], [NNPS])': 1, '([DT], [JJR], [NN], [NN])': 1, '([DT], [ADJP], [NN])': 1, '([NP], [PP], [ADVPLOC], [SBAR])': 1, '([VB],)': 1, '([NP], [JJS], [NN])': 1, '([DT], [JJ], [NN])': 3, '([NNPS], [NNP], [NNP], [NNP])': 1, '([NP], [PP], [S])': 3, '([PRP$], [NNP])': 1, '([ADJP], [NN], [NNS])': 1, '([JJ], [VBG])': 1, '([DT], [NN], [NN], [S])': 1, '([NN], [NN], [NN], [NN])': 1, '([CD], [NN], [NN])': 1, '([NP], [PP], [PP], [PPTMP])': 1, '([ADVPTMP], [NN], [NN], [NN])': 1, '([JJ], [NNS], [POS])': 1, '([NP], [PP], [PPDIR])': 1, '([NP], [ADJP], [PP], [SBAR])': 1, '([CD], [ADJP], [JJ], [NNS])': 1, '([NACLOC], [CD], [NNP], [NNP])': 1, '([DT], [NNS], [CC], [VBZ])': 1, '([NP], [,], [CONJP], [NP])': 1, '([DT], [JJ], [NN], [CD])': 1, '([DT], [ADJP], [NNS], [NN])': 1, '([PRP$], [QP], [NNS])': 1, '([NP], [VP])': 2, '([WDT],)': 1, '([IN], [DT], [NN])': 1, '([ADJP], [NNP], [NNS])': 1, '([NNP], [NN], [NNP], [NNP])': 1, '([NNS], [CC], [NN], [NNS])': 1, '([NP], [ADJP], [NPTMP])': 1, '([NP], [SBAR], [SBAR])': 1, '([NP], [PP], [PRN], [NP])': 1, '([NP], [SBAR])': 1, '([NN], [VBG], [NN])': 1, '([PRP$], [JJ], [NNP], [NN])': 1, '([VBN], [NN], [NNS])': 1, \"([``], [NN], [''], [NNS])\": 1, '([DT], [VBG], [JJ], [NN])': 1, '([DT], [JJ], [DT])': 1, '([DT], [JJS], [CD], [NNS])': 1, '([VBG], [JJ], [NNS])': 1, '([NP], [PP], [PPLOC], [SBAR])': 1, '([NP], [,], [NPLOC])': 1, '([NP], [JJ], [JJ], [VBG])': 1, '([PRP$], [JJ])': 1, '([PRP$], [CD], [NN], [NNS])': 1, '([NNP], [NX])': 1, '([NP], [PPLOC], [SBAR])': 1, '([NN], [NNS])': 2, '([NP], [VP], [PP])': 1, '([NP], [PPLOC])': 1, '([JJ], [NNS], [NN])': 1, '([PRP$], [PRN], [NN])': 1, '([NP], [:], [``], [S])': 1, '([QP], [NN], [NN], [NNS])': 1, '([NP], [,], [ADJP])': 1, '([PDT], [DT])': 1, \"([NP], [''], [PP])\": 1, '([VBG], [NN])': 1, '([NP], [SBARTMP])': 1, '([RB], [JJR], [NNS])': 1, '([JJ], [VBN], [NN])': 1, '([DT], [JJ], [CD])': 1, '([CD], [JJ])': 1, '([JJ], [ADJP], [NNS])': 1, '([PRP$], [JJ], [ADJP], [NN])': 1, '([NP], [JJ], [CD])': 1, '([NP], [:], [NP], [:])': 1, '([NP], [PRN], [SBARTMP])': 1, '([DT], [NN], [CD], [NN])': 1, '([DT], [VBG], [CD], [NNS])': 1, '([NP], [PPLOC], [ADVPTMP], [SBAR])': 1, '([JJ], [CC], [DT], [NN])': 1, '([PDT], [PRP$], [NNS])': 1, '([DT], [NNP], [NNS], [NNS])': 1, '([NACLOC], [NN])': 1, '([DT], [NAC], [NNS])': 1, '([NP], [PP], [PP])': 1, '([NP], [PP], [PP], [NPTMP])': 1, '([NP], [NNP], [NNP], [NNS])': 1, '([DT], [RB], [JJS])': 1, '([NP], [ADVPTMP])': 1, '([DT], [NN], [VBG], [NN])': 1, '([CD], [NNP], [NNS])': 1, '([NP], [``], [STTL])': 1, '([NP], [,], [NP], [,])': 1, '([DT], [NN], [JJ], [NNS])': 1, '([NP], [:], [CC], [NP])': 1, '([NP], [,], [SBAR], [,])': 2, '([PRP$], [JJ], [JJ], [NNS])': 1, '([NNP], [NNP], [.], [NNP])': 1, '([NNP], [NNP], [.])': 1, '([PRP$], [NNS], [CC], [NNS])': 1, '([RB], [JJR])': 1, \"([DT], [''], [NNS])\": 1, '([NNP], [NNPS], [POS])': 1, '([RB], [DT], [QP], [NNS])': 1, '([NP], [,], [UCP])': 1, '([NP], [NNS], [NNS])': 1, '([LST], [VBN], [NN])': 1, '([NP], [JJ], [NNP], [NNP])': 1, '([CD], [CD])': 1, '([DT], [$], [CD], [NONE])': 1, '([NNP], [,], [NNP])': 1, '([$], [QP], [NONE])': 1, '([NAC], [NNS])': 1, '([NP], [PP], [,], [SBAR])': 1, '([QP], [NONE])': 3, '([DT], [NNP], [.])': 1, '([PRP$], [NNP], [NNP], [NNP])': 1, '([DT], [JJ], [NNP])': 1, '([QP], [JJ], [NNS])': 1, \"([``], [NP], [''], [PPLOC])\": 1, '([DT], [NXTTL])': 1, '([NN], [CC], [DT])': 1, '([DT], [NNP], [NNS], [NN])': 1, '([ADJP], [NN], [NNP], [NNP])': 1, '([NNS],)': 3, '([NP], [ADJP], [NN], [NNS])': 1, '([NNP], [NNP], [PRN], [NNP])': 1, '([NNS], [POS])': 1, '([NN], [NNP], [POS])': 1, '([NP], [PPTMP], [VP])': 1, '([NN], [JJ], [NN])': 1, '([RB], [NNP])': 1, '([NP], [PRN], [VP])': 1, '([DT], [JJ], [NNP], [NN])': 1, '([JJR], [NN], [NN], [NN])': 1, '([DT], [CD], [JJ], [NNS])': 1, '([DT], [NNP], [NNP])': 2, '([NP], [,], [SBARTMP])': 1, '([IN], [JJ], [NN])': 1, '([NN], [NNS], [NN])': 1, '([NP], [CC], [ADVP], [NP])': 1, '([DT], [NNP], [CC], [NNP])': 1, '([PRP$], [CD], [JJR], [NNS])': 1, '([NP], [``], [VP])': 1, '([DT], [RBR], [JJ], [NN])': 1, '([JJ], [NN], [SBAR])': 1, '([DT], [JJ], [VBG])': 1, '([DT], [JJ], [QP], [NONE])': 1, '([CD], [NP], [NNS])': 1, '([NP], [JJS], [NNS])': 1, '([JJ], [NNP], [NNP], [NNP])': 1, '([DT], [NNS], [POS])': 1, '([JJ], [NNS], [S])': 1, '([RB], [DT], [JJ], [NN])': 1, '([NP], [NNP], [CD], [NN])': 1, '([CD], [JJ], [NN], [QP])': 1, '([DT], [JJ], [NNP], [NNP])': 1, '([NP], [NNP], [NNP], [NN])': 1, '([NP], [NPADV], [QP])': 1, '([DT], [JJ], [ADJP], [NN])': 1, '([IN], [CD], [NNS])': 1, '([PRP$], [CD], [NNS])': 1, '([PDT], [DT], [NN])': 1, '([RB], [RB])': 1, '([CD], [NNS], [JJ])': 1, '([DT], [NN], [QP], [NONE])': 1, '([PRP$], [NNP], [NNS])': 1, '([NP], [PP], [,], [SBARLOC])': 1, '([DT], [NNP], [NNPS])': 1, '([NNP], [NNP], [NNP], [:])': 1, '([PDT], [DT], [NNS])': 1, '([CD], [CC], [CD])': 1, '([PRP$], [NNP], [NN], [NN])': 1, '([DT], [ADJP], [NN], [NNS])': 1, '([DT], [NP])': 1, '([ADJP], [ADJP], [NNS])': 1, '([RB], [DT], [JJ])': 1, '([NN], [NNS], [POS])': 1, '([PRP$], [CD], [NNP])': 1, '([JJ], [VBG], [NN])': 1, '([DT], [CD])': 1, '([NP], [PPLOC], [PPTMP])': 1, '([DT], [NAC], [NN])': 1, '([JJ], [NN], [NNP], [NNS])': 1, '([NP], [NX])': 1, \"([NP], [''], [PPLOC])\": 1, '([ADJP], [VBG], [NNS])': 1, '([DT], [NN], [JJR])': 1, '([CD], [NNS], [QP])': 1, '([NP], [PP], [PPTMP])': 1, '([JJ], [NNP], [JJ], [NNS])': 1, '([NNP], [NN])': 1, '([NP], [PRN], [PP])': 1, '([NNP], [NN], [NNP])': 1, '([CD], [RB])': 1, '([NP], [CC], [NP])': 3, '([NN], [VBG], [NNS])': 1, '([NP], [NPTMP], [PPLOC])': 1, '([NP], [PP], [SBARPRP])': 1, '([VBG], [JJ], [NN])': 1, '([DT], [RB])': 1, '([DT], [JJS], [JJ], [NN])': 1, '([NN], [NNP], [NNP], [NNP])': 1, '([NP], [PP], [PPLOC], [PP])': 1, '([CD], [NN], [NNS], [NNS])': 1, '([DT], [CD], [NX])': 1, '([VBN], [JJ], [NN])': 1, '([NP], [NN], [NNS])': 1, '([JJ], [NNP], [NNS])': 1, '([DT], [NN], [VBZ])': 1, '([DT], [CD], [NNS], [POS])': 1, '([NNP], [NNP], [NNP], [.])': 1, '([DT], [NX])': 1, '([DT], [NNPS], [NNP], [NN])': 1, '([JJ], [NNS], [CC], [NNS])': 1, '([PRP$], [NN], [CC], [NN])': 1, '([RB], [DT], [CD])': 1, '([NP], [PPTMP], [PP])': 1, '([DT], [NN], [POS])': 1, '([NP], [VP], [SBAR])': 1, '([JJ], [NNP])': 1, '([NP], [PRN], [SBAR])': 1, '([PRP$], [JJS])': 1, '([JJ], [JJ], [NNS], [S])': 1, '([NP], [,], [ADVPTMP], [NP])': 1, '([NP], [:], [SQ], [.])': 1, '([DT], [VBG], [NN], [NN])': 1, '([SBARNOM], [CC], [NP])': 2, '([QP], [NN], [NN])': 1, '([NNP], [DT], [NNP])': 1, '([QP], [PRP$], [NN], [NN])': 1, '([NNP], [NP])': 1, '([ADVPTMP], [$], [CD], [NONE])': 1, '([NNP], [NNP], [NN], [NNS])': 1, '([JJR],)': 1, \"([NP], [,], [''], [NP])\": 1, '([NNPS], [NNP])': 1, '([NNP], [NNS], [NNS])': 1, '([VBG], [NN], [NNS])': 1, '([ADVP], [DT], [JJ], [NN])': 1, '([NP], [PP], [PRN])': 1, '([DT], [JJ], [VBG], [NN])': 1, '([NP], [PP], [:], [NP])': 1, '([NP], [CC], [PRN], [NP])': 1, '([NAC], [JJ], [NN])': 1, '([DT], [NNS], [CC], [NNS])': 1, '([NNPS], [POS])': 1, '([NNP], [NNP], [NN])': 1, '([JJ], [VBG], [NNS])': 1, '([JJ], [JJ], [NNP], [NNS])': 1, '([DT], [JJ], [JJS], [NN])': 1, '([NN], [NNP], [NNP])': 1, '([PRP], [NN])': 1, '([NP], [NP])': 1, '([PRP$], [JJR], [NN])': 1, '([NN], [VBG])': 1, \"([DT], [``], [NNS], [''])\": 1, '([DT], [UCP], [NN])': 1, '([QP], [DT], [VBN], [NN])': 1, '([NP], [PP], [PPLOC])': 1, '([RBR],)': 1, '([PRP$], [NN], [POS])': 1, '([NNS], [SBAR])': 1, '([ADVP], [NP], [SBAR])': 1, '([PRP$], [IN], [NNS])': 1, '([PRP$], [NN])': 2, '([NP], [JJS], [NN], [NNS])': 1, '([CD], [JJ], [JJ], [NNS])': 1, '([ADVP], [CD])': 1, \"([NP], [''], [VP])\": 1, '([NP], [NN], [NN])': 1, '([DT], [ADJP], [JJ], [NN])': 1, '([DT], [VBG], [NNP])': 1, '([JJ], [JJ], [NN], [NN])': 1, '([NNP], [NN], [NNP], [NN])': 1, '([NP], [NN], [PRN], [S])': 1, '([NP], [PPCLR], [PP])': 1, '([NP], [NACLOC], [NN], [NNS])': 1, '([DT], [NNP], [NN], [POS])': 1, '([NNP], [CD], [,], [CD])': 1, '([PRP$], [NP])': 1, '([QP],)': 1, '([SNOM], [CC], [NP])': 1, '([UCP], [NN])': 1, '([QP], [VBN], [NNS])': 1, '([DT], [VBN], [ADJP], [NN])': 1, '([PRP$], [NN], [NNS])': 1, '([RB], [CD])': 1, '([DT], [NN], [NN], [NN])': 1, '([DT], [JJ], [NACLOC], [NN])': 1, '([VBG],)': 1, '([NNP], [NN], [VBN], [NNS])': 1, '([NP], [QP], [.])': 1, '([DT], [NNP], [NNP], [NN])': 1, '([PRP$], [NNP], [CD], [NN])': 1, '([NNP],)': 3, '([JJ], [UCP], [NNS])': 1, '([NN], [NNS], [CC], [NNS])': 1, '([VBG], [NX])': 1, '([NP], [JJS], [CC], [JJS])': 1, '([DT], [NACLOC], [NN], [NN])': 1, '([DT], [JJ], [NNS], [NN])': 1, '([DT], [VBN], [NNS])': 1, '([DT], [NAC], [NNP])': 1, '([NP], [PPCLR])': 1, '([NP], [:], [S])': 1, '([DT], [NNS], [SBAR])': 1, '([DT], [CD], [NN])': 1, '([NP], [JJS], [VBG], [NNS])': 1, '([JJR], [JJ], [NX])': 1, '([CD], [JJ], [NN])': 1, '([DT], [NNP], [NNP], [NNS])': 1, '([RB], [JJ], [NN])': 1, '([NP], [,], [VP])': 1, '([DT], [VBN], [NN], [NN])': 1, '([JJ], [JJ], [NNS], [NNS])': 1, '([PRP$], [NN], [NN])': 1, '([NN], [RB])': 1, '([CD], [CC], [JJR], [NNS])': 1, '([NP], [NNP], [NN], [NN])': 1, '([DT], [CD], [NNP], [NN])': 1, '([NNP], [POS])': 1, '([NP], [,], [CC], [NP])': 1, '([JJ], [NN], [NN], [NN])': 1, '([NP], [NP], [PP])': 1, '([NP], [JJR], [NN])': 1, '([DT], [RB], [CD], [NNS])': 1, '([DT], [JJ], [VBN], [NNS])': 1, '([JJ], [JJ], [NN], [NNS])': 1, '([DT], [NNP], [NNP], [POS])': 1, '([NNP], [NNS])': 1, '([DT], [NNP], [NN], [CD])': 1, '([DT], [JJS], [NN], [RB])': 1, '([RB],)': 1, '([DT], [JJS], [NNS])': 1, '([NP], [RB], [NP])': 1, '([NNP], [NNP], [NNPS])': 1, '([VBG], [CC], [NN])': 1, '([NP], [NN], [S])': 1, '([NP], [PP], [SBARTMP])': 1, '([NP], [PP], [PPDIR], [PP])': 1, '([NP], [,], [SBARLOC])': 1, '([NP], [PPTMP], [SBAR])': 1, '([NN], [CC], [VBG], [NN])': 1, '([NP], [ADJP], [VP])': 1, '([DT], [JJR], [JJ], [NN])': 1, '([DT], [JJ], [NNP], [NNS])': 1, '([NP], [ADJP], [JJ], [NN])': 1, '([ADJP], [NNP])': 1, '([DT], [JJ], [NNS], [POS])': 1, '([RB], [DT], [JJ], [NNS])': 1, '([PRP$], [JJS], [NN], [NN])': 1, '([DT], [``], [NN], [NN])': 1, '([NP], [SBARLOC])': 1, '([PRP$], [NNS], [NN])': 1, '([JJ], [NNP], [POS])': 1, '([DT], [RBS], [JJ], [NN])': 1, '([NNP], [.])': 1, '([DT], [NNS], [NN])': 1, '([RB], [CD], [NNS])': 1, '([NN], [VBD], [NNS])': 1, '([JJ], [NNP], [NNP])': 2, '([NP], [PPDIR], [,], [PP])': 1, '([JJ], [CC], [JJ], [NNS])': 1, '([DT], [JJ], [QP], [NNS])': 1, '([NP], [PP], [PPPRP])': 1, '([DT], [JJ], [NNS], [S])': 1, '([NNP], [CC], [NNP])': 1, '([NP], [PPLOC], [NP])': 1, '([VBN], [NN])': 1, '([DT], [JJ], [NN], [POS])': 1, '([NN],)': 1, '([DT], [ADJP], [NNP])': 1, '([NP], [VBG], [NN])': 1, '([NP], [,], [PPDIR], [,])': 1, '([JJ], [CD])': 1, '([ADJP], [VBN], [NN])': 1, '([DT], [JJR], [CD])': 1, '([PRP$], [JJ], [NP], [NN])': 1, '([RB], [NN])': 1, '([JJ], [NNP], [NNP], [NN])': 1, '([NP], [CC], [NP], [PP])': 1, '([NNS], [S])': 1, '([NNS], [CC], [NN], [NN])': 1, '([NP], [JJ], [JJ], [NN])': 1, '([DT], [NNPS], [NNP])': 1, '([PRP$], [JJ], [JJ], [NN])': 1, '([CD], [ADJP], [NNS])': 1, '([DT], [CD], [CD])': 1, '([VB], [NNS])': 1, '([JJ], [CD], [NNP], [NNS])': 1, '([NP], [,], [PP], [,])': 1, '([NP], [LRB], [NP], [RRB])': 1, '([PRP$], [JJ], [VBG], [NNS])': 1, '([QP], [JJ], [NN])': 1, '([PRP$], [NNS], [S])': 1, '([JJ], [NNS], [CC], [NN])': 1, '([CD], [RB], [.])': 1, '([DT], [JJS], [JJ], [NNS])': 1, '([NP], [PPLOC], [PRN])': 1, '([DT], [NN], [NNP])': 1, '([NXTTL], [NNS], [POS])': 1, '([NN], [NN], [CC], [NNS])': 1, '([NP], [TO], [NP])': 1, '([PRP$], [NNP], [NNP], [NNS])': 1, '([NP], [,], [ADVP])': 1, '([DT], [ADJP], [CD])': 1, '([NP], [JJ], [CD], [NNS])': 1, '([NP], [PP], [,], [PP])': 1, '([NNP], [NNP], [JJ], [NN])': 1, '([NP], [VBN], [QP], [NONE])': 1, '([NAC], [POS])': 1, '([QP], [NNS])': 1, '([NP], [CONJP], [NP])': 1, '([NP], [PPLOC], [NPTMP])': 1, '([CD], [CD], [JJ], [NNS])': 1, '([NP], [,], [NP], [NP])': 1, '([NN], [CC], [JJ], [NNS])': 1, '([FW],)': 1, '([DT], [NACTMP], [NN])': 1, '([NP], [NPLOC])': 1, '([ADJP], [NNP], [NNPS], [NNP])': 1, '([NP], [VP], [PPLOC])': 1, '([PRP$], [JJS], [NN])': 1, '([RB], [NNS])': 1, '([DT], [JJ], [JJ], [NNS])': 1, '([NP], [,], [NPLOC], [,])': 1, '([PRP$], [NNP], [NN])': 1, '([NP], [:], [``], [SBARADV])': 1, '([DT], [CD], [VBG], [NNS])': 1, '([JJS],)': 1, '([DT], [NN], [CC], [NNS])': 1, '([NP], [PP], [.])': 1, '([CD], [JJR], [NNS])': 1, '([JJ], [NNS], [NNS])': 1, '([NP], [ADJP], [NNS])': 1, '([NP], [PP], [,], [NP])': 1, '([JJS], [JJ], [NNS])': 1, '([DT], [VBN], [NN])': 1, '([RB], [DT], [ADJP], [NNS])': 1, '([NP], [VBN], [NN], [NNS])': 1, '([ADVP], [NP], [CC], [NP])': 1, '([NP], [JJ], [NN])': 1, '([DT], [NNP], [VBG], [NN])': 1, '([DT], [NNP], [POS])': 1, '([PRP$], [JJS], [JJ], [NNS])': 1, '([WP], [RB])': 1, '([DT], [NNP], [CD], [NNS])': 1, '([NP], [NACLOC], [NN], [NN])': 1, '([PRP$], [UCP], [NN])': 1, '([NNPS], [NNPS])': 1, '([PRP$], [VBN], [NNS], [NN])': 1, '([VBN], [NNS], [NNS])': 1, '([QP], [NNS], [NN])': 1, '([CD], [NNP], [NNP], [NN])': 1, '([IN], [JJ], [NN], [NN])': 1, \"([``], [NP], [''], [SBAR])\": 1, '([NN], [NN], [NNS])': 1, '([NNS], [RB])': 1, '([JJ], [DT], [NN])': 1, '([NP], [JJ], [ADJP], [NN])': 1, '([JJS], [NNS])': 1, '([NN], [CC], [NNS], [NNS])': 1, '([JJS], [NN], [NNS])': 1, '([NP], [ADVPLOC])': 1, '([NP], [ADJP], [PP])': 1, '([JJ],)': 1, '([ADVP], [DT], [QP], [NONE])': 1, '([NP], [NNP], [NNPS])': 1, '([NN], [S])': 1, '([NNS], [CONJP], [NNS])': 1, '([NP], [NPADV], [ADVP])': 1, '([ADVPTMP], [NN])': 1, '([NPTTL], [,], [SBAR])': 1, \"([JJ], [NNS], [''])\": 1, '([NP], [PP], [SBAR])': 1, '([NP], [CD], [NN], [NNS])': 1, \"([NP], [,], [''], [PP])\": 1, '([NP], [NNP])': 1, \"([``], [JJ], [''], [NNS])\": 1, '([VBG], [NNS], [.])': 1, '([NP], [:], [ADJP], [:])': 1, '([DT], [CD], [VBN], [NNS])': 1, '([DT], [JJ], [NNP], [NNPS])': 1, '([NP], [NNS], [CC], [NNS])': 1, \"([JJ], [NN], [''])\": 1, '([DT], [NNP], [NX])': 1, '([NNP], [IN], [NNP])': 1, '([PRP$], [NNS], [POS])': 1, '([DT], [VBN], [QP], [NONE])': 1, '([CD], [NN], [NNS])': 1, '([DT], [NN], [NNS], [NN])': 1, '([DT], [ADJP], [NNS])': 1, '([DT], [CD], [CD], [NNS])': 1, '([DT], [JJS])': 1, '([NP], [NNS], [CC], [NN])': 1, '([DT], [JJ], [CD], [NNS])': 1, '([JJ], [NN], [CC], [NN])': 1, '([DT], [NNP], [NN], [NN])': 1, '([DT], [JJ], [JJ])': 1, '([$], [CD], [CD], [NONE])': 1, '([JJ], [VBN], [NNS])': 1, '([DT], [JJ], [NN], [S])': 1, '([JJ], [NN], [NNP], [NNP])': 1, '([PRP$], [ADJP], [NN])': 1, '([DT], [NN], [NNS], [POS])': 1, '([DT], [JJ], [JJ], [NN])': 1, '([JJR], [NN], [NN])': 1, '([DT], [JJR], [NNS])': 1, '([DT], [NN], [JJ], [NN])': 1, '([DT], [ADJP], [QP], [NONE])': 1, '([NP], [PPLOC], [PP])': 1, '([NN], [CD], [NN], [NNS])': 1, '([QP], [NNP], [NNP], [NNS])': 1, '([NP], [,], [VP], [,])': 1, '([CD], [NN], [NN], [NNS])': 1, '([NP], [RRC])': 1, '([NP], [ADJP])': 1, '([DT], [JJ])': 1, '([DT], [JJ], [NN], [NNS])': 1, '([DT], [VBG], [NN])': 1, '([PRP$], [JJ], [CD], [NN])': 1, '([DT], [ADJP], [NXTTL])': 1, '([NNS], [CC], [NN])': 1, '([JJR], [JJ], [NN])': 1, '([JJR], [NN], [NNS])': 1, '([DT], [``], [JJ], [NN])': 1, '([NN], [CC], [NN])': 1, \"([``], [QP], [''], [NNS])\": 1, '([NNP], [JJ], [NN])': 1, '([DT], [JJR], [NN], [S])': 1, \"([JJ], [``], [NN], [''])\": 1, '([NP], [PP], [PP], [.])': 1, '([NP], [:], [NP], [.])': 1, '([NN], [SBAR])': 1, '([NP], [NP], [.])': 1, '([NNP], [NN], [NN], [NN])': 1, '([ADJP], [LRB], [NNS], [RRB])': 1, '([JJ], [JJ], [NNS])': 1, '([NP], [:], [SBARNOM])': 1, '([DT], [NN], [NN])': 1, '([NP], [,], [PPTMP])': 1, '([PRP$], [CD], [NN])': 1, '([ADJP], [NN], [QP])': 1, '([JJR], [DT], [NN])': 1, '([NP], [NNP], [NNPS], [NNP])': 1, '([NP], [PP], [ADVP])': 1, '([QP], [NN], [NNS])': 1, '([JJ], [NN], [POS])': 1, '([NP], [PP], [,], [PPLOC])': 1, \"([NP], [''], [ADVP])\": 1, '([ADJP], [JJ], [NN])': 1, '([JJ], [CD], [NNS])': 1, '([PRP$], [VBG], [JJ], [NNS])': 1, '([NP], [NNS], [NN])': 1, '([NP], [PP], [RRC])': 1, '([JJ], [NN], [S])': 1, '([DT], [JJR])': 1, '([DT], [NN], [NN], [POS])': 1, '([NP], [PPTMP])': 1, '([PDT], [DT], [JJ], [NN])': 1, '([DT], [JJS], [RB])': 1, '([NP], [JJ], [NNS])': 1, '([NNP], [NNPS], [NNP], [POS])': 1, '([CD],)': 1, '([DT], [VBG], [NN], [SBAR])': 1, '([NP], [NNP], [NNP])': 1, '([JJ], [JJ], [NN])': 1, '([QP], [NNP], [NN])': 1, '([RBS],)': 1, '([DT], [NN], [NN], [SBAR])': 1, '([VB], [NN])': 1, '([NP], [PP], [,], [VP])': 1, '([PRP$], [JJ], [NNS])': 1, '([NNP], [NNP], [NNP], [NNP])': 1, '([NP], [NN], [SBAR])': 1, '([PRP$], [JJ], [NN], [S])': 1, '([NN], [CC], [NN], [NNS])': 1, '([PRP$], [JJ], [CD], [NNS])': 1, '([NP], [NN], [JJ])': 1, '([RB], [JJ], [DT], [NN])': 1, '([JJS], [JJ], [JJ], [NNS])': 1, '([NP], [,], [PPLOC])': 1, '([QP], [NN])': 1, '([DT], [NN], [CD])': 1, '([CD], [NN], [QP])': 1, '([NP], [,], [ADVPTMP])': 1, '([NNP], [JJ], [NNS])': 1, '([DT], [JJ], [NN], [NN])': 1, '([DT], [JJS], [NN], [NN])': 1, '([NP], [ADVPDIR], [PPDIR])': 1, '([NNPS],)': 1, '([DT], [NN], [SBAR])': 1, '([NP], [PRN])': 1, '([VBZ], [S])': 1, '([``], [NN])': 1, '([NP], [PPLOC], [VP])': 1, '([ADJP], [NN], [NN])': 1, '([DT], [NNPS])': 1, '([NNP], [CC], [NNP], [.])': 1, '([PRP$], [JJ], [VBN], [NNS])': 1, '([NN], [NN], [CC], [NN])': 1, '([DT], [DT], [JJ], [NNS])': 1, '([NNP], [NNP], [NNPS], [NNP])': 1, '([CD], [VBN], [NNS])': 1, '([PRP$], [NNP], [NNP], [NN])': 1, \"([``], [NNP], [''], [NNS])\": 1, '([NP], [PPLOC], [ADJP])': 1, '([NP], [NNP], [NN])': 1, '([ADJP], [DT], [NN])': 1, '([NP], [PPLOC], [,], [SBAR])': 1, '([NP], [JJ])': 1, '([JJ], [SBAR])': 1, '([NP], [:], [ADJP])': 1, '([NP], [VBN], [NNS])': 1, '([NP], [PP], [VP])': 1, '([DT], [VBN], [NN], [NNS])': 1, '([JJ], [NX])': 1, '([RB], [DT], [NN])': 1, '([DT], [ADJP])': 1, '([PRP$], [NN], [NNS], [NN])': 1, '([NP], [PPLOC], [PPDIR])': 1, '([NNP], [CC], [NNP], [POS])': 1, '([ADVPTMP], [NP], [PP])': 1, '([PRP$],)': 1, '([NP], [NNS], [S])': 1, '([CD], [JJ], [NN], [NNS])': 1, '([CD], [JJ], [NNS])': 1, '([JJ], [,], [JJ], [NNS])': 1, '<unk>': 1.0} \n",
      "\n",
      "[NPSBJ] {'([NNS],)': 6, '([DT], [NNS])': 10, '([JJ], [NNS])': 10, '([DT], [ADJP], [NNP])': 1, '([NONE],)': 54, '([NP], [PP], [,])': 1, '([PDT], [DT], [NN], [NNS])': 1, '([JJ], [NN], [NN], [NNS])': 2, '([NP], [PPLOC], [PP])': 2, '([NP], [NN], [JJ], [NN])': 1, '([NP], [NN])': 7, '([NNP], [NNP], [NNP])': 6, '([PRP],)': 22, '([DT], [NP], [CC], [NP])': 3, \"([``], [NP], [''], [PP])\": 1, '([NP], [ADJP])': 3, '([JJ], [VBN], [NNS])': 1, '([DT], [DT], [NNS])': 2, '([DT], [NNP], [NNS], [NN])': 1, '([NP], [PRN])': 5, '([NNPS],)': 1, '([JJR], [NNS])': 4, '([NNS], [CC], [NNS])': 5, '([NN], [CC], [NNS])': 1, '([NP], [``], [NN], [S])': 1, '([NNP], [NNP])': 10, '([JJ],)': 2, '([NP], [RRC])': 1, '([NP], [PP])': 30, '([NP], [,], [NP], [,])': 11, '([DT], [ADJP], [CD])': 1, '([NP], [JJ], [NNS])': 2, '([PRP$], [NN], [POS])': 1, '([NN],)': 6, '([DT], [NNP], [NN], [NN])': 2, '([DT], [NN], [NN])': 6, '([DT], [NACLOC], [NN])': 1, '([JJ], [NN])': 3, '([NP], [,], [VP], [,])': 5, '([NP], [,], [NPLOC], [,])': 6, '([PRP$], [JJ], [NN])': 3, '([NP], [CC], [NPTTL])': 1, '([DT],)': 3, '([NN], [NNS])': 8, '([JJS],)': 2, '([NP], [NNP], [NN])': 1, '([JJ], [NN], [NNS])': 2, '([DT], [JJ], [NN])': 13, '([NNP], [NNP], [NNS])': 3, '([PRP$], [$], [CD], [NONE])': 1, '([CD], [CD], [NNP])': 1, '([NP], [VP], [PRN])': 1, '([DT], [NNP], [NNS])': 1, '([DT], [NN])': 29, '([NPTTL], [CC], [NPTTL])': 1, '([DT], [VBN], [NN], [NN])': 1, '([PRP$], [JJS], [NN])': 1, '([NP], [NN], [NNS])': 2, '([NP],)': 2, '([DT], [PRP])': 1, '([DT], [NAC], [NN])': 1, '([NP], [PPLOC])': 5, '([DT], [CD], [NNS])': 1, '([NNP], [CC], [NNP], [NNP])': 1, '([PRP], [CC], [PRP])': 1, '([DT], [NNP], [NNP], [NNP])': 3, '([NNP], [NNP], [NNP], [NNP])': 2, '([DT], [NNS], [RB])': 1, '([NP], [,], [SBAR])': 1, '([NP], [NN], [NN])': 3, '([NP], [,], [SBAR], [,])': 7, '([NNP], [NNP], [POS])': 1, '([NP], [VBG], [NN], [NNS])': 1, '([DT], [NNS], [CC], [NNS])': 1, '([NNS], [NNS])': 2, '([JJ], [NNP], [NNP])': 2, '([PRP$], [NN])': 3, '([NNP], [CD], [NNS])': 1, '([DT], [VBG], [NNS])': 2, '([DT], [ADJP], [JJ], [NN])': 1, '([NP], [,], [NP])': 2, '([DT], [NNP], [NNPS], [NNP])': 1, '([DT], [NNP])': 9, '([DT], [JJ], [JJ], [NNS])': 1, '([DT], [QP], [NONE])': 1, '([JJS], [NN], [NNS])': 1, '([NN], [NN], [NN])': 2, '([NP], [NPTMP])': 1, '([NP], [NP], [:])': 1, '([DT], [NNS], [NN])': 3, '([NP], [VBN], [NN])': 1, '([DT], [JJS], [NN])': 1, '([NP], [,], [ADJP], [,])': 3, '([NP], [PPTMP], [PP])': 1, '([NP], [NP])': 4, '([JJ], [JJ], [NNS])': 3, '([NP], [,], [PP], [,])': 2, '([NP], [,], [RRC], [,])': 1, '([DT], [JJ], [NNS], [NN])': 1, '([DT], [ADJP], [NNS])': 1, '([DT], [NNP], [NNP])': 4, '([NP], [S])': 2, '([CD], [JJ], [NNS])': 2, \"([NP], [PP], [''], [VP])\": 1, '([NP], [SBAR])': 10, '([ADJP], [NN])': 1, '([QP], [NNS])': 2, '([DT], [JJR], [NN])': 1, '([PRP$], [NNS])': 5, '([NP], [,], [NP], [SBAR])': 1, '([NP], [NNP], [CD], [NN])': 1, '([JJ], [NNS], [CC], [NNS])': 1, '([NP], [PP], [NP])': 1, '([PDT], [DT], [JJ], [NN])': 1, '([JJR], [NNP], [NN], [NNS])': 1, '([NP], [NN], [NNS], [NN])': 1, '([NN], [NN])': 2, '([DT], [JJ], [NN], [NN])': 3, '([NP], [,], [VP])': 1, '([NP], [NN], [PPLOC])': 1, '([DT], [NNP], [JJ], [NN])': 1, '([NP], [VBG], [NNS])': 1, '([NP], [,], [PP])': 1, '([NAC], [NNS])': 1, '([PRP$], [NNP], [NNP], [NNP])': 1, '([NP], [ADVPLOC])': 2, '([DT], [JJS], [NNS])': 1, '([NP], [PPLOC], [NP])': 1, '([CD], [NNS])': 2, '([CD], [NNS], [CC], [NNS])': 1, '([DT], [JJ], [NNS])': 3, '([NN], [NN], [NNS])': 2, '([NNP], [NNP], [NN], [NNS])': 1, '([NP], [NNP], [NNP], [NNP])': 2, '([IN],)': 1, '([JJ], [LRB], [NN], [RRB])': 1, '([NP], [NP], [PPLOC])': 1, '([RBR], [JJ], [NNS])': 1, '([NP], [CC], [NP])': 2, '([DT], [VBN], [NN])': 1, '([NP], [PPLOC], [PPTMP])': 1, '([NP], [,], [CC], [NP])': 2, '([DT], [NNP], [POS], [NNP])': 1, '([NP], [FRAG])': 2, '([IN], [JJ], [NNS])': 1, '([NP], [PP], [PPLOC])': 2, '([NP], [NN], [S])': 1, '([EX],)': 3, '([DT], [NNP], [NN])': 3, '([DT], [NN], [S])': 2, '([NP], [PPTMP])': 1, '([VBN], [NNS])': 1, '([DT], [CD], [JJ], [NNS])': 1, '([NNP], [NN], [NNS])': 3, '([DT], [NN], [NN], [NN])': 2, '([VBG], [NN])': 1, '([NNP], [.], [NNP])': 1, '([NP], [NNS])': 4, \"([``], [NNP], [''], [NNS])\": 1, '([PRP], [CC], [NNS])': 1, '([NP], [VP])': 5, '([NP], [,], [NPLOC])': 4, \"([NP], [``], [NPTTL], [''])\": 1, '([NP], [JJ], [JJ], [NNS])': 1, '([JJ], [NNP], [NNP], [NNP])': 1, '([PRP$], [JJ], [NNS])': 2, '([NNP],)': 6, '([NNP], [NNP], [NN])': 2, '([NP], [PP], [NPTMP], [PRN])': 1, '([VBN], [NN], [SBAR])': 1, '([DT], [JJS], [CD], [NNS])': 1, '([PRP$], [NN], [S])': 1, '([DT], [VBG])': 1, '([NP], [,], [SBARLOC], [,])': 1, '([NP], [,], [UCP], [,])': 1, '([CD], [NNP], [NNP], [NNS])': 1, '([NN], [CC], [NN])': 1, \"([NP], [``], [STTL], [''])\": 1, '([NAC], [NNP])': 1, '([NP], [PP], [PPLOC], [PP])': 1, '([NPLOC], [SBAR], [,])': 1, '([JJ], [VBG], [NNS])': 1, '([UCP], [NNS])': 1, '([DT], [JJ], [JJ], [NN])': 3, '([PRP$], [NNS], [NN])': 1, '([RB],)': 1, '([DT], [ADJP], [NN])': 3, '([NP], [JJ], [NNS], [S])': 1, '([DT], [NN], [NNS])': 3, '([DT], [CD], [NNS], [NN])': 1, '([NP], [,], [PRN])': 1, '([DT], [RBS], [JJ], [NN])': 1, '([PRP$], [NN], [NN])': 2, '([DT], [NNPS])': 1, '([NP], [NNPS])': 1, '([RB], [JJ], [NN])': 1, '([NN], [S])': 1, '([JJ], [NN], [NNP], [NNP])': 1, '([ADJP], [JJ], [NN])': 1, '([NP], [NNP])': 2, '([QP], [NN])': 1, '([NNP], [CC], [NNP])': 1, '([PRP], [NN])': 1, '([PDT], [DT], [NN])': 1, '([DT], [JJ], [NNPS])': 1, '([NN], [NNP], [NNS])': 1, '([DT], [NN], [SBAR])': 1, '([DT], [CD], [NNS], [NNS])': 1, '([NP], [JJ], [NN], [NNS])': 1, '([DT], [JJ], [NNP], [NNP])': 1, '([PRP$], [NN], [NNS])': 1, '([DT], [NNP], [CD], [NN])': 2, '([RB], [JJ], [NNS])': 1, '([NP], [PP], [PRN])': 1, '([NP], [SBARLOC])': 1, '([NNPS], [NNP], [CC], [NNP])': 1, '([NP], [CC], [NP], [DT])': 1, '([JJ], [NN], [NN])': 2, '([JJ], [NNPS])': 1, '([DT], [NN], [NN], [S])': 1, '([NP], [PPDIR])': 2, '([JJ], [NNP])': 1, '([NN], [CC], [NN], [NNS])': 1, '([NP], [JJ], [NNS], [NN])': 1, '([NP], [:], [NP], [:])': 1, '([VBG],)': 1, '([NP], [VP], [SBAR], [,])': 1, '([NNP], [VBZ])': 1, '([NNP], [NN], [NN])': 1, '([NP], [JJ], [NN])': 2, '([DT], [NNP], [CC], [NNP])': 1, '([NP], [PP], [S])': 1, '([VBG], [NNS])': 2, '([DT], [NNS], [NNS])': 1, '([IN], [DT])': 1, '([NN], [NN], [NN], [NNS])': 1, '([JJ], [CC], [NN], [NNS])': 1, '([DT], [CD])': 1, '([PRP$],)': 1, '([NNP], [NNS])': 3, '([NP], [VBN], [NNS])': 1, '([NP], [:], [NP])': 1, '([JJ], [NNS], [NNS])': 2, '([DT], [JJ], [NX])': 1, '([NP], [PP], [PPTMP])': 1, '([ADJP], [NNS])': 1, '([DT], [CD], [NNP])': 1, '([RB], [DT], [JJ], [NN])': 2, '([CD], [NN], [NN])': 2, '([NNP], [NN])': 2, '([VBN], [NN])': 1, '([NP], [LRB], [PPLOC], [RRB])': 1, '([NNP], [NNPS], [NNP])': 1, '([NP], [NNP], [NNP])': 2, '([NP], [PP], [PP], [PP])': 1, '([NNS], [SBAR])': 1, '([DT], [ADJP], [NN], [NNS])': 1, '([DT], [CD], [NN], [NN])': 1, '([DT], [JJ], [CD], [NNS])': 1, '([DT], [NNP], [NNP], [NNS])': 1, '([DT], [VBN], [NNS])': 1, '([DT], [CD], [NN])': 1, '([NP], [JJ], [NN], [NN])': 2, '([RBS], [JJ], [NN], [NNS])': 1, '([NP], [NNP], [NNP], [NNS])': 1, '([NNP], [POS])': 1, '([DT], [NN], [VBG], [NN])': 1, '([NP], [NPADV])': 1, '([NP], [PP], [PP])': 2, '([JJ], [PRN], [JJ], [NNS])': 1, '([DT], [QP], [NNS])': 1, '([QP],)': 1, '([ADJP], [VBG], [NN])': 1, '([DT], [VBG], [QP], [NONE])': 1, '([DT], [JJ], [NNS], [NNS])': 1, '([NP], [PPLOC], [NPTMP])': 1, '([JJ], [DT], [NN])': 2, '([NP], [NNS], [NN])': 1, '([RBR], [JJ], [NN], [NNS])': 1, '([DT], [JJ], [NN], [NNS])': 2, '([DT], [NN], [JJ], [NN])': 1, '([NP], [NNP], [NNP], [CD])': 1, '([WDT],)': 1, '([NP], [SBAR], [PP])': 1, '([FW],)': 1, '([DT], [CD], [NNS], [RB])': 1, '([DT], [JJ])': 1, '([NP], [,], [ADJP])': 1, '([CD], [JJ], [NN])': 1, '([NPTTL], [PP])': 1, '([NP], [UCP])': 1, '([NN], [NNP], [NNP])': 1, '([NP], [:], [SBAR], [:])': 1, '([NP], [SBARADV])': 1, '([NN], [NNS], [NN])': 1, '([DT], [VBG], [CD], [NNS])': 1, '([NP], [JJ], [NNS], [NNS])': 1, '([DT], [NNP], [NNP], [NN])': 1, '([NP], [NN], [NN], [NNS])': 1, '([NP], [NN], [CC], [NN])': 1, '([NN], [NN], [NNP], [NNP])': 1, '([NP], [PP], [PPDIR])': 1, '([DT], [VBG], [NN])': 1, '([DT], [JJS], [NN], [NN])': 1, '([DT], [JJR], [NNS])': 1, '([NN], [.], [NNP])': 1, '([NNS], [S])': 1, '([DT], [JJ], [NNP])': 1, '([NP], [PP], [VP])': 2, '([NNP], [NNPS])': 2, '([NP], [PP], [SBAR])': 1, '([DT], [JJ], [ADJP], [NN])': 1, '([JJ], [NNP], [NNS])': 1, '([PRP$], [NNS], [CC], [NNS])': 1, '([JJS], [NNS])': 1, '([CD],)': 3, '([JJ], [NNP], [NNP], [NNS])': 1, '([RB], [JJ])': 1, '([PRP$], [NNP], [NNP], [NN])': 1, '([CD], [NN])': 1, '([JJS], [NNPS])': 1, '([NP], [PRN], [PP])': 1, '([NNP], [NNP], [CC], [NNP])': 1, '([NP], [,], [PPLOC], [,])': 1, '([NP], [VP], [PP])': 1, '([NN], [CD])': 1, '([NP], [:], [PPLOC], [:])': 1, '<unk>': 1.0} \n",
      "\n",
      "[RB] {\"('above',)\": 1, \"('surprisingly',)\": 1, \"('earlier',)\": 1, \"('expressly',)\": 1, \"('though',)\": 1, \"('alike',)\": 1, \"('flat',)\": 1, \"('downright',)\": 1, \"('dramatically',)\": 1, \"('wide',)\": 1, \"('overseas',)\": 1, \"('Only',)\": 1, \"('Once',)\": 1, \"('exclusively',)\": 1, \"('instead',)\": 1, \"('back',)\": 1, \"('supposedly',)\": 1, \"('clearly',)\": 1, \"('separately',)\": 1, \"('vice',)\": 1, \"('free',)\": 1, \"('aggressively',)\": 1, \"('Late',)\": 1, \"('financially',)\": 1, \"('so',)\": 1, \"('Just',)\": 1, \"('out',)\": 1, \"('modestly',)\": 1, \"('actually',)\": 1, \"('below',)\": 1, \"('Typically',)\": 1, \"('Actually',)\": 1, \"('poorly',)\": 1, \"('Often',)\": 1, \"('ultimately',)\": 1, \"('Virtually',)\": 1, \"('formerly',)\": 1, \"('somehow',)\": 1, \"('altogether',)\": 1, \"('openly',)\": 1, \"('surreptitiously',)\": 1, \"('even',)\": 1, \"('however',)\": 1, \"('hopefully',)\": 1, \"('extremely',)\": 1, \"('As',)\": 1, \"('tight',)\": 1, \"('consistently',)\": 1, \"('down',)\": 1, \"('suddenly',)\": 1, \"('prominently',)\": 1, \"('informally',)\": 1, \"('accurately',)\": 1, \"('However',)\": 1, \"('partly',)\": 1, \"('thus',)\": 1, \"('finally',)\": 1, \"('simultaneously',)\": 1, \"('then',)\": 1, \"('nearby',)\": 1, \"('moreover',)\": 1, \"('Sure',)\": 1, \"('apparently',)\": 1, \"('sufficiently',)\": 1, \"('After',)\": 1, \"('globally',)\": 1, \"('anywhere',)\": 1, \"('robustly',)\": 1, \"('primarily',)\": 1, \"('slowly',)\": 1, \"('Even',)\": 1, \"('sharply',)\": 1, \"('properly',)\": 1, \"('strictly',)\": 1, \"('completely',)\": 1, \"('simply',)\": 1, \"('Nevertheless',)\": 1, \"('hardly',)\": 1, \"('vertically',)\": 1, \"('namely',)\": 1, \"('about',)\": 1, \"('but',)\": 1, \"('radically',)\": 1, \"('previously',)\": 1, \"('before',)\": 1, \"('plus',)\": 1, \"('Currently',)\": 1, \"('badly',)\": 1, \"('exactly',)\": 1, \"('perfectly',)\": 1, \"('alone',)\": 1, \"('Perhaps',)\": 1, \"('essentially',)\": 1, \"('Now',)\": 1, \"('structurally',)\": 1, \"('fine',)\": 1, \"('carefully',)\": 1, \"('easily',)\": 1, \"('Certainly',)\": 1, \"('Sometimes',)\": 1, \"('promptly',)\": 1, \"('Moreover',)\": 1, \"('Partly',)\": 1, \"('invariably',)\": 1, \"('studiously',)\": 1, \"('also',)\": 1, \"('historically',)\": 1, \"('abroad',)\": 1, \"('skyward',)\": 1, \"('smartly',)\": 1, \"('rather',)\": 1, \"('high',)\": 1, \"('Then',)\": 1, \"('first',)\": 1, \"('chiefly',)\": 1, \"('Prior',)\": 1, \"('Frankly',)\": 1, \"('Particularly',)\": 1, \"('frequently',)\": 1, \"('reportedly',)\": 1, \"('pretty',)\": 1, \"('far',)\": 1, \"('now',)\": 1, \"('p.m',)\": 1, \"('equally',)\": 1, \"('slightly',)\": 1, \"('yet',)\": 1, \"('tenfold',)\": 1, \"('constantly',)\": 1, \"('immediately',)\": 1, \"('Mostly',)\": 1, \"('everywhere',)\": 1, \"('downward',)\": 1, \"('Almost',)\": 1, \"('perhaps',)\": 1, \"('Some',)\": 1, \"('Always',)\": 1, \"('Previously',)\": 1, \"('vitally',)\": 1, \"('currently',)\": 1, \"('any',)\": 1, \"('frankly',)\": 1, \"('really',)\": 1, \"('Not',)\": 1, \"('Invariably',)\": 1, \"('favorably',)\": 1, \"('largely',)\": 1, \"('once',)\": 1, \"('marginally',)\": 1, \"('Also',)\": 1, \"('away',)\": 1, \"('Right',)\": 1, \"('strongly',)\": 1, \"('harshly',)\": 1, \"('smoothly',)\": 1, \"('wildly',)\": 1, \"('marvelously',)\": 1, \"('nonetheless',)\": 1, \"('fairly',)\": 1, \"('drastically',)\": 1, \"('mistakenly',)\": 1, \"('ago',)\": 1, \"('unusually',)\": 1, \"('differently',)\": 1, \"('shortly',)\": 1, \"('moderately',)\": 1, \"('last',)\": 1, \"('allegedly',)\": 1, \"('amazingly',)\": 1, \"('Totally',)\": 1, \"('predictably',)\": 1, \"('therefore',)\": 1, \"('Much',)\": 1, \"('over',)\": 1, \"('very',)\": 1, \"('madly',)\": 1, \"('sometimes',)\": 1, \"('maybe',)\": 1, \"('precisely',)\": 1, \"('eventually',)\": 1, \"('Instead',)\": 1, \"('mechanically',)\": 1, \"('upstream',)\": 1, \"('relentlessly',)\": 1, \"('anyway',)\": 1, \"('manually',)\": 1, \"('never',)\": 1, \"('as',)\": 1, \"('Recently',)\": 1, \"('substantially',)\": 1, \"('annually',)\": 1, \"('Far',)\": 1, \"('narrowly',)\": 1, \"('often',)\": 1, \"('accidentally',)\": 1, \"('awfully',)\": 1, \"('excessively',)\": 1, \"('Again',)\": 1, \"('slow',)\": 1, \"('gradually',)\": 1, \"('derisively',)\": 1, \"('typically',)\": 1, \"('Nonetheless',)\": 1, \"('increasingly',)\": 1, \"('effectively',)\": 1, \"('all',)\": 1, \"('Thus',)\": 1, \"('honorably',)\": 1, \"('inherently',)\": 1, \"('damn',)\": 1, \"('continuously',)\": 1, \"('hydraulically',)\": 1, \"('by',)\": 1, \"('twice',)\": 1, \"('technically',)\": 1, \"('solely',)\": 1, \"('long',)\": 1, \"('quite',)\": 1, \"('newsweekly',)\": 1, \"('apiece',)\": 1, \"('intimately',)\": 1, \"('well',)\": 1, \"('short',)\": 1, \"('considerably',)\": 1, \"('duly',)\": 1, \"('tidily',)\": 1, \"('unfairly',)\": 1, \"('in',)\": 1, \"('greatly',)\": 1, \"('Academically',)\": 1, \"('personally',)\": 1, \"('directly',)\": 1, \"('officially',)\": 1, \"('traditionally',)\": 1, \"('illegally',)\": 1, \"('home',)\": 1, \"('nearly',)\": 1, \"('Little',)\": 1, \"('laboriously',)\": 1, \"('straight',)\": 1, \"('fractionally',)\": 1, \"('fundamentally',)\": 1, \"('federally',)\": 1, \"('Already',)\": 1, \"('quickly',)\": 1, \"('longer',)\": 1, \"('prospectively',)\": 1, \"('obviously',)\": 1, \"('early',)\": 1, \"('relatively',)\": 1, \"('not',)\": 1, \"('unsuccessfully',)\": 1, \"('probably',)\": 1, \"('on',)\": 1, \"('anytime',)\": 1, \"('unrealistically',)\": 1, \"('evenly',)\": 1, \"('sure',)\": 1, \"('swiftly',)\": 1, \"('LATE',)\": 1, \"('merely',)\": 1, \"('alternatively',)\": 1, \"('Similarly',)\": 1, \"('little',)\": 1, \"('no',)\": 1, \"('hither',)\": 1, \"('No',)\": 1, \"('singlehandedly',)\": 1, \"('soon',)\": 1, \"('successfully',)\": 1, \"('there',)\": 1, \"('Unfortunately',)\": 1, \"('publicly',)\": 1, \"('jointly',)\": 1, \"('purely',)\": 1, \"('only',)\": 1, \"('Shortly',)\": 1, \"('exceptionally',)\": 1, \"('exceedingly',)\": 1, \"('because',)\": 1, \"('indefinitely',)\": 1, \"('Further',)\": 1, \"('politely',)\": 1, \"('originally',)\": 1, \"('actively',)\": 1, \"('always',)\": 1, \"('usually',)\": 1, \"('nowhere',)\": 1, \"('again',)\": 1, \"('utterly',)\": 1, \"('continually',)\": 1, \"('temporarily',)\": 1, \"('here',)\": 1, \"('further',)\": 1, \"('already',)\": 1, \"('seasonally',)\": 1, \"('presumably',)\": 1, \"('n't',)\": 1, \"('apart',)\": 1, \"('right',)\": 1, \"('mainly',)\": 1, \"('close',)\": 1, \"('indeed',)\": 1, \"('almost',)\": 1, \"('else',)\": 1, \"('afterwards',)\": 1, \"('elsewhere',)\": 1, \"('approximately',)\": 1, \"('voluntarily',)\": 1, \"('lately',)\": 1, \"('upside',)\": 1, \"('hard',)\": 1, \"('together',)\": 1, \"('prior',)\": 1, \"('Altogether',)\": 1, \"('around',)\": 1, \"('notably',)\": 1, \"('cautiously',)\": 1, \"('inaccurately',)\": 1, \"('closely',)\": 1, \"('beforehand',)\": 1, \"('rhythmically',)\": 1, \"('faultlessly',)\": 1, \"('too',)\": 1, \"('recently',)\": 1, \"('unbearably',)\": 1, \"('triple',)\": 1, \"('potentially',)\": 1, \"('Financially',)\": 1, \"('highly',)\": 1, \"('profitably',)\": 1, \"('rarely',)\": 1, \"('deeply',)\": 1, \"('low',)\": 1, \"('brilliantly',)\": 1, \"('universally',)\": 1, \"('ever',)\": 1, \"('enough',)\": 1, \"('enormously',)\": 1, \"('stocks',)\": 1, \"('desperately',)\": 1, \"('for',)\": 1, \"('that',)\": 1, \"('occasionally',)\": 1, \"('meanwhile',)\": 1, \"('yon',)\": 1, \"('privately',)\": 1, \"('after',)\": 1, \"('normally',)\": 1, \"('possibly',)\": 1, \"('ahead',)\": 1, \"('certainly',)\": 1, \"('yes',)\": 1, \"('roughly',)\": 1, \"('generally',)\": 1, \"('basically',)\": 1, \"('Here',)\": 1, \"('tentatively',)\": 1, \"('Indeed',)\": 1, \"('heavily',)\": 1, \"('Meanwhile',)\": 1, \"('Back',)\": 1, \"('darned',)\": 1, \"('Yet',)\": 1, \"('particularly',)\": 1, \"('mentally',)\": 1, \"('much',)\": 1, \"('repeatedly',)\": 1, \"('newly',)\": 1, \"('forward',)\": 1, \"('especially',)\": 1, \"('just',)\": 1, \"('absolutely',)\": 1, \"('Too',)\": 1, \"('Rather',)\": 1, \"('domestically',)\": 1, \"('locally',)\": 1, \"('fast',)\": 1, \"('off',)\": 1, \"('adequately',)\": 1, \"('either',)\": 1, \"('seriously',)\": 1, \"('Maybe',)\": 1, \"('late',)\": 1, \"('sooner',)\": 1, \"('mostly',)\": 1, \"('editorially',)\": 1, \"('fully',)\": 1, \"('scarcely',)\": 1, \"('entirely',)\": 1, \"('widely',)\": 1, \"('Separately',)\": 1, \"('scrupulously',)\": 1, \"('clear',)\": 1, \"('up',)\": 1, \"('initially',)\": 1, \"('likely',)\": 1, \"('broadly',)\": 1, \"('steadily',)\": 1, \"('stringently',)\": 1, \"('Soon',)\": 1, \"('virtually',)\": 1, \"('Probably',)\": 1, \"('significantly',)\": 1, \"('still',)\": 1, \"('Traditionally',)\": 1, \"('Still',)\": 1, \"('surely',)\": 1, \"('necessarily',)\": 1, \"('spectacularly',)\": 1, \"('partially',)\": 1, \"('rapidly',)\": 1, \"('So',)\": 1, '<unk>': 1.0} \n",
      "\n",
      "[NNS] {\"('causes',)\": 1, \"('neighbors',)\": 1, \"('Ratings',)\": 1, \"('students',)\": 1, \"('Judges',)\": 1, \"('comments',)\": 1, \"('guarantees',)\": 1, \"('Relations',)\": 1, \"('acquirers',)\": 1, \"('investorrelations',)\": 1, \"('justices',)\": 1, \"('Critics',)\": 1, \"('troubles',)\": 1, \"('credentials',)\": 1, \"('plainclothes',)\": 1, \"('balls',)\": 1, \"('yields',)\": 1, \"('experts',)\": 1, \"('Risks',)\": 1, \"('twothirds',)\": 1, \"('reruns',)\": 1, \"('duties',)\": 1, \"('implications',)\": 1, \"('payouts',)\": 1, \"('statistics',)\": 1, \"('anxieties',)\": 1, \"('rentals',)\": 1, \"('cities',)\": 1, \"('techniques',)\": 1, \"('Associates',)\": 1, \"('printers',)\": 1, \"('passages',)\": 1, \"('networks',)\": 1, \"('drawbacks',)\": 1, \"('writedowns',)\": 1, \"('tutorials',)\": 1, \"('merits',)\": 1, \"('parents',)\": 1, \"('Champagnes',)\": 1, \"('copycats',)\": 1, \"('memories',)\": 1, \"('tissues',)\": 1, \"('slowdowns',)\": 1, \"('appointments',)\": 1, \"('locations',)\": 1, \"('rigors',)\": 1, \"('negotiations',)\": 1, \"('valuations',)\": 1, \"('debts',)\": 1, \"('judges',)\": 1, \"('PAPERS',)\": 1, \"('Seats',)\": 1, \"('officers',)\": 1, \"('costs',)\": 1, \"('1920s',)\": 1, \"('Results',)\": 1, \"('trials',)\": 1, \"('providers',)\": 1, \"('Assets',)\": 1, \"('motives',)\": 1, \"('submarkets',)\": 1, \"('stocks',)\": 1, \"('offenders',)\": 1, \"('magicians',)\": 1, \"('diplomats',)\": 1, \"('fronts',)\": 1, \"('planners',)\": 1, \"('classmates',)\": 1, \"('laws',)\": 1, \"('pharaohs',)\": 1, \"('replies',)\": 1, \"('consultants',)\": 1, \"('carillons',)\": 1, \"('materials',)\": 1, \"('1990s',)\": 1, \"('titans',)\": 1, \"('premiums',)\": 1, \"('signs',)\": 1, \"('ballplayers',)\": 1, \"('disputes',)\": 1, \"('payrolls',)\": 1, \"('practitioners',)\": 1, \"('performers',)\": 1, \"('holdings',)\": 1, \"('members',)\": 1, \"('colleges',)\": 1, \"('Yields',)\": 1, \"('guns',)\": 1, \"('Cataracts',)\": 1, \"('months',)\": 1, \"('ones',)\": 1, \"('prices',)\": 1, \"('proceeds',)\": 1, \"('Barrels',)\": 1, \"('clerks',)\": 1, \"('depressions',)\": 1, \"('showings',)\": 1, \"('yen',)\": 1, \"('Buyers',)\": 1, \"('boomers',)\": 1, \"('views',)\": 1, \"('Modifications',)\": 1, \"('soldiers',)\": 1, \"('devices',)\": 1, \"('neutrons',)\": 1, \"('sales',)\": 1, \"('broadcasts',)\": 1, \"('taxpayers',)\": 1, \"('functions',)\": 1, \"('days',)\": 1, \"('discussions',)\": 1, \"('stairs',)\": 1, \"('legislators',)\": 1, \"('blacks',)\": 1, \"('corporations',)\": 1, \"('stalls',)\": 1, \"('moons',)\": 1, \"('smiles',)\": 1, \"('industrials',)\": 1, \"('flows',)\": 1, \"('companies',)\": 1, \"('Terms',)\": 1, \"('bricks',)\": 1, \"('weekends',)\": 1, \"('accessories',)\": 1, \"('Plans',)\": 1, \"('designers',)\": 1, \"('crops',)\": 1, \"('communications',)\": 1, \"('cycles',)\": 1, \"('examinations',)\": 1, \"('viewers',)\": 1, \"('publications',)\": 1, \"('leaders',)\": 1, \"('mergers',)\": 1, \"('debentures',)\": 1, \"('exports',)\": 1, \"('deaths',)\": 1, \"('cousins',)\": 1, \"('children',)\": 1, \"('aides',)\": 1, \"('wires',)\": 1, \"('sounds',)\": 1, \"('billions',)\": 1, \"('segments',)\": 1, \"('marriages',)\": 1, \"('academics',)\": 1, \"('departures',)\": 1, \"('abortions',)\": 1, \"('sanctions',)\": 1, \"('investigations',)\": 1, \"('voices',)\": 1, \"('businesses',)\": 1, \"('campaigns',)\": 1, \"('contributions',)\": 1, \"('restrictions',)\": 1, \"('derivatives',)\": 1, \"('purposes',)\": 1, \"('staffs',)\": 1, \"('slides',)\": 1, \"('bids',)\": 1, \"('sports',)\": 1, \"('relations',)\": 1, \"('emergencies',)\": 1, \"('buildingproducts',)\": 1, \"('hopes',)\": 1, \"('arrows',)\": 1, \"('threesevenths',)\": 1, \"('copyrights',)\": 1, \"('chips',)\": 1, \"('administrations',)\": 1, \"('outlets',)\": 1, \"('disclosures',)\": 1, \"('autos',)\": 1, \"('resources',)\": 1, \"('items',)\": 1, \"('blocks',)\": 1, \"('flights',)\": 1, \"('examples',)\": 1, \"('airlines',)\": 1, \"('solutions',)\": 1, \"('pins',)\": 1, \"('briefings',)\": 1, \"('vetoes',)\": 1, \"('perceptions',)\": 1, \"('CDs',)\": 1, \"('lyrics',)\": 1, \"('citizens',)\": 1, \"('COMPUTERS',)\": 1, \"('representatives',)\": 1, \"('provisions',)\": 1, \"('conditions',)\": 1, \"('contributors',)\": 1, \"('individuals',)\": 1, \"('heebiejeebies',)\": 1, \"('degrees',)\": 1, \"('dynamics',)\": 1, \"('Advocates',)\": 1, \"('steps',)\": 1, \"('forecasts',)\": 1, \"('ringers',)\": 1, \"('hours',)\": 1, \"('tens',)\": 1, \"('Payouts',)\": 1, \"('railings',)\": 1, \"('interventions',)\": 1, \"('joys',)\": 1, \"('Experts',)\": 1, \"('capsules',)\": 1, \"('swings',)\": 1, \"('airports',)\": 1, \"('Soviets',)\": 1, \"('Ideas',)\": 1, \"('patents',)\": 1, \"('editions',)\": 1, \"('IRAs',)\": 1, \"('stations',)\": 1, \"('ratepayers',)\": 1, \"('moneymakers',)\": 1, \"('reds',)\": 1, \"('discounts',)\": 1, \"('Banks',)\": 1, \"('farmers',)\": 1, \"('settlements',)\": 1, \"('carriers',)\": 1, \"('heirs',)\": 1, \"('traders',)\": 1, \"('factors',)\": 1, \"('worries',)\": 1, \"('cheerleaders',)\": 1, \"('cases',)\": 1, \"('constraints',)\": 1, \"('Commissions',)\": 1, \"('scores',)\": 1, \"('comedies',)\": 1, \"('assaults',)\": 1, \"('amounts',)\": 1, \"('skirmishes',)\": 1, \"('styles',)\": 1, \"('contradictions',)\": 1, \"('forestproducts',)\": 1, \"('signboards',)\": 1, \"('vaccines',)\": 1, \"('swaps',)\": 1, \"('bloods',)\": 1, \"('instances',)\": 1, \"('parishioners',)\": 1, \"('noodles',)\": 1, \"('viewpoints',)\": 1, \"('ACCEPTANCES',)\": 1, \"('trends',)\": 1, \"('councils',)\": 1, \"('backlogs',)\": 1, \"('apples',)\": 1, \"('posters',)\": 1, \"('guests',)\": 1, \"('times',)\": 1, \"('attorneys',)\": 1, \"('actions',)\": 1, \"('riders',)\": 1, \"('purchases',)\": 1, \"('breakers',)\": 1, \"('starters',)\": 1, \"('questions',)\": 1, \"('beers',)\": 1, \"('youngsters',)\": 1, \"('subscribers',)\": 1, \"('rules',)\": 1, \"('millionaires',)\": 1, \"('goodies',)\": 1, \"('cups',)\": 1, \"('friends',)\": 1, \"('soybeans',)\": 1, \"('felonies',)\": 1, \"('sparkplugs',)\": 1, \"('autions',)\": 1, \"('inmates',)\": 1, \"('minivans',)\": 1, \"('meetings',)\": 1, \"('Voters',)\": 1, \"('states',)\": 1, \"('allegations',)\": 1, \"('concerns',)\": 1, \"('fights',)\": 1, \"('pages',)\": 1, \"('Destinations',)\": 1, \"('Americans',)\": 1, \"('visits',)\": 1, \"('consequences',)\": 1, \"('Eurobonds',)\": 1, \"('fears',)\": 1, \"('magnets',)\": 1, \"('cutbacks',)\": 1, \"('fibers',)\": 1, \"('funds',)\": 1, \"('trays',)\": 1, \"('marketingcommunications',)\": 1, \"('Economists',)\": 1, \"('concessions',)\": 1, \"('workers',)\": 1, \"('Sales',)\": 1, \"('environmentalists',)\": 1, \"('metals',)\": 1, \"('Stockbrokers',)\": 1, \"('citations',)\": 1, \"('Vacancies',)\": 1, \"('peculiarities',)\": 1, \"('inquiries',)\": 1, \"('parallels',)\": 1, \"('newspapers',)\": 1, \"('watches',)\": 1, \"('spreads',)\": 1, \"('advocates',)\": 1, \"('governors',)\": 1, \"('managers',)\": 1, \"('lives',)\": 1, \"('insiders',)\": 1, \"('topics',)\": 1, \"('efforts',)\": 1, \"('churches',)\": 1, \"('Officials',)\": 1, \"('auctions',)\": 1, \"('rises',)\": 1, \"('seconds',)\": 1, \"('letters',)\": 1, \"('ads',)\": 1, \"('prisoners',)\": 1, \"('Prosecutors',)\": 1, \"('Farmers',)\": 1, \"('educators',)\": 1, \"('engineers',)\": 1, \"('lawyers',)\": 1, \"('reasons',)\": 1, \"('clippings',)\": 1, \"('dams',)\": 1, \"('busloads',)\": 1, \"('cents',)\": 1, \"('machines',)\": 1, \"('preferences',)\": 1, \"('tons',)\": 1, \"('films',)\": 1, \"('rifles',)\": 1, \"('deposits',)\": 1, \"('Superconductors',)\": 1, \"('wings',)\": 1, \"('Dealers',)\": 1, \"('smokers',)\": 1, \"('portfolios',)\": 1, \"('CEOs',)\": 1, \"('sights',)\": 1, \"('identities',)\": 1, \"('drives',)\": 1, \"('queers',)\": 1, \"('restaurants',)\": 1, \"('Individuals',)\": 1, \"('retailers',)\": 1, \"('strings',)\": 1, \"('civics',)\": 1, \"('judgments',)\": 1, \"('consumers',)\": 1, \"('studies',)\": 1, \"('Stadiums',)\": 1, \"('processors',)\": 1, \"('taxes',)\": 1, \"('Documents',)\": 1, \"('jobs',)\": 1, \"('pools',)\": 1, \"('durablegoods',)\": 1, \"('folks',)\": 1, \"('schools',)\": 1, \"('assertions',)\": 1, \"('producers',)\": 1, \"('threats',)\": 1, \"('savings',)\": 1, \"('covers',)\": 1, \"('SERVICES',)\": 1, \"('ropes',)\": 1, \"('families',)\": 1, \"('plants',)\": 1, \"('regulators',)\": 1, \"('presidents',)\": 1, \"('languages',)\": 1, \"('women',)\": 1, \"('bargains',)\": 1, \"('areas',)\": 1, \"('Compromises',)\": 1, \"('hustlers',)\": 1, \"('graders',)\": 1, \"('tablets',)\": 1, \"('data',)\": 1, \"('jitters',)\": 1, \"('holidays',)\": 1, \"('rivals',)\": 1, \"('Bonds',)\": 1, \"('patterns',)\": 1, \"('lesions',)\": 1, \"('intrusions',)\": 1, \"('calculations',)\": 1, \"('cuvees',)\": 1, \"('disposables',)\": 1, \"('streets',)\": 1, \"('maturities',)\": 1, \"('mothers',)\": 1, \"('stores',)\": 1, \"('sections',)\": 1, \"('accomplishments',)\": 1, \"('execs',)\": 1, \"('ushers',)\": 1, \"('Germans',)\": 1, \"('growers',)\": 1, \"('partners',)\": 1, \"('gangs',)\": 1, \"('Earnings',)\": 1, \"('Imports',)\": 1, \"('multinationals',)\": 1, \"('polls',)\": 1, \"('advantages',)\": 1, \"('editors',)\": 1, \"('appeals',)\": 1, \"('bidders',)\": 1, \"('niches',)\": 1, \"('dozens',)\": 1, \"('feelings',)\": 1, \"('opportunities',)\": 1, \"('Graduates',)\": 1, \"('Participants',)\": 1, \"('killings',)\": 1, \"('ministers',)\": 1, \"('ideas',)\": 1, \"('fatalities',)\": 1, \"('powers',)\": 1, \"('Packages',)\": 1, \"('inefficiencies',)\": 1, \"('charges',)\": 1, \"('doors',)\": 1, \"('wheels',)\": 1, \"('differences',)\": 1, \"('Policies',)\": 1, \"('losses',)\": 1, \"('transactions',)\": 1, \"('humans',)\": 1, \"('arbs',)\": 1, \"('numbers',)\": 1, \"('operations',)\": 1, \"('merchants',)\": 1, \"('booklets',)\": 1, \"('cattle',)\": 1, \"('heads',)\": 1, \"('architects',)\": 1, \"('arts',)\": 1, \"('shudders',)\": 1, \"('places',)\": 1, \"('landfills',)\": 1, \"('thrifts',)\": 1, \"('characters',)\": 1, \"('affiliates',)\": 1, \"('theaters',)\": 1, \"('fixtures',)\": 1, \"('products',)\": 1, \"('developments',)\": 1, \"('indexoptions',)\": 1, \"('ships',)\": 1, \"('brokers',)\": 1, \"('boyfriends',)\": 1, \"('therapies',)\": 1, \"('mortgages',)\": 1, \"('schoolboys',)\": 1, \"('wrists',)\": 1, \"('microcomputers',)\": 1, \"('clerics',)\": 1, \"('responses',)\": 1, \"('spiders',)\": 1, \"('schemes',)\": 1, \"('salarymen',)\": 1, \"('genes',)\": 1, \"('narcotics',)\": 1, \"('municipalities',)\": 1, \"('octogenarians',)\": 1, \"('screenwriters',)\": 1, \"('proposals',)\": 1, \"('pyramids',)\": 1, \"('platitudes',)\": 1, \"('suspensions',)\": 1, \"('ethics',)\": 1, \"('drums',)\": 1, \"('persons',)\": 1, \"('ranks',)\": 1, \"('futures',)\": 1, \"('accountants',)\": 1, \"('playgrounds',)\": 1, \"('bunches',)\": 1, \"('pricings',)\": 1, \"('symptoms',)\": 1, \"('Interviews',)\": 1, \"('tigers',)\": 1, \"('lungs',)\": 1, \"('fees',)\": 1, \"('males',)\": 1, \"('ISSUES',)\": 1, \"('pennies',)\": 1, \"('fires',)\": 1, \"('payments',)\": 1, \"('photos',)\": 1, \"('bullets',)\": 1, \"('recommendations',)\": 1, \"('reports',)\": 1, \"('pieces',)\": 1, \"('politicians',)\": 1, \"('Fears',)\": 1, \"('goods',)\": 1, \"('minutes',)\": 1, \"('demonstrations',)\": 1, \"('commercials',)\": 1, \"('mistakes',)\": 1, \"('versions',)\": 1, \"('Fans',)\": 1, \"('drivers',)\": 1, \"('signals',)\": 1, \"('makers',)\": 1, \"('TROUBLES',)\": 1, \"('Reserves',)\": 1, \"('Skills',)\": 1, \"('pirates',)\": 1, \"('prerogatives',)\": 1, \"('newsstands',)\": 1, \"('skills',)\": 1, \"('thugs',)\": 1, \"('increases',)\": 1, \"('aids',)\": 1, \"('environments',)\": 1, \"('details',)\": 1, \"('selloffs',)\": 1, \"('deficiencies',)\": 1, \"('buyouts',)\": 1, \"('types',)\": 1, \"('filters',)\": 1, \"('bases',)\": 1, \"('aftereffects',)\": 1, \"('vans',)\": 1, \"('walls',)\": 1, \"('automobiles',)\": 1, \"('results',)\": 1, \"('technologies',)\": 1, \"('People',)\": 1, \"('plaintiffs',)\": 1, \"('classifications',)\": 1, \"('scientists',)\": 1, \"('English',)\": 1, \"('elevators',)\": 1, \"('Sundays',)\": 1, \"('complexes',)\": 1, \"('clues',)\": 1, \"('branches',)\": 1, \"('owners',)\": 1, \"('measures',)\": 1, \"('returns',)\": 1, \"('shovels',)\": 1, \"('peaks',)\": 1, \"('expectations',)\": 1, \"('Tshirts',)\": 1, \"('Stockholders',)\": 1, \"('countries',)\": 1, \"('telecommunications',)\": 1, \"('negatives',)\": 1, \"('problems',)\": 1, \"('emotions',)\": 1, \"('observers',)\": 1, \"('stands',)\": 1, \"('administrators',)\": 1, \"('tunes',)\": 1, \"('wizards',)\": 1, \"('currencies',)\": 1, \"('stones',)\": 1, \"('boys',)\": 1, \"('applications',)\": 1, \"('peals',)\": 1, \"('positions',)\": 1, \"('dealings',)\": 1, \"('rewards',)\": 1, \"('shortages',)\": 1, \"('pickups',)\": 1, \"('milestones',)\": 1, \"('divisions',)\": 1, \"('semesters',)\": 1, \"('delays',)\": 1, \"('tests',)\": 1, \"('Countries',)\": 1, \"('financings',)\": 1, \"('designations',)\": 1, \"('foods',)\": 1, \"('businessmen',)\": 1, \"('codevelopers',)\": 1, \"('charts',)\": 1, \"('virtues',)\": 1, \"('Signs',)\": 1, \"('ensembles',)\": 1, \"('amphobiles',)\": 1, \"('facilities',)\": 1, \"('customers',)\": 1, \"('ways',)\": 1, \"('links',)\": 1, \"('cabs',)\": 1, \"('tools',)\": 1, \"('addresses',)\": 1, \"('C.D.s',)\": 1, \"('participants',)\": 1, \"('liberals',)\": 1, \"('wafers',)\": 1, \"('subjects',)\": 1, \"('miscarriages',)\": 1, \"('profits',)\": 1, \"('passions',)\": 1, \"('negotiators',)\": 1, \"('promotions',)\": 1, \"('unions',)\": 1, \"('demonstrators',)\": 1, \"('voters',)\": 1, \"('sectors',)\": 1, \"('billings',)\": 1, \"('headquarters',)\": 1, \"('partisans',)\": 1, \"('prints',)\": 1, \"('commodities',)\": 1, \"('opponents',)\": 1, \"('columns',)\": 1, \"('years',)\": 1, \"('threequarters',)\": 1, \"('semiconductors',)\": 1, \"('ramparts',)\": 1, \"('Futures',)\": 1, \"('bars',)\": 1, \"('8300s',)\": 1, \"('kits',)\": 1, \"('fields',)\": 1, \"('labels',)\": 1, \"('advertisers',)\": 1, \"('personnel',)\": 1, \"('buyers',)\": 1, \"('foreigners',)\": 1, \"('shops',)\": 1, \"('houses',)\": 1, \"('tapes',)\": 1, \"('requests',)\": 1, \"('Pressures',)\": 1, \"('conflicts',)\": 1, \"('margins',)\": 1, \"('standards',)\": 1, \"('diseases',)\": 1, \"('Neanderthals',)\": 1, \"('RATES',)\": 1, \"('witnesses',)\": 1, \"('efficiencies',)\": 1, \"('rings',)\": 1, \"('filings',)\": 1, \"('samples',)\": 1, \"('underwriters',)\": 1, \"('superpremiums',)\": 1, \"('issues',)\": 1, \"('towns',)\": 1, \"('stages',)\": 1, \"('economies',)\": 1, \"('PCs',)\": 1, \"('amendments',)\": 1, \"('speeches',)\": 1, \"('excesses',)\": 1, \"('Patients',)\": 1, \"('daughters',)\": 1, \"('articles',)\": 1, \"('imbalances',)\": 1, \"('Billings',)\": 1, \"('commissions',)\": 1, \"('neighborhoods',)\": 1, \"('EURODOLLARS',)\": 1, \"('weddings',)\": 1, \"('lookeeloos',)\": 1, \"('firms',)\": 1, \"('parties',)\": 1, \"('subsegments',)\": 1, \"('documents',)\": 1, \"('improvements',)\": 1, \"('computers',)\": 1, \"('people',)\": 1, \"('savers\\\\/investors',)\": 1, \"('protests',)\": 1, \"('Payments',)\": 1, \"('decisions',)\": 1, \"('keyboards',)\": 1, \"('Lawyers',)\": 1, \"('kids',)\": 1, \"('alumni',)\": 1, \"('quotations',)\": 1, \"('others',)\": 1, \"('books',)\": 1, \"('sorts',)\": 1, \"('POTABLES',)\": 1, \"('Scientists',)\": 1, \"('odds',)\": 1, \"('modems',)\": 1, \"('innuendoes',)\": 1, \"('borders',)\": 1, \"('barrels',)\": 1, \"('burdens',)\": 1, \"('matters',)\": 1, \"('preparatives',)\": 1, \"('tickets',)\": 1, \"('SALARIES',)\": 1, \"('sweatshirts',)\": 1, \"('decades',)\": 1, \"('bridges',)\": 1, \"('quotas',)\": 1, \"('stirrings',)\": 1, \"('wages',)\": 1, \"('combinations',)\": 1, \"('incisions',)\": 1, \"('clouds',)\": 1, \"('dances',)\": 1, \"('hazards',)\": 1, \"('confines',)\": 1, \"('works',)\": 1, \"('approaches',)\": 1, \"('departments',)\": 1, \"('hotels',)\": 1, \"('vehicles',)\": 1, \"('injuries',)\": 1, \"('outsiders',)\": 1, \"('marketers',)\": 1, \"('cracks',)\": 1, \"('mechanisms',)\": 1, \"('electronics',)\": 1, \"('methods',)\": 1, \"('earnings',)\": 1, \"('words',)\": 1, \"('projects',)\": 1, \"('phobias',)\": 1, \"('guys',)\": 1, \"('crews',)\": 1, \"('halts',)\": 1, \"('Producers',)\": 1, \"('competitors',)\": 1, \"('Orders',)\": 1, \"('Items',)\": 1, \"('necessities',)\": 1, \"('regulations',)\": 1, \"('risks',)\": 1, \"('dinosaurs',)\": 1, \"('agents',)\": 1, \"('speculators',)\": 1, \"('processes',)\": 1, \"('obstacles',)\": 1, \"('tags',)\": 1, \"('programs',)\": 1, \"('Analysts',)\": 1, \"('sides',)\": 1, \"('episodes',)\": 1, \"('rapists',)\": 1, \"('advances',)\": 1, \"('incomes',)\": 1, \"('battles',)\": 1, \"('grants',)\": 1, \"('BANKERS',)\": 1, \"('officials',)\": 1, \"('backers',)\": 1, \"('antiabortionists',)\": 1, \"('Editorials',)\": 1, \"('beneficiaries',)\": 1, \"('prosecutors',)\": 1, \"('shipments',)\": 1, \"('loans',)\": 1, \"('offerings',)\": 1, \"('worms',)\": 1, \"('railcars',)\": 1, \"('drugs',)\": 1, \"('audiocassettes',)\": 1, \"('attractions',)\": 1, \"('dollars',)\": 1, \"('stockholders',)\": 1, \"('beds',)\": 1, \"('guilders',)\": 1, \"('shivers',)\": 1, \"('imports',)\": 1, \"('ties',)\": 1, \"('fits',)\": 1, \"('Characters',)\": 1, \"('ratings',)\": 1, \"('subsidiaries',)\": 1, \"('guards',)\": 1, \"('expenditures',)\": 1, \"('superconductors',)\": 1, \"('cuts',)\": 1, \"('kinds',)\": 1, \"('rounds',)\": 1, \"('growths',)\": 1, \"('reservations',)\": 1, \"('giants',)\": 1, \"('demands',)\": 1, \"('periods',)\": 1, \"('stars',)\": 1, \"('competitions',)\": 1, \"('terms',)\": 1, \"('belts',)\": 1, \"('remarks',)\": 1, \"('issuers',)\": 1, \"('Auctions',)\": 1, \"('accommodations',)\": 1, \"('reformers',)\": 1, \"('chairs',)\": 1, \"('affairs',)\": 1, \"('generations',)\": 1, \"('Employers',)\": 1, \"('portions',)\": 1, \"('Gilts',)\": 1, \"('interests',)\": 1, \"('combines',)\": 1, \"('declines',)\": 1, \"('revenues',)\": 1, \"('economists',)\": 1, \"('responsibilities',)\": 1, \"('corners',)\": 1, \"('manufacturers',)\": 1, \"('contracts',)\": 1, \"('Attorneys',)\": 1, \"('adults',)\": 1, \"('publicrelations',)\": 1, \"('stakes',)\": 1, \"('criteria',)\": 1, \"('hobbyists',)\": 1, \"('drinks',)\": 1, \"('Securities',)\": 1, \"('trades',)\": 1, \"('churchgoers',)\": 1, \"('lawsuits',)\": 1, \"('lobbies',)\": 1, \"('marbles',)\": 1, \"('thousands',)\": 1, \"('dailies',)\": 1, \"('talks',)\": 1, \"('Communists',)\": 1, \"('crashes',)\": 1, \"('features',)\": 1, \"('employees',)\": 1, \"('shadows',)\": 1, \"('banks',)\": 1, \"('transplants',)\": 1, \"('wives',)\": 1, \"('mistrials',)\": 1, \"('pressures',)\": 1, \"('protections',)\": 1, \"('Areas',)\": 1, \"('supercomputers',)\": 1, \"('alcoholics',)\": 1, \"('callers',)\": 1, \"('clients',)\": 1, \"('structures',)\": 1, \"('assets',)\": 1, \"('universities',)\": 1, \"('spenders',)\": 1, \"('movies',)\": 1, \"('models',)\": 1, \"('lines',)\": 1, \"('borrowings',)\": 1, \"('quarters',)\": 1, \"('ballots',)\": 1, \"('deals',)\": 1, \"('complaints',)\": 1, \"('releases',)\": 1, \"('Appropriations',)\": 1, \"('ounces',)\": 1, \"('circumstances',)\": 1, \"('sellers',)\": 1, \"('systems',)\": 1, \"('scholars',)\": 1, \"('facts',)\": 1, \"('services',)\": 1, \"('generalizations',)\": 1, \"('levels',)\": 1, \"('tours',)\": 1, \"('moments',)\": 1, \"('passersby',)\": 1, \"('options',)\": 1, \"('things',)\": 1, \"('controls',)\": 1, \"('notes',)\": 1, \"('rates',)\": 1, \"('jolts',)\": 1, \"('knowns',)\": 1, \"('nations',)\": 1, \"('associates',)\": 1, \"('warnings',)\": 1, \"('Cartons',)\": 1, \"('millions',)\": 1, \"('units',)\": 1, \"('thanks',)\": 1, \"('PETS',)\": 1, \"('appropriations',)\": 1, \"('halls',)\": 1, \"('Mitsubishi',)\": 1, \"('meals',)\": 1, \"('medallions',)\": 1, \"('curses',)\": 1, \"('observations',)\": 1, \"('means',)\": 1, \"('listeners',)\": 1, \"('contacts',)\": 1, \"('grapes',)\": 1, \"('Firms',)\": 1, \"('subskills',)\": 1, \"('Pictures',)\": 1, \"('waters',)\": 1, \"('operators',)\": 1, \"('travelers',)\": 1, \"('vendors',)\": 1, \"('weeks',)\": 1, \"('thumbs',)\": 1, \"('miles',)\": 1, \"('findings',)\": 1, \"('benefits',)\": 1, \"('goblins',)\": 1, \"('bottles',)\": 1, \"('additions',)\": 1, \"('telephones',)\": 1, \"('corridors',)\": 1, \"('mids',)\": 1, \"('retorts',)\": 1, \"('scenes',)\": 1, \"('hundreds',)\": 1, \"('sites',)\": 1, \"('points',)\": 1, \"('belfries',)\": 1, \"('bundles',)\": 1, \"('Investors',)\": 1, \"('bonds',)\": 1, \"('fighters',)\": 1, \"('Periods',)\": 1, \"('accounts',)\": 1, \"('firings',)\": 1, \"('elections',)\": 1, \"('marks',)\": 1, \"('chemicals',)\": 1, \"('parlors',)\": 1, \"('aisles',)\": 1, \"('defendants',)\": 1, \"('pounds',)\": 1, \"('investors',)\": 1, \"('obligations',)\": 1, \"('principals',)\": 1, \"('intertitles',)\": 1, \"('specialists',)\": 1, \"('superiors',)\": 1, \"('baskets',)\": 1, \"('committees',)\": 1, \"('allies',)\": 1, \"('discrepancies',)\": 1, \"('bellringers',)\": 1, \"('Hours',)\": 1, \"('referrals',)\": 1, \"('bankers',)\": 1, \"('moves',)\": 1, \"('shirts',)\": 1, \"('transfers',)\": 1, \"('Colleges',)\": 1, \"('professionals',)\": 1, \"('Proponents',)\": 1, \"('media',)\": 1, \"('contests',)\": 1, \"('tubes',)\": 1, \"('reserves',)\": 1, \"('variables',)\": 1, \"('orders',)\": 1, \"('strategies',)\": 1, \"('names',)\": 1, \"('openings',)\": 1, \"('foundations',)\": 1, \"('chefs',)\": 1, \"('estimates',)\": 1, \"('errors',)\": 1, \"('borrowers',)\": 1, \"('magazines',)\": 1, \"('practices',)\": 1, \"('horoscopes',)\": 1, \"('screens',)\": 1, \"('parts',)\": 1, \"('targets',)\": 1, \"('tirekickers',)\": 1, \"('dealers',)\": 1, \"('spirits',)\": 1, \"('expenses',)\": 1, \"('witches',)\": 1, \"('tallies',)\": 1, \"('properties',)\": 1, \"('vicissitudes',)\": 1, \"('offers',)\": 1, \"('Equivalents',)\": 1, \"('champions',)\": 1, \"('entrants',)\": 1, \"('lawmakers',)\": 1, \"('sources',)\": 1, \"('twosevenths',)\": 1, \"('offices',)\": 1, \"('eyes',)\": 1, \"('watchers',)\": 1, \"('acts',)\": 1, \"('fixes',)\": 1, \"('jugglers',)\": 1, \"('wines',)\": 1, \"('arms',)\": 1, \"('players',)\": 1, \"('checks',)\": 1, \"('Lids',)\": 1, \"('investments',)\": 1, \"('buildings',)\": 1, \"('jockeys',)\": 1, \"('regions',)\": 1, \"('politics',)\": 1, \"('manipulators',)\": 1, \"('gyrations',)\": 1, \"('incentives',)\": 1, \"('proceedings',)\": 1, \"('honors',)\": 1, \"('generators',)\": 1, \"('institutions',)\": 1, \"('capitalgains',)\": 1, \"('journalists',)\": 1, \"('antiprogrammers',)\": 1, \"('aspects',)\": 1, \"('activities',)\": 1, \"('trucks',)\": 1, \"('framers',)\": 1, \"('plans',)\": 1, \"('cards',)\": 1, \"('protocols',)\": 1, \"('graphs',)\": 1, \"('cigarettes',)\": 1, \"('arrangements',)\": 1, \"('IOUs',)\": 1, \"('initiatives',)\": 1, \"('vicars',)\": 1, \"('fans',)\": 1, \"('pulls',)\": 1, \"('policies',)\": 1, \"('papers',)\": 1, \"('traditionalists',)\": 1, \"('commitments',)\": 1, \"('authors',)\": 1, \"('warrants',)\": 1, \"('pockets',)\": 1, \"('desires',)\": 1, \"('critics',)\": 1, \"('photographs',)\": 1, \"('organizations',)\": 1, \"('hospitals',)\": 1, \"('watchdogs',)\": 1, \"('colleagues',)\": 1, \"('refunds',)\": 1, \"('arguments',)\": 1, \"('Factories',)\": 1, \"('Shipments',)\": 1, \"('uncertainties',)\": 1, \"('clubs',)\": 1, \"('indexers',)\": 1, \"('motors',)\": 1, \"('conversations',)\": 1, \"('droughts',)\": 1, \"('specifics',)\": 1, \"('inferences',)\": 1, \"('overruns',)\": 1, \"('gifts',)\": 1, \"('BIRDS',)\": 1, \"('Foreigners',)\": 1, \"('reforms',)\": 1, \"('analysts',)\": 1, \"('vacations',)\": 1, \"('economics',)\": 1, \"('amps',)\": 1, \"('francs',)\": 1, \"('fluctuations',)\": 1, \"('forms',)\": 1, \"('sheets',)\": 1, \"('parishes',)\": 1, \"('supporters',)\": 1, \"('hands',)\": 1, \"('credits',)\": 1, \"('bells',)\": 1, \"('missiles',)\": 1, \"('ambitions',)\": 1, \"('prospects',)\": 1, \"('requirements',)\": 1, \"('pharmaceuticals',)\": 1, \"('executives',)\": 1, \"('cars',)\": 1, \"('pickers',)\": 1, \"('weeklies',)\": 1, \"('movements',)\": 1, \"('surpluses',)\": 1, \"('cues',)\": 1, \"('loops',)\": 1, \"('claims',)\": 1, \"('indicators',)\": 1, \"('bulls',)\": 1, \"('feet',)\": 1, \"('alternatives',)\": 1, \"('directors',)\": 1, \"('farms',)\": 1, \"('fines',)\": 1, \"('calls',)\": 1, \"('reps',)\": 1, \"('Spreads',)\": 1, \"('users',)\": 1, \"('Americana',)\": 1, \"('Discos',)\": 1, \"('protesters',)\": 1, \"('researchers',)\": 1, \"('instruments',)\": 1, \"('takings',)\": 1, \"('avenues',)\": 1, \"('sums',)\": 1, \"('markets',)\": 1, \"('lenders',)\": 1, \"('fasteners',)\": 1, \"('stockbrokers',)\": 1, \"('cells',)\": 1, \"('tormentors',)\": 1, \"('teams',)\": 1, \"('events',)\": 1, \"('objectives',)\": 1, \"('subscriptions',)\": 1, \"('accidents',)\": 1, \"('leases',)\": 1, \"('quantities',)\": 1, \"('homes',)\": 1, \"('oils',)\": 1, \"('Jews',)\": 1, \"('teachers',)\": 1, \"('Inventories',)\": 1, \"('occurrences',)\": 1, \"('districts',)\": 1, \"('rankings',)\": 1, \"('Courts',)\": 1, \"('discos',)\": 1, \"('worksheets',)\": 1, \"('erasures',)\": 1, \"('exposures',)\": 1, \"('prizes',)\": 1, \"('bills',)\": 1, \"('lights',)\": 1, \"('essays',)\": 1, \"('dummies',)\": 1, \"('proponents',)\": 1, \"('tactics',)\": 1, \"('floors',)\": 1, \"('penalties',)\": 1, \"('Ringers',)\": 1, \"('museums',)\": 1, \"('particulars',)\": 1, \"('Fees',)\": 1, \"('ventures',)\": 1, \"('acquisitions',)\": 1, \"('sixpacks',)\": 1, \"('victims',)\": 1, \"('figures',)\": 1, \"('Exports',)\": 1, \"('laurels',)\": 1, \"('interactions',)\": 1, \"('changes',)\": 1, \"('men',)\": 1, \"('Japanese',)\": 1, \"('categories',)\": 1, \"('reins',)\": 1, \"('damages',)\": 1, \"('stadiums',)\": 1, \"('doctors',)\": 1, \"('pistols',)\": 1, \"('arbitragers',)\": 1, \"('centers',)\": 1, \"('CERTIFICATES',)\": 1, \"('ambassadors',)\": 1, \"('deeds',)\": 1, \"('aspersions',)\": 1, \"('Researchers',)\": 1, \"('shares',)\": 1, \"('congressmen',)\": 1, \"('packages',)\": 1, \"('situations',)\": 1, \"('workbooks',)\": 1, \"('senses',)\": 1, \"('dividends',)\": 1, \"('bonuses',)\": 1, \"('contractors',)\": 1, \"('bags',)\": 1, \"('Workers',)\": 1, \"('sets',)\": 1, \"('matches',)\": 1, \"('gains',)\": 1, \"('warranties',)\": 1, \"('Manufacturers',)\": 1, \"('texts',)\": 1, \"('shows',)\": 1, \"('needs',)\": 1, \"('games',)\": 1, \"('boosters',)\": 1, \"('couples',)\": 1, \"('nets',)\": 1, \"('Friends',)\": 1, \"('inventories',)\": 1, \"('barriers',)\": 1, \"('binders',)\": 1, \"('managements',)\": 1, \"('disorders',)\": 1, \"('crystals',)\": 1, \"('widgets',)\": 1, \"('exchanges',)\": 1, \"('uses',)\": 1, \"('forces',)\": 1, \"('appliances',)\": 1, \"('purchasers',)\": 1, \"('roofs',)\": 1, \"('receipts',)\": 1, \"('failures',)\": 1, \"('multiples',)\": 1, \"('creditors',)\": 1, \"('opinions',)\": 1, \"('Citizens',)\": 1, \"('agencies',)\": 1, \"('cornerstones',)\": 1, \"('collections',)\": 1, \"('copies',)\": 1, \"('securities',)\": 1, \"('seats',)\": 1, \"('certificates',)\": 1, \"('records',)\": 1, \"('exits',)\": 1, \"('Corporations',)\": 1, \"('appropriators',)\": 1, \"('giveaways',)\": 1, \"('reductions',)\": 1, \"('procedures',)\": 1, \"('headrests',)\": 1, \"('violations',)\": 1, \"('Worksheets',)\": 1, \"('police',)\": 1, \"('brakes',)\": 1, \"('attacks',)\": 1, \"('scripts',)\": 1, \"('acres',)\": 1, \"('hurdles',)\": 1, \"('authorities',)\": 1, \"('patients',)\": 1, \"('rights',)\": 1, \"('effects',)\": 1, \"('salaries',)\": 1, \"('classics',)\": 1, \"('shareholders',)\": 1, \"('strains',)\": 1, \"('pills',)\": 1, \"('buses',)\": 1, \"('images',)\": 1, \"('benchmarks',)\": 1, \"('inches',)\": 1, \"('ADRs',)\": 1, \"('vintages',)\": 1, \"('classes',)\": 1, \"('visitors',)\": 1, \"('sponsors',)\": 1, \"('sacks',)\": 1, \"('employers',)\": 1, \"('Polls',)\": 1, \"('posts',)\": 1, \"('boosts',)\": 1, \"('indications',)\": 1, \"('spaces',)\": 1, \"('answers',)\": 1, \"('Charities',)\": 1, \"('holders',)\": 1, \"('advertisements',)\": 1, \"('counterparts',)\": 1, \"('dashes',)\": 1, \"('careers',)\": 1, \"('possessions',)\": 1, \"('masters',)\": 1, \"('limits',)\": 1, \"('courts',)\": 1, \"('groups',)\": 1, \"('writers',)\": 1, \"('starts',)\": 1, \"('corkscrews',)\": 1, \"('values',)\": 1, \"('attempts',)\": 1, \"('suppliers',)\": 1, \"('candidates',)\": 1, \"('reporters',)\": 1, '<unk>': 1.0} \n",
      "\n",
      "[PPLOCPRD] {'([RB], [IN], [NP])': 1, '([IN], [NP])': 1, '([ADVP], [IN], [NP])': 1, '([NONE],)': 1, '<unk>': 1.0} \n",
      "\n",
      "[VBD] {\"('tumbled',)\": 1, \"('recovered',)\": 1, \"('voted',)\": 1, \"('hosted',)\": 1, \"('viewed',)\": 1, \"('reduced',)\": 1, \"('CHANGED',)\": 1, \"('forced',)\": 1, \"('thought',)\": 1, \"('settled',)\": 1, \"('entered',)\": 1, \"('slid',)\": 1, \"('participated',)\": 1, \"('upheld',)\": 1, \"('signed',)\": 1, \"('profited',)\": 1, \"('put',)\": 1, \"('offered',)\": 1, \"('let',)\": 1, \"('lauded',)\": 1, \"('bothered',)\": 1, \"('retired',)\": 1, \"('loved',)\": 1, \"('disciplined',)\": 1, \"('awarded',)\": 1, \"('sacked',)\": 1, \"('placed',)\": 1, \"('adapted',)\": 1, \"('paid',)\": 1, \"('maintained',)\": 1, \"('held',)\": 1, \"('led',)\": 1, \"('barred',)\": 1, \"('poured',)\": 1, \"('arranged',)\": 1, \"('favored',)\": 1, \"('spotted',)\": 1, \"('acceded',)\": 1, \"('spent',)\": 1, \"('stood',)\": 1, \"('denied',)\": 1, \"('rejected',)\": 1, \"('obligated',)\": 1, \"('identified',)\": 1, \"('noted',)\": 1, \"('met',)\": 1, \"('reached',)\": 1, \"('printed',)\": 1, \"('negotiated',)\": 1, \"('attached',)\": 1, \"('asked',)\": 1, \"('dubbed',)\": 1, \"('sought',)\": 1, \"('created',)\": 1, \"('broke',)\": 1, \"('lost',)\": 1, \"('ushered',)\": 1, \"('wrote',)\": 1, \"('accused',)\": 1, \"('rebuked',)\": 1, \"('chastised',)\": 1, \"('feared',)\": 1, \"('banned',)\": 1, \"('seemed',)\": 1, \"('went',)\": 1, \"('killed',)\": 1, \"('treated',)\": 1, \"('meant',)\": 1, \"('clipped',)\": 1, \"('implied',)\": 1, \"('contained',)\": 1, \"('endorsed',)\": 1, \"('picked',)\": 1, \"('authorized',)\": 1, \"('lay',)\": 1, \"('ventilated',)\": 1, \"('resulted',)\": 1, \"('pleaded',)\": 1, \"('unleashed',)\": 1, \"('examined',)\": 1, \"('sold',)\": 1, \"('turned',)\": 1, \"('stopped',)\": 1, \"('attended',)\": 1, \"('limited',)\": 1, \"('opposed',)\": 1, \"('terminated',)\": 1, \"('read',)\": 1, \"('overvalued',)\": 1, \"('stirred',)\": 1, \"('arrived',)\": 1, \"('filed',)\": 1, \"('set',)\": 1, \"('spurned',)\": 1, \"('reflected',)\": 1, \"('released',)\": 1, \"('enraged',)\": 1, \"('clicked',)\": 1, \"('intended',)\": 1, \"('fought',)\": 1, \"('fed',)\": 1, \"('refused',)\": 1, \"('replaced',)\": 1, \"('polled',)\": 1, \"('deemed',)\": 1, \"('traced',)\": 1, \"('sweetened',)\": 1, \"('disclosed',)\": 1, \"('bowed',)\": 1, \"('acquired',)\": 1, \"('tripled',)\": 1, \"('reversed',)\": 1, \"('disagreed',)\": 1, \"('passed',)\": 1, \"('determined',)\": 1, \"('surrendered',)\": 1, \"('breathed',)\": 1, \"('agreed',)\": 1, \"('waited',)\": 1, \"('waived',)\": 1, \"('had',)\": 1, \"('remained',)\": 1, \"('got',)\": 1, \"('built',)\": 1, \"('blamed',)\": 1, \"('removed',)\": 1, \"('proposed',)\": 1, \"('were',)\": 1, \"('inched',)\": 1, \"('copied',)\": 1, \"('skidded',)\": 1, \"('argued',)\": 1, \"('did',)\": 1, \"('occurred',)\": 1, \"('stretched',)\": 1, \"('licensed',)\": 1, \"('surged',)\": 1, \"('launched',)\": 1, \"('cared',)\": 1, \"('tied',)\": 1, \"('lowered',)\": 1, \"('showed',)\": 1, \"('booked',)\": 1, \"('begot',)\": 1, \"('resolved',)\": 1, \"('applied',)\": 1, \"('ran',)\": 1, \"('heard',)\": 1, \"('rebuffed',)\": 1, \"('raised',)\": 1, \"('served',)\": 1, \"('learned',)\": 1, \"('restructured',)\": 1, \"('included',)\": 1, \"('quipped',)\": 1, \"('slipped',)\": 1, \"('broadened',)\": 1, \"('evaporated',)\": 1, \"('matched',)\": 1, \"('acted',)\": 1, \"('climbed',)\": 1, \"('returned',)\": 1, \"('befuddled',)\": 1, \"('rose',)\": 1, \"('introduced',)\": 1, \"('admitted',)\": 1, \"('evolved',)\": 1, \"('received',)\": 1, \"('aimed',)\": 1, \"('speculated',)\": 1, \"('controlled',)\": 1, \"('approached',)\": 1, \"('wanted',)\": 1, \"('referred',)\": 1, \"('visited',)\": 1, \"('hung',)\": 1, \"('emphasized',)\": 1, \"('devoted',)\": 1, \"('bled',)\": 1, \"('attributed',)\": 1, \"('reviewed',)\": 1, \"('appeared',)\": 1, \"('made',)\": 1, \"('urged',)\": 1, \"('advocated',)\": 1, \"('joined',)\": 1, \"('estimated',)\": 1, \"('enticed',)\": 1, \"('saw',)\": 1, \"('cautioned',)\": 1, \"('curtailed',)\": 1, \"('raced',)\": 1, \"('drooled',)\": 1, \"('hid',)\": 1, \"('featured',)\": 1, \"('ruled',)\": 1, \"('owed',)\": 1, \"('invested',)\": 1, \"('assured',)\": 1, \"('developed',)\": 1, \"('planned',)\": 1, \"('renewed',)\": 1, \"('insisted',)\": 1, \"('mounted',)\": 1, \"('depended',)\": 1, \"('chose',)\": 1, \"('anticipated',)\": 1, \"('left',)\": 1, \"('lacked',)\": 1, \"('graduated',)\": 1, \"('triggered',)\": 1, \"('billed',)\": 1, \"('guided',)\": 1, \"('advised',)\": 1, \"('expanded',)\": 1, \"('kicked',)\": 1, \"('alleged',)\": 1, \"('hoped',)\": 1, \"('averaged',)\": 1, \"('omitted',)\": 1, \"('exuded',)\": 1, \"('called',)\": 1, \"('lasted',)\": 1, \"('edged',)\": 1, \"('fared',)\": 1, \"('pointed',)\": 1, \"('handed',)\": 1, \"('boosted',)\": 1, \"('strengthened',)\": 1, \"('imposed',)\": 1, \"('dreamt',)\": 1, \"('won',)\": 1, \"('saved',)\": 1, \"('allowed',)\": 1, \"('opened',)\": 1, \"('followed',)\": 1, \"('criticized',)\": 1, \"('began',)\": 1, \"('threatened',)\": 1, \"('knew',)\": 1, \"('escaped',)\": 1, \"('eased',)\": 1, \"('defended',)\": 1, \"('evaluated',)\": 1, \"('screwed',)\": 1, \"('expired',)\": 1, \"('grew',)\": 1, \"('responded',)\": 1, \"('ended',)\": 1, \"('registered',)\": 1, \"('fell',)\": 1, \"('told',)\": 1, \"('distinguished',)\": 1, \"('dreamed',)\": 1, \"('stuck',)\": 1, \"('enabled',)\": 1, \"('nominated',)\": 1, \"('continued',)\": 1, \"('contributed',)\": 1, \"('stepped',)\": 1, \"('sounded',)\": 1, \"('seized',)\": 1, \"('closed',)\": 1, \"('aggravated',)\": 1, \"('inspired',)\": 1, \"('recommended',)\": 1, \"('underwent',)\": 1, \"('consented',)\": 1, \"('fired',)\": 1, \"('have',)\": 1, \"('died',)\": 1, \"('wound',)\": 1, \"('transformed',)\": 1, \"('drove',)\": 1, \"('helped',)\": 1, \"('took',)\": 1, \"('changed',)\": 1, \"('approved',)\": 1, \"('explained',)\": 1, \"('understood',)\": 1, \"('weighed',)\": 1, \"('felt',)\": 1, \"('hauled',)\": 1, \"('confirmed',)\": 1, \"('Asked',)\": 1, \"('managed',)\": 1, \"('inherited',)\": 1, \"('squeezed',)\": 1, \"('predicted',)\": 1, \"('imported',)\": 1, \"('merged',)\": 1, \"('added',)\": 1, \"('tried',)\": 1, \"('recorded',)\": 1, \"('published',)\": 1, \"('earned',)\": 1, \"('devised',)\": 1, \"('dumped',)\": 1, \"('jumped',)\": 1, \"('formed',)\": 1, \"('downgraded',)\": 1, \"('carried',)\": 1, \"('solved',)\": 1, \"('totaled',)\": 1, \"('succeeded',)\": 1, \"('suffered',)\": 1, \"('studied',)\": 1, \"('benefited',)\": 1, \"('ordered',)\": 1, \"('knocked',)\": 1, \"('halted',)\": 1, \"('decided',)\": 1, \"('retraced',)\": 1, \"('brightened',)\": 1, \"('decried',)\": 1, \"('snapped',)\": 1, \"('involved',)\": 1, \"('reopened',)\": 1, \"('stated',)\": 1, \"('accepted',)\": 1, \"('dismissed',)\": 1, \"('amounted',)\": 1, \"('violated',)\": 1, \"('aired',)\": 1, \"('gained',)\": 1, \"('backed',)\": 1, \"('bought',)\": 1, \"('numbered',)\": 1, \"('declared',)\": 1, \"('came',)\": 1, \"('fueled',)\": 1, \"('circulated',)\": 1, \"('soared',)\": 1, \"('caused',)\": 1, \"('described',)\": 1, \"('annoyed',)\": 1, \"('claimed',)\": 1, \"('fielded',)\": 1, \"('mixed',)\": 1, \"('expelled',)\": 1, \"('complained',)\": 1, \"('folded',)\": 1, \"('moved',)\": 1, \"('summoned',)\": 1, \"('prompted',)\": 1, \"('needed',)\": 1, \"('failed',)\": 1, \"('indicated',)\": 1, \"('fretted',)\": 1, \"('expressed',)\": 1, \"('kept',)\": 1, \"('was',)\": 1, \"('rushed',)\": 1, \"('patented',)\": 1, \"('sneaked',)\": 1, \"('cut',)\": 1, \"('lengthened',)\": 1, \"('suspended',)\": 1, \"('produced',)\": 1, \"('materialized',)\": 1, \"('screened',)\": 1, \"('named',)\": 1, \"('welcomed',)\": 1, \"('started',)\": 1, \"('believed',)\": 1, \"('doubled',)\": 1, \"('stressed',)\": 1, \"('happened',)\": 1, \"('reacted',)\": 1, \"('possessed',)\": 1, \"('issued',)\": 1, \"('sent',)\": 1, \"('surfaced',)\": 1, \"('obtained',)\": 1, \"('leapt',)\": 1, \"('posted',)\": 1, \"('yielded',)\": 1, \"('finished',)\": 1, \"('found',)\": 1, \"('completed',)\": 1, \"('curled',)\": 1, \"('established',)\": 1, \"('pulled',)\": 1, \"('harped',)\": 1, \"('sued',)\": 1, \"('concentrated',)\": 1, \"('became',)\": 1, \"('hired',)\": 1, \"('struggled',)\": 1, \"('stored',)\": 1, \"('shot',)\": 1, \"('bid',)\": 1, \"('concluded',)\": 1, \"('suggested',)\": 1, \"('marketed',)\": 1, \"('secured',)\": 1, \"('gave',)\": 1, \"('dropped',)\": 1, \"('realized',)\": 1, \"('collaborated',)\": 1, \"('used',)\": 1, \"('plunged',)\": 1, \"('discussed',)\": 1, \"('brought',)\": 1, \"('cranked',)\": 1, \"('represented',)\": 1, \"('damaged',)\": 1, \"('touched',)\": 1, \"('remarked',)\": 1, \"('invented',)\": 1, \"('restored',)\": 1, \"('resigned',)\": 1, \"('cited',)\": 1, \"('accelerated',)\": 1, \"('quoted',)\": 1, \"('declined',)\": 1, \"('trailed',)\": 1, \"('increased',)\": 1, \"('spoke',)\": 1, \"('eliminated',)\": 1, \"('worked',)\": 1, \"('drifted',)\": 1, \"('reminded',)\": 1, \"('said',)\": 1, \"('skipped',)\": 1, \"('compared',)\": 1, \"('angered',)\": 1, \"('purchased',)\": 1, \"('beat',)\": 1, \"('praised',)\": 1, \"('ranged',)\": 1, \"('committed',)\": 1, \"('entitled',)\": 1, \"('adopted',)\": 1, \"('announced',)\": 1, \"('contracted',)\": 1, \"('asserted',)\": 1, \"('reported',)\": 1, \"('taught',)\": 1, \"('balked',)\": 1, '<unk>': 1.0} \n",
      "\n",
      "[PPPRD] {'([IN], [ADVP])': 1, '([IN], [SBARNOM])': 1, '([NPADV], [IN], [NP])': 1, '([RB], [IN], [NP])': 1, '([IN], [PP])': 1, '([JJ], [TO], [NP])': 1, '([TO], [NP])': 1, '([IN], [NP])': 1, '([IN], [SNOM])': 1, '([PP], [SBAR])': 1, '([ADVP], [IN], [NP])': 1, '([IN], [ADJP])': 1, '([ADJP], [IN], [NP])': 1, '([VBN], [PP])': 1, '([NONE],)': 1, '<unk>': 1.0} \n",
      "\n",
      "[VB] {\"('resonate',)\": 1, \"('watch',)\": 1, \"('replicate',)\": 1, \"('publish',)\": 1, \"('spend',)\": 1, \"('plan',)\": 1, \"('manipulate',)\": 1, \"('faint',)\": 1, \"('call',)\": 1, \"('care',)\": 1, \"('stem',)\": 1, \"('head',)\": 1, \"('time',)\": 1, \"('touch',)\": 1, \"('become',)\": 1, \"('institute',)\": 1, \"('sit',)\": 1, \"('bless',)\": 1, \"('implement',)\": 1, \"('merit',)\": 1, \"('intend',)\": 1, \"('brief',)\": 1, \"('require',)\": 1, \"('sink',)\": 1, \"('enter',)\": 1, \"('devote',)\": 1, \"('hear',)\": 1, \"('offset',)\": 1, \"('review',)\": 1, \"('close',)\": 1, \"('attack',)\": 1, \"('clear',)\": 1, \"('eliminate',)\": 1, \"('hit',)\": 1, \"('invite',)\": 1, \"('emasculate',)\": 1, \"('oppose',)\": 1, \"('underpin',)\": 1, \"('breach',)\": 1, \"('restore',)\": 1, \"('regenerate',)\": 1, \"('make',)\": 1, \"('bolster',)\": 1, \"('increase',)\": 1, \"('submit',)\": 1, \"('combat',)\": 1, \"('expect',)\": 1, \"('slide',)\": 1, \"('mention',)\": 1, \"('disappear',)\": 1, \"('cite',)\": 1, \"('beg',)\": 1, \"('spur',)\": 1, \"('profit',)\": 1, \"('veto',)\": 1, \"('breathe',)\": 1, \"('persuade',)\": 1, \"('offer',)\": 1, \"('back',)\": 1, \"('complete',)\": 1, \"('acknowledge',)\": 1, \"('use',)\": 1, \"('pull',)\": 1, \"('speculate',)\": 1, \"('push',)\": 1, \"('assemble',)\": 1, \"('modify',)\": 1, \"('arrest',)\": 1, \"('quote',)\": 1, \"('conduct',)\": 1, \"('facilitate',)\": 1, \"('sacrifice',)\": 1, \"('notify',)\": 1, \"('want',)\": 1, \"('wait',)\": 1, \"('pay',)\": 1, \"('support',)\": 1, \"('prove',)\": 1, \"('issue',)\": 1, \"('sleep',)\": 1, \"('harass',)\": 1, \"('generate',)\": 1, \"('contribute',)\": 1, \"('curb',)\": 1, \"('punish',)\": 1, \"('default',)\": 1, \"('compensate',)\": 1, \"('afford',)\": 1, \"('hang',)\": 1, \"('prepare',)\": 1, \"('like',)\": 1, \"('compel',)\": 1, \"('recover',)\": 1, \"('expire',)\": 1, \"('export',)\": 1, \"('vary',)\": 1, \"('consist',)\": 1, \"('follow',)\": 1, \"('benefit',)\": 1, \"('trash',)\": 1, \"('go',)\": 1, \"('survive',)\": 1, \"('boast',)\": 1, \"('emigrate',)\": 1, \"('turn',)\": 1, \"('add',)\": 1, \"('replace',)\": 1, \"('predict',)\": 1, \"('die',)\": 1, \"('impose',)\": 1, \"('chat',)\": 1, \"('demand',)\": 1, \"('emerge',)\": 1, \"('address',)\": 1, \"('tolerate',)\": 1, \"('sign',)\": 1, \"('discourage',)\": 1, \"('print',)\": 1, \"('think',)\": 1, \"('swing',)\": 1, \"('reclaim',)\": 1, \"('rise',)\": 1, \"('regulate',)\": 1, \"('approve',)\": 1, \"('concern',)\": 1, \"('accompany',)\": 1, \"('start',)\": 1, \"('lead',)\": 1, \"('agree',)\": 1, \"('appear',)\": 1, \"('speed',)\": 1, \"('string',)\": 1, \"('take',)\": 1, \"('reject',)\": 1, \"('pressure',)\": 1, \"('spark',)\": 1, \"('command',)\": 1, \"('match',)\": 1, \"('occur',)\": 1, \"('send',)\": 1, \"('bring',)\": 1, \"('hope',)\": 1, \"('resume',)\": 1, \"('map',)\": 1, \"('compete',)\": 1, \"('supply',)\": 1, \"('figure',)\": 1, \"('serve',)\": 1, \"('contest',)\": 1, \"('design',)\": 1, \"('remain',)\": 1, \"('perform',)\": 1, \"('advertise',)\": 1, \"('weather',)\": 1, \"('project',)\": 1, \"('panic',)\": 1, \"('continue',)\": 1, \"('sue',)\": 1, \"('extend',)\": 1, \"('engage',)\": 1, \"('administer',)\": 1, \"('run',)\": 1, \"('merge',)\": 1, \"('display',)\": 1, \"('renew',)\": 1, \"('telephone',)\": 1, \"('cure',)\": 1, \"('Take',)\": 1, \"('begin',)\": 1, \"('enact',)\": 1, \"('mend',)\": 1, \"('buffet',)\": 1, \"('attract',)\": 1, \"('drop',)\": 1, \"('lessen',)\": 1, \"('set',)\": 1, \"('spread',)\": 1, \"('prevent',)\": 1, \"('ban',)\": 1, \"('qualify',)\": 1, \"('declare',)\": 1, \"('steal',)\": 1, \"('blip',)\": 1, \"('halve',)\": 1, \"('yield',)\": 1, \"('include',)\": 1, \"('work',)\": 1, \"('intimidate',)\": 1, \"('force',)\": 1, \"('hurt',)\": 1, \"('lure',)\": 1, \"('fall',)\": 1, \"('link',)\": 1, \"('involve',)\": 1, \"('convince',)\": 1, \"('discredit',)\": 1, \"('lose',)\": 1, \"('recognize',)\": 1, \"('bounce',)\": 1, \"('suit',)\": 1, \"('manufacture',)\": 1, \"('pick',)\": 1, \"('mature',)\": 1, \"('control',)\": 1, \"('deal',)\": 1, \"('mind',)\": 1, \"('last',)\": 1, \"('accept',)\": 1, \"('bend',)\": 1, \"('erect',)\": 1, \"('pass',)\": 1, \"('improve',)\": 1, \"('strip',)\": 1, \"('read',)\": 1, \"('hire',)\": 1, \"('resubmit',)\": 1, \"('C'mon',)\": 1, \"('block',)\": 1, \"('introduce',)\": 1, \"('license',)\": 1, \"('assist',)\": 1, \"('purchase',)\": 1, \"('suspend',)\": 1, \"('attend',)\": 1, \"('announce',)\": 1, \"('describe',)\": 1, \"('slow',)\": 1, \"('maximize',)\": 1, \"('realize',)\": 1, \"('augment',)\": 1, \"('implant',)\": 1, \"('exceed',)\": 1, \"('suffer',)\": 1, \"('erode',)\": 1, \"('consider',)\": 1, \"('Sit',)\": 1, \"('finance',)\": 1, \"('disgorge',)\": 1, \"('store',)\": 1, \"('learn',)\": 1, \"('vote',)\": 1, \"('hunker',)\": 1, \"('recommend',)\": 1, \"('view',)\": 1, \"('understand',)\": 1, \"('Eliminate',)\": 1, \"('tuck',)\": 1, \"('keep',)\": 1, \"('affect',)\": 1, \"('end',)\": 1, \"('discontinue',)\": 1, \"('fold',)\": 1, \"('produce',)\": 1, \"('preclude',)\": 1, \"('capture',)\": 1, \"('acquire',)\": 1, \"('justify',)\": 1, \"('concentrate',)\": 1, \"('unwind',)\": 1, \"('inhibit',)\": 1, \"('single',)\": 1, \"('shake',)\": 1, \"('rewrite',)\": 1, \"('speak',)\": 1, \"('decide',)\": 1, \"('aim',)\": 1, \"('chase',)\": 1, \"('shrug',)\": 1, \"('contract',)\": 1, \"('slip',)\": 1, \"('log',)\": 1, \"('pursue',)\": 1, \"('house',)\": 1, \"('have',)\": 1, \"('fund',)\": 1, \"('Choose',)\": 1, \"('buy',)\": 1, \"('cheat',)\": 1, \"('commit',)\": 1, \"('please',)\": 1, \"('trust',)\": 1, \"('wish',)\": 1, \"('crack',)\": 1, \"('appoint',)\": 1, \"('target',)\": 1, \"('Pick',)\": 1, \"('grant',)\": 1, \"('account',)\": 1, \"('shut',)\": 1, \"('be',)\": 1, \"('propagandize',)\": 1, \"('analyze',)\": 1, \"('deserve',)\": 1, \"('swallow',)\": 1, \"('Kill',)\": 1, \"('join',)\": 1, \"('shore',)\": 1, \"('celebrate',)\": 1, \"('favor',)\": 1, \"('lift',)\": 1, \"('taper',)\": 1, \"('mean',)\": 1, \"('stop',)\": 1, \"('achieve',)\": 1, \"('encourage',)\": 1, \"('Think',)\": 1, \"('draw',)\": 1, \"('discuss',)\": 1, \"('bludgeon',)\": 1, \"('impede',)\": 1, \"('sew',)\": 1, \"('encounter',)\": 1, \"('do',)\": 1, \"('Put',)\": 1, \"('identify',)\": 1, \"('Buy',)\": 1, \"('direct',)\": 1, \"('herald',)\": 1, \"('define',)\": 1, \"('comment',)\": 1, \"('face',)\": 1, \"('ask',)\": 1, \"('file',)\": 1, \"('launch',)\": 1, \"('boost',)\": 1, \"('despise',)\": 1, \"('contain',)\": 1, \"('juggle',)\": 1, \"('prosecute',)\": 1, \"('expand',)\": 1, \"('settle',)\": 1, \"('Remember',)\": 1, \"('seek',)\": 1, \"('worry',)\": 1, \"('meet',)\": 1, \"('overcome',)\": 1, \"('break',)\": 1, \"('entice',)\": 1, \"('divest',)\": 1, \"('report',)\": 1, \"('specialize',)\": 1, \"('evolve',)\": 1, \"('undo',)\": 1, \"('install',)\": 1, \"('try',)\": 1, \"('Compare',)\": 1, \"('cause',)\": 1, \"('prescribe',)\": 1, \"('nominate',)\": 1, \"('exploit',)\": 1, \"('excise',)\": 1, \"('book',)\": 1, \"('compromise',)\": 1, \"('craft',)\": 1, \"('pose',)\": 1, \"('overlap',)\": 1, \"('own',)\": 1, \"('retard',)\": 1, \"('gain',)\": 1, \"('glamorize',)\": 1, \"('place',)\": 1, \"('catch',)\": 1, \"('contradict',)\": 1, \"('defuse',)\": 1, \"('argue',)\": 1, \"('recruit',)\": 1, \"('usurp',)\": 1, \"('stifle',)\": 1, \"('cover',)\": 1, \"('seem',)\": 1, \"('teach',)\": 1, \"('monopolize',)\": 1, \"('split',)\": 1, \"('redeem',)\": 1, \"('offend',)\": 1, \"('grapple',)\": 1, \"('risk',)\": 1, \"('imagine',)\": 1, \"('transfer',)\": 1, \"('welcome',)\": 1, \"('answer',)\": 1, \"('clarify',)\": 1, \"('establish',)\": 1, \"('refile',)\": 1, \"('Forget',)\": 1, \"('violate',)\": 1, \"('endorse',)\": 1, \"('retain',)\": 1, \"('color',)\": 1, \"('develop',)\": 1, \"('Send',)\": 1, \"('permit',)\": 1, \"('reduce',)\": 1, \"('stay',)\": 1, \"('talk',)\": 1, \"('protect',)\": 1, \"('train',)\": 1, \"('audit',)\": 1, \"('fail',)\": 1, \"('explain',)\": 1, \"('flourish',)\": 1, \"('whipsaw',)\": 1, \"('cope',)\": 1, \"('unload',)\": 1, \"('provoke',)\": 1, \"('execute',)\": 1, \"('fly',)\": 1, \"('recall',)\": 1, \"('parallel',)\": 1, \"('obtain',)\": 1, \"('suspect',)\": 1, \"('let',)\": 1, \"('scrape',)\": 1, \"('insert',)\": 1, \"('find',)\": 1, \"('debate',)\": 1, \"('disclose',)\": 1, \"('disseminate',)\": 1, \"('avoid',)\": 1, \"('override',)\": 1, \"('Consider',)\": 1, \"('underline',)\": 1, \"('record',)\": 1, \"('choose',)\": 1, \"('signal',)\": 1, \"('photocopy',)\": 1, \"('elaborate',)\": 1, \"('respond',)\": 1, \"('check',)\": 1, \"('gauge',)\": 1, \"('diversify',)\": 1, \"('belong',)\": 1, \"('provide',)\": 1, \"('withstand',)\": 1, \"('note',)\": 1, \"('get',)\": 1, \"('conclude',)\": 1, \"('charge',)\": 1, \"('lock',)\": 1, \"('ring',)\": 1, \"('ward',)\": 1, \"('limit',)\": 1, \"('sell',)\": 1, \"('look',)\": 1, \"('maintain',)\": 1, \"('polish',)\": 1, \"('enforce',)\": 1, \"('switch',)\": 1, \"('eclipse',)\": 1, \"('computerize',)\": 1, \"('reach',)\": 1, \"('swap',)\": 1, \"('ease',)\": 1, \"('seize',)\": 1, \"('resist',)\": 1, \"('revive',)\": 1, \"('decrease',)\": 1, \"('deny',)\": 1, \"('reallocate',)\": 1, \"('stand',)\": 1, \"('focus',)\": 1, \"('bar',)\": 1, \"('withdraw',)\": 1, \"('migrate',)\": 1, \"('trade',)\": 1, \"('invent',)\": 1, \"('tip',)\": 1, \"('pair',)\": 1, \"('ensure',)\": 1, \"('come',)\": 1, \"('equip',)\": 1, \"('Do',)\": 1, \"('share',)\": 1, \"('play',)\": 1, \"('redflag',)\": 1, \"('determine',)\": 1, \"('experience',)\": 1, \"('refund',)\": 1, \"('resolve',)\": 1, \"('test',)\": 1, \"('destroy',)\": 1, \"('feel',)\": 1, \"('jump',)\": 1, \"('see',)\": 1, \"('reap',)\": 1, \"('reprint',)\": 1, \"('counteract',)\": 1, \"('wear',)\": 1, \"('aid',)\": 1, \"('beat',)\": 1, \"('cut',)\": 1, \"('sound',)\": 1, \"('diminish',)\": 1, \"('return',)\": 1, \"('tilt',)\": 1, \"('total',)\": 1, \"('fabricate',)\": 1, \"('clean',)\": 1, \"('advance',)\": 1, \"('oversee',)\": 1, \"('impart',)\": 1, \"('negotiate',)\": 1, \"('help',)\": 1, \"('change',)\": 1, \"('name',)\": 1, \"('complicate',)\": 1, \"('reward',)\": 1, \"('succeed',)\": 1, \"('top',)\": 1, \"('give',)\": 1, \"('double',)\": 1, \"('range',)\": 1, \"('wield',)\": 1, \"('weaken',)\": 1, \"('uptick',)\": 1, \"('defeat',)\": 1, \"('indicate',)\": 1, \"('depend',)\": 1, \"('know',)\": 1, \"('testify',)\": 1, \"('tote',)\": 1, \"('confuse',)\": 1, \"('handle',)\": 1, \"('result',)\": 1, \"('withhold',)\": 1, \"('happen',)\": 1, \"('create',)\": 1, \"('remove',)\": 1, \"('live',)\": 1, \"('abandon',)\": 1, \"('load',)\": 1, \"('stake',)\": 1, \"('decline',)\": 1, \"('raise',)\": 1, \"('copy',)\": 1, \"('move',)\": 1, \"('slash',)\": 1, \"('exist',)\": 1, \"('honor',)\": 1, \"('operate',)\": 1, \"('reflect',)\": 1, \"('broaden',)\": 1, \"('believe',)\": 1, \"('duck',)\": 1, \"('reopen',)\": 1, \"('exercise',)\": 1, \"('hold',)\": 1, \"('act',)\": 1, \"('phase',)\": 1, \"('assert',)\": 1, \"('redistribute',)\": 1, \"('rule',)\": 1, \"('pour',)\": 1, \"('shoot',)\": 1, \"('win',)\": 1, \"('save',)\": 1, \"('travel',)\": 1, \"('treat',)\": 1, \"('fill',)\": 1, \"('fend',)\": 1, \"('allow',)\": 1, \"('entrench',)\": 1, \"('select',)\": 1, \"('rate',)\": 1, \"('represent',)\": 1, \"('apply',)\": 1, \"('roll',)\": 1, \"('leave',)\": 1, \"('study',)\": 1, \"('open',)\": 1, \"('abide',)\": 1, \"('amend',)\": 1, \"('enable',)\": 1, \"('denounce',)\": 1, \"('receive',)\": 1, \"('say',)\": 1, \"('assure',)\": 1, \"('promote',)\": 1, \"('seduce',)\": 1, \"('inform',)\": 1, \"('discharge',)\": 1, \"('combine',)\": 1, \"('post',)\": 1, \"('highlight',)\": 1, \"('apologize',)\": 1, \"('build',)\": 1, \"('accommodate',)\": 1, \"('predispose',)\": 1, \"('even',)\": 1, \"('correct',)\": 1, \"('Make',)\": 1, \"('redeploy',)\": 1, \"('cost',)\": 1, \"('step',)\": 1, \"('put',)\": 1, \"('scream',)\": 1, \"('matter',)\": 1, \"('entertain',)\": 1, \"('deliver',)\": 1, \"('earn',)\": 1, \"('reprove',)\": 1, \"('carry',)\": 1, \"('delete',)\": 1, \"('penetrate',)\": 1, \"('measure',)\": 1, '<unk>': 1.0} \n",
      "\n",
      "[WRB] {\"('when',)\": 1, \"('Why',)\": 1, \"('When',)\": 1, \"('how',)\": 1, \"('How',)\": 1, \"('whereby',)\": 1, \"('where',)\": 1, \"('why',)\": 1, \"('Where',)\": 1, '<unk>': 1.0} \n",
      "\n",
      "[SBARCLR] {'([IN], [SNOM])': 1, '([WHADVP], [S])': 1, '([IN], [S])': 1, '<unk>': 1.0} \n",
      "\n",
      "[NNP] {\"('Chaplin',)\": 1, \"('Estate',)\": 1, \"('Democrat',)\": 1, \"('Commodity',)\": 1, \"('Dreyfus',)\": 1, \"('Bell',)\": 1, \"('Stevens',)\": 1, \"('Viacom',)\": 1, \"('Lilly',)\": 1, \"('Publications',)\": 1, \"('NEC',)\": 1, \"('English',)\": 1, \"('Bridgeville',)\": 1, \"('Mission',)\": 1, \"('ShareData',)\": 1, \"('Avenue',)\": 1, \"('Elisa',)\": 1, \"('W.N.',)\": 1, \"('Berger',)\": 1, \"('Plaza',)\": 1, \"('Odyssey',)\": 1, \"('Fargo',)\": 1, \"('Burt',)\": 1, \"('Thursday',)\": 1, \"('Taurus',)\": 1, \"('McLeod',)\": 1, \"('U.S.A',)\": 1, \"('Kansas',)\": 1, \"('Edwards',)\": 1, \"('Kane',)\": 1, \"('Richard',)\": 1, \"('Lorenzo',)\": 1, \"('Ackerman',)\": 1, \"('Ga.',)\": 1, \"('Loews',)\": 1, \"('California',)\": 1, \"('Monchecourt',)\": 1, \"('Conn.',)\": 1, \"('Chamber',)\": 1, \"('VOA',)\": 1, \"('Force',)\": 1, \"('Team',)\": 1, \"('Steelworkers',)\": 1, \"('D.',)\": 1, \"('Marie',)\": 1, \"('Moines',)\": 1, \"('Kawasaki',)\": 1, \"('Haruki',)\": 1, \"('Little',)\": 1, \"('Saitama',)\": 1, \"('Aslacton',)\": 1, \"('MITI',)\": 1, \"('Supreme',)\": 1, \"('Dec.',)\": 1, \"('Wakui',)\": 1, \"('O.',)\": 1, \"('Fidelity',)\": 1, \"('Wild',)\": 1, \"('McCabe',)\": 1, \"('Colony',)\": 1, \"('Olympia',)\": 1, \"('Gaithersburg',)\": 1, \"('CTB',)\": 1, \"('Rail',)\": 1, \"('Fire',)\": 1, \"('Dunn',)\": 1, \"('IRS',)\": 1, \"('NASD',)\": 1, \"('Nelson',)\": 1, \"('Judge',)\": 1, \"('New',)\": 1, \"('Moon',)\": 1, \"('District',)\": 1, \"('Davis',)\": 1, \"('Silicon',)\": 1, \"('Society',)\": 1, \"('Fred',)\": 1, \"('Johnson',)\": 1, \"('Bumkins',)\": 1, \"('Riese',)\": 1, \"('Skinner',)\": 1, \"('Miguel',)\": 1, \"('Deryck',)\": 1, \"('Olympic',)\": 1, \"('Electronics',)\": 1, \"('Greenville',)\": 1, \"('Haney',)\": 1, \"('Three',)\": 1, \"('YMCA',)\": 1, \"('Consolidated',)\": 1, \"('Stoll',)\": 1, \"('Mazda',)\": 1, \"('Ringing',)\": 1, \"('Natural',)\": 1, \"('Petersburg',)\": 1, \"('Sonnett',)\": 1, \"('Scoring',)\": 1, \"('Brooks',)\": 1, \"('Cab',)\": 1, \"('Beatles',)\": 1, \"('WPP',)\": 1, \"('Chandler',)\": 1, \"('Hiroshi',)\": 1, \"('Mark',)\": 1, \"('Denver',)\": 1, \"('Bordeaux',)\": 1, \"('Claude',)\": 1, \"('Electric',)\": 1, \"('Mara',)\": 1, \"('Newhouse',)\": 1, \"('Newgate',)\": 1, \"('Robertson',)\": 1, \"('Fuji',)\": 1, \"('Hartford',)\": 1, \"('Nagano',)\": 1, \"('Jack',)\": 1, \"('Separately',)\": 1, \"('Eric',)\": 1, \"('Court',)\": 1, \"('Riviera',)\": 1, \"('March',)\": 1, \"('Brean',)\": 1, \"('Bennett',)\": 1, \"('Purchase',)\": 1, \"('Fortune',)\": 1, \"('Stirlen',)\": 1, \"('Loan',)\": 1, \"('Garanti',)\": 1, \"('Hopkins',)\": 1, \"('Hiroshima',)\": 1, \"('Solaia',)\": 1, \"('Hale',)\": 1, \"('Miklos',)\": 1, \"('Sebastian',)\": 1, \"('Butler',)\": 1, \"('TimesStock',)\": 1, \"('Jefferson',)\": 1, \"('Rill',)\": 1, \"('Southeast',)\": 1, \"('Citadel',)\": 1, \"('Stronach',)\": 1, \"('Maytag',)\": 1, \"('Minneapolis',)\": 1, \"('Stephens',)\": 1, \"('Mercantile',)\": 1, \"('Federal',)\": 1, \"('Reserve',)\": 1, \"('Fischer',)\": 1, \"('Opus',)\": 1, \"('Aptitude',)\": 1, \"('Springfield',)\": 1, \"('Bridgestone\\\\/Firestone',)\": 1, \"('Basin',)\": 1, \"('Alexander',)\": 1, \"('Boulder',)\": 1, \"('McAlpine',)\": 1, \"('Hamilton',)\": 1, \"('Ramirez',)\": 1, \"('Depositsa',)\": 1, \"('McFall',)\": 1, \"('Different',)\": 1, \"('Yamamoto',)\": 1, \"('Sept.',)\": 1, \"('Hearst',)\": 1, \"('COMMUNICATIONS',)\": 1, \"('Itoh',)\": 1, \"('Woodward',)\": 1, \"('Reed',)\": 1, \"('Finmeccanica',)\": 1, \"('S&P',)\": 1, \"('Allied',)\": 1, \"('Marty',)\": 1, \"('FOREIGN',)\": 1, \"('Restaurant',)\": 1, \"('Gorbachev',)\": 1, \"('Group',)\": 1, \"('Dolphin',)\": 1, \"('Standard',)\": 1, \"('Wall',)\": 1, \"('Spain',)\": 1, \"('YWCA',)\": 1, \"('Correll',)\": 1, \"('Foster',)\": 1, \"('Scholastic',)\": 1, \"('Pamela',)\": 1, \"('Comprehensive',)\": 1, \"('Weisfield',)\": 1, \"('Plains',)\": 1, \"('Mass.',)\": 1, \"('Wilder',)\": 1, \"('Ore.',)\": 1, \"('Lurie',)\": 1, \"('PRIME',)\": 1, \"('Economic',)\": 1, \"('Shuxian',)\": 1, \"('Tuesday',)\": 1, \"('Manfred',)\": 1, \"('Renee',)\": 1, \"('Angelo',)\": 1, \"('Banking',)\": 1, \"('Courter',)\": 1, \"('BRAMALEA',)\": 1, \"('CarnegieMellon',)\": 1, \"('Manufacturers',)\": 1, \"('Rudolph',)\": 1, \"('Stockholm',)\": 1, \"('Silverman',)\": 1, \"('Shrum',)\": 1, \"('Human',)\": 1, \"('W.',)\": 1, \"('Dell',)\": 1, \"('LANDOR',)\": 1, \"('Cleveland',)\": 1, \"('Somerset',)\": 1, \"('Centerbank',)\": 1, \"('Heiwado',)\": 1, \"('Wilfred',)\": 1, \"('ChineseAmerican',)\": 1, \"('Manchester',)\": 1, \"('Martin',)\": 1, \"('Frederick',)\": 1, \"('Brownstein',)\": 1, \"('Tuscany',)\": 1, \"('Landis',)\": 1, \"('N.H.',)\": 1, \"('Owner',)\": 1, \"('Gray',)\": 1, \"('WAFA',)\": 1, \"('Have',)\": 1, \"('Express',)\": 1, \"('Catholic',)\": 1, \"('Woodcliff',)\": 1, \"('Neuberger',)\": 1, \"('Columbia',)\": 1, \"('Phipps',)\": 1, \"('Westminster',)\": 1, \"('England',)\": 1, \"('Ruth',)\": 1, \"('Ross',)\": 1, \"('Guild',)\": 1, \"('AT&T',)\": 1, \"('Britta',)\": 1, \"('Dodger',)\": 1, \"('Hayes',)\": 1, \"('Olson',)\": 1, \"('Lewis',)\": 1, \"('Factory',)\": 1, \"('Palmer',)\": 1, \"('Tokio',)\": 1, \"('Seagate',)\": 1, \"('Kong',)\": 1, \"('Santa',)\": 1, \"('Mount',)\": 1, \"('Long',)\": 1, \"('Trettien',)\": 1, \"('Danzig',)\": 1, \"('Temple',)\": 1, \"('RomaneeConti',)\": 1, \"('Altair',)\": 1, \"('Steven',)\": 1, \"('Israel',)\": 1, \"('Guinea',)\": 1, \"('Hazell',)\": 1, \"('Oct.',)\": 1, \"('Blanc',)\": 1, \"('Heidelberg',)\": 1, \"('Rozell',)\": 1, \"('Cray',)\": 2, \"('Conn',)\": 1, \"('Chairman',)\": 1, \"('Mogavero',)\": 1, \"('UAL',)\": 1, \"('I',)\": 1, \"('Soviet',)\": 1, \"('Adolph',)\": 1, \"('Pepperdine',)\": 1, \"('Pierre',)\": 1, \"('Erbamont',)\": 1, \"('Beige',)\": 1, \"('Insight',)\": 1, \"('Journal',)\": 1, \"('L.P.',)\": 1, \"('Michaels',)\": 1, \"('Wickliffe',)\": 1, \"('Leap',)\": 1, \"('Joe',)\": 1, \"('Wong',)\": 1, \"('Gates',)\": 1, \"('HautBrion',)\": 1, \"('Unico',)\": 1, \"('Chardonnay',)\": 1, \"('Internal',)\": 1, \"('Average',)\": 1, \"('GHKM',)\": 1, \"('Merrill',)\": 1, \"('Local',)\": 1, \"('Northy',)\": 1, \"('Wick',)\": 1, \"('Andy',)\": 1, \"('Simon',)\": 1, \"('Chivas',)\": 1, \"('Fulham',)\": 1, \"('Hutchinson',)\": 1, \"('Perch',)\": 1, \"('Lizhi',)\": 1, \"('Bangkok',)\": 1, \"('Glass',)\": 1, \"('Defense',)\": 1, \"('NTG',)\": 1, \"('Australian',)\": 1, \"('Clairton',)\": 1, \"('Harpo',)\": 1, \"('Thomas',)\": 1, \"('Time',)\": 1, \"('Candela',)\": 1, \"('Wilton',)\": 1, \"('Learning',)\": 1, \"('Indiana',)\": 1, \"('Estates',)\": 1, \"('Marc',)\": 1, \"('G.',)\": 1, \"('Rotie',)\": 1, \"('Debt',)\": 1, \"('NIH',)\": 1, \"('Maine',)\": 1, \"('CBS',)\": 1, \"('Carson',)\": 1, \"('Hitachi',)\": 1, \"('Wash.',)\": 1, \"('Philippine',)\": 1, \"('Watson',)\": 1, \"('Sol',)\": 1, \"('Noble',)\": 1, \"('Yamaichi',)\": 1, \"('Republican',)\": 1, \"('U.S.S.R.',)\": 1, \"('Commerce',)\": 1, \"('Growth',)\": 1, \"('Crew',)\": 1, \"('Magna',)\": 1, \"('Shugart',)\": 1, \"('Wozniak',)\": 1, \"('Psychiatry',)\": 1, \"('Sigler',)\": 1, \"('Nederlanden',)\": 1, \"('Dorrance',)\": 1, \"('Lehman',)\": 1, \"('Tokyo',)\": 1, \"('Keehn',)\": 1, \"('Warrenton',)\": 1, \"('Phi',)\": 1, \"('Menem',)\": 1, \"('Labor',)\": 1, \"('Egnuss',)\": 1, \"('Rouge',)\": 1, \"('Ginsberg',)\": 1, \"('Baldwin',)\": 1, \"('Memphis',)\": 1, \"('Riserva',)\": 1, \"('Communication',)\": 1, \"('Alleghany',)\": 1, \"('Salty',)\": 1, \"('Dorothy',)\": 1, \"('Mexican',)\": 1, \"('Media',)\": 1, \"('Black',)\": 1, \"('Exxon',)\": 1, \"('NATIONAL',)\": 1, \"('Deane',)\": 1, \"('GeorgiaPacific',)\": 1, \"('Griffin',)\": 1, \"('Broken',)\": 1, \"('Legal',)\": 1, \"('Poland',)\": 1, \"('Vermont',)\": 1, \"('Conduct',)\": 1, \"('Furukawa',)\": 1, \"('Zenith',)\": 1, \"('Arabia',)\": 1, \"('VanSant',)\": 1, \"('Simmons',)\": 1, \"('Hammerschmidt',)\": 1, \"('Chadha',)\": 1, \"('Data',)\": 1, \"('WHAS',)\": 1, \"('Bankruptcy',)\": 1, \"('Louisiana',)\": 1, \"('Trudeau',)\": 1, \"('Samuel',)\": 1, \"('TRS',)\": 1, \"('Dennis',)\": 1, \"('ChemPlus',)\": 1, \"('Scott',)\": 1, \"('Roosevelt',)\": 1, \"('Eastern',)\": 1, \"('Wayne',)\": 1, \"('Bailey',)\": 1, \"('Sherwood',)\": 1, \"('Speedway',)\": 1, \"('Roof',)\": 1, \"('Devon',)\": 1, \"('Legend',)\": 1, \"('Code',)\": 1, \"('Truck',)\": 1, \"('Michigan',)\": 1, \"('Beth',)\": 1, \"('Environmental',)\": 1, \"('Ethel',)\": 1, \"('Anthony',)\": 1, \"('Australia',)\": 1, \"('Stadium',)\": 1, \"('Mindy',)\": 1, \"('Md.',)\": 1, \"('Alurralde',)\": 1, \"('Champion',)\": 1, \"('Smelting',)\": 1, \"('GOODY',)\": 1, \"('Platt',)\": 1, \"('Hammerton',)\": 1, \"('Derek',)\": 1, \"('van',)\": 1, \"('Belt',)\": 1, \"('Dale',)\": 1, \"('Mitsubishi',)\": 1, \"('Nelms',)\": 1, \"('Ray',)\": 1, \"('AG',)\": 1, \"('Duke',)\": 1, \"('Henry',)\": 1, \"('Dakota',)\": 1, \"('Utsumi',)\": 1, \"('Guffey',)\": 1, \"('Petroleum',)\": 1, \"('London',)\": 1, \"('AIDS',)\": 1, \"('Business',)\": 1, \"('N.Y',)\": 1, \"('Crash',)\": 1, \"('Saudi',)\": 1, \"('Advance',)\": 1, \"('Darkhorse',)\": 1, \"('Stephen',)\": 1, \"('Doerflinger',)\": 1, \"('Mickey',)\": 1, \"('Montedison',)\": 1, \"('Down',)\": 1, \"('Anku',)\": 1, \"('Sauvignon',)\": 1, \"('Susan',)\": 1, \"('Tiphook',)\": 1, \"('Institute',)\": 1, \"('Bush',)\": 1, \"('Dynamics',)\": 1, \"('PrudentialBache',)\": 1, \"('Bob',)\": 1, \"('Macmillan\\\\/McGraw',)\": 1, \"('Pennsylvania',)\": 1, \"('Computer',)\": 1, \"('Drug',)\": 1, \"('Guard',)\": 1, \"('Judie',)\": 1, \"('Phoenix',)\": 1, \"('Alliance',)\": 1, \"('Kidder',)\": 1, \"('Hudson',)\": 1, \"('Rockefeller',)\": 1, \"('Dan',)\": 1, \"('Times',)\": 1, \"('Del',)\": 1, \"('Bureau',)\": 1, \"('ASSOCIATION',)\": 1, \"('Minister',)\": 1, \"('LaSalle',)\": 1, \"('Washington',)\": 1, \"('McAuley',)\": 1, \"('Sanderoff',)\": 1, \"('Petersen',)\": 1, \"('Vitulli',)\": 1, \"('Partners',)\": 1, \"('Barbaresco',)\": 1, \"('Fannie',)\": 1, \"('Red',)\": 1, \"('Hutton',)\": 1, \"('Southern',)\": 1, \"('Giuliani',)\": 1, \"('Child',)\": 1, \"('Baton',)\": 1, \"('A.',)\": 1, \"('Trockenbeerenauslesen',)\": 1, \"('Dominus',)\": 1, \"('Trans',)\": 1, \"('Barclays',)\": 1, \"('CTBS',)\": 1, \"('Sea',)\": 1, \"('Bass',)\": 1, \"('Safety',)\": 1, \"('Spoon',)\": 1, \"('Cutrer',)\": 1, \"('PAP',)\": 1, \"('HHS',)\": 1, \"('William',)\": 1, \"('Giant',)\": 1, \"('Giraud',)\": 1, \"('Appellate',)\": 1, \"('Walters',)\": 1, \"('Confederation',)\": 1, \"('Ilminster',)\": 1, \"('Chabrol',)\": 1, \"('Gingl',)\": 1, \"('Hoffman',)\": 1, \"('National',)\": 1, \"('Trading',)\": 1, \"('Handelsbanken',)\": 1, \"('Health',)\": 1, \"('Lorillard',)\": 1, \"('Sangyo',)\": 1, \"('Ala.',)\": 1, \"('Xerox',)\": 1, \"('Act',)\": 1, \"('Angeles',)\": 1, \"('Program',)\": 1, \"('Backe',)\": 1, \"('Ariail',)\": 1, \"('Fair',)\": 1, \"('F.',)\": 1, \"('Ill.',)\": 1, \"('Friday',)\": 1, \"('Banque',)\": 1, \"('Bill',)\": 1, \"('Illinois',)\": 1, \"('Elisabeth',)\": 1, \"('Nasdaq',)\": 1, \"('Hills',)\": 1, \"('Pet',)\": 1, \"('Dugdale',)\": 1, \"('Grange',)\": 1, \"('Tassinari',)\": 1, \"('Valley',)\": 1, \"('George',)\": 1, \"('Salmore',)\": 1, \"('Basham',)\": 1, \"('Chevrolet',)\": 1, \"('Switzerland',)\": 1, \"('Norwest',)\": 1, \"('Utah',)\": 1, \"('WorldWide',)\": 1, \"('Heavy',)\": 1, \"('Sasaki',)\": 1, \"('Sen.',)\": 1, \"('Joel',)\": 1, \"('Woodrow',)\": 1, \"('Yeargin',)\": 1, \"('Singapore',)\": 1, \"('Mae',)\": 1, \"('European',)\": 1, \"('Lord',)\": 1, \"('Horsham',)\": 1, \"('Glenn',)\": 1, \"('Peabody',)\": 1, \"('First',)\": 1, \"('Campbell',)\": 1, \"('Bretz',)\": 1, \"('NoSmoking',)\": 1, \"('Elliott',)\": 1, \"('Davies',)\": 1, \"('Sidewalk',)\": 1, \"('Burgundy',)\": 1, \"('Stanford',)\": 1, \"('Pentagon',)\": 1, \"('Mayer',)\": 1, \"('RATE',)\": 1, \"('CAT',)\": 1, \"('Meinders',)\": 1, \"('Trojan',)\": 1, \"('Kenneth',)\": 1, \"('Jaguar',)\": 1, \"('Colonsville',)\": 1, \"('Securities',)\": 1, \"('O'Loughlin',)\": 1, \"('India',)\": 1, \"('Dollar',)\": 1, \"('Georgia',)\": 1, \"('Drexel',)\": 1, \"('Dr.',)\": 1, \"('Dresser',)\": 1, \"('Place',)\": 1, \"('Anderson',)\": 1, \"('GAF',)\": 1, \"('Emile',)\": 1, \"('Gaja',)\": 1, \"('Administration',)\": 1, \"('Secretary',)\": 1, \"('H.',)\": 1, \"('PS',)\": 1, \"('Ogilvy',)\": 1, \"('Commodore',)\": 1, \"('Daily',)\": 1, \"('Ronald',)\": 1, \"('Ohio',)\": 1, \"('Hummerstone',)\": 1, \"('James',)\": 1, \"('Tulane',)\": 1, \"('People',)\": 1, \"('GatesWarren',)\": 1, \"('Miss.',)\": 1, \"('Florida',)\": 1, \"('J.P.',)\": 1, \"('Charles',)\": 1, \"('Rogers',)\": 1, \"('Kangyo',)\": 1, \"('Garret',)\": 1, \"('Lane',)\": 1, \"('Freddie',)\": 1, \"('Pitcher',)\": 1, \"('Ltd.',)\": 1, \"('Arthur',)\": 1, \"('World',)\": 1, \"('Malizia',)\": 1, \"('Yorkbased',)\": 1, \"('Whelen',)\": 1, \"('Dallas',)\": 1, \"('Northeast',)\": 1, \"('Food',)\": 1, \"('Abbey',)\": 1, \"('Hot',)\": 1, \"('Houghton',)\": 1, \"('Graham',)\": 1, \"('Tire',)\": 1, \"('Stories',)\": 1, \"('Barney',)\": 1, \"('Edge',)\": 1, \"('Edward',)\": 1, \"('Earle',)\": 1, \"('Signet',)\": 1, \"('Virgin',)\": 1, \"('Feb.',)\": 1, \"('Revenue',)\": 1, \"('Mesnil',)\": 1, \"('Corp',)\": 1, \"('FERC',)\": 1, \"('Jersey',)\": 1, \"('Terrace',)\": 1, \"('ON',)\": 1, \"('Circle',)\": 1, \"('Hudnut',)\": 1, \"('Kuala',)\": 1, \"('Sandberg',)\": 1, \"('CAMPAIGN',)\": 1, \"('Christopher',)\": 1, \"('Finance',)\": 1, \"('Chilver',)\": 1, \"('Jan.',)\": 1, \"('Lufkin',)\": 1, \"('Cabernet',)\": 1, \"('Budget',)\": 1, \"('Wells',)\": 1, \"('Berliner',)\": 1, \"('Pattenden',)\": 1, \"('Hahn',)\": 1, \"('Vegas',)\": 1, \"('Morrison',)\": 1, \"('Beta',)\": 1, \"('Bew',)\": 1, \"('Jackson',)\": 1, \"('Pa',)\": 1, \"('RentACar',)\": 1, \"('Hungary',)\": 1, \"('Corazon',)\": 1, \"('Mason',)\": 1, \"('Vineyard',)\": 1, \"('Nov.',)\": 1, \"('Orleans',)\": 1, \"('O'Brien',)\": 1, \"('TRANSPLANT',)\": 1, \"('Univest',)\": 1, \"('Agriculture',)\": 1, \"('Lefcourt',)\": 1, \"('Chinese',)\": 1, \"('Saturday',)\": 1, \"('Chateau',)\": 1, \"('NEW',)\": 1, \"('Weatherly',)\": 1, \"('LONDON',)\": 1, \"('Si',)\": 1, \"('Oliver',)\": 1, \"('Tache',)\": 1, \"('Boone',)\": 1, \"('Ketchum',)\": 1, \"('CocaCola',)\": 1, \"('Barbara',)\": 1, \"('Hormats',)\": 1, \"('Cullowhee',)\": 1, \"('Newsweek',)\": 1, \"('Elizabeth',)\": 1, \"('Nilson',)\": 1, \"('Tandy',)\": 1, \"('Eagleton',)\": 1, \"('Gary',)\": 1, \"('Cerf',)\": 1, \"('Carbide',)\": 1, \"('Francis',)\": 1, \"('Clays',)\": 1, \"('Foundation',)\": 1, \"('Messrs.',)\": 1, \"('Asian',)\": 1, \"('Pickens',)\": 1, \"('Triton',)\": 1, \"('Queen',)\": 1, \"('MERRILL',)\": 1, \"('Manufacturing',)\": 1, \"('Swearingen',)\": 1, \"('ROGERS',)\": 1, \"('McDermott',)\": 1, \"('The',)\": 1, \"('N.J.',)\": 1, \"('Diamond',)\": 1, \"('Trust',)\": 1, \"('Holding',)\": 1, \"('Brunello',)\": 1, \"('Pratt',)\": 1, \"('Hara',)\": 1, \"('Dompierre',)\": 1, \"('Salomon',)\": 1, \"('Sheep',)\": 1, \"('Council',)\": 1, \"('GM',)\": 1, \"('F.H.',)\": 1, \"('Video',)\": 1, \"('Bermuda',)\": 1, \"('Latin',)\": 1, \"('Signore',)\": 1, \"('TRUST',)\": 1, \"('Mike',)\": 1, \"('Rep.',)\": 1, \"('Makato',)\": 1, \"('Bells',)\": 1, \"('Rubber',)\": 1, \"('Ricken',)\": 1, \"('Roukema',)\": 1, \"('Carla',)\": 1, \"('Limited',)\": 1, \"('Klauser',)\": 1, \"('Kendrick',)\": 1, \"('Rock',)\": 1, \"('Consent',)\": 1, \"('Soup',)\": 1, \"('Central',)\": 1, \"('Circulations',)\": 1, \"('Anne',)\": 1, \"('Katzenstein',)\": 1, \"('Robert',)\": 1, \"('Moscow',)\": 1, \"('Man',)\": 1, \"('Kelli',)\": 1, \"('Glenham',)\": 1, \"('Hospital',)\": 1, \"('Breeden',)\": 1, \"('Futures',)\": 1, \"('Stores',)\": 1, \"('Kentucky',)\": 1, \"('Kalipharma',)\": 1, \"('Carlos',)\": 1, \"('Collins',)\": 1, \"('Sauternes',)\": 1, \"('Baum',)\": 1, \"('Synergistics',)\": 1, \"('Dow',)\": 1, \"('Planters',)\": 1, \"('Glendale',)\": 1, \"('Copperweld',)\": 1, \"('Prof',)\": 1, \"('Lobo',)\": 1, \"('Gerard',)\": 1, \"('LOAN',)\": 1, \"('Environment',)\": 1, \"('Goldinger',)\": 1, \"('Patrick',)\": 1, \"('Century',)\": 1, \"('Minnesota',)\": 1, \"('Eaton',)\": 1, \"('Hallett',)\": 1, \"('Charlie',)\": 1, \"('Ill',)\": 1, \"('A.C.',)\": 1, \"('Brazil',)\": 1, \"('Canada',)\": 1, \"('WFRR',)\": 1, \"('Dogs',)\": 1, \"('IBM',)\": 1, \"('SEC',)\": 1, \"('Stearn',)\": 1, \"('David',)\": 1, \"('Coors',)\": 1, \"('Resistance',)\": 1, \"('Management',)\": 1, \"('Pat',)\": 1, \"('T.',)\": 1, \"('Boca',)\": 1, \"('Rowe',)\": 1, \"('Brady',)\": 1, \"('Automobile',)\": 1, \"('Market',)\": 1, \"('SHAREDATA',)\": 1, \"('J.',)\": 1, \"('Michio',)\": 1, \"('Williams',)\": 1, \"('Rey',)\": 1, \"('Murakami',)\": 1, \"('Albuquerque',)\": 1, \"('Atlantic',)\": 1, \"('Brooke',)\": 1, \"('Japanese',)\": 1, \"('Albert',)\": 1, \"('Syracuse',)\": 1, \"('High',)\": 1, \"('Social',)\": 1, \"('Chrysler',)\": 1, \"('Campaign',)\": 1, \"('S.',)\": 1, \"('Phillip',)\": 1, \"('Orrick',)\": 1, \"('Marine',)\": 1, \"('Los',)\": 1, \"('Mortgage',)\": 1, \"('Homebrew',)\": 1, \"('Funny',)\": 1, \"('University',)\": 1, \"('Westport',)\": 1, \"('CS',)\": 1, \"('Association',)\": 1, \"('In',)\": 1, \"('Brunswick',)\": 1, \"('nonU.S.',)\": 1, \"('Kligman',)\": 1, \"('Boorse',)\": 1, \"('Corrigan',)\": 1, \"('Foot',)\": 1, \"('Manhattan',)\": 1, \"('SALT',)\": 1, \"('School',)\": 1, \"('Merc',)\": 1, \"('MEDICINE',)\": 1, \"('Fax',)\": 1, \"('Jihad',)\": 1, \"('Tom',)\": 1, \"('NCNB',)\": 1, \"('Kuvin',)\": 1, \"('U.S.A.',)\": 1, \"('Heights',)\": 1, \"('Circuit',)\": 1, \"('Antinori',)\": 1, \"('City',)\": 1, \"('Prize',)\": 1, \"('Jr.',)\": 1, \"('Farm',)\": 1, \"('M.',)\": 1, \"('Akio',)\": 1, \"('Aktiebolaget',)\": 1, \"('R',)\": 1, \"('Regulatory',)\": 1, \"('Vice',)\": 1, \"('Wu',)\": 1, \"('Nancy',)\": 1, \"('Landonne',)\": 1, \"('Creek',)\": 1, \"('Keith',)\": 1, \"('Zicklin',)\": 1, \"('Taiwan',)\": 1, \"('Prime',)\": 1, \"('Herbert',)\": 1, \"('Revolution',)\": 1, \"('Thai',)\": 1, \"('Jovanovich',)\": 1, \"('County',)\": 1, \"('S.p',)\": 1, \"('Purepac',)\": 1, \"('Princeton',)\": 1, \"('Gotta',)\": 1, \"('Corp.',)\": 1, \"('Plan',)\": 1, \"('N.J',)\": 1, \"('Bancorp',)\": 1, \"('Ky.',)\": 1, \"('Russel',)\": 1, \"('News',)\": 1, \"('Sony',)\": 1, \"('Regal',)\": 1, \"('Blackstone',)\": 1, \"('Nixon',)\": 1, \"('Massachusetts',)\": 1, \"('Cathedral',)\": 1, \"('Schlemmer',)\": 1, \"('Monday',)\": 1, \"('Rapanelli',)\": 1, \"('Industrial',)\": 1, \"('Borough',)\": 1, \"('International',)\": 1, \"('Mac',)\": 1, \"('Security',)\": 1, \"('Allen',)\": 1, \"('Telegraph',)\": 1, \"('Siegal',)\": 1, \"('Timex',)\": 1, \"('Cancer',)\": 1, \"('Antonio',)\": 1, \"('Relations',)\": 1, \"('Phillips',)\": 1, \"('Class',)\": 1, \"('Elco',)\": 1, \"('Wine',)\": 1, \"('Brenda',)\": 1, \"('SDI',)\": 1, \"('Inventor',)\": 1, \"('Advanced',)\": 1, \"('Sugarman',)\": 1, \"('INTERPUBLIC',)\": 1, \"('Reagan',)\": 1, \"('Braun',)\": 1, \"('DSM',)\": 1, \"('NisshoIwai',)\": 1, \"('Sidak',)\": 1, \"('Knopf',)\": 1, \"('Charter',)\": 1, \"('Breakey',)\": 1, \"('Ms.',)\": 1, \"('Taccetta',)\": 1, \"('Patents',)\": 1, \"('Brigham',)\": 1, \"('Constitution',)\": 1, \"('Kaminski',)\": 1, \"('Dill',)\": 1, \"('Bronx',)\": 1, \"('Us',)\": 1, \"('Jones',)\": 1, \"('Duchossois',)\": 1, \"('Frank',)\": 1, \"('Tiny',)\": 1, \"('Great',)\": 1, \"('Ad',)\": 1, \"('Salvador',)\": 1, \"('Terrence',)\": 1, \"('Zealand',)\": 1, \"('Legg',)\": 1, \"('York',)\": 1, \"('Richmond',)\": 1, \"('Cannell',)\": 1, \"('SinoU.S.',)\": 1, \"('Organization',)\": 1, \"('IranContra',)\": 1, \"('April',)\": 1, \"('Nationwide',)\": 1, \"('Bromwich',)\": 1, \"('Goldman',)\": 1, \"('Grace',)\": 1, \"('Beverly',)\": 1, \"('Leroy',)\": 1, \"('Cru',)\": 1, \"('Fulton',)\": 1, \"('NBC',)\": 1, \"('Audit',)\": 1, \"('PaineWebber',)\": 1, \"('Donoghue',)\": 1, \"('Gottlieb',)\": 1, \"('Donald',)\": 1, \"('Ed',)\": 1, \"('Embassy',)\": 1, \"('G',)\": 1, \"('Marder',)\": 1, \"('Green',)\": 1, \"('Gerald',)\": 1, \"('Interpublic',)\": 1, \"('AD',)\": 1, \"('Kodansha',)\": 1, \"('Strindberg',)\": 1, \"('RBC',)\": 1, \"('Gov.',)\": 1, \"('Jobs',)\": 1, \"('Industries',)\": 1, \"('Virginia',)\": 1, \"('Maryland',)\": 1, \"('Keidanren',)\": 1, \"('Faulding',)\": 1, \"('Gillespie',)\": 1, \"('December',)\": 1, \"('Ichiro',)\": 1, \"('Koizumi',)\": 1, \"('Rabia',)\": 1, \"('Nebraska',)\": 1, \"('Cosmopolitan',)\": 1, \"('Home',)\": 1, \"('Toronto',)\": 1, \"('Gringo',)\": 1, \"('Nev.',)\": 1, \"('Cellars',)\": 1, \"('Miles',)\": 1, \"('Deborah',)\": 1, \"('Germany',)\": 1, \"('Veselich',)\": 1, \"('Bridge',)\": 1, \"('Sprint',)\": 1, \"('Sr.',)\": 1, \"('Ward',)\": 1, \"('Street',)\": 1, \"('Europe',)\": 1, \"('Rankin',)\": 1, \"('Hotel',)\": 1, \"('Chongsik',)\": 1, \"('Technology',)\": 1, \"('Myron',)\": 1, \"('Systems',)\": 1, \"('Disease',)\": 1, \"('Vos',)\": 1, \"('Shores',)\": 1, \"('Sale',)\": 1, \"('SCI',)\": 1, \"('Piero',)\": 1, \"('Rev.',)\": 1, \"('Nature',)\": 1, \"('Kerensky',)\": 1, \"('Greece',)\": 1, \"('Fields',)\": 1, \"('Cask',)\": 1, \"('Bentsen',)\": 1, \"('Entertainment',)\": 1, \"('Service',)\": 1, \"('Kondo',)\": 1, \"('TEXAS',)\": 1, \"('Johnny',)\": 1, \"('Majority',)\": 1, \"('Northern',)\": 1, \"('Chase',)\": 1, \"('Common',)\": 1, \"('Akerfeldt',)\": 1, \"('Kuhns',)\": 1, \"('Sable',)\": 1, \"('Hammond',)\": 1, \"('LafiteRothschild',)\": 1, \"('Tenn.',)\": 1, \"('Dahl',)\": 1, \"('M.D.',)\": 1, \"('Steve',)\": 1, \"('Justice',)\": 1, \"('Reddington',)\": 1, \"('Ringers',)\": 1, \"('WTVJ',)\": 1, \"('Claire',)\": 1, \"('Satrum',)\": 1, \"('Indonesia',)\": 1, \"('Book',)\": 1, \"('Hymowitz',)\": 1, \"('Fed',)\": 1, \"('Oklahoma',)\": 1, \"('Abbot',)\": 1, \"('Driskill',)\": 1, \"('Egypt',)\": 1, \"('Vinken',)\": 1, \"('Vega',)\": 1, \"('Education',)\": 1, \"('Mrs.',)\": 1, \"('Taittinger',)\": 1, \"('Esso',)\": 1, \"('Fund',)\": 1, \"('Yorker',)\": 1, \"('Va.',)\": 1, \"('Barbados',)\": 1, \"('Macheski',)\": 1, \"('Holdings',)\": 1, \"('Evans',)\": 1, \"('FAX',)\": 1, \"('Reames',)\": 1, \"('Orchestra',)\": 1, \"('Acquisition',)\": 1, \"('Nicole',)\": 1, \"('Novello',)\": 1, \"('La.',)\": 1, \"('Byron',)\": 1, \"('Development',)\": 1, \"('Free',)\": 1, \"('Inc.',)\": 1, \"('Impediments',)\": 1, \"('Review',)\": 1, \"('Department',)\": 1, \"('ACCOUNT',)\": 1, \"('Siti',)\": 1, \"('Groucho',)\": 1, \"('Citizen',)\": 1, \"('Xiaoping',)\": 1, \"('Scowcroft',)\": 1, \"('Pitney',)\": 1, \"('Cincinnati',)\": 1, \"('Sayers',)\": 1, \"('Rate',)\": 1, \"('Oak',)\": 1, \"('Law',)\": 1, \"('Arighi',)\": 1, \"('Superdome',)\": 1, \"('Furillo',)\": 1, \"('Farren',)\": 1, \"('Center',)\": 1, \"('Danube',)\": 1, \"('Dobson',)\": 1, \"('Old',)\": 1, \"('Dumpster',)\": 1, \"('Killeen',)\": 1, \"('Cheese',)\": 1, \"('Youths',)\": 1, \"('Dutch',)\": 1, \"('DDB',)\": 1, \"('Mossman',)\": 1, \"('Cooper',)\": 1, \"('Fellowship',)\": 1, \"('Brownell',)\": 1, \"('BiondiSanti',)\": 1, \"('Powers',)\": 1, \"('Midland',)\": 1, \"('Garbage',)\": 1, \"('Rolling',)\": 1, \"('Zaharah',)\": 1, \"('Wohlstetter',)\": 1, \"('Trade',)\": 1, \"('Jennison',)\": 1, \"('St.',)\": 1, \"('Florio',)\": 1, \"('Initiative',)\": 1, \"('Dom',)\": 1, \"('Warner',)\": 1, \"('Democracy',)\": 1, \"('Paribas',)\": 1, \"('Palestinian',)\": 1, \"('Redevelopment',)\": 1, \"('C.',)\": 1, \"('Wa',)\": 1, \"('Charlotte',)\": 1, \"('Seymour',)\": 1, \"('Gerhard',)\": 1, \"('IntegraA',)\": 1, \"('Lezovich',)\": 1, \"('A.D.',)\": 1, \"('A',)\": 1, \"('E.',)\": 1, \"('Daniel',)\": 1, \"('DanaFarber',)\": 1, \"('Andrew',)\": 1, \"('Baris',)\": 1, \"('Dean',)\": 1, \"('Freshbake',)\": 1, \"('Bolivia',)\": 1, \"('Takuma',)\": 1, \"('Madison',)\": 1, \"('Peter',)\": 1, \"('East',)\": 1, \"('Logic',)\": 1, \"('Bonnell',)\": 1, \"('Tramp',)\": 1, \"('Bendectin',)\": 1, \"('Adams',)\": 1, \"('J.L.',)\": 1, \"('Don',)\": 1, \"('Pamplin',)\": 1, \"('Stieglitz',)\": 1, \"('Jamaica',)\": 1, \"('Explorer',)\": 1, \"('Cellar',)\": 1, \"('Angier',)\": 1, \"('Practical',)\": 1, \"('Schwab',)\": 1, \"('OffTrack',)\": 1, \"('La',)\": 1, \"('Sherwin',)\": 1, \"('Mehrens',)\": 1, \"('Sacramento',)\": 1, \"('November',)\": 1, \"('Wilson',)\": 1, \"('Herald',)\": 1, \"('Constitutional',)\": 1, \"('Nagymaros',)\": 1, \"('Rosenblum',)\": 1, \"('Poor',)\": 1, \"('NewsAmerican',)\": 1, \"('Panama',)\": 1, \"('Jeffrey',)\": 1, \"('Collector',)\": 1, \"('Alan',)\": 1, \"('Haven',)\": 1, \"('Homeless',)\": 1, \"('Register',)\": 1, \"('Taizo',)\": 1, \"('Marchand',)\": 1, \"('Henderson',)\": 1, \"('Mortimer',)\": 1, \"('Hoosier',)\": 1, \"('Beach',)\": 1, \"('Buick',)\": 1, \"('Pharaoh',)\": 1, \"('Edwin',)\": 1, \"('Illuminating',)\": 1, \"('Criticism',)\": 1, \"('POP',)\": 1, \"('Jeremy',)\": 1, \"('Jerry',)\": 1, \"('Veraldi',)\": 1, \"('Svenska',)\": 1, \"('Hammacher',)\": 1, \"('Monetary',)\": 1, \"('Brent',)\": 1, \"('Osaka',)\": 1, \"('Negus',)\": 1, \"('War',)\": 1, \"('Mich.',)\": 1, \"('Braidwood',)\": 1, \"('Western',)\": 1, \"('Champagne',)\": 1, \"('Russo',)\": 1, \"('Rick',)\": 1, \"('Cross',)\": 1, \"('Overseas',)\": 1, \"('Insurance',)\": 1, \"('Townes',)\": 1, \"('Goode',)\": 1, \"('Voice',)\": 1, \"('Bodner',)\": 1, \"('Austria',)\": 1, \"('Rubinfien',)\": 1, \"('Photography',)\": 1, \"('US',)\": 1, \"('Spiro',)\": 1, \"('Paul',)\": 1, \"('Show',)\": 1, \"('Series',)\": 1, \"('Economy',)\": 1, \"('Brunei',)\": 1, \"('Secilia',)\": 1, \"('Orville',)\": 1, \"('Raymond',)\": 1, \"('South',)\": 1, \"('Parent',)\": 1, \"('Korea',)\": 1, \"('Operations',)\": 1, \"('NRDC',)\": 1, \"('Palestine',)\": 1, \"('Union',)\": 1, \"('MORTGAGE',)\": 1, \"('Co.',)\": 1, \"('Highway',)\": 1, \"('Stork',)\": 1, \"('Marge',)\": 1, \"('Fishman',)\": 1, \"('Del.',)\": 1, \"('Housing',)\": 1, \"('Boeing',)\": 1, \"('Representative',)\": 1, \"('Spanish',)\": 1, \"('H.N.',)\": 1, \"('Pinocchio',)\": 1, \"('Currently',)\": 1, \"('Doak',)\": 1, \"('HOME',)\": 1, \"('Hans',)\": 1, \"('Utilities',)\": 1, \"('Darrell',)\": 1, \"('Rockford',)\": 1, \"('Julia',)\": 1, \"('Harris',)\": 1, \"('None',)\": 1, \"('Stuart',)\": 1, \"('Brands',)\": 1, \"('Traded',)\": 1, \"('Grand',)\": 1, \"('Monticello',)\": 1, \"('Amin',)\": 1, \"('Taylor',)\": 1, \"('Mexico',)\": 1, \"('Danforth',)\": 1, \"('Campeau',)\": 1, \"('Midvale',)\": 1, \"('Netherlands',)\": 1, \"('TV',)\": 1, \"('God',)\": 1, \"('Oshkosh',)\": 1, \"('HeraldAmerican',)\": 1, \"('Second',)\": 1, \"('Miller',)\": 1, \"('Rally',)\": 1, \"('Huxtable',)\": 1, \"('Osborn',)\": 1, \"('Pretty',)\": 1, \"('Joanne',)\": 1, \"('Iran\\\\/Contra',)\": 1, \"('Alysia',)\": 1, \"('Rice',)\": 1, \"('Price',)\": 1, \"('Birmingham',)\": 1, \"('Italy',)\": 1, \"('Donaldson',)\": 1, \"('Porter',)\": 1, \"('Hampshire',)\": 1, \"('INGERSOLLRAND',)\": 1, \"('N.Y.',)\": 1, \"('Amendment',)\": 1, \"('Protection',)\": 1, \"('Ala',)\": 1, \"('Sweden',)\": 1, \"('Magleby',)\": 1, \"('Federalist',)\": 1, \"('Educational',)\": 1, \"('Treble',)\": 1, \"('Treasury',)\": 1, \"('Pictures',)\": 1, \"('CALL',)\": 1, \"('Senior',)\": 1, \"('Citibank',)\": 1, \"('Partnership',)\": 1, \"('Rae',)\": 1, \"('Sachs',)\": 1, \"('Banks',)\": 1, \"('Seahorse',)\": 1, \"('Prebon',)\": 1, \"('Assurance',)\": 1, \"('Ratners',)\": 1, \"('CoreStates',)\": 1, \"('Stanley',)\": 1, \"('Agnew',)\": 1, \"('Macmillan\\\\/McGrawHill',)\": 1, \"('Pepperidge',)\": 1, \"('Controls',)\": 1, \"('PLC',)\": 1, \"('Wood',)\": 1, \"('Stena',)\": 1, \"('Leinonen',)\": 1, \"('Thrall',)\": 1, \"('Key',)\": 1, \"('EC',)\": 1, \"('N.C.',)\": 1, \"('Foreign',)\": 1, \"('Mikhail',)\": 1, \"('CocheDury',)\": 1, \"('Cheetham',)\": 1, \"('PLO',)\": 1, \"('Baltimore',)\": 1, \"('Grandsire',)\": 1, \"('July',)\": 1, \"('Agency',)\": 1, \"('CORP',)\": 1, \"('PRODUCTS',)\": 1, \"('Hallwood',)\": 1, \"('Shangkun',)\": 1, \"('Melamed',)\": 1, \"('Investor',)\": 1, \"('Marietta',)\": 1, \"('Huppert',)\": 1, \"('Minn.',)\": 1, \"('Wayland',)\": 1, \"('Christmas',)\": 1, \"('Landor',)\": 1, \"('USX',)\": 1, \"('Hatch',)\": 1, \"('Anglia',)\": 1, \"('Polytechnic',)\": 1, \"('Knapp',)\": 1, \"('Dover',)\": 1, \"('Bowl',)\": 1, \"('Cathryn',)\": 1, \"('Canepa',)\": 1, \"('Victor',)\": 1, \"('Backer',)\": 1, \"('Pennview',)\": 1, \"('Wilcox',)\": 1, \"('Industry',)\": 1, \"('Koito',)\": 1, \"('Leming',)\": 1, \"('FTC',)\": 1, \"('Research',)\": 1, \"('Wright',)\": 1, \"('Liberation',)\": 1, \"('Test',)\": 1, \"('Connecticut',)\": 1, \"('Christie',)\": 1, \"('Valhi',)\": 1, \"('Salon',)\": 1, \"('I.',)\": 1, \"('Z.',)\": 1, \"('Zuckerman',)\": 1, \"('Enterprise',)\": 1, \"('Aquino',)\": 1, \"('Impact',)\": 1, \"('Publishers',)\": 1, \"('Betting',)\": 1, \"('DOONESBURY',)\": 1, \"('Blue',)\": 1, \"('Ridgefield',)\": 1, \"('Capitol',)\": 1, \"('Kappa',)\": 1, \"('Hampton',)\": 1, \"('OTC',)\": 1, \"('Hollis',)\": 1, \"('Traverse',)\": 1, \"('Aug.',)\": 1, \"('Philippines',)\": 1, \"('Pate',)\": 1, \"('Wakayama',)\": 1, \"('Piscataway',)\": 1, \"('CupTote',)\": 1, \"('Fang',)\": 1, \"('Buckhead',)\": 1, \"('Jerritts',)\": 1, \"('Randolph',)\": 1, \"('Soups',)\": 1, \"('John',)\": 1, \"('Symphony',)\": 1, \"('Bar',)\": 1, \"('Hayne',)\": 1, \"('HartScottRodino',)\": 1, \"('Czechoslovakia',)\": 1, \"('Visa',)\": 1, \"('Gordon',)\": 1, \"('Telerate',)\": 1, \"('Zayed',)\": 1, \"('Lynch',)\": 1, \"('McGrawHill',)\": 1, \"('CEO',)\": 1, \"('Torrington',)\": 1, \"('Lauderhill',)\": 1, \"('Medical',)\": 1, \"('Francisco',)\": 1, \"('Felten',)\": 1, \"('Berman',)\": 1, \"('Walt',)\": 1, \"('Louis',)\": 1, \"('Luce',)\": 1, \"('Diaper',)\": 1, \"('Huntington',)\": 1, \"('Cotran',)\": 1, \"('Leo',)\": 1, \"('Peck',)\": 1, \"('Acceptance',)\": 1, \"('Economics',)\": 1, \"('IBC',)\": 1, \"('Chinchon',)\": 1, \"('Aurora',)\": 1, \"('Mont',)\": 1, \"('PTA',)\": 1, \"('Albany',)\": 1, \"('Leigh',)\": 1, \"('FEDERAL',)\": 1, \"('Douglas',)\": 1, \"('Kean',)\": 1, \"('Mattress',)\": 1, \"('Women',)\": 1, \"('America',)\": 1, \"('Malcolm',)\": 1, \"('Valrico',)\": 1, \"('Sonny',)\": 1, \"('Tatsunori',)\": 1, \"('Asada',)\": 1, \"('Jenrette',)\": 1, \"('Rothschild',)\": 1, \"('Guigal',)\": 1, \"('Pont',)\": 1, \"('Inc',)\": 1, \"('Mayland',)\": 1, \"('Structural',)\": 1, \"('Leningrad',)\": 1, \"('Publishing',)\": 1, \"('Lucille',)\": 1, \"('Church',)\": 1, \"('Hong',)\": 1, \"('Mary',)\": 1, \"('Carolina',)\": 1, \"('Corporate',)\": 1, \"('Alstyne',)\": 1, \"('Sabhavasu',)\": 1, \"('GOP',)\": 1, \"('American',)\": 1, \"('Chile',)\": 1, \"('K.',)\": 1, \"('Soho',)\": 1, \"('Arnold',)\": 1, \"('Stark',)\": 1, \"('Schaefer',)\": 1, \"('Congress',)\": 1, \"('Suisse',)\": 1, \"('Broadcasting',)\": 1, \"('DyDee',)\": 1, \"('Bradley',)\": 1, \"('Morita',)\": 1, \"('Raleigh',)\": 1, \"('Money',)\": 1, \"('China',)\": 1, \"('Landrieu',)\": 1, \"('LIBOR',)\": 1, \"('W.R.',)\": 1, \"('Alfred',)\": 1, \"('DES',)\": 1, \"('Moody',)\": 1, \"('Chiodo',)\": 1, \"('System',)\": 1, \"('Garry',)\": 1, \"('FreudToy',)\": 1, \"('Des',)\": 1, \"('Jim',)\": 1, \"('Patricia',)\": 1, \"('Tip',)\": 1, \"('Langner',)\": 1, \"('President',)\": 1, \"('Macmillan',)\": 1, \"('Dallara',)\": 1, \"('Nielsen',)\": 1, \"('Cole',)\": 1, \"('State',)\": 1, \"('Chuck',)\": 1, \"('Mitsui',)\": 1, \"('Strait',)\": 1, \"('Coxon',)\": 1, \"('Blancs',)\": 1, \"('Investment',)\": 1, \"('Dingell',)\": 1, \"('Tailors',)\": 1, \"('Biscayne',)\": 1, \"('Mifflin',)\": 1, \"('College',)\": 1, \"('Steel',)\": 1, \"('Arlington',)\": 1, \"('Michael',)\": 1, \"('Marchese',)\": 1, \"('Einhorn',)\": 1, \"('Wis.',)\": 1, \"('Nationale',)\": 1, \"('S.p.A.',)\": 1, \"('Exchange',)\": 1, \"('Connections',)\": 1, \"('N.M.',)\": 1, \"('Mo',)\": 1, \"('Hermitage',)\": 1, \"('Royal',)\": 1, \"('Indianapolis',)\": 1, \"('Optical',)\": 1, \"('Davenport',)\": 1, \"('Whiting',)\": 1, \"('Ind.',)\": 1, \"('Giants',)\": 1, \"('October',)\": 1, \"('Genel',)\": 1, \"('Kearny',)\": 1, \"('McGovern',)\": 1, \"('midOctober',)\": 1, \"('Warsaw',)\": 1, \"('Mutchin',)\": 1, \"('Marina',)\": 1, \"('N.C',)\": 1, \"('Wednesday',)\": 1, \"('Otero',)\": 1, \"('Du',)\": 1, \"('Dole',)\": 1, \"('Seattle',)\": 1, \"('Office',)\": 1, \"('Murray',)\": 1, \"('Noriega',)\": 1, \"('Seniors',)\": 1, \"('Energy',)\": 1, \"('January',)\": 1, \"('C.J.B.',)\": 1, \"('Thailand',)\": 1, \"('Spitler',)\": 1, \"('Traficant',)\": 1, \"('Kirkpatrick',)\": 1, \"('U.S.',)\": 1, \"('Trustco',)\": 1, \"('Detroit',)\": 1, \"('Walbrecher',)\": 1, \"('Neil',)\": 1, \"('Pacific',)\": 1, \"('Tourism',)\": 1, \"('Commission',)\": 1, \"('Plantation',)\": 1, \"('Nemeth',)\": 1, \"('Cosby',)\": 1, \"('Whip',)\": 1, \"('Winiarski',)\": 1, \"('Major',)\": 1, \"('E.C.',)\": 1, \"('Dolan',)\": 1, \"('Latour',)\": 1, \"('Carney',)\": 1, \"('Lumpur',)\": 1, \"('Brooklyn',)\": 1, \"('Clive',)\": 1, \"('Dodge',)\": 1, \"('Moore',)\": 1, \"('Clark',)\": 1, \"('Week',)\": 1, \"('Intecknings',)\": 1, \"('Metropolitan',)\": 1, \"('Contel',)\": 1, \"('Spielvogel',)\": 1, \"('September',)\": 1, \"('Driscoll',)\": 1, \"('Bowes',)\": 1, \"('Norwalk',)\": 1, \"('Calif',)\": 1, \"('Brian',)\": 1, \"('Advice',)\": 1, \"('Mo.',)\": 1, \"('Corn',)\": 1, \"('Scannell',)\": 1, \"('Perignon',)\": 1, \"('Chicago',)\": 1, \"('Maxwell',)\": 1, \"('Sheffield',)\": 1, \"('Cougar',)\": 1, \"('Generalized',)\": 1, \"('Control',)\": 1, \"('Sunday',)\": 1, \"('Purchasing',)\": 1, \"('Random',)\": 1, \"('Enzor',)\": 1, \"('B',)\": 1, \"('Rey\\\\/Fawcett',)\": 1, \"('READY',)\": 1, \"('Raul',)\": 1, \"('Prater',)\": 1, \"('House',)\": 1, \"('Daniels',)\": 1, \"('Herrington',)\": 1, \"('Floyd',)\": 1, \"('Board',)\": 1, \"('Laser',)\": 1, \"('Najarian',)\": 1, \"('Co',)\": 1, \"('D.C.',)\": 1, \"('Artist',)\": 1, \"('Richebourg',)\": 1, \"('Colo.',)\": 1, \"('Lambert',)\": 1, \"('Takeshi',)\": 1, \"('DaiIchi',)\": 1, \"('Internatonal',)\": 1, \"('River',)\": 1, \"('Babcock',)\": 1, \"('Hawaii',)\": 1, \"('Gartner',)\": 1, \"('Pramual',)\": 1, \"('Fremantle',)\": 1, \"('Crane',)\": 1, \"('Hammersmith',)\": 1, \"('Fujitsu',)\": 1, \"('Bowman',)\": 1, \"('Van',)\": 1, \"('Report',)\": 1, \"('Li',)\": 1, \"('El',)\": 1, \"('Hill',)\": 1, \"('McGuigan',)\": 1, \"('Beijing',)\": 1, \"('Milwaukee',)\": 1, \"('Pace',)\": 1, \"('United',)\": 1, \"('Article',)\": 1, \"('Bramalea',)\": 1, \"('Berson',)\": 1, \"('Parliament',)\": 1, \"('Ballantine\\\\/Del',)\": 1, \"('Prof.',)\": 1, \"('Trotter',)\": 1, \"('Scypher',)\": 1, \"('Ailes',)\": 1, \"('Parents',)\": 1, \"('P.',)\": 1, \"('Delwin',)\": 1, \"('Maughan',)\": 1, \"('Poore',)\": 1, \"('Raton',)\": 1, \"('Life',)\": 1, \"('Peninsula',)\": 1, \"('Gold',)\": 1, \"('Harold',)\": 1, \"('Mercury',)\": 1, \"('McMillin',)\": 1, \"('Turkey',)\": 1, \"('Hawke',)\": 1, \"('USA',)\": 1, \"('Preston',)\": 1, \"('Mrs',)\": 1, \"('L.A.',)\": 1, \"('Baim',)\": 1, \"('Barfield',)\": 1, \"('Lancaster',)\": 1, \"('Cluff',)\": 1, \"('Associates',)\": 1, \"('Linda',)\": 1, \"('Pencil',)\": 1, \"('NBI',)\": 1, \"('Yquem',)\": 1, \"('Occupational',)\": 1, \"('Crown',)\": 1, \"('Post',)\": 1, \"('Sulaiman',)\": 1, \"('Government',)\": 1, \"('Criminal',)\": 1, \"('Dinkins',)\": 1, \"('Arafat',)\": 1, \"('Kensington',)\": 1, \"('Barnett',)\": 1, \"('R.I.',)\": 1, \"('Heritage',)\": 1, \"('Scotia',)\": 1, \"('Foods',)\": 1, \"('Senate',)\": 1, \"('Peng',)\": 1, \"('Ltd',)\": 1, \"('Nicholas',)\": 1, \"('Institution',)\": 1, \"('RetinA',)\": 1, \"('Edison',)\": 1, \"('Chemical',)\": 1, \"('Sloan',)\": 1, \"('Club',)\": 1, \"('Park',)\": 1, \"('Ford',)\": 1, \"('Isabelle',)\": 1, \"('Information',)\": 1, \"('Curry',)\": 1, \"('Desai',)\": 1, \"('Sierra',)\": 1, \"('Freud',)\": 1, \"('Lawless',)\": 1, \"('Achievement',)\": 1, \"('Watanabe',)\": 1, \"('Marshall',)\": 1, \"('Pa.',)\": 1, \"('Kent',)\": 1, \"('Souper',)\": 1, \"('Frances',)\": 1, \"('Integra',)\": 1, \"('Larry',)\": 1, \"('Robbie',)\": 1, \"('Simeon',)\": 1, \"('Palisades',)\": 1, \"('Boston',)\": 1, \"('Rita',)\": 1, \"('Jay',)\": 1, \"('Roger',)\": 1, \"('Daiwa',)\": 1, \"('LYNCH',)\": 1, \"('Fernando',)\": 1, \"('White',)\": 1, \"('Coleman',)\": 1, \"('Antitrust',)\": 1, \"('Mehta',)\": 1, \"('Jalaalwalikraam',)\": 1, \"('TREASURY',)\": 1, \"('Shelby',)\": 1, \"('Carballo',)\": 1, \"('Nobel',)\": 1, \"('West',)\": 1, \"('Private',)\": 1, \"('ABA',)\": 1, \"('Barth',)\": 1, \"('Samnick',)\": 1, \"('Tribune',)\": 1, \"('Needham',)\": 1, \"('British',)\": 1, \"('Stewart',)\": 1, \"('Aloha',)\": 1, \"('Fairless',)\": 1, \"('U.K.',)\": 1, \"('Troubled',)\": 1, \"('Stock',)\": 1, \"('Borge',)\": 1, \"('USIA',)\": 1, \"('Yasser',)\": 1, \"('Photograph',)\": 1, \"('II',)\": 1, \"('Blanchard',)\": 1, \"('Savings',)\": 1, \"('Upham',)\": 1, \"('Midwestern',)\": 1, \"('Groton',)\": 1, \"('Caribbean',)\": 1, \"('Newspapers',)\": 1, \"('Ana',)\": 1, \"('Columbus',)\": 1, \"('Brace',)\": 1, \"('Pty.',)\": 1, \"('Morrell',)\": 1, \"('France',)\": 1, \"('Elsevier',)\": 1, \"('ExpressBuick',)\": 1, \"('INS',)\": 1, \"('Radio',)\": 1, \"('Mayor',)\": 1, \"('Northampton',)\": 1, \"('Seoul',)\": 1, \"('Philadelphia',)\": 1, \"('Parkinson',)\": 1, \"('Teddy',)\": 1, \"('Huntsville',)\": 1, \"('Klein',)\": 1, \"('Johns',)\": 1, \"('Ministry',)\": 1, \"('Nestor',)\": 1, \"('R.',)\": 1, \"('CortonCharlemagne',)\": 1, \"('Harvard',)\": 1, \"('Population',)\": 1, \"('Bolduc',)\": 1, \"('Schmidt',)\": 1, \"('Calder',)\": 1, \"('Olsen',)\": 1, \"('Smith',)\": 1, \"('Village',)\": 1, \"('Westborough',)\": 1, \"('Grant',)\": 1, \"('Family',)\": 1, \"('Takashima',)\": 1, \"('Gorman',)\": 1, \"('Napa',)\": 1, \"('Roederer',)\": 1, \"('Pasadena',)\": 1, \"('Spillane',)\": 1, \"('Warren',)\": 1, \"('Sigmund',)\": 1, \"('Lloyd',)\": 1, \"('Derel',)\": 1, \"('AntiDeficiency',)\": 1, \"('Credit',)\": 1, \"('Alvin',)\": 1, \"('Underwood',)\": 1, \"('Sutcliffe',)\": 1, \"('Thunderbird',)\": 1, \"('Asia',)\": 1, \"('Ranieri',)\": 1, \"('Spence',)\": 1, \"('Medicine',)\": 1, \"('CDC',)\": 1, \"('Sotheby',)\": 1, \"('August',)\": 1, \"('Bankers',)\": 1, \"('Income',)\": 1, \"('Rust',)\": 1, \"('Island',)\": 1, \"('Wamre',)\": 1, \"('Caldor',)\": 1, \"('OldHouse',)\": 1, \"('Young',)\": 1, \"('Kingdom',)\": 1, \"('Muscolina',)\": 1, \"('Nesconset',)\": 1, \"('Britain',)\": 1, \"('HouseSenate',)\": 1, \"('Affairs',)\": 1, \"('Huber',)\": 1, \"('F.W.',)\": 1, \"('Section',)\": 1, \"('Monitor',)\": 1, \"('Sullivan',)\": 1, \"('SAT',)\": 1, \"('Clemens',)\": 1, \"('Inouye',)\": 1, \"('Pardus',)\": 1, \"('Persky',)\": 1, \"('Capital',)\": 1, \"('Merrick',)\": 1, \"('Arizona',)\": 1, \"('Scherer',)\": 1, \"('Lowe',)\": 1, \"('Las',)\": 1, \"('Organizations',)\": 1, \"('Television',)\": 1, \"('McCormick',)\": 1, \"('Gardner',)\": 1, \"('Joseph',)\": 1, \"('N.V.',)\": 1, \"('Venture',)\": 1, \"('Atlanta',)\": 1, \"('Brown',)\": 1, \"('Comtes',)\": 1, \"('Bates',)\": 1, \"('Honolulu',)\": 1, \"('Napolitan',)\": 1, \"('Harcourt',)\": 1, \"('Tray',)\": 1, \"('Jr',)\": 1, \"('Gross',)\": 1, \"('Markey',)\": 1, \"('Sandifer',)\": 1, \"('Eugene',)\": 1, \"('Pittsburgh',)\": 1, \"('Tube',)\": 1, \"('Danville',)\": 1, \"('Smaby',)\": 1, \"('Sixth',)\": 1, \"('Bunny',)\": 1, \"('Marvin',)\": 1, \"('S.I.',)\": 1, \"('Bellows',)\": 1, \"('Rexinger',)\": 1, \"('R.P.',)\": 1, \"('Combo',)\": 1, \"('Candlestick',)\": 1, \"('Stephanie',)\": 1, \"('Bernstein',)\": 1, \"('Portugal',)\": 1, \"('Fulbright',)\": 1, \"('Enright',)\": 1, \"('Argentina',)\": 1, \"('Public',)\": 1, \"('Stamford',)\": 1, \"('Wheeland',)\": 1, \"('Professional',)\": 1, \"('May',)\": 1, \"('N.',)\": 1, \"('Tarwhine',)\": 1, \"('Vose',)\": 1, \"('Committee',)\": 1, \"('Clara',)\": 1, \"('Nekoosa',)\": 1, \"('Orlando',)\": 1, \"('Commonwealth',)\": 1, \"('Domaine',)\": 1, \"('Deng',)\": 1, \"('Texas',)\": 1, \"('Providence',)\": 1, \"('Stag',)\": 1, \"('B.',)\": 1, \"('Division',)\": 1, \"('Ancient',)\": 1, \"('Big',)\": 1, \"('Hubbard',)\": 1, \"('Japan',)\": 1, \"('Mahoney',)\": 1, \"('Rhone',)\": 1, \"('Ian',)\": 1, \"('LSI',)\": 1, \"('Eggers',)\": 1, \"('Care',)\": 1, \"('Dick',)\": 1, \"('Schweiz',)\": 1, \"('GMAC',)\": 1, \"('Ann',)\": 1, \"('Mulford',)\": 1, \"('ACQUISITION',)\": 1, \"('the',)\": 1, \"('Mr.',)\": 1, \"('Rockwell',)\": 1, \"('Greer',)\": 1, \"('Taipei',)\": 1, \"('Ariz.',)\": 1, \"('MONEY',)\": 1, \"('DeFazio',)\": 1, \"('Skokie',)\": 1, \"('Greenwich',)\": 1, \"('Houston',)\": 1, \"('Georgetown',)\": 1, \"('Longwood',)\": 1, \"('Coconut',)\": 1, \"('Norman',)\": 1, \"('Jacob',)\": 1, \"('Morgan',)\": 1, \"('Graduate',)\": 1, \"('Bon',)\": 1, \"('Lee',)\": 1, \"('Vichy',)\": 1, \"('Wilbur',)\": 1, \"('Gayle',)\": 1, \"('Calif.',)\": 1, \"('Mather',)\": 1, \"('PhacoFlex',)\": 1, \"('Harper',)\": 1, \"('Yang',)\": 1, \"('Iowa',)\": 1, \"('Heatherington',)\": 1, \"('Mass',)\": 1, \"('WTD',)\": 1, \"('Communications',)\": 1, \"('Ensrud',)\": 1, \"('Fla.',)\": 1, \"('Joni',)\": 1, \"('III',)\": 1, \"('Telephone',)\": 1, \"('Convention',)\": 1, \"('MacDonald',)\": 1, \"('Boesel',)\": 1, \"('Community',)\": 1, \"('Norwegian',)\": 1, \"('Default',)\": 1, \"('Lazzaroni',)\": 1, \"('Jenkins',)\": 1, \"('Vicar',)\": 1, \"('Federation',)\": 1, \"('Glauber',)\": 1, \"('Fuentes',)\": 1, \"('Baker',)\": 1, \"('Deere',)\": 1, \"('O'Connor',)\": 1, \"('Squier',)\": 1, \"('Springs',)\": 1, \"('Hurley',)\": 1, \"('Account',)\": 1, \"('W.D.',)\": 1, \"('Karl',)\": 1, \"('Orange',)\": 1, \"('Talcott',)\": 1, \"('San',)\": 1, \"('February',)\": 1, \"('Cristal',)\": 1, \"('Colorado',)\": 1, \"('Grgich',)\": 1, \"('IMSAI',)\": 1, \"('Clinton',)\": 1, \"('Lighthouse',)\": 1, \"('Mona',)\": 1, \"('Milne',)\": 1, \"('Alzheimer',)\": 1, \"('Avrett',)\": 1, \"('ASLACTON',)\": 1, \"('Solihull',)\": 1, \"('Rubicam',)\": 1, \"('Phelan',)\": 1, \"('MarieLouise',)\": 1, \"('Strother',)\": 1, \"('FTSE',)\": 1, \"('Allergan',)\": 1, \"('Improvement',)\": 1, \"('Walkman',)\": 1, \"('Gregory',)\": 1, \"('North',)\": 1, \"('Kathryn',)\": 1, \"('Elmhurst',)\": 1, \"('Vargas',)\": 1, \"('Sterling',)\": 1, \"('Gulf',)\": 1, \"('Droz',)\": 1, \"('Andrea',)\": 1, \"('Leighton',)\": 1, \"('Al',)\": 1, \"('Laura',)\": 1, \"('GHS',)\": 1, \"('Bowery',)\": 1, \"('Goodman',)\": 1, \"('Lake',)\": 1, \"('Mining',)\": 1, \"('Cambridge',)\": 1, \"('OSHA',)\": 1, \"('Chafic',)\": 1, \"('Sir',)\": 1, \"('Cote',)\": 1, \"('Jacksonville',)\": 1, \"('Transportation',)\": 1, \"('Drobnick',)\": 1, \"('Lt.',)\": 1, \"('Louisville',)\": 1, \"('Malaysia',)\": 1, \"('June',)\": 1, \"('Machines',)\": 1, \"('Petrus',)\": 1, \"('Shapiro',)\": 1, \"('Judicial',)\": 1, \"('Sun',)\": 1, \"('Neal',)\": 1, \"('Barnum',)\": 1, \"('Waste',)\": 1, \"('Miami',)\": 1, \"('DISCOUNT',)\": 1, \"('X',)\": 1, \"('Vanderbilt',)\": 1, \"('Lights',)\": 1, \"('Circulation',)\": 1, \"('Navy',)\": 1, \"('Fountain',)\": 1, \"('Motor',)\": 1, \"('Perritt',)\": 1, \"('Assistant',)\": 1, \"('Financial',)\": 1, \"('Genie',)\": 1, \"('Mercer',)\": 1, \"('Air',)\": 1, \"('Marion',)\": 1, \"('Hollingsworth',)\": 1, \"('Ark',)\": 1, \"('Cedric',)\": 1, \"('L.',)\": 1, \"('Camille',)\": 1, \"('Burnham',)\": 1, \"('Dominion',)\": 1, \"('Sandra',)\": 1, \"('LTV',)\": 1, \"('Cigna',)\": 1, \"('Apple',)\": 1, \"('Premier',)\": 1, \"('Norwick',)\": 1, \"('Bugs',)\": 1, \"('Citicorp',)\": 1, \"('Caters',)\": 1, \"('Earlham',)\": 1, \"('Ames',)\": 1, \"('NESB',)\": 1, \"('Bank',)\": 1, \"('Moleculon',)\": 1, \"('Shearson',)\": 1, \"('Story',)\": 1, \"('R.D.',)\": 1, \"('NL',)\": 1, \"('Examiner',)\": 1, \"('Wadsworth',)\": 1, \"('General',)\": 1, \"('Yale',)\": 1, '<unk>': 1.0} \n",
      "\n",
      "[VP] {'([VBD], [NP], [,], [PPTMP])': 1, '([VBN], [NP], [PPLOC], [PP])': 2, '([VBD], [PRT], [NP])': 1, '([VBG], [PPCLR], [,], [SBARPRP])': 1, '([VBP], [SBAR], [,], [SBARADV])': 1, '([VBN], [ADVPMNR], [PPCLR])': 1, '([VB], [ADJPPRD], [ADVP])': 1, '([VBD], [PP], [NP])': 1, '([VBZ], [NPPRD], [SBAR])': 2, '([VBG], [ADVP], [PPDIR])': 1, '([VBZ], [NP], [NPTMP])': 1, '([VBG], [PPCLR], [SBARTMP])': 1, '([VBN], [NPEXT])': 1, '([VBD], [PRT], [PPLOC])': 1, '([VB], [NP], [PPLOC])': 1, '([VBN], [ADJPPRD])': 1, '([ADVPMNR], [VBD], [NP], [PPCLR])': 1, '([VP], [CC], [VP], [PPTMP])': 1, '([VBZ], [ADVP], [ADJPPRD], [S])': 1, '([VBN], [PPLOCPRD], [NPTMP], [SADV])': 1, '([VBG], [NP], [PPCLR])': 4, '([VBP], [NPTMP], [PPDIR], [PP])': 1, '([VBG], [NP], [ADVPDIR])': 1, '([VBP], [ADVPTMP], [PPPRDLOC])': 1, '([VBP], [RB], [NPPRD])': 1, '([VBP], [PPPRD])': 1, '([VBZ], [PPMNR])': 1, '([VBZ], [NP], [,], [SBARADV])': 1, '([VBN], [NP], [SPRP])': 1, '([VBD], [PPLOCPRD])': 1, '([VBD], [NP], [NP])': 1, '([VBP], [ADVPTMP], [SPRP])': 1, '([VBP],)': 1, '([VB], [ADVP], [PPLOC])': 1, '([VBP], [ADVPMNR], [PPLOC])': 1, '([VB], [NP], [S])': 3, '([VBP], [NP], [PPLOC])': 1, '([VBP], [NPPRD], [,], [SBARADV])': 1, '([VP], [CC], [VP], [VP])': 1, '([VBG], [NP], [PPTMP], [PPMNR])': 1, '([VB], [UCPPRD])': 1, '([VBZ], [NP], [PPDIR])': 1, '([VBD], [RB], [VP])': 1, '([VBZ], [ADVPTMP])': 1, '([VBN], [PPLOCCLR], [ADVP])': 1, '([VBZ], [NP], [SBARADV])': 1, '([VB], [NP], [PPEXT], [SPRP])': 1, '([VBG], [PPCLR], [ADVPTMP])': 1, '([VB], [PRN], [PPCLR])': 1, '([VBN], [PP], [PPTMP])': 1, '([VP], [CC], [VP], [PPLOC])': 1, '([VBG], [NP], [PRN], [PPCLR])': 1, '([ADVPMNR], [VBN], [NP], [PPCLR])': 1, '([VBP], [ADVP], [ADJPPRD])': 1, '([VBN], [PPDIR], [SPRP])': 1, '([VBN], [PRT], [PP], [PPTMP])': 1, '([NN], [PPDIR])': 1, '([VB], [PPCLR], [PPLOC])': 1, '([VBN], [NP], [PPDIR])': 1, '([VBP], [UCPPRD])': 1, '([VB], [NP], [PPCLR])': 4, '([ADVP], [VBG], [NP], [PPDIR])': 1, '([VBD], [NP], [,], [PPLOC])': 1, '([VBZ], [ADJPPRD], [PP], [ADVPTMP])': 1, '([VBZ], [PPCLR])': 1, '([VB], [NP], [,], [SADV])': 1, '([VBN], [PPCLR], [PPBNF])': 1, '([VBN], [NPTMP])': 1, '([VB], [NPPRD], [PP])': 1, '([VBP], [NP], [PP])': 2, '([VBD], [NP], [PPTMP])': 2, '([VB], [PRT], [NP], [ADVPTMP])': 1, '([VBD], [S], [SBARTMP])': 1, '([VP], [NP])': 1, '([VBN], [S], [SBARADV])': 1, '([VBD], [S], [PP], [SBARTMP])': 1, '([VBG], [ADJP], [SBARPRP])': 1, '([VB], [PPCLR], [:], [SBARADV])': 1, '([VB], [``], [NPPRD])': 1, '([VBZ], [``], [ADVPTMP], [NPPRD])': 1, '([VB], [NP], [PPCLR], [PP])': 1, '([VB], [S])': 1, '([VBD], [NP], [PPLOC], [PPTMP])': 1, '([VB], [NP], [PPPRP], [PPTMP])': 1, '([VBD], [NP], [PRT], [PPDIR])': 1, '([VBN], [NPPRD], [PPTMP])': 1, '([VBG], [ADVPDIR])': 1, '([VBG], [NP], [PRT])': 1, '([VBN], [NP], [PPCLR])': 4, '([VB], [PPTMP], [,], [NP])': 1, '([ADVPMNR], [VBD], [PRT], [NP])': 1, '([TO], [NP])': 1, '([VBN], [NP], [PPLOCCLR])': 1, '([VB], [NP], [PRN])': 1, '([VB], [ADVP], [ADVP])': 1, '([VBZ], [ADVP], [PPCLR])': 1, '([VBG], [NP], [SCLR])': 2, '([VBP], [NP], [ADVPTMP])': 1, \"([VBD], [''], [NP])\": 1, '([VBZ], [NP], [NP], [SBARPRP])': 1, '([VBN], [S])': 1, '([NONE], [ADVPTMP])': 1, '([VBZ], [ADJPPRD], [SBAR])': 3, '([VB], [NP], [SBARADV])': 1, '([VBD], [NP], [NPTMP], [PPLOC])': 1, '([VBP], [NPPRD], [,], [SADV])': 1, '([VBN], [NP], [PPMNR], [PPLOC])': 1, '([VBN], [PP], [SBARTMP])': 1, '([VB], [ADVP], [PPTMP])': 1, '([VB], [NP], [PPLOC], [SBARTMP])': 1, '([VBD], [PPMNR], [,], [SBARADV])': 1, '([MD], [ADVP], [ADVP], [VP])': 1, '([VBP], [NP], [SBAR])': 1, '([VBN], [NP], [PPLOCCLR], [PPLOC])': 1, '([VBD], [ADVPMNR], [VP])': 1, '([NONE], [PPLOC])': 1, '([VBN], [NP], [PP], [PP])': 1, '([VB], [PRT], [NP], [PPTMP])': 1, '([VB], [NP], [ADVPCLR], [ADVPTMP])': 1, '([VB], [NP], [PP])': 4, '([VBD], [ADVPPRD], [NPTMP])': 1, '([ADVPTMP], [VBP], [NP])': 1, '([VBD], [CC], [VBD], [NP])': 1, '([VB], [NP], [PPCLR], [PPCLR])': 1, '([VBN], [NP], [PPLOC], [PPTMP])': 1, '([VBN], [PPLOC])': 1, '([VBD], [NPEXT], [ADVPTMP])': 1, '([ADVPMNR], [VBG], [NP], [PPCLR])': 1, '([VB], [PPLOC])': 1, '([VBD], [RB], [ADJPPRD])': 1, '([VBN], [SBARADV])': 1, '([ADVP], [VBD], [S])': 1, '([VBD], [PPEXT], [PPTMP], [PPDIR])': 1, '([VBZ], [RB], [ADJPPRD])': 1, '([VBG], [NP], [PPDTV])': 1, '([VBN], [NP], [PPLOC], [SBAR])': 1, '([VBP], [NP], [PPMNR])': 1, '([VBN], [S], [,], [SADV])': 1, '([VP], [,], [ADVP], [VP])': 1, '([VBP], [NP], [NPTMP])': 1, '([VBZ], [NPPRD], [PPTMP])': 1, \"([VBP], [``], [NPTTL], [''])\": 1, '([VBZ], [``], [SBAR])': 1, '([VB], [ADVP], [ADJPPRD], [PP])': 1, '([VBN], [S], [PPLOC])': 1, '([VBZ], [PPLOC])': 1, '([VB], [NP], [,], [SBARADV])': 1, '([VBG], [NP], [NP])': 1, '([VBZ], [ADJPPRD])': 1, '([VBN], [NP], [SBARPRP])': 1, '([VB], [NP], [SPRP])': 1, '([VBG], [NP], [PP], [PPMNR])': 1, '([VBN], [NP], [PP])': 4, '([VBN], [NP], [PPPUT])': 1, '([VBN], [S], [SBARTMP])': 1, '([VB], [NP], [PPCLR], [SADV])': 1, '([VBD], [NP], [,], [SBARTMP])': 1, '([VBP], [PPLOCCLR])': 1, '([ADVPTMP], [VBZ], [PPCLR])': 1, '([VBN], [NP], [ADVPTMP])': 1, '([VBG], [PPCLR], [SBAR])': 1, '([VBD], [PRT], [NP], [PPPRP])': 1, '([VBZ], [PRT], [PPCLR])': 1, '([VBG], [NP], [S])': 3, '([ADVP], [VBN], [PPTMP])': 1, '([VBN], [NP], [PPLOCCLR], [SBARTMP])': 1, '([VB], [NP], [SMNR], [PPTMP])': 1, '([VBD], [PPDIR], [PPTMP], [S])': 1, '([VBD], [NP], [PRT], [PP])': 1, '([VBD], [PPLOCPRD], [NPTMP], [SPRP])': 1, '([VBD], [PRT], [SBAR])': 1, '([VBG], [NP], [PPDIR], [PPDIR])': 1, '([VBZ], [ADVP], [VP])': 1, '([ADVPTMP], [VBZ], [NP], [PPLOC])': 1, '([VBD], [PPDIR], [PPTMP], [ADVPTMP])': 1, '([ADVPMNR], [VBZ], [S])': 1, '([VB], [PPMNR])': 1, '([VBD], [PPDIR], [SBARPRP])': 1, '([VBZ], [NPADV], [ADJPPRD])': 1, '([VB], [ADVPLOC], [SBARNOM])': 1, '([VBZ], [ADVPCLR])': 1, '([NONE], [ADVPPRD])': 1, '([VBP], [ADJPPRD], [PP])': 1, '([VBZ], [ADJP])': 1, '([VB], [PPDIR], [PPTMP])': 1, '([VBG], [PPDIR], [NPADV])': 1, '([VBN], [PPMNR])': 2, '([VBD], [NP], [NPADV])': 1, '([VBZ], [NP], [PPLOC])': 1, '([VBD], [ADVPPRD])': 1, '([VBZ], [ADVPMNR], [PPCLR])': 1, '([VBD], [NP], [PPDIR], [NPTMP])': 1, '([VBP], [ADVPMNR], [VP])': 1, '([VBD], [ADVPTMP])': 1, '([VBN], [PRT], [SBARPRP])': 1, '([VBG], [NP])': 2, '([VBZ], [NP], [SBARTMP])': 1, '([TO], [ADVPLOC], [VP])': 1, '([VBZ], [PP])': 2, '([VBD], [NPPRD], [PPTMP])': 1, '([VBD], [PPTMP], [PPTMP])': 1, '([VBG], [PPLOCCLR], [PPLOC])': 1, '([VBD], [PPLOCPRD], [SADV])': 1, '([VBN], [PP])': 1, '([VBG], [NP], [,], [PPDTV])': 1, '([VBN], [NP], [PPCLR], [ADVPTMP])': 1, '([NONE], [NP], [PPLOC])': 1, '([VB], [PPLOC], [NPTMP])': 1, '([VBN], [ADVP], [VP])': 1, '([VBP], [PPPRD], [,], [SADV])': 1, '([VBN], [NP], [S])': 6, '([VBN], [ADVPMNR])': 1, '([ADVPMNR], [VBD], [NP])': 1, '([VB], [PPDIR], [,], [PP])': 1, '([VBP], [SBARTMP])': 1, '([VBN], [NP], [PP], [PRN])': 1, '([VBP], [PPPRD], [ADVPTMP])': 1, '([VBZ], [ADJPPRD], [NPTMP])': 1, '([VBG], [NP], [ADVPMNR])': 1, '([VB], [NP], [ADVP|PRT], [PPPUT])': 1, '([VBN], [PPCLR], [SCLR])': 1, '([NN], [NP], [PP])': 1, '([VBD], [NPCLR])': 1, '([VB], [PRN], [NPPRD])': 1, '([VBN], [NP], [PPCLR], [PPLOC])': 1, '([ADVPMNR], [VBG])': 1, '([VBZ], [PPPRD], [SBAR])': 1, '([VBD], [NP], [PPPUT])': 1, '([VBG], [PPPRP])': 1, '([VBZ],)': 1, '([VB], [NP], [PPLOCCLR])': 1, '([VBD], [PPDIR], [PPDIR])': 1, '([VBZ], [ADJPPRD], [PPPRP])': 1, '([VP], [,], [NP])': 1, '([VBZ], [NP], [SCLR])': 1, '([VBN], [PPDIR], [SADV])': 1, '([VBG], [NPEXT], [NPTMP])': 1, '([VBN], [PRT], [,], [ADVPTMP])': 1, '([VBP], [ADVP], [PPPRD])': 1, '([VB], [ADVPMNR])': 1, '([VB], [PPLOC], [PPTMP])': 1, '([VBD], [SBAR], [,], [SBARADV])': 1, '([VBN], [ADVPMNR], [SBARTMP])': 1, '([VB], [,], [SADV])': 1, '([VB], [ADJPPRD], [SBARADV])': 1, '([VBN], [PPLOCCLR], [,], [ADVP])': 1, '([VBZ], [NP], [NP], [SBARADV])': 1, '([VB], [ADVP], [VP])': 1, '([VBZ], [NP], [SBARNOM], [ADVPMNR])': 1, '([VBG], [NP], [SBARCLR])': 1, '([NN], [PRT], [NP])': 1, '([VBN], [S], [PPTMP])': 1, '([VBG], [PP])': 3, '([VBD], [PPDIR], [PPPRP])': 1, '([VBP], [PPLOC], [PPTMP])': 1, '([VBN], [NP], [SCLR])': 4, '([VB], [PRT], [NP], [ADVP])': 1, '([VBN], [NP], [SBARADV])': 1, '([NN], [NP])': 1, '([VBZ], [NP], [,], [PP])': 1, '([VBD], [RB], [NP])': 1, '([VBN], [NP], [PPTMP], [PPLOC])': 1, '([NONE], [PPTMP])': 1, '([JJ], [NP])': 1, '([VBP], [PPPRDLOC])': 1, '([VBZ], [PRT], [PPLOC])': 1, '([VBZ], [NPPRD], [,], [PP])': 1, '([VB], [NP], [ADVPTMP], [PPDIR])': 1, '([VBD], [ADVPCLR], [PPTMP])': 1, '([VB], [ADVPDIR], [SADV], [ADVPLOC])': 1, '([VBD], [VP])': 1, '([VBP], [NP], [S])': 2, '([VBG], [NP], [:], [SADV])': 1, '([VB], [NP], [PPTMP], [SBARTMP])': 1, '([VBD], [ADVP], [PP])': 1, '([VBZ], [ADJPPRD], [S])': 2, '([VB], [NPTMP], [SBARADV])': 1, '([VBZ], [PPLOC], [NP])': 1, '([VBN], [S], [PPPRP])': 1, '([VBZ], [:], [NP])': 1, '([VBG], [NP], [SBARTMP])': 1, '([VBD], [NP], [PPLOC], [NPTMP])': 1, '([VB], [SBAR], [PPLOC])': 1, '([VB], [SBARPRD])': 1, '([VB], [NP], [,], [PP])': 1, '([VBZ], [NP], [PPCLR])': 2, '([VBD], [PPMNR])': 1, '([VBP], [ADVPDIR], [,], [SADV])': 1, '([VBD], [PRT], [NP], [PPTMP])': 1, '([VB], [NP], [PPCLR], [ADVPLOC])': 1, '([VBZ], [PRN], [NP])': 1, '([VBN], [NP], [PPLOC])': 2, '([VBD], [SBAR])': 1, '([VB], [UCPMNR])': 1, '([VB], [PPDIRCLR], [SBARPRP])': 1, '([VBZ], [ADJPPRD], [SBARADV])': 1, '([VB], [NP], [PPTMP], [PPCLR])': 1, '([VB], [ADVPPRD])': 1, '([VBP], [NP], [ADVPMNR], [ADVPMNR])': 1, '([VBN], [SBARNOM])': 1, '([VB], [SBARNOM], [ADVPMNR])': 1, '([VB], [PRT], [PPLOCCLR])': 1, '([VB], [PP], [ADVPTMP])': 1, '([VBZ], [NP], [PP], [PPCLR])': 1, '([VBN], [NP], [PPTMP], [PPDTV])': 1, '([VBN], [NP], [ADVPMNR])': 1, '([VBZ], [ADVP], [ADJPPRD], [SBAR])': 2, '([JJ], [,], [SBARADV])': 1, '([VBZ], [PRT], [SBAR])': 1, '([VBD], [NP], [NPTMP], [ADVPTMP])': 1, '([VBD], [NP], [PPTMP], [VP])': 1, '([VBZ], [ADVP], [NPPRD], [PPLOC])': 1, '([VBP], [NP], [SBARPRP])': 1, '([VP], [,], [NPADV])': 1, '([VBN], [PRT], [ADVPLOC])': 1, '([VBD], [RB], [NPPRD])': 1, '([VBD], [NPEXT], [PPDIR], [PPLOC])': 1, '([VBZ], [SQ])': 1, '([VBN], [NP], [PPLOC], [NPTMP])': 1, '([VBZ], [S], [SBARADV])': 1, '([VBN], [NP], [PRT], [PPLOC])': 1, '([VB], [PP])': 1, '([VB], [ADVPDIR], [PPDIR])': 1, '([VBD], [SBAR], [,], [PP])': 1, '([VBD], [ADJPPRD], [PP])': 1, '([VBN], [NP], [NPTMP], [ADVPTMP])': 1, '([VBD], [ADVP], [PPTMP], [SPRP])': 1, '([VBN], [NP], [PPCLR], [PPCLR])': 1, '([VBD], [NPPRD], [ADVPMNR])': 1, '([VBN], [NP], [SBARCLR])': 2, '([VBD], [S])': 1, '([NN], [NPPRD])': 1, '([VBN], [NP], [ADVPTMP], [NPTMP])': 1, '([VP], [CC], [PRN], [VP])': 1, '([VBD], [NPEXT], [,], [SADV])': 1, '([VBG], [NP], [NPTMP], [PP])': 1, '([VBP], [NPPRD], [ADVPTMP])': 1, '([VBD], [PPTMP], [ADVPTMP])': 1, '([ADVPMNR], [VB], [NP])': 1, '([VBZ], [PRT], [PP])': 1, \"([VBG], [NP], [''], [PPCLR])\": 1, '([VBZ], [NP], [NP], [PPMNR])': 1, '([VBD], [PPDIRCLR])': 1, '([VBD], [NPPRD], [,], [SADV])': 1, '([VBD], [NPTMPCLR])': 1, '([VBD], [NPCLR], [PPLOCCLR], [ADVPTMP])': 1, '([VBD], [NP], [ADVPDIR], [ADVPTMP])': 1, '([VBP], [NP], [,], [SADV])': 1, '([VB], [PP], [ADVP])': 1, '([JJ], [PPCLR])': 1, '([VBN], [NP], [NPTMP], [PPLOC])': 1, '([VBZ], [S], [PPLOC])': 1, '([ADVPTMP], [VBN], [NP], [PPLGS])': 1, '([VB], [UCPLOCCLR])': 1, '([VB], [NP], [PPTMP], [SBARADV])': 1, '([VBG], [NP], [ADVPMNR], [SBARTMP])': 1, '([VBG], [PPLOC], [SPRP])': 1, '([VBG], [PPDIR])': 1, '([VBD], [PPCLR], [ADVPTMP])': 1, '([VBD], [ADVP])': 1, '([VBD], [NP], [PPLOC])': 1, '([VBG], [ADVPLOC])': 1, '([VBZ], [NP], [:], [SADV])': 1, '([VBN], [NP], [PPTMP], [ADVPTMP])': 1, '([VBZ], [SPRD])': 1, '([VB], [PPCLR], [PP])': 1, '([VBG], [PPTMP], [SBARTMP])': 1, '([VBG], [ADJPPRD], [:], [SADV])': 1, '([VBD], [ADVPLOC], [VP])': 1, '([ADVPMNR], [VBN], [PPCLR])': 1, '([VBN], [PPPRP], [S])': 1, '([VBZ], [SBARNOMPRD])': 1, '([IN], [NP])': 1, '([VBZ], [ADVPTMP], [VP])': 1, '([VBP], [``], [ADJPPRD])': 1, '([VBN], [NP], [PPCLR], [PPTMP])': 3, '([VBG], [ADVPMNR], [VP])': 1, '([VBN], [PPTMP])': 1, '([VBD], [NP], [S])': 3, '([VB], [NPSBJ], [PPLOCCLR])': 1, '([VBP], [NPTMPCLR])': 1, '([VBP], [PP], [PPCLR])': 1, '([VBP], [ADVPTMP], [NPPRD], [SBARPRP])': 1, '([PRN], [VBZ], [VP])': 1, '([VBG], [NP], [PPCLR], [SPRP])': 1, '([VBZ], [ADVPLOCCLR])': 1, '([ADVP], [VBN], [PPCLR])': 1, '([VB], [ADVPMNR], [PPCLR])': 1, '([VBP], [RB], [NP])': 1, '([VBD], [ADVPPRD], [PPTMP])': 1, '([VBP], [ADVPCLR])': 1, '([VBN], [NPCLR], [SCLR])': 1, '([VBG], [NP], [PPCLR], [S])': 1, '([POS], [ADJPPRD])': 1, '([VBP], [NPPRD])': 1, '([VB], [SBARTMP])': 1, '([VBP], [NPTMP])': 1, '([VBZ], [NP], [SBARPRP])': 1, '([VBZ], [NP], [NPADV])': 1, '([VBN], [ADVPTMP])': 1, '([VBP], [NP], [,], [ADVP])': 1, '([VBN], [NP], [PPCLR], [PP])': 1, '([VBZ], [S], [SPRP])': 1, '([VBZ], [ADVPLOCCLR], [PPCLR])': 1, '([NN], [NP], [PPCLR])': 1, '([VBP], [NP], [PPMNR], [S])': 1, '([VBZ], [ADVPTMP], [NPPRD])': 1, '([VBD], [ADVPPRD], [ADVP], [PPLOC])': 1, '([VBP], [PPPRD], [PP], [PPTMP])': 1, '([JJ],)': 1, '([VBG], [ADVPCLR], [PPCLR])': 1, '([VBN], [NP], [PP], [ADVPLOC])': 1, '([CC], [VP], [CC], [VP])': 1, '([VBG], [NP], [PPCLR], [VP])': 1, '([VB], [PRT], [ADVPTMP], [SBARCLR])': 1, '([VB], [PPDIRCLR])': 1, '([VB], [NP], [PPCLR], [SBARADV])': 1, '([VBD], [PPCLR], [PPTMP], [PP])': 1, '([VBD], [NP], [ADVPMNR])': 1, '([VBN], [NP], [PPDIR], [ADVPTMP])': 1, '([VBZ], [S], [ADVP])': 1, '([VBP], [NP], [PPMNR], [SBARTMP])': 1, '([VBZ], [ADJPPRD], [PRN], [ADVP])': 1, '([VBG], [S], [PPPRP])': 1, '([VBN], [PPCLR], [ADVPMNR])': 1, '([VB], [ADVPDIR], [NP])': 1, '([VBN], [NP], [``], [PPMNR])': 1, '([VBD], [NP], [PP])': 1, \"([VBZ], [S], [''], [PPTMP])\": 1, '([VBD], [NPEXT], [PPTMP])': 1, '([VBZ], [PPLOCPRD])': 1, '([VBD], [NP], [SBARPRP])': 1, '([VBD], [PPCLR], [SBARPRP])': 1, '([VBZ], [ADJPPRD], [ADVPTMP])': 1, '([VBG], [PPDIR], [PPTMP])': 1, '([VBD], [NP], [,], [SADV])': 1, '([VB], [NP], [ADVPPRP])': 1, '([VBN], [NP], [PPCLR], [SBARTMP])': 1, '([VBN], [NPPRD], [PRN], [PP])': 1, '([VBN], [NP], [PPMNR])': 1, '([VBG], [NP], [SBARPRP])': 1, '([VBD], [S], [SADV])': 1, '([VBN], [NP], [PPTMP], [PP])': 2, '([VBZ], [S], [SADV])': 1, '([VBD], [NPEXT], [,], [PPTMP])': 1, '([VBG], [NP], [PPDIR])': 1, '([VBD], [PPLOCCLR], [SBAR])': 1, '([VBN], [PPCLR], [PPMNR])': 1, '([VBD], [PPCLR], [NP])': 1, '([VBN], [NP], [,], [SBARADV])': 1, '([VBP], [ADVPPRD], [PPTMP])': 1, \"([TO], [``], [VP], [''])\": 1, '([VBN], [NP], [PP], [PPPRP])': 1, '([VBD], [PPTMP], [PP], [PPTMP])': 1, '([VBP], [PPCLR], [PPCLR])': 1, '([VBZ], [PPLOC], [NPPRD])': 1, '([VBZ], [NPPRD], [ADVPTMP])': 1, '([VBN], [PPCLR], [PPLOC])': 1, '([VBN], [NP], [PPTMP])': 1, '([VBG], [NP], [ADVPTMP])': 1, '([VBP], [PP])': 1, '([VBD], [NPEXT], [NPTMP], [SBARTMP])': 1, '([VBD], [RB], [ADVPTMP], [VP])': 1, '([VBP], [PPMNR], [,], [SADV])': 1, '([VB], [ADJPPRD], [,], [SBARADV])': 1, '([VBD], [NP], [PPCLR], [SPRP])': 1, '([VBN], [ADJPPRD], [,], [PPLOC])': 1, '([VBD], [PPDIR])': 1, '([VBP], [ADVPMNR])': 1, '([VBD], [S], [PPTMP])': 1, '([VBP], [ADVPMNR], [SBAR])': 1, '([VB], [S], [ADVPMNR])': 1, '([VB], [NP], [PPMNR])': 1, '([VBN], [NP], [NP], [PPLOC])': 1, '([VBD], [NPPRD], [PP])': 1, '([VBP], [ADVPMNR], [PPCLR], [PP])': 1, \"([VB], [PPTMP], [''], [SBARADV])\": 1, '([VBP], [RB], [ADVPTMP], [VP])': 1, '([VBZ], [PRN], [SBAR])': 1, '([ADVP], [TO], [VP])': 1, '([VBN], [NP], [PP], [PPTMP])': 1, '([VBN], [NP], [PPMNR], [PPTMP])': 1, '([VBZ], [``], [S])': 1, '([ADVP], [VB], [NP])': 1, '([VB], [PPLOCPRD], [PPTMP])': 1, '([VBD], [NPEXT], [PP])': 1, '([VBG], [SBARADV])': 1, '([VBD], [NP], [PPPRP])': 1, '([VBZ], [SBAR])': 1, '([VBD], [NPCLR], [PPCLR])': 1, '([VB], [PPDIR], [PPLOC])': 1, '([VP], [CC], [VP], [SBARPRP])': 1, '([VBZ], [RB], [VP])': 1, '([VB], [PPTMP], [NP])': 1, '([ADVPMNR], [VBZ], [NP])': 1, '([VB], [PPCLR], [NP], [ADVPMNR])': 1, '([VBD], [NP], [PPDIR])': 1, '([VBD], [PPCLR], [PPTMP])': 1, '([VBN], [NP], [PPCLR], [SCLR])': 1, '([VB], [NP], [,], [PPLOC])': 1, '([VB], [PP], [,], [SADV])': 1, '([VBD], [NP], [PPCLR], [ADVPTMP])': 1, '([VBZ], [PRT])': 1, '([NN], [ADVPMNR], [PPCLR])': 1, '([VBG], [,], [``], [S])': 1, '([VB], [PRT], [PPTMP], [SBARADV])': 1, '([VBG], [NP], [PPTMP], [PP])': 1, '([VBP], [DT], [VP])': 1, '([VBG], [NPPRD])': 1, '([VBZ], [NP], [PPDIR], [PP])': 1, '([VBN], [ADVPTMP], [SBAR])': 1, '([VBD], [ADVPTMP], [SBAR])': 1, '([VB], [PPCLR], [SPRP])': 1, '([VBP], [RB], [ADJPPRD], [PPLOC])': 1, '([VBN], [PPPRD])': 1, '([VB], [NP], [PPPUT], [PPPRP])': 1, '([VBN], [PPCLR], [PPTMP], [PP])': 1, '([VBD], [NPPRD], [,], [ADVP])': 1, '([VBG], [NP], [ADVPCLR])': 1, '([VBZ], [ADJPPRD], [:], [NP])': 1, '([VBZ], [PRT], [S])': 1, '([VB], [PP], [NPPRD])': 1, '([VB], [CC], [VB], [NP])': 1, '([VBD], [NPTMP], [PPCLR], [PPLOC])': 1, '([ADVP], [VBG], [NP])': 1, '([VBP], [ADVPTMP], [VP])': 1, '([VBD], [NPEXT], [PPDIR], [PP])': 1, '([VBP], [PPDIR], [SADV])': 1, '([VB], [ADJPPRD])': 1, '([VBZ], [NP], [,], [PPMNR])': 1, '([VBD], [ADJPPRD], [SBARPRP])': 1, '([VBG], [PRN], [NP])': 1, '([VB], [ADVPCLR], [PPDIR])': 1, '([VBZ], [NP], [,], [SADV])': 1, '([VBN], [PPLOC], [PPTMP])': 1, '([VBD], [ADJPPRD], [PPTMP])': 1, '([VBG], [CC], [VBG], [SPRP])': 1, '([VBD], [PP], [PPCLR])': 1, '([VBN], [NP], [PPCLR], [VP])': 1, '([VBN], [NP], [ADJPADV])': 1, '([VBZ], [NP], [PPMNR])': 1, '([VBZ], [NP], [NP])': 1, '([VBG], [NP], [PPCLR], [PPCLR])': 2, '([VBD], [PPTMP], [NPTMP])': 1, '([MD], [ADVPTMP], [VP])': 1, '([ADVPTMP], [VBD], [PPCLR], [PPLOC])': 1, '([VBD], [NP], [PP], [PP])': 1, '([ADVPMNR], [VBN], [``], [SBAR])': 1, '([VBZ], [NP], [,], [SBAR])': 1, '([VB], [NP], [SADV])': 1, '([VBD], [NPTMP], [PPPRP])': 1, '([VB], [ADJPPRD], [PPTMP])': 1, '([PPLOC], [VBD], [NP])': 1, '([VBN], [PRT], [NP], [PPTMP])': 1, '([VP], [,], [CC], [VP])': 1, '([VBD], [SBAR], [,], [SADV])': 1, '([VB], [ADJPPRD], [S])': 2, '([VBD], [NP], [PPDIR], [PPLOC])': 1, '([VBZ], [NP], [S])': 1, '([VB], [PPCLR], [PPLOC], [PRN])': 1, '([VBD], [PPCLR], [,], [ADVP])': 1, '([VBG], [ADVP], [PPLOCCLR])': 1, '([JJ], [NP], [ADVPMNR], [SBARPRP])': 1, '([VBZ], [S], [,], [SADV])': 1, '([VBP], [PPCLR], [PPMNR])': 1, '([VB], [PPLOCCLR], [PPLOC])': 1, '([VBZ], [CC], [VBZ], [NP])': 1, '([VBD], [ADVPCLR], [PPTMP], [ADVPTMP])': 1, '([ADVPMNR], [VBP], [NP])': 1, '([VBG], [NPTMP], [PPLOC])': 1, '([VBD], [PPTMP], [VP])': 1, '([VBG], [ADVPDIR], [PP])': 1, '([VB], [CC], [VB])': 1, '([VBP], [NPPRD], [NPTMP])': 1, '([VBN], [ADVPTMP], [VP])': 1, '([VBD], [NPEXT], [PPDIR], [PPDIR])': 1, '([VBD], [PPDIR], [PP])': 1, '([VB], [ADVPMNR], [PP])': 1, '([VBN], [NP], [,], [PP])': 1, '([VBP], [NP], [,], [SBARADV])': 1, '([VBG], [PPCLR], [PPLOC])': 1, '([VBG], [ADVPMNR], [PPCLR])': 1, '([VBP], [ADVPTMP])': 1, '([VBD], [ADJPPRD], [PRN])': 1, '([VBD], [PPPRD], [NP])': 1, '([VBZ], [PPTMP], [SBAR])': 1, '([VBG], [PPLOC], [PPMNR])': 1, '([VB], [PPCLR], [PPCLR])': 1, '([VB], [PPCLR], [NP])': 1, '([VBN], [ADVPCLR], [PPLOC], [PPTMP])': 1, '([VBZ], [ADVPDIR])': 1, '([VBP], [NP], [SBARADV])': 1, '([VBG], [PPTMP])': 1, '([VBD], [PPLOCCLR])': 1, '([VBZ], [NPTTL])': 1, '([VB], [:], [SBARQ])': 1, '([VBP], [CC], [VBP], [NP])': 1, '([MD], [ADVP], [ADVPTMP], [VP])': 1, '([VBP], [PRT], [PP], [NPTMP])': 1, '([VB], [NP], [``], [SBARPRP])': 1, '([VB], [NP], [PPMNR], [ADVPMNR])': 1, '([VBP], [PPLOC])': 1, '([VBG], [NPTMP])': 2, '([VB], [NP], [ADVPLOC])': 1, '([VBN], [NP], [SPRPCLR])': 1, '([VBP], [NP], [,], [NPADV])': 1, '([VBZ], [PPLOC], [ADVPMNR])': 1, '([ADVPTMP], [MD], [VP])': 1, '([VBG], [NP], [PPLOC], [PP])': 1, '([VBD], [SBAR], [ADVPTMP])': 1, '([VBD], [NPEXT], [PPDIR])': 1, '([VB], [NP], [SBARTMP], [PRN])': 1, '([VBG], [NP], [ADVPTMP], [SBARPRP])': 1, '([VBD], [NP], [PPCLR])': 3, '([VBZ], [NP], [ADVPMNR])': 1, '([VBG], [PRT], [NP], [PPTMP])': 1, '([VB], [NPCLR], [PPCLR])': 1, '([VBZ], [:], [``], [S])': 1, '([VBN], [NPTTL], [SBARPRP])': 1, '([VBZ], [``], [UCPPRD])': 1, '([TO], [ADVP], [VP])': 1, '([VB], [NP], [PPBNF])': 1, '([VBZ], [RB])': 1, '([ADVP], [VBN], [NP])': 1, '([VBP], [SBARNOMPRD])': 1, '([VBG], [ADVPCLR])': 1, '([VB], [NP], [PP], [PPLOC])': 1, '([VBD], [NP], [PPDTV])': 1, '([VBG], [NP], [PPPUT])': 1, '([VB], [PPTMP], [SCLR])': 1, '([ADVP], [VBD], [PPDIR], [ADVPTMP])': 1, '([VBG], [NP], [SPRP])': 1, '([VBD], [PRT], [NPTMP], [PPCLR])': 1, '([VB], [RRB], [NPPRD])': 1, '([VB], [PRT], [SPRP])': 1, '([VBZ], [NPPRD], [ADVPLOC])': 1, '([VBD], [NP], [SPRP], [ADVPTMP])': 1, '([VB], [PPLOCPRD], [PPLOC])': 1, '([VBG], [NP], [PPTMP], [S])': 1, '([VB], [ADVP])': 1, '([VB], [PRT], [NP], [SBARTMP])': 1, '([VBG], [SBARNOM])': 1, '([VBN], [S], [ADVPTMPCLR])': 1, '([VBZ], [PPCLR], [,], [SBARADV])': 1, '([VBD], [PRT], [PP])': 1, '([VBZ], [SINV])': 1, '([VP], [CC], [RB], [VP])': 1, '([VBD], [ADVPDIR])': 1, '([VB], [PPDIR], [NPTMP])': 1, '([VB], [SBARCLR])': 1, '([VBD], [NP], [PRT], [PPCLR])': 1, '([VBN], [SCLR])': 1, '([IN], [S])': 1, '([VBN], [ADJPPRD], [ADVP])': 1, '([VBD], [PPTMP], [PPCLR])': 1, '([VBD], [PPLOC], [,], [SBARADV])': 1, '([VB], [NP], [PPLOC], [NPTMP])': 1, '([VBZ], [PPLOCPRD], [ADVPPRP])': 1, '([VB], [PPPRP])': 1, '([VBD], [PPPRD])': 1, '([VBP], [NP], [PPCLR])': 3, '([VBD], [RB], [ADJPPRD], [PPPRP])': 1, '([VBZ], [PPLOCCLR], [,], [ADVP])': 1, '([VBD], [ADJPPRD], [:], [PPTMP])': 1, '([VBZ], [RB], [NPPRD], [PPLOC])': 1, '([VB], [PRN], [SBAR])': 1, '([VBD], [PPTMP])': 1, '([VBD], [NP], [PPCLR], [VP])': 1, '([VBD], [ADVPLOC], [PPTMP])': 1, '([ADVPMNR], [VBG], [NP])': 1, '([VB], [NP], [PPPUT])': 1, '([VB], [ADVPDIR])': 1, '([TO], [VP])': 1, '([VBD], [PPCLR], [SPRP], [NPTMP])': 1, '([VBZ], [PPCLR], [PP])': 1, '([VBD], [ADVPLOCPRD])': 1, '([VBN], [NP], [NP], [PPTMP])': 1, '([VB], [SPRD])': 1, '([VBN], [PRT], [NP], [PPPRP])': 1, '([VBG], [PPCLR], [,], [VP])': 1, '([VBG], [NP], [PPDIR], [SBAR])': 1, '([VBD], [ADJPPRD], [PPTMP], [PPTMP])': 1, '([VBZ], [NPTMP])': 1, '([VBZ], [ADVPMNR], [SCLR])': 1, '([VBP], [NP], [NPADV])': 1, '([VBD], [NP], [PPCLR], [PPLOC])': 1, '([VBN], [PPDIR], [PPDIR])': 1, '([VBZ], [RB], [ADVPLOCPRD])': 1, '([ADVPTMP], [VBD], [PPCLR], [PPTMP])': 1, '([ADVPTMP], [VBZ], [S])': 1, '([VBN], [NP], [NP])': 1, '([VBN], [NP], [ADVPCLR], [PP])': 1, '([VP], [PRN])': 1, '([VBN], [NP], [PPLOC], [ADVPMNR])': 1, '([VBD], [ADVPCLR])': 1, '([VBZ], [NP], [ADVPLOC])': 1, '([VB], [ADVPMNR], [SBARADV])': 1, '([VBD], [S], [PP], [PPTMP])': 1, '([VBG], [NP], [NPEXT])': 1, '([VBN], [ADVPDIR])': 1, '([VB], [NP], [SPRPCLR])': 1, '([VB], [NP], [ADVPTMP])': 1, '([VB], [ADJPPRD], [,], [SADV])': 1, '([VBN], [NP], [PPEXT])': 1, '([VBG], [ADVPMNR], [NPTMP])': 1, '([VBN], [PP], [S])': 1, '([VB], [PP], [PPLOC])': 1, '([VBD], [,], [``], [NPTTL])': 1, '([ADVPMNR], [VBN])': 1, '([VBP], [NPPRD], [,], [PP])': 1, '([VBZ], [PRT], [NP])': 1, '([VB], [PPPRD])': 1, '([VP], [CC], [,], [VP])': 1, '([VBZ], [NP])': 1, '([VB], [NP], [STMP])': 1, '([VBD], [SBAR], [NPTMP])': 1, '([VBG], [PP], [PPCLR])': 1, '([VBN], [NP], [NPADV])': 1, '([VB], [NP], [ADVPDIR], [PPTMP])': 1, '([VBN], [ADVPEXT], [PPTMP])': 1, '([VBG], [PPLOC])': 1, '([VB], [ADVP], [PPCLR])': 1, '([VBD], [NP], [NPTMP])': 1, '([VB], [NP], [PPDIRCLR])': 1, '([VBG], [NP], [ADVP])': 1, '([VBD], [NP], [NPTMP], [SBARPRP])': 1, '([VBP], [S])': 1, '([MD], [ADVP], [VP])': 1, '([VB], [PRT], [ADVPMNR])': 1, '([VBD], [SBARNOM], [,], [SPRP])': 1, '([VBN], [NPTMP], [S])': 1, '([VB], [VP])': 1, '([VBZ], [ADVP], [NPPRD], [PP])': 1, '([VBZ], [NPPRD], [ADVPCLR], [S])': 1, '([VB], [PRT], [NP], [PP])': 1, '([VBD], [NP], [,], [NP])': 1, '([VBN], [NP], [SBAR])': 2, '([VBG], [SBAR])': 2, '([VB], [RB], [VP])': 1, '([VB], [PPDIR], [PPPRP])': 1, '([VBG], [PPMNR], [ADVPTMP])': 1, '([VBD], [NP], [PPTMP], [SPRP])': 1, '([VBD], [PPCLR], [NPTMP])': 1, '([VBD], [ADJPPRD])': 2, '([VB], [ADJPPRD], [PPLOC])': 1, '([VBD], [NPTMP], [SBAR])': 1, '([VBD], [ADVPTMP], [VP])': 1, '([ADVPTMP], [VBN], [NP], [PPCLR])': 1, '([VBD], [PPTMP], [SBARTMP])': 1, '([VB], [NP], [:], [PPTMP])': 1, '([VB], [NP], [PPCLR], [PPMNR])': 1, \"([VB], [''], [PPLOC])\": 1, '([VBP], [PPMNR])': 1, '([VBZ], [``], [NPPRD])': 1, '([ADVP], [VBG], [S])': 1, '([VBZ], [RB], [ADVPTMP], [VP])': 1, '([VBG], [S], [SBARADV])': 1, '([VBP], [NP], [SCLR])': 1, '([VBZ], [NP], [ADVPTMP])': 1, '([VBG], [NP], [,], [SADV])': 1, '([VBD], [NP], [ADVPTMP])': 1, '([VBD], [ADVPPRD], [PP])': 1, '([VBG], [NP], [PRT], [PPMNR])': 1, '([VB], [NP], [PPTMP], [PPTMP])': 1, '([VBD], [PPDIR], [NPTMP])': 1, '([VBG], [NP], [PRT], [PPTMP])': 1, '([VBN], [PRT])': 1, '([ADVPMNR], [VBN], [PPLOCCLR])': 1, '([VBD], [PPCLR], [PPLOC])': 1, '([VBD], [PPTMP], [S])': 1, '([VBZ], [PRT], [PPLOCCLR])': 1, '([VBG], [NP], [SBARADV])': 1, '([VBN], [NPTMP], [PP])': 1, '([MD], [S])': 1, '([VBZ], [ADJPPRD], [SBARPRP])': 1, '([VB], [NPPRD], [ADVPTMP])': 1, '([VBP], [NP], [ADVPMNR], [SBARTMP])': 1, '([VBN], [NP], [PPPRP])': 1, '([VBG], [:], [``], [S])': 2, '([VBG], [PRT], [PPLOC], [SBARMNR])': 1, '([VBD], [PRT], [PPTMP], [NP])': 1, '([ADVPTMP], [VBG], [S])': 1, \"([PP], [''], [VB], [NP])\": 1, '([VBZ], [PPLOC], [NPTMP])': 1, '([VBP], [PPCLR], [ADVPTMP])': 1, '([ADVP], [LRB], [MD], [VP])': 1, '([VB], [NPMNR])': 1, '([NN], [PPLOC], [NPTMP])': 1, '([VB], [PPCLR], [ADVPMNR])': 1, '([VBP], [ADVPTMP], [PPPRD], [PP])': 1, '([VB], [UCP])': 1, '([VBG], [NP], [PPLOC], [PPLOC])': 1, '([VBP], [ADJPPRD], [PPCLR])': 1, '([VBD], [SPRP])': 1, '([VB], [ADVPTMP])': 1, '([ADVPMNR], [VB], [NP], [SBARADV])': 1, '([VBD], [SBARPRP])': 1, '([VB], [PRT])': 1, '([VBG], [PPLOC], [ADVPTMP])': 1, '([MD], [``], [VP])': 1, '([VBN], [NPPRD], [,], [SADV])': 1, '([VBD], [PPCLR], [SBAR])': 1, '([VBN], [NP], [PPLGS], [PPCLR])': 1, '([VBD], [NP], [PPDIR], [SBAR])': 1, '([VBN], [ADJPPRD], [NPTMP], [PP])': 1, '([VBD], [PPCLR], [NPTMP], [SPRP])': 1, '([VBD], [NP], [``], [PP])': 1, '([VBD], [ADVP], [ADVPTMP])': 1, '([VBD], [ADVPDIR], [PPTMP])': 1, '([VBD], [PPPRD], [PPTMP])': 1, '([VBN], [PPPRP])': 1, '([VBP], [NP], [ADVPMNR])': 1, '([VBN], [NP], [PRT], [PP])': 1, '([VBN], [ADVP])': 1, '([VBD], [NP], [PPBNF])': 1, '([VBZ], [RB], [ADJPPRD], [S])': 1, '([VBP], [ADJPPRD], [SBARTMP])': 1, '([VBD], [ADVP], [NPPRD])': 1, '([VBD], [ADVP], [SPRP])': 1, '([VP], [:], [CC], [VP])': 1, '([VBD], [NP], [,], [ADVP])': 1, '([VBZ], [NP], [``], [NP])': 1, '([VBZ], [NP], [PPCLR], [PPLOC])': 1, '([VBG], [NP], [NP], [SBARTMP])': 1, '([VBZ], [NPPRD], [,], [SADV])': 1, '([VBD], [NP], [ADVPLOC])': 1, '([ADVPMNR], [VBD], [NPPRD])': 1, '([VBP], [RB], [ADJPPRD])': 1, '([VBN], [PP], [PP], [ADVPTMP])': 1, '([VBD], [NPPRD], [ADVPTMP])': 1, '([VBP], [NP], [,], [PP])': 1, '([VBD], [PPCLR], [PP])': 1, '([NONE], [,], [SADV])': 1, '([VBD], [NPCLR], [ADVPTMP])': 1, '([VBG], [NP], [PPTMP], [PRN])': 1, '([VBG], [ADVPMNR])': 1, '([VB], [S], [NPTMP])': 1, '([VBN], [NP], [NPTMP], [PP])': 1, '([VBZ], [NPPRD])': 1, '([VBD], [SBARTMP])': 1, '([VBP], [PRT], [NP])': 1, '([ADVPTMP], [VBG], [SBARADV])': 1, '([VBG], [PPLOC], [,], [SADV])': 1, '([VBZ], [``], [INTJ])': 1, '([VBZ], [S], [,], [SBARADV])': 1, '([VB], [ADVPMNR], [NP])': 1, '([VBP], [PRT], [SBAR])': 1, '([VBZ], [PPDIR])': 1, '([VBD], [NP], [PPCLR], [ADVPLOC])': 1, '([VBG], [ADVPMNR], [PP])': 1, '([VB], [NP], [PPDIR])': 1, '([VBD], [:], [SBAR])': 1, '([VB], [NP], [SBARMNR])': 1, '([VB], [PPLOCPRD], [SBARTMP])': 1, '([VBD], [ADJPPRD], [ADVPTMP])': 1, '([VBG], [PPCLR])': 1, '([VB], [NP], [ADVP])': 1, '([VBG], [PRT])': 1, '([VBD], [PPPRP])': 1, '([VBG], [PRN], [S])': 1, '([VBG], [PRT], [NP], [SBARADV])': 1, '([VBZ], [PP], [NPPRD])': 1, '([VBG], [ADVPDIR], [SPRP])': 1, '([VBD], [PPCLR], [PPCLR])': 1, '([VBD], [RB], [ADVP], [VP])': 1, '([VB], [NPPRD], [,], [SBARADV])': 1, '([VBN], [NP], [PPCLR], [PPPRP])': 1, '([VBN], [PPCLRLOC], [SPRP])': 1, '([VBD], [NPPRD], [SBARTMP])': 1, '([VBD], [PPLOCPRD], [,], [ADVP])': 1, '([VB], [,], [``], [S])': 1, '([VBD], [S], [,], [PPLOC])': 1, '([VBN], [NP], [ADVPMNR], [PP])': 1, '([VBP], [ADJPPRD], [SBARADV])': 1, '([ADVPMNR], [VBD], [NP], [SBARTMP])': 1, '([MD], [PRN], [ADVP], [VP])': 1, '([VBD], [NPTMP], [PPLOC])': 1, '([VBP], [ADJPPRD], [,], [SADV])': 1, '([VBN], [NP], [NP], [ADVPLOC])': 1, '([VBN], [VP])': 1, '([VBP], [NP], [SPRP])': 1, '([VBD], [SBARPRD])': 1, '([VB], [NP], [PPLOC], [PPTMP])': 1, \"([VB], [''], [SBAR])\": 1, '([VBG], [ADVPMNR], [PPLOC])': 1, '([VB], [NP], [SBARTMP])': 1, '([ADVP], [VBN], [NP], [PP])': 1, '([VBD], [ADVPDIR], [NPTMP], [PP])': 1, '([VBZ], [FRAG])': 1, '([VBD], [SBAR], [PPTMP])': 1, '([VBD], [NP], [PP], [PPTMP])': 1, '([ADVPMNR], [VBP], [SBARNOM])': 1, '([VBG], [NP], [PPTMP])': 1, '([VB], [ADJPCLR])': 1, '([VBP], [ADVPLOCPRD])': 1, '([VBN], [PPCLR], [PP])': 1, \"([VBZ], [''], [PP])\": 1, '([VBD], [NP], [PPCLR], [PPTMP])': 1, '([VBZ], [NP], [PPLOCCLR])': 1, '([VBP], [NPPRD], [PPLOC])': 1, '([VBD], [NP], [PPEXT])': 1, '([VBZ], [NP], [PP], [PPLOC])': 1, '([VBN], [NP], [ADVPTMP], [SPRP])': 1, '([VB], [SBARNOM])': 1, '([VB], [NPPRD], [PPLOC])': 1, '([VBD], [NPPRD])': 1, '([VBN], [S], [SBARPRP])': 1, '([VBG], [PPTMP], [S])': 1, '([VBN], [NP], [ADVPTMP], [PP])': 1, '([VBP], [PPDIR])': 1, '([VBD], [NPPRD], [NPTMP], [PP])': 1, '([VBG], [NP], [NPTMP])': 1, '([VBD], [PPDIR], [ADVPTMP])': 1, '([VBD], [PPTMPPRD])': 1, '([ADVPTMP], [VB], [PRT], [NP])': 1, '([VB], [NP], [PPTMP], [SBARPRP])': 1, '([VBZ], [NPPRD], [ADVP])': 1, '([VBD], [NPADV], [NPTMP], [PPTMP])': 1, '([VBZ], [RB], [ADVPPRD])': 1, '([VBD], [NPADV], [NPTMP], [SBARTMP])': 1, '([VBZ], [RB], [SPRD])': 1, '([VBD], [PPLOCCLR], [NPTMP], [SPRP])': 1, '([VBD], [ADVPLOCCLR], [PPLOC])': 1, '([VBG], [NP], [PPPRP])': 1, '([VBN], [S], [ADVP])': 1, '([NONE],)': 1, '([VBG], [ADVPCLR], [SPRP])': 1, '([VBZ], [NP], [PP])': 2, '([VBZ], [PPCLR], [NP])': 1, '([VBG], [ADVP], [NPTMP])': 1, '([VBG], [PPPRP], [PPDIR], [PPTMP])': 1, '([JJ], [S])': 1, '([VB], [PPCLR], [PPMNR])': 1, '([VB], [NP], [PPCLR], [SBARTMP])': 1, '([VB], [PPTMP], [SPRPCLR])': 1, '([VB], [NP], [``], [SADV])': 1, '([VP], [CC], [VP], [SPRP])': 1, '([VBP], [PRN], [VP])': 1, '([NN], [S])': 1, '([VBD], [NP], [S], [ADVPTMP])': 1, '([VBG], [ADVP])': 1, '([VBP], [S], [ADVPTMP])': 1, '([VBZ], [VP])': 1, '([ADVP], [VBP], [NP])': 1, '([VBN], [NP], [PPTMP], [PPCLR])': 1, '([VBG], [SBARTMP])': 1, '([VBZ], [RB], [ADJPPRD], [SBARADV])': 1, '([VBP], [PRT], [PPDIR])': 1, '([VBN], [PPCLR], [``], [NP])': 1, '([VBD], [PPTMP], [SBAR])': 1, '([VBD], [PPLOC], [SBAR])': 2, '([VBN], [NP], [PPDIR], [PP])': 1, '([MD], [VP])': 1, '([VP], [,], [RB], [VP])': 1, '([VBP], [S], [SBARADV])': 1, '([VBG], [NP], [PP])': 2, '([VBP], [PPCLR], [PP])': 1, '([VB], [PPCLR])': 2, '([VB], [PPLOCPRD], [PPPRP])': 1, '([VB], [S], [SBARADV])': 1, '([VBD], [PPCLR], [SPRP])': 1, '([VP], [CC], [``], [VP])': 1, '([VBN], [NP], [PP], [PPLOC])': 1, '([VB],)': 1, '([VBN], [ADJPPRD], [SBARTMP])': 1, '([VBD], [S], [ADVPTMP])': 1, '([VBN], [NPPRD])': 1, '([VBN], [NP], [PPTMP], [SBARPRP])': 1, '([VBP], [ADVP])': 1, '([VB], [NP], [PPCLR], [NPTMP])': 1, '([VBP], [VP])': 1, '([VBD], [RB], [S])': 1, '([VBD], [NP], [ADVP])': 1, '([ADVPLOC], [VP], [CC], [VP])': 1, '([VBD], [RB], [PRN], [VP])': 1, '([VBG], [CC], [VBG], [NP])': 1, '([VBG], [PPMNR], [NP])': 1, '([VBN], [NP], [PRT], [PPMNR])': 1, '([VBG], [PPCLR], [UCPTMP])': 1, '([VBN], [PPLOCPRD])': 1, '([NPTMP], [VBD], [NP])': 1, '([VB], [SBAR], [ADVPTMP])': 1, '([VBZ], [``], [ADJPPRD], [S])': 1, '([VB], [PPPRDLOC], [PPTMP], [SPRP])': 1, '([VBD], [PPLOCCLR], [SBARTMP])': 1, '([VBN], [NP], [PPLOC], [PPPRP])': 1, '([VBP], [SBAR])': 1, '([VBN], [ADVPPRDLOC], [PPTMP])': 1, '([VBG], [SBARPRP])': 1, '([VBP], [PPCLR])': 1, '([VB], [PPLOC], [ADVPPRP])': 1, '([VBG], [PPCLR], [PPTMP])': 1, '([VBD], [ADJPPRD], [SBAR])': 2, '([VBG], [ADVPDIR], [PPDIR])': 1, '([ADVPMNR], [VBP], [NP], [PPCLR])': 1, '([VBD], [NP], [PPMNR])': 1, '([VP], [CC], [ADVP], [VP])': 1, '([VB], [NP], [ADVPMNR])': 1, '([VBG], [ADVP], [SBAR])': 1, '([VBZ], [ADJPPRD], [PP])': 2, '([VBP], [PPLOCPRD])': 1, '([TO], [``], [VP])': 1, '([VBD], [ADVPDIR], [PPDIR])': 1, '([VBN], [S], [PP])': 1, '([VBD], [S], [PPLOC], [SBARTMP])': 1, '([VBN], [ADJPPRD], [,], [SBARADV])': 1, '([VBN], [PRT], [PPCLR])': 1, '([VBP], [ADJPPRD])': 1, '([VBD], [NPPRD], [NPTMP])': 1, '([VB], [PPLOCPRD])': 1, '([VBN], [PP], [ADVPLOC], [PPCLR])': 1, '([VBD], [ADVPMNR], [ADVP])': 1, '([VB], [NP], [PPCLR], [SBAR])': 1, '([VBD], [PPMNR], [SADV])': 1, '([VBZ], [RB], [ADJPPRD], [SBAR])': 1, '([VBZ], [PPDIR], [ADVPTMP], [PPDIR])': 1, '([VBN], [NP], [PPLOC], [PPCLR])': 1, '([VBD], [S], [PPMNR])': 1, '([VBD], [NP], [PP], [PPLOC])': 1, '([ADVPMNR], [VB], [PP], [ADVPTMP])': 1, '([VBD], [PPPRD], [PP])': 1, '([VBN], [NPSBJ], [S])': 1, '([VBN], [NP], [ADVPTMP], [PPMNR])': 1, '([VBZ], [PPDIR], [ADVPTMP])': 1, '([VB], [SBARADV])': 1, '([VBG], [VP])': 1, '([VBN], [NP], [ADVPLOC])': 1, '([VBD], [PPCLR], [,], [SBARADV])': 1, '([VB], [SBAR])': 1, '([VB], [S], [PPTMP])': 1, '([VBD], [SBARNOM])': 1, '([VBZ], [ADVPPRD], [PPTMP])': 1, '([IN], [NP], [PPTMP])': 1, '([VBN], [NP], [NP], [ADVPTMP])': 1, '([VBN], [NP], [ADVPMNR], [PPLOC])': 1, '([VBZ], [PPTMP])': 1, '([VBD], [NP], [PPLOC], [ADVPTMP])': 1, '([VBP], [ADVP], [NPPRD])': 1, '([VB], [``], [NP])': 1, '([VBP], [ADVPMNR], [PP])': 1, '([VB], [S], [PPMNR])': 1, '([VBD], [NP], [SPRP])': 1, '([VBN], [SBAR])': 1, '([VBD], [PPLOC], [PPLOC])': 1, '([VBD], [ADVP], [ADJPPRD])': 1, '([VB], [PPTMP])': 1, '([VB], [ADVP], [PPMNR])': 1, '([VB], [ADVPLOC])': 1, '([VBD], [RB], [ADVP])': 1, '([VBG], [PRT], [NP], [SCLR])': 1, '([VBG], [PPCLR], [SCLR])': 1, '([VBP], [PPCLR], [ADVPTMP], [NP])': 1, '([VBZ], [ADVPTMP], [ADJPPRD])': 1, '([VBP], [``], [VP])': 1, '([VBG], [ADVPMNR], [:], [SBARADV])': 1, '([NONE], [NP])': 1, '([VBG], [ADVPTMP], [NP])': 1, '([VBG], [NP], [ADVPMNR], [PPLOC])': 1, '([VBD], [ADJP])': 1, '([NNS], [NP], [PPDIR])': 1, '([VBD], [S], [SBARPRP])': 1, '([VBG], [PP], [SBAR])': 1, '([VBP], [ADVPDIR])': 1, '([VBP], [SBAR], [,], [PP])': 1, '([VBN], [NP])': 1, '([VBN], [NP], [ADVPTMP], [SBARADV])': 1, '([VBZ], [``], [ADJPPRD])': 1, '([VBP], [SBARPRP])': 1, '([VB], [PPCLR], [NPTMP])': 1, '([ADVPTMP], [VBG], [PPCLR])': 1, '([VB], [NP], [PRN], [S])': 1, '([VBP], [SBAR], [ADVPTMP])': 1, '([VBP], [NPPRD], [PRN])': 1, '([VBD], [ADVPMNR])': 1, '([VB], [ADJPPRD], [SBARTMP])': 1, '([VBG], [NP], [PPLOCCLR])': 1, '([ADVPMNR], [VBD], [NP], [PPLOC])': 1, '([ADVPMNR], [VBN], [NP], [NP])': 1, '([VBD], [PPCLRLOC], [PPDIR])': 1, '([VBD], [NPTMP])': 1, '([VBD], [NP], [PRN], [SBARPRP])': 1, '([VB], [NP], [PPCLR], [ADVPMNR])': 1, '([VBN], [NP], [PPDIR], [PPLOC])': 1, \"([ADVPMNR], [VBP], [''], [S])\": 1, '([VB], [PPCLR], [PPTMP])': 1, '([PRN], [VBN], [NP])': 1, '([VBD], [ADVP], [VP])': 1, '([VBP], [RB], [ADJPPRD], [ADVP])': 1, '([VBP], [ADJPPRD], [PRN], [SADV])': 1, '([VBD], [PRT], [ADVPMNR], [PPTMP])': 1, '([ADVP], [VBP], [SBAR])': 1, '([VBN], [NP], [ADVPTMP], [PPLOC])': 1, '([VBN], [``], [ADJPPRD])': 1, '([VBN], [PPTMP], [,], [SBAR])': 1, '([VB], [NP], [,], [NP])': 1, '([VBP], [PRT], [NP], [PPCLR])': 1, '([VBD], [NPPRD], [SBAR])': 1, '([VBZ], [UCPPRP])': 1, '([VBG], [PRN], [SBARPRP])': 1, '([VBZ], [RB], [ADVP], [VP])': 1, '([VBD], [PPTMPCLR], [PP])': 1, '([ADVPMNR], [VBN], [NP], [PP])': 1, '([VBP], [ADVPTMP], [ADJPPRD])': 1, '([VB], [NPPRD])': 1, '([VBP], [SCLR])': 1, '([VBG], [NP], [,], [ADVPCLR])': 1, '([MD], [RB], [ADVP], [VP])': 1, '([VBG], [NP], [PPLOC])': 1, '([VBZ], [NPADV], [VP])': 1, '([VBD], [NPEXT])': 1, '([VBN], [ADJPPRD], [PPLOC])': 1, '([VBZ], [RB], [ADJPPRD], [PP])': 1, '([VBZ], [SBAR], [,], [SADV])': 1, '([VBP], [PPTMP])': 1, '([VB], [NPTMP])': 1, '([VBD], [PPEXT], [PPDIR], [PP])': 1, '([VBP], [NP], [ADVPLOC])': 1, '([VBG], [PPDIR], [,], [SADV])': 1, '([VBD], [NP], [PPTMP], [PP])': 1, '([ADVP], [VBN], [ADVPMNR], [PPTMP])': 1, '([VB], [ADJP], [,], [PP])': 1, '([VBZ], [SBAR], [SBARPRP])': 1, '([VBN], [NP], [SINV])': 1, '([VB], [NP], [SCLR])': 1, '([VB], [PRT], [PPCLR])': 1, '([VBG], [NP], [SADV])': 1, '([VBD], [PPMNR], [PPCLR])': 1, '([VBD], [PPDIR], [,], [SADV])': 1, '([VP], [PRN], [SBARPRP])': 1, '([VBD], [PRT], [PPCLR])': 1, '([VBD], [NPEXT], [SCLR])': 1, '([VBD],)': 1, '([VB], [PRT], [PP])': 1, '([NNS], [NP], [PPCLR])': 1, '([MD], [ADVPMNR], [VB], [NP])': 1, '([VB], [NP], [PPDIRCLR], [PPPRP])': 1, '([VBD], [NPEXT], [PPDIR], [PPTMP])': 1, '([NP], [PPTMP])': 1, '([VBG], [SADV], [SPRP])': 1, '([ADVP], [VBD], [SBAR])': 1, '([VBD], [PPCLR], [:], [PP])': 1, '([VBG], [SPRP])': 1, '([VB], [S], [SBARTMP])': 1, '([VBN], [NP], [PPLOC], [ADVPTMP])': 1, '([VBZ], [PPCLR], [PPTMP])': 1, '([VB], [NP], [SBARPRP])': 1, '([VBG], [NPTMPCLR])': 1, '([VB], [PPDIR], [PPDIR])': 1, '([VB], [RB], [ADVP], [VP])': 1, '([VBD], [SBAR], [PPLOC])': 1, '([NNS], [NP])': 1, '([VBN], [CC], [VBN], [NP])': 1, '([VBD], [PP])': 1, '([ADVPMNR], [VBG], [PPCLR])': 1, '([VBZ], [S])': 1, '([VBD], [S], [SBARADV])': 1, '([VBD], [SBARQ])': 1, '([VBN], [ADJPPRD], [PPTMP])': 1, '([VBD], [NP], [NPTMPCLR], [PPMNR])': 1, '([VB], [PPLOC], [NPTMP], [SPRP])': 1, '([VBZ], [NPPRD], [SBARADV])': 1, '([VBN], [NP], [SBARMNR])': 1, '([VBD], [NP], [PPDIR], [PPDIR])': 1, '([VB], [ADJPPRD], [PP])': 1, '([VBZ], [NPPRD], [,], [SBAR])': 1, '([VB], [PPTMPCLR])': 1, '([VBZ], [RB], [PPLOCPRD])': 1, '([VBD], [ADVPTMP], [NPPRD])': 1, '([VBD], [PRT], [S])': 1, '([VBZ], [SBARNOM])': 1, '([VBZ], [NP], [PPTMP])': 1, '([VBD], [ADJP], [PPCLR])': 1, '([VBN], [NP], [PPCLR], [ADVPMNR])': 1, '([VBG], [PPDIR], [,], [PP])': 1, '([VB], [ADVPMNR], [PPLOC])': 1, '([VB], [PPCLR], [SBAR])': 1, '([VBN], [PRT], [NP], [PPCLR])': 1, '([VBZ], [NPPRD], [PPLOC], [ADVPTMP])': 1, '([ADVPMNR], [VBN], [NP], [SBARTMP])': 1, '([VBG], [NP], [ADVPLOC])': 1, '([VP],)': 1, '([VBN], [NP], [PPTMP], [PPMNR])': 1, '([VBN], [PPCLR])': 1, '([VBZ], [PPMNRCLR], [SBARPRP])': 1, '([VBD], [NP], [``], [PPMNR])': 1, '([VBN], [NP], [PPMNR], [PP])': 1, '([VBD], [NP], [PP], [SBARPRP])': 1, '([VBD], [NP], [SBARTMP])': 1, '([VBD], [NP], [NPTMP], [PPMNR])': 1, '([VBD], [PPCLR], [PPMNR])': 1, '([VBP], [NP], [NP])': 1, '([VB], [NP])': 1, '([VBN], [NP], [,], [SADV])': 1, '([VBZ], [PPCLR], [,], [SBARPRP])': 1, '([VBD], [PRT], [PPLOC], [NPTMP])': 1, '([VBD], [,], [``], [S])': 1, '([VBP], [ADVPLOC])': 1, '([VB], [NPTMPCLR])': 1, '([VBZ], [,], [``], [FRAG])': 1, '([VBN], [NP], [SADV])': 1, '([ADVPMNR], [VBD], [PPLOC], [SBAR])': 1, '([VB], [ADVPMNR], [SBAR])': 1, '([VB], [NP], [NPADV])': 1, '([VBD], [S], [,], [SADV])': 1, '([ADVP], [VBD], [ADVPCLR])': 1, '([VB], [NP], [``], [SBARTMP])': 1, '([VB], [PRT], [PPLOC])': 1, '([VBD], [PPLOC])': 1, '([VBD], [NP], [PRN], [SPRP])': 1, '([VB], [,], [ADVP])': 1, '([VBN], [NP], [ADVP], [PPTMP])': 1, '([VBG], [``], [NPTTL])': 1, '([VBG], [PPMNR])': 1, '([VBG], [S])': 1, '([VBP], [ADVPMNR], [ADVPTMP])': 1, '([VBD], [ADVPCLR], [PPTMP], [PPTMP])': 1, '([VBP], [NPCLR])': 1, '([VBZ], [``], [NP])': 1, '([VBD], [PPPRD], [PPLOC])': 1, '([VB], [NP], [PRT])': 1, '([MD], [ADVP], [RB], [VP])': 1, '([VB], [NP], [PRT], [PPCLR])': 1, '([VB], [ADVPPRP])': 1, '([VBP], [ADVP], [VP])': 1, '([VB], [NP], [PPPRP])': 1, '([ADVPTMP], [VBG], [ADVPDIR])': 1, '([VBZ], [SBARTMP])': 1, '([VBD], [S], [PPTMP], [NPTMP])': 1, '([VBZ], [NP], [SPRP])': 1, '([VBN], [NP], [PP], [PPCLR])': 2, '([ADVP], [VBZ], [NP], [PPCLR])': 1, '([VBD], [NP], [SBARNOM])': 1, '([NN], [PPCLR])': 1, '([VBN], [NP], [SBARTMP])': 1, '([VBN], [ADVPDIR], [PPTMP])': 1, '([VBZ], [PPPRD])': 1, '([VBD], [ADVPTMP], [PPPRD], [ADVPTMP])': 1, '([VBD], [ADVPMNR], [PPCLR])': 1, '([VBG], [NPEXT], [PPTMP])': 1, '([VBD], [S], [PPLOC])': 1, '([VBD], [NP], [PRT])': 1, '([VBG], [ADVPCLR], [ADVPTMP], [SPRP])': 1, '([VBP], [ADVPLOC], [PPCLR])': 1, '([VBD], [PPLOC], [NPTMP], [SBAR])': 1, '([MD], [ADVPMNR], [VP])': 1, '([VB], [PRT], [NP], [SPRP])': 1, '([VBN], [S], [ADJPADV])': 1, '([VBG], [PPPRD])': 1, '([VBN], [NP], [PRN], [SBARPRP])': 1, '([VBZ], [NPPRD], [PP])': 1, '([VP], [CC], [VP], [NP])': 1, '([VBZ], [,], [``], [S])': 1, '([VBD], [PPLOC], [PPTMP])': 1, '([VBP], [NP], [PPPRP])': 1, '([VBZ], [PPCLR], [ADVPTMP])': 1, '([VBZ], [SBARQ])': 1, '([VBD], [``], [ADJPPRD])': 1, '([VBD], [NPEXT], [NPTMP], [ADVPTMP])': 1, '([VBD], [ADVP], [PPTMP])': 1, '([VBZ], [NP], [PPCLR], [SPRP])': 1, '([VBD], [ADVPCLR], [PPDIR], [PPDIR])': 1, '([VB], [NPEXT], [PPTMP])': 1, '([VBD], [RB], [ADJPPRD], [SBARNOM])': 1, '([VB], [NPEXT], [NPTMP], [SCLR])': 1, '([VB], [ADVPCLR])': 1, '([VB], [PP], [ADVPMNR])': 1, '([VBN], [NP], [NPMNR])': 1, '([VBD], [PRT])': 1, '([VBN], [NP], [NPEXT])': 1, '([VB], [S], [NPADV])': 1, '([VBN],)': 1, '([VBZ], [ADJPPRD], [SPRP])': 1, '([VBN], [SCLR], [PPTMP])': 1, '([VBN], [NP], [NPTMP])': 1, '([VBD], [NPPRD], [,], [PP])': 1, '([VBN], [NP], [PRT])': 1, '([VBN], [ADVPDIR], [ADVPTMP])': 1, '([VBG], [NP], [PPBNF])': 1, '([VBZ], [PP], [NP])': 1, '([VB], [PPTMP], [SBARADV])': 1, '([NONE], [ADVP])': 1, '([VBN], [NP], [ADVP])': 1, '([VBD], [PPTMP], [PPLOC])': 1, '([VBZ], [PPTMPCLR])': 1, '([ADVPTMP], [VBD], [NP])': 1, '([VBZ], [RB], [NPPRD])': 1, '([VBD], [PRT], [UCP])': 1, '([VBD], [PPCLR])': 1, '([VB], [PPCLR], [SBARADV])': 1, '([VBD], [SPRD])': 1, '([VBZ], [ADVPPRD])': 1, '([VBZ], [SBARPRD])': 1, '([VBD], [PPLOC], [PPCLR])': 1, '([RB], [VBG], [NP])': 1, \"([VBD], [PRT], [''], [SBARPRP])\": 1, '([VBN], [NP], [PPDTV])': 1, '([VBD], [NPADV], [SBARADV])': 1, '([VP], [CC], [VP], [ADVPLOC])': 1, '([VBD], [ADVPMNR], [SBARPRP])': 1, '([VBZ], [PPLOC], [SBARADV])': 1, '([VBG], [``], [NP])': 1, '([VB], [NP], [NP])': 1, '([VBD], [NP], [,], [SBARADV])': 1, '([VBD], [PRT], [NP], [PP])': 1, '([VBG], [NP], [PPLOCCLR], [PPTMP])': 1, '([VBG], [PPCLR], [PPCLR])': 1, '([VBD], [PPDIR], [SPRP])': 1, '([VBN], [NPPRD], [SBARTMP])': 1, '([VB], [NP], [PPDTV])': 1, '([VP], [,], [SBARADV])': 1, '([VBZ], [PRN], [VP])': 1, '([VBD], [ADVPMNR], [PPLOC])': 1, '([VBG], [PRT], [NP])': 1, '([VBZ], [ADVP], [NPPRD])': 1, '([VB], [ADVP], [ADVPTMP])': 1, '([VBD], [ADVPMNR], [PPDIR])': 1, '([VBP], [ADVP], [PPLOCPRD])': 1, '([VBD], [:], [VP])': 1, '([VP], [,], [CONJP], [VP])': 1, '([VBN], [PRT], [NP])': 1, '([VBG], [PPLOCCLR])': 1, '([ADVP], [MD], [VP])': 1, '([VBZ], [ADVPTMP], [S])': 1, '([ADVPTMP], [VBG], [PPDIR])': 1, '([VB], [S], [SBARPRP])': 1, '([VBG], [S], [SBARTMP])': 1, '([ADVPTMP], [VBD], [NP], [PPCLR])': 1, '([VBP], [NPCLR], [PPCLR])': 1, '([PPTMP], [VBZ], [VP])': 1, '([VBD], [PPDIR], [PPDIR], [PPTMP])': 1, '([MD], [RB], [VP])': 1, '([VBP], [RB], [VP])': 1, '([ADVP], [JJ], [NP], [PP])': 1, '([VBD], [RB], [ADJPPRD], [SBARPRP])': 1, '([VBN], [``], [NP])': 1, '([VP], [:], [NP])': 1, '([VBP], [NP], [PPTMP])': 1, '([VBD], [RB], [``], [VP])': 1, '([VBZ], [ADVPMNR], [PPCLR], [ADVPLOC])': 1, '([VB], [PPLOCPRD], [PPCLR])': 1, '([VBD], [NPTMP], [,], [SBARTMP])': 1, '([VBD], [NP], [SADV])': 1, '([VP], [CC], [VP])': 1, '([VBG],)': 1, '([VBD], [NP], [PPMNR], [SPRP])': 1, '([VBZ], [PPLOC], [,], [SADV])': 1, '([JJ], [VP])': 1, '([VBZ], [RB], [NP])': 1, '([VBD], [NP], [PPLOC], [SBAR])': 1, '([VBP], [NP], [NP], [PPTMP])': 1, '([VBZ], [NP], [SBARNOM])': 1, '([VBD], [NP], [ADVP], [PP])': 1, '([VBP], [NP])': 1, '([VBN], [NP], [ADVPDIR], [PPDIR])': 1, '([VBD], [NP], [,], [PP])': 1, '([VBZ], [ADVP], [ADJPPRD])': 1, '([VBG], [``], [NP], [PPCLR])': 1, '([VBN], [:], [NP])': 1, '([VBG], [PP], [PPTMP])': 1, '([VBD], [NP], [ADVPPRP])': 1, '([VBG], [PPTMPCLR])': 1, '([VBD], [NPPRD], [SBARADV])': 1, '([VBD], [ADVPPRD], [PPTMP], [PPDIR])': 1, '([VBG], [PPDIR], [PP])': 1, '([VBZ], [PPTMP], [VP])': 1, '([VBZ], [PPLOCCLR])': 1, '([VBD], [ADVPTMP], [S])': 1, '([VBP], [NP], [ADVP])': 1, '([VBD], [ADVPTMP], [PPLOCPRD])': 1, '([VB], [NP], [ADVPDIR], [PPDIR])': 1, '([VBD], [:], [``], [S])': 1, '([VBG], [NP], [PPMNR])': 1, '([ADVPTMP], [VBG])': 1, '([VB], [CC], [VB], [NPTTL])': 1, '([ADVP], [VBD], [PPDIR], [PPDIR])': 1, '([VBN], [PRT], [NP], [PP])': 1, '([VBZ], [ADVP], [SNOMPRD])': 1, '([VBD], [NP], [ADVPMNR], [PPDIRCLR])': 1, '([VBP], [PRT], [PPCLR])': 1, '([VBD], [NPEXT], [PPTMP], [PPDIR])': 1, '([VBD], [PPCLR], [NPTMP], [SBARTMP])': 1, '([VBZ], [PPCLR], [PPCLR])': 1, '([VB], [NP], [ADVPCLR])': 1, '([VBD], [NP])': 1, '([VBN], [NP], [``], [SBARADV])': 1, '([VB], [ADJPPRD], [,], [SBARPRP])': 1, '([ADVPMNR], [VBN], [NP])': 1, '([VBN], [NP], [ADVPMNR], [PPCLR])': 1, '([ADVPTMP], [VBN], [NP])': 1, '([VB], [PPTMP], [PPTMP])': 1, '([VBG], [NP], [,], [PP])': 1, '([VBD], [PPLOC], [ADVPTMP])': 1, '([VB], [PPDIR])': 1, '([VB], [ADJPPRD], [SBAR])': 1, '([VBN], [PPPRD], [NPTMP])': 1, '([VB], [PRT], [SBAR])': 1, '([VBN], [S], [NPTMP])': 1, '([VBZ], [ADVPMNR], [VP])': 1, '([ADVP], [RB], [VBG], [ADVP])': 1, '([VBG], [ADVPCLR], [PPLOC])': 1, '([VBZ], [ADVPPRD], [PP], [ADVPLOC])': 1, '([PPTMP], [SBARADV])': 1, '([VBZ], [``], [VP])': 1, '([VB], [NPPRD], [SBARPRP])': 1, '([VBZ], [NPPRD], [,], [SBARADV])': 1, '([VBP], [NP], [SBARTMP])': 1, '([VBN], [ADJPPRD], [,], [SBARPRP])': 1, '([VB], [``], [NPTTL])': 1, '([VBZ], [:], [``], [SCLF])': 1, '([VBN], [PPCLR], [PPTMP])': 1, '([VBZ], [NP], [SMNR])': 1, '([ADVP], [VBP], [ADVPDIR])': 1, '([VBG], [PRT], [PP], [PPTMP])': 1, '([VBD], [NP], [PPDIRCLR])': 1, '([VB], [NP], [NPTMP])': 1, '([VBN], [NP], [ADVPTMP], [SBAR])': 1, '([NN], [SBAR])': 1, '([VBG], [ADJPPRD])': 1, '([VBP], [PRT], [PPTMP])': 1, '([VBD], [PPPRD], [SBARADV])': 1, '([VBD], [NP], [PPTMP], [ADVPTMP])': 1, '([VBD], [NP], [SBAR])': 1, '([VBG], [NP], [ADVPDIR], [SPRP])': 1, '([VP], [,], [VP])': 1, '([VBZ], [ADVP], [NP])': 1, '([VBD], [NPEXT], [PPCLR], [PP])': 1, '([VBD], [NP], [SCLR], [SBARPRP])': 1, '([VBP], [RB], [ADVP], [VP])': 1, '([VBP], [PPDIR], [ADVPTMP])': 1, '([VB], [PRT], [NP])': 1, '([VBN], [PPDIR])': 1, '([VBZ], [ADVPCLR], [PPCLR])': 1, '([VBG], [NP], [PPDIRCLR])': 1, '([VBP], [ADJPPRD], [SBARPRP])': 1, '([VBN], [NP], [PPDIR], [PPTMP])': 1, '([JJ], [NP], [PP])': 1, '([VBP], [PPTMPCLR])': 1, '([VBP], [UCP])': 1, '([VB], [PPPRD], [PPTMP])': 1, '([VBP], [S], [,], [SBARPRP])': 1, '([VB], [ADVPMNR], [VP])': 1, '([VBN], [NP], [NPEXT], [PPTMP])': 1, '([VBN], [NP], [ADVPDIR], [PP])': 1, '([VBG], [NP], [PPCLR], [SBARTMP])': 1, '([VB], [NP], [PPCLR], [PPLOC])': 1, '([VBN], [PPTMP], [,], [SADV])': 1, '([VBZ], [ADVP], [NPPRD], [SBAR])': 1, '([VBZ], [SBARLOCPRD])': 1, '([VB], [SADV], [SBARTMP])': 1, '([VB], [NP], [PPEXT])': 1, '([VBP], [ADJP])': 1, '([VBZ], [RB], [PPPRD])': 1, '([VBP], [PP], [NP])': 1, '([VBG], [NPCLR])': 1, '([VB], [NPEXT], [PPDIR])': 1, '([VBZ], [NPPRD], [PPLOC])': 1, '([VB], [NP], [PPTMP])': 1, '([VB], [ADVPMNR], [PPDIR])': 1, '([VBD], [SBARCLR])': 1, '([VBN], [ADJPPRD], [PPMNR], [PPTMP])': 1, '([VBP], [PRT], [ADVPTMP])': 1, '([VBN], [NP], [PPDTV], [PP])': 1, '([VBG], [PPLOC], [PPTMP])': 1, '([NN],)': 1, '<unk>': 1.0} \n",
      "\n",
      "[NPLGS] {'([NP], [,], [NP], [,])': 1, '([DT], [NNP], [NN], [NNS])': 1, '([PRP$], [NNS])': 1, '([NP], [CC], [NP])': 1, '([NP], [,], [NPLOC])': 1, '([DT], [NNP], [NNS])': 1, '([NP], [NNS])': 1, '([NP], [JJ], [NN])': 1, '([NP], [VP])': 1, '([PRP],)': 1, '([NP], [PRN])': 1, '([NNP], [NNPS], [NNP], [NNP])': 1, '([NNP], [CC], [NNP], [NNP])': 1, '([DT], [JJ], [NN])': 1, '([NP], [NN], [S])': 1, '([NNP], [NNP], [NNP], [NNP])': 1, '([NP], [PP])': 1, '([DT], [NNP], [CC], [NNP])': 1, '([NNP], [NNP], [NNP])': 1, '([NP], [PPLOC], [PP])': 1, '([NNP], [CC], [NNP])': 1, '([DT], [NP], [CC], [NP])': 1, '([NNP], [NNP])': 1, '([NP], [NP])': 1, '([DT], [NNP])': 1, '([DT], [NNP], [NN])': 1, '([DT], [NN], [NN])': 1, '([NP], [PP], [PP])': 1, '([NNP],)': 1, '([JJ], [NN])': 1, '([NP], [,], [SBAR])': 1, '([JJ], [NNS], [CC], [NNS])': 1, '([NNS], [SBAR])': 1, '([QP], [NN], [NNS])': 1, '([NP], [,], [ADVP], [NP])': 1, '([VBN], [NN])': 1, '([JJ], [NNS])': 1, '([NP], [PPLOC])': 1, '([NP], [PP], [SBAR])': 1, '([DT], [NN])': 1, '([DT], [NNP], [NNP], [NNP])': 1, '([DT], [NN], [JJ], [NN])': 1, '([NNP], [NNPS], [NNP])': 1, '([QP], [JJ], [NNS])': 1, '([NN], [NNS])': 1, '([NP], [,], [NP], [SBAR])': 1, '([NP], [NN])': 1, '([JJ], [NNP], [NNP], [NNS])': 1, '([NNS],)': 1, '([NP], [,], [NP])': 1, '([NN],)': 1, '([NP], [NNP], [NNP], [NNP])': 1, '([DT],)': 1, '([NP],)': 1, '([NP], [,], [NPLOC], [,])': 1, '([NN], [NN])': 1, '([DT], [NNP], [NNP])': 1, '<unk>': 1.0} \n",
      "\n",
      "[CD] {\"('1980s',)\": 1, \"('963',)\": 1, \"('10.5',)\": 1, \"('12',)\": 1, \"('1,400',)\": 1, \"('22',)\": 1, \"('141.9',)\": 1, \"('195',)\": 1, \"('mids',)\": 1, \"('1:30',)\": 1, \"('3.375',)\": 1, \"('59.6',)\": 1, \"('270',)\": 1, \"('89',)\": 1, \"('29',)\": 1, \"('47',)\": 1, \"('2000',)\": 1, \"('280',)\": 1, \"('777',)\": 1, \"(''40s',)\": 1, \"('6,500',)\": 1, \"('135',)\": 1, \"('3057',)\": 1, \"('8.55',)\": 1, \"('251.2',)\": 1, \"('3.80',)\": 1, \"('20s',)\": 1, \"('273.5',)\": 1, \"('5.5',)\": 1, \"('5,000',)\": 1, \"('1940s',)\": 1, \"('4,000',)\": 1, \"('2.8',)\": 1, \"('1986',)\": 2, \"('8.64',)\": 1, \"('271',)\": 1, \"('1787',)\": 1, \"('70.7',)\": 1, \"('million',)\": 1, \"('23.72',)\": 1, \"('7.15',)\": 1, \"('500,000',)\": 1, \"('6.9',)\": 1, \"('188',)\": 1, \"('3.253',)\": 1, \"('3.2',)\": 1, \"('500,004',)\": 1, \"('228',)\": 1, \"('thousand',)\": 1, \"('274',)\": 1, \"('59',)\": 1, \"('Ten',)\": 1, \"('2,303,328',)\": 1, \"('94',)\": 1, \"('9.82',)\": 1, \"('0.25',)\": 1, \"('2.29',)\": 1, \"('20',)\": 1, \"('0.4',)\": 1, \"(''86',)\": 1, \"('139',)\": 1, \"('1928',)\": 1, \"('1637',)\": 1, \"('9.3',)\": 1, \"('1.75',)\": 1, \"('1917',)\": 1, \"('100,000',)\": 1, \"('7.50',)\": 1, \"('133',)\": 1, \"('17.95',)\": 1, \"('3',)\": 2, \"('FIRST',)\": 1, \"('38.375',)\": 1, \"('8.60',)\": 1, \"('1,200',)\": 1, \"('8.14',)\": 1, \"('2.42',)\": 1, \"('1990s',)\": 1, \"('9.8',)\": 1, \"('8.75',)\": 1, \"('1.5805',)\": 1, \"('32.8',)\": 1, \"('501',)\": 1, \"('10,000',)\": 1, \"('38.3',)\": 1, \"('0.2',)\": 1, \"('105',)\": 1, \"('Nine',)\": 1, \"('149',)\": 1, \"('497.34',)\": 1, \"('4.1',)\": 1, \"('1.8',)\": 1, \"('184',)\": 1, \"('1.1',)\": 1, \"('5.3',)\": 1, \"('1.64',)\": 1, \"('13.73',)\": 1, \"('245',)\": 1, \"('1997',)\": 1, \"('13.5',)\": 1, \"('16.125',)\": 1, \"('24',)\": 1, \"('8300',)\": 1, \"('240',)\": 1, \"('86.12',)\": 1, \"('4.4',)\": 1, \"('361,376',)\": 1, \"('8.45',)\": 1, \"('29.3',)\": 1, \"('82,389',)\": 1, \"('93',)\": 1, \"('133.8',)\": 1, \"('8.07',)\": 1, \"('49.9',)\": 1, \"('1976',)\": 1, \"('374.19',)\": 1, \"('2.4',)\": 1, \"('8.65',)\": 1, \"('40,000',)\": 1, \"('16',)\": 1, \"('120,000',)\": 1, \"('1970s',)\": 1, \"('nine',)\": 1, \"('5.29',)\": 1, \"('737.5',)\": 1, \"('847',)\": 1, \"('33',)\": 1, \"('150',)\": 1, \"('1903',)\": 1, \"('4.3',)\": 1, \"('144',)\": 1, \"('143.80',)\": 1, \"('9.9',)\": 1, \"('4.898',)\": 1, \"('21',)\": 1, \"('1979',)\": 1, \"('3.19',)\": 1, \"('7\\\\/8',)\": 1, \"('1972',)\": 1, \"('30.9',)\": 1, \"('126,000',)\": 1, \"('1981',)\": 1, \"('billion',)\": 1, \"('45.3',)\": 1, \"('992,000',)\": 1, \"('23,403',)\": 1, \"('7.3',)\": 1, \"('133.7',)\": 1, \"('6.21',)\": 1, \"(''30s',)\": 1, \"('seven',)\": 1, \"('7.74',)\": 1, \"('50',)\": 1, \"('1,620',)\": 1, \"('850',)\": 1, \"('the',)\": 1, \"('42',)\": 1, \"('730',)\": 1, \"('37',)\": 1, \"('230',)\": 1, \"('50,000',)\": 1, \"('352.9',)\": 1, \"('90',)\": 1, \"('1992',)\": 2, \"('20,000',)\": 1, \"('1989',)\": 1, \"('3.75',)\": 1, \"('7.80',)\": 1, \"('98',)\": 1, \"('36.9',)\": 1, \"('6',)\": 1, \"('24.95',)\": 1, \"('11,762',)\": 1, \"('1988',)\": 1, \"('47.125',)\": 1, \"('7.90',)\": 1, \"('5',)\": 1, \"('49',)\": 1, \"('449.04',)\": 1, \"('13.50',)\": 1, \"('Cray',)\": 1, \"('27.1',)\": 1, \"('20.5',)\": 1, \"('6.40',)\": 1, \"('18,000',)\": 1, \"('8.50',)\": 1, \"('1901',)\": 1, \"('2.6',)\": 1, \"('11,000',)\": 1, \"('701',)\": 1, \"('3\\\\/8',)\": 1, \"('1953',)\": 1, \"('77',)\": 1, \"('8.12',)\": 1, \"('3,288,453',)\": 1, \"('176',)\": 1, \"('44',)\": 1, \"('five',)\": 1, \"('6.5',)\": 1, \"('6,000',)\": 1, \"('107',)\": 1, \"('7.458',)\": 1, \"('23.5',)\": 1, \"('700,000',)\": 1, \"('62.625',)\": 1, \"('266',)\": 1, \"('128',)\": 1, \"('5.9',)\": 1, \"('7.45',)\": 1, \"('3.1',)\": 1, \"('179',)\": 1, \"('1.2',)\": 1, \"('609',)\": 1, \"('0.7',)\": 1, \"('1614',)\": 1, \"('hundred',)\": 1, \"('28.6',)\": 1, \"('4.6',)\": 1, \"('6.25',)\": 1, \"('3,600',)\": 1, \"('212',)\": 1, \"('9.625',)\": 1, \"('6.1',)\": 1, \"('490',)\": 1, \"('Two',)\": 1, \"('142.85',)\": 1, \"('1973',)\": 2, \"('300',)\": 2, \"('0.1',)\": 1, \"('37.5',)\": 1, \"('45.75',)\": 1, \"('11.6',)\": 1, \"('TWO',)\": 1, \"('415.8',)\": 1, \"('64',)\": 1, \"('2,500',)\": 1, \"('42.5',)\": 1, \"('1.8415',)\": 1, \"('trillion',)\": 1, \"('8.30',)\": 1, \"('7.272',)\": 1, \"('620',)\": 1, \"('19',)\": 1, \"('236.74',)\": 1, \"('Five',)\": 1, \"('1977',)\": 1, \"('6.79',)\": 1, \"('3.9',)\": 1, \"('374.20',)\": 1, \"('71',)\": 1, \"('2.95',)\": 1, \"('2.46',)\": 1, \"('46',)\": 1, \"('118',)\": 1, \"('1991',)\": 3, \"('1987',)\": 2, \"('95,142',)\": 1, \"('9,118',)\": 1, \"('62',)\": 1, \"('241',)\": 1, \"('77,000',)\": 1, \"('1.8500',)\": 1, \"('3.8',)\": 1, \"('65',)\": 1, \"('0.3',)\": 1, \"('1960s',)\": 1, \"('2019',)\": 1, \"('200,000',)\": 1, \"('THREE',)\": 1, \"('3,500',)\": 1, \"('2.87',)\": 1, \"('446.62',)\": 1, \"('1.39',)\": 1, \"('2.25',)\": 1, \"('18',)\": 1, \"('9.45',)\": 1, \"('83.4',)\": 1, \"('Four',)\": 1, \"('4',)\": 1, \"('130.7',)\": 1, \"('19.3',)\": 1, \"('78',)\": 1, \"('320',)\": 1, \"('321,000',)\": 1, \"('29.9',)\": 1, \"('4,393,237',)\": 1, \"('127.03',)\": 1, \"('48',)\": 1, \"('10',)\": 1, \"('99',)\": 1, \"('339',)\": 1, \"('17.3',)\": 1, \"('8',)\": 1, \"('1990',)\": 1, \"('23,000',)\": 1, \"('600,000',)\": 1, \"('7,500',)\": 1, \"('one',)\": 1, \"('77.56',)\": 1, \"('295',)\": 1, \"('62.5',)\": 1, \"('Three',)\": 1, \"('2.7',)\": 1, \"('160',)\": 1, \"('16,072',)\": 1, \"('35.7',)\": 1, \"('8.25',)\": 1, \"('100',)\": 1, \"('191.9',)\": 1, \"('353',)\": 1, \"('14',)\": 1, \"('2.44',)\": 1, \"('450',)\": 1, \"('445',)\": 1, \"('370',)\": 1, \"('1948',)\": 1, \"('5.276',)\": 1, \"('85.1',)\": 1, \"('2009',)\": 1, \"('1',)\": 1, \"('1.5',)\": 1, \"('8.70',)\": 1, \"('5.57',)\": 1, \"('7.422',)\": 1, \"('88',)\": 1, \"('30,537',)\": 1, \"('220',)\": 1, \"('917',)\": 1, \"('30s',)\": 1, \"('68',)\": 1, \"('8.15',)\": 1, \"('1,500',)\": 1, \"('51',)\": 1, \"('1.82',)\": 1, \"('225',)\": 1, \"('187',)\": 1, \"('175',)\": 1, \"('5.39',)\": 1, \"('16.7',)\": 1, \"('600',)\": 1, \"('119',)\": 1, \"('1.92',)\": 1, \"('1961',)\": 1, \"('2,000',)\": 1, \"('143.08',)\": 1, \"('672',)\": 1, \"('1.65',)\": 1, \"('8.19',)\": 1, \"('2.5',)\": 1, \"('3.01',)\": 1, \"('140',)\": 1, \"('100,980',)\": 1, \"('60,000',)\": 1, \"('8.47',)\": 1, \"('57.6',)\": 1, \"('51.25',)\": 1, \"('66.5',)\": 1, \"('1.9',)\": 1, \"('25.50',)\": 1, \"('1966',)\": 1, \"('35',)\": 1, \"('30,841',)\": 1, \"('2,700',)\": 1, \"('1.28',)\": 1, \"('7.5',)\": 1, \"('12.5',)\": 1, \"('46.1',)\": 1, \"('234.4',)\": 1, \"('72',)\": 1, \"('4,645',)\": 1, \"('214',)\": 1, \"('877,663',)\": 1, \"('1.61',)\": 1, \"('7.20',)\": 1, \"('7.55',)\": 1, \"('25',)\": 1, \"('1999',)\": 1, \"('3.4',)\": 1, \"('8.575',)\": 1, \"('13.8',)\": 1, \"('1984',)\": 1, \"('5\\\\/8',)\": 1, \"('23.4',)\": 1, \"('382',)\": 1, \"('467',)\": 1, \"('5.7',)\": 1, \"('800',)\": 1, \"('75yearold',)\": 1, \"('436.01',)\": 1, \"('70',)\": 1, \"('180',)\": 1, \"('1934',)\": 1, \"('352.7',)\": 1, \"('343',)\": 1, \"('80.8',)\": 1, \"('1.5755',)\": 1, \"('1929',)\": 1, \"('30',)\": 1, \"('60',)\": 1, \"('1.125',)\": 1, \"('58',)\": 1, \"(''50s',)\": 1, \"('Fifteen',)\": 1, \"('77.70',)\": 1, \"('4.8',)\": 1, \"('138',)\": 1, \"('11.5',)\": 1, \"('23',)\": 1, \"('7.88',)\": 1, \"('109.73',)\": 1, \"('858,000',)\": 1, \"('331,000',)\": 1, \"('3.6',)\": 1, \"('57.7',)\": 1, \"('8.04',)\": 1, \"('143.93',)\": 1, \"('150.00',)\": 1, \"('101',)\": 1, \"('45',)\": 1, \"('1982',)\": 1, \"('154.2',)\": 1, \"('2645.90',)\": 1, \"('86',)\": 1, \"('10.2',)\": 1, \"('9.75',)\": 1, \"('2.1',)\": 1, \"('2.80',)\": 1, \"('14.6',)\": 1, \"('1993',)\": 1, \"('59.9',)\": 1, \"('1956',)\": 1, \"('3.42',)\": 1, \"('225.6',)\": 1, \"('13,056',)\": 1, \"('153.3',)\": 1, \"('1970',)\": 1, \"('10year',)\": 1, \"('16,000',)\": 1, \"('5.4',)\": 1, \"('50.45',)\": 1, \"('72.7',)\": 1, \"('15',)\": 1, \"('71,309',)\": 1, \"('1.85',)\": 1, \"('32',)\": 1, \"('84.29',)\": 1, \"('3.7',)\": 1, \"('240,000',)\": 1, \"('50.38',)\": 1, \"('17',)\": 1, \"('1985',)\": 1, \"('1965',)\": 1, \"('1\\\\/8',)\": 1, \"('40',)\": 1, \"('1937',)\": 1, \"('28.4',)\": 1, \"('6.03',)\": 1, \"('1,000',)\": 1, \"('76',)\": 1, \"('325,000',)\": 1, \"('278.7',)\": 1, \"('3:15',)\": 1, \"('8.56',)\": 1, \"('1.01',)\": 1, \"('three',)\": 1, \"('21.9',)\": 1, \"('12,252',)\": 1, \"('69',)\": 1, \"('380',)\": 1, \"('57.50',)\": 1, \"('900',)\": 1, \"('4.25',)\": 1, \"('One',)\": 1, \"('26',)\": 1, \"('14,821',)\": 1, \"('4.9',)\": 1, \"('30,000',)\": 1, \"('13',)\": 1, \"('26.2',)\": 1, \"('130',)\": 1, \"('2',)\": 2, \"('34',)\": 1, \"('1st',)\": 1, \"('360',)\": 1, \"('81.8',)\": 1, \"('13\\\\/16',)\": 1, \"('321',)\": 1, \"('18.95',)\": 1, \"('605',)\": 1, \"('4.75',)\": 1, \"('148.9',)\": 1, \"('149.9',)\": 1, \"('1971',)\": 1, \"('6\\\\/2',)\": 1, \"('250',)\": 1, \"('57',)\": 1, \"('145',)\": 1, \"('55',)\": 1, \"('1980',)\": 1, \"('534',)\": 1, \"('29.4',)\": 1, \"('1,298',)\": 1, \"('456.64',)\": 1, \"('47.6',)\": 1, \"('236.79',)\": 1, \"('27',)\": 1, \"('244,000',)\": 1, \"('two',)\": 1, \"('1\\\\/4',)\": 1, \"('350,000',)\": 1, \"('52',)\": 1, \"('7.78',)\": 1, \"('235',)\": 1, \"('93,000',)\": 1, \"('0.5',)\": 1, \"('1983',)\": 1, \"('1925',)\": 1, \"('9.5',)\": 1, \"('73',)\": 1, \"('3.3',)\": 1, \"('4.875',)\": 1, \"('28',)\": 1, \"('six',)\": 1, \"('43',)\": 1, \"('7.62',)\": 1, \"('170,000',)\": 1, \"('2.3',)\": 1, \"('301',)\": 1, \"('1\\\\/2',)\": 1, \"('3.43',)\": 1, \"('8.53',)\": 1, \"('415.6',)\": 1, \"('7',)\": 1, \"('8.35',)\": 1, \"('250,000',)\": 1, \"('3\\\\/4',)\": 1, \"('500',)\": 1, \"('115',)\": 1, \"('7.40',)\": 1, \"('1996',)\": 1, \"('1967',)\": 1, \"('271,124',)\": 1, \"('750',)\": 1, \"('14.5',)\": 1, \"('340,000',)\": 1, \"('200',)\": 1, \"('3.18',)\": 1, \"('700',)\": 1, \"('61',)\": 1, \"('45,000',)\": 1, \"('705.6',)\": 1, \"('64.5',)\": 1, \"('1955',)\": 1, \"('130.6',)\": 1, \"('767',)\": 1, \"('1.457',)\": 1, \"('6.70',)\": 1, \"('13.625',)\": 1, \"('89.9',)\": 1, \"('1.55',)\": 1, \"('1968',)\": 1, \"('3.23',)\": 1, \"('400',)\": 1, \"('203',)\": 1, \"('8.48',)\": 1, \"('80',)\": 1, \"('eight',)\": 1, \"('2.2',)\": 1, \"('113.2',)\": 1, \"('125',)\": 1, \"('6.20',)\": 1, \"('47.5',)\": 1, \"('IX',)\": 1, \"('190',)\": 1, \"('2.875',)\": 1, \"('2017',)\": 1, \"('four',)\": 1, \"('121.6',)\": 1, \"('53',)\": 1, \"('1933',)\": 1, \"('3.35',)\": 1, \"('7.8',)\": 1, \"('25,000',)\": 1, \"('37.3',)\": 1, \"('89,500',)\": 1, \"('18,444',)\": 1, \"('300,000',)\": 1, \"('120',)\": 1, \"('2029',)\": 1, \"('3.61',)\": 1, \"('22.75',)\": 1, \"('1920s',)\": 1, \"('11',)\": 1, \"('3.5',)\": 1, \"(''82',)\": 1, \"('1975',)\": 1, \"('7.65',)\": 1, \"('400,000',)\": 1, \"('7.95',)\": 1, \"('9.37',)\": 1, \"('7\\\\/16',)\": 1, \"('36',)\": 1, \"('9',)\": 1, \"('41',)\": 1, \"('99.1',)\": 1, \"('26,000',)\": 1, \"('550,000',)\": 1, \"('1.6',)\": 1, \"('25.6',)\": 1, \"('2.65',)\": 1, \"('38',)\": 1, \"('106',)\": 1, \"('570',)\": 1, \"('388',)\": 1, \"('1.7',)\": 1, \"('118.6',)\": 1, \"('722',)\": 1, \"('98.3',)\": 1, \"('89.7',)\": 1, \"('94.8',)\": 1, \"('1950s',)\": 1, \"('1994',)\": 1, \"('155',)\": 1, \"('4.10',)\": 1, \"('15,000',)\": 1, \"('8.06',)\": 1, \"('31',)\": 1, \"('2005',)\": 1, \"('396,000',)\": 1, \"('2.50',)\": 1, \"('0.9',)\": 1, \"('644',)\": 1, \"('11\\\\/16',)\": 1, \"('85',)\": 1, \"('8.467',)\": 1, \"('8.22',)\": 1, \"('63',)\": 1, \"('75',)\": 1, \"('4.5',)\": 1, '<unk>': 1.0} \n",
      "\n",
      "[NX] {'([NNS],)': 2, '([NONE],)': 1, '([NN], [NN])': 1, '([JJS], [NN], [NN])': 1, '([NNS], [NN])': 1, '([NNP], [NN])': 1, '([JJS], [JJ], [NN])': 1, '([NN], [NNS])': 1, '([NX], [CC], [NX], [PP])': 1, '([DT], [NN])': 1, '([JJS], [NN])': 1, '([NX], [CC], [NX])': 1, '([NNP], [NNP], [NN])': 1, '([JJ], [JJ], [NNS])': 1, '([NN], [VBG], [NN])': 1, '([NN], [JJ], [NN])': 1, '([JJ], [NN])': 1, '([NNP], [NNP], [NNP])': 1, '([NN], [NN], [NN])': 1, '([JJ], [NNS])': 1, '([NNP], [NNP])': 1, '([JJ], [JJ], [NN])': 1, '([NX], [PP])': 1, '([NXTTL], [CC], [NXTTL])': 1, '([NP], [SBAR])': 1, '([JJ], [NN], [NN])': 1, '([DT], [JJ], [NN])': 1, '([VBN], [NNS])': 1, '([NN],)': 1, '([JJ], [NN], [NNS])': 1, '<unk>': 1.0} \n",
      "\n",
      "[NPPRD] {'([NP], [PRN], [SBAR])': 1, '([DT], [ADJP], [NN])': 1, '([CD], [NN], [NNS])': 1, '([NP], [PP], [SBAR])': 2, '([CD], [NN], [SBAR])': 1, '([DT], [``], [NN])': 1, '([$], [CD], [NONE])': 1, '([QP], [NONE])': 1, '([NP], [,], [NP])': 1, '([PRP$], [JJ], [NN])': 1, '([NP], [CC], [NP], [PP])': 2, '([DT], [VBG], [NN])': 1, '([DT], [NN], [FW], [NN])': 1, \"([DT], [``], [NN], [''])\": 1, '([DT], [RB], [JJ], [NN])': 1, '([DT], [NN], [JJ])': 1, '([NP], [CC], [ADVP], [NP])': 1, '([NP], [SBAR])': 1, '([NP], [CC], [ADVPTMP], [NP])': 1, '([NP], [X])': 1, '([NP], [PP], [,], [SBAR])': 1, '([DT], [JJR], [NN])': 1, '([NP], [ADVPLOC], [PPCLR])': 1, '([NP], [JJ], [JJ], [NN])': 1, '([DT], [VBG], [VBG], [NN])': 1, '([NP], [PP], [ADJP], [VP])': 1, '([NP], [,], [SBAR])': 1, '([NP], [PP], [S])': 1, '([JJ], [NN], [NN], [NNS])': 1, '([DT], [JJ], [NN])': 1, '([JJR],)': 1, '([JJ], [NNS])': 1, '([NP], [PP])': 1, '([DT], [NNS])': 1, '([NNS], [,], [RB], [NNS])': 1, '([DT], [NN], [NN])': 1, '([JJ], [NN])': 1, '([VBG], [NN], [SBAR])': 1, '([NP], [PP], [PPLOC])': 1, '([JJ], [NN], [NNS])': 1, '([NP], [PPDIR])': 1, '([ADJP], [JJ], [NNS])': 1, '([NP], [ADJP])': 1, '([NP], [ADVP])': 1, '([NP], [``], [NP])': 1, '([DT],)': 1, '([DT], [ADJP])': 1, '([NP], [CC], [NP])': 1, '([NNP], [NNP])': 1, '([NP], [JJ], [NN], [NN])': 1, '([DT], [NAC], [NN])': 1, '([NP], [PPLOC], [SBAR])': 1, '([QP], [NN])': 1, '([DT], [NN])': 1, '([CD], [JJ], [CD])': 1, '([NP],)': 1, '([VBN], [NNS])': 1, '([DT], [NNP], [CD])': 1, '([NP], [PP], [PP])': 1, '([NP], [VP])': 1, '([NP], [NP])': 1, '([NP], [PP], [PPTMP])': 1, '([DT], [NN], [S])': 1, '([NP], [PPLOC], [S])': 1, '([DT], [JJS], [NN], [NNS])': 1, \"([``], [NP], [''], [PRN])\": 1, '([NNP], [NN])': 1, '([RB], [JJ], [NNS])': 1, '([NP], [PPLOC])': 1, '([NP], [SBARLOC])': 1, '([JJ], [JJ], [NNS], [SBAR])': 1, '([NN], [NN])': 1, '([NP], [SBARTMP])': 1, '([NP], [:], [VP])': 1, '([NP], [PPTMP])': 1, '([PRP$], [NN])': 1, '([DT], [JJ])': 1, '([DT], [NN], [SBAR])': 1, '([NN], [NNS])': 1, '([NP], [PP], [NP])': 1, '([NN], [SBAR])': 1, '([NP], [PPLOC], [SBARLOC])': 1, '([NP], [,], [RB], [SNOM])': 1, '([DT], [JJ], [QP], [NNS])': 1, '([NP], [:], [NP])': 1, '([DT], [JJS])': 1, '([NN],)': 1, '([NP], [PRN], [PP])': 1, '([``], [NP], [SBAR])': 1, '([NNP],)': 1, '([NNP], [NNP], [NNP])': 1, '([PDT], [DT], [JJ], [NN])': 1, '([NP], [,], [ADVP])': 1, '([NP], [PPLOC], [PP])': 1, '([NP], [,], [CC], [NP])': 1, '([CD],)': 1, '([NNS], [SBAR])': 1, '([NP], [VP], [PP])': 1, '([NP], [ADJP], [PP])': 1, '([NONE],)': 1, '([NNS],)': 1, '([DT], [JJ], [NN], [NN])': 1, '([NP], [PRN])': 1, '([CD], [NN])': 1, '([DT], [JJ], [JJ], [NN])': 1, '<unk>': 1.0} \n",
      "\n",
      "[VBZ] {\"('gets',)\": 1, \"('defends',)\": 1, \"('develops',)\": 1, \"('involves',)\": 1, \"('moves',)\": 1, \"('eases',)\": 1, \"('lacks',)\": 1, \"('Is',)\": 1, \"('boosts',)\": 1, \"('relies',)\": 1, \"('conforms',)\": 1, \"('stands',)\": 1, \"('picks',)\": 1, \"('carries',)\": 1, \"('mirrors',)\": 1, \"('insists',)\": 1, \"('contends',)\": 1, \"('changes',)\": 1, \"('puts',)\": 1, \"('equals',)\": 1, \"('complains',)\": 1, \"('answers',)\": 1, \"('follows',)\": 1, \"('protects',)\": 1, \"('considers',)\": 1, \"('restricts',)\": 1, \"('views',)\": 1, \"('creates',)\": 1, \"('returns',)\": 1, \"('decides',)\": 1, \"('belongs',)\": 1, \"('denies',)\": 1, \"('takes',)\": 1, \"('is',)\": 1, \"('prohibits',)\": 1, \"('plays',)\": 1, \"('responds',)\": 1, \"('works',)\": 1, \"('spurns',)\": 1, \"('manages',)\": 1, \"('invades',)\": 1, \"('prevents',)\": 1, \"('comments',)\": 1, \"('dissolves',)\": 1, \"('measures',)\": 1, \"('costs',)\": 1, \"('purrs',)\": 1, \"('owns',)\": 1, \"('enables',)\": 1, \"('claims',)\": 1, \"('values',)\": 1, \"('starts',)\": 1, \"('runs',)\": 1, \"('heads',)\": 1, \"('fills',)\": 1, \"('initiatives',)\": 1, \"('succeeds',)\": 1, \"('interjects',)\": 1, \"('quips',)\": 1, \"('sells',)\": 1, \"('matters',)\": 1, \"('Takes',)\": 1, \"('anticipates',)\": 1, \"('transfers',)\": 1, \"('begins',)\": 1, \"('emerges',)\": 1, \"('publishes',)\": 1, \"('tracks',)\": 1, \"('keeps',)\": 1, \"('Closes',)\": 1, \"('earns',)\": 1, \"('becomes',)\": 1, \"('propagandizes',)\": 1, \"('specializes',)\": 1, \"('promises',)\": 1, \"('outstrips',)\": 1, \"('illustrates',)\": 1, \"('gains',)\": 1, \"('supplies',)\": 1, \"('warrants',)\": 1, \"('CLEARS',)\": 1, \"('decries',)\": 1, \"('serves',)\": 1, \"('attributes',)\": 1, \"('causes',)\": 1, \"('blinks',)\": 1, \"('implies',)\": 1, \"('disturbs',)\": 1, \"('sanctions',)\": 1, \"('targets',)\": 1, \"('helps',)\": 1, \"('throws',)\": 1, \"('empowers',)\": 1, \"('chooses',)\": 1, \"('prompts',)\": 1, \"('aims',)\": 1, \"('aces',)\": 1, \"('finds',)\": 1, \"('brings',)\": 1, \"('counts',)\": 1, \"('exhibits',)\": 1, \"('hopes',)\": 1, \"('holds',)\": 1, \"('bans',)\": 1, \"('provides',)\": 1, \"('increases',)\": 1, \"('describes',)\": 1, \"('centers',)\": 1, \"('awards',)\": 1, \"('lapses',)\": 1, \"('opens',)\": 1, \"('accounts',)\": 1, \"('receives',)\": 1, \"('approves',)\": 1, \"('fumes',)\": 1, \"('encourages',)\": 1, \"('sees',)\": 1, \"('covers',)\": 1, \"('indicates',)\": 1, \"('draws',)\": 1, \"('digs',)\": 1, \"('signals',)\": 1, \"('spends',)\": 1, \"('pushes',)\": 1, \"('charges',)\": 1, \"('stays',)\": 1, \"('forces',)\": 1, \"('offers',)\": 1, \"('perceives',)\": 1, \"('marks',)\": 1, \"('uses',)\": 1, \"('replies',)\": 1, \"('disappears',)\": 1, \"('posts',)\": 1, \"('goes',)\": 1, \"('expires',)\": 1, \"(''s',)\": 1, \"('repeals',)\": 1, \"('invests',)\": 1, \"('factors',)\": 1, \"('operates',)\": 1, \"('agrees',)\": 1, \"('looks',)\": 1, \"('tells',)\": 1, \"('makes',)\": 1, \"('turns',)\": 1, \"('flows',)\": 1, \"('talks',)\": 1, \"('hangs',)\": 1, \"('estimates',)\": 1, \"('executes',)\": 1, \"('trades',)\": 1, \"('dominates',)\": 1, \"('parallels',)\": 1, \"('introduces',)\": 1, \"('worries',)\": 1, \"('declines',)\": 1, \"('reasserts',)\": 1, \"('faces',)\": 1, \"('seems',)\": 1, \"('warns',)\": 1, \"('breaks',)\": 1, \"('plans',)\": 1, \"('entitles',)\": 1, \"('Says',)\": 1, \"('proscribes',)\": 1, \"('harms',)\": 1, \"('suspects',)\": 1, \"('reaches',)\": 1, \"('pitches',)\": 1, \"('gauges',)\": 1, \"('scoffs',)\": 1, \"('aspires',)\": 1, \"('argues',)\": 1, \"('outranks',)\": 1, \"('builds',)\": 1, \"('sends',)\": 1, \"('raises',)\": 1, \"('attracts',)\": 1, \"('comes',)\": 1, \"('attempts',)\": 1, \"('states',)\": 1, \"('controls',)\": 1, \"('includes',)\": 1, \"('predicts',)\": 1, \"('teaches',)\": 1, \"('has',)\": 1, \"('AGREES',)\": 1, \"('Earns',)\": 1, \"('fails',)\": 1, \"('acknowledges',)\": 1, \"('thinks',)\": 1, \"('employs',)\": 1, \"('opposes',)\": 1, \"('means',)\": 1, \"('favors',)\": 1, \"('speaks',)\": 1, \"('shrinks',)\": 1, \"('explains',)\": 1, \"('admits',)\": 1, \"('expects',)\": 1, \"('retires',)\": 1, \"('confirms',)\": 1, \"('exists',)\": 1, \"('wins',)\": 1, \"('notes',)\": 1, \"('erodes',)\": 1, \"('suggests',)\": 1, \"('disagrees',)\": 1, \"('knows',)\": 1, \"('concedes',)\": 1, \"('loses',)\": 1, \"('calls',)\": 1, \"('does',)\": 1, \"('pins',)\": 1, \"('ends',)\": 1, \"('improves',)\": 1, \"('rates',)\": 1, \"('contrasts',)\": 1, \"('occurs',)\": 1, \"('meets',)\": 1, \"('orders',)\": 1, \"('enters',)\": 1, \"('benefits',)\": 1, \"('wears',)\": 1, \"('feels',)\": 1, \"('lives',)\": 1, \"('reflects',)\": 1, \"('amounts',)\": 1, \"('appears',)\": 1, \"('remains',)\": 1, \"(''S',)\": 1, \"('understands',)\": 1, \"('says',)\": 1, \"('resembles',)\": 1, \"('represents',)\": 1, \"('doubts',)\": 1, \"('leaves',)\": 1, \"('markets',)\": 1, \"('places',)\": 1, \"('casts',)\": 1, \"('threatens',)\": 1, \"('tempts',)\": 1, \"('Competes',)\": 1, \"('wants',)\": 1, \"('cites',)\": 1, \"('Adds',)\": 1, \"('seeks',)\": 1, \"('needs',)\": 1, \"('shows',)\": 1, \"('perpetuates',)\": 1, \"('continues',)\": 1, \"('refuses',)\": 1, \"('happens',)\": 1, \"('resists',)\": 1, \"('adds',)\": 1, \"('contains',)\": 1, \"('asserts',)\": 1, \"('sounds',)\": 1, \"('imposes',)\": 1, \"('blocks',)\": 1, \"('alerts',)\": 1, \"('sets',)\": 1, \"('asks',)\": 1, \"('eliminates',)\": 1, \"('recalls',)\": 1, \"('reasons',)\": 1, \"('presumes',)\": 1, \"('reports',)\": 1, \"('stresses',)\": 1, \"('blames',)\": 1, \"('acquires',)\": 1, \"('requires',)\": 1, \"('broadcasts',)\": 1, \"('defeats',)\": 1, \"('acts',)\": 1, \"('rings',)\": 1, \"('gives',)\": 1, \"('competes',)\": 1, \"('demonstrates',)\": 1, \"('grows',)\": 1, \"('consists',)\": 1, \"('believes',)\": 1, \"('Fails',)\": 1, \"('combines',)\": 1, \"('Touches',)\": 1, \"('compares',)\": 1, \"('treats',)\": 1, \"('joins',)\": 1, \"('expands',)\": 1, '<unk>': 1.0} \n",
      "\n",
      "[ADJP] {'([JJR], [VBN])': 1, '([RB], [JJR], [IN])': 1, '([RB], [VBN])': 1, '([ADJP], [CC], [ADJP])': 1, '([CD], [CD], [NN])': 1, '([NN], [NN])': 1, '([NNS], [CC], [NNS])': 1, '([JJ], [PPLOC])': 1, '([RB],)': 1, '([ADJP], [,], [CC], [ADJP])': 1, '([ADVP], [JJ])': 1, '([JJR], [PP])': 1, '([RB], [VBG])': 1, '([JJ], [,], [CC], [JJ])': 1, '([$], [CD], [JJ])': 1, '([JJS], [JJ], [S])': 1, '([RB], [RB], [S])': 1, '([NN], [JJ])': 1, '([JJ],)': 1, '([RB], [JJ])': 1, '([NN], [RB], [SBAR])': 1, '([JJ], [PRN])': 1, '([RBR], [JJ])': 1, '([JJ], [JJ])': 1, '([RBS], [RB], [JJ])': 1, '([JJ], [RB])': 1, '([NP], [JJ])': 1, '([RB], [RB])': 1, '([JJ], [CC], [NNP])': 1, '([ADVPTMP], [RB], [JJ])': 1, '([$], [JJ], [NONE])': 1, '([NN],)': 1, '([JJR], [JJ])': 1, '([NNP], [,], [JJ])': 1, '([JJ], [PP])': 2, '([JJ], [RB], [SBAR])': 1, '([RB], [VBN], [PRT], [PP])': 1, '([RB], [JJ], [PPLOC])': 1, '([QP], [JJR])': 1, '([JJ], [CC], [JJ])': 1, '([RB], [RB], [PP], [S])': 1, '([ADVPTMP], [VBN])': 1, '([JJ], [NPTMP])': 1, '([DT], [ADJP], [CC], [ADJP])': 1, '([RBS], [VBN])': 1, '([ADVP], [JJ], [PP])': 1, '([JJ], [CC], [VBG])': 1, '([JJ], [CD], [NN])': 1, '([RB], [JJR])': 1, '([VBN], [PP])': 1, '([NPADV], [JJR])': 1, '([QP], [RB], [JJ])': 1, '([ADJP], [PP])': 1, '([RB], [JJ], [PP])': 2, '([RBR], [JJ], [PP])': 1, '([RB], [DT])': 1, '([JJS], [JJ])': 1, '([RB], [RB], [JJ], [PP])': 1, '([JJ], [JJS])': 1, '([ADVP], [VBN])': 1, '([VBN],)': 1, '([VB], [JJR])': 1, '([NONE],)': 1, '([JJ], [PPTMP])': 1, '([DT],)': 1, '([NNP], [JJ])': 1, '([JJ], [S])': 1, '([RB], [RBR], [JJ])': 1, '([ADVP], [RB], [JJR])': 1, '([JJR], [CC], [JJR])': 1, '([QP], [NN])': 1, '([NPADV], [JJ])': 1, '([NNP], [NNP])': 1, '([ADVPTMP], [JJ])': 1, '([JJ], [SBAR])': 1, '([CD], [NN])': 1, '([$], [CD], [NONE])': 1, '([VBN], [PPCLR])': 1, '([JJ], [JJR])': 1, '([CD], [NNS])': 1, '([VBG], [CC], [VBG])': 1, '([RB], [RB], [JJ])': 1, '([NNS], [PRN], [VBN])': 1, '([RB], [JJ], [CC], [JJ])': 1, '([JJR],)': 1, '([RBS], [JJ])': 1, '([QP], [NONE])': 1, '<unk>': 1.0} \n",
      "\n",
      "[JJR] {\"('greater',)\": 1, \"('older',)\": 1, \"('younger',)\": 1, \"('better',)\": 1, \"('stiffer',)\": 1, \"('longer',)\": 1, \"('Shorter',)\": 1, \"('faster',)\": 1, \"('newer',)\": 1, \"('slower',)\": 1, \"('worse',)\": 1, \"('sharper',)\": 1, \"('more',)\": 1, \"('lighter',)\": 1, \"('lower',)\": 1, \"('Moreover',)\": 1, \"('steeper',)\": 1, \"('Longer',)\": 1, \"('closer',)\": 1, \"('Earlier',)\": 1, \"('larger',)\": 1, \"('savvier',)\": 1, \"('broader',)\": 1, \"('Higher',)\": 1, \"('further',)\": 1, \"('More',)\": 1, \"('higher',)\": 1, \"('riskier',)\": 1, \"('smaller',)\": 1, \"('cheaper',)\": 1, \"('bigger',)\": 1, \"('harder',)\": 1, \"('lesser',)\": 1, \"('happier',)\": 1, \"('fuller',)\": 1, \"('less',)\": 1, \"('cleaner',)\": 1, \"('earlier',)\": 1, \"('softer',)\": 1, \"('stronger',)\": 1, \"('easier',)\": 1, \"('fewer',)\": 1, '<unk>': 1.0} \n",
      "\n",
      "[FRAG] {'([NPSBJ], [PPTMP])': 1, '([NPSBJ], [NP], [,], [VP])': 1, '([NP], [.])': 1, '([NPSBJ], [VP])': 5, '([RB], [PP])': 1, '([ADJP], [.])': 1, '([SADV], [:], [NP], [.])': 1, '([NPSBJ], [,], [VP])': 3, '([NP], [:], [S], [.])': 1, '([ADVPTMP], [ADVPLOC])': 1, '([ADVP],)': 1, '([ADJPPRD],)': 1, '([NONE],)': 1, '([NP], [,], [SBARPRP], [.])': 1, '([RB], [NPTMP], [.])': 1, '([PPLOC],)': 1, '([NP],)': 1, '([ADVP], [ADJP])': 1, '([PP],)': 1, '([RB], [NPSBJ])': 1, '([FRAG], [:], [FRAG], [.])': 1, '([NP], [:], [S])': 1, '([SBARADV],)': 1, '([PP], [:], [NP], [.])': 1, '([WHNP], [SBAR], [.])': 1, '([NPSBJ], [NP])': 1, '([NPSBJ], [,], [NP])': 1, '<unk>': 1.0} \n",
      "\n",
      "[VBG] {\"('descending',)\": 1, \"('asserting',)\": 1, \"('deteriorating',)\": 1, \"('sweeping',)\": 1, \"('twisting',)\": 1, \"('diversifying',)\": 1, \"('manufacturing',)\": 1, \"('Continuing',)\": 1, \"('arising',)\": 1, \"('sparking',)\": 1, \"('according',)\": 1, \"('slashing',)\": 1, \"('driving',)\": 1, \"('studying',)\": 1, \"('crying',)\": 1, \"('increasing',)\": 1, \"('adjusting',)\": 1, \"('building',)\": 1, \"('swelling',)\": 1, \"('requiring',)\": 1, \"('following',)\": 1, \"('apologizing',)\": 1, \"('contributing',)\": 1, \"('hitting',)\": 1, \"('Citing',)\": 1, \"('limiting',)\": 1, \"('refreshing',)\": 1, \"('dwindling',)\": 1, \"('attacking',)\": 1, \"('undergoing',)\": 1, \"('beginning',)\": 1, \"('drawing',)\": 1, \"('Performing',)\": 1, \"('offsetting',)\": 1, \"('bundling',)\": 1, \"('sounding',)\": 1, \"('mating',)\": 1, \"('sitting',)\": 1, \"('naming',)\": 1, \"('removing',)\": 1, \"('needing',)\": 1, \"('demonstrating',)\": 1, \"('stimulating',)\": 1, \"('TRIMMING',)\": 1, \"('choosing',)\": 1, \"('appearing',)\": 1, \"('Being',)\": 1, \"('planning',)\": 1, \"('marching',)\": 1, \"('tailoring',)\": 1, \"('selling',)\": 1, \"('changing',)\": 1, \"('punishing',)\": 1, \"('recruiting',)\": 1, \"('happening',)\": 1, \"('closing',)\": 1, \"('photocopying',)\": 1, \"('joining',)\": 1, \"('killing',)\": 1, \"('opening',)\": 1, \"('explaining',)\": 1, \"('viewing',)\": 1, \"('resulting',)\": 1, \"('completing',)\": 1, \"('pending',)\": 1, \"('appealing',)\": 1, \"('Getting',)\": 1, \"('anticipating',)\": 1, \"('belonging',)\": 1, \"('noticing',)\": 1, \"('agreeing',)\": 1, \"('consisting',)\": 1, \"('continuing',)\": 1, \"('enjoying',)\": 1, \"('walking',)\": 1, \"('pushing',)\": 1, \"('ignoring',)\": 1, \"('sorting',)\": 1, \"('redeeming',)\": 1, \"('teetering',)\": 1, \"('boarding',)\": 1, \"('fuming',)\": 1, \"('using',)\": 1, \"('looking',)\": 1, \"('pumping',)\": 1, \"('returning',)\": 1, \"('doing',)\": 1, \"('prosecuting',)\": 1, \"('carrying',)\": 1, \"('achieving',)\": 1, \"('warning',)\": 1, \"('purchasing',)\": 1, \"('investigating',)\": 1, \"('resisting',)\": 1, \"('bearing',)\": 1, \"('extending',)\": 1, \"('eating',)\": 1, \"('addressing',)\": 1, \"('scrambling',)\": 1, \"('altering',)\": 1, \"('advertising',)\": 1, \"('conducting',)\": 1, \"('betting',)\": 1, \"('arguing',)\": 1, \"('ushering',)\": 1, \"('stepping',)\": 1, \"('recognizing',)\": 1, \"('asking',)\": 1, \"('declining',)\": 1, \"('performing',)\": 1, \"('condemning',)\": 1, \"('Adopting',)\": 1, \"('retaining',)\": 1, \"('watching',)\": 1, \"('quitting',)\": 1, \"('recovering',)\": 1, \"('sleeping',)\": 1, \"('lying',)\": 1, \"('signaling',)\": 1, \"('growing',)\": 1, \"('retaliating',)\": 1, \"('keeping',)\": 1, \"('designing',)\": 1, \"('Filling',)\": 1, \"('segmenting',)\": 1, \"('PORTING',)\": 1, \"('servicing',)\": 1, \"('calling',)\": 1, \"('factoring',)\": 1, \"('dating',)\": 1, \"('ailing',)\": 1, \"('Winning',)\": 1, \"('serving',)\": 1, \"('paying',)\": 1, \"('Beginning',)\": 1, \"('publishing',)\": 1, \"('cooperating',)\": 1, \"('refitting',)\": 1, \"('facing',)\": 1, \"('marketing',)\": 1, \"('Determining',)\": 1, \"('showing',)\": 1, \"('noting',)\": 1, \"('meaning',)\": 1, \"('devouring',)\": 1, \"('transferring',)\": 1, \"('researching',)\": 1, \"('justifying',)\": 1, \"('Judging',)\": 1, \"('specializing',)\": 1, \"('drinking',)\": 1, \"('putting',)\": 1, \"('evoking',)\": 1, \"('ratcheting',)\": 1, \"('undercutting',)\": 1, \"('aiming',)\": 1, \"('collecting',)\": 1, \"('claiming',)\": 1, \"('rewarding',)\": 1, \"('varying',)\": 1, \"('eyeing',)\": 1, \"('devastating',)\": 1, \"('wallowing',)\": 1, \"('running',)\": 1, \"('soaring',)\": 1, \"('acquiring',)\": 1, \"('reflecting',)\": 1, \"('correcting',)\": 1, \"('lessening',)\": 1, \"('abounding',)\": 1, \"('starting',)\": 1, \"('outlawing',)\": 1, \"('racing',)\": 1, \"('preserving',)\": 1, \"('disseminating',)\": 1, \"('alleging',)\": 1, \"('providing',)\": 1, \"('featuring',)\": 1, \"('pointing',)\": 1, \"('satisfying',)\": 1, \"('jeopardizing',)\": 1, \"('losing',)\": 1, \"('challenging',)\": 1, \"('eliminating',)\": 1, \"('revising',)\": 1, \"('trying',)\": 1, \"('disclosing',)\": 1, \"('practicing',)\": 1, \"('protecting',)\": 1, \"('setting',)\": 1, \"('leaving',)\": 1, \"('owning',)\": 1, \"('boosting',)\": 1, \"('fundraising',)\": 1, \"('searching',)\": 1, \"('posing',)\": 1, \"('including',)\": 1, \"('counting',)\": 1, \"('cutting',)\": 1, \"('reporting',)\": 1, \"('booming',)\": 1, \"('prohibiting',)\": 1, \"('Defending',)\": 1, \"('surrounding',)\": 1, \"('winning',)\": 1, \"('suing',)\": 1, \"('mailing',)\": 1, \"('expanding',)\": 1, \"('experiencing',)\": 1, \"('failing',)\": 1, \"('dividing',)\": 1, \"('undertaking',)\": 1, \"('sliding',)\": 1, \"('enabling',)\": 1, \"('permitting',)\": 1, \"('inching',)\": 1, \"('smothering',)\": 1, \"('surviving',)\": 1, \"('mobilizing',)\": 1, \"('rallying',)\": 1, \"('underlying',)\": 1, \"('granting',)\": 1, \"('thinking',)\": 1, \"('insinuating',)\": 1, \"('spurring',)\": 1, \"('traveling',)\": 1, \"('urging',)\": 1, \"('Assuming',)\": 1, \"('fainting',)\": 1, \"('feeling',)\": 1, \"('refunding',)\": 1, \"('DIALING',)\": 1, \"('funding',)\": 1, \"('transporting',)\": 1, \"('easing',)\": 1, \"('SWITCHING',)\": 1, \"('Taking',)\": 1, \"('retiring',)\": 1, \"('striving',)\": 1, \"('investing',)\": 1, \"('acknowledging',)\": 1, \"('abridging',)\": 1, \"('plunging',)\": 1, \"('prevailing',)\": 1, \"('assuming',)\": 1, \"('guarding',)\": 1, \"('considering',)\": 1, \"('creating',)\": 1, \"('cascading',)\": 1, \"('restricting',)\": 1, \"('copying',)\": 1, \"('abating',)\": 1, \"('exerting',)\": 1, \"('committing',)\": 1, \"('defying',)\": 1, \"('talking',)\": 1, \"('going',)\": 1, \"('accusing',)\": 1, \"('referring',)\": 1, \"('being',)\": 1, \"('managing',)\": 1, \"('working',)\": 1, \"('posting',)\": 1, \"('stretching',)\": 1, \"('having',)\": 1, \"('ending',)\": 1, \"('sending',)\": 1, \"('Following',)\": 1, \"('foundering',)\": 1, \"('authorizing',)\": 1, \"('According',)\": 1, \"('propelling',)\": 1, \"('raising',)\": 1, \"('shrinking',)\": 1, \"('advancing',)\": 1, \"('causing',)\": 1, \"('characterizing',)\": 1, \"('exceeding',)\": 1, \"('cruising',)\": 1, \"('converting',)\": 1, \"('tracking',)\": 1, \"('sagging',)\": 1, \"('scaring',)\": 1, \"('barking',)\": 1, \"('labeling',)\": 1, \"('overriding',)\": 1, \"('proposing',)\": 1, \"('buying',)\": 1, \"('placing',)\": 1, \"('seeking',)\": 1, \"('existing',)\": 1, \"('waiving',)\": 1, \"('developing',)\": 1, \"('Offering',)\": 1, \"('inviting',)\": 1, \"('falling',)\": 1, \"('awarding',)\": 1, \"('slowing',)\": 1, \"('recommending',)\": 1, \"('laughing',)\": 1, \"('indulging',)\": 1, \"('yielding',)\": 1, \"('encroaching',)\": 1, \"('depending',)\": 1, \"('attempting',)\": 1, \"('filling',)\": 1, \"('Arbitraging',)\": 1, \"('functioning',)\": 1, \"('citing',)\": 1, \"('uttering',)\": 1, \"('transforming',)\": 1, \"('frustrating',)\": 1, \"('hailing',)\": 1, \"('responding',)\": 1, \"('pulling',)\": 1, \"('directing',)\": 1, \"('relating',)\": 1, \"('stacking',)\": 1, \"('discontinuing',)\": 1, \"('trading',)\": 1, \"('lagging',)\": 1, \"('finding',)\": 1, \"('telling',)\": 1, \"('getting',)\": 1, \"('forcing',)\": 1, \"('replacing',)\": 1, \"('saving',)\": 1, \"('making',)\": 1, \"('picking',)\": 1, \"('heating',)\": 1, \"('passing',)\": 1, \"('quashing',)\": 1, \"('installing',)\": 1, \"('upsetting',)\": 1, \"('thumbing',)\": 1, \"('transacting',)\": 1, \"('rising',)\": 1, \"('saying',)\": 1, \"('admitting',)\": 1, \"('declaring',)\": 1, \"('offering',)\": 1, \"('signing',)\": 1, \"('helping',)\": 1, \"('leveraging',)\": 1, \"('queuing',)\": 1, \"('crashing',)\": 1, \"('ordering',)\": 1, \"('amending',)\": 1, \"('controlling',)\": 1, \"('establishing',)\": 1, \"('initiating',)\": 1, \"('deterring',)\": 1, \"('leveling',)\": 1, \"('expecting',)\": 1, \"('crossing',)\": 1, \"('pressing',)\": 1, \"('improving',)\": 1, \"('behaving',)\": 1, \"('ranging',)\": 1, \"('pitting',)\": 1, \"('lending',)\": 1, \"('sketching',)\": 1, \"('emerging',)\": 1, \"('remaining',)\": 1, \"('financing',)\": 1, \"('pealing',)\": 1, \"('letting',)\": 1, \"('entering',)\": 1, \"('complaining',)\": 1, \"('engaging',)\": 1, \"('Knowing',)\": 1, \"('limping',)\": 1, \"('accepting',)\": 1, \"('gauging',)\": 1, \"('encircling',)\": 1, \"('stemming',)\": 1, \"('scrutinizing',)\": 1, \"('safeguarding',)\": 1, \"('spending',)\": 1, \"('moving',)\": 1, \"('dominating',)\": 1, \"('promoting',)\": 1, \"('overpaying',)\": 1, \"('restructuring',)\": 1, \"('attending',)\": 1, \"('phasing',)\": 1, \"('demanding',)\": 1, \"('fetching',)\": 1, \"('packaging',)\": 1, \"('checking',)\": 1, \"('proving',)\": 1, \"('covering',)\": 1, \"('sentencing',)\": 1, \"('curbing',)\": 1, \"('focusing',)\": 1, \"('issuing',)\": 1, \"('turning',)\": 1, \"('lowering',)\": 1, \"('ringing',)\": 1, \"('wrecking',)\": 1, \"('delivering',)\": 1, \"('subjecting',)\": 1, \"('commenting',)\": 1, \"('clearing',)\": 1, \"('attracting',)\": 1, \"('imposing',)\": 1, \"('Moving',)\": 1, \"('denouncing',)\": 1, \"('receiving',)\": 1, \"('leading',)\": 1, \"('discussing',)\": 1, \"('rebounding',)\": 1, \"('hurting',)\": 1, \"('Encouraging',)\": 1, \"('reducing',)\": 1, \"('broadcasting',)\": 1, \"('holding',)\": 1, \"('deliberating',)\": 1, \"('stressing',)\": 1, \"('indicating',)\": 1, \"('becoming',)\": 1, \"('sacrificing',)\": 1, \"('speaking',)\": 1, \"('banning',)\": 1, \"('occupying',)\": 1, \"('representing',)\": 1, \"('maturing',)\": 1, \"('borrowing',)\": 1, \"('gaining',)\": 1, \"('discouraging',)\": 1, \"('offending',)\": 1, \"('recalling',)\": 1, \"('operating',)\": 1, \"('reshaping',)\": 1, \"('totaling',)\": 1, \"('targeting',)\": 1, \"('visiting',)\": 1, \"('jumping',)\": 1, \"('predicting',)\": 1, \"('living',)\": 1, \"('reinstating',)\": 1, \"('taking',)\": 1, \"('succeeding',)\": 1, \"('dealing',)\": 1, \"('writing',)\": 1, \"('bombarding',)\": 1, \"('Having',)\": 1, \"('negotiating',)\": 1, \"('championing',)\": 1, \"('conceding',)\": 1, \"('containing',)\": 1, \"('breaking',)\": 1, \"('Observing',)\": 1, \"('executing',)\": 1, \"('producing',)\": 1, \"('quoting',)\": 1, \"('snaking',)\": 1, \"('Legislating',)\": 1, \"('initialing',)\": 1, \"('wooing',)\": 1, \"('introducing',)\": 1, \"('impending',)\": 1, \"('preventing',)\": 1, \"('weighing',)\": 1, \"('climbing',)\": 1, \"('playing',)\": 1, \"('maintaining',)\": 1, \"('bringing',)\": 1, \"('contesting',)\": 1, \"('Standing',)\": 1, \"('replicating',)\": 1, \"('waiting',)\": 1, \"('competing',)\": 1, \"('reviewing',)\": 1, \"('abolishing',)\": 1, \"('casting',)\": 1, \"('fighting',)\": 1, \"('denying',)\": 1, \"('involving',)\": 1, \"('concentrating',)\": 1, \"('heading',)\": 1, \"('looming',)\": 1, \"('regarding',)\": 1, \"('inquiring',)\": 1, \"('encouraging',)\": 1, \"('reciting',)\": 1, \"('forecasting',)\": 1, \"('coming',)\": 1, \"('Excluding',)\": 1, \"('fawning',)\": 1, \"('adapting',)\": 1, \"('exchanging',)\": 1, \"('banking',)\": 1, \"('deducting',)\": 1, \"('Reducing',)\": 1, \"('worrying',)\": 1, \"('obtaining',)\": 1, \"('regulating',)\": 1, \"('giving',)\": 1, \"('reeling',)\": 1, \"('backing',)\": 1, \"('struggling',)\": 1, \"('requesting',)\": 1, \"('accounting',)\": 1, \"('shaping',)\": 1, \"('adding',)\": 1, \"('seeing',)\": 1, \"('shoring',)\": 1, \"('evaluating',)\": 1, '<unk>': 1.0} \n",
      "\n",
      "[VBN] {\"('proven',)\": 1, \"('removed',)\": 1, \"('protected',)\": 1, \"('stacked',)\": 1, \"('diversified',)\": 1, \"('helped',)\": 1, \"('repaired',)\": 1, \"('allocated',)\": 1, \"('mounted',)\": 1, \"('located',)\": 1, \"('dominated',)\": 1, \"('organized',)\": 1, \"('won',)\": 1, \"('compared',)\": 1, \"('boosted',)\": 1, \"('scrapped',)\": 1, \"('invested',)\": 1, \"('colored',)\": 1, \"('rumored',)\": 1, \"('polarized',)\": 1, \"('OFFERED',)\": 1, \"('understood',)\": 1, \"('impaired',)\": 1, \"('mortgaged',)\": 1, \"('brought',)\": 1, \"('respected',)\": 1, \"('auctioned',)\": 1, \"('discovered',)\": 1, \"('headed',)\": 1, \"('increased',)\": 1, \"('acquired',)\": 1, \"('accelerated',)\": 1, \"('convinced',)\": 1, \"('Related',)\": 1, \"('endorsed',)\": 1, \"('remarked',)\": 1, \"('predicated',)\": 1, \"('exhibited',)\": 1, \"('hunted',)\": 1, \"('risen',)\": 1, \"('hired',)\": 1, \"('closed',)\": 1, \"('studied',)\": 1, \"('known',)\": 1, \"('got',)\": 1, \"('contacted',)\": 1, \"('completed',)\": 1, \"('chosen',)\": 1, \"('drafted',)\": 1, \"('promised',)\": 1, \"('frightened',)\": 1, \"('convicted',)\": 1, \"('planned',)\": 1, \"('developed',)\": 1, \"('assured',)\": 1, \"('worked',)\": 1, \"('found',)\": 1, \"('replicated',)\": 1, \"('condemned',)\": 1, \"('determined',)\": 1, \"('passed',)\": 1, \"('stressed',)\": 1, \"('integrated',)\": 1, \"('Rated',)\": 1, \"('overused',)\": 1, \"('revived',)\": 1, \"('followed',)\": 1, \"('reached',)\": 1, \"('believed',)\": 1, \"('limited',)\": 1, \"('concerned',)\": 1, \"('matched',)\": 1, \"('invented',)\": 1, \"('given',)\": 1, \"('wasted',)\": 1, \"('skyrocketed',)\": 1, \"('stopped',)\": 1, \"('used',)\": 1, \"('cluttered',)\": 1, \"('desired',)\": 1, \"('midsized',)\": 1, \"('permitted',)\": 1, \"('started',)\": 1, \"('begun',)\": 1, \"('torn',)\": 1, \"('sparked',)\": 1, \"('reallocated',)\": 1, \"('relegated',)\": 1, \"('prohibited',)\": 1, \"('intended',)\": 1, \"('overstated',)\": 1, \"('involved',)\": 1, \"('entrenched',)\": 1, \"('charged',)\": 1, \"('assisted',)\": 1, \"('retired',)\": 1, \"('gotten',)\": 1, \"('recycled',)\": 1, \"('rusted',)\": 1, \"('pointed',)\": 1, \"('expected',)\": 1, \"('outlawed',)\": 1, \"('regarded',)\": 1, \"('populated',)\": 1, \"('become',)\": 1, \"('scheduled',)\": 1, \"('cultivated',)\": 1, \"('excited',)\": 1, \"('committed',)\": 1, \"('recouped',)\": 1, \"('beleaguered',)\": 1, \"('solved',)\": 1, \"('expunged',)\": 1, \"('failed',)\": 1, \"('complained',)\": 1, \"('mailed',)\": 1, \"('heated',)\": 1, \"('contributed',)\": 1, \"('staid',)\": 1, \"('filed',)\": 1, \"('tied',)\": 1, \"('climbed',)\": 1, \"('publicized',)\": 1, \"('lent',)\": 1, \"('linked',)\": 1, \"('traded',)\": 1, \"('soared',)\": 1, \"('eliminated',)\": 1, \"('accumulated',)\": 1, \"('fixed',)\": 1, \"('loaded',)\": 1, \"('heard',)\": 1, \"('composed',)\": 1, \"('initiated',)\": 1, \"('zoomed',)\": 1, \"('absorbed',)\": 1, \"('renewed',)\": 1, \"('spooked',)\": 1, \"('changed',)\": 1, \"('gained',)\": 1, \"('forgotten',)\": 1, \"('specified',)\": 1, \"('scared',)\": 1, \"('held',)\": 1, \"('instituted',)\": 1, \"('altered',)\": 1, \"('clamped',)\": 1, \"('kept',)\": 1, \"('opened',)\": 1, \"('cited',)\": 1, \"('clashed',)\": 1, \"('stepped',)\": 1, \"('noticed',)\": 1, \"('expedited',)\": 1, \"('banned',)\": 1, \"('painted',)\": 1, \"('watched',)\": 1, \"('decided',)\": 1, \"('offset',)\": 1, \"('written',)\": 1, \"('deteriorated',)\": 1, \"('been',)\": 1, \"('alarmed',)\": 1, \"('Guaranteed',)\": 1, \"('trained',)\": 1, \"('released',)\": 1, \"('rooted',)\": 1, \"('construed',)\": 1, \"('posted',)\": 1, \"('relied',)\": 1, \"('touted',)\": 1, \"('hampered',)\": 1, \"('described',)\": 1, \"('sought',)\": 1, \"('identified',)\": 1, \"('discontinued',)\": 1, \"('spread',)\": 1, \"('registered',)\": 1, \"('Founded',)\": 1, \"('proposed',)\": 1, \"('dressed',)\": 1, \"('advised',)\": 1, \"('implemented',)\": 1, \"('tried',)\": 1, \"('subordinated',)\": 1, \"('combined',)\": 1, \"('added',)\": 1, \"('UPHELD',)\": 1, \"('noted',)\": 1, \"('served',)\": 1, \"('buoyed',)\": 1, \"('related',)\": 1, \"('engineered',)\": 1, \"('paid',)\": 1, \"('maintained',)\": 1, \"('answered',)\": 1, \"('compiled',)\": 1, \"('agreed',)\": 1, \"('vested',)\": 1, \"('earned',)\": 1, \"('done',)\": 1, \"('enclosed',)\": 1, \"('engaged',)\": 1, \"('imported',)\": 1, \"('minted',)\": 1, \"('signed',)\": 1, \"('turned',)\": 1, \"('converted',)\": 1, \"('borrowed',)\": 1, \"('approved',)\": 1, \"('parched',)\": 1, \"('surprised',)\": 1, \"('awarded',)\": 1, \"('raised',)\": 1, \"('lowered',)\": 1, \"('swapped',)\": 1, \"('Posted',)\": 1, \"('enacted',)\": 1, \"('prompted',)\": 1, \"('made',)\": 1, \"('died',)\": 1, \"('preapproved',)\": 1, \"('rolled',)\": 1, \"('troubled',)\": 1, \"('fired',)\": 1, \"('equipped',)\": 1, \"('mixed',)\": 1, \"('consented',)\": 1, \"('funded',)\": 1, \"('indicated',)\": 1, \"('appropriated',)\": 1, \"('refunded',)\": 1, \"('presented',)\": 1, \"('tailored',)\": 1, \"('nominated',)\": 1, \"('treated',)\": 1, \"('hurt',)\": 1, \"('chastised',)\": 1, \"('enhanced',)\": 1, \"('robbed',)\": 1, \"('oriented',)\": 1, \"('flirted',)\": 1, \"('shown',)\": 1, \"('Reached',)\": 1, \"('terminated',)\": 1, \"('opposed',)\": 1, \"('lost',)\": 1, \"('blocked',)\": 1, \"('stabbed',)\": 1, \"('met',)\": 1, \"('nurtured',)\": 1, \"('installed',)\": 1, \"('disapproved',)\": 1, \"('diminished',)\": 1, \"('pleased',)\": 1, \"('blamed',)\": 1, \"('declared',)\": 1, \"('cast',)\": 1, \"('Confronted',)\": 1, \"('included',)\": 1, \"('disclosed',)\": 1, \"('favored',)\": 1, \"('learned',)\": 1, \"('hit',)\": 1, \"('led',)\": 1, \"('confined',)\": 1, \"('repaid',)\": 1, \"('depressed',)\": 1, \"('cooled',)\": 1, \"('replaced',)\": 1, \"('plunged',)\": 1, \"('fallen',)\": 1, \"('requested',)\": 1, \"('seen',)\": 1, \"('orchestrated',)\": 1, \"('performed',)\": 1, \"('empowered',)\": 1, \"('pursued',)\": 1, \"('continued',)\": 1, \"('labeled',)\": 1, \"('wanted',)\": 1, \"('synchronized',)\": 1, \"('viewed',)\": 1, \"('observed',)\": 1, \"('collapsed',)\": 1, \"('pressed',)\": 1, \"('needed',)\": 1, \"('dumped',)\": 1, \"('speculated',)\": 1, \"('characterized',)\": 1, \"('exhausted',)\": 1, \"('infringed',)\": 1, \"('clobbered',)\": 1, \"('run',)\": 1, \"('expanded',)\": 1, \"('guaranteed',)\": 1, \"('finished',)\": 1, \"('argued',)\": 1, \"('automated',)\": 1, \"('knitted',)\": 1, \"('interested',)\": 1, \"('talked',)\": 1, \"('come',)\": 1, \"('attempted',)\": 1, \"('priced',)\": 1, \"('purchased',)\": 1, \"('named',)\": 1, \"('fueled',)\": 1, \"('provoked',)\": 1, \"('read',)\": 1, \"('operated',)\": 1, \"('capped',)\": 1, \"('Annualized',)\": 1, \"('echoed',)\": 1, \"('tightened',)\": 1, \"('suspended',)\": 1, \"('proved',)\": 1, \"('put',)\": 1, \"('warned',)\": 1, \"('entered',)\": 1, \"('surged',)\": 1, \"('associated',)\": 1, \"('quoted',)\": 1, \"('locked',)\": 1, \"('thought',)\": 1, \"('generated',)\": 1, \"('shut',)\": 1, \"('secured',)\": 1, \"('moderated',)\": 1, \"('vowed',)\": 1, \"('drawn',)\": 1, \"('Left',)\": 1, \"('incorporated',)\": 1, \"('moved',)\": 1, \"('referred',)\": 1, \"('ended',)\": 1, \"('ranged',)\": 1, \"('aimed',)\": 1, \"('afflicted',)\": 1, \"('designed',)\": 1, \"('interrogated',)\": 1, \"('set',)\": 1, \"('had',)\": 1, \"('backed',)\": 1, \"('decorated',)\": 1, \"('stripped',)\": 1, \"('judged',)\": 1, \"('escalated',)\": 1, \"('owned',)\": 1, \"('justified',)\": 1, \"('commanded',)\": 1, \"('unsettled',)\": 1, \"('handled',)\": 1, \"('entrusted',)\": 1, \"('threatened',)\": 1, \"('hidden',)\": 1, \"('Provided',)\": 1, \"('broken',)\": 1, \"('managed',)\": 1, \"('stated',)\": 1, \"('played',)\": 1, \"('accrued',)\": 1, \"('laid',)\": 1, \"('retained',)\": 1, \"('inserted',)\": 1, \"('manufactured',)\": 1, \"('accounted',)\": 1, \"('insured',)\": 1, \"('crippled',)\": 1, \"('upheld',)\": 1, \"('diagnosed',)\": 1, \"('accepted',)\": 1, \"('halted',)\": 1, \"('financed',)\": 1, \"('prosecuted',)\": 1, \"('gone',)\": 1, \"('grown',)\": 1, \"('applied',)\": 1, \"('postponed',)\": 1, \"('competed',)\": 1, \"('superimposed',)\": 1, \"('caught',)\": 1, \"('tested',)\": 1, \"('classified',)\": 1, \"('serviced',)\": 1, \"('cushioned',)\": 1, \"('assumed',)\": 1, \"('carried',)\": 1, \"('reported',)\": 1, \"('elected',)\": 1, \"('muffled',)\": 1, \"('Concerned',)\": 1, \"('adopted',)\": 1, \"('harmed',)\": 1, \"('received',)\": 1, \"('portrayed',)\": 1, \"('interviewed',)\": 1, \"('milked',)\": 1, \"('feared',)\": 1, \"('introduced',)\": 1, \"('forced',)\": 1, \"('withdrawn',)\": 1, \"('accused',)\": 1, \"('squeezed',)\": 1, \"('obtained',)\": 1, \"('surfaced',)\": 1, \"('crossed',)\": 1, \"('sent',)\": 1, \"('caused',)\": 1, \"('perceived',)\": 1, \"('ensnarled',)\": 1, \"('recruited',)\": 1, \"('codified',)\": 1, \"('triggered',)\": 1, \"('measured',)\": 1, \"('attached',)\": 1, \"('adjusted',)\": 1, \"('built',)\": 1, \"('instructed',)\": 1, \"('fined',)\": 1, \"('rarefied',)\": 1, \"('obsessed',)\": 1, \"('twinned',)\": 1, \"('disappointed',)\": 1, \"('prepared',)\": 1, \"('clarified',)\": 1, \"('tracked',)\": 1, \"('prolonged',)\": 1, \"('designated',)\": 1, \"('upset',)\": 1, \"('Filmed',)\": 1, \"('sold',)\": 1, \"('discussed',)\": 1, \"('owed',)\": 1, \"('assigned',)\": 1, \"('exacerbated',)\": 1, \"('beaten',)\": 1, \"('transformed',)\": 1, \"('faded',)\": 1, \"('provided',)\": 1, \"('connected',)\": 1, \"('placed',)\": 1, \"('assessed',)\": 1, \"('Funded',)\": 1, \"('exposed',)\": 1, \"('damaged',)\": 1, \"('employed',)\": 1, \"('Stung',)\": 1, \"('ratified',)\": 1, \"('targeted',)\": 1, \"('chopped',)\": 1, \"('dismissed',)\": 1, \"('dropped',)\": 1, \"('deprived',)\": 1, \"('shipped',)\": 1, \"('achieved',)\": 1, \"('asked',)\": 1, \"('scattered',)\": 1, \"('classed',)\": 1, \"('mired',)\": 1, \"('created',)\": 1, \"('preferred',)\": 1, \"('discarded',)\": 1, \"('Rekindled',)\": 1, \"('impressed',)\": 1, \"('rejected',)\": 1, \"('spent',)\": 1, \"('advertised',)\": 1, \"('overpriced',)\": 1, \"('left',)\": 1, \"('welcomed',)\": 1, \"('rationed',)\": 1, \"('missed',)\": 1, \"('scrambled',)\": 1, \"('denied',)\": 1, \"('allowed',)\": 1, \"('covered',)\": 1, \"('founded',)\": 1, \"('recorded',)\": 1, \"('tanked',)\": 1, \"('inflated',)\": 1, \"('confirmed',)\": 1, \"('structured',)\": 1, \"('documented',)\": 1, \"('coupled',)\": 1, \"('tripled',)\": 1, \"('corrected',)\": 1, \"('curbed',)\": 1, \"('cut',)\": 1, \"('surveyed',)\": 1, \"('Asked',)\": 1, \"('focused',)\": 1, \"('exercised',)\": 1, \"('deemed',)\": 1, \"('cleaned',)\": 1, \"('amended',)\": 1, \"('offered',)\": 1, \"('estimated',)\": 1, \"('taken',)\": 1, \"('sustained',)\": 1, \"('contained',)\": 1, \"('represented',)\": 1, \"('required',)\": 1, \"('stoked',)\": 1, \"('ordered',)\": 1, \"('forgiven',)\": 1, \"('industrialized',)\": 1, \"('spurred',)\": 1, \"('improved',)\": 1, \"('worried',)\": 1, \"('enjoyed',)\": 1, \"('voted',)\": 1, \"('embroiled',)\": 1, \"('incurred',)\": 1, \"('expressed',)\": 1, \"('positioned',)\": 1, \"('anticipated',)\": 1, \"('formed',)\": 1, \"('marketed',)\": 1, \"('alienated',)\": 1, \"('looked',)\": 1, \"('rung',)\": 1, \"('launched',)\": 1, \"('pushed',)\": 1, \"('said',)\": 1, \"('flooded',)\": 1, \"('renovated',)\": 1, \"('romanticized',)\": 1, \"('expelled',)\": 1, \"('strapped',)\": 1, \"('rated',)\": 1, \"('wedded',)\": 1, \"('assembled',)\": 1, \"('redeemed',)\": 1, \"('pegged',)\": 1, \"('burned',)\": 1, \"('educated',)\": 1, \"('issued',)\": 1, \"('disputed',)\": 1, \"('responded',)\": 1, \"('collected',)\": 1, \"('negotiated',)\": 1, \"('Put',)\": 1, \"('appointed',)\": 1, \"('gored',)\": 1, \"('practiced',)\": 1, \"('faced',)\": 1, \"('headlined',)\": 1, \"('mollified',)\": 1, \"('existed',)\": 1, \"('mentioned',)\": 1, \"('filled',)\": 1, \"('supported',)\": 1, \"('refused',)\": 1, \"('fed',)\": 1, \"('produced',)\": 1, \"('reclaimed',)\": 1, \"('Given',)\": 1, \"('killed',)\": 1, \"('attracted',)\": 1, \"('based',)\": 1, \"('Developed',)\": 1, \"('fattened',)\": 1, \"('barred',)\": 1, \"('called',)\": 1, \"('rescheduled',)\": 1, \"('rectified',)\": 1, \"('frozen',)\": 1, \"('listed',)\": 1, \"('chaired',)\": 1, \"('crowded',)\": 1, \"('murdered',)\": 1, \"('reduced',)\": 1, \"('considered',)\": 1, \"('overcome',)\": 1, \"('kicked',)\": 1, \"('abandoned',)\": 1, \"('outpaced',)\": 1, \"('reaped',)\": 1, \"('returned',)\": 1, \"('lifted',)\": 1, \"('settled',)\": 1, \"('defined',)\": 1, \"('alleged',)\": 1, \"('announced',)\": 1, \"('executed',)\": 1, \"('divided',)\": 1, \"('printed',)\": 1, \"('shaken',)\": 1, \"('Estimated',)\": 1, \"('switched',)\": 1, \"('Regarded',)\": 1, \"('valued',)\": 1, \"('jumped',)\": 1, \"('chilled',)\": 1, \"('regulated',)\": 1, '<unk>': 1.0} \n",
      "\n",
      "[S] {'([NPSBJ], [VP])': 121, '([NPSBJ], [PPLOCPRD])': 1, '([NPSBJ], [VP], [.])': 59, '([NPSBJ], [NPTMP], [VP], [.])': 2, '([NPSBJ], [VP], [ADVPTMP])': 2, '([ADVPTMP], [NPSBJ], [VP], [.])': 3, '([PPLOC], [NPSBJ], [VP], [.])': 4, '([NPSBJ], [PRN], [VP], [.])': 4, '([STPC], [NPSBJ], [VP], [.])': 2, '([CC], [NPSBJ], [ADVP], [VP])': 1, '([NPSBJ], [PRN], [VP])': 2, '([INTJ], [,], [NPSBJ], [VP])': 1, '([NPSBJ], [VP], [:])': 2, '([SBARTMP], [,], [NPSBJ], [VP])': 4, '([PP], [NPSBJ], [VP])': 4, '([IN], [NPSBJ], [VP], [.])': 1, '([NPTMP], [NPSBJ], [VP])': 2, '([NPSBJ], [UCPPRD])': 1, '([NPSBJ], [ADJPPRD], [NPTMP])': 1, '([PP], [NPSBJ], [VP], [.])': 2, '([PP], [,], [NPSBJ], [VP])': 5, \"([NPSBJ], [``], [NPPRD], [''])\": 1, '([PPTMP], [,], [NPSBJ], [VP])': 4, '([ADVP], [,], [NPSBJ], [VP])': 2, '([LST], [NPSBJ], [VP], [PRN])': 1, '([``], [PPMNR], [NPSBJ], [VP])': 1, \"([NPSBJ], [VP], [.], [''])\": 2, '([NPSBJ], [ADJPPRD])': 3, '([``], [NPSBJ], [VP], [:])': 2, '([ADVPTMP], [NPSBJ], [VP])': 1, '([NPSBJ], [ADVP], [VP])': 4, '([S], [,], [NPSBJ], [VP])': 1, '([CC], [NPSBJ], [ADVPTMP], [VP])': 1, '([CC], [SNOMSBJ], [VP], [.])': 1, '([NPSBJ], [``], [VP], [.])': 1, '([S], [,], [S], [.])': 1, '([S], [CC], [S])': 1, '([CC], [NPTTLSBJ], [VP], [.])': 1, '([NPSBJ], [ADJPPRD], [S])': 2, '([NPSBJ], [:], [VP])': 2, '([NPSBJ], [NPPRD])': 1, '([NPSBJ], [RB], [VP], [.])': 1, '([NPSBJ], [ADVPTMP], [VP])': 4, '([NPSBJ], [``], [NPPRD])': 1, '([CC], [NPSBJ], [VP], [.])': 7, '([NPTTLSBJ], [VP])': 2, '([ADVPTMP], [S], [CC], [S])': 1, '([NPSBJ], [ADVP], [VP], [.])': 6, '([``], [NPSBJ], [VP])': 2, '([NPSBJ], [ADVPMNR], [VP], [.])': 1, '([ADVP], [NPSBJ], [VP])': 2, '([PPPRP], [NPSBJ], [VP])': 1, '([NPSBJ], [,], [VP], [.])': 2, '([S], [,], [CC], [S])': 1, '([SNOMSBJ], [VP], [.])': 1, '([NPSBJ], [``], [RB], [ADJPPRD])': 1, '([NPSBJ], [NPTTLPRD])': 1, '([NPSBJ], [VP], [,])': 2, '([SNOMSBJ], [VP])': 2, '([PRN], [NPSBJ], [VP])': 1, \"([SBARNOMSBJ], [VP], [.], [''])\": 1, '([SBARNOMSBJ], [VP])': 1, '([S], [CC], [S], [.])': 1, '([S], [,], [S])': 1, '([SBARTMP], [NPSBJ], [VP])': 2, '([NPSBJ], [ADVPTMP], [VP], [.])': 4, '([NPTTLSBJ], [VP], [.])': 1, '([NPSBJ], [ADJPPRD], [PP])': 1, '([SBARADV], [,], [NPSBJ], [VP])': 3, '([``], [NPSBJ], [VP], [.])': 2, '([PPTPC], [,], [NPSBJ], [VP])': 1, '([NPSBJ], [,], [VP])': 2, '([NPTMP], [NPSBJ], [VP], [.])': 2, '([ADVP], [PRN], [NPSBJ], [VP])': 1, '([NPSBJ], [ADVPTMP], [``], [VP])': 1, '([PPLOC], [,], [NPSBJ], [VP])': 2, '([NPSBJ], [VP], [PPTMP])': 1, '([ADJPPRD], [NPSBJ])': 1, '([SBARADV], [NPSBJ], [VP], [.])': 1, '([ADVPTMP], [,], [NPSBJ], [VP])': 2, '([NONE],)': 1, '([NPTTLSBJ], [ADVPTMP], [VP])': 1, '([NPSBJ], [ADVPPRDLOC])': 1, '([NPVOC], [INTJ], [NPSBJ], [VP])': 1, '([STPC], [,], [NPSBJ], [VP])': 1, '([SADV], [,], [NPSBJ], [VP])': 4, '([NPSBJ], [ADVPLOC], [:], [VP])': 1, \"([``], [NPTTLSBJ], [''], [VP])\": 1, '([PPLOC], [NPSBJ], [VP])': 1, '([NPSBJ], [PP], [VP])': 1, '([:], [NPSBJ], [VP], [.])': 1, '([SNOMSBJ], [ADVP], [VP])': 1, '([NPSBJ], [``], [VP])': 2, \"([``], [NPSBJ], [''], [VP])\": 2, '([S], [:], [NN], [S])': 1, '([NPSBJ], [NPPRDTTL])': 1, '([ADVP], [NPSBJ], [VP], [.])': 2, '([PPTMP], [NPSBJ], [VP])': 2, '([SNOMSBJ], [ADJPPRD])': 1, '([NPSBJ], [RB], [VP])': 1, '([NPSBJ], [VP], [CC], [VP])': 1, '([UCP], [,], [NPSBJ], [VP])': 1, '([S], [:], [S], [.])': 2, '([S], [CC], [S], [S])': 1, '([NPSBJ], [CONJP], [VP])': 1, '([SBARADV], [NPSBJ], [VP])': 1, '([NPSBJ], [PPPRD])': 1, '([NPSBJ], [ADVPPRD])': 1, '([ADVPMNR], [NPSBJ], [VP], [.])': 1, '([``], [SBARNOMSBJ], [VP], [.])': 1, '([NPSBJ], [PPPRD], [S])': 1, '([S], [:], [S])': 1, '([ADJPPRD], [SBARSBJ])': 1, '([NPSBJ], [PPTMP], [VP], [.])': 1, '([NPSBJ], [ADVPMNR], [VP])': 1, '([NPMNR], [NPSBJ], [VP], [.])': 1, '([IN], [NPSBJ], [VP])': 1, '([NPSBJ], [PPCLR])': 1, '([SBARPRP], [,], [NPSBJ], [VP])': 1, '([NPSBJ], [ADVPLOC], [VP], [.])': 1, '([PPTMP], [NPSBJ], [VP], [.])': 1, '([ADVPMNR], [,], [NPSBJ], [VP])': 1, \"([SSBJ], [''], [VP], [.])\": 1, '([NPSBJ], [NPPRD], [S])': 1, \"([''], [NPSBJ], [VP], [.])\": 1, '([PPMNR], [,], [NPSBJ], [VP])': 1, '([NPSBJ], [NPTMP])': 1, '([NPSBJ], [ADJPPRD], [ADVP])': 1, '([SBARNOMSBJ], [VP], [.])': 1, '([CC], [NPSBJ], [VP])': 1, '([NPSBJ], [PPTMP], [VP])': 1, '([NPTPC], [,], [NPSBJ], [VP])': 1, '([NPSBJ], [NPTMP], [VP])': 1, '([NPSBJ], [:], [VP], [.])': 1, '([NPSBJ], [``], [PPTTL])': 1, '([RB], [NPSBJ], [VP], [.])': 1, '([SADV], [NPSBJ], [VP], [.])': 1, '([NPSBJ], [VP], [PPLOC])': 1, '([LST], [NPSBJ], [VP], [.])': 1, '([NPSBJ], [DT], [VP], [.])': 1, '<unk>': 1.0} \n",
      "\n",
      "[VBP] {\"('recognize',)\": 1, \"('require',)\": 1, \"('study',)\": 1, \"('reach',)\": 1, \"(''ve',)\": 1, \"('mean',)\": 1, \"('contain',)\": 1, \"('portray',)\": 1, \"('find',)\": 1, \"('lengthen',)\": 1, \"('differ',)\": 1, \"('play',)\": 1, \"('jostle',)\": 1, \"('describe',)\": 1, \"('belong',)\": 1, \"('need',)\": 1, \"('total',)\": 1, \"('undercut',)\": 1, \"('denounce',)\": 1, \"('buy',)\": 1, \"('fail',)\": 1, \"('exhaust',)\": 1, \"('give',)\": 1, \"('work',)\": 1, \"('conflict',)\": 1, \"('respond',)\": 1, \"('resent',)\": 1, \"('invest',)\": 1, \"('Do',)\": 1, \"('skip',)\": 1, \"('fly',)\": 1, \"('begin',)\": 1, \"('lead',)\": 1, \"('settle',)\": 1, \"('hope',)\": 1, \"('applaud',)\": 1, \"('help',)\": 1, \"('air',)\": 1, \"('propose',)\": 1, \"(''re',)\": 1, \"('touch',)\": 1, \"('draw',)\": 1, \"('run',)\": 1, \"('read',)\": 1, \"('offer',)\": 1, \"('want',)\": 1, \"('set',)\": 1, \"('swim',)\": 1, \"('argue',)\": 1, \"('talk',)\": 1, \"('expect',)\": 1, \"('test',)\": 1, \"('lock',)\": 1, \"('import',)\": 1, \"('state',)\": 1, \"('mention',)\": 1, \"('go',)\": 1, \"('stand',)\": 1, \"('attract',)\": 1, \"('seek',)\": 1, \"('battle',)\": 1, \"('ripen',)\": 1, \"('allow',)\": 1, \"('complain',)\": 1, \"('amass',)\": 1, \"('hit',)\": 1, \"('agree',)\": 1, \"('are',)\": 1, \"('suspect',)\": 1, \"('tell',)\": 1, \"('memorize',)\": 1, \"('operate',)\": 1, \"('live',)\": 1, \"('cry',)\": 1, \"('call',)\": 1, \"('violate',)\": 1, \"('do',)\": 1, \"('create',)\": 1, \"('send',)\": 1, \"('continue',)\": 1, \"('intend',)\": 1, \"('recede',)\": 1, \"('regard',)\": 1, \"('accept',)\": 1, \"('take',)\": 1, \"('indicate',)\": 1, \"('concede',)\": 1, \"(''m',)\": 1, \"('appear',)\": 1, \"('oppose',)\": 1, \"('voice',)\": 1, \"('build',)\": 1, \"('stare',)\": 1, \"('mature',)\": 1, \"('provide',)\": 1, \"('seem',)\": 1, \"('trade',)\": 1, \"('refuse',)\": 1, \"('place',)\": 1, \"('blip',)\": 1, \"('ask',)\": 1, \"('keep',)\": 1, \"('permit',)\": 1, \"('view',)\": 1, \"('like',)\": 1, \"('claim',)\": 1, \"('hang',)\": 1, \"('enjoy',)\": 1, \"('disapprove',)\": 1, \"('ease',)\": 1, \"('tune',)\": 1, \"('bankroll',)\": 1, \"('engage',)\": 1, \"('testdrive',)\": 1, \"('channel',)\": 1, \"('return',)\": 1, \"('espouse',)\": 1, \"('suffer',)\": 1, \"('win',)\": 1, \"('succeed',)\": 1, \"('own',)\": 1, \"('cater',)\": 1, \"('sidestep',)\": 1, \"('suggest',)\": 1, \"('mirror',)\": 1, \"('whistle',)\": 1, \"('meet',)\": 1, \"('pay',)\": 1, \"('hold',)\": 1, \"('assist',)\": 1, \"('represent',)\": 1, \"('delay',)\": 1, \"('calculate',)\": 1, \"('commit',)\": 1, \"('hire',)\": 1, \"('face',)\": 1, \"('advocate',)\": 1, \"('transcribe',)\": 1, \"('approve',)\": 1, \"('show',)\": 1, \"('point',)\": 1, \"('copy',)\": 1, \"('encourage',)\": 1, \"('stem',)\": 1, \"('evoke',)\": 1, \"('subscribe',)\": 1, \"('manage',)\": 1, \"('stop',)\": 1, \"('ring',)\": 1, \"('possess',)\": 1, \"('plan',)\": 1, \"('drift',)\": 1, \"('drink',)\": 1, \"('dismiss',)\": 1, \"('deserve',)\": 1, \"('approach',)\": 1, \"('examine',)\": 1, \"('have',)\": 1, \"('teach',)\": 1, \"('conclude',)\": 1, \"('pull',)\": 1, \"('know',)\": 1, \"('arise',)\": 1, \"('fear',)\": 1, \"('range',)\": 1, \"('Lure',)\": 1, \"('change',)\": 1, \"('underscore',)\": 1, \"('spook',)\": 1, \"('refer',)\": 1, \"('decide',)\": 1, \"('expire',)\": 1, \"('materialize',)\": 1, \"('ascribe',)\": 1, \"('start',)\": 1, \"('think',)\": 1, \"('make',)\": 1, \"('watch',)\": 1, \"('realize',)\": 1, \"('extend',)\": 1, \"('weigh',)\": 1, \"('fare',)\": 1, \"('flush',)\": 1, \"('promise',)\": 1, \"('note',)\": 1, \"('mark',)\": 1, \"('urge',)\": 1, \"('imply',)\": 1, \"('pine',)\": 1, \"('sell',)\": 1, \"('walk',)\": 1, \"('promote',)\": 1, \"('conduct',)\": 1, \"('spend',)\": 1, \"('constitute',)\": 1, \"('prefer',)\": 1, \"('receive',)\": 1, \"('deal',)\": 1, \"('jet',)\": 1, \"('improve',)\": 1, \"('feel',)\": 1, \"('print',)\": 1, \"('occur',)\": 1, \"('feed',)\": 1, \"('advise',)\": 1, \"('get',)\": 1, \"('has',)\": 1, \"('deem',)\": 1, \"('tend',)\": 1, \"('contrast',)\": 1, \"('beat',)\": 1, \"('predict',)\": 1, \"('raise',)\": 1, \"('consider',)\": 1, \"('eat',)\": 1, \"('look',)\": 1, \"('carry',)\": 1, \"('assume',)\": 1, \"('reflect',)\": 1, \"('convey',)\": 1, \"('cause',)\": 1, \"('insist',)\": 1, \"('telegraph',)\": 1, \"('charge',)\": 1, \"('say',)\": 1, \"('sound',)\": 1, \"('account',)\": 1, \"('weaken',)\": 1, \"('lack',)\": 1, \"('disagree',)\": 1, \"('rise',)\": 1, \"('become',)\": 1, \"('appeal',)\": 1, \"('swing',)\": 1, \"('perpetuate',)\": 1, \"('include',)\": 1, \"('cite',)\": 1, \"('avoid',)\": 1, \"('use',)\": 1, \"('question',)\": 1, \"('dislike',)\": 1, \"('exceed',)\": 1, \"('kill',)\": 1, \"('fall',)\": 1, \"('trespass',)\": 1, \"('understand',)\": 1, \"('profess',)\": 1, \"('worry',)\": 1, \"('prevent',)\": 1, \"('drive',)\": 1, \"('figure',)\": 1, \"('consist',)\": 1, \"('decline',)\": 1, \"('pursue',)\": 1, \"('come',)\": 1, \"('let',)\": 1, \"('stretch',)\": 1, \"('loom',)\": 1, \"('add',)\": 1, \"('believe',)\": 1, \"('see',)\": 1, \"('eliminate',)\": 1, \"('warn',)\": 1, \"('ai',)\": 1, '<unk>': 1.0} \n",
      "\n",
      "[WHNP] {'([WP],)': 133, '([WDT],)': 162, '([WP$], [NN])': 3, '([WHNP], [PP])': 2, '([WDT], [NN])': 2, '([NONE],)': 4, '([WDT], [JJ], [NN])': 1, '([IN],)': 5, '([WP$], [NP])': 1, '([QP], [NONE])': 1, '([WDT], [NNS])': 3, '([WP$], [NNS])': 3, '([WHNP], [ADVP])': 1, '([PRP],)': 1, '([WP$], [JJ], [NNS])': 1, '([WHNP], [WHPP])': 2, '([WDT], [JJ], [NNS])': 1, '([WP$], [NN], [NN])': 1, '([WDT], [NN], [NNS])': 1, '([WP], [RB])': 1, '([WP], [NN])': 1, '([NP], [WHPP])': 1, '([WRB], [RB])': 1, '([WHNP], [PP], [ADJP])': 1, '([DT],)': 1, '([WP$], [NN], [CC], [NN])': 1, '([WHNP], [,], [NP], [,])': 1, '([DT], [NN])': 1, '([DT], [WHPP])': 1, '([WRB], [JJ])': 1, '<unk>': 1.0} \n",
      "\n",
      "[UCP] {'([PPTMP], [,], [CC], [S])': 1, '([NP], [CC], [ADJP])': 1, '([S], [CC], [SBAR])': 1, '([JJ], [CC], [NNP], [NNP])': 1, '([PP], [PRN])': 1, '([SBARTMP], [CC], [SPRP])': 1, '([ADVP], [CC], [PP])': 1, '([ADJP], [CC], [NP])': 1, '([NNP], [CC], [JJ])': 1, '([NN], [CC], [JJ])': 1, '([NP], [CC], [SBAR])': 1, '([JJ], [CC], [NN])': 1, '<unk>': 1.0} \n",
      "\n",
      "[CC] {\"('plus',)\": 1, \"('Or',)\": 1, \"('versus',)\": 1, \"('nor',)\": 1, \"('yet',)\": 1, \"('but',)\": 1, \"('and',)\": 1, \"('Nor',)\": 1, \"('minus',)\": 1, \"('or',)\": 1, \"('either',)\": 1, \"('v.',)\": 1, \"('Either',)\": 1, \"('&',)\": 1, \"('And',)\": 1, \"('But',)\": 1, \"('Yet',)\": 1, '<unk>': 1.0} \n",
      "\n",
      "[PDT] {\"('such',)\": 1, \"('half',)\": 1, \"('Such',)\": 1, \"('both',)\": 1, \"('all',)\": 1, '<unk>': 1.0} \n",
      "\n",
      "[RBR] {\"('less',)\": 1, \"('harder',)\": 1, \"('more',)\": 1, \"('longer',)\": 1, \"('later',)\": 1, \"('drearier',)\": 1, \"('earlier',)\": 1, \"('closer',)\": 1, \"('higher',)\": 1, \"('More',)\": 1, \"('better',)\": 1, \"('further',)\": 1, \"('lower',)\": 1, \"('never',)\": 1, \"('sooner',)\": 1, '<unk>': 1.0} \n",
      "\n",
      "[PRN] {'([LRB], [ADJP], [RRB])': 1, '([LRB], [NP], [RRB])': 1, '([:], [SBAR])': 1, '([,], [PP])': 1, '([:], [NP], [PPDIR], [:])': 1, '([,], [SBARLOC], [,])': 1, '([:], [S], [:])': 1, '([SINV],)': 1, '([,], [NPSBJ], [VP], [,])': 1, '([:], [ADVP], [NP])': 1, '([SBAR],)': 1, '([S],)': 1, '([:], [ADJP])': 1, '([,], [SINV], [,])': 1, '([LRB], [VP], [RRB])': 1, '([,], [NP], [,])': 1, '([,], [ADVPTMP], [,])': 1, '([,], [CC], [NP])': 1, '([,], [SBAR], [,])': 1, '([:], [SBARSBJ], [:])': 1, '([LRB], [SADV], [RRB])': 1, '([LRB], [PP], [RRB])': 1, '([,], [S], [,])': 1, \"([,], [''], [S], [,])\": 1, '([:], [ADJP], [:])': 1, '([,], [IN], [DT], [,])': 1, '([:], [PP])': 1, '([,], [PPLOC], [,])': 1, '([:], [CC], [JJ], [:])': 1, '([,], [PP], [,])': 1, '([:], [CC], [NP], [:])': 1, '([:], [PP], [NP])': 1, '([:], [S])': 1, '([,], [ADVPMNR], [,])': 1, '([:], [PP], [:])': 1, '([,], [PPTMP], [,])': 1, '([:], [NP], [:])': 1, '([LRB], [SBARADV], [RRB])': 1, '([:], [CC], [NN], [:])': 1, '([,], [INTJ], [NP], [,])': 1, '([LRB], [CC], [VP], [RRB])': 1, '([,], [ADVP], [,])': 1, '([LRB], [ADVP], [NP], [RRB])': 1, '([LRB], [NP], [PP], [RRB])': 1, '([LRB], [NPLOC], [RRB])': 1, '([,], [SBARADV], [,])': 1, '([LRB], [S], [RRB])': 1, '([:], [SBAR], [:])': 1, '([,], [CC], [PPCLR])': 1, '([:], [PPTMP], [:])': 1, \"([,], [''], [SINV], [,])\": 1, '([:], [VP], [:])': 1, '([:], [NPLOC], [PPTMP])': 1, '([:], [SADV], [:])': 1, '([:], [NP])': 1, '([,], [PPMNR], [,])': 1, '([:], [NP], [PP], [:])': 1, '([SINV], [,])': 1, '<unk>': 1.0} \n",
      "\n",
      "[ADVPTMP] {'([NP], [IN])': 1, '([ADVP], [SBAR])': 1, '([DT], [IN], [DT], [JJ])': 1, '([ADVP], [PP])': 1, '([NP], [RB], [PP])': 1, '([IN], [RB])': 1, '([NONE],)': 1, '([IN], [JJS], [RB])': 1, '([RBR],)': 1, '([RB], [IN])': 1, '([JJ], [RP])': 1, '([JJR],)': 1, '([RB], [CC], [RB])': 1, '([RBS], [RB])': 1, '([NN],)': 1, '([RB], [RB], [RB])': 1, '([RB],)': 1, '([DT], [RBR])': 1, '([IN],)': 1, '([NP], [RB])': 1, '([RB], [RB])': 1, '([RBR], [NP])': 1, '([NP], [JJR])': 1, '([RB], [.])': 1, '([RB], [PP])': 1, '([NP], [JJ])': 1, '([NP], [RBR])': 1, '([RBR], [RB])': 1, '([IN], [RB], [SBAR])': 1, '([RB], [JJR])': 1, '([IN], [IN])': 1, '([RB], [RBR])': 1, '([JJ],)': 1, '([NPADV], [PRN])': 1, '([RB], [RB], [PP])': 1, '<unk>': 1.0} \n",
      "\n",
      "[NONE] {\"('*T*',)\": 259, \"('*',)\": 164, \"('*PPA*',)\": 3, \"('*U*',)\": 1, \"('*ICH*',)\": 4, \"('*NOT*',)\": 1, \"('*RNR*',)\": 3, \"('*EXP*',)\": 3, \"('0',)\": 1, \"('*?*',)\": 1, '<unk>': 1.0} \n",
      "\n",
      "[NNPS] {\"('BILLS',)\": 1, \"('Islands',)\": 1, \"('Services',)\": 1, \"('Friends',)\": 1, \"('Fundamentalists',)\": 1, \"('Securities',)\": 1, \"('Lawmakers',)\": 1, \"('Republicans',)\": 1, \"('Delegates',)\": 1, \"('BRIEFS',)\": 1, \"('Netherlands',)\": 1, \"('Institutes',)\": 1, \"('Parkinson',)\": 1, \"('Industries',)\": 1, \"('Options',)\": 1, \"('Dolphins',)\": 1, \"('Writers',)\": 1, \"('Airlines',)\": 1, \"('Asians',)\": 1, \"('Yorkers',)\": 1, \"('Springs',)\": 1, \"('Preferences',)\": 1, \"('Chardonnays',)\": 1, \"('Foods',)\": 1, \"('Cabernets',)\": 1, \"('Craftsmen',)\": 1, \"('Toys',)\": 1, \"('Bricklayers',)\": 1, \"('Systems',)\": 1, \"('Tots',)\": 1, \"('Materials',)\": 1, \"('Lawyers',)\": 1, \"('Americans',)\": 1, \"('Instruments',)\": 1, \"('Motors',)\": 1, \"('Philippines',)\": 1, \"('Publications',)\": 1, \"('Plains',)\": 1, \"('Appropriations',)\": 1, \"('Charities',)\": 1, \"('Travelers',)\": 1, \"('Markets',)\": 1, \"('Messrs.',)\": 1, \"('Stores',)\": 1, \"('Containers',)\": 1, \"('Savings',)\": 1, \"('Underwoods',)\": 1, \"('Dakotas',)\": 1, \"('ASSETS',)\": 1, \"('ASSOCIATES',)\": 1, \"('Notes',)\": 1, \"('RATES',)\": 1, \"('FUNDS',)\": 1, \"('Investors',)\": 1, \"('Articles',)\": 1, \"('Laboratories',)\": 1, \"('Fseries',)\": 1, \"('Productions',)\": 1, \"('Rieslings',)\": 1, \"('Builders',)\": 1, \"('Bridges',)\": 1, \"('Machines',)\": 1, \"('Partners',)\": 1, \"('Burgundies',)\": 1, \"('ADRs',)\": 1, \"('Virginians',)\": 1, \"('Angels',)\": 1, \"('States',)\": 1, \"('Centers',)\": 1, \"('Utilities',)\": 1, \"('Dealers',)\": 1, \"('Appeals',)\": 1, \"('Democrats',)\": 1, \"('Works',)\": 1, \"('Giants',)\": 1, \"('Brothers',)\": 1, \"('Soviets',)\": 1, \"('Futures',)\": 1, \"('Resources',)\": 1, \"('Communications',)\": 1, \"('Nations',)\": 1, \"('Associates',)\": 1, '<unk>': 1.0} \n",
      "\n",
      "[ADJPPRD] {'([JJ], [NP])': 1, '([VBN], [NP], [PP])': 1, '([RBR], [VBN])': 1, '([RB], [VBN])': 1, \"([``], [RB], [VBN], [''])\": 1, '([JJ], [RBR])': 1, '([RB], [JJ], [S])': 2, '([RBR], [JJ])': 1, '([JJ], [NPTMP])': 1, '([ADJP], [CC], [RB], [ADJP])': 1, '([RB], [JJ], [PPLOC])': 1, '([JJR], [CC], [JJR], [SBAR])': 1, '([NN],)': 1, '([RB], [SCLR])': 1, '([JJ], [PPTMP])': 1, '([RB], [RBR], [JJ])': 1, '([QP], [JJR])': 1, '([VBN], [SBAR])': 1, '([UH],)': 1, '([JJR], [IN])': 1, '([JJ], [RB], [S])': 1, '([RBR], [JJ], [SBAR])': 1, '([JJ], [PPDIR])': 1, '([IN], [NP])': 1, '([JJ], [SBAR])': 1, '([JJ], [CC], [JJ])': 1, '([VBD],)': 1, '([ADJP], [,], [ADJP])': 1, '([IN], [SNOM])': 1, '([RB], [VBG], [PP])': 1, '([JJ], [NPTMP], [PP])': 1, '([NPADV], [RB], [PPDIR])': 1, '([RB], [JJ], [PP])': 1, '([JJ],)': 1, '([NPADV], [JJR])': 1, '([ADJP], [CC], [ADJP])': 1, '([JJ], [PP])': 1, '([RBR], [JJ], [S])': 1, '([JJS],)': 1, '([NPADV], [JJ])': 1, '([ADJP], [CC], [ADJP], [SBAR])': 1, '([RB], [VBN], [S])': 1, '([VBN],)': 1, '([VBN], [PP])': 1, '([RB],)': 1, '([JJ], [PPLOC])': 1, '([RBS], [JJ])': 1, \"([``], [VBN], [''], [PPCLR])\": 1, '([VB],)': 1, '([JJ], [,], [RB], [JJ])': 1, '([ADVP], [IN], [JJ], [PP])': 1, '([RB], [JJ], [CC], [JJ])': 1, '([RB], [VBN], [PP])': 1, '([NONE],)': 1, '([RBR], [JJ], [PP])': 1, '([RB], [RB])': 1, '([ADJP], [S])': 1, '([VBG],)': 1, '([JJR],)': 1, '([JJR], [SBAR])': 1, '([JJ], [PP], [``], [PP])': 1, '([RB], [JJ], [SBAR])': 1, '([RB], [JJ])': 1, '([ADVP], [JJ])': 1, '([RB], [SBAR])': 1, '([RB], [JJR])': 1, '([JJ], [CC], [JJ], [PP])': 1, '([ADJP], [SBAR])': 1, '([ADJP], [PP])': 1, '([JJR], [PP])': 1, '([JJ], [S])': 1, \"([``], [JJ], [''])\": 1, '<unk>': 1.0} \n",
      "\n",
      "[ADVPDIR] {'([IN],)': 1, '([RB], [CC], [RB])': 1, '([JJR], [PP])': 1, '([RB], [IN])': 1, '([NONE],)': 1, '([RBR],)': 1, '([RB],)': 1, '([RP],)': 1, '([RB], [PP])': 1, '([RBR], [PP])': 1, '([NN], [NN], [RB])': 1, '([RB], [RB])': 1, '([RB], [NP])': 1, '<unk>': 1.0} \n",
      "\n",
      "[NPLOC] {'([NNP],)': 1, '([NNP], [.])': 1, '([NP], [,], [NP])': 1, '([RB],)': 1, '([NP], [,], [NP], [,])': 1, '([DT], [NNP])': 1, '([NNP], [NNP])': 1, '<unk>': 1.0} \n",
      "\n",
      "[QP] {'([RBR], [IN], [DT])': 1, '([JJR], [IN], [CD], [CD])': 1, '([CC], [RBR])': 1, '([CD], [CC], [CD])': 1, '([IN], [CD], [CD])': 1, '([RB], [IN], [CD], [CD])': 1, '([CD], [CC], [JJR])': 1, '([IN], [#], [CD], [CD])': 1, '([JJR], [IN], [CD])': 1, '([RB], [JJ])': 1, '([CD], [NNS])': 1, '([IN], [$], [CD], [CD])': 1, '([RB], [JJR], [IN], [CD])': 1, '([JJ], [NNS])': 1, '([RBR], [IN], [CD])': 1, '([JJR], [IN], [DT], [JJ])': 1, '([DT], [$], [CD], [CD])': 1, '([JJR], [IN], [$], [CD])': 1, '([JJ], [CD], [CD])': 1, '([CC], [RB])': 2, '([IN], [$], [CD])': 1, '([DT], [NN], [IN], [CD])': 1, '([IN], [JJS], [CD])': 1, '([IN], [IN], [CD])': 1, '([JJR], [IN], [DT])': 1, '([CC], [CD])': 1, '([JJR], [IN], [PDT])': 1, '([JJ], [IN], [CD], [NNS])': 1, '([$], [CD], [CD])': 1, '([IN], [JJS], [DT])': 1, '([IN], [TO], [CD])': 1, '([RB], [DT], [NN])': 1, '([CC], [JJR])': 1, '([DT], [CD], [CD])': 1, '([CD], [CC], [RB])': 1, '([IN], [CD])': 1, '([DT], [CD])': 1, '([RB], [IN], [CD])': 1, '([RB], [$], [CD])': 1, '([RB], [$], [CD], [CD])': 1, '([RB], [JJ], [IN], [CD])': 1, '([RB], [RB], [$], [CD])': 1, '([CD], [CD])': 1, '([DT], [JJ], [CD])': 1, '([RB], [RB], [DT])': 1, '([IN], [JJS], [DT], [NN])': 1, '([RP], [CD])': 1, '([NONE],)': 1, '([RB], [NN])': 1, '([RB], [JJ], [IN], [DT])': 1, '([RB], [DT])': 1, '([CD], [IN], [CD])': 1, '([RB], [CD])': 1, '([IN], [TO], [$], [CD])': 1, '([#], [CD], [CD])': 1, '([CD], [TO], [CD])': 1, '([RB],)': 1, '([RBR], [IN], [CD], [NNS])': 1, '([RB], [DT], [JJ])': 1, '([RB], [CD], [CD])': 1, '<unk>': 1.0} \n",
      "\n",
      "[STPC] {'([SBARTMP], [,], [NPSBJ], [VP])': 3, '([SADV], [,], [NPSBJ], [VP])': 2, '([NPSBJ], [ADVPTMP], [VP])': 3, '([NPSBJ], [VP])': 10, '([CC], [NPSBJ], [VP])': 2, '([NPSBJ], [ADVP], [VP])': 3, '([PPLOC], [,], [NPSBJ], [VP])': 2, '([CC], [NPSBJ], [NPTMP], [VP])': 1, '([ADVPTMP], [NPSBJ], [VP])': 1, '([S], [:], [SBARQ])': 1, '([NPSBJ], [:], [VP])': 1, '([NPSBJ], [VP], [,])': 2, '([NPTMP], [,], [NPSBJ], [VP])': 2, '([PPTMP], [,], [NPSBJ], [VP])': 3, '([NPSBJ], [``], [VP])': 2, '([SBARADV], [,], [NPSBJ], [VP])': 4, '([S], [IN], [S])': 1, '([PP], [,], [NPSBJ], [VP])': 2, '([NPSBJ], [PRN], [VP])': 1, '([RB], [NPSBJ], [VP])': 1, '([SBARNOMSBJ], [VP])': 1, '([ADVP], [,], [NPSBJ], [VP])': 1, '([SPRP], [,], [NPSBJ], [VP])': 1, '([S], [,], [CC], [S])': 4, '([S], [:], [S])': 2, '([NPSBJ], [ADVP], [ADVPTMP], [VP])': 1, '([CC], [``], [NPSBJ], [VP])': 1, '([SSBJ], [VP])': 1, '([S], [CC], [S])': 2, '([``], [NPSBJ], [VP])': 1, '([SNOMSBJ], [ADVP], [VP])': 1, '([ADVPTMP], [,], [NPSBJ], [VP])': 1, '([SNOMSBJ], [VP])': 1, '<unk>': 1.0} \n",
      "\n"
     ]
    }
   ],
   "source": [
    "def add_pseudo_counts_and_unk_rules(cfg: CFG, joint_counts, alpha: float, unk_str='<unk>'):\n",
    "    \"\"\"\n",
    "    Add pseudo counts for Laplace smoothing of pre-terminal rules.\n",
    "\n",
    "    This function should update `joint_counts` with pseudo counts whenever appropriate.\n",
    "    Recall that you have to create an unk Terminal and you have to add unk rules to the grammar.    \n",
    "\n",
    "    :param cfg: CFG\n",
    "    :param joint_counts: dictionary of dictionaries from `count_rules` above where\n",
    "        joint_counts[X][r] is the count of a rule r whose LHS is X\n",
    "    :param alpha: Laplace smoothing constant\n",
    "    :param unk_str: the string for unknown terminals\n",
    "    \"\"\"\n",
    "    for lhs in joint_counts:\n",
    "        joint_counts[lhs][unk_str] = alpha\n",
    "#         for rule in set(cfg):\n",
    "#             # Not sure if, because of unk, we should not create\n",
    "#             # new keys for other terminals.\n",
    "#             if len(rule._rhs) == 1:\n",
    "#                 continue\n",
    "#             # In any case don't add self.\n",
    "#             if re.split(\"-[0-9]\", str(rule._rhs))[0] == lhs:\n",
    "#                 continue\n",
    "#             if rule._rhs not in joint_counts[lhs]:\n",
    "#                 joint_counts[lhs][rule._rhs] = alpha\n",
    "#             else:\n",
    "#                 joint_counts[lhs][rule._rhs] += alpha\n",
    "\n",
    "\n",
    "joint_counts = count_rules(training_parses)\n",
    "add_pseudo_counts_and_unk_rules(ptb_grammar, joint_counts, 1.)\n",
    "for i, x in enumerate(joint_counts):\n",
    "    if i > 42:\n",
    "        break\n",
    "    print(x, joint_counts[x], \"\\n\")"
   ]
  },
  {
   "cell_type": "code",
   "execution_count": 56,
   "metadata": {
    "colab": {
     "autoexec": {
      "startup": false,
      "wait_interval": 0
     },
     "base_uri": "https://localhost:8080/",
     "height": 1490,
     "output_extras": [
      {
       "item_id": 1
      }
     ]
    },
    "colab_type": "code",
    "executionInfo": {
     "elapsed": 12339,
     "status": "ok",
     "timestamp": 1521212675304,
     "user": {
      "displayName": "Bram Otten",
      "photoUrl": "https://lh3.googleusercontent.com/a/default-user=s128",
      "userId": "110618989541510237728"
     },
     "user_tz": -60
    },
    "id": "NWYpoTTRLcZY",
    "outputId": "8d28c45e-79ae-429c-e456-8776830df63a",
    "scrolled": true
   },
   "outputs": [
    {
     "name": "stdout",
     "output_type": "stream",
     "text": [
      "[NN] ('spinoff',) \n",
      "\n",
      "[JJ] ('pre',) \n",
      "\n",
      "[ADVP] ([VB], [RB]) \n",
      "\n",
      "[DT] ('both',) \n",
      "\n",
      "[SBAR] ([WHNP], [S]) \n",
      "\n",
      "[NP] ([NONE],) \n",
      "\n",
      "[NPSBJ] ([NONE],) \n",
      "\n",
      "[RB] ('above',) \n",
      "\n",
      "[NNS] ('causes',) \n",
      "\n",
      "[PPLOCPRD] ([RB], [IN], [NP]) \n",
      "\n",
      "[VBD] ('tumbled',) \n",
      "\n",
      "[PPPRD] ([IN], [ADVP]) \n",
      "\n",
      "[VB] ('resonate',) \n",
      "\n",
      "[WRB] ('when',) \n",
      "\n",
      "[SBARCLR] ([IN], [SNOM]) \n",
      "\n",
      "[NNP] ('Cray',) \n",
      "\n",
      "[VP] ([VBN], [NP], [S]) \n",
      "\n",
      "[NPLGS] ([NP], [,], [NP], [,]) \n",
      "\n",
      "[CD] ('1991',) \n",
      "\n",
      "[NX] ([NNS],) \n",
      "\n",
      "[NPPRD] ([NP], [PP], [SBAR]) \n",
      "\n",
      "[VBZ] ('gets',) \n",
      "\n",
      "[ADJP] ([JJ], [PP]) \n",
      "\n",
      "[JJR] ('greater',) \n",
      "\n",
      "[FRAG] ([NPSBJ], [VP]) \n",
      "\n",
      "[VBG] ('descending',) \n",
      "\n",
      "[VBN] ('proven',) \n",
      "\n",
      "[S] ([NPSBJ], [VP]) \n",
      "\n",
      "[VBP] ('recognize',) \n",
      "\n",
      "[WHNP] ([WDT],) \n",
      "\n",
      "[UCP] ([PPTMP], [,], [CC], [S]) \n",
      "\n",
      "[CC] ('plus',) \n",
      "\n",
      "[PDT] ('such',) \n",
      "\n",
      "[RBR] ('less',) \n",
      "\n",
      "[PRN] ([LRB], [ADJP], [RRB]) \n",
      "\n",
      "[ADVPTMP] ([NP], [IN]) \n",
      "\n",
      "[NONE] ('*T*',) \n",
      "\n",
      "[NNPS] ('BILLS',) \n",
      "\n",
      "[ADJPPRD] ([RB], [JJ], [S]) \n",
      "\n",
      "[ADVPDIR] ([IN],) \n",
      "\n",
      "[NPLOC] ([NNP],) \n",
      "\n",
      "[QP] ([CC], [RB]) \n",
      "\n",
      "[STPC] ([NPSBJ], [VP]) \n",
      "\n"
     ]
    }
   ],
   "source": [
    "def compute_maximum_likelihood_estimates(cfg: CFG, joint_counts):\n",
    "    \"\"\"\n",
    "    Use the gathered counts to compute the maximum likelihood estimates.\n",
    "\n",
    "    :param cfg: a CFG object\n",
    "    :param joint_counts: counts as computed by `count_rules` and smoothed by `add_pseudo_counts_and_unk_rules`\n",
    "    :returns: cpds as a dictionary of dictionaries where\n",
    "        cpds[X][r] is the MLE parameter for rule r whose LHS is X\n",
    "    \"\"\"\n",
    "    cpds = {lhs: {}\n",
    "            for lhs in joint_counts}\n",
    "    for lhs in joint_counts:\n",
    "        total = sum(joint_counts[lhs].values())\n",
    "        for rhs in joint_counts[lhs]:\n",
    "            cpds[lhs][rhs] = joint_counts[lhs][rhs] / total\n",
    "    # By now they're more useful than an MLE is, so could  comment this out\n",
    "    # and run a max yourself when needed:\n",
    "    for lhs in cpds:\n",
    "        cpds[lhs] = max(cpds[lhs], key=cpds[lhs].get)\n",
    "    return cpds\n",
    "\n",
    "\n",
    "joint_counts = count_rules(training_parses)\n",
    "add_pseudo_counts_and_unk_rules(ptb_grammar, joint_counts, 1.)\n",
    "p_R = compute_maximum_likelihood_estimates(ptb_grammar, joint_counts)\n",
    "\n",
    "for i, x in enumerate(p_R):\n",
    "    if i > 42:\n",
    "        break\n",
    "    print(x, p_R[x], \"\\n\")"
   ]
  }
 ],
 "metadata": {
  "colab": {
   "collapsed_sections": [],
   "default_view": {},
   "name": "1503.ipynb",
   "provenance": [],
   "version": "0.3.2",
   "views": {}
  },
  "kernelspec": {
   "display_name": "Python 3",
   "language": "python",
   "name": "python3"
  },
  "language_info": {
   "codemirror_mode": {
    "name": "ipython",
    "version": 3
   },
   "file_extension": ".py",
   "mimetype": "text/x-python",
   "name": "python",
   "nbconvert_exporter": "python",
   "pygments_lexer": "ipython3",
   "version": "3.6.4"
  },
  "varInspector": {
   "cols": {
    "lenName": 16,
    "lenType": 16,
    "lenVar": 40
   },
   "kernels_config": {
    "python": {
     "delete_cmd_postfix": "",
     "delete_cmd_prefix": "del ",
     "library": "var_list.py",
     "varRefreshCmd": "print(var_dic_list())"
    },
    "r": {
     "delete_cmd_postfix": ") ",
     "delete_cmd_prefix": "rm(",
     "library": "var_list.r",
     "varRefreshCmd": "cat(var_dic_list()) "
    }
   },
   "types_to_exclude": [
    "module",
    "function",
    "builtin_function_or_method",
    "instance",
    "_Feature"
   ],
   "window_display": false
  }
 },
 "nbformat": 4,
 "nbformat_minor": 1
}
