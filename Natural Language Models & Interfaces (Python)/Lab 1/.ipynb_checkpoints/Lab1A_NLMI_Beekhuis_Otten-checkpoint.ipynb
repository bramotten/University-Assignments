{
 "cells": [
  {
   "cell_type": "code",
   "execution_count": 1,
   "metadata": {},
   "outputs": [],
   "source": [
    "# Lab 1A by Lennart Beekhuis and Bram Otten\n",
    "# 09-02-2018"
   ]
  },
  {
   "cell_type": "markdown",
   "metadata": {},
   "source": [
    "## Exercise 1\n",
    "\n",
    "\n",
    "\n",
    "This exercise is meant to help you get familiar with some language data, do some basic text-processing, and explore some concepts learnt in class. We will use two kinds of corpora in this exercise, the **Penn Treebank** corpus (newspaper text) and the **CHILDES** corpus (child language learning data), described below. For each of them,  take a few minutes to read the sentences/utterances before starting to program. Then, using Jupyter Notebook, write code to answer the given questions. We have included a number of additional (optional) questions at the end of in **Going Further**. If you finish the main questions, choose one of the additional ones to work on. **Total points: 10**\n",
    "\n",
    "\n",
    "\n"
   ]
  },
  {
   "cell_type": "code",
   "execution_count": 2,
   "metadata": {
    "scrolled": true
   },
   "outputs": [],
   "source": [
    "%matplotlib inline\n",
    "import numpy as np\n",
    "import matplotlib.pyplot as plt\n",
    "import csv\n",
    "import string\n",
    "import re\n",
    "import glob\n",
    "import nltk\n",
    "from nltk.corpus import treebank"
   ]
  },
  {
   "cell_type": "markdown",
   "metadata": {},
   "source": [
    "### Penn Treebank Corpus\n",
    "\n",
    "The **Penn Treebank** is a collection of data from the newspaper _The Wall Street Journal_, of about 1 Million words (40K sentences).  This dataset is very commonly used to to train models in NLP systems. It also contains additional information like Part-of-Speech tags and syntactic trees, which has been removed for this exercise. (In later exercise we will use some of this information.) The dataset contains one sentence per line for this exercise."
   ]
  },
  {
   "cell_type": "markdown",
   "metadata": {
    "collapsed": true
   },
   "source": [
    "(a) What are the total number of word tokens in this corpus? In this case, consider a word to be any string that is separated by whitespace. What are the total number of distinct word _types_?"
   ]
  },
  {
   "cell_type": "code",
   "execution_count": 3,
   "metadata": {},
   "outputs": [
    {
     "name": "stdout",
     "output_type": "stream",
     "text": [
      "Total number of words:         929552\n",
      "Number of distinct word types: 44210\n"
     ]
    }
   ],
   "source": [
    "file = open('./sec02-21.raw', 'r')\n",
    "\n",
    "words_a = []\n",
    "stringCount = 0\n",
    "for line in file:\n",
    "    stringCount += 1\n",
    "    for word in line.split():\n",
    "        words_a.append(word)\n",
    "        \n",
    "def printer(words):\n",
    "    print(\"Total number of words:        \", len(words))\n",
    "    print(\"Number of distinct word types:\", len(set(words)))\n",
    "    \n",
    "printer(words_a)"
   ]
  },
  {
   "cell_type": "markdown",
   "metadata": {},
   "source": [
    "(b) In some cases, we don't want to consider punctuations the same way as other word tokens. Using regular expressions, remove punctuations from the corpus, and count the number of word tokens now.  What is the number of distinct word types?"
   ]
  },
  {
   "cell_type": "code",
   "execution_count": 4,
   "metadata": {},
   "outputs": [
    {
     "name": "stdout",
     "output_type": "stream",
     "text": [
      "Total number of words:         810631\n",
      "Number of distinct word types: 44162\n"
     ]
    }
   ],
   "source": [
    "# Only count strings where the first character\n",
    "# is a letter or a number.\n",
    "\n",
    "words_b = []\n",
    "for word in words_a:\n",
    "    \n",
    "    append = False\n",
    "    firstCharacter = word[0]\n",
    "    \n",
    "    if firstCharacter.isalpha():\n",
    "        append = True\n",
    "    elif firstCharacter.isnumeric():\n",
    "        append = True\n",
    "    \n",
    "    if append is True:\n",
    "        words_b.append(word)\n",
    "        \n",
    "printer(words_b)"
   ]
  },
  {
   "cell_type": "markdown",
   "metadata": {},
   "source": [
    "(c) In some cases, it might be useful to remove the distinction between upper-cased and lower-case words, for example, the two uses of _can_ in _Can you program in Python?_ and _I can program in Python_. Again using regular expressions, convert all words to lower-case, and now count the number of distinct word types in the corpus. "
   ]
  },
  {
   "cell_type": "code",
   "execution_count": 5,
   "metadata": {},
   "outputs": [
    {
     "name": "stdout",
     "output_type": "stream",
     "text": [
      "Total number of words:         810631\n",
      "Number of distinct word types: 39338\n"
     ]
    }
   ],
   "source": [
    "# Regex is not needed as Python\n",
    "# has a function which handles this\n",
    "\n",
    "words_c = []\n",
    "for word in words_b:\n",
    "    words_c.append(word.lower())\n",
    "\n",
    "printer(words_c)"
   ]
  },
  {
   "cell_type": "markdown",
   "metadata": {},
   "source": [
    "(d) Plot a graph of word frequency versus rank of a word in this corpus (after removing punctuation and lower-casing). Does this corpus obey Zipf's law?"
   ]
  },
  {
   "cell_type": "code",
   "execution_count": 6,
   "metadata": {},
   "outputs": [
    {
     "data": {
      "image/png": "[encoded data removed]",
      "text/plain": [
       "<matplotlib.figure.Figure at 0x2e04d68c0f0>"
      ]
     },
     "metadata": {},
     "output_type": "display_data"
    },
    {
     "name": "stdout",
     "output_type": "stream",
     "text": [
      "And with ln(y), it 'should' be a straight line:\n"
     ]
    },
    {
     "data": {
      "image/png": "[encoded data removed]",
      "text/plain": [
       "<matplotlib.figure.Figure at 0x2e04d6bb5c0>"
      ]
     },
     "metadata": {},
     "output_type": "display_data"
    },
    {
     "name": "stdout",
     "output_type": "stream",
     "text": [
      "The corpus doesn't obey Zipf's law perfectly\n",
      "but probably comes about as close as can be\n",
      "expected from real sentences processed this way.\n"
     ]
    }
   ],
   "source": [
    "# Count the frequency of each word.\n",
    "# Afterwards, sort them on count and plot.\n",
    "\n",
    "from collections import Counter\n",
    "\n",
    "cnt = Counter()\n",
    "for word in words_c:\n",
    "    cnt[word] += 1\n",
    "\n",
    "y_axis = sorted(list(cnt.values()), reverse=True)\n",
    "x_axis = np.linspace(0, len(cnt), len(y_axis))\n",
    "n = 100\n",
    "\n",
    "plt.show(plt.plot(x_axis[:n], y_axis[:n]))\n",
    "\n",
    "print(\"And with ln(y), it 'should' be a straight line:\")\n",
    "plt.show(plt.plot(x_axis[:n], np.log(y_axis[:n])))\n",
    "\n",
    "print(\"The corpus doesn't obey Zipf's law perfectly\")\n",
    "print(\"but probably comes about as close as can be\")\n",
    "print(\"expected from real sentences processed this way.\")"
   ]
  },
  {
   "cell_type": "markdown",
   "metadata": {},
   "source": [
    "(e) While processing the corpus as above, there may still be a few things that you don't consider real words. What are some of those things? [The question of what counts as a word and what doesn’t comes up a lot in NLP, and there is rarely a single correct answer; often we need to use our judgment and justify our decisions.]. Go back and remove some of these non-words, and re-plot the graph. "
   ]
  },
  {
   "cell_type": "code",
   "execution_count": 7,
   "metadata": {},
   "outputs": [
    {
     "name": "stdout",
     "output_type": "stream",
     "text": [
      "['year', 'for', 'president', 'executive', 'at', 'maker', 'howard', 'britain', 'remain', 'chief', 'anticipates', 'said', 'and', 'to', 'in', 'it', 'mosher', 'the', 'expects', 'steady', 'sales', '1,214', 'about', 'auto', 'cars', 'inc.', 'its', 'he', 'last', 'luxury', 'u.s.', '1,200', 'sold', 'growth', 'officer', 'europe', '1990']\n",
      "\n",
      "Let's remove numbers as well.\n",
      "\n",
      "['year', 'for', 'president', 'executive', 'at', 'maker', 'howard', 'britain', 'remain', 'chief', 'eastern', 'anticipates', 'said', 'and', 'to', 'in', 'it', 'mosher', 'the', 'expects', 'steady', 'sales', 'about', 'auto', 'cars', 'inc.', 'its', 'he', 'far', 'last', 'luxury', 'u.s.', 'sold', 'growth', 'markets', 'officer', 'europe']\n",
      "\n",
      "Total number of words:         784215\n",
      "Number of distinct word types: 34149\n"
     ]
    }
   ],
   "source": [
    "print(list(set(words_c[42:92])))\n",
    "\n",
    "print(), print(\"Let's remove numbers as well.\")\n",
    "\n",
    "words_e = []\n",
    "for word in words_c:\n",
    "    if word[0].isnumeric():\n",
    "        continue\n",
    "        \n",
    "    words_e.append(word)\n",
    "    \n",
    "    \n",
    "print(), print(list(set(words_e[42:92]))), print()\n",
    "printer(words_e)"
   ]
  },
  {
   "cell_type": "markdown",
   "metadata": {},
   "source": [
    "(f) Assume that the probability $P(w_1^n)$ of a sentence $w_1 \\ldots w_n$   can be calculated as follows:\n",
    "\n",
    "$$P(w_1^n) = P(w_1) . P(w_2) \\ldots P(w_n) $$\n",
    "\n",
    "The probability of a word $w_i$ can be calculated from a corpus as $P(w_i) = count (w_i) / N$ where $N$ is the total number of word tokens in the corpus. \n",
    "\n",
    "What is the probability of the first two sentences in the corpus? "
   ]
  },
  {
   "cell_type": "code",
   "execution_count": 8,
   "metadata": {},
   "outputs": [
    {
     "name": "stdout",
     "output_type": "stream",
     "text": [
      "Probability of sentence 1: 1.493975052085559e-130\n",
      "Probability of sentence 2: 4.702067613756634e-20\n"
     ]
    }
   ],
   "source": [
    "n = len(words_e)\n",
    "sentences = [words_e[:35], words_e[35:39]]\n",
    "probabilities = []\n",
    "for sent in sentences:\n",
    "    p = 1\n",
    "    for word in sent:\n",
    "        p *= cnt[word] / n\n",
    "    probabilities.append(p)\n",
    "    \n",
    "print(\"Probability of sentence 1:\", probabilities[0])\n",
    "print(\"Probability of sentence 2:\", probabilities[1])"
   ]
  },
  {
   "cell_type": "markdown",
   "metadata": {},
   "source": [
    "(g) What is the average _sentence length_ of sentences in the Penn Treebank?"
   ]
  },
  {
   "cell_type": "code",
   "execution_count": 9,
   "metadata": {},
   "outputs": [
    {
     "name": "stdout",
     "output_type": "stream",
     "text": [
      "Average sentence length: 19.801408948591053\n"
     ]
    }
   ],
   "source": [
    "print(\"Average sentence length:\", n / stringCount)"
   ]
  },
  {
   "cell_type": "markdown",
   "metadata": {},
   "source": [
    "## CHILDES corpus\n",
    "The second corpus contains data from CHILDES, the Child Language Data Exchange System. CHILDES is a large repository containing many different corpora in many different languages, all contributed by researchers interested in child language development. Since the particular interests of the different researchers vary consider- ably, the different corpora contain different types of data (transcriptions, audio, and/or video) and different kinds of annotations (ranging from detailed phonetic transcripts to morphological and syntactic annotations). However all the corpora are annotated using similar guidelines, so that tools can be developed to work with the annotations across different corpora.\n",
    "\n",
    "We will use the Providence corpus for this lab. To download the corpus, click on the following URL or paste it into your web browser: http://homepages.inf.ed.ac.uk/sgwater/teaching/Providence.zip"
   ]
  },
  {
   "cell_type": "markdown",
   "metadata": {},
   "source": [
    "(a) This corpus is contains very different data from the Penn Treebank. To get an idea of what is in the files, take a look at _eth01.cha_ by opening it in a text editor or using a unix command like _less_. What information is in the metadata at the top of each file? _(Hint: child language researchers use the format y;m.d to indicate a child's age in years;months.days)_\n",
    "\n",
    "What do you see in the rest of the file? _Hint: the string of numbers at the end of each line is a code that links to a time point in the audio recording of this data. The audio isn't included here but can be obtained from the CHILDES database.)_"
   ]
  },
  {
   "cell_type": "code",
   "execution_count": 10,
   "metadata": {},
   "outputs": [
    {
     "name": "stdout",
     "output_type": "stream",
     "text": [
      "\n",
      "The metadata contains encoding, language,  who's part of \n",
      "a conversation (including informing us how old and which\n",
      "role the persons have, what their native languages are),\n",
      "and the type of media this transcript originates from.\n",
      "\n",
      "The file contains lines for each sentence someone speaks,\n",
      "preceded by the speaker and followed by a timestamp.\n",
      "Other lines are commentary etc. without specific timestamps.\n",
      "\n"
     ]
    }
   ],
   "source": [
    "print(\"\"\"\n",
    "The metadata contains encoding, language,  who's part of \n",
    "a conversation (including informing us how old and which\n",
    "role the persons have, what their native languages are),\n",
    "and the type of media this transcript originates from.\n",
    "\n",
    "The file contains lines for each sentence someone speaks,\n",
    "preceded by the speaker and followed by a timestamp.\n",
    "Other lines are commentary etc. without specific timestamps.\n",
    "\"\"\")"
   ]
  },
  {
   "cell_type": "markdown",
   "metadata": {},
   "source": [
    "## Header\n",
    "\n",
    "@UTF8\n",
    "\n",
    "@Begin\n",
    "\n",
    "@Languages:\teng\n",
    "\n",
    "@Participants:\tCHI Ethan Target_Child, MOT Mother Mother\n",
    "\n",
    "@ID:\teng|Ethan|CHI|0;11.4|male|||Target_Child|||\n",
    "\n",
    "@ID:\teng|Ethan|MOT|25;||||Mother|||\n",
    "\n",
    "@Birth of CHI:\t12-DEC-2000\n",
    "\n",
    "@Birth of MOT:\t16-NOV-1976\n",
    "\n",
    "@Media:\teth01, audio\n",
    "\n",
    "@Comment:\tmanuela barcelos\n",
    "\n",
    "@Comment:\tLanguage of Caregivers is Mother Standard American English (Midwest , Chicago)\n",
    "\n",
    "Father Standard American English (originally from Brooklyn but speaks SAE)\n",
    "\n",
    "@Date:\t16-NOV-2001\n",
    "\n",
    "*MOT:\tyou wanna sit with mommy ? \u001534413_37325\u0015"
   ]
  },
  {
   "cell_type": "markdown",
   "metadata": {},
   "source": [
    "(b)  Actually, the _eth01.cha_ file is maybe not one of the more interesting ones. Take a look now at _eth50.cha_.\n",
    "What are some of the main differences you see between the data in these two files? Is there an obvious explanation for those differences? \n",
    "\n"
   ]
  },
  {
   "cell_type": "code",
   "execution_count": 11,
   "metadata": {},
   "outputs": [
    {
     "name": "stdout",
     "output_type": "stream",
     "text": [
      "\n",
      "The child makes noise now, lines after these utterances \n",
      "contain phonetic and mod(?) information. The obvious \n",
      "explanation is that in the course of these 50 sessions the\n",
      "child has started to learn speaking.\n",
      "\n"
     ]
    }
   ],
   "source": [
    "print(\"\"\"\n",
    "The child makes noise now, lines after these utterances \n",
    "contain phonetic and mod(?) information. The obvious \n",
    "explanation is that in the course of these 50 sessions the\n",
    "child has started to learn speaking.\n",
    "\"\"\")"
   ]
  },
  {
   "cell_type": "markdown",
   "metadata": {},
   "source": [
    "## Header\n",
    "\n",
    "@UTF8\n",
    "\n",
    "@Begin\n",
    "\n",
    "@Languages:\teng\n",
    "\n",
    "@Participants:\tCHI Ethan Target_Child, MOT Mother Mother, TOY Toy Toy\n",
    "\n",
    "@ID:\teng|Ethan|CHI|1;1.5|male|||Target_Child|||\n",
    "\n",
    "@ID:\teng|Ethan|MOT|26;||||Mother|||\n",
    "\n",
    "@ID:\teng|Ethan|TOY|26;||||Toy|||\n",
    "\n",
    "@Birth of CHI:\t12-DEC-2000\n",
    "\n",
    "@Birth of MOT:\t17-JAN-1976\n",
    "\n",
    "@Birth of TOY:\t17-JAN-1976\n",
    "\n",
    "@Media:\teth05, audio\n",
    "\n",
    "@Comment:\tpatrick tonks\n",
    "\n",
    "@Comment:\tLanguage of Caregivers is Mother Standard American English (Midwest , Chicago) \n",
    "\n",
    "Father Standard American English (originally from Brooklyn but speaks SAE)\n",
    "\n",
    "@Comment:\tdifference between /ɑ/ , /æ/ and /d/ , /t/ is often not clear\n",
    "\n",
    "@Date:\t17-JAN-2002\n",
    "\n",
    "\n",
    "## Child talks more, because older"
   ]
  },
  {
   "cell_type": "markdown",
   "metadata": {},
   "source": [
    "(c) Mean length of utterance (MLU) is a measure of child language development which refers to the average number of words (or, sometimes, morphemes) in each of the child’s utterances (spoken sentences). What is Ethan’s MLU in the file _eth50.cha_? Assume for this question that a word is any whitespace-delimited string of characters (including punctuation) in the transcription. So, for example, you should count _fill him with pom+poms xxx ._ as six words. (You will need some regular expression based text-processing here)"
   ]
  },
  {
   "cell_type": "code",
   "execution_count": 12,
   "metadata": {},
   "outputs": [
    {
     "name": "stdout",
     "output_type": "stream",
     "text": [
      "MLU = 4.656429942418426\n"
     ]
    }
   ],
   "source": [
    "import io\n",
    "file = io.open(\"./Providence/Ethan/eth50.cha\", \n",
    "            mode=\"r\", encoding=\"utf-8\")\n",
    "\n",
    "count = 0\n",
    "utterances = 0\n",
    "for line in file:\n",
    "    if re.match(\"\\*CHI:\t*\", line):\n",
    "        count += 1\n",
    "        line = line.split('\u0015')[0]\n",
    "        line = line.split(':\t')[1]\n",
    "        utterances += len(line.split())\n",
    "print(\"MLU =\", utterances / count)"
   ]
  },
  {
   "cell_type": "markdown",
   "metadata": {},
   "source": [
    "(d) Make a plot of Ethan's MLU from _eth01_ to _eth50_"
   ]
  },
  {
   "cell_type": "code",
   "execution_count": 13,
   "metadata": {},
   "outputs": [
    {
     "data": {
      "image/png": "[encoded data removed]",
      "text/plain": [
       "<matplotlib.figure.Figure at 0x2e04d689f98>"
      ]
     },
     "metadata": {},
     "output_type": "display_data"
    }
   ],
   "source": [
    "def plotter(to_match):\n",
    "    xList = [i for i in range(1,51)]\n",
    "    yList = []\n",
    "    for i in xList:\n",
    "        count = 0 \n",
    "        utterances = 0\n",
    "        if i < 10:\n",
    "            i = \"0\" + str(i)\n",
    "        path = \"./Providence/Ethan/eth{}.cha\".format(i)\n",
    "        for line in io.open(path, mode=\"r\", encoding=\"utf-8\"):\n",
    "            if re.match(to_match, line):\n",
    "                count += 1\n",
    "                line = line.split('\u0015')[0]\n",
    "                line = line.split(':\t')[1]\n",
    "                utterances += len(line.split())\n",
    "        yList.append(utterances / count)\n",
    "    plt.show(plt.plot(xList, yList))\n",
    "    \n",
    "plotter(\"\\*CHI:\t*\")"
   ]
  },
  {
   "cell_type": "markdown",
   "metadata": {},
   "source": [
    "## Going further\n",
    "Have a go at some or all of the following.  These tasks are less challenging from a programming perspective but are still good for getting you to think about the data some more. Task 4 may require a bit more programming but should also be accessible.\n",
    "\n",
    "(e) Compute type/token ratios for the mothers and children in the corpus. Do you see any consistent patterns?"
   ]
  },
  {
   "cell_type": "code",
   "execution_count": 14,
   "metadata": {},
   "outputs": [
    {
     "name": "stdout",
     "output_type": "stream",
     "text": [
      "Ethan:  2.0568640330299335\n",
      "Mother: 1.2881108432098347\n",
      "\n",
      "So Ethan repeats himself more often. Probably not though,\n",
      "it's just that everything he says is transcribed as 'xxx'\n",
      "or something like that. For more accuracy phonemes need\n",
      "to be taken into account.\n",
      "\n"
     ]
    }
   ],
   "source": [
    "xList = [i for i in range(1,51)]\n",
    "motherList = []\n",
    "childList = []\n",
    "for i in xList:\n",
    "    count = 0\n",
    "    utterances = 0\n",
    "    if i < 10:\n",
    "        i = \"0\" + str(i)\n",
    "    path = \"./Providence/Ethan/eth{}.cha\".format(i)\n",
    "    \n",
    "    for line in io.open(path, mode=\"r\", encoding=\"utf-8\"):\n",
    "        if re.match(\"\\*CHI:\t*\", line):\n",
    "            count += 1\n",
    "            line = line.split('\u0015')[0]\n",
    "            line = line.split(':\t')[1]\n",
    "            childList.append(line)\n",
    "        if re.match(\"\\*MOT:\t*\", line):\n",
    "            count += 1\n",
    "            line = line.split('\u0015')[0]\n",
    "            line = line.split(':\t')[1]\n",
    "            motherList.append(line)\n",
    "\n",
    "            \n",
    "print(\"Ethan: \", len(childList) / len(set(childList)))\n",
    "print(\"Mother:\", len(motherList) / len(set(motherList)))\n",
    "print(\"\"\"\n",
    "So Ethan repeats himself more often. Probably not though,\n",
    "it's just that everything he says is transcribed as 'xxx'\n",
    "or something like that. For more accuracy phonemes need\n",
    "to be taken into account.\n",
    "\"\"\")"
   ]
  },
  {
   "cell_type": "markdown",
   "metadata": {},
   "source": [
    "(f) Compute the MLU for MOT instead of CHI. Plot the MLU of MOT and CHI from the same set of files in a single plot. Do you see the same trends in the MOT and CHI data? Discuss with each other why or why not."
   ]
  },
  {
   "cell_type": "code",
   "execution_count": 15,
   "metadata": {},
   "outputs": [
    {
     "data": {
      "image/png": "[encoded data removed]",
      "text/plain": [
       "<matplotlib.figure.Figure at 0x2e04ddee978>"
      ]
     },
     "metadata": {},
     "output_type": "display_data"
    },
    {
     "name": "stdout",
     "output_type": "stream",
     "text": [
      "\n",
      "The trend is the same but doesn't look very significant.\n",
      "\n",
      "An explanation for the upward trend would be that the \n",
      "mother will start speaking more complex sentences because\n",
      "the child appears to understand more. \n",
      "\n",
      "An explanation for there being no trend would be that the\n",
      "mother already knows how to speak, her speech patterns\n",
      "will not change much anymore.\n",
      "\n"
     ]
    }
   ],
   "source": [
    "plotter(\"\\*MOT:\t*\")\n",
    "\n",
    "print(\"\"\"\n",
    "The trend is the same but doesn't look very significant.\n",
    "\n",
    "An explanation for the upward trend would be that the \n",
    "mother will start speaking more complex sentences because\n",
    "the child appears to understand more. \n",
    "\n",
    "An explanation for there being no trend would be that the\n",
    "mother already knows how to speak, her speech patterns\n",
    "will not change much anymore.\n",
    "\"\"\")"
   ]
  },
  {
   "cell_type": "markdown",
   "metadata": {},
   "source": [
    "(g) Further improve the tokenization so that the word counts you are collecting more accurately reflect \"real\" words."
   ]
  },
  {
   "cell_type": "code",
   "execution_count": 16,
   "metadata": {},
   "outputs": [
    {
     "data": {
      "image/png": "[encoded data removed]",
      "text/plain": [
       "<matplotlib.figure.Figure at 0x2e051b7a240>"
      ]
     },
     "metadata": {},
     "output_type": "display_data"
    }
   ],
   "source": [
    "# Deletes certain strings that are used for \n",
    "# describing uncertainities in\n",
    "# the transscription, describing actions, and \n",
    "# stressing a part of a sentence\n",
    "\n",
    "def line_length(line):\n",
    "    length = len(line.split()) - 1 # for final punctuation.\n",
    "    for i in range(len(line)):\n",
    "        curChar = line[i]\n",
    "        if curChar == '[':\n",
    "            nextChar = line[i + 1]\n",
    "            if nextChar == '?' or nextChar == '=' \\\n",
    "                               or nextChar == '!':\n",
    "                length -= 1\n",
    "        if curChar == ',':                \n",
    "            length -= 1\n",
    "    return length\n",
    "\n",
    "xList = [i for i in range(1,51)]\n",
    "yList = []\n",
    "for i in xList:\n",
    "    count = 0\n",
    "    utterances = 0\n",
    "    if i < 10:\n",
    "        i = \"0\" + str(i)\n",
    "    path = \"./Providence/Ethan/eth{}.cha\".format(i)\n",
    "    for line in io.open(path, mode=\"r\", encoding=\"utf-8\"):\n",
    "        if re.match(\"\\*CHI:\t*\", line):\n",
    "            count += 1\n",
    "            line = line.split('\u0015')[0]\n",
    "            line = line.split(':\t')[1]\n",
    "            utterances += line_length(line)\n",
    "    yList.append(utterances / count)\n",
    "    \n",
    "    \n",
    "plt.show(plt.plot(xList, yList))"
   ]
  }
 ],
 "metadata": {
  "anaconda-cloud": {},
  "kernelspec": {
   "display_name": "Python 3",
   "language": "python",
   "name": "python3"
  },
  "language_info": {
   "codemirror_mode": {
    "name": "ipython",
    "version": 3
   },
   "file_extension": ".py",
   "mimetype": "text/x-python",
   "name": "python",
   "nbconvert_exporter": "python",
   "pygments_lexer": "ipython3",
   "version": "3.6.4"
  }
 },
 "nbformat": 4,
 "nbformat_minor": 2
}
