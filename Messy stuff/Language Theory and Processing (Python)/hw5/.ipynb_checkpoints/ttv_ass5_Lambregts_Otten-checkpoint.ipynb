{
 "cells": [
  {
   "cell_type": "markdown",
   "metadata": {
    "deletable": true,
    "editable": true
   },
   "source": [
    "# Taaltheorie & Taalverwerking 2017 - Assignment 5\n",
    "\n",
    "We can represent a simple ontological structure in Python using the following **Node** class/objects (normally you would probably want a tree object around them as well, but for clarity we leave this out), in which the argument is used to represent a concept (a word sense) and the second argument is used to represent its immediate hypernym. Just be sure to define a parent before using it. An example:\n"
   ]
  },
  {
   "cell_type": "code",
   "execution_count": 1,
   "metadata": {
    "collapsed": true,
    "deletable": true,
    "editable": true
   },
   "outputs": [],
   "source": [
    "# FILL THIS IN FOR YOUR GROUP, also name your file as: tttv_ass5_<group>_<name1>_<name2>.ipynb\n",
    "# Group        : G\n",
    "# Name - UvaID : Bram Otten - 10992456\n",
    "# Name - UvaID : Deborah Lambregts - \n",
    "# Date         : 11-05-2017"
   ]
  },
  {
   "cell_type": "code",
   "execution_count": 2,
   "metadata": {
    "collapsed": false,
    "deletable": true,
    "editable": true
   },
   "outputs": [],
   "source": [
    "class Node:\n",
    "    def __init__(self, node_value, parent_node=None):\n",
    "        self._set_parent(parent_node)            \n",
    "        self._children = set()\n",
    "        self.value = node_value\n",
    "        \n",
    "    def _set_parent(self, parent):\n",
    "        if isinstance(parent, Node):\n",
    "            self._parent_node = parent\n",
    "            parent.get_children().add(self)\n",
    "        else:\n",
    "            self._parent_node = None\n",
    "    \n",
    "    def get_parent(self):\n",
    "        return self._parent_node    \n",
    "    \n",
    "    def get_children(self):\n",
    "        return self._children\n",
    "\n",
    "animate_being = Node(\"animate_being\")\n",
    "animal = Node(\"animal\", animate_being)\n",
    "mammal = Node(\"mammal\", animal)\n",
    "carnivore = Node(\"carnivore\", mammal)\n",
    "feline = Node(\"feline\", carnivore)\n",
    "cat = Node(\"cat\", feline)\n",
    "insectivore = Node(\"insectivore\", mammal)\n",
    "hedgehog = Node(\"hedgehog\", insectivore)"
   ]
  },
  {
   "cell_type": "markdown",
   "metadata": {
    "deletable": true,
    "editable": true
   },
   "source": [
    "The purpose of these exercises is to implement a number of simple tools for exploring a given ontological structure. For all of the examples that follow, we shall assume that the sample ontology above is used (but, of course, the tools you are expected to implement are general and should work for any such ontology).\n"
   ]
  },
  {
   "cell_type": "markdown",
   "metadata": {
    "deletable": true,
    "editable": true
   },
   "source": [
    "### Question 1 (3pts)\n",
    "\n",
    "Implement the functions **hypernym(node)** and **hyponym(node)** to, for the concept given in the first argument position, retrieve all hypernyms and hypoyms of that concept, respectively---relative to the ontological structure currently in memory. \n",
    "\n",
    "The order in which results are returned does not matter (but there should not be any duplicates). Note that every concept is its own hypernym (as well as hyponym). Document your solution by showing two queries together with their output for each of the two predicates you have implemented. The hypernyms and hyponyms should be enumerated by means of enforced backtracking. Examples:\n",
    "\n",
    "    hypernym(cat) # ['cat', 'feline', 'carnivore', 'mammal', 'animal', 'animate_being']\n",
    "    hyponym(mammal) # ['mammal', 'insectivore', 'carnivore', 'hedgehog', 'feline', 'cat']\n",
    "\n",
    "**Hint:** If you get the following or something like this as output, you are printing the object address, if you use **list comprehension** of python, you can easily return the value variable of the object:\n",
    "    \n",
    "    # if print(hypernym(cat)) outputs something like (which are essentially the addresses of the objects in your memory):\n",
    "    [<__main__.Node at 0x78a0f0>, <__main__.Node at 0x746710>, <__main__.Node at 0x7467b0>, <__main__.Node at 0x78a1b0>,\n",
    "     <__main__.Node at 0x78a130>, <__main__.Node at 0x78a150>]\n",
    "    # You can use list comprehension like:\n",
    "    print([node.value for node in hypernym(cat)])\n",
    "    # which would output:\n",
    "    ['cat', 'feline', 'carnivore', 'mammal', 'animal', 'animate_being']\n",
    "     "
   ]
  },
  {
   "cell_type": "code",
   "execution_count": 9,
   "metadata": {
    "collapsed": false,
    "deletable": true,
    "editable": true
   },
   "outputs": [
    {
     "name": "stdout",
     "output_type": "stream",
     "text": [
      "['cat', 'feline', 'carnivore', 'mammal', 'animal', 'animate_being']\n",
      "['mammal', 'carnivore', 'feline', 'cat', 'insectivore', 'hedgehog']\n"
     ]
    }
   ],
   "source": [
    "def hypernym(node):    \n",
    "    parent_list = [node]\n",
    "    parent = node.get_parent()\n",
    "    \n",
    "    while True:\n",
    "        parent_list.append(parent)\n",
    "        \n",
    "        parent = parent.get_parent()\n",
    "        \n",
    "        # Check if top of tree is reached\n",
    "        if parent is None:\n",
    "            break\n",
    "    \n",
    "    return parent_list\n",
    "\n",
    "def hyponym(node):\n",
    "    output_list = []\n",
    "    output_list.append(node.value)\n",
    "    children = node.get_children()\n",
    "\n",
    "    for child in children:\n",
    "        for grandchild in hyponym(child):\n",
    "            output_list.append(grandchild)\n",
    "        \n",
    "    return output_list\n",
    "\n",
    "print([node.value for node in hypernym(cat)])\n",
    "print([node for node in hyponym(mammal)])"
   ]
  },
  {
   "cell_type": "markdown",
   "metadata": {
    "deletable": true,
    "editable": true
   },
   "source": [
    "### Question 2 (6pts)\n",
    "Implement a function **path\\_length(node1, node2)** to compute the path-length distance between two given concepts in an ontological structure. Examples:\n",
    "\n",
    "    path_length(cat, hedgehog) # 5\n",
    "    path_length(mammal, cat)   # 3\n",
    "    path_length(cat, cat)      # 0\n",
    "    \n",
    "Document your solution by showing two sample queries together with the output produced.\n",
    "#### Hints:\n",
    "Here is one possible approach you could adopt. Start by implementing a function **distance(node, hypernym_node)** to compute path-length  for a given concept and one of its hypernyms. That is, for our sample ontology, this function would deliver the intended solution for, say, **cat** and **mammal** (but not for **mammal** and **cat**, or for **cat** and **hedgehog**, etc.). Your implementation of **distance(node, hypernym_node)** will most likely be very similar to your implementation of **hypernym(node)**. Then implement a function **common_hypernym(node1, node2)** to compute the \"lowest\" common hypernym of two given concepts. Finally, put everything together to implement **path\\_length(node1, node2)**."
   ]
  },
  {
   "cell_type": "code",
   "execution_count": 10,
   "metadata": {
    "collapsed": false,
    "deletable": true,
    "editable": true
   },
   "outputs": [
    {
     "name": "stdout",
     "output_type": "stream",
     "text": [
      "4\n",
      "3\n",
      "0\n"
     ]
    }
   ],
   "source": [
    "def recur_distance(node1, hypernym_node, count):\n",
    "    \n",
    "    if node1.get_parent() is None:\n",
    "        return 9001\n",
    "    \n",
    "    if node1 == hypernym_node:\n",
    "        return 0\n",
    "    count += recur_distance(node1.get_parent(), hypernym_node, count + 1)\n",
    "    return count\n",
    "\n",
    "def distance(node1, hypernym_node):\n",
    "    return recur_distance(node1, hypernym_node, 0)\n",
    "\n",
    "def common_hypernym(node1, node2):\n",
    "    \n",
    "    # The hypernym implemenentation above returns an ascending list.\n",
    "    hyper1 = hypernym(node1)\n",
    "    hyper2 = hypernym(node2)\n",
    "\n",
    "    for x in hyper1:\n",
    "        for y in hyper2:\n",
    "            if x.value == y.value:\n",
    "                return x\n",
    "            \n",
    "def path_length(node1, node2):\n",
    "    commy = common_hypernym(node1, node2)   \n",
    "    return (distance(node1, commy) + distance(node2, commy))\n",
    "    \n",
    "print(path_length(cat, hedgehog)) # 5\n",
    "# cat -> feline -> mammal -> insectivore -> hedgehog\n",
    "# 0 -> 1 -> 2 -> 3 -> 4 ?\n",
    "print(path_length(mammal, cat))   # 3\n",
    "print(path_length(cat, cat))      # 0"
   ]
  }
 ],
 "metadata": {
  "kernelspec": {
   "display_name": "Python 3",
   "language": "python",
   "name": "python3"
  },
  "language_info": {
   "codemirror_mode": {
    "name": "ipython",
    "version": 3
   },
   "file_extension": ".py",
   "mimetype": "text/x-python",
   "name": "python",
   "nbconvert_exporter": "python",
   "pygments_lexer": "ipython3",
   "version": "3.6.0"
  }
 },
 "nbformat": 4,
 "nbformat_minor": 2
}
