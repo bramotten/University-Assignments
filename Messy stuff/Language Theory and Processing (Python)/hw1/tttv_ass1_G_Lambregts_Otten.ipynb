{
 "cells": [
  {
   "cell_type": "markdown",
   "metadata": {
    "deletable": true,
    "editable": true
   },
   "source": [
    "# Taaltheorie & Taalverwerking 2017 - Assignment 1"
   ]
  },
  {
   "cell_type": "markdown",
   "metadata": {
    "deletable": true,
    "editable": true
   },
   "source": [
    "\n",
    "The objective of this exercise is to implement a system that will allow us to execute and analyse any arbitrary finite state machine (FSM) specified in Python. Recall that an FSM is a tuple $\\langle\\Sigma,Q,q_0,F,\\delta\\rangle$, where $\\Sigma$ is the alphabet, $Q$ is the set of states, $q_0$ is the initial state, and $F$ is the set of final states. We use a provided Python class to represent both states in $Q$ and symbols in the alphabet $\\Sigma$, and we use Python strings to represent tokens/symbols. \n"
   ]
  },
  {
   "cell_type": "code",
   "execution_count": 17,
   "metadata": {
    "collapsed": true
   },
   "outputs": [],
   "source": [
    "# FILL THIS IN FOR YOUR GROUP, also name your file as: tttv_ass1_<group>_<name1>_<name2>.ipynb\n",
    "# Group        : G\n",
    "# Name - UvaID : Deborah Lambregts - TODO\n",
    "# Name - UvaID : Bram Otten - 10992456\n",
    "# Date         : 09-04-2017"
   ]
  },
  {
   "cell_type": "code",
   "execution_count": 18,
   "metadata": {
    "collapsed": false,
    "deletable": true,
    "editable": true
   },
   "outputs": [],
   "source": [
    "import copy\n",
    "\n",
    "class FSM:\n",
    "\n",
    "    def __init__(self):\n",
    "        \"\"\"Contructor of the FSM.\"\"\"\n",
    "        self._initial_state = None\n",
    "        self._transitions = {}\n",
    "        self._end_states = set()\n",
    "\n",
    "    def get_transitions(self):\n",
    "        \"\"\"Returns a deep copy of the transitions of the current FSM.\"\"\"\n",
    "        return copy.deepcopy(self._transitions)\n",
    "\n",
    "    def add_transition(self, from_state, token, to_state):\n",
    "        \"\"\"\n",
    "        Add a transition to the FSM.\n",
    "        Args:\n",
    "            from_state: String representing of a state.\n",
    "            token: A letter or word, depending on the context.\n",
    "            to_state: String representation of a state.\n",
    "\n",
    "        Returns:\n",
    "            True/False depending on whether the transition could be added.\n",
    "        \"\"\"\n",
    "        from_state = from_state.upper()\n",
    "        to_state = to_state.upper()\n",
    "        if token == \"\" and from_state == to_state:\n",
    "            print((from_state, token, to_state))\n",
    "            print(\"This would generate an infinite loop, transition has not been added.\")\n",
    "            return False\n",
    "        # Create an empty set for new keys.\n",
    "        if from_state not in self._transitions:\n",
    "            self._transitions[from_state] = set()\n",
    "        self._transitions[from_state].add((token, to_state))\n",
    "        return True\n",
    "\n",
    "    def remove_transition(self, from_state, token, to_state):\n",
    "        \"\"\"\n",
    "        Args:\n",
    "            from_state: String representing of a state.\n",
    "            token: A letter or word, depending on the context.\n",
    "            to_state: String representation of a state.\n",
    "\n",
    "        Returns:\n",
    "            True/False depending on whether the transition could be removed.\n",
    "        \"\"\"\n",
    "        from_state = from_state.upper()\n",
    "        to_state = to_state.upper()\n",
    "        # Check if the transition exists\n",
    "        if from_state in self._transitions:\n",
    "            if (token, to_state) in self._transitions[from_state]:\n",
    "                self._transitions[from_state].remove((token, to_state))\n",
    "                print(\"Transition ({}, {}, {}) succesfully removed\".format(from_state, token, to_state))\n",
    "                return True\n",
    "        print(\"Transition ({}, {}, {}) could not be found.\".format(from_state, token, to_state))\n",
    "        return False\n",
    "\n",
    "\n",
    "    def get_initial_state(self):\n",
    "        \"\"\"Returns a deep copy of the transitions of the current FSM.\"\"\"\n",
    "        return copy.deepcopy(self._initial_state)\n",
    "\n",
    "    def set_initial_state(self, state):\n",
    "        \"\"\"Sets the initial state of the FSM.\"\"\"\n",
    "        self._initial_state = state.upper()\n",
    "\n",
    "    def get_end_states(self):\n",
    "        \"\"\"Returns a deep copy of the end states of the current FSM.\"\"\"\n",
    "        return copy.deepcopy(self._end_states)\n",
    "\n",
    "    def add_end_state(self, state):\n",
    "        \"\"\"Add an end state to the FSM.\"\"\"\n",
    "        self._end_states.add(state.upper())\n",
    "\n",
    "    def remove_end_state(self, state):\n",
    "        \"\"\"Remove an end state from the FSM if it exists.\"\"\"\n",
    "        if state.upper() in self._end_states:\n",
    "            self._end_states.remove(state.upper())\n",
    "            print(\"State {} succesfully removed as end state\".format(state))\n",
    "            return True\n",
    "        else:\n",
    "            print(\"State {}, is not one of the end states, and can not be removed.\".format(state))\n",
    "            return False\n",
    "\n",
    "    def print_details(self):\n",
    "        \"\"\"Prints all the details of the current FSM.\"\"\"\n",
    "        print(\"FSM details:\")\n",
    "        print(\"- Initial state:\")\n",
    "        print(\"  - {}\".format(self._initial_state))\n",
    "        print(\"- End states:\")\n",
    "        end_states = list(self._end_states)\n",
    "        end_states.sort()\n",
    "        for state in end_states:\n",
    "            print(\"  - {}\".format(state))\n",
    "        print(\"- Transitions: \")\n",
    "        for state in self._transitions:\n",
    "            print(\"  - {}\".format(state))"
   ]
  },
  {
   "cell_type": "markdown",
   "metadata": {
    "deletable": true,
    "editable": true
   },
   "source": [
    "![First FSM should be here, else add the image in the root of your jupyter notebook](fsm1.png)"
   ]
  },
  {
   "cell_type": "markdown",
   "metadata": {
    "deletable": true,
    "editable": true
   },
   "source": [
    "We represent the transition function~$\\delta$ as a Python dictionary in which for each start node, the transition tokens and the end nodes are stored. The following example shows some basic operations for adding and reading transitions.\n",
    "You can do this yourself by using the **add\\_transition(state1, token, state2)** function of the FSM object: "
   ]
  },
  {
   "cell_type": "code",
   "execution_count": 19,
   "metadata": {
    "collapsed": false,
    "deletable": true,
    "editable": true,
    "scrolled": true
   },
   "outputs": [
    {
     "name": "stdout",
     "output_type": "stream",
     "text": [
      "FSM details:\n",
      "- Initial state:\n",
      "  - None\n",
      "- End states:\n",
      "- Transitions: \n",
      "  - Q0\n",
      "  - Q1\n"
     ]
    }
   ],
   "source": [
    "fsm1 = FSM()\n",
    "fsm1.add_transition('q0','a','q1')\n",
    "fsm1.add_transition('q0','b','q1')\n",
    "fsm1.add_transition('q1','b','q2')\n",
    "fsm1.add_transition('q1','','q2')\n",
    "fsm1.add_transition('q1','a','q2')\n",
    "fsm1.print_details()"
   ]
  },
  {
   "cell_type": "markdown",
   "metadata": {
    "deletable": true,
    "editable": true
   },
   "source": [
    "We furthermore use the function **fsm.set\\_initial\\_state()** to indicate the name of the initial state, and the predicate **fsm.add\\_end\\_state()** to specify any number of final states (in our example there happens to be just a single final state). For our example, this looks as follows:\n"
   ]
  },
  {
   "cell_type": "code",
   "execution_count": 20,
   "metadata": {
    "collapsed": false,
    "deletable": true,
    "editable": true,
    "scrolled": true
   },
   "outputs": [
    {
     "name": "stdout",
     "output_type": "stream",
     "text": [
      "FSM details:\n",
      "- Initial state:\n",
      "  - Q0\n",
      "- End states:\n",
      "  - Q2\n",
      "- Transitions: \n",
      "  - Q0\n",
      "  - Q1\n"
     ]
    }
   ],
   "source": [
    "fsm1.set_initial_state('q0')\n",
    "fsm1.add_end_state('q2')\n",
    "fsm1.print_details()"
   ]
  },
  {
   "cell_type": "markdown",
   "metadata": {
    "deletable": true,
    "editable": true
   },
   "source": [
    "Inside the FSM class/object the variables such as **self.\\_initial\\_state** are accessed directly, if you want to access these from outside the object, you should use the **get** functions:\n"
   ]
  },
  {
   "cell_type": "code",
   "execution_count": 21,
   "metadata": {
    "collapsed": false,
    "deletable": true,
    "editable": true
   },
   "outputs": [
    {
     "name": "stdout",
     "output_type": "stream",
     "text": [
      "- Initial state:\n",
      "  - Q0\n",
      "- End states:\n",
      "  - Q2\n",
      "- Transitions:\n",
      "  - Q0 -> b -> Q1\n",
      "  - Q0 -> a -> Q1\n",
      "  - Q1 -> a -> Q2\n",
      "  - Q1 -> b -> Q2\n",
      "  - Q1 ->  -> Q2\n"
     ]
    }
   ],
   "source": [
    "# Accessing the internal variables of the FSM object correctly, from the outside\n",
    "print(\"- Initial state:\")\n",
    "print(\"  - {}\".format(fsm1.get_initial_state()))\n",
    "# End states are stored as a set(), resulting in only unique values.\n",
    "print(\"- End states:\")\n",
    "end_states = list(fsm1.get_end_states())\n",
    "for state in end_states:\n",
    "  print(\"  - {}\".format(state))\n",
    "# transitions = dictionary of tuples\n",
    "print(\"- Transitions:\")\n",
    "transitions = fsm1.get_transitions()\n",
    "for state in transitions:\n",
    "  for (token, end_state) in transitions[state]:\n",
    "    print(\"  - {} -> {} -> {}\".format(state, token, end_state))"
   ]
  },
  {
   "cell_type": "markdown",
   "metadata": {
    "deletable": true,
    "editable": true
   },
   "source": [
    "Now answer the following questions:\n",
    "\n",
    "### Question 1 (3 pts)\n",
    "\n",
    "In class you have learned to always specify the alphabet~$\\Sigma$ and the set of states~$Q$ when defining an FSM. This is important for clarity, but of course this information in principle can also be extracted from the specification of $\\delta$ (only states and symbols not involved in any transition cannot be recovered this way).\n",
    "\n",
    "Write a function **states(fsm)** to obtain the list of all states used anywhere in the provided FSM object (i.e., all states showing that you have provided via: **fsm.set\\_initial()**, **fsm.add\\_end\\_state()**, and **fsm.add\\_transition()**). Your list should be sorted alphabetically and not contain any duplicates. Example:\n",
    "\n",
    "\n"
   ]
  },
  {
   "cell_type": "code",
   "execution_count": 22,
   "metadata": {
    "collapsed": false,
    "deletable": true,
    "editable": true
   },
   "outputs": [
    {
     "data": {
      "text/plain": [
       "['Q0', 'Q1', 'Q2']"
      ]
     },
     "execution_count": 22,
     "metadata": {},
     "output_type": "execute_result"
    }
   ],
   "source": [
    "def states(fsm):\n",
    "    all_states = []\n",
    "    transitions = fsm.get_transitions()\n",
    "    \n",
    "    for initial_state in transitions:\n",
    "        all_states.append(initial_state)\n",
    "        \n",
    "        for (_, end_state) in transitions[initial_state]:\n",
    "            all_states.append(end_state)\n",
    "    \n",
    "    output_list = list(set(all_states))\n",
    "    output_list.sort()\n",
    "\n",
    "    return output_list\n",
    "\n",
    "# Output for fsm1 should be ['q0', 'q1', 'q2']\n",
    "states(fsm1)"
   ]
  },
  {
   "cell_type": "markdown",
   "metadata": {
    "deletable": true,
    "editable": true
   },
   "source": [
    "Now write a function **alphabet(fsm)** to recover all the alphabet symbols used anywhere in the current FSM specification. Again, the list returned should be sorted and free of duplicates. Example:\n"
   ]
  },
  {
   "cell_type": "code",
   "execution_count": 23,
   "metadata": {
    "collapsed": false,
    "deletable": true,
    "editable": true
   },
   "outputs": [
    {
     "data": {
      "text/plain": [
       "['a', 'b']"
      ]
     },
     "execution_count": 23,
     "metadata": {},
     "output_type": "execute_result"
    }
   ],
   "source": [
    "def alphabet(fsm):\n",
    "    \n",
    "    all_transitions = []\n",
    "    transitions = fsm.get_transitions()\n",
    "    \n",
    "    for state in transitions:\n",
    "        for (element, _) in transitions[state]:\n",
    "            all_transitions.append(element)\n",
    "    \n",
    "    output_list = list(set(all_transitions))\n",
    "    output_list = list(filter(None, output_list))\n",
    "    output_list.sort()\n",
    "    \n",
    "    return output_list\n",
    "\n",
    "# Output for fsm1 should be ['a', 'b']\n",
    "alphabet(fsm1)"
   ]
  },
  {
   "cell_type": "markdown",
   "metadata": {
    "deletable": true,
    "editable": true
   },
   "source": [
    "### Question 2 (4 pts)\n",
    "\n",
    "Implement a function **accept(fsm, string)** to check whether a given string, is accepted by the given FSM.\n",
    "\n",
    "__Hints:__ A breadth-first algorithm, can work via a queue (just look it up), python has a queue class, called *deque*, from *from collections import deque*. On another note, you can also try recursion in python.\n",
    "Also make sure you don't forget about the $\\epsilon$-transitions!\n"
   ]
  },
  {
   "cell_type": "code",
   "execution_count": 73,
   "metadata": {
    "collapsed": false,
    "deletable": true,
    "editable": true
   },
   "outputs": [
    {
     "name": "stdout",
     "output_type": "stream",
     "text": [
      "Q0\n",
      "deque(['Q1'])\n",
      "False\n",
      "Q0\n",
      "deque(['Q1'])\n",
      "Q1\n",
      "deque(['Q2'])\n",
      "Q2\n"
     ]
    },
    {
     "ename": "KeyError",
     "evalue": "'Q2'",
     "output_type": "error",
     "traceback": [
      "\u001b[0;31m---------------------------------------------------------------------------\u001b[0m",
      "\u001b[0;31mKeyError\u001b[0m                                  Traceback (most recent call last)",
      "\u001b[0;32m<ipython-input-73-7e3eaa7480d4>\u001b[0m in \u001b[0;36m<module>\u001b[0;34m()\u001b[0m\n\u001b[1;32m     32\u001b[0m \u001b[0;34m\u001b[0m\u001b[0m\n\u001b[1;32m     33\u001b[0m \u001b[0mprint\u001b[0m\u001b[0;34m(\u001b[0m\u001b[0maccept\u001b[0m\u001b[0;34m(\u001b[0m\u001b[0mfsm1\u001b[0m\u001b[0;34m,\u001b[0m \u001b[0;34m\"b\"\u001b[0m\u001b[0;34m)\u001b[0m\u001b[0;34m)\u001b[0m   \u001b[0;31m# True\u001b[0m\u001b[0;34m\u001b[0m\u001b[0m\n\u001b[0;32m---> 34\u001b[0;31m \u001b[0mprint\u001b[0m\u001b[0;34m(\u001b[0m\u001b[0maccept\u001b[0m\u001b[0;34m(\u001b[0m\u001b[0mfsm1\u001b[0m\u001b[0;34m,\u001b[0m \u001b[0;34m\"aab\"\u001b[0m\u001b[0;34m)\u001b[0m\u001b[0;34m)\u001b[0m \u001b[0;31m# False\u001b[0m\u001b[0;34m\u001b[0m\u001b[0m\n\u001b[0m",
      "\u001b[0;32m<ipython-input-73-7e3eaa7480d4>\u001b[0m in \u001b[0;36maccept\u001b[0;34m(fsm, query_string)\u001b[0m\n\u001b[1;32m     14\u001b[0m         \u001b[0mprint\u001b[0m\u001b[0;34m(\u001b[0m\u001b[0mtesting\u001b[0m\u001b[0;34m)\u001b[0m\u001b[0;34m\u001b[0m\u001b[0m\n\u001b[1;32m     15\u001b[0m \u001b[0;34m\u001b[0m\u001b[0m\n\u001b[0;32m---> 16\u001b[0;31m         \u001b[0;32mfor\u001b[0m \u001b[0;34m(\u001b[0m\u001b[0mtoken\u001b[0m\u001b[0;34m,\u001b[0m \u001b[0mend\u001b[0m\u001b[0;34m)\u001b[0m \u001b[0;32min\u001b[0m \u001b[0mtransitions\u001b[0m\u001b[0;34m[\u001b[0m\u001b[0mtesting\u001b[0m\u001b[0;34m]\u001b[0m\u001b[0;34m:\u001b[0m\u001b[0;34m\u001b[0m\u001b[0m\n\u001b[0m\u001b[1;32m     17\u001b[0m             \u001b[0;32mif\u001b[0m \u001b[0mquery_string\u001b[0m\u001b[0;34m[\u001b[0m\u001b[0mindex\u001b[0m\u001b[0;34m]\u001b[0m \u001b[0;34m==\u001b[0m \u001b[0mtoken\u001b[0m\u001b[0;34m:\u001b[0m\u001b[0;34m\u001b[0m\u001b[0m\n\u001b[1;32m     18\u001b[0m                 \u001b[0;32mif\u001b[0m \u001b[0mend\u001b[0m \u001b[0;32mnot\u001b[0m \u001b[0;32min\u001b[0m \u001b[0mpast\u001b[0m\u001b[0;34m:\u001b[0m\u001b[0;34m\u001b[0m\u001b[0m\n",
      "\u001b[0;31mKeyError\u001b[0m: 'Q2'"
     ]
    }
   ],
   "source": [
    "from collections import deque\n",
    "\n",
    "### DOESN'T WORK !!!\n",
    "def accept(fsm, query_string):\n",
    "    \n",
    "    index = 0\n",
    "    past = set()\n",
    "    future = deque([fsm.get_initial_state()])\n",
    "    transitions = fsm.get_transitions()\n",
    "    \n",
    "    while future:\n",
    "        \n",
    "        testing = future.popleft()\n",
    "        print(testing)\n",
    "        ### DOESN'T WORK !!!\n",
    "        \n",
    "        for (token, end) in transitions[testing]:\n",
    "            if query_string[index] == token:\n",
    "                if end not in past:\n",
    "                    past.add(end)\n",
    "                    future.append(end)\n",
    "                \n",
    "        index += 1     \n",
    "        print(future)\n",
    "        \n",
    "        # The end.\n",
    "        if index == len(query_string):\n",
    "            if testing in fsm.get_end_states():\n",
    "                return True;\n",
    "            return False;\n",
    "        ### DOESN'T WORK !!!\n",
    "    \n",
    "    return False\n",
    "\n",
    "print(accept(fsm1, \"b\"))   # True\n",
    "print(accept(fsm1, \"aab\")) # False"
   ]
  },
  {
   "cell_type": "markdown",
   "metadata": {
    "deletable": true,
    "editable": true
   },
   "source": [
    "Unlike Prolog, python does not have enforced backtracking (repeatedly pressing the semicolon key) to generate all strings accepted by the current FSM currently in memory, but for **fsm1** we know that only the following strings should be accepted:\n"
   ]
  },
  {
   "cell_type": "code",
   "execution_count": 25,
   "metadata": {
    "collapsed": false,
    "deletable": true,
    "editable": true
   },
   "outputs": [
    {
     "name": "stdout",
     "output_type": "stream",
     "text": [
      "False\n",
      "False\n",
      "False\n",
      "False\n",
      "False\n",
      "False\n"
     ]
    }
   ],
   "source": [
    "print(accept(fsm1, \"ab\"))\n",
    "print(accept(fsm1, \"aa\"))\n",
    "print(accept(fsm1, \"a\"))\n",
    "print(accept(fsm1, \"bb\"))\n",
    "print(accept(fsm1, \"ba\"))\n",
    "print(accept(fsm1, \"b\"))"
   ]
  },
  {
   "cell_type": "markdown",
   "metadata": {
    "deletable": true,
    "editable": true
   },
   "source": [
    "### Question 3 (4 pts)\n",
    "\n",
    "Now create a new FSM object, called **fsm2** and write up a specification of the following FSM:\n"
   ]
  },
  {
   "cell_type": "markdown",
   "metadata": {
    "deletable": true,
    "editable": true
   },
   "source": [
    "![Second FSM should be here, else add the image in the root of your jupyter notebook](fsm2.png)"
   ]
  },
  {
   "cell_type": "code",
   "execution_count": 26,
   "metadata": {
    "collapsed": true,
    "deletable": true,
    "editable": true
   },
   "outputs": [
    {
     "name": "stdout",
     "output_type": "stream",
     "text": [
      "FSM details:\n",
      "- Initial state:\n",
      "  - Q0\n",
      "- End states:\n",
      "  - Q1\n",
      "- Transitions: \n",
      "  - Q0\n",
      "  - Q1\n",
      "  - Q2\n"
     ]
    }
   ],
   "source": [
    "fsm2 = FSM()\n",
    "fsm2.add_transition('q0', 'x', 'q1')\n",
    "fsm2.add_transition('q1', 'x', 'q1')\n",
    "fsm2.add_transition('q1', 'y', 'q2')\n",
    "fsm2.add_transition('q2', 'x', 'q1')\n",
    "fsm2.set_initial_state('q0')\n",
    "fsm2.add_end_state('q1')\n",
    "fsm2.print_details()"
   ]
  },
  {
   "cell_type": "markdown",
   "metadata": {
    "deletable": true,
    "editable": true
   },
   "source": [
    "If you have done everything right, then you should be able to verify, for instance, that <u>xyxx</u> is a string that is accepted by this FSM:\n"
   ]
  },
  {
   "cell_type": "code",
   "execution_count": 27,
   "metadata": {
    "collapsed": false,
    "deletable": true,
    "editable": true
   },
   "outputs": [
    {
     "name": "stdout",
     "output_type": "stream",
     "text": [
      "False\n"
     ]
    }
   ],
   "source": [
    "print(accept(fsm2, \"xyxx\")) # True"
   ]
  },
  {
   "cell_type": "markdown",
   "metadata": {
    "deletable": true,
    "editable": true
   },
   "source": [
    "Observe that this new FSM accepts an *infinite* number of strings. In which order it will enumerate them depends on the exact order in which you specify your transitions.\n",
    "As this FSM can generate an infinite number of strings, we can not just test a small list to see if it works correctly. If we want to make sure not to miss any accepted strings, we could try to search the space of all accepted strings in the order of their length.\n",
    "\n",
    "To this end, implement a function **list_accepted(fsm, length)** to collect the list of all strings of a given length accepted by the given FSM. This list should be sorted and not contain any duplicates. Example:\n"
   ]
  },
  {
   "cell_type": "code",
   "execution_count": 28,
   "metadata": {
    "collapsed": false,
    "deletable": true,
    "editable": true
   },
   "outputs": [
    {
     "name": "stdout",
     "output_type": "stream",
     "text": [
      "['TODO']\n"
     ]
    }
   ],
   "source": [
    "def list_accepted(fsm, length):\n",
    "    output_list = [\"TODO\"]\n",
    "    return output_list\n",
    "\n",
    "print(list_accepted(fsm2, 4)) # [\"xxxx\", \"xxyx\", \"xyxx\"]"
   ]
  },
  {
   "cell_type": "markdown",
   "metadata": {
    "deletable": true,
    "editable": true
   },
   "source": [
    "How many distinct strings of length 10 are accepted by our (new) FSM? How many of length 20? Document how you have obtained the answers to these questions.\n",
    "<h4>Answers:</h4>"
   ]
  },
  {
   "cell_type": "code",
   "execution_count": 29,
   "metadata": {
    "collapsed": true,
    "deletable": true,
    "editable": true
   },
   "outputs": [],
   "source": [
    "# The first and last letters have to be x'es.\n",
    "\n",
    "# There can be at most (n-2)/2 y's in betweeon those letters.\n",
    "# The y's can be shuffled around in the n-2 spots, in ((n-2)/2)! ways. \n",
    "# 24 with n=10, 362880 with n=20."
   ]
  },
  {
   "cell_type": "markdown",
   "metadata": {
    "deletable": true,
    "editable": true
   },
   "source": [
    "### Question 4 (4 pts)\n",
    "Implement a function **deterministic(fsm)** to determine whether the FSM currently in memory is deterministic. This query should fail for our first FSM and succeed for the second:"
   ]
  },
  {
   "cell_type": "code",
   "execution_count": 30,
   "metadata": {
    "collapsed": false,
    "deletable": true,
    "editable": true
   },
   "outputs": [
    {
     "name": "stdout",
     "output_type": "stream",
     "text": [
      "False\n",
      "True\n"
     ]
    }
   ],
   "source": [
    "def deterministic(fsm):\n",
    "    \n",
    "    combos = {}\n",
    "    transitions = fsm.get_transitions()\n",
    "    \n",
    "    for state in transitions:\n",
    "        combos[state] = []\n",
    "        for (token, end_state) in transitions[state]:\n",
    "            if token == \"\" or token in combos[state]:\n",
    "                return False\n",
    "            \n",
    "            combos[state] += token\n",
    "    \n",
    "    return True\n",
    "\n",
    "print(deterministic(fsm1)) # False\n",
    "print(deterministic(fsm2)) # True"
   ]
  },
  {
   "cell_type": "markdown",
   "metadata": {
    "deletable": true,
    "editable": true
   },
   "source": [
    "### Question 5 (3 pts)\n",
    "Now create a new FSM object, called **fsm3** and write up a specification of an FSM that defines the present tense inflectional paradigm of the English verb \"do\".\n",
    "\n",
    "If you have done this right, only the frist three strings should be considered correct by **accept(fsm3, string)**:"
   ]
  },
  {
   "cell_type": "code",
   "execution_count": 76,
   "metadata": {
    "collapsed": true,
    "deletable": true,
    "editable": true
   },
   "outputs": [
    {
     "name": "stdout",
     "output_type": "stream",
     "text": [
      "FSM details:\n",
      "- Initial state:\n",
      "  - Q0\n",
      "- End states:\n",
      "  - Q2\n",
      "- Transitions: \n",
      "  - Q0\n",
      "  - Q1\n",
      "  - Q2\n",
      "  - Q3\n",
      "  - Q4\n",
      "Q0\n",
      "deque(['Q1'])\n",
      "Q1\n",
      "deque(['Q2'])\n",
      "False\n",
      "Q0\n",
      "deque(['Q1'])\n",
      "Q1\n",
      "deque(['Q2'])\n",
      "Q2\n",
      "deque(['Q3'])\n",
      "Q3\n",
      "deque([])\n",
      "False\n",
      "Q0\n",
      "deque(['Q1'])\n",
      "Q1\n",
      "deque(['Q2'])\n",
      "Q2\n",
      "deque(['Q3'])\n",
      "Q3\n",
      "deque(['Q4'])\n",
      "Q4\n",
      "deque([])\n",
      "False\n",
      "Q0\n",
      "deque(['Q1'])\n",
      "Q1\n",
      "deque(['Q2'])\n",
      "Q2\n",
      "deque([])\n",
      "True\n"
     ]
    }
   ],
   "source": [
    "fsm3 = FSM()\n",
    "\n",
    "fsm3 = FSM()\n",
    "fsm3.add_transition('q0', 'd', 'q1')\n",
    "fsm3.add_transition('q1', 'o', 'q2')\n",
    "\n",
    "fsm3.add_transition('q2', 'e', 'q3')\n",
    "fsm3.add_transition('q3', 's', 'q2')\n",
    "\n",
    "fsm3.add_transition('q2', 'i', 'q3')\n",
    "fsm3.add_transition('q3', 'n', 'q4')\n",
    "fsm3.add_transition('q4', 'g', 'q2')\n",
    "\n",
    "fsm3.set_initial_state('q0')\n",
    "fsm3.add_end_state('q2')\n",
    "fsm3.print_details()\n",
    "\n",
    "print(accept(fsm3, \"do\")) # True\n",
    "print(accept(fsm3, \"does\")) # True\n",
    "print(accept(fsm3, \"doing\")) # True\n",
    "print(accept(fsm3, \"dos\")) # False\n",
    "# TODO"
   ]
  },
  {
   "cell_type": "markdown",
   "metadata": {
    "deletable": true,
    "editable": true
   },
   "source": [
    "Is your FSM deterministic or nondeterministic?\n",
    "<h4>Answers:</h4>"
   ]
  },
  {
   "cell_type": "code",
   "execution_count": 32,
   "metadata": {
    "collapsed": true,
    "deletable": true,
    "editable": true
   },
   "outputs": [],
   "source": [
    "# Deterministic, as there is only one path a certain string can follow."
   ]
  }
 ],
 "metadata": {
  "anaconda-cloud": {},
  "kernelspec": {
   "display_name": "Python 3",
   "language": "python",
   "name": "python3"
  },
  "language_info": {
   "codemirror_mode": {
    "name": "ipython",
    "version": 3
   },
   "file_extension": ".py",
   "mimetype": "text/x-python",
   "name": "python",
   "nbconvert_exporter": "python",
   "pygments_lexer": "ipython3",
   "version": "3.6.0"
  }
 },
 "nbformat": 4,
 "nbformat_minor": 0
}
