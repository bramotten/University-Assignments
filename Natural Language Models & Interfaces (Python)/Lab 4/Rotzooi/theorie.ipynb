{
 "cells": [
  {
   "cell_type": "code",
   "execution_count": 1,
   "metadata": {
    "collapsed": true
   },
   "outputs": [],
   "source": [
    "# TODO: names, check theory, practice, comments"
   ]
  },
  {
   "cell_type": "markdown",
   "metadata": {
    "colab_type": "text",
    "id": "ZLeHp0mINKSW"
   },
   "source": [
    "**Table of contents**\n",
    "\n",
    "* [Parts of Speech](#pos)\n",
    "* [Hidden Markov Models](#hmm)\n",
    "* [Maximum likelihood estimation for labelled data](#mle)\n",
    "* [Implementation](#imp)\n",
    "* [Evaluation](#eval)\n",
    "    * [Perplexity](#ppl)\n",
    "    * [Viterbi](#viterbi)    \n",
    "    * [Accuracy](#acc)\n",
    "\n",
    "    \n",
    "**Table of Exercises**\n",
    "\n",
    "* Theory (10 points)\n",
    "    * [Exercise 4-4](#ex4-4)\n",
    "    * [Exercise 4-5](#ex4-5)\n",
    "    * [Exercise 4-6](#ex4-6)\n",
    "    * [Exercise 4-7](#ex4-7)\n",
    "    * [Exercise 4-8](#ex4-8)\n",
    "    * [Exercise 4-9](#ex4-9)\n",
    "* Practice (30 points)    \n",
    "    * [Exercise 4-1](#ex4-1)\n",
    "    * [Exercise 4-2](#ex4-2)\n",
    "    * [Exercise 4-3](#ex4-3)\n",
    "    * [Exercise 4-10](#ex4-10)\n",
    "    * [Exercise 4-11](#ex4-11)\n",
    "    * [Exercise 4-12](#ex4-12)\n",
    "\n",
    "\n",
    "\n",
    "**General notes**\n",
    "\n",
    "* In this notebook you are expected to use $\\LaTeX$. \n",
    "* Use python3.\n",
    "* Use NLTK to read annotated data.\n",
    "* **Document your code**: TAs are more likely to understand the steps if you document them. If you don't, it's also difficult to give you partial points for exercises that are not completely correct."
   ]
  },
  {
   "cell_type": "code",
   "execution_count": 2,
   "metadata": {
    "colab": {
     "autoexec": {
      "startup": false,
      "wait_interval": 0
     },
     "base_uri": "https://localhost:8080/",
     "height": 486,
     "output_extras": [
      {
       "item_id": 10
      },
      {
       "item_id": 11
      }
     ]
    },
    "colab_type": "code",
    "collapsed": true,
    "executionInfo": {
     "elapsed": 27803,
     "status": "ok",
     "timestamp": 1520600443949,
     "user": {
      "displayName": "Grote Weegschaal",
      "photoUrl": "//lh4.googleusercontent.com/-KfZBK2pKfJ0/AAAAAAAAAAI/AAAAAAAAACU/Zxktak12jLw/s50-c-k-no/photo.jpg",
      "userId": "118191901390674533680"
     },
     "user_tz": -60
    },
    "id": "xBuDJZkmNKSY",
    "outputId": "ef1f5018-2605-4b3c-bf33-37fd29b48bad"
   },
   "outputs": [],
   "source": [
    "import nltk\n",
    "\n",
    "# nltk.download()"
   ]
  },
  {
   "cell_type": "markdown",
   "metadata": {
    "colab_type": "text",
    "id": "r2scraPHNKSX"
   },
   "source": [
    "# <a name=\"pos\"> Parts of Speech\n",
    "    \n",
    "**Parts of speech** (also known as PoS, word classes) give us information about a word and its neighbors. \n",
    "PoS can can be divided into: closed class and open class.\n",
    "\n",
    "Open class words (or **content words**) are nouns, verbs, adjectives, and adverbs, where they refer to objects, actions, and features in the world. They are called open class, since there is no limit to what these words are\n",
    "new ones are added all the time (email, website, selfie, etc.).\n",
    "\n",
    "**Nouns** suchs as proper nouns are names of persons of entitnes: *Regina*, *Colorado*,\n",
    "and *IBM*. Other type are common nouns that refer to objects that for exmaple, can be counted (one car) or homogeneus groups (snow, sand).\n",
    "\n",
    "**Verbs** consists pf actions and processes, like *draw*, *provide*, and *go*.\n",
    "\n",
    "***Adjectives** include terms for properties or qualities for concepts like age (*old*, *young*), value (*good*, *bad*).\n",
    "\n",
    "\n",
    "\n",
    "Closed class words (or **function words**) are pronouns, determiners, prepositions, and connectives. There is a limited number of these.\n",
    "\n",
    "\n",
    "**Prepositions** occur before noun phrases and indicate spatial or temporal relations, for example, *by* the house.\n",
    "\n",
    "The PoS are tags that classifiy words. For example in English uses the 36 tags. And these tags are used to manually annotate a wide variety of corpora, the Brown corpus, the Wall Street Journal corpus.\n",
    "\n",
    "In this Lab we are going to work with the English [Penn Treebank](https://www.ling.upenn.edu/courses/Fall_2003/ling001/penn_treebank_pos.html) tag set and the annotated corpus.\n",
    "\n",
    "Our final goal is the task: \n",
    "* **Part-of-speech tagging** (tagging for short) is the process of assigning a part-ofspeech tag to each word in an input text.\n",
    "\n",
    "First, we will download the annotated data from [NLTK](https://www.nltk.org/data.html)"
   ]
  },
  {
   "cell_type": "markdown",
   "metadata": {
    "colab_type": "text",
    "id": "yiAqi90YNKSe"
   },
   "source": [
    "With NLTK, we load the annotated **Penn Treebank** corpus.\n",
    "This corpus will be used to train and test our PoS taggers. Let's use the last 100 sentences for test."
   ]
  },
  {
   "cell_type": "code",
   "execution_count": 3,
   "metadata": {
    "colab": {
     "autoexec": {
      "startup": false,
      "wait_interval": 0
     },
     "base_uri": "https://localhost:8080/",
     "height": 86,
     "output_extras": [
      {
       "item_id": 1
      }
     ]
    },
    "colab_type": "code",
    "executionInfo": {
     "elapsed": 3192,
     "status": "ok",
     "timestamp": 1520600454209,
     "user": {
      "displayName": "Grote Weegschaal",
      "photoUrl": "//lh4.googleusercontent.com/-KfZBK2pKfJ0/AAAAAAAAAAI/AAAAAAAAACU/Zxktak12jLw/s50-c-k-no/photo.jpg",
      "userId": "118191901390674533680"
     },
     "user_tz": -60
    },
    "id": "VWTbTvi4NKSf",
    "outputId": "cb944891-a80b-4059-aeee-eab1938520b1"
   },
   "outputs": [
    {
     "name": "stdout",
     "output_type": "stream",
     "text": [
      "3914\n",
      "3000\n",
      "100\n",
      "814\n"
     ]
    }
   ],
   "source": [
    "# inspect PoS from Treebank\n",
    "# we use the universal tagset\n",
    "treebank_sents = nltk.corpus.treebank.tagged_sents(tagset='universal')\n",
    "\n",
    "# we split our corpus on training, dev and test\n",
    "treebank_training = list(treebank_sents[:3000]) \n",
    "treebank_dev = list(treebank_sents[3000:3100])\n",
    "treebank_test = list(treebank_sents[3100:])\n",
    "print(len(treebank_sents))\n",
    "print(len(treebank_training)) \n",
    "print(len(treebank_dev)) # we use 100 sentences/instances for validation\n",
    "print(len(treebank_test)) # we use 814 sentences/instances for test"
   ]
  },
  {
   "cell_type": "code",
   "execution_count": 4,
   "metadata": {
    "colab": {
     "autoexec": {
      "startup": false,
      "wait_interval": 0
     },
     "base_uri": "https://localhost:8080/",
     "height": 52,
     "output_extras": [
      {
       "item_id": 2
      }
     ]
    },
    "colab_type": "code",
    "executionInfo": {
     "elapsed": 3207,
     "status": "ok",
     "timestamp": 1520600457476,
     "user": {
      "displayName": "Grote Weegschaal",
      "photoUrl": "//lh4.googleusercontent.com/-KfZBK2pKfJ0/AAAAAAAAAAI/AAAAAAAAACU/Zxktak12jLw/s50-c-k-no/photo.jpg",
      "userId": "118191901390674533680"
     },
     "user_tz": -60
    },
    "id": "3OGs3YPdNKSh",
    "outputId": "5b4aa13d-0ed9-48cb-979c-343cfaf69e8f"
   },
   "outputs": [
    {
     "name": "stdout",
     "output_type": "stream",
     "text": [
      "12408\n",
      "{'.', 'X', 'NUM', 'DET', 'NOUN', 'ADP', 'ADJ', 'CONJ', 'ADV', 'PRT', 'PRON', 'VERB'}\n"
     ]
    }
   ],
   "source": [
    "# which is the vocabulary?\n",
    "# we can inspect the vocabulary of the corpus \n",
    "treebank_words = nltk.corpus.treebank.tagged_words(tagset='universal')\n",
    "vocabulary = set([w for (w, t) in treebank_words])\n",
    "print(len(vocabulary)) # number of words in our corpus\n",
    "# we inspect the universal tagset (this is a general mapping \n",
    "# because each languge use a different tagset.\n",
    "tagset = set([t for (w, t) in treebank_words])\n",
    "\n",
    "print(tagset) # tags/labes used to annotate the word class"
   ]
  },
  {
   "cell_type": "code",
   "execution_count": 5,
   "metadata": {
    "colab": {
     "autoexec": {
      "startup": false,
      "wait_interval": 0
     }
    },
    "colab_type": "code",
    "collapsed": true,
    "id": "mWLxuClHsyN-"
   },
   "outputs": [],
   "source": [
    "# The observations are pairs: (sentence, tags)\n",
    "# so we can use this to get just the sentences (when we need them)\n",
    "def extract_sentences(treebank_corpus):\n",
    "    sentences = []\n",
    "    for observations in treebank_corpus:\n",
    "        sentences.append([x for x, c in observations])\n",
    "    return sentences\n",
    "\n",
    "# The observations are pairs: (sentence, tags)\n",
    "# so we can use this to get just the tags (when we need them)\n",
    "def extract_tags(treebank_corpus):\n",
    "    tags = []\n",
    "    for observations in treebank_corpus:\n",
    "        tags.append([c for x, c in observations])\n",
    "    return tags"
   ]
  },
  {
   "cell_type": "markdown",
   "metadata": {
    "colab_type": "text",
    "id": "DsKWe88TNKSo"
   },
   "source": [
    "<a name=\"ex4-1\" style=\"color:red\">**Exercise 4-1**</a> **[2 points]** \n",
    "\n",
    "* **[1 point]** Load the PTB corpus and plot the distribution of POS tags. \n",
    "* **[1 point]** Do the same for the Brown corpus.  \n"
   ]
  },
  {
   "cell_type": "code",
   "execution_count": 6,
   "metadata": {
    "colab": {
     "autoexec": {
      "startup": false,
      "wait_interval": 0
     },
     "base_uri": "https://localhost:8080/",
     "height": 385,
     "output_extras": [
      {
       "item_id": 1
      },
      {
       "item_id": 2
      }
     ]
    },
    "colab_type": "code",
    "executionInfo": {
     "elapsed": 2062,
     "status": "ok",
     "timestamp": 1520600464151,
     "user": {
      "displayName": "Grote Weegschaal",
      "photoUrl": "//lh4.googleusercontent.com/-KfZBK2pKfJ0/AAAAAAAAAAI/AAAAAAAAACU/Zxktak12jLw/s50-c-k-no/photo.jpg",
      "userId": "118191901390674533680"
     },
     "user_tz": -60
    },
    "id": "U0L6bCUZrNFN",
    "outputId": "8a40c7fe-9f0a-42a1-9382-7e3b57137b3f"
   },
   "outputs": [
    {
     "name": "stdout",
     "output_type": "stream",
     "text": [
      "{'.': 11715, 'X': 6613, 'NUM': 3546, 'DET': 8725, 'NOUN': 28867, 'ADP': 9857, 'ADJ': 6397, 'CONJ': 2265, 'ADV': 3171, 'PRT': 3219, 'PRON': 2737, 'VERB': 13564}\n"
     ]
    },
    {
     "data": {
      "image/png": "[encoded data removed]",
      "text/plain": [
       "<matplotlib.figure.Figure at 0xa1202b0>"
      ]
     },
     "metadata": {},
     "output_type": "display_data"
    }
   ],
   "source": [
    "import matplotlib.pyplot as plt\n",
    "import numpy as np\n",
    "\n",
    "ptb_tag_dict = dict.fromkeys(tagset, 0)\n",
    "for sentence in extract_tags(treebank_sents):\n",
    "    for tag in sentence:\n",
    "        ptb_tag_dict[tag] += 1\n",
    "\n",
    "print(ptb_tag_dict)\n",
    "plt.figure()\n",
    "n = len(ptb_tag_dict)\n",
    "plt.bar(range(n), ptb_tag_dict.values(), align='center')\n",
    "plt.xticks( np.arange(n), tuple(ptb_tag_dict.keys()) )\n",
    "plt.show()"
   ]
  },
  {
   "cell_type": "code",
   "execution_count": 7,
   "metadata": {
    "colab": {
     "autoexec": {
      "startup": false,
      "wait_interval": 0
     },
     "base_uri": "https://localhost:8080/",
     "height": 347,
     "output_extras": [
      {
       "item_id": 1
      }
     ]
    },
    "colab_type": "code",
    "executionInfo": {
     "elapsed": 4511,
     "status": "ok",
     "timestamp": 1520600468746,
     "user": {
      "displayName": "Grote Weegschaal",
      "photoUrl": "//lh4.googleusercontent.com/-KfZBK2pKfJ0/AAAAAAAAAAI/AAAAAAAAACU/Zxktak12jLw/s50-c-k-no/photo.jpg",
      "userId": "118191901390674533680"
     },
     "user_tz": -60
    },
    "id": "nTli3-nRrNFQ",
    "outputId": "d0524776-cdf1-493c-ee5e-8fc9673f7e12"
   },
   "outputs": [
    {
     "data": {
      "image/png": "[encoded data removed]",
      "text/plain": [
       "<matplotlib.figure.Figure at 0xa601f28>"
      ]
     },
     "metadata": {},
     "output_type": "display_data"
    }
   ],
   "source": [
    "brown_sents = nltk.corpus.brown.tagged_sents(tagset='universal')\n",
    "brown_tag_dict = dict.fromkeys(tagset, 0)\n",
    "for sentence in extract_tags(brown_sents):\n",
    "    for tag in sentence:\n",
    "        brown_tag_dict[tag] += 1\n",
    "\n",
    "plt.figure()\n",
    "n = len(brown_tag_dict)\n",
    "plt.bar(range(n), brown_tag_dict.values(), align='center')\n",
    "plt.xticks( np.arange(n), tuple(brown_tag_dict.keys()) )\n",
    "plt.show()"
   ]
  },
  {
   "cell_type": "markdown",
   "metadata": {
    "colab_type": "text",
    "id": "wN1Fohg3NKSo"
   },
   "source": [
    "<a name=\"ex4-2\" style=\"color:red\">**Exercise 4-2**</a> **[1 point]** Load the PTB corpus, find out for each POS tag what is the most likely tag that follows it. "
   ]
  },
  {
   "cell_type": "code",
   "execution_count": 8,
   "metadata": {
    "colab": {
     "autoexec": {
      "startup": false,
      "wait_interval": 0
     },
     "base_uri": "https://localhost:8080/",
     "height": 243,
     "output_extras": [
      {
       "item_id": 1
      }
     ]
    },
    "colab_type": "code",
    "executionInfo": {
     "elapsed": 1929,
     "status": "ok",
     "timestamp": 1520600470745,
     "user": {
      "displayName": "Grote Weegschaal",
      "photoUrl": "//lh4.googleusercontent.com/-KfZBK2pKfJ0/AAAAAAAAAAI/AAAAAAAAACU/Zxktak12jLw/s50-c-k-no/photo.jpg",
      "userId": "118191901390674533680"
     },
     "user_tz": -60
    },
    "id": "MUniqiqVrNFV",
    "outputId": "a435a676-94ce-48f5-ee7c-481a416e9e12"
   },
   "outputs": [
    {
     "name": "stdout",
     "output_type": "stream",
     "text": [
      ". is most likely to be followed by -EOS-\n",
      "X is most likely to be followed by VERB\n",
      "NUM is most likely to be followed by NOUN\n",
      "DET is most likely to be followed by NOUN\n",
      "NOUN is most likely to be followed by NOUN\n",
      "ADP is most likely to be followed by DET\n",
      "ADJ is most likely to be followed by NOUN\n",
      "CONJ is most likely to be followed by NOUN\n",
      "ADV is most likely to be followed by VERB\n",
      "PRT is most likely to be followed by VERB\n",
      "PRON is most likely to be followed by VERB\n",
      "VERB is most likely to be followed by X\n",
      "-BOS- is most likely to be followed by NOUN\n"
     ]
    }
   ],
   "source": [
    "ptb_tag_dict_fol = dict.fromkeys(tagset, 0)\n",
    "for key in ptb_tag_dict_fol.keys():\n",
    "    ptb_tag_dict_fol[key] = dict.fromkeys(tagset, 0)\n",
    "    ptb_tag_dict_fol[key]['-EOS-'] = 0\n",
    "ptb_tag_dict_fol['-BOS-'] = dict.fromkeys(tagset, 0)\n",
    "ptb_tag_dict_fol['-BOS-']['-EOS-'] = 0\n",
    "    \n",
    "for sentence in extract_tags(treebank_sents):\n",
    "    ptb_tag_dict_fol['-BOS-'][sentence[0]] += 1\n",
    "    for nr in range(len(sentence) - 1):\n",
    "        tag1 = sentence[nr]\n",
    "        tag2 = sentence[nr+1]\n",
    "        ptb_tag_dict_fol[tag1][tag2] += 1\n",
    "    ptb_tag_dict_fol[sentence[-1]]['-EOS-'] += 1\n",
    "\n",
    "ptb_likely_fol = dict.fromkeys(tagset, 0)\n",
    "for key in ptb_tag_dict_fol:\n",
    "    values = ptb_tag_dict_fol[key]\n",
    "    ptb_likely_fol[key] = max(values, key=values.get)\n",
    "    print(key, \"is most likely to be followed by\", ptb_likely_fol[key])"
   ]
  },
  {
   "cell_type": "markdown",
   "metadata": {
    "colab_type": "text",
    "id": "BK3qltp-NKSp"
   },
   "source": [
    "<a name=\"ex4-3\" style=\"color:red\">**Exercise 4-3**</a> **[1 point]** Find the most frequent verb on the PTB and on the Brown corpus."
   ]
  },
  {
   "cell_type": "code",
   "execution_count": 9,
   "metadata": {
    "colab": {
     "autoexec": {
      "startup": false,
      "wait_interval": 0
     },
     "base_uri": "https://localhost:8080/",
     "height": 52,
     "output_extras": [
      {
       "item_id": 2
      }
     ]
    },
    "colab_type": "code",
    "executionInfo": {
     "elapsed": 10969,
     "status": "ok",
     "timestamp": 1520600481762,
     "user": {
      "displayName": "Grote Weegschaal",
      "photoUrl": "//lh4.googleusercontent.com/-KfZBK2pKfJ0/AAAAAAAAAAI/AAAAAAAAACU/Zxktak12jLw/s50-c-k-no/photo.jpg",
      "userId": "118191901390674533680"
     },
     "user_tz": -60
    },
    "id": "L8ZxAVz-rNFb",
    "outputId": "a6694828-666e-4bed-ad99-eeb2e894e24e"
   },
   "outputs": [
    {
     "name": "stdout",
     "output_type": "stream",
     "text": [
      "PTB's most common verb: is\n",
      "Brown's most common verb: is\n"
     ]
    }
   ],
   "source": [
    "ptb_sents = extract_sentences(treebank_sents)\n",
    "ptb_verbs = {}\n",
    "sent_counter = 0\n",
    "for sentence in extract_tags(treebank_sents):\n",
    "    tag_counter = 0\n",
    "    for tag in sentence:\n",
    "        if tag == \"VERB\":\n",
    "            word = ptb_sents[sent_counter][tag_counter]\n",
    "            if word not in ptb_verbs:\n",
    "                ptb_verbs[word] = 0\n",
    "            ptb_verbs[word] += 1\n",
    "        tag_counter += 1\n",
    "    sent_counter += 1\n",
    "\n",
    "ptb_most_verb = max(ptb_verbs, key=ptb_verbs.get)\n",
    "print(\"PTB's most common verb:\", ptb_most_verb)\n",
    "    \n",
    "brown_sents = nltk.corpus.brown.tagged_sents(tagset='universal')  \n",
    "b_sents = extract_sentences(brown_sents)\n",
    "brown_verbs = {}\n",
    "sent_counter = 0\n",
    "for sentence in extract_tags(brown_sents):\n",
    "    tag_counter = 0\n",
    "    for tag in sentence:\n",
    "        if tag == \"VERB\":\n",
    "            word = b_sents[sent_counter][tag_counter]\n",
    "            if word not in brown_verbs:\n",
    "                brown_verbs[word] = 0\n",
    "            brown_verbs[word] += 1\n",
    "        tag_counter += 1\n",
    "    sent_counter += 1\n",
    "\n",
    "brown_most_verb = max(brown_verbs, key=brown_verbs.get)\n",
    "print(\"Brown's most common verb:\", brown_most_verb)"
   ]
  },
  {
   "cell_type": "markdown",
   "metadata": {
    "colab_type": "text",
    "id": "z0ILiguqNKSq"
   },
   "source": [
    "# <a name=\"hmm\"> Hidden Markov Models\n",
    "\n",
    "* How can we learn a PoS tagger given this dataset?\n",
    "\n",
    "The Hidden Markov Model **HMM** is a sequence model. A sequence model or sequence classifier is a\n",
    "model whose job is to assign a label or class to each unit in a sequence, thus mapping\n",
    "a sequence of observations to a sequence of labels.\n",
    "\n",
    "For example, in PoS the HMM will assing a tag to each word in a sentence: \n",
    "\n",
    "*Mr. Vinken is chairman of Elsevier N.V. the Dutch publishing group.*\n",
    "\n",
    "The output of a tagger would look like one of the annotated sentences form the Treeban corpus:"
   ]
  },
  {
   "cell_type": "code",
   "execution_count": 10,
   "metadata": {
    "colab": {
     "autoexec": {
      "startup": false,
      "wait_interval": 0
     },
     "base_uri": "https://localhost:8080/",
     "height": 54,
     "output_extras": [
      {
       "item_id": 1
      }
     ]
    },
    "colab_type": "code",
    "executionInfo": {
     "elapsed": 485,
     "status": "ok",
     "timestamp": 1520600482521,
     "user": {
      "displayName": "Grote Weegschaal",
      "photoUrl": "//lh4.googleusercontent.com/-KfZBK2pKfJ0/AAAAAAAAAAI/AAAAAAAAACU/Zxktak12jLw/s50-c-k-no/photo.jpg",
      "userId": "118191901390674533680"
     },
     "user_tz": -60
    },
    "id": "aDoDXO2iNKSq",
    "outputId": "3d550279-698d-4f1c-affb-c2d4356437f4"
   },
   "outputs": [
    {
     "name": "stdout",
     "output_type": "stream",
     "text": [
      "[('Mr.', 'NOUN'), ('Vinken', 'NOUN'), ('is', 'VERB'), ('chairman', 'NOUN'), ('of', 'ADP'), ('Elsevier', 'NOUN'), ('N.V.', 'NOUN'), (',', '.'), ('the', 'DET'), ('Dutch', 'NOUN'), ('publishing', 'VERB'), ('group', 'NOUN'), ('.', '.')]\n"
     ]
    }
   ],
   "source": [
    "print(treebank_training[1])"
   ]
  },
  {
   "cell_type": "markdown",
   "metadata": {
    "colab_type": "text",
    "id": "r4-bQE-yNKSs"
   },
   "source": [
    "Let's start by defining the **HMM**\n",
    "    \n",
    "We consider two phenomena:\n",
    "* Transition: we move from one \"state\" to another \"state\" where our state is the POS tag\n",
    "* Emission: with a certain \"state\" in mind, we generate a certain word\n",
    "\n",
    "This means that in the sentence above, for example, we generate\n",
    "1. From the state `BoS` (begin of sequence) we generate the state `NOUN`\n",
    "2. Then from `NOUN` we generate the word `Mr.`\n",
    "3. We then \"forget\" the word we just emitted and use the fact that our current state is `NOUN` to generate the next state, which is again a `NOUN`\n",
    "4. From where we then generate `Vinken`\n",
    "5. We proceed like that until we exaust both sequences\n",
    "\n",
    "\n",
    "Let us give names to things, let's model the current class with a random variable $C$ and let's use the random variable $C_{\\text{prev}}$ to model the previous category. For the word we will use the random variable $X$.\n",
    "Both $C$ and $C_{\\text{prev}}$ take on values in the enumeration of a tagset containing $t$ tags, that is, $\\{1, \\ldots, t\\}$. $X$ takes on values in the enumeration of a vocabulary containing $v$ words, that is, $\\{1, \\ldots, v\\}$.\n",
    "\n",
    "The **transition** distribution captures how our beliefs in a class vary as a function of the previous class. We will use Categorical distributions for that. In fact, for each possible previous class we get a Categorical distribution over the complete set of classes.\n",
    "\n",
    "\\begin{align}\n",
    "(1) \\qquad C \\mid C_{\\text{prev}}=p \\sim \\text{Cat}(\\lambda_1^{(p)}, \\ldots, \\lambda_t^{(p)})\n",
    "\\end{align}\n",
    "    "
   ]
  },
  {
   "cell_type": "markdown",
   "metadata": {
    "colab_type": "text",
    "id": "pNCv3QmbNKSu"
   },
   "source": [
    "<a name=\"ex4-4\" style=\"color:red\">**Exercise 4-4**</a> **[1 point]** What is the probability value of  $P_{C|C_{\\text{prev}}}(c|p)$?\n",
    "\n",
    "$\\lambda^{(p)}_c$"
   ]
  },
  {
   "cell_type": "markdown",
   "metadata": {
    "colab_type": "text",
    "id": "fs11enpzNKSu"
   },
   "source": [
    "<a name=\"ex4-5\" style=\"color:red\">**Exercise 4-5**</a> **[2 points]**\n",
    "\n",
    "* **[1 point]** How many cpds do we need in order to represent all transition distributions?\n",
    "* **[1 point]** What's the representation cost of such a set of distributions? Use [big-O notation](https://en.wikipedia.org/wiki/Big_O_notation).\n",
    "\n",
    "\n",
    "\n",
    "(if t = amount of classes)\n",
    "1. $t^2$ cpd's\n",
    "2. $O(n^2)$, but as there's a constant amount of classes, we could say the exponent isn't justified and write $O(n)$\n",
    "\n"
   ]
  },
  {
   "cell_type": "markdown",
   "metadata": {
    "colab_type": "text",
    "id": "Bx5fFet-NKSv"
   },
   "source": [
    "\n",
    "The **emission** distribution captures how our beliefs in a word vary as a function of the word's class. We will again use Categorical distributions for that. In fact, for each possible class, we get a Categorical distribution over the complete vocabulary.\n",
    "\n",
    "\n",
    "\\begin{align}\n",
    "(2) \\qquad X \\mid C=c \\sim \\text{Cat}(\\theta_1^{(c)}, \\ldots, \\theta_v^{(c)})\n",
    "\\end{align}\n",
    "   "
   ]
  },
  {
   "cell_type": "markdown",
   "metadata": {
    "colab_type": "text",
    "id": "3TUAA-J3NKSw"
   },
   "source": [
    "<a name=\"ex4-6\" style=\"color:red\">**Exercise 4-6**</a> **[1 point]** What's the probability value of $P_{X|C}(x|c)$?\n",
    "\n",
    "\n",
    "\n",
    "$\\theta^{(c)}_v$"
   ]
  },
  {
   "cell_type": "markdown",
   "metadata": {
    "colab_type": "text",
    "id": "c_GquPHJNKSw"
   },
   "source": [
    "<a name=\"ex4-7\" style=\"color:red\">**Exercise 4-7**</a> **[2 points]** \n",
    "\n",
    "* **[1 point]** How many cpds do we need in order to represent all emission distributions? \n",
    "* **[1 point]** What's the representation cost of such a set of distributions? Use [big-O notation](https://en.wikipedia.org/wiki/Big_O_notation).\n",
    "\n",
    "\n",
    "(if n = amount of words)\n",
    "1. $t \\times n$ cpd's\n",
    "2. $O(n)$, but only if we assume the amount of classes is constant again. Otherwise it's $O(n^2)$\n"
   ]
  },
  {
   "cell_type": "markdown",
   "metadata": {
    "colab_type": "text",
    "id": "PvpjSn4eNKSy"
   },
   "source": [
    "Now let's turn to the joint distribution $P_{CX|C_{\\text{prev}}}$ over classes and words and let's focus on a single step where we can assume the previous class is already available. Then the model factorises as follows:\n",
    "\n",
    "\\begin{align}\n",
    "(3) \\qquad P_{CX|C_{\\text{prev}}}(x, c | c_{\\text{prev}}) &= P_{C|C_{\\text{prev}}}(c|c_{\\text{prev}}) P_{X|C}(x|c) \n",
    "\\end{align}\n",
    "\n",
    "It will turn out useful to know what is the marginal distribution $P_{X|C_{\\text{prev}}}$ over words given the previous class ---  where we have marginalised the current class out. \n",
    "\n",
    "\\begin{align}\n",
    "(4) \\qquad P_{X|C_{\\text{prev}}}(x| c_{\\text{prev}}) &= \\sum_{c=1}^t P_{CX|C_{\\text{prev}}}(x, c | c_{\\text{prev}}) \\\\\n",
    " &= \\sum_{c=1}^t P_{C|C_{\\text{prev}}}(c|c_{\\text{prev}}) \\times P_{X|C}(x|c) \n",
    "\\end{align}\n",
    "\n",
    "Note that Equation (4) starts by simply summing Equation (3) for all possible values of the current class, that is, for $c$ from 1 to $t$.\n",
    "\n"
   ]
  },
  {
   "cell_type": "markdown",
   "metadata": {
    "colab_type": "text",
    "id": "f7VBn-5ZNKSy"
   },
   "source": [
    "Our ultimate goal with the HMM is to assing a probability to a sentence $x_1^n$. For that we need to combine $n$ pairs $(c_i, x_i)$ and marginalise away their history $c_{i-1}$. Doing so yields the **joint probability**:\n",
    "\n",
    "\\begin{align}\n",
    "(5) \\qquad P_{X_1^nC_1^n|N}(x_1^n, c_1^n|n) &= P_{C|C_{\\text{prev}}}(c_1|c_0)P_{X|C}(x_1|c_1)P_{C|C_{\\text{prev}}}(c_2|c_1)P_{X|C}(x_2|c_1)\\cdots P_{C|C_{\\text{prev}}}(c_n|c_{n-1})P_{X|C}(x_n|c_n) \\\\\n",
    "    &= \\prod_{i=1}^n P(c_i|c_{i-1})P(x_i|c_i)\n",
    "\\end{align}\n",
    "\n",
    "\n",
    "We can get the **marginal probability** of a sentence by summing over all possible values of all possible class variables. This requires summing for each and every $c_i$ from 1 to $t$ as follows:\n",
    "\n",
    "\\begin{align}\n",
    "(6) \\qquad P_{S|N}(x_1^n|n) &= \\sum_{c_1=1}^t \\cdots \\sum_{c_n=1}^t P(c_1|c_0)P(x_1|c_1)P(c_2|c_1)P(x_2|c_1)\\cdots P(c_n|c_{n-1})P(x_n|c_n) \\\\\n",
    "&= \\sum_{c_1=1}^t \\cdots \\sum_{c_n=1}^t  \\prod_{i=1}^n P(c_i|c_{i-1})P(x_i|c_i)\n",
    "\\end{align}\n",
    "\n",
    "This looks pretty bad! If we have to enumerate all possible tag sequences, there would be just too many of them. That is, in the first sum, $c_1$ takes 1 of $t$ values, then for each of those values $c_2$ will take 1 of $t$ values, and so on. This leads to $t^n$ different tag sequences. An exponential number of them!!! We will never manage to enumerate them, compute their joint probabilities and then sum them up. \n",
    "\n",
    "Luckily, it turns out that in the HMM only two variables interact at a time, that is, $c_i$ interacts with $c_{i-1}$, then $c_i$ interacts with $x_i$, thus to characterise the distribution over $x_i$ we only need to know $c_{i-1}$ and $c_i$ --- which Equation (4) also shows. We can simplify Equation (6) by rearranging the sums and products as in Equation (7) below.\n",
    "\n",
    "\\begin{align}\n",
    "(7) \\qquad P_{S|N}(x_1^n|n) &= \\sum_{c_1=1}^t \\cdots \\sum_{c_n=1}^t  \\prod_{i=1}^n P(c_i|c_{i-1})P(x_i|c_i) \\\\\n",
    "&= \\prod_{i=1}^n \\sum_{c_{i-1}=1}^t \\sum_{c_i=1}^t P(c_i|c_{i-1})P(x_i|c_i)\n",
    "\\end{align}\n",
    "\n",
    "This is great news because it reveals that to marginalise the tag sequences we only need to scan over the sentence $i=1, \\ldots, n$ and then scan over the possible combinations of two tags from the tagset. \n"
   ]
  },
  {
   "cell_type": "markdown",
   "metadata": {
    "colab_type": "text",
    "id": "Q4hW3TmTNKSz"
   },
   "source": [
    "<a name=\"ex4-8\" style=\"color:red\">**Exercise 4-8**</a> **[3 points]** What is the algorithmic complexity of computing the marginal probability of a sentence in the HMM model?  \n",
    "\n",
    "\n",
    "$O(nt^2)$\n",
    "\n"
   ]
  },
  {
   "cell_type": "markdown",
   "metadata": {
    "colab_type": "text",
    "id": "pPp8NQcGNKS0"
   },
   "source": [
    "Equation (5) gives us a simple algorithm to assign joint probabilities to sequences of the kind $(c_1^n, x_1^n)$. \n",
    "Because we chose categorical distributions as in Equations (1) and (2), we can say that \n",
    "\n",
    "\\begin{align}\n",
    "P_{CX|C_{\\text{prev}}}(x, c | p) = \\lambda_{c}^{(p)} \\times \\theta_{x}^{(p)}\n",
    "\\end{align}\n",
    "\n",
    "and therefore Equation (5) is simply\n",
    "\n",
    "\\begin{align}\n",
    "(8) \\qquad P_{X_1^nC_1^n|N}(x_1^n, c_1^n|n) &= \\prod_{i=1}^n P(c_i|c_{i-1})P(x_i|c_i) \\\\\n",
    " &= \\prod_{i=1}^n  \\lambda_{c_i}^{(c_{i-1})} \\times \\theta_{x_i}^{(c_i)}\n",
    "\\end{align}\n",
    "\n",
    "Similarly, Equation (7) is great because it gives us an algorithm to assign probabilities to sentences. \n",
    "If we now use our parameters to rewrite Equation (7)  we get \n",
    "\n",
    "\\begin{align}\n",
    "(9) \\qquad P_{S|N}(x_1^n|n) &= \\prod_{i=1}^n \\sum_{c_{i-1}=1}^t \\sum_{c_i=1}^t P(c_i|c_{i-1})P(x_i|c_i) \\\\\n",
    "&= \\prod_{i=1}^n \\sum_{c_{i-1}=1}^t \\sum_{c_i=1}^t  \\lambda_{c_i}^{(c_{i-1})} \\times \\theta_{x_i}^{(c_i)}\n",
    "\\end{align}\n",
    "\n"
   ]
  },
  {
   "cell_type": "markdown",
   "metadata": {
    "colab_type": "text",
    "id": "XnX8AI_dNKS1"
   },
   "source": [
    "# <a name=\"mle\"> Maximum likelihood estimation for labelled data\n",
    "    \n",
    "As we know by now, MLE for Categorical CPDs is just a matter of counting and dividing.\n",
    "\n",
    "The MLE solution for the transition distribution is therefore\n",
    "\n",
    "\\begin{align}\n",
    "(10) \\qquad \\lambda_c^{(p)} = \\frac{\\text{count(p, c)}}{\\text{count}(p)}\n",
    "\\end{align}"
   ]
  },
  {
   "cell_type": "markdown",
   "metadata": {
    "colab_type": "text",
    "id": "md9NSxllNKS2"
   },
   "source": [
    "<a name=\"ex4-9\" style=\"color:red\">**Exercise 4-9**</a> **[1 points]** What is the MLE solution for the emission distribution? Note: use the same style as in Equation (10), that is, state the parameter and the solution. \n",
    "\n",
    "\n",
    "\n",
    "\\begin{align}\n",
    "\\qquad \\lambda_c^{(x)} = \\frac{\\text{count(x, c)}}{\\text{count}(x)}\n",
    "\\end{align}\n"
   ]
  },
  {
   "cell_type": "markdown",
   "metadata": {
    "colab_type": "text",
    "id": "TwXaOBNKNKS3"
   },
   "source": [
    "Now you will **implement** the HMM, this means you will implement *transition distributions*, *emission distributions*, *Laplace smoothing*, *joint probability*, *marginal probability*, and an algorithm for making *predictions*."
   ]
  },
  {
   "cell_type": "markdown",
   "metadata": {
    "colab_type": "text",
    "id": "XY7M2Ob8NKS3"
   },
   "source": [
    "# <a name=\"imp\"> Implementation\n",
    "\n",
    "Here you will implement a language model based on an HMM POS tagger. \n",
    "\n",
    "<a name=\"ex4-10\" style=\"color:red\">**Exercise 4-10**</a> **[17 points]** \n",
    "\n",
    "You will need to complete the skeleton class below. Read it through before coding. Check the documentation for additional information. Document your steps (this will increase your chance of earning points in case you make mistakes along the way). \n",
    "\n",
    "* **[8 points]** Implement `estimate_model`: this should take an annotated corpus (such as PTB or Brown) and estimate the CPDs in the model using Laplace smoothing. \n",
    "* **[2 points]** Implement `transition_parameter`: see method's documentation\n",
    "* **[2 points]** Implement `emission_parameter`: see method's documentation\n",
    "* **[1 points]** Implement `joint_parameter`: see method's documentation\n",
    "* **[2 points]** Implement `log_joint`: see method's documentation\n",
    "* **[2 points]** Implement `log_marginal`: see method's documentation\n",
    "\n",
    "Show that you methods work by training a model and testing a few examples. This is an example \n",
    "\n",
    "```python\n",
    "treebank_hmm = HMMLM()\n",
    "treebank_hmm.estimate_model(treebank_training)\n",
    "print(treebank_hmm.joint_parameter('DET', 'NOUN', 'book'))\n",
    "sentence = [x for x, _ in treebank_dev[0]]\n",
    "tag_sequence = [c for _, c in treebank_dev[0]]\n",
    "print(' '.join(sentence))\n",
    "print(' '.join(tag_sequence))\n",
    "print(treebank_hmm.log_joint(sentence, tag_sequence))\n",
    "```\n",
    "\n",
    "for which we get\n",
    "\n",
    "```\n",
    "9.959527643028553e-05\n",
    "At Tokyo , the Nikkei index of 225 selected issues , which *T*-1 gained 132 points Tuesday , added 14.99 points to 35564.43 .\n",
    "ADP NOUN . DET NOUN NOUN ADP NUM VERB NOUN . DET X VERB NUM NOUN NOUN . VERB NUM NOUN PRT NUM .\n",
    "-193.71018537\n",
    "```\n"
   ]
  },
  {
   "cell_type": "code",
   "execution_count": 11,
   "metadata": {
    "colab": {
     "autoexec": {
      "startup": false,
      "wait_interval": 0
     }
    },
    "colab_type": "code",
    "collapsed": true,
    "id": "wXYDJmxANKS3"
   },
   "outputs": [],
   "source": [
    "import numpy as np\n",
    "from collections import defaultdict\n",
    "\n",
    "# TODO: use alpha\n",
    "class HMMLM:\n",
    "    \"\"\"\n",
    "    This is our HMM language model class.\n",
    "\n",
    "    It will be responsible for estimating parameters by MLE\n",
    "    as well as computing probabilities using the HMM.\n",
    "\n",
    "    We will use Laplace smoothing by default (because we do not want to assign 0 probabilities).\n",
    "\n",
    "    GUIDELINES:\n",
    "        - by convention we will use the string '-UNK-' for an unknown POS tag\n",
    "            - and '<unk>' for an unknown word\n",
    "        - don't forget that with Laplace smoothing the unknown symbols have to be in the support \n",
    "          of distributions\n",
    "        - now you will have 2 types of distributions, so you should deal with unknown symbols \n",
    "          for both of them\n",
    "        - we also need padding for sentences and tag sequences, by convention we will use \n",
    "            - '-BOS-' and '-EOS-' for padding tag sequences\n",
    "            - '<s>' and '</s>' for padding sentences\n",
    "        - do recall that '-BOS-' is **not** a valid tag\n",
    "            in other words we never *generate* '-BOS-' tags, we only pretend they occur at\n",
    "            the 0th position of the tag sequence in order to provide conditioning context\n",
    "            for the first actual tag\n",
    "        - similarly, '<s>' is not a valid word\n",
    "            in other words, we never *generate* '<s>' as a word\n",
    "            in fact '<s>' is optional as no emission event is based on it\n",
    "        - on the other hand, '-EOS-' is a valid tag\n",
    "            you should model it as the last event of a tag sequence\n",
    "        - similarly, '</s>' is a valid word\n",
    "            you should consider it as the last event of a sentence\n",
    "\n",
    "    You can use whatever data structures you like for cpds\n",
    "        - we suggest python dict or collections.defaultdict\n",
    "            but you are free to experiment with list and/or np.array if you like\n",
    "    \"\"\"\n",
    "\n",
    "    def __init__(self, transition_alpha=1.0, emission_alpha=1.0):\n",
    "        self._vocab = set()\n",
    "        self._tagset = set()\n",
    "        self._emission_cpds = dict()\n",
    "        self._transition_cpds = dict()\n",
    "        self._transition_alpha = transition_alpha\n",
    "        self._emission_alpha = emission_alpha\n",
    "\n",
    "    def tagset(self):\n",
    "        \"\"\"\n",
    "        Return the tagset: a set of all tags seen by the model (including '-UNK-').\n",
    "\n",
    "        You can modify this if you judge necessary (for example, because you decided  to \n",
    "            use different datastructures, but do note that we provide you an implementation\n",
    "            of the Viterbi algorithm that expects this functionality).        \n",
    "        \"\"\"\n",
    "        # the -BOS- tag is just something for internal representation\n",
    "        #  in case you have added it to the tagset, we are removing it here\n",
    "        #  as keeping it would be bad for algorithms such as Viterbi\n",
    "        # the -UNK- tag must be in the support (due to Laplace smoothing)\n",
    "        #  thus in case you forgot it, we are adding it now\n",
    "        return self._tagset - {'-BOS-'} | {'-UNK-'}\n",
    "\n",
    "    def vocab(self):\n",
    "        \"\"\"\n",
    "        Return the vocabulary of words: all words seen by the model (including '<unk>').\n",
    "\n",
    "        You can modify this if you judge necessary (for example, because you decided  to \n",
    "            use different datastructures, but do note that we provide you an implementation\n",
    "            of the Viterbi algorithm that expects this functionality).        \n",
    "        \"\"\"\n",
    "        # the <s> token is just something for internal representation\n",
    "        #  in case you have added it to the vocabulary, we are removing it here\n",
    "        # the <unk> word must be in the support (due to Laplace smoothing)\n",
    "        #  thus in case you forgot it, we are adding it now\n",
    "        return self._vocab - {'<s>'} | {'<unk>'}\n",
    "\n",
    "    def preprocess_sentence(self, sentence, bos=True, eos=True):\n",
    "        \"\"\"\n",
    "        Preprocess a sentence by lowercasing its words and possibly padding it.\n",
    "\n",
    "        :param sentence: a list of tokens (each a string)\n",
    "        :param bos: if True you will get <s> at the beginning \n",
    "        :param eos: if True you will get </s> at the end\n",
    "        :returns: a list of tokens (lowercased strings)\n",
    "        \"\"\"\n",
    "        # lowercase\n",
    "        sentence = [x.lower() for x in sentence]\n",
    "        # optional padding\n",
    "        if bos:\n",
    "            sentence = ['<s>'] + sentence\n",
    "        if eos:\n",
    "            sentence = sentence + ['</s>']\n",
    "        return sentence\n",
    "\n",
    "    def preprocess_tag_sequence(self, tag_sequence, bos=True, eos=True):\n",
    "        \"\"\"\n",
    "        Preprocess a tag sequence with optional padding.\n",
    "\n",
    "        :param tag_sequence: a list of tags (each a string)\n",
    "        :param bos: if True you will get -BOS- at the beginning \n",
    "        :param eos: if True you will get -EOS- at the end\n",
    "        :returns: a list of tokens \n",
    "        \"\"\"\n",
    "        # optional padding\n",
    "        if bos:\n",
    "            tag_sequence = ['-BOS-'] + tag_sequence\n",
    "        if eos:\n",
    "            tag_sequence = tag_sequence + ['-EOS-']\n",
    "        return tag_sequence\n",
    "\n",
    "    def estimate_model(self, treebank):\n",
    "        \"\"\"\n",
    "        TYPE YOUR SOLUTION\n",
    "\n",
    "        :param treebank: a sequence of observations as provided by nltk\n",
    "            each observation is a list of pairs (x_i, c_i)    \n",
    "            and they have not yet been pre-processed \n",
    "\n",
    "        Estimate the model parameters.\n",
    "\n",
    "        This method does not have to return anything, it simply computes the necessary cpds.        \n",
    "        \"\"\"\n",
    "        reference_tagged_words = nltk.corpus.treebank.tagged_words(tagset='universal')\n",
    "        self._vocab = set([w for (w, _) in reference_tagged_words])\n",
    "        self._tagset = set([t for (_, t) in reference_tagged_words])\n",
    "        \n",
    "        self._tagset.add('-EOS-')\n",
    "        self._tagset.add('-UNK-')\n",
    "        self._tagset.add('-BOS-')\n",
    "        voca_dict = {word : 1 for word in self._vocab}\n",
    "        voca_dict['<unk>'] = 1   \n",
    "        self._emission_cpds = {tag: voca_dict for tag in self._tagset}\n",
    "        \n",
    "        for key in self._tagset:\n",
    "            self._transition_cpds[key] = dict.fromkeys(self.tagset(), 1)\n",
    "        \n",
    "        sentences = extract_sentences(treebank)\n",
    "        for sentence_i, tags in enumerate(extract_tags(treebank)):\n",
    "            tags = self.preprocess_tag_sequence(tags)\n",
    "            for i in range(1, len(tags)):\n",
    "                tag1 = tags[i - 1]\n",
    "                tag2 = tags[i]\n",
    "                self._transition_cpds[tag1][tag2] += 1\n",
    "\n",
    "            for word_i, tag in enumerate(tags):\n",
    "                word = self.preprocess_sentence(sentences[sentence_i])[word_i]\n",
    "                if word == '<s>' or word == '</s>':\n",
    "                    continue\n",
    "                if word not in self._emission_cpds[tag]:\n",
    "                    self._emission_cpds[tag][word] = 1\n",
    "                self._emission_cpds[tag][word] += 1\n",
    "                \n",
    "        del self._emission_cpds['-BOS-']\n",
    "\n",
    "    def transition_parameter(self, previous_tag, current_tag):\n",
    "        \"\"\"\n",
    "        TYPE YOUR SOLUTION\n",
    "\n",
    "        This method returns the transition probability for tag given the previous tag.\n",
    "\n",
    "        Tips: do not forget that we have a smoothed model, thus \n",
    "            - if the either tag was never seen, you should pretend it to be '-UNK-'\n",
    "\n",
    "        :param previous_tag: the previous tag (str)\n",
    "        :param current_tag: the current tag (str)\n",
    "        :return: transition parameter\n",
    "        \"\"\"\n",
    "        if current_tag not in self.tagset():\n",
    "            current_tag = '-UNK-'\n",
    "        if previous_tag not in self.tagset():\n",
    "            previous_tag = '-UNK-'\n",
    "\n",
    "        count_pair = self._transition_cpds[previous_tag][current_tag]\n",
    "        count_single = 0\n",
    "        for value in self._transition_cpds[previous_tag].values():\n",
    "            count_single += value\n",
    "            \n",
    "        return count_pair / count_single\n",
    "\n",
    "    def emission_parameter(self, tag, word):\n",
    "        \"\"\"\n",
    "        TYPE YOUR SOLUTION\n",
    "\n",
    "        This method returns the emission probability for a word given a tag.\n",
    "        Tips: do not forget that we have a smoothed model, thus \n",
    "            - if the tag was never seen, you should pretend it to be '-UNK-'\n",
    "            - similarly, if the word was never seen, you shoud pretend it to be '<unk>'\n",
    "\n",
    "        :param tag: the current tag (str)\n",
    "        :param word: the current word (str)\n",
    "        :return: the emission probability\n",
    "        \"\"\"        \n",
    "        word = word.lower()\n",
    "        if tag not in self.tagset():\n",
    "            tag = '-UNK-'\n",
    "        if word not in self._emission_cpds[tag]:\n",
    "            word = '<unk>'\n",
    "        \n",
    "        count_tag_word = self._emission_cpds[tag][word]\n",
    "        count_tag = 0\n",
    "        for value in self._emission_cpds[tag].values():\n",
    "            count_tag += value\n",
    "            \n",
    "        return count_tag_word / count_tag\n",
    "\n",
    "    def joint_parameter(self, previous_tag, current_tag, word):\n",
    "        \"\"\"\n",
    "        TYPE YOUR SOLUTION\n",
    "\n",
    "        This method returns the joint probability of (current tag, word) given the previous tag\n",
    "            according to Equation (3)\n",
    "\n",
    "        :param previous_tag: the previous tag (str)\n",
    "        :param current_tag: the current tag (str)\n",
    "        :param word: the current word (str)\n",
    "        :returns: P(word, current_tag|previous_tag)\n",
    "        \"\"\"\n",
    "        return self.transition_parameter(previous_tag, current_tag) * \\\n",
    "               self.emission_parameter(current_tag, word)\n",
    "\n",
    "    def marginal_x_given_cprev(self, previous_tag, word):\n",
    "        \"\"\"\n",
    "        Return P(x|prev) as defined in Equation (4) by marginalising current tag.\n",
    "\n",
    "        :param previous_tag: the previous tag (str)\n",
    "        :param word: the current word (str)\n",
    "        \"\"\"\n",
    "        total = 0\n",
    "        word = word.lower()\n",
    "        for cu_tag in self.tagset():\n",
    "            p = self.joint_parameter(previous_tag, cu_tag, word)\n",
    "            total += p\n",
    "        return total\n",
    "\n",
    "    def log_joint(self, sentence, tag_sequence):\n",
    "        \"\"\"\n",
    "        TYPE YOUR SOLUTION\n",
    "\n",
    "        Implement the logarithm of the joint probability over a sentence and tag sequence as in Equation (8)\n",
    "\n",
    "        :param sentence: a sequence of words (each a string) not yet preprocessed\n",
    "        :param tag_sequence: a sequence of tags (each a string) not yet preprocessed\n",
    "        :returns: log P(x_1^n, c_1^n|n) as defined in Equation (8)\n",
    "        \"\"\"\n",
    "        sentence = self.preprocess_sentence(sentence)\n",
    "        tag_sequence = self.preprocess_tag_sequence(tag_sequence)\n",
    "        \n",
    "        counter = 0\n",
    "        for i in range(1, len(sentence) ):\n",
    "            counter += np.log(self.joint_parameter(tag_sequence[i - 1], tag_sequence[i], sentence[i]))\n",
    "         \n",
    "        return counter\n",
    "\n",
    "    def log_marginal(self, sentence):\n",
    "        \"\"\"\n",
    "        TYPE YOUR SOLUTION\n",
    "\n",
    "        Implement the logarithm of the marginal probability of a sentence as in Equation (9)\n",
    "            by marginalisation of all possible tag sequences. \n",
    "\n",
    "        :param sentence: a sequence of words (each a string) not yet preprocessed\n",
    "        :returns: log P(x_1^m|n) as defined in Equation (9)\n",
    "        \"\"\"\n",
    "        sentence = self.preprocess_sentence(sentence)\n",
    "        total = 0\n",
    "        for word in sentence[1:]:\n",
    "            p = 0\n",
    "            for previous_tag in self.tagset():\n",
    "                p += self.marginal_x_given_cprev(previous_tag, word)\n",
    "            total += np.log(p)\n",
    "        return total"
   ]
  },
  {
   "cell_type": "code",
   "execution_count": 12,
   "metadata": {
    "colab": {
     "autoexec": {
      "startup": false,
      "wait_interval": 0
     },
     "base_uri": "https://localhost:8080/",
     "height": 107,
     "output_extras": [
      {
       "item_id": 1
      }
     ]
    },
    "colab_type": "code",
    "collapsed": true,
    "executionInfo": {
     "elapsed": 3831,
     "status": "ok",
     "timestamp": 1520602563457,
     "user": {
      "displayName": "Bram Otten",
      "photoUrl": "https://lh3.googleusercontent.com/a/default-user=s128",
      "userId": "110618989541510237728"
     },
     "user_tz": -60
    },
    "id": "vwlYeTYk7pyX",
    "outputId": "40b85124-ffb5-4a37-db90-2de9017438b8"
   },
   "outputs": [],
   "source": [
    "treebank_hmm = HMMLM()\n",
    "treebank_hmm.estimate_model(treebank_training)"
   ]
  },
  {
   "cell_type": "code",
   "execution_count": 13,
   "metadata": {
    "cell_style": "center"
   },
   "outputs": [
    {
     "name": "stdout",
     "output_type": "stream",
     "text": [
      "4.146283101240315e-05\n",
      "-241.140591344\n",
      "-121.705609705\n"
     ]
    }
   ],
   "source": [
    "print(treebank_hmm.joint_parameter('DET', 'NOUN', 'book'))\n",
    "sentence = [x for x, _ in treebank_dev[0]]\n",
    "tag_sequence = [c for _, c in treebank_dev[0]]\n",
    "print(treebank_hmm.log_joint(sentence, tag_sequence))\n",
    "print(treebank_hmm.log_marginal(sentence))\n",
    "\n",
    "# print(treebank_hmm._emission_cpds)\n",
    "# print()\n",
    "# print(treebank_hmm._transition_cpds)\n",
    "\n",
    "# 9.959527643028553e-05\n",
    "# At Tokyo , the Nikkei index of 225 selected issues , which *T*-1 gained 132 points Tuesday , added 14.99 points to 35564.43 .\n",
    "# ADP NOUN . DET NOUN NOUN ADP NUM VERB NOUN . DET X VERB NUM NOUN NOUN . VERB NUM NOUN PRT NUM .\n",
    "# -193.71018537"
   ]
  },
  {
   "cell_type": "markdown",
   "metadata": {
    "colab_type": "text",
    "id": "Htt93q4dNKS6"
   },
   "source": [
    "# <a name=\"eval\"> Evaluation\n",
    "    \n",
    "We can evaluate our models by the computing the log-perplexity, like with the LM or by comparing the predictions of the trained model with an annotated test set.\n",
    "\n",
    "\n",
    "## <a name=\"ppl\"> Perplexity\n",
    "\n",
    "Perplexity of a model on a test set is the inverse probability of the test set, normalized\n",
    "by the number of words. Perplexity is a notion of average branching factor, thus a model with low perplexity can be thought of as a *less confused*. That is, each time it introduces a word given some history it picks from a reduced subset of the entire vocabulary (in other words, it is more certain of how to continue). \n",
    "\n",
    "If a dataset contains $t$ tokens where $t = \\sum_{k=1}^m n_k$, then the perplexity of the dataset is\n",
    "\n",
    "\\begin{equation}\n",
    "(11) \\qquad \\text{PP}(\\mathcal T) = \\left( \\prod_{k=1}^m P_{S|N}(\\langle x_1^{(k)}, \\ldots, x_{n_k}^{(k)} \\rangle|n_k; \\boldsymbol \\theta) \\right)^{-1/t}\n",
    "\\end{equation}\n",
    "\n",
    "where we have already discarded the length distribution (since it's held constant across models). And the probability of the sentence requires marginalising tag sequences, as shown in Equation (9).\n",
    "\n",
    "It's again convenient to use log and define log-perplexity\n",
    "\n",
    "\\begin{equation}\n",
    "(12) \\qquad \\log \\text{PP}(\\mathcal T) = - \\frac{1}{t} \\sum_{k=1}^m \\log P_{S|N}(\\langle x_1^{(k)}, \\ldots, x_{n_k}^{(k)} \\rangle|n_k; \\boldsymbol \\theta) \n",
    "\\end{equation}\n",
    "\n",
    "You can compare models in terms of the log-perplexity they assign to the same test data. The lower the perplexity, the better the model is."
   ]
  },
  {
   "cell_type": "markdown",
   "metadata": {
    "colab_type": "text",
    "id": "wwqi2R0CNKS6"
   },
   "source": [
    "<a name=\"ex4-11\" style=\"color:red\">**Exercise 4-11**</a> **[4 points]** Implement `log_perplexity` below. Train models of PTB and Brown and test both of them on their respective test sets as well as on each other's test set. Report all results.\n",
    "\n",
    "To help you have an idea whether you implemented it right, this is an excerpt of what we got with our implementation\n",
    "\n",
    "```python\n",
    "dev_sentences = extract_sentences(treebank_dev)\n",
    "log_perplexity(dev_sentences, treebank_hmm)\n",
    "```\n",
    "\n",
    "```\n",
    "101.80708039918399\n",
    "```"
   ]
  },
  {
   "cell_type": "markdown",
   "metadata": {
    "colab_type": "text",
    "id": "NA0RN-8tNKS7"
   },
   "source": [
    "By the way, this is how you load the Brown corpus. Let's use the last 1000 sentences for test. You can reduce the size of the training set if your computer cannot handle what we suggest below."
   ]
  },
  {
   "cell_type": "code",
   "execution_count": null,
   "metadata": {
    "colab": {
     "autoexec": {
      "startup": false,
      "wait_interval": 0
     },
     "base_uri": "https://localhost:8080/",
     "height": 34,
     "output_extras": [
      {
       "item_id": 1
      }
     ]
    },
    "colab_type": "code",
    "executionInfo": {
     "elapsed": 7661,
     "status": "ok",
     "timestamp": 1520602671422,
     "user": {
      "displayName": "Grote Weegschaal",
      "photoUrl": "//lh4.googleusercontent.com/-KfZBK2pKfJ0/AAAAAAAAAAI/AAAAAAAAACU/Zxktak12jLw/s50-c-k-no/photo.jpg",
      "userId": "118191901390674533680"
     },
     "user_tz": -60
    },
    "id": "znHDnXn3NKS8",
    "outputId": "ffdef55b-8345-4efa-b9a7-0f587258ebe8"
   },
   "outputs": [
    {
     "name": "stdout",
     "output_type": "stream",
     "text": [
      "57340 56000 340 1000\n"
     ]
    }
   ],
   "source": [
    "# load the Brown corpus wiht the universal tag set\n",
    "brown_sentences = nltk.corpus.brown.tagged_sents(tagset='universal')\n",
    "\n",
    "# we split our corpus on training, dev and test\n",
    "brown_training = list(brown_sentences[:56000]) \n",
    "brown_dev = list(brown_sentences[56000:56340])\n",
    "brown_test = list(brown_sentences[56340:])\n",
    "print(len(brown_sentences), len(brown_training), len(brown_dev), len(brown_test))\n",
    "\n",
    "brown_hmm = HMMLM()\n",
    "brown_hmm.estimate_model(treebank_training)"
   ]
  },
  {
   "cell_type": "code",
   "execution_count": null,
   "metadata": {
    "colab": {
     "autoexec": {
      "startup": false,
      "wait_interval": 0
     }
    },
    "colab_type": "code",
    "id": "bIPaV-4bNKS9"
   },
   "outputs": [
    {
     "name": "stdout",
     "output_type": "stream",
     "text": [
      "498.697811275\n"
     ]
    }
   ],
   "source": [
    "def log_perplexity(sentences, hmm):\n",
    "    \"\"\"\n",
    "    TYPE YOUR SOLUTION\n",
    "    \n",
    "    For a dataset of sentences (each sentence is a list of words)\n",
    "        and an instance of the HMMLM class\n",
    "        return the log perplexity as defined in Equation (12)\n",
    "    \"\"\"\n",
    "    total_log_p = 0\n",
    "    for sentence in sentences:\n",
    "        x = hmm.log_marginal(sentence)\n",
    "        total_log_p += -1 / len(sentence) * x\n",
    "    return total_log_p\n",
    "\n",
    "dev_sentences = extract_sentences(treebank_dev)\n",
    "print(log_perplexity(dev_sentences, treebank_hmm))\n",
    "\n",
    "b_dev_sentences = extract_sentences(brown_dev)\n",
    "print(log_perplexity(b_dev_sentences, brown_hmm))\n",
    "\n",
    "# TODO: report"
   ]
  },
  {
   "cell_type": "markdown",
   "metadata": {
    "colab_type": "text",
    "id": "HLabSTitNKS_"
   },
   "source": [
    "## <a name=\"viterbi\"> Viterbi\n",
    "\n",
    "\n",
    "The Viterbi algorithm is used to search through the space of possible tag sequences and find the one that score highest.\n",
    "\n",
    "The space of tag sequences is very large, consider that we can select any of $t$ tags for each position, thus by simple counting, we are left with $t^n$ possible sequences. Searching through an exponential space is intractable in general. \n",
    "\n",
    "Not by chance we designed the HMM with certain conditional independence assumptions. In fact, in our HMM model the probability of each word observation really only depends on two decisions, namely, its tag and its preceding tag. We can use that to derive a *tractable* dynamic program. \n",
    "\n",
    "[Dynamic programming](https://en.wikipedia.org/wiki/Dynamic_programming) is a kind of *divide and conquer* strategy. We have to identify sub-problems that we can solve efficiently and maintain a memory of partial solutions that we use to build the final one.\n",
    "\n",
    "For the Viterbi algorithm we need to solve the problem \"what is the best probability so far\". We will approach this problem with a recursion that computes the probability of the best path of a certain length.\n",
    "We will use the recursive function $\\alpha(i, j)$ which returns the best probability for a path of length $i$ assuming that its last tag is $C_i=j$. For efficiency in our implementation we will map tags to integers.\n",
    "\n",
    "The Viterbi recursion is pretty simple, if a path has length $0$ we will assume it has probability $1$. If a path has length $i$ (more than $0$), we reckon that its maximum probability is based on the maximum probability assigned to paths of size $i-1$, where we extend those paths with one steps and check which step yields the best probability.\n",
    "\n",
    "The Viterbi recursion is formalised below:\n",
    "\n",
    "\\begin{align}\n",
    "(13)\\qquad \\alpha(i, j) &= \n",
    "\\begin{cases}\n",
    "1 & \\text{if }i = 0 \\\\\n",
    "\\max_{p \\in \\{1, \\ldots, t\\}} \\alpha(i-1, p) \\times \\lambda_{j}^{p} \\times \\theta_{x_i}^{j} & \\text{otherwise}\n",
    "\\end{cases}\n",
    "\\end{align}\n",
    "\n",
    "Note that in the second line, we look for paths of size $i-1$ (which my have ended in one of $t$ possible previous tags) and we try to extend them with tag $j$. The probability of each hypothetical extension is the probability of the path we mean to extend $\\alpha(i-1, p)$ times the joint parameters associated with the extension. That is, continuing from previous class $C_{i-1}=p$ with current class $C_i=j$ (that is a transition parameter), and generating the current word $X_i=x_i$ from the current class $C_i=j$ ( that is an emission parameter).\n",
    "\n",
    "Note that the recursive function takes 2 inputs, $i$ which ranges from 1 to $n$, and $j$ which ranges from 1 to $t$. Thus we need to make at most $nt$ calls to this function. But also note that each time we call it, we have to solve (in the second line) a maximisation over $t$ possible assignments of the previous tag. Therefore the overall complexity of the algorithm is $O(nt^2)$. That's quite an improvement from $O(t^n)$, isn't it?\n",
    "\n",
    "Of course, crucial to the success of the algorithm is that we use [memoization](https://en.wikipedia.org/wiki/Memoization), a technique by which we store partial solutions and never recompute things.\n",
    "\n",
    "We provide you with a **recursive** implementation of the Viterbi algorithm which uses the interface of the HMMLM class that you designed above. You can use this implementation if you want to experiment with PTB and Brown corpus in the exercises below. Read the implementation carefully to learn from it. We have provided extensive documentation.\n",
    "One important note is that we compute everything in log space, that's to rely on better numerical properties of log probabilities.\n",
    "\n",
    "The Viterbi recursion gives us a way to compute the *probability* of the best path. To find the actual best path we just need to traverse the table of $\\alpha(i, j)$ values looking for the decision (tag) that is best at each point.\n"
   ]
  },
  {
   "cell_type": "code",
   "execution_count": null,
   "metadata": {
    "colab": {
     "autoexec": {
      "startup": false,
      "wait_interval": 0
     }
    },
    "colab_type": "code",
    "collapsed": true,
    "id": "-ytMHcojNKTB"
   },
   "outputs": [],
   "source": [
    "def viterbi_recursion(sentence, hmm):\n",
    "    \"\"\"\n",
    "    Computes the best possible tag sequence for a given input\n",
    "    and also returns it log probability.\n",
    "    \n",
    "    This implementation uses recursion.\n",
    "    \n",
    "    :returns: tag sequence, log probability\n",
    "    \"\"\"\n",
    "    # here we pad the sentence with </s> only\n",
    "    sentence = hmm.preprocess_sentence(sentence, bos=False, eos=True)\n",
    "    # this is the length (but recall that padding added 1 token) \n",
    "    n = len(sentence)\n",
    "    # this is the complete tagset, which for convenience we will turn into a list\n",
    "    tagset = list(hmm.tagset())\n",
    "    t = len(tagset)\n",
    "    # We need a table to store log alpha(i, j) values\n",
    "    # - where i is an integer from 0 to n-1 which refers to a position in the list `sentence`\n",
    "    #   i.e. sentence[i]\n",
    "    # - and j is an integer from 0 to t-1 that refers to a tag in the list `tagset` \n",
    "    #   i.e. tagset[j] \n",
    "    # - together (i, j) means that we are setting `C_i = tagset[j]`    \n",
    "    # - we will be exploring the space of possible tags per position\n",
    "    #   thus our table has as many as n * t cells\n",
    "    # - Recall that the value \\log \\alpha(i, j)\n",
    "    #   corresponds to the log probability value of the best\n",
    "    #   path (C_1, ..., C_i) such that C_i = j\n",
    "    #   in other words the log probability of the best sequence up to the ith token where C_i = j\n",
    "    # At the beginning path probabilities have not been computed, we use a probability of 0 to indicate that\n",
    "    #  as we will be computing log probabilities, we use -inf instead\n",
    "    #  numpy arrays are very handy and we can actually use the quantity -inf\n",
    "    log_alpha_table = np.full([n, t], -float('inf'))\n",
    "    # In a best path algorithm we are interested in two things\n",
    "    #  the best score (or best log probability)\n",
    "    #  as well as the path that corresponds to the best score\n",
    "    # We compute the best score by moving i forward from 0 to n-1 computing the maximum value \n",
    "    #  and we traverse the table backwards following the path that led to the maximum\n",
    "    #  thus we create a table of \"back pointers\"\n",
    "    #  this is an integer for each cell (i, j) that tells us which tag `p` for position `i - 1`\n",
    "    #   leads to the score stored in `log_alpha_table[i, j]`\n",
    "    back_pointer_table = np.full([n, t], -1, dtype=int)\n",
    "\n",
    "    # Here we define the log alpha recursion\n",
    "    def log_alpha(i, j):\n",
    "        \"\"\"\n",
    "        This function returns\n",
    "                max_{c_1, ..., c_i=j} log P(c_1, ..., c_i=j) \n",
    "            where i is a (0-based) position in `sentence`\n",
    "            and j is a (0-based) position in `tagset`\n",
    "        \"\"\"\n",
    "        if i == 0:  # we do not need to tag the 0th position and it should not affect the probability\n",
    "            return 0.  # np.log(1)\n",
    "        # When we implement dynamic programs, we like to re-use computations already made\n",
    "        # thus first of all we test if we have already computed a value for this cell\n",
    "        # if so, it will not have a zero probability (-inf in log space)\n",
    "        if log_alpha_table[i, j] != -float('inf'):  \n",
    "            # then we can simply return it\n",
    "            return log_alpha_table[i, j]\n",
    "        # At this point we know we have not yet computed a score for this path\n",
    "        #  thus we proceed to compute it\n",
    "        # We will have to figure out the log prob of the best prefix\n",
    "        #  and which tag best continues from it\n",
    "        # There are exactly t classes that may tag this position\n",
    "        #  thus we just go over the tagset trying one at a time\n",
    "        #  and memorise the score we would have if we would select them\n",
    "        path_max_log_prob = np.full(t, -float('inf'))\n",
    "        for p in range(t):\n",
    "            # this is the essential part of the recursion\n",
    "            # we ask for the best score associated with the previous position \n",
    "            #  had it been tagged with p\n",
    "            #  and we incorporate the probability of C_i = tagset[j] given that C_{i-1} = tagset[p]\n",
    "            #   as well as the probability of X_i = sentence[i] given that C_i = tagset[j]\n",
    "            path_max_log_prob[p] = log_alpha(i - 1, p) + np.log(hmm.joint_parameter(tagset[p], tagset[j], sentence[i]))\n",
    "        # From all possibilities, we are only interested in the best\n",
    "        log_alpha_table[i, j] = np.max(path_max_log_prob)\n",
    "        # and we also want to store a pointer to the best\n",
    "        back_pointer_table[i, j] = np.argmax(path_max_log_prob)\n",
    "        return log_alpha_table[i, j]\n",
    "    \n",
    "    # Let's get the index associated with -EOS-\n",
    "    #  which is the tag for the </s> symbol in sentence[-1]\n",
    "    eos_index = tagset.index('-EOS-')\n",
    "    # We want the last word in the sentence (</s>) to have the tag -EOS-\n",
    "    #  thus we ask \"what's the probability of the best path that ends in -EOS-?\"\n",
    "    max_log_prob = log_alpha(n - 1, eos_index)\n",
    "    \n",
    "    # Here we retrieve the backpointers for the best analysis\n",
    "    #  the best analisys has n tags\n",
    "    bwd_argmax = [None] * n\n",
    "    #  the last tag is the -EOS- symbol\n",
    "    bwd_argmax[-1] = eos_index\n",
    "    # Here we maintain the \"current tag\" c_i\n",
    "    c_i = eos_index\n",
    "    for i in range(n - 1, 0, -1):  # we go backwards from c_{n-1} to c_1\n",
    "        # and set the value of c_{i-1} for the current c_i\n",
    "        bwd_argmax[i - 1] = back_pointer_table[i, c_i]\n",
    "        # we need, of course, to update c_i\n",
    "        c_i = bwd_argmax[i - 1]\n",
    "    \n",
    "    # Here we translate from ids back to actual tags (strings)\n",
    "    #  we leave the -EOS- symbol out, since it was just a convenience \n",
    "    #  and return both the tag sequence and the total log probability\n",
    "    return [tagset[c] for c in bwd_argmax[:-1]], max_log_prob"
   ]
  },
  {
   "cell_type": "code",
   "execution_count": null,
   "metadata": {
    "colab": {
     "autoexec": {
      "startup": false,
      "wait_interval": 0
     }
    },
    "colab_type": "code",
    "collapsed": true,
    "id": "izNfw6BtNKTD"
   },
   "outputs": [],
   "source": [
    "# let's tag a sentence\n",
    "viterbi_path, viterbi_log_prob = viterbi_recursion(['i', 'wish', 'i', 'had', 'a', 'book', '.'], treebank_hmm)\n",
    "print(viterbi_path, viterbi_log_prob)"
   ]
  },
  {
   "cell_type": "markdown",
   "metadata": {
    "colab_type": "text",
    "id": "WO46W-svNKTF"
   },
   "source": [
    "##  <a name=\"acc\"> Accuracy\n",
    "\n",
    "We can evaluate the performance of our tagger by comparing its Viterbi predictions to human annotation. \n",
    "\n",
    "For this, we will use the gold standard test data (e.g. treebank_test). Evaluation metrics compute a score for a given model (e.g. our HMM tagger) by comparing the predicted labels that the model generated with the test data againts the gold standard annotation.\n",
    "\n",
    "The **Accuracy** metric computes the percentage of instances in the test data that our tagger labeled correctly.\n",
    "If we have a dataset of $m$ labelled sequences\n",
    "\\begin{equation}\n",
    "\\left( \\langle x_1^{(k)}, \\ldots, x_{n_k}^{(k)}\\rangle, \\langle \\star_1^{(k)}, \\ldots, \\star_{n_k}^{(k)}\\rangle \\right)_{k=1}^m\n",
    "\\end{equation}\n",
    "we can produce all Viterbi predictions\n",
    "\\begin{equation}\n",
    "\\left( \\langle x_1^{(k)}, \\ldots, x_{n_k}^{(k)}\\rangle, \\langle c_1^{(k)}, \\ldots, c_{n_k}^{(k)}\\rangle \\right)_{k=1}^m\n",
    "\\end{equation}\n",
    "\n",
    "and compute\n",
    "\n",
    "\\begin{align}\n",
    "(14)\\qquad \\text{accuracy} &= \\frac{\\sum_{k=1}^m \\sum_{i=1}^{n_k} [c_i^{(k)} = \\star_i^{(k)}]}{\\sum_{k=1}^m n_k}\\\\\n",
    "&= \\frac{\\text{number of correct predictions}}{\\text{total tokens}} \n",
    "\\end{align}\n",
    "\n"
   ]
  },
  {
   "cell_type": "markdown",
   "metadata": {
    "colab_type": "text",
    "id": "C1rGmMFcNKTG"
   },
   "source": [
    "<a name=\"ex4-12\" style=\"color:red\">**Exercise 4-12**</a> **[5 points]** \n",
    "\n",
    "* **[1 point]** Implement the accuracy function.\n",
    "* **[1 point]** Compute accuracy on PTB's test set using a PTB-trained model\n",
    "* **[1 point]** Compute accuracy on PTB's test set using a Brown-trained model\n",
    "* **[1 point]** Compute accuracy on Brown's test set using a PTB-trained model\n",
    "* **[1 point]** Compute accuracy on Brown's test set using a Brown-trained model\n",
    "\n",
    "For this exercise you can use the Viterbi implementation we provided (or your own -- its up to you). With our own implementation we got $0.8446$ accuracy for PTB-training and PTB-test, and $0.8960$ for Brown-training and Brown-test."
   ]
  },
  {
   "cell_type": "code",
   "execution_count": null,
   "metadata": {
    "colab": {
     "autoexec": {
      "startup": false,
      "wait_interval": 0
     }
    },
    "colab_type": "code",
    "collapsed": true,
    "id": "0V6d1gk3NKTG"
   },
   "outputs": [],
   "source": [
    "def accuracy(gold_sequences, pred_sequences):\n",
    "    \"\"\"\n",
    "    Return percentage of instances in the test data that our tagger labeled correctly.\n",
    "    \n",
    "    :param gold_sequences: a list of tag sequences that can be assumed to be correct\n",
    "    :param pred_sequences: a list of tag sequences predicted by Viterbi    \n",
    "    \"\"\"\n",
    "    \n",
    "    pred_counter = 0\n",
    "    token_counter = 0\n",
    "    \n",
    "    for i in range(len(gold_sequences)):\n",
    "        gold = gold_sequences[i]\n",
    "        pred = pred_sequences[i]\n",
    "        for j in gold:\n",
    "            if gold[j] == pred[j]:\n",
    "                pred_counter += 1\n",
    "        token_counter += len(pred)\n",
    "    \n",
    "    return pred_counter/token_counter\n"
   ]
  },
  {
   "cell_type": "code",
   "execution_count": null,
   "metadata": {
    "collapsed": true
   },
   "outputs": [],
   "source": [
    "brown_hmm = HMMLM()\n",
    "brown_hmm.estimate_model(brown_training)\n",
    "\n",
    "# viterbi_path, viterbi_log_prob = viterbi_recursion(['i', 'wish', 'i', 'had', 'a', 'book', '.'], treebank_hmm)\n",
    "# print(viterbi_path, viterbi_log_prob)\n",
    "\n",
    "# tag_sequence = [c for _, c in treebank_dev[0]]\n",
    "\n",
    "brown_gold = []\n",
    "for sent in brown_test:\n",
    "    to_gold = []\n",
    "    for _, c in sent:\n",
    "        to_gold.append(c)\n",
    "    brown_gold.append(to_gold)\n",
    "\n",
    "ptb_gold = []\n",
    "for sent in treebank_test:\n",
    "    to_gold = []\n",
    "    for _, c in sent:\n",
    "        to_gold.append(c)\n",
    "    ptb_gold.append(to_gold)\n",
    "    \n",
    "vit_sents_brown = []\n",
    "for sent in brown_test:\n",
    "    to_sent = []\n",
    "    for x, _ in sent:\n",
    "        to_sent.append(x)\n",
    "    vit_sents_brown.append(to_sent)\n",
    "    \n",
    "vit_sents_ptb = []\n",
    "for sent in treebank_test:\n",
    "    to_sent = []\n",
    "    for x, _ in sent:\n",
    "        to_sent.append(x)\n",
    "    vit_sents_ptb.append(to_sent)  \n",
    "    \n",
    "brown_viterbi = []\n",
    "for sent in vit_sents_brown:\n",
    "    viterbi_path, _ = viterbi_recursion(sent, brown_hmm)\n",
    "    brown_viterbi.append(viterbi_path)\n",
    "    \n",
    "ptb_viterbi = []\n",
    "for sent in vit_sents_ptb:\n",
    "    viterbi_path, _ = viterbi_recursion(sent, treebank_hmm)\n",
    "    ptb_viterbi.append(viterbi_path)\n",
    "    \n",
    "print(accuracy(ptb_viterbi, ptb_gold))\n",
    "print(accuracy(ptb_viterbi, brown_gold))\n",
    "print(accuracy(brown_viterbi, brown_gold))\n",
    "print(accuracy(brown_viterbi, ptb_gold))"
   ]
  }
 ],
 "metadata": {
  "accelerator": "GPU",
  "colab": {
   "collapsed_sections": [],
   "default_view": {},
   "name": "Lab4_Beekhuis_Otten_Colab.ipynb",
   "provenance": [],
   "version": "0.3.2",
   "views": {}
  },
  "kernelspec": {
   "display_name": "Python 3",
   "language": "python",
   "name": "python3"
  },
  "language_info": {
   "codemirror_mode": {
    "name": "ipython",
    "version": 3
   },
   "file_extension": ".py",
   "mimetype": "text/x-python",
   "name": "python",
   "nbconvert_exporter": "python",
   "pygments_lexer": "ipython3",
   "version": "3.6.4"
  },
  "latex_envs": {
   "LaTeX_envs_menu_present": true,
   "autoclose": false,
   "autocomplete": true,
   "bibliofile": "biblio.bib",
   "cite_by": "apalike",
   "current_citInitial": 1,
   "eqLabelWithNumbers": true,
   "eqNumInitial": 1,
   "hotkeys": {
    "equation": "Ctrl-E",
    "itemize": "Ctrl-I"
   },
   "labels_anchors": false,
   "latex_user_defs": false,
   "report_style_numbering": false,
   "user_envs_cfg": false
  },
  "varInspector": {
   "cols": {
    "lenName": 16,
    "lenType": 16,
    "lenVar": 40
   },
   "kernels_config": {
    "python": {
     "delete_cmd_postfix": "",
     "delete_cmd_prefix": "del ",
     "library": "var_list.py",
     "varRefreshCmd": "print(var_dic_list())"
    },
    "r": {
     "delete_cmd_postfix": ") ",
     "delete_cmd_prefix": "rm(",
     "library": "var_list.r",
     "varRefreshCmd": "cat(var_dic_list()) "
    }
   },
   "types_to_exclude": [
    "module",
    "function",
    "builtin_function_or_method",
    "instance",
    "_Feature"
   ],
   "window_display": false
  }
 },
 "nbformat": 4,
 "nbformat_minor": 1
}
