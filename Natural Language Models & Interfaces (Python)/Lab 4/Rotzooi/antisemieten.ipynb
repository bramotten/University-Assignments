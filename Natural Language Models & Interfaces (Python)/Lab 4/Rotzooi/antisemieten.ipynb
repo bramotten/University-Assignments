{
 "cells": [
  {
   "cell_type": "markdown",
   "metadata": {
    "colab_type": "text",
    "id": "ZLeHp0mINKSW"
   },
   "source": [
    "**Table of contents**\n",
    "\n",
    "* [Parts of Speech](#pos)\n",
    "* [Hidden Markov Models](#hmm)\n",
    "* [Maximum likelihood estimation for labelled data](#mle)\n",
    "* [Implementation](#imp)\n",
    "* [Evaluation](#eval)\n",
    "    * [Perplexity](#ppl)\n",
    "    * [Viterbi](#viterbi)    \n",
    "    * [Accuracy](#acc)\n",
    "\n",
    "    \n",
    "**Table of Exercises**\n",
    "\n",
    "* Theory (10 points)\n",
    "    * [Exercise 4-4](#ex4-4)\n",
    "    * [Exercise 4-5](#ex4-5)\n",
    "    * [Exercise 4-6](#ex4-6)\n",
    "    * [Exercise 4-7](#ex4-7)\n",
    "    * [Exercise 4-8](#ex4-8)\n",
    "    * [Exercise 4-9](#ex4-9)\n",
    "* Practice (30 points)    \n",
    "    * [Exercise 4-1](#ex4-1)\n",
    "    * [Exercise 4-2](#ex4-2)\n",
    "    * [Exercise 4-3](#ex4-3)\n",
    "    * [Exercise 4-10](#ex4-10)\n",
    "    * [Exercise 4-11](#ex4-11)\n",
    "    * [Exercise 4-12](#ex4-12)\n",
    "\n",
    "\n",
    "\n",
    "**General notes**\n",
    "\n",
    "* In this notebook you are expected to use $\\LaTeX$. \n",
    "* Use python3.\n",
    "* Use NLTK to read annotated data.\n",
    "* **Document your code**: TAs are more likely to understand the steps if you document them. If you don't, it's also difficult to give you partial points for exercises that are not completely correct."
   ]
  },
  {
   "cell_type": "code",
   "execution_count": 1,
   "metadata": {
    "colab": {
     "autoexec": {
      "startup": false,
      "wait_interval": 0
     },
     "base_uri": "https://localhost:8080/",
     "height": 486,
     "output_extras": [
      {
       "item_id": 10
      },
      {
       "item_id": 11
      }
     ]
    },
    "colab_type": "code",
    "executionInfo": {
     "elapsed": 27803,
     "status": "ok",
     "timestamp": 1520600443949,
     "user": {
      "displayName": "Grote Weegschaal",
      "photoUrl": "//lh4.googleusercontent.com/-KfZBK2pKfJ0/AAAAAAAAAAI/AAAAAAAAACU/Zxktak12jLw/s50-c-k-no/photo.jpg",
      "userId": "118191901390674533680"
     },
     "user_tz": -60
    },
    "id": "xBuDJZkmNKSY",
    "outputId": "ef1f5018-2605-4b3c-bf33-37fd29b48bad"
   },
   "outputs": [],
   "source": [
    "import nltk\n",
    "\n",
    "# nltk.download()"
   ]
  },
  {
   "cell_type": "markdown",
   "metadata": {
    "colab_type": "text",
    "id": "r2scraPHNKSX"
   },
   "source": [
    "# <a name=\"pos\"> Parts of Speech\n",
    "    \n",
    "**Parts of speech** (also known as PoS, word classes) give us information about a word and its neighbors. \n",
    "PoS can can be divided into: closed class and open class.\n",
    "\n",
    "Open class words (or **content words**) are nouns, verbs, adjectives, and adverbs, where they refer to objects, actions, and features in the world. They are called open class, since there is no limit to what these words are\n",
    "new ones are added all the time (email, website, selfie, etc.).\n",
    "\n",
    "**Nouns** suchs as proper nouns are names of persons of entitnes: *Regina*, *Colorado*,\n",
    "and *IBM*. Other type are common nouns that refer to objects that for exmaple, can be counted (one car) or homogeneus groups (snow, sand).\n",
    "\n",
    "**Verbs** consists pf actions and processes, like *draw*, *provide*, and *go*.\n",
    "\n",
    "***Adjectives** include terms for properties or qualities for concepts like age (*old*, *young*), value (*good*, *bad*).\n",
    "\n",
    "\n",
    "\n",
    "Closed class words (or **function words**) are pronouns, determiners, prepositions, and connectives. There is a limited number of these.\n",
    "\n",
    "\n",
    "**Prepositions** occur before noun phrases and indicate spatial or temporal relations, for example, *by* the house.\n",
    "\n",
    "The PoS are tags that classifiy words. For example in English uses the 36 tags. And these tags are used to manually annotate a wide variety of corpora, the Brown corpus, the Wall Street Journal corpus.\n",
    "\n",
    "In this Lab we are going to work with the English [Penn Treebank](https://www.ling.upenn.edu/courses/Fall_2003/ling001/penn_treebank_pos.html) tag set and the annotated corpus.\n",
    "\n",
    "Our final goal is the task: \n",
    "* **Part-of-speech tagging** (tagging for short) is the process of assigning a part-ofspeech tag to each word in an input text.\n",
    "\n",
    "First, we will download the annotated data from [NLTK](https://www.nltk.org/data.html)"
   ]
  },
  {
   "cell_type": "markdown",
   "metadata": {
    "colab_type": "text",
    "id": "yiAqi90YNKSe"
   },
   "source": [
    "With NLTK, we load the annotated **Penn Treebank** corpus.\n",
    "This corpus will be used to train and test our PoS taggers. Let's use the last 100 sentences for test."
   ]
  },
  {
   "cell_type": "code",
   "execution_count": 2,
   "metadata": {
    "colab": {
     "autoexec": {
      "startup": false,
      "wait_interval": 0
     },
     "base_uri": "https://localhost:8080/",
     "height": 86,
     "output_extras": [
      {
       "item_id": 1
      }
     ]
    },
    "colab_type": "code",
    "executionInfo": {
     "elapsed": 3192,
     "status": "ok",
     "timestamp": 1520600454209,
     "user": {
      "displayName": "Grote Weegschaal",
      "photoUrl": "//lh4.googleusercontent.com/-KfZBK2pKfJ0/AAAAAAAAAAI/AAAAAAAAACU/Zxktak12jLw/s50-c-k-no/photo.jpg",
      "userId": "118191901390674533680"
     },
     "user_tz": -60
    },
    "id": "VWTbTvi4NKSf",
    "outputId": "cb944891-a80b-4059-aeee-eab1938520b1"
   },
   "outputs": [
    {
     "name": "stdout",
     "output_type": "stream",
     "text": [
      "3914\n",
      "3000\n",
      "100\n",
      "814\n"
     ]
    }
   ],
   "source": [
    "# inspect PoS from Treebank\n",
    "# we use the universal tagset\n",
    "treebank_sents = nltk.corpus.treebank.tagged_sents(tagset='universal')\n",
    "\n",
    "# we split our corpus on training, dev and test\n",
    "treebank_training = list(treebank_sents[:3000]) \n",
    "treebank_dev = list(treebank_sents[3000:3100])\n",
    "treebank_test = list(treebank_sents[3100:])\n",
    "print(len(treebank_sents))\n",
    "print(len(treebank_training)) \n",
    "print(len(treebank_dev)) # we use 100 sentences/instances for validation\n",
    "print(len(treebank_test)) # we use 814 sentences/instances for test"
   ]
  },
  {
   "cell_type": "code",
   "execution_count": 3,
   "metadata": {
    "colab": {
     "autoexec": {
      "startup": false,
      "wait_interval": 0
     },
     "base_uri": "https://localhost:8080/",
     "height": 52,
     "output_extras": [
      {
       "item_id": 2
      }
     ]
    },
    "colab_type": "code",
    "executionInfo": {
     "elapsed": 3207,
     "status": "ok",
     "timestamp": 1520600457476,
     "user": {
      "displayName": "Grote Weegschaal",
      "photoUrl": "//lh4.googleusercontent.com/-KfZBK2pKfJ0/AAAAAAAAAAI/AAAAAAAAACU/Zxktak12jLw/s50-c-k-no/photo.jpg",
      "userId": "118191901390674533680"
     },
     "user_tz": -60
    },
    "id": "3OGs3YPdNKSh",
    "outputId": "5b4aa13d-0ed9-48cb-979c-343cfaf69e8f"
   },
   "outputs": [
    {
     "name": "stdout",
     "output_type": "stream",
     "text": [
      "12408\n",
      "{'VERB', 'ADV', 'ADJ', 'PRON', 'ADP', 'PRT', 'NUM', 'DET', 'CONJ', 'NOUN', '.', 'X'}\n"
     ]
    }
   ],
   "source": [
    "# which is the vocabulary?\n",
    "# we can inspect the vocabulary of the corpus \n",
    "treebank_words = nltk.corpus.treebank.tagged_words(tagset='universal')\n",
    "vocabulary = set([w for (w, t) in treebank_words])\n",
    "print(len(vocabulary)) # number of words in our corpus\n",
    "# we inspect the universal tagset (this is a general mapping \n",
    "# because each languge use a different tagset.\n",
    "tagset = set([t for (w, t) in treebank_words])\n",
    "\n",
    "print(tagset) # tags/labes used to annotate the word class"
   ]
  },
  {
   "cell_type": "code",
   "execution_count": 4,
   "metadata": {
    "colab": {
     "autoexec": {
      "startup": false,
      "wait_interval": 0
     }
    },
    "colab_type": "code",
    "id": "mWLxuClHsyN-"
   },
   "outputs": [],
   "source": [
    "# The observations are pairs: (sentence, tags)\n",
    "# so we can use this to get just the sentences (when we need them)\n",
    "def extract_sentences(treebank_corpus):\n",
    "    sentences = []\n",
    "    for observations in treebank_corpus:\n",
    "        sentences.append([x for x, c in observations])\n",
    "    return sentences\n",
    "\n",
    "# The observations are pairs: (sentence, tags)\n",
    "# so we can use this to get just the tags (when we need them)\n",
    "def extract_tags(treebank_corpus):\n",
    "    tags = []\n",
    "    for observations in treebank_corpus:\n",
    "        tags.append([c for x, c in observations])\n",
    "    return tags"
   ]
  },
  {
   "cell_type": "markdown",
   "metadata": {
    "colab_type": "text",
    "id": "DsKWe88TNKSo"
   },
   "source": [
    "<a name=\"ex4-1\" style=\"color:red\">**Exercise 4-1**</a> **[2 points]** \n",
    "\n",
    "* **[1 point]** Load the PTB corpus and plot the distribution of POS tags. \n",
    "* **[1 point]** Do the same for the Brown corpus.  \n"
   ]
  },
  {
   "cell_type": "code",
   "execution_count": 5,
   "metadata": {
    "colab": {
     "autoexec": {
      "startup": false,
      "wait_interval": 0
     },
     "base_uri": "https://localhost:8080/",
     "height": 385,
     "output_extras": [
      {
       "item_id": 1
      },
      {
       "item_id": 2
      }
     ]
    },
    "colab_type": "code",
    "executionInfo": {
     "elapsed": 2062,
     "status": "ok",
     "timestamp": 1520600464151,
     "user": {
      "displayName": "Grote Weegschaal",
      "photoUrl": "//lh4.googleusercontent.com/-KfZBK2pKfJ0/AAAAAAAAAAI/AAAAAAAAACU/Zxktak12jLw/s50-c-k-no/photo.jpg",
      "userId": "118191901390674533680"
     },
     "user_tz": -60
    },
    "id": "U0L6bCUZrNFN",
    "outputId": "8a40c7fe-9f0a-42a1-9382-7e3b57137b3f"
   },
   "outputs": [
    {
     "name": "stdout",
     "output_type": "stream",
     "text": [
      "{'VERB': 13564, 'ADV': 3171, 'ADJ': 6397, 'PRON': 2737, 'ADP': 9857, 'PRT': 3219, 'NUM': 3546, 'DET': 8725, 'CONJ': 2265, 'NOUN': 28867, '.': 11715, 'X': 6613}\n"
     ]
    },
    {
     "data": {
      "text/plain": [
       "<matplotlib.figure.Figure at 0x1fbb1ac7cf8>"
      ]
     },
     "metadata": {},
     "output_type": "display_data"
    }
   ],
   "source": [
    "import matplotlib.pyplot as plt\n",
    "import numpy as np\n",
    "\n",
    "ptb_tag_dict = dict.fromkeys(tagset, 0)\n",
    "for sentence in extract_tags(treebank_sents):\n",
    "    for tag in sentence:\n",
    "        ptb_tag_dict[tag] += 1\n",
    "\n",
    "print(ptb_tag_dict)\n",
    "plt.figure()\n",
    "n = len(ptb_tag_dict)\n",
    "plt.bar(range(n), ptb_tag_dict.values(), align='center')\n",
    "plt.xticks( np.arange(n), tuple(ptb_tag_dict.keys()) )\n",
    "plt.show()"
   ]
  },
  {
   "cell_type": "code",
   "execution_count": 6,
   "metadata": {
    "colab": {
     "autoexec": {
      "startup": false,
      "wait_interval": 0
     },
     "base_uri": "https://localhost:8080/",
     "height": 347,
     "output_extras": [
      {
       "item_id": 1
      }
     ]
    },
    "colab_type": "code",
    "executionInfo": {
     "elapsed": 4511,
     "status": "ok",
     "timestamp": 1520600468746,
     "user": {
      "displayName": "Grote Weegschaal",
      "photoUrl": "//lh4.googleusercontent.com/-KfZBK2pKfJ0/AAAAAAAAAAI/AAAAAAAAACU/Zxktak12jLw/s50-c-k-no/photo.jpg",
      "userId": "118191901390674533680"
     },
     "user_tz": -60
    },
    "id": "nTli3-nRrNFQ",
    "outputId": "d0524776-cdf1-493c-ee5e-8fc9673f7e12"
   },
   "outputs": [
    {
     "data": {
      "image/png": "[encoded data removed]",
      "text/plain": [
       "<matplotlib.figure.Figure at 0x1fbb1ff6978>"
      ]
     },
     "metadata": {},
     "output_type": "display_data"
    }
   ],
   "source": [
    "brown_sents = nltk.corpus.brown.tagged_sents(tagset='universal')\n",
    "brown_tag_dict = dict.fromkeys(tagset, 0)\n",
    "for sentence in extract_tags(brown_sents):\n",
    "    for tag in sentence:\n",
    "        brown_tag_dict[tag] += 1\n",
    "\n",
    "plt.figure()\n",
    "n = len(brown_tag_dict)\n",
    "plt.bar(range(n), brown_tag_dict.values(), align='center')\n",
    "plt.xticks( np.arange(n), tuple(brown_tag_dict.keys()) )\n",
    "plt.show()"
   ]
  },
  {
   "cell_type": "markdown",
   "metadata": {
    "colab_type": "text",
    "id": "wN1Fohg3NKSo"
   },
   "source": [
    "<a name=\"ex4-2\" style=\"color:red\">**Exercise 4-2**</a> **[1 point]** Load the PTB corpus, find out for each POS tag what is the most likely tag that follows it. "
   ]
  },
  {
   "cell_type": "code",
   "execution_count": 7,
   "metadata": {
    "colab": {
     "autoexec": {
      "startup": false,
      "wait_interval": 0
     },
     "base_uri": "https://localhost:8080/",
     "height": 243,
     "output_extras": [
      {
       "item_id": 1
      }
     ]
    },
    "colab_type": "code",
    "executionInfo": {
     "elapsed": 1929,
     "status": "ok",
     "timestamp": 1520600470745,
     "user": {
      "displayName": "Grote Weegschaal",
      "photoUrl": "//lh4.googleusercontent.com/-KfZBK2pKfJ0/AAAAAAAAAAI/AAAAAAAAACU/Zxktak12jLw/s50-c-k-no/photo.jpg",
      "userId": "118191901390674533680"
     },
     "user_tz": -60
    },
    "id": "MUniqiqVrNFV",
    "outputId": "a435a676-94ce-48f5-ee7c-481a416e9e12"
   },
   "outputs": [
    {
     "name": "stdout",
     "output_type": "stream",
     "text": [
      "VERB is most likely to be followed by X\n",
      "ADV is most likely to be followed by VERB\n",
      "ADJ is most likely to be followed by NOUN\n",
      "PRON is most likely to be followed by VERB\n",
      "ADP is most likely to be followed by DET\n",
      "PRT is most likely to be followed by VERB\n",
      "NUM is most likely to be followed by NOUN\n",
      "DET is most likely to be followed by NOUN\n",
      "CONJ is most likely to be followed by NOUN\n",
      "NOUN is most likely to be followed by NOUN\n",
      ". is most likely to be followed by -EOS-\n",
      "X is most likely to be followed by VERB\n",
      "-BOS- is most likely to be followed by NOUN\n"
     ]
    }
   ],
   "source": [
    "ptb_tag_dict_fol = dict.fromkeys(tagset, 0)\n",
    "for key in ptb_tag_dict_fol.keys():\n",
    "    ptb_tag_dict_fol[key] = dict.fromkeys(tagset, 0)\n",
    "    ptb_tag_dict_fol[key]['-EOS-'] = 0\n",
    "ptb_tag_dict_fol['-BOS-'] = dict.fromkeys(tagset, 0)\n",
    "ptb_tag_dict_fol['-BOS-']['-EOS-'] = 0\n",
    "    \n",
    "for sentence in extract_tags(treebank_sents):\n",
    "    ptb_tag_dict_fol['-BOS-'][sentence[0]] += 1\n",
    "    for nr in range(len(sentence) - 1):\n",
    "        tag1 = sentence[nr]\n",
    "        tag2 = sentence[nr+1]\n",
    "        ptb_tag_dict_fol[tag1][tag2] += 1\n",
    "    ptb_tag_dict_fol[sentence[-1]]['-EOS-'] += 1\n",
    "\n",
    "ptb_likely_fol = dict.fromkeys(tagset, 0)\n",
    "for key in ptb_tag_dict_fol:\n",
    "    values = ptb_tag_dict_fol[key]\n",
    "    ptb_likely_fol[key] = max(values, key=values.get)\n",
    "    print(key, \"is most likely to be followed by\", ptb_likely_fol[key])"
   ]
  },
  {
   "cell_type": "markdown",
   "metadata": {
    "colab_type": "text",
    "id": "BK3qltp-NKSp"
   },
   "source": [
    "<a name=\"ex4-3\" style=\"color:red\">**Exercise 4-3**</a> **[1 point]** Find the most frequent verb on the PTB and on the Brown corpus."
   ]
  },
  {
   "cell_type": "code",
   "execution_count": 8,
   "metadata": {
    "colab": {
     "autoexec": {
      "startup": false,
      "wait_interval": 0
     },
     "base_uri": "https://localhost:8080/",
     "height": 52,
     "output_extras": [
      {
       "item_id": 2
      }
     ]
    },
    "colab_type": "code",
    "executionInfo": {
     "elapsed": 10969,
     "status": "ok",
     "timestamp": 1520600481762,
     "user": {
      "displayName": "Grote Weegschaal",
      "photoUrl": "//lh4.googleusercontent.com/-KfZBK2pKfJ0/AAAAAAAAAAI/AAAAAAAAACU/Zxktak12jLw/s50-c-k-no/photo.jpg",
      "userId": "118191901390674533680"
     },
     "user_tz": -60
    },
    "id": "L8ZxAVz-rNFb",
    "outputId": "a6694828-666e-4bed-ad99-eeb2e894e24e"
   },
   "outputs": [
    {
     "name": "stdout",
     "output_type": "stream",
     "text": [
      "PTB's most common verb: is\n",
      "Brown's most common verb: is\n"
     ]
    }
   ],
   "source": [
    "ptb_sents = extract_sentences(treebank_sents)\n",
    "ptb_verbs = {}\n",
    "sent_counter = 0\n",
    "for sentence in extract_tags(treebank_sents):\n",
    "    tag_counter = 0\n",
    "    for tag in sentence:\n",
    "        if tag == \"VERB\":\n",
    "            word = ptb_sents[sent_counter][tag_counter]\n",
    "            if word not in ptb_verbs:\n",
    "                ptb_verbs[word] = 0\n",
    "            ptb_verbs[word] += 1\n",
    "        tag_counter += 1\n",
    "    sent_counter += 1\n",
    "\n",
    "ptb_most_verb = max(ptb_verbs, key=ptb_verbs.get)\n",
    "print(\"PTB's most common verb:\", ptb_most_verb)\n",
    "    \n",
    "brown_sents = nltk.corpus.brown.tagged_sents(tagset='universal')  \n",
    "b_sents = extract_sentences(brown_sents)\n",
    "brown_verbs = {}\n",
    "sent_counter = 0\n",
    "for sentence in extract_tags(brown_sents):\n",
    "    tag_counter = 0\n",
    "    for tag in sentence:\n",
    "        if tag == \"VERB\":\n",
    "            word = b_sents[sent_counter][tag_counter]\n",
    "            if word not in brown_verbs:\n",
    "                brown_verbs[word] = 0\n",
    "            brown_verbs[word] += 1\n",
    "        tag_counter += 1\n",
    "    sent_counter += 1\n",
    "\n",
    "brown_most_verb = max(brown_verbs, key=brown_verbs.get)\n",
    "print(\"Brown's most common verb:\", brown_most_verb)"
   ]
  },
  {
   "cell_type": "markdown",
   "metadata": {
    "colab_type": "text",
    "id": "z0ILiguqNKSq"
   },
   "source": [
    "# <a name=\"hmm\"> Hidden Markov Models\n",
    "\n",
    "* How can we learn a PoS tagger given this dataset?\n",
    "\n",
    "The Hidden Markov Model **HMM** is a sequence model. A sequence model or sequence classifier is a\n",
    "model whose job is to assign a label or class to each unit in a sequence, thus mapping\n",
    "a sequence of observations to a sequence of labels.\n",
    "\n",
    "For example, in PoS the HMM will assing a tag to each word in a sentence: \n",
    "\n",
    "*Mr. Vinken is chairman of Elsevier N.V. the Dutch publishing group.*\n",
    "\n",
    "The output of a tagger would look like one of the annotated sentences form the Treeban corpus:"
   ]
  },
  {
   "cell_type": "code",
   "execution_count": 9,
   "metadata": {
    "colab": {
     "autoexec": {
      "startup": false,
      "wait_interval": 0
     },
     "base_uri": "https://localhost:8080/",
     "height": 54,
     "output_extras": [
      {
       "item_id": 1
      }
     ]
    },
    "colab_type": "code",
    "executionInfo": {
     "elapsed": 485,
     "status": "ok",
     "timestamp": 1520600482521,
     "user": {
      "displayName": "Grote Weegschaal",
      "photoUrl": "//lh4.googleusercontent.com/-KfZBK2pKfJ0/AAAAAAAAAAI/AAAAAAAAACU/Zxktak12jLw/s50-c-k-no/photo.jpg",
      "userId": "118191901390674533680"
     },
     "user_tz": -60
    },
    "id": "aDoDXO2iNKSq",
    "outputId": "3d550279-698d-4f1c-affb-c2d4356437f4"
   },
   "outputs": [
    {
     "name": "stdout",
     "output_type": "stream",
     "text": [
      "[('Mr.', 'NOUN'), ('Vinken', 'NOUN'), ('is', 'VERB'), ('chairman', 'NOUN'), ('of', 'ADP'), ('Elsevier', 'NOUN'), ('N.V.', 'NOUN'), (',', '.'), ('the', 'DET'), ('Dutch', 'NOUN'), ('publishing', 'VERB'), ('group', 'NOUN'), ('.', '.')]\n"
     ]
    }
   ],
   "source": [
    "print(treebank_training[1])"
   ]
  },
  {
   "cell_type": "markdown",
   "metadata": {
    "colab_type": "text",
    "id": "r4-bQE-yNKSs"
   },
   "source": [
    "Let's start by defining the **HMM**\n",
    "    \n",
    "We consider two phenomena:\n",
    "* Transition: we move from one \"state\" to another \"state\" where our state is the POS tag\n",
    "* Emission: with a certain \"state\" in mind, we generate a certain word\n",
    "\n",
    "This means that in the sentence above, for example, we generate\n",
    "1. From the state `BoS` (begin of sequence) we generate the state `NOUN`\n",
    "2. Then from `NOUN` we generate the word `Mr.`\n",
    "3. We then \"forget\" the word we just emitted and use the fact that our current state is `NOUN` to generate the next state, which is again a `NOUN`\n",
    "4. From where we then generate `Vinken`\n",
    "5. We proceed like that until we exaust both sequences\n",
    "\n",
    "\n",
    "Let us give names to things, let's model the current class with a random variable $C$ and let's use the random variable $C_{\\text{prev}}$ to model the previous category. For the word we will use the random variable $X$.\n",
    "Both $C$ and $C_{\\text{prev}}$ take on values in the enumeration of a tagset containing $t$ tags, that is, $\\{1, \\ldots, t\\}$. $X$ takes on values in the enumeration of a vocabulary containing $v$ words, that is, $\\{1, \\ldots, v\\}$.\n",
    "\n",
    "The **transition** distribution captures how our beliefs in a class vary as a function of the previous class. We will use Categorical distributions for that. In fact, for each possible previous class we get a Categorical distribution over the complete set of classes.\n",
    "\n",
    "\\begin{align}\n",
    "(1) \\qquad C \\mid C_{\\text{prev}}=p \\sim \\text{Cat}(\\lambda_1^{(p)}, \\ldots, \\lambda_t^{(p)})\n",
    "\\end{align}\n",
    "    "
   ]
  },
  {
   "cell_type": "markdown",
   "metadata": {
    "colab_type": "text",
    "id": "pNCv3QmbNKSu"
   },
   "source": [
    "<a name=\"ex4-4\" style=\"color:red\">**Exercise 4-4**</a> **[1 point]** What is the probability value of  $P_{C|C_{\\text{prev}}}(c|p)$?\n",
    "\n",
    "$\\lambda^{(p)}_c$"
   ]
  },
  {
   "cell_type": "markdown",
   "metadata": {
    "colab_type": "text",
    "id": "fs11enpzNKSu"
   },
   "source": [
    "<a name=\"ex4-5\" style=\"color:red\">**Exercise 4-5**</a> **[2 points]**\n",
    "\n",
    "* **[1 point]** How many cpds do we need in order to represent all transition distributions?\n",
    "* **[1 point]** What's the representation cost of such a set of distributions? Use [big-O notation](https://en.wikipedia.org/wiki/Big_O_notation).\n",
    "\n",
    "\n",
    "\n",
    "(if t = amount of classes)\n",
    "1. $t^2$ cpd's\n",
    "2. $O(n^2)$, but as there's a constant amount of classes, we could say the exponent isn't justified and write $O(n)$\n",
    "\n"
   ]
  },
  {
   "cell_type": "markdown",
   "metadata": {
    "colab_type": "text",
    "id": "Bx5fFet-NKSv"
   },
   "source": [
    "\n",
    "The **emission** distribution captures how our beliefs in a word vary as a function of the word's class. We will again use Categorical distributions for that. In fact, for each possible class, we get a Categorical distribution over the complete vocabulary.\n",
    "\n",
    "\n",
    "\\begin{align}\n",
    "(2) \\qquad X \\mid C=c \\sim \\text{Cat}(\\theta_1^{(c)}, \\ldots, \\theta_v^{(c)})\n",
    "\\end{align}\n",
    "   "
   ]
  },
  {
   "cell_type": "markdown",
   "metadata": {
    "colab_type": "text",
    "id": "3TUAA-J3NKSw"
   },
   "source": [
    "<a name=\"ex4-6\" style=\"color:red\">**Exercise 4-6**</a> **[1 point]** What's the probability value of $P_{X|C}(x|c)$?\n",
    "\n"
   ]
  },
  {
   "cell_type": "markdown",
   "metadata": {
    "colab_type": "text",
    "id": "c_GquPHJNKSw"
   },
   "source": [
    "<a name=\"ex4-7\" style=\"color:red\">**Exercise 4-7**</a> **[2 points]** \n",
    "\n",
    "* **[1 point]** How many cpds do we need in order to represent all emission distributions? \n",
    "* **[1 point]** What's the representation cost of such a set of distributions? Use [big-O notation](https://en.wikipedia.org/wiki/Big_O_notation).\n",
    "\n",
    "\n",
    "(if n = amount of words)\n",
    "1. $t \\times n$ cpd's\n",
    "2. $O(n)$, but only if we assume the amount of classes is constant again. Otherwise it's $O(n^2)$\n"
   ]
  },
  {
   "cell_type": "markdown",
   "metadata": {
    "colab_type": "text",
    "id": "PvpjSn4eNKSy"
   },
   "source": [
    "Now let's turn to the joint distribution $P_{CX|C_{\\text{prev}}}$ over classes and words and let's focus on a single step where we can assume the previous class is already available. Then the model factorises as follows:\n",
    "\n",
    "\\begin{align}\n",
    "(3) \\qquad P_{CX|C_{\\text{prev}}}(x, c | c_{\\text{prev}}) &= P_{C|C_{\\text{prev}}}(c|c_{\\text{prev}}) P_{X|C}(x|c) \n",
    "\\end{align}\n",
    "\n",
    "It will turn out useful to know what is the marginal distribution $P_{X|C_{\\text{prev}}}$ over words given the previous class ---  where we have marginalised the current class out. \n",
    "\n",
    "\\begin{align}\n",
    "(4) \\qquad P_{X|C_{\\text{prev}}}(x| c_{\\text{prev}}) &= \\sum_{c=1}^t P_{CX|C_{\\text{prev}}}(x, c | c_{\\text{prev}}) \\\\\n",
    " &= \\sum_{c=1}^t P_{C|C_{\\text{prev}}}(c|c_{\\text{prev}}) \\times P_{X|C}(x|c) \n",
    "\\end{align}\n",
    "\n",
    "Note that Equation (4) starts by simply summing Equation (3) for all possible values of the current class, that is, for $c$ from 1 to $t$.\n",
    "\n"
   ]
  },
  {
   "cell_type": "markdown",
   "metadata": {
    "colab_type": "text",
    "id": "f7VBn-5ZNKSy"
   },
   "source": [
    "Our ultimate goal with the HMM is to assing a probability to a sentence $x_1^n$. For that we need to combine $n$ pairs $(c_i, x_i)$ and marginalise away their history $c_{i-1}$. Doing so yields the **joint probability**:\n",
    "\n",
    "\\begin{align}\n",
    "(5) \\qquad P_{X_1^nC_1^n|N}(x_1^n, c_1^n|n) &= P_{C|C_{\\text{prev}}}(c_1|c_0)P_{X|C}(x_1|c_1)P_{C|C_{\\text{prev}}}(c_2|c_1)P_{X|C}(x_2|c_1)\\cdots P_{C|C_{\\text{prev}}}(c_n|c_{n-1})P_{X|C}(x_n|c_n) \\\\\n",
    "    &= \\prod_{i=1}^n P(c_i|c_{i-1})P(x_i|c_i)\n",
    "\\end{align}\n",
    "\n",
    "\n",
    "We can get the **marginal probability** of a sentence by summing over all possible values of all possible class variables. This requires summing for each and every $c_i$ from 1 to $t$ as follows:\n",
    "\n",
    "\\begin{align}\n",
    "(6) \\qquad P_{S|N}(x_1^n|n) &= \\sum_{c_1=1}^t \\cdots \\sum_{c_n=1}^t P(c_1|c_0)P(x_1|c_1)P(c_2|c_1)P(x_2|c_1)\\cdots P(c_n|c_{n-1})P(x_n|c_n) \\\\\n",
    "&= \\sum_{c_1=1}^t \\cdots \\sum_{c_n=1}^t  \\prod_{i=1}^n P(c_i|c_{i-1})P(x_i|c_i)\n",
    "\\end{align}\n",
    "\n",
    "This looks pretty bad! If we have to enumerate all possible tag sequences, there would be just too many of them. That is, in the first sum, $c_1$ takes 1 of $t$ values, then for each of those values $c_2$ will take 1 of $t$ values, and so on. This leads to $t^n$ different tag sequences. An exponential number of them!!! We will never manage to enumerate them, compute their joint probabilities and then sum them up. \n",
    "\n",
    "Luckily, it turns out that in the HMM only two variables interact at a time, that is, $c_i$ interacts with $c_{i-1}$, then $c_i$ interacts with $x_i$, thus to characterise the distribution over $x_i$ we only need to know $c_{i-1}$ and $c_i$ --- which Equation (4) also shows. We can simplify Equation (6) by rearranging the sums and products as in Equation (7) below.\n",
    "\n",
    "\\begin{align}\n",
    "(7) \\qquad P_{S|N}(x_1^n|n) &= \\sum_{c_1=1}^t \\cdots \\sum_{c_n=1}^t  \\prod_{i=1}^n P(c_i|c_{i-1})P(x_i|c_i) \\\\\n",
    "&= \\prod_{i=1}^n \\sum_{c_{i-1}=1}^t \\sum_{c_i=1}^t P(c_i|c_{i-1})P(x_i|c_i)\n",
    "\\end{align}\n",
    "\n",
    "This is great news because it reveals that to marginalise the tag sequences we only need to scan over the sentence $i=1, \\ldots, n$ and then scan over the possible combinations of two tags from the tagset. \n"
   ]
  },
  {
   "cell_type": "markdown",
   "metadata": {
    "colab_type": "text",
    "id": "Q4hW3TmTNKSz"
   },
   "source": [
    "<a name=\"ex4-8\" style=\"color:red\">**Exercise 4-8**</a> **[3 points]** What is the algorithmic complexity of computing the marginal probability of a sentence in the HMM model?  \n",
    "\n",
    "\n",
    "$O(n \\times t^2)$\n",
    "\n"
   ]
  },
  {
   "cell_type": "markdown",
   "metadata": {
    "colab_type": "text",
    "id": "pPp8NQcGNKS0"
   },
   "source": [
    "Equation (5) gives us a simple algorithm to assign joint probabilities to sequences of the kind $(c_1^n, x_1^n)$. \n",
    "Because we chose categorical distributions as in Equations (1) and (2), we can say that \n",
    "\n",
    "\\begin{align}\n",
    "P_{CX|C_{\\text{prev}}}(x, c | p) = \\lambda_{c}^{(p)} \\times \\theta_{x}^{(p)}\n",
    "\\end{align}\n",
    "\n",
    "and therefore Equation (5) is simply\n",
    "\n",
    "\\begin{align}\n",
    "(8) \\qquad P_{X_1^nC_1^n|N}(x_1^n, c_1^n|n) &= \\prod_{i=1}^n P(c_i|c_{i-1})P(x_i|c_i) \\\\\n",
    " &= \\prod_{i=1}^n  \\lambda_{c_i}^{(c_{i-1})} \\times \\theta_{x_i}^{(c_i)}\n",
    "\\end{align}\n",
    "\n",
    "Similarly, Equation (7) is great because it gives us an algorithm to assign probabilities to sentences. \n",
    "If we now use our parameters to rewrite Equation (7)  we get \n",
    "\n",
    "\\begin{align}\n",
    "(9) \\qquad P_{S|N}(x_1^n|n) &= \\prod_{i=1}^n \\sum_{c_{i-1}=1}^t \\sum_{c_i=1}^t P(c_i|c_{i-1})P(x_i|c_i) \\\\\n",
    "&= \\prod_{i=1}^n \\sum_{c_{i-1}=1}^t \\sum_{c_i=1}^t  \\lambda_{c_i}^{(c_{i-1})} \\times \\theta_{x_i}^{(c_i)}\n",
    "\\end{align}\n",
    "\n"
   ]
  },
  {
   "cell_type": "markdown",
   "metadata": {
    "colab_type": "text",
    "id": "XnX8AI_dNKS1"
   },
   "source": [
    "# <a name=\"mle\"> Maximum likelihood estimation for labelled data\n",
    "    \n",
    "As we know by now, MLE for Categorical CPDs is just a matter of counting and dividing.\n",
    "\n",
    "The MLE solution for the transition distribution is therefore\n",
    "\n",
    "\\begin{align}\n",
    "(10) \\qquad \\lambda_c^{(p)} = \\frac{\\text{count(p, c)}}{\\text{count}(p)}\n",
    "\\end{align}"
   ]
  },
  {
   "cell_type": "markdown",
   "metadata": {
    "colab_type": "text",
    "id": "md9NSxllNKS2"
   },
   "source": [
    "<a name=\"ex4-9\" style=\"color:red\">**Exercise 4-9**</a> **[1 points]** What is the MLE solution for the emission distribution? Note: use the same style as in Equation (10), that is, state the parameter and the solution. \n",
    "\n",
    "\n",
    "\n",
    "\\begin{align}\n",
    "\\qquad \\lambda_c^{(x)} = \\frac{\\text{count(x, c)}}{\\text{count}(x)}\n",
    "\\end{align}\n"
   ]
  },
  {
   "cell_type": "markdown",
   "metadata": {
    "colab_type": "text",
    "id": "TwXaOBNKNKS3"
   },
   "source": [
    "Now you will **implement** the HMM, this means you will implement *transition distributions*, *emission distributions*, *Laplace smoothing*, *joint probability*, *marginal probability*, and an algorithm for making *predictions*."
   ]
  },
  {
   "cell_type": "markdown",
   "metadata": {
    "colab_type": "text",
    "id": "XY7M2Ob8NKS3"
   },
   "source": [
    "# <a name=\"imp\"> Implementation\n",
    "\n",
    "Here you will implement a language model based on an HMM POS tagger. \n",
    "\n",
    "<a name=\"ex4-10\" style=\"color:red\">**Exercise 4-10**</a> **[17 points]** \n",
    "\n",
    "You will need to complete the skeleton class below. Read it through before coding. Check the documentation for additional information. Document your steps (this will increase your chance of earning points in case you make mistakes along the way). \n",
    "\n",
    "* **[8 points]** Implement `estimate_model`: this should take an annotated corpus (such as PTB or Brown) and estimate the CPDs in the model using Laplace smoothing. \n",
    "* **[2 points]** Implement `transition_parameter`: see method's documentation\n",
    "* **[2 points]** Implement `emission_parameter`: see method's documentation\n",
    "* **[1 points]** Implement `joint_parameter`: see method's documentation\n",
    "* **[2 points]** Implement `log_joint`: see method's documentation\n",
    "* **[2 points]** Implement `log_marginal`: see method's documentation\n",
    "\n",
    "Show that you methods work by training a model and testing a few examples. This is an example \n",
    "\n",
    "```python\n",
    "treebank_hmm = HMMLM()\n",
    "treebank_hmm.estimate_model(treebank_training)\n",
    "print(treebank_hmm.joint_parameter('DET', 'NOUN', 'book'))\n",
    "sentence = [x for x, _ in treebank_dev[0]]\n",
    "tag_sequence = [c for _, c in treebank_dev[0]]\n",
    "print(' '.join(sentence))\n",
    "print(' '.join(tag_sequence))\n",
    "print(treebank_hmm.log_joint(sentence, tag_sequence))\n",
    "```\n",
    "\n",
    "for which we get\n",
    "\n",
    "```\n",
    "9.959527643028553e-05\n",
    "At Tokyo , the Nikkei index of 225 selected issues , which *T*-1 gained 132 points Tuesday , added 14.99 points to 35564.43 .\n",
    "ADP NOUN . DET NOUN NOUN ADP NUM VERB NOUN . DET X VERB NUM NOUN NOUN . VERB NUM NOUN PRT NUM .\n",
    "-193.71018537\n",
    "```\n"
   ]
  },
  {
   "cell_type": "code",
   "execution_count": 18,
   "metadata": {
    "colab": {
     "autoexec": {
      "startup": false,
      "wait_interval": 0
     }
    },
    "colab_type": "code",
    "id": "wXYDJmxANKS3"
   },
   "outputs": [],
   "source": [
    "import numpy as np\n",
    "from collections import defaultdict\n",
    "\n",
    "\n",
    "class HMMLM:\n",
    "    \"\"\"\n",
    "    This is our HMM language model class.\n",
    "\n",
    "    It will be responsible for estimating parameters by MLE\n",
    "    as well as computing probabilities using the HMM.\n",
    "\n",
    "    We will use Laplace smoothing by default (because we do not want to assign 0 probabilities).\n",
    "\n",
    "    GUIDELINES:\n",
    "        - by convention we will use the string '-UNK-' for an unknown POS tag\n",
    "            - and '<unk>' for an unknown word\n",
    "        - don't forget that with Laplace smoothing the unknown symbols have to be in the support \n",
    "          of distributions\n",
    "        - now you will have 2 types of distributions, so you should deal with unknown symbols \n",
    "          for both of them\n",
    "        - we also need padding for sentences and tag sequences, by convention we will use \n",
    "            - '-BOS-' and '-EOS-' for padding tag sequences\n",
    "            - '<s>' and '</s>' for padding sentences\n",
    "        - do recall that '-BOS-' is **not** a valid tag\n",
    "            in other words we never *generate* '-BOS-' tags, we only pretend they occur at\n",
    "            the 0th position of the tag sequence in order to provide conditioning context\n",
    "            for the first actual tag\n",
    "        - similarly, '<s>' is not a valid word\n",
    "            in other words, we never *generate* '<s>' as a word\n",
    "            in fact '<s>' is optional as no emission event is based on it\n",
    "        - on the other hand, '-EOS-' is a valid tag\n",
    "            you should model it as the last event of a tag sequence\n",
    "        - similarly, '</s>' is a valid word\n",
    "            you should consider it as the last event of a sentence\n",
    "\n",
    "    You can use whatever data structures you like for cpds\n",
    "        - we suggest python dict or collections.defaultdict\n",
    "            but you are free to experiment with list and/or np.array if you like\n",
    "    \"\"\"\n",
    "\n",
    "    def __init__(self, transition_alpha=1.0, emission_alpha=1.0):\n",
    "        self._vocab = set()\n",
    "        self._tagset = set()\n",
    "        self._emission_cpds = dict()\n",
    "        self._transition_cpds = dict()\n",
    "        self._transition_alpha = transition_alpha\n",
    "        self._emission_alpha = emission_alpha\n",
    "\n",
    "    def tagset(self):\n",
    "        \"\"\"\n",
    "        Return the tagset: a set of all tags seen by the model (including '-UNK-').\n",
    "\n",
    "        You can modify this if you judge necessary (for example, because you decided  to \n",
    "            use different datastructures, but do note that we provide you an implementation\n",
    "            of the Viterbi algorithm that expects this functionality).        \n",
    "        \"\"\"\n",
    "        # the -BOS- tag is just something for internal representation\n",
    "        #  in case you have added it to the tagset, we are removing it here\n",
    "        #  as keeping it would be bad for algorithms such as Viterbi\n",
    "        # the -UNK- tag must be in the support (due to Laplace smoothing)\n",
    "        #  thus in case you forgot it, we are adding it now\n",
    "        return self._tagset - {'-BOS-'} | {'-UNK-'}\n",
    "\n",
    "    def vocab(self):\n",
    "        \"\"\"\n",
    "        Return the vocabulary of words: all words seen by the model (including '<unk>').\n",
    "\n",
    "        You can modify this if you judge necessary (for example, because you decided  to \n",
    "            use different datastructures, but do note that we provide you an implementation\n",
    "            of the Viterbi algorithm that expects this functionality).        \n",
    "        \"\"\"\n",
    "        # the <s> token is just something for internal representation\n",
    "        #  in case you have added it to the vocabulary, we are removing it here\n",
    "        # the <unk> word must be in the support (due to Laplace smoothing)\n",
    "        #  thus in case you forgot it, we are adding it now\n",
    "        return self._vocab - {'<s>'} | {'<unk>'}\n",
    "\n",
    "    def preprocess_sentence(self, sentence, bos=True, eos=True):\n",
    "        \"\"\"\n",
    "        Preprocess a sentence by lowercasing its words and possibly padding it.\n",
    "\n",
    "        :param sentence: a list of tokens (each a string)\n",
    "        :param bos: if True you will get <s> at the beginning \n",
    "        :param eos: if True you will get </s> at the end\n",
    "        :returns: a list of tokens (lowercased strings)\n",
    "        \"\"\"\n",
    "        # lowercase\n",
    "        sentence = [x.lower() for x in sentence]\n",
    "        # optional padding\n",
    "        if bos:\n",
    "            sentence = ['<s>'] + sentence\n",
    "        if eos:\n",
    "            sentence = sentence + ['</s>']\n",
    "        return sentence\n",
    "\n",
    "    def preprocess_tag_sequence(self, tag_sequence, bos=True, eos=True):\n",
    "        \"\"\"\n",
    "        Preprocess a tag sequence with optional padding.\n",
    "\n",
    "        :param tag_sequence: a list of tags (each a string)\n",
    "        :param bos: if True you will get -BOS- at the beginning \n",
    "        :param eos: if True you will get -EOS- at the end\n",
    "        :returns: a list of tokens \n",
    "        \"\"\"\n",
    "        # optional padding\n",
    "        if bos:\n",
    "            tag_sequence = ['-BOS-'] + tag_sequence\n",
    "        if eos:\n",
    "            tag_sequence = tag_sequence + ['-EOS-']\n",
    "        return tag_sequence\n",
    "\n",
    "    def estimate_model(self, treebank):\n",
    "        \"\"\"\n",
    "        TYPE YOUR SOLUTION\n",
    "\n",
    "        :param treebank: a sequence of observations as provided by nltk\n",
    "            each observation is a list of pairs (x_i, c_i)    \n",
    "            and they have not yet been pre-processed \n",
    "\n",
    "        Estimate the model parameters.\n",
    "\n",
    "        This method does not have to return anything, it simply computes the necessary cpds.        \n",
    "        \"\"\"\n",
    "        reference_tagged_words = nltk.corpus.treebank.tagged_words(tagset='universal')\n",
    "        self._vocab = set([w for (w, _) in reference_tagged_words])\n",
    "        self._tagset = set([t for (_, t) in reference_tagged_words])\n",
    "        self._tagset.add('-EOS-')\n",
    "        self._tagset.add('-UNK-')\n",
    "        \n",
    "        # !!!\n",
    "        self._emission_cpds = {tag: {'<unk>':1} for tag in self._tagset}\n",
    "        # so we have no BOS in emission cpd\n",
    "        \n",
    "        self._tagset.add('-BOS-')\n",
    "        \n",
    "#         print(self._emission_cpds)\n",
    "        \n",
    "        for key in self._tagset:\n",
    "            self._transition_cpds[key] = dict.fromkeys(self.tagset(), 1)\n",
    "        \n",
    "#         print()\n",
    "#         print(self._transition_cpds)\n",
    "        \n",
    "        sentences = extract_sentences(treebank)\n",
    "        \n",
    "        for sentence_i, tags in enumerate(extract_tags(treebank)):\n",
    "            tags = self.preprocess_tag_sequence(tags)\n",
    "            for i in range(1, len(tags)):\n",
    "                tag1 = tags[i - 1]\n",
    "                tag2 = tags[i]\n",
    "                self._transition_cpds[tag1][tag2] += 1\n",
    "#             self._transition_cpds['-EOS-'][]\n",
    "\n",
    "            for word_i, tag in enumerate(tags[1:]):\n",
    "                word = self.preprocess_sentence(sentences[sentence_i])[word_i]\n",
    "                if word not in self._emission_cpds[tag]:\n",
    "                    self._emission_cpds[tag][word] = 1\n",
    "                self._emission_cpds[tag][word] += 1\n",
    "\n",
    "                \n",
    "        # Set values of self._transition_cpd['-UNK-'] to their total occurences.\n",
    "        # !!! deze heb ik weggehaald want het deed niks\n",
    "        \n",
    "        \n",
    "#         print()\n",
    "#         print(self._emission_cpds)\n",
    "#         print()\n",
    "#         print(self._transition_cpds)\n",
    "\n",
    "        \n",
    "\n",
    "    def transition_parameter(self, previous_tag, current_tag):\n",
    "        \"\"\"\n",
    "        TYPE YOUR SOLUTION\n",
    "\n",
    "        This method returns the transition probability for tag given the previous tag.\n",
    "\n",
    "        Tips: do not forget that we have a smoothed model, thus \n",
    "            - if the either tag was never seen, you should pretend it to be '-UNK-'\n",
    "\n",
    "        :param previous_tag: the previous tag (str)\n",
    "        :param current_tag: the current tag (str)\n",
    "        :return: transition parameter\n",
    "        \"\"\"\n",
    "        if current_tag not in self.tagset():\n",
    "            current_tag = '-UNK-'\n",
    "        if previous_tag not in self.tagset():\n",
    "            previous_tag = '-UNK-'\n",
    "\n",
    "        count_pair = self._transition_cpds[previous_tag][current_tag]\n",
    "        count_single = 0\n",
    "        for value in self._transition_cpds[previous_tag].values():\n",
    "            count_single += value\n",
    "            \n",
    "        return count_pair / count_single\n",
    "\n",
    "    def emission_parameter(self, tag, word):\n",
    "        \"\"\"\n",
    "        TYPE YOUR SOLUTION\n",
    "\n",
    "        This method returns the emission probability for a word given a tag.\n",
    "        Tips: do not forget that we have a smoothed model, thus \n",
    "            - if the tag was never seen, you should pretend it to be '-UNK-'\n",
    "            - similarly, if the word was never seen, you shoud pretend it to be '<unk>'\n",
    "\n",
    "        :param tag: the current tag (str)\n",
    "        :param word: the current word (str)\n",
    "        :return: the emission probability\n",
    "        \"\"\"        \n",
    "        word = word.lower()\n",
    "        if tag not in self.tagset():\n",
    "            tag = '-UNK-'\n",
    "        if word not in self._emission_cpds[tag]:\n",
    "            word = '<unk>'\n",
    "        \n",
    "        count_tag_word = self._emission_cpds[tag][word]\n",
    "        count_tag = 0\n",
    "        for value in self._emission_cpds[tag].values():\n",
    "            count_tag += value\n",
    "            \n",
    "        return count_tag_word / count_tag\n",
    "\n",
    "    def joint_parameter(self, previous_tag, current_tag, word):\n",
    "        \"\"\"\n",
    "        TYPE YOUR SOLUTION\n",
    "\n",
    "        This method returns the joint probability of (current tag, word) given the previous tag\n",
    "            according to Equation (3)\n",
    "\n",
    "        :param previous_tag: the previous tag (str)\n",
    "        :param current_tag: the current tag (str)\n",
    "        :param word: the current word (str)\n",
    "        :returns: P(word, current_tag|previous_tag)\n",
    "        \"\"\"\n",
    "        return self.transition_parameter(previous_tag, current_tag) * self.emission_parameter(current_tag, word)\n",
    "\n",
    "    def marginal_x_given_cprev(self, previous_tag, word):\n",
    "        \"\"\"\n",
    "        Return P(x|prev) as defined in Equation (4) by marginalising current tag.\n",
    "\n",
    "        :param previous_tag: the previous tag (str)\n",
    "        :param word: the current word (str)\n",
    "        \"\"\"\n",
    "        total = 0\n",
    "        word = word.lower()\n",
    "        for cu_tag in self.tagset():\n",
    "            p = self.joint_parameter(previous_tag, cu_tag, word)\n",
    "            total += p\n",
    "        return total\n",
    "\n",
    "    def log_joint(self, sentence, tag_sequence):\n",
    "        \"\"\"\n",
    "        TYPE YOUR SOLUTION\n",
    "\n",
    "        Implement the logarithm of the joint probability over a sentence and tag sequence as in Equation (8)\n",
    "\n",
    "        :param sentence: a sequence of words (each a string) not yet preprocessed\n",
    "        :param tag_sequence: a sequence of tags (each a string) not yet preprocessed\n",
    "        :returns: log P(x_1^n, c_1^n|n) as defined in Equation (8)\n",
    "        \"\"\"\n",
    "        sentence = self.preprocess_sentence(sentence)\n",
    "        tag_sequence = self.preprocess_tag_sequence(tag_sequence)\n",
    "        \n",
    "        counter = 0\n",
    "        for i in range(1, len(sentence) ):\n",
    "            counter += np.log(self.joint_parameter(tag_sequence[i - 1], tag_sequence[i], sentence[i]))\n",
    "         \n",
    "        return counter\n",
    "\n",
    "    def log_marginal(self, sentence):\n",
    "        \"\"\"\n",
    "        TYPE YOUR SOLUTION\n",
    "\n",
    "        Implement the logarithm of the marginal probability of a sentence as in Equation (9)\n",
    "            by marginalisation of all possible tag sequences. \n",
    "\n",
    "        :param sentence: a sequence of words (each a string) not yet preprocessed\n",
    "        :returns: log P(x_1^m|n) as defined in Equation (9)\n",
    "        \"\"\"\n",
    "        sentence = self.preprocess_sentence(sentence)\n",
    "        total = 0\n",
    "        for word in sentence[1:]:\n",
    "            p = 0\n",
    "            for previous_tag in self.tagset():\n",
    "                p += self.marginal_x_given_cprev(previous_tag, word)\n",
    "            total += np.log(p)\n",
    "        return total"
   ]
  },
  {
   "cell_type": "code",
   "execution_count": 19,
   "metadata": {
    "cell_style": "center"
   },
   "outputs": [
    {
     "name": "stdout",
     "output_type": "stream",
     "text": [
      "7.356252012315804e-05\n",
      "{'VERB': {'<unk>': 1, ',': 530, 'will': 181, 'vinken': 2, 'dutch': 2, 'was': 122, 'once': 6, 'to': 993, 'filters': 4, 'has': 180, 'workers': 7, 'researchers': 9, 'it': 311, '*t*-1': 127, '*t*-2': 37, 'stopped': 2, 'findings': 2, 'were': 59, 'results': 4, 'spokewoman': 2, 'this': 26, 'we': 83, \"'re\": 13, 'anyone': 3, 'asbestos': 5, 'there': 78, '*t*-3': 14, 'users': 2, \"''\": 134, 'talcott': 3, 'spokeswoman': 5, '*': 246, 'and': 215, 'company': 70, '*t*-4': 4, '*ich*-1': 18, 'have': 139, 'the': 59, 'five': 3, 'recently': 17, 'asbestosis': 2, 'rate': 4, '*t*-5': 3, 'factory': 2, 'western': 2, 'he': 241, 'is': 156, 'probably': 6, '*t*-6': 3, 'u.s.': 18, 'should': 27, 'few': 4, '*t*-7': 3, \"n't\": 188, 'are': 138, 'fibers': 2, 'easily': 4, 'mossman': 2, 'agency': 4, 'all': 7, 'be': 150, '*t*-8': 3, '*ich*-2': 10, 'crocidolite': 2, 'mechanically': 2, 'process': 5, 'fans': 2, 'managers': 19, 'you': 71, 'events': 2, 'funds': 23, 'report': 11, 'week': 6, 'yields': 3, 'yield': 7, 'investments': 4, 'maturities': 3, 'indicate': 2, 'they': 203, 'of': 15, 'can': 74, '``': 58, 'may': 41, 'bills': 3, 'investors': 24, 'currently': 14, '*t*-9': 3, '*t*-10': 3, '*t*-11': 3, 'grace': 2, 'corp.': 22, 'shareholders': 5, 'thrift': 2, 'inc.': 16, 'unit': 6, 'finmeccanica': 2, 'state-owned': 2, 'government': 17, 'congress': 22, 'treasury': 9, 'authority': 3, 'ceiling': 2, 'house': 13, 'senate': 8, 'vitulli': 2, 'had': 60, \"'s\": 30, 'typically': 4, 'manufacturers': 4, 'city': 5, 'belt': 3, 'message': 2, 'executives': 5, 'dessert': 2, 'wives': 2, 'governor': 3, 'breakfast': 2, 'drinks': 2, 'speedway': 2, 'drivers': 2, 'still': 24, 'execs': 2, '*-1': 177, 'town': 2, '*-2': 70, 'ceos': 2, 'treatment': 3, 'korea': 6, 'figures': 4, 'ministry': 5, 'october': 3, 'imports': 5, '*t*-12': 2, 'officials': 25, 'year': 17, 'would': 122, 'exports': 2, 'magazine': 11, '*t*-13': 3, 'or': 36, 'spending': 7, 'rates': 11, 'newsweek': 3, 'its': 7, 'not': 44, 'time': 5, 'news': 4, 'spoon': 2, 'plan': 6, 'pages': 2, '*t*-14': 3, 'matters': 2, 'advertisers': 4, 'been': 66, 'weeklies': 2, '<s>': 27, '1989': 2, 'system': 5, 'risks': 6, 'move': 7, 'also': 98, 'northeast': 5, 'bid': 3, 'illuminating': 2, 'equity': 2, 'could': 77, 'forecasts': 2, '--': 33, 'rewards': 2, 'that': 29, '*t*-16': 3, '*t*-17': 3, 'electric': 2, 'might': 23, 'england': 4, 'boosts': 2, 'ross': 4, 'field': 4, 'less': 4, 'commission': 6, 'an': 16, 'one': 14, 'shares': 18, 'chief': 3, 'co.': 8, 'refund': 3, 'previously': 7, 'groups': 4, 'ever': 5, 'curry': 6, '*t*-18': 3, '*t*-19': 3, '...': 7, 'edison': 8, 'already': 17, 'collections': 2, 'ruling': 7, 'spokesman': 13, '*t*-20': 3, 'years': 4, 'a': 34, 'courts': 4, 'court': 15, 'utility': 2, 'cost': 2, 'now': 20, 'order': 4, 'case': 7, 'association': 4, 'growth': 10, 'sales': 13, 'cars': 3, '*t*-21': 2, 'reductions': 2, 'than': 3, 'meet': 2, 'plant': 2, 'devices': 3, 'business': 15, 'only': 11, 'machine': 3, 'so': 10, 'documents': 3, 'spinoff': 3, 'cray': 4, 'first': 7, 'financing': 3, 'theory': 3, 'seymour': 3, 'research': 9, '*t*-22': 3, 'computer': 5, 'barnum': 2, 'analysts': 17, 'presence': 2, 'either': 4, 'cray-3': 2, '*t*-23': 3, '*t*-24': 3, 'supercomputers': 2, 'stockholders': 2, 'distribution': 2, 'companies': 25, 'those': 9, '*t*-25': 2, 'clearly': 6, '*-25': 2, 'stevens': 2, 'closely': 8, 'allegedly': 4, 'hills': 7, 'countries': 4, 'she': 91, 'under': 2, 'scrutiny': 2, 'rights': 5, '-lcb-': 3, 'negotiators': 3, 'prosecutors': 5, 'taiwan': 2, 'measure': 5, '*t*-27': 2, 'but': 25, 'lawyer': 2, 'property': 2, 'improvements': 2, '*t*-28': 3, 'law': 9, 'mexico': 2, 'reports': 4, 'act': 5, 'argentina': 3, 'rapanelli': 4, 'action': 7, 'nation': 4, 'carballo': 2, '*t*-29': 3, 'interest': 2, 'problem': 11, 'country': 7, 'debt': 5, 'journal': 2, '*t*-30': 3, '*t*-31': 3, 'computing': 2, 'trs-80': 2, 'computers': 6, 'ii': 5, 'pcs': 3, '1975': 2, 'gates': 2, 'ibm': 2, '*t*-32': 3, '*t*-33': 3, 'annually': 2, 'affiliate': 2, 'kalipharma': 2, '*t*-34': 3, 'faulding': 2, 'convertible': 3, 'fields': 6, 'pty.': 2, 'esso': 3, 'output': 2, 'gradually': 2, 'group': 14, 'capsules': 2, 'optical': 2, 'bush': 13, '*t*-35': 3, 'petition': 2, 'from': 6, 'timex': 3, 'producers': 4, 'watches': 2, 'other': 5, 'nations': 7, 'thailand': 2, 'help': 5, 'stronach': 4, 'profit': 4, 'magna': 3, 'expansion': 3, 'industry': 7, 'personally': 2, 'mcalpine': 3, 'single-handedly': 3, 'purchases': 4, 'rest': 3, 'fund': 7, 'return': 2, 'interbank': 4, 'securities': 3, 'prepayment': 2, 'maxwell': 2, 'amount': 3, 'judge': 6, 'pharmaceuticals': 2, 'offer': 3, 'being': 18, 'total': 2, 'downturn': 2, 'temporarily': 4, 'announcement': 3, 'craze': 3, 'publicly': 5, '*t*-37': 3, 'launch': 2, 'state': 5, 'anything': 2, 'foot': 3, 'narrowly': 2, 'portfolios': 2, '*t*-38': 3, 'surge': 2, '*t*-39': 3, 'soon': 3, '*rnr*-1': 2, 'people': 12, 'hoopla': 2, 'firms': 16, 'brokers': 3, 'often': 12, 'many': 6, 'markets': 8, 'get': 6, 'gyrations': 4, 'prices': 24, 'market': 23, '*t*-41': 3, '*t*-42': 3, '*t*-43': 3, 'partially': 2, 'specialists': 3, 'play': 2, '*t*-44': 3, 'fully': 7, 'yet': 8, 'i': 98, 'very': 3, 'newly': 3, 'premiums': 2, 'porter': 3, 'europe': 2, 'exposure': 2, 'viewpoint': 2, 'adrs': 4, 'essentially': 4, '*t*-45': 3, '*-5': 3, 'folks': 3, 'late': 2, '*-4': 9, 'union': 6, 'debts': 3, 'department': 18, '*exp*-1': 26, 'affairs': 2, 'here': 6, 'moscow': 3, 'communists': 2, '*exp*-2': 5, 'u.s.s.r.': 2, 'soviets': 3, 'economy': 8, 'for': 9, 'construction': 3, 'management': 4, 'survey': 7, 'index': 9, '%': 10, 'sector': 6, 'generally': 7, 'orders': 6, 'factories': 2, '*u*': 8, 'activity': 2, 'goods': 4, 'spring': 2, '*t*-46': 3, 'payrolls': 2, 'economists': 5, '*t*-47': 3, 'inventories': 5, '*t*-48': 3, 'landing': 2, '*t*-49': 3, 'shipments': 3, '*-3': 21, 'backlogs': 2, '*t*-50': 2, 'eventually': 5, 'dodge': 4, 'contracts': 8, 'goverment': 2, 'money': 8, 'inflation': 2, 'decline': 2, 'vendors': 2, 'pressures': 4, 'demand': 4, 'suppliers': 2, 'times': 3, 'data': 4, 'indicators': 2, 'purchasers': 2, 'number': 3, '*t*-51': 3, 'bretz': 3, 'does': 5, 'items': 3, 'supply': 3, 'processors': 2, 'blamed': 2, 'york': 8, 'seasonally': 3, 'pacific': 2, 'texture': 2, 'characters': 3, 'through': 2, 'novel': 2, 'japan': 8, '*t*-53': 3, 'japanese': 4, 'us': 5, 'hero': 2, '*t*-54': 3, '*t*-55': 3, '*t*-56': 3, 'murakami': 2, '40': 2, 'kodansha': 2, '*t*-57': 3, 'books': 3, 'usually': 4, 'beatles': 2, 'hard': 2, 'whiting': 2, 'baseball': 2, 'ballplayers': 2, 'image': 3, 'besuboru': 2, 'politely': 2, 'zone': 2, 'expands': 2, 'ties': 2, 'even': 20, 'honorably': 2, 'players': 5, 'must': 13, 'always': 13, 'katzenstein': 3, 'sony': 4, 'employees': 4, 'dormitory': 2, 'style': 2, '*exp*-3': 4, 'salarymen': 2, 'manager': 4, 'employee': 2, 'enormously': 2, '*t*-59': 3, 'ultimately': 3, 'never': 21, 'certainly': 3, 'morita': 2, 'globe': 2, 'clubs': 2, 'smoking': 2, 'official': 6, 'signboards': 2, 'advertising': 2, 'study': 4, 'consumers': 4, '*t*-60': 2, 'cabinet': 2, '*t*-62': 3, 'center': 2, 'arafat': 2, 'wafa': 2, 'committee': 6, 'months': 3, 'assistant': 2, 'daily': 2, 'disease': 2, 'family': 3, 'none': 2, 'far': 3, 'newspaper': 5, 'man': 4, 'pap': 2, 'increases': 6, 'financially': 3, 'parliament': 3, 'dam': 4, 'nemeth': 2, 'hungary': 2, 'dams': 2, 'czechoslovakia': 2, 'contract': 6, 'strindberg': 2, 'france': 4, 'office': 3, '400,000': 2, 'ltd.': 3, 'concern': 7, 'warrant': 2, 'plus': 2, 'warrants': 2, 'issue': 15, 'bramalea': 2, 'lane': 6, 'martin': 5, '*t*-65': 3, 'movie': 3, 'film': 3, 'artist': 5, '*t*-66': 3, '*t*-67': 3, 'highly': 5, 'more': 4, 'women': 8, 'avenue': 2, 'men': 5, 'tramp': 2, '*-73': 2, 'child': 2, 'mission': 2, 'further': 2, '*t*-68': 3, '*t*-69': 2, 'line': 3, 'purpose': 2, 'chabrol': 2, '*t*-70': 3, 'vichy': 2, 'job': 2, 'remorse': 2, 'openly': 2, '-lrb-': 4, '-rrb-': 12, 'head': 2, 'picture': 2, 'movies': 2, '*t*-71': 3, 'possibly': 6, 'discussions': 3, 'details': 2, 'contribution': 2, 'boeing': 2, 'plane': 2, 'irony': 2, 'contests': 2, 'three': 5, 'ads': 3, 'idea': 3, '*t*-72': 3, 'ad': 9, 'campaigns': 2, '*t*-73': 3, 'screen': 4, 'dinkins': 3, 'really': 6, 'why': 6, 'simply': 4, 'finally': 3, 'candidates': 4, 'who': 2, '*t*-75': 3, 'did': 6, 'voluntarily': 3, 'board': 9, 'records': 3, 'campaign': 6, 'effort': 3, 'organization': 2, 'giuliani': 2, 'wilder': 6, 'commercial': 2, 'persuasion': 2, 'monticello': 2, 'announcer': 4, 'virginians': 2, 'jefferson': 2, 'coleman': 7, '*t*-76': 3, 'advertisements': 3, '*t*-77': 3, 'counterattack': 2, 'voice': 8, '*t*-78': 3, 'technique': 2, 'itself': 2, 'truce': 2, 'stations': 4, 'himself': 4, 'attacks': 2, 'florio': 3, 'drums': 2, 'neighbors': 2, 'face': 2, 'fraud': 2, 'nose': 2, 'barrels': 3, 'complaint': 2, \"o'connor\": 2, 'trade': 5, 'exchange': 8, 'asia': 3, 'capital': 4, 'politicians': 4, 'economies': 2, 'investment': 7, 'wages': 2, 'influence': 3, 'century': 2, 'relations': 2, 'tokyo': 5, 'by': 4, 'increasingly': 2, 'cooperation': 2, 'effect': 2, 'participants': 3, 'proposal': 6, 'baker': 2, 'asians': 2, 'hormats': 2, 'rice': 2, 'hardly': 3, 'student': 5, 'notes': 4, 'stockbroker': 2, 'germany': 2, 'bill': 6, 'teacher': 3, 'question': 5, 'yeargin': 22, '*t*-79': 2, 'alternative': 2, 'story': 2, '*t*-80': 3, '*t*-81': 3, '*t*-82': 2, '*t*-83': 2, 'teachers': 3, 'testing': 3, 'bonus': 2, 'tests': 6, '*t*-84': 2, 'scores': 4, 'greatly': 3, 'most': 6, 'cheating': 3, '*t*-85': 2, 'texas': 2, 'instruction': 2, 'test': 5, 'sometimes': 5, 'high': 6, 'experts': 3, '*t*-86': 2, 'carolina': 3, 'reforms': 4, '*t*-87': 2, 'critics': 8, 'stressing': 2, 'education': 2, 'school': 3, '*ppa*-1': 2, 'kids': 4, 'crime': 3, 'ward': 9, 'predecessor': 3, 'factors': 2, '*t*-88': 2, 'another': 5, '*t*-89': 2, 'reformers': 3, 'just': 17, 'fast': 2, 'creation': 2, '*t*-90': 2, 'students': 6, \"'d\": 3, 'her': 3, '*t*-91': 2, 'friends': 3, 'work': 4, 'points': 3, '1988': 5, '*t*-92': 2, 'booklets': 2, 'motives': 2, 'questions': 4, 'rankings': 2, 'day': 2, 'desperately': 2, '*t*-93': 2, '*t*-94': 2, '*t*-95': 2, 'evidence': 3, 'much': 3, '*t*-96': 2, 'watson': 4, '*t*-97': 2, 'trial': 4, 'someone': 4, '*t*-98': 2, 'callers': 2, 'show': 4, \"'ve\": 14, 'district': 2, '*t*-99': 2, 'authorities': 2, 'shirts': 2, 'colleagues': 3, '*t*-100': 2, 'incident': 2, 'thing': 4, 'others': 8, 'longer': 5, 'jury': 2, 'schoolchildren': 2, 'what': 4, 'kit': 2, '*t*-102': 2, 'materials': 8, 'both': 4, 'worksheets': 2, 'booming': 2, 'products': 3, '*t*-103': 2, 'aids': 2, '*t*-104': 2, 'everybody': 2, '*t*-105': 2, 'schools': 2, 'educators': 2, 'macmillan\\\\/mcgraw': 2, 'binders': 2, 'set': 2, '*t*-106': 2, '*t*-107': 2, 'subskill': 2, 'kaminski': 2, 'kits': 2, 'intent': 2, 'sounds': 2, 'authors': 2, 'graders': 2, 'fifth-grade': 2, 'mehrens': 2, 'scrupulously': 2, 'mcgraw-hill': 4, '*t*-108': 2, 'later': 4, 'kean': 2, '*t*-110': 2, 'alleghany': 2, 'price': 6, 'services': 6, 'humans': 2, 'anti-abortionists': 2, 'therapies': 2, 'transplants': 2, 'ban': 3, 'privately': 6, 'federally': 2, '*t*-111': 2, 'sullivan': 5, '*t*-112': 2, 'as': 6, 'life': 2, 'controversy': 3, 'panel': 3, 'became': 2, 'dispute': 3, 'reportedly': 2, 'novello': 2, 'administration': 7, 'cdc': 2, 'progress': 2, 'debate': 2, 'become': 2, 'yale': 2, 'institutions': 5, 'genel': 2, 'decision': 8, 'tissues': 2, '*t*-114': 2, '*t*-115': 2, 'states': 4, 'banking': 2, 'turnover': 2, 'volume': 7, 'stocks': 12, '*t*-116': 2, 'oppose': 2, 'banks': 24, 'concerns': 4, 'massachusetts': 2, 'traders': 21, 'problems': 5, 'connecticut': 2, 'immediately': 3, '*t*-117': 2, 'beneficiary': 2, '*t*-118': 2, '*t*-119': 2, '*t*-120': 2, 'effectively': 3, 'jennison': 2, 'stock': 8, 'constitution': 3, '*t*-121': 2, 'centerbank': 2, 'bank': 7, 'home': 2, 'substantially': 3, 'losses': 2, 'ratners': 2, 'maker': 8, 'media': 2, '*t*-122': 2, 'operator': 5, 'systems': 2, 'quarter': 4, 'sci': 2, 'service': 8, '*t*-123': 2, '*t*-124': 2, '*t*-125': 2, 'information': 8, 'warnings': 2, '*t*-126': 2, 'document': 2, 'form': 5, 'attorneys': 3, '*t*-127': 2, 'rarely': 2, 'irs': 5, '*t*-128': 2, '*t*-129': 2, 'forms': 2, 'sonnett': 3, '*t*-130': 2, 'cash': 5, 'include': 2, '*t*-131': 2, 'individuals': 6, 'necessarily': 3, 'delegates': 2, '1985': 2, '*t*-132': 2, 'lawyers': 8, '*t*-133': 2, 'procedures': 2, 'letters': 6, 'correspondence': 2, 'policy': 4, 'quickly': 5, 'clients': 3, 'salaries': 2, 'judges': 4, 'clerks': 2, 'nobody': 2, \"'m\": 6, 'troubles': 2, 'trudeau': 4, '*t*-134': 2, 'guild': 4, 'illegally': 2, 'cartoonist': 2, 'proceedings': 3, 'any': 2, 'harassment': 2, 'samnick': 2, 'hearing': 3, '*t*-135': 2, 'suit': 2, 'rule': 5, '*t*-136': 2, '*t*-137': 2, 'restrictions': 2, 'inquiry': 2, 'hampton': 3, 'master': 2, 'murray': 2, 'comments': 3, '*t*-138': 2, 'began': 3, 'trials': 2, 'affair': 2, 'terms': 9, 'buildings': 2, 'executive': 4, 'leaders': 3, 'actions': 2, 'fujitsu': 4, 'nec': 5, '*t*-139': 2, 'cases': 4, 'statement': 7, 'having': 4, 'long': 6, '*t*-140': 2, 'historically': 2, 'fire': 2, 'bids': 3, 'foreigners': 2, 'unfairly': 3, 'excessively': 2, 'flap': 2, 'yamamoto': 3, 'hiroshima': 2, 'municipalities': 4, 'headquarters': 2, 'yesterday': 4, 'yen': 3, 'costs': 3, '*t*-141': 2, 'backe': 2, 'firm': 8, 'ntg': 2, '*t*-142': 2, 'formerly': 2, 'locally': 2, 'hydraulically': 2, 'furukawa': 2, 'together': 2, '*t*-143': 2, '*t*-144': 2, '*t*-145': 2, 'billings': 2, '1990': 4, 'loss': 2, 'revenue': 3, 'partly': 3, '*t*-146': 2, 'poorly': 4, 'makers': 5, 'facing': 2, 'buyers': 8, 'dollar': 7, 'sentiment': 3, 'dealers': 5, 'dollars': 2, 'mark': 3, 'counterparts': 2, '-rcb-': 2, 'sterling': 2, 'currency': 3, 'bonds': 8, 'again': 3, 'weeks': 2, 'merely': 4, 'lower': 2, '*t*-147': 2, '*t*-148': 2, 'delivery': 2, 'gold': 2, 'viewers': 2, '*t*-149': 2, 'ago': 4, 'reruns': 2, '*t*-150': 2, 'ratings': 5, 'them': 7, 'viacom': 4, '*t*-151': 2, \"'ll\": 8, '*t*-152': 2, 'georgia': 4, 'officially': 7, 'magazines': 2, 'downright': 2, 'garbage': 4, 'editors': 5, 'offenders': 2, '*t*-153': 2, 'product': 3, 'arrows': 2, 'campbell': 4, '*ich*-3': 4, '*-80': 2, 'issues': 5, 'majority': 2, '*t*-154': 2, 'on': 4, 'poore': 2, 'interpublic': 2, '*t*-155': 2, 'rubicam': 2, '*t*-156': 2, 'jointly': 7, 'owned': 2, 'temple': 6, 'containers': 6, 'sherwood': 4, 'harshly': 2, 'device': 2, 'subsidiaries': 2, 'requirements': 2, 'skinner': 2, 'changes': 6, '*t*-157': 2, 'vehicles': 3, 'actually': 3, 'therefore': 2, 'crashes': 2, 'roofs': 2, 'roof': 2, 'chrysler': 2, 'trucks': 2, 'ford': 2, 'leinonen': 2, '1,000': 2, 'railroad': 2, 'peter': 2, '*t*-158': 2, 'nothing': 2, 'operations': 3, '*t*-159': 2, 'options': 2, 'driscoll': 2, 'partners': 2, 'talks': 4, 'income': 8, 'dividend': 2, '*t*-161': 2, 'butler': 2, 'outstanding': 2, '10': 2, 'winiarski': 2, 'leap': 2, 'cabernet': 2, 'fastest': 2, 'wines': 5, 'club': 2, 'classics': 2, 'almost': 4, '1986': 2, '*t*-162': 2, '1983': 2, 'cuvees': 2, 'barrier': 2, 'salon': 3, 'bottle': 2, 'blancs': 2, 'valley': 3, 'regions': 2, '*t*-163': 2, '*t*-164': 2, 'different': 2, 'vintages': 2, 'auctions': 4, 'shapiro': 2, '*t*-165': 2, 'grapes': 2, 'last': 2, '*t*-166': 2, 'originally': 3, 'california': 3, 'wine': 5, '*-98': 2, 'pratt': 3, 'dramatically': 2, '*t*-167': 2, '*t*-168': 2, '*t*-169': 2, 'level': 2, 'quality': 2, '*t*-170': 2, '*t*-171': 2, 'merchants': 2, 'holidays': 2, 'superpremiums': 2, '*t*-172': 2, 'ensrud': 2, 'do': 2, 'black': 3, 'fed': 3, 'washington': 2, 'presidents': 2, 'right': 2, '*t*-173': 2, '*t*-174': 2, '*t*-175': 2, '3057': 2, 'pact': 2, 'copperweld': 2, 'autions': 2, 'basham': 3, '*t*-176': 2, '*t*-177': 2, 'brady': 2, 'speech': 2, 'in': 3, 'quarterly': 2, 'when-issued': 2, 'pasta': 2, 'lancaster': 2, 'average': 4, 'moderate': 3, 'nekoosa': 4, 'speculators': 2, '*t*-178': 2, 'bond': 3, 'half': 4, '30': 3, 'eaton': 2, '*t*-179': 2, 'gulf': 7, '*ppa*-2': 2, 'transaction': 7, 'simmons': 5, 'nl': 2, 'leming': 2, 'share': 3, 'valhi': 2, 'composite': 2, 'initially': 3, '*t*-180': 2, 'high-yield': 2, 'solicitation': 2, 'apparently': 9, 'pennsylvania': 2, 'lawsuit': 3, 'patents': 3, '*t*-182': 2, 'kligman': 2, 'acquisitions': 4, 'each': 3, 'talk': 2, '*t*-184': 2, 'informally': 2, 'dallara': 3, 'nervousness': 2, 'america': 4, 'moves': 2, 'discontent': 2, 'well': 4, 'oilman': 2, 'stake': 2, 'koito': 2, 'greenmailer': 2, 'pickens': 2, 'month': 3, '*t*-185': 2, 'side': 2, 'sides': 7, '*t*-186': 2, 'round': 2, 'wrong': 2, '*t*-188': 2, 'specifics': 2, 'rubinfien': 2, 'rapidly': 4, 'trend': 2, 'obstacles': 2, 'candela': 3, 'largest': 3, 'mitsui': 3, '*t*-189': 2, '*t*-190': 2, 'frequently': 4, 'pace': 2, 'corporations': 4, '*t*-192': 2, 'deals': 3, 'glass': 2, 'bought': 2, 'deal': 2, 'chiefly': 2, 'wakui': 3, 'bodner': 2, '*t*-193': 2, 'vertically': 2, 'global': 2, '*t*-194': 2, 'klauser': 3, 'march': 3, '*t*-195': 2, '*t*-196': 2, 'driskill': 2, 'package': 4, 'included': 2, 'consumer': 2, 'program': 3, '*t*-197': 2, 'prime': 2, 'efforts': 3, 'differences': 3, 'macdonald': 2, 'branches': 2, 'raton': 2, 'tried': 2, 'francisco': 3, '*t*-198': 2, 'concept': 2, '*t*-199': 2, 'earnings': 6, 'emphasis': 2, '*t*-200': 2, 'deregulation': 2, 'competition': 3, 'banker': 2, '*t*-202': 2, 'about': 3, 'household': 2, '*t*-203': 2, 'fragmentation': 2, 'packages': 4, '*t*-204': 2, 'customers': 6, '*t*-205': 2, 'packaging': 2, 'jacob': 2, 'bankers': 2, 'moore': 2, 'sharedata': 3, 'today': 5, '*t*-206': 2, 'joy': 2, '*t*-207': 2, 'institution': 3, '*t*-208': 2, 'boost': 2, 'baris': 2, 'phelan': 9, 'chairman': 2, 'merc': 4, 'limit': 7, 'futures': 5, 'members': 6, 'breaker': 2, '*-126': 2, 'tumultuous': 2, 'industrials': 2, '*t*-210': 2, 'circuit-breaker': 2, 'additional': 2, 'five-point': 2, 'aides': 3, '*t*-213': 2, '*t*-214': 2, 'sec': 2, 'legislators': 2, 'when': 2, 'trading': 22, 'breeden': 2, '*t*-215': 2, 'aide': 4, 'viewpoints': 2, 'markey': 4, 'then': 10, 'response': 2, 'congressman': 2, '*t*-216': 2, 'dingell': 2, 'sources': 4, '*t*-217': 2, '*t*-218': 2, 'change-ringing': 2, '*t*-219': 2, 'church': 2, 'bells': 11, 'angels': 2, 'ropes': 3, 'church-goers': 2, '*t*-221': 2, '*t*-222': 2, 'hammond': 2, 'youth': 2, '*t*-223': 2, 'art': 2, 'english': 2, 'simple': 2, 'scale': 2, 'ringers': 9, 'rules': 2, '*t*-224': 2, 'london': 5, '*t*-225': 2, 'totally': 2, 'thus': 2, 'bell': 3, 'detective-story': 2, 'sayers': 2, 'described': 2, '*t*-226': 2, 'faultlessly': 2, 'ringing': 2, 'something': 2, 'steadily': 2, 'vicars': 2, '*t*-228': 2, 'promptly': 2, '*t*-229': 2, 'hummerstone': 2, 'silent': 2, 'fault': 2, 'congregation': 2, 'marshall': 3, 'themselves': 2, 'shortly': 2, 'baldwin': 2, '100,000': 2, 'sign': 2, '*t*-230': 2, 'woman': 2, 'solihull': 2, 'ringer': 2, 'badly': 2, 'party': 2, '*t*-231': 2, 'after': 2, 'profits': 3, 'environments': 2, 'payouts': 2, 'pattern': 2, 'dividends': 5, 'minority': 2, 'gains': 2, 'watchers': 3, 'trends': 2, '*t*-232': 2, 'figure': 2, 'rebound': 2, '*t*-233': 2, '500': 4, 'perritt': 2, 'reading': 2, 'coxon': 2, 'businesses': 3, '*t*-234': 2, 'wisdom': 2, 'bulls': 2, 's&p': 3, 'tally': 2, 'sachs': 2, 'supposedly': 3, 'communication': 2, 'such': 2, 'indeed': 2, 'microphone': 2, 'caveat': 2, '*t*-236': 2, 'nbi': 3, 'force': 2, 'flat': 2, 'jerritts': 2, 'common': 2, '*t*-238': 2, '*t*-239': 2, 'directly': 3, '*t*-240': 2, 'normally': 3, 'paper': 5, 'china': 5, 'tension': 2, 'nixon': 9, 'americans': 3, '*t*-241': 2, 'crackdown': 2, '*t*-242': 2, 'june': 2, 'chinese': 2, 'prominently': 2, 'frankly': 2, '*t*-243': 2, '*t*-244': 2, 'yang': 2, 'relationship': 2, 'president': 9, 'these': 3, 'ideas': 2, '*t*-245': 2, 'guards': 4, 'police': 2, 'soldiers': 2, '*t*-246': 2, 'rifles': 2, '*t*-247': 2, 'seriously': 2, ':': 5, ';': 4, 'continually': 4, 'klein': 2, '*t*-248': 2, 'voters': 5, 'statistics': 2, 'blacks': 4, 'assumption': 2, 'view': 3, 'nine': 2, 'vargas': 3, 'otero': 2, 'henry': 2, 'biscayne': 2, 'neither': 3, 'nor': 4, 'chase': 3, 'triton': 2, 'crane': 2, 'call': 2, 'canepa': 3, 'inaccurately': 2, 'whelen': 2, 'nasd': 3, '*t*-251': 2, 'felten': 2, '*t*-252': 2, 'agents': 2, 'becoming': 2, '*ich*-4': 2, 'actively': 2, 'hurdles': 2, 'hours': 2, '*t*-253': 2, 'chicago': 3, 'september': 2, 'regulators': 5, 'arbitrage': 9, '*t*-254': 2, 'since': 2, '*t*-255': 2, '*t*-256': 2, '*t*-257': 2, 'maughan': 2, 'difference': 2, 'professionals': 2, 'transactions': 4, 'parties': 4, '*t*-258': 2, 'britain': 2, 'summer': 3, 'vote': 4, 'advocates': 2, 'opponents': 3, 'increase': 3, 'legislation': 7, 'compromise': 3, 'republicans': 2, '*t*-259': 2, '*-163': 2, 'wage': 4, 'traditionally': 2, '1991': 2, 'williams': 2, 'instead': 3, 'administrations': 2, 'roukema': 2, 'lately': 2, 'employers': 2, '*t*-260': 2, 'age': 2, 'jr.': 2, 'hahn': 15, 'battle': 5, 'competitor': 2, 'observers': 3, 'insiders': 2, 'associates': 2, 'pamplin': 2, 'administrator': 2, 'ability': 2, 'formula': 2, 'diversified': 2, 'with': 2, 'conference': 4, 'appropriators': 2, 'initiatives': 2, 'poland': 3, 'sharply': 4, 'ambitious': 2, 'guarantees': 2, 'separately': 2, 'population': 3, 'sugar': 2, 'panama': 2, 'period': 2, 'tons': 2, 'pound': 2, 'quota': 2, 'own': 2, 'funding': 2, 'leadership': 2, 'example': 3, 'houses': 3, 'beauty': 2, 'everyone': 2, 'bridges': 3, 'railing': 4, 'bridge': 2, 'railings': 2, 'compromises': 2, 'engineers': 2, 'carrier': 5, 'loops': 3, 'marvin': 2, 'virtually': 3, 'lids': 2, 'outlets': 2, 'driver': 2, 'perestroika': 2, 'designers': 3, 'architecture': 2, 'event': 2, 'droz': 2, 'improve': 2, 'solution': 2, 'architects': 2, 'elevators': 3, \"'30s\": 2, 'eggers': 3, 'architect': 2, 'osha': 6, '1,500': 2, 'citation': 2, 'works': 2, '200': 2, 'dole': 3, 'citations': 3, 'programs': 4, 'properly': 2, 'settlement': 2, 'consideration': 2, 'usx': 3, 'penalties': 2, 'employer': 2, 'mistakenly': 2, 'homelessness': 7, 'alcoholics': 2, 'medicine': 2, 'category': 2, '*t*-15': 2, 'person': 5, 'wright': 3, 'homeless': 2, 'intimately': 2, 'persons': 4, 'abuse': 3, 'assertion': 2, 'crusade': 2, 'perpetual': 3, 'rogers': 2, 'conversion': 2, 'amendments': 2, 'supporters': 2, 'acquisition': 2, 'safety': 2, 'compete': 2, 'assets': 2, 'amendment': 4, 'worker': 2, 'hammerschmidt': 2, 'democracy': 4, 'publications': 2, 'propaganda': 2, 'material': 3, 'some': 5, 'how': 6, 'usia': 6, 'memo': 2, 'me': 2, 'press': 2, 'mccormick': 3, 'position': 4, 'laws': 4, \"o'brien\": 3, 'situation': 2, '1948': 2, 'shall': 8, 'words': 2, '*t*-26': 2, 'taxpayers': 4, 'gartner': 2, 'mcgovern': 7, 'successor': 4, 'street': 5, 'widely': 5, 'mcmillin': 2, 'u.k.': 2, 'harper': 3, 'several': 2, 'world-wide': 2, 'reorganization': 2, 'succession': 2, 'baum': 5, 'two': 3, 'hopefully': 2, 'champions': 2, 'below': 2, 'reserves': 2, 'indications': 2, 'practices': 2, 'bernstein': 4, 'departures': 2, '*t*-36': 2, 'bob': 3, 'smoothly': 2, 'ones': 2, 'newhouse': 2, 'list': 2, 'evans': 2, 'mehta': 2, 'departure': 2, 'prerogatives': 2, 'clause': 3, 'appropriations': 2, 'hill': 2, 'interpretation': 2, 'power': 2, 'broadly': 2, 'framers': 3, '*-52': 3, '*t*-40': 2, 'rider': 3, 'nominee': 2, '*-55': 2, 'conditions': 3, 'duly': 3, 'provision': 2, 'resolution': 2, 'chadha': 2, 'vetoes': 2, 'reagan': 2, 'veto': 3, 'expressly': 2, 'defense': 2, 'olson': 2, 'presidency': 2, 'electorate': 2, 'powers': 2, 'everywhere': 2, 'sidak': 2, 'record': 2, 'drought': 3, 'damage': 2, 'production': 2, 'commodities': 2, 'inventory': 2, 'forces': 2, 'collins': 2, 'minnesota': 2, 'expenses': 2, 'farmers': 3, 'payments': 2, 'examiner': 3, 'circulation': 2, 'speculation': 2, 'operation': 2, 'hearst': 7, 'buy-out': 2, 'member': 2, 'angeles': 2, 'herald': 6, 'empire': 2, 'offices': 2, 'demise': 2, 'newspapers': 2, '*-64': 2, 'accomplishments': 2, 'consistently': 3, 'criticism': 2, 'register': 2, 'newsroom': 2, 'pressman': 2, 'edition': 2, 'senior': 3, 'programmer': 2, 'rather': 3, 'slogan': 2, 'division': 3, 'promotion': 4, '*t*-52': 2, 'buick': 7, 'card': 3, 'express': 4, 'holders': 2, 'riese': 3, 'gmac': 3, 'relatively': 2, 'subsidiary': 2, 'destinations': 2, '*t*-58': 2, 'destination': 2, 'fulham': 2, 'pounds': 2, 'appeal': 2, 'swiftly': 3, '*t*-61': 2, 'hammersmith': 2, '*t*-63': 2, 'councils': 3, 'council': 3, 'obviously': 2, 'solicitor': 2, '*t*-64': 2, 'evil': 2, 'struggle': 2, 'ramparts': 2, 'guard': 3, 'successfully': 2, 'halts': 2, 'greed': 2, 'practitioners': 3, 'livelihood': 2, 'techniques': 2, 'future': 2, 'too': 3, 'bradley': 2, 'stockbrokers': 2, 'contel': 3, 'past': 2, 'manipulators': 2, 'heavily': 2, 'public': 2, 'unknown': 2, 'divergence': 2, 'trades': 3, 'becomes': 2, 'volatility': 3, 'plunge': 2, 'speculator': 2, 'arbs': 2, 'things': 3, 'traditionalists': 2, 'derisively': 2, 'indexers': 2, 'nonetheless': 2, 'printers': 2, 'specialist': 2, 'swings': 2, 'pay': 2, 'broker': 2, 'sigler': 2, 'publicity': 2, 'moment': 2, 'furor': 2, 'cow': 2, 'stage': 2, 'anti-programmers': 3, 'panic': 2, 'directors': 2, 'margins': 3, 'reform': 3, 'relentlessly': 2, 'white': 2, 'days': 2, '*t*-74': 2, 'widget': 2, 'constantly': 4, 'pickers': 3, 'hysteria': 2, 'opportunities': 2, 'basket': 2, 'investor': 8, 'likely': 2, 'fundamentally': 2, 'seller': 2, 'his': 2, 'liquidity': 2, 'execution': 2, 'down': 2, 'tablets': 2, 'policies': 2, 'door': 2, 'sellers': 2, 'sufficiently': 2, 'motive': 2, 'movements': 2, 'their': 2, 'argument': 2, 'slowly': 2, 'studiously': 2, 'regulation': 2, 'invariably': 2, 'reality': 2, 'roadblock': 2, 'inefficiencies': 2, 'spreads': 2, 'watchdogs': 2, 'loser': 2, 'agencies': 2, 'make': 2, 'unsuccessfully': 2, 'fees': 7, 'measures': 2, 'filings': 2, 'arrangement': 2, 'recession': 3, 'way': 2, 'enforcement': 2, 'edwards': 2, 'acquirers': 2, 'elections': 2, 'steady': 2, 'fall': 2, 'election': 2, 'mcguigan': 2, 'topics': 2, 'collecting': 2, 'series': 2, 'structure': 2, 'museums': 2, 'prints': 2, '900': 2, 'applications': 2, 'noting': 2, 'charities': 2, 'open': 2, 'west': 2, 'pets': 2, 'visitors': 2, 'tree': 2, 'continuously': 2, 'changing': 2, 'travel': 2, 'amid': 2, 'chemicals': 2, 'parents': 2, 'push': 2, 'hollis': 2, 'yorkers': 2, 'pillow': 2, 'miller': 2, 'strictly': 2, 'practice': 2, 'atlanta': 2, 'else': 3, 'taccetta': 2, 'gorman': 2, 'corporation': 2, 'underwoods': 2, 'laboratories': 2, 'scientists': 6, 'crystals': 3, 'superconductors': 5, 'finding': 2, 'capacity': 2, 'advance': 2, 'dover': 4, 'team': 4, 'crystal': 2, 'processes': 2, 'significantly': 2, 'principal': 2, 'appointment': 2, 'kane': 2, 'citadel': 2, 'following': 2, 'underwriters': 3, 'tentatively': 4, '2009': 5, '2019': 2, '2017': 2, '2005': 2, '2029': 2, 'note': 3, 'lurie': 2, 'boosters': 3, 'complexes': 2, 'baim': 2, 'stadiums': 2, 'redistribute': 2, 'backers': 4, 'stadium': 3, 'ballpark': 2, 'best': 3, 'candlestick': 2, 'giants': 2, 'park': 2, 'christopher': 2, 'robbie': 3, 'superdome': 2, 'pharaoh': 2, 'civilization': 2, 'plc': 2, '1': 2, 'lines': 2, 'reed': 3, 'activities': 2, 'shudders': 2, 'standing': 2, 'moody': 2, 'rating': 3, 'shearson': 2, 'financings': 3, 'long-term': 2, 'returns': 2, 'boston': 2, '.': 2, 'alone': 2, 'exposures': 2, 'felonies': 2, 'drexel': 3, 'performance': 2, 'planners': 2, 'goal': 2, 'petersen': 2, 'veraldi': 3, 'absurdity': 2, 'defendants': 4, 'drug': 2, 'plaintiffs': 4, 'pills': 2, 'damages': 2, 'result': 2, 'mother': 2, 'pill': 2, 'alstyne': 2, 'defendant': 2, 'reasoning': 2, 'justices': 3, 'litigation': 2, 'drugs': 4, 'huber': 2, 'predictably': 2, 'justice': 2, 'dsm': 4, 'charges': 2, 'little': 2, 'foldability': 2, 'cataracts': 2, 'food': 2, 'ackerman': 2, 'aid': 2, 'transfers': 2, 'world': 2, 'mostly': 2, 'elco': 2, 'truck': 2}, 'ADV': {'<unk>': 1, 'asbestos': 2, 'it': 22, 'is': 123, 'with': 10, '*-2': 13, 'products': 4, '``': 48, 'worked': 2, 'was': 47, 'finding': 2, 'crocidolite': 2, 'more': 13, 'does': 32, '<s>': 167, 'are': 77, 'on': 5, ',': 236, 'were': 36, 'dusty': 2, 'and': 55, 'retain': 2, 'rates': 3, 'open': 2, 'market': 8, 'up': 4, 'yielding': 2, 'invests': 2, 'securities': 2, 'has': 41, 'by': 7, 'titans': 2, \"n't\": 32, 'could': 21, 'they': 16, 'buses': 2, 'block': 2, 'meal': 2, 'for': 19, 'looking': 2, 'increased': 2, '*-1': 30, 'be': 22, 'as': 25, 'doing': 4, 'gains': 2, 'largest': 3, 'payoff': 2, 'too': 8, '*t*-1': 19, 'did': 39, 'got': 3, 'rowe': 2, 'concerns': 2, '*': 21, 'would': 20, 'may': 12, 'edison': 2, 'inched': 3, 'depend': 2, 'not': 23, 'the': 38, 'documents': 3, 'year': 10, 'a': 36, 'cray-3': 2, 'so': 23, '*-19': 2, 'research': 2, 'had': 17, 'have': 25, 'needing': 2, 'you': 6, 'do': 47, 'being': 3, '--': 14, 'twice': 2, 'computer': 3, 'spinoff': 2, 'sheets': 2, 'show': 2, '1989': 3, 'existed': 2, '*t*-26': 2, 'seoul': 2, 'software': 2, 'bad': 2, 'paid': 3, 'very': 5, 'rapanelli': 2, 'shipments': 2, '*t*-36': 2, 'stepping': 3, 'manufacturer': 2, 'magna': 2, 'wallowing': 2, 'closed': 2, 'will': 23, 'investors': 3, 'nearly': 3, '0': 3, '*-42': 2, '*-43': 3, 'to': 15, 'or': 23, 'montedison': 2, 'currency': 2, 'those': 2, 'turf': 2, 'board': 3, 'when': 2, 'grew': 2, 'trade': 2, 'funds': 5, \"''\": 7, 'now': 3, 'turned': 3, 'nets': 2, 'planners': 2, 'outpaced': 2, 'swing': 3, 'dropped': 3, 'plunged': 2, '*-47': 3, \"'s\": 26, 'frenzy': 2, 'right': 4, 'at': 8, 'climbed': 2, 'much': 8, 'even': 6, 'invested': 2, \"'m\": 5, 'can': 8, 'jumping': 2, 'in': 7, 'party': 2, 'leave': 2, 'bank': 3, 'might': 3, 'debt': 2, 'if': 6, 'growing': 4, '*u*': 4, 'month': 4, 'department': 2, 'been': 13, 'but': 25, 'probably': 4, 'ran': 2, 'contracts': 2, 'report': 2, 'goods': 2, 'imported': 2, 'going': 4, 'least': 3, 'increasing': 2, 'that': 10, 'numbered': 2, 'only': 7, 'of': 17, 'almost': 2, 'drink': 2, '*t*-52': 2, 'what': 5, 'polls': 2, 'fans': 2, 'conduct': 2, 'must': 5, 'ties': 2, 'anything': 2, 'describes': 2, 'invades': 2, 'overtime': 2, 'sony': 2, 'meeting': 3, 'katzenstein': 2, '*?*': 4, 'singapore': 2, 'visiting': 2, 'markets': 4, 'agency': 3, 'feel': 4, 'from': 5, 'committee': 2, 'failed': 2, 'bring': 2, 'miles': 2, '*t*-64': 2, 'ca': 12, '*-69': 2, 'record': 2, 'still': 2, 'years': 15, '*t*-2': 6, 'far': 7, 'though': 2, 'no': 6, 'another': 2, '*ich*-1': 2, 'drearier': 2, 'resonate': 2, 'abortionist': 2, 'she': 6, 'picture': 2, 'goes': 4, 'attack': 2, 'an': 5, 'than': 3, 'gets': 3, 'contributions': 2, 'he': 13, '*t*-74': 2, 'always': 2, 'lasted': 2, 'began': 3, 'seats': 2, 'region': 3, 'process': 2, 'asia': 2, 'hegemony': 2, 'together': 2, 'issues': 2, 'zealand': 2, 'japan': 3, 'pumping': 2, 'go': 6, 'cheating': 3, 'gone': 2, 'teach': 3, 'case': 2, 'teachers': 3, 'students': 4, 'country': 2, 'mean': 2, 'state': 2, 'scores': 2, 'teacher': 2, 'i': 6, 'all': 2, \"'ve\": 4, 'just': 3, 'pushing': 2, 'standing': 2, 'hours': 2, 'one': 2, 'pretty': 3, 'went': 3, 'yeargin': 2, 'saying': 2, 'showed': 2, 'decided': 2, '17-year-old': 2, 'work': 4, 'damn': 2, 'chalk': 2, 'weeks': 3, 'most': 8, 'should': 7, 'replicate': 2, 'sections': 2, 'high': 2, 'came': 3, '*t*-109': 2, 'wo': 13, 'stop': 2, 'cases': 4, '1987': 2, 'recommended': 2, 'under': 2, 'conducting': 2, 'nih': 2, '*ich*-2': 3, 'averaged': 2, 'rose': 4, 'boost': 2, 'banking': 3, 'water': 2, 'announcement': 2, 'bancorp': 2, 'fared': 2, 'charge': 5, 'which': 3, 'who': 2, 'irs': 2, 'investigation': 2, 'there': 3, 'except': 3, 'dating': 2, 'say': 2, 'lawyers': 2, 'into': 2, 'out': 5, 'strike': 2, 'consists': 2, 'rule': 2, 'commenting': 2, 'murray': 2, 'mistrials': 2, 'company': 10, 'practices': 2, 'normal': 2, 'bid': 2, 'companies': 2, 'controversy': 2, 'week': 3, 'pay': 2, 'fujitsu': 2, 'france': 2, 'produce': 2, 'plants': 3, 'total': 2, 'additions': 2, 'suddenly': 2, 'remains': 3, 'yen': 2, 'cues': 2, 'dollar': 2, 'drifted': 2, 'family': 2, 'laughing': 2, 'episodes': 2, 'fuming': 2, 'plan': 2, 'well': 4, 'getting': 2, 'publishing': 2, '*-83': 2, 'their': 2, 'receiving': 2, 'temple': 2, 'belts': 2, 'trucks': 2, 'others': 4, '*-92': 2, 'chrysler': 2, 'vans': 2, 'deadline': 2, 'spend': 2, 'where': 3, 'us': 2, 'nothing': 3, 'spokeswoman': 2, '*-95': 2, 'negotiate': 2, 'sell': 3, 'costs': 2, 'seem': 2, 'price': 3, 'vineyard': 2, 'soared': 2, 'italy': 2, 'wines': 2, 'ripen': 2, 'brownstein': 2, '-rrb-': 5, 'wine': 2, 'reaction': 2, \"'re\": 7, 'explains': 2, 'expanding': 2, 'also': 3, 'something': 5, 'see': 4, 'posting': 2, 'slowdown': 2, 'coming': 2, 'point': 4, 'credit': 2, 'ease': 2, 'little': 3, 'sales': 2, 'construction': 2, 'raise': 3, 'acts': 2, 'treasury': 2, 'leaving': 2, 'gained': 3, 'tidily': 2, 'evaporated': 2, 'jumped': 2, 'contract': 3, 'income': 2, 'proposal': 2, 'offer': 2, 'gulf': 2, 'nl': 2, 'included': 2, 'clear': 2, 'them': 5, 'group': 2, 'owns': 2, 'retin-a': 2, 'looming': 2, ';': 5, 'fret': 2, 'devoted': 2, 'investment': 2, 'escalated': 2, 'we': 7, 'months': 3, 'matter': 2, 'how': 3, 'since': 4, 'deal': 3, 'deals': 2, 'these': 2, 'role': 2, 'owners': 2, 'ai': 2, 'its': 2, 'customers': 3, 'turning': 2, 'adults': 2, 'program': 2, 'care': 3, 'packaging': 2, 'programs': 3, 'grown': 2, 'package': 2, '500,000': 2, 'cover': 2, 'help': 2, 'pit': 2, '1:30': 2, '3:15': 2, 'skidded': 2, '*t*-211': 2, '*-129': 2, 'exchange': 2, '*t*-212': 2, 'provides': 2, 'limit': 3, 'trades': 3, 'becomes': 2, 'come': 3, 'because': 2, 'phelan': 2, 'members': 2, 'here': 2, 'pull': 2, '*t*-220': 2, 'sounded': 2, 'michael': 2, 'live': 3, 'drift': 2, 'fit': 2, 'occur': 2, 'takes': 2, 'foot': 2, 'stare': 2, 'straight': 2, 'ritual': 2, '*t*-227': 2, 'ringers': 3, 'sit': 3, 'england': 2, 'pressing': 2, 'settle': 2, 'leaves': 2, '*-3': 4, 'breathe': 2, 'trouble': 3, 'times': 3, 'payouts': 2, 'robustly': 2, 'risen': 3, 'sharply': 3, 'following': 2, 'gotten': 2, 'currently': 2, 'indicator': 2, 'look': 2, 'declare': 2, '*t*-235': 2, 'union': 2, 'then': 3, 'systems': 2, '*t*-237': 2, 'americans': 2, '*-146': 2, 'beijing': 2, 'long': 3, 'china': 2, 'shortly': 2, 'made': 2, 'nixon': 2, 'sure': 2, 'blocks': 2, 'compound': 2, 'guards': 2, 'remained': 2, 'working': 2, 'earns': 2, 'blacks': 2, '*t*-249': 2, '*t*-250': 2, 'comment': 2, 'whelen': 2, 'ever': 3, \"'d\": 4, 'soon': 2, 'trading': 4, 'marching': 2, 'ministry': 2, 'taken': 2, 'stocks': 2, 'stanley': 2, 'cut': 2, 'big': 2, 'liquid': 2, 'british': 2, 'serves': 2, 'over': 4, 'surged': 2, 'survey': 2, 'measure': 3, 'democrats': 2, 'house': 2, 'question': 2, 'act': 2, 'pursue': 2, 'moving': 2, 'spending': 2, 'hahn': 2, 'relies': 2, 'while': 3, 'aid': 2, 'conference': 2, 'runs': 2, 'senate': 2, 'list': 2, 'initiate': 2, 'provision': 2, 'bills': 4, '*-12': 2, 'strong': 2, 'potables': 2, 'tote': 2, 'design': 2, '*t*-12': 2, 'learn': 2, '`': 2, 'yet': 2, 'close': 2, 'penalty': 2, 'cited': 2, 'receive': 2, 'hallett': 2, 'people': 3, '*-20': 2, 'problem': 3, 'any': 3, 'yourself': 3, 'once': 3, ':': 2, 'consequences': 2, 'stopped': 2, 'thing': 2, 'increase': 2, 'bill': 2, '*ich*-4': 2, 'this': 2, 'print': 2, 'either': 2, 'referred': 2, 'usia': 3, 'information': 2, 'longer': 2, 'era': 2, 'examination': 3, 'america': 2, 'answers': 2, 'evidence': 2, 'responsibilities': 2, 'rather': 2, 'reacted': 2, 'fallen': 2, 'operations': 2, 'stock': 5, 'earnings': 2, 'said': 3, 'savings': 2, 'analysts': 2, 'instruments': 2, 'london': 2, 'vary': 2, 'quite': 2, '*-44': 2, 'uttering': 2, 'phrase': 2, 'framers': 2, '-lrb-': 2, 'panel': 2, '605': 2, 'let': 2, '1990': 2, 'disapproval': 2, 'become': 5, 'excise': 2, 'objectionable': 2, 'stands': 2, 'things': 2, 'profited': 2, 'increases': 2, 'farmers': 3, 'beach': 2, 'paper': 2, 'torn': 2, 'looks': 2, 'product': 2, 'herald': 2, 'stepped': 2, '*t*-50': 2, 'wife': 2, 'difference': 2, 'really': 3, 'holders': 2, 'express': 2, 'get': 3, '*-66': 2, 'dealers': 2, 'until': 2, 'letter': 2, 'losing': 2, 'futures': 2, '*t*-60': 2, 'fell': 2, 'instances': 2, 'about': 2, 'move': 2, 'sneaked': 2, 'floors': 2, 'odds': 2, '*-72': 2, 'fall': 2, 'like': 2, 'managers': 3, 'brokers': 2, 'specialist': 2, 'walk': 2, '*-74': 2, 'lure': 2, '500': 2, 'psychology': 2, 'unlikely': 2, 'anytime': 2, 'genie': 2, 'traders': 2, 'potentially': 2, 'critics': 2, 'chase': 2, 'activity': 2, 'remain': 2, 'certainly': 2, 'decline': 3, 'arbitrage': 2, 'chicago': 2, 'occurs': 2, 'volatility': 3, '*-79': 2, 'often': 3, 'usually': 2, 'values': 2, 'somehow': 2, 'expert': 2, 'performers': 2, 'sexy': 2, 'area': 2, 'reduced': 2, 'requested': 2, 'off': 2, 'attract': 2, 'attention': 2, 'works': 2, 'send': 2, 'earlier': 2, 'culprit': 2, 'becoming': 2, 'crash': 2, 'sky': 2, 'obtained': 2, 'resistance': 2, 'shows': 2, 'demonstrates': 2, 'determine': 2, 'team': 2, '%': 3, 'voters': 2, 'agree': 2, 'running': 2, 'pyramids': 2, 'moved': 2, 'activities': 2, 'firms': 2, 'transferring': 2, 'money': 2, 'april': 2, 'time': 2, 'exposures': 2, 'shearson': 2, 'financings': 2, 'firm': 2, 'workforce': 2, 'retired': 2, 'development': 2, 'damages': 2, 'judges': 2, 'identify': 2, 'courts': 2, 'drugs': 2, 'apple': 2, '*exp*-2': 2, 'saw': 2, 'litigation': 2, 'liable': 2, 'anyone': 2, 'growth': 2, 'however': 2, 'fasteners': 2, 'finished': 2}, 'ADJ': {'<unk>': 1, 'years': 10, 'a': 465, 'and': 185, 'this': 14, 'british': 2, 'unusually': 2, 'even': 14, 'decades': 2, 'of': 212, 'new': 12, 'although': 4, 'the': 742, 'forum': 2, 'bring': 2, 'an': 97, 'any': 21, 'were': 14, 'no': 15, 'very': 20, '--': 23, 'have': 18, 'from': 27, 'far': 6, 'study': 4, 'in': 149, ',': 163, 'fibers': 2, 'more': 43, 'are': 42, 'particularly': 8, 'dumped': 3, 'contracted': 2, 'on': 48, 'money-market': 2, 'expect': 2, 'average': 5, '400': 3, '<s>': 123, 'since': 6, 'relatively': 7, 'capture': 2, 'funds': 2, 'despite': 5, 'beat': 2, 'comparable': 2, 'week': 2, 'seven-day': 2, '30-day': 2, 'obtain': 3, 'italian': 2, 'makes': 3, 'computerized': 2, 'has': 10, 'issue': 3, 'cutting': 2, 'until': 8, '*-12': 2, 'was': 35, 'their': 44, 'guests': 2, '125': 2, 'so': 15, 'with': 51, '*-1': 14, 'or': 25, 'to': 56, 'for': 105, \"'s\": 142, 'fifth': 3, 'year': 9, 'period': 3, 'announced': 2, 'become': 7, '%': 7, 'without': 6, 'had': 7, 'too': 12, 'remaining': 3, 'its': 75, 'chief': 11, 'come': 2, 'seemed': 2, 'that': 43, 'proposed': 4, 'two': 17, 'by': 29, 'exchange': 9, 'city': 2, '*u*': 23, 'make': 11, 'received': 3, '*-16': 2, 'rates': 3, 'customers': 4, 'additional': 3, 'rate': 4, 'second': 2, 'i': 2, 'followed': 3, 'at': 45, 'fully': 4, 'while': 3, 'when': 7, '*-3': 2, 'beginning': 2, 'require': 5, 'special': 3, 'as': 41, 'largest': 5, 'face': 6, '100': 4, 'been': 17, 'research': 2, 'other': 19, '*-27': 2, 'both': 4, '*-29': 2, 'five': 6, 'accelerated': 2, '0': 20, '``': 57, 'instituted': 2, 'effective': 2, 'protect': 2, 'small': 4, 'law': 2, '17': 2, 'pose': 2, 'protecting': 2, 'continuing': 3, \"n't\": 22, 'u.s.': 10, 'cases': 3, 'so-called': 3, 'early': 6, 'hobbyists': 2, 'these': 11, 'triggered': 2, 'unlike': 4, 'earlier': 4, 'types': 2, 'times': 3, 'many': 9, 'producing': 2, 'fields': 3, 'later': 2, 'hutton': 2, 'approved': 3, '*-37': 2, 'such': 10, 'requested': 2, '58': 2, 'grant': 2, 'down': 3, 'including': 3, 'low-priced': 2, 'be': 42, '16.125': 2, '37.5': 2, 'officer': 2, 'mortgage': 2, 'securities-based': 2, 'japanese': 6, 'securities': 2, 'channel': 2, 'into': 10, 'extremely': 2, 'boosted': 2, 'instruments': 2, 'n.v.': 2, '$': 3, 'shares': 5, '*-45': 2, 'convertible': 2, 'sixth': 3, 'consecutive': 2, 'japan': 2, 'single': 3, 'wildly': 2, 'traditional': 4, 'open-end': 2, 'some': 21, 'find': 2, '*t*-40': 2, 'out': 5, 'take': 8, 'than': 5, 'historically': 2, 'good': 2, 'european': 2, 'several': 7, 'increasingly': 3, 'seeking': 3, 'less': 9, 'paying': 3, 'buy': 5, 'american': 4, 'holding': 2, 'about': 17, 'pre-communist': 2, 'short-lived': 2, 'settled': 2, 'still': 2, 'ii': 2, 'significantly': 2, 'usual': 2, 'yet': 3, 'provide': 3, '`': 3, 'last': 3, 'above': 3, 'offered': 3, 'reported': 4, 'is': 63, 'imported': 2, 'nonfat': 2, 'exceptionally': 3, 'adjusted': 2, 'entirely': 4, 'especially': 3, 'contemporary': 2, 'often': 5, 'his': 21, 'whose': 2, 'solicitous': 2, 'sold': 2, 'carry': 3, 'but': 17, 'return': 2, 'how': 5, 'not': 13, 'sometimes': 3, 'most': 28, 'probably': 2, 'short-term': 3, 'becoming': 3, 'urged': 2, 'ban': 2, 'remove': 2, '14': 2, 'stress': 2, 'undertaking': 2, 'join': 2, 'beijing': 2, 'unrealistically': 2, 'establishing': 2, 'nearly': 2, 'suffer': 3, 'upturn': 2, '6,000': 2, 'weddings': 2, 'million': 8, 'debentures': 3, 'toronto-based': 2, '36-minute': 2, 'really': 2, 'good-hearted': 2, 'seem': 5, 'selling': 4, 'seems': 2, 'highly': 6, 'her': 7, 'expensive': 3, 'anything': 2, 'those': 5, 'carries': 2, 'diversionary': 2, 'one': 16, 'because': 8, 'marvelously': 2, 'regular': 3, 'three': 4, 'leading': 3, 'reached': 2, 'means': 2, 'tight': 2, 'four': 3, 'banning': 2, 'every': 7, 'introduce': 3, 'common': 2, 'grown': 2, 'carrying': 2, 'own': 3, 'sale': 2, 'toward': 2, 'southeast': 4, 'posing': 2, 'great': 2, 'includes': 2, 'seek': 2, 'remain': 2, 'countries': 2, \"'\": 8, 'them': 7, 'under': 7, 'share': 2, 'yielding': 2, 'accommodate': 2, 'cohesive': 2, 'east': 4, 'closer': 2, '12': 2, 'australia': 2, 'discuss': 3, 'matters': 2, 'further': 2, 'school': 2, 'pleaded': 3, 'officials': 2, 'where': 3, 'produce': 3, 'higher': 5, 'changed': 2, 'after': 4, 'nothing': 3, 'recent': 7, 'few': 5, 'force': 2, 'lowest': 3, 'keeping': 2, 'booklets': 2, 'educated': 2, 'prize': 2, 'evenly': 2, 'privileged': 2, 'old': 2, 'raised': 3, 'overall': 2, 'worked': 2, 'student': 2, 'encourage': 2, 'class': 2, 'greenville': 2, 'us': 2, 'demand': 2, 'before': 2, 'district': 2, \"'re\": 6, 'another': 3, 'poor': 2, 'your': 6, 'morale-damaging': 2, 'it': 5, 'won': 2, 'widespread': 2, 'decried': 2, 'investigation': 2, 'familiar': 2, 'damn': 2, 'cast': 2, 'using': 4, \"'m\": 4, 'taking': 4, 'widely': 4, 'asks': 2, 'give': 4, 'only': 2, 'studied': 2, 'through': 3, 'high': 3, 'two-letter': 2, 'replicating': 2, 'north': 2, 'involving': 3, 'treat': 2, 'oppose': 4, 'funded': 4, 'implant': 2, 'late': 2, 'carefully': 2, 'recruit': 2, 'fill': 2, 'imposing': 2, 'top': 3, 'disturbs': 2, 'privately': 2, 'discourage': 2, 'regenerate': 2, 'allow': 4, 'broader': 2, 'nasdaq': 3, 'biggest': 3, 'permitting': 2, 'expires': 2, 'among': 11, 'leapt': 2, 'mostly': 2, 'eliminates': 2, 'remains': 5, 'achieve': 2, 'target': 2, 'media': 2, 'resolve': 3, 'fiscal': 3, 'threatened': 2, 'report': 2, 'receives': 2, 'felony': 2, 'returned': 2, 'citing': 3, 'retained': 2, 'individuals': 2, 'obtained': 2, 'develop': 3, 'over': 6, 'federal': 6, 'lucrative': 2, '*': 6, 'guild': 3, 'include': 2, 'press': 2, 'up': 4, 'third': 3, 'separate': 3, 'possible': 4, 'caused': 2, 'feel': 4, 'apology': 2, 'sacrificing': 2, 'accepting': 2, 'having': 2, 'close': 2, 'growing': 4, 'public': 3, 'substantially': 4, 'issues': 2, 'accused': 2, 'hurt': 3, 'head': 2, 'saitama': 2, 'major': 3, 'made': 6, 'stores': 2, 'open': 3, 'introduced': 2, 'improve': 3, '-': 3, '10': 4, 'current': 4, 'third-quarter': 3, 'our': 5, 'older': 2, 'more-efficient': 2, 'continued': 2, 'traditionally': 2, 'inventories': 2, 'all': 8, 'persistent': 2, 'cautiously': 2, 'below': 2, 'hefty': 2, 'posted': 2, 'yen': 3, 'if': 3, 'marks': 2, 'undisclosed': 2, '10-year': 2, 'government': 2, '*-2': 5, 'showed': 2, 'sign': 2, 'need': 2, 'next': 3, 'quite': 3, 'sell': 2, 'pretty': 6, 'combines': 2, 'alleged': 3, 'identify': 2, 'practicing': 2, 'spend': 3, 'whether': 4, '*t*-1': 4, 'supply': 2, 'first': 5, 'free': 2, 'numerous': 2, 'took': 2, 'requiring': 2, 'equip': 2, 'extend': 2, 'commercial': 2, 'fairly': 5, 'different': 2, 'prevent': 3, 'minimum': 2, 'improved': 2, 'explorer': 2, '850': 2, 'circle': 2, 'full': 2, 'national': 2, 'dividend': 2, 'rights': 2, 'who': 2, 'exceedingly': 2, 'bordeaux': 2, '-rrb-': 2, 'rarefied': 2, 'flashy': 2, 'priciest': 2, 'rather': 3, 'spectacularly': 2, 'commanded': 2, 'he': 2, '*-98': 2, 'awfully': 2, 'price': 3, 'wins': 2, 'equally': 5, 'high-priced': 2, 'cut': 3, 'expecting': 2, 'key': 2, 'noted': 2, 'items': 2, 'resisting': 2, '*-103': 2, '105': 2, 'bonds': 11, '23.5': 2, 'almost': 3, 'cause': 2, 'delivery': 2, '*-107': 2, 'finished': 2, 'huge': 2, 'benchmark': 2, 'ended': 2, 'supplies': 2, 'go': 2, 'closed': 2, 'confidential': 2, 'ever': 2, 'bilateral': 2, 'vitally': 2, 'acquiring': 2, 'past': 4, 'exclusive': 2, 'considerable': 3, 'important': 2, 'wants': 2, 'big': 7, 'high-tech': 3, 'future': 3, 'bankroll': 2, 'financed': 2, 'involved': 3, 'heightened': 2, 'giving': 4, 'feed': 2, '...': 2, 'companies': 2, 'drive': 2, 'local': 2, 'much': 13, 'ending': 2, 'company': 2, ':': 8, 'create': 5, 'add': 2, 'included': 2, 'enabling': 2, 'better': 2, 'products': 2, 'offering': 2, 'banks': 3, 'dozen': 2, 'spent': 3, 'issued': 2, 'each': 4, 'markets': 3, 'think': 2, 'ailing': 2, 'loan': 2, 'areas': 2, 'like': 6, 'healthy': 2, 'mention': 2, 'critical': 2, 'grows': 2, 'sagging': 2, 'around': 2, '500': 4, 'existing': 3, '-lrb-': 5, 'directing': 2, 'maximum': 2, 'want': 2, 'feeling': 2, 'little': 3, 'evoke': 2, 'requires': 2, 'weigh': 2, 'intense': 2, 'proper': 2, 'ten': 2, 'ring': 2, '*-138': 2, 'partly': 2, 'once': 2, ';': 2, 'oldest': 2, 'frequently': 2, 'unbearably': 2, 'payouts': 2, 'senior': 3, 'watchers': 2, 'slow': 2, 'see': 4, 'seven': 2, 'excessive': 2, 'underlying': 4, 'growth': 2, 'moderate': 2, 'financial': 2, 'sharply': 2, 'basically': 3, '8': 2, 'slower': 2, 'flat': 3, 'earnings': 2, '13': 2, 'fired': 2, '16': 2, 'costly': 2, 'radically': 2, 'raise': 2, 'nowhere': 2, 'seduce': 2, 'which': 6, 'top-level': 2, 'government-funded': 2, 'sdi': 2, 'days': 2, 'filed': 2, 'accusing': 2, 'know': 2, 'attract': 2, 'neither': 3, 'nor': 2, 'salaries': 2, 'hire': 2, 'bush': 2, 'maintained': 2, 'transacting': 2, 'avoid': 2, 'exploit': 2, 'chicago-style': 2, 'scrutinizing': 2, 'prices': 2, 'written': 2, 'stanley': 2, 'offer': 2, 'kingdom': 2, '1987': 2, 'debate': 2, 'cost': 3, 'covers': 2, 'unrestricted': 2, '18': 2, 'talking': 2, '*ich*-1': 2, 'befuddled': 2, 'skipped': 2, 'entering': 2, 'stimulating': 2, 'adding': 2, 'committee': 2, 'itself': 2, '30,537': 2, 'gave': 2, '*ich*-2': 2, 'railings': 2, 'four-foot-high': 2, 'replace': 2, 'got': 4, 'costs': 2, 'eight': 2, 'clients': 2, '15': 2, 'developing': 2, 'preserving': 2, 'six-inch': 2, 'contain': 2, 'pass': 2, 'correct': 2, 'promised': 2, 'osha': 2, 'mentally': 3, 'lacks': 2, 'defying': 2, 'pre-existing': 2, 'cite': 2, 'hundred': 2, 'underwent': 2, 'time': 2, 'airline': 3, 'rejected': 3, 'legislation': 2, 'sounds': 2, 'my': 2, 'you': 2, 'reprint': 2, 'assure': 2, 'can': 2, 'strong': 3, 'distant': 2, 'against': 2, 'people': 4, 'meeting': 2, '100,000': 2, 'certain': 4, 'sitting': 2, 'foreign': 2, 'represent': 2, 'center': 2, 'near': 2, 'high-grade': 2, 'primary': 2, 'directly': 2, 'standard': 3, 'conventional': 3, 'capped': 3, 'one-year': 3, 'annualized': 3, 'enjoyed': 2, 'integrated': 2, 'acquired': 2, 'funding': 2, 'execute': 2, 'ensure': 2, 'thus': 2, 'imposes': 2, 'prohibits': 2, 'proposing': 2, 'subjecting': 2, 'inherently': 2, 'usurp': 2, 'available': 2, '*-58': 2, 'branch': 2, 'president': 2, 'controlling': 2, 'perfectly': 2, 'resist': 2, 'journal': 2, 'saved': 2, 'reclaim': 2, 'peaks': 2, 'reduce': 2, 'income': 2, 'severe': 2, 'following': 2, 'faces': 2, 'sells': 3, 'cities': 2, 'perhaps': 3, 'paper': 2, 'spanish': 2, 'putting': 2, '730': 2, 'receive': 3, 'beers': 2, 'away': 3, 'payment': 2, 'encouraging': 4, 'express': 4, 'roughly': 2, 'total': 2, 'sophisticated': 2, 'holders': 2, 'tie-in': 2, 'ticket': 2, 'declared': 2, 'lose': 2, 'plunged': 2, 'recovering': 2, 'point': 2, 'making': 2, 'active': 2, '77': 2, 'during': 3, 'consider': 2, 'gut-wrenching': 2, 'mobilizing': 2, 'rallying': 2, 'causing': 2, 'also': 2, 'portray': 2, 'keep': 2, 'units': 2, 'trading': 2, 'board': 2, 'earned': 2, 'back': 2, 'absolutely': 2, 'street': 2, 'trade': 2, 'set': 2, 'help': 4, 'namely': 2, '*exp*-1': 2, 'letting': 2, 'owning': 2, 'large': 2, 'get': 2, 'creating': 2, 'wooing': 2, 'nice': 2, 'tolerate': 2, 'least': 3, 'spreads': 2, 'pursue': 2, 'legislating': 2, 'things': 2, 'introducing': 2, 'inviting': 2, 'complicated': 2, 'department': 2, '*-87': 2, 'inhibit': 2, 'gains': 2, 'largely': 2, 'masters': 2, '300': 3, 'right': 2, 'bilingual': 2, 'follow': 2, '1,200': 2, 'stresses': 2, 'gotten': 2, 'service': 2, 'creates': 2, 'darned': 2, 'york': 2, 'hold': 2, 'real': 2, 'lost': 2, 'money': 2, 'amazingly': 2, 'shareholders': 2, 'electrical': 2, 'materials': 2, 'created': 2, 'per': 2, 'moderately': 3, 'promise': 2, 'technologies': 2, 'cheaper': 2, 'large-scale': 2, 'undercutting': 2, 'lowering': 2, 'san': 2, 'versus': 2, '30-year': 2, 'bellwether': 2, 'obligation': 2, '1989': 2, 'eurobonds': 3, 'placed': 3, 'notes': 4, '50,000': 3, '60': 2, 'brought': 2, 'modern': 2, 'let': 2, 'via': 2, 'whereas': 2, 'getting': 2, 'expects': 3, 'proving': 2, 'arranged': 2, 'slightly': 3, 'lower': 4, 'private': 2, 'longer': 2, 'experiencing': 2, 'serious': 2, 'twisting': 2, 'court': 2, 'hidden': 2, 'beneficial': 2, 'makers': 2, 'utterly': 2, 'runs': 2, 'reflect': 2, 'dutch': 2, 'outlay': 2, 'phacoflex': 2, 'lens': 2, 'now': 2, 'well': 2, 'smothering': 2, \"''\": 2}, 'PRON': {'<unk>': 1, 'to': 42, 'once': 3, 'in': 46, '<s>': 251, 'researchers': 2, '``': 126, 'men': 2, 'of': 121, 'us': 2, ',': 226, 'those': 6, 'but': 56, 'on': 31, 'because': 30, 'before': 6, 'boosts': 2, 'approved': 2, '0': 285, 'position': 2, 'when': 27, 'for': 36, 'treat': 2, 'that': 92, 'and': 58, 'make': 10, 'fed': 2, 'tempts': 2, 'lowered': 2, 'announce': 2, 'advertisers': 2, 'exceed': 3, 'as': 21, 'is': 7, 'department': 2, 'which': 16, 'values': 2, 'if': 40, 'raising': 3, \"''\": 47, 'matter': 2, 'after': 6, 'proceedings': 2, 'refile': 2, 'customers': 4, 'block': 2, 'force': 2, 'slash': 2, 'raise': 4, 'from': 12, '*t*-2': 3, 'without': 3, 'him': 2, 'link': 2, 'do': 10, 'or': 5, 'leave': 2, 'had': 6, 'previously': 2, 'improve': 4, 'hurting': 3, 'discouraging': 2, 'marketing': 2, 'improved': 2, 'amending': 2, 'showing': 2, 'tells': 4, 'halve': 2, 'through': 5, 'during': 3, 'use': 5, 'than': 15, 'offer': 2, 'with': 23, 'increase': 4, 'until': 5, 'divest': 2, 'cut': 4, 'below': 3, 'expect': 3, 'neither': 2, 'redeploy': 2, 'giving': 4, 'while': 5, 'pay': 5, 'began': 2, 'stake': 2, 'stretching': 2, 'people': 6, 'unless': 5, ':': 5, '%': 3, 'lead': 2, 'about': 12, 'author': 2, 'writers': 2, 'like': 4, 'tow': 2, 'mark': 2, 'chauffeur': 2, 'figure': 2, '--': 11, 'published': 2, 'describes': 2, 'since': 8, 'worth': 2, 'american': 2, 'out': 3, 'opened': 3, 'espouse': 2, 'what': 15, 'asking': 4, 'renewed': 2, 'whom': 2, 'laid': 2, 'revived': 2, \"'s\": 2, 'earns': 2, 'you': 2, 'no': 3, 'has': 3, 'spends': 2, 'night': 2, 'including': 2, 'alerts': 2, 'woman': 2, 'owns': 2, 'behind': 2, 'makes': 4, 'character': 2, 'was': 3, 'enabled': 2, 'although': 6, ';': 9, 'brought': 3, 'into': 8, 'have': 8, 'man': 3, 'at': 10, 'ads': 2, 'file': 3, 'report': 3, 'hid': 2, 'does': 2, 'though': 6, 'away': 2, 'give': 5, 'transforming': 2, 'women': 2, \"n't\": 3, 'wilder': 2, 'ask': 4, 'legislation': 2, 'coleman': 2, 'commercial': 2, 'tripled': 2, 'turn': 2, 'offend': 2, 'export': 2, 'offered': 3, 'designing': 2, 'outranks': 2, 'expand': 2, 'approach': 2, 'up': 6, 'sew': 2, 'believe': 2, 'teacher': 3, 'wake': 2, 'principal': 2, 'calls': 2, 'colleagues': 3, 'parents': 3, 'defended': 3, 'revising': 2, 'using': 2, 'states': 2, 'protect': 2, 'fact': 2, 'take': 4, 'harmony': 2, 'became': 2, 'carolina': 2, 'yeargin': 2, 'inspired': 2, 'taught': 2, 'distinguished': 2, 'gave': 3, 'see': 5, 'called': 2, 'told': 2, 'helping': 2, 'by': 12, 'keep': 5, 'so': 7, 'prepared': 2, 'broke': 2, 'somebody': 2, 'loved': 2, 'earlier': 2, 'change': 2, 'save': 2, '`': 3, 'how': 2, 'doing': 3, 'enraged': 2, 'convicted': 2, 'asks': 2, 'tests': 2, 'extend': 3, 'withdrawn': 3, 'asked': 2, 'making': 4, 'manager': 2, 'banks': 2, 'saw': 2, 'redeemed': 3, 'under': 4, 'lawyers': 2, 'clients': 4, 'anyone': 2, 'wish': 2, 'against': 3, 'lawyer': 3, 'attorneys': 2, 'dealers': 2, 'orders': 2, 'assured': 2, 'pass': 3, 'increased': 2, 'getting': 3, 'sudden': 2, 'discuss': 2, 'period': 2, 'undercut': 2, 'map': 2, 'withdraw': 2, 'converting': 2, 'knows': 2, 'taken': 3, 'boosted': 2, 'tell': 2, 'over': 5, 'thumbing': 2, 'made': 2, 'flush': 2, '-lrb-': 4, 'breaks': 2, 'completed': 2, 'gives': 3, 'raises': 2, 'top': 2, 'characterizing': 2, 'prevent': 3, 'accepting': 2, 'place': 2, 'back': 2, 'phasing': 2, 'across': 2, 'dropped': 2, 'region': 2, 'considered': 2, 'drop': 2, 'single': 2, 'seeing': 2, 'sell': 4, '-rrb-': 2, 'got': 6, 'add': 2, 'consumers': 2, 'january': 3, 'clear': 2, 'tilt': 2, 'losing': 2, 'sold': 3, 'reduced': 2, 'answer': 2, 'spurns': 2, 'decided': 2, 'medicine': 2, 'where': 4, 'buying': 2, 'americans': 2, 'among': 3, 'need': 2, 'clarified': 2, 'clarify': 2, 'increasing': 2, 'set': 2, 'one': 3, 'putting': 2, 'introduced': 3, 'took': 3, 'bundling': 2, 'targeting': 2, 'tailoring': 2, 'analyze': 2, 'define': 2, 'runs': 2, 'likely': 2, 'offers': 2, 'introduce': 2, 'expecting': 2, 'send': 4, 'regulators': 3, 'close': 2, 'help': 3, 'needs': 2, 'beyond': 2, 'phelan': 2, 'ring': 2, 'bells': 2, 'call': 3, 'time': 2, 'finds': 2, 'ringers': 3, 'bell-ringer': 2, 'years': 3, 'signing': 2, 'bless': 2, 'kill': 3, 'stockholders': 2, 'adjusting': 2, 'lost': 3, 'half': 2, 'discontinuing': 2, 'reduce': 2, 'servicing': 2, 'expanding': 2, 'accused': 2, 'describe': 2, 'reminded': 2, 'restore': 3, 'shoot': 2, 'discarded': 2, 'retained': 2, 'pointed': 2, 'basically': 2, 'considering': 2, 'puts': 3, 'are': 4, 'yet': 4, 'maybe': 3, 'touted': 2, 'workers': 2, 'can': 2, 'official': 2, 'protesters': 2, 'georgia-pacific': 2, 'above': 2, 'earned': 2, 'carry': 3, 'upsetting': 2, 'instructed': 2, 'renew': 2, 'compared': 2, 'research': 2, 'disorders': 2, 'require': 2, 'homeless': 2, 'conduct': 2, 'put': 3, 'consider': 2, 'world': 2, 'telling': 2, 'hither': 2, 'propagandize': 2, 'propagandizes': 2, 'enables': 3, 'barred': 2, 'print': 2, 'changed': 2, 'course': 2, 'get': 3, 'congressmen': 2, 'persons': 2, 'denied': 2, 'copy': 2, 'sends': 2, 'whether': 4, 'want': 3, 'let': 2, 'photocopy': 2, 'say': 2, 'wrote': 2, 'marketer': 2, 'companies': 3, 'quoted': 2, 'mcgovern': 2, 'announced': 2, 'sometimes': 2, 'containing': 2, 'declaring': 2, 'recommending': 2, 'discharge': 2, 'exercise': 2, 'suit': 2, 'restricting': 2, 'farmers': 2, 'publish': 2, 'keeping': 2, 'beat': 2, 'did': 2, 'forget': 2, 'handed': 2, 'buyers': 3, 'promote': 2, 'them': 2, 'maximize': 2, 'cars': 2, '*u*': 2, 'million': 2, 'buyer': 2, 'holders': 2, 'paying': 2, 'reap': 2, 'trading': 2, 'academics': 2, 'studied': 2, 'exacerbated': 2, 'defending': 2, 'bludgeon': 2, 'corp.': 2, 'wedded': 2, 'despite': 2, 'battle': 2, 'between': 2, 'causing': 2, 'abandoned': 2, 'taking': 2, 'scaring': 2, 'traders': 3, 'know': 2, 'understand': 2, 'trade': 3, 'received': 2, 'slow': 2, '*-1': 2, 'someone': 2, 'replace': 2, 'usually': 2, 'sells': 2, 'transfers': 2, 'decrease': 2, 'perhaps': 2, 'execute': 2, 'surrounding': 2, 'concern': 2, 'markets': 3, 'managers': 2, 'advise': 2, 'offering': 2, 'serve': 2, 'augment': 2, 'launch': 2, 'patients': 2, 'curbing': 2, 'investor': 2, 'curb': 2, 'denounce': 2, 'denouncing': 2, 'analyst': 2, 'all': 3, 'limiting': 2, 'preventing': 2, 'enable': 2, 'combine': 2, 'sink': 2, 'build': 2, 'it': 2, 'rejected': 2, 'mayor': 3, 'money': 2, 'prove': 2, 'ago': 2, 'built': 2, 'justified': 2, 'year': 2, 'having': 2, 'finance': 3, 'commit': 2, 'eliminated': 2, 'recall': 2, 'brand': 2, 'ones': 2, 'accompany': 2, 'worried': 2}, 'ADP': {'<unk>': 1, 'board': 9, 'chairman': 18, 'director': 18, 'form': 10, 'percentage': 6, 'deaths': 6, 'group': 9, 'more': 75, 'years': 28, 'resilient': 2, ',': 287, 'unit': 9, 'crocidolite': 2, 'filters': 3, '<s>': 399, 'year': 21, 'appear': 3, 'journal': 4, 'talking': 3, 'ago': 3, 'heard': 3, 'asbestos': 3, 'aware': 4, 'research': 8, 'smokers': 2, 'information': 10, 'on': 5, 'are': 12, 'talcott': 2, 'team': 5, 'researchers': 3, 'schools': 6, '*-1': 117, \"''\": 56, 'paper': 5, 'type': 4, 'filter': 2, 'cigarettes': 3, 'closely': 2, 'four': 4, 'three': 6, 'total': 7, 'higher': 6, 'finding': 2, 'those': 9, 'workers': 5, 'highest': 3, '*': 176, '*-4': 3, 'was': 15, '*ich*-2': 13, 'argue': 7, 'class': 4, 'stringently': 2, 'kind': 10, 'one': 36, 'standard': 3, 'regulation': 2, 'such': 28, '*-5': 2, 'professor': 4, 'pathlogy': 2, 'university': 9, 'college': 2, 'ban': 5, 'uses': 5, 'areas': 5, 'sacks': 2, 'material': 4, 'fibers': 2, 'clouds': 2, 'hung': 2, 'parts': 2, 'even': 21, 'question': 6, 'some': 21, 'president': 42, 'resources': 2, 'recognize': 3, 'bearing': 2, 'yields': 4, 'signs': 8, 'declines': 4, 'yield': 16, 'fraction': 2, '%': 82, 'reinvestment': 2, 'and': 56, 'continues': 4, 'maturity': 4, 'lengthened': 2, 'longest': 2, 'rates': 12, 'sign': 7, 'considered': 4, 'indicator': 2, 'point': 10, 'editor': 5, 'again': 2, 'because': 24, 'rises': 2, 'cash': 3, 'assets': 3, 'grew': 2, '*u*': 115, 'investments': 9, 'go': 9, 'well': 23, 'down': 15, 'heavily': 5, 'interest': 12, 'acquisition': 7, 'ltd.': 3, 'toronto': 2, 'transaction': 4, 'sale': 12, 'a.': 2, 'company': 13, 'interests': 4, 'revenue': 6, 'of': 4, 'sales': 19, 'bonds': 4, 'ceiling': 3, 'obligations': 2, 'dropped': 4, '*-11': 2, 'fight': 4, 'act': 6, 'week': 7, 'default': 2, '9': 2, '*rnr*-1': 6, 'arm': 3, 'manager': 8, 'executive': 10, 'chrysler': 2, 'time': 8, 'confines': 2, 'towns': 3, 'association': 13, 'settled': 3, 'capital': 6, 'indianapolis': 2, 'stars': 2, 'makers': 3, 'buckle': 2, 'rusty': 2, '0': 7, 'end': 18, 'officials': 9, 'giants': 3, 'along': 5, 'knowns': 2, 'iii': 2, 'evening': 3, 'busloads': 2, 'unimpeded': 2, 'announcer': 2, 'drooled': 2, 'schoolboys': 2, 'space': 6, 'machines': 2, 'meetings': 3, 'hotel': 2, 'moons': 2, 'nine': 2, 'chefs': 2, 'terrine': 2, 'city': 5, 'but': 32, 'boca': 2, 'deficit': 3, 'tallies': 2, 'cloud': 2, 'exports': 5, 'stood': 4, 'increase': 14, 'began': 7, 'remain': 8, 'target': 4, 'surplus': 3, 'so': 12, 'were': 7, 'pace': 3, 'plan': 7, '*t*-1': 45, 'discounts': 2, 'fixtures': 2, 'competition': 4, 'page': 3, 'base': 3, '1990': 4, ';': 7, 'costs': 5, 'advertisers': 2, 'reward': 2, 'who': 3, 'long': 5, 'decline': 8, 'pages': 4, 'months': 11, 'drop': 12, '*t*-15': 2, 'circulation': 7, 'use': 12, 'none': 7, 'bureau': 2, 'decrease': 3, 'flat': 3, 'bowed': 2, 'out': 29, 'bidding': 2, 'co.': 9, 'saying': 2, 'far': 6, 'utilities': 2, 'bidders': 2, 'ps': 8, 'proceedings': 2, '*t*-2': 27, 'is': 45, '*-13': 2, '*-14': 2, 'at': 6, 'return': 11, 'suffer': 3, 'growth': 13, 'persistent': 2, 'way': 6, 'noted': 6, 'emerges': 2, 'be': 11, 'withdraw': 2, 'jr.': 3, 'withdrawal': 2, 'fact': 6, 'against': 2, '--': 31, 'negotiations': 3, 'request': 7, 'approval': 3, 'purchase': 13, 'hopes': 4, 'review': 11, 'ferc': 2, 'summer': 4, 'yesterday': 12, 'officer': 4, 'directors': 2, 'refund': 5, 'ratepayers': 2, 'overruns': 2, 'refunds': 2, 'service': 4, 'including': 2, 'moved': 2, 'said': 36, 'order': 5, 'hostage': 2, 'round': 3, 'amount': 10, 'based': 8, '31': 2, 'earnings': 8, 'changed': 3, 'closed': 4, 'plant': 4, '*-17': 3, 'pay': 6, 'challenge': 2, 'collecting': 2, 'cost': 4, 'ruled': 4, 'that': 21, 'rate': 13, 'collections': 2, 'hope': 4, 'precedent': 5, 'seeking': 3, 'rule': 7, 'case': 5, 'performance': 8, 'buses': 2, 'record': 7, 'increases': 3, 'month': 6, 'benefited': 3, 'arising': 2, 'introduction': 6, 'units': 3, '13,056': 2, '*ich*-3': 6, 'chinchon': 2, 'miles': 3, 'demand': 11, 'products': 9, 'survival': 2, 'corp.': 13, 'fledgling': 2, 'development': 5, 'commission': 3, 'disclosed': 3, 'or': 8, 'working': 4, 'project': 2, 'away': 5, 'orders': 10, 'many': 24, 'spinoff': 2, 'public': 3, 'much': 17, 'designer': 2, 'called': 3, 'filing': 2, 'details': 5, 'close': 7, 'valuation': 2, '*-21': 3, 'risk': 3, 'smaby': 2, 'factors': 2, '*-22': 2, 'only': 15, 'competitor': 2, 'compete': 2, 'fewer': 5, 'customers': 5, 'terms': 9, 'share': 12, 'occur': 4, 'in': 4, 'price': 16, 'it': 21, 'trade': 9, 'value': 6, 'transferring': 2, 'drain': 2, 'profit': 12, 'half': 7, 'rather': 9, '*-24': 3, 'work': 4, 'father': 3, 'management': 4, 'came': 8, 'force': 6, '450': 2, 'hatch': 2, 'success': 3, 'arabia': 2, 'list': 6, 'result': 14, 'sanctions': 3, 'protection': 4, 'property': 3, 'countries': 9, 'degrees': 3, 'denial': 2, 'inventiveness': 2, 'protections': 2, 'themselves': 5, 'firms': 5, 'korea': 2, 'teams': 2, 'standing': 4, 'u.s.': 6, 'producers': 3, 'showings': 2, 'number': 29, 'compatible': 2, 'completely': 2, 'still': 3, 'problems': 5, 'owners': 2, 'specializing': 2, 'threat': 2, 'recognition': 2, '*-2': 43, 'concerned': 3, 'developments': 2, 'progress': 2, 'complained': 3, 'piracy': 2, 'disregard': 2, 'patents': 2, 'investigation': 2, 'provision': 4, 'debt': 4, 'third-highest': 2, 'declaration': 2, '*-3': 15, 'official': 6, 'little': 3, 'reduction': 6, 'met': 3, 'august': 3, 'meet': 4, 'government': 6, 'before': 2, '-lrb-': 7, 'events': 3, 'stand': 4, 'milestones': 2, 'face': 4, '*-32': 2, 'crude': 3, 'sets': 5, 'data': 4, 'advance': 4, '*-33': 2, 'garage': 2, 'jobs': 6, 'models': 2, 'computers': 2, 'been': 6, 'around': 3, 'store': 2, 'greater': 3, 'allen': 2, 'system': 6, 'versions': 3, 'drives': 3, 'co-developers': 2, 'leader': 3, 'pc': 2, '1981': 2, 'inc.': 9, 'together': 6, 'production': 7, '*-34': 3, 'to': 8, 'barrels': 3, 'launch': 3, 'first': 4, '*-35': 2, 'fields': 4, 'reaches': 2, 'reserves': 5, '*-36': 2, 'decided': 5, 'free': 4, 'scherer': 2, 'maker': 7, 'itself': 2, 'certain': 4, 'part': 29, 'treatment': 4, 'imports': 4, 'types': 5, 'changes': 5, 'preferences': 2, 'status': 3, 'potential': 2, 'seller': 2, 'beneficiaries': 2, 'eligible': 5, 'totaled': 2, '*ich*-1': 25, '``': 42, 'level': 9, 'magna': 3, 'load': 2, 'each': 5, 'dividend': 4, 'high': 5, 'shareholder': 2, 'resigned': 2, 'seat': 3, 'role': 8, '*-38': 2, 'investors': 7, '*-40': 3, 'jointly': 2, 'other': 9, 'early': 5, 'money': 10, 'payments': 5, 'burden': 3, 'investment': 10, 'growing': 3, 'purchasers': 2, 'tenth': 2, 'extend': 2, 'period': 3, 'operating': 2, '11': 3, 'lawsuits': 3, 'offer': 8, 'outstanding': 3, 'editions': 2, 'expire': 3, 'owns': 4, 'agreement': 5, 'fell': 4, 'intensity': 3, 'bank': 14, 'intervention': 2, 'surged': 2, 'rash': 2, 'invest': 3, 'stocks': 12, 'all': 23, 'ranged': 4, '*-46': 2, 'visit': 2, 'head': 6, 'issue': 6, 'partner': 6, 'associates': 3, 'explosion': 3, 'oblivion': 2, 'most': 15, 'account': 6, 'billions': 4, 'dollars': 10, 'analyst': 7, 'market': 17, 'smattering': 2, 'taste': 2, 'wild': 2, 'trading': 24, 'discount': 3, 'premium': 7, 'prices': 10, 'sharply': 4, 'probably': 2, '*-48': 2, 'marketing': 4, 'plenty': 3, 'aghast': 2, 'levels': 5, 'receipts': 2, 'shares': 16, 'funds': 6, 'talks': 8, 'repayment': 2, 'moscow': 3, '*-50': 3, 'coincident': 2, 'branch': 4, 'opened': 4, '*-51': 3, 'power': 8, 'illegal': 2, 'members': 12, 'debts': 3, 'less': 15, 'hundreds': 2, 'millions': 6, 'reflection': 2, 'spending': 6, 'rise': 5, 'indicated': 5, 'contracted': 2, 'october': 6, 'reading': 2, 'up': 26, 'same': 2, 'not': 12, 'surge': 4, 'goods': 2, 'ran': 3, 'different': 3, 'figures': 5, 'effects': 3, 'adjusted': 2, 'economist': 4, 'if': 3, 'predicting': 3, 'slip': 2, 'lack': 3, 'signals': 2, 'buildup': 2, 'cutbacks': 5, 'news': 4, 'inflation': 2, 'estimated': 3, 'backlogs': 2, 'strength': 3, 'accounts': 4, 'adjusting': 2, 'change': 6, 'contrast': 2, 'earlier': 3, 'range': 6, 'forecast': 4, 'evidence': 8, 'compared': 11, 'steeper': 2, 'than': 5, '*?*': 8, 'stronger': 2, '*-56': 2, 'difference': 7, 'improvement': 5, 'found': 6, 'being': 2, 'shortage': 2, 'sebastian': 2, 'manufacturers': 2, 'judging': 2, 'americana': 2, 'boomers': 2, 'sides': 2, 'lot': 11, 'talk': 5, 'worry': 5, 'charm': 2, 'come': 6, 'recognizing': 2, 'society': 4, 'school': 7, 'notion': 3, 'unfathomable': 2, 'message': 2, \"'s\": 8, 'us': 3, 'say': 9, 'plot': 2, '*-57': 3, 'off': 8, 'country': 3, 'search': 2, 'sheep': 2, 'star': 2, 'back': 8, 'behest': 2, 'mobster': 2, 'has': 4, 'her': 2, 'sensation': 2, 'japanese': 3, 'fluent': 2, 'copies': 5, 'charts': 2, 'dashes': 2, 'mirror': 2, 'virtues': 2, 'important': 4, 'symbol': 3, 'depending': 2, 'size': 8, 'shame': 2, 'abide': 2, 'rules': 3, 'players': 2, 'when': 3, 'chronicle': 2, 'two': 2, 'sums': 3, 'run': 4, '-rrb-': 8, 'complaint': 2, '*t*-58': 2, 'fellowship': 2, 'regret': 3, 'aspects': 2, 'observations': 2, 'true': 2, 'just': 9, 'sake': 2, 'hierarchical': 2, 'chary': 2, 'sony': 2, 'lesson': 4, 'crime': 2, 'founder': 3, 'worked': 3, 'tokyo': 2, 'corners': 2, 'exempt': 2, '*-60': 2, 'bars': 2, 'except': 4, 'smoking': 2, 'minister': 3, 'institute': 6, 'technology': 3, 'indicates': 4, 'materialistic': 2, 'study': 5, 'pressured': 2, 'any': 3, '*t*-61': 2, 'one-third': 4, 'deal': 8, 'center': 5, 'meeting': 4, '*-61': 3, 'balked': 2, 'conditions': 8, 'concern': 6, '*-62': 2, 'applied': 3, 'membership': 5, 'application': 2, 'plo': 2, 'aids': 2, 'disease': 2, 'had': 2, 'relations': 4, 'charges': 7, 'line': 6, 'compensate': 2, 'ties': 2, 'victory': 2, 'upstream': 2, 'parliament': 3, 'damage': 2, '*-67': 3, 'hungary': 2, 'solely': 2, 'periods': 4, 'painting': 2, 'sold': 3, 'auction': 3, 'stockholm': 2, 'oils': 2, 'playwright': 2, 'weddings': 2, 'rings': 2, '1988': 2, 'debentures': 2, 'date': 2, '*-70': 2, 'underwriters': 2, 'inheritor': 2, 'obsessed': 2, 'tramp': 4, 'student': 2, 'campus': 2, 'place': 6, 'film': 2, 'man': 3, 'artist': 2, 'piece': 3, 'silent': 2, 'friend': 2, 'bass': 2, 'precisely': 2, 'view': 5, 'life': 5, 'romanticized': 2, 'white': 2, 'streets': 3, 'walk': 3, 'jostle': 2, 'strip': 2, 'skirmishes': 2, '*-73': 3, 'charge': 9, '*-74': 2, 'sense': 5, 'inadequacy': 2, 'beds': 2, 'girl': 2, 'them': 14, 'romance': 2, 'lives': 3, 'strongly': 3, 'presence': 4, 'front': 2, 'camera': 2, 'ends': 2, 'sound': 5, 'enviable': 2, 'achievement': 2, 'story': 3, 'both': 4, 'collaborated': 2, 'germans': 2, 'ii': 5, 'thousands': 4, 'continued': 2, 'lover': 2, 'latour': 2, 'rendering': 2, 'novel': 2, 'scenes': 2, 'portrayal': 2, ':': 3, 'look': 11, 'version': 3, 'sections': 2, 'accounting': 2, 'speculated': 4, 'ahead': 7, 'boost': 2, 'age': 4, 'contests': 2, 'fears': 4, 'empty': 2, 'ushering': 2, 'era': 3, 'campaigns': 3, 'pioneer': 2, 'started': 2, 'stirrings': 2, 'accelerated': 2, 'dawn': 2, 'often': 5, 'fights': 2, 'tone': 2, 'elections': 2, 'fills': 3, 'shot': 3, 'candidate': 3, 'mayor': 2, 'taxes': 3, 'master': 3, 'organization': 3, 'wait': 3, 'ad': 3, 'presumably': 2, 'candidates': 3, 'situation': 3, 'secret': 2, 'reservations': 2, 'language': 4, 'battle': 2, 'coleman': 2, 'greer': 2, 'analysts': 2, 'tradition': 2, 'image': 2, 'statue': 2, 'dissolves': 2, 'right': 6, 'cases': 7, 'dynamics': 3, 'least': 5, 'referendum': 3, 'series': 6, 'support': 3, 'close-up': 2, 'woman': 3, 'suggested': 6, 'lawyers': 2, 'rights': 3, 'him': 7, 'victims': 5, 'tired': 3, 'stigma': 2, 'scientist': 3, 'idea': 4, 'onus': 2, 'campaigning': 2, 'remainder': 4, 'questions': 8, 'drawing': 2, 'photograph': 2, 'pictures': 2, 'swim': 2, 'waste': 2, 'suing': 2, 'nose': 3, 'responded': 5, 'photographs': 3, 'barrel': 2, 'shrinks': 2, 'example': 3, 'building': 3, 'rout': 2, 'rockefeller': 2, 'appeared': 3, 'region': 4, 'interviews': 2, 'people': 9, 'suggest': 2, 'cooperation': 3, 'starts': 2, 'flow': 2, 'set': 5, 'commitments': 4, 'figure': 4, 'commitment': 2, 'sites': 2, 'memories': 2, 'domination': 2, 'japan': 7, 'fearful': 2, 'falling': 3, 'constraints': 2, 'burdens': 2, 'concentrated': 3, 'multinationals': 2, 'plants': 4, 'program': 6, 'asia': 2, 'integration': 2, 'specialist': 3, 'economies': 3, 'affairs': 3, 'tubes': 2, 'framework': 2, 'ministers': 2, 'rim': 2, 'speech': 3, 'secretary': 4, 'january': 2, 'as': 6, 'difficult': 2, 'dominance': 2, 'optimism': 2, 'undertone': 2, 'undersecretary': 2, 'commerce': 2, 'gain': 6, 'apprehensive': 2, 'uncertainty': 3, 'future': 2, 'leases': 2, 'bases': 2, 'politics': 3, 'test': 6, 'graders': 2, 'looking': 7, 'profession': 2, 'surrendered': 2, 'senate': 2, 'word': 2, 'answers': 2, 'section': 3, 'ok': 2, 'notes': 5, 'teacher': 4, 'best': 2, 'days': 6, 'anger': 2, 'stunned': 2, 'nature': 3, 'something': 5, 'light': 3, 'side': 3, 'pressures': 3, 'provisions': 5, 'alleged': 2, 'bonus': 4, 'depended': 2, 'also': 8, 'september': 3, 'friends': 5, 'concluded': 4, 'cheating': 2, 'inflated': 2, 'surfaced': 2, 'states': 5, 'responsibility': 3, 'erasures': 2, 'ones': 2, 'occurrences': 2, 'booklets': 2, 'short': 4, 'widespread': 2, 'common': 3, 'state': 3, 'districts': 2, 'lab': 2, 'grants': 2, 'went': 3, 'score': 2, 'the': 2, 'sat': 2, 'seriously': 2, 'testing': 2, 'department': 9, 'allegations': 2, 'purely': 2, 'partly': 5, 'worries': 3, 'track': 2, 'hill': 3, 'area': 5, 'faded': 2, 'bricks': 2, 'full': 5, 'enrollment': 2, 'over': 4, 'principal': 6, 'death': 3, 'serving': 2, 'elite': 2, 'spirit': 3, 'greenville': 2, 'ambitions': 3, 'dreamt': 2, 'students': 6, 'teaching': 2, 'pta': 2, 'freshman': 2, 'yeargin': 4, 'says': 8, 'civilization': 2, 'learned': 3, 'herself': 2, 'furniture': 2, 'homework': 2, 'stands': 3, 'points': 5, 'source': 7, 'gains': 4, 'bonuses': 2, 'salary': 4, 'others': 2, 'then': 3, 'interested': 5, 'job': 2, 'seminar': 3, 'feeling': 2, 'kids': 2, 'five': 2, 'usually': 3, 'bottom': 3, 'annually': 3, 'self-esteem': 2, '*t*-3': 7, 'badly': 2, 'cared': 2, 'although': 2, 'tried': 2, 'inkling': 2, 'prosecutor': 2, 'concedes': 2, 'sympathy': 2, 'believe': 4, 'law': 5, 'disclosure': 2, 'easy': 2, 'knife': 2, 'dismay': 2, 'perhaps': 2, 'measure': 3, 'unpopularity': 2, 'hearing': 2, 'testify': 2, 'show': 2, 'particulars': 2, 'better': 3, 'education': 2, 'editorials': 2, 'allowed': 2, 'conviction': 2, 'worthy': 2, 'especially': 5, 'logo': 2, 'angry': 3, 'hard': 3, '*t*-101': 2, 'aspersions': 2, 'doubt': 2, 'wisdom': 2, 'can': 2, 'guilty': 2, 'afraid': 2, 'answer': 3, 'name': 3, 'worksheets': 2, 'venture': 3, 'parallels': 2, '-rcb-': 2, 'parents': 2, 'purpose': 4, 'good': 6, 'generally': 3, 'kindergarten': 2, 'used': 2, 'reach': 3, 'materials': 5, 'asserted': 2, 'june': 2, 'classroom': 2, 'closeness': 2, 'symmetry': 2, 'measurement': 2, 'familiarization': 2, 'matched': 3, '66.5': 2, 'knowledge': 4, 'sounds': 3, 'exclusion': 2, 'contains': 2, 'examples': 2, 'familiar': 4, 'authors': 2, 'deny': 2, 'publication': 2, 'unaware': 2, 'foundation': 2, 'offices': 3, 'moratorium': 3, 'funding': 7, 'transplantation': 2, 'amounts': 5, 'tissue': 3, 'diseases': 2, 'soon': 2, 'institutes': 3, 'implications': 2, 'asked': 3, 'brain': 2, 'suffering': 2, 'majority': 6, 'continue': 3, 'posts': 2, 'helm': 2, 'centers': 3, 'names': 3, 'consideration': 2, 'views': 3, 'serve': 3, 'administration': 5, 'charged': 2, 'tests': 2, 'stressing': 2, 'standards': 5, 'handling': 3, 'moves': 2, '*ich*-4': 3, 'judgments': 2, 'dean': 2, 'thing': 3, 'warns': 2, 'unavailability': 2, 'climate': 2, 'incentive': 2, 'flap': 2, 'cause': 4, 'spends': 2, 'budget': 3, 'slightly': 3, '456.64': 2, 'volume': 5, 'beginning': 6, 'average': 6, 'index': 5, 'modestly': 2, 'banks': 6, 'merge': 3, 'merged': 2, 'anticipating': 2, 'trader': 4, 'issues': 8, 'buy-out': 5, 'york': 3, 'favor': 5, 'merger': 2, 'pennsylvania': 2, '1\\\\/4': 2, 'loss': 12, 'fluctuation': 2, 'entered': 2, '7\\\\/8': 2, 'turnover': 2, 'jumped': 2, 'radio': 2, 'shareholders': 4, 'convertible': 5, 'monday': 4, 'discussions': 4, 'disputes': 3, 'stake': 8, 'seats': 4, '10': 3, 'income': 8, 'attorneys': 5, 'cities': 2, 'outcry': 2, 'stem': 3, 'customer': 3, 'course': 3, 'payment': 6, 'asks': 2, 'punishable': 3, 'misdemeanor': 2, 'determined': 3, 'by': 2, 'argued': 4, 'irs': 2, 'acted': 2, 'witness': 2, 'dozens': 5, 'letters': 2, 'circumstances': 3, 'forms': 4, 'action': 7, 'house': 5, 'code': 3, 'ethics': 2, 'client': 4, 'actions': 3, 'stance': 2, 'lezovich': 2, 'spokesman': 10, 'confirmed': 2, 'hands': 4, 'returns': 7, 'assertions': 2, 'fees': 5, 'war': 3, 'ease': 2, 'practice': 4, 'ramirez': 2, 'couple': 4, 'me': 3, '*t*-4': 3, 'unjust': 2, 'litigation': 3, 'office': 9, 'guild': 3, 'east': 2, 'writer': 3, 'strike': 4, 'industry': 4, 'comment': 4, 'mainly': 3, 'threats': 3, 'punishment': 2, 'retaliating': 2, 'ruling': 2, 'opinion': 3, 'court': 4, 'appeals': 2, 'freedom': 3, 'limits': 3, 'judge': 2, 'bias': 2, 'comments': 3, 'calls': 3, 'inquiry': 2, 'weeks': 5, 'prison': 3, 'men': 2, 'publicly': 2, 'observing': 2, 'impartial': 2, 'trial': 2, 'courtroom': 2, 'sherwin': 2, 'stock': 8, 'block': 2, 'ended': 2, 'member': 7, 'firm': 5, '1987': 3, 'prosecution': 2, 'specialize': 2, 'served': 3, 'district': 3, 'consist': 4, 'feet': 2, 'acres': 3, 'step': 3, 'apologizing': 2, 'bids': 4, 'yen': 6, 'apology': 2, 'indulging': 2, 'fretted': 2, 'equivalent': 3, 'penny': 2, 'contracts': 2, 'auctions': 3, 'ministry': 5, 'executives': 5, 'apologize': 2, 'statement': 3, 'conference': 2, 'sorry': 2, 'reputation': 4, 'comes': 5, 'gifts': 2, 'coming': 2, 'complaints': 3, 'touch': 3, 'complain': 2, 'procurement': 2, 'companies': 7, 'announced': 3, 'contract': 9, 'through': 3, 'insisted': 4, 'know': 5, 'federation': 2, 'chain': 3, 'thrifts': 2, 'slowdown': 2, 'restructuring': 3, 'weakness': 2, 'slowing': 3, 'forecasts': 3, 'switch': 2, 'wafers': 2, 'speculate': 2, 'reductions': 2, 'invested': 3, 'aggressively': 2, 'low': 3, 'jitters': 2, 'bearish': 2, 'note': 5, 'dollar': 2, 'currency': 2, 'plunging': 2, 'resulting': 5, 'reasons': 2, 'tuesday': 5, 'paribas': 2, 'happen': 3, 'america': 2, 'purchases': 2, 'securities': 4, 'wave': 2, 'waiting': 2, 'contends': 2, 'perception': 3, 'announcement': 3, 'bid': 6, 'november': 2, 'diversify': 2, 'unclear': 2, 'traders': 5, 'prospect': 3, 'buying': 3, 'unabated': 2, 'street': 4, 'wednesday': 3, 'health': 3, 'expectations': 3, 'effect': 8, 'exchange': 3, 'gold': 2, 'ratings': 6, 'nbc': 2, 'debut': 2, 'night': 3, 'reruns': 2, 'considerably': 2, 'spin-off': 2, 'available': 4, 'now': 2, 'affiliate': 3, \"'\": 4, '*-76': 3, 'running': 3, 'worried': 2, 'syndication': 2, '2-8': 2, 'gillespie': 2, 'stations': 3, 'markets': 9, 'station': 2, 'representative': 3, 'cozy': 2, 'fawning': 2, 'survive': 2, 'fall': 7, 'scoop': 2, 'pieces': 3, 'topics': 2, 'essays': 2, 'things': 4, 'happens': 2, 'energy': 2, 'rampage': 2, 'aisles': 2, 'ire': 2, '*-79': 2, 'diagram': 2, 'product': 5, 'think': 8, 'magazine': 4, 'offender': 2, 'advertise': 4, 'soups': 2, 'economics': 3, 'require': 2, 'ads': 2, 'handful': 2, 'relied': 2, 'sell': 3, 'sleep': 3, 'hours': 4, 'programming': 4, 'europe': 2, '*-84': 2, 'distributor': 2, 'shows': 4, 'supplier': 2, '*-85': 3, 'clients': 5, 'agency': 5, '*-86': 2, 'specializes': 2, 'buy': 4, 'attempt': 2, 'interview': 3, 'leaving': 2, 'flexibility': 2, 'leeway': 2, 'possibility': 4, 'added': 5, 'containers': 2, 'pressure': 5, 'impose': 2, 'roofs': 2, 'minivans': 3, 'belts': 5, '*-89': 2, 'milestone': 2, 'safety': 6, 'extension': 2, '*-90': 2, '*-91': 2, 'surprising': 3, 'features': 2, 'luck': 2, 'communications': 2, \"'re\": 4, 'noting': 2, 'fatalities': 3, 'weight': 2, 'engineer': 2, 'resistance': 3, 'trucks': 2, 'pickups': 2, 'railcars': 2, 'delivery': 4, 'division': 4, 'retires': 2, 'partners': 2, '*-93': 2, 'bills': 6, 'banking': 3, 'prospectively': 2, 'conversations': 2, 'elaborate': 3, 'legislation': 4, '1989': 3, '16,000': 2, 'from': 3, 'exclusively': 2, 'holders': 4, '1\\\\/10th': 2, '*-96': 2, 'proprietor': 2, 'cellars': 2, 'tag': 2, 'restaurants': 2, 'peak': 2, 'wine': 3, 'dinner': 2, 'segments': 4, 'category': 2, 'stable': 3, 'rieslings': 2, 'riserva': 2, 'taken': 2, 'host': 3, 'zoomed': 2, 'seems': 2, 'releases': 2, 'growths': 2, 'smallest': 2, 'wines': 4, 'goes': 4, 'bottle': 2, 'vintage': 2, 'inching': 2, 'salon': 2, 'blanc': 3, 'cristal': 3, 'comtes': 2, 'encroaching': 2, 'reds': 2, 'soared': 2, 'march': 4, 'domaine': 2, '72': 2, 'anywhere': 2, 'tags': 2, 'corton-charlemagne': 2, 'barbaresco': 2, 'cabernet': 3, 'brunello': 2, 'shapiro': 2, 'shops': 2, 'happening': 2, 'supply': 3, 'acre': 2, 'retailer': 2, 'merchants': 2, '*-97': 2, 'instead': 6, 'retailers': 2, 'stores': 4, 'there': 2, 'opinions': 2, 'remarked': 3, 'about': 2, 'talked': 2, 'sort': 5, 'knowledgeable': 2, 'martin': 2, 'cellar': 2, 'chardonnays': 2, 'ideas': 2, 'find': 2, 'walking': 2, 'dominus': 2, 'looming': 2, 'clear': 4, 'survey': 2, 'sluggish': 2, 'quarter': 8, 'objective': 3, 'trend': 2, 'movement': 2, 'report': 2, 'weak': 2, 'reported': 4, 'manufacturer': 3, 'slow': 3, '*-101': 2, '*-102': 2, 'governors': 2, 'pushing': 2, 'chance': 2, '*-104': 2, 'expired': 2, 'shipments': 2, '*-105': 2, 'announce': 2, 'mature': 3, 'bickering': 2, 'entangled': 2, 'day': 2, 'disruption': 2, 'december': 2, '*-111': 2, 'estimates': 4, 'raise': 2, 'assuming': 2, 'aim': 3, 'balance': 2, 'marketer': 2, 'advantage': 8, '2645.90': 2, 'rose': 3, 'prospects': 5, '*-112': 2, 'wake': 3, 'risks': 4, 'what': 3, 'summary': 2, 'remains': 2, 'pattern': 2, 'fractionally': 2, 'employees': 4, 'private': 2, 'continuing': 2, 'proof': 2, 'alone': 3, 'clamped': 2, 'ankle': 2, 'which': 2, 'two-thirds': 2, 'believes': 5, 'gulf': 3, 'unchanged': 3, 'collapsed': 2, 'likelihood': 2, 'agreeing': 2, 'offers': 3, 'negotiate': 2, '*-114': 2, 'profits': 3, 'philadelphia': 2, 'retin-a': 2, 'medicine': 2, 'criticism': 2, 'larger': 2, 'skittishness': 2, 'disagree': 2, 'subject': 3, 'removal': 2, '*t*-183': 2, 'attention': 2, 'differences': 6, '*-116': 2, 'rhetoric': 2, 'signal': 3, 'need': 3, 'history': 3, 'opportunity': 3, 'openly': 2, 'briefing': 2, '-lcb-': 2, 'concerns': 2, 'media': 2, 'holding': 2, 'owner': 2, 'fires': 2, 'experience': 4, 'influence': 2, 'hay': 2, 'troubles': 3, 'table': 2, 'litany': 2, 'recommendations': 2, 'anxious': 2, 'agreed': 2, 'successful': 3, 'start': 5, 'focusing': 2, 'retort': 2, 'wrong': 3, 'process': 5, 'agree': 2, 'sheaf': 2, 'grows': 2, 'sights': 2, 'candela': 2, 'devices': 2, 'this': 5, '*-117': 2, 'projects': 2, 'positions': 3, 'acceleration': 3, 'control': 4, '*-118': 2, 'penetration': 2, 'anxieties': 2, 'fancy': 2, 'industries': 2, 'fabricator': 2, 'foundering': 2, 'window': 2, 'globally': 2, 'term': 3, 'largest': 2, 'particularly': 4, '*-119': 2, 'investing': 2, 'basis': 3, 'cut': 4, 'logjam': 2, 'problem': 4, 'queuing': 2, 'corporations': 4, 'subsidiaries': 3, 'affiliates': 2, '*-120': 2, 'duties': 2, '*-121': 2, 'certificate': 2, 'qualify': 2, 'world': 4, 'competed': 2, 'primarily': 3, 'loyalty': 3, 'services': 4, 'dead': 2, 'water': 2, 'loan': 3, 'help': 2, 'crowd': 2, 'credit': 3, 'borrowed': 2, 'packages': 3, 'segment': 3, 'sub-segments': 2, '55-year-old': 2, '75-year-old': 2, 'checks': 2, 'slew': 2, '*-122': 2, 'restrictions': 5, '*t*-201': 2, 'field': 3, 'certificates': 3, 'intense': 2, 'battles': 2, 'worrying': 2, 'moore': 2, 'thinking': 4, 'bulk': 2, 'move': 2, 'road': 2, 'demanding': 3, 'moving': 3, 'realize': 3, 'exercisable': 3, 'accessories': 2, 'teetering': 2, 's&l': 2, 'gift': 3, 'semesters': 2, 'rap': 2, 'institution': 2, 'lawyer': 2, 'washington': 3, 'halts': 2, 'arguing': 3, 'get': 6, '*-125': 2, 'limit': 6, 'trades': 8, 'futures': 5, 'remained': 2, 'rest': 4, 'flood': 2, 'maintained': 2, '13': 2, 'floor': 2, 'respite': 2, 'minutes': 3, 'lapses': 2, 'congressmen': 2, 'collar': 2, 'subcommittee': 2, 'comfortable': 2, '*-131': 2, '*-133': 2, 'studies': 2, 'fifteen': 2, '*-134': 2, 'committees': 2, 'art': 3, 'cascading': 2, 'parishioners': 2, 'chat': 2, 'rhythmically': 2, 'here': 4, '*-135': 2, 'peal': 2, 'churches': 2, 'britain': 2, 'youngsters': 2, 'sunday': 2, 'church': 6, 'sounding': 2, 'belfries': 2, 'ring': 2, 'flightiness': 2, 'ranks': 2, 'third': 4, 'sundays': 2, 'tunes': 2, 'carillons': 2, 'rhythm': 3, 'patterns': 2, 'disappears': 2, 'hole': 2, 'snaking': 2, 'make': 2, 'above': 2, 'madly': 2, 'places': 3, 'another': 2, 'ringing': 2, 'satisfaction': 2, 'bit': 3, 'band': 2, 'stays': 2, 'worship': 2, 'vicar': 4, 'tower': 2, 'today': 2, 'several': 2, 'six': 3, 'dust-up': 2, 'stairs': 2, 'ringers': 3, 'exit': 2, 'feelings': 2, 'live': 3, '*-139': 2, 'council': 2, 'colleges': 2, 'joys': 2, 'booklet': 2, 'bells': 2, 'priority': 2, 'bellringers': 2, '40,000': 2, 'like': 2, 'lucky': 2, 'ringer': 3, 'women': 2, 'extent': 2, 'newspaper': 3, 'letter': 2, 'frequency': 2, 'fainting': 2, 'tea': 2, 'torrent': 2, 'replies': 2, 'observed': 2, 'decorated': 2, 'flatulent': 2, 'wrote': 3, 'faint': 2, 'comfort': 2, 'arrival': 2, 'trap': 2, 'widow': 2, 'explains': 2, 'already': 2, 'dividends': 8, 'sliding': 2, 'expansion': 2, 'payouts': 2, 'advances': 2, 'unenticing': 2, 'rich': 2, 'watch': 2, 'exits': 2, 'boesel': 3, 'decades': 2, 'for': 2, 'troublesome': 2, 'currently': 2, 'behaving': 2, 'co-chairman': 2, 'committee': 2, 'tad': 2, 'weakening': 2, '*-142': 2, 'coxon': 2, 'einhorn': 3, 'position': 5, 'tally': 2, 'magnitude': 4, 'slippage': 2, 'harbinger': 2, 'mixed': 2, 'element': 2, 'likely': 2, 'upside': 2, 'plight': 3, 'business': 3, 'felt': 2, 'subsidiary': 4, 'claiming': 2, 'bell': 2, 'infringed': 2, 'established': 2, 'focus': 4, 'losses': 4, 'systems': 2, 'maintenance': 2, 'package': 3, 'china': 6, 'rapprochement': 2, 'spoke': 2, 'length': 2, 'near': 2, 'suppression': 2, 'demonstrators': 2, 'harped': 2, 'outrage': 2, 'proponent': 2, 'nations': 3, 'evident': 2, 'platitudes': 2, 'leaders': 4, 'assault': 3, 'april': 2, 'deeply': 2, 'occurred': 3, 'deteriorated': 2, 'crisis': 2, 'tense': 2, 'refuge': 2, 'embassy': 3, 'suspension': 3, '*-147': 2, 'traveling': 2, 'envoy': 2, 'proposed': 2, 'participation': 2, 'pulled': 2, 'infusion': 2, 'going': 4, 'yielding': 2, 'peng': 2, 'guards': 2, 'guns': 2, 'arrived': 2, 'arms': 3, 'contingent': 2, 'nearby': 2, 'protests': 2, 'rifles': 2, 'children': 2, 'institutions': 3, 'economy': 3, 'stakes': 2, 'barking': 2, 'asking': 2, 'impression': 2, 'harder': 3, '*-149': 2, 'do': 2, 'labor': 2, 'regrettable': 2, 'blacks': 2, 'approve': 5, 'disapprove': 2, 'imply': 2, 'three-quarters': 2, 'individuals': 2, 'violations': 11, '*-150': 2, 'vargas': 2, 'requirements': 2, '*-152': 2, '*-153': 2, 'listing': 2, 'otero': 2, '*-154': 2, 'rosenblum': 2, 'suspensions': 3, 'findings': 8, 'connection': 5, '*-157': 2, 'fine': 4, 'implication': 2, 'practices': 2, 'differ': 2, 'meaning': 3, 'requests': 2, 'complaining': 2, '*-158': 2, 'training': 2, 'fond': 2, '*-159': 2, 'onslaught': 2, 'furor': 2, 'abroad': 2, 'plunge': 2, 'see': 3, 'cope': 3, 'leap': 2, 'bout': 2, 'skyward': 2, 'half-hour': 2, 'have': 2, 'controls': 2, 'chunk': 3, 'arbitrage': 2, 'salomon': 2, 'disruptive': 2, '*rnr*-2': 2, 'increasingly': 2, 'conduit': 2, 'privacy': 2, '*-161': 2, 'manages': 2, '*-162': 2, 'following': 2, 'tenfold': 2, '917': 2, 'compares': 2, 'large': 2, 'wage': 5, 'vote': 3, 'replete': 2, 'critics': 3, 'hour': 5, 'small': 2, 'lifting': 2, '*-163': 2, 'smiles': 2, '*-164': 2, 'acceptance': 2, 'subminimum': 3, 'getting': 3, 'diming': 2, 'entrants': 2, 'worker': 2, 'chamber': 3, 'stages': 3, 'impossible': 3, 'elimination': 2, 'microcomputers': 2, 'acquisitions': 4, 'nekoosa': 2, 'surrender': 2, 'completion': 2, 'dilemma': 2, 'overpaying': 2, \"n't\": 3, 'winning': 2, 'signed': 2, 'post': 2, 'managed': 2, 'book': 2, 'fundraising': 2, 'hahn': 2, 'swiftly': 2, 'intelligence': 2, 'son': 3, 'grade': 2, 'rapidly': 3, 'kappa': 2, 'kentucky': 2, 'doctorate': 2, 'physics': 2, 'agrees': 3, 'turnaround': 2, 'slide': 2, 'cycles': 2, 'philosophy': 2, 'concentrating': 2, 'portions': 2, 'aid': 2, 'guarantees': 4, 'approved': 2, 'assistance': 2, 'contrasts': 2, 'remaining': 2, 'confined': 2, 'factor': 3, 'bill': 7, 'decisive': 2, '*-6': 2, 'portion': 4, '*-7': 2, 'variety': 4, 'exemption': 3, 'struggle': 2, 'fate': 2, 'quota': 3, '*-8': 2, 'tons': 2, 'growers': 2, 'pound': 2, 'further': 2, 'wary': 2, 'claim': 3, 'appropriations': 2, 'programs': 3, 'carries': 2, 'appropriators': 2, 'disagreement': 2, 'railings': 3, 'vehicles': 2, 'crashing': 2, 'planner': 2, 'slab': 2, 'openings': 2, 'park': 3, 'medallions': 2, 'citizens': 2, 'upset': 3, 'bridge': 2, 'barrier': 2, 'competes': 3, 'trays': 2, 'six-packs': 2, 'hang': 2, 'web': 2, 'cups': 2, 'carrier': 3, 'exhibition': 2, 'model': 2, 'teachers': 2, 'seed': 2, 'birds': 2, 'overcrowding': 2, 'cells': 2, 'enough': 2, 'preserving': 2, 'pyramids': 2, 'inmates': 2, 'fines': 2, 'penalties': 2, 'resulted': 2, 'known': 2, 'deficiencies': 2, 'injuries': 3, 'spite': 2, 'cooperating': 2, 'osha': 3, 'rising': 4, 'administrator': 2, 'edition': 2, 'discovered': 2, '*-18': 2, 'numbers': 4, 'complex': 3, 'quoting': 2, 'prevalance': 2, 'multitude': 2, 'disorders': 2, 'suffered': 2, 'aftereffects': 2, 'necessities': 2, 'consequence': 3, '*-19': 2, 'interactions': 2, 'generalizations': 2, 'understanding': 2, 'homelessness': 2, 'array': 2, 'thread': 2, 'combination': 3, 'decay': 2, 'living': 2, 'homeless': 2, 'fear': 6, 'scarcely': 2, 'fend': 2, 'fallen': 2, 'cracks': 2, 'ways': 2, 'dismiss': 2, 'sleeping': 2, 'inverse': 2, 'causes': 2, 'sponsors': 2, 'groups': 2, 'union': 2, 'insinuating': 2, '*-23': 2, 'desire': 2, 'participated': 2, 'someone': 2, 'predict': 3, 'substitute': 2, 'placement': 2, 'retractable': 2, 'easier': 2, 'intrusion': 2, 'suggests': 3, '*-25': 2, 'brakes': 2, '*-26': 2, '*-28': 2, 'airline': 2, 'filed': 3, 'creditors': 3, 'amendment': 2, '*-29': 2, 'lorenzo': 2, 'voice': 4, 'text': 3, 'you': 2, 'citizen': 2, 'cousins': 2, 'tours': 2, 'propaganda': 2, 'beauty': 2, 'mind': 2, 'dissemination': 2, 'columns': 2, 'listeners': 2, 'paid': 3, '*-30': 2, 'texts': 2, 'headquarters': 2, 'happened': 2, 'everyone': 3, 'mccormick': 2, 'plaintiffs': 2, 'stated': 2, 'credentials': 2, 'declared': 2, 'lawsuit': 2, 'helpful': 2, 'duty': 2, 'scripts': 3, 'neither': 2, 'stuff': 2, 'conclude': 3, 'eliminated': 2, '501': 2, '*t*-27': 2, 'co-owner': 2, 'tribune': 2, '*-37': 2, 'yet': 2, 'campbell': 3, 'evenly': 2, 'searching': 2, 'motive': 2, 'prudential-bache': 2, 'volatility': 3, 'heart': 2, 'results': 5, 'capacity': 6, 'rapport': 2, 'operations': 4, 'veteran': 2, '*-41': 2, 'heirs': 2, 'controlled': 2, 'died': 2, 'pushed': 2, 'closing': 2, 'eliminating': 2, 'agenda': 2, 'repeatedly': 2, '65': 2, 're-election': 2, 'pension': 2, 'confidence': 2, 'predicted': 2, 'duo': 2, 'loans': 2, 'brokers': 2, 'directly': 2, 'dealers': 2, 'multiples': 2, 'deposits': 2, 'quotations': 2, 'widely': 2, 'expenses': 3, 'resignation': 2, 'speculation': 4, 'clashed': 2, 'unheard': 2, 'evolved': 2, 'stay': 2, 'unhappy': 3, 'seemed': 2, '*-45': 2, 'heads': 2, 'bring': 2, 'included': 2, 'publisher': 2, 'books': 2, 'viewed': 2, 'respected': 2, '*-49': 2, 'pretext': 3, 'species': 2, 'interpretation': 3, 'clause': 4, 'veto': 4, 'congress': 3, 'partisans': 2, 'principle': 2, 'separation': 4, 'supported': 2, 'convention': 2, 'believed': 2, 'functions': 2, 'poorly': 2, 'articles': 2, 'limitation': 2, '*-52': 2, 'constitution': 2, 'decide': 3, 'intrusions': 2, 'violation': 2, 'appointments': 3, 'consent': 2, 'officers': 2, 'recess': 2, '605': 2, 'appropriation': 2, 'person': 2, 'filling': 2, 'nomination': 2, 'passage': 2, 'implies': 2, 'restriction': 2, 'matter': 3, 'inquiring': 2, 'into': 2, 'proviso': 2, 'suspect': 2, 'studying': 2, '609': 2, 'resolution': 2, 'accordance': 2, 'execution': 3, 'decision': 2, 'held': 2, 'kinds': 3, 'custom': 2, 'soviets': 2, 'unworkable': 2, 'means': 2, 'excision': 4, 'trespass': 2, 'prerogative': 2, 'discussed': 2, 'context': 2, '*-59': 2, 'merely': 2, 'conflict': 2, 'assertion': 2, 'downside': 2, 'vindication': 2, 'loses': 2, 'worse': 3, 'works': 3, 'presumes': 2, 'lying': 3, '48': 2, 'sphere': 2, 'powers': 2, 'attorney': 2, 'analysis': 2, 'droughts': 2, 'pockets': 2, 'increased': 2, 'farmers': 3, 'quantities': 2, 'crops': 2, 'commodities': 2, 'greatly': 2, 'surprise': 2, 'rebound': 2, 'depression': 2, 'nation': 2, 'followed': 2, 'drought': 2, 'setback': 2, 'land': 2, 'cultivation': 2, 'demise': 2, 'county': 2, 'valley': 2, 'losing': 2, 'stream': 2, 'editorially': 2, 'flirted': 2, 'format': 2, 'cornerstones': 2, 'alive': 2, '*-63': 2, 'castle': 2, 'apartment': 2, 'condition': 2, 'survivor': 2, 'deterioration': 2, 'founded': 2, 'examiner': 2, '1903': 2, '*-64': 2, 'respect': 2, 'though': 2, 'limping': 2, 'rival': 2, 'disclosures': 2, 'representatives': 2, 'bar': 2, 'reaction': 2, 'seen': 2, 'crying': 2, 'herald': 2, 'box': 2, 'concentrate': 2, 'home': 3, 'forces': 4, 'vacations': 2, 'their': 2, 'express': 2, 'promotion': 3, 'spokeswoman': 2, 'card': 4, 'conflicts': 2, 'laws': 2, 'nameplate': 3, 'fourth': 2, 'old': 2, 'incomes': 2, 'million': 2, 'plans': 2, 'divisions': 2, 'buick': 2, 'responsible': 3, 'fly': 2, 'lieu': 2, 'choose': 2, 'sweepstakes': 2, 'vacation': 2, 'tickets': 2, 'buyers': 2, 'deals': 2, 'cancellation': 3, 'borough': 2, 'engaged': 2, 'pounds': 2, 'accounted': 2, 'engage': 3, 'betting': 3, 'auditor': 2, 'vested': 2, 'engaging': 2, 'transactions': 3, 'persuasive': 2, 'avenues': 2, 'possible': 3, 'authorities': 2, 'arrangements': 2, 'appeal': 3, 'aftermath': 3, 'stockbrokers': 2, '*-69': 2, 'resentment': 2, 'baskets': 2, 'reeling': 2, 'middle': 2, 'ascendency': 2, 'consisting': 2, 'wizards': 2, 'pools': 2, 'proponents': 3, 'tens': 2, 'addition': 2, 'layer': 2, 'stung': 2, 'racket': 2, 'shortly': 2, '*-71': 2, 'conceding': 2, 'belongs': 2, 'focused': 3, 'headed': 2, 'turned': 2, 'employee': 2, 'managers': 2, 'divided': 2, 'nail': 2, 'shambles': 2, 'pickers': 2, 'neanderthals': 2, 'regulators': 4, 'concept': 2, 'discrepancies': 2, 'basket': 5, 'profitable': 2, 'eyes': 2, 'speed': 3, 'reason': 2, 'iota': 2, 'authority': 2, 'unraveling': 2, 'kicked': 2, 'everything': 2, 'bundles': 2, 'guard': 2, 'cents': 2, 'benchmarks': 2, 'portfolios': 2, 'pennies': 2, 'dinosaurs': 2, 'virtue': 3, 'monopoly': 2, 'skyrocketed': 2, 'buyer': 3, 'resort': 2, 'swings': 2, 'dismayed': 2, 'deck': 2, 'lower': 2, 'resent': 2, '*-75': 2, 'strategy': 2, 'hunker': 2, 'proven': 2, 'give': 2, 'chicago': 2, 'millionaires': 2, 'worth': 2, 'play': 2, 'thunder': 2, 'great': 2, 'marketplace': 2, 'requirement': 3, 'margins': 3, 'respond': 2, 'crash': 2, 'protects': 2, 'downward': 2, 'reinstatement': 3, 'psychology': 2, 'largely': 3, 'widget': 3, 'add': 2, 'opportunities': 2, 'arise': 2, 'cumbersome': 2, 'transacting': 2, 'inefficiencies': 2, 'evolve': 2, 'curses': 2, 'arguments': 2, 'executed': 2, 'functioning': 2, 'ownership': 2, 'ticket': 2, 'cautious': 2, 'investor': 2, 'goal': 2, 'with': 2, 'deviation': 2, 'advent': 2, '1928-33': 2, 'abounding': 2, 'deeds': 2, 'fixes': 2, 'ground': 2, 'interference': 2, 'loudest': 2, 'noble': 2, 'clippings': 2, '*-81': 2, 'grapple': 2, 'commissions': 2, '*-82': 2, 'next': 2, 'tight': 2, 'friction': 2, 'liquidity': 3, 'democrats': 2, 'warning': 2, 'device': 2, '*-83': 2, 'enforcement': 4, 'fee': 2, 'houses': 2, 'nothing': 2, 'staffs': 2, 'drastically': 2, 'excess': 3, 'treasury': 2, 'filings': 2, 'ratcheting': 2, 'initiative': 2, 'author': 2, 'efforts': 2, 'cue': 2, 'magleby': 2, 'stature': 2, 'folio': 2, 'prints': 2, 'variables': 2, 'gates-warren': 2, 'persky': 2, 'barth': 2, '1992': 3, 'gross': 2, 'caller': 2, 'west': 2, 'registration': 2, 'patients': 2, 'emphasis': 2, 'comeback': 2, 'mogavero': 2, 'inquiries': 2, 'covers': 2, 'viewership': 2, 'likeness': 2, 'tool': 2, 'benefit': 2, 'thinks': 2, 'dislike': 2, 'reporters': 2, 'quantity': 2, 'decorator': 2, 'adds': 4, 'skepticism': 2, 'disappear': 2, 'anything': 2, 'dealing': 2, 'options': 2, 'rigors': 2, 'arbitraging': 2, 'leery': 2, 'enzor': 2, 'arighi': 2, 'hunted': 2, 'bargains': 2, 'wholesaler': 2, 'crystals': 2, 'structures': 2, 'current': 3, 'amps': 2, 'centimeter': 2, 'appears': 2, 'wires': 2, 'films': 2, 'electricity': 2, 'family': 2, 'aspect': 2, 'samples': 3, 'links': 2, 'radioactivity': 2, 'feasible': 2, 'sigh': 2, 'relief': 2, 'publicized': 2, 'motion': 2, 'taylor': 2, 'impact': 2, 'pricings': 2, 'spread': 2, 'triple-a': 2, 'single-a': 2, '2029': 2, 'due': 2, 'rating': 2, 'coupon': 4, 'francs': 4, 'par': 3, '1994': 2, 'option': 2, '1\\\\/2': 2, 'guarantee': 3, 'fan': 2, 'proposition': 2, 'replacement': 2, 'sink': 2, 'profitability': 2, 'ranging': 2, 'moneymakers': 2, 'scoffs': 2, 'looked': 2, 'took': 2, 'wealth': 2, 'built': 2, 'own': 2, 'coliseum': 2, 'exercise': 2, 'forward': 2, 'schemes': 2, 'playgrounds': 2, 'pence': 2, 'disposal': 3, 'downgrading': 2, 'parent': 2, 'shivers': 2, 'realization': 2, 'issuers': 2, 'warned': 2, '62%-owned': 2, 'environment': 2, 'departure': 2, 'penchant': 2, 'disarray': 2, 'flag': 2, 'mahoney': 2, 'expectation': 2, 'century': 2, 'combined': 2, 'reliance': 2, 'squeeze': 2, 'boston': 2, 'financings': 2, 'repaid': 2, 'financing': 2, 'benefits': 2, 'backing': 2, 'participant': 2, 'disappointment': 2, 'rebounding': 2, 'bowman': 2, 'shearson': 2, 'rivals': 2, 'collapse': 2, 'toll': 2, 'underwriter': 2, 'settlements': 2, 'stemming': 2, 'almost': 2, 'showing': 2, 'grown': 2, 'confident': 2, 'vicissitudes': 2, 'plus': 2, 'engineering': 2, 'creator': 2, 'instrumental': 2, 'involvement': 2, 'ford': 2, 'proving': 2, 'failures': 2, 'courts': 3, '1940s': 2, 'daughters': 2, 'mothers': 2, 'prove': 2, 'assumption': 3, 'proportion': 2, 'liability': 3, 'tumbled': 2, 'approach': 2, 'liable': 2, 'apples': 2, 'takings': 2, 'knew': 2, 'vaccines': 2, 'understands': 2, 'incapable': 2, 'judges': 2, 'justices': 2, 'guilders': 3, 'incisions': 2, 'clouding': 2, 'habit': 3, 'incentives': 2, 'stressed': 2, 'estimate': 2, 'downturn': 2, 'compliance': 2, 'anticipation': 2, 'start-up': 2, 'edged': 2}, 'PRT': {'<unk>': 1, '*': 290, 'exposures': 2, 'show': 3, 'today': 7, 'attention': 3, 'boston': 5, '1953': 2, '*-1': 406, 'according': 33, '*-7': 2, 'poured': 2, 'ibc': 2, 'point': 5, 'funds': 4, 'day': 3, 'donoghue': 2, 'managers': 8, 'only': 3, 'blip': 3, 'monday': 2, 'rose': 4, ',': 14, 'fell': 5, 'slid': 3, 'energy': 2, 'operations': 2, 'government': 7, 'tuesday': 4, '*t*-1': 30, 'ceiling': 2, '*-2': 132, 'mazda': 2, 'corp.': 8, 'nation': 13, 'jet': 2, 'off': 3, 'prove': 2, 'company': 36, 'raced': 2, 'guests': 2, 'hauled': 2, 'pointed': 3, 'sponsor': 2, 'squeezed': 2, 'them': 12, 'return': 2, 'forward': 2, 'country': 10, 'korea': 3, 'sharply': 2, 'january': 2, 'year': 9, 'inc.': 5, 'zuckerman': 2, 'newsweek': 4, 'time': 4, '*ich*-2': 2, 'shore': 2, 'giveaways': 2, 'news': 2, '*-4': 6, 'led': 4, 'adviser': 3, 'speed': 2, 'turned': 5, '*u*': 6, '45': 3, 'each': 2, 'curry': 3, 'it': 11, 'tracking': 2, 'groups': 2, 'commission': 4, 'edison': 5, 'plant': 3, 'subject': 6, 'japan': 26, 'earlier': 3, 'dealers': 2, 'doubled': 2, '*t*-2': 22, 'directly': 2, 'computer': 3, 'stock': 3, 'research': 3, 'note': 2, 'cray': 3, 'designer': 2, 'cray-3': 2, 'roll': 3, 'up': 9, 'related': 5, 'report': 3, '*-3': 49, 'taipei': 2, 'parlors': 2, 'law': 2, 'as': 3, 'concern': 3, 'hills': 3, 'came': 6, 'pcs': 2, 'moleculon': 3, 'interest': 3, 'australia': 3, 'subsidiary': 2, 'unit': 3, 'response': 4, 'injury': 2, 'president': 14, 'aide': 2, 'cents': 5, 'canada': 2, 'him': 4, 'bought': 2, 'mae': 3, 'went': 6, 'snapped': 3, '*-41': 2, 'advantages': 2, 'investors': 6, 'attractive': 2, 'securities': 3, 'board': 12, 'creditors': 2, 'work': 2, 'erbamont': 2, 'pursuant': 4, 'october': 3, 'september': 6, 'chile': 2, 'austria': 2, 'fund': 2, 'kicked': 2, 'how': 2, 'brings': 2, 'runs': 2, 'and': 8, 'seeking': 2, 'premiums': 2, 'closed': 2, 'surged': 2, '1992': 3, 'barney': 2, 'resistant': 2, 'insist': 2, 'newgate': 2, 'come': 9, 'bonds': 3, 'bank': 2, '*-52': 2, 'americans': 2, 'credit': 2, 'default': 2, 'belongs': 2, 'key': 2, 'obstacles': 2, 'leveling': 2, 'taper': 2, 'pick': 3, 'lead': 9, 'yesterday': 6, 'conforms': 2, 'leading': 2, '%': 27, 'manufacturers': 3, 'association': 3, 'survey': 2, 'month': 2, 'you': 4, 'contributed': 5, 'department': 14, 'murakami': 2, 'novel': 2, 'belong': 3, 'sets': 2, 'god': 2, 'tokyo': 5, 'whiting': 2, 'way': 4, 'player': 2, 'commitment': 2, 'balls': 2, 'stand': 2, 'workers': 2, 'put': 4, 'talk': 2, 'manager': 2, 'take': 7, 'frustrating': 2, 'journal': 2, 'smokers': 2, 'minister': 2, 'market': 12, 'advertising': 2, 'carried': 2, 'colony': 2, 'sabhavasu': 2, '20,000': 2, 'hotel': 2, 'written': 2, 'people': 5, 'man': 2, 'loans': 4, 'hungary': 3, 'nemeth': 2, 'dam': 2, 'holder': 2, 'chaplin': 5, 'claim': 2, 'lane': 5, 'hangs': 2, 'curled': 2, 'returns': 2, 'turns': 3, 'dreamed': 2, 'children': 3, 'artist': 2, 'her': 4, 'playful': 2, 'dreadful': 2, 'taken': 4, 'rise': 3, 'giuliani': 3, 'down': 5, 'links': 2, 'dinkins': 4, 'woman': 3, 'city': 3, 'opposed': 3, 'wilder': 3, 'younger': 2, 'get': 3, 'season': 2, 'sensitivity': 2, 'florio': 3, 'courter': 7, 'goes': 3, 'jersey': 2, 'threat': 2, 'route': 2, 'asia': 6, 'contributing': 2, 'subordinate': 2, 'nations': 3, 'comes': 2, 'region': 3, 'not': 8, 'california': 4, 'sachs': 2, 'following': 2, 'washington': 3, 'world': 4, 'step': 4, 'u.s.': 4, 'counterweight': 2, 'skills': 3, 'answers': 5, 'me': 2, 'examination': 2, 'yeargin': 5, 'carolina': 4, 'students': 5, 'state': 6, 'help': 2, 'co.': 8, 'telegraph': 3, 'give': 2, 'organization': 2, 'administrators': 2, 'cannell': 2, 'school': 7, 'took': 3, 'prior': 3, 'bled': 2, 'clean': 2, 'ushered': 2, 'gave': 3, 'kids': 2, 'pair': 2, 'beth': 2, 'yielding': 2, 'addition': 6, 'important': 2, 'returned': 4, 'damage': 2, 'was': 2, 'complained': 2, '<s>': 6, 'message': 2, 'cranked': 2, 'explain': 2, 'opened': 3, 'macmillan': 2, 'britain': 3, 'similar': 4, 'justifying': 2, 'questions': 2, 'macmillan\\\\/mcgraw': 2, 'teachers': 2, 'similarity': 2, 'preparatives': 2, 'parallels': 2, 'advisory': 2, 'alzheimer': 2, 'parkinson': 3, 'huntington': 2, 'mason': 3, 'letter': 5, 'administration': 5, '*t*-113': 2, 'foundations': 2, 'turn': 2, 'nasdaq': 2, '1.01': 2, '1.39': 2, '1.28': 2, '3.23': 2, 'regions': 2, 'england': 5, 'bid': 2, 'hutton': 2, '3\\\\/4': 5, 'agreed': 3, '7\\\\/8': 3, '5\\\\/8': 5, '1': 2, 'federal': 2, 'weisfield': 3, 'group': 2, 'jaguar': 2, '1\\\\/4': 2, 'radio': 2, '4': 2, 'media': 2, 'rally': 9, \"''\": 4, 'client': 2, 'identities': 2, 'forms': 2, 'lawyer': 2, 'problem': 2, 'filling': 2, 'irs': 3, 'lawyers': 2, 'aba': 3, 'back': 7, 'end': 3, 'attorneys': 2, 'relating': 2, 'judges': 2, 'look': 3, 'make': 6, 'screenwriters': 2, 'union': 3, 'trudeau': 2, 'guild': 2, 'remarks': 2, 'defendant': 2, 'referring': 2, 'picking': 2, 'hampton': 2, 'gaf': 2, 'switching': 2, 'attorney': 2, 'ltd.': 2, 'companies': 2, 'contract': 4, 'firms': 4, 'contrary': 2, 'trouble': 2, 'central': 2, 'access': 9, 'go': 4, 'stations': 2, 'belonging': 2, 'million': 5, 'switch': 2, 'phase': 2, '*ich*-1': 3, 'factory': 2, 'membership': 2, 'mark': 2, 'climbed': 3, 'three': 2, 'wednesday': 2, 'dollar': 2, 'yen': 2, 'lock': 3, 'commitments': 2, 'viacom': 3, 'disappointment': 2, 'station': 2, 'find': 2, 'america': 3, 'magazine': 4, 'pointing': 3, 'packaging': 3, '*-80': 2, 'soup': 2, 'turning': 4, 'avenue': 2, 'sold': 2, 'bowed': 2, 'line': 2, 'enterprise': 2, 'ward': 2, 'offer': 3, 'containers': 7, '*-87': 2, '36': 2, '*-88': 2, 'buying': 3, 'reaction': 2, 'responding': 2, 'makers': 2, 'vehicles': 2, 'minivans': 2, 'requirements': 2, 'apply': 4, 'ford': 3, 'opposition': 3, 'lay': 2, 'employment': 2, 'business': 4, 'dividend': 2, '2': 2, 'due': 4, 'stag': 4, 'weighed': 2, '*rnr*-1': 2, 'lion': 2, 'bordeaux': 2, '60': 3, 'sells': 2, 'taittinger': 2, 'guigal': 2, 'france': 2, 'antinori': 2, 'spain': 2, 'marty': 2, 'coming': 5, '300': 2, '90': 3, 'going': 2, 'schaefer': 2, 'later': 2, 'creek': 2, 'opening': 2, 'appeal': 3, 'slow': 2, 'resistance': 2, '30': 3, 'fed': 4, 'closer': 3, 'economy': 3, 'looking': 2, 'bring': 2, '*?*': 2, '*-102': 2, 'materials': 2, 'shareholder': 2, 'owns': 2, 'copperweld': 2, 'pay': 3, 'costs': 2, 'night': 2, '847': 2, 'georgia-pacific': 6, 'reserve': 2, 'treasury': 3, 'profit': 2, 'tripled': 2, 'products': 2, 'stepping': 2, 'proposals': 2, 'gulf': 4, 'rule': 2, 'johnson': 3, 'rights': 2, 'retin-a': 2, 'countries': 2, 'public': 5, 'barriers': 3, 'journalists': 2, '-rcb-': 2, 'manhattan': 2, 'koito': 2, 'pickens': 2, 'week': 3, 'just': 2, 'sorting': 2, 'breaks': 3, 'york': 2, 'add': 2, 'mitsubishi': 3, 'relation': 2, 'mitsui': 2, 'services': 2, 'consultant': 2, 'pine': 2, 'thought': 2, 'nor': 2, 'throws': 2, 'stepped': 3, 'program': 3, 'banks': 3, 'switched': 2, '*-123': 2, 'loyal': 2, 'borrowers': 2, '*-124': 2, 'child': 2, 'crucial': 2, 'institution': 2, 'support': 2, 'poor': 8, 'equal': 2, '*-128': 2, 'merc': 2, 'pressure': 2, '*-130': 2, 'heating': 2, 'shut': 3, 'subcommittee': 2, 'reports': 2, 'peculiar': 2, 'unintelligible': 2, 'faithful': 2, 'church': 2, '*-136': 2, 'bell': 5, 'prize-fighter': 2, 'worked': 2, 'skip': 2, 'ringers': 2, 'set': 4, 'mary': 2, 'next': 3, 'admits': 2, 'speak': 2, 'council': 2, 'galling': 2, 'paul': 2, 'letters': 2, 'lady': 2, 'reference': 3, 'hospitable': 2, 'relative': 5, 'paying': 2, 'buy': 2, 'happen': 2, 'left': 2, '*-144': 2, 'never': 2, 'fall': 2, 'commit': 2, 'nixon': 3, 'visit': 5, 'beijing': 2, 'china': 6, 'referred': 4, 'toast': 2, 'ambassador': 2, 'buck': 2, 'columbia': 2, 'compared': 2, 'husband': 2, 'bush': 3, 'customer': 2, 'consented': 12, 'call': 2, 'firm': 7, 'losses': 2, 'nasd': 2, 'amounted': 3, 'ended': 2, 'anybody': 2, '*-6': 2, 'screwed': 2, 'emigrate': 2, 'shrug': 2, 'markets': 2, 'adds': 2, 'barrier': 2, 'strategies': 2, 'london': 2, 'session': 2, 'specialist': 2, 'exchange': 6, 'wage': 2, 'house': 4, 'acceded': 2, '16': 2, 'employers': 2, 'opens': 2, 'picked': 2, 'approach': 2, 'called': 2, 'police': 2, 'transition': 2, 'taking': 2, 'building': 2, 'paid': 2, 'soared': 2, 'gains': 2, 'committed': 2, 'aid': 4, 'both': 2, 'museum': 2, 'panama': 2, 'exports': 2, '*-10': 2, 'ties': 2, 'approval': 2, '*-11': 2, 'promptly': 2, 'backseat': 2, 'bridges': 2, 'relegated': 2, 'changes': 2, 'bridge': 2, 'takes': 2, 'travel': 2, 'blender': 2, 'chairs': 2, 'leningrad': 2, 'exposure': 3, 'solutions': 2, 'hazards': 2, 'indifference': 2, 'manpower': 2, 'osha': 2, 'person': 3, 'us': 2, 'made': 2, 'connected': 2, 'open': 2, 'be': 2, 'subscribe': 2, 'carrier': 4, 'tune': 3, 'in': 2, 'languages': 2, 'right': 2, 'traveling': 2, 'usia': 3, 'available': 3, 'thanks': 2, 'favorably': 2, 'mcgovern': 3, 'campbell': 6, '*-39': 2, 'wound': 2, 'performance': 2, 'dorrance': 2, 'stay': 2, 'increased': 3, 'spread': 2, 'guide': 2, '120': 2, '150': 2, '180': 2, '10,000': 3, 'publisher': 2, 'bernstein': 2, 'reported': 2, 'congress': 5, 'madison': 3, 'power': 2, 'fill': 2, '*-53': 2, 'nomination': 2, 'service': 3, 'recommendations': 2, 'alternatives': 2, 'orders': 2, 'amounts': 2, 'presentation': 2, 'court': 3, 'powers': 2, 'dispute': 2, '*-60': 2, 'farmers': 2, 'drove': 2, 'agency': 2, 'partly': 2, 'sector': 2, 'close': 2, '1989': 2, 'payments': 7, 'slipped': 2, 'alternative': 2, 'conversion': 2, 'herald': 3, 'bradley': 2, 'stood': 2, 'paper': 3, 'reader': 2, 'buick': 3, 'two': 2, 'doctor': 2, 'signing': 2, 'gmac': 2, 'international': 2, 'tickets': 2, 'fly': 2, 'companion': 2, 'airlines': 2, 'division': 3, 'ran': 2, 'citicorp': 2, 'street': 8, '*-70': 2, 'even': 2, 'guard': 2, 'ceos': 2, 'traders': 4, 'specialists': 3, 'program-trading': 2, '*t*-3': 2, 'losing': 2, 'keep': 2, 'clients': 2, 'stockbrokers': 2, 'indexers': 2, 'chicago': 3, 'battle': 2, 'says': 2, 'vanderbilt': 2, '--': 2, 'answer': 2, 'picks': 2, '*-78': 2, 'contribute': 2, 'responds': 2, 'sacrifice': 2, 'subtraction': 2, 'akin': 2, 'investor': 2, 'cater': 2, 'institutions': 2, 'allen': 2, 'filings': 2, 'fees': 2, 'missiles': 2, 'christie': 2, 'stieglitz': 2, 'sotheby': 2, 'migrate': 2, 'sprint': 2, 'receptive': 2, 'light': 2, 'returning': 2, 'move': 2, 'egnuss': 2, 'unfair': 2, 'figure': 2, 'atlanta': 2, 'game': 2, 'adapting': 2, 'immune': 3, 'young': 3, 'superconductors': 2, 'moody': 11, '1991': 5, 'digs': 2, 'cleveland': 2, 'thumbs': 2, 'but': 2, 'analysts': 2, 'pence': 2, 'industry': 2, 'shearson': 4, 'shoring': 2, 'risks': 2, 'stretch': 2, 'competition': 2, 'costly': 2, 'switzerland': 2, 'disadvantage': 2, 'plea': 2, 'half': 3, 'concept': 2, 'responsive': 2, 'applied': 2, 'limits': 2, 'hymowitz': 2, 'or': 2, 'gained': 2, 'len': 2, 'refer': 2, 'eye': 2, 'committee': 2, 'poland': 3, 'analyst': 2, 'earnings': 2, 'phasing': 2}, 'NUM': {'<unk>': 1, ',': 97, 'nov.': 18, 'than': 41, 'in': 114, 'early': 5, 'from': 30, 'to': 86, '9.8': 2, 'among': 2, '<s>': 27, 'the': 87, 'including': 3, 'of': 79, 'is': 9, 'by': 14, 'about': 40, 'place': 2, '--': 10, '$': 463, '1.5': 3, '352.7': 2, 'over': 8, 'was': 7, 'average': 3, 'a': 33, 'holds': 3, \"'s\": 12, '212': 2, '295': 2, 'employs': 3, '370': 2, '2.80': 2, '2.87': 2, '3.1': 5, 'for': 29, 'out': 3, 'indianapolis': 2, 'fortune': 2, 'or': 21, 'eat': 2, '101': 3, '5.29': 2, 'mere': 3, '5.39': 2, 'up': 11, '68': 2, '71': 3, 'increased': 2, '50.45': 2, '50.38': 2, 'increase': 2, 'effectively': 2, 'its': 7, 'their': 4, 'first': 12, 'totaled': 4, 'big': 4, 'down': 6, 'chapter': 4, '2': 9, '2.29': 2, '2.25': 2, '2.2': 3, 'next': 3, 'another': 3, 'around': 5, 'other': 3, 'off': 5, '250': 3, '55': 5, 'april': 8, 'two': 4, 'feb.': 2, 'dec.': 15, '737.5': 2, 'past': 10, '3': 5, '2.5': 2, 'byron': 3, 'disputed': 2, '49': 2, 'since': 7, '190': 2, '195': 2, 'at': 27, '140': 3, 'braidwood': 4, '245': 2, '72.7': 2, 'rose': 13, 'and': 35, 'grew': 2, 'october': 6, '100': 9, '120': 3, '98.3': 2, 'contain': 2, '15': 8, '30': 6, 'receive': 3, 'every': 2, '53': 3, '19.3': 2, '5.9': 2, '20.5': 2, 'these': 4, 'includes': 3, 'be': 3, 'special': 2, '64': 2, 'july': 2, 'new': 2, 'capacity': 2, 'billionaire': 2, 'adapted': 2, 'august': 2, '38.3': 2, '23': 2, 'owns': 3, 'additional': 2, '21': 4, 'total': 2, '50': 6, '10.2': 2, '37.3': 2, 'us$': 4, 'c$': 3, 'as': 8, '701': 2, '570': 2, 'latest': 2, 'offer': 2, '900': 2, '2.4': 3, 'march': 7, '1.82': 2, '84.29': 2, '86.12': 2, 'nearly': 5, 'oct.': 24, 'fell': 12, 'late': 3, 'startling': 2, '188': 3, 'after': 6, 'below': 6, '236.74': 2, '236.79': 2, 'fallen': 2, '415.6': 2, '415.8': 2, 'february': 2, '109.73': 2, 'climbing': 2, '127.03': 2, 'rising': 3, '234.4': 2, '497.34': 2, 'declined': 2, '191.9': 2, '99.1': 2, '88': 2, 'an': 3, 'low': 2, 'only': 15, 'with': 14, '0': 3, 'included': 2, 'under': 3, 'four': 2, 'just': 3, '19': 2, 'fund': 2, 'draw': 2, '450': 3, '2.44': 2, 'issue': 2, '85.1': 2, 'noticing': 2, 'into': 4, 'this': 2, 'popular': 2, 'combined': 2, 'between': 5, 'larger': 2, 'shows': 2, 'compare': 2, 'age': 3, 'legislation': 2, 'aug.': 3, '5.57': 2, '705.6': 2, 'answers': 2, 'carolina': 2, 'worst': 2, 'last': 5, 'greenville': 2, 'numeral': 2, '10': 11, 'introduction': 2, 'awarding': 2, 'on': 9, '150': 3, 'has': 6, '8': 24, 'that': 4, 'added': 3, '118.6': 2, '133.8': 2, 'roughly': 4, '145': 2, 'nasdaq': 2, 'gained': 4, 'gaining': 3, 'jumped': 3, 'surged': 3, '7': 8, '18': 4, '273.5': 2, 'rise': 2, '1': 11, '5': 5, '6': 7, '4': 5, '70.7': 2, '89.9': 2, '12': 3, '13': 3, '4.4': 2, 'tumbled': 2, '14': 2, 'lost': 2, 'slipped': 3, 'sept.': 8, '4.8': 2, '225.6': 2, 'least': 5, 'form': 2, '11': 4, 'killing': 2, 'round': 2, 'november': 3, 'january': 2, '1.8': 2, 'offered': 3, 'no.': 4, 'bid': 4, 'prefecture': 2, '``': 2, '32.8': 2, '28.6': 2, '29.3': 2, '28.4': 2, 'acquire': 2, '40': 6, '280': 2, 'deposits-a': 2, 'minimum': 2, '35.7': 3, '43': 2, 'equals': 2, '7.5': 2, '133.7': 2, '94': 2, '16': 2, 'above': 2, 'moderate': 2, '3.5': 2, 'prices': 2, \"n't\": 3, 'all': 4, 'bought': 2, '75': 3, '1.1': 4, '777': 2, '963': 2, '620': 2, '490': 2, '130': 8, 'weighing': 2, 'acquired': 2, 'june': 6, 'declining': 2, '121.6': 2, 'jan.': 2, '1.9': 2, 'his': 4, 'cask': 3, 'creek': 2, 'like': 2, 'rich': 2, 'unico': 2, 'hermitage': 2, 'check': 2, '-lrb-': 5, 'usual': 2, 'our': 2, '-lcb-': 2, 'dunn': 2, 'buy': 3, 'opus': 2, 'leap': 2, '9': 5, 'each': 4, 'due': 11, 'local': 2, '13.8': 2, '20': 6, '47.5': 2, '25.6': 2, '21.9': 2, '45': 2, '3.18': 3, '154.2': 2, '5.276': 2, '36.9': 2, '3.253': 2, '4.898': 2, '1.457': 2, 'several': 4, 'hundred': 3, '46.1': 2, '251.2': 2, '278.7': 2, '1.2': 3, 'meetings': 2, 'which': 2, '214': 2, '17': 3, 'targeting': 2, 'spread': 2, 'sell': 2, '2.3': 3, '4.1': 2, 's&p': 20, 'plunged': 3, 'opening': 2, 'moved': 2, 'same': 3, 'even': 2, 'no': 2, '*t*-1': 2, 'full': 2, 'keep': 2, 'her': 2, 'seen': 3, 'soared': 2, 'september': 2, 'current': 2, 'estimated': 3, 'followed': 2, 'perhaps': 3, 'expects': 2, '*-145': 2, 'eliminate': 2, 'china': 2, 'embassy': 2, 'while': 2, '*-3': 2, '*-5': 2, '#': 14, '23.72': 2, 'solid': 2, 'are': 2, 'floor': 2, '534': 2, '130.7': 2, '29.9': 2, '29.4': 2, '3.19': 2, 'sold': 2, '9.5': 3, '467': 2, '500': 5, '240': 2, 'fiscal': 19, '200': 5, '220': 2, 'remaining': 2, '9.3': 2, '27.1': 2, '17.3': 3, 'make': 2, 'good': 2, 'medium-sized': 2, '7.3': 2, '6.1': 2, 'been': 2, '4.3': 2, 'approximately': 2, 'choose': 2, 'raise': 2, '175': 2, '180': 2, '148.9': 2, '153.3': 2, 'approved': 2, 'passed': 2, 'run': 2, 'those': 2, '184': 2, 'get': 3, 'section': 5, 'paid': 2, '343': 2, '5.7': 2, '2.8': 2, '274': 2, 'posted': 2, 'got': 2, ':': 15, '%': 31, ';': 31, '*u*': 7, 'canada': 2, 'germany': 2, 'japan': 2, 'switzerland': 2, 'britain': 2, 'within': 4, '-rrb-': 2, '800': 2, '*': 2, 'despite': 2, '59.9': 2, '57.7': 2, '6.5': 2, '3.9': 2, '3.4': 2, '2.7': 2, 'expect': 2, '14.5': 2, '16.7': 2, 'exceeding': 2, 'what': 2, 'already': 2, '1.64': 2, '23.4': 2, 'five': 3, 'top': 2, '24': 2, 'some': 4, '3.8': 3, 'when': 2, 'representing': 2, 'have': 3, 'entrenched': 2, '6.79': 2, 'charge': 2, 'once': 2, '*t*-3': 2, 'record': 2, 'encourage': 2, 'say': 2, 'interesting': 2, '47': 2, '70': 2, '34': 3, 'cites': 2, 'dialing': 2, 'through': 2, 'minus': 2, 'how': 2, 'francisco-based': 2, '5.3': 2, '4.9': 2, '750': 2, 'yield': 12, '81.8': 2, '99': 4, '107': 3, '80.8': 2, '30.9': 2, 'mature': 2, '49.9': 2, '98': 2, 'carries': 2, 'fees': 6, 'fixed': 5, '60': 2, '106': 2, 'ballpark': 2, 'it': 2, 'needed': 2, '89.7': 2, '141.9': 2, '94.8': 2, '149.9': 2, '118': 2, '130.6': 2, '128': 2, '133': 2, '135': 2, '722': 2, '1.7': 3, '300': 2, 'until': 2, '52': 2, 'operates': 2, '1.6': 2, '235': 2, '113.2': 2, '144': 2, 'had': 3, 'eight': 2, '2.46': 2, '2.42': 2, '155': 2, '7.8': 2, '4.5': 2, '352.9': 2}, '-EOS-': {'<unk>': 1, '.': 2713, \"''\": 200, '...': 3, '-rrb-': 6, '?': 27, ':': 23, '``': 3, \"'\": 2, '@': 2, '%': 2, '--': 11, '-rcb-': 2, 'in': 2, '!': 4, 'england': 2, 'asada': 2, 'bridges': 2, 'cartons': 2, 'world': 2, 'root': 2, 'baltimore': 2, 'the': 2, '1989': 2, 'd.c.': 2, 's&p': 2, ',': 2, 'jihad': 2, '*t*-1': 2}, 'DET': {'<unk>': 1, 'join': 4, 'as': 109, ',': 642, '*-1': 7, 'of': 545, '<s>': 704, 'caused': 5, 'among': 13, 'enters': 4, 'symptoms': 2, 'corp.': 2, 'than': 37, 'to': 230, '``': 121, 'is': 79, 'having': 5, 'nor': 2, 'studied': 2, 'have': 47, 'led': 4, 'from': 86, 'and': 123, 'for': 202, 'in': 449, 'with': 118, 'times': 5, 'at': 124, 'be': 27, 'make': 19, 'support': 5, 'that': 115, 'regulate': 2, 'nations': 2, 'crocidolite': 2, 'by': 99, 'imposed': 3, 'virtually': 4, 'almost': 9, 'factory': 2, 'where': 15, 'into': 30, 'mixed': 2, \"''\": 40, 'ventilated': 2, \"'s\": 32, 'has': 18, 'eased': 2, '*-9': 2, 'because': 17, 'watch': 4, 'reached': 6, 'during': 22, 'after': 29, 'had': 20, '%': 6, ';': 15, 'holds': 2, '*-10': 2, 'formerly': 2, '*u*': 49, 'complete': 5, 'completed': 6, 'lifted': 2, \"n't\": 11, 'lift': 4, 'raise': 7, 'but': 57, '0': 140, 'been': 12, 'not': 16, 'on': 152, 'so': 8, 'welcomed': 2, 'even': 6, 'over': 32, 'boarding': 2, '--': 27, 'under': 28, 'knowing': 2, 'gave': 3, 'chefs': 2, 'registered': 2, 'reflecting': 3, 'showed': 5, 'setback': 2, 'casting': 3, 'stopped': 2, 'despite': 10, 'recorded': 2, 'far': 4, 'introduce': 5, 'plans': 2, 'underscore': 2, 'up': 21, 'fine': 2, 'justify': 3, 'proposed': 2, 'remain': 2, 'below': 10, 'made': 18, 'seemed': 3, 'just': 8, 'now': 8, 'ordered': 3, 'entertain': 2, 'through': 16, 'appealing': 2, 'down': 6, 'upheld': 3, 'found': 3, 'refund': 2, 'added': 3, 'set': 8, 'faces': 2, 'records': 2, 'opened': 3, 'withdraw': 2, 'providing': 3, 'if': 33, 'although': 8, 'least': 3, 'though': 9, 'announced': 5, 'fund': 4, 'project': 2, 'perhaps': 3, 'complicate': 2, 'besides': 2, 'include': 6, 'describe': 2, 'out': 10, 'presumably': 2, 'primarily': 2, 'favored': 2, 'without': 7, 'report': 3, 'first': 2, 'incurred': 2, 'expects': 2, 'claiming': 2, 'around': 11, 'world': 2, 'harms': 2, 'particularly': 2, 'creating': 2, 'aid': 2, 'initialing': 2, 'enact': 2, 'apply': 2, 'off': 8, 'list': 2, 'prompted': 2, 'what': 9, 'craft': 2, 'issue': 2, 'deemed': 2, 'merit': 2, 'such': 10, 'reach': 2, 'york': 2, 'wants': 5, 'half': 3, 'century': 2, 'computers': 2, 'changed': 3, 'year': 3, 'was': 25, 'developed': 4, 'became': 9, 'team': 3, 'modems': 2, 'via': 2, 'entered': 3, 'total': 2, 'concern': 2, 'acquire': 2, 'faulding': 2, 'barrels': 3, 'before': 17, 'operate': 2, 'following': 6, 'earlier': 10, 'watches': 3, 'imports': 2, 'turn': 3, 'direct': 4, 'until': 6, 'resume': 2, 'running': 2, 'throughout': 3, 'pursue': 3, '*-39': 2, 'show': 2, 'offering': 4, 'eliminate': 3, 'reducing': 3, 'addressing': 2, 'outside': 4, '*-44': 2, 'expanding': 2, 'which': 8, 'file': 3, 'all': 19, 'between': 12, 'marks': 3, 'reflects': 4, 'when': 26, 'above': 7, 'follows': 3, 'pick': 2, ':': 13, 'portfolios': 2, 'regulators': 2, 'triple': 2, 'about': 38, 'mirrors': 2, 'are': 18, 'issuing': 2, 'shares': 2, '50': 2, 'funds': 6, 'behind': 4, '*t*-1': 27, 'products': 2, 'hold': 3, 'offer': 5, 'get': 14, 'whipsaw': 2, 'paying': 6, 'markets': 2, 'see': 12, 'reflect': 3, 'buy': 7, 'clear': 3, 'whether': 11, 'permitted': 2, 'open': 2, 'settle': 2, 'stressed': 2, 'satisfying': 2, 'nearly': 5, 'remove': 3, 'since': 12, 'revive': 2, 'draw': 2, 'cite': 2, 'production': 2, 'slowdown': 2, 'excluding': 2, 'reported': 5, 'indicate': 3, 'signaling': 2, '*-55': 2, 'consider': 4, 'gauges': 2, 'reporting': 3, 'prove': 3, 'read': 4, 'perpetuate': 2, 'carries': 2, 'along': 2, 'meets': 2, 'offers': 5, '-lrb-': 5, 'dominating': 2, 'fact': 4, 'sidestep': 2, 'only': 12, 'letting': 2, 'invent': 2, 'took': 8, 'committed': 2, 'making': 6, 'face': 4, 'launched': 5, 'build': 7, 'back': 3, 'become': 7, 'once': 3, 'terminated': 2, 'modify': 2, 'entitles': 3, '*-71': 2, 'playing': 4, 'prepared': 2, 'score': 2, 'takes': 4, 'probably': 3, 'one': 5, '*-72': 2, 'returning': 2, 'gives': 5, 'artist': 2, 'tuck': 2, 'load': 3, 'strong': 2, 'glamorize': 2, 'managed': 2, 'yet': 2, 'needed': 3, 'killed': 2, 'mention': 3, 'die': 2, 'take': 15, 'hit': 2, 'years': 3, 'getting': 4, 'across': 12, 'trend': 2, 'attention': 2, 'unlike': 3, 'commercials': 2, 'then': 4, 'paid': 3, '*t*-2': 8, 'prosecute': 2, 'corruption': 2, 'unleashed': 2, 'opposed': 5, 'both': 4, 'telling': 3, 'ads': 2, 'admitted': 2, 'blamed': 2, 'against': 13, 'away': 3, 'launch': 2, 'featured': 2, 'recalling': 2, 'introduced': 4, 'gotten': 2, 'being': 4, 'put': 7, 'said': 2, 'devote': 3, 'aired': 2, 'featuring': 2, 'ad': 2, 'were': 7, 'keep': 5, 'propelling': 2, 'produce': 2, 'whereby': 2, 'capture': 2, 'parallel': 2, 'assemble': 2, 'u.s.': 2, 'play': 3, 'outstrips': 2, 'remains': 2, 'convey': 2, 'ease': 3, 'regard': 3, 'slow': 2, 'monopolize': 2, 'giving': 4, 'spotted': 2, 'surrendered': 2, 'use': 6, 'given': 4, 'display': 2, 'underline': 2, 'law': 4, '*exp*-2': 2, 'left': 3, 'her': 4, 'casts': 2, 'enhanced': 2, 'win': 4, 'beat': 4, 'teach': 2, 'schools': 2, 'beforehand': 2, 'posted': 4, 'posts': 2, '*ich*-3': 3, 'including': 8, 'like': 8, 'becoming': 3, 'suffered': 2, 'loved': 2, 'ran': 3, 'taught': 2, 'polish': 2, 'meant': 2, 'winning': 3, 'job': 2, 'attending': 2, 'near': 2, 'prevent': 5, 'class': 2, 'defeats': 2, 'help': 4, 'taking': 3, 'avoid': 5, 'yeargin': 2, 'turned': 2, 'give': 5, '*t*-3': 2, 'program': 2, 'expunged': 2, 'corridors': 2, 'carried': 2, 'did': 2, 'discovered': 2, 'find': 3, 'contain': 5, 'represent': 5, '-lcb-': 4, 'defeat': 2, 'aces': 2, 'division': 2, 'questions': 3, 'devised': 2, 'rate': 2, 'represented': 4, 'purchased': 2, 'unit': 3, 'research': 2, 'placed': 2, 'pending': 2, 'hampered': 2, 'assured': 2, 'defuse': 2, 'head': 2, 'finding': 2, 'provide': 4, 'genes': 3, 'got': 3, 'legislation': 4, 'approve': 5, 'stocks': 5, 'saw': 3, 'share': 3, 'signed': 3, 'assuming': 3, 'begin': 2, 'stock': 2, 'seek': 3, 'post': 2, 'cents': 15, 'forces': 2, 'red-flag': 2, 'received': 9, 'want': 5, 'tip': 2, 'formed': 2, 'passed': 2, 'condemning': 2, 'heads': 2, 'committing': 2, 'act': 2, 'bring': 3, 'discuss': 3, 'submit': 2, 'why': 5, 'obtain': 2, 'or': 23, 'used': 2, 'sending': 2, 'test': 3, 'called': 2, 'judges': 2, 'rejected': 4, 'bill': 4, 'blinks': 2, 'suing': 2, 'mounted': 2, 'crossing': 2, 'began': 5, 'honor': 2, 'reviewing': 2, 'seeks': 2, 'preventing': 2, 'bar': 2, 'programs': 3, 'prohibits': 2, 'assist': 2, 'obtaining': 2, 'activities': 2, 'violate': 8, 'sentencing': 2, 'cruising': 2, 'breach': 2, 'exhibited': 2, 'involving': 3, 'discredit': 2, 'manipulate': 2, 'joined': 3, 'rebuked': 2, 'bid': 2, 'lost': 4, 'won': 5, 'involved': 2, 'investigating': 3, 'released': 2, 'sale': 2, 'design': 3, 'plan': 2, 'force': 2, 'approved': 8, 'retaining': 2, 'operates': 2, 'bought': 2, 'automation': 2, 'charge': 3, 'cover': 3, 'counting': 2, 'company': 3, '*-2': 3, 'underpin': 2, 'kept': 4, 'while': 14, 'traced': 2, 'cites': 3, 'redeeming': 2, 'measures': 2, 'indicates': 2, 'stations': 3, 'much': 2, 'air': 2, 'comedies': 2, 'week': 2, 'gets': 3, 'can': 3, 'debut': 2, 'consumers': 2, 'folks': 2, 'advertisers': 2, 'alienated': 2, 'raised': 5, 'precisely': 4, 'product': 2, 'created': 5, 'less': 2, 'need': 3, 'firms': 3, 'sold': 3, 'it': 6, 'sell': 10, 'awarded': 2, 'campaign': 2, 'increase': 2, 'sweetened': 2, 'us': 3, 'means': 2, 'vans': 2, 'issued': 2, 'represents': 4, 'headrests': 2, 'urging': 2, 'address': 2, 'praised': 3, 'withstand': 3, 'meet': 4, 'installing': 2, 'joins': 3, 'told': 5, 'who': 2, 'cut': 5, 'adopted': 2, 'cent': 2, 'cabernet': 2, 'estimation': 2, 'included': 2, '*rnr*-1': 2, 'boast': 2, 'crack': 2, 'upon': 4, 'steal': 2, 'de': 2, 'wines': 3, 'command': 2, 'exhausted': 2, 'seen': 3, '*ich*-1': 5, 'grapes': 2, 'yielded': 2, 're-thought': 2, 'country': 2, 'wine': 2, 'worth': 2, '*?*': 4, 'salon': 2, 'lowering': 2, 'hardly': 3, 'how': 5, 'achieving': 2, 'slowing': 2, 'hopefully': 2, 'expecting': 2, 'shown': 2, 'there': 2, 'always': 2, 'exercise': 3, 'rights': 2, 'reject': 2, 'expect': 4, 'bills': 2, 'approves': 2, 'clearing': 2, 'book': 2, 'dollar': 2, 'debt': 2, 'boosted': 2, 'trading': 5, 'yen': 3, 'transaction': 3, 'rebuffed': 2, 'reviewed': 2, 'eliminated': 2, 'own': 3, 'becomes': 3, 'planned': 2, 'lessening': 2, 'finance': 3, 'representing': 2, 'challenging': 2, 'filed': 3, 'patented': 2, 'licensed': 2, 'color': 2, 'tokyo': 2, 'discussing': 2, 'maintaining': 2, 'came': 2, 'chastised': 2, 'acquired': 3, 'gain': 3, 'highlight': 2, 'areas': 2, 'badly': 2, 'meeting': 2, 'crossed': 2, 'provides': 2, 'facing': 3, 'another': 2, 'view': 3, 'parallels': 2, 'catch': 2, 'mitsubishi': 2, 'using': 3, 'usually': 2, 'do': 5, 'double': 2, 'omitted': 2, '*-4': 2, 'plus': 3, 'banking': 2, 'segmenting': 2, 'services': 2, 'within': 6, 'begot': 2, 'promoting': 2, 'niches': 2, 'deregulation': 2, 'removed': 2, 'offered': 2, 'cultivated': 2, 'doing': 4, 'audience': 2, 'bank': 2, 'especially': 2, 'split': 2, 'amend': 2, 'delete': 2, 'resubmit': 2, 'helping': 3, 'institution': 3, 'experience': 2, 'taken': 2, 'go': 2, 'institute': 2, 'reinstating': 2, 'late': 2, 'afternoon': 2, 'fell': 2, 'hitting': 2, 'limit': 3, 'lessen': 2, 'orders': 2, 'knocked': 2, 'aggravated': 2, 'grant': 2, 'sec': 2, 'breakers': 2, 'angered': 2, 'done': 2, 'writing': 2, 'study': 2, 'attended': 2, 'carry': 3, 'scenes': 2, 'amid': 2, 'calling': 2, 'bells': 3, 'also': 3, 'enjoying': 2, 'herald': 2, 'drive': 2, 'train': 2, 'diminish': 2, 'group': 2, 'keeps': 2, '*': 4, 'varying': 2, 'altering': 2, 'pulling': 2, 'rope': 2, 'retard': 2, 'intoxication': 2, 'passion': 2, 'sacked': 2, 'club': 2, 'treated': 2, 'reopen': 2, 'tower': 2, '*t*-4': 2, 'publish': 2, 'high': 2, 'attacking': 2, 'surfaced': 2, 'quite': 2, 'known': 2, 'true': 2, 'spiders': 2, 'growth': 2, 'dividends': 2, 'makes': 2, 'level': 2, 'keeping': 2, 'pushes': 2, 'escaped': 2, 'factors': 2, 'suggests': 2, '*ich*-2': 2, '138': 2, 'trailed': 2, 'measure': 2, 'boost': 3, 'deliver': 2, 'vs.': 2, 'market': 4, 'replace': 2, 'start': 2, 'sued': 2, 'dropped': 2, 'enter': 2, 'lacked': 2, 'hired': 2, '1972': 2, 'motion': 2, 'strains': 2, 'afflicted': 2, 'normally': 2, '3-4': 2, 'ordering': 2, 'damaged': 2, 'confidence': 2, 'expressed': 2, 'demonstrations': 2, 'rebellion': 2, 'brief': 2, 'acknowledge': 2, 'welcome': 2, 'weapon': 2, 'gained': 3, 'encircling': 2, 'clicked': 2, 'raising': 3, 'passing': 2, 'choose': 2, 'visited': 2, 'spending': 2, 'improve': 2, 'speaks': 2, 'perpetuates': 2, 'disciplined': 2, 'marina': 2, 'return': 3, 'described': 2, 'plays': 2, 'resist': 2, 'forgotten': 2, 'operators': 2, 'reaped': 2, 'ascribe': 2, 'either': 2, 'pay': 4, '4,645': 2, 'early': 2, 'reflected': 2, 'urged': 2, 'bend': 2, 'accepted': 2, 'adopting': 2, 'beyond': 2, 'fought': 2, 'sets': 2, 'uses': 2, 'wage': 2, '*-165': 2, '*-166': 2, 'leading': 2, 'negotiating': 2, 'seeing': 2, '*-3': 2, 'onto': 2, 'researching': 2, 'occupying': 2, 'joining': 2, 'demonstrating': 2, 'engineered': 2, 'inherited': 2, 'attributes': 2, 'companies': 3, 'poland': 2, 'shaping': 2, 'accommodate': 2, 'reallocate': 2, 'receive': 5, 'related': 2, 'draws': 2, 'still': 2, 'nickel': 2, 'bidding': 2, 'broadened': 2, 'abandon': 2, 'insert': 2, 'move': 3, 'funding': 2, 'losing': 2, 'lose': 2, 'calls': 3, 'blocks': 2, 'negotiated': 2, 'install': 2, 'resembles': 2, 'acknowledges': 2, 'hang': 2, 'supplies': 2, 'runs': 5, 'includes': 2, 'benefits': 2, 'shape': 2, 'building': 2, 'covering': 2, 'workers': 2, 'counteract': 2, 'regarding': 2, 'office': 3, 'contest': 2, 'contesting': 2, 'identified': 2, 'colleagues': 2, 'emphasized': 2, 'lack': 2, 'predispose': 2, 'develop': 2, 'understanding': 2, 'exhibits': 2, 'simultaneously': 2, 'quote': 2, 'reality': 2, 'played': 2, 'groups': 2, 'know': 2, 'profit': 2, 'organizations': 2, 'thunderbird': 2, 'redeem': 2, 'weaken': 3, 'veto': 3, 'override': 2, 'department': 2, 'acquisitions': 2, 'review': 3, 'block': 3, '-rrb-': 4, 'require': 4, 'let': 3, 'amendment': 2, 'purchase': 2, 'previously': 2, 'print': 3, 'people': 2, 'agency': 2, 'does': 4, 'barred': 2, 'copy': 3, 'transcribe': 2, 'sounded': 2, 'conversations': 2, 'declared': 2, 'except': 3, 'noted': 2, 'notwithstanding': 2, 'check': 2, 'examine': 2, 'determine': 2, 'notes': 2, 'sought': 3, 'proscribes': 2, 'abridging': 2, 'prescribe': 2, 'washington': 2, 'visiting': 2, 'machine': 2, 'you': 2, 'suddenly': 2, 'power': 2, 'reshaping': 2, 'think': 2, 'harper': 2, 'closing': 2, 'convince': 2, 'run': 4, 'naming': 2, 'applaud': 2, 'financing': 2, 'handled': 2, 'divisions': 2, 'intimidate': 2, 'again': 2, 'guarding': 2, 'deny': 2, 'president': 4, 'clause': 2, 'congress': 2, 'emasculate': 2, 'swallow': 2, 'discussed': 2, 'perform': 3, 'contradict': 2, 'technically': 2, 'placing': 3, 'contained': 2, 'rewrite': 2, 'protecting': 4, 'sign': 3, 'strip': 2, 'empowers': 2, 'vacancies': 2, 'commissions': 2, 'repeals': 2, 'provisions': 2, 'ii': 2, 'requires': 2, 'select': 2, 'prevents': 3, 'prohibiting': 2, 'enforce': 2, 'regulation': 2, 'acts': 2, 'learned': 2, 'treat': 2, 'assert': 2, 'declaring': 2, 'riders': 2, 'exerting': 2, 'asserts': 2, 'court': 2, 'extending': 2, 'drawing': 2, 'later': 2, 'attributed': 3, 'confirms': 2, 'explain': 2, 'log': 2, 'good': 2, 'fall': 2, 'causing': 2, 'prices': 3, 'turns': 2, 'dominates': 2, 'copies': 2, 'target': 2, 'executed': 2, 'built': 2, 'strike': 2, 'brightened': 2, 'whom': 2, 'filling': 2, 'default': 2, 'explaining': 2, 'disclose': 2, 'broaden': 2, '-rcb-': 2, 'accept': 3, 'realize': 2, 'mailing': 2, 'screened': 2, 'missed': 2, 'test-drive': 2, 'exceed': 2, 'illegal': 2, 'should': 2, 'retraced': 2, 'swaps': 2, 'owed': 2, 'backed': 2, 'exhaust': 2, 'work': 2, 'authorities': 2, 'quashing': 2, 'futures': 2, 'control': 2, 'cause': 3, 'turning': 3, 'stop': 3, 'telephone': 2, 'pressure': 2, 'waited': 2, 'wrote': 2, 'traders': 2, 'co.': 2, 'firm': 2, 'beg': 2, 'case': 3, 'constitute': 2, 'involve': 2, 'earns': 2, 'seize': 2, 'dumped': 2, 'mirror': 2, 'hear': 4, 'stacking': 2, 'system': 2, '1929': 2, 'link': 2, 'destroy': 2, 'thus': 2, 'basically': 2, 'owns': 2, 'performing': 2, 'surrounding': 2, 'executing': 2, 'creature': 2, 'evoking': 2, 'unless': 2, 'causes': 2, 'initiating': 2, 'trader': 2, 'attract': 2, 'hailing': 2, 'bringing': 2, \"'re\": 2, 'championing': 2, 'amass': 2, 'surely': 2, 'matter': 2, 'gaining': 2, 'affect': 2, 'offset': 2, 'roughly': 2, 'completing': 2, '2,000': 2, 'sanctions': 2, 'noticed': 2, 'ballots': 2, 'odd-year': 2, 'increasing': 3, 'auctions': 2, 'finally': 2, 'callers': 2, 'currently': 2, 'costs': 2, 'thing': 2, 'break': 2, 'tree': 2, 'eliminates': 2, 'customers': 2, 'centers': 2, 'spurned': 2, 'shortages': 2, 'spurring': 2, 'fasteners': 2, 'bearing': 2, 'considers': 2, 'spook': 2, 'citing': 3, 'me': 2, 'limiting': 2, 'hurt': 2, \"'m\": 2, 'recouped': 2, 'weather': 2, 'moving': 2, 'process': 2, 'creates': 2, 'breathed': 2, 'overcome': 2, 'involves': 2, 'pins': 2, 'solved': 2, 'determining': 2, 'indicating': 2, 'sweeping': 2, 'fielded': 2, 'endorse': 2, '*ich*-4': 2, 'erect': 2, 'pence': 4, 'community': 2, 'maintain': 2, 'retain': 2, 'transformed': 2, 'concerns': 2, 'commitments': 2, 'acquires': 2, 'slump': 2, 'followed': 2, 'drexel': 2, 'cutting': 2, 'circulated': 2, 'diminished': 2, 'approach': 2, 'produced': 3, 'cars': 2, 'enabling': 2, 'those': 2, 'change': 2, 'holding': 2, 'stretched': 2, 'notch': 2, 'compassion': 2, 'suspend': 2, 'essentially': 2, 'marketed': 2, 'expanded': 2, 'makers': 2, 'reasoning': 2, 'chilled': 2, 'favors': 2, 'forced': 2, 'raises': 2, 'introduces': 2, 'create': 2, 'trash': 2, 'guilders': 3, 'helped': 2, 'send': 2, 'wrecking': 2}, 'CONJ': {'<unk>': 1, 'old': 3, 'lorillard': 2, 'institute': 2, 'university': 2, '1950s': 2, 'cancer': 2, 'hollingsworth': 3, 'schools': 2, 'curly': 2, 'cotton': 2, 'fibers': 2, 'workers': 3, '``': 16, 'dividends': 3, 'maturities': 2, 'overseas': 2, 'grace': 2, ',': 307, 'approval': 3, 'babcock': 2, 'people': 4, '*rnr*-1': 10, 'sales': 3, 'parts': 2, 'raton': 2, '<s>': 168, 'royalty': 2, 'pont': 2, 'steel': 2, 'orchestra': 2, 'champagne': 2, 'executives': 2, 'traffic': 2, 'food': 4, 'crews': 2, 'cars': 4, 'name': 2, 'dinner': 2, 'stars': 2, 'mignon': 2, '--': 14, 'trade': 9, 'conflicts': 2, '1990': 4, 'maintaining': 2, 'weeklies': 2, 'news': 3, 'meet': 2, '1989': 2, 'newsweek': 2, 'telephones': 2, '*rnr*-4': 2, 'co.': 6, 'bid': 4, 'demand': 2, 'substantial': 2, 'request': 2, 'president': 14, 'electronics': 2, 'current': 2, 'commission': 2, 'state': 2, '1': 2, 'appeals': 2, 'order': 2, 'increase': 3, 'expenses': 2, 'million': 5, 'unreasonable': 2, 'trucks': 11, 'august': 2, 'increasing': 2, 'vehicles': 2, 'chairman': 5, 'securities': 4, 'leaves': 2, 'again': 4, 'fragile': 2, 'market': 6, 'corp.': 5, 'research': 5, 'cray': 2, ';': 12, 'taiwan': 5, 'copyrights': 2, 'brazil': 2, 'investigations': 2, 'creativity': 2, 'scientists': 2, 'authors': 2, 'investing': 2, 'force': 3, 'officers': 2, 'movie': 2, 'law': 4, 'standards': 2, 'greece': 2, 'u.s.': 13, 'patent': 3, 'turkey': 2, 'malaysia': 3, 'washington': 4, 'principal': 2, 'pet': 2, 'screens': 2, 'wozniak': 2, 'home': 2, 'sol': 2, 'keyboards': 2, 'faster': 4, 'gates': 2, 'hayes': 2, 'faulding': 2, 'stock': 6, 'perch': 2, 'seahorse': 2, 'islands': 2, 'producer': 4, 'philippines': 5, 'resigned': 2, 'overhead': 2, 'achieved': 2, 'capacity': 4, 'half': 2, 'founder': 2, 'they': 3, 'france': 3, 'sachs': 3, 'return': 2, 'japanese': 2, 'aerospace': 2, '*-2': 3, 'simon': 3, 'york': 5, 'upham': 2, 'far': 2, 'diversify': 2, 'political': 2, '%': 8, '1987': 3, 'asia': 2, 'analysts': 3, 'spring': 2, 'bank': 4, 'goods': 2, 'lufkin': 4, 'committee': 2, '*t*-1': 7, 'area': 2, 'october': 3, 'milk': 2, \"''\": 19, 'spillane': 2, 'groucho': 2, 'much': 2, 'marriages': 2, 'imaginative': 2, 'anything': 2, 'language': 2, 'work': 3, 'miles': 2, 'practice': 2, 'ball': 2, 'it': 4, 'manager': 2, 'business': 6, 'science': 2, 'books': 3, 'more': 4, 'stores': 2, 'centers': 2, 'discos': 3, 'hospitals': 2, 'lumpur': 2, 'posters': 2, 'cigarettes': 2, 'japan': 2, 'consumers': 2, '1979': 2, 'organizations': 2, 'organization': 2, 'associates': 2, 'costs': 3, 'czechoslovakia': 2, 'par': 2, 'inc.': 7, '*t*-2': 5, 'black': 2, 'men': 4, 'magicians': 2, 'blessing': 2, 'shop': 2, 'whimsical': 2, 'fighters': 2, 'cocoa': 2, 'untrained': 2, 'shallow': 2, 'kind': 3, 'fighting': 2, 'eating': 2, 'loose': 2, 'company': 3, 'ltd.': 2, 'last': 2, 'age': 3, 'bold': 2, 'jersey': 2, 'campaign': 2, 'receipts': 2, 'shrum': 2, 'true': 3, 'office': 2, 'freedom': 2, 'choose': 2, 'rape': 2, 'goodman': 2, 'shadows': 2, '13': 3, 'ads': 2, 'governor': 2, 'pinocchio': 2, 'mean': 2, 'up': 3, 'fits': 2, 'domination': 2, 'assistance': 2, 'lead': 2, 'thailand': 2, 'jobs': 3, 'investor': 3, 'public': 3, 'economic': 3, 'asian': 2, 'transportation': 2, 'korea': 2, 'flows': 2, 'marbles': 2, 'region': 2, 'house': 4, 'questions': 4, 'students': 4, 'projector': 2, '*-1': 7, 'guilty': 2, 'laurels': 2, 'bitterness': 2, 'friend': 2, 'her': 2, 'systems': 2, 'professor': 2, 'year': 7, 'high': 5, 'carolina': 3, 'promotions': 2, 'recognition': 2, '*t*-4': 2, 'best': 2, 'townes': 2, 'violence': 2, 'gangs': 2, 'neighborhoods': 2, 'faculty': 2, 'funding': 2, 'energy': 3, 'school': 2, 'fired': 2, 'staff': 2, 'days': 4, '1986-87': 2, 'proposed': 2, 'civilization': 2, 'architecture': 2, 'plans': 2, 'cocky': 2, 'pride': 2, 'section': 2, 'mistake': 2, 'by': 3, 'officials': 2, 'resignation': 2, 'astonishment': 2, 'superiors': 2, 'teachers': 3, 'curriculum': 2, 'charges': 2, 'workbooks': 2, 'two-sevenths': 2, 'test': 4, 'tests': 3, 'educators': 2, 'software': 4, 'he': 7, 'psychiatrist': 2, 'cat': 3, 'pie': 2, 'instruction': 2, 'matches': 2, 'kaminski': 2, 'brownell': 2, 'modify': 2, 'savings': 6, 'h.n.': 2, 'insurance': 2, 'health': 7, 'diabetes': 2, \"'s\": 5, 'mason': 2, 'legal': 2, 'nih': 3, 'abortion': 2, 'scientific': 2, 'tissues': 2, 'trust': 2, 'connecticut': 3, 'l.p.': 2, '1\\\\/2': 2, 'iii': 3, 'client': 2, 'one': 4, 'number': 2, 'off': 2, '*t*-3': 2, 'irs': 2, 'review': 2, 'individual': 2, 'permission': 2, 'three': 2, 'ballplayers': 2, '...': 2, 'herrington': 2, 'harass': 2, 'tv': 2, 'confidential': 2, 'unfair': 2, 'counseling': 2, 'promote': 2, 'providers': 2, 'bias': 2, 'homosexual': 2, 'judiciary': 2, 'brown': 3, 'buildings': 2, 'manufacturing': 2, 'contracts': 2, 'hardware': 2, 'social': 2, 'businessmen': 2, 'semiconductors': 2, 'fujitsu': 3, 'hiroshima': 2, 'papers': 2, 'cash': 4, 'owns': 3, 'plants': 3, 'french': 2, 'banks': 3, 'industry': 2, 'slowly': 2, 'stephens': 2, 'industrial': 2, 'yen': 2, 'companies': 4, 'debt': 3, 'day': 2, 'affiliates': 2, '*': 2, 'episodes': 2, 'ratings': 2, 'uncomfortable': 2, 'articles': 2, 'guys': 2, 'advertisers': 2, 'polyproplene': 2, 'electric': 2, 'advertising': 2, 'editor': 4, '*u*': 26, 'printed': 2, 'first': 2, 'know': 2, 'telephone': 5, 'ogilvy': 2, 'young': 3, 'free': 2, 'service': 3, 'pick-up': 2, 'braun': 2, 'investor-relations': 2, 'assets': 3, 'ag': 2, 'shareholders': 2, 'stena': 2, 'financial': 2, 'cargo': 2, 'danforth': 2, 'bags': 2, 'seats': 2, 'pounds': 2, 'lap': 2, 'imminent': 2, 'massachusetts': 2, 'operations': 3, 'accessories': 2, 'metals': 2, 'shops': 2, '-lrb-': 3, 'romanee-conti': 2, 'perignon': 2, 'yquem': 2, '1985': 2, 'country': 2, \"'40s\": 2, 'bottle': 2, '-rrb-': 2, 'wholesale': 2, 'excited': 2, '-rcb-': 2, '*-99': 2, 'burgundies': 2, 'cabernets': 2, 'sells': 2, 'tache': 2, 'california': 4, 'guffey': 2, 'sooner': 2, 'machinery': 2, 'appliances': 2, 'hotel': 2, 'effective': 3, '1993': 2, 'division': 2, 'notes': 3, 'monday': 2, 'tuesday': 2, 'wednesday': 2, 'thursday': 2, 'november': 2, 'billion': 2, 'maker': 2, 'noodles': 2, 'prices': 4, 'profits': 4, 'marks': 3, 'mining': 2, 'employees': 2, 'services': 2, 'controls': 2, 'simmons': 4, 'nl': 4, 'restructure': 2, 'september': 2, 'alternatives': 2, 'aggressive': 2, 'stanley': 3, 'equity': 3, 'johnson': 5, 'damages': 2, 'researcher': 3, 'government': 3, 'emotions': 2, 'dallara': 2, 'structures': 2, 'miti': 2, 'markets': 2, 'capital': 2, 'mitsui': 2, 'stones': 2, 'products': 3, 'small': 5, 'technology': 3, 'executive': 2, 'itoh': 2, 'construction': 2, 'ships': 2, 'product': 3, 'interest': 2, 'fueling': 2, 'airlines': 2, 'years': 6, 'box': 3, 'deposits': 2, 'packages': 2, 'card': 2, 'geography': 2, 'activities': 3, 'fargo': 2, 'computerize': 2, 'income': 2, 'deposit': 2, 'minneapolis': 2, 'regional': 2, 'thrifts': 2, 'attracting': 2, 'training': 2, 'develops': 2, 'equipment': 2, 'demise': 2, 'hope': 2, 'institutions': 2, 'chevrolet': 2, 'press': 2, 'worth': 2, 'standard': 8, 'price': 2, 'stocks': 4, 'finance': 2, 'vague': 2, 'issue': 2, 'michael': 2, 'morning': 2, 'octogenarians': 2, 'major': 2, '5,000': 2, 'ropes': 2, 'starting': 2, 'advance': 2, 'completeness': 2, 'abbot': 2, 'strong-willed': 2, 'vicar': 2, 'ringing': 2, 'life': 2, 'parishes': 2, 'attract': 2, 'cathedral': 2, 'acne': 2, 'unwashed': 2, 'lynch': 3, 'males': 2, 'growth': 5, 'economy': 3, 'low': 2, 'adviser': 2, 'hint': 2, '1971': 2, 'cigna': 2, 'appreciation': 2, 'wealthy': 2, 'lawsuit': 2, 'canadian': 2, 'structurally': 2, 'manufacturers': 2, 'beijing': 2, 'excessive': 2, 'respect': 2, 'turmoil': 2, 'victim': 2, 'china': 2, 'lizhi': 2, 'bush': 3, 'rights': 2, 'community': 2, 'contacts': 2, 'police': 2, 'diplomats': 2, 'conditions': 2, 'relations': 2, 'offices': 2, 'accept': 2, 'performance': 2, 'mr.': 2, 'minority': 2, 'firms': 3, 'suspended': 2, 'henry': 2, 'admitting': 7, 'triton': 2, 'crane': 2, 'escrow': 2, 'sanctions': 2, 'keehn': 2, 'inappropriate': 3, 'whelen': 2, 'firm': 3, 'markup': 2, 'comment': 2, 'fine': 10, 'barred': 2, 'compliance': 2, '*-3': 3, 'suspension': 2, 'london': 2, 'tokyo': 2, 'session': 2, 'customers': 2, '*rnr*-2': 3, 'counter': 2, 'on': 2, 'fee': 2, 'earlier': 2, 'proponents': 2, 'quickly': 2, 'nickel': 2, 'unions': 2, 'accommodate': 2, 'navigation': 2, 'nekoosa': 2, 'hahn': 3, 'pulp': 3, 'oil': 2, 'gas': 2, 'repair': 2, 'credit': 2, 'funds': 4, 'warming': 2, 'jamaica': 2, 'restrictions': 2, 'enforcement': 2, 'senate': 2, 'justice': 2, 'repaired': 2, 'vehicle': 2, 'sidewalk': 2, 'stands': 2, 'less': 3, 'design': 2, 'moscow': 2, 'carnegie-mellon': 2, '1920s': 2, 'walls': 2, 'philadelphia': 2, 'safety': 7, 'record-keeping': 2, 'electrical-safety': 2, 'penalties': 2, 'maintenance': 2, 'penalty': 2, 'clairton': 2, 'if': 2, 'resources': 2, 'hazards': 2, 'citations': 2, 'morrell': 2, 'us': 2, 'ill': 2, 'understood': 2, 'illness': 4, 'problems': 2, 'diseases': 2, 'assaults': 2, 'privacy': 2, 'cleanliness': 2, 'difficult': 2, 'study': 2, 'women': 2, 'children': 3, 'alcohol': 2, 'robbed': 2, 'drugs': 2, 'builders': 2, 'bricklayers': 2, 'greed': 2, 'ymca': 2, 'ywca': 2, 'usa': 2, 'families': 2, 'regal': 2, 'depressions': 2, 'television': 2, 'bill': 2, 'works': 2, 'wages': 2, 'two': 2, 'reporter': 2, 'scholar': 2, 'agency': 2, 'hear': 2, 'viewpoint': 2, 'viewing': 2, 'reporters': 2, 'read': 2, 'manually': 2, 'editorial': 2, 'letters': 2, 'officially': 2, 'facts': 2, 'position': 2, 'researchers': 2, 'publicly': 3, 'appearing': 2, 'week': 2, 'so': 2, 'there': 2, 'machine': 2, 'information': 3, 'departure': 2, 'u.k.': 3, 'targets': 2, 'plc': 2, 'lazzaroni': 2, 'overproduction': 2, 'baum': 2, 'profitability': 2, 'along': 2, 'confidence': 2, 'levels': 2, 'newhouse': 2, '31': 2, 'bernstein': 2, 'agenda': 2, 'huge': 2, 'businessman': 2, 'administrator': 2, 'duties': 5, 'erroneous': 2, 'presidency': 2, 'text': 2, 'independence': 2, 'void': 2, 'advice': 2, 'this': 2, 'sense': 2, 'management': 2, 'program': 3, 'congress': 2, 'signature': 2, 'ins': 2, 'gorbachev': 2, 'unconstitutional': 2, 'morrison': 2, 'activity': 2, 'power': 2, 'yields': 2, 'belt': 2, 'grain': 2, 'little': 2, 'nebraska': 2, 'lobbies': 2, 'corn': 2, 'iowa': 2, 'rise': 2, 'soybeans': 2, 'pasadena': 2, 'tire-kickers': 2, 'davis': 2, 'blue-collar': 2, '1967': 2, 'coverage': 2, 'yesterday': 2, 'forward': 2, 'ago': 2, 'owner': 2, 'lenders': 2, 'all': 2, '18': 2, 'travel': 2, 'part': 2, 'truth-in-lending': 2, 'gm': 2, 'merchants': 2, 'accommodations': 2, 'tours': 2, 'ticket': 2, 'clock': 2, 'transactions': 2, 'council': 2, 'hammersmith': 3, 'fees': 3, 'citibank': 2, 'peabody': 2, 'trading': 2, 'fierce': 2, 'neuberger': 3, 'in': 2, 'months': 3, 'traders': 3, 'seat': 2, 'contradictions': 2, 'tooth': 2, 'exchange': 2, 'cheaper': 2, 'purchase': 2, 'experts': 2, 'ual': 2, 'computers': 2, 'specialist': 2, 'crash': 2, 'sweatshirts': 2, 'down': 2, '20s': 2, 'buy': 5, 'futures': 3, 'chicago': 2, 'match': 2, 'fast': 2, 'quick': 2, 'foreign': 2, 'addition': 2, 'arbitrage': 2, 'liquidity': 2, 'commissions': 3, 'here': 2, 'harder': 2, 'department': 3, 'investors': 2, 'acquisitions': 2, 'reductions': 2, 'mergers': 3, 'ftc': 4, 'referenda': 2, 'environment': 2, 'documented': 2, 'corporations': 2, 'stieglitz': 2, 'horoscopes': 2, 'tutorials': 2, 'canine': 2, 'pressure': 2, 'appetite': 2, 'schlemmer': 2, 'marine': 2, 'landfills': 2, 'do': 2, 'overvalued': 2, 'schwab': 2, 'fluctuations': 2, 'rates': 2, 'volatility': 2, 'spot': 2, 'wines': 2, 'or': 2, 'generators': 2, 'samples': 2, 'loan': 2, 'offerings': 2, 'terms': 2, '1991-2000': 2, 'insured': 2, '2009': 4, 'housing': 2, 'fourth': 2, 'coupon': 2, 'takashima': 2, 'antonio': 2, 'baseball': 2, 'stadiums': 2, 'bond': 2, 'benefits': 2, 'packaging': 2, 'gains': 2, 'borrowings': 2, 'shearson': 2, 'buy-out': 2, 'buy-outs': 2, 'anticipated': 2, 'retail': 2, 'investment': 2, 'uncertainties': 2, 'taurus': 2, 'veraldi': 2, 'designers': 2, 'bureaucracy': 2, 'thunderbird': 2, 'car': 2, 'understand': 2, 'miscarriages': 2, 'administration': 2, 'differently': 2, 'hymowitz': 2, 'process': 2, 'des': 2, 'development': 2, 'lives': 2, 'pain': 2, 'daughters': 2, 'lord': 2, 'care': 2, 'salvador': 2, 'larger': 2, 'pressures': 2, 'active': 2}, 'NOUN': {'<unk>': 1, '<s>': 774, 'pierre': 2, '61': 4, 'the': 2729, 'nonexecutive': 6, 'director': 2, 'mr.': 316, 'is': 22, 'of': 702, 'elsevier': 2, 'publishing': 15, 'rudolph': 4, '55': 2, 'former': 15, 'consolidated': 3, 'gold': 3, 'fields': 2, 'industrial': 12, 'a': 885, 'make': 18, 'kent': 8, 'cigarette': 5, 'high': 21, 'cancer': 6, '30': 15, ',': 822, 'asbestos': 3, 'brief': 4, 'causing': 2, 'up': 10, 'lorillard': 4, 'york-based': 5, 'loews': 2, 'makes': 3, 'using': 7, 'its': 156, 'micronite': 2, 'preliminary': 5, 'latest': 12, 'in': 562, \"'s\": 373, 'new': 242, 'england': 10, 'old': 18, 'about': 20, 'before': 7, 'questionable': 3, 'no': 61, 'our': 21, 'neither': 6, 'any': 65, 'on': 120, 'useful': 2, 'whether': 5, 'at': 85, '*t*-1': 80, 'james': 19, 'a.': 15, 'dana-farber': 2, 'dr.': 14, 'national': 20, 'medical': 12, 'harvard': 2, 'and': 460, 'boston': 6, '0': 95, 'modest': 2, 'making': 9, 'different': 13, 'billion': 10, '33': 6, 'three': 26, 'expected': 5, 'surviving': 2, 'asbestos-related': 4, 'diagnosed': 2, '18': 8, 'malignant': 2, 'lung': 3, 'morbidity': 2, 'striking': 2, 'west': 3, 'paper': 8, 'industrialized': 3, 'by': 126, '&': 64, 'vose': 2, 'under': 18, 'with': 88, 'including': 15, 'common': 26, 'most': 12, 'other': 75, 'higher': 19, 'needle-like': 2, 'as': 78, 'to': 168, 'brooke': 2, 't.': 12, 'vermont': 2, 'chrysotile': 2, 'environmental': 7, 'protection': 2, 'gradual': 2, 'all': 27, 'remaining': 2, 'cancer-causing': 2, '160': 2, 'made': 3, 'large': 18, 'burlap': 2, 'imported': 3, 'huge': 8, 'acetate': 2, 'dry': 4, '``': 124, 'blue': 5, 'over': 11, 'though': 4, 'exhaust': 2, 'those': 23, 'darrell': 2, 'vice': 39, 'human': 7, 'for': 218, 'these': 56, 'took': 11, '35': 5, 'work': 8, 'force': 6, 'mutual': 8, 'amid': 2, 'that': 161, 'portfolio': 6, 'further': 8, 'interest': 20, 'seven-day': 3, 'compound': 5, 'taxable': 3, 'money': 23, 'fund': 7, 'percentage': 5, '8.45': 3, '8.47': 2, 'ended': 5, 'assume': 2, 'current': 19, 'average': 16, \"'\": 45, '41': 4, 'early': 14, 'longer': 4, 'declining': 3, 'permit': 4, 'shorter': 2, 'rising': 5, 'because': 12, 'stronger': 4, 'brenda': 2, 'malizia': 2, 'recent': 50, 'short-term': 8, 'six-month': 6, 'treasury': 11, '8.04': 3, '7.90': 3, 'pour': 2, 'into': 18, 'money-fund': 2, 'vary': 2, 'highest': 6, 'top': 8, '9': 8, 'dreyfus': 2, 'world-wide': 4, 'top-yielding': 2, '9.37': 2, '9.45': 2, 'dollar-denominated': 4, 'waiving': 2, 'management': 15, 'simple': 4, '400': 3, '8.12': 2, '8.14': 2, '8.19': 2, '8.22': 2, '30-day': 7, '8.53': 2, '8.56': 2, 'j.p.': 2, 'w.r.': 4, '83.4': 2, '%': 49, 'energy-services': 2, 'succeeds': 3, 'terrence': 2, 'd.': 6, 'grace': 3, 'seven': 7, 'board': 13, 'pacific': 7, 'first': 54, 'financial': 37, 'royal': 2, 'trustco': 2, 'holding': 11, 'regulatory': 9, 'mcdermott': 2, 'international': 35, 'wilcox': 2, 'bailey': 3, 'controls': 4, 'finmeccanica': 2, '.': 5, 'mechanical': 5, 'engineering': 4, '2,700': 2, 'annual': 17, 'federal': 54, 'suspended': 2, 'u.s.': 113, 'savings': 13, 'government': 23, 'until': 11, 'debt': 10, 'borrowing': 4, 'midnight': 3, 'capital-gains': 3, 'next': 46, 'if': 20, 'clark': 2, 'j.': 15, 'senior': 12, 'general': 24, 'this': 131, 'marketing': 10, 'japanese': 78, 'auto': 10, 'maker': 3, 'mazda': 2, 'motor': 7, 'oversee': 2, '43': 3, 'chrysler': 4, '20': 11, 'biannual': 2, 'manufacturing': 15, 'sunny': 2, 'resort': 2, 'like': 22, 'boca': 3, 'hot': 3, 'hoosier': 2, 'fall': 4, 'or': 44, 'rock': 3, 'than': 16, 'factory': 9, 'corporate': 24, 'decision': 2, 'rust': 2, 'good': 21, 'receiving': 2, 'from': 64, 'du': 2, 'lesser': 2, 'trojan': 2, 'valley': 5, 'queen': 2, 'cheese': 2, 'joined': 3, 'mayor': 3, 'william': 20, 'h.': 5, 'hudnut': 2, 'an': 134, 'indianapolis': 3, 'symphony': 2, 'guest': 2, 'pianist-comedian': 2, 'victor': 3, 'police': 3, 'their': 118, 'red': 5, 'lieutenant': 2, 'special': 9, 'buffet': 3, 'where': 10, 'everyday': 2, 'four': 11, 'official': 4, '500': 16, '10-lap': 2, 'exhibition': 2, 'had': 11, 'another': 28, 'back': 3, 'few': 21, 'renovated': 2, 'indiana': 4, 'roof': 2, 'hottest': 2, 'them': 3, 'duckling': 2, 'lobster': 2, 'veal': 2, 'chocolate': 2, 'raspberry': 2, '--': 23, 'standing': 2, 'red-carpet': 2, 'heartland': 2, 'future': 14, 'winter': 2, 'south': 31, 'trade': 26, 'economic': 30, '*': 13, 'industry': 11, 'monthly': 7, 'export-oriented': 2, '0.7': 2, 'while': 17, 'last': 70, 'prolonged': 3, 'labor': 6, 'sluggish': 4, 'gloomy': 2, 'accumulated': 2, '4': 5, 'same': 29, '19': 6, 'keep': 5, 'rival': 3, 'time': 6, 'advertising': 5, 'incentive': 4, 'ad': 16, 'washington': 4, 'post': 3, 'second': 9, 'offered': 6, 'give': 7, 'advertisers': 2, 'increasing': 9, 'permanent': 3, 'news': 9, 'fierce': 2, 'between': 12, 'warner': 2, 'mortimer': 2, 'b.': 7, 'world': 15, 'alan': 4, 'newsweek': 2, '5': 7, 'four-color': 2, 'guaranteed': 3, 'circulation': 5, 'rate': 10, 'page': 3, 'lower': 15, '7.5': 2, 'per': 4, 'full': 9, '1990': 9, 'credit': 13, 'awards': 2, 'space': 2, 'renewal': 2, \"''\": 79, '1989': 10, 'nine': 7, ';': 74, '3.2': 3, 'publishers': 2, 'information': 4, 'what': 11, 'both': 29, 'gaining': 2, 'heavy': 8, 'electronic': 5, 'recorded': 2, 'audit': 4, '7.3': 2, 'six': 19, '2.6': 3, 'electric': 4, 'public': 17, 'service': 6, 'potential': 10, 'leaves': 2, 'united': 16, 'illuminating': 3, 'northeast': 4, 'outside': 7, 'internal': 7, 'reorganization': 5, '11': 5, 'bankruptcy': 7, 'independent': 5, 'acquire': 4, '*u*': 58, 'john': 30, 'executive': 38, 'electricity': 4, 'improved': 5, 'operating': 11, 'five': 14, 'long': 16, 'political': 16, 'worried': 2, 'owns': 5, 'attracts': 2, 'risk': 4, 'wilbur': 2, 'ross': 2, 'rothschild': 2, 'troubled': 6, 'equity': 4, '4.8': 2, '5.5': 2, 'complicated': 3, 'state': 21, 'energy': 4, 'seeking': 5, 'possible': 12, 'expedited': 2, 'hampshire': 2, 'closed': 4, '25': 7, 'york': 31, 'stock': 73, 'composite': 8, 'norman': 3, '52': 2, 'us': 4, 'frederick': 3, 'deane': 2, 'signet': 2, 'banking': 13, '*-15': 2, 'consumer': 9, 'appliances': 2, 'retailing': 2, 'succeed': 5, 'daniel': 3, 'm.': 10, 'retired': 3, 'circuit': 9, 'robert': 23, 'r.': 12, '12-member': 2, 'commonwealth': 15, 'edison': 6, 'illegal': 3, 'cost': 3, 'nuclear': 6, 'power': 3, 'illinois': 4, 'commerce': 13, 'local': 18, 'court': 12, 'judge': 16, 'richard': 13, 'ordered': 2, 'since': 13, 'million': 27, 'begin': 2, 'his': 85, 'refund': 2, '*-1': 9, 'underlying': 4, 'commission': 4, 'appealing': 2, 'exact': 6, 'actual': 5, 'reported': 5, 'whose': 10, '1\\\\/2': 12, 'administrative': 6, 'trading': 34, '12.5': 2, '1': 9, 'near': 3, '1985': 9, 'but': 39, 'supreme': 11, 'construction': 18, 'unreasonable': 2, 'plus': 2, 'court-ordered': 2, 'summer\\\\/winter': 2, 'differential': 2, 'appellate': 2, 'involving': 3, '2': 10, 'year': 4, 'poor': 4, 'lasalle': 2, 'domestic': 9, '500,004': 2, 'japan': 4, 'automobile': 2, 'strong': 14, 'year-to-year': 2, '21': 4, '12': 11, 'setting': 2, 'every': 13, 'october': 5, 'previous': 12, '0.4': 2, 'passenger': 4, '22': 2, '361,376': 2, 'medium-sized': 3, 'price': 20, 'consumption': 2, '30,841': 2, 'texas': 7, 'instruments': 3, 'manufacture': 3, 'control': 5, '60': 8, 'diversifying': 2, 'produce': 2, 'household': 3, 'spinoff': 2, 'cray': 26, 'computer': 17, 'supercomputer': 3, 'chief': 20, 'seymour': 2, 'initial': 5, 'balance': 4, 'exchange': 14, 'pending': 4, 'research': 13, 'product-design': 2, '64-year-old': 3, 'cray-3': 5, 'operational': 2, 'several': 22, 'minneapolis-based': 2, 'gregory': 3, 'include': 5, 'caused': 3, 'noted': 2, 'promissory': 2, 'additional': 12, 'gary': 5, 'p.': 6, 'smaby': 2, 'group': 11, 'concept': 2, 'unproven': 2, 'chip': 5, 'sec': 3, 'gallium': 2, 'robotic': 2, 'handling': 3, '16': 4, 'intense': 4, 'c-90': 2, 'direct': 7, 'business': 15, 'machines': 4, 'hitachi': 2, 'nec': 3, 'fujitsu': 6, 'one': 47, 'two': 59, 'calculate': 2, 'book': 3, 'pro-forma': 2, 'why': 3, 'development': 7, 'colorado': 3, 'besides': 2, 'messrs.': 4, 'includes': 3, 'neil': 3, 'joseph': 4, 'malcolm': 3, 'douglas': 6, '241': 2, '49': 5, 'donald': 5, 'was': 12, 'electric-utility': 2, 'arthur': 3, '*-28': 2, 'previously': 3, 'eastern': 6, 'co.': 4, 'some': 68, 'removed': 2, 'saudi': 4, 'honor': 4, 'intellectual-property': 6, 'so-called': 5, 'priority': 3, 'watch': 6, 'interim': 3, 'representative': 4, 'carla': 4, 'unfair-trade': 2, 'stiff': 3, 'intellectual': 3, 'mrs.': 59, 'varying': 4, 'genuine': 2, 'touchy': 2, 'growing': 12, '-rcb-': 5, 'own': 32, 'inadequate': 2, 'deterring': 2, 'high-technology': 2, 'best': 4, 'lauded': 2, 'task': 3, 'enforcement': 6, 'pursue': 2, 'search-and-seizure': 2, 'bilateral': 3, 'copyright': 4, 'trademark': 2, 'introducing': 2, 'foreign': 27, 'movie': 5, 'unauthorized': 2, 'compel': 2, 'video-viewing': 2, 'pay': 8, 'literary': 2, 'lower-priority': 2, 'less-serious': 2, 'american': 52, 'patent': 3, 'disturbing': 3, 'slow': 5, 'earlier': 5, 'videocassette': 3, 'pharmaceutical': 4, '1988': 4, 'requires': 5, 'accelerated': 2, '301': 2, 'ask': 2, 'creditor': 2, 'developing': 4, 'economy': 2, 'minister': 5, 'nestor': 2, 'argentine': 3, 'such': 36, 'latin': 2, '50': 17, 'external': 2, 'miguel': 2, 'assistant': 7, 'secretary': 6, 'david': 13, 'negotiator': 2, 'carlos': 4, 'president': 23, 'office': 2, 'significant': 10, 'only': 9, 'centennial': 2, 'wall': 30, 'street': 12, 'report': 2, 'past': 7, 'personal': 9, 'apple': 6, 'commodore': 2, 'tandy': 2, 'ii': 3, 'television': 8, 'stored': 2, 'major': 34, 'stephen': 6, 'steven': 3, 'homebrew': 2, 'explosive': 2, 'product': 5, 'desktop': 2, 'big': 49, 'mainframe': 2, '1977': 4, 'built-from-kit': 2, 'have': 14, 'memory': 2, 'many': 42, 'pioneer': 2, 'pc': 3, 'paul': 5, 'language-housekeeper': 2, 'after': 10, 'f.': 3, 'currently': 4, 'seagate': 2, 'disk': 2, 'dennis': 3, 'dale': 2, 'atlanta': 3, 'were': 5, 'allow': 2, 'share': 9, 'f.h.': 2, 'australian': 4, 'pharmaceuticals': 3, 'moleculon': 2, 'inc.': 4, 'acquired': 6, 'kalipharma': 2, 'jersey-based': 2, 'sells': 2, 'purepac': 2, 'voting': 3, 'preferred': 7, 'gives': 3, '70': 3, 'oil': 4, 'bass': 2, 'strait': 2, '11,000': 3, '321,000': 2, 'whiting': 3, 'small': 35, 'esso': 2, 'australia': 2, 'exxon': 2, 'broken': 3, 'hill': 2, 'joint': 8, 'started': 2, 'production': 6, 'has': 6, 'dolphin': 2, 'tarwhine': 2, 'excise': 2, 'r.p.': 3, 'scherer': 2, 'southern': 6, 'optical': 2, 'thomas': 9, 'buy-out': 5, 'shearson': 7, 'lehman': 5, 'gelatin': 2, 'non-encapsulating': 2, 'white': 11, 'duty-free': 6, 'certain': 12, 'virgin': 3, 'timex': 2, 'generalized': 2, 'tariff': 3, 'material': 3, 'battery-operated': 2, 'main': 9, 'magna': 3, 'frank': 5, 'automotive-parts': 2, 'reduce': 6, 'curb': 3, 'capital': 11, 'satisfactory': 3, 'ambitious': 2, 'left': 3, 'excess': 3, 'automotive': 3, 'steady': 4, 'sales': 10, 'quarterly': 4, 'class': 3, '52-week': 2, 'canadian': 5, 'toronto': 4, 'controlling': 3, 'influential': 3, 'cut': 4, 'manfred': 2, 'nor': 5, 'consulting': 4, 'lord': 2, '63-year-old': 2, 'english': 5, 'china': 3, 'clays': 2, 'british': 8, 'chemical': 10, 'mortgage': 8, 'mortgage-based': 2, 'fannie': 5, 'o.': 2, '90': 9, 'institutional': 8, 'hong': 5, 'mortgage-backed': 4, 'blackstone': 2, 'investment': 23, 'daiwa': 3, 'securities': 27, 'seven-year': 2, 'fixed-rate': 7, 'floating-rate': 4, 'london': 11, 'key': 8, 'forces': 2, 'semiannual': 4, 'rapid': 2, 'mae': 2, 'total': 11, 'l.': 8, '54-year-old': 2, '14': 5, 'ltv': 2, 'products': 5, 'exclusive': 3, 'it': 2, 'italian': 3, 'giant': 9, 'montedison': 3, 'acquisition': 3, 'indirect': 2, 'tender': 5, 'erbamont': 2, '72': 2, 'announced': 2, 'drawing': 2, 'finance': 16, 'protracted': 3, 'yen-support': 2, '150.00': 2, 'yen': 2, 'sweeping': 5, 'closed-end': 3, 'country': 11, 'traded': 3, '24': 4, 'charles': 9, 'e.': 8, 'washington-based': 2, 'philippine': 3, 'corazon': 2, 'guinea': 2, 'george': 6, 'managing': 5, 'newgate': 2, 'focused': 2, '1929': 2, 'one-country': 2, 'fixed': 2, 'available': 2, '*t*-2': 31, 'michael': 13, 'smith': 3, 'harris': 2, 'heavy-duty': 2, 'individual': 13, 'urge': 2, 'emerging': 2, 'mature': 6, 'easy': 4, 'hard': 5, 'currency': 2, 'broader': 6, '7': 8, 'mexico': 2, 'spain': 3, '1987': 10, 'fat': 3, '6': 9, ':': 18, 'european': 6, '120': 3, 'long-term': 9, 'rich': 2, 'fattened': 2, 'global': 6, 'foreign-stock': 2, 'lofty': 2, 'depositary': 3, 'represent': 2, 'way': 3, 'soviet': 7, 'technical': 2, 'russian': 2, 'department': 10, 'unless': 3, 'democratic': 7, 'kerensky': 2, 'seized': 2, '1934': 2, 'johnson': 6, 'default': 2, 'extend': 2, 'are': 11, 'monetary': 3, 'pre-1917': 2, 'face': 6, 'pre-1933': 2, 'legal': 10, 'raising': 4, 'settle': 2, 'war': 4, 'lend-lease': 2, 'manufactured': 2, 'purchasing': 10, 'consecutive': 5, '47.6': 3, '46': 4, '59.6': 2, 'defense': 10, '2.1': 2, 'separate': 5, 'private': 15, 'building': 5, 'seasonal': 2, 'kenneth': 3, 'society': 2, 'cleveland': 3, 'residential': 5, 'reserve': 5, 'industrial-production': 2, 'warning': 5, 'provoke': 2, 'orders': 2, '0.1': 3, 'soft': 3, 'elliott': 2, 'jenrette': 4, 'eases': 2, 'nondurable': 2, '0.3': 3, '0.9': 3, 'durable': 2, '0.2': 2, '3.9': 2, 'durable-goods': 2, '1.6': 2, '5.4': 2, 'unfilled': 2, '0.5': 2, 'goods': 2, 'spending': 4, 'nearly': 3, 'bankers': 5, 'boost': 3, 'single-family': 3, 'nonresidential': 2, 'showing': 2, '4.3': 2, 'mcgraw-hill': 3, 'f.w.': 2, 'dodge': 2, '8': 6, 'counts': 3, 'slowing': 5, 'imminent': 4, 'survey': 2, 'materials': 4, 'pitney': 2, 'bowes': 2, '40': 11, 'export': 6, 'better': 7, '27': 3, 'purhasing': 2, 'added': 6, 'delivering': 2, 'inflationary': 2, 'when': 17, 'delivery': 2, '250': 2, 'reporting': 5, 'particular': 3, 'polled': 2, '73': 2, '10': 17, 'short': 8, 'milk': 2, 'odd': 3, 'food': 9, 'increased': 5, 'dairy': 2, 'low': 6, 'import': 5, 'pamela': 3, 'haruki': 2, 'wild': 5, 'sheep': 5, '-lrb-': 36, '320': 2, 'baby': 2, 'drink': 3, 'salty': 2, 'johnny': 2, 'bugs': 2, 'bunny': 2, 'read': 4, 'mickey': 2, 'desultory': 2, 'engaging': 2, 'buttoned-down': 2, 'unique': 2, 'implicit': 2, 'nutty': 2, 'nearly-30': 2, 'snow': 2, 'elusive': 2, 'erudite': 2, 'stanford': 3, 'prescient': 2, 'sassy': 2, 'docile': 2, 'christian': 2, 'hero': 2, 'phone': 3, 'roughhewn': 2, '40-year-old': 2, 'norwegian': 2, 'beatles': 2, 'youthful': 2, 'brat': 2, 'best-seller': 2, 'contemporary': 4, 'hefty': 4, 'you': 4, 'gotta': 3, '339': 2, 'nipponese': 3, 'fabled': 2, 'team': 5, 'batting': 2, 'named': 3, 'tokyo': 7, 'giants': 3, 'star': 2, 'tatsunori': 2, 'obedient': 2, 'male': 4, 'foul': 2, 'stadium': 5, 'strike': 2, 'strict': 4, 'wear': 2, 'amusing': 2, 'enormous': 2, 'funny': 5, '228': 2, 'petulant': 2, 'impudent': 2, 'whom': 4, 'luce': 2, 'vicious': 2, 'how': 4, 'mundane': 2, 'regimented': 2, '*-59': 2, 'lunch': 2, 'austere': 2, 'company': 7, 'prying': 2, 'unproductive': 2, 'fired': 2, 'social': 7, 'venerable': 3, 'akio': 2, 'learned': 2, 'ms.': 12, 'deputy': 6, 'editorial': 5, 'features': 2, 'more': 25, 'tobacco': 2, 'entering': 2, 'sports': 4, 'during': 11, 'meal': 2, 'bans': 2, 'fast-food': 6, 'siti': 2, 'zaharah': 2, 'prime': 6, 'no-smoking': 2, 'mara': 2, 'kuala': 2, 'on-campus': 2, '26,000': 2, 'restricts': 2, 'designated': 2, 'kong': 4, 'backer': 2, 'spielvogel': 2, 'bates': 2, 'surveyed': 2, 'materialistic': 2, 'great': 17, 'thai': 2, 'endorsed': 2, 'pramual': 2, 'conference': 4, 'central': 7, 'plaza': 2, 'necessary': 4, 'yasser': 2, 'olympic': 4, 'palestinian': 3, 'palestine': 2, 'liberation': 2, 'organization': 2, 'agency': 5, 'win': 4, 'health': 12, 'tourism': 2, 'food-shop': 2, 'mainland': 2, 'get': 6, 'through': 12, 'hospital': 2, 'chaotic': 2, 'sex': 2, 'polish': 3, 'home': 7, '150': 3, 'doubled': 2, 'gas': 2, 'coal': 2, 'happier': 2, 'diplomatic': 2, 'poland': 4, 'strapped': 2, 'warsaw': 2, 'multibillion-dollar': 2, 'river': 2, 'danube': 2, 'austrian': 2, 'nagymaros': 3, '100': 7, 'ending': 4, 'authorized': 2, 'miklos': 2, 'twin': 2, 'twindam': 2, 'czech': 2, 'peak': 2, 'august': 2, 'scandinavian': 2, 'lighthouse': 2, '2.2': 2, 'exchanging': 2, 'statistics': 2, 'bramalea': 2, '10.5': 2, 'due': 10, '100,000': 2, 'bond': 15, 'purchase': 4, 'real': 14, 'estate': 6, 'each': 14, 'principal': 6, 'accrued': 2, 'expire': 3, 'lead': 3, 'scotia': 2, 'mcleod': 2, 'rbc': 2, 'dominion': 2, 'toronto-based': 2, 'charlie': 2, 'steve': 2, 'refitting': 2, 'little': 12, 'film': 3, 'black-and-white': 2, 'sketch': 3, '13': 7, 'full-length': 2, 'sidewalk': 5, 'poignant': 2, 'modern-day': 2, 'contained': 4, 'homeless': 6, 'composer': 2, 'marc': 2, 'college': 4, 'double': 2, 'classical': 2, 'music': 2, 'eclectic': 2, 'even': 5, 'romanticized': 2, 'free': 8, 'lovely': 2, 'bill': 3, 'greenwich': 2, 'sixth': 3, 'good-natured': 2, 'crack': 2, 'dead-eyed': 2, 'four-year-old': 2, 'cardboard': 3, 'sketching': 2, 'condemned': 2, 'competing': 2, 'blind': 3, 'city': 10, 'two-year-old': 2, 'nicole': 2, 'her': 32, 'cute': 2, 'serious': 9, 'vagrant': 2, 'bowery': 2, 'improbable': 2, 'young': 13, 'high-rise': 2, 'apartment': 2, 'story': 2, 'final': 7, 'vagabond': 2, \"n't\": 7, 'beaten': 2, 'french': 4, 'claude': 2, 'weird': 2, 'brilliant': 3, 'sympathetic': 2, 'marie-louise': 2, 'historical': 3, 'vichy': 2, 'resistance': 3, 'symbolic': 2, 'small-time': 2, 'buy': 8, 'war-rationed': 2, 'botched': 2, 'war-damaged': 2, 'thin-lipped': 2, 'isabelle': 2, 'marie': 2, 'nice': 3, 'confused': 2, 'fuentes': 2, 'mexican': 2, 'endless': 2, 'celebrate': 2, 'bad': 10, 'bright': 3, 'energetic': 3, 'video': 2, 'boeing': 2, 'discussing': 3, 'larger': 5, '767': 2, 'specific': 3, 'seattle': 2, 'aerospace': 3, 'kawasaki': 2, 'industries': 9, 'mitsubishi': 10, 'fuji': 2, 'body': 2, '15': 15, 'press': 4, 'negative': 9, 'secondary': 5, 'attack': 3, 'presidential': 2, 'off-off': 2, 'election': 2, 'without': 9, 'sometimes-tawdry': 2, 'art': 2, 'your': 24, 'tv': 9, 'facial': 2, 'income': 6, 'straight': 4, 'disembodied': 2, 'republican': 5, 'roger': 3, 'campaign': 5, 'failing': 2, 'insurance': 11, 'convicted': 2, 'phony': 2, 'nasty': 2, '*-2': 3, 'issues': 2, 'giuliani': 2, 'unrecognizable': 2, 'cop-killer': 4, 'classic': 4, 'matching': 2, 'get-out-the-vote': 2, 'peter': 6, 'dinkins': 2, 'lt.': 2, 'gov.': 3, 'gubernatorial': 2, 'marshall': 4, 'abortion': 6, 'de': 6, 'prompted': 3, 'virginia': 3, 'attorney': 3, 'bob': 6, 'shake': 2, 'very': 4, 'coleman': 2, 'unpleasant': 2, 'courtroom': 2, 'rape': 4, 'victims': 2, 'accused': 2, '17': 4, 'legislative': 5, '1983': 2, 'protect': 2, 'unfounded': 2, 'mark': 5, 'mary': 11, 'say': 3, '*-3': 2, 'positive': 4, 'tuesday': 3, 'featuring': 2, 'rep.': 19, 'jim': 5, 'remember': 2, 'female': 6, 'consider': 4, 'dirty': 2, 'rusted': 2, 'hazardous': 2, '-lcb-': 7, 'florio': 2, 'courter': 3, 'pinocchio': 2, 'heating': 2, 'eagleton': 2, 'raised': 3, 're-election': 2, 'democrat': 3, 'gop': 3, 'nelson': 3, 'crime': 2, 'chicago': 15, 'record': 9, 'southeast': 7, 'asian': 10, 'sparking': 2, 'fresh': 2, 'policy': 8, '*t*-3': 9, 'goldman': 5, 'sachs': 2, 'steep': 2, 'cash-rich': 2, 'following': 4, 'pumping': 2, 'forcing': 3, 'overseas': 7, 'labor-intensive': 2, 'recipient': 3, 'needed': 4, 'spur': 3, 'harsh': 3, 'military': 6, 'budget': 10, 'encourages': 2, 'coming': 4, 'u.s.-japanese': 2, 'swelling': 2, 'largest': 17, 'aid': 5, 'graduate': 2, 'turn': 2, 'market': 37, 'woodrow': 2, 'wilson': 2, 'internatonal': 2, 'princeton': 2, 'picture': 2, 'pull': 2, 'integrated': 3, 'regional': 7, 'baker': 2, 'reasserts': 2, 'taking': 4, 'crucial': 2, 'maintaining': 2, 'leading': 8, 'voice': 9, 'enlarged': 2, 'altruistic': 2, 'net': 31, 'security': 6, 'troop': 2, 'desirable': 2, 'want': 3, 'chong-sik': 2, 'cathryn': 3, 'comprehensive': 3, 'basic': 7, 'ninth': 2, 'greenville': 10, 'crib': 4, 'seen': 2, 'senate-house': 2, 'virtually': 3, 'matched': 2, 'social-studies': 3, 'my': 19, 'nancy': 3, 'low-ability': 4, 'geography': 4, 'overhead': 2, 'unusual': 5, 'carolina': 3, 'breach': 2, 'test': 17, 'partly': 2, 'unstinting': 2, 'won': 3, 'inspired': 2, 'school-district': 2, 'bald-faced': 2, 'became': 4, 'dark': 2, 'school': 11, 'high-stakes': 2, 'enforce': 2, 'school-improvement': 2, 'bolster': 2, '1984': 3, 'education': 6, 'improvement': 3, 'student-test': 2, 'incredible': 2, 'raise': 4, 'walt': 2, 'testing': 5, 'so': 5, 'not': 9, '50-state': 2, 'school-research': 2, 'outright': 3, 'standardized': 9, 'achievement': 7, 'widespread': 2, 'suspects': 2, 'adult': 3, 'wrong': 3, 'right': 4, 'statewide': 3, 'numerous': 5, 'teacher': 4, 'test-coaching': 3, 'classroom': 4, 'macmillan\\\\/mcgraw-hill': 3, 'scoring': 14, 'learning': 12, 'sophisticated': 4, 'academic': 4, 'precise': 2, 'block': 3, 'entire': 3, 'mean': 3, 'bring': 2, 'extra': 5, 'getting': 2, 'scholastic': 2, 'aptitude': 2, 'primary': 4, 'entrance': 2, 'rates': 2, 'prosecuting': 2, 'take': 13, 'unfair': 8, 'closer': 2, 'achievement-test': 2, 'preparation': 5, 'shaded': 2, 'run-down': 2, 'textile': 2, 'nobel': 2, 'winning': 2, 'physicist': 2, 'actress': 2, 'joanne': 2, 'yellow': 2, 'broad': 2, 'cutting': 3, 'linda': 3, 'honors': 2, 'seventh': 2, 'immediate': 3, 'nervous': 2, 'having': 3, 'student': 4, 'monied': 2, 'inner': 2, 'restore': 2, 'educational': 4, '37-year-old': 2, 'restructured': 2, 'improve': 4, '14-hour': 2, '*rnr*-1': 4, 'bonus': 2, 'reform': 3, 'taught': 2, 'grant': 4, 'advised': 2, 'pep': 2, 'cultural': 2, 'western': 9, 'inspirational': 2, 'laura': 2, 'teacher-cadet': 2, 'beth': 4, '11th': 2, 'kelli': 2, 'teaching': 4, 'complete': 2, 'college-bowl': 2, 'type': 5, 'prepare': 2, 'study': 2, 'correcting': 2, 'football': 3, 'fellow': 3, 'viewed': 2, 'deteriorating': 2, 'told': 6, 'earn': 2, 'incentive-bonus': 2, 'important': 8, 'meaningful': 3, 'third': 8, 'elizabeth': 3, 'cadet': 2, '48': 2, 'copied': 2, 'studies': 2, 'help': 4, 'lift': 2, 'overall': 7, 'whole': 3, 'drag-down': 2, 'found': 2, 'advanced': 5, 'similar': 7, 'underprivileged': 2, 'says': 2, 'joe': 3, 'also': 3, 'alumni': 2, 'much': 10, 'quiet': 2, 'said': 8, 'school-board': 2, 'supportive': 3, 'radio': 5, 'talk': 2, 'helped': 4, 'talk-show': 2, 'recommend': 2, 'first-time': 2, 'offenders': 2, 'murder': 3, 'mostly': 2, 'cheerleading': 2, '*t*-4': 2, 'red-and-white': 2, 'ghs': 2, 'casts': 2, 'evaluating': 2, '*ich*-1': 8, 'gayle': 2, 'mathematics': 3, 'be': 7, 'against': 14, 'popular': 5, 'touched': 2, 'used': 3, 'california': 7, 'fifth': 6, 'roman': 2, 'add': 2, 'test-practice': 2, 'maxwell': 3, 'communication': 2, 'close': 5, 'practice': 3, 'test-preparation': 3, 'school-sponsored': 2, 'traverse': 2, 'studied': 2, 'coaching': 2, 'gauge': 2, 'history': 3, 'eighth': 2, 'iowa': 2, 'houghton': 2, 'mifflin': 2, 'harcourt': 2, 'brace': 2, 'jovanovich': 2, 'metropolitan': 3, 'test-prep': 2, '20,000': 2, 'best-selling': 2, 'ctb': 2, 'macmillan\\\\/mcgraw': 2, 'publishes': 3, 'improving': 3, 'michigan': 2, 'university': 13, 'cat': 4, '69-point': 2, 'fifth-grade': 3, 'geometrical': 2, 'metric': 3, 'bar': 3, '69': 2, 'consonant': 2, 'dozen': 2, 'rick': 3, 'random': 12, 'parallel': 2, 'ctbs': 2, 'house': 17, 'discontinue': 2, 'alleghany': 2, 'sacramento': 3, 'loan': 11, 'frances': 2, 'c.': 9, 'berger': 2, 'sacramento-based': 2, '44': 4, 'branch': 3, 'services': 4, 'ancillary': 2, 'fetal-tissue': 9, 'fetal': 4, 'juvenile': 2, 'degenerative': 2, 'transplant': 3, 'tissue-transplant': 2, 'involve': 3, 'hhs': 3, 'louis': 4, 'support': 5, 'acting': 2, 'does': 5, 'patient': 2, 'ethical': 3, 'nih-appointed': 2, 'controlled': 2, 'anti-abortion': 2, 'prominent': 3, 'prestigious': 5, 'disease': 2, 'administration': 6, 'antonio': 2, 'surgeon': 2, 'opposes': 2, 'child': 2, 'ideological': 3, 'scientific': 3, 'uncharted': 3, 'myron': 2, 'associate': 3, 'yale': 2, 'middle': 2, 'funded': 2, 'visible': 3, 'provide': 6, 'damaged': 2, 'off': 4, 'cause': 4, 'regulate': 2, 'mental': 8, 'nih': 2, 'rekindled': 2, 'interstate': 7, 'boosted': 3, 'bank': 16, 'over-the-counter': 4, 'lackluster': 2, 'paltry': 3, 'inauspicious': 2, 'daily': 10, 'busiest': 2, 'nonfinancial': 2, 'nasdaq': 2, 'tracks': 3, 'thrift': 3, 'connecticut': 4, 'massachusetts': 5, 'real-estate': 4, 'unattractive': 2, 'takeover': 11, 'head': 3, 'otc': 4, 'biggest': 5, 'indicated': 2, 'ed': 2, 'follows': 2, 'green': 6, 'among': 8, 'constitution': 2, 'merger': 6, 'wfrr': 2, 'ghkm': 2, 'london-based': 2, 'pennview': 2, 'pennsylvania': 4, 'univest': 2, 'third-quarter': 3, 'pretax': 6, 'mobile': 2, 'financing': 5, 'dan': 3, 'one-time': 6, 'core': 2, 'dramatic': 3, 'near-record': 2, 'ratners': 2, 'definitive': 2, 'which': 7, '78': 2, 'heritage': 5, 'acquiring': 2, 'pop': 5, '51': 5, 'paying': 3, 'restaurant': 3, 'shareholder': 6, 'rights': 5, 'burt': 3, 'trotter': 5, '42.5': 3, 'nine-member': 3, 'sci': 2, '858,000': 2, 'year-earlier': 4, '23': 4, 'revenue': 2, 'criminal': 10, 'detailed': 3, 'organized': 3, 'attorney-client': 3, 'irs': 6, 'related': 3, 'passport': 2, 'incomplete': 4, 'neal': 3, 'asking': 3, 'miami': 5, 'received': 3, 'computer-generated': 2, 'certified': 2, 'alleged': 10, 'drug': 9, 'hire': 2, 'spark': 2, 'gerald': 3, 'grand': 3, 'jury': 2, 'disclosing': 2, 'justice': 12, 'advance': 4, 'moderate': 2, 'christopher': 3, 'computing': 2, 'requested': 2, 'summons': 2, 'been': 4, 'need': 4, 'tax': 7, '8300': 2, 'recognize': 2, 'judicial': 6, 'raul': 2, 'effective': 2, 'san': 16, 'francisco': 7, 'law': 6, 'professional': 4, 'high-priced': 3, 'doonesbury': 2, \"creator's\": 2, 'union': 7, 'laughing': 3, 'cartoonist': 2, 'garry': 2, 'writers': 3, 'america': 5, 'picket': 3, 'involves': 2, 'darkhorse': 2, 'productions': 2, 'guild': 2, 'collective-bargaining': 2, 'included': 5, 'disciplinary': 5, 'k.': 4, 'year-long': 2, 'appeals': 2, 'family-planning': 3, 'abortion-related': 2, 'title': 3, 'x': 3, 'prohibits': 2, 'advocate': 2, 'care': 4, 'counseling': 2, 'pregnant': 2, 'clears': 2, 'homosexual': 3, 'dallas': 4, 'district': 6, 'jack': 6, 'sparked': 2, '18-year-old': 2, 'teenage': 2, 'impose': 3, 'gaf': 4, 'stock-manipulation': 2, 'opening': 3, 'arguments': 2, 'manhattan': 3, 'eight-count': 2, 'charged': 2, 'specialty': 5, 'chairman': 8, 'carbide': 2, 'planned': 3, 'prosecution': 2, 'iran\\\\/contra': 2, 'three-lawyer': 2, 'trial': 2, 'oliver': 3, '520-lawyer': 2, 'white-collar': 2, 'narcotics': 2, 'cooper': 2, 'rubber': 2, 'bridgestone\\\\/firestone': 2, 'tire': 3, 'square': 3, 'warehousing': 2, '353': 2, 'written': 3, 'cutthroat': 2, 'municipal': 3, '10,000': 5, 'tie-breaking': 2, 'computer-system-design': 2, 'summoned': 2, 'ministry': 3, 'fair': 2, 'antitrust-law': 2, 'takuma': 3, 'prepared': 3, 'packed': 2, 'downtown': 2, 'embarrassing': 2, 'substantial': 5, 'extramarital': 2, 'low-ball': 2, 'tense': 2, 'limited': 7, 'slashing': 2, 'bidding': 3, 'u.s.-japan': 2, 'minus': 2, 'then': 2, 'library': 2, 'nagano': 2, 'prefectural': 2, 'telecommunications': 4, 'wakayama': 2, 'michio': 2, 'least': 2, 'backe': 2, 'atlantic': 2, 'publications': 3, 'community': 5, 'held': 7, 'media': 5, 'cbs': 3, 'communications': 4, 'ntg': 2, 'osborn': 2, 'desai': 2, 'michaels': 2, 'stores': 3, 'retail': 8, '14.6': 2, '3': 7, 'furukawa': 2, 'machinery': 2, 'dresser': 2, 'operated': 2, 'wheel-loader': 2, 'german': 2, 'structural': 3, 'dynamics': 2, 'computer-aided': 2, 'design': 4, '6.21': 2, 'lsi': 2, 'logic': 2, 'restructuring': 6, 'industry-wide': 2, 'semiconductor': 2, 'custom-chip': 2, 'lagging': 2, 'extended': 2, 'economical': 2, 'summer': 2, 'wilfred': 2, 'oldest': 2, 'appropriate': 2, '86': 2, 'extraordinary': 6, '42': 3, 'silicon': 3, 'fabricate': 2, 'santa': 3, 'capacity': 2, 'dead': 2, 'slack': 2, 'keeping': 3, 'ingersoll-rand': 2, 'woodcliff': 2, 'g.': 8, 'utilities': 2, 'posted': 4, 'currencies': 2, 'narrow': 2, 'jay': 3, 'insight': 2, '77.70': 2, '77.56': 2, 'late': 11, 'lure': 4, 'driving': 4, 'tom': 3, 'banque': 2, '1.8500': 3, '1.8415': 3, '143.80': 3, '142.85': 3, '143.93': 2, '143.08': 2, 'los': 11, 'solid': 3, 'trust': 4, 'vitriolic': 2, 'sony': 3, 'columbia': 5, 'pictures': 4, 'entertainment': 5, 'rockefeller': 5, 'knight': 2, 'georgia-pacific': 3, 'corp.': 6, 'northern': 5, 'nekoosa': 3, 'forthcoming': 2, 'yen-denominated': 2, 'spurred': 2, 'high-yield': 2, 'release': 2, 'above': 2, '45.3': 2, 'expanding': 2, 'minimal': 2, 'commodity': 6, 'estimated': 2, 'cosby': 2, 'around': 2, 'huxtable': 2, 'keeps': 2, 'thursday': 3, '187': 2, 'network': 4, 'below': 4, 'viacom': 2, 'persuade': 3, 'pressure': 3, '`': 3, 'syndication': 2, 'situation': 2, 'station': 2, 'pre-emptive': 2, 'ratings': 2, 'a.c.': 2, 'nielsen': 2, 'dick': 2, 'nbc-owned': 2, 'life': 4, 'atlanta-based': 2, 'conventional': 4, 'life-insurance': 2, 'nationale': 2, 'nederlanden': 2, 'frantic': 2, 'revenue-desperate': 2, 'offering': 3, 'advertorial': 2, 'garbage': 3, 'practical': 3, 'entrepreneur': 2, 'patricia': 2, 'waste': 4, 'how-to': 2, 'backyard': 2, 'explanatory': 2, 'hard-hitting': 2, 'considerable': 4, 'whirling': 2, 'supermarket': 2, 'magazine': 3, 'would-be': 2, 'campbell': 14, 'souper': 3, 'combo': 3, 'microwave': 2, 'polystyrene': 2, 'polyester': 2, 'plastic': 3, 'landfill': 2, 'journalistic': 2, 'madison': 2, 'mike': 2, 'ddb': 2, 'big-time': 2, 'featured': 2, 'adolph': 2, 'bumkins': 2, 'premiere': 3, 'print': 5, 'subscription': 2, 'yearly': 2, 'subscriptions': 2, 'recycled': 2, 'old-house': 2, 'journal': 4, '126,000': 2, '93,000': 2, 'interpublic': 3, 'programming': 3, '4,000': 2, 'original': 5, 'across': 2, 'largely': 2, 'game': 3, 'e.c.': 2, 'fremantle': 2, 'corestates': 2, 'earle': 2, 'palmer': 2, 'vansant': 2, 'at&t': 6, 'systems': 5, 'fax': 2, 'wpp': 2, 'enterprise': 2, 'rent-a-car': 2, 'st.': 12, 'replacement-car': 2, 'pitches': 2, 'consumer-driven': 2, 'drop-off': 2, 'landor': 3, 'identity-management': 2, 'ketchum': 2, 'angeles': 7, 'marketing-communications': 2, 'sea': 17, 'containers': 2, 'buy-back': 2, 'temple': 2, 'holdings': 3, 'bermuda-based': 2, 'shipping': 3, 'hostile': 3, 'stena': 2, 'tiphook': 2, 'asset-sale': 2, 'cash': 21, 'case': 2, 'criticized': 3, 'plan': 2, 'conditional': 2, 'entrench': 2, 'confuse': 2, 'superior': 3, 'asset': 3, 'open': 2, 'barred': 2, 'fairness': 2, '62.5': 3, 'transportation': 9, 'safety': 12, 'light': 10, '1992': 3, 'requiring': 2, 'lap-shoulder': 2, 'rear': 2, 'model': 6, 'front': 3, 'samuel': 2, 'ongoing': 2, 'promote': 2, 'vehicle': 3, 'occupant': 2, 'car': 9, 'require': 2, 'front-seat': 2, 'rule': 2, 'bush': 11, 'car-safety': 2, 'almost': 2, 'reagan': 7, 'systematic': 3, 'chuck': 2, 'highway': 5, 'sen.': 5, 'rollover': 2, 'light-truck': 3, 'roof-crush': 5, 'air': 6, 'automatic': 3, 'seat': 2, 'side-crash': 2, '1.5': 2, 'unloaded': 2, 'rear-seat': 4, 'shoulder': 2, 'ford': 9, 'auto-safety': 2, 'met': 3, 'f-series': 2, 'crew': 2, 'cab': 2, 'sport-utility': 2, 'expects': 2, 'rail': 2, 'enclosed': 2, 'transporting': 2, 'multilevel': 2, 'thrall': 2, 'duchossois': 2, 'sir': 4, '58-year-old': 2, 'petroleum': 3, 'cement': 2, 'formal': 3, 'longstanding': 2, 'later': 3, 'senate': 6, 'within': 3, 'dow': 8, 'jones': 8, 'investor': 5, 'interesting': 2, 'merger-related': 2, 'prevailing': 3, 'reducing': 4, 'leasing': 2, 'goody': 2, '11.5': 2, 'reduced': 3, 'payable': 2, 'n.j.-based': 2, 'hair': 2, 'cosmetic': 2, 'year-ago': 2, '29': 2, 'anti-takeover': 2, '51-year-old': 2, 'u.k.': 2, 'become': 2, 'succeeding': 2, 'ian': 2, 'receive': 2, 'redemption': 2, 'upon': 4, 'warren': 3, 'leap': 2, 'wine': 12, 'napa': 2, 'wine-making': 2, '700': 2, 'cabernet': 2, 'diamond': 5, 'lake': 4, 'vineyard': 3, 'sticker': 2, 'exceptional': 2, 'cru': 2, 'la': 9, 'deluxe': 2, 'dom': 2, 'roederer': 4, 'sweet': 2, 'chateau': 4, 'trockenbeerenauslesen': 2, 'biondi-santi': 3, 'brunello': 2, 'magnitude': 2, 'single': 9, 'lighter': 2, 'prestige': 2, '1979': 2, 'mesnil': 2, \"'82\": 2, 'champagne': 2, 'rhone': 2, '1982': 3, 'cote': 2, 'rotie': 2, 'precious': 2, 'three-digit': 2, 'burgundy': 2, 'angelo': 2, 'gaja': 2, 'piero': 2, 'vega': 2, 'secilia': 2, '10th': 2, '*?*': 3, 'grange': 2, 'cult': 2, 'larry': 4, 'older': 3, 'newer': 2, '75': 5, 'owner': 4, 'al': 2, 'bottle': 2, 'sent': 3, '58': 3, 'six-bottle': 2, '62': 4, '28': 3, 'sterling': 4, 'suburban': 2, 'steeper': 2, 'hit': 2, 'sticker-shock': 2, 'astronomical': 2, 'just': 3, 'one-upsmanship': 2, 'creating': 2, 'cedric': 2, 'martin': 3, 'grgich': 2, 'hills': 2, 'down': 6, 'push': 2, 'le': 2, 'beautiful': 2, 'expensive': 4, \"'86\": 2, 'growth': 3, 'except': 2, 'wine-buying': 2, 'free-lance': 2, 'upward': 2, 'richmond': 2, '2.5': 2, 'fourth': 7, 'kansas': 2, 'fed': 5, 'stated': 2, 'downward': 2, 'easier': 3, 'funds': 2, '0.25': 4, '8.75': 2, 'philadelphia': 2, 'slower': 4, 'packaging': 2, 'big-ticket': 2, 'clear': 3, 'ease': 3, 'integra-a': 2, 'mailing': 2, '13.5': 2, 'operates': 2, 'hallwood': 2, 'merchant': 8, 'copperweld': 2, '445': 2, 'steelworkers': 2, 'ohio': 3, 'steel': 3, 'tube': 2, 'proposed': 8, 'taken': 2, 'continue': 2, 'congressional': 8, 'partisan': 2, 'avoid': 2, 'nicholas': 2, 'maturing': 2, 'three-year': 2, '*-108': 2, '10-year': 2, '*-109': 2, '30-year': 5, '*-110': 2, '36-day': 2, 'end': 4, 'two-year': 4, 'five-year': 2, 'lancaster': 2, 'colony': 2, 'reames': 2, 'foods': 4, 'frozen': 3, 'pre-cooked': 2, 'profits': 2, 'advancing': 2, 'despite': 2, 'continuing': 4, 'points': 2, 'beige': 2, '7.88': 3, 'afternoon': 3, 'mitsui': 4, 'smelting': 2, 'eaton': 2, 'sierra': 2, '200': 3, 'electronics': 5, 'harold': 3, 'nl': 5, 'georgia': 19, 'gulf': 5, 'chemicals': 3, 'regarding': 3, 'interested': 2, 'various': 6, 'persistent': 2, 'leave': 5, 'pit': 2, 'morgan': 6, '9.9': 2, '88': 2, 'valhi': 2, 'landis': 2, 'subordinated': 3, 'junk-bond': 3, 'see': 4, 'jerry': 4, 'asked': 4, 'consent': 2, 'replacing': 2, 'friendly': 3, 'although': 2, 'nominal': 2, 'gain': 2, 'fewer': 2, 'licensing': 2, 'faculty': 2, 'retin-a': 2, 'acne': 2, 'patents': 2, 'seeks': 2, 'punitive': 2, 'license': 2, 'albert': 3, 'developed': 2, 'combat': 2, 'declined': 2, 'unfettered': 2, 'heated': 3, 'focusing': 2, 'impediments': 2, 'impending': 2, 'direct-investment': 2, 'greater': 8, 'half-hour': 2, 'taizo': 2, 'notably': 4, 'coca-cola': 2, 'midtown': 2, 'publicized': 2, 'boone': 2, 'pickens': 3, '26.2': 2, 'automotive-lighting': 2, 'koito': 2, 'lloyd': 2, 'urged': 3, 'use': 4, 'facing': 2, 'seek': 2, 'disproportionate': 2, 'distribution': 3, 'out': 4, 'quick': 3, 'gauging': 2, 'miti': 2, 'elisabeth': 2, 'smaller': 9, 'controversial': 4, 'improves': 2, 'candela': 4, 'laser': 3, 'myriad': 2, 'penetrate': 2, 'tiny': 3, 'joint-venture': 2, 'guided': 2, 'bureaucratic': 2, 'secured': 3, 'kidney': 2, 'treats': 2, 'skin': 4, 'gave': 2, 'favorite': 2, 'promising': 2, 'behind': 2, 'commercial': 16, 'minority': 3, 'venture': 4, 'economics': 3, 'companies': 2, 'low-tech': 2, 'plate': 2, 'strategic': 3, 'glass': 6, 'architectural': 2, 'ronald': 3, 'ichiro': 2, 'merchandise': 3, 'nissho-iwai': 2, 'feudal': 2, 'operate': 2, 'takeshi': 2, 'itoh': 2, 'trading-company': 2, 'small-company': 2, 'alliance': 2, 'working': 7, 'unlike': 2, 'fiscal': 9, 'hudson': 4, 'provides': 2, 'genie': 2, 'neighborhood': 3, 'high-balance': 2, 'crown': 3, 'safe': 2, 'deposit': 3, 'installment': 3, 'deserve': 2, 'competitive': 4, 'build': 3, 'customer': 6, 'anne': 3, 'synergistics': 3, 'ncnb': 2, 'connections': 2, 'starting': 3, 'pre-approved': 2, 'cash-flow': 2, 'saving': 2, 'planters': 2, 'edge': 2, 'aiming': 2, 'demographic': 3, 'judie': 2, 'barnett': 3, 'banks': 2, 'targets': 3, 'seniors': 3, 'partners': 4, 'life-style': 2, 'athletic': 2, 'travel': 3, 'active': 3, 'panama': 2, 'wells': 2, 'safe-deposit': 2, 'travelers': 3, 'thin': 4, 'target': 2, 'finding': 2, 'now': 2, 'high-rate': 2, 'standard': 5, 'passbook': 2, 'money-market': 3, 'interest-bearing': 2, 'staggering': 2, 'bigger': 3, 'norwest': 2, 'market-share': 4, 'savvier': 2, 'rate-sensitive': 2, 'encourage': 2, 'rewarding': 2, 'captive': 2, 'younger': 2, 'personnel': 2, 'promotional': 2, 'chemplus': 2, 'expect': 2, 'alvin': 3, 'sharedata': 2, 'registration': 2, 'low-cost': 2, 'peripheral': 3, 'hawaiian': 2, 'lasting': 2, 'savings-and-loan': 3, 'foster': 8, 'parents': 2, 'americans': 2, 'pocket': 2, 'needy': 2, 'performing': 2, 'lewis': 3, 'find': 5, 'builds': 2, 'self': 2, 'mid-size': 2, 'bottom': 4, 'employee': 2, 'mercantile': 3, 'stemming': 2, 'subcommittee': 3, 'program': 92, 'one-hour': 3, 'stock-index': 17, 'futures': 29, 'once': 2, 'index': 25, '150-point': 2, '20-point': 2, 'normal': 2, 'execute': 2, 'limit': 3, 'friday': 2, '190': 2, 'merc': 3, 'breaker': 2, '12-point': 4, '*-127': 2, 'leo': 3, 'committee': 4, 'selling': 5, 'panic': 2, 'subsequent': 2, 'sell': 4, '30-point': 3, 'intermediate': 2, 'slide': 2, 'one-day': 3, 'five-point': 2, 'banned': 2, 'executing': 2, 'post-hearing': 2, 'expressed': 4, 'program-trading': 11, 'halt': 2, 'capitol': 3, 'preset': 2, 'trigger': 2, 'discretionary': 2, 'stop': 2, 'edward': 7, 'morning': 3, 'sensitive': 2, 'meeting': 3, 'annoyed': 2, 'enough': 5, '26': 3, 'let': 4, 'jurisdictional': 2, 'regulating': 2, 'uses': 3, 'offset': 2, 'agriculture': 4, 'dorothy': 4, 'rural': 3, 'ancient': 4, 'stone': 4, 'church': 7, 'modern': 2, 'cool': 2, 'autumn': 2, '6,000': 2, 'sunday': 2, 'evening': 2, 'derek': 2, 'here': 2, 'sometimes-exhausting': 2, 'east': 2, 'water-authority': 2, 'anglian': 2, 'aslacton': 2, 'nationwide': 3, 'playing': 5, 'continental': 2, 'mind-boggling': 2, '380': 2, 'physical': 3, 'highest-pitched': 2, 'descending': 2, 'memorize': 2, 'odd-sounding': 2, 'treble': 2, 'grandsire': 2, 'night': 2, 'abbot': 2, 'kensington': 2, 'shirt-sleeved': 2, 'ringing': 4, 'bronze': 2, '360': 2, 'mouth-up': 2, 'skilled': 2, 'swap': 8, 'well-known': 3, 'novelist': 2, 'mathematical': 2, 'solemn': 2, 'intricate': 2, 'stephanie': 3, 'leaving': 3, 'strong-willed': 2, 'non-religious': 2, 'attend': 3, 'rev.': 2, 'jeremy': 2, 'self-perpetuating': 2, 'vicar': 3, 'rings': 2, 'eight': 2, 'w.d.': 2, 'c.j.b.': 2, 'nearby': 3, 'bell': 8, 'obvious': 2, 'mixed': 2, 'draw': 2, 'fuller': 2, 'theological': 2, 'trained': 2, 'inner-city': 2, 'train': 2, 'male-dominated': 2, 'ringers': 2, 'bell-ringing': 2, 'sole': 2, 'westminster': 2, 'being': 3, 'equal-opportunity': 2, 'weekly': 2, 'balanced': 2, 'traditional': 10, 'woman': 2, 'predictable': 2, 'dividend': 16, 'signal': 3, 'strongest': 3, 'stock-market': 7, 'unwary': 2, 'quantitative': 2, 'merrill': 6, 'black': 3, 'attract': 2, 'rowe': 4, 'recessionary': 3, 'cyclical': 2, '500-stock': 2, 's&p': 3, 'double-digit': 3, 'kept': 2, '3.3': 3, 'sustained': 2, 'w.': 3, 'sold': 4, 'sharp': 3, 'years': 2, 'cigna': 2, 'philadelphia-based': 2, 'adjusted': 2, '3.6': 2, 'single-digit': 2, 'painewebber': 5, 'forecasting': 2, 'analyst': 2, '139': 2, 'page-one': 3, 'renewed': 2, 'telephone': 10, 'alexander': 2, 'graham': 2, 'gardner': 2, 'obtained': 2, 'microphone': 2, 'emile': 2, 'berliner': 3, 'beverly': 3, 'nbi': 4, 'hardware': 3, 'ailing': 2, '266': 2, 'boulder': 2, '176': 2, 'field': 2, 'kingdom': 3, 'do': 3, 'installed': 2, 'software': 3, 'word-processing': 2, 'series': 8, '93': 2, '31': 2, 'historic': 3, 'chinese': 7, 'easing': 2, 'sino-u.s.': 2, 'bloody': 2, 'pro-democracy': 2, 'peaceful': 2, 'catch': 2, 'socialist': 2, 'capitalist': 2, 'wednesday': 2, 'banquet': 2, 'reciting': 2, 'eternal': 2, 'yang': 2, 'forgiven': 2, 'killed': 2, 'perhaps': 3, 'undiplomatic': 2, 'deng': 2, 'counterrevolutionary': 2, 'reprove': 2, 'mend': 2, 'greatest': 3, 'chinese-american': 2, 'return': 4, 'dissident': 2, 'fang': 2, 'li': 3, 'anti-china': 2, 'high-level': 2, 'unofficial': 2, 'brent': 2, 'nixon': 2, 'fulbright': 2, 'minor': 2, 'premier': 3, 'encounter': 2, 'machine': 2, 'machine-gun-toting': 2, 'uzi-model': 2, 'plainclothes': 2, 'unmarked': 2, 'harass': 2, 'science': 2, 'jeopardizing': 2, 'salary': 2, 'volunteer': 2, 'higher-salaried': 2, 'compensation': 4, 'less': 4, 'changing': 2, 'hiroshi': 2, 'barbara': 2, 'define': 2, 'job': 5, 'progressive': 2, '76': 2, 'favorable': 2, '85': 3, 'stereotyped': 2, 'we': 2, 'preston': 2, 'self-regulatory': 2, 'fernando': 3, 'del': 3, 'nasd': 4, 'telephone-information': 2, 'either': 3, 'j.l.': 3, 'henry': 2, 'i.': 2, 'improper': 2, 'unpublished': 3, 'biscayne': 2, '10-day': 5, 'triton': 2, 'delwin': 2, 'denying': 7, 'limited-partnership': 3, 'mount': 2, 'glenn': 4, 'record-keeping': 2, 'two-week': 3, 'inaccurate': 2, 'weatherly': 2, 'dell': 2, 'eugene': 3, 'northy': 2, 'prater': 2, 'mercer': 2, 'escrow': 2, 'timing': 2, 'w.n.': 2, 'n.': 2, 'whelen': 2, 'examination': 2, 'hutton': 3, 'express': 10, 'timely': 2, 'andrew': 3, 'derel': 2, 'francis': 3, 'angier': 2, 'reddington': 2, 'arlington': 3, 'fred': 2, 'camille': 2, 'chafic': 2, 'one-year': 4, 'jeffrey': 3, 'gerard': 3, 'marion': 2, 'stewart': 2, 'parking': 3, 'sizable': 4, 'stanley': 3, 'anthony': 4, 'amin': 2, 'deborah': 2, 'renee': 2, 'muscolina': 2, 'palisades': 2, 'brooklyn': 2, 'phipps': 2, 'scott': 3, 'leigh': 2, 'sandra': 2, 'ann': 3, 'mona': 2, 'jamaica': 2, 'bew': 2, 'rabia': 2, 'veselich': 2, 'rolling': 2, 'stuart': 2, 'lane': 2, 'devon': 2, 'nilson': 2, 'fountain': 2, 'registered': 3, 'breaking': 2, 'providing': 2, 'security-type': 2, 'stupid': 3, 'rita': 2, 'rae': 2, 'five-day': 2, 'eight-month': 2, 'baton': 3, 'one-month': 2, 'karl': 2, 'clinton': 2, 'one-week': 2, 'coconut': 2, 'randolph': 3, '90-day': 2, 'brian': 2, 'wayne': 2, '15-day': 2, 'orville': 2, 'leroy': 2, 'las': 4, 'eric': 2, 'gerhard': 2, 'carson': 2, 'computer-driven': 2, 'american-style': 2, '11.6': 2, 'imagine': 2, 'makato': 2, 'home-market': 2, 'osaka': 2, 'foreign-led': 2, 'drove': 2, 'startling': 2, 'far': 2, 'suspend': 3, 'tightened': 2, 'index-related': 2, 'salomon': 4, 'doing': 2, 'deryck': 2, 'heads': 3, 's.': 3, 'futures-related': 2, 'scrutinizing': 2, 'index-arbitrage': 8, 'unwind': 2, 'floor': 8, 'brokerage': 6, 'assurance': 2, 'times-stock': 2, '100-share': 2, 'option': 4, 'options': 3, 'ft-se': 3, 'index-options': 2, 'minimum': 11, '382-37': 2, 'compromise': 4, 'wage': 3, '90-cent-an-hour': 2, 'four-year': 2, 'pat': 2, 'debate': 3, 'marge': 2, 'training-wage': 2, 'youth': 2, 'impart': 2, 'training': 5, 'government-certified': 2, 'mininum-wage': 2, 'zenith': 3, 'data': 4, 'navy': 2, '84-month': 2, 'rockwell': 2, 'ac-130u': 2, 'gunship': 2, 'replacement': 2, 'marietta': 2, 'low-altitude': 2, 'targeting': 2, 'intelligence': 2, 'hahn': 2, 'hard-charging': 2, 'teddy': 2, '62-year-old': 2, 'forest-product': 2, 'cold': 2, 'entice': 2, 'aggressively': 2, 'a.d.': 2, 'long-time': 2, 'wtd': 2, 'consensus': 2, 'careful': 3, 'polytechnic': 2, 'arrest': 2, 'impressed': 2, 'enticed': 2, 'raw': 2, 'reading': 2, 'graduated': 2, 'phi': 2, 'beta': 2, 'surprising': 4, 'recession-inspired': 2, 'building-products': 2, 'non-core': 2, 'vinyl': 2, 'checkbook': 2, 'refocusing': 2, 'new-home': 3, 'healthy': 3, 'high-quality': 2, 'resulting': 2, 'forest-products': 2, 'combined': 3, 'can': 2, 'kathryn': 2, 'house-senate': 2, 'expanded': 2, 'provoked': 2, 'veto': 3, 'authorizing': 2, 'appropriations': 24, 'planning': 2, 'nations': 2, 'population': 2, 'african': 2, 'airplane': 2, 'intriguing': 2, 'producing': 2, 'profitable': 2, 'noriega': 2, '21-month': 2, '23,403': 2, 'lucrative': 3, 'majority': 2, 'whip': 2, 'proposing': 3, 'english-speaking': 2, 'conservative': 2, 'assist': 2, 'caribbean': 3, 'basin': 3, 'powerful': 2, 'hawaii': 3, 'sugar': 2, 'waived': 2, 'supplemental': 2, 'anti-drug': 2, 'smoking': 2, 'airline': 5, 'bounce': 2, 'battle': 2, 'relations': 2, 'takes': 5, 'ornamental': 2, 'prevent': 3, 'scenic': 2, 'install': 2, 'f': 3, 'concrete': 3, 'arched': 2, 'g': 2, 'garret': 2, 'teaches': 2, 'earlham': 2, 'ugly': 2, 'charter': 2, 'oak': 2, 'cast-iron': 2, 'floral': 2, 'crash': 2, 'tray': 2, 'porting': 2, 'claims': 2, 'scypher': 2, 'beverage': 2, 'replace': 2, 'concession': 2, 'inventor': 2, 'claire': 2, 'eliminates': 2, 'window': 2, 'touches': 2, 'promises': 2, 'citicorp': 2, 'mutchin': 2, 'carnegie-mellon': 2, 'sees': 2, 'helping': 2, 'existing': 3, 'jail': 3, 'eggers': 2, 'grain': 6, 'prison': 2, 'cell': 2, 'tubular': 2, 'semicircular': 2, 'family': 10, 'aesthetic': 2, 'famed': 2, 'vacant': 2, '1,000': 2, 'upstate': 2, 'cited': 3, 'usx': 7, 'workplace': 2, 'occupational': 3, 'fairless': 4, 'coke': 2, 'worker': 3, 'severe': 2, 'repair': 3, 'firm': 2, 'corporate-wide': 2, 'settlement': 2, 'stiffer': 2, 'removing': 2, 'safeguarding': 2, 'review': 2, 'meatpacking': 2, 'brands': 2, 'editing': 2, 'natural': 4, 'resources': 3, 'ill': 3, 'substance-abusing': 2, 'psychiatric': 4, 'substance': 4, 'chest': 2, 'cardiovascular': 2, 'infectious': 2, 'lack': 2, 'elementary': 2, 'adequate': 2, 'preventing': 3, 'breakey': 2, 'm.d.': 4, 'fischer': 2, 'psychiatry': 2, 'johns': 2, 'hopkins': 2, 'medicine': 3, 'tulane': 2, 'prof.': 3, 'complex': 2, 'housing': 2, 'employment': 3, 'violence': 2, 'welfare': 2, 'poverty': 2, 'leighton': 2, 'cluff': 2, 'wood': 2, 'foundation': 2, 'regarded': 2, 'drop-in': 2, 'sleep': 2, 'brutal': 2, 'r.d.': 2, 'vos': 2, 'housing-assistance': 2, '77': 2, 'reagan-bush': 2, 'degree': 2, 'convenient': 3, 'jenkins': 2, 'allied': 2, 'self-serving': 2, 'profit': 7, 'catholic': 2, 'charities': 2, 'nonprofit': 2, '203': 3, 'baltimore': 3, 'chivas': 2, 'ruth': 2, 'rogers': 2, 'b': 2, 'cable': 2, 'coupon': 2, 'passed': 2, 'leveraged': 7, 'undesirable': 2, '300-113': 2, 'approved': 2, 'impede': 2, 'airline-related': 2, 'overriding': 2, 'labor-backed': 2, 'reject': 2, 'follow-up': 2, 'extensive': 3, 'ordinary': 2, 'propaganda': 2, 'refrigerator': 2, 'broadcasts': 2, 'first-rate': 2, '1948': 2, 'voa': 4, 'copying': 2, 'short-wave': 2, 'des': 10, 'states': 3, 'word': 2, 'absolute': 2, 'disseminate': 2, 'scholarly': 2, 'usia': 3, 'preclude': 2, 'disseminating': 2, '*-35': 2, 'statutory': 2, 'verbatim': 2, 'passing': 2, 'xerox': 2, 'public-relations': 2, 'trivial': 2, 'z.': 2, 'nbc': 2, 'gordon': 2, 'soup': 2, 'dorrance': 3, 'herbert': 2, '53-year-old': 2, 'u.s.a.': 2, 'edwin': 2, 'run': 2, 'dividing': 2, 'food-industry': 2, 'revived': 2, 'times': 2, 'freshbake': 2, 'biscuit': 2, 'seasoned': 2, 'pepperidge': 2, 'farm': 10, 'interview': 2, 'mediocre': 2, '3,600': 2, '*ich*-2': 2, 'ceo': 2, 'retirement': 2, '45,000': 2, 'fringe': 2, 'nine-year': 2, 'tremendous': 2, 'bottom-line': 2, 'unit': 2, 'headquarters': 2, 'yesterday': 2, 'exuded': 2, 'base': 2, '3\\\\/4': 8, 'closing': 5, 'overnight': 2, 'fulton': 2, '-rrb-': 2, 'discount': 3, 'depository': 2, 'call': 2, 'motors': 5, 'acceptance': 3, '8.55': 3, '8.25': 3, '59': 4, '89': 2, '119': 2, '149': 2, '7.80': 2, '179': 2, '7.55': 2, '270': 2, 'unsecured': 2, '8.65': 2, '8.575': 2, '8.50': 4, '8.07': 3, '8.06': 2, '7.95': 3, 'negotiable': 2, 'typical': 2, '8.60': 2, '8.35': 2, '8.48': 2, '8.30': 2, '8.15': 2, '180': 2, 'bank-backed': 2, '5\\\\/8': 6, '13\\\\/16': 2, '11\\\\/16': 2, '7\\\\/16': 3, '3\\\\/8': 6, 'dollar': 2, '13.50': 2, '4.875': 2, 'lending': 3, '7.78': 2, '7.62': 2, 'freddie': 2, '9.82': 2, 'adjustable': 3, 'telerate': 3, '9.75': 2, '8.70': 2, '6\\\\/2': 2, 'lynch': 3, 'ready': 2, 'assets': 2, '8.64': 2, 'fueled': 2, 's.i.': 2, 'newhouse': 5, 'abrupt': 2, 'si': 2, 'spectacular': 2, 'disappointing': 2, 'succeeded': 3, 'bennett': 2, 'division': 2, 'susan': 3, 'ballantine\\\\/del': 2, 'successful': 3, 'paperback': 2, 'century': 2, 'powerhouse': 2, 'alfred': 4, 'most-likely-successor': 2, 'joni': 2, 'sonny': 2, 'knopf': 2, 'full-time': 3, 'less-than-brilliant': 2, 'signals': 2, 'article': 11, 'omnipresent': 2, 'conceivable': 2, 'withhold': 2, 'iran-contra': 2, 'constitutional': 5, 'unitary': 2, 'confederation': 2, 'breathtaking': 2, 'recess': 3, 'granting': 2, 'yet': 3, 'unconstitutional': 8, 'nominate': 2, 'rejected': 2, 'choosing': 2, 'anti-deficiency': 2, 'voluntary': 2, 'recommendation': 2, 'muzzling': 2, 'blindfold': 2, 'subject': 2, 'market-oriented': 2, 'egregious': 2, 'agricultural': 3, 'cost-benefit': 2, 'favored': 2, 'illustrates': 2, 'executive-office': 2, 'applicable': 2, 'one-house': 2, 'bicameral': 2, 'v.': 4, 'invite': 2, 'rewrite': 2, 'becomes': 2, 'then-speaker': 2, 'arms': 2, 'mikhail': 2, 'ratified': 2, 'salt': 2, 'line-item': 3, 'item': 2, 'establish': 2, 'valuable': 2, 'civics': 2, 'set': 3, 'realize': 2, 'federalist': 2, 'impetuous': 2, 'duke': 3, 'devastating': 2, 'deducting': 2, 'gross': 2, 'crop': 3, 'worst': 2, 'midwestern': 2, 'corn': 2, 'price-support': 2, 'reclaimed': 2, '240-page': 2, 'parched': 2, 'hardest-hit': 2, 'disaster-assistance': 2, 'hitting': 2, 'curtailed': 2, 'land-idling': 2, 'price-depressing': 2, 'keith': 2, 'livestock': 2, 'cattle': 2, 'benefit': 2, 'disaster': 2, '15,000': 2, 'herald': 3, 'edition': 2, 'hearst': 6, 'unsuccessful': 2, '238,000-circulation': 2, 'second-largest': 3, 'one-newspaper': 2, 'orange': 5, 'county': 3, '300,000': 2, 'attempted': 2, 'staff': 3, 'prospective': 3, 'marvin': 2, 'newsstand': 2, 'freeway': 2, 'balkanized': 2, 'newspaper': 5, 'mammoth': 2, 'old-time': 2, 'upscale': 4, 'staid': 2, 'tabloid': 2, 'fanciful': 2, 'architect': 2, 'julia': 2, 'renaissance-style': 2, 'bygone': 2, 'kendrick': 2, 'shows': 2, 'decade-long': 2, 'hired': 3, 'editor': 2, 'restored': 2, 'much-larger': 2, 'arts': 2, 'newsroom': 2, 'placement': 2, 'long-tenured': 2, 'reporter': 2, 'andy': 2, 'olympia': 2, 'broadcasting': 2, 'radio-station': 2, 'beleaguered': 2, 'buick': 7, 'joining': 3, 'boosting': 2, 'four-day': 2, 'sending': 2, 'began': 4, 'card': 8, 'approached': 2, 'phillip': 2, 'car-care': 2, 'gasoline': 2, 'charge': 3, 'disclosure': 2, 'gm': 2, 'considers': 2, 'direct-mail': 3, 'respected': 3, 'card-member': 2, 'advertised': 2, '6.9': 2, 'visa': 2, 'increase': 2, 'express-buick': 2, 'establishment': 2, 'vacation': 2, 'hotel': 2, 'grandfather': 2, 'stereo': 2, 'travel-related': 2, 'round-trip': 2, 'trans': 2, 'riviera': 3, 'luxury': 2, 'interest-rate': 4, 'borough': 2, 'gilt': 2, 'point': 2, '600': 2, 'lost': 2, 'soured': 2, 'capital-markets': 3, 'fulham': 2, 'swaps': 2, 'barclays': 2, 'midland': 2, 'illegality': 2, 'recover': 2, '190-point': 2, '1,400': 2, 'letter-writing': 2, 'kidder': 3, 'lightning-fast': 2, 'send': 2, 'volatile': 3, 'high-tech': 2, 'pension': 4, 'immense': 2, 'fast-growing': 2, 'stock-picking': 2, 'listed': 2, 'clannish': 2, 'falling': 2, 'gigantic': 2, 'abandoned': 2, 'arbitrage': 3, 'guard': 2, 'manager': 2, 'numbers': 2, 'bold': 2, 'palace': 2, 'ban': 2, 'contel': 2, 'anti-program': 2, 'gained': 2, 'invested': 2, 'consistent': 2, 'bitter': 2, 'phelan': 2, 'civil': 2, 'pitting': 2, 'denounce': 2, 'specialists': 2, 'fighting': 2, 'facilitate': 2, 'greedy': 2, 'free-enterprise': 2, 'gambling': 2, 'off-track': 2, 'brean': 3, 'old-fashioned': 2, 'pittsburgh': 3, 'computer-assisted': 2, 'momentary': 2, 'place': 2, 'via': 7, 'whichever': 2, 'razor-thin': 2, 'vanderbilt': 2, 'hans': 2, 'ual': 2, 'unload': 2, 'takeover-stock': 2, 'blue-chip': 2, 'halted': 2, 'old-style': 2, 'losing': 2, 'juggle': 2, 'pension-fund': 2, 'automated': 2, 'stock-specialist': 2, 'death': 2, 'order': 2, 'wide': 2, 'raymond': 2, 'broker': 2, 'legg': 2, 'mason': 2, 'nameless': 2, 'champion': 2, '13.8': 2, 'brothers': 3, 'came': 2, 'lynch-mob': 2, 'fastest-growing': 2, 'minted': 2, 'dollars': 2, 'helpful': 2, 'meet': 2, 'middle-ground': 2, 'margin': 6, 'away': 2, 'uptick': 5, 'pricing': 2, 'fundamentalists': 2, 'stock-price': 2, 'band-wagon': 2, 'cheaper': 3, 'index-fund': 3, 'leveraging': 2, 'should': 2, 'cheapest': 2, 'fundamental': 4, 'performance': 2, 'vast': 2, 'fundamentalist': 3, 'evil': 3, 'level': 3, 'sufficient': 2, 'transaction': 2, '-': 2, 'widget': 3, 'hypothetical': 2, 'finite': 2, 'eliminate': 3, 'cleaner': 2, 'labeling': 2, 'ultimate': 3, 'undergoing': 2, 'perceived': 2, 'whipping': 2, 'stock-selection': 2, 'damaging': 2, 'abolishing': 2, 'devouring': 2, 'mutual-fund': 2, 'sad': 2, 'stellar': 3, 'basis': 3, 'cost-effective': 2, 'high-volume': 2, 'temporary': 2, 'two-tiered': 2, 'transfer': 2, 'executes': 2, 'funding': 4, 'antitrust': 12, 'required': 2, 'ftc': 3, 'filing': 3, 'offsetting': 2, 'hart-scott-rodino': 2, 'notify': 2, 'charges': 2, 'don': 2, 'stifle': 2, 'dismal': 2, 'ballot': 6, 'off-year': 2, 'odd-year': 2, 'citizen': 3, 'patrick': 2, 'democracy': 2, 'citizen-sparked': 2, 'maine': 2, 'banning': 2, 'cruise': 2, 'north': 2, 'dakota': 2, 'petition': 2, 'completed': 2, 'backing': 2, 'brigham': 2, 'photograph': 3, 'single-lot': 2, 'exceeding': 2, 'reflect': 2, 'man': 2, 'miles': 2, 'brings': 2, 'million-a-year': 2, '900': 5, 'joel': 2, 'celebrity': 2, 'romance': 2, 'andrea': 2, 'telegraph': 3, 'eyeing': 2, '800': 2, 'recovery': 2, 'feline': 2, 'blood': 2, 'hammacher': 2, 'fiber-optic': 2, 'christmas': 2, 'string': 2, 'colored': 2, 'fiber-end': 2, 'prompts': 2, 'israel': 3, 'tokio': 2, 'fire': 2, 'preventative': 2, 'diaper': 8, 'shrinking': 2, 'super-absorbent': 2, 'cloth': 2, 'tots': 2, 'dydee': 2, 'day-care': 2, '672': 2, 'elisa': 2, 'stork': 2, 'velcro': 2, '57.6': 2, 'lowest': 2, 'impact': 2, 'sigmund': 2, 'do-it-yourself': 2, 'number': 2, 'blames': 2, 'junk': 10, 'interior': 2, 'deviant': 2, 'sound': 2, 'inherent': 2, 'buckhead': 2, 'investors': 4, 'voices': 2, 'did': 2, '59-year-old': 2, 'outlawing': 2, '31-year-old': 2, 'decries': 2, 'denouncing': 2, '25-year-old': 2, 'plays': 2, 'increases': 3, 'insurance-company': 2, 'given': 2, 'defends': 2, 'speculative': 2, 'lucille': 2, '84-year-old': 2, 'goes': 2, 'underwood': 3, 'current-carrying': 9, 'superconductor': 5, 'crystal-lattice': 3, '600,000': 2, 'magnetic': 4, 'yttrium-containing': 2, 'liquid-nitrogen': 2, '321': 2, 'degrees': 2, 'bulk': 2, 'conduct': 2, 'ceramic': 2, 'electrical': 2, 'van': 6, 'multi-crystal': 4, 'weak': 2, 'desired': 2, 'crystal': 3, 'bombarding': 2, 'collective': 2, 'flux': 2, 'melt-textured': 2, 'walbrecher': 2, '1st': 2, 'citadel': 3, 'fidelity': 2, 'effect': 2, '68': 2, 'after-tax': 2, 'association': 2, 'loss': 2, 'non-u.s.': 2, 'syndicate': 2, 'markets': 3, '8.467': 2, 'non-callable': 2, '57': 2, '1\\\\/8': 2, 'distributable': 2, '6.20': 3, '7.272': 3, '7.20': 2, 'term': 6, 'serial': 4, 'ana': 2, 'redevelopment': 2, 'allocation': 2, 'donaldson': 2, '6.40': 3, '7.458': 3, '7.422': 2, '7.15': 2, 'maryland': 2, '6.25': 3, '7.74': 3, 'alternative': 3, '7.40': 3, '7.45': 2, '7.50': 2, '7.65': 2, 'double-a': 2, 'heiwado': 2, 'equity-purchase': 2, '7\\\\/8': 2, 'europe': 2, 'svenska': 3, 'intecknings': 2, 'garanti': 2, '6.03': 2, 'swiss': 6, 'convertible': 3, 'yamaichi': 2, 'put': 3, '3.43': 2, 'franc': 3, 'pencil': 2, '3.42': 2, 'koizumi': 2, 'sangyo': 2, 'placed': 2, 'dai-ichi': 3, 'kangyo': 3, 'avid': 2, 'candlestick': 3, 'pretty': 2, 'major-league': 2, 'pepperdine': 2, 'economist': 2, 'dean': 2, 'dodger': 2, 'phoenix': 2, 'turned': 2, 'idea': 2, 'built': 2, '1,500': 2, 'dolphins': 2, 'city-owned': 2, 'moon': 2, 'orleans': 2, 'money-losing': 2, 'egyptian': 2, 'today': 2, 'reed': 2, '17.3': 2, 'discontinued': 2, '3.7': 2, '388': 2, '4.6': 2, 'cs': 5, '1980s': 2, 'bull': 2, 'difficult': 2, 'drexel': 3, 'burnham': 2, 'lambert': 2, 'worries': 2, 'credit-rating': 2, 'longer-term': 2, 'downgraded': 2, 'catch-22': 2, 'rating': 3, 'campeau': 3, 'high-risk': 2, 'mattress': 2, 'bedding': 2, 'aggressive': 3, 'guilty': 2, 'insider-trading': 2, 'earnings': 4, 'mercury': 3, 'sable': 2, 'heart': 2, 'car-development': 2, 'midsized': 3, 'eclipse': 2, 'chevrolet': 2, 'top-selling': 2, 'taurus': 2, 'parts': 2, 'assembly-line': 2, 'new-car': 2, 'american-made': 2, 'parts-engineering': 2, 'solomonic': 2, 'stark': 2, 'policy-making': 2, 'compelling': 2, 'synthetic': 2, 'hormone': 2, 'generic': 2, 'thousand': 2, 'common-law': 2, 'duck': 2, 'identical': 2, 'slippery': 2, 'mindy': 2, 'professor': 2, 'uncompensated': 2, 'reversed': 2, 'prescription': 2, 'save': 2, 'unanimous': 2, 'anti-morning-sickness': 2, 'beneficial': 2, 'liability': 2, 'expert': 2, 'hymowitz': 2, 'anti-miscarriage': 2, 'tort': 2, 'lousy': 2, 'compensate': 2, 'contingency-fee': 2, '1986': 2, 'replaced': 2, 'writing': 2, 'deserving': 2, 'billion-dollar': 2, 'odyssey': 2, 'may': 3, 'caldor': 2, '118': 2, '63': 2, 'dutch': 2, '6.70': 2, '4.10': 2, '32': 2, 'state-owned': 2, 'allergan': 2, 'intraocular': 2, 'foldable': 2, 'silicone': 2, 'cataract': 3, 'eye': 2, 'harmed': 2, 'el': 2, 'unfocused': 3, 'elco': 2, 'oshkosh': 3, 'truck': 3, 'start-up': 2, 'chassis': 3, 'softer': 2, 'motor-home': 2, 'contractor': 2, 'larger-than-normal': 2, 'transition': 2}, '-UNK-': {'<unk>': 1}, '.': {'<unk>': 1, 'vinken': 2, 'old': 7, '29': 3, 'n.v.': 3, 'group': 13, 'agnew': 2, 'plc': 6, 'conglomerate': 2, 'ago': 22, '*t*-1': 290, 'fiber': 2, 'crocidolite': 2, 'lungs': 2, 'later': 4, '*t*-2': 114, 'inc.': 31, 'cigarettes': 4, '1956': 3, 'medicine': 5, 'problem': 15, 'said': 8, ',': 343, 'story': 3, 'properties': 2, 'now': 28, '.': 219, '<s>': 284, 'risk': 4, 'institute': 6, 'university': 7, 'in': 7, 'amounts': 2, '1955': 2, '*-3': 7, 'substance': 2, 'died': 2, 'number': 6, 'diseases': 5, 'cancer': 3, 'mesothelioma': 2, '*?*': 24, 'talcott': 2, 'groton': 2, 'mass.': 7, 'countries': 7, 'plant': 7, 'co.': 26, 'filters': 3, 'asbestos': 3, 'chrysotile': 2, 'buildings': 2, 'smooth': 2, 'amphobiles': 2, 'mossman': 2, 'body': 2, 'july': 6, '1997': 2, '*-6': 2, '1950s': 2, 'bin': 2, 'described': 2, 'dust': 2, 'factory': 4, 'area': 3, 'phillips': 2, 'vose': 2, 'today': 10, 'slide': 3, 'rates': 18, 'tuesday': 13, 'year': 68, 'days': 34, 'august': 10, \"'s\": 20, 'period': 11, 'sooner': 2, 'institutions': 7, 'closely': 3, 'nevertheless': 3, 'negus': 2, 'report': 13, 'yields': 3, 'down': 9, 'auction': 2, 'example': 18, '%': 57, 'funds': 20, 'by': 8, 'week': 23, 'to': 59, '*u*': 177, 'typically': 3, 'dollar': 3, 'fund': 8, 'earlier': 11, 'fees': 6, 'yield': 4, 'bolduc': 2, 'company': 26, 'director': 5, 'daniels': 2, 'chairman': 11, 'resigned': 3, 'seats': 3, 'for': 24, 'share': 33, 'or': 21, 'year-end': 2, 's.p': 2, 'industry': 12, 'controls': 2, 'wickliffe': 2, 'ohio': 6, 'systems': 3, 'about': 27, 'debt': 10, 'acts': 2, 'kind': 2, 'from': 19, 'taxes': 3, 'earliest': 2, 'then': 12, 'corp': 10, 'sales': 10, 'service': 7, 'operations': 8, 'previously': 3, 'vitulli': 2, 'division': 11, 'years': 38, 'springs': 4, 'meeting': 6, 'owners': 3, 'idea': 5, 'course': 7, 'all': 7, 'maytag': 2, 'starters': 2, 'borge': 2, 'followed': 3, 'morning': 2, 'escort': 2, 'speedway': 2, 'lights': 5, 'it': 42, 'guests': 2, 'museum': 2, '*t*-3': 32, 'honor': 2, 'drivers': 3, 'race': 3, 'dummies': 2, 'two': 3, 'downtown': 2, 'again': 7, 'time': 29, 'dancing': 2, 'away': 8, 'ballroom': 2, 'mousseline': 2, 'consomme': 2, 'sauce': 2, 'tasty': 2, 'free': 4, 'ovation': 2, 'meetings': 3, 'february': 3, 'of': 58, 'october': 11, 'sluggishness': 2, 'wednesday': 7, 'economy': 7, 'at': 27, 'boom': 2, '1986': 9, 'disputes': 2, 'exports': 2, 'forecast': 2, 'newsweek': 4, 'magazine': 5, 'advertisers': 5, 'spoon': 3, 'president': 22, 'january': 3, 'full': 2, 'cost': 5, 'mid-october': 2, 'base': 5, 'subscriber': 2, 'plan': 9, 'on': 10, 'advertising': 3, 'with': 6, 'bonuses': 2, 'spending': 8, 'spent': 3, 'and': 23, '1990': 17, '1989': 14, '1,620': 2, 'bureau': 2, 'page': 2, 'fall': 2, 'subscribers': 2, 'watches': 5, 'however': 27, 'recently': 5, 'circulations': 2, 'newsweekly': 2, '4,393,237': 2, '3,288,453': 2, '2,303,328': 2, 'hampshire': 8, 'offer': 8, 'electric': 4, 'westborough': 2, 'offered': 3, 'the': 43, 'haven': 2, 'conn.': 7, 'hartford': 4, 'conn': 3, 'manchester': 2, 'n.h.': 2, 'rowe': 2, 'efficiencies': 2, 'true': 2, 'out': 7, 'nation': 3, 'attention': 3, 'factors': 2, 'bidding': 2, 'holders': 5, 'process': 2, 'increases': 2, 'bidders': 2, 'officials': 4, 'cluttered': 2, 'separately': 4, 'court': 7, 'cents': 7, 'trading': 40, 'ricken': 2, 'toys': 2, 'r': 2, 'jr.': 9, '63': 4, 'corp.': 32, 'chain': 2, 'rexinger': 2, 'glauber': 2, 'undersecretary': 2, 'board': 10, 'utility': 2, 'edison': 4, 'pool': 2, 'appeals': 2, 'order': 3, '1988': 14, 'be': 5, 'nightmare': 2, 'yesterday': 19, 'rockford': 3, 'ill.': 7, '1985': 6, 'ruling': 6, 'illegal': 3, 'expenses': 5, 'between': 5, '*-1': 57, 'interest': 5, 'additional': 4, 'calculations': 2, 'month': 18, '2': 6, 'end': 4, 'refund': 2, 'cars': 10, 'units': 5, 'september': 20, 'march': 5, 'tax': 8, 'ltd.': 9, 'devices': 4, 'seoul': 3, 'korea': 8, 'appliances': 2, 'creativity': 2, 'longevity': 2, 'designer': 2, 'cray': 4, 'sheet': 3, 'almost': 2, '*-18': 2, 'prototype': 2, 'moreover': 8, 'far': 7, 'prospects': 2, 'choice': 3, 'officer': 15, 'barnum': 3, 'interview': 5, 'cray-3': 3, '*-20': 2, 'seymour': 2, 'another': 2, 'that': 26, 'worst-case': 2, 'scenario': 3, 'jump': 2, 'its': 6, 'investor': 13, 'minneapolis': 5, 'stock': 9, 'age': 5, 'tricky': 2, 'technology': 7, 'chips': 3, 'arsenide': 2, 'equipment': 7, 'addition': 11, 'processors': 2, 'supercomputer': 3, 'competition': 5, 'research': 10, 'machine': 2, '1991': 11, 'three': 3, 'ltd': 5, 'range': 3, 'spinoff': 2, 'weeks': 12, '*-23': 2, 'instead': 5, 'decide': 2, 'nasdaq': 2, 'note': 2, 'assets': 6, 'development': 6, 'earnings': 3, 'hand': 6, 'a': 46, 'loss': 3, 'comment': 11, 'colo.': 6, 'contractor': 2, '*-25': 2, 'computer': 3, '*-26': 2, 'davenport': 2, '47': 3, 'blanchard': 2, '37': 2, 'engineering': 2, 'hammerton': 2, '40': 2, 'software': 5, 'wheeland': 2, '45': 3, 'hardware': 3, 'people': 12, 'stevens': 2, 'positions': 3, 'pardus': 2, 'hatch': 2, '59': 2, 'unit': 10, 'carney': 2, 'tassinari': 2, 'utilities': 2, 'u.s.': 23, 'diplomacy': 2, 'patents': 2, 'rights': 3, 'china': 5, 'thailand': 4, 'india': 2, 'mexico': 2, 'review': 2, 'law': 11, 'spring': 6, 'made': 2, 'progress': 4, 'issue': 16, 'is': 25, '*ich*-1': 2, 'nations': 5, 'an': 5, 'offending': 2, 'citizens': 2, 'there': 7, 'pirates': 2, 'agreement': 4, 'films': 2, 'arabia': 3, 'part': 6, 'works': 4, 'hook': 3, 'though': 4, 'japan': 27, 'italy': 3, 'canada': 5, 'spain': 2, 'priority': 2, 'list': 3, 'hoffman': 2, 'cases': 9, 'retaliation': 2, 'working': 2, 'malaysia': 5, 'elaborate': 6, 'turkey': 2, '30': 11, 'act': 7, 'world': 9, 'spokesman': 6, 'alurralde': 2, 'mulford': 2, 'banks': 11, 'menem': 2, '8': 3, '*-2': 14, 'history': 8, '1977': 4, 'ii': 10, 'market': 29, 'standards': 5, 'audiocassettes': 2, 'i': 3, 'club': 3, 'affordable': 2, 'office': 9, 'pcs': 4, 'altair': 2, 'imsai': 2, 'memories': 2, 'counterparts': 2, 'contributors': 2, '1981': 3, 'shugart': 2, 'heatherington': 2, 'engineers': 2, 'telephone': 2, 'ibm': 2, 'computers': 3, 'some': 5, 'world-wide': 2, 'label': 2, 'stake': 3, 'holdings': 2, 'field': 5, 'venture': 2, 'day': 8, 'barrels': 3, 'sloan': 2, 'managers': 6, 'businesses': 6, 'program': 13, 'quantities': 2, 'possessions': 2, 'treatment': 3, 'classifications': 2, 'categories': 2, 'islands': 2, 'preferences': 2, 'action': 7, 'hills': 6, 'mcalpine': 3, 'stronach': 3, 'around': 6, 'akerfeldt': 2, 'finance': 6, 'downturn': 3, 'growth': 10, 'dollars': 6, '-lrb-': 13, '-rrb-': 45, 'magna': 2, 'seek': 3, 'unsuccessfully': 2, 'parliament': 2, 'organization': 6, 'restructuring': 3, 'gingl': 2, 'executive': 7, 'career': 3, 'clients': 6, 'chilver': 2, 'totaling': 2, 'instruments': 4, 'maxwell': 2, 'conference': 4, 'investors': 15, 'kong': 2, 'similar': 3, 'bank': 15, 'goldman': 3, 'co': 16, 'new': 4, 'rate': 8, 'first': 6, 'prepayment': 2, 'decline': 7, 'second': 3, 'payments': 6, 'problems': 10, 'become': 3, 'outstanding': 5, 'buying': 2, '*': 15, 'pate': 2, 'concern': 13, 'members': 6, 'steel': 2, 'code': 3, 'debts': 2, 's.p.a.': 2, 'netherlands': 3, 'journal': 2, 'november': 4, 'companies': 11, 'gold': 2, 'currencies': 2, 'hefty': 2, 'june': 4, 'sharper': 2, 'country': 13, 'street': 8, 'firm': 16, 'portugal': 2, 'aquino': 2, 'province': 2, 'possible': 4, '?': 13, 'foot': 2, 'northampton': 2, 'mass': 3, 'mania': 2, '1920s': 2, 'crash': 8, 'closed-end': 2, 'type': 2, 'publicly': 3, 'london': 5, 'claims': 2, 'porter': 3, 'barney': 2, 'york': 34, 'securities': 7, 'markets': 17, 'instance': 8, 'portfolios': 3, 'reason': 5, 'skyrocketed': 2, 'premium': 3, 'integration': 4, 'premiums': 2, 'valuations': 2, 'here': 6, 'nonetheless': 2, 'says': 5, ':': 22, 'quickly': 5, 'government': 9, '*-49': 2, 'soviets': 5, 'say': 6, 'happen': 2, 'talks': 7, 'branch': 2, 'value': 4, 'off': 8, 'meanwhile': 12, 'declining': 2, 'booked': 2, 'contractors': 2, 'up': 7, 'patterns': 2, 'inflation': 3, 'mayland': 2, 'slack': 2, 'blank': 2, 'measures': 2, 'slowly': 2, 'index': 6, 'recession': 8, 'imbalances': 2, 'clues': 2, 'front': 4, '1987': 13, 'landing': 2, 'platt': 3, 'donaldson': 3, 'excessive': 2, 'goods': 3, 'before': 7, 'sector': 4, 'orders': 2, 'construction': 4, 'berson': 2, 'association': 6, 'homes': 3, 'private': 2, 'strength': 4, 'level': 4, '*-53': 2, 'renovation': 2, 'bretz': 2, 'stamford': 3, 'continuing': 3, 'slowing': 3, 'control': 4, 'fell': 4, 'months': 24, 'abating': 2, 'rise': 7, 'executives': 5, 'worsening': 2, 'imports': 2, 'import': 2, 'trend': 2, 'much': 5, 'dozen': 2, 'newcomer': 2, 'powder': 2, 'row': 3, 'milk': 3, 'quotas': 2, 'article': 6, 'adjusted': 2, 'chase': 5, \"''\": 10, 'kodansha': 2, 'pages': 4, 'common': 5, 'western': 2, 'american': 3, 'dogs': 2, 'whistle': 2, 'goode': 2, 'reruns': 2, 'harpo': 2, 'careers': 3, 'affairs': 4, 'reader': 2, 'lore': 2, 'self-aggrandizing': 2, 'we-japanese': 2, 'japanese': 3, 'outsiders': 2, 'if': 2, 'relations': 6, 'reality': 2, 'funny': 2, 'disaffected': 2, 'hard-drinking': 2, 'sinister': 2, 'degree': 2, 'girlfriend': 2, 'butterfly': 2, 'way': 6, 'man': 5, 'sweet': 2, 'wears': 2, 'else': 2, 'sheepskin': 2, 'novel': 2, 'wood': 2, 'lyrics': 2, 'writers': 2, 'pack': 2, 'idiomatic': 2, 'americana': 2, 'have': 4, 'wa': 4, 'macmillan': 2, 'baseball': 2, 'game': 5, 'harmony': 2, 'spirit': 4, 'average': 3, 'hara': 2, 'humble': 2, 'uncomplaining': 2, 'soul': 2, 'bat': 2, 'unrecognizable': 2, 'ushers': 2, 'hitter': 2, 'defeat': 2, 'lives': 3, 'giants': 2, 'road': 4, 'ballplayers': 2, 'team': 5, 'plate': 2, 'home': 6, 'business': 22, 'soho': 2, 'tokyo': 5, 'parties': 4, 'amusing': 2, 'supercilious': 2, 'passages': 2, 'mark': 3, 'solidarity': 2, 'manager': 5, 'young': 2, 'responsibility': 2, 'katzenstein': 3, 'walkman': 2, 'morita': 2, 'sony': 2, 'place': 6, 'something': 2, 'too': 3, 'kirkpatrick': 2, 'editor': 3, 'smoke': 2, 'singapore': 3, 'restaurants': 3, 'fine': 12, 'ban': 3, 'hours': 5, 'theaters': 2, 'buses': 2, 'elevators': 3, 'sulaiman': 2, 'smoking': 2, 'concerns': 6, 'places': 2, 'values': 2, 'bangkok': 2, 'hotel': 2, 'expansion': 2, 'committee': 6, 'sex': 2, '*t*-63': 2, 'tests': 8, '*-63': 2, '*-64': 2, 'aids': 2, 'had': 3, 'life': 7, 'men': 2, 'prices': 16, 'news': 5, 'announced': 2, 'environmentalists': 2, 'firms': 8, 'dam': 2, 'complete': 2, 'czechoslovakia': 3, 'project': 3, '*-68': 3, '1901': 2, '271,124': 2, '1972': 4, 'marriages': 2, '1999': 5, 'warrants': 4, 'buy': 4, 'purchase': 3, 'dealers': 4, 'actor': 2, 'lane': 2, 'writer': 3, '1976': 4, 'shot': 2, 'artist': 4, 'streets': 5, 'stories': 5, 'tramp': 3, 'dialogue': 3, 'person': 4, 'matter': 9, 'because': 7, 'marder': 2, 'ensembles': 2, 'exciting': 2, 'intertitles': 2, 'words': 4, 'dill': 2, 'benign': 2, 'purpose': 4, 'village': 2, 'jugglers': 2, 'hustlers': 2, 'cosmopolitan': 2, 'box': 2, 'routine': 2, 'passers-by': 2, 'carefree': 2, 'waif': 2, 'alysia': 2, 'thugs': 2, 'mother': 3, 'curse': 2, 'stakes': 2, 'building': 5, 'existence': 2, 'force': 7, 'sound': 2, 'talking': 2, 'rough': 2, 'voices': 2, 'his': 3, 'women': 4, 'harsh': 2, 'picture': 2, 'captivating': 2, 'who': 2, 'angle': 2, 'disagreeable': 2, 'woman': 3, 'giraud': 2, 'significance': 2, 'hypocrisy': 2, 'jews': 2, 'traitor': 2, 'marie-louise': 3, 'abortionist': 2, 'accidentally': 2, 'jam': 2, 'goodies': 2, 'client': 3, 'brief': 2, 'children': 3, 'husband': 2, 'chabrol': 2, 'huppert': 2, 'film': 3, 'recommend': 2, 'gringo': 2, 'revolution': 2, 'victory': 2, 'spot': 2, 'peck': 2, 'tip': 2, 'seeing': 2, 'finest': 2, 'twin-jet': 2, 'stages': 2, '767': 3, 'aircraft': 3, 'mid-1990s': 2, 'ad': 4, 'campaigns': 2, 'commercial': 6, 'campaign': 4, 'hostility': 2, 'mudslinging': 2, 'issues': 11, 'content': 2, 'napolitan': 2, 'television': 2, 'always': 3, 'politics': 3, 'stage': 2, 'bailey': 2, 'consultant': 3, 'entertaining': 2, 'not': 5, 'confrontational': 2, 'truthful': 2, 'themselves': 4, 'look': 2, 'city': 8, 'virginia': 3, 'small': 4, 'dinkins': 6, 'voice': 5, 'ailes': 3, 'ads': 3, 'accurately': 2, 'kidnapper': 2, 'kicker': 3, 'innuendoes': 2, 'siegal': 2, 'exist': 2, 'consultants': 2, 'doak': 2, 'own': 4, 'distorted': 2, 'photos': 2, 'politicians': 3, 'mayor': 3, 'announcer': 2, 'bullets': 4, 'pro-choice': 3, 'choose': 2, 'thing': 3, 'giuliani': 2, 'truth': 3, 'everybody': 2, 'nobody': 2, 'accurate': 3, 'oversight': 2, 'incomplete': 2, 'errors': 2, 'kidnapping': 2, 'but': 10, 'powers': 4, 'deceptive': 2, 'side': 4, 'reservations': 2, 'legislation': 3, 'flag': 3, 'liberty': 2, 'generations': 2, 'screen': 2, 'continues': 2, 'abortion': 9, 'incest': 2, 'coleman': 3, 'general': 5, 'ordeal': 2, \"c'mon\": 2, 'boyfriends': 2, 'interjects': 2, 'rapists': 2, 'constituent': 2, 'lawmakers': 3, 'request': 2, 'interrogation': 2, 'campaigner': 2, 'rozell': 2, 'college': 6, 'important': 4, 'campaigning': 2, 'night': 3, 'victims': 3, 'jersey': 3, 'rival': 3, 'courter': 3, 'pinocchio': 2, 'squier': 2, 'focus': 3, 'purrs': 2, 'property': 3, 'fraud': 2, 'grows': 3, 'involved': 2, 'partisans': 2, 'itself': 4, 'one': 7, 'candidates': 3, 'lying': 4, 'land': 3, 'oil': 2, 'pollution': 2, 'salmore': 3, 'environment': 6, 'so': 10, 'was': 4, 'devastating': 2, 'credibility': 3, 'tradition': 2, '1966': 2, \"o'connor\": 2, 'saying': 5, 'high': 9, 'friday': 2, '31': 7, 'decades': 2, 'questions': 5, 'motion': 2, 'hormats': 3, 'approved': 4, 'trade': 6, 'region': 8, 'production': 4, 'tigers': 2, 'washington': 11, 'ground': 3, 'decade': 6, 'behemoth': 2, 'evolution': 3, 'export': 2, '1990s': 3, 'yen': 10, 'investment': 6, 'decisions': 3, 'donor': 3, 'drobnick': 2, 'approach': 5, 'rather': 2, 'sectors': 2, 'calder': 2, 'electronics': 3, 'indonesia': 3, 'zone': 2, 'ties': 2, 'telecommunications': 2, 'australia': 2, 'brunei': 2, 'baker': 2, 'hawke': 2, 'asia': 5, 'europe': 6, 'shape': 3, 'friends': 2, 'architecture': 2, 'caution': 2, 'functions': 2, 'farren': 2, 'benevolent': 2, 'attitude': 2, 'everyone': 2, 'influence': 2, 'juggernaut': 2, 'lee': 2, 'pennsylvania': 2, 'eyes': 2, '16': 4, 'sheets': 3, 'uncanny': 2, '...': 7, 'word': 3, 'fact': 6, 'section': 2, 'notes': 14, 'protest': 3, 'test': 11, 'yeargin': 7, 'school': 10, 'classes': 3, 'answers': 5, 'security': 2, 'jail': 2, 'downfall': 2, 'students': 12, 'betrayer': 2, 'shame': 2, 'harshly': 2, 'actions': 3, 'martyr': 2, 'reform': 4, 'laws': 5, 'scores': 7, 'haney': 2, 'disturbing': 2, 'educators': 4, 'wrongdoing': 8, 'education': 5, 'albuquerque': 3, 'n.m.': 3, 'often': 3, 'practices': 3, 'booming': 2, 'materials': 9, 'them': 15, 'teachers': 3, 'blessing': 2, 'county': 2, 'district': 4, 'wrenching': 2, 'state-supervised': 2, 'interventions': 2, 'firings': 2, 'money': 10, 'projects': 3, 'superintendent': 2, 'results': 4, 'examination': 2, 'cheating': 5, 'founder': 2, 'cannell': 3, '*t*-4': 8, 'sandifer': 2, 'foundation': 2, 'inferences': 2, 'abuse': 3, 'brightest': 2, 'governors': 2, 'woodward': 2, '1980s': 4, 'facade': 2, 'class': 4, 'ward': 6, 'principal': 4, 'awful': 2, 'low': 5, 'programs': 7, 'breakdown': 2, 'term': 5, 'halls': 2, 'student': 2, 'academically': 2, 'disparate': 2, 'split': 2, 'groups': 4, 'blacks': 2, 'poor': 3, 'run-down': 2, 'neighborhoods': 2, 'deadwood': 2, 'safety': 4, 'behalf': 3, 'betterment': 2, 'dismissal': 2, 'curriculum': 3, 'favorite': 2, '1987-88': 2, 'state': 7, 'cadet': 2, 'cheerleaders': 2, 'literacy': 2, 'as': 14, 'lady': 2, 'together': 3, 'dobson': 2, 'teacher': 4, 'marchand': 3, 'grader': 2, 'green': 2, 'senior': 2, 'classroom': 4, 'approaches': 2, 'competitions': 2, 'weekends': 2, 'sometimes': 2, 'grandstander': 2, 'build': 2, 'hard': 2, 'hearing': 5, 'longer': 2, 'her': 6, 'win': 4, 'recognition': 2, 'ariail': 2, 'indeed': 8, 'adequately': 2, 'correct': 2, 'situation': 4, 'sociology': 2, 'newspapers': 4, 'mostly': 2, 'heart': 2, 'alive': 2, 'blow': 2, 'help': 3, 'child': 2, 'watson': 2, 'case': 14, 'adding': 3, 'unfair': 2, 'really': 2, 'system': 4, 'hands': 2, 'certificate': 2, 'declined': 2, 'like': 3, 'dumbfounded': 2, 'me': 2, 'authorities': 2, 'mrs': 2, 'support': 4, 'testing': 3, 'offense': 2, 'host': 3, 'wrong': 2, 'show': 4, 'us': 10, 'record': 5, 'witnesses': 2, 'squad': 2, 'go': 4, 'soon': 7, 'back': 4, 'read': 2, 'harm': 3, 'rice': 2, 'pay': 5, 'key': 3, 'worms': 2, 'reinstatement': 2, 'charges': 3, 'relieved': 2, 'favor': 2, 'slate': 2, 'know': 2, 'graders': 2, 'ix': 2, 'three-sevenths': 2, 'instances': 2, 'more': 4, 'macmillan\\\\/mcgraw-hill': 2, 'parent': 5, 'booklets': 3, 'subindustry': 2, 'took': 2, 'kaminski': 3, 'mich.': 5, 'coaching': 2, 'grade': 2, 'skills': 3, 'significant': 5, 'arizona': 2, 'california': 6, 'florida': 3, 'louisiana': 2, 'maryland': 2, 'texas': 5, 'tools': 2, '0': 4, 'million': 6, 'kean': 2, 'macmillan\\\\/mcgraw': 3, 'coincidental': 2, 'schoolteacher': 2, 'mehrens': 2, 'professor': 3, 'scale': 2, 'cat': 2, 'subskills': 3, 'figures': 3, 'volume': 4, 'graphs': 2, 'many': 3, 'procedures': 2, '64.5': 2, 'items': 2, 'brownell': 2, 'ignoring': 3, 'format': 2, 'avoid': 2, 'house': 8, 'outraged': 2, 'form': 2, 's&l': 2, 'transplants': 6, 'abortions': 2, 'mason': 3, 'health': 7, 'indefinitely': 2, 'scientific': 2, 'conditions': 3, 'funding': 4, 'novello': 2, 'posts': 2, 'excellence': 2, 'scientists': 2, 'applications': 4, 'genel': 2, 'exists': 2, 'fronts': 2, 'syndrome': 2, 'retardation': 2, 'summary': 2, 'stocks': 18, 'shares': 13, '446.62': 2, 'well': 9, '449.04': 2, '436.01': 2, 'exchange': 8, 'announcement': 3, 'targets': 3, 'speculators': 3, 'jennison': 2, 'department': 8, 'bancorp': 3, '69': 2, 'macheski': 2, 'wilton': 2, 'deal': 7, 'light': 2, 'financial': 2, 'higher': 4, '1\\\\/4': 5, 'each': 6, '3\\\\/4': 6, 'nesb': 2, '7\\\\/8': 3, '5\\\\/8': 3, 'loan': 3, 'nelms': 2, 'strong': 2, 'receipts': 2, 'adrs': 2, 'swap': 2, 'media': 3, 'radio': 3, 'directors': 3, 'sugarman': 3, 'huntsville': 2, 'ala.': 2, 'than': 15, 'cash': 4, 'warnings': 2, 'bar': 2, 'privilege': 3, 'transactions': 14, '8300': 2, 'name': 2, 'payment': 3, 'forms': 2, 'effect': 6, 'sonnett': 3, 'lawyers': 2, 'mail': 2, 'accounts': 5, 'lefcourt': 2, 'requirement': 3, 'ross': 2, 'death': 3, 'taxpayers': 2, 'may': 6, 'notice': 2, 'detroit': 4, '8300s': 2, 'prosecutors': 2, 'confidential': 2, 'victim': 3, 'fanfare': 2, 'sacramento': 2, 'calif': 4, 'raise': 3, 'make': 2, 'annually': 2, 'ramirez': 2, '44': 2, 'accountants': 2, 'eye': 2, 'sum': 2, 'job': 5, 'orrick': 2, 'sutcliffe': 2, 'better': 6, 'detail': 2, 'lawyer': 4, 'punish': 2, 'line': 4, 'trudeau': 4, 'member': 4, 'darkhorse': 3, 'lawsuit': 2, 'suit': 4, 'attorney': 2, 'samnick': 3, 'panel': 3, 'unjustified': 3, 'damages': 2, 'services': 9, 'referrals': 2, 'encourage': 2, 'december': 4, 'park': 5, 'queers': 2, 'boys': 3, 'murray': 5, 'fairness': 2, 'judge': 2, 'prejudice': 2, 'he': 3, 'prostitute': 2, 'justice': 2, 'conduct': 2, 'sanctions': 3, 'lowe': 2, 'indictment': 2, 'gaf': 2, 'wayne': 2, 'n.j.': 6, 'maker': 5, 'defense': 2, 'mayer': 2, 'bromwich': 3, 'north': 2, 'd.c.': 3, 'work': 5, '35': 3, 'manhattan': 2, 'albany': 2, 'ga.': 2, 'inc': 11, 'practice': 3, 'makers': 2, 'pricing': 2, 'contract': 4, 'fujitsu': 3, 'alone': 4, 'nec': 2, 'competitors': 2, 'lottery': 3, 'understood': 2, 'violations': 4, 'trouble': 2, 'yamamoto': 3, 'headquarters': 4, 'bids': 4, 'were': 2, 'sense': 2, 'society': 2, 'situations': 3, 'benefits': 5, 'scrutiny': 3, 'behavior': 2, 'question': 2, 'municipality': 2, 'debate': 3, 'supercomputers': 2, 'factor': 3, 'one-yen': 2, 'library': 2, 'prefecture': 2, 'nagano': 2, 'contracts': 4, 'investigating': 2, 'emerge': 2, 'ethical': 2, 'sasaki': 2, 'keidanren': 2, 'organizations': 3, 'papers': 2, 'backe': 2, 'tv': 3, 'capital': 9, 'stores': 3, 'shovels': 2, 'heidelberg': 2, 'germany': 3, 'dresser': 2, 'productivity': 2, 'monitor': 2, 'b': 2, 'surprise': 2, 'demand': 4, 'estimated': 4, 'quarter': 7, 'techniques': 2, 'corrigan': 2, 'midyear': 2, 'result': 5, 'reductions': 2, 'charge': 2, 'decision': 2, 'clara': 2, 'calif.': 12, 'facility': 3, 'positioned': 2, 'stark': 2, 'robertson': 2, 'while': 2, 'closed': 2, 'summer': 2, 'lake': 2, 'n.j': 6, 'kuhns': 2, '10': 3, 'indicators': 3, 'stalemate': 3, 'goldinger': 2, 'bonds': 12, 'dollar-yen': 2, 'trettien': 2, 'continue': 2, 'erode': 2, 'marks': 2, 'thursday': 4, 'madison': 3, 'angeles': 4, 'wings': 3, 'evidence': 3, 'over': 5, 'recede': 2, '50': 2, 'ounce': 3, 'ounces': 2, '1984': 6, 'network': 2, 'bought': 2, 'cosby': 9, 'shows': 4, 'expectations': 2, 'distributor': 2, 'ultimatum': 2, 'losing': 2, 'competitor': 2, 'tactics': 2, 'negotiate': 2, 'gillespie': 2, 'marketing': 3, 'midwest': 2, 'take': 2, 'networks': 2, 'strike': 3, 'rising': 3, 'providence': 3, 'r.i.': 2, 'cleveland': 2, 'raleigh': 2, 'n.c.': 3, 'louisville': 3, 'ky.': 2, 'renew': 2, 'lobo': 2, 'wtvj': 2, 'miami': 4, 'has': 5, 'kuvin': 2, 'whas': 2, 'adds': 3, 'frankly': 2, 'viacom': 2, 'taipei': 2, 'wu': 2, 'taiwan': 2, 'products': 5, 'space': 2, 'brooklyn': 4, 'n.y.': 8, 'poore': 4, 'crisis': 3, 'composting': 2, 'toilet': 2, 'offenders': 2, 'feature': 2, 'dumpster': 3, 'offender': 2, 'standpoint': 2, 'belt': 2, 'others': 3, 'soup': 4, 'premiere': 2, 'column': 2, 'foam': 2, 'non-biodegradable': 2, 'monster': 2, 'garbage': 3, '*-4': 5, 'admits': 2, 'recyclability': 2, 'surprisingly': 4, 'spenders': 3, 'white': 3, 'needham': 3, 'chicago': 8, 'coors': 2, 'international': 5, 'haul': 3, 'publisher': 2, 'survive': 2, 'initially': 4, 'revenues': 2, 'paper': 10, 'newsstands': 2, 'subscriptions': 2, 'policy': 3, 'replies': 2, 'care': 4, 'discount': 2, 'account': 8, 'philadelphia': 5, 'spiro': 2, 'dugdale': 2, 'baltimore': 3, 'fax': 2, 'mather': 2, 'agency': 4, 'rubicam': 2, 'rentals': 2, 'accidents': 2, 'avrett': 2, 'ginsberg': 2, 'associates': 3, 'acquisition': 4, 'communications': 2, 'pittsburgh': 2, 'containers': 4, 'hamilton': 2, 'sell': 7, 'apiece': 2, 'temple': 3, 'sherwood': 2, 'approximately': 2, 'buy-back': 2, 'bid': 3, 'necessary': 3, 'management': 4, 'materialize': 2, 'only': 4, 'bermuda': 2, 'raises': 2, 'legal': 2, 'regulatory': 2, 'been': 2, 'positive': 2, 'advocates': 3, 'minivans': 3, 'models': 2, 'vans': 3, 'congress': 13, 'administration': 8, 'hurley': 2, 'danforth': 2, 'r.': 4, 'mo': 2, 'deaths': 2, 'protection': 3, 'less': 6, 'vehicle': 3, 'inches': 2, 'trucks': 2, '1': 11, 'deadline': 2, 'leinonen': 2, '1982': 4, 'belts': 2, 'easily': 3, 'autos': 2, 'railcars': 3, 'heights': 5, 'elmhurst': 2, 'ill': 2, 'walters': 2, 'milne': 2, '65': 2, 'england': 5, 'offers': 2, 'massachusetts': 2, 'currently': 5, 'connecticut': 2, 'driscoll': 2, 'certainly': 2, 'partner': 2, '*t*-160': 2, 'partners': 2, 'added': 2, 'hot': 3, 'matters': 2, 'passage': 2, 'slump': 2, '18,000': 2, '15': 5, 'kearny': 2, 'henderson': 2, 'butler': 2, '64': 2, 'retiring': 2, 'winiarski': 2, 'valley': 3, 'balked': 2, 'experience': 5, 'such': 2, 'available': 2, 'sauvignon': 2, 'highest': 2, 'bottle': 9, 'superpremiums': 2, 'quality': 3, 'classics': 2, 'growths': 2, 'lafite-rothschild': 2, 'latour': 2, 'haut-brion': 2, 'petrus': 5, 'burgundies': 2, 'tache': 3, 'champagnes': 2, 'cristal': 2, 'wines': 5, 'tuscany': 3, 'globe': 2, 'bottles': 2, 'are': 7, '!': 3, 'modest': 2, 'vintages': 2, 'yquem': 2, 'sauternes': 2, 'runs': 2, 'champagne': 2, 'toward': 2, 'blancs': 2, 'landonne': 2, 'burgundy': 2, 'romanee-conti': 3, 'vintage': 2, 'richebourg': 3, 'estate': 3, 'coche-dury': 2, 'solaia': 2, '1979': 4, 'dallas': 3, 'scarce': 2, 'continued': 2, \"'50s\": 2, 'bargain': 2, 'creek': 3, 'asked': 2, 'retail': 4, 'roughly': 2, 'wholesale': 2, 'no': 3, 'responses': 4, 'yes': 2, '3': 4, '12': 2, 'thin': 3, 'states': 7, 'expensive': 3, 'pratt': 3, 'skokie': 2, 'six-packs': 2, 'gone': 3, 'move': 4, 'collection': 2, 'shapiro': 2, 'terrace': 2, 'cabernets': 2, 'cabernet': 2, 'rapidly': 2, 'orleans': 6, 'chardonnay': 2, 'movement': 2, '*-100': 2, 'mesnil': 2, 'wine': 2, 'door': 4, 'bordeaux': 2, 'moment': 3, '23': 2, 'fare': 2, 'moderated': 2, 'black': 2, 'guffey': 4, 'date': 2, 'johnson': 4, 'plunge': 4, 'since': 3, 'manufacturing': 3, 'particular': 4, 'fed': 2, 'activity': 6, 'types': 2, 'districts': 2, 'particularly': 2, 'discretionary': 2, 'furniture': 2, 'areas': 3, 'slowdown': 2, 'halt': 2, 'credit': 4, 'pleased': 2, 'performance': 6, 'see': 2, 'chance': 2, '21': 4, 'integra': 3, 'hotels': 2, 'shareholders': 5, 'hallwood': 2, 'steelmaker': 2, 'shelby': 2, '230-215': 2, 'stoppage': 2, 'ceiling': 5, 'basham': 2, '*-106': 2, 'schedule': 2, 'taxpayer': 2, 'bankers': 2, 'costs': 5, 'default': 2, 'imperative': 2, 'redeem': 2, 'refunding': 2, '--': 5, '1992': 3, '2019': 5, 'offering': 3, 'balance': 2, 'remaining': 2, 'bills': 5, 'transaction': 4, 'reames': 2, 'clive': 2, 'iowa': 5, 'fractionally': 2, 'modestly': 3, '644': 2, 'currency': 2, 'sight': 2, 'book': 2, 'point': 6, 'amount': 2, 'rose': 5, 'sierra': 2, 'parts': 2, 'alternatives': 3, 'combinations': 2, 'simmons': 2, '*-113': 2, 'bull': 2, 'leming': 2, 'gulf': 2, 'nl': 4, 'martin': 3, 'succeed': 2, 'consent': 3, 'satrum': 2, '*t*-181': 2, '*-115': 2, 'earned': 5, 'westport': 2, 'retin-a': 2, 'elsewhere': 3, 'kligman': 2, 'acne': 2, 'brunswick': 2, 'acquisitions': 3, 'barriers': 2, 'climate': 2, 'initiative': 2, 'dallara': 2, 'secretary': 2, 'leaders': 2, 'rancor': 2, 'regular': 2, 'interests': 3, 'watanabe': 2, 'britain': 3, 'fuel': 2, 'jr': 2, 'profit': 9, 'texan': 2, 'bentsen': 2, 'other': 4, '*t*-187': 2, 'concessions': 2, 'anything': 4, 'official': 3, 'discussions': 2, 'monday': 5, 'little': 2, 'wayland': 2, 'maze': 2, 'lesions': 2, 'count': 2, 'sold': 2, 'product': 5, 'olsen': 2, 'use': 5, 'ideas': 3, '*t*-191': 2, 'invested': 2, 'large': 3, 'corporations': 2, 'center': 3, 'conspicuous': 2, 'knowledge': 2, 'fit': 2, 'warrenton': 2, 'va.': 2, 'glass': 2, 'bodner': 2, 'wakui': 2, 'inside': 2, 'outside': 3, 'arrangement': 2, 'mitsubishi': 2, 'mitsui': 3, 'counterpart': 2, 'combines': 2, 'commodities': 3, 'sogo-shosha': 2, 'klauser': 3, 'u.s.a.': 3, 'houses': 4, 'kondo': 2, 'investments': 3, 'ventures': 2, 'goal': 2, 'objectives': 2, 'return': 4, 'deals': 3, 'businessman': 2, 'davies': 2, 'unsympathetic': 2, 'flows': 3, 'hay': 2, 'stearn': 4, 'departure': 4, 'maintenance': 2, 'airports': 2, 'langner': 2, 'convenient': 2, 'driskill': 2, 'things': 4, 'checking': 4, 'card': 11, 'loans': 5, 'put': 2, 'deposit': 3, 'loyalty': 2, 'atlanta': 3, 'population': 3, 'moore': 2, 'charlotte': 4, 'memphis': 2, 'tenn.': 2, 'thirtysomething': 2, 'theory': 2, 'individuals': 2, 'elderly': 2, 'savings': 2, 'macdonald': 2, 'jacksonville': 2, 'fla.': 10, 'styles': 2, 'sub-markets': 2, 'package': 5, 'clubs': 2, 'games': 3, '1973': 2, 'fee': 3, 'copycats': 2, 'packages': 3, 'margins': 3, 'ones': 5, 'profitable': 3, 'mid-1970s': 2, 'geography': 2, '1970s': 3, 'deposits': 3, 'cds': 2, 'local': 2, 'money-center': 2, '-rcb-': 2, 'unions': 2, 'consumer': 2, 'sullivan': 2, 'n.c': 3, 'costly': 2, 'troubles': 3, 'customers': 4, 'savers\\\\/investors': 2, 'drawbacks': 2, 'segments': 2, 'jacob': 2, 'comprehensive': 2, 'still': 5, 'flourish': 2, 'needs': 2, 'direction': 2, 'sale': 3, 'union': 2, 'store': 2, 'boutique': 2, 'iras': 2, 'chandler': 2, 'ariz.': 2, 'chevrolet': 2, 'vacation': 3, '4': 2, 'necklace': 2, '5': 3, 'spend': 2, 'change': 5, 'insolvency': 2, 'promise': 2, 'your': 2, 'solvent': 2, 'deficit': 5, 'survival': 3, 'doors': 2, 'good': 4, 'bass': 2, 'ranieri': 2, 'confidence': 2, 'sufficiency': 2, 'worth': 2, 'wait': 2, 'worse': 2, 'just': 2, 'every': 3, 'morale': 2, 'breaker': 4, 'slides': 2, 'emergencies': 2, 'collar': 3, 'limit': 2, 'points': 6, 'p.m': 3, '13': 7, 'session': 4, '30-minute': 2, 'industrials': 2, 'melamed': 2, 'synchronized': 2, 'approval': 3, 'shortly': 3, 'sell-offs': 2, 'manually': 2, 'phelan': 4, 'volatility': 13, 'proposal': 2, 'language': 3, 'bill': 7, 'mushy': 2, 'could': 2, 'markey': 4, 'd.': 10, 'public': 2, '*-132': 2, 'dingell': 2, 'trades': 6, 'commission': 3, 'english': 2, 'peculiarities': 2, 'sayers': 2, 'tailors': 2, 'aslacton': 3, 'fields': 3, 'tower': 5, 'evensong': 2, '1614': 2, 'discordant': 2, 'evening': 2, 'bells': 7, 'band': 3, 'ringers': 8, 'remains': 2, 'hammond': 3, 'training': 3, 'anglia': 2, 'scrape': 2, 'worker': 2, 'youngsters': 2, 'dances': 2, 'pealing': 2, 'childish': 2, 'foreigners': 2, 'change-ringing': 2, 'dexterity': 2, 'ton': 2, 'concentration': 2, 'rounds': 2, 'lowest': 2, 'using': 2, 'churches': 4, 'signal': 2, 'striking': 2, 'variation': 2, 'once': 3, 'changes': 3, 'methods': 2, 'caters': 2, 'peal': 2, 'circle': 2, 'stance': 2, 'chamber': 2, 'speaks': 2, 'absorbed': 2, 'ahead': 3, 'vision': 2, 'rope-sight': 2, 'pulls': 2, 'belfry': 4, 'wheels': 2, 'degrees': 2, 'ending': 2, 'inverted': 2, 'position': 3, 'swing': 3, 'passion': 2, 'perfection': 2, 'obsession': 2, 'pattenden': 2, 'sweat': 2, 'pub': 2, 'below': 3, 'clerics': 2, 'dwindling': 2, 'hummerstone': 2, 'torrington': 3, 'devon': 2, 'premises': 2, 'congregation': 2, 'ilminster': 2, 'somerset': 2, 'attendance': 2, 'vicar': 2, 'jones': 2, 'would': 4, 'wound': 2, 'marshall': 2, 'church': 3, 'altar': 2, 'crunch': 4, 'bang': 4, 'above': 3, 'prayer': 2, 'himself': 4, 'vicars': 2, 'baldwin': 4, 'entitled': 2, 'ring': 2, 'also': 6, 'successful': 2, 'everywhere': 2, 'youths': 2, '1637': 2, 'male-only': 2, 'abbey': 2, 'red-blooded': 2, 'male': 2, 'peals': 3, 'they': 3, '*-141': 2, 'dressed': 2, 'beer-belly': 2, 'ringing': 2, 'die': 3, 'checks': 2, 'easy': 2, 'past': 4, 'bernstein': 5, 'valuation': 2, 'mating': 2, 'boesel': 2, 'invariably': 2, 'environments': 2, 'held': 2, 'anxious': 2, 'smartly': 2, 'price': 4, '500': 5, 'benchmark': 2, 'tanked': 2, 'exception': 3, 'perritt': 2, 'data': 3, 'debacle': 2, 'times': 7, '1929': 2, '1933': 2, '1961': 2, '1965': 2, '1968': 2, 'manner': 3, 'coxon': 2, 'insurer': 2, 'historically': 2, 'dividends': 4, 'einhorn': 2, 'profits': 3, 'slowdowns': 2, 'doerflinger': 2, 'argument': 2, 'weaken': 2, 'sachs': 2, 'expenditures': 2, 'levels': 3, 'weak': 2, 'outlook': 2, 'consideration': 2, 'invention': 2, 'telegraph': 2, 'father-in-law': 2, 'hubbard': 2, 'well-connected': 2, 'boston': 4, 'grandfather': 2, 'berliner': 2, 'princely': 2, 'patent': 2, 'plight': 2, 'quarters': 2, 'altogether': 2, 'jerritts': 2, 'further': 4, 'resources': 3, 'different': 3, 'legend': 2, 'relationship': 2, 'nixon': 6, 'massacre': 2, 'chinese': 2, 'turn': 2, 'interference': 2, 'newspaper': 4, 'daily': 2, 'friend': 2, 'toast': 2, 'friendship': 2, 'shangkun': 2, 'hundreds': 2, 'thousands': 2, 'demonstrators': 2, 'yang': 2, 'fashion': 2, 'killings': 2, 'leader': 2, 'xiaoping': 2, 'speaking': 2, 'exchanges': 4, '7': 3, 'wife': 2, 'shuxian': 2, 'afterwards': 2, 'citizen': 2, 'adviser': 2, 'scowcroft': 2, 'saturday': 2, 'party': 3, 'policies': 2, 'fang': 2, 'borders': 2, 'signs': 2, 'concession': 2, 'embassy': 2, 'enough': 3, 'residence': 2, 'pistols': 2, 'americans': 2, 'trigger': 2, 'graduates': 2, 'employees': 6, 'tree': 2, 'believes': 2, 'worship': 2, 'everything': 2, 'unfortunately': 2, 'beautiful': 3, 'manufacturers': 2, 'images': 2, 'perceptions': 2, 'vacations': 2, 'negatives': 2, 'liberals': 2, 'prof': 2, 'ethel': 2, 'professionals': 3, 'spouse': 2, 'bush': 4, 'distasteful': 2, 'newsworthy': 2, 'insidious': 2, 'perspective': 2, 'denominator': 2, 'birmingham': 2, 'ala': 2, 'rules': 3, 'nasd': 2, '*-151': 2, 'rey': 2, 'listing': 3, 'otero': 2, '*-155': 2, 'lauderhill': 2, 'plantation': 2, 'rosenblum': 2, '*-156': 2, 'danville': 3, 'settlement': 3, 'clemens': 2, 'crane': 2, 'canepa': 2, 'suspension': 22, 'capacity': 4, 'records': 3, 'principals': 2, 'island': 2, 'wash.': 2, 'mcfall': 3, 'inaccurate': 2, 'georgetown': 3, 'del.': 2, 'improvement': 2, 'markdown': 2, 'respond': 2, 'complaint': 2, 'adams': 2, 'killeen': 2, 'shores': 2, 'anthony': 3, 'stirlen': 2, 'bonnell': 2, 'boulder': 2, 'boorse': 2, 'horsham': 2, 'pa.': 7, 'chiodo': 2, 'cotran': 2, 'curry': 2, 'disgorge': 7, 'davis': 2, 'colonsville': 2, 'miss.': 3, 'dompierre': 2, 'valrico': 2, 'felten': 2, 'spitler': 2, '*-5': 3, 'ticket': 2, 'fishman': 2, 'longwood': 2, 'floyd': 2, 'houston': 4, 'bronx': 2, 'jalaalwalikraam': 2, 'glenham': 2, 'knapp': 2, 'louis': 4, 'najarian': 2, 'minn.': 2, 'norwick': 2, 'nesconset': 2, 'sr.': 2, 'hermitage': 2, 'rankin': 2, 'mo.': 2, 'sanderoff': 2, 'gaithersburg': 2, 'md.': 2, 'smith': 4, 'ridgefield': 2, 'spence': 2, 'aloha': 2, 'ore.': 3, 'sun': 3, 'estates': 2, 'swearingen': 2, 'wong': 2, 'francisco': 5, 'zayed': 2, 'enright': 2, 'russel': 2, 'glendale': 2, 'dahl': 3, '*-7': 2, 'reps': 2, 'mistakes': 2, 'cole': 2, 'jackson': 2, 'cross': 2, 'denver': 2, 'meinders': 2, 'cutrer': 3, 'rouge': 3, 'la.': 2, 'hale': 2, 'midvale': 2, 'utah': 2, 'hayne': 2, 'kane': 2, 'merrick': 2, 'aurora': 3, 'miller': 2, 'pace': 2, 'pitcher': 2, 'russo': 2, 'bridgeville': 2, 'sandberg': 2, 'marchese': 2, 'vegas': 4, 'nev.': 4, 'monchecourt': 2, 'activities': 4, 'license': 2, 'into': 2, 'loom': 2, 'concerned': 2, 'difference': 2, 'overlap': 2, 'arbitrage': 10, 'futures': 2, 'utsumi': 2, 'wary': 2, 'surge': 2, 'purchases': 2, 'catch-up': 2, 'maughan': 2, 'wadsworth': 2, 'sophisticated': 2, 'america': 2, 'attractions': 3, 'tapes': 2, 'begins': 2, 'close': 2, 'execute': 2, 'barfield': 2, '9,118': 2, 'derivatives': 2, 'floor': 4, 'jobs': 3, 'compromise': 4, 'april': 3, 'williams': 2, 'mont': 2, 'wage': 6, 'roukema': 2, 'youth': 2, 'means': 2, 'insistence': 2, 'hour': 2, 'restriction': 2, '*not*': 2, 'workers': 3, 'commerce': 3, 'increase': 2, 'consumers': 2, 'handling': 2, 'mode': 2, 'gentle': 2, 'roosevelt': 2, 'hahn': 3, 'unsolicited': 2, 'shoulder': 3, 'scenes': 2, 'tough': 2, 'war': 2, 'fold': 3, 'correll': 3, 'griffin': 2, 'nekoosa': 2, 'consensus': 2, 'universities': 2, 'strother': 2, 'stand': 2, '1970': 5, 'pamplin': 2, '1975': 2, 'chemicals': 3, 'ranks': 2, 'physicist': 2, 'classmates': 2, '18': 3, 'retentive': 2, 'memory': 2, 'understatement': 2, 'photographic': 2, 'georgia-pacific': 2, '1983': 3, 'covers': 2, 'remodeling': 2, 'best': 2, 'impressive': 2, 'diversification': 2, 'match': 2, 'waters': 3, 'mcauley': 2, 'least': 5, 'budget': 4, 'pending': 2, 'assistance': 2, 'pentagon': 2, 'effectively': 2, 'appropriations': 2, 'initiatives': 4, 'elephant': 2, 'amendments': 2, 'regime': 2, '*-9': 2, 'nearly': 3, 'gray': 3, 'pa': 2, 'caribbean': 2, 'barbados': 2, 'lewis': 2, 'californian': 2, 'bolivia': 2, 'philippines': 3, 'inouye': 3, 'jamaica': 2, 'allies': 2, 'flights': 2, 'departments': 2, '*-13': 2, 'through': 2, 'historic': 2, 'features': 2, 'view': 3, 'openings': 2, 'richmond': 2, 'ind.': 2, 'bridge': 4, 'boone': 2, 'structure': 2, '*-14': 2, 'peninsula': 2, 'f': 2, 'pattern': 2, 'similarly': 4, 'bon': 2, 'easier': 2, 'cup-tote': 2, 'carrier': 2, 'outlets': 2, 'beer': 2, 'strings': 2, 'spilling': 2, 'carriers': 2, 'try': 2, 'sunlight': 2, 'recyclable': 2, 'trays': 2, 'food': 2, 'sides': 2, 'cities': 3, 'gamut': 2, 'droz': 2, 'get': 2, 'moscow': 2, 'corkscrews': 2, \"'\": 6, 'prisoners': 2, 'structures': 2, 'shortage': 2, 'middle': 2, 'muster': 2, 'visits': 2, 'besides': 2, 'reasons': 3, 'egypt': 3, 'efficient': 4, 'plants': 3, 'proposed': 3, 'fines': 3, 'employer': 3, 'mill': 2, 'electrical': 2, 'crane-safety': 2, 'requirements': 4, 'clairton': 2, 'hazards': 3, 'scannell': 3, 'osha': 2, 'flagrant': 2, 'discrepancies': 2, 'do': 2, 'evaluation': 2, '*-16': 2, 'anku': 2, 'penalties': 2, 'cincinnati': 2, 'error': 2, 'nrdc': 2, 'council': 3, 'editorial': 2, 'homeless': 6, 'cause': 5, 'statement': 2, 'causes': 2, 'alcoholism': 2, 'malnutrition': 2, 'disorders': 2, 'rape': 2, 'shelter': 3, 'nutrition': 2, 'homelessness': 3, 'complex': 2, 'future': 3, 'objective': 3, 'poverty': 2, 'drug': 4, 'wright': 2, 'disaffiliation': 2, 'family': 5, 'princeton': 2, 'deprivation': 2, 'obviously': 2, 'addiction': 2, 'grim': 2, 'drink': 2, 'insanity': 2, 'n.y': 2, 'sentimental': 2, 'logic': 3, 'namely': 2, 'cambridge': 2, 'craftsmen': 2, 'motive': 3, '*rnr*-1': 7, 'examinations': 2, 'survey': 2, 'including': 2, 'perhaps': 2, 'staff': 2, 'income': 5, 'their': 2, 'normal': 2, 'phobias': 2, 'anxieties': 2, 'dramatically': 2, 'cullowhee': 2, 'buy-outs': 3, 'labor': 2, 'airline': 3, 'compete': 2, 'hammerschmidt': 2, 'ark': 2, '*-27': 2, 'benefit': 2, 'defazio': 2, 'criteria': 2, 'traficant': 2, 'amendment': 3, '271-147': 2, 'occasionally': 2, 'provision': 3, 'controversial': 2, 'two-time-losers': 2, 'supporters': 2, 'broadcasts': 2, '*t*-21': 2, 'yon': 2, 'censorship': 3, 'outrageous': 2, 'stupid': 3, 'neat': 2, 'releases': 2, 'speeches': 2, 'briefings': 2, 'facilities': 2, 'sorts': 2, 'viewpoint': 2, 'absurd': 2, 'inform': 2, 'facts': 2, 'views': 2, 'propaganda': 2, 'you': 3, 'dissemination': 4, 'scholars': 3, 'material': 4, 'texts': 2, 'photocopying': 2, 'nowhere': 2, 'sued': 2, 'moines': 3, '*-33': 2, 'we': 3, 'reflection': 3, 'lost': 2, 'found': 2, 'domestically': 2, 'reporters': 2, 'statute': 2, 'designations': 2, '*t*-25': 2, 'sought': 2, '*-36': 2, 'information': 3, 'disagreed': 2, 'speech': 2, 'press': 2, 'this': 4, 'laboriously': 2, 'surreptitiously': 2, 'odd': 2, 'step': 2, 'changed': 2, 'abroad': 2, '*t*-5': 2, 'wick': 2, 'democratic': 2, 'ames': 2, 'baum': 5, 'harper': 3, '*-38': 2, 'implications': 2, 'mcmillin': 2, 'oriented': 2, 'speculation': 2, 'operation': 2, 'resolve': 2, 'pepperidge': 2, 'mcgovern': 2, 'equity': 4, 'disappointing': 3, 'impatient': 2, 'retirement': 2, '*-42': 2, 'fired': 2, '17': 2, 'afternoon': 2, 'source': 4, 'prebon': 2, 'u.s.a': 2, 'collateral': 2, 'c.d.s': 2, 'acceptances': 2, 'negotiable': 2, 'eurodollars': 2, 'libor': 2, 'comparable': 2, 'location': 2, 'mac': 2, 'mortgages': 5, 'mae': 2, 'par': 4, 'trust': 3, 'returns': 2, 'empire': 2, 'minute': 3, 'gut': 2, 'successor': 3, 'newhouse': 3, 'tenure': 2, 'brilliantly': 2, 'stable': 2, 'cerf': 2, '1925': 2, 'petersen': 2, 'rey\\\\/fawcett': 2, 'cheetham': 2, 'hutchinson': 2, '*-46': 2, 'gottlieb': 2, 'yorker': 2, 'evans': 2, 'mehta': 2, 'administrator': 2, 'tall': 2, 'provided': 2, '*-48': 2, 'attempt': 2, 'purse': 3, 'constitution': 5, 'unconstitutional': 3, 'treasury': 2, 'understand': 2, '1787': 2, 'did': 4, 'accountability': 2, 'clause': 2, 'power': 3, 'leash': 2, 'deliberating': 2, 'alternatively': 2, 'severable': 3, 'senate': 3, 'ambassadors': 2, 'judges': 2, 'appointments': 2, 'provides': 2, 'thus': 3, 'choosing': 2, 'muzzling': 2, 'provisions': 2, '*-56': 2, 'options': 2, 'regulations': 3, 'implement': 2, 'administer': 2, 'adopted': 2, 'veto': 4, 'prerogatives': 2, 'presidency': 2, 'purposes': 2, 'presidents': 2, 'democrats': 3, 'lesson': 2, 'rider': 2, 'unfunded': 2, 'excision': 3, 'applicability': 2, 'nothing': 2, 'won': 2, 'straight': 2, 'legislature': 2, 'vortex': 2, 'plains': 3, 'mortgaged': 2, 'soaring': 2, 'analysts': 2, 'indiana': 2, 'illinois': 2, 'dakotas': 2, 'surpluses': 2, 'wheat': 2, 'strengthened': 2, 'collins': 2, 'analyst': 2, 'agriculture': 2, 'minnesota': 2, 'relief': 2, 'farmers': 4, 'farms': 2, 'corn': 2, 'struggling': 2, 'herald': 3, '700,000': 2, 'town': 3, 'senses': 2, 'register': 2, '170,000': 2, 'dailies': 3, 'hearst': 3, 'block': 2, 'asking': 2, 'mccabe': 2, 'materialized': 2, 'lookee-loos': 2, 'inevitable': 2, 'sprawling': 2, 'limbo': 2, 'readership': 2, 'sports-oriented': 2, 'sprightly': 2, 'news-american': 2, 'folded': 2, 'herald-american': 2, '*-62': 2, 'marginally': 2, 'morgan': 2, 'simeon': 2, 'noble': 2, 'actually': 2, 'healthy': 2, 'bitter': 2, 'half': 2, 'financially': 2, 'recovered': 2, 'editorially': 2, 'moments': 2, 'bellows': 2, 'considerably': 3, 'dolan': 2, 'notable': 2, 'dealings': 4, 'regarded': 2, 'danzig': 2, 'recruiting': 2, 'emotional': 2, 'long': 3, 'l.a.': 2, 'headline': 2, 'drunk': 2, 'furillo': 2, 'preference': 2, 'father': 2, 'closes': 2, 'debentures': 2, 'buick': 4, 'car': 3, 'express': 2, 'traditionally': 2, 'riese': 2, 'hopefully': 2, 'shops': 2, 'arm': 2, 'billing': 2, 'marketers': 2, 'capability': 2, 'spokeswoman': 2, \"n't\": 3, 'gmac': 2, 'cards': 2, 'link': 2, 'promotion': 4, 'meals': 2, 'honolulu': 2, 'beach': 2, 'orlando': 2, 'airlines': 2, 'prizes': 3, 'recorder': 2, 'calculator': 2, 'municipalities': 2, 'gilts': 2, 'lower': 3, 'hazell': 2, 'hammersmith': 3, 'councils': 2, 'nature': 3, 'already': 2, 'appeal': 2, 'ways': 2, 'questionable': 2, 'kidder': 3, 'trader': 2, 'wrath': 2, 'peabody': 3, 'minicrash': 2, 'computer-driven': 2, 'minutes': 2, 'rewards': 2, 'battle': 3, 'marketplace': 3, 'guard': 6, 'traditional': 2, 'brokers': 2, 'traders': 5, 'specialists': 3, 'tormentors': 2, 'crapshoot': 2, 'few': 4, 'broad-based': 2, 'berman': 3, 'regulators': 2, 'revolt': 2, 'wohlstetter': 2, 'received': 2, 'countless': 2, 'universally': 2, 'advantage': 2, 'bradley': 2, 'surrendered': 2, 'machines': 2, 'casino': 3, 'employee': 2, 'leadership': 2, 'protests': 2, 'basket': 3, 'theme': 2, 'den': 2, 'witches': 2, 'boogieman': 2, 'allen': 2, 'furor': 2, '*t*-69': 2, 'seconds': 2, 'frightened': 2, 'lotter': 2, 'zicklin': 2, 'gyrations': 2, 'stoll': 3, 'subject': 2, 'arbitragers': 2, 'impossible': 2, 'signore': 2, 'overleveraged': 2, 'pickers': 2, 'jockeys': 2, 'per': 2, 'knell': 2, 'striving': 2, 'stockbrokers': 2, 'falling': 2, 'sigler': 2, 'sparkplugs': 2, 'oh': 2, 'bloods': 2, 'lynch': 2, '30s': 2, 'democrat': 2, 'panic': 2, 'jeopardy': 2, 'restrictions': 2, '*-77': 2, 'stay': 3, 'reforms': 3, 'good-faith': 2, 'speculative': 2, 'active': 2, 'rule': 2, 'sellers': 2, 'efficiency': 2, 'swings': 3, 'impetus': 2, 'concept': 2, 'locations': 2, 'widgets': 2, 'opportunity': 2, 'any': 2, 'widget': 3, 'excess': 2, 'strategy': 2, 'eventually': 2, 'after': 2, 'unneeded': 2, 'harmful': 2, 'domestic': 2, 'overseas': 3, 'liquidity': 2, 'either': 2, 'desirable': 2, 'loathsome': 2, 'investing': 2, 'long-term': 2, 'short-term': 2, 'welcome': 2, 'volatile': 2, '1973-75': 2, '1937-40': 2, 'scream': 2, 'foul': 2, 'goblins': 2, '*-80': 2, 'boy': 2, 'merits': 2, 'guy': 2, 'consequences': 2, 'enormous': 2, '*ppa*-3': 2, 'profitably': 3, '*t*-79': 2, 'insist': 2, 'moves': 2, 'execution': 2, 'taxation': 2, 'etc.': 2, 'mechanism': 2, 'reduction': 2, 'mergers': 2, 'brooks': 2, 'cuts': 3, 'rill': 2, 'chief': 2, '*-84': 2, 'enforcement': 2, 'filings': 3, 'cut': 2, 'edwards': 2, 'elections': 3, '80': 2, 'mcguigan': 2, 'finished': 2, 'schmidt': 2, 'oklahoma': 2, 'equivalents': 2, 'estimates': 2, 'prints': 2, 'anecdotal': 2, 'buyers': 2, 'stability': 2, 'collector': 2, 'ray': 2, 'fetching': 2, 'photography': 2, 'hit': 2, 'near': 2, 'expand': 2, 'chatter': 2, 'lines': 2, 'colleges': 2, 'raising': 2, 'merchandising': 2, 'will': 2, '900': 2, 'lawless': 2, 'hospital': 2, 'milwaukee': 2, 'therapy': 2, \"o'loughlin\": 2, 'coordinator': 2, 'trimming': 2, 'bunches': 2, 'transplant': 2, 'insurance': 2, 'protocols': 2, 'disposables': 2, 'diaper': 2, 'campbell': 2, 'piscataway': 2, 'syracuse': 2, 'awareness': 2, 'springfield': 2, 'cloth': 2, 'pins': 2, 'briefs': 2, 'columbus': 2, 'freudtoy': 2, 'freud': 2, 'analysis': 2, 'racket': 2, 'egnuss': 3, 'sure': 2, 'him': 2, 'entirely': 2, 'message': 2, 'looming': 2, 'arighi': 2, 'arnold': 3, 'threatened': 2, 'anderson': 2, 'heebie-jeebies': 2, 'wamre': 2, 'capitalism': 2, 'britta': 2, 'factoring': 2, 'silverman': 2, 'taccetta': 2, 'accountant': 2, 'dropped': 2, 'flim-flammery': 2, 'storm': 2, 'gorman': 2, 'housewife': 2, 'jolts': 2, 'spirits': 2, 'receive': 2, 'closing': 2, '100': 2, 'temperature': 2, 'fahrenheit': 2, 'bulk': 2, 'superconductors': 4, 'motors': 2, 'magnets': 2, 'generation': 2, 'dover': 2, 'researchers': 2, 'crystals': 3, 'neutrons': 2, 'finding': 2, 'pinning': 2, 'laboratories': 2, 'samples': 2, 'taylor': 3, 'write-downs': 2, '27': 2, 'reserves': 2, 'bond': 2, 'planned': 2, '2009': 3, '2000': 2, 'triple-a-rated': 2, 'a-d': 2, '1991-1999': 2, 's&p': 4, 'underwriter': 2, 'series': 3, '1992-1999': 2, '2017': 2, '2005': 2, '2029': 2, '1993': 5, 'warrant': 2, 'aktiebolaget': 2, 'sweden': 2, '1994': 3, 'handelsbanken': 2, 'switzerland': 3, '1996': 2, 'schweiz': 2, 'wonder': 2, 'stadium': 4, 'teams': 2, 'stadiums': 2, 'petersburg': 2, 'community': 2, 'proposition': 2, 'polls': 2, 'christopher': 2, '1960s': 2, 'ballpark': 2, 'spaces': 3, 'fiscal': 2, 'voters': 2, 'disagrees': 2, 'bowl': 2, 'landrieu': 2, 'cavernous': 2, 'superdome': 2, 'relevance': 2, 'optimism': 2, 'faith': 2, 'economics': 2, 'vote': 2, 'pharaohs': 2, 'passions': 2, 'contributed': 2, 'pence': 2, 'lowered': 2, 'banking': 4, 'erodes': 2, 'downgrade': 3, 'ious': 2, 'mahoney': 2, 'financings': 2, 'delays': 2, 'bowman': 2, 'riskier': 2, '*ich*-2': 2, 'pressure': 2, 'collapse': 2, 'shrinks': 2, 'buy-out': 2, 'borrowing': 2, 'overcapacity': 2, 'profitability': 2, 'high-yield': 2, 'shareholder': 2, 'suisse': 2, 'listed': 2, 'includes': 2, 'goodwill': 2, 'shearson': 2, 'worried': 2, 'drexel': 3, 'rating': 2, 'scandal': 2, '5,000': 2, 'creditworthiness': 2, 'veraldi': 3, 'suppliers': 2, 'cycle': 2, 'demands': 2, 'cougar': 2, '1971': 2, 'diethylstilbestrol': 2, 'des': 2, 'sickness': 2, 'labels': 2, 'users': 2, '1980': 2, 'liable': 2, 'same': 2, 'slope': 2, 'alike': 2, 'warranties': 2, 'lilly': 2, 'defendants': 2, 'drugs': 6, 'doctrine': 2, 'huge': 2, 'risks': 2, 'suffering': 2, 'bendectin': 2, 'anyone': 2, 'anyway': 2, 'courts': 2, 'litigation': 2, 'morass': 2, 'somebody': 2, 'partnership': 2, 'caldor': 2, 'norwalk': 2, 'northeast': 2, 'n.v': 2, 'guilders': 6, 'lens': 3, 'surgery': 3, 'poland': 2, 'ec': 2, 'intentioned': 2, 'kindness': 2, 'oshkosh': 2, 'wis.': 2, 'year-earlier': 2, 'deere': 2, 'chassis': 2}, 'X': {'<unk>': 1, 'named': 15, 'used': 22, '*': 9, 'exposed': 3, 'reported': 13, '0': 278, 'that': 178, 'said': 360, 'likely': 17, 'who': 138, 'in': 29, 'replaced': 4, 'sold': 16, '28': 2, 'than': 10, 'expected': 25, 'appears': 5, 'studied': 2, 'which': 109, 'owned': 4, 'contract': 3, 'lorillard': 2, 'found': 8, 'classified': 2, 'rejected': 2, 'explained': 3, 'outlawed': 2, 'factory': 2, '*-8': 2, 'have': 22, 'continued': 4, 'tracked': 2, 'thought': 6, 'considered': 6, 'some': 2, 'continue': 11, 'billion': 91, 'elected': 5, '27': 2, 'million': 169, 'expects': 9, 'based': 20, 'authority': 4, 'trillion': 4, 'legislation': 4, 'ensnarled': 2, 'over': 5, 'voted': 4, 'president': 5, 'manager': 3, 'powwow': 2, 'decided': 11, ':': 8, 'place': 3, 'expand': 2, 'were': 6, ',': 123, 'held': 10, 'banned': 3, 'visitors': 2, '<s>': 82, 'out': 7, 'before': 8, 'one': 4, 'say': 52, 'released': 4, 'trying': 21, 'plan': 9, 'advertisers': 2, 'for': 30, '100,980': 2, 'while': 15, 'rate': 3, '120,000': 2, 'yet': 2, 'credits': 2, '1990': 3, '325,000': 2, '340,000': 2, 'attempt': 5, 'what': 27, 'paying': 3, 'high': 2, 'future': 3, '*rnr*-4': 2, 'company': 3, '*u*': 21, '*ich*-1': 4, 'value': 2, 'places': 2, 'says': 203, 'worth': 4, 'officer': 4, 'related': 3, 'evaluated': 2, 'bid': 6, 'hard': 3, 'take': 2, 'added': 13, 'decision': 6, '%': 24, 'proposed': 6, 'asserted': 2, 'approved': 7, '3.75': 2, 'ordered': 9, '*-1': 20, 'collected': 4, 'required': 9, 'edison': 2, '50': 4, 'refunds': 2, 'attempts': 5, 'considering': 3, 'determined': 2, 'made': 22, '1.55': 2, '3.01': 2, 'addresses': 2, '38.375': 2, 'completed': 5, 'commission': 4, 'refunded': 2, 'estimated': 4, 'increases': 2, 'had': 11, 'compared': 3, 'plant': 2, 'korea': 2, 'located': 4, 'help': 14, 'tied': 4, 'is': 23, 'filed': 4, 'financing': 3, 'firm': 2, 'project': 3, 'heads': 2, 'scrapped': 2, 'anticipated': 2, 'may': 3, 'strings': 2, 'attached': 4, 'want': 18, 'anticipates': 2, '2.875': 2, 'yesterday': 5, '38': 2, 'has': 10, 'believe': 9, \"n't\": 8, 'as': 23, 'minute': 2, 'believes': 5, 'priced': 21, 'are': 14, 'shares': 3, 'own': 3, 'set': 7, 'marketplace': 2, 'applied': 2, '4.75': 2, 'spinoff': 2, 'able': 13, 'posted': 2, 'reached': 11, 'arrangement': 2, 'regarded': 2, 'paid': 10, '600,000': 2, '240,000': 2, 'countries': 4, 'watching': 2, 'failing': 3, 'announced': 3, 'placed': 4, 'realization': 2, 'by': 35, 'from': 23, 'trained': 2, 'procedures': 2, 'teams': 2, 'films': 2, 'vowed': 2, 'and': 14, 'deemed': 2, 'combined': 3, 'us': 2, 'removed': 2, 'efforts': 8, 'enough': 7, 'banks': 3, 'believed': 3, 'time': 15, 'stature': 2, 'aspires': 2, 'week': 4, 'feels': 3, 'way': 13, 'solved': 2, '*-31': 3, 'forgiven': 2, 'launched': 5, 'built': 9, '1,298': 2, 'agreement': 6, 'right': 16, 'raised': 4, 'scheduled': 10, 'brought': 3, 'increased': 4, 'start': 3, 'developed': 5, '1987': 2, 'led': 8, 'produced': 8, 'denied': 4, 'covered': 6, 'assembled': 3, 'effort': 8, 'maintained': 3, '13.73': 2, '9.625': 2, 'year': 4, 'wants': 6, 'assisted': 2, 'resigned': 2, 'put': 8, 'linked': 3, 'designed': 19, 'retired': 2, 'issued': 8, 'agreed': 10, '37-a-share': 2, 'incorporated': 2, 'advertised': 2, 'level': 2, 'funds': 2, 'registered': 4, 'capped': 2, 'here': 4, 'quips': 2, 'popular': 2, 'be': 6, 'listed': 5, 'looking': 2, 'scrambled': 2, 'find': 3, 'easy': 5, 'sell': 4, 'wide': 2, 'investors': 2, 'of': 43, 'companies': 5, 'much': 2, 'burned': 2, 'tend': 4, '13': 4, 'clobbered': 2, 'after': 17, 'stocks': 3, 'hold': 2, 'targeted': 2, 'jumped': 2, 'alarmed': 2, 'suggests': 4, 'to': 16, 'cast': 2, 'traded': 9, 'without': 10, 'on': 11, 'now': 3, 'advice': 2, 'better': 3, 'ready': 2, 'owed': 3, 'repaid': 2, 'u.s.': 4, 'it': 44, 'early': 3, 'crippled': 3, 'lent': 2, '1917': 2, 'amended': 2, 'failed': 10, 'orders': 4, 'adjusted': 2, 'beginning': 4, 'forward': 2, 'asked': 6, 'did': 6, '*?*': 7, 'about': 8, 'watched': 2, 'intended': 5, 'noted': 9, 'helped': 7, 'predicted': 2, 'awarded': 3, 'spent': 4, '*-54': 3, 'continues': 7, 'months': 3, 'though': 2, 'goods': 2, 'purchased': 3, 'quickly': 3, 'handle': 3, 'lengthen': 2, 'provided': 7, 'acknowledging': 2, 'suspect': 3, 'thing': 6, 'coupled': 3, '18.95': 2, 'although': 2, 'refreshing': 2, 'think': 14, 'not': 6, 'rooted': 2, 'retorts': 2, 'seems': 6, 'written': 2, '17.95': 3, 'version': 2, 'call': 2, 'played': 3, 'permitted': 3, 'welcomed': 2, 'rationed': 2, 'fare': 2, 'money': 6, '*t*-1': 6, 'decide': 3, 'but': 4, 'hosted': 2, 'assigned': 2, 'partners': 2, 'run': 4, 'caretaker': 2, 'raring': 2, 'appointment': 2, 'shame': 2, 'possible': 3, '250': 3, 'schools': 2, 'began': 9, 'stalls': 2, 'identified': 4, 'proposal': 3, 'going': 10, 'committee': 2, 'him': 2, 'chinese': 2, 'name': 2, 'confirmed': 3, 'tested': 4, 'twinned': 2, 'planned': 5, 'broken': 2, 'operated': 2, 'painted': 2, 'couples': 2, '1,000': 5, 'swapped': 2, 'declined': 12, 'with': 5, 'called': 11, 'would': 3, '``': 22, 'living': 2, 'thinking': 3, 'feeling': 2, 'filmed': 2, 'cabs': 2, 'populated': 2, 'this': 4, 'days': 6, 'or': 5, 'building': 2, 'calls': 2, 'given': 8, 'girl': 2, 'cure': 2, 'father': 2, 'murdered': 3, 'night': 2, 'does': 4, 'point': 2, 'make': 5, 'viewed': 2, 'women': 3, 'executed': 2, 'presented': 3, 'deserve': 3, 'chopped': 2, 'little': 2, 'drinking': 2, 'die': 2, \"''\": 7, 'plans': 16, 'suppliers': 2, 'worked': 2, 'event': 2, 'scattered': 2, 'needs': 4, 'prompted': 2, 'charges': 3, 'caught': 5, 'stung': 2, 'claims': 3, \"'s\": 3, 'fail': 5, 'insists': 5, 'job': 4, 'refused': 8, '95,142': 2, 'know': 7, 'man': 2, 'convicted': 2, 'argues': 2, 'knows': 4, 'agree': 2, 'tour': 2, 'superimposed': 2, 'nurtured': 2, 'wanted': 13, 'charge': 3, 'denies': 4, 'created': 3, 'attracted': 3, 'bill': 4, 'interrogated': 2, 'law': 2, 'tried': 4, 'pass': 2, 'introduced': 4, 'managed': 4, 'anything': 4, 'cry': 2, 'asks': 3, 'cleaned': 2, 'dumped': 2, 'evidence': 2, 'person': 2, '350,000': 3, '16,000': 2, 'quoted': 6, '331,000': 2, '550,000': 2, 'pursued': 2, 'knitted': 2, 'machine': 2, 'investment': 2, 'known': 10, 'resists': 2, 'spurred': 2, 'move': 2, 'lender': 2, 'intention': 3, 'assistance': 3, 'understanding': 2, 'spending': 2, 'complicated': 2, 'decade': 2, 'try': 4, 'passed': 4, 'forms': 3, 'test': 3, 'taking': 3, 'was': 8, 'parents': 2, 'confronted': 2, 'admitted': 2, 'fired': 3, 'prosecuted': 2, 'crime': 2, '500': 2, 'insist': 3, 'treated': 2, 'growing': 2, 'temptation': 3, 'cheat': 2, 'statute': 2, 'violated': 2, '*-2': 12, 'scores': 2, 'ability': 11, 'pressure': 4, 'teachers': 2, 'blamed': 2, 'concentrate': 2, 'do': 18, 'carolina': 3, 'themselves': 4, 'seriously': 2, 'all': 7, 'begin': 5, 'glory': 2, 'stabbed': 2, 'trouble': 2, 'resolved': 2, 'reward': 2, 'things': 4, 'struggled': 2, 'won': 2, 'encouraged': 2, 'chosen': 4, 'studying': 2, '--': 8, 'up': 6, 'work': 3, 'even': 3, 'her': 2, 'colleagues': 2, 'feared': 3, '5,000': 10, '23,000': 2, 'eager': 4, 'testing': 2, 'admits': 3, 'subjects': 3, 'carried': 2, 'suffer': 2, 'showed': 3, 'needed': 10, 'system': 3, 'like': 14, 'discovered': 4, '*-4': 3, 'bring': 2, 'recalls': 2, 'dismissed': 4, 'crowded': 2, 'came': 3, 'appeared': 4, 'got': 5, 'policies': 2, 'overused': 2, 'interviewed': 3, 'crushed': 2, 'someone': 2, 't-shirts': 2, 'realized': 2, 'sentiment': 2, 'strong': 2, 'afraid': 3, 'worksheets': 2, 'them': 6, 'aimed': 11, 'at': 10, 'replicated': 2, 'when': 3, 'referred': 2, 'matched': 3, 'measured': 3, 'need': 9, '1979': 2, 'mcgraw-hill': 2, 'bush': 2, 'threatened': 4, 'disease': 2, 'embroiled': 2, 'doctors': 2, 'nominated': 3, 'candidates': 2, 'judged': 2, 'ground': 2, 'role': 4, 'society': 2, 'polarized': 2, 'mechanism': 2, 'reason': 3, 'uptick': 2, '100': 11, 'involved': 8, 'acquired': 4, '25': 3, '25.50': 2, 'associated': 3, '57.50': 2, 'each': 2, 'already': 2, 'month': 3, 'indicated': 6, '10,000': 13, 'claim': 4, 'protected': 2, 'failure': 2, 'prison': 2, 'effect': 2, 'lawyers': 4, 'sent': 5, 'force': 2, 'chaired': 3, 'resolution': 2, 'prohibited': 2, 'initiated': 2, 'received': 2, 'mailed': 2, 'permission': 2, 'information': 3, 'letters': 2, 'conference': 2, 'quitting': 2, '31': 2, 'refusal': 3, 'congress': 3, 'quipped': 2, '89,500': 2, 'judge': 2, 'relegated': 2, 'alleging': 2, 'campaign': 2, 'co-owner': 2, 'employed': 4, 'punishing': 2, 'against': 2, 'upheld': 3, 'adopted': 3, 'saying': 5, 'killed': 2, 'streets': 2, 'appointed': 2, 'empowered': 2, 'attempting': 4, 'chief': 3, 'tire': 2, 'principle': 2, 'disclosed': 9, 'statement': 4, '70': 5, 'sure': 6, 'read': 4, 'profits': 3, 'accepted': 3, 'fueled': 4, 'products': 2, 'waterworks': 2, '77,000': 2, 'offered': 6, 'yen': 3, 'whether': 4, 'contacted': 3, 'formed': 4, 'order': 5, 'compiled': 3, 'period': 2, 'five-inch': 2, 'six-inch': 2, 'chips': 2, 'chairman': 2, 'buoyed': 2, 'locked': 2, 'offset': 4, 'convinced': 2, 'starts': 3, '1.5755': 2, '1.5805': 2, 'mollified': 2, 'valued': 7, 'speculation': 2, 'rolled': 2, 'suggest': 3, 'pressured': 3, '374.20': 2, '374.19': 2, 'expire': 2, 'commitments': 2, 'risk': 5, 'stations': 2, 'reruns': 2, 'willing': 8, 'feel': 5, 'flooded': 2, 'prices': 2, 'charged': 2, '*-78': 2, 'pleased': 2, 'disappointed': 3, 'billed': 2, 'founded': 4, 'promise': 3, 'product': 2, 'deem': 2, 'furious': 2, 'chastised': 2, 'items': 2, 'wrote': 3, 'fumes': 2, 'opportunity': 5, 'modifications': 2, 'printed': 3, '*-81': 2, 'portrayed': 2, 'adds': 6, 'contends': 3, '2.95': 2, '21': 2, 'scared': 2, 'expanded': 2, 'handled': 2, 'billings': 2, 'serviced': 2, 'damaged': 2, '70-a-share': 2, 'if': 3, 'pressed': 3, 'proceeds': 2, '63': 2, 'allocated': 3, 'price': 6, '45': 2, 'converted': 2, 'mired': 3, 'tiphook': 2, '62.625': 2, 'steps': 2, 'automobiles': 2, 'seats': 2, 'program': 5, 'equipped': 2, 'years': 3, 'classed': 2, 'equipment': 2, 'depressed': 2, 'installed': 2, 'state': 3, 'prove': 3, '*-94': 2, 'hit': 5, 'altogether': 2, '992,000': 2, '75': 2, 'fall': 3, 'declared': 3, 'york': 3, 'wine': 2, 'limited': 3, 'perceived': 2, '40': 3, '125': 3, 'race': 2, '80': 2, '179': 2, 'champagne': 2, '115': 3, '90': 4, '120': 2, '195': 2, '180': 2, '225': 2, '155': 2, '98': 2, '400': 2, 'perfectly': 2, '60': 2, '65': 2, ';': 3, 'get': 4, 'shipped': 2, 'spread': 2, 'thinks': 3, 'overpriced': 2, '32': 2, 'just': 2, 'deal': 2, 'forced': 5, 'interesting': 4, 'reserve': 2, 'shows': 2, 'agrees': 2, 'occur': 2, 'fed': 2, 'seem': 5, 'described': 2, 'divided': 3, 'excesses': 2, 'me': 4, 'offering': 2, 'warrants': 2, 'exercised': 3, 'vote': 2, 'measures': 2, 'postponed': 2, 'tuesday': 3, 'rescheduled': 2, 'cash': 3, 'thursday': 2, 'certain': 2, 'default': 2, 'fails': 4, 'act': 2, 'prepared': 4, 'securities': 2, 'auctioned': 4, 'decides': 2, 'rally': 2, 'higher': 2, 'enthusiasm': 2, '*ich*-2': 4, 'rushed': 2, 'many': 2, '2.50': 2, 'simmons': 2, '55': 3, 'discussions': 2, 'turn': 2, 'surprised': 2, 'cited': 2, 'most': 2, 'pay': 9, '1.75': 2, '51.25': 2, '22.75': 2, '15': 2, 'proposing': 2, 'allowed': 5, 'gulf': 2, 'respond': 2, 'interested': 2, 'stand': 5, '1.85': 3, 'suit': 2, '1960s': 2, 'disagree': 2, 'perceives': 2, 'stirred': 2, 'assets': 2, 'stoked': 2, 'asserting': 2, 'into': 5, 'issues': 2, 'changed': 3, 'changes': 4, 'exactly': 2, 'results': 2, 'globe': 2, 'hope': 3, 'documents': 3, 'trust': 2, 'worry': 2, 'ago': 4, 'partly': 2, 'development': 2, 'milked': 2, 'touch': 2, 'reports': 2, 'declines': 2, 'financed': 4, 'performed': 4, 'face': 2, 'door': 3, 'capital': 3, 'business': 4, 'generate': 2, 'extent': 3, 'content': 2, 'more': 5, 'hopes': 5, 'assumed': 2, 'rates': 3, 'receiving': 2, 'fees': 2, '15,000': 21, '18,000': 2, 'benefits': 2, '3': 2, 'stopped': 5, 'slow': 2, 'squeezed': 2, 'ways': 7, 'costs': 2, 'account': 2, 'scrambling': 3, 'makes': 2, 'accounts': 2, 'tailored': 2, 'starting': 3, 'registration': 2, '.': 6, 'felt': 4, 'day': 2, 'delay': 2, 'good': 3, 'then': 2, 'send': 2, 'support': 3, 'triggered': 4, 'points': 3, 'well': 2, 'reopened': 2, '*-128': 2, 'modification': 2, 'providing': 2, 'power': 6, 'volatile': 2, 'happy': 2, 'discussed': 2, 'members': 2, 'futures': 3, 'regulated': 3, 'loveliest': 2, 'stop': 2, 'heard': 2, 'ringer': 2, 'taken': 5, 'rung': 3, 'ropes': 2, 'english': 2, 'exercise': 2, 'invented': 3, 'started': 3, 'sound': 3, 'muffled': 2, '-rrb-': 3, 'mounted': 2, 'wrists': 2, '-rcb-': 3, 'filled': 2, 'stuck': 2, '*-137': 2, 'service': 2, 'band': 2, 'whom': 2, 'ringers': 2, 'fallen': 3, 'refuses': 2, 'come': 2, 'net': 2, 'drawn': 3, 'aims': 2, '*-140': 2, 'lot': 2, 'desired': 2, 'sheffield': 2, 'unsettled': 2, 'warn': 2, 'peaks': 2, 'dividends': 4, 'been': 2, 'flow': 2, 'notes': 2, 'yield': 2, 'environment': 2, 'wherewithal': 2, 'around': 2, 'indicator': 2, 'watch': 3, 'pace': 2, 'opinion': 4, 'estimates': 2, 'chance': 4, 'went': 2, 'co.': 2, '50,000': 3, 'application': 2, 'applications': 2, 'stock': 4, 'banker': 2, 'leaders': 3, 'american': 2, 'phrase': 2, 'policy': 2, 'sphere': 2, 'attack': 2, 'unjust': 2, 'beijing': 2, 'codified': 2, 'americans': 2, 'hoped': 2, 'loaded': 2, 'fault': 2, 'unethical': 2, 'advertising': 2, 'husband': 2, 'defined': 2, 'expelled': 4, 'barred': 8, 'fined': 19, '30,000': 5, '20,000': 4, 'rectified': 2, '62%-owned': 2, 'where': 4, '*-3': 5, 'suspended': 6, '7,500': 3, '2,500': 5, '25,000': 6, '200,000': 2, '16,072': 2, '*-5': 3, '18,444': 2, '100,000': 4, '60,000': 3, '45,000': 3, '12,252': 2, 'following': 3, '11,762': 2, '14,821': 2, '82,389': 2, 'realize': 2, '2,000': 3, '250,000': 2, '4,000': 2, '3,500': 3, 'engaged': 2, 'mistake': 2, 'blocked': 2, 'japanese': 2, 'seeks': 3, 'difficult': 3, 'racing': 2, 'activity': 2, '*-160': 2, 'trading': 4, 'rules': 2, 'mechanisms': 2, 'impact': 2, 'something': 4, 'done': 5, 'pegged': 3, 'expensive': 2, 'backed': 3, '4.25': 3, 'house': 3, 'resistance': 2, 'enacted': 3, '3.35': 3, '2.65': 2, '3.80': 2, 'sought': 5, 'helping': 2, 'necessary': 3, '3.61': 2, 'experience': 2, 'reaction': 3, 'faced': 3, 'negotiated': 2, 'implies': 2, 'positive': 2, 'courage': 2, 'knew': 3, 'willingness': 2, 'met': 2, 'possessed': 2, 'hurt': 5, 'reins': 2, 'challenge': 2, 'stripped': 2, 'reallocated': 2, '-': 2, 'lobbyist': 2, 'drafted': 2, 'goes': 2, 'how': 3, 'prefer': 2, 'meant': 2, 'kept': 2, '*t*-4': 2, 'propose': 2, 'elevators': 2, 'areas': 2, 'altered': 2, 'fines': 2, 'action': 2, 'failures': 2, '*-15': 2, 'corrected': 2, 'proved': 2, 'unwilling': 2, 'implied': 2, 'people': 3, 'examined': 2, 'composed': 2, 'treatment': 2, 'possess': 2, 'unable': 3, 'escape': 2, 'bothered': 2, '*-22': 2, 'chose': 2, 'march': 2, 'deprived': 2, 'option': 2, 'fixed': 5, 'views': 2, 'potential': 3, 'veto': 2, 'stands': 2, 'airline': 2, 'impaired': 2, 'diminished': 2, 'unless': 2, 'incurred': 3, 'dubbed': 2, 'seeking': 4, 'airlines': 2, 'broadcasting': 2, 'world': 2, 'booming': 2, 'assuming': 3, 'clipped': 2, 'agency': 2, 'free': 2, 'advised': 2, '*-32': 2, 'usia': 2, 'intend': 3, 'anyone': 2, 'mentioned': 2, 'requesting': 2, 'check': 2, 'ruled': 2, 'government': 2, 'mind': 2, 'assume': 2, 'ought': 4, 'answered': 2, 'questions': 2, 'wield': 2, '3.375': 2, '47.125': 2, 'seen': 2, 'appear': 2, 'use': 3, 'skill': 2, 'board': 3, 'dominated': 3, 'april': 2, 'available': 2, 'reasons': 2, '877,663': 2, 'options': 2, '244,000': 2, 'advocated': 2, 'worthiness': 2, 'u.s.a.': 2, 'seemed': 4, 'play': 2, 'absorbed': 2, 'member': 2, 'knopf': 2, 'recruited': 2, 'included': 2, 'wish': 3, 'rumored': 2, 'specified': 2, 'predicated': 2, 'endorsed': 2, 'construed': 2, 'resources': 2, 'confederation': 2, 'powers': 2, 'duty': 3, 'nominate': 2, 'appoint': 2, 'contained': 3, 'funding': 2, 'salary': 2, 'discretion': 2, 'recommendations': 2, 'seek': 6, 'wasted': 2, 'disapproved': 2, 'constitution': 2, 'undo': 2, 'characterized': 2, 'objectives': 2, '-lrb-': 2, 'standing': 2, 'sue': 2, 'prerogatives': 2, 'entrusted': 2, 'practice': 2, 'bills': 2, 'left': 5, 'helps': 2, 'reluctance': 2, 'lawmakers': 2, 'programs': 2, '1988': 2, 'states': 2, 'cushioned': 2, 'between': 2, 'abandoned': 2, 'street': 2, 'hired': 2, 'headlined': 2, '1': 2, 'begun': 2, 'image': 2, 'dealers': 2, 'purchases': 2, 'preapproved': 2, 'eligible': 2, 'promotions': 2, 'express': 2, 'chooses': 3, 'debts': 2, 'losses': 2, 'alleged': 2, 'swap': 2, 'obligated': 2, 'councils': 2, 'ruling': 2, 'shaken': 2, 'labeled': 3, 'today': 3, 'refuse': 3, 'pressures': 2, 'managers': 2, 'curbed': 2, 'invested': 3, 'consider': 2, 'stacked': 2, 'market': 3, 'computers': 4, 'occurs': 2, 'movements': 2, 'cause': 2, 'profess': 2, 'despise': 2, 'investor': 2, 'apart': 2, 'manage': 2, 'beat': 2, 'threatens': 2, 'dislike': 2, 'spooked': 2, '71,309': 2, 'transformed': 2, 'complains': 3, 'gotten': 2, 'orchestrated': 2, 'gored': 2, '`': 3, 'late': 2, 'advantages': 2, 'enjoy': 2, 'instituted': 2, 'beaten': 3, 'easier': 2, 'practiced': 2, 'clients': 3, 'reduced': 2, 'eliminated': 2, 'desires': 2, 'simply': 2, 'observers': 2, 'implemented': 2, 'chicago': 2, 'widgets': 2, 'transactions': 3, 'profitable': 2, 'sign': 2, 'please': 2, 'risks': 3, 'tolerate': 2, 'change': 2, 'decline': 2, 'follows': 2, 'quarter': 2, 'harder': 3, 'participants': 2, 'signed': 2, 'operate': 2, 'cut': 4, 'appropriated': 2, '*t*-3': 4, 'argued': 2, 'focused': 2, '396,000': 2, 'institutions': 2, 'predicts': 2, '6,500': 2, 'funded': 2, 'lives': 2, 'marketed': 3, '24.95': 2, 'doubts': 2, 'echoed': 2, 'halted': 2, 'doubt': 3, 'heading': 2, 'because': 2, 'explains': 3, 'lost': 2, 'moved': 2, 'caused': 2, 'crash': 2, 'figure': 2, 'losing': 2, 'superconductors': 2, 'carry': 3, 'cooled': 3, 'problems': 2, 'overcome': 2, 'cautioned': 2, 'patterns': 2, '1.61': 2, 'terminated': 2, '45.75': 2, '99': 3, 'rated': 3, 'group': 4, '1\\\\/4': 2, '1\\\\/2': 3, 'par': 3, '*t*-2': 3, '3\\\\/4': 2, 'guaranteed': 2, '7\\\\/8': 3, 'ballot': 2, 'park': 2, 'taxpayers': 2, 'afford': 2, 'cities': 2, 'mega-stadium': 2, 'concede': 2, 'claimed': 2, 'miami': 2, 'profit': 2, 'struggling': 2, 'lowered': 2, 'will': 2, 'difficulty': 2, 'structured': 2, 'boston': 2, 'generated': 2, 'managements': 2, 'withdrawn': 2, 'overstated': 2, 'positioned': 2, 'forum': 2, 'innovation': 2, 'assessed': 2, 'drug': 2, 'damages': 2, 'beyond': 2, 'direction': 2, 'drugs': 2, 'means': 2, 'short': 2, 'victims': 2, 'mainly': 2, 'approval': 2, 'inserted': 2, '1.65': 3, '1.125': 2, '13.625': 2, '1.92': 2}}\n"
     ]
    },
    {
     "ename": "AttributeError",
     "evalue": "'HMMLM' object has no attribute 'transition_cpds'",
     "output_type": "error",
     "traceback": [
      "\u001b[1;31m---------------------------------------------------------------------------\u001b[0m",
      "\u001b[1;31mAttributeError\u001b[0m                            Traceback (most recent call last)",
      "\u001b[1;32m<ipython-input-19-67465bbdf15b>\u001b[0m in \u001b[0;36m<module>\u001b[1;34m()\u001b[0m\n\u001b[0;32m     12\u001b[0m \u001b[1;33m\u001b[0m\u001b[0m\n\u001b[0;32m     13\u001b[0m \u001b[0mprint\u001b[0m\u001b[1;33m(\u001b[0m\u001b[0mtreebank_hmm\u001b[0m\u001b[1;33m.\u001b[0m\u001b[0m_emission_cpds\u001b[0m\u001b[1;33m)\u001b[0m\u001b[1;33m\u001b[0m\u001b[0m\n\u001b[1;32m---> 14\u001b[1;33m \u001b[0mprint\u001b[0m\u001b[1;33m(\u001b[0m\u001b[0mtreebank_hmm\u001b[0m\u001b[1;33m.\u001b[0m\u001b[0mtransition_cpds\u001b[0m\u001b[1;33m)\u001b[0m\u001b[1;33m\u001b[0m\u001b[0m\n\u001b[0m",
      "\u001b[1;31mAttributeError\u001b[0m: 'HMMLM' object has no attribute 'transition_cpds'"
     ]
    }
   ],
   "source": [
    "treebank_hmm = HMMLM()\n",
    "treebank_hmm.estimate_model(treebank_training)\n",
    "print(treebank_hmm.joint_parameter('DET', 'NOUN', 'book'))\n",
    "# sentence = [x for x, _ in treebank_dev[0]]\n",
    "# tag_sequence = [c for _, c in treebank_dev[0]]\n",
    "# print(' '.join(sentence))\n",
    "# print(' '.join(tag_sequence))\n",
    "# print(treebank_hmm.log_joint(sentence, tag_sequence))\n",
    "\n",
    "# 9.959527643028553e-05\n",
    "# -193.71018537\n",
    "\n",
    "print(treebank_hmm._emission_cpds)\n",
    "print(treebank_hmm.transition_cpds)"
   ]
  },
  {
   "cell_type": "markdown",
   "metadata": {
    "colab_type": "text",
    "id": "Htt93q4dNKS6"
   },
   "source": [
    "# <a name=\"eval\"> Evaluation\n",
    "    \n",
    "We can evaluate our models by the computing the log-perplexity, like with the LM or by comparing the predictions of the trained model with an annotated test set.\n",
    "\n",
    "\n",
    "## <a name=\"ppl\"> Perplexity\n",
    "\n",
    "Perplexity of a model on a test set is the inverse probability of the test set, normalized\n",
    "by the number of words. Perplexity is a notion of average branching factor, thus a model with low perplexity can be thought of as a *less confused*. That is, each time it introduces a word given some history it picks from a reduced subset of the entire vocabulary (in other words, it is more certain of how to continue). \n",
    "\n",
    "If a dataset contains $t$ tokens where $t = \\sum_{k=1}^m n_k$, then the perplexity of the dataset is\n",
    "\n",
    "\\begin{equation}\n",
    "(11) \\qquad \\text{PP}(\\mathcal T) = \\left( \\prod_{k=1}^m P_{S|N}(\\langle x_1^{(k)}, \\ldots, x_{n_k}^{(k)} \\rangle|n_k; \\boldsymbol \\theta) \\right)^{-1/t}\n",
    "\\end{equation}\n",
    "\n",
    "where we have already discarded the length distribution (since it's held constant across models). And the probability of the sentence requires marginalising tag sequences, as shown in Equation (9).\n",
    "\n",
    "It's again convenient to use log and define log-perplexity\n",
    "\n",
    "\\begin{equation}\n",
    "(12) \\qquad \\log \\text{PP}(\\mathcal T) = - \\frac{1}{t} \\sum_{k=1}^m \\log P_{S|N}(\\langle x_1^{(k)}, \\ldots, x_{n_k}^{(k)} \\rangle|n_k; \\boldsymbol \\theta) \n",
    "\\end{equation}\n",
    "\n",
    "You can compare models in terms of the log-perplexity they assign to the same test data. The lower the perplexity, the better the model is."
   ]
  },
  {
   "cell_type": "markdown",
   "metadata": {
    "colab_type": "text",
    "id": "wwqi2R0CNKS6"
   },
   "source": [
    "<a name=\"ex4-11\" style=\"color:red\">**Exercise 4-11**</a> **[4 points]** Implement `log_perplexity` below. Train models of PTB and Brown and test both of them on their respective test sets as well as on each other's test set. Report all results.\n",
    "\n",
    "To help you have an idea whether you implemented it right, this is an excerpt of what we got with our implementation\n",
    "\n",
    "```python\n",
    "dev_sentences = extract_sentences(treebank_dev)\n",
    "log_perplexity(dev_sentences, treebank_hmm)\n",
    "```\n",
    "\n",
    "```\n",
    "101.80708039918399\n",
    "```"
   ]
  },
  {
   "cell_type": "markdown",
   "metadata": {
    "colab_type": "text",
    "id": "NA0RN-8tNKS7"
   },
   "source": [
    "By the way, this is how you load the Brown corpus. Let's use the last 1000 sentences for test. You can reduce the size of the training set if your computer cannot handle what we suggest below."
   ]
  },
  {
   "cell_type": "code",
   "execution_count": 12,
   "metadata": {
    "colab": {
     "autoexec": {
      "startup": false,
      "wait_interval": 0
     },
     "base_uri": "https://localhost:8080/",
     "height": 34,
     "output_extras": [
      {
       "item_id": 1
      }
     ]
    },
    "colab_type": "code",
    "executionInfo": {
     "elapsed": 7661,
     "status": "ok",
     "timestamp": 1520602671422,
     "user": {
      "displayName": "Grote Weegschaal",
      "photoUrl": "//lh4.googleusercontent.com/-KfZBK2pKfJ0/AAAAAAAAAAI/AAAAAAAAACU/Zxktak12jLw/s50-c-k-no/photo.jpg",
      "userId": "118191901390674533680"
     },
     "user_tz": -60
    },
    "id": "znHDnXn3NKS8",
    "outputId": "ffdef55b-8345-4efa-b9a7-0f587258ebe8"
   },
   "outputs": [
    {
     "name": "stdout",
     "output_type": "stream",
     "text": [
      "57340 56000 340 1000\n"
     ]
    }
   ],
   "source": [
    "# load the Brown corpus wiht the universal tag set\n",
    "brown_sentences = nltk.corpus.brown.tagged_sents(tagset='universal')\n",
    "\n",
    "# we split our corpus on training, dev and test\n",
    "brown_training = list(brown_sentences[:56000]) \n",
    "brown_dev = list(brown_sentences[56000:56340])\n",
    "brown_test = list(brown_sentences[56340:])\n",
    "print(len(brown_sentences), len(brown_training), len(brown_dev), len(brown_test))"
   ]
  },
  {
   "cell_type": "code",
   "execution_count": 13,
   "metadata": {
    "colab": {
     "autoexec": {
      "startup": false,
      "wait_interval": 0
     }
    },
    "colab_type": "code",
    "id": "bIPaV-4bNKS9"
   },
   "outputs": [
    {
     "name": "stdout",
     "output_type": "stream",
     "text": [
      "1.5382623806340416\n"
     ]
    }
   ],
   "source": [
    "def log_perplexity(sentences, hmm):\n",
    "    \"\"\"\n",
    "    TYPE YOUR SOLUTION\n",
    "    \n",
    "    For a dataset of sentences (each sentence is a list of words)\n",
    "        and an instance of the HMMLM class\n",
    "        return the log perplexity as defined in Equation (12)\n",
    "    \"\"\"\n",
    "    total_log_p = 0\n",
    "    n = 0\n",
    "    for sentence in sentences:\n",
    "        n += len(sentence) + 1 # <s> en </s>\n",
    "        total_log_p += hmm.log_marginal(sentence)\n",
    "    return -1/n * total_log_p\n",
    "\n",
    "dev_sentences = extract_sentences(treebank_dev)\n",
    "print(log_perplexity(dev_sentences, treebank_hmm))"
   ]
  },
  {
   "cell_type": "markdown",
   "metadata": {
    "colab_type": "text",
    "id": "HLabSTitNKS_"
   },
   "source": [
    "## <a name=\"viterbi\"> Viterbi\n",
    "\n",
    "\n",
    "The Viterbi algorithm is used to search through the space of possible tag sequences and find the one that score highest.\n",
    "\n",
    "The space of tag sequences is very large, consider that we can select any of $t$ tags for each position, thus by simple counting, we are left with $t^n$ possible sequences. Searching through an exponential space is intractable in general. \n",
    "\n",
    "Not by chance we designed the HMM with certain conditional independence assumptions. In fact, in our HMM model the probability of each word observation really only depends on two decisions, namely, its tag and its preceding tag. We can use that to derive a *tractable* dynamic program. \n",
    "\n",
    "[Dynamic programming](https://en.wikipedia.org/wiki/Dynamic_programming) is a kind of *divide and conquer* strategy. We have to identify sub-problems that we can solve efficiently and maintain a memory of partial solutions that we use to build the final one.\n",
    "\n",
    "For the Viterbi algorithm we need to solve the problem \"what is the best probability so far\". We will approach this problem with a recursion that computes the probability of the best path of a certain length.\n",
    "We will use the recursive function $\\alpha(i, j)$ which returns the best probability for a path of length $i$ assuming that its last tag is $C_i=j$. For efficiency in our implementation we will map tags to integers.\n",
    "\n",
    "The Viterbi recursion is pretty simple, if a path has length $0$ we will assume it has probability $1$. If a path has length $i$ (more than $0$), we reckon that its maximum probability is based on the maximum probability assigned to paths of size $i-1$, where we extend those paths with one steps and check which step yields the best probability.\n",
    "\n",
    "The Viterbi recursion is formalised below:\n",
    "\n",
    "\\begin{align}\n",
    "(13)\\qquad \\alpha(i, j) &= \n",
    "\\begin{cases}\n",
    "1 & \\text{if }i = 0 \\\\\n",
    "\\max_{p \\in \\{1, \\ldots, t\\}} \\alpha(i-1, p) \\times \\lambda_{j}^{p} \\times \\theta_{x_i}^{j} & \\text{otherwise}\n",
    "\\end{cases}\n",
    "\\end{align}\n",
    "\n",
    "Note that in the second line, we look for paths of size $i-1$ (which my have ended in one of $t$ possible previous tags) and we try to extend them with tag $j$. The probability of each hypothetical extension is the probability of the path we mean to extend $\\alpha(i-1, p)$ times the joint parameters associated with the extension. That is, continuing from previous class $C_{i-1}=p$ with current class $C_i=j$ (that is a transition parameter), and generating the current word $X_i=x_i$ from the current class $C_i=j$ ( that is an emission parameter).\n",
    "\n",
    "Note that the recursive function takes 2 inputs, $i$ which ranges from 1 to $n$, and $j$ which ranges from 1 to $t$. Thus we need to make at most $nt$ calls to this function. But also note that each time we call it, we have to solve (in the second line) a maximisation over $t$ possible assignments of the previous tag. Therefore the overall complexity of the algorithm is $O(nt^2)$. That's quite an improvement from $O(t^n)$, isn't it?\n",
    "\n",
    "Of course, crucial to the success of the algorithm is that we use [memoization](https://en.wikipedia.org/wiki/Memoization), a technique by which we store partial solutions and never recompute things.\n",
    "\n",
    "We provide you with a **recursive** implementation of the Viterbi algorithm which uses the interface of the HMMLM class that you designed above. You can use this implementation if you want to experiment with PTB and Brown corpus in the exercises below. Read the implementation carefully to learn from it. We have provided extensive documentation.\n",
    "One important note is that we compute everything in log space, that's to rely on better numerical properties of log probabilities.\n",
    "\n",
    "The Viterbi recursion gives us a way to compute the *probability* of the best path. To find the actual best path we just need to traverse the table of $\\alpha(i, j)$ values looking for the decision (tag) that is best at each point.\n"
   ]
  },
  {
   "cell_type": "code",
   "execution_count": 14,
   "metadata": {
    "colab": {
     "autoexec": {
      "startup": false,
      "wait_interval": 0
     }
    },
    "colab_type": "code",
    "id": "-ytMHcojNKTB"
   },
   "outputs": [],
   "source": [
    "def viterbi_recursion(sentence, hmm):\n",
    "    \"\"\"\n",
    "    Computes the best possible tag sequence for a given input\n",
    "    and also returns it log probability.\n",
    "    \n",
    "    This implementation uses recursion.\n",
    "    \n",
    "    :returns: tag sequence, log probability\n",
    "    \"\"\"\n",
    "    # here we pad the sentence with </s> only\n",
    "    sentence = hmm.preprocess_sentence(sentence, bos=False, eos=True)\n",
    "    # this is the length (but recall that padding added 1 token) \n",
    "    n = len(sentence)\n",
    "    # this is the complete tagset, which for convenience we will turn into a list\n",
    "    tagset = list(hmm.tagset())\n",
    "    t = len(tagset)\n",
    "    # We need a table to store log alpha(i, j) values\n",
    "    # - where i is an integer from 0 to n-1 which refers to a position in the list `sentence`\n",
    "    #   i.e. sentence[i]\n",
    "    # - and j is an integer from 0 to t-1 that refers to a tag in the list `tagset` \n",
    "    #   i.e. tagset[j] \n",
    "    # - together (i, j) means that we are setting `C_i = tagset[j]`    \n",
    "    # - we will be exploring the space of possible tags per position\n",
    "    #   thus our table has as many as n * t cells\n",
    "    # - Recall that the value \\log \\alpha(i, j)\n",
    "    #   corresponds to the log probability value of the best\n",
    "    #   path (C_1, ..., C_i) such that C_i = j\n",
    "    #   in other words the log probability of the best sequence up to the ith token where C_i = j\n",
    "    # At the beginning path probabilities have not been computed, we use a probability of 0 to indicate that\n",
    "    #  as we will be computing log probabilities, we use -inf instead\n",
    "    #  numpy arrays are very handy and we can actually use the quantity -inf\n",
    "    log_alpha_table = np.full([n, t], -float('inf'))\n",
    "    # In a best path algorithm we are interested in two things\n",
    "    #  the best score (or best log probability)\n",
    "    #  as well as the path that corresponds to the best score\n",
    "    # We compute the best score by moving i forward from 0 to n-1 computing the maximum value \n",
    "    #  and we traverse the table backwards following the path that led to the maximum\n",
    "    #  thus we create a table of \"back pointers\"\n",
    "    #  this is an integer for each cell (i, j) that tells us which tag `p` for position `i - 1`\n",
    "    #   leads to the score stored in `log_alpha_table[i, j]`\n",
    "    back_pointer_table = np.full([n, t], -1, dtype=int)\n",
    "\n",
    "    # Here we define the log alpha recursion\n",
    "    def log_alpha(i, j):\n",
    "        \"\"\"\n",
    "        This function returns\n",
    "                max_{c_1, ..., c_i=j} log P(c_1, ..., c_i=j) \n",
    "            where i is a (0-based) position in `sentence`\n",
    "            and j is a (0-based) position in `tagset`\n",
    "        \"\"\"\n",
    "        if i == 0:  # we do not need to tag the 0th position and it should not affect the probability\n",
    "            return 0.  # np.log(1)\n",
    "        # When we implement dynamic programs, we like to re-use computations already made\n",
    "        # thus first of all we test if we have already computed a value for this cell\n",
    "        # if so, it will not have a zero probability (-inf in log space)\n",
    "        if log_alpha_table[i, j] != -float('inf'):  \n",
    "            # then we can simply return it\n",
    "            return log_alpha_table[i, j]\n",
    "        # At this point we know we have not yet computed a score for this path\n",
    "        #  thus we proceed to compute it\n",
    "        # We will have to figure out the log prob of the best prefix\n",
    "        #  and which tag best continues from it\n",
    "        # There are exactly t classes that may tag this position\n",
    "        #  thus we just go over the tagset trying one at a time\n",
    "        #  and memorise the score we would have if we would select them\n",
    "        path_max_log_prob = np.full(t, -float('inf'))\n",
    "        for p in range(t):\n",
    "            # this is the essential part of the recursion\n",
    "            # we ask for the best score associated with the previous position \n",
    "            #  had it been tagged with p\n",
    "            #  and we incorporate the probability of C_i = tagset[j] given that C_{i-1} = tagset[p]\n",
    "            #   as well as the probability of X_i = sentence[i] given that C_i = tagset[j]\n",
    "            path_max_log_prob[p] = log_alpha(i - 1, p) + np.log(hmm.joint_parameter(tagset[p], tagset[j], sentence[i]))\n",
    "        # From all possibilities, we are only interested in the best\n",
    "        log_alpha_table[i, j] = np.max(path_max_log_prob)\n",
    "        # and we also want to store a pointer to the best\n",
    "        back_pointer_table[i, j] = np.argmax(path_max_log_prob)\n",
    "        return log_alpha_table[i, j]\n",
    "    \n",
    "    # Let's get the index associated with -EOS-\n",
    "    #  which is the tag for the </s> symbol in sentence[-1]\n",
    "    eos_index = tagset.index('-EOS-')\n",
    "    # We want the last word in the sentence (</s>) to have the tag -EOS-\n",
    "    #  thus we ask \"what's the probability of the best path that ends in -EOS-?\"\n",
    "    max_log_prob = log_alpha(n - 1, eos_index)\n",
    "    \n",
    "    # Here we retrieve the backpointers for the best analysis\n",
    "    #  the best analisys has n tags\n",
    "    bwd_argmax = [None] * n\n",
    "    #  the last tag is the -EOS- symbol\n",
    "    bwd_argmax[-1] = eos_index\n",
    "    # Here we maintain the \"current tag\" c_i\n",
    "    c_i = eos_index\n",
    "    for i in range(n - 1, 0, -1):  # we go backwards from c_{n-1} to c_1\n",
    "        # and set the value of c_{i-1} for the current c_i\n",
    "        bwd_argmax[i - 1] = back_pointer_table[i, c_i]\n",
    "        # we need, of course, to update c_i\n",
    "        c_i = bwd_argmax[i - 1]\n",
    "    \n",
    "    # Here we translate from ids back to actual tags (strings)\n",
    "    #  we leave the -EOS- symbol out, since it was just a convenience \n",
    "    #  and return both the tag sequence and the total log probability\n",
    "    return [tagset[c] for c in bwd_argmax[:-1]], max_log_prob"
   ]
  },
  {
   "cell_type": "code",
   "execution_count": 15,
   "metadata": {
    "colab": {
     "autoexec": {
      "startup": false,
      "wait_interval": 0
     }
    },
    "colab_type": "code",
    "id": "izNfw6BtNKTD"
   },
   "outputs": [
    {
     "name": "stdout",
     "output_type": "stream",
     "text": [
      "['-EOS-', '-UNK-', '-UNK-', '-UNK-', '-UNK-', '-UNK-', '-UNK-'] -26.48938911833405\n"
     ]
    }
   ],
   "source": [
    "# let's tag a sentence\n",
    "viterbi_path, viterbi_log_prob = viterbi_recursion(['i', 'wish', 'i', 'had', 'a', 'book', '.'], treebank_hmm)\n",
    "print(viterbi_path, viterbi_log_prob)"
   ]
  },
  {
   "cell_type": "markdown",
   "metadata": {
    "colab_type": "text",
    "id": "WO46W-svNKTF"
   },
   "source": [
    "##  <a name=\"acc\"> Accuracy\n",
    "\n",
    "We can evaluate the performance of our tagger by comparing its Viterbi predictions to human annotation. \n",
    "\n",
    "For this, we will use the gold standard test data (e.g. treebank_test). Evaluation metrics compute a score for a given model (e.g. our HMM tagger) by comparing the predicted labels that the model generated with the test data againts the gold standard annotation.\n",
    "\n",
    "The **Accuracy** metric computes the percentage of instances in the test data that our tagger labeled correctly.\n",
    "If we have a dataset of $m$ labelled sequences\n",
    "\\begin{equation}\n",
    "\\left( \\langle x_1^{(k)}, \\ldots, x_{n_k}^{(k)}\\rangle, \\langle \\star_1^{(k)}, \\ldots, \\star_{n_k}^{(k)}\\rangle \\right)_{k=1}^m\n",
    "\\end{equation}\n",
    "we can produce all Viterbi predictions\n",
    "\\begin{equation}\n",
    "\\left( \\langle x_1^{(k)}, \\ldots, x_{n_k}^{(k)}\\rangle, \\langle c_1^{(k)}, \\ldots, c_{n_k}^{(k)}\\rangle \\right)_{k=1}^m\n",
    "\\end{equation}\n",
    "\n",
    "and compute\n",
    "\n",
    "\\begin{align}\n",
    "(14)\\qquad \\text{accuracy} &= \\frac{\\sum_{k=1}^m \\sum_{i=1}^{n_k} [c_i^{(k)} = \\star_i^{(k)}]}{\\sum_{k=1}^m n_k}\\\\\n",
    "&= \\frac{\\text{number of correct predictions}}{\\text{total tokens}} \n",
    "\\end{align}\n",
    "\n"
   ]
  },
  {
   "cell_type": "markdown",
   "metadata": {
    "colab_type": "text",
    "id": "C1rGmMFcNKTG"
   },
   "source": [
    "<a name=\"ex4-12\" style=\"color:red\">**Exercise 4-12**</a> **[5 points]** \n",
    "\n",
    "* **[1 point]** Implement the accuracy function.\n",
    "* **[1 point]** Compute accuracy on PTB's test set using a PTB-trained model\n",
    "* **[1 point]** Compute accuracy on PTB's test set using a Brown-trained model\n",
    "* **[1 point]** Compute accuracy on Brown's test set using a PTB-trained model\n",
    "* **[1 point]** Compute accuracy on Brown's test set using a Brown-trained model\n",
    "\n",
    "For this exercise you can use the Viterbi implementation we provided (or your own -- its up to you). With our own implementation we got $0.8446$ accuracy for PTB-training and PTB-test, and $0.8960$ for Brown-training and Brown-test."
   ]
  },
  {
   "cell_type": "code",
   "execution_count": 16,
   "metadata": {
    "colab": {
     "autoexec": {
      "startup": false,
      "wait_interval": 0
     }
    },
    "colab_type": "code",
    "id": "0V6d1gk3NKTG"
   },
   "outputs": [],
   "source": [
    "def accuracy(gold_sequences, pred_sequences):\n",
    "    \"\"\"\n",
    "    Return percentage of instances in the test data that our tagger labeled correctly.\n",
    "    \n",
    "    :param gold_sequences: a list of tag sequences that can be assumed to be correct\n",
    "    :param pred_sequences: a list of tag sequences predicted by Viterbi    \n",
    "    \"\"\"\n",
    "    \n",
    "    pred_counter = 0\n",
    "    token_counter = 0\n",
    "    \n",
    "    for i in range(len(gold_sequences)):\n",
    "        gold = gold_sequences[i]\n",
    "        pred = pred_sequences[i]\n",
    "        for j in gold:\n",
    "            if gold[j] == pred[j]:\n",
    "                pred_counter += 1\n",
    "        token_counter += len(pred)\n",
    "    \n",
    "    return pred_counter/token_counter\n"
   ]
  },
  {
   "cell_type": "code",
   "execution_count": 17,
   "metadata": {},
   "outputs": [
    {
     "ename": "KeyboardInterrupt",
     "evalue": "",
     "output_type": "error",
     "traceback": [
      "\u001b[1;31m---------------------------------------------------------------------------\u001b[0m",
      "\u001b[1;31mKeyboardInterrupt\u001b[0m                         Traceback (most recent call last)",
      "\u001b[1;32m<ipython-input-17-4748bd86b9e7>\u001b[0m in \u001b[0;36m<module>\u001b[1;34m()\u001b[0m\n\u001b[0;32m     37\u001b[0m \u001b[0mbrown_viterbi\u001b[0m \u001b[1;33m=\u001b[0m \u001b[1;33m[\u001b[0m\u001b[1;33m]\u001b[0m\u001b[1;33m\u001b[0m\u001b[0m\n\u001b[0;32m     38\u001b[0m \u001b[1;32mfor\u001b[0m \u001b[0msent\u001b[0m \u001b[1;32min\u001b[0m \u001b[0mvit_sents_brown\u001b[0m\u001b[1;33m:\u001b[0m\u001b[1;33m\u001b[0m\u001b[0m\n\u001b[1;32m---> 39\u001b[1;33m     \u001b[0mviterbi_path\u001b[0m\u001b[1;33m,\u001b[0m \u001b[0m_\u001b[0m \u001b[1;33m=\u001b[0m \u001b[0mviterbi_recursion\u001b[0m\u001b[1;33m(\u001b[0m\u001b[0msent\u001b[0m\u001b[1;33m,\u001b[0m \u001b[0mbrown_hmm\u001b[0m\u001b[1;33m)\u001b[0m\u001b[1;33m\u001b[0m\u001b[0m\n\u001b[0m\u001b[0;32m     40\u001b[0m     \u001b[0mbrown_viterbi\u001b[0m\u001b[1;33m.\u001b[0m\u001b[0mappend\u001b[0m\u001b[1;33m(\u001b[0m\u001b[0mviterbi_path\u001b[0m\u001b[1;33m)\u001b[0m\u001b[1;33m\u001b[0m\u001b[0m\n\u001b[0;32m     41\u001b[0m \u001b[1;33m\u001b[0m\u001b[0m\n",
      "\u001b[1;32m<ipython-input-14-4e1981184871>\u001b[0m in \u001b[0;36mviterbi_recursion\u001b[1;34m(sentence, hmm)\u001b[0m\n\u001b[0;32m     83\u001b[0m     \u001b[1;31m# We want the last word in the sentence (</s>) to have the tag -EOS-\u001b[0m\u001b[1;33m\u001b[0m\u001b[1;33m\u001b[0m\u001b[0m\n\u001b[0;32m     84\u001b[0m     \u001b[1;31m#  thus we ask \"what's the probability of the best path that ends in -EOS-?\"\u001b[0m\u001b[1;33m\u001b[0m\u001b[1;33m\u001b[0m\u001b[0m\n\u001b[1;32m---> 85\u001b[1;33m     \u001b[0mmax_log_prob\u001b[0m \u001b[1;33m=\u001b[0m \u001b[0mlog_alpha\u001b[0m\u001b[1;33m(\u001b[0m\u001b[0mn\u001b[0m \u001b[1;33m-\u001b[0m \u001b[1;36m1\u001b[0m\u001b[1;33m,\u001b[0m \u001b[0meos_index\u001b[0m\u001b[1;33m)\u001b[0m\u001b[1;33m\u001b[0m\u001b[0m\n\u001b[0m\u001b[0;32m     86\u001b[0m \u001b[1;33m\u001b[0m\u001b[0m\n\u001b[0;32m     87\u001b[0m     \u001b[1;31m# Here we retrieve the backpointers for the best analysis\u001b[0m\u001b[1;33m\u001b[0m\u001b[1;33m\u001b[0m\u001b[0m\n",
      "\u001b[1;32m<ipython-input-14-4e1981184871>\u001b[0m in \u001b[0;36mlog_alpha\u001b[1;34m(i, j)\u001b[0m\n\u001b[0;32m     71\u001b[0m             \u001b[1;31m#  and we incorporate the probability of C_i = tagset[j] given that C_{i-1} = tagset[p]\u001b[0m\u001b[1;33m\u001b[0m\u001b[1;33m\u001b[0m\u001b[0m\n\u001b[0;32m     72\u001b[0m             \u001b[1;31m#   as well as the probability of X_i = sentence[i] given that C_i = tagset[j]\u001b[0m\u001b[1;33m\u001b[0m\u001b[1;33m\u001b[0m\u001b[0m\n\u001b[1;32m---> 73\u001b[1;33m             \u001b[0mpath_max_log_prob\u001b[0m\u001b[1;33m[\u001b[0m\u001b[0mp\u001b[0m\u001b[1;33m]\u001b[0m \u001b[1;33m=\u001b[0m \u001b[0mlog_alpha\u001b[0m\u001b[1;33m(\u001b[0m\u001b[0mi\u001b[0m \u001b[1;33m-\u001b[0m \u001b[1;36m1\u001b[0m\u001b[1;33m,\u001b[0m \u001b[0mp\u001b[0m\u001b[1;33m)\u001b[0m \u001b[1;33m+\u001b[0m \u001b[0mnp\u001b[0m\u001b[1;33m.\u001b[0m\u001b[0mlog\u001b[0m\u001b[1;33m(\u001b[0m\u001b[0mhmm\u001b[0m\u001b[1;33m.\u001b[0m\u001b[0mjoint_parameter\u001b[0m\u001b[1;33m(\u001b[0m\u001b[0mtagset\u001b[0m\u001b[1;33m[\u001b[0m\u001b[0mp\u001b[0m\u001b[1;33m]\u001b[0m\u001b[1;33m,\u001b[0m \u001b[0mtagset\u001b[0m\u001b[1;33m[\u001b[0m\u001b[0mj\u001b[0m\u001b[1;33m]\u001b[0m\u001b[1;33m,\u001b[0m \u001b[0msentence\u001b[0m\u001b[1;33m[\u001b[0m\u001b[0mi\u001b[0m\u001b[1;33m]\u001b[0m\u001b[1;33m)\u001b[0m\u001b[1;33m)\u001b[0m\u001b[1;33m\u001b[0m\u001b[0m\n\u001b[0m\u001b[0;32m     74\u001b[0m         \u001b[1;31m# From all possibilities, we are only interested in the best\u001b[0m\u001b[1;33m\u001b[0m\u001b[1;33m\u001b[0m\u001b[0m\n\u001b[0;32m     75\u001b[0m         \u001b[0mlog_alpha_table\u001b[0m\u001b[1;33m[\u001b[0m\u001b[0mi\u001b[0m\u001b[1;33m,\u001b[0m \u001b[0mj\u001b[0m\u001b[1;33m]\u001b[0m \u001b[1;33m=\u001b[0m \u001b[0mnp\u001b[0m\u001b[1;33m.\u001b[0m\u001b[0mmax\u001b[0m\u001b[1;33m(\u001b[0m\u001b[0mpath_max_log_prob\u001b[0m\u001b[1;33m)\u001b[0m\u001b[1;33m\u001b[0m\u001b[0m\n",
      "\u001b[1;32m<ipython-input-14-4e1981184871>\u001b[0m in \u001b[0;36mlog_alpha\u001b[1;34m(i, j)\u001b[0m\n\u001b[0;32m     71\u001b[0m             \u001b[1;31m#  and we incorporate the probability of C_i = tagset[j] given that C_{i-1} = tagset[p]\u001b[0m\u001b[1;33m\u001b[0m\u001b[1;33m\u001b[0m\u001b[0m\n\u001b[0;32m     72\u001b[0m             \u001b[1;31m#   as well as the probability of X_i = sentence[i] given that C_i = tagset[j]\u001b[0m\u001b[1;33m\u001b[0m\u001b[1;33m\u001b[0m\u001b[0m\n\u001b[1;32m---> 73\u001b[1;33m             \u001b[0mpath_max_log_prob\u001b[0m\u001b[1;33m[\u001b[0m\u001b[0mp\u001b[0m\u001b[1;33m]\u001b[0m \u001b[1;33m=\u001b[0m \u001b[0mlog_alpha\u001b[0m\u001b[1;33m(\u001b[0m\u001b[0mi\u001b[0m \u001b[1;33m-\u001b[0m \u001b[1;36m1\u001b[0m\u001b[1;33m,\u001b[0m \u001b[0mp\u001b[0m\u001b[1;33m)\u001b[0m \u001b[1;33m+\u001b[0m \u001b[0mnp\u001b[0m\u001b[1;33m.\u001b[0m\u001b[0mlog\u001b[0m\u001b[1;33m(\u001b[0m\u001b[0mhmm\u001b[0m\u001b[1;33m.\u001b[0m\u001b[0mjoint_parameter\u001b[0m\u001b[1;33m(\u001b[0m\u001b[0mtagset\u001b[0m\u001b[1;33m[\u001b[0m\u001b[0mp\u001b[0m\u001b[1;33m]\u001b[0m\u001b[1;33m,\u001b[0m \u001b[0mtagset\u001b[0m\u001b[1;33m[\u001b[0m\u001b[0mj\u001b[0m\u001b[1;33m]\u001b[0m\u001b[1;33m,\u001b[0m \u001b[0msentence\u001b[0m\u001b[1;33m[\u001b[0m\u001b[0mi\u001b[0m\u001b[1;33m]\u001b[0m\u001b[1;33m)\u001b[0m\u001b[1;33m)\u001b[0m\u001b[1;33m\u001b[0m\u001b[0m\n\u001b[0m\u001b[0;32m     74\u001b[0m         \u001b[1;31m# From all possibilities, we are only interested in the best\u001b[0m\u001b[1;33m\u001b[0m\u001b[1;33m\u001b[0m\u001b[0m\n\u001b[0;32m     75\u001b[0m         \u001b[0mlog_alpha_table\u001b[0m\u001b[1;33m[\u001b[0m\u001b[0mi\u001b[0m\u001b[1;33m,\u001b[0m \u001b[0mj\u001b[0m\u001b[1;33m]\u001b[0m \u001b[1;33m=\u001b[0m \u001b[0mnp\u001b[0m\u001b[1;33m.\u001b[0m\u001b[0mmax\u001b[0m\u001b[1;33m(\u001b[0m\u001b[0mpath_max_log_prob\u001b[0m\u001b[1;33m)\u001b[0m\u001b[1;33m\u001b[0m\u001b[0m\n",
      "\u001b[1;32m<ipython-input-14-4e1981184871>\u001b[0m in \u001b[0;36mlog_alpha\u001b[1;34m(i, j)\u001b[0m\n\u001b[0;32m     71\u001b[0m             \u001b[1;31m#  and we incorporate the probability of C_i = tagset[j] given that C_{i-1} = tagset[p]\u001b[0m\u001b[1;33m\u001b[0m\u001b[1;33m\u001b[0m\u001b[0m\n\u001b[0;32m     72\u001b[0m             \u001b[1;31m#   as well as the probability of X_i = sentence[i] given that C_i = tagset[j]\u001b[0m\u001b[1;33m\u001b[0m\u001b[1;33m\u001b[0m\u001b[0m\n\u001b[1;32m---> 73\u001b[1;33m             \u001b[0mpath_max_log_prob\u001b[0m\u001b[1;33m[\u001b[0m\u001b[0mp\u001b[0m\u001b[1;33m]\u001b[0m \u001b[1;33m=\u001b[0m \u001b[0mlog_alpha\u001b[0m\u001b[1;33m(\u001b[0m\u001b[0mi\u001b[0m \u001b[1;33m-\u001b[0m \u001b[1;36m1\u001b[0m\u001b[1;33m,\u001b[0m \u001b[0mp\u001b[0m\u001b[1;33m)\u001b[0m \u001b[1;33m+\u001b[0m \u001b[0mnp\u001b[0m\u001b[1;33m.\u001b[0m\u001b[0mlog\u001b[0m\u001b[1;33m(\u001b[0m\u001b[0mhmm\u001b[0m\u001b[1;33m.\u001b[0m\u001b[0mjoint_parameter\u001b[0m\u001b[1;33m(\u001b[0m\u001b[0mtagset\u001b[0m\u001b[1;33m[\u001b[0m\u001b[0mp\u001b[0m\u001b[1;33m]\u001b[0m\u001b[1;33m,\u001b[0m \u001b[0mtagset\u001b[0m\u001b[1;33m[\u001b[0m\u001b[0mj\u001b[0m\u001b[1;33m]\u001b[0m\u001b[1;33m,\u001b[0m \u001b[0msentence\u001b[0m\u001b[1;33m[\u001b[0m\u001b[0mi\u001b[0m\u001b[1;33m]\u001b[0m\u001b[1;33m)\u001b[0m\u001b[1;33m)\u001b[0m\u001b[1;33m\u001b[0m\u001b[0m\n\u001b[0m\u001b[0;32m     74\u001b[0m         \u001b[1;31m# From all possibilities, we are only interested in the best\u001b[0m\u001b[1;33m\u001b[0m\u001b[1;33m\u001b[0m\u001b[0m\n\u001b[0;32m     75\u001b[0m         \u001b[0mlog_alpha_table\u001b[0m\u001b[1;33m[\u001b[0m\u001b[0mi\u001b[0m\u001b[1;33m,\u001b[0m \u001b[0mj\u001b[0m\u001b[1;33m]\u001b[0m \u001b[1;33m=\u001b[0m \u001b[0mnp\u001b[0m\u001b[1;33m.\u001b[0m\u001b[0mmax\u001b[0m\u001b[1;33m(\u001b[0m\u001b[0mpath_max_log_prob\u001b[0m\u001b[1;33m)\u001b[0m\u001b[1;33m\u001b[0m\u001b[0m\n",
      "\u001b[1;32m<ipython-input-10-11c35ec080ae>\u001b[0m in \u001b[0;36mjoint_parameter\u001b[1;34m(self, previous_tag, current_tag, word)\u001b[0m\n\u001b[0;32m    233\u001b[0m         \u001b[1;33m:\u001b[0m\u001b[0mreturns\u001b[0m\u001b[1;33m:\u001b[0m \u001b[0mP\u001b[0m\u001b[1;33m(\u001b[0m\u001b[0mword\u001b[0m\u001b[1;33m,\u001b[0m \u001b[0mcurrent_tag\u001b[0m\u001b[1;33m|\u001b[0m\u001b[0mprevious_tag\u001b[0m\u001b[1;33m)\u001b[0m\u001b[1;33m\u001b[0m\u001b[0m\n\u001b[0;32m    234\u001b[0m         \"\"\"\n\u001b[1;32m--> 235\u001b[1;33m         \u001b[1;32mreturn\u001b[0m \u001b[0mself\u001b[0m\u001b[1;33m.\u001b[0m\u001b[0mtransition_parameter\u001b[0m\u001b[1;33m(\u001b[0m\u001b[0mprevious_tag\u001b[0m\u001b[1;33m,\u001b[0m \u001b[0mcurrent_tag\u001b[0m\u001b[1;33m)\u001b[0m \u001b[1;33m*\u001b[0m \u001b[0mself\u001b[0m\u001b[1;33m.\u001b[0m\u001b[0memission_parameter\u001b[0m\u001b[1;33m(\u001b[0m\u001b[0mcurrent_tag\u001b[0m\u001b[1;33m,\u001b[0m \u001b[0mword\u001b[0m\u001b[1;33m)\u001b[0m\u001b[1;33m\u001b[0m\u001b[0m\n\u001b[0m\u001b[0;32m    236\u001b[0m \u001b[1;33m\u001b[0m\u001b[0m\n\u001b[0;32m    237\u001b[0m     \u001b[1;32mdef\u001b[0m \u001b[0mmarginal_x_given_cprev\u001b[0m\u001b[1;33m(\u001b[0m\u001b[0mself\u001b[0m\u001b[1;33m,\u001b[0m \u001b[0mprevious_tag\u001b[0m\u001b[1;33m,\u001b[0m \u001b[0mword\u001b[0m\u001b[1;33m)\u001b[0m\u001b[1;33m:\u001b[0m\u001b[1;33m\u001b[0m\u001b[0m\n",
      "\u001b[1;32m<ipython-input-10-11c35ec080ae>\u001b[0m in \u001b[0;36memission_parameter\u001b[1;34m(self, tag, word)\u001b[0m\n\u001b[0;32m    217\u001b[0m         \u001b[0mcount_tag\u001b[0m \u001b[1;33m=\u001b[0m \u001b[1;36m0\u001b[0m\u001b[1;33m\u001b[0m\u001b[0m\n\u001b[0;32m    218\u001b[0m         \u001b[1;32mfor\u001b[0m \u001b[0mvalue\u001b[0m \u001b[1;32min\u001b[0m \u001b[0mself\u001b[0m\u001b[1;33m.\u001b[0m\u001b[0m_emission_cpds\u001b[0m\u001b[1;33m[\u001b[0m\u001b[0mtag\u001b[0m\u001b[1;33m]\u001b[0m\u001b[1;33m.\u001b[0m\u001b[0mvalues\u001b[0m\u001b[1;33m(\u001b[0m\u001b[1;33m)\u001b[0m\u001b[1;33m:\u001b[0m\u001b[1;33m\u001b[0m\u001b[0m\n\u001b[1;32m--> 219\u001b[1;33m             \u001b[0mcount_tag\u001b[0m \u001b[1;33m+=\u001b[0m \u001b[0mvalue\u001b[0m\u001b[1;33m\u001b[0m\u001b[0m\n\u001b[0m\u001b[0;32m    220\u001b[0m \u001b[1;33m\u001b[0m\u001b[0m\n\u001b[0;32m    221\u001b[0m         \u001b[1;32mreturn\u001b[0m \u001b[0mcount_tag_word\u001b[0m \u001b[1;33m/\u001b[0m \u001b[0mcount_tag\u001b[0m\u001b[1;33m\u001b[0m\u001b[0m\n",
      "\u001b[1;31mKeyboardInterrupt\u001b[0m: "
     ]
    }
   ],
   "source": [
    "brown_hmm = HMMLM()\n",
    "brown_hmm.estimate_model(brown_training)\n",
    "\n",
    "# viterbi_path, viterbi_log_prob = viterbi_recursion(['i', 'wish', 'i', 'had', 'a', 'book', '.'], treebank_hmm)\n",
    "# print(viterbi_path, viterbi_log_prob)\n",
    "\n",
    "# tag_sequence = [c for _, c in treebank_dev[0]]\n",
    "\n",
    "brown_gold = []\n",
    "for sent in brown_test:\n",
    "    to_gold = []\n",
    "    for _, c in sent:\n",
    "        to_gold.append(c)\n",
    "    brown_gold.append(to_gold)\n",
    "\n",
    "ptb_gold = []\n",
    "for sent in treebank_test:\n",
    "    to_gold = []\n",
    "    for _, c in sent:\n",
    "        to_gold.append(c)\n",
    "    ptb_gold.append(to_gold)\n",
    "    \n",
    "vit_sents_brown = []\n",
    "for sent in brown_test:\n",
    "    to_sent = []\n",
    "    for x, _ in sent:\n",
    "        to_sent.append(x)\n",
    "    vit_sents_brown.append(to_sent)\n",
    "    \n",
    "vit_sents_ptb = []\n",
    "for sent in treebank_test:\n",
    "    to_sent = []\n",
    "    for x, _ in sent:\n",
    "        to_sent.append(x)\n",
    "    vit_sents_ptb.append(to_sent)  \n",
    "    \n",
    "brown_viterbi = []\n",
    "for sent in vit_sents_brown:\n",
    "    viterbi_path, _ = viterbi_recursion(sent, brown_hmm)\n",
    "    brown_viterbi.append(viterbi_path)\n",
    "    \n",
    "ptb_viterbi = []\n",
    "for sent in vit_sents_ptb:\n",
    "    viterbi_path, _ = viterbi_recursion(sent, treebank_hmm)\n",
    "    ptb_viterbi.append(viterbi_path)\n",
    "    \n",
    "print(accuracy(ptb_viterbi, ptb_gold))\n",
    "print(accuracy(ptb_viterbi, brown_gold))\n",
    "print(accuracy(brown_viterbi, brown_gold))\n",
    "print(accuracy(brown_viterbi, ptb_gold))"
   ]
  }
 ],
 "metadata": {
  "accelerator": "GPU",
  "colab": {
   "collapsed_sections": [],
   "default_view": {},
   "name": "Lab4_Beekhuis_Otten_Colab.ipynb",
   "provenance": [],
   "version": "0.3.2",
   "views": {}
  },
  "kernelspec": {
   "display_name": "Python 3",
   "language": "python",
   "name": "python3"
  },
  "language_info": {
   "codemirror_mode": {
    "name": "ipython",
    "version": 3
   },
   "file_extension": ".py",
   "mimetype": "text/x-python",
   "name": "python",
   "nbconvert_exporter": "python",
   "pygments_lexer": "ipython3",
   "version": "3.6.4"
  },
  "latex_envs": {
   "LaTeX_envs_menu_present": true,
   "autoclose": false,
   "autocomplete": true,
   "bibliofile": "biblio.bib",
   "cite_by": "apalike",
   "current_citInitial": 1,
   "eqLabelWithNumbers": true,
   "eqNumInitial": 1,
   "hotkeys": {
    "equation": "Ctrl-E",
    "itemize": "Ctrl-I"
   },
   "labels_anchors": false,
   "latex_user_defs": false,
   "report_style_numbering": false,
   "user_envs_cfg": false
  }
 },
 "nbformat": 4,
 "nbformat_minor": 1
}
