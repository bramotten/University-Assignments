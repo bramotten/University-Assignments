{
 "cells": [
  {
   "cell_type": "markdown",
   "metadata": {},
   "source": [
    "### Name: Bram Otten\n",
    "\n",
    "### Student ID: 10992456\n",
    "\n",
    "### Group: F\n",
    "\n",
    "Please fill in you name, student ID and group above, and also edit the filename according to the specified format."
   ]
  },
  {
   "cell_type": "markdown",
   "metadata": {},
   "source": [
    "# Polynomial Regression and Cross Validation\n",
    "\n",
    "For this assignment we will try to fit a polynomial function to a provided dataset. In total there are *15 points* available in the excersises below.\n",
    "\n",
    "The material for this assignment is based on sections **2.6 - 2.8** and **4.6 - 4.8** of the book *[Introduction to Machine Learning](https://www.cmpe.boun.edu.tr/~ethem/i2ml3e/)* by Ethem Alpaydin. In addition, there will be links to videos from Andrew Ng's *[Machine Learning course on Coursera](https://www.coursera.org/learn/machine-learning)* to provide some extra explanations and help create some intuitions.\n",
    "\n",
    "Generally speaking, using built-in functions will be fine for this course, but for this assignment you **may not** use any of the polynomial functions listed [here](https://docs.scipy.org/doc/numpy/reference/routines.polynomials.poly1d.html) or other built-in polynomial solution methods. You can of course use them to check your own implementations work correctly.\n",
    "\n",
    "Below are some imports to get your started. You do not need to add any code for this cell to work, just make sure you run the cell to actually import the libraries in your notebook."
   ]
  },
  {
   "cell_type": "code",
   "execution_count": 1,
   "metadata": {},
   "outputs": [],
   "source": [
    "%matplotlib inline\n",
    "\n",
    "import numpy as np\n",
    "import matplotlib.pyplot as plt"
   ]
  },
  {
   "cell_type": "markdown",
   "metadata": {},
   "source": [
    "## Loading the data [0 pts]\n",
    "\n",
    "Write a function to read the data stored in the file *points.csv* and convert it to a *Numpy* array. Each line in the file is a data point consisting of an **x**-value and **r**-value, separated by a comma. The task here is exactly the same as the loading the *Sudoku* puzzles from last week, so the function [loadtxt](https://docs.scipy.org/doc/numpy/reference/generated/numpy.loadtxt.html) should work fine. Test your function and print the resulting array to make sure you know what the data looks like."
   ]
  },
  {
   "cell_type": "code",
   "execution_count": 2,
   "metadata": {},
   "outputs": [
    {
     "name": "stdout",
     "output_type": "stream",
     "text": [
      "[[ -5.          42.02601552]\n",
      " [ -4.65517241  59.31942474]\n",
      " [ -4.31034483 -58.84315149]]\n"
     ]
    }
   ],
   "source": [
    "def load_file(filename):\n",
    "    return np.loadtxt(open(filename, 'r'),\n",
    "                      delimiter=',')\n",
    "\n",
    "\n",
    "pointsCSV = load_file('points.csv')\n",
    "print(pointsCSV[0:3])"
   ]
  },
  {
   "cell_type": "markdown",
   "metadata": {},
   "source": [
    "## Plotting the points [1 pt]\n",
    "\n",
    "Write a function to separate your data into an X vector and a R vector using [slicing](https://docs.scipy.org/doc/numpy/reference/arrays.indexing.html) like in last weeks assignment. Using both vectors, create a graph containing the plotted points you just read from the file. For this you can use the *matplotlib* functions [plot](http://matplotlib.org/api/pyplot_api.html#matplotlib.pyplot.plot) and [show](http://matplotlib.org/api/pyplot_api.html#matplotlib.pyplot.show). A plot of the data should be visble below your code."
   ]
  },
  {
   "cell_type": "code",
   "execution_count": 3,
   "metadata": {},
   "outputs": [
    {
     "data": {
      "image/png": "[encoded data removed]",
      "text/plain": [
       "<matplotlib.figure.Figure at 0x7ff984343be0>"
      ]
     },
     "metadata": {},
     "output_type": "display_data"
    }
   ],
   "source": [
    "def split_X_R(data):\n",
    "    # Insert exception handling here\n",
    "    return data[:, 0], data[:, 1]\n",
    "\n",
    "\n",
    "pcol0 = split_X_R(pointsCSV)[0]\n",
    "pcol1 = split_X_R(pointsCSV)[1]\n",
    "plt.show(plt.plot(pcol0, pcol1))"
   ]
  },
  {
   "cell_type": "markdown",
   "metadata": {},
   "source": [
    "## Defining the linear model [1 pt]\n",
    "\n",
    "Now we are going to try to find the function which best relates these points. We will start by fitting a simple linear function of the form\n",
    "\n",
    "(2.15) $$g(x) = w_1x + w_0$$\n",
    "\n",
    "* *For more detailed description of linear regression, you can watch Andrew's videos on the topic. The notation is slightly different, $y$ instead of $r$ for the output and $\\theta$ instead of $w$ for the model parameters, but the actual model is identical.*\n",
    "    * [Supervised Learning](https://www.youtube.com/watch?v=ls7Ke48jCt8&list=PLZ9qNFMHZ-A4rycgrgOYma6zxF4BZGGPW&index=3)\n",
    "    * [Linear Model](https://www.youtube.com/watch?v=PBZUjnGuXjA&list=PLZ9qNFMHZ-A4rycgrgOYma6zxF4BZGGPW&index=5)\n",
    "\n",
    "Now write a function that computes the predicted output value $g(x)$ given a value of $x$ and the parameters $w_0$ and $w_1$."
   ]
  },
  {
   "cell_type": "code",
   "execution_count": 4,
   "metadata": {},
   "outputs": [
    {
     "name": "stdout",
     "output_type": "stream",
     "text": [
      "10\n"
     ]
    }
   ],
   "source": [
    "def linear_model(w0, w1, x):\n",
    "    # Insert exception handling here\n",
    "    return w1 * x + w0\n",
    "\n",
    "\n",
    "print(linear_model(2, 4, 2))  # 4 * 2 + 2 = 10"
   ]
  },
  {
   "cell_type": "markdown",
   "metadata": {},
   "source": [
    "## Creating the cost function [1 pt]\n",
    "\n",
    "The cost function is defined as the sum of the squared errors of each prediction\n",
    "\n",
    "(2.16) $$E(w_1, w_0|X) = \\frac{1}{N}\\sum^N_{t=1} [r^t - (w_1x^t + w_0)]^2$$\n",
    "\n",
    "* *These videos are great for building intuition on the relation between the hypothesis function and the associated cost of that hypothesis for the data.*\n",
    "    * [Cost function 1](https://www.youtube.com/watch?v=EANr4YttXIQ&list=PLZ9qNFMHZ-A4rycgrgOYma6zxF4BZGGPW&index=6)\n",
    "    * [Cost function 2](https://www.youtube.com/watch?v=J5vJFwQWOaY&list=PLZ9qNFMHZ-A4rycgrgOYma6zxF4BZGGPW&index=7)\n",
    "\n",
    "Write a function to compute the cost based on the dataset $X$, $R$ and parameters $w_0$ and $w_1$. Based on your plot of the data, try to estimate some sensible values for $w_0$ and $w_1$ and compute the corresponding cost. Try at least 3 different guesses and print their cost. Order the prints of your guesses from highest to lowest cost."
   ]
  },
  {
   "cell_type": "code",
   "execution_count": 5,
   "metadata": {},
   "outputs": [
    {
     "name": "stdout",
     "output_type": "stream",
     "text": [
      "1108986.73\n",
      "55279.42\n",
      "29484.57\n"
     ]
    }
   ],
   "source": [
    "def linear_cost(w0, w1, X, R):\n",
    "    # Insert exception handling here\n",
    "    total = 0\n",
    "    n = X.size\n",
    "    for i in range(n):\n",
    "        total += (R[i] - (w1 * X[i] + w0)) ** 2\n",
    "    return total / n\n",
    "\n",
    "\n",
    "print(round(linear_cost(0,\n",
    "                        400,\n",
    "                        pcol0,\n",
    "                        pcol1), 2))\n",
    "\n",
    "print(round(linear_cost(0,\n",
    "                        0,\n",
    "                        pcol0,\n",
    "                        pcol1), 2))\n",
    "\n",
    "print(round(linear_cost(10,\n",
    "                        50,\n",
    "                        pcol0,\n",
    "                        pcol1), 2))"
   ]
  },
  {
   "cell_type": "markdown",
   "metadata": {},
   "source": [
    "## Fitting the linear model [2 pt]\n",
    "\n",
    "We can find the minimum value of the cost function by taking the partial derivatives for both of the weights $w_0$ and $w_1$ and setting them equal to $0$, resulting in the equations\n",
    "\n",
    "(2.17a) $$w_1 = \\frac{\\sum_tx^tr^t - \\bar{x}\\bar{r}N}{\\sum_t(x^t)^2 - N\\bar{x}^2}$$\n",
    "(2.17b) $$w_0 = \\bar{r} - w_1\\bar{x}$$\n",
    "\n",
    "You can take the partial derivates of the cost function yourself to check you understand where these equations come from. Minimizing the cost function gives us the best possible parameters for a linear model predicting the values of the provided dataset.\n",
    "\n",
    "Write a function which computes the optimal values of $w_0$ and $w_1$ for a dataset consisting of the vectors $X$ and $R$, containing $N$ elements each. Use *matplotlib* again to plot the points, but now also add the line representing the hypothesis function you found. As the line is linear, you can simply plot it by computing the 2 end points and have *matplotlib* draw the connecting line.\n",
    "\n",
    "Note that with some clever [array operations](https://docs.scipy.org/doc/numpy/reference/routines.array-manipulation.html) and [linear algebra](https://docs.scipy.org/doc/numpy/reference/routines.linalg.html) you can avoid explicitly looping over all the elements in $X$ and $R$ in `linear_fit`, which will make your code a lot faster. However, this is just an optional extra and any working implementation of the equations above will be considered correct."
   ]
  },
  {
   "cell_type": "code",
   "execution_count": 6,
   "metadata": {},
   "outputs": [
    {
     "name": "stdout",
     "output_type": "stream",
     "text": [
      "g(x) = 85.87 + 52.14 * x\n"
     ]
    },
    {
     "data": {
      "image/png": "[encoded data removed]",
      "text/plain": [
       "<matplotlib.figure.Figure at 0x7ff9822e1710>"
      ]
     },
     "metadata": {},
     "output_type": "display_data"
    }
   ],
   "source": [
    "# todo: make smart\n",
    "def linear_fit(X, R, N):\n",
    "    # Insert exception handling\n",
    "    xBar = rBar = 0.0\n",
    "    for i in range(N):\n",
    "        xBar += X[i]\n",
    "        rBar += R[i]\n",
    "    xBar /= N\n",
    "    rBar /= N\n",
    "\n",
    "    above = below = 0\n",
    "    for i in range(N):\n",
    "        above += X[i] * R[i] - xBar * rBar * N\n",
    "        below += (X[i]) ** 2 - N * xBar ** 2\n",
    "    w1 = above / below\n",
    "    w0 = rBar - w1 * xBar\n",
    "    return w0, w1\n",
    "\n",
    "\n",
    "(pw0,\n",
    " pw1) = linear_fit(pcol0,\n",
    "                   pcol1,\n",
    "                   pcol0.size)\n",
    "\n",
    "print(\"g(x) = {} + {} * x\".format(round(pw0, 2),\n",
    "                                  round(pw1, 2)))\n",
    "\n",
    "x = [-5, 5]\n",
    "y = [linear_model(pw0, pw1, x[0]),\n",
    "     linear_model(pw0, pw1, x[1])]\n",
    "\n",
    "plt.show(plt.plot(pcol0,\n",
    "                  pcol1,\n",
    "                  linewidth=0.7),\n",
    "         plt.plot(x, y, linewidth=1.3))"
   ]
  },
  {
   "cell_type": "markdown",
   "metadata": {
    "collapsed": true
   },
   "source": [
    "## Polynomial data [1 pt]\n",
    "\n",
    "The linear model can easily be extended to polynomials of any order by expanding the original input with the squared input $x^2$, the cubed input $x^3$, etc and adding additional weights to the model. For ease of calculation, the input is also expanded with a vector of $1$'s, to represent the input for the constant parameter $w_0$. The parameters then become $w_0$, $w_1$, $w_2$, etc., one factor for each term of the polynomial.\n",
    "\n",
    "So if originally the dataset of $N$ elements is of the form $X$ (superscripts are indices here)\n",
    "\n",
    "$$ X = \\left[\\begin{array}{c} x^1 \\\\ x^2 \\\\ \\vdots \\\\ x^N \\end{array} \\right]$$\n",
    "\n",
    "Then the matrix $D$ for a $k^{th}$-order polynomial becomes\n",
    "\n",
    "$$ D = \\left[\\begin{array}{cccc}\n",
    "1 & x^1 & (x^1)^2 & \\cdots & (x^1)^k \\\\ \n",
    "1 & x^2 & (x^2)^2 & \\cdots & (x^2)^k \\\\ \n",
    "\\vdots \\\\\n",
    "1 & x^N & (x^N)^2 & \\cdots & (x^N)^k \\\\ \n",
    "\\end{array} \\right]$$\n",
    "\n",
    "Write a function `create_D_matrix` that constructs this matrix for a given vector $X$ up the specified order $k$. Looking at plots for the dataset we have been using so far, the relationship between the points will probably be at least be quadratic. Use the function to construct a matrix $D$ of order $2$, print the matrix and verify that it looks correct."
   ]
  },
  {
   "cell_type": "code",
   "execution_count": 7,
   "metadata": {},
   "outputs": [
    {
     "name": "stdout",
     "output_type": "stream",
     "text": [
      "[[  1.00000000e+00  -5.00000000e+00   2.50000000e+01  -1.25000000e+02]\n",
      " [  1.00000000e+00  -4.65517241e+00   2.16706302e+01  -1.00880520e+02]\n",
      " [  1.00000000e+00  -4.31034483e+00   1.85790725e+01  -8.00822092e+01]\n",
      " [  1.00000000e+00  -3.96551724e+00   1.57253270e+01  -6.23590553e+01]\n",
      " [  1.00000000e+00  -3.62068966e+00   1.31093936e+01  -4.74650457e+01]\n",
      " [  1.00000000e+00  -3.27586207e+00   1.07312723e+01  -3.51541679e+01]\n",
      " [  1.00000000e+00  -2.93103448e+00   8.59096314e+00  -2.51804092e+01]\n",
      " [  1.00000000e+00  -2.58620690e+00   6.68846611e+00  -1.72977572e+01]\n",
      " [  1.00000000e+00  -2.24137931e+00   5.02378121e+00  -1.12601993e+01]\n",
      " [  1.00000000e+00  -1.89655172e+00   3.59690844e+00  -6.82172291e+00]\n",
      " [  1.00000000e+00  -1.55172414e+00   2.40784780e+00  -3.73631555e+00]\n",
      " [  1.00000000e+00  -1.20689655e+00   1.45659929e+00  -1.75796466e+00]\n",
      " [  1.00000000e+00  -8.62068966e-01   7.43162901e-01  -6.40657674e-01]\n",
      " [  1.00000000e+00  -5.17241379e-01   2.67538644e-01  -1.38382057e-01]\n",
      " [  1.00000000e+00  -1.72413793e-01   2.97265161e-02  -5.12526139e-03]\n",
      " [  1.00000000e+00   1.72413793e-01   2.97265161e-02   5.12526139e-03]\n",
      " [  1.00000000e+00   5.17241379e-01   2.67538644e-01   1.38382057e-01]\n",
      " [  1.00000000e+00   8.62068966e-01   7.43162901e-01   6.40657674e-01]\n",
      " [  1.00000000e+00   1.20689655e+00   1.45659929e+00   1.75796466e+00]\n",
      " [  1.00000000e+00   1.55172414e+00   2.40784780e+00   3.73631555e+00]\n",
      " [  1.00000000e+00   1.89655172e+00   3.59690844e+00   6.82172291e+00]\n",
      " [  1.00000000e+00   2.24137931e+00   5.02378121e+00   1.12601993e+01]\n",
      " [  1.00000000e+00   2.58620690e+00   6.68846611e+00   1.72977572e+01]\n",
      " [  1.00000000e+00   2.93103448e+00   8.59096314e+00   2.51804092e+01]\n",
      " [  1.00000000e+00   3.27586207e+00   1.07312723e+01   3.51541679e+01]\n",
      " [  1.00000000e+00   3.62068966e+00   1.31093936e+01   4.74650457e+01]\n",
      " [  1.00000000e+00   3.96551724e+00   1.57253270e+01   6.23590553e+01]\n",
      " [  1.00000000e+00   4.31034483e+00   1.85790725e+01   8.00822092e+01]\n",
      " [  1.00000000e+00   4.65517241e+00   2.16706302e+01   1.00880520e+02]\n",
      " [  1.00000000e+00   5.00000000e+00   2.50000000e+01   1.25000000e+02]]\n"
     ]
    }
   ],
   "source": [
    "def create_D_matrix(X, k=3):\n",
    "    # Insert exception handling\n",
    "    matrixD = []\n",
    "    n = X.size\n",
    "    for i in range(n):\n",
    "        currentRow = []\n",
    "        for j in range(k + 1):\n",
    "            currentRow.append(X[i] ** j)\n",
    "        matrixD.append(currentRow)\n",
    "    return np.matrix(matrixD)\n",
    "\n",
    "\n",
    "dk3 = create_D_matrix(pcol0)\n",
    "print(dk3)"
   ]
  },
  {
   "cell_type": "markdown",
   "metadata": {},
   "source": [
    "## Polynomial model [1 pt]\n",
    "\n",
    "The parameters can now be represented as\n",
    "\n",
    "$$ w = \\left[\\begin{array}{c} w_0 \\\\ w_1 \\\\ \\vdots \\\\ w_k \\end{array} \\right]$$\n",
    "\n",
    "The hypothesis for a single input then just becomes\n",
    "\n",
    "$$ g(x^1) = \\sum_{i=0}^k D^1_iw_i $$\n",
    "\n",
    "Which can write as a matrix multiplication for all inputs in a single equation\n",
    "\n",
    "$$ \\left[\\begin{array}{cccc}\n",
    "1 & x^1 & (x^1)^2 & \\cdots & (x^1)^k \\\\ \n",
    "1 & x^2 & (x^2)^2 & \\cdots & (x^2)^k \\\\ \n",
    "\\vdots \\\\\n",
    "1 & x^N & (x^N)^2 & \\cdots & (x^N)^k \\\\ \n",
    "\\end{array} \\right]\n",
    "\\left[\\begin{array}{c} w_0 \\\\ w_1 \\\\ \\vdots \\\\ w_k \\end{array} \\right] = \\left[\\begin{array}{c} g(x^1) \\\\ g(x^2) \\\\ \\vdots \\\\ g(x^N) \\end{array} \\right]$$\n",
    "\n",
    "You can do matrix multiplication using the [dot](https://docs.scipy.org/doc/numpy/reference/generated/numpy.dot.html) function. Write 2 functions for computing the polynomial below\n",
    "\n",
    "* `poly_val` should take a single input value $x$ and a vector of polynomial weights $W$ and compute the single hypothesis value for that input.\n",
    "* `poly_model` should take a matrix $D$ and weight vector $W$ and compute the corresponding vector of hypotheses. \n"
   ]
  },
  {
   "cell_type": "code",
   "execution_count": 8,
   "metadata": {},
   "outputs": [
    {
     "name": "stdout",
     "output_type": "stream",
     "text": [
      "37\n",
      "[[ 69.          59.70154578  51.11652794  43.24494649  36.08680143\n",
      "   29.64209275  23.91082045  18.89298454  14.58858502  10.99762188\n",
      "    8.12009512   5.95600476   4.50535077   3.76813317   3.74435196\n",
      "    4.43400713   5.83709869   7.95362663  10.78359096  14.32699168\n",
      "   18.58382878  23.55410226  29.23781213  35.63495838  42.74554102\n",
      "   50.56956005  59.10701546  68.35790725  78.32223543  89.        ]]\n"
     ]
    }
   ],
   "source": [
    "def poly_val(x, W):\n",
    "    xRow = []\n",
    "    for i in range(W.size):\n",
    "        xRow.append(x ** i)\n",
    "    return np.dot(xRow, W)\n",
    "\n",
    "\n",
    "def poly_model(D, W):\n",
    "    # Insert exception handling\n",
    "    return np.dot(D, W)\n",
    "\n",
    "\n",
    "exampleW = np.transpose(np.array([4, 2, 3]))\n",
    "print(poly_val(3, exampleW))\n",
    "print(poly_model(create_D_matrix(pcol0, exampleW.size - 1),\n",
    "                 exampleW))"
   ]
  },
  {
   "cell_type": "markdown",
   "metadata": {},
   "source": [
    "## Polynomial cost function and model fitting [2 pts]\n",
    "\n",
    "And for the cost function we can then use\n",
    "\n",
    "$$ E(w|X) = \\frac{1}{2N} \\sum_{t=1}^N [r^t - D^tw]^2$$\n",
    "\n",
    "Note this is the same mean squared error function as we used for the linear case. We compute the hypothesis $g(x)$ for every example with $D^tw$, take the difference with the actual output $r$ and finally square and sum each difference.\n",
    "\n",
    "Now we have the cost function equation and can again take the partial derivative for each of the weights $w_0$ to $w_k$ and set their value equal to $0$. Solving the resulting system of equations will give the set of weights that minimize the cost function. The weights describing this lowest point of the cost function are the parameters which will produce the line that best fits our dataset.\n",
    "\n",
    "Solving all partial derivate equations for each weight can actually be done with just a couple of matrix operations. Deriving the equation yourself can be a bit involved, but know that the principle is exactly the same as for the linear model computing just $w_0$ and $w_1$. The final equation for weight vector becomes\n",
    "\n",
    "(4.33) $$ w = (D^TD)^{-1}D^Tr $$\n",
    "\n",
    "Numpy has built in functions for [transpose](https://docs.scipy.org/doc/numpy/reference/generated/numpy.transpose.html) and [inverse](https://docs.scipy.org/doc/numpy/reference/generated/numpy.linalg.inv.html). Write the code for the for the functions\n",
    "\n",
    "* `poly_cost` should return the total cost $E$ given $w$, $D$ and $r$\n",
    "* `poly_fit` should return the vector $w$ that bests fits the polynomial relationship between matrix $D$ and vector $r$\n",
    "\n",
    "Using the quadratic matrix $D$ you constructed earlier and this `poly_fit` function, find the best fitting weights for a quadric polynomial and print these weights\n"
   ]
  },
  {
   "cell_type": "code",
   "execution_count": 9,
   "metadata": {},
   "outputs": [
    {
     "name": "stdout",
     "output_type": "stream",
     "text": [
      "Example cost: 21805.29114978263\n",
      "The function found for k = 2 is:\n",
      "g(x) = -56.87348684092678x**2 + 52.14107002009267x + 16.024393174835048\n",
      "Resulting in a cost of: 3720.1749534442647\n"
     ]
    }
   ],
   "source": [
    "def poly_cost(W, D, R):\n",
    "    # Insert exception handling\n",
    "    N = len(D)\n",
    "    total = 0\n",
    "    for i in range(N):\n",
    "        total += (R[i] - poly_model(D[i], W)) ** 2\n",
    "\n",
    "    return np.asscalar(total / (2 * N))\n",
    "\n",
    "\n",
    "def poly_fit(D, R):\n",
    "    DT = np.transpose(D)\n",
    "    DTDi = np.linalg.inv(np.dot(DT, D))\n",
    "    total = np.dot(DTDi, DT)\n",
    "    total = np.dot(total, R)\n",
    "    return np.transpose(total)\n",
    "\n",
    "\n",
    "exampleW = np.transpose(np.array([4, 2, 3]))\n",
    "print(\"Example cost:\",\n",
    "      poly_cost(exampleW,\n",
    "                create_D_matrix(pcol0,\n",
    "                                exampleW.size - 1),\n",
    "                pcol1))\n",
    "\n",
    "kSize = 2\n",
    "D0K = create_D_matrix(pcol0, kSize)\n",
    "WForPK = poly_fit(D0K, pcol1)\n",
    "\n",
    "print(\"The function found for k =\", kSize, \"is:\")\n",
    "print(\"g(x) = {}x**2 + {}x + {}\".format(np.asscalar(WForPK[0]),\n",
    "                                        np.asscalar(WForPK[1]),\n",
    "                                        np.asscalar(WForPK[2])))\n",
    "print(\"Resulting in a cost of:\",\n",
    "      poly_cost(WForPK, D0K, pcol1))"
   ]
  },
  {
   "cell_type": "markdown",
   "metadata": {},
   "source": [
    "## Plotting polynomials [1 pt]\n",
    "\n",
    "Now lets try and figure out what our quadratic polynomial actually looks like. As the function is not linear, we will need more than just 2 points to actually plot the line. The easiest solutions is to create a whole bunch of x-values as samples, compute the correspronding y-values and plot those. With enough samples the line will look smooth, even if it is connected with linear segments.\n",
    "\n",
    "To create these x-values sample, we can use the function [linspace](https://docs.scipy.org/doc/numpy-1.10.0/reference/generated/numpy.linspace.html). Then just use the `poly_val` function you wrote earlier and apply it to every x-value to compute the array of y-values. Now just plot the original datapoints as dots and the hypothesis as a line, just as for the linear plot. Don't forget to show your plot at the end.\n",
    "\n",
    "Use these steps to fill in the `poly_plot` function below and show the polynomial function defined by the weights you found for the quadratic polynomial."
   ]
  },
  {
   "cell_type": "code",
   "execution_count": 10,
   "metadata": {},
   "outputs": [
    {
     "data": {
      "image/png": "[encoded data removed]",
      "text/plain": [
       "<matplotlib.figure.Figure at 0x7ff984343b00>"
      ]
     },
     "metadata": {},
     "output_type": "display_data"
    }
   ],
   "source": [
    "def poly_plot(W, X, R, steps=30):\n",
    "    xList = []\n",
    "    yList = []\n",
    "    for i in np.linspace(-5, 5, steps):\n",
    "        xList.append(i)\n",
    "        # Insert exception handling\n",
    "        yList.append(np.asscalar(poly_val(i, W)))\n",
    "    plt.show(plt.plot(xList, yList, linewidth=1.3),\n",
    "             plt.plot(X, R, linewidth=0.7))\n",
    "\n",
    "\n",
    "poly_plot(WForPK, pcol0, pcol1)"
   ]
  },
  {
   "cell_type": "markdown",
   "metadata": {},
   "source": [
    "## Polynomial order [1 pt]\n",
    "\n",
    "Now you can create a polynomial fit on the data for a polynomial of any order. The next question then becomes: *What order polynomial fits the data the best?*\n",
    "\n",
    "Using the `create_D_matrix`, `poly_fit` and `poly_plot`, try to fit different order polynomials to the data. Show the plot for the order polynomial you think fits best.\n",
    "\n",
    "Note that the cost function will most likely decrease with each added polynomial term, as there is more flexibility in the model to fit the data points exactly. However, these weights will fit those few data points very well, but might have very extreme values in between points that would not be good predictors for new inputs. Something like a order 20 polynomial might have a very well fitting shape for the set of points, but looks like it would be strange predictor at some of the possible other points. Try to find a fit that looks visually like it would generalize to new points well.\n"
   ]
  },
  {
   "cell_type": "code",
   "execution_count": 12,
   "metadata": {},
   "outputs": [
    {
     "name": "stdout",
     "output_type": "stream",
     "text": [
      "k = 3 costs 1661.5808813269653 . Looks like:\n"
     ]
    },
    {
     "data": {
      "image/png": "[encoded data removed]",
      "text/plain": [
       "<matplotlib.figure.Figure at 0x7ff9821b4400>"
      ]
     },
     "metadata": {},
     "output_type": "display_data"
    },
    {
     "name": "stdout",
     "output_type": "stream",
     "text": [
      "k = 4 costs 272.7961383781661 . Looks like:\n"
     ]
    },
    {
     "data": {
      "image/png": "[encoded data removed]",
      "text/plain": [
       "<matplotlib.figure.Figure at 0x7ff9821871d0>"
      ]
     },
     "metadata": {},
     "output_type": "display_data"
    },
    {
     "name": "stdout",
     "output_type": "stream",
     "text": [
      "k = 5 costs 260.7883684797869 . Looks like:\n"
     ]
    },
    {
     "data": {
      "image/png": "[encoded data removed]",
      "text/plain": [
       "<matplotlib.figure.Figure at 0x7ff9821a2be0>"
      ]
     },
     "metadata": {},
     "output_type": "display_data"
    },
    {
     "name": "stdout",
     "output_type": "stream",
     "text": [
      "k = 8 costs 248.3638249765186 . Looks like:\n"
     ]
    },
    {
     "data": {
      "image/png": "[encoded data removed]",
      "text/plain": [
       "<matplotlib.figure.Figure at 0x7ff982103550>"
      ]
     },
     "metadata": {},
     "output_type": "display_data"
    },
    {
     "name": "stdout",
     "output_type": "stream",
     "text": [
      "k = 16 costs 78.39099888374196 . Looks like:\n"
     ]
    },
    {
     "data": {
      "image/png": "[encoded data removed]",
      "text/plain": [
       "<matplotlib.figure.Figure at 0x7ff98211c588>"
      ]
     },
     "metadata": {},
     "output_type": "display_data"
    }
   ],
   "source": [
    "kList = [3, 4, 5, 8, 16]\n",
    "\n",
    "# kList = [19, 20] # very weird\n",
    "\n",
    "for kSize in kList:\n",
    "    # Insert exception handling\n",
    "    currentD = create_D_matrix(pcol0, kSize)\n",
    "    currentW = poly_fit(currentD, pcol1)\n",
    "\n",
    "    print(\"k =\", kSize, \"costs\",\n",
    "          poly_cost(currentW, currentD, pcol1),\n",
    "          \". Looks like:\")\n",
    "    poly_plot(currentW, pcol0, pcol1)\n",
    "\n",
    "# k = 4 looks pretty good.\n",
    "# I won't make up a lambda for an augmented error function,\n",
    "# but it's 0.17x as bad as k = 3, and only slightly worse\n",
    "# than,for example, the more complex k = 5 and k = 8 (>1.1x as bad)."
   ]
  },
  {
   "cell_type": "markdown",
   "metadata": {},
   "source": [
    "## Cross validation [1 pt]\n",
    "\n",
    "Another way to answer this question is to use cross validation. With cross validation you split the data into 2 parts and use one part to fit the model (training set) and the other part to see how well the model fits the remaining data (validation set).\n",
    "\n",
    "Write a function below to split the original dataset into 2 sets according to a given ratio. It is important to randomize your division, as simply using the first half of data for the one set and the second half for the other might result in strange distributions. You could use a function like [shuffle](https://docs.scipy.org/doc/numpy/reference/generated/numpy.random.shuffle.html) for this purpose.\n",
    "\n",
    "Split the original dataset using a ratio of 0.6 into a training and a validation set. Then for both of these sets, use your old `split_X_R` function to split them into their $X$ and $R$ parts"
   ]
  },
  {
   "cell_type": "code",
   "execution_count": 13,
   "metadata": {},
   "outputs": [
    {
     "name": "stdout",
     "output_type": "stream",
     "text": [
      "[-1.89655172  1.20689655  3.27586207  1.55172414 -4.31034483 -5.\n",
      "  4.65517241 -2.93103448  2.93103448 -3.62068966 -2.24137931  0.86206897\n",
      "  1.89655172 -0.86206897  3.62068966 -1.55172414  2.5862069  -0.17241379]\n"
     ]
    }
   ],
   "source": [
    "# Insert exception handling\n",
    "def validation_split(data, ratio=0.6):\n",
    "    splitN = int(len(data) * ratio)\n",
    "    np.random.shuffle(data)\n",
    "    return data[:splitN, :], data[splitN:, :]\n",
    "\n",
    "\n",
    "pointsCSVcopy = np.copy(pointsCSV)\n",
    "givenSplit = validation_split(pointsCSVcopy)\n",
    "(givenXT, givenRT) = split_X_R(givenSplit[0])\n",
    "(givenXV, givenRV) = split_X_R(givenSplit[1])\n",
    "# print(givenSplit)\n",
    "print(givenXT)\n",
    "# print(givenRT)\n",
    "# print(givenXV)\n",
    "# print(givenRV)"
   ]
  },
  {
   "cell_type": "markdown",
   "metadata": {},
   "source": [
    "## Model selection [2 pt]\n",
    "\n",
    "With this new split of the data you can just repeatedly fit different order polynomials to the training set and see which produces the lowest cost on the validation set. The set of weights with the lowests cost on the validation set generalizes the best to new data and is thus the best overal fit on the dataset.\n",
    "\n",
    "Write the function `best_poly_fit` below. Try a large range of polynomial orders (like 1 to 50), create the $D$ matrix based on the training set for each order and fit the weights for that polynomial. Then for each of these found weights, also create the D matrix for the validation set and compute the cost using `poly_cost`. Return the set of weights with the lowest cost on the validation set.\n",
    "\n",
    "Run this fitting function with your training and validation sets. Plot the hypothesis function and show the weights that were found. Note that rerunning your validation split code above will result in a different random distribution and thus a slightly different final fit."
   ]
  },
  {
   "cell_type": "code",
   "execution_count": 14,
   "metadata": {},
   "outputs": [
    {
     "name": "stdout",
     "output_type": "stream",
     "text": [
      "k = 10 , cost = 538.6859819867909\n",
      "Weights vector for that:\n",
      "[[  1.66065722e+01]\n",
      " [  1.74626528e+01]\n",
      " [ -2.43333846e+01]\n",
      " [ -8.79321955e+00]\n",
      " [  7.39878085e+00]\n",
      " [  1.95347873e+00]\n",
      " [ -8.12976150e-01]\n",
      " [ -1.06776520e-01]\n",
      " [  4.10138810e-02]\n",
      " [  1.85357829e-03]\n",
      " [ -7.10411013e-04]]\n",
      "So g(x) = 16.606572218418936 * x ** 10 + ... + -0.0007104110127629185\n"
     ]
    },
    {
     "data": {
      "image/png": "[encoded data removed]",
      "text/plain": [
       "<matplotlib.figure.Figure at 0x7ff982078240>"
      ]
     },
     "metadata": {},
     "output_type": "display_data"
    }
   ],
   "source": [
    "# Insert exception handling\n",
    "def best_poly_fit(train_x, train_r, val_x, val_r, maxR=50):\n",
    "    lowestCost = float(\"inf\")\n",
    "    bestK = bestW = -42\n",
    "    for kSize in range(1, maxR):\n",
    "        # Insert exception handling\n",
    "        trainD = create_D_matrix(train_x, kSize)\n",
    "        trainW = poly_fit(trainD, train_r)\n",
    "        valD = create_D_matrix(val_x, kSize)\n",
    "        currentCost = poly_cost(trainW, valD, val_r)\n",
    "\n",
    "        if currentCost < lowestCost:\n",
    "            lowestCost = currentCost\n",
    "            bestK = kSize\n",
    "            bestW = trainW\n",
    "\n",
    "    return lowestCost, bestK, bestW\n",
    "\n",
    "\n",
    "(bestCost, bestK, bestW) = best_poly_fit(givenXT, givenRT,\n",
    "                                         givenXV, givenRV)\n",
    "\n",
    "print(\"k =\", bestK, \", cost =\", bestCost)\n",
    "print(\"Weights vector for that:\")\n",
    "print(bestW)\n",
    "print(\"So g(x) =\", np.asscalar(bestW[0]), \"* x **\", bestK,\n",
    "      \"+ ... +\", np.asscalar(bestW[-1]))\n",
    "\n",
    "poly_plot(bestW, pcol0, pcol1)"
   ]
  },
  {
   "cell_type": "code",
   "execution_count": null,
   "metadata": {},
   "outputs": [],
   "source": []
  }
 ],
 "metadata": {
  "kernelspec": {
   "display_name": "Python 3",
   "language": "python",
   "name": "python3"
  },
  "language_info": {
   "codemirror_mode": {
    "name": "ipython",
    "version": 3
   },
   "file_extension": ".py",
   "mimetype": "text/x-python",
   "name": "python",
   "nbconvert_exporter": "python",
   "pygments_lexer": "ipython3",
   "version": "3.6.3"
  }
 },
 "nbformat": 4,
 "nbformat_minor": 2
}
