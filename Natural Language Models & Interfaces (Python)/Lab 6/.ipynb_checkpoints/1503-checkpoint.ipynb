{
 "cells": [
  {
   "cell_type": "code",
   "execution_count": 1,
   "metadata": {
    "colab": {
     "autoexec": {
      "startup": false,
      "wait_interval": 0
     }
    },
    "colab_type": "code",
    "id": "I33_bCNoQDM_"
   },
   "outputs": [],
   "source": [
    "# Lennart Beekhuis\n",
    "# Bram Otten, 10992456"
   ]
  },
  {
   "cell_type": "markdown",
   "metadata": {
    "colab_type": "text",
    "id": "K1yLMcx4QDND"
   },
   "source": [
    "**Table of contents**\n",
    "\n",
    "* Context-Free Grammars\n",
    "    * [Symbols](#symbols)\n",
    "    * [Rules](#rules)\n",
    "    * [Grammar](#grammar)\n",
    "    * [Generation](#generation)\n",
    "* Recogniser\n",
    "    * [Shift-Reduce](#shiftreduce)\n",
    "    * [CKY](#cky)\n",
    "* PCFGs\n",
    "    * [Definition](#pcfg)\n",
    "    * [MLE](#mle)\n",
    "    \n",
    "    \n",
    "**Table of Exercises**\n",
    "\n",
    "* Theory (10 points)\n",
    "    * [Exercise 6-2](#ex6-2)\n",
    "    * [Exercise 6-4](#ex6-4)\n",
    "    * [Exercise 6-5](#ex6-5)\n",
    "    * [Exercise 6-7](#ex6-7)\n",
    "    * [Exercise 6-8](#ex6-8)\n",
    "* Practice (22 points)    \n",
    "    * [Exercise 6-1](#ex6-1)\n",
    "    * [Exercise 6-3](#ex6-3)\n",
    "    * [Exercise 6-6](#ex6-6)\n",
    "    * [Exercise 6-9](#ex6-9)\n",
    "    * [Exercise 6-10](#ex6-10)\n",
    "    * [Exercise 6-11](#ex6-11)\n",
    "    \n",
    "\n",
    "\n",
    "**General notes**\n",
    "\n",
    "* In this notebook you are expected to use $\\LaTeX$\n",
    "* Use python3.\n",
    "* Use NLTK to read annotated data.\n",
    "* **Document your code**: TAs are more likely to understand the steps if you document them. If you don't, it's also difficult to give you partial points for exercises that are not completely correct."
   ]
  },
  {
   "cell_type": "markdown",
   "metadata": {
    "colab_type": "text",
    "id": "pV2E0SC2QDNE"
   },
   "source": [
    "# <a name=\"symbols\">  Symbols\n",
    "\n",
    "Context-free grammars manipulate **symbols**, namely, **terminals** (or constants) and **nonterminals** (or variables).\n",
    "\n",
    "For us, a **word** is an instance of a *terminal symbol* and **part-of-speech categories** as well as **phrasal categories** are instances of *nonterminals symbols*. \n",
    "\n",
    "We will create classes to represent terminals and nonterminals separetely."
   ]
  },
  {
   "cell_type": "markdown",
   "metadata": {
    "colab_type": "text",
    "id": "tNIW8XCwQDNF"
   },
   "source": [
    "We start with a class for a general *Symbol*, this class does not do much, but it gives terminals and nonterminals a common interface."
   ]
  },
  {
   "cell_type": "code",
   "execution_count": 2,
   "metadata": {
    "colab": {
     "autoexec": {
      "startup": false,
      "wait_interval": 0
     }
    },
    "colab_type": "code",
    "id": "l0v6zAagQDNG"
   },
   "outputs": [],
   "source": [
    "class Symbol:\n",
    "    \"\"\"\n",
    "    A symbol in a grammar, this is an abstract class that does not do \n",
    "    anything other than to establish the minimum interface of terminals \n",
    "    and nonterminals.\n",
    "\n",
    "    A symbol is an object much like a python string, but we don't need \n",
    "    operations such as concatenation and other string operations. \n",
    "    We just need to be able to compare symbols and check their identity. \n",
    "\n",
    "    Some of the methods below must be implemented in classes that \n",
    "    inherit from Symbol. \n",
    "    \"\"\"\n",
    "\n",
    "    def __str__(self):\n",
    "        \"\"\"This method allows us to inspect the identity of the symbol\"\"\"\n",
    "        raise NotImplementedError(\n",
    "            'Children classes must implement this method')\n",
    "\n",
    "    def __hash__(self):\n",
    "        \"\"\"\n",
    "        This returns a hash value, python needs this in order to \n",
    "        use a Symbol in hash-based containers such as sets and dictionaries\n",
    "        \"\"\"\n",
    "        raise NotImplementedError(\n",
    "            'Children classes must implement this method')\n",
    "\n",
    "    def __eq__(self, other):\n",
    "        \"\"\"This returns whether or not two symbols are the same\"\"\"\n",
    "        raise NotImplementedError(\n",
    "            'Children classes must implement this method')\n",
    "\n",
    "    def __lt__(self, other):\n",
    "        \"\"\"\n",
    "        This is necessary so that python can sort symbols lexicographically.\n",
    "\n",
    "        We just delegate this comparison function to python, \n",
    "        since it knows how to compare strings, \n",
    "        we use the result of __str__ applied to each symbol.\n",
    "        \"\"\"\n",
    "        return str(self) < str(other)\n",
    "\n",
    "    def __repr__(self):\n",
    "        \"\"\"We just make __repr__ and __str__ return the same\"\"\"\n",
    "        return str(self)"
   ]
  },
  {
   "cell_type": "markdown",
   "metadata": {
    "colab_type": "text",
    "id": "LFM1Z0vwQDNK"
   },
   "source": [
    "Now we can define a **Terminal** class, symbols of this type are simply words in the language."
   ]
  },
  {
   "cell_type": "code",
   "execution_count": 3,
   "metadata": {
    "colab": {
     "autoexec": {
      "startup": false,
      "wait_interval": 0
     }
    },
    "colab_type": "code",
    "id": "zTFPxPstQDNK"
   },
   "outputs": [],
   "source": [
    "class Terminal(Symbol):\n",
    "    \"\"\"\n",
    "    A type of Symbol that acts like a constant. \n",
    "\n",
    "    A terminal is simply a container for a python string which represents \n",
    "    the actual symbol. For example, a terminal symbol 'cat' simply \n",
    "    contains the python string 'cat' in it.\n",
    "    \"\"\"\n",
    "\n",
    "    def __init__(self, word: str):\n",
    "        \"\"\"\n",
    "        word: a python string representing a word\n",
    "        \"\"\"\n",
    "        self._word = word\n",
    "\n",
    "    @property\n",
    "    def word(self):\n",
    "        return self._word\n",
    "\n",
    "    def __str__(self):\n",
    "        \"\"\"\n",
    "        We print terminals around single quotes, this gives a nice visual clue.\n",
    "\n",
    "        If you need the underlying word (as a python string) and without \n",
    "        the single quotes around it, then you need to use the property \n",
    "        Terminal.word.\n",
    "        \"\"\"\n",
    "        return \"'%s'\" % self._word\n",
    "\n",
    "    def __hash__(self):\n",
    "        \"\"\" This is necessary in order for python to be able to use Terminal \n",
    "            objects in sets and dictionaries\"\"\"\n",
    "        # Python knows how to compute hash values for basic types\n",
    "        # (str, tuple, etc.), so we delegate to python this job.\n",
    "        # This is a good idea since we don't really know how to write\n",
    "        # good hash functions and the team of python developers must\n",
    "        # have put quite some work into it.\n",
    "        return hash(self._word)\n",
    "\n",
    "    def __eq__(self, other: Symbol):\n",
    "        \"\"\" This is necessary if order for python to be able to compare \n",
    "            terminals symbols\"\"\"\n",
    "        # Two symbols are the same if they are both terminals\n",
    "        #  and the words they stand for are also the same\n",
    "        return isinstance(other, Terminal) and other._word == self._word"
   ]
  },
  {
   "cell_type": "markdown",
   "metadata": {
    "colab_type": "text",
    "id": "gOJLLzF4QDNO"
   },
   "source": [
    "We can now define a **Nonterminal** class"
   ]
  },
  {
   "cell_type": "code",
   "execution_count": 4,
   "metadata": {
    "colab": {
     "autoexec": {
      "startup": false,
      "wait_interval": 0
     }
    },
    "colab_type": "code",
    "id": "_wwIsZ8yQDNP"
   },
   "outputs": [],
   "source": [
    "class Nonterminal(Symbol):\n",
    "    \"\"\"\n",
    "    A type of Symbol that acts like a variable. \n",
    "\n",
    "    A nonterminal is simply a container for a python string which represents the actual symbol. \n",
    "    For example, a nonterminal symbol [NP] simply contains the python string 'NP' in it.\n",
    "    \"\"\"\n",
    "\n",
    "    def __init__(self, category: str):\n",
    "        \"\"\"\n",
    "        category: a python string representing a POS or phrasal category\n",
    "        \"\"\"\n",
    "        self._category = category\n",
    "\n",
    "    @property\n",
    "    def category(self):\n",
    "        return self._category\n",
    "\n",
    "    def __str__(self):\n",
    "        \"\"\"\n",
    "        We print nonterminals wrapped around squared brackets to make a visual clue.\n",
    "        If you need the underlying category (as a python string) without the brackets around it, \n",
    "         then you need to use the property Nonterminal.category.\n",
    "        \"\"\"\n",
    "        return \"[%s]\" % self._category\n",
    "\n",
    "    def __hash__(self):\n",
    "        \"\"\"Python can only hash objects that properly implement this method\"\"\"\n",
    "        # Again we delegate to python the job of computing a hash value for our category\n",
    "        return hash(self._category)\n",
    "\n",
    "    def __eq__(self, other: Symbol):\n",
    "        \"\"\"Python needs this in order to compare nonterminal symbols\"\"\"\n",
    "        # Two symbols are the same if they are both nonterminals\n",
    "        #  and their categories are the same\n",
    "        return isinstance(other, Nonterminal) and other._category == self._category"
   ]
  },
  {
   "cell_type": "markdown",
   "metadata": {
    "colab_type": "text",
    "id": "Ih2NiLx2QDNS"
   },
   "source": [
    "Let's now use our classes and see what we got so far. \n",
    "\n",
    "Here is how we use *Terminal* objects"
   ]
  },
  {
   "cell_type": "code",
   "execution_count": 5,
   "metadata": {
    "colab": {
     "autoexec": {
      "startup": false,
      "wait_interval": 0
     },
     "base_uri": "https://localhost:8080/",
     "height": 36,
     "output_extras": [
      {
       "item_id": 1
      }
     ]
    },
    "colab_type": "code",
    "executionInfo": {
     "elapsed": 417,
     "status": "ok",
     "timestamp": 1520949381179,
     "user": {
      "displayName": "Bram Otten",
      "photoUrl": "https://lh3.googleusercontent.com/a/default-user=s128",
      "userId": "110618989541510237728"
     },
     "user_tz": -60
    },
    "id": "LwUvCTUnQDNS",
    "outputId": "aae297a1-1f8c-4b08-f953-56b5a713ee8b"
   },
   "outputs": [
    {
     "data": {
      "text/plain": [
       "'cat'"
      ]
     },
     "execution_count": 5,
     "metadata": {},
     "output_type": "execute_result"
    }
   ],
   "source": [
    "Terminal('cat')"
   ]
  },
  {
   "cell_type": "markdown",
   "metadata": {
    "colab_type": "text",
    "id": "rW-msd6yQDNX"
   },
   "source": [
    "Note that we implemented `__eq__` and therefore we can test equality"
   ]
  },
  {
   "cell_type": "code",
   "execution_count": 6,
   "metadata": {
    "colab": {
     "autoexec": {
      "startup": false,
      "wait_interval": 0
     },
     "base_uri": "https://localhost:8080/",
     "height": 36,
     "output_extras": [
      {
       "item_id": 1
      }
     ]
    },
    "colab_type": "code",
    "executionInfo": {
     "elapsed": 444,
     "status": "ok",
     "timestamp": 1520949382054,
     "user": {
      "displayName": "Bram Otten",
      "photoUrl": "https://lh3.googleusercontent.com/a/default-user=s128",
      "userId": "110618989541510237728"
     },
     "user_tz": -60
    },
    "id": "sRXQtT6LQDNZ",
    "outputId": "65e6e414-aab8-4121-dd9c-e5997e4bb786"
   },
   "outputs": [
    {
     "data": {
      "text/plain": [
       "True"
      ]
     },
     "execution_count": 6,
     "metadata": {},
     "output_type": "execute_result"
    }
   ],
   "source": [
    "Terminal('cat') == Terminal('cat')"
   ]
  },
  {
   "cell_type": "code",
   "execution_count": 7,
   "metadata": {
    "colab": {
     "autoexec": {
      "startup": false,
      "wait_interval": 0
     },
     "base_uri": "https://localhost:8080/",
     "height": 36,
     "output_extras": [
      {
       "item_id": 1
      }
     ]
    },
    "colab_type": "code",
    "executionInfo": {
     "elapsed": 593,
     "status": "ok",
     "timestamp": 1520949382995,
     "user": {
      "displayName": "Bram Otten",
      "photoUrl": "https://lh3.googleusercontent.com/a/default-user=s128",
      "userId": "110618989541510237728"
     },
     "user_tz": -60
    },
    "id": "GeW50a1MQDNc",
    "outputId": "a155e87d-5ba3-46a4-fe1e-35bde961bf15"
   },
   "outputs": [
    {
     "data": {
      "text/plain": [
       "False"
      ]
     },
     "execution_count": 7,
     "metadata": {},
     "output_type": "execute_result"
    }
   ],
   "source": [
    "Terminal('cat') == Terminal('dog')"
   ]
  },
  {
   "cell_type": "markdown",
   "metadata": {
    "colab_type": "text",
    "id": "Efb1GVkaQDNg"
   },
   "source": [
    "we can also test inequality because by default python assumes this to be the result of negating what `__eq__` returns"
   ]
  },
  {
   "cell_type": "code",
   "execution_count": 8,
   "metadata": {
    "colab": {
     "autoexec": {
      "startup": false,
      "wait_interval": 0
     },
     "base_uri": "https://localhost:8080/",
     "height": 36,
     "output_extras": [
      {
       "item_id": 1
      }
     ]
    },
    "colab_type": "code",
    "executionInfo": {
     "elapsed": 499,
     "status": "ok",
     "timestamp": 1520949384088,
     "user": {
      "displayName": "Bram Otten",
      "photoUrl": "https://lh3.googleusercontent.com/a/default-user=s128",
      "userId": "110618989541510237728"
     },
     "user_tz": -60
    },
    "id": "JzNdxPSMQDNh",
    "outputId": "5fa23179-74bd-40b7-ba16-e48b4bd94d73"
   },
   "outputs": [
    {
     "data": {
      "text/plain": [
       "True"
      ]
     },
     "execution_count": 8,
     "metadata": {},
     "output_type": "execute_result"
    }
   ],
   "source": [
    "Terminal('cat') != Terminal('dog')"
   ]
  },
  {
   "cell_type": "markdown",
   "metadata": {
    "colab_type": "text",
    "id": "mBreUzQkQDNj"
   },
   "source": [
    "and we can do all of the above with nonterminals as well"
   ]
  },
  {
   "cell_type": "code",
   "execution_count": 9,
   "metadata": {
    "colab": {
     "autoexec": {
      "startup": false,
      "wait_interval": 0
     },
     "base_uri": "https://localhost:8080/",
     "height": 36,
     "output_extras": [
      {
       "item_id": 1
      }
     ]
    },
    "colab_type": "code",
    "executionInfo": {
     "elapsed": 495,
     "status": "ok",
     "timestamp": 1520949385026,
     "user": {
      "displayName": "Bram Otten",
      "photoUrl": "https://lh3.googleusercontent.com/a/default-user=s128",
      "userId": "110618989541510237728"
     },
     "user_tz": -60
    },
    "id": "yKfqE2aRQDNk",
    "outputId": "71197691-3da0-4b9c-eae7-bd5608e8cdfe"
   },
   "outputs": [
    {
     "data": {
      "text/plain": [
       "[S]"
      ]
     },
     "execution_count": 9,
     "metadata": {},
     "output_type": "execute_result"
    }
   ],
   "source": [
    "Nonterminal('S')"
   ]
  },
  {
   "cell_type": "code",
   "execution_count": 10,
   "metadata": {
    "colab": {
     "autoexec": {
      "startup": false,
      "wait_interval": 0
     },
     "base_uri": "https://localhost:8080/",
     "height": 36,
     "output_extras": [
      {
       "item_id": 1
      }
     ]
    },
    "colab_type": "code",
    "executionInfo": {
     "elapsed": 413,
     "status": "ok",
     "timestamp": 1520949386123,
     "user": {
      "displayName": "Bram Otten",
      "photoUrl": "https://lh3.googleusercontent.com/a/default-user=s128",
      "userId": "110618989541510237728"
     },
     "user_tz": -60
    },
    "id": "MogACTulQDNp",
    "outputId": "46c50b9a-242e-430f-f651-4383e9917b03"
   },
   "outputs": [
    {
     "data": {
      "text/plain": [
       "True"
      ]
     },
     "execution_count": 10,
     "metadata": {},
     "output_type": "execute_result"
    }
   ],
   "source": [
    "Nonterminal('S') == Nonterminal('S')"
   ]
  },
  {
   "cell_type": "code",
   "execution_count": 11,
   "metadata": {
    "colab": {
     "autoexec": {
      "startup": false,
      "wait_interval": 0
     },
     "base_uri": "https://localhost:8080/",
     "height": 36,
     "output_extras": [
      {
       "item_id": 1
      }
     ]
    },
    "colab_type": "code",
    "executionInfo": {
     "elapsed": 475,
     "status": "ok",
     "timestamp": 1520949387482,
     "user": {
      "displayName": "Bram Otten",
      "photoUrl": "https://lh3.googleusercontent.com/a/default-user=s128",
      "userId": "110618989541510237728"
     },
     "user_tz": -60
    },
    "id": "aetZAZupQDNr",
    "outputId": "a1ee79e4-60e6-4cff-a627-5b010e99b128"
   },
   "outputs": [
    {
     "data": {
      "text/plain": [
       "False"
      ]
     },
     "execution_count": 11,
     "metadata": {},
     "output_type": "execute_result"
    }
   ],
   "source": [
    "Nonterminal('S') == Nonterminal('VP')"
   ]
  },
  {
   "cell_type": "code",
   "execution_count": 12,
   "metadata": {
    "colab": {
     "autoexec": {
      "startup": false,
      "wait_interval": 0
     },
     "base_uri": "https://localhost:8080/",
     "height": 36,
     "output_extras": [
      {
       "item_id": 1
      }
     ]
    },
    "colab_type": "code",
    "executionInfo": {
     "elapsed": 442,
     "status": "ok",
     "timestamp": 1520949388446,
     "user": {
      "displayName": "Bram Otten",
      "photoUrl": "https://lh3.googleusercontent.com/a/default-user=s128",
      "userId": "110618989541510237728"
     },
     "user_tz": -60
    },
    "id": "ZWLkoCS-QDNt",
    "outputId": "e74f4b9b-c743-42ec-cf36-8b8cc5cea2a6"
   },
   "outputs": [
    {
     "data": {
      "text/plain": [
       "True"
      ]
     },
     "execution_count": 12,
     "metadata": {},
     "output_type": "execute_result"
    }
   ],
   "source": [
    "Nonterminal('S') != Nonterminal('VP')"
   ]
  },
  {
   "cell_type": "markdown",
   "metadata": {
    "colab_type": "text",
    "id": "E6-fcS5DQDNw"
   },
   "source": [
    "Because we've implemented `__eq__` and `__hash__` our symbols are *hashable* objects. This means that python will do the correct thing whenener we try to use these symbols in hash-based data structures such as sets and dictionaries.\n",
    "\n",
    "Let's play a bit with sets:"
   ]
  },
  {
   "cell_type": "code",
   "execution_count": 13,
   "metadata": {
    "colab": {
     "autoexec": {
      "startup": false,
      "wait_interval": 0
     },
     "base_uri": "https://localhost:8080/",
     "height": 36,
     "output_extras": [
      {
       "item_id": 1
      }
     ]
    },
    "colab_type": "code",
    "executionInfo": {
     "elapsed": 420,
     "status": "ok",
     "timestamp": 1520949389852,
     "user": {
      "displayName": "Bram Otten",
      "photoUrl": "https://lh3.googleusercontent.com/a/default-user=s128",
      "userId": "110618989541510237728"
     },
     "user_tz": -60
    },
    "id": "bCqtEgeeQDNx",
    "outputId": "b7c3fedd-9fe5-40c7-f6e4-1109b9315fda"
   },
   "outputs": [
    {
     "data": {
      "text/plain": [
       "{'cat', 'dog'}"
      ]
     },
     "execution_count": 13,
     "metadata": {},
     "output_type": "execute_result"
    }
   ],
   "source": [
    "{Terminal('cat'), Terminal('cat'), Terminal('dog')}"
   ]
  },
  {
   "cell_type": "code",
   "execution_count": 14,
   "metadata": {
    "colab": {
     "autoexec": {
      "startup": false,
      "wait_interval": 0
     },
     "base_uri": "https://localhost:8080/",
     "height": 36,
     "output_extras": [
      {
       "item_id": 1
      }
     ]
    },
    "colab_type": "code",
    "executionInfo": {
     "elapsed": 420,
     "status": "ok",
     "timestamp": 1520949390653,
     "user": {
      "displayName": "Bram Otten",
      "photoUrl": "https://lh3.googleusercontent.com/a/default-user=s128",
      "userId": "110618989541510237728"
     },
     "user_tz": -60
    },
    "id": "hTE1nYdrQDN2",
    "outputId": "5f050f90-5a1b-41fa-fe5e-949dfefb6f68"
   },
   "outputs": [
    {
     "data": {
      "text/plain": [
       "{[NP], [S], [VP]}"
      ]
     },
     "execution_count": 14,
     "metadata": {},
     "output_type": "execute_result"
    }
   ],
   "source": [
    "{Nonterminal('S'), Nonterminal('NP'), Nonterminal('VP'),  Nonterminal('VP')}"
   ]
  },
  {
   "cell_type": "code",
   "execution_count": 15,
   "metadata": {
    "colab": {
     "autoexec": {
      "startup": false,
      "wait_interval": 0
     },
     "base_uri": "https://localhost:8080/",
     "height": 36,
     "output_extras": [
      {
       "item_id": 1
      }
     ]
    },
    "colab_type": "code",
    "executionInfo": {
     "elapsed": 502,
     "status": "ok",
     "timestamp": 1520949391512,
     "user": {
      "displayName": "Bram Otten",
      "photoUrl": "https://lh3.googleusercontent.com/a/default-user=s128",
      "userId": "110618989541510237728"
     },
     "user_tz": -60
    },
    "id": "UOSVESoiQDN3",
    "outputId": "55db8138-e7b6-42a0-d681-c3f1a4edd59c"
   },
   "outputs": [
    {
     "data": {
      "text/plain": [
       "{'bird': 2, 'cat': 1, 'dog': 3}"
      ]
     },
     "execution_count": 15,
     "metadata": {},
     "output_type": "execute_result"
    }
   ],
   "source": [
    "# Here we make a small vocabulary of terminals\n",
    "mini_t_vocab = {Terminal('cat'), Terminal('bird'), Terminal('dog')}\n",
    "# and map terminals to an enumeration of the set\n",
    "{x: i for i, x in enumerate(mini_t_vocab, 1)}"
   ]
  },
  {
   "cell_type": "markdown",
   "metadata": {
    "colab_type": "text",
    "id": "OCHButj2QDN6"
   },
   "source": [
    "And let's also play a bit with dictionaries"
   ]
  },
  {
   "cell_type": "code",
   "execution_count": 16,
   "metadata": {
    "colab": {
     "autoexec": {
      "startup": false,
      "wait_interval": 0
     },
     "base_uri": "https://localhost:8080/",
     "height": 36,
     "output_extras": [
      {
       "item_id": 1
      }
     ]
    },
    "colab_type": "code",
    "executionInfo": {
     "elapsed": 426,
     "status": "ok",
     "timestamp": 1520949392399,
     "user": {
      "displayName": "Bram Otten",
      "photoUrl": "https://lh3.googleusercontent.com/a/default-user=s128",
      "userId": "110618989541510237728"
     },
     "user_tz": -60
    },
    "id": "Mvd5SrloQDN6",
    "outputId": "d3a42e58-bce5-44ef-dc3c-43813c94c159"
   },
   "outputs": [
    {
     "data": {
      "text/plain": [
       "{[NP]: 2, [S]: 1, [VP]: 3}"
      ]
     },
     "execution_count": 16,
     "metadata": {},
     "output_type": "execute_result"
    }
   ],
   "source": [
    "# Here we make a small vocabulary of nonterminals\n",
    "mini_nt_vocab = {Nonterminal('S'), Nonterminal('NP'), Nonterminal('VP')}\n",
    "# and map nonterminals to an enumeration of the set\n",
    "{x: i for i, x in enumerate(mini_nt_vocab, 1)}"
   ]
  },
  {
   "cell_type": "markdown",
   "metadata": {
    "colab_type": "text",
    "id": "Yde0lvdzQDN9"
   },
   "source": [
    "Obviously our objects can also be added to python lists, but for that we need no special treatment"
   ]
  },
  {
   "cell_type": "code",
   "execution_count": 17,
   "metadata": {
    "colab": {
     "autoexec": {
      "startup": false,
      "wait_interval": 0
     },
     "base_uri": "https://localhost:8080/",
     "height": 36,
     "output_extras": [
      {
       "item_id": 1
      }
     ]
    },
    "colab_type": "code",
    "executionInfo": {
     "elapsed": 484,
     "status": "ok",
     "timestamp": 1520949393157,
     "user": {
      "displayName": "Bram Otten",
      "photoUrl": "https://lh3.googleusercontent.com/a/default-user=s128",
      "userId": "110618989541510237728"
     },
     "user_tz": -60
    },
    "id": "3HSEKiqGQDN9",
    "outputId": "7448f2a7-b5d5-45cc-b061-4947780909b1"
   },
   "outputs": [
    {
     "data": {
      "text/plain": [
       "[[NP], 'and', [NP]]"
      ]
     },
     "execution_count": 17,
     "metadata": {},
     "output_type": "execute_result"
    }
   ],
   "source": [
    "[Nonterminal('NP'), Terminal('and'), Nonterminal('NP')]"
   ]
  },
  {
   "cell_type": "markdown",
   "metadata": {
    "colab_type": "text",
    "id": "d5jQ09B0QDN_"
   },
   "source": [
    "# <a name=\"rules\"> Rules\n",
    "\n",
    "We are now ready to define context-free **rules** or context-free *productions*.\n",
    "\n",
    "A context-free rule is an object of the kind $\\text{X} \\rightarrow \\beta $ where\n",
    "* $\\text{X}$ is a nonterminal symbol\n",
    "* and $\\beta$ is a sequence of terminals and nonterminals\n",
    "\n",
    "In python we can easily represent a rule as a container for a left-hand side (LHS) nonterminal and a right-hand side (RHS) sequence. Check the class below (in particular its documentation).\n",
    "\n",
    "\n"
   ]
  },
  {
   "cell_type": "markdown",
   "metadata": {
    "colab_type": "text",
    "id": "Y6uTygSyQDOA"
   },
   "source": [
    "<a name=\"ex6-1\" style=\"color:red\">**Exercise 6-1**</a> **[1 point]** Implement checks to validate that a rule is well-formed at construction time. In other words, read the documentation of the class `Rule` below and complete its constructor `__init__`.\n",
    "\n"
   ]
  },
  {
   "cell_type": "code",
   "execution_count": 18,
   "metadata": {
    "colab": {
     "autoexec": {
      "startup": false,
      "wait_interval": 0
     }
    },
    "colab_type": "code",
    "id": "yLnQzDnkQDOB"
   },
   "outputs": [],
   "source": [
    "from collections import defaultdict\n",
    "\n",
    "\n",
    "class Rule:\n",
    "    \"\"\"\n",
    "    A Rule is just a container, in particular, a pair. \n",
    "\n",
    "    It stores a LHS nonterminal and a RHS sequence of symbols.\n",
    "\n",
    "    In general, RHS could be empty, but we will not implement such grammars.\n",
    "    We will restrict the RHS to containing at least one symbol.    \n",
    "\n",
    "    \"\"\"\n",
    "\n",
    "    def __init__(self, lhs: Nonterminal, rhs: list):\n",
    "        \"\"\"\n",
    "        Constructs a Rule: LHS -> RHS.\n",
    "\n",
    "        We must validate that rules are well formed, that is, the LHS symbol is \n",
    "        indeed a Nonterminal, the RHS is *not* empty and only contains Symbol \n",
    "        (i.e. Terminal or Nonterminal) objects.\n",
    "\n",
    "        lhs: the LHS nonterminal\n",
    "        rhs: a sequence of RHS symbols\n",
    "        \"\"\"\n",
    "        if (not isinstance(lhs, Nonterminal)):\n",
    "            raise ValueError('lhs is not a nonterminal')\n",
    "        if len(rhs) < 1:\n",
    "            raise ValueError('rhs is empty')\n",
    "        for x in rhs:\n",
    "            if (not isinstance(x, Symbol)):\n",
    "                raise ValueError('rhs contains a non-symbol')\n",
    "\n",
    "        self._lhs = lhs\n",
    "        self._rhs = tuple(rhs)\n",
    "\n",
    "    def __eq__(self, other: 'Rule'):\n",
    "        \"\"\"Two rules are the same if they have the same LHS and the same RHS\"\"\"\n",
    "        return self._lhs == other._lhs and self._rhs == other._rhs\n",
    "\n",
    "    def __hash__(self):\n",
    "        \"\"\"The hash value of the Rule is the hash value of the pair (LHS, RHS)\"\"\"\n",
    "        # Once more we delegate the computation of the hash value to python\n",
    "        return hash((self._lhs, self._rhs))\n",
    "\n",
    "    def __str__(self):\n",
    "        \"\"\"We print rules using the notation LHS -> RHS\"\"\"\n",
    "        return '%s -> %s' % (self._lhs, ' '.join(str(sym) for sym in self._rhs))\n",
    "\n",
    "    def __repr__(self):\n",
    "        return str(self)\n",
    "\n",
    "    @property\n",
    "    def lhs(self):\n",
    "        \"\"\"Returns the LHS nonterminal\"\"\"\n",
    "        return self._lhs\n",
    "\n",
    "    @property\n",
    "    def rhs(self):\n",
    "        \"\"\"Returns the RHS sequence\"\"\"\n",
    "        return self._rhs\n",
    "\n",
    "    @property\n",
    "    def arity(self):\n",
    "        \"\"\"Returns the arity (length of the RHS sequence)\"\"\"\n",
    "        return len(self._rhs)"
   ]
  },
  {
   "cell_type": "markdown",
   "metadata": {
    "colab_type": "text",
    "id": "_4blJM29QDOC"
   },
   "source": [
    "To use *Rule* objects, let's first create a few symbols"
   ]
  },
  {
   "cell_type": "code",
   "execution_count": 19,
   "metadata": {
    "colab": {
     "autoexec": {
      "startup": false,
      "wait_interval": 0
     }
    },
    "colab_type": "code",
    "id": "wPxvg8TcQDOE"
   },
   "outputs": [],
   "source": [
    "S = Nonterminal('S')\n",
    "NP = Nonterminal('NP')\n",
    "VP = Nonterminal('VP')\n",
    "cats = Terminal('cats')\n",
    "run = Terminal('run')"
   ]
  },
  {
   "cell_type": "markdown",
   "metadata": {
    "colab_type": "text",
    "id": "aa7gobJFQDOH"
   },
   "source": [
    "which we can then combine into rules"
   ]
  },
  {
   "cell_type": "code",
   "execution_count": 20,
   "metadata": {
    "colab": {
     "autoexec": {
      "startup": false,
      "wait_interval": 0
     },
     "base_uri": "https://localhost:8080/",
     "height": 36,
     "output_extras": [
      {
       "item_id": 1
      }
     ]
    },
    "colab_type": "code",
    "executionInfo": {
     "elapsed": 442,
     "status": "ok",
     "timestamp": 1520949396478,
     "user": {
      "displayName": "Bram Otten",
      "photoUrl": "https://lh3.googleusercontent.com/a/default-user=s128",
      "userId": "110618989541510237728"
     },
     "user_tz": -60
    },
    "id": "fHwh8_FlQDOJ",
    "outputId": "1874d12d-aa8d-4782-c0f4-9208ef202c84"
   },
   "outputs": [
    {
     "data": {
      "text/plain": [
       "[S] -> [NP] [NP]"
      ]
     },
     "execution_count": 20,
     "metadata": {},
     "output_type": "execute_result"
    }
   ],
   "source": [
    "Rule(S, [NP, NP])"
   ]
  },
  {
   "cell_type": "code",
   "execution_count": 21,
   "metadata": {
    "colab": {
     "autoexec": {
      "startup": false,
      "wait_interval": 0
     },
     "base_uri": "https://localhost:8080/",
     "height": 36,
     "output_extras": [
      {
       "item_id": 1
      }
     ]
    },
    "colab_type": "code",
    "executionInfo": {
     "elapsed": 847,
     "status": "ok",
     "timestamp": 1520949397960,
     "user": {
      "displayName": "Bram Otten",
      "photoUrl": "https://lh3.googleusercontent.com/a/default-user=s128",
      "userId": "110618989541510237728"
     },
     "user_tz": -60
    },
    "id": "aP4u5xqYQDOL",
    "outputId": "a65c4fbc-06c3-4a61-b11a-62fd03ce6653"
   },
   "outputs": [
    {
     "data": {
      "text/plain": [
       "[NP] -> 'cats'"
      ]
     },
     "execution_count": 21,
     "metadata": {},
     "output_type": "execute_result"
    }
   ],
   "source": [
    "Rule(NP, [cats])"
   ]
  },
  {
   "cell_type": "code",
   "execution_count": 22,
   "metadata": {
    "colab": {
     "autoexec": {
      "startup": false,
      "wait_interval": 0
     },
     "base_uri": "https://localhost:8080/",
     "height": 36,
     "output_extras": [
      {
       "item_id": 1
      }
     ]
    },
    "colab_type": "code",
    "executionInfo": {
     "elapsed": 432,
     "status": "ok",
     "timestamp": 1520949399101,
     "user": {
      "displayName": "Bram Otten",
      "photoUrl": "https://lh3.googleusercontent.com/a/default-user=s128",
      "userId": "110618989541510237728"
     },
     "user_tz": -60
    },
    "id": "glveRgn3QDOO",
    "outputId": "79edf4b0-dc98-4c53-c514-d3f88454f0d4"
   },
   "outputs": [
    {
     "data": {
      "text/plain": [
       "[VP] -> 'run'"
      ]
     },
     "execution_count": 22,
     "metadata": {},
     "output_type": "execute_result"
    }
   ],
   "source": [
    "Rule(VP, [run])"
   ]
  },
  {
   "cell_type": "code",
   "execution_count": 23,
   "metadata": {
    "colab": {
     "autoexec": {
      "startup": false,
      "wait_interval": 0
     },
     "base_uri": "https://localhost:8080/",
     "height": 36,
     "output_extras": [
      {
       "item_id": 1
      }
     ]
    },
    "colab_type": "code",
    "executionInfo": {
     "elapsed": 413,
     "status": "ok",
     "timestamp": 1520949399920,
     "user": {
      "displayName": "Bram Otten",
      "photoUrl": "https://lh3.googleusercontent.com/a/default-user=s128",
      "userId": "110618989541510237728"
     },
     "user_tz": -60
    },
    "id": "g5n-BddPQDOP",
    "outputId": "39a5295d-b547-432d-de59-ed0c5c8f87e5"
   },
   "outputs": [
    {
     "data": {
      "text/plain": [
       "[S] -> [NP] [VP] 'and' [VP]"
      ]
     },
     "execution_count": 23,
     "metadata": {},
     "output_type": "execute_result"
    }
   ],
   "source": [
    "Rule(S, [NP, VP, Terminal('and'), VP])"
   ]
  },
  {
   "cell_type": "code",
   "execution_count": 24,
   "metadata": {
    "colab": {
     "autoexec": {
      "startup": false,
      "wait_interval": 0
     },
     "base_uri": "https://localhost:8080/",
     "height": 93,
     "output_extras": [
      {
       "item_id": 1
      }
     ]
    },
    "colab_type": "code",
    "executionInfo": {
     "elapsed": 508,
     "status": "ok",
     "timestamp": 1520949401233,
     "user": {
      "displayName": "Bram Otten",
      "photoUrl": "https://lh3.googleusercontent.com/a/default-user=s128",
      "userId": "110618989541510237728"
     },
     "user_tz": -60
    },
    "id": "nVxrqFbbQDOS",
    "outputId": "385eac31-5703-4597-9340-70ada491e84a"
   },
   "outputs": [
    {
     "name": "stdout",
     "output_type": "stream",
     "text": [
      "Rule [S] -> [NP] [NP] '.'\n",
      "LHS [S]\n",
      "RHS ([NP], [NP], '.')\n",
      "Arity 3\n"
     ]
    }
   ],
   "source": [
    "r = Rule(S, [NP, NP, Terminal('.')])\n",
    "print('Rule', r)\n",
    "print('LHS', r.lhs)\n",
    "print('RHS', r.rhs)\n",
    "print('Arity', r.arity)"
   ]
  },
  {
   "cell_type": "markdown",
   "metadata": {
    "colab_type": "text",
    "id": "ZCbTGsdwQDOX"
   },
   "source": [
    "We can now create a context-free grammar"
   ]
  },
  {
   "cell_type": "markdown",
   "metadata": {
    "colab_type": "text",
    "id": "KJ-pAxiXQDOY"
   },
   "source": [
    "# <a name=\"grammar\"> Grammar\n",
    "\n",
    "A context free grammar is again just a container, this time for context-free rules. \n",
    "\n",
    "A grammar is formally specified by:\n",
    "\n",
    "\\begin{equation}\n",
    "\\mathfrak G = \\langle \\Sigma, \\mathcal V, \\text{S}, \\mathcal R \\rangle \n",
    "\\end{equation}\n",
    "\n",
    "* a *finite set* of **terminals** which we denote $\\Sigma$\n",
    "* a *finite set* of **nonterminals** which we denote $\\mathcal V$\n",
    "* a distinguished nonterminal $\\text{S}$ called the *start symbol*\n",
    "* a *finite set* of context-free **rules** which we denote $\\mathcal R$\n",
    "    * each rule is of the form $v \\rightarrow \\beta$ for some $v \\in \\mathcal V$ and $\\beta \\in (\\Sigma \\cup \\mathcal V)^a$\n",
    "    * and $a$ is the **arity** of the grammar, that is, the size of the longest RHS sequence in a rule of the grammar\n",
    "    \n"
   ]
  },
  {
   "cell_type": "markdown",
   "metadata": {
    "colab_type": "text",
    "id": "EcExXnt_QDOY"
   },
   "source": [
    "<a name=\"ex6-2\" style=\"color:red\">**Exercise 6-2**</a> **[1 points]** If we have $|\\Sigma|$ terminals, $|\\mathcal V|$ nonterminals, and $a$ is the arity of the grammar, how many rules can there be asymptotically (use big-o-notation)? Explain the result rather than simply stating the solution.\n",
    "\n",
    "$O(|\\mathcal{V}| \\times (|\\mathcal{V} \\cup \\Sigma|)^a)$.\n",
    "\n",
    "There can be rules for all non-terminals (in V) mapping to either any of all non-terminals and/or any of all terminals (in E) arity times."
   ]
  },
  {
   "cell_type": "markdown",
   "metadata": {
    "colab_type": "text",
    "id": "WcUCizk9QDOZ"
   },
   "source": [
    "In python, we will implement a grammar as a container that behaves like a mixture of list, set, and dict. For example, it behaves like a list because we are able to iterate through the rules, it behaves like a set because we can check whether a rule belongs to the grammar, and it also behaves like a dictionary mapping a LHS Nonterminal to rules that have that nonterminal as their LHS symbol."
   ]
  },
  {
   "cell_type": "code",
   "execution_count": 25,
   "metadata": {
    "colab": {
     "autoexec": {
      "startup": false,
      "wait_interval": 0
     }
    },
    "colab_type": "code",
    "id": "D-GZQGpgQDOZ"
   },
   "outputs": [],
   "source": [
    "from collections import defaultdict\n",
    "\n",
    "\n",
    "class CFG:\n",
    "    \"\"\"\n",
    "    A CFG is a container for rules.\n",
    "\n",
    "    Internally we maintain a few sets:\n",
    "    * _terminals: the set of terminal symbols\n",
    "    * _nonterminal: the set of all nonterminal symbols     \n",
    "    * _preterminals: a subset of nonterminal symbols that correspond to POS categories\n",
    "\n",
    "    We also maintain a set of rules: _rules\n",
    "\n",
    "    We also maintain a dictionary whose keys are Nonterminal LHS symbols, and whose values are lists of rules.\n",
    "    Thus, if X is a symbol, _rules_by_lhs[X] should return the list of rules that share that symbol as their\n",
    "        LHS nonterminal.\n",
    "\n",
    "    \"\"\"\n",
    "\n",
    "    def __init__(self, start_symbol: Nonterminal):\n",
    "        if not isinstance(start_symbol, Nonterminal):\n",
    "            raise ValueError('The start symbol must be a nonterminal')\n",
    "        self._start = start_symbol\n",
    "        # this should contain all rules of the grammar\n",
    "        self._rules = set()\n",
    "        # this should map a LHS symbol to a list of context-free rules rewriting that symbol\n",
    "        self._rules_by_lhs = defaultdict(list)\n",
    "        # this should contain all terminals\n",
    "        self._terminals = set()\n",
    "        # this should contain all nonterminals (including start symbol and preterminals)\n",
    "        self._nonterminals = set()\n",
    "        # this should contain only pre-terminals (that is, POS categories)\n",
    "        self._preterminals = set()\n",
    "        # length of the longest RHS\n",
    "        self._arity = 0\n",
    "\n",
    "    def add(self, rule: Rule):\n",
    "        \"\"\"\n",
    "        Add a rule to the ruleset, unless the rule is already known.\n",
    "        This method also updates the sets of symbols with the symbols in this rule.\n",
    "        \"\"\"\n",
    "        if rule in self._rules:  # we do not add repeated rules\n",
    "            return\n",
    "        # add rule to ruleset\n",
    "        self._rules.add(rule)\n",
    "        # also maps it for convenience\n",
    "        self._rules_by_lhs[rule.lhs].append(rule)\n",
    "        # the rule's LHS is now part of the nonterminal set\n",
    "        self._nonterminals.add(rule.lhs)\n",
    "        # and we should also add all other symbols in the rule\n",
    "        for sym in rule.rhs:\n",
    "            if isinstance(sym, Terminal):  # terminals\n",
    "                self._terminals.add(sym)\n",
    "            else:  # nonterminals\n",
    "                self._nonterminals.add(sym)\n",
    "        # a preterminal rule has arity 1 and rewrites to a terminal\n",
    "        if rule.arity == 1 and isinstance(rule.rhs[0], Terminal):\n",
    "            self._preterminals.add(rule.lhs)\n",
    "        # here we update the arity of the grammar\n",
    "        if rule.arity > self._arity:\n",
    "            self._arity = rule.arity\n",
    "\n",
    "    def update(self, rules):\n",
    "        \"\"\"Adds a collection of rules to the grammar\"\"\"\n",
    "        for rule in rules:\n",
    "            self.add(rule)\n",
    "\n",
    "    @property\n",
    "    def start(self):\n",
    "        return self._start\n",
    "\n",
    "    @property\n",
    "    def nonterminals(self):\n",
    "        return self._nonterminals\n",
    "\n",
    "    @property\n",
    "    def preterminals(self):\n",
    "        return self._preterminals\n",
    "\n",
    "    @property\n",
    "    def terminals(self):\n",
    "        return self._terminals\n",
    "\n",
    "    @property\n",
    "    def arity(self):\n",
    "        \"\"\"Returns the arity of the longest rule\"\"\"\n",
    "        return self._arity\n",
    "\n",
    "    def __len__(self):\n",
    "        \"\"\"The size of the grammar in number of rules\"\"\"\n",
    "        return len(self._rules)\n",
    "\n",
    "    def __getitem__(self, lhs: Nonterminal):\n",
    "        \"\"\"Returns rules for a certain LHS symbol\"\"\"\n",
    "        return self._rules_by_lhs.get(lhs, frozenset())\n",
    "\n",
    "    def get(self, lhs: Nonterminal, default=frozenset()):\n",
    "        \"\"\"Return rules whose LHS is the given symbol\"\"\"\n",
    "        return self._rules_by_lhs.get(lhs, frozenset())\n",
    "\n",
    "    def can_rewrite(self, lhs: Nonterminal):\n",
    "        \"\"\"\n",
    "        Whether a given nonterminal can be rewritten. In other words, do we know a rule whose LHS is this\n",
    "         symbol?\n",
    "        \"\"\"\n",
    "        return lhs in self._rules_by_lhs\n",
    "\n",
    "    def __iter__(self):\n",
    "        \"\"\"Iterator over rules (in arbitrary order)\"\"\"\n",
    "        return iter(self._rules)\n",
    "\n",
    "    def items(self):\n",
    "        \"\"\"Iterator over pairs of the kind (LHS, rules rewriting LHS)\"\"\"\n",
    "        return self._rules_by_lhs.items()\n",
    "\n",
    "    def __str__(self):\n",
    "        \"\"\"Converts all rules to string\"\"\"\n",
    "        lines = []\n",
    "        # First rules for the start symbol\n",
    "        for rule in self[self._start]:\n",
    "            lines.append(str(rule))\n",
    "        # Then other rules (except pre-terminal ones)\n",
    "        for lhs, rules in sorted(self.items(), key=lambda pair: pair[0]):\n",
    "            if lhs == self._start or lhs in self._preterminals:\n",
    "                continue\n",
    "            for rule in rules:\n",
    "                lines.append(str(rule))\n",
    "        # And finally the pre-terminal rules\n",
    "        for pos in sorted(self._preterminals):\n",
    "            for rule in self[pos]:\n",
    "                lines.append(str(rule))\n",
    "        # Now we concatenate them all\n",
    "        return '\\n'.join(lines)\n",
    "\n",
    "    def __repr__(self):\n",
    "        return 'CFG: start=%s n_terminals=%d n_nonterminals=%d n_rules=%d' % (\n",
    "            self._start, len(self._terminals), len(\n",
    "                self._nonterminals), len(self._rules)\n",
    "        )"
   ]
  },
  {
   "cell_type": "code",
   "execution_count": 26,
   "metadata": {
    "colab": {
     "autoexec": {
      "startup": false,
      "wait_interval": 0
     }
    },
    "colab_type": "code",
    "id": "hucYm_h9QDOb"
   },
   "outputs": [],
   "source": [
    "def get_toy_grammar(np_cc_np=True, vp_cc_vp=True):\n",
    "    # Some symbols\n",
    "    S = Nonterminal('S')\n",
    "    NP = Nonterminal('NP')\n",
    "    N = Nonterminal('N')\n",
    "    VP = Nonterminal('VP')\n",
    "    V = Nonterminal('V')\n",
    "    # Grammar\n",
    "    G = CFG(S)\n",
    "    # Phrasal rules\n",
    "    G.add(Rule(S, [NP, VP]))\n",
    "    G.add(Rule(NP, [N]))\n",
    "    G.add(Rule(VP, [V]))\n",
    "    # Preterminal rules\n",
    "    G.add(Rule(N, [Terminal('cats')]))\n",
    "    G.add(Rule(N, [Terminal('dogs')]))\n",
    "    G.add(Rule(N, [Terminal('birds')]))\n",
    "    G.add(Rule(V, [Terminal('run')]))\n",
    "    G.add(Rule(V, [Terminal('bark')]))\n",
    "    G.add(Rule(V, [Terminal('meow')]))\n",
    "    G.add(Rule(V, [Terminal('chirp')]))\n",
    "    # Making the grammar more complex\n",
    "    if np_cc_np or vp_cc_vp:\n",
    "        CC = Nonterminal('CC')\n",
    "        G.add(Rule(CC, [Terminal('and')]))\n",
    "        if np_cc_np:\n",
    "            G.add(Rule(NP, [NP, CC, NP]))\n",
    "        if vp_cc_vp:\n",
    "            G.add(Rule(VP, [VP, CC, VP]))\n",
    "    return G"
   ]
  },
  {
   "cell_type": "code",
   "execution_count": 27,
   "metadata": {
    "colab": {
     "autoexec": {
      "startup": false,
      "wait_interval": 0
     },
     "base_uri": "https://localhost:8080/",
     "height": 265,
     "output_extras": [
      {
       "item_id": 1
      }
     ]
    },
    "colab_type": "code",
    "executionInfo": {
     "elapsed": 439,
     "status": "ok",
     "timestamp": 1520949404582,
     "user": {
      "displayName": "Bram Otten",
      "photoUrl": "https://lh3.googleusercontent.com/a/default-user=s128",
      "userId": "110618989541510237728"
     },
     "user_tz": -60
    },
    "id": "APT_AwZmQDOd",
    "outputId": "7740528a-fab7-4563-96f6-4cdee0c5e835"
   },
   "outputs": [
    {
     "name": "stdout",
     "output_type": "stream",
     "text": [
      "[S] -> [NP] [VP]\n",
      "[NP] -> [N]\n",
      "[NP] -> [NP] [CC] [NP]\n",
      "[VP] -> [V]\n",
      "[VP] -> [VP] [CC] [VP]\n",
      "[CC] -> 'and'\n",
      "[N] -> 'cats'\n",
      "[N] -> 'dogs'\n",
      "[N] -> 'birds'\n",
      "[V] -> 'run'\n",
      "[V] -> 'bark'\n",
      "[V] -> 'meow'\n",
      "[V] -> 'chirp'\n"
     ]
    }
   ],
   "source": [
    "G = get_toy_grammar()\n",
    "print(G)"
   ]
  },
  {
   "cell_type": "markdown",
   "metadata": {
    "colab_type": "text",
    "id": "JZGwGDQBQDOe"
   },
   "source": [
    "Let's get a sense of how to use the CFG object."
   ]
  },
  {
   "cell_type": "code",
   "execution_count": 28,
   "metadata": {
    "colab": {
     "autoexec": {
      "startup": false,
      "wait_interval": 0
     },
     "base_uri": "https://localhost:8080/",
     "height": 74,
     "output_extras": [
      {
       "item_id": 1
      }
     ]
    },
    "colab_type": "code",
    "executionInfo": {
     "elapsed": 445,
     "status": "ok",
     "timestamp": 1520949405802,
     "user": {
      "displayName": "Bram Otten",
      "photoUrl": "https://lh3.googleusercontent.com/a/default-user=s128",
      "userId": "110618989541510237728"
     },
     "user_tz": -60
    },
    "id": "vknY8317QDOf",
    "outputId": "a011856b-abb1-4635-ce00-8285c841e935"
   },
   "outputs": [
    {
     "name": "stdout",
     "output_type": "stream",
     "text": [
      "[N] -> 'cats'\n",
      "[N] -> 'dogs'\n",
      "[N] -> 'birds'\n"
     ]
    }
   ],
   "source": [
    "N = Nonterminal('N')\n",
    "for rule in G[N]:\n",
    "    print(rule)"
   ]
  },
  {
   "cell_type": "code",
   "execution_count": 29,
   "metadata": {
    "colab": {
     "autoexec": {
      "startup": false,
      "wait_interval": 0
     },
     "base_uri": "https://localhost:8080/",
     "height": 74,
     "output_extras": [
      {
       "item_id": 1
      }
     ]
    },
    "colab_type": "code",
    "executionInfo": {
     "elapsed": 423,
     "status": "ok",
     "timestamp": 1520949406688,
     "user": {
      "displayName": "Bram Otten",
      "photoUrl": "https://lh3.googleusercontent.com/a/default-user=s128",
      "userId": "110618989541510237728"
     },
     "user_tz": -60
    },
    "id": "LwoMBu4rQDOh",
    "outputId": "abceca4d-d2d2-4a20-f0ab-3ac940029c46"
   },
   "outputs": [
    {
     "name": "stdout",
     "output_type": "stream",
     "text": [
      "This is a POS category: [V]\n",
      "This is a POS category: [N]\n",
      "This is a POS category: [CC]\n"
     ]
    }
   ],
   "source": [
    "for pos in G.preterminals:\n",
    "    print('This is a POS category: %s' % pos)"
   ]
  },
  {
   "cell_type": "code",
   "execution_count": 30,
   "metadata": {
    "colab": {
     "autoexec": {
      "startup": false,
      "wait_interval": 0
     },
     "base_uri": "https://localhost:8080/",
     "height": 36,
     "output_extras": [
      {
       "item_id": 1
      }
     ]
    },
    "colab_type": "code",
    "executionInfo": {
     "elapsed": 387,
     "status": "ok",
     "timestamp": 1520949407436,
     "user": {
      "displayName": "Bram Otten",
      "photoUrl": "https://lh3.googleusercontent.com/a/default-user=s128",
      "userId": "110618989541510237728"
     },
     "user_tz": -60
    },
    "id": "l915kkqyQDOi",
    "outputId": "3795cdf7-e536-4f87-d8c6-9a308d5d05d7"
   },
   "outputs": [
    {
     "name": "stdout",
     "output_type": "stream",
     "text": [
      "We can rewrite the symbol [S]: True\n"
     ]
    }
   ],
   "source": [
    "S = Nonterminal('S')\n",
    "print('We can rewrite the symbol %s: %s' % (S, G.can_rewrite(S)))"
   ]
  },
  {
   "cell_type": "code",
   "execution_count": 31,
   "metadata": {
    "colab": {
     "autoexec": {
      "startup": false,
      "wait_interval": 0
     },
     "base_uri": "https://localhost:8080/",
     "height": 36,
     "output_extras": [
      {
       "item_id": 1
      }
     ]
    },
    "colab_type": "code",
    "executionInfo": {
     "elapsed": 531,
     "status": "ok",
     "timestamp": 1520949408377,
     "user": {
      "displayName": "Bram Otten",
      "photoUrl": "https://lh3.googleusercontent.com/a/default-user=s128",
      "userId": "110618989541510237728"
     },
     "user_tz": -60
    },
    "id": "VgNuBpfIQDOo",
    "outputId": "5817ada5-8d30-4aef-d2cb-cb3f971a94c6"
   },
   "outputs": [
    {
     "name": "stdout",
     "output_type": "stream",
     "text": [
      "We can rewrite the symbol [T]: False\n"
     ]
    }
   ],
   "source": [
    "T = Nonterminal('T')\n",
    "print('We can rewrite the symbol %s: %s' % (T, G.can_rewrite(T)))"
   ]
  },
  {
   "cell_type": "code",
   "execution_count": 32,
   "metadata": {
    "colab": {
     "autoexec": {
      "startup": false,
      "wait_interval": 0
     },
     "base_uri": "https://localhost:8080/",
     "height": 36,
     "output_extras": [
      {
       "item_id": 1
      }
     ]
    },
    "colab_type": "code",
    "executionInfo": {
     "elapsed": 630,
     "status": "ok",
     "timestamp": 1520949409383,
     "user": {
      "displayName": "Bram Otten",
      "photoUrl": "https://lh3.googleusercontent.com/a/default-user=s128",
      "userId": "110618989541510237728"
     },
     "user_tz": -60
    },
    "id": "kWkxRFniQDOr",
    "outputId": "ec825bda-88ea-422c-95ed-ef25fa06c317"
   },
   "outputs": [
    {
     "name": "stdout",
     "output_type": "stream",
     "text": [
      "We known 3 rules to rewrite the symbol [N]\n"
     ]
    }
   ],
   "source": [
    "print('We known %d rules to rewrite the symbol %s' % (len(G[N]), N))"
   ]
  },
  {
   "cell_type": "markdown",
   "metadata": {
    "colab_type": "text",
    "id": "yANoAVvUQDOs"
   },
   "source": [
    "## <a name=\"generation\"> Generation\n",
    "\n",
    "\n",
    "We can use CFG grammars to generate strings, the basic idea is really simple, we start from the grammars start symbol\n",
    "\\begin{align}\n",
    "(1) \\quad \\langle \\text{S} \\rangle\n",
    "\\end{align}\n",
    "then we randomly select a rule that rewrites it. Suppose that we have only 1 rule available `S -> NP VP`, then the only thing we can do at this point is to expand `S`\n",
    "\\begin{align}\n",
    "(1) &\\quad \\langle \\text{S} \\rangle  \\\\\n",
    "(2) &\\quad \\langle \\text{NP} \\, \\text{VP} \\rangle   \\\\\n",
    "\\end{align}\n",
    "\n",
    "We then recursively repeat this procedure for the leftmost nonterminal. Suppose that we can rewrite `NP` as `N`, or `D N`, or `NP NP`. Then we would have to select one of those 3 options. Let's assume for now that we pick one of them uniformly at random. For example, suppose we choose `N`, then the derivation proceeds as follows:\n",
    "\\begin{align}\n",
    "(1) &\\quad \\langle \\text{S} \\rangle \\\\\n",
    "(2) &\\quad \\langle \\text{NP} \\, \\text{VP} \\rangle \\\\\n",
    "(3) &\\quad \\langle \\text{N} \\, \\text{VP} \\rangle \\\\\n",
    "\\end{align}\n",
    "we recursively repeat this procedure\n",
    "\\begin{align}\n",
    "(1) &\\quad \\langle \\text{S} \\rangle \\\\\n",
    "(2) &\\quad \\langle \\text{NP} \\, \\text{VP} \\rangle \\\\\n",
    "(3) &\\quad \\langle \\text{N} \\, \\text{VP} \\rangle \\\\\n",
    "(4) &\\quad \\langle \\text{cats} \\, \\text{VP} \\rangle \\\\\n",
    "\\end{align}\n",
    "until we are left with terminal symbols only. For example\n",
    "\\begin{align}\n",
    "(1) &\\quad \\langle \\text{S} \\rangle \\\\\n",
    "(2) &\\quad \\langle \\text{NP} \\, \\text{VP} \\rangle \\\\\n",
    "(3) &\\quad \\langle \\text{N} \\, \\text{VP} \\rangle \\\\\n",
    "(4) &\\quad \\langle \\text{cats} \\, \\text{VP} \\rangle \\\\\n",
    "(5) &\\quad \\langle \\text{cats} \\, \\text{V} \\rangle \\\\\n",
    "(6) &\\quad \\langle \\text{cats} \\, \\text{meow} \\rangle \\\\\n",
    "\\end{align}\n",
    "\n",
    "Then the sequence of rule applications (in *this order*) \n",
    "\\begin{align}\n",
    "\\langle \\text{S} \\rightarrow \\text{NP} \\, \\text{VP} ,\\\\\n",
    "\\text{NP} \\rightarrow \\text{N} , \\\\\n",
    "\\text{N} \\rightarrow \\text{cats} , \\\\\n",
    "\\text{VP} \\rightarrow \\text{V} , \\\\\n",
    "\\text{V} \\rightarrow \\text{meow} \\rangle\n",
    "\\end{align}\n",
    "is our **derivation**, and the final sequence of words\n",
    "\\begin{equation}\n",
    "\\langle \\text{cats}, \\, \\text{meow} \\rangle\n",
    "\\end{equation}\n",
    "is the **yield**.\n",
    "\n",
    "Below you will implement this **depth-first traversal**, that is, a top-down and left-to-right recursion."
   ]
  },
  {
   "cell_type": "markdown",
   "metadata": {
    "colab_type": "text",
    "id": "eh9TCmWdQDOt"
   },
   "source": [
    "<a name=\"ex6-3\" style=\"color:red\">**Exercise 6-3**</a> **[3 points]** Implement a recursive algorithm that randomly generates derivations and their yields from the start symbol of the grammar. For now, use a uniform distribution to select which rule rewrites a symbol whenever multiple rules are available.\n",
    "\n",
    "* Guidelines: complete the function below (note that you can write additional functions which you can from within the function below, if you want).\n"
   ]
  },
  {
   "cell_type": "code",
   "execution_count": 33,
   "metadata": {
    "colab": {
     "autoexec": {
      "startup": false,
      "wait_interval": 0
     },
     "base_uri": "https://localhost:8080/",
     "height": 55,
     "output_extras": [
      {
       "item_id": 1
      }
     ]
    },
    "colab_type": "code",
    "executionInfo": {
     "elapsed": 436,
     "status": "ok",
     "timestamp": 1520949410175,
     "user": {
      "displayName": "Bram Otten",
      "photoUrl": "https://lh3.googleusercontent.com/a/default-user=s128",
      "userId": "110618989541510237728"
     },
     "user_tz": -60
    },
    "id": "TKKUd8jJQDOu",
    "outputId": "10cce53c-9e9a-4afc-8954-7e33bffbfa92"
   },
   "outputs": [
    {
     "data": {
      "text/plain": [
       "([[S] -> [NP] [VP],\n",
       "  [NP] -> [NP] [CC] [NP],\n",
       "  [NP] -> [N],\n",
       "  [N] -> 'cats',\n",
       "  [CC] -> 'and',\n",
       "  [NP] -> [N],\n",
       "  [N] -> 'birds',\n",
       "  [VP] -> [V],\n",
       "  [V] -> 'bark'],\n",
       " 'cats and birds bark')"
      ]
     },
     "execution_count": 33,
     "metadata": {},
     "output_type": "execute_result"
    }
   ],
   "source": [
    "import numpy as np\n",
    "import random\n",
    "\n",
    "\n",
    "def choose_uniformly(nb_objects):\n",
    "    \"\"\"\n",
    "    This is a helper function that reminds you how to choose 1 of k objects uniformly.\n",
    "\n",
    "    :param nb_objects: total number of objects to choose from\n",
    "    :returns: an index from 0 to nb_objects - 1 (because we assumed 0-based indexing)\n",
    "    \"\"\"\n",
    "    # and make a uniform distribution over them\n",
    "    uniform_dist = np.ones(nb_objects) / nb_objects\n",
    "    # we then select one of the available rules uniformly at random\n",
    "    i = np.random.choice(nb_objects, p=uniform_dist)\n",
    "    return i\n",
    "\n",
    "\n",
    "def generate_uniform_sample(cfg: CFG, stop_recursion_at=42):\n",
    "    \"\"\"\n",
    "    Given a CFG,returns a derivation (and its yield) sampled top-down uniformly at random.\n",
    "\n",
    "    Recall that a derivation is a depth-first traversal, that is, \n",
    "        we always rewrite the leftmost nonterminal symbol first.\n",
    "\n",
    "    :param cfg: a CFG grammar    \n",
    "    :returns: derivation (sequence of rules), yield (sequence of words)\n",
    "    \"\"\"\n",
    "    s = cfg.get(Nonterminal('S'))[0]\n",
    "    d = [s]\n",
    "    s = list(s._rhs)\n",
    "    while cfg.can_rewrite(s[-1]):\n",
    "        for i, symbol in enumerate(s):\n",
    "            if cfg.can_rewrite(symbol):\n",
    "                del s[i]\n",
    "                x = cfg.get(symbol)\n",
    "                # To avoid NP CC NP -> NP CC NP hole\n",
    "                if len(s) < stop_recursion_at:\n",
    "                    x = x[choose_uniformly(len(x))]\n",
    "                else:\n",
    "                    x = x[0]\n",
    "                d.append(x)\n",
    "                x = list(x._rhs)\n",
    "                s = s[:i] + x + s[i:]\n",
    "                break\n",
    "            else:\n",
    "                pass\n",
    "    y = ' '.join(map(str, s)).replace(\"'\", \"\")\n",
    "    return d, y\n",
    "\n",
    "\n",
    "G2 = get_toy_grammar(np_cc_np=True, vp_cc_vp=False)\n",
    "generate_uniform_sample(G2)"
   ]
  },
  {
   "cell_type": "markdown",
   "metadata": {
    "colab_type": "text",
    "id": "zTAN5PKWQDOu"
   },
   "source": [
    "Let's generate a bit from this grammar.\n",
    "\n",
    "Note: as we are sampling uniformly, sometimes the derivations might be quite long, to reduce that effect, let's play with a simpler grammar which allows noun phrases to grow recursively, but not verb phrases. \n",
    "\n",
    "\n",
    "```python\n",
    "G2 = get_toy_grammar(np_cc_np=True, vp_cc_vp=False)\n",
    "generate_uniform_sample(G2)\n",
    "# you will get something like the following (but of course this is a random example)\n",
    "# (([S] -> [NP] [VP], [NP] -> [N], [N] -> 'cats', [VP] -> [V], [V] -> 'bark'), ('cats', 'bark'))\n",
    "```"
   ]
  },
  {
   "cell_type": "markdown",
   "metadata": {
    "colab_type": "text",
    "id": "i5_F6khyQDOw"
   },
   "source": [
    "For now we are sampling uniformly at each step, later we will give CFGs a probabilistic treatment."
   ]
  },
  {
   "cell_type": "markdown",
   "metadata": {
    "colab_type": "text",
    "id": "GYYNIc_wQDOw"
   },
   "source": [
    "# Recognisers\n",
    "\n",
    "Now we want to design *recognisers*, that is, algorithms that can decide whether or not a string belongs to the language of the grammar.\n",
    "\n",
    "The *language of the grammar* $L(\\mathfrak G)$ is the set of all terminal strings that can be derived from the grammar's start symbol by application of grammar rules. Formally, \n",
    "\n",
    "\\begin{equation}\n",
    "L(\\mathfrak G) = \\{\\omega \\in \\Sigma^*: \\text{S} \\overset{*}{\\Rightarrow} \\omega\\}\n",
    "\\end{equation}\n",
    "\n",
    "We read this as:\n",
    "* $\\omega$ is a string of terminals, which we know because $\\omega$ lives in the set of all strings, the set of all strings is denoted $\\Sigma^*$ and $\\omega \\in \\Sigma^*$ means that $\\omega$ is one string in that set\n",
    "* then the language $L(\\mathfrak G)$ is a set of strings such that (denoted by $:$) each and every string in the language can be derived from the grammar's start symbol $\\text{S}$\n",
    "\n",
    "We can design recognisers that work top-down as well as bottom-up, that is, from start symbol to the strings or vice-versa. \n"
   ]
  },
  {
   "cell_type": "markdown",
   "metadata": {
    "colab_type": "text",
    "id": "ZawPdp_HQDOw"
   },
   "source": [
    "## <a name=\"shiftreduce\"> Shift-Reduce\n",
    "\n",
    "Shift-reduce is a bottom-up recogniser. The following deductive system completely specifies it:\n",
    "\n",
    "\\begin{align}\n",
    "\\text{Item} &\\qquad [\\alpha \\, \\bullet, i] \\\\\n",
    "\\text{Goal} &\\qquad [\\text{S} \\, \\bullet, n] \\\\\n",
    "\\text{Axiom} &\\qquad [\\bullet, 0] \\\\\n",
    "\\text{Shift} &\\qquad \\frac{[\\alpha \\, \\bullet, i]}{[\\alpha \\, x_{i+1}, i + 1]} \\\\\n",
    "\\text{Reduce} & \\qquad \\frac{[\\alpha \\, \\beta \\, \\bullet, i]}{[\\alpha \\, X, i]} \\quad X \\rightarrow \\beta \\in \\mathcal R\n",
    "\\end{align}\n",
    "\n",
    "Let's understand the *item* form\n",
    "* we have a string $\\alpha$ which is a (possibly empty) sequence of terminals and nonterminal symbols\n",
    "* this string is typically known as a *stack*, that is the case because we typically use stacks to implement it\n",
    "* and we have an integer $i \\in [0, n]$ that denotes how many words of the input sentence we have parsed so far (from left-to-right)\n",
    "* when $i=0$ we haven't yet parsed anything\n",
    "* we interpret an item $[\\alpha \\bullet, i]$ as: *we have parsed $i$ words and we have justified them with the symbols in the stack $\\alpha$*\n",
    "* the dot $\\bullet$ in the item does not really have a function, it just reminds us that the algorithm expands the string inside of the item from left-to-right\n",
    "\n",
    "Let's understand the *goal*\n",
    "* the goal is simply to parse the complete sentence, that is, parse $n$ input words\n",
    "* and at the end of the algorithm we must have only the grammar's start symbol $\\text{S}$ in the stack\n",
    "\n",
    "Let's understand the *axioms*\n",
    "* there's only a single axiom item, namely, an item that states that we have not yet parsed anything (and thus we have an empty stack)\n",
    "\n",
    "Let's understand *shift*\n",
    "* this inference rule simply pushes a terminal (a word) into the stack\n",
    "* this means that the position $i$ advances by 1\n",
    "\n",
    "Let's understand *reduce*\n",
    "* this rule checks the top of the stack for a string that matches the RHS sequence of one of the grammar's rules\n",
    "* if we find such a sequence $\\beta$ and such a rule, e.g. $X \\rightarrow \\beta$, then we replace $\\beta$ by $X$ in the top of the stack\n",
    "* note that this rule does not advance over the string ($i$ does not change), it only *reduces* the size of the stack\n",
    "\n",
    "In python, we implement shift-reduce by programming the item, the rules (i.e. axiom, shift, reduce), and the deduction loop. We use an agenda of *active* items in order to explore the space of valid inferences. The logic is simple, we must process every item exactly once and we must give every rule a chance to infer new items from existing ones. \n",
    "\n",
    "We implement this parsing strategy below for you. Study it carefuly as it explains the general design necessary to implement deductive systems."
   ]
  },
  {
   "cell_type": "code",
   "execution_count": 34,
   "metadata": {
    "colab": {
     "autoexec": {
      "startup": false,
      "wait_interval": 0
     }
    },
    "colab_type": "code",
    "id": "YcnpnjiGQDOx"
   },
   "outputs": [],
   "source": [
    "from collections import deque\n",
    "\n",
    "\n",
    "class ShiftReduce:\n",
    "    \"\"\"\n",
    "    A bottom-up recogniser for epsilon-free CFGs.\n",
    "\n",
    "    Here an Item is a pair (sequence, position) where\n",
    "    * sequence is a tuple of terminals and nonterminals\n",
    "    * position is a positive integer \n",
    "\n",
    "    The algorithm is based on the deductive system specified above and we use one auxiliary data-structure\n",
    "     to map from RHS sequences to sets of LHS. This kind of reverses the CFG internal dictionary of rules.\n",
    "     We use this in order to make the check in the REDUCE rule a little easier to perform (see below).\n",
    "    \"\"\"\n",
    "\n",
    "    def __init__(self, cfg: CFG):\n",
    "        self._cfg = cfg\n",
    "        # this reverses the CFG internal rule map\n",
    "        # here we map from RHS to LHS\n",
    "        # since there are many rules (with different LHS) that may produce the same RHS\n",
    "        # we use a defaultdict of sets\n",
    "        self._rhs_to_lhs = defaultdict(set)\n",
    "        for r in self._cfg:\n",
    "            self._rhs_to_lhs[r.rhs].add(r.lhs)\n",
    "\n",
    "    def make_item(self, stack, position: int):\n",
    "        \"\"\"\n",
    "        Returns a pair (stack, position)\n",
    "        \"\"\"\n",
    "        return (stack, position)\n",
    "\n",
    "    def axioms(self):\n",
    "        \"\"\"\n",
    "        Returns a set of axiomatic items.\n",
    "         In fact, we only have a single axiom: the empty-stack, 0-position item.\n",
    "        \"\"\"\n",
    "        return {self.make_item(tuple(), 0)}\n",
    "\n",
    "    def shift(self, item, sentence):\n",
    "        \"\"\"\n",
    "        Returns a set of items according to the SHIFT rule.\n",
    "         This is in fact either no item or a single item.\n",
    "        \"\"\"\n",
    "        stack, position = item\n",
    "        items = set()\n",
    "        # shift\n",
    "        if position < len(sentence):\n",
    "            # expand the stack by pushing sentence[position] onto its top\n",
    "            # we also advance the position variable\n",
    "            items.add(self.make_item(\n",
    "                stack + (sentence[position],), position + 1))\n",
    "        return items\n",
    "\n",
    "    def reduce(self, item):\n",
    "        \"\"\"\n",
    "        Returns a set of new items according to the REDUCE rule.\n",
    "        \"\"\"\n",
    "        # This is the current item\n",
    "        stack, position = item\n",
    "        new_items = set()\n",
    "        for a in range(1, len(stack) + 1):  # we will inspect the top symbols in the stack\n",
    "            # here we get the last a symbols\n",
    "            suffix = stack[-a:]\n",
    "            # and here everything else\n",
    "            prefix = stack[: -a]\n",
    "            # if there are rules that can cover this suffix\n",
    "            for lhs in self._rhs_to_lhs.get(tuple(suffix), set()):\n",
    "                # we replace the top of the stack with the LHS of those rules\n",
    "                # and we do not touch the position variable\n",
    "                new_items.add(self.make_item(tuple(prefix) + (lhs,), position))\n",
    "            # there is no point in trying sequences longer than the grammar's arity\n",
    "            if a >= self._cfg.arity:\n",
    "                break\n",
    "        return new_items\n",
    "\n",
    "    def recognise(self, sentence):\n",
    "        \"\"\"\n",
    "        Test whether a sentence belong to the language of the grammar.\n",
    "\n",
    "        The general strategy with deductive systems is always the same:\n",
    "\n",
    "            - we need to manage `active items`, some form of agenda of items to be processed\n",
    "            - we also need some form or mechanism to track items that have already been discovered\n",
    "            - then we exhaust the agenda with something like `while agenda`\n",
    "            - we check whether we have derived the goal item, and if so, we return True\n",
    "            - if we have not, we continue by trying to shift and reduce, which causes new items to become active\n",
    "\n",
    "        :param sentence: a sequence of Terminal symbols\n",
    "        :returns: True if S =>* sentence, False otherwise\n",
    "        \"\"\"\n",
    "        # our agenda is a python double ended queue\n",
    "        #  but it could well be a list, we are using deque so you learn about it\n",
    "        agenda = deque(self.axioms())\n",
    "\n",
    "        # we need to maintain a set of already discovered items,\n",
    "        #  we use this to prevent adding the same item multiple times to the agenda\n",
    "        #  as the agenda is not a hash-based object, searching through it would take too long\n",
    "        #  (linear time on the agenda size)\n",
    "        #  instead we use a set which has average access time O(1)\n",
    "        discovered = set(agenda)\n",
    "\n",
    "        # We iterate for as long as there are active items in the agenda\n",
    "        while agenda:\n",
    "            # we chose to pop from the agenda's end, which gives it a stack treatment\n",
    "            # this is not necessarily the only alternative\n",
    "            # we could have done agenda.popleft() which would give it a queue treatment\n",
    "            # the stack treatment typically works a bit faster ;)\n",
    "            item = agenda.pop()\n",
    "            # recall the item form [\\alpha, i]\n",
    "            stack, position = item\n",
    "            # GOAL: check whether this is the GOAL item: [S, n]\n",
    "            if position == len(sentence) and len(stack) == 1 and stack[-1] == self._cfg.start:\n",
    "                # we accept the sentence\n",
    "                return True\n",
    "            # SHIFT\n",
    "            for new_item in self.shift(item, sentence):\n",
    "                if new_item not in discovered:  # we never process an item twice\n",
    "                    discovered.add(new_item)\n",
    "                    agenda.append(new_item)\n",
    "            # REDUCE\n",
    "            for new_item in self.reduce(item):\n",
    "                if new_item not in discovered:  # we never process an item twice\n",
    "                    discovered.add(new_item)\n",
    "                    agenda.append(new_item)\n",
    "\n",
    "        return False"
   ]
  },
  {
   "cell_type": "code",
   "execution_count": 35,
   "metadata": {
    "colab": {
     "autoexec": {
      "startup": false,
      "wait_interval": 0
     }
    },
    "colab_type": "code",
    "id": "pPw7QDL-QDOy"
   },
   "outputs": [],
   "source": [
    "recogniser = ShiftReduce(get_toy_grammar())"
   ]
  },
  {
   "cell_type": "code",
   "execution_count": 36,
   "metadata": {
    "colab": {
     "autoexec": {
      "startup": false,
      "wait_interval": 0
     },
     "base_uri": "https://localhost:8080/",
     "height": 36,
     "output_extras": [
      {
       "item_id": 1
      }
     ]
    },
    "colab_type": "code",
    "executionInfo": {
     "elapsed": 665,
     "status": "ok",
     "timestamp": 1520950379448,
     "user": {
      "displayName": "Bram Otten",
      "photoUrl": "https://lh3.googleusercontent.com/a/default-user=s128",
      "userId": "110618989541510237728"
     },
     "user_tz": -60
    },
    "id": "xxGg0IgZQDO1",
    "outputId": "5ea60b74-37f2-4e5f-f0aa-6ca8975f0d7a"
   },
   "outputs": [
    {
     "data": {
      "text/plain": [
       "True"
      ]
     },
     "execution_count": 36,
     "metadata": {},
     "output_type": "execute_result"
    }
   ],
   "source": [
    "recogniser.recognise([Terminal(\n",
    "    w) for w in 'cats and dogs and birds run and meow and bark and chirp'.split()])"
   ]
  },
  {
   "cell_type": "code",
   "execution_count": 37,
   "metadata": {
    "colab": {
     "autoexec": {
      "startup": false,
      "wait_interval": 0
     },
     "base_uri": "https://localhost:8080/",
     "height": 36,
     "output_extras": [
      {
       "item_id": 1
      }
     ]
    },
    "colab_type": "code",
    "executionInfo": {
     "elapsed": 1243,
     "status": "ok",
     "timestamp": 1520950382510,
     "user": {
      "displayName": "Bram Otten",
      "photoUrl": "https://lh3.googleusercontent.com/a/default-user=s128",
      "userId": "110618989541510237728"
     },
     "user_tz": -60
    },
    "id": "db9jfHwVQDO2",
    "outputId": "1c588354-84e4-48d6-e52a-833933bb1671"
   },
   "outputs": [
    {
     "data": {
      "text/plain": [
       "False"
      ]
     },
     "execution_count": 37,
     "metadata": {},
     "output_type": "execute_result"
    }
   ],
   "source": [
    "recogniser.recognise([Terminal(\n",
    "    w) for w in 'cats and dogs and birds run and jump and bark and chirp'.split()])"
   ]
  },
  {
   "cell_type": "markdown",
   "metadata": {
    "colab_type": "text",
    "id": "zE1goYCmQDO4"
   },
   "source": [
    "# <a name=\"cky\"> CKY\n",
    "\n",
    "If we know our grammars obey to a certain form, such as *Chomsky Normal Form* (CNF) we can design efficient recognisers. One such recogniser is the CKY algorithm for CNF grammars.\n",
    "\n",
    "\n"
   ]
  },
  {
   "cell_type": "markdown",
   "metadata": {
    "colab_type": "text",
    "id": "dsn32M81QDO4"
   },
   "source": [
    "<a name=\"ex6-4\" style=\"color:red\">**Exercise 6-4**</a> **[2 points]** Describe a CNF grammar (do not simply state the conditions, explain them in English).\n",
    "\n",
    "The rules of a CNF grammar need to have one of these three forms:\n",
    "\n",
    "- A -> BC (where A, B and C are non-terminals; B != S, C != S);\n",
    "- A -> a (where 'A' is a non-terminal and 'a' is a terminal);\n",
    "- S -> $\\epsilon$ (where S is the start symbol and $\\epsilon$ is an empty string).\n",
    "\n",
    "S -> $\\epsilon$ can only be used if $\\epsilon$ is in the language of the grammar. Lecturer mentioned that would not be the case here.\n"
   ]
  },
  {
   "cell_type": "markdown",
   "metadata": {
    "colab_type": "text",
    "id": "PXR-ffeSQDO6"
   },
   "source": [
    "**Deductive system for CKY**\n",
    "\n",
    "The following deductive system specifies the CKY parsing strategy\n",
    "\n",
    "\\begin{align}\n",
    "\\text{Item} &\\qquad [i, X, j] \\\\\n",
    "\\text{Goal} &\\qquad [0, \\text{S}, n] \\\\\n",
    "\\text{Axiom} &\\qquad [i, X, i + 1] \\quad X \\rightarrow x_i \\in \\mathcal R\\\\\n",
    "\\text{Merge} & \\qquad \\frac{[i, A, k] \\, [k, B, j]}{[i, C, j]} \\quad C \\rightarrow A \\, B \\in \\mathcal R\n",
    "\\end{align}\n",
    "\n",
    "\n",
    "Now you will implement the CKY recogniser:\n",
    "* we expect you to use as items a tuple such as `(start, nonterminal, end)`. \n",
    "\n"
   ]
  },
  {
   "cell_type": "markdown",
   "metadata": {
    "colab_type": "text",
    "id": "70W070RZQDO6"
   },
   "source": [
    "<a name=\"ex6-5\" style=\"color:red\">**Exercise 6-5**</a> **[4 points]** Explain the following \n",
    "\n",
    "* **[1 point]** CKY items\n",
    "\n",
    "Sound intermediate result, a sequence from the input sentence that's parsed correctly by placing a rule between two indicated indices. \n",
    "\n",
    "* **[1 point]** CKY goal\n",
    "\n",
    "State in which entire sentence of length n is 'encapsulated' by an S. This is not the case in the beginning because the CKY algorithm works bottom-up. The S itself will (here and usually) be the result of merges, and can only cover 0 to n if every part of the sentence has been converted to non-terminals.\n",
    "\n",
    "* **[1 point]** CKY axioms\n",
    "\n",
    "Something assumed to be true. Here, that's the minimum number of rules. There must be at least one, which must be rewritable as at least one terminal.\n",
    "\n",
    "* **[1 point]** CKY merge rule\n",
    "\n",
    "Makes one item (containing C) out of two (containing A and B). This can be done if the two 'input' items follow each other directly, and there's a rule which encapsulates both items. \n",
    "\n",
    "% ik heb de laatste veranderd (was eerst \"and, being items, are correct themselves.\")"
   ]
  },
  {
   "cell_type": "markdown",
   "metadata": {
    "colab_type": "text",
    "id": "SHjZNLsvQDO7"
   },
   "source": [
    "**Implementation**\n",
    "\n",
    "<a name=\"ex6-6\" style=\"color:red\">**Exercise 6-6**</a> **[9 points]** Here you will implement a CKY recogniser.\n",
    "\n",
    "Start by carefully checking the documentation and relating each method to a part of the deductive system, then carefully study the form of the CKY item (which is implemented in the method `make_item`). Then solve the exercises below:\n",
    "\n",
    "* **[1 point]** Implement the checks for CNF grammars in the constructor\n",
    "* **[1 point]** Implement the GOAL check in the method `is_goal` (check the documentation)\n",
    "* **[1 point]** Implement the axioms of the system in the method `axioms` (check the documentation)\n",
    "* **[2 points]** Implement the rule *merge* in the method `merge` (check the documentation)\n",
    "* **[3 points]** Implement the main loop in `recognise`\n",
    "* **[1 point]** Show that you get the correct answers for the grammar in `get_toy_cnf_grammar` below and the following sentences:\n",
    "    * `cats and dogs run`\n",
    "    * `cats and dogs jump`\n",
    "    * try some additional examples\n",
    "\n"
   ]
  },
  {
   "cell_type": "code",
   "execution_count": 118,
   "metadata": {
    "colab": {
     "autoexec": {
      "startup": false,
      "wait_interval": 0
     }
    },
    "colab_type": "code",
    "id": "Z6-cCs0UQDO7"
   },
   "outputs": [],
   "source": [
    "from collections import defaultdict, deque\n",
    "\n",
    "\n",
    "class CKYRecogniser:\n",
    "    \"\"\"\n",
    "    A CKY recogniser for CFGs in CNF which is implemented as a deductive system.\n",
    "    \"\"\"\n",
    "\n",
    "    def __init__(self, cfg: CFG):\n",
    "        \"\"\"\n",
    "        This constructs the recogniser for a certain grammar.\n",
    "\n",
    "        You may use this as an opportunity to precompute certain quantities or cache certain objects\n",
    "         if that helps you.\n",
    "\n",
    "        You should make sure the input is indeed in CNF.\n",
    "\n",
    "        :param cfg: a CFG in Chomsky Normal Form (CNF)\n",
    "        \"\"\"\n",
    "        for nonterminal in cfg.nonterminals:\n",
    "            for rule in cfg[nonterminal]:\n",
    "                if (len(rule.rhs) > 2):\n",
    "                    raise valueError('rhs is longer than 2 symbols')\n",
    "                for thing in rule.rhs:\n",
    "                    if (cfg.start == thing):\n",
    "                        raise valueError(\n",
    "                            'start symbol is equal to a non-terminal in rhs of a rule')\n",
    "\n",
    "        self._cfg = cfg\n",
    "\n",
    "        # because the formatting of this exercise is completely insane\n",
    "        # we have to put the rules with an S on the rhs in another dict\n",
    "        # or it will terminate too early\n",
    "        self._terminating_rules = defaultdict(set)\n",
    "        for r in cfg:\n",
    "            if r.lhs.category == 'S':\n",
    "                self._terminating_rules[r.rhs].add(r)\n",
    "\n",
    "        # It is convenient to map from RHS to rules\n",
    "        self._rhs_to_rules = defaultdict(set)\n",
    "        for r in cfg:\n",
    "            if r.lhs.category != 'S':\n",
    "                self._rhs_to_rules[r.rhs].add(r)\n",
    "\n",
    "    def make_item(self, rule: Rule, start: int, end: int):\n",
    "        \"\"\"\n",
    "        We can create items based on a rule which justifies a span of the sentence.\n",
    "        :param rule: a Rule object\n",
    "        :param start: an integer from 0 to n\n",
    "        :param end: an integer from 0 to n (where end >= start)\n",
    "        :returns: a CKY item represented as a tuple (start, rule.lhs, end)\n",
    "        \"\"\"\n",
    "        return (start, rule.lhs, end)\n",
    "\n",
    "    def set_to_rule(self, rule):\n",
    "        \"\"\"\n",
    "        The designer of this exercise made a call to the _rhs_to_rules dictionary\n",
    "        return a set. Which is... questionable. Let's keep it at that\n",
    "        This function rectifies that (in an ugly way)\n",
    "        \"\"\"\n",
    "        thing = None\n",
    "        for i in rule:\n",
    "            thing = i\n",
    "        return thing\n",
    "\n",
    "    def get_category(self, item):\n",
    "        \"\"\"Returns the phrase category of the CKY item\"\"\"\n",
    "        return item[1]\n",
    "\n",
    "    def get_start(self, item):\n",
    "        \"\"\"Returns the start position of the CKY item\"\"\"\n",
    "        return item[0]\n",
    "\n",
    "    def get_end(self, item):\n",
    "        \"\"\"Returns the end position of the CKY item\"\"\"\n",
    "        return item[2]\n",
    "\n",
    "    def is_goal(self, item, n):\n",
    "        \"\"\"\n",
    "        Test if this is a goal item\n",
    "        :param item: a CKY item as returned by `make_item`\n",
    "        :param n: length of the input sentence\n",
    "        :returns: True if GOAL, False otherwise\n",
    "        \"\"\"\n",
    "        if (self.get_end(item) == n) and (self.get_category(item) == self._cfg.start):\n",
    "            return True\n",
    "        return False\n",
    "\n",
    "    def axioms(self, sentence):\n",
    "        \"\"\"\n",
    "        Return the axioms compatible with a certain input sentence\n",
    "        :param sentence: a sequence of Terminal objects\n",
    "        :returns: a set of items\n",
    "        \"\"\"\n",
    "        result = set()\n",
    "        count = 0\n",
    "        for item in sentence:\n",
    "            for rhs in self._rhs_to_rules.keys():\n",
    "                if rhs[0] == item:\n",
    "                    rule = self._rhs_to_rules[rhs]\n",
    "                    rule = self.set_to_rule(rule)\n",
    "                    new_item = self.make_item(rule, count, count+1)\n",
    "                    count += 1\n",
    "                    result.add(new_item)\n",
    "\n",
    "        if (len(result) != len(sentence)):\n",
    "            return None\n",
    "        return result\n",
    "\n",
    "    def merge(self, item1, item2):\n",
    "        \"\"\"\n",
    "        Returns a set of inferred items based on the MERGE rule.\n",
    "        :param item1: a CKY item as created by `make_item`\n",
    "        :param item2: a CKY item as created by `make_item`\n",
    "\n",
    "        Note that you need to make sure whether the MERGE rule applies at all,\n",
    "         that is, item1 and item2 need to be adjacent. Also note that the items\n",
    "         may have been passed to this function in opposite order.\n",
    "        Examples of valid applications of the merge rule:\n",
    "             * [1, X, 2] [2, Y, 3]: this is valid because one item ends where the other starts\n",
    "             * [2, Y, 3] [1, X, 2]: this is also valid! because again one item (the second) ends where the other (the first) starts\n",
    "\n",
    "        :returns: a set of items inferred by application of MERGE\n",
    "        \"\"\"\n",
    "        if self.get_end(item1) == self.get_start(item2):\n",
    "            rhs = (self.get_category(item1), self.get_category(item2))\n",
    "            lhs = self._rhs_to_rules[rhs]\n",
    "            if lhs == set():\n",
    "                return None\n",
    "            lhs = self.set_to_rule(lhs)\n",
    "            return self.make_item(lhs, self.get_start(item1), self.get_end(item2))\n",
    "\n",
    "        if self.get_end(item2) == self.get_start(item1):\n",
    "            rhs = (self.get_category(item2), self.get_category(item1))\n",
    "            lhs = self._rhs_to_rules[rhs]\n",
    "            if lhs == set():\n",
    "                return None\n",
    "            lhs = self.set_to_rule(lhs)\n",
    "            return self.make_item(lhs, self.get_start(item2), self.get_end(item1))\n",
    "\n",
    "        return None\n",
    "\n",
    "    def terminate(self, item1, item2):\n",
    "        \"\"\"\n",
    "        Returns a set of inferred items based on the MERGE rule.\n",
    "        :param item1: a CKY item as created by `make_item`\n",
    "        :param item2: a CKY item as created by `make_item`\n",
    "\n",
    "        this function only chooses from the terminating rules,\n",
    "        aka, only the rules where the lhs is 'S'\n",
    "\n",
    "        :returns: a set of items inferred by application of MERGE\n",
    "        \"\"\"\n",
    "        if self.get_end(item1) == self.get_start(item2):\n",
    "            rhs = (self.get_category(item1), self.get_category(item2))\n",
    "            lhs = self._terminating_rules[rhs]\n",
    "\n",
    "            if lhs == None:\n",
    "                return None\n",
    "            lhs = self.set_to_rule(lhs)\n",
    "            return self.make_item(lhs, self.get_start(item1), self.get_end(item2))\n",
    "\n",
    "        if self.get_end(item2) == self.get_start(item1):\n",
    "            rhs = (self.get_category(item2), self.get_category(item1))\n",
    "            lhs = self._terminating_rules[rhs]\n",
    "            if lhs == None:\n",
    "                return None\n",
    "            lhs = self.set_to_rule(lhs)\n",
    "            return self.make_item(lhs, self.get_start(item2), self.get_end(item1))\n",
    "\n",
    "        return None\n",
    "\n",
    "    def recognise(self, sentence):\n",
    "        \"\"\"\n",
    "        Test whether a sentence belongs to the language of the grammar.\n",
    "\n",
    "        Recall the general strategy:\n",
    "            - maintain an agenda of items\n",
    "            - explore items exhaustively\n",
    "            - never put in the agenda an item that you have already discovered\n",
    "            - stop whenever you manage to prove the GOAL item\n",
    "\n",
    "        :param sentence: a sequence of Terminal objects\n",
    "        :returns: True if S =>* sentence, False otherwise.\n",
    "        \"\"\"\n",
    "        sentence = sentence.lower()\n",
    "        sentence = [Terminal(w) for w in sentence.split()]\n",
    "        \n",
    "        rules = self.axioms(sentence)\n",
    "        if (rules == None):\n",
    "            print('Terminiating: necessary axioms aren\\'t in the grammar')\n",
    "            return False\n",
    "\n",
    "        agenda = deque()\n",
    "        for i in rules:\n",
    "            agenda.append(i)\n",
    "\n",
    "        loop = 0\n",
    "        length_sentence = len(sentence)\n",
    "        if length_sentence == 0:\n",
    "            print(\"Terminating: sentence too short.\")\n",
    "            return False\n",
    "\n",
    "        discovered = set(agenda)\n",
    "\n",
    "        while len(agenda) > 2:\n",
    "            loop += 1\n",
    "            for item1 in list(agenda):\n",
    "                for item2 in list(agenda):\n",
    "                    if item1 == item2:\n",
    "                        continue\n",
    "\n",
    "                    # if the function is looping we terminate\n",
    "                    if loop == 42:\n",
    "                        print('Terminating because of infinite loop, and/or your',\n",
    "                              'sentence doesn\\'t belong to the grammar')\n",
    "                        return False\n",
    "\n",
    "                    if self.merge(item1, item2) != None:\n",
    "                        new_item = self.merge(item1, item2)\n",
    "                        if new_item not in discovered:\n",
    "                            loop = 0\n",
    "                            discovered.add(new_item)\n",
    "                            if item1 in agenda:\n",
    "                                agenda.remove(item1)\n",
    "                            if item2 in agenda:\n",
    "                                agenda.remove(item2)\n",
    "                            agenda.appendleft(new_item)\n",
    "\n",
    "        # TODO1: niet hardcoden en/of uitleggen wtf agenda is.\n",
    "        if len(agenda) <= 1:\n",
    "            print(\"Terminating: agenda too small.\")\n",
    "            return False\n",
    "        last_item = self.terminate(agenda[0], agenda[1])\n",
    "        if last_item != None:\n",
    "            return self.is_goal(last_item, length_sentence)\n",
    "\n",
    "        return False"
   ]
  },
  {
   "cell_type": "code",
   "execution_count": 121,
   "metadata": {
    "colab": {
     "autoexec": {
      "startup": false,
      "wait_interval": 0
     },
     "base_uri": "https://localhost:8080/",
     "height": 322,
     "output_extras": [
      {
       "item_id": 1
      }
     ]
    },
    "colab_type": "code",
    "executionInfo": {
     "elapsed": 653,
     "status": "ok",
     "timestamp": 1520950385756,
     "user": {
      "displayName": "Bram Otten",
      "photoUrl": "https://lh3.googleusercontent.com/a/default-user=s128",
      "userId": "110618989541510237728"
     },
     "user_tz": -60
    },
    "id": "2jnHK0XaQDO_",
    "outputId": "19843a2f-7141-4a70-b650-b6569697e4c9"
   },
   "outputs": [
    {
     "name": "stdout",
     "output_type": "stream",
     "text": [
      "True\n",
      "Terminiating: necessary axioms aren't in the grammar\n",
      "False\n",
      "Terminating because of infinite loop, and/or your sentence doesn't belong to the grammar\n",
      "False\n",
      "True\n",
      "\n",
      "Terminating: agenda too small.\n",
      "False\n",
      "Terminating: sentence too short.\n",
      "False\n",
      "Terminiating: necessary axioms aren't in the grammar\n",
      "False\n",
      "Terminating because of infinite loop, and/or your sentence doesn't belong to the grammar\n",
      "False\n"
     ]
    }
   ],
   "source": [
    "def get_toy_cnf_grammar():\n",
    "    # Some symbols\n",
    "    S = Nonterminal('S')\n",
    "    NP = Nonterminal('NP')\n",
    "    N = Nonterminal('N')\n",
    "    VP = Nonterminal('VP')\n",
    "    V = Nonterminal('V')\n",
    "    CC = Nonterminal('CC')\n",
    "    cnf = CFG(S)\n",
    "    # Phrasal rules\n",
    "    cnf.add(Rule(S, [NP, VP]))\n",
    "    cnf.add(Rule(S, [NP, V]))\n",
    "    cnf.add(Rule(S, [N, VP]))\n",
    "    cnf.add(Rule(S, [N, V]))\n",
    "    cnf.add(Rule(NP, [N, NP]))\n",
    "    cnf.add(Rule(NP, [CC, N]))\n",
    "    cnf.add(Rule(VP, [V, VP]))\n",
    "    cnf.add(Rule(VP, [CC, V]))\n",
    "    # Preterminal rules\n",
    "    cnf.add(Rule(N, [Terminal('cats')]))\n",
    "    cnf.add(Rule(N, [Terminal('dogs')]))\n",
    "    cnf.add(Rule(N, [Terminal('birds')]))\n",
    "    cnf.add(Rule(V, [Terminal('run')]))\n",
    "    cnf.add(Rule(V, [Terminal('bark')]))\n",
    "    cnf.add(Rule(V, [Terminal('meow')]))\n",
    "    cnf.add(Rule(V, [Terminal('chirp')]))\n",
    "    cnf.add(Rule(CC, [Terminal('and')]))\n",
    "    return cnf\n",
    "\n",
    "\n",
    "cky = CKYRecogniser(get_toy_cnf_grammar())\n",
    "print(cky.recognise('Cats and dogs run'))\n",
    "print(cky.recognise('cats and dogs jump'))\n",
    "print(cky.recognise('cats cats cats cats'))\n",
    "print(cky.recognise('cats and dogs run and run'))\n",
    "\n",
    "print()\n",
    "x = 'cats'\n",
    "print(cky.recognise(x))\n",
    "x = ''\n",
    "print(cky.recognise(x))\n",
    "x = 'Cats and such are something'\n",
    "print(cky.recognise(x))\n",
    "x = 'cats and dogs and birds meow and run and chirp and run' # TODO2: moet misschien werken\n",
    "print(cky.recognise(x))"
   ]
  },
  {
   "cell_type": "markdown",
   "metadata": {
    "colab_type": "text",
    "id": "DUVwSmOhQDPB"
   },
   "source": [
    "#  <a name=\"pcfg\"> PCFG\n",
    "\n",
    "A probabilistic CFG is a simple extension to CFGs where we assign a joint probability distribution over the space of context-free *derivations*. \n",
    "\n",
    "A random **derivation** $D = \\langle R_1, \\ldots, R_m \\rangle$ is a sequence of $m$ *random rule applications*.\n",
    "A random rule is a pair of a random LHS nonterminal $V$ and a random RHS sequence $\\beta$, where $V \\rightarrow \\beta$ corresponds to a valid rule in the grammar.\n",
    "\n",
    "We assume that a derivation is generated one rule at a time and each rule is generated independently. Moreover, the probability value of a rule is given by a conditional probability distribution over RHS sequences given LHS nonterminal. \n",
    "\n",
    "\n",
    "\\begin{align}\n",
    "P_{D|M}(r_1^m|m) &= \\prod_{i=1}^m P_R(r_i) \\\\\n",
    " &= \\prod_{i=1}^m P_{\\text{RHS}|\\text{LHS}}(\\beta_i | v_i)\\\\\n",
    " &= \\prod_{i=1}^m \\text{Cat}(\\beta_i | \\boldsymbol \\theta^{v_i})\\\\\n",
    " &= \\prod_{i=1}^m \\theta_{v_i \\rightarrow \\beta_i}\\\\\n",
    "\\end{align}\n",
    "\n"
   ]
  },
  {
   "cell_type": "markdown",
   "metadata": {
    "colab_type": "text",
    "id": "zNEPYwdZQDPC"
   },
   "source": [
    "<a name=\"ex6-7\" style=\"color:red\">**Exercise 6-7**</a> **[1 point]** How many parameters are there in this model? Express your answer in big-o-notation as a function of sizes of terminal and nonterminal sets as well as the grammar's arity (note that we are not assuming CNF grammars here).\n",
    "\n",
    "We make use of the tuple $\\langle m, P_R, V, \\alpha, \\Sigma \\rangle$, as $\\beta$ depends on $V$ (non-terminals), $\\alpha$ (arity), and $\\Sigma$ (terminals).\n",
    "\n",
    "Remember $O(|V| \\times |V \\cup \\Sigma|^a)$ from ex. 6-2, which described the maximum number of rules there could be for a CFG. \n",
    "\n",
    "There are still that many valid rules, so $O(|V| \\times |V \\cup \\Sigma|^a)$"
   ]
  },
  {
   "cell_type": "markdown",
   "metadata": {
    "colab_type": "text",
    "id": "rsBKK4hDQDPC"
   },
   "source": [
    "<a name=\"ex6-8\" style=\"color:red\">**Exercise 6-8**</a> **[2 points]** If our grammar were in CNF form, then how many parameters would we have?\n",
    "\n",
    "TODO: check.\n",
    "\n",
    "The tuple is now $\\langle m, P_R, V, \\Sigma \\rangle$. \n",
    "\n",
    "The $|V| \\times (|V \\cup \\Sigma|)^a$ bit from above becomes $|V| \\times (|V|^2 \\cup |\\Sigma|)$. (In words: a non-terminal can be replaced by two non-terminals or by a single terminal, not by a mix.)\n",
    "\n",
    "So $O(|V| \\times (|V|^2 \\cup |\\Sigma|)$. "
   ]
  },
  {
   "cell_type": "markdown",
   "metadata": {
    "colab_type": "text",
    "id": "o6Wq7nXvQDPC"
   },
   "source": [
    "**Implementation**\n",
    "\n",
    "We can implement PCFGs rather easily by pairing a CFG grammar with a dictionary mapping from rules to their probabilities. But we must remember that for each given LHS symbol, the probability values of all of its rewriting rules must sum to 1.\n",
    "\n",
    "\\begin{equation}\n",
    "\\sum_{\\beta} \\theta_{v \\rightarrow \\beta} = 1\n",
    "\\end{equation}\n",
    "\n",
    "Below we have an example of how we could code the necessary cpds for our toy grammar"
   ]
  },
  {
   "cell_type": "code",
   "execution_count": 71,
   "metadata": {
    "colab": {
     "autoexec": {
      "startup": false,
      "wait_interval": 0
     }
    },
    "colab_type": "code",
    "id": "s3UE4jE5QDPD"
   },
   "outputs": [],
   "source": [
    "def get_toy_pcfg():\n",
    "    cfg = get_toy_grammar(np_cc_np=True, vp_cc_vp=True)\n",
    "    # Some symbols\n",
    "    S = Nonterminal('S')\n",
    "    NP = Nonterminal('NP')\n",
    "    N = Nonterminal('N')\n",
    "    VP = Nonterminal('VP')\n",
    "    V = Nonterminal('V')\n",
    "    CC = Nonterminal('CC')\n",
    "    p_R = {\n",
    "        S: {\n",
    "            Rule(S, [NP, VP]): 1.0,\n",
    "        },\n",
    "        # NP -> *\n",
    "        NP: {\n",
    "            Rule(NP, [NP, CC, NP]): 0.2,\n",
    "            Rule(NP, [N]): 0.8,\n",
    "        },\n",
    "        # VP -> *\n",
    "        VP: {\n",
    "            Rule(VP, [VP, CC, VP]): 0.1,\n",
    "            Rule(VP, [V]): 0.9,\n",
    "        },\n",
    "        # N -> *\n",
    "        N: {\n",
    "            Rule(N, [Terminal('cats')]): 0.3,\n",
    "            Rule(N, [Terminal('dogs')]): 0.5,\n",
    "            Rule(N, [Terminal('birds')]): 0.2,\n",
    "        },\n",
    "        # V -> *\n",
    "        V: {\n",
    "            Rule(V, [Terminal('run')]): 0.4,\n",
    "            Rule(V, [Terminal('bark')]): 0.25,\n",
    "            Rule(V, [Terminal('meow')]): 0.25,\n",
    "            Rule(V, [Terminal('chirp')]): 0.1,\n",
    "        },\n",
    "        CC: {\n",
    "            Rule(CC, [Terminal('and')]): 1.0,\n",
    "        }\n",
    "    }\n",
    "    return cfg, p_R"
   ]
  },
  {
   "cell_type": "markdown",
   "metadata": {
    "colab_type": "text",
    "id": "YiOwG0_VQDPG"
   },
   "source": [
    "Let's have a look at what we got"
   ]
  },
  {
   "cell_type": "code",
   "execution_count": 72,
   "metadata": {
    "colab": {
     "autoexec": {
      "startup": false,
      "wait_interval": 0
     },
     "base_uri": "https://localhost:8080/",
     "height": 666,
     "output_extras": [
      {
       "item_id": 1
      }
     ]
    },
    "colab_type": "code",
    "executionInfo": {
     "elapsed": 448,
     "status": "ok",
     "timestamp": 1520949975714,
     "user": {
      "displayName": "Bram Otten",
      "photoUrl": "https://lh3.googleusercontent.com/a/default-user=s128",
      "userId": "110618989541510237728"
     },
     "user_tz": -60
    },
    "id": "gliEQFM1QDPH",
    "outputId": "acd63663-e407-4c75-c6f6-e62082809def"
   },
   "outputs": [
    {
     "name": "stdout",
     "output_type": "stream",
     "text": [
      "CFG\n",
      "[S] -> [NP] [VP]\n",
      "[NP] -> [N]\n",
      "[NP] -> [NP] [CC] [NP]\n",
      "[VP] -> [V]\n",
      "[VP] -> [VP] [CC] [VP]\n",
      "[CC] -> 'and'\n",
      "[N] -> 'cats'\n",
      "[N] -> 'dogs'\n",
      "[N] -> 'birds'\n",
      "[V] -> 'run'\n",
      "[V] -> 'bark'\n",
      "[V] -> 'meow'\n",
      "[V] -> 'chirp'\n",
      "P_R\n",
      "1.00 [S] -> [NP] [VP]\n",
      "LHS [S] Total probability 1.00\n",
      "0.20 [NP] -> [NP] [CC] [NP]\n",
      "0.80 [NP] -> [N]\n",
      "LHS [NP] Total probability 1.00\n",
      "0.10 [VP] -> [VP] [CC] [VP]\n",
      "0.90 [VP] -> [V]\n",
      "LHS [VP] Total probability 1.00\n",
      "0.30 [N] -> 'cats'\n",
      "0.50 [N] -> 'dogs'\n",
      "0.20 [N] -> 'birds'\n",
      "LHS [N] Total probability 1.00\n",
      "0.40 [V] -> 'run'\n",
      "0.25 [V] -> 'bark'\n",
      "0.25 [V] -> 'meow'\n",
      "0.10 [V] -> 'chirp'\n",
      "LHS [V] Total probability 1.00\n",
      "1.00 [CC] -> 'and'\n",
      "LHS [CC] Total probability 1.00\n"
     ]
    }
   ],
   "source": [
    "cfg, p_R = get_toy_pcfg()\n",
    "print('CFG')\n",
    "print(cfg)\n",
    "print('P_R')\n",
    "for lhs, cpd in p_R.items():\n",
    "    total_prob = 0.0\n",
    "    for rule, prob in cpd.items():\n",
    "        print('%.2f' % prob, rule)\n",
    "        total_prob += prob\n",
    "    print('LHS %s Total probability %.2f' % (lhs, total_prob))"
   ]
  },
  {
   "cell_type": "markdown",
   "metadata": {
    "colab_type": "text",
    "id": "AIS5SRTQQDPK"
   },
   "source": [
    "<a name=\"ex6-9\" style=\"color:red\">**Exercise 6-9**</a> **[3 points]** Implement a function that generates samples from the grammar respecting a certain specification of $P_R$. *Tip:* this is very similar to uniform generation, but instead of choosing rules uniformly at random, we should choose them according to the given cpds."
   ]
  },
  {
   "cell_type": "code",
   "execution_count": 73,
   "metadata": {
    "colab": {
     "autoexec": {
      "startup": false,
      "wait_interval": 0
     },
     "base_uri": "https://localhost:8080/",
     "height": 132,
     "output_extras": [
      {
       "item_id": 1
      }
     ]
    },
    "colab_type": "code",
    "executionInfo": {
     "elapsed": 476,
     "status": "ok",
     "timestamp": 1520951748725,
     "user": {
      "displayName": "Bram Otten",
      "photoUrl": "https://lh3.googleusercontent.com/a/default-user=s128",
      "userId": "110618989541510237728"
     },
     "user_tz": -60
    },
    "id": "9P7-Yyl1QDPL",
    "outputId": "05b056c1-c54c-4abb-a0f7-20388ef002c6"
   },
   "outputs": [],
   "source": [
    "from numpy.random import choice\n",
    "\n",
    "\n",
    "def choose_empirically(cpd):\n",
    "    # Returns one of the keys of the cpd dict.\n",
    "    return choice(list(cpd.keys()), p=list(cpd.values()))\n",
    "\n",
    "\n",
    "def generate_sample(cfg: CFG, cpds):\n",
    "    \"\"\"\n",
    "    Given a CFG,returns a derivation (and its yield) sampled top-down uniformly at random.\n",
    "\n",
    "    Recall that a derivation is a depth-first traversal, that is, \n",
    "        we always rewrite the leftmost nonterminal symbol first.\n",
    "\n",
    "    :param cfg: a CFG grammar    \n",
    "    :param cpds: a dictionary mapping a LHS to a cpd\n",
    "        where each cpd is a dictionary mapping rules to probabilities\n",
    "        see the output of get_toy_pcfg above\n",
    "    :returns: derivation (sequence of rules), yield (sequence of words)\n",
    "    \"\"\"\n",
    "    s = cfg.get(Nonterminal('S'))[0]\n",
    "    d = [s]\n",
    "    s = list(s._rhs)\n",
    "    while cfg.can_rewrite(s[-1]):\n",
    "        for i, symbol in enumerate(s):\n",
    "            if cfg.can_rewrite(symbol):\n",
    "                del s[i]\n",
    "                x = choose_empirically(cpds[symbol])\n",
    "                d.append([x, cpds[symbol][x]])\n",
    "                x = list(x._rhs)\n",
    "                s = s[:i] + x + s[i:]\n",
    "                break\n",
    "            else:\n",
    "                pass\n",
    "    y = ' '.join(map(str, s)).replace(\"'\", \"\")\n",
    "    return d, y"
   ]
  },
  {
   "cell_type": "markdown",
   "metadata": {
    "colab_type": "text",
    "id": "rNhtNfk0QDPM"
   },
   "source": [
    "<a name=\"ex6-10\" style=\"color:red\">**Exercise 6-10**</a> **[2 points]** A correct implementation should produce strings with certain patterns.  Get a large sample from your grammar (e.g. 1000 samples) and verify the following patterns.\n",
    "\n",
    "* **[1 point]** Sentences of the kind: \"... and ...\". The terminal `and` can only be generated by `CC`, which appears in 20% of the derivations containing `NP` and 10% of the derivations containing `VP`. Since every derivation contains at least one NP and at least one VP, we expect about 30% of the strings to match this pattern.\n",
    "* **[1 point]** According to our toy grammar, every sentence has at least one verb, and we can see from the distribution over verbs that running is the most popular thing to do amongst these animals. We expect about 40% of the strings to contain `run`."
   ]
  },
  {
   "cell_type": "code",
   "execution_count": 74,
   "metadata": {
    "colab": {
     "autoexec": {
      "startup": false,
      "wait_interval": 0
     },
     "base_uri": "https://localhost:8080/",
     "height": 36,
     "output_extras": [
      {
       "item_id": 1
      }
     ]
    },
    "colab_type": "code",
    "executionInfo": {
     "elapsed": 671,
     "status": "ok",
     "timestamp": 1520951965019,
     "user": {
      "displayName": "Bram Otten",
      "photoUrl": "https://lh3.googleusercontent.com/a/default-user=s128",
      "userId": "110618989541510237728"
     },
     "user_tz": -60
    },
    "id": "FSwm5wUEykaU",
    "outputId": "6586059f-008e-4c2f-dc8c-9a0a051d208b"
   },
   "outputs": [
    {
     "name": "stdout",
     "output_type": "stream",
     "text": [
      "Ratio of 'and' should be about 0.3: 0.309\n",
      "Ratio of 'run' should be about 0.4: 0.449\n"
     ]
    }
   ],
   "source": [
    "G2, P_R = get_toy_pcfg()\n",
    "results = [generate_sample(G2, P_R) for _ in range(1000)]\n",
    "count_and = 0\n",
    "count_run = 0\n",
    "for r in results:\n",
    "    count_and += 'and' in r[1]\n",
    "    count_run += 'run' in r[1]\n",
    "print(\"Ratio of 'and' should be about 0.3:\", count_and / 1000)\n",
    "print(\"Ratio of 'run' should be about 0.4:\", count_run / 1000)"
   ]
  },
  {
   "cell_type": "markdown",
   "metadata": {
    "colab_type": "text",
    "id": "SzAQX5oLQDPO"
   },
   "source": [
    "In the rest of this this lab we will then consider the question:\n",
    "* how do estimate $P_R$ from data?\n",
    "\n",
    "Next lab we will investigate questions such as:\n",
    "* how do parse existing sentences with a CFG?\n",
    "* how do we predict a good tree?"
   ]
  },
  {
   "cell_type": "markdown",
   "metadata": {
    "colab_type": "text",
    "id": "4AUP-XkrQDPP"
   },
   "source": [
    "#  <a name=\"mle\"> MLE\n",
    "\n",
    "Now we can get a treebank from NLTK and compute maximum likelihood estimates for the various Categorical distributions.\n",
    "\n",
    "For a given rule $v \\rightarrow \\beta$, the maximum likelihood estimate is\n",
    "\\begin{equation}\n",
    "\\theta_{v \\rightarrow \\beta} = \\frac{\\text{count}_R(v \\rightarrow \\beta)}{\\sum_{\\beta'} \\text{count}_R(v \\rightarrow \\beta')} = \\frac{\\text{count}_R(v \\rightarrow \\beta)}{\\text{count}_V(v) }\n",
    "\\end{equation}\n",
    "\n",
    "\n",
    "We will work with **smoothed** lexical distributions. This means we will only smooth **preterminal** rules, that is,  rules where the LHS is a POS category and the RHS is a single terminal. \n",
    "\n",
    "For such preterminal rules the smoothed MLE solution is\n",
    "\\begin{equation}\n",
    "\\theta_{v \\rightarrow x} = \\frac{\\text{count}_R(v \\rightarrow \\beta) + \\alpha}{\\text{count}_V(v) +|\\Sigma|\\times \\alpha }\n",
    "\\end{equation}\n",
    "\n",
    "For smoothing to work we have to add an unknown word to the vocabulary of terminals of the grammar, as well as preterminals rules that map from POS categories to this unknown word. \n",
    "\n",
    "\n"
   ]
  },
  {
   "cell_type": "markdown",
   "metadata": {
    "colab_type": "text",
    "id": "UXACF_LCQDPP"
   },
   "source": [
    "Below we will use annotated data from NLTK. For that we have a few example of how to read data and we have provided code that converts from nltk internal objects to objects we have defined in this notebook."
   ]
  },
  {
   "cell_type": "code",
   "execution_count": 75,
   "metadata": {
    "colab": {
     "autoexec": {
      "startup": false,
      "wait_interval": 0
     }
    },
    "colab_type": "code",
    "id": "2s0RVYTpQDPP"
   },
   "outputs": [],
   "source": [
    "import nltk\n",
    "try:\n",
    "    treebank = nltk.corpus.treebank.parsed_sents()\n",
    "except:\n",
    "    nltk.download('treebank')\n",
    "    treebank = nltk.corpus.treebank.parsed_sents()"
   ]
  },
  {
   "cell_type": "code",
   "execution_count": 76,
   "metadata": {
    "colab": {
     "autoexec": {
      "startup": false,
      "wait_interval": 0
     },
     "output_extras": [
      {}
     ]
    },
    "colab_type": "code",
    "id": "h0PlIrABQDPR",
    "outputId": "bd7ba78c-9a83-48c4-e9d6-f5b1169ab449"
   },
   "outputs": [
    {
     "name": "stdout",
     "output_type": "stream",
     "text": [
      "3000\n"
     ]
    }
   ],
   "source": [
    "training_parses = treebank[:3000]\n",
    "print(len(training_parses))"
   ]
  },
  {
   "cell_type": "code",
   "execution_count": 77,
   "metadata": {
    "colab": {
     "autoexec": {
      "startup": false,
      "wait_interval": 0
     },
     "output_extras": [
      {}
     ]
    },
    "colab_type": "code",
    "id": "F5kPgvB-QDPS",
    "outputId": "16c278bf-8e40-4b54-e5ac-2b9d56aa7009"
   },
   "outputs": [
    {
     "data": {
      "text/plain": [
       "900"
      ]
     },
     "execution_count": 77,
     "metadata": {},
     "output_type": "execute_result"
    }
   ],
   "source": [
    "test_parses = treebank[3000:3900]\n",
    "len(test_parses)"
   ]
  },
  {
   "cell_type": "code",
   "execution_count": 78,
   "metadata": {
    "colab": {
     "autoexec": {
      "startup": false,
      "wait_interval": 0
     },
     "output_extras": [
      {}
     ]
    },
    "colab_type": "code",
    "id": "ItimVYF5QDPU",
    "outputId": "f55152ed-a88d-403c-93b7-a7b0f3559693"
   },
   "outputs": [
    {
     "data": {
      "text/plain": [
       "14"
      ]
     },
     "execution_count": 78,
     "metadata": {},
     "output_type": "execute_result"
    }
   ],
   "source": [
    "dev_parses = treebank[3900:]\n",
    "len(dev_parses)"
   ]
  },
  {
   "cell_type": "code",
   "execution_count": 79,
   "metadata": {
    "colab": {
     "autoexec": {
      "startup": false,
      "wait_interval": 0
     },
     "output_extras": [
      {},
      {},
      {}
     ]
    },
    "colab_type": "code",
    "id": "wVVOSCczQDPV",
    "outputId": "e267fa0a-ffc5-40bf-a69c-65d43d0a3b26"
   },
   "outputs": [],
   "source": [
    "# You can visualise a tree as an image\n",
    "# dev_parses[0]  # yeah but not on like all installations"
   ]
  },
  {
   "cell_type": "code",
   "execution_count": 80,
   "metadata": {
    "colab": {
     "autoexec": {
      "startup": false,
      "wait_interval": 0
     },
     "output_extras": [
      {}
     ]
    },
    "colab_type": "code",
    "id": "Pe-aBTC8QDPX",
    "outputId": "5edc9c4a-7599-4c9e-925d-23abac3f6257"
   },
   "outputs": [
    {
     "name": "stdout",
     "output_type": "stream",
     "text": [
      "(S\n",
      "  (NP-SBJ\n",
      "    (CD Two)\n",
      "    (VBG leading)\n",
      "    (NN constitutional-law)\n",
      "    (NNS experts))\n",
      "  (VP\n",
      "    (VBD said)\n",
      "    (SBAR\n",
      "      (-NONE- 0)\n",
      "      (S\n",
      "        (NP-SBJ (NNP President) (NNP Bush))\n",
      "        (VP\n",
      "          (VBZ does)\n",
      "          (RB n't)\n",
      "          (VP\n",
      "            (VB have)\n",
      "            (NP\n",
      "              (DT the)\n",
      "              (JJ legal)\n",
      "              (NN authority)\n",
      "              (S\n",
      "                (NP-SBJ (-NONE- *))\n",
      "                (VP\n",
      "                  (TO to)\n",
      "                  (VP\n",
      "                    (VB exercise)\n",
      "                    (NP (DT a) (JJ line-item) (NN veto)))))))))))\n",
      "  (. .))\n"
     ]
    }
   ],
   "source": [
    "# and you can also visualise it as a nested bracketed string\n",
    "print(dev_parses[0])"
   ]
  },
  {
   "cell_type": "markdown",
   "metadata": {
    "colab_type": "text",
    "id": "lA0hiO6mQDPZ"
   },
   "source": [
    "Below we convert from nltk CFG production object to our own Rule object"
   ]
  },
  {
   "cell_type": "code",
   "execution_count": 81,
   "metadata": {
    "colab": {
     "autoexec": {
      "startup": false,
      "wait_interval": 0
     }
    },
    "colab_type": "code",
    "id": "uWtdQWRCQDPZ"
   },
   "outputs": [],
   "source": [
    "from nltk.grammar import Nonterminal as NLTKNonterminal\n",
    "\n",
    "\n",
    "def convert_nltk_rule(nltk_rule) -> Rule:\n",
    "    \"\"\"Here we convert from nltk production object to our own Rule object\"\"\"\n",
    "    lhs = Nonterminal(str(nltk_rule.lhs()))\n",
    "    rhs = []\n",
    "    for sym in nltk_rule.rhs():\n",
    "        if isinstance(sym, NLTKNonterminal):\n",
    "            rhs.append(Nonterminal(str(sym)))\n",
    "        else:\n",
    "            rhs.append(Terminal(str(sym)))\n",
    "    return Rule(lhs, rhs)"
   ]
  },
  {
   "cell_type": "markdown",
   "metadata": {
    "colab_type": "text",
    "id": "SAok2LPJQDPa"
   },
   "source": [
    "Here we make a CFG by inspecting the rules used in a treebank"
   ]
  },
  {
   "cell_type": "code",
   "execution_count": 82,
   "metadata": {
    "colab": {
     "autoexec": {
      "startup": false,
      "wait_interval": 0
     }
    },
    "colab_type": "code",
    "id": "lkFJO0WgQDPc"
   },
   "outputs": [],
   "source": [
    "def make_cfg(parse_trees, max_arity=4, start=Nonterminal('S')):\n",
    "    \"\"\"\n",
    "    Here we make a CFG by collecting rules used to in a treebank.\n",
    "    We impose a maximum arity because some annotated rules are incredibly long!\n",
    "\n",
    "    :param parse_trees: a collection of nltk trees\n",
    "    :param max_arity: maximum arity we want for our grammar (we discard rules longer than this)\n",
    "    :param start: the nonterminal that starts derivations in this grammar\n",
    "        - Penn treebank uses S as start symbol\n",
    "    :returns: a CFG object containing all rules used in parse_trees if they are not longer than what we want\n",
    "    \"\"\"\n",
    "    cfg = CFG(start)\n",
    "    for nltk_tree in parse_trees:\n",
    "        for nltk_rule in nltk_tree.productions():\n",
    "            rule = convert_nltk_rule(nltk_rule)\n",
    "            if rule.arity <= max_arity:\n",
    "                cfg.add(rule)\n",
    "    return cfg"
   ]
  },
  {
   "cell_type": "code",
   "execution_count": 83,
   "metadata": {
    "colab": {
     "autoexec": {
      "startup": false,
      "wait_interval": 0
     }
    },
    "colab_type": "code",
    "id": "3pWGEj2WQDPe"
   },
   "outputs": [],
   "source": [
    "ptb_grammar = make_cfg(training_parses, max_arity=4)"
   ]
  },
  {
   "cell_type": "code",
   "execution_count": 84,
   "metadata": {
    "colab": {
     "autoexec": {
      "startup": false,
      "wait_interval": 0
     },
     "output_extras": [
      {}
     ]
    },
    "colab_type": "code",
    "id": "9_Tpa-CQQDPg",
    "outputId": "5b0373c7-b9f1-49a4-f580-9449a39962c3"
   },
   "outputs": [
    {
     "name": "stdout",
     "output_type": "stream",
     "text": [
      "PTB\n",
      "17537 rules\n",
      "10779 terminal\n",
      "668 nonterminal\n",
      "46 preterminals\n",
      "arity 4\n"
     ]
    }
   ],
   "source": [
    "print('PTB')\n",
    "print(len(ptb_grammar), 'rules')\n",
    "print(len(ptb_grammar.terminals), 'terminal')\n",
    "print(len(ptb_grammar.nonterminals), 'nonterminal')\n",
    "print(len(ptb_grammar.preterminals), 'preterminals')\n",
    "print('arity', ptb_grammar.arity)"
   ]
  },
  {
   "cell_type": "markdown",
   "metadata": {
    "colab_type": "text",
    "id": "xUvO0lUQQDPh"
   },
   "source": [
    "**Implementation** Now you will implement MLE for PCFGs with lexical smoothing."
   ]
  },
  {
   "cell_type": "markdown",
   "metadata": {
    "colab_type": "text",
    "id": "L-tao0f-QDPh"
   },
   "source": [
    "<a name=\"ex6-11\" style=\"color:red\">**Exercise 6-11**</a> **[4 points]** MLE for PCFGs\n",
    "\n",
    "* **[1 point]** Start by implementing `count_rules` below to gather counts from the data. Organise counts in a data structure similar to our $P_R$ in `get_toy_pcfg`, that is, a dictionary of dictionaries where the outer dict maps LHS to Rule objects, the inner dict maps from a Rule object to its count in the data.\n",
    "* **[1 point]** Implement Laplace smoothing for pre-terminal rules in `add_pseudo_counts_and_unk_rules`\n",
    "* **[1 point]** Estimate MLE parameters using the treebank `training_parses` above (first 3000 examples of NLTK's PTB data), and save your MLE solutions to a file where each line contains ```PROB LHS -> RHS```, make sure your file is sorted by LHS (lexicographically) and then by probability value (best first). Example:\n",
    "\n",
    "```\n",
    "0.6 NP -> N\n",
    "0.4 NP -> D N\n",
    "0.9 S -> NP VP\n",
    "0.1 S -> VP\n",
    "0.5 VP -> V\n",
    "0.5 VP -> VP VP\n",
    "```\n",
    "* **[1 point]** Show examples of string generated by sampling from the grammar using the function `generate_sample` you implemented earlier. \n"
   ]
  },
  {
   "cell_type": "code",
   "execution_count": 98,
   "metadata": {
    "colab": {
     "autoexec": {
      "startup": false,
      "wait_interval": 0
     }
    },
    "colab_type": "code",
    "id": "IpsQLZdfQDPi",
    "scrolled": true
   },
   "outputs": [],
   "source": [
    "import re\n",
    "\n",
    "\n",
    "def count_rules(parse_trees):\n",
    "    \"\"\"\n",
    "    Gather counts necessary for MLE.\n",
    "    :param parse_trees: a collection of nltk parse trees\n",
    "        - TIP: use the convertion function we provided\n",
    "    :returns: counts as a dictionary of dictionaries mapping from LHS to RULE to count\n",
    "    \"\"\"\n",
    "    cfg = make_cfg(parse_trees)\n",
    "    # Have to strip the -DIGIT part that apparently prevents duplicates\n",
    "    count_dict = {re.split(\"[-=][0-9]\", str(rule._lhs))[0]: {}\n",
    "                  for rule in set(cfg)}\n",
    "    for lhs in count_dict:\n",
    "        for rule in cfg:\n",
    "            if re.split(\"[-=][0-9]\", str(rule._lhs))[0] == lhs:\n",
    "                rhs = re.split(\"[-=][0-9]\", str(rule._rhs))[0]\n",
    "                if rhs not in count_dict[lhs]:\n",
    "                    count_dict[lhs][rhs] = 1\n",
    "                else:\n",
    "                    count_dict[lhs][rhs] += 1\n",
    "    return count_dict\n",
    "\n",
    "\n",
    "# joint_counts = count_rules(training_parses)\n",
    "# for x in joint_counts:\n",
    "#     print(x, joint_counts[x], \"\\n\")"
   ]
  },
  {
   "cell_type": "code",
   "execution_count": 99,
   "metadata": {},
   "outputs": [],
   "source": [
    "def add_pseudo_counts_and_unk_rules(cfg: CFG, joint_counts, alpha: float, unk_str='<unk>'):\n",
    "    \"\"\"\n",
    "    Add pseudo counts for Laplace smoothing of pre-terminal rules.\n",
    "\n",
    "    This function should update `joint_counts` with pseudo counts whenever appropriate.\n",
    "    Recall that you have to create an unk Terminal and you have to add unk rules to the grammar.    \n",
    "\n",
    "    :param cfg: CFG\n",
    "    :param joint_counts: dictionary of dictionaries from `count_rules` above where\n",
    "        joint_counts[X][r] is the count of a rule r whose LHS is X\n",
    "    :param alpha: Laplace smoothing constant\n",
    "    :param unk_str: the string for unknown terminals\n",
    "    \"\"\"\n",
    "    for lhs in joint_counts:\n",
    "        joint_counts[lhs][unk_str] = alpha\n",
    "#         for rule in set(cfg):\n",
    "#             # Not sure if, because of unk, we should not create\n",
    "#             # new keys for other terminals.\n",
    "#             if len(rule._rhs) == 1:\n",
    "#                 continue\n",
    "#             # In any case don't add self.\n",
    "#             if re.split(\"-[0-9]\", str(rule._rhs))[0] == lhs:\n",
    "#                 continue\n",
    "#             if rule._rhs not in joint_counts[lhs]:\n",
    "#                 joint_counts[lhs][rule._rhs] = alpha\n",
    "#             else:\n",
    "#                 joint_counts[lhs][rule._rhs] += alpha\n",
    "\n",
    "# TODO: check if they want every rule following every rule.\n",
    "#       But just an UNK would be that shit commented out above.\n",
    "\n",
    "\n",
    "# joint_counts = count_rules(training_parses)\n",
    "# add_pseudo_counts_and_unk_rules(ptb_grammar, joint_counts, 1.)\n",
    "# for x in joint_counts:\n",
    "#     print(x, joint_counts[x], \"\\n\")"
   ]
  },
  {
   "cell_type": "code",
   "execution_count": 100,
   "metadata": {},
   "outputs": [
    {
     "name": "stdout",
     "output_type": "stream",
     "text": [
      "[NNP] {\"('February',)\": 0.0004743833017077799, \"('Natural',)\": 0.0004743833017077799, \"('Wakui',)\": 0.0004743833017077799, \"('READY',)\": 0.0004743833017077799, \"('Marvin',)\": 0.0004743833017077799, \"('Gov.',)\": 0.0004743833017077799, \"('Walkman',)\": 0.0004743833017077799, \"('Bordeaux',)\": 0.0004743833017077799, \"('Groton',)\": 0.0004743833017077799, \"('Mayor',)\": 0.0004743833017077799, \"('Chase',)\": 0.0004743833017077799, \"('Baris',)\": 0.0004743833017077799, \"('Rust',)\": 0.0004743833017077799, \"('N.C',)\": 0.0004743833017077799, \"('Cabernet',)\": 0.0004743833017077799, \"('Morita',)\": 0.0004743833017077799, \"('Reserve',)\": 0.0004743833017077799, \"('Cole',)\": 0.0004743833017077799, \"('Farm',)\": 0.0004743833017077799, \"('Nancy',)\": 0.0004743833017077799, \"('Jr.',)\": 0.0004743833017077799, \"('Television',)\": 0.0004743833017077799, \"('Estate',)\": 0.0004743833017077799, \"('A.D.',)\": 0.0004743833017077799, \"('Elisabeth',)\": 0.0004743833017077799, \"('Claire',)\": 0.0004743833017077799, \"('AT&T',)\": 0.0004743833017077799, \"('Caribbean',)\": 0.0004743833017077799, \"('Leroy',)\": 0.0004743833017077799, \"('Scott',)\": 0.0004743833017077799, \"('Va.',)\": 0.0004743833017077799, \"('Finmeccanica',)\": 0.0004743833017077799, \"('Lt.',)\": 0.0004743833017077799, \"('Green',)\": 0.0004743833017077799, \"('Hahn',)\": 0.0004743833017077799, \"('Marie',)\": 0.0004743833017077799, \"('Sino-U.S.',)\": 0.0004743833017077799, \"('Northy',)\": 0.0004743833017077799, \"('Bumkins',)\": 0.0004743833017077799, \"('Herald',)\": 0.0004743833017077799, \"('Rick',)\": 0.0004743833017077799, \"('Linda',)\": 0.0004743833017077799, \"('Criticism',)\": 0.0004743833017077799, \"('Sasaki',)\": 0.0004743833017077799, \"('Albert',)\": 0.0004743833017077799, \"('non-U.S.',)\": 0.0004743833017077799, \"('Ricken',)\": 0.0004743833017077799, \"('Fujitsu',)\": 0.0004743833017077799, \"('Voice',)\": 0.0004743833017077799, \"('Barnum',)\": 0.0004743833017077799, \"('Bretz',)\": 0.0004743833017077799, \"('Candlestick',)\": 0.0004743833017077799, \"('Tom',)\": 0.0004743833017077799, \"('Sauvignon',)\": 0.0004743833017077799, \"('Magna',)\": 0.0004743833017077799, \"('Norwalk',)\": 0.0004743833017077799, \"('Shapiro',)\": 0.0004743833017077799, \"('Bangkok',)\": 0.0004743833017077799, \"('Nissho-Iwai',)\": 0.0004743833017077799, \"('Ketchum',)\": 0.0004743833017077799, \"('Bodner',)\": 0.0004743833017077799, \"('NEW',)\": 0.0004743833017077799, \"('Weatherly',)\": 0.0004743833017077799, \"('Perignon',)\": 0.0004743833017077799, \"('Christie',)\": 0.0004743833017077799, \"('David',)\": 0.0004743833017077799, \"('Merrick',)\": 0.0004743833017077799, \"('Klein',)\": 0.0004743833017077799, \"('Alurralde',)\": 0.0004743833017077799, \"('Jovanovich',)\": 0.0004743833017077799, \"('Merc',)\": 0.0004743833017077799, \"('Driscoll',)\": 0.0004743833017077799, \"('Edge',)\": 0.0004743833017077799, \"('Dugdale',)\": 0.0004743833017077799, \"('LTV',)\": 0.0004743833017077799, \"('Banking',)\": 0.0004743833017077799, \"('Bureau',)\": 0.0004743833017077799, \"('Si',)\": 0.0004743833017077799, \"('La.',)\": 0.0004743833017077799, \"('Publishers',)\": 0.0004743833017077799, \"('Itoh',)\": 0.0004743833017077799, \"('Rozell',)\": 0.0004743833017077799, \"('Ark',)\": 0.0004743833017077799, \"('Bridge',)\": 0.0004743833017077799, \"('Nicholas',)\": 0.0004743833017077799, \"('Belt',)\": 0.0004743833017077799, \"('Lewis',)\": 0.0004743833017077799, \"('Internal',)\": 0.0004743833017077799, \"('Rill',)\": 0.0004743833017077799, \"('POP',)\": 0.0004743833017077799, \"('Tarwhine',)\": 0.0004743833017077799, \"('W.N.',)\": 0.0004743833017077799, \"('Phipps',)\": 0.0004743833017077799, \"('Akio',)\": 0.0004743833017077799, \"('Anthony',)\": 0.0004743833017077799, \"('Rate',)\": 0.0004743833017077799, \"('Landrieu',)\": 0.0004743833017077799, \"('Dallara',)\": 0.0004743833017077799, \"('Warsaw',)\": 0.0004743833017077799, \"('O'Connor',)\": 0.0004743833017077799, \"('Michael',)\": 0.0004743833017077799, \"('Dakota',)\": 0.0004743833017077799, \"('Crash',)\": 0.0004743833017077799, \"('FreudToy',)\": 0.0004743833017077799, \"('Social',)\": 0.0004743833017077799, \"('God',)\": 0.0004743833017077799, \"('PRIME',)\": 0.0004743833017077799, \"('Foreign',)\": 0.0004743833017077799, \"('Boesel',)\": 0.0004743833017077799, \"('Anderson',)\": 0.0004743833017077799, \"('Park',)\": 0.0004743833017077799, \"('Colony',)\": 0.0004743833017077799, \"('Knapp',)\": 0.0004743833017077799, \"('Nielsen',)\": 0.0004743833017077799, \"('Portugal',)\": 0.0004743833017077799, \"('Sale',)\": 0.0004743833017077799, \"('Center',)\": 0.0004743833017077799, \"('Securities',)\": 0.0004743833017077799, \"('Elizabeth',)\": 0.0004743833017077799, \"('Cooper',)\": 0.0004743833017077799, \"('Morgan',)\": 0.0004743833017077799, \"('Orchestra',)\": 0.0004743833017077799, \"('Sheep',)\": 0.0004743833017077799, \"('Gottlieb',)\": 0.0004743833017077799, \"('Seoul',)\": 0.0004743833017077799, \"('Alvin',)\": 0.0004743833017077799, \"('Catholic',)\": 0.0004743833017077799, \"('Test',)\": 0.0004743833017077799, \"('Simon',)\": 0.0004743833017077799, \"('Inouye',)\": 0.0004743833017077799, \"('Black',)\": 0.0004743833017077799, \"('Driskill',)\": 0.0004743833017077799, \"('Beige',)\": 0.0004743833017077799, \"('Advance',)\": 0.0004743833017077799, \"('B',)\": 0.0004743833017077799, \"('Ronald',)\": 0.0004743833017077799, \"('Switzerland',)\": 0.0004743833017077799, \"('Tube',)\": 0.0004743833017077799, \"('Markey',)\": 0.0004743833017077799, \"('Champion',)\": 0.0004743833017077799, \"('Rhone',)\": 0.0004743833017077799, \"('Devon',)\": 0.0004743833017077799, \"('Calif',)\": 0.0004743833017077799, \"('Stephens',)\": 0.0004743833017077799, \"('Hearst',)\": 0.0004743833017077799, \"('Johnny',)\": 0.0004743833017077799, \"('Egnuss',)\": 0.0004743833017077799, \"('Phelan',)\": 0.0004743833017077799, \"('Dinkins',)\": 0.0004743833017077799, \"('Traficant',)\": 0.0004743833017077799, \"('Smith',)\": 0.0004743833017077799, \"('Senior',)\": 0.0004743833017077799, \"('van',)\": 0.0004743833017077799, \"('Gayle',)\": 0.0004743833017077799, \"('Hayne',)\": 0.0004743833017077799, \"('Wozniak',)\": 0.0004743833017077799, \"('County',)\": 0.0004743833017077799, \"('DeFazio',)\": 0.0004743833017077799, \"('Stuart',)\": 0.0004743833017077799, \"('Smaby',)\": 0.0004743833017077799, \"('Trading',)\": 0.0004743833017077799, \"('Grandsire',)\": 0.0004743833017077799, \"('Limited',)\": 0.0004743833017077799, \"('Maryland',)\": 0.0004743833017077799, \"('Amin',)\": 0.0004743833017077799, \"('Prof.',)\": 0.0004743833017077799, \"('Queen',)\": 0.0004743833017077799, \"('Vicar',)\": 0.0004743833017077799, \"('Richard',)\": 0.0004743833017077799, \"('Alexander',)\": 0.0004743833017077799, \"('Saturday',)\": 0.0004743833017077799, \"('Audit',)\": 0.0004743833017077799, \"('Exxon',)\": 0.0004743833017077799, \"('Colorado',)\": 0.0004743833017077799, \"('Sheffield',)\": 0.0004743833017077799, \"('Ariail',)\": 0.0004743833017077799, \"('Family',)\": 0.0004743833017077799, \"('Schlemmer',)\": 0.0004743833017077799, \"('Ltd',)\": 0.0004743833017077799, \"('Separately',)\": 0.0004743833017077799, \"('School',)\": 0.0004743833017077799, \"('Cathryn',)\": 0.0004743833017077799, \"('Harper',)\": 0.0004743833017077799, \"('Century',)\": 0.0004743833017077799, \"('Stephen',)\": 0.0004743833017077799, \"('Italy',)\": 0.0004743833017077799, \"('Eaton',)\": 0.0004743833017077799, \"('Floyd',)\": 0.0004743833017077799, \"('Lights',)\": 0.0004743833017077799, \"('Dean',)\": 0.0004743833017077799, \"('Pencil',)\": 0.0004743833017077799, \"('Account',)\": 0.0004743833017077799, \"('PhacoFlex',)\": 0.0004743833017077799, \"('Freddie',)\": 0.0004743833017077799, \"('McGuigan',)\": 0.0004743833017077799, \"('Motor',)\": 0.0004743833017077799, \"('M.',)\": 0.0004743833017077799, \"('Arabia',)\": 0.0004743833017077799, \"('Wall',)\": 0.0004743833017077799, \"('Kathryn',)\": 0.0004743833017077799, \"('Massachusetts',)\": 0.0004743833017077799, \"('Computer',)\": 0.0004743833017077799, \"('Wash.',)\": 0.0004743833017077799, \"('Lazzaroni',)\": 0.0004743833017077799, \"('Commission',)\": 0.0004743833017077799, \"('Francisco',)\": 0.0004743833017077799, \"('Minneapolis',)\": 0.0004743833017077799, \"('Cellar',)\": 0.0004743833017077799, \"('Food',)\": 0.0004743833017077799, \"('Prize',)\": 0.0004743833017077799, \"('Housing',)\": 0.0004743833017077799, \"('Stanley',)\": 0.0004743833017077799, \"('PTA',)\": 0.0004743833017077799, \"('Andrea',)\": 0.0004743833017077799, \"('Gotta',)\": 0.0004743833017077799, \"('Rey',)\": 0.0004743833017077799, \"('Tribune',)\": 0.0004743833017077799, \"('Random',)\": 0.0004743833017077799, \"('Japanese',)\": 0.0004743833017077799, \"('Gringo',)\": 0.0004743833017077799, \"('Greece',)\": 0.0004743833017077799, \"('Diaper',)\": 0.0004743833017077799, \"('Entertainment',)\": 0.0004743833017077799, \"('Zicklin',)\": 0.0004743833017077799, \"('Reames',)\": 0.0004743833017077799, \"('USX',)\": 0.0004743833017077799, \"('SHAREDATA',)\": 0.0004743833017077799, \"('Pepperdine',)\": 0.0004743833017077799, \"('Schweiz',)\": 0.0004743833017077799, \"('Olympia',)\": 0.0004743833017077799, \"('Moleculon',)\": 0.0004743833017077799, \"('Giraud',)\": 0.0004743833017077799, \"('O.',)\": 0.0004743833017077799, \"('Greenwich',)\": 0.0004743833017077799, \"('Rockefeller',)\": 0.0004743833017077799, \"('Isabelle',)\": 0.0004743833017077799, \"('Rubicam',)\": 0.0004743833017077799, \"('Arthur',)\": 0.0004743833017077799, \"('Long',)\": 0.0004743833017077799, \"('Derek',)\": 0.0004743833017077799, \"('Lorenzo',)\": 0.0004743833017077799, \"('Visa',)\": 0.0004743833017077799, \"('Sun',)\": 0.0004743833017077799, \"('William',)\": 0.0004743833017077799, \"('Affairs',)\": 0.0004743833017077799, \"('Luce',)\": 0.0004743833017077799, \"('Purchasing',)\": 0.0004743833017077799, \"('Viacom',)\": 0.0004743833017077799, \"('Vinken',)\": 0.0004743833017077799, \"('Mr.',)\": 0.0004743833017077799, \"('TRUST',)\": 0.0004743833017077799, \"('World-Wide',)\": 0.0004743833017077799, \"('Traverse',)\": 0.0004743833017077799, \"('Section',)\": 0.0004743833017077799, \"('Old-House',)\": 0.0004743833017077799, \"('Lowe',)\": 0.0004743833017077799, \"('NIH',)\": 0.0004743833017077799, \"('O'Loughlin',)\": 0.0004743833017077799, \"('Premier',)\": 0.0004743833017077799, \"('Coca-Cola',)\": 0.0004743833017077799, \"('Tuesday',)\": 0.0004743833017077799, \"('April',)\": 0.0004743833017077799, \"('Tatsunori',)\": 0.0004743833017077799, \"('II',)\": 0.0004743833017077799, \"('Eric',)\": 0.0004743833017077799, \"('Victor',)\": 0.0004743833017077799, \"('Post',)\": 0.0004743833017077799, \"('Marion',)\": 0.0004743833017077799, \"('GHS',)\": 0.0004743833017077799, \"('Stephanie',)\": 0.0004743833017077799, \"('Wu',)\": 0.0004743833017077799, \"('Scypher',)\": 0.0004743833017077799, \"('Industrial',)\": 0.0004743833017077799, \"('Mae',)\": 0.0004743833017077799, \"('Poland',)\": 0.0004743833017077799, \"('Acquisition',)\": 0.0004743833017077799, \"('Bell',)\": 0.0004743833017077799, \"('Fairless',)\": 0.0004743833017077799, \"('Louisville',)\": 0.0004743833017077799, \"('Hill',)\": 0.0004743833017077799, \"('Cheetham',)\": 0.0004743833017077799, \"('Nekoosa',)\": 0.0004743833017077799, \"('Edison',)\": 0.0004743833017077799, \"('Jihad',)\": 0.0004743833017077799, \"('Tuscany',)\": 0.0004743833017077799, \"('CBS',)\": 0.0004743833017077799, \"('Corp',)\": 0.0004743833017077799, \"('Plan',)\": 0.0004743833017077799, \"('Impediments',)\": 0.0004743833017077799, \"('Sandra',)\": 0.0004743833017077799, \"('Coors',)\": 0.0004743833017077799, \"('Babcock',)\": 0.0004743833017077799, \"('Lake',)\": 0.0004743833017077799, \"('Garanti',)\": 0.0004743833017077799, \"('Circle',)\": 0.0004743833017077799, \"('Glendale',)\": 0.0004743833017077799, \"('Soup',)\": 0.0004743833017077799, \"('Francis',)\": 0.0004743833017077799, \"('Hubbard',)\": 0.0004743833017077799, \"('Detroit',)\": 0.0004743833017077799, \"('Richebourg',)\": 0.0004743833017077799, \"('WFRR',)\": 0.0004743833017077799, \"('Economy',)\": 0.0004743833017077799, \"('Energy',)\": 0.0004743833017077799, \"('Keith',)\": 0.0004743833017077799, \"('President',)\": 0.0004743833017077799, \"('Ed',)\": 0.0004743833017077799, \"('Ramirez',)\": 0.0004743833017077799, \"('Cru',)\": 0.0004743833017077799, \"('Hammerschmidt',)\": 0.0004743833017077799, \"('Banks',)\": 0.0004743833017077799, \"('Wilder',)\": 0.0004743833017077799, \"('Vitulli',)\": 0.0004743833017077799, \"('Beatles',)\": 0.0004743833017077799, \"('Midwestern',)\": 0.0004743833017077799, \"('Stena',)\": 0.0004743833017077799, \"('Elco',)\": 0.0004743833017077799, \"('Yeargin',)\": 0.0004743833017077799, \"('December',)\": 0.0004743833017077799, \"('Thomas',)\": 0.0004743833017077799, \"('Mexico',)\": 0.0004743833017077799, \"('Temple',)\": 0.0004743833017077799, \"('Joanne',)\": 0.0004743833017077799, \"('Sugarman',)\": 0.0004743833017077799, \"('Beverly',)\": 0.0004743833017077799, \"('Whiting',)\": 0.0004743833017077799, \"('Gillespie',)\": 0.0004743833017077799, \"('Life',)\": 0.0004743833017077799, \"('In',)\": 0.0004743833017077799, \"('Kawasaki',)\": 0.0004743833017077799, \"('Carballo',)\": 0.0004743833017077799, \"('Secilia',)\": 0.0004743833017077799, \"('National',)\": 0.0004743833017077799, \"('Opus',)\": 0.0004743833017077799, \"('International',)\": 0.0004743833017077799, \"('Sony',)\": 0.0004743833017077799, \"('Koito',)\": 0.0004743833017077799, \"('Wells',)\": 0.0004743833017077799, \"('FERC',)\": 0.0004743833017077799, \"('Jr',)\": 0.0004743833017077799, \"('Force',)\": 0.0004743833017077799, \"('Tailors',)\": 0.0004743833017077799, \"('Practical',)\": 0.0004743833017077799, \"('Scotia',)\": 0.0004743833017077799, \"('Combo',)\": 0.0004743833017077799, \"('Australia',)\": 0.0004743833017077799, \"('Rogers',)\": 0.0004743833017077799, \"('High',)\": 0.0004743833017077799, \"('HOME',)\": 0.0004743833017077799, \"('Research',)\": 0.0004743833017077799, \"('Cancer',)\": 0.0004743833017077799, \"('Liberation',)\": 0.0004743833017077799, \"('AIDS',)\": 0.0004743833017077799, \"('July',)\": 0.0004743833017077799, \"('Britta',)\": 0.0004743833017077799, \"('Woodrow',)\": 0.0004743833017077799, \"('Weisfield',)\": 0.0004743833017077799, \"('YMCA',)\": 0.0004743833017077799, \"('Atlanta',)\": 0.0004743833017077799, \"('Boston',)\": 0.0004743833017077799, \"('Agency',)\": 0.0004743833017077799, \"('November',)\": 0.0004743833017077799, \"('Adams',)\": 0.0004743833017077799, \"('Corporate',)\": 0.0004743833017077799, \"('Solaia',)\": 0.0004743833017077799, \"('Act',)\": 0.0004743833017077799, \"('Currently',)\": 0.0004743833017077799, \"('Nagymaros',)\": 0.0004743833017077799, \"('Story',)\": 0.0004743833017077799, \"('Stewart',)\": 0.0004743833017077799, \"('Perritt',)\": 0.0004743833017077799, \"('Planters',)\": 0.0004743833017077799, \"('Scannell',)\": 0.0004743833017077799, \"('Houghton',)\": 0.0004743833017077799, \"('Hammacher',)\": 0.0004743833017077799, \"('Lynch',)\": 0.0004743833017077799, \"('Homeless',)\": 0.0004743833017077799, \"('South',)\": 0.0004743833017077799, \"('Taipei',)\": 0.0004743833017077799, \"('Mary',)\": 0.0004743833017077799, \"('VOA',)\": 0.0004743833017077799, \"('Electronics',)\": 0.0004743833017077799, \"('Wilcox',)\": 0.0004743833017077799, \"('Federation',)\": 0.0004743833017077799, \"('James',)\": 0.0004743833017077799, \"('American',)\": 0.0004743833017077799, \"('Kingdom',)\": 0.0004743833017077799, \"('Brown',)\": 0.0004743833017077799, \"('Parliament',)\": 0.0004743833017077799, \"('R',)\": 0.0004743833017077799, \"('European',)\": 0.0004743833017077799, \"('Consent',)\": 0.0004743833017077799, \"('Price',)\": 0.0004743833017077799, \"('Heidelberg',)\": 0.0004743833017077799, \"('Biondi-Santi',)\": 0.0004743833017077799, \"('Dolan',)\": 0.0004743833017077799, \"('Division',)\": 0.0004743833017077799, \"('NESB',)\": 0.0004743833017077799, \"('NL',)\": 0.0004743833017077799, \"('Porter',)\": 0.0004743833017077799, \"('Superdome',)\": 0.0004743833017077799, \"('Salvador',)\": 0.0004743833017077799, \"('Nobel',)\": 0.0004743833017077799, \"('Kent',)\": 0.0004743833017077799, \"('EC',)\": 0.0004743833017077799, \"('Centerbank',)\": 0.0004743833017077799, \"('Machines',)\": 0.0004743833017077799, \"('Coxon',)\": 0.0004743833017077799, \"('Herrington',)\": 0.0004743833017077799, \"('Dick',)\": 0.0004743833017077799, \"('Caldor',)\": 0.0004743833017077799, \"('Loan',)\": 0.0004743833017077799, \"('Georgia',)\": 0.0004743833017077799, \"('Farren',)\": 0.0004743833017077799, \"('Arizona',)\": 0.0004743833017077799, \"('Week',)\": 0.0004743833017077799, \"('LIBOR',)\": 0.0004743833017077799, \"('Oklahoma',)\": 0.0004743833017077799, \"('Connecticut',)\": 0.0004743833017077799, \"('Danube',)\": 0.0004743833017077799, \"('Home',)\": 0.0004743833017077799, \"('Tulane',)\": 0.0004743833017077799, \"('Factory',)\": 0.0004743833017077799, \"('Nagano',)\": 0.0004743833017077799, \"('Initiative',)\": 0.0004743833017077799, \"('Boorse',)\": 0.0004743833017077799, \"('Homebrew',)\": 0.0004743833017077799, \"('Whip',)\": 0.0004743833017077799, \"('Pardus',)\": 0.0004743833017077799, \"('Townes',)\": 0.0004743833017077799, \"('Kalipharma',)\": 0.0004743833017077799, \"('Alstyne',)\": 0.0004743833017077799, \"('Chabrol',)\": 0.0004743833017077799, \"('PRODUCTS',)\": 0.0004743833017077799, \"('Management',)\": 0.0004743833017077799, \"('GOP',)\": 0.0004743833017077799, \"('Philippine',)\": 0.0004743833017077799, \"('Morrell',)\": 0.0004743833017077799, \"('Donald',)\": 0.0004743833017077799, \"('Deere',)\": 0.0004743833017077799, \"('Reagan',)\": 0.0004743833017077799, \"('Florida',)\": 0.0004743833017077799, \"('Rita',)\": 0.0004743833017077799, \"('Australian',)\": 0.0004743833017077799, \"('Citizen',)\": 0.0004743833017077799, \"('DyDee',)\": 0.0004743833017077799, \"('E.C.',)\": 0.0004743833017077799, \"('NRDC',)\": 0.0004743833017077799, \"('Rockwell',)\": 0.0004743833017077799, \"('Fargo',)\": 0.0004743833017077799, \"('Kensington',)\": 0.0004743833017077799, \"('Phi',)\": 0.0004743833017077799, \"('Korea',)\": 0.0004743833017077799, \"('Baltimore',)\": 0.0004743833017077799, \"('Yamaichi',)\": 0.0004743833017077799, \"('Cosmopolitan',)\": 0.0004743833017077799, \"('Pat',)\": 0.0004743833017077799, \"('Salty',)\": 0.0004743833017077799, \"('Mather',)\": 0.0004743833017077799, \"('Keehn',)\": 0.0004743833017077799, \"('Holdings',)\": 0.0004743833017077799, \"('Virginia',)\": 0.0004743833017077799, \"('LANDOR',)\": 0.0004743833017077799, \"('Heatherington',)\": 0.0004743833017077799, \"('F.H.',)\": 0.0004743833017077799, \"('British',)\": 0.0004743833017077799, \"('Ad',)\": 0.0004743833017077799, \"('Sloan',)\": 0.0004743833017077799, \"('Bankruptcy',)\": 0.0004743833017077799, \"('Chuck',)\": 0.0004743833017077799, \"('Dan',)\": 0.0004743833017077799, \"('Napolitan',)\": 0.0004743833017077799, \"('Gerhard',)\": 0.0004743833017077799, \"('Indonesia',)\": 0.0004743833017077799, \"('China',)\": 0.0004743833017077799, \"('Bridgeville',)\": 0.0004743833017077799, \"('Angelo',)\": 0.0004743833017077799, \"('VanSant',)\": 0.0004743833017077799, \"('Sulaiman',)\": 0.0004743833017077799, \"('Institute',)\": 0.0004743833017077799, \"('Radio',)\": 0.0004743833017077799, \"('Child',)\": 0.0004743833017077799, \"('R.D.',)\": 0.0004743833017077799, \"('Trust',)\": 0.0004743833017077799, \"('Hungary',)\": 0.0004743833017077799, \"('Blackstone',)\": 0.0004743833017077799, \"('Newhouse',)\": 0.0004743833017077799, \"('Little',)\": 0.0004743833017077799, \"('Strother',)\": 0.0004743833017077799, \"('Daiwa',)\": 0.0004743833017077799, \"('Common',)\": 0.0004743833017077799, \"('Venture',)\": 0.0004743833017077799, \"('Glenn',)\": 0.0004743833017077799, \"('Kuhns',)\": 0.0004743833017077799, \"('Preston',)\": 0.0004743833017077799, \"('Stearn',)\": 0.0004743833017077799, \"('Malizia',)\": 0.0004743833017077799, \"('Delwin',)\": 0.0004743833017077799, \"('Sprint',)\": 0.0004743833017077799, \"('College',)\": 0.0004743833017077799, \"('Ministry',)\": 0.0004743833017077799, \"('News-American',)\": 0.0004743833017077799, \"('Law',)\": 0.0004743833017077799, \"('Svenska',)\": 0.0004743833017077799, \"('Palestinian',)\": 0.0004743833017077799, \"('Silverman',)\": 0.0004743833017077799, \"('Air',)\": 0.0004743833017077799, \"('Groucho',)\": 0.0004743833017077799, \"('York-based',)\": 0.0004743833017077799, \"('Community',)\": 0.0004743833017077799, \"('Hayes',)\": 0.0004743833017077799, \"('Big',)\": 0.0004743833017077799, \"('Jacob',)\": 0.0004743833017077799, \"('Jenkins',)\": 0.0004743833017077799, \"('Kentucky',)\": 0.0004743833017077799, \"('Gaja',)\": 0.0004743833017077799, \"('Spoon',)\": 0.0004743833017077799, \"('Health',)\": 0.0004743833017077799, \"('Diamond',)\": 0.0004743833017077799, \"('Abbot',)\": 0.0004743833017077799, \"('Furukawa',)\": 0.0004743833017077799, \"('Yasser',)\": 0.0004743833017077799, \"('Nasdaq',)\": 0.0004743833017077799, \"('Rabia',)\": 0.0004743833017077799, \"('Service',)\": 0.0004743833017077799, \"('Unico',)\": 0.0004743833017077799, \"('Baton',)\": 0.0004743833017077799, \"('Transportation',)\": 0.0004743833017077799, \"('Examiner',)\": 0.0004743833017077799, \"('Old',)\": 0.0004743833017077799, \"('Martin',)\": 0.0004743833017077799, \"('Conduct',)\": 0.0004743833017077799, \"('Insurance',)\": 0.0004743833017077799, \"('Boeing',)\": 0.0004743833017077799, \"('Yquem',)\": 0.0004743833017077799, \"('March',)\": 0.0004743833017077799, \"('Logic',)\": 0.0004743833017077799, \"('Wednesday',)\": 0.0004743833017077799, \"('Lloyd',)\": 0.0004743833017077799, \"('Industry',)\": 0.0004743833017077799, \"('Memphis',)\": 0.0004743833017077799, \"('Default',)\": 0.0004743833017077799, \"('Macmillan\\\\/McGraw',)\": 0.0004743833017077799, \"('Florio',)\": 0.0004743833017077799, \"('Greenville',)\": 0.0004743833017077799, \"('Somerset',)\": 0.0004743833017077799, \"('Tokio',)\": 0.0004743833017077799, \"('Fernando',)\": 0.0004743833017077799, \"('Woodcliff',)\": 0.0004743833017077799, \"('Team',)\": 0.0004743833017077799, \"('Jack',)\": 0.0004743833017077799, \"('Agnew',)\": 0.0004743833017077799, \"('Canada',)\": 0.0004743833017077799, \"('Doerflinger',)\": 0.0004743833017077799, \"('Anti-Deficiency',)\": 0.0004743833017077799, \"('Lauderhill',)\": 0.0004743833017077799, \"('WTD',)\": 0.0004743833017077799, \"('Elliott',)\": 0.0004743833017077799, \"('Susan',)\": 0.0004743833017077799, \"('Vermont',)\": 0.0004743833017077799, \"('Gates-Warren',)\": 0.0004743833017077799, \"('Kaminski',)\": 0.0004743833017077799, \"('Ala.',)\": 0.0004743833017077799, \"('Saitama',)\": 0.0004743833017077799, \"('Beta',)\": 0.0004743833017077799, \"('Grange',)\": 0.0004743833017077799, \"('Hallett',)\": 0.0004743833017077799, \"('Jaguar',)\": 0.0004743833017077799, \"('Learning',)\": 0.0004743833017077799, \"('U.S.A.',)\": 0.0004743833017077799, \"('Brent',)\": 0.0004743833017077799, \"('Brenda',)\": 0.0004743833017077799, \"('ROGERS',)\": 0.0004743833017077799, \"('Berger',)\": 0.0004743833017077799, \"('Merrill',)\": 0.0004743833017077799, \"('Graham',)\": 0.0004743833017077799, \"('Carolina',)\": 0.0004743833017077799, \"('Sea',)\": 0.0004743833017077799, \"('Comtes',)\": 0.0004743833017077799, \"('Goldinger',)\": 0.0004743833017077799, \"('P.',)\": 0.0004743833017077799, \"('Hallwood',)\": 0.0004743833017077799, \"('Dynamics',)\": 0.0004743833017077799, \"('SDI',)\": 0.0004743833017077799, \"('Hara',)\": 0.0004743833017077799, \"('Program',)\": 0.0004743833017077799, \"('Brunello',)\": 0.0004743833017077799, \"('Warner',)\": 0.0004743833017077799, \"('Mulford',)\": 0.0004743833017077799, \"('Credit',)\": 0.0004743833017077799, \"('PaineWebber',)\": 0.0004743833017077799, \"('Integra-A',)\": 0.0004743833017077799, \"('N.H.',)\": 0.0004743833017077799, \"('Operations',)\": 0.0004743833017077799, \"('Hans',)\": 0.0004743833017077799, \"('Secretary',)\": 0.0004743833017077799, \"('Barclays',)\": 0.0004743833017077799, \"('Earlham',)\": 0.0004743833017077799, \"('Foods',)\": 0.0004743833017077799, \"('Orange',)\": 0.0004743833017077799, \"('Advice',)\": 0.0004743833017077799, \"('Soho',)\": 0.0004743833017077799, \"('Larry',)\": 0.0004743833017077799, \"('Seattle',)\": 0.0004743833017077799, \"('Norwick',)\": 0.0004743833017077799, \"('C.',)\": 0.0004743833017077799, \"('Cutrer',)\": 0.0004743833017077799, \"('Raul',)\": 0.0004743833017077799, \"('Capitol',)\": 0.0004743833017077799, \"('Garbage',)\": 0.0004743833017077799, \"('Local',)\": 0.0004743833017077799, \"('OTC',)\": 0.0004743833017077799, \"('Apple',)\": 0.0004743833017077799, \"('Lilly',)\": 0.0004743833017077799, \"('Rice',)\": 0.0004743833017077799, \"('Clairton',)\": 0.0004743833017077799, \"('Landor',)\": 0.0004743833017077799, \"('Langner',)\": 0.0004743833017077799, \"('Wohlstetter',)\": 0.0004743833017077799, \"('Buckhead',)\": 0.0004743833017077799, \"('Drug',)\": 0.0004743833017077799, \"('Dr.',)\": 0.0004743833017077799, \"('Mass',)\": 0.0004743833017077799, \"('Burt',)\": 0.0004743833017077799, \"('Bramalea',)\": 0.0004743833017077799, \"('T.',)\": 0.0004743833017077799, \"('N.Y.',)\": 0.0004743833017077799, \"('Greer',)\": 0.0004743833017077799, \"('Maine',)\": 0.0004743833017077799, \"('Chevrolet',)\": 0.0004743833017077799, \"('Wick',)\": 0.0004743833017077799, \"('Roosevelt',)\": 0.0004743833017077799, \"('Spain',)\": 0.0004743833017077799, \"('Overseas',)\": 0.0004743833017077799, \"('Federalist',)\": 0.0004743833017077799, \"('Noble',)\": 0.0004743833017077799, \"('Average',)\": 0.0004743833017077799, \"('Stark',)\": 0.0004743833017077799, \"('Friday',)\": 0.0004743833017077799, \"('Professional',)\": 0.0004743833017077799, \"('Nemeth',)\": 0.0004743833017077799, \"('Piscataway',)\": 0.0004743833017077799, \"('Petroleum',)\": 0.0004743833017077799, \"('London',)\": 0.0004743833017077799, \"('Dell',)\": 0.0004743833017077799, \"('Purchase',)\": 0.0004743833017077799, \"('Chiodo',)\": 0.0004743833017077799, \"('Chilver',)\": 0.0004743833017077799, \"('Siti',)\": 0.0004743833017077799, \"('Shearson',)\": 0.0004743833017077799, \"('Association',)\": 0.0004743833017077799, \"('Sayers',)\": 0.0004743833017077799, \"('Controls',)\": 0.0004743833017077799, \"('Nesconset',)\": 0.0004743833017077799, \"('Antinori',)\": 0.0004743833017077799, \"('Bailey',)\": 0.0004743833017077799, \"('Brady',)\": 0.0004743833017077799, \"('Northeast',)\": 0.0004743833017077799, \"('Simmons',)\": 0.0004743833017077799, \"('Basham',)\": 0.0004743833017077799, \"('Griffin',)\": 0.0004743833017077799, \"('Neuberger',)\": 0.0004743833017077799, \"('Arafat',)\": 0.0004743833017077799, \"('Bernstein',)\": 0.0004743833017077799, \"('Daniels',)\": 0.0004743833017077799, \"('Sir',)\": 0.0004743833017077799, \"('Landonne',)\": 0.0004743833017077799, \"('Jacksonville',)\": 0.0004743833017077799, \"('Lord',)\": 0.0004743833017077799, \"('Baldwin',)\": 0.0004743833017077799, \"('Palisades',)\": 0.0004743833017077799, \"('FT-SE',)\": 0.0004743833017077799, \"('Brooklyn',)\": 0.0004743833017077799, \"('Peck',)\": 0.0004743833017077799, \"('Treble',)\": 0.0004743833017077799, \"('Court',)\": 0.0004743833017077799, \"('IRS',)\": 0.0004743833017077799, \"('Allen',)\": 0.0004743833017077799, \"('Oliver',)\": 0.0004743833017077799, \"('Retin-A',)\": 0.0004743833017077799, \"('Gorbachev',)\": 0.0004743833017077799, \"('Hutton',)\": 0.0004743833017077799, \"('F.W.',)\": 0.0004743833017077799, \"('FAX',)\": 0.0004743833017077799, \"('Petrus',)\": 0.0004743833017077799, \"('CTBS',)\": 0.0004743833017077799, \"('Defense',)\": 0.0004743833017077799, \"('Partners',)\": 0.0004743833017077799, \"('Furillo',)\": 0.0004743833017077799, \"('Germany',)\": 0.0004743833017077799, \"('Futures',)\": 0.0004743833017077799, \"('Grgich',)\": 0.0004743833017077799, \"('Erbamont',)\": 0.0004743833017077799, \"('Hong',)\": 0.0004743833017077799, \"('Justice',)\": 0.0004743833017077799, \"('MERRILL',)\": 0.0004743833017077799, \"('Beth',)\": 0.0004743833017077799, \"('Joe',)\": 0.0004743833017077799, \"('Southeast',)\": 0.0004743833017077799, \"('Andrew',)\": 0.0004743833017077799, \"('Dollar',)\": 0.0004743833017077799, \"('Traded',)\": 0.0004743833017077799, \"('Kearny',)\": 0.0004743833017077799, \"('Ms.',)\": 0.0004743833017077799, \"('Dole',)\": 0.0004743833017077799, \"('GOODY',)\": 0.0004743833017077799, \"('Huntsville',)\": 0.0004743833017077799, \"('Corazon',)\": 0.0004743833017077799, \"('Scoring',)\": 0.0004743833017077799, \"('Systems',)\": 0.0004743833017077799, \"('Burnham',)\": 0.0004743833017077799, \"('Rey\\\\/Fawcett',)\": 0.0004743833017077799, \"('Cristal',)\": 0.0004743833017077799, \"('Stadium',)\": 0.0004743833017077799, \"('Illuminating',)\": 0.0004743833017077799, \"('Norman',)\": 0.0004743833017077799, \"('Darrell',)\": 0.0004743833017077799, \"('Asia',)\": 0.0004743833017077799, \"('Anku',)\": 0.0004743833017077799, \"('Salmore',)\": 0.0004743833017077799, \"('Ana',)\": 0.0004743833017077799, \"('Guigal',)\": 0.0004743833017077799, \"('Vargas',)\": 0.0004743833017077799, \"('Raymond',)\": 0.0004743833017077799, \"('Orville',)\": 0.0004743833017077799, \"('Senate',)\": 0.0004743833017077799, \"('Mogavero',)\": 0.0004743833017077799, \"('Ky.',)\": 0.0004743833017077799, \"('Braidwood',)\": 0.0004743833017077799, \"('Explorer',)\": 0.0004743833017077799, \"('Chandler',)\": 0.0004743833017077799, \"('Environmental',)\": 0.0004743833017077799, \"('Chong-sik',)\": 0.0004743833017077799, \"('Public',)\": 0.0004743833017077799, \"('Poore',)\": 0.0004743833017077799, \"('Colonsville',)\": 0.0004743833017077799, \"('Cote',)\": 0.0004743833017077799, \"('Financial',)\": 0.0004743833017077799, \"('Foster',)\": 0.0004743833017077799, \"('India',)\": 0.0004743833017077799, \"('Spence',)\": 0.0004743833017077799, \"('Norwegian',)\": 0.0004743833017077799, \"('Bentsen',)\": 0.0004743833017077799, \"('Persky',)\": 0.0004743833017077799, \"('Osaka',)\": 0.0004743833017077799, \"('U.K.',)\": 0.0004743833017077799, \"('Macmillan',)\": 0.0004743833017077799, \"('Borge',)\": 0.0004743833017077799, \"('Montedison',)\": 0.0004743833017077799, \"('Plantation',)\": 0.0004743833017077799, \"('Mahoney',)\": 0.0004743833017077799, \"('Palestine',)\": 0.0004743833017077799, \"('Milne',)\": 0.0004743833017077799, \"('Jenrette',)\": 0.0004743833017077799, \"('Giant',)\": 0.0004743833017077799, \"('Wright',)\": 0.0004743833017077799, \"('Lumpur',)\": 0.0004743833017077799, \"('Avenue',)\": 0.0004743833017077799, \"('Charlie',)\": 0.0004743833017077799, \"('Genie',)\": 0.0004743833017077799, \"('Tire',)\": 0.0004743833017077799, \"('Interpublic',)\": 0.0004743833017077799, \"('Lafite-Rothschild',)\": 0.0004743833017077799, \"('Standard',)\": 0.0004743833017077799, \"('Houston',)\": 0.0004743833017077799, \"('Fuji',)\": 0.0004743833017077799, \"('Z.',)\": 0.0004743833017077799, \"('Sidewalk',)\": 0.0004743833017077799, \"('Veraldi',)\": 0.0004743833017077799, \"('Evans',)\": 0.0004743833017077799, \"('Skokie',)\": 0.0004743833017077799, \"('Grand',)\": 0.0004743833017077799, \"('NATIONAL',)\": 0.0004743833017077799, \"('Tassinari',)\": 0.0004743833017077799, \"('Allergan',)\": 0.0004743833017077799, \"('W.D.',)\": 0.0004743833017077799, \"('Jefferson',)\": 0.0004743833017077799, \"('Kenneth',)\": 0.0004743833017077799, \"('Terrence',)\": 0.0004743833017077799, \"('West',)\": 0.0004743833017077799, \"('Indianapolis',)\": 0.0004743833017077799, \"('Hatch',)\": 0.0004743833017077799, \"('Mayer',)\": 0.0004743833017077799, \"('Mutchin',)\": 0.0004743833017077799, \"('INS',)\": 0.0004743833017077799, \"('Cleveland',)\": 0.0004743833017077799, \"('Goldman',)\": 0.0004743833017077799, \"('Broadcasting',)\": 0.0004743833017077799, \"('Stories',)\": 0.0004743833017077799, \"('Judie',)\": 0.0004743833017077799, \"('Polytechnic',)\": 0.0004743833017077799, \"('Messrs.',)\": 0.0004743833017077799, \"('Deryck',)\": 0.0004743833017077799, \"('Shuxian',)\": 0.0004743833017077799, \"('George',)\": 0.0004743833017077799, \"('Mercantile',)\": 0.0004743833017077799, \"('Bronx',)\": 0.0004743833017077799, \"('Medicine',)\": 0.0004743833017077799, \"('Bowes',)\": 0.0004743833017077799, \"('Aug.',)\": 0.0004743833017077799, \"('Corrigan',)\": 0.0004743833017077799, \"('Embassy',)\": 0.0004743833017077799, \"('FEDERAL',)\": 0.0004743833017077799, \"('Adolph',)\": 0.0004743833017077799, \"('S.p',)\": 0.0004743833017077799, \"('Macheski',)\": 0.0004743833017077799, \"('J.P.',)\": 0.0004743833017077799, \"('Einhorn',)\": 0.0004743833017077799, \"('Fishman',)\": 0.0004743833017077799, \"('Killeen',)\": 0.0004743833017077799, \"('Baker',)\": 0.0004743833017077799, \"('Camille',)\": 0.0004743833017077799, \"('Providence',)\": 0.0004743833017077799, \"('Circulation',)\": 0.0004743833017077799, \"('Market',)\": 0.0004743833017077799, \"('Walbrecher',)\": 0.0004743833017077799, \"('Los',)\": 0.0004743833017077799, \"('Ann',)\": 0.0004743833017077799, \"('YWCA',)\": 0.0004743833017077799, \"('Carla',)\": 0.0004743833017077799, \"('Kansas',)\": 0.0004743833017077799, \"('Tache',)\": 0.0004743833017077799, \"('Dana-Farber',)\": 0.0004743833017077799, \"('Jay',)\": 0.0004743833017077799, \"('Pictures',)\": 0.0004743833017077799, \"('Vanderbilt',)\": 0.0004743833017077799, \"('House',)\": 0.0004743833017077799, \"('Domaine',)\": 0.0004743833017077799, \"('Richmond',)\": 0.0004743833017077799, \"('NBI',)\": 0.0004743833017077799, \"('SAT',)\": 0.0004743833017077799, \"('Fire',)\": 0.0004743833017077799, \"('Waste',)\": 0.0004743833017077799, \"('Glass',)\": 0.0004743833017077799, \"('FTC',)\": 0.0004743833017077799, \"('Rail',)\": 0.0004743833017077799, \"('Nov.',)\": 0.0004743833017077799, \"('Stork',)\": 0.0004743833017077799, \"('Impact',)\": 0.0004743833017077799, \"('MORTGAGE',)\": 0.0004743833017077799, \"('Heavy',)\": 0.0004743833017077799, \"('Commerce',)\": 0.0004743833017077799, \"('Britain',)\": 0.0004743833017077799, \"('Meinders',)\": 0.0004743833017077799, \"('Rep.',)\": 0.0004743833017077799, \"('Telegraph',)\": 0.0004743833017077799, \"('Dai-Ichi',)\": 0.0004743833017077799, \"('Lobo',)\": 0.0004743833017077799, \"('Stag',)\": 0.0004743833017077799, \"('Darkhorse',)\": 0.0004743833017077799, \"('Banque',)\": 0.0004743833017077799, \"('Desai',)\": 0.0004743833017077799, \"('Mass.',)\": 0.0004743833017077799, \"('Mercer',)\": 0.0004743833017077799, \"('Barth',)\": 0.0004743833017077799, \"('Video',)\": 0.0004743833017077799, \"('Gingl',)\": 0.0004743833017077799, \"('People',)\": 0.0004743833017077799, \"('Saudi',)\": 0.0004743833017077799, \"('A',)\": 0.0004743833017077799, \"('Report',)\": 0.0004743833017077799, \"('Key',)\": 0.0004743833017077799, \"('Talcott',)\": 0.0004743833017077799, \"('Philippines',)\": 0.0004743833017077799, \"('Goode',)\": 0.0004743833017077799, \"('Renee',)\": 0.0004743833017077799, \"('Royal',)\": 0.0004743833017077799, \"('Partnership',)\": 0.0004743833017077799, \"('Mrs',)\": 0.0004743833017077799, \"('Savings',)\": 0.0004743833017077799, \"('Samuel',)\": 0.0004743833017077799, \"('Wood',)\": 0.0004743833017077799, \"('Roof',)\": 0.0004743833017077799, \"('Malaysia',)\": 0.0004743833017077799, \"('Napa',)\": 0.0004743833017077799, \"('NTG',)\": 0.0004743833017077799, \"('Asada',)\": 0.0004743833017077799, \"('Amendment',)\": 0.0004743833017077799, \"('Have',)\": 0.0004743833017077799, \"('Guard',)\": 0.0004743833017077799, \"('Committee',)\": 0.0004743833017077799, \"('Sable',)\": 0.0004743833017077799, \"('Kappa',)\": 0.0004743833017077799, \"('Northampton',)\": 0.0004743833017077799, \"('University',)\": 0.0004743833017077799, \"('Pittsburgh',)\": 0.0004743833017077799, \"('Horsham',)\": 0.0004743833017077799, \"('Pace',)\": 0.0004743833017077799, \"('Legg',)\": 0.0004743833017077799, \"('TREASURY',)\": 0.0004743833017077799, \"('TRS\": 0.0004743833017077799, \"('Hills',)\": 0.0004743833017077799, \"('Vineyard',)\": 0.0004743833017077799, \"('Olsen',)\": 0.0004743833017077799, \"('September',)\": 0.0004743833017077799, \"('Dodger',)\": 0.0004743833017077799, \"('Commodity',)\": 0.0004743833017077799, \"('Advanced',)\": 0.0004743833017077799, \"('Madison',)\": 0.0004743833017077799, \"('Md.',)\": 0.0004743833017077799, \"('Earle',)\": 0.0004743833017077799, \"('Shelby',)\": 0.0004743833017077799, \"('Chardonnay',)\": 0.0004743833017077799, \"('Major',)\": 0.0004743833017077799, \"('Dodge',)\": 0.0004743833017077799, \"('Fannie',)\": 0.0004743833017077799, \"('Pasadena',)\": 0.0004743833017077799, \"('Human',)\": 0.0004743833017077799, \"('Crown',)\": 0.0004743833017077799, \"('Crane',)\": 0.0004743833017077799, \"('Educational',)\": 0.0004743833017077799, \"('Cross',)\": 0.0004743833017077799, \"('Foundation',)\": 0.0004743833017077799, \"('Manufacturers',)\": 0.0004743833017077799, \"('Schmidt',)\": 0.0004743833017077799, \"('Gray',)\": 0.0004743833017077799, \"('Huntington',)\": 0.0004743833017077799, \"('Spanish',)\": 0.0004743833017077799, \"('Photograph',)\": 0.0004743833017077799, \"('Broken',)\": 0.0004743833017077799, \"('America',)\": 0.0004743833017077799, \"('Steelworkers',)\": 0.0004743833017077799, \"('Income',)\": 0.0004743833017077799, \"('Manfred',)\": 0.0004743833017077799, \"('Sauternes',)\": 0.0004743833017077799, \"('Sebastian',)\": 0.0004743833017077799, \"('PLC',)\": 0.0004743833017077799, \"('M.D.',)\": 0.0004743833017077799, \"('Brunei',)\": 0.0004743833017077799, \"('Gordon',)\": 0.0004743833017077799, \"('Basin',)\": 0.0004743833017077799, \"('Coconut',)\": 0.0004743833017077799, \"('Church',)\": 0.0004743833017077799, \"('Maytag',)\": 0.0004743833017077799, \"('Milwaukee',)\": 0.0004743833017077799, \"('Gregory',)\": 0.0004743833017077799, \"('Edward',)\": 0.0004743833017077799, \"('Lehman',)\": 0.0004743833017077799, \"('Paul',)\": 0.0004743833017077799, \"('Yamamoto',)\": 0.0004743833017077799, \"('Glenham',)\": 0.0004743833017077799, \"('Photography',)\": 0.0004743833017077799, \"('Democracy',)\": 0.0004743833017077799, \"('Wayland',)\": 0.0004743833017077799, \"('Blue',)\": 0.0004743833017077799, \"('August',)\": 0.0004743833017077799, \"('Investor',)\": 0.0004743833017077799, \"('Michaels',)\": 0.0004743833017077799, \"('Pattenden',)\": 0.0004743833017077799, \"('Mount',)\": 0.0004743833017077799, \"('Gates',)\": 0.0004743833017077799, \"('DSM',)\": 0.0004743833017077799, \"('Nelson',)\": 0.0004743833017077799, \"('Fulham',)\": 0.0004743833017077799, \"('WAFA',)\": 0.0004743833017077799, \"('Tenn.',)\": 0.0004743833017077799, \"('Free',)\": 0.0004743833017077799, \"('CS',)\": 0.0004743833017077799, \"('Fund',)\": 0.0004743833017077799, \"('GM',)\": 0.0004743833017077799, \"('War',)\": 0.0004743833017077799, \"('Europe',)\": 0.0004743833017077799, \"('Bellows',)\": 0.0004743833017077799, \"('WTVJ',)\": 0.0004743833017077799, \"('TV',)\": 0.0004743833017077799, \"('Robertson',)\": 0.0004743833017077799, \"('Regal',)\": 0.0004743833017077799, \"('Industries',)\": 0.0004743833017077799, \"('Western',)\": 0.0004743833017077799, \"('McAuley',)\": 0.0004743833017077799, \"('Communications',)\": 0.0004743833017077799, \"('S.',)\": 0.0004743833017077799, \"('Miles',)\": 0.0004743833017077799, \"('Rev.',)\": 0.0004743833017077799, \"('Publishing',)\": 0.0004743833017077799, \"('Jamaica',)\": 0.0004743833017077799, \"('Inc',)\": 0.0004743833017077799, \"('Generalized',)\": 0.0004743833017077799, \"('Alliance',)\": 0.0004743833017077799, \"('Edwin',)\": 0.0004743833017077799, \"('Bolduc',)\": 0.0004743833017077799, \"('Parkinson',)\": 0.0004743833017077799, \"('Brownstein',)\": 0.0004743833017077799, \"('Economic',)\": 0.0004743833017077799, \"('X',)\": 0.0004743833017077799, \"('Joni',)\": 0.0004743833017077799, \"('Nederlanden',)\": 0.0004743833017077799, \"('Fred',)\": 0.0004743833017077799, \"('LSI',)\": 0.0004743833017077799, \"('Don',)\": 0.0004743833017077799, \"('Walt',)\": 0.0004743833017077799, \"('Marchand',)\": 0.0004743833017077799, \"('California',)\": 0.0004743833017077799, \"('H.N.',)\": 0.0004743833017077799, \"('Hutchinson',)\": 0.0004743833017077799, \"('S&P',)\": 0.0004743833017077799, \"('Citibank',)\": 0.0004743833017077799, \"('Dec.',)\": 0.0004743833017077799, \"('Gorman',)\": 0.0004743833017077799, \"('Rosenblum',)\": 0.0004743833017077799, \"('Watanabe',)\": 0.0004743833017077799, \"('CALL',)\": 0.0004743833017077799, \"('Marina',)\": 0.0004743833017077799, \"('Moody',)\": 0.0004743833017077799, \"('Sandberg',)\": 0.0004743833017077799, \"('Improvement',)\": 0.0004743833017077799, \"('Ethel',)\": 0.0004743833017077799, \"('R.',)\": 0.0004743833017077799, \"('Tray',)\": 0.0004743833017077799, \"('Courter',)\": 0.0004743833017077799, \"('Pepperidge',)\": 0.0004743833017077799, \"('District',)\": 0.0004743833017077799, \"('Giants',)\": 0.0004743833017077799, \"('Johns',)\": 0.0004743833017077799, \"('Feb.',)\": 0.0004743833017077799, \"('Fidelity',)\": 0.0004743833017077799, \"('Hammersmith',)\": 0.0004743833017077799, \"('K.',)\": 0.0004743833017077799, \"('Trans',)\": 0.0004743833017077799, \"('France',)\": 0.0004743833017077799, \"('Romanee-Conti',)\": 0.0004743833017077799, \"('Economics',)\": 0.0004743833017077799, \"('Gartner',)\": 0.0004743833017077799, \"('Aslacton',)\": 0.0004743833017077799, \"('CDC',)\": 0.0004743833017077799, \"('Trojan',)\": 0.0004743833017077799, \"('Pate',)\": 0.0004743833017077799, \"('Office',)\": 0.0004743833017077799, \"('Frederick',)\": 0.0004743833017077799, \"('Bew',)\": 0.0004743833017077799, \"('Hollingsworth',)\": 0.0004743833017077799, \"('H.',)\": 0.0004743833017077799, \"('Samnick',)\": 0.0004743833017077799, \"('Sherwin',)\": 0.0004743833017077799, \"('Contel',)\": 0.0004743833017077799, \"('Jennison',)\": 0.0004743833017077799, \"('Hollis',)\": 0.0004743833017077799, \"('IBC',)\": 0.0004743833017077799, \"('Pet',)\": 0.0004743833017077799, \"('Cedric',)\": 0.0004743833017077799, \"('Marine',)\": 0.0004743833017077799, \"('Elisa',)\": 0.0004743833017077799, \"('Univest',)\": 0.0004743833017077799, \"('Antonio',)\": 0.0004743833017077799, \"('Davis',)\": 0.0004743833017077799, \"('Bugs',)\": 0.0004743833017077799, \"('Winiarski',)\": 0.0004743833017077799, \"('Marge',)\": 0.0004743833017077799, \"('Gross',)\": 0.0004743833017077799, \"('Steve',)\": 0.0004743833017077799, \"('Parents',)\": 0.0004743833017077799, \"('Platt',)\": 0.0004743833017077799, \"('US',)\": 0.0004743833017077799, \"('Braun',)\": 0.0004743833017077799, \"('PLO',)\": 0.0004743833017077799, \"('Dutch',)\": 0.0004743833017077799, \"('E.',)\": 0.0004743833017077799, \"('Marshall',)\": 0.0004743833017077799, \"('Environment',)\": 0.0004743833017077799, \"('Handelsbanken',)\": 0.0004743833017077799, \"('Prime',)\": 0.0004743833017077799, \"('Danforth',)\": 0.0004743833017077799, \"('Cheese',)\": 0.0004743833017077799, \"('MITI',)\": 0.0004743833017077799, \"('Barbados',)\": 0.0004743833017077799, \"('Bates',)\": 0.0004743833017077799, \"('Vice',)\": 0.0004743833017077799, \"('Steel',)\": 0.0004743833017077799, \"('Commonwealth',)\": 0.0004743833017077799, \"('Roederer',)\": 0.0004743833017077799, \"('Mo',)\": 0.0004743833017077799, \"('Buick',)\": 0.0004743833017077799, \"('Guild',)\": 0.0004743833017077799, \"('Confederation',)\": 0.0004743833017077799, \"('Miss.',)\": 0.0004743833017077799, \"('Herbert',)\": 0.0004743833017077799, \"('Sierra',)\": 0.0004743833017077799, \"('Ford',)\": 0.0004743833017077799, \"('Constitutional',)\": 0.0004743833017077799, \"('Mossman',)\": 0.0004743833017077799, \"('Rae',)\": 0.0004743833017077799, \"('Michio',)\": 0.0004743833017077799, \"('Charlotte',)\": 0.0004743833017077799, \"('Blanchard',)\": 0.0004743833017077799, \"('III',)\": 0.0004743833017077799, \"('Hormats',)\": 0.0004743833017077799, \"('Time',)\": 0.0004743833017077799, \"('Plains',)\": 0.0004743833017077799, \"('Ensrud',)\": 0.0004743833017077799, \"('PAP',)\": 0.0004743833017077799, \"('Publications',)\": 0.0004743833017077799, \"('Davies',)\": 0.0004743833017077799, \"('Jeremy',)\": 0.0004743833017077799, \"('Sen.',)\": 0.0004743833017077799, \"('La',)\": 0.0004743833017077799, \"('Exchange',)\": 0.0004743833017077799, \"('Cab',)\": 0.0004743833017077799, \"('Moore',)\": 0.0004743833017077799, \"('Dresser',)\": 0.0004743833017077799, \"('Show',)\": 0.0004743833017077799, \"('Brooks',)\": 0.0004743833017077799, \"('Taccetta',)\": 0.0004743833017077799, \"('Terrace',)\": 0.0004743833017077799, \"('Duke',)\": 0.0004743833017077799, \"('CTB',)\": 0.0004743833017077799, \"('Zuckerman',)\": 0.0004743833017077799, \"('Rankin',)\": 0.0004743833017077799, \"('Rolling',)\": 0.0004743833017077799, \"('Ringing',)\": 0.0004743833017077799, \"('Pretty',)\": 0.0004743833017077799, \"('Correll',)\": 0.0004743833017077799, \"('Intecknings',)\": 0.0004743833017077799, \"('Youths',)\": 0.0004743833017077799, \"('Rubber',)\": 0.0004743833017077799, \"('Peabody',)\": 0.0004743833017077799, \"('Huppert',)\": 0.0004743833017077799, \"('Republican',)\": 0.0004743833017077799, \"('Chairman',)\": 0.0004743833017077799, \"('Southern',)\": 0.0004743833017077799, \"('Singapore',)\": 0.0004743833017077799, \"('Sol',)\": 0.0004743833017077799, \"('Signore',)\": 0.0004743833017077799, \"('Indiana',)\": 0.0004743833017077799, \"('Sangyo',)\": 0.0004743833017077799, \"('Blanc',)\": 0.0004743833017077799, \"('Oshkosh',)\": 0.0004743833017077799, \"('Swearingen',)\": 0.0004743833017077799, \"('Holding',)\": 0.0004743833017077799, \"('Judicial',)\": 0.0004743833017077799, \"('Sacramento',)\": 0.0004743833017077799, \"('Kong',)\": 0.0004743833017077799, \"('Albuquerque',)\": 0.0004743833017077799, \"('Bonnell',)\": 0.0004743833017077799, \"('D.',)\": 0.0004743833017077799, \"('Joseph',)\": 0.0004743833017077799, \"('Cray',)\": 0.0004743833017077799, \"('Hospital',)\": 0.0004743833017077799, \"('LYNCH',)\": 0.0004743833017077799, \"('Syracuse',)\": 0.0004743833017077799, \"('Barney',)\": 0.0004743833017077799, \"('Iran\\\\/Contra',)\": 0.0004743833017077799, \"('Lighthouse',)\": 0.0004743833017077799, \"('Carson',)\": 0.0004743833017077799, \"('Calif.',)\": 0.0004743833017077799, \"('Newspapers',)\": 0.0004743833017077799, \"('Corn',)\": 0.0004743833017077799, \"('Synergistics',)\": 0.0004743833017077799, \"('Pamplin',)\": 0.0004743833017077799, \"('Betting',)\": 0.0004743833017077799, \"('Aurora',)\": 0.0004743833017077799, \"('Structural',)\": 0.0004743833017077799, \"('Crew',)\": 0.0004743833017077799, \"('Antitrust',)\": 0.0004743833017077799, \"('Parent',)\": 0.0004743833017077799, \"('Pentagon',)\": 0.0004743833017077799, \"('Sept.',)\": 0.0004743833017077799, \"('Pa',)\": 0.0004743833017077799, \"('Angier',)\": 0.0004743833017077799, \"('mid-October',)\": 0.0004743833017077799, \"('Ringers',)\": 0.0004743833017077799, \"('Ginsberg',)\": 0.0004743833017077799, \"('Donoghue',)\": 0.0004743833017077799, \"('Three',)\": 0.0004743833017077799, \"('Hudson',)\": 0.0004743833017077799, \"('SEC',)\": 0.0004743833017077799, \"('Clays',)\": 0.0004743833017077799, \"('Harris',)\": 0.0004743833017077799, \"('Occupational',)\": 0.0004743833017077799, \"('Mikhail',)\": 0.0004743833017077799, \"('Riviera',)\": 0.0004743833017077799, \"('Care',)\": 0.0004743833017077799, \"('Owner',)\": 0.0004743833017077799, \"('Pierre',)\": 0.0004743833017077799, \"('Stock',)\": 0.0004743833017077799, \"('Cullowhee',)\": 0.0004743833017077799, \"('Insight',)\": 0.0004743833017077799, \"('Brazil',)\": 0.0004743833017077799, \"('Drobnick',)\": 0.0004743833017077799, \"('Jackson',)\": 0.0004743833017077799, \"('Fremantle',)\": 0.0004743833017077799, \"('Mo.',)\": 0.0004743833017077799, \"('N.V.',)\": 0.0004743833017077799, \"('Jerritts',)\": 0.0004743833017077799, \"('Trotter',)\": 0.0004743833017077799, \"('Lorillard',)\": 0.0004743833017077799, \"('Henry',)\": 0.0004743833017077799, \"('Yorker',)\": 0.0004743833017077799, \"('Dobson',)\": 0.0004743833017077799, \"('Rockford',)\": 0.0004743833017077799, \"('Walters',)\": 0.0004743833017077799, \"('None',)\": 0.0004743833017077799, \"('Arlington',)\": 0.0004743833017077799, \"('Mortimer',)\": 0.0004743833017077799, \"('Springs',)\": 0.0004743833017077799, \"('Newgate',)\": 0.0004743833017077799, \"('Frances',)\": 0.0004743833017077799, \"('Growth',)\": 0.0004743833017077799, \"('Brooke',)\": 0.0004743833017077799, \"('Ames',)\": 0.0004743833017077799, \"('Mesnil',)\": 0.0004743833017077799, \"('Chadha',)\": 0.0004743833017077799, \"('Vose',)\": 0.0004743833017077799, \"('Beach',)\": 0.0004743833017077799, \"('Mickey',)\": 0.0004743833017077799, \"('Code',)\": 0.0004743833017077799, \"('Davenport',)\": 0.0004743833017077799, \"('Derel',)\": 0.0004743833017077799, \"('Petersen',)\": 0.0004743833017077799, \"('Thrall',)\": 0.0004743833017077799, \"('Del',)\": 0.0004743833017077799, \"('Reed',)\": 0.0004743833017077799, \"('United',)\": 0.0004743833017077799, \"('Whelen',)\": 0.0004743833017077799, \"('Denver',)\": 0.0004743833017077799, \"('Riserva',)\": 0.0004743833017077799, \"('Redevelopment',)\": 0.0004743833017077799, \"('Grant',)\": 0.0004743833017077799, \"('Haut-Brion',)\": 0.0004743833017077799, \"('Atlantic',)\": 0.0004743833017077799, \"('Gerard',)\": 0.0004743833017077799, \"('Sr.',)\": 0.0004743833017077799, \"('Hermitage',)\": 0.0004743833017077799, \"('Kuala',)\": 0.0004743833017077799, \"('IMSAI',)\": 0.0004743833017077799, \"('Sonnett',)\": 0.0004743833017077799, \"('Brunswick',)\": 0.0004743833017077799, \"('Connections',)\": 0.0004743833017077799, \"('Li',)\": 0.0004743833017077799, \"('Dahl',)\": 0.0004743833017077799, \"('Bob',)\": 0.0004743833017077799, \"('U.S.S.R.',)\": 0.0004743833017077799, \"('Satrum',)\": 0.0004743833017077799, \"('Collins',)\": 0.0004743833017077799, \"('Kelli',)\": 0.0004743833017077799, \"('Mortgage',)\": 0.0004743833017077799, \"('Van',)\": 0.0004743833017077799, \"('Chicago',)\": 0.0004743833017077799, \"('Kangyo',)\": 0.0004743833017077799, \"('Warrenton',)\": 0.0004743833017077799, \"('Takashima',)\": 0.0004743833017077799, \"('Leighton',)\": 0.0004743833017077799, \"('Harvard',)\": 0.0004743833017077799, \"('Herald-American',)\": 0.0004743833017077799, \"('Chaplin',)\": 0.0004743833017077799, \"('First',)\": 0.0004743833017077799, \"('Acceptance',)\": 0.0004743833017077799, \"('Knopf',)\": 0.0004743833017077799, \"('I',)\": 0.0004743833017077799, \"('Hoffman',)\": 0.0004743833017077799, \"('Red',)\": 0.0004743833017077799, \"('Zenith',)\": 0.0004743833017077799, \"('Federal',)\": 0.0004743833017077799, \"('Kendrick',)\": 0.0004743833017077799, \"('Marder',)\": 0.0004743833017077799, \"('Ore.',)\": 0.0004743833017077799, \"('Xiaoping',)\": 0.0004743833017077799, \"('Donaldson',)\": 0.0004743833017077799, \"('Hopkins',)\": 0.0004743833017077799, \"('Pennsylvania',)\": 0.0004743833017077799, \"('Ga.',)\": 0.0004743833017077799, \"('Safety',)\": 0.0004743833017077799, \"('Hotel',)\": 0.0004743833017077799, \"('Nixon',)\": 0.0004743833017077799, \"('Stirlen',)\": 0.0004743833017077799, \"('Miami',)\": 0.0004743833017077799, \"('Schwab',)\": 0.0004743833017077799, \"('Thunderbird',)\": 0.0004743833017077799, \"('Telephone',)\": 0.0004743833017077799, \"('Mike',)\": 0.0004743833017077799, \"('Mona',)\": 0.0004743833017077799, \"('Chile',)\": 0.0004743833017077799, \"('Cluff',)\": 0.0004743833017077799, \"('Cigna',)\": 0.0004743833017077799, \"('U.S.A',)\": 0.0004743833017077799, \"('Express',)\": 0.0004743833017077799, \"('Pennview',)\": 0.0004743833017077799, \"('Westborough',)\": 0.0004743833017077799, \"('Circuit',)\": 0.0004743833017077799, \"('Marietta',)\": 0.0004743833017077799, \"('England',)\": 0.0004743833017077799, \"('A-D',)\": 0.0004743833017077799, \"('Mexican',)\": 0.0004743833017077799, \"('System',)\": 0.0004743833017077799, \"('General',)\": 0.0004743833017077799, \"('Aktiebolaget',)\": 0.0004743833017077799, \"('House-Senate',)\": 0.0004743833017077799, \"('Journal',)\": 0.0004743833017077799, \"('Barfield',)\": 0.0004743833017077799, \"('Ratners',)\": 0.0004743833017077799, \"('Eagleton',)\": 0.0004743833017077799, \"('SALT',)\": 0.0004743833017077799, \"('Patrick',)\": 0.0004743833017077799, \"('Marie-Louise',)\": 0.0004743833017077799, \"('Lee',)\": 0.0004743833017077799, \"('Aptitude',)\": 0.0004743833017077799, \"('McGraw-Hill',)\": 0.0004743833017077799, \"('Olson',)\": 0.0004743833017077799, \"('LONDON',)\": 0.0004743833017077799, \"('Olympic',)\": 0.0004743833017077799, \"('Julia',)\": 0.0004743833017077799, \"('Dingell',)\": 0.0004743833017077799, \"('Lawless',)\": 0.0004743833017077799, \"('Lufkin',)\": 0.0004743833017077799, \"('Man',)\": 0.0004743833017077799, \"('Michigan',)\": 0.0004743833017077799, \"('BRAMALEA',)\": 0.0004743833017077799, \"('Salomon',)\": 0.0004743833017077799, \"('Utsumi',)\": 0.0004743833017077799, \"('NASD',)\": 0.0004743833017077799, \"('Christopher',)\": 0.0004743833017077799, \"('Pitcher',)\": 0.0004743833017077799, \"('San',)\": 0.0004743833017077799, \"('Burgundy',)\": 0.0004743833017077799, \"('Hudnut',)\": 0.0004743833017077799, \"('N.Y',)\": 0.0004743833017077799, \"('Coche-Dury',)\": 0.0004743833017077799, \"('Moon',)\": 0.0004743833017077799, \"('Guinea',)\": 0.0004743833017077799, \"('Ian',)\": 0.0004743833017077799, \"('Koizumi',)\": 0.0004743833017077799, \"('Democrat',)\": 0.0004743833017077799, \"('Collector',)\": 0.0004743833017077799, \"('Dreyfus',)\": 0.0004743833017077799, \"('A.',)\": 0.0004743833017077799, \"('Group',)\": 0.0004743833017077799, \"('Wa',)\": 0.0004743833017077799, \"('Du',)\": 0.0004743833017077799, \"('Central',)\": 0.0004743833017077799, \"('North',)\": 0.0004743833017077799, \"('Henderson',)\": 0.0004743833017077799, \"('Toronto',)\": 0.0004743833017077799, \"('Birmingham',)\": 0.0004743833017077799, \"('Nestor',)\": 0.0004743833017077799, \"('El',)\": 0.0004743833017077799, \"('Charles',)\": 0.0004743833017077799, \"('Mazda',)\": 0.0004743833017077799, \"('East',)\": 0.0004743833017077799, \"('Jan.',)\": 0.0004743833017077799, \"('Takuma',)\": 0.0004743833017077799, \"('Chinese-American',)\": 0.0004743833017077799, \"('Ichiro',)\": 0.0004743833017077799, \"('Coleman',)\": 0.0004743833017077799, \"('Hartford',)\": 0.0004743833017077799, \"('Dominion',)\": 0.0004743833017077799, \"('Elsevier',)\": 0.0004743833017077799, \"('Off-Track',)\": 0.0004743833017077799, \"('Corton-Charlemagne',)\": 0.0004743833017077799, \"('Freshbake',)\": 0.0004743833017077799, \"('Kligman',)\": 0.0004743833017077799, \"('N.J.',)\": 0.0004743833017077799, \"('Giuliani',)\": 0.0004743833017077799, \"('Bennett',)\": 0.0004743833017077799, \"('Altair',)\": 0.0004743833017077799, \"('Candela',)\": 0.0004743833017077799, \"('Yale',)\": 0.0004743833017077799, \"('Louisiana',)\": 0.0004743833017077799, \"('Cup-Tote',)\": 0.0004743833017077799, \"('Achievement',)\": 0.0004743833017077799, \"('Mayland',)\": 0.0004743833017077799, \"('Leigh',)\": 0.0004743833017077799, \"('Claude',)\": 0.0004743833017077799, \"('St.',)\": 0.0004743833017077799, \"('L.A.',)\": 0.0004743833017077799, \"('Thailand',)\": 0.0004743833017077799, \"('Doak',)\": 0.0004743833017077799, \"('Copperweld',)\": 0.0004743833017077799, \"('Fang',)\": 0.0004743833017077799, \"('Louis',)\": 0.0004743833017077799, \"('Lancaster',)\": 0.0004743833017077799, \"('Hiroshima',)\": 0.0004743833017077799, \"('McDermott',)\": 0.0004743833017077799, \"('Pinocchio',)\": 0.0004743833017077799, \"('Gary',)\": 0.0004743833017077799, \"('Malcolm',)\": 0.0004743833017077799, \"('Tourism',)\": 0.0004743833017077799, \"('Labor',)\": 0.0004743833017077799, \"('Wild',)\": 0.0004743833017077799, \"('Mason',)\": 0.0004743833017077799, \"('Longwood',)\": 0.0004743833017077799, \"('Berliner',)\": 0.0004743833017077799, \"('Ilminster',)\": 0.0004743833017077799, \"('Clara',)\": 0.0004743833017077799, \"('Felten',)\": 0.0004743833017077799, \"('Hymowitz',)\": 0.0004743833017077799, \"('January',)\": 0.0004743833017077799, \"('Scholastic',)\": 0.0004743833017077799, \"('Resistance',)\": 0.0004743833017077799, \"('Nature',)\": 0.0004743833017077799, \"('Chinchon',)\": 0.0004743833017077799, \"('Chinese',)\": 0.0004743833017077799, \"('Information',)\": 0.0004743833017077799, \"('Freud',)\": 0.0004743833017077799, \"('Maughan',)\": 0.0004743833017077799, \"('Plaza',)\": 0.0004743833017077799, \"('FOREIGN',)\": 0.0004743833017077799, \"('Haruki',)\": 0.0004743833017077799, \"('Island',)\": 0.0004743833017077799, \"('Electric',)\": 0.0004743833017077799, \"('Andy',)\": 0.0004743833017077799, \"('Austria',)\": 0.0004743833017077799, \"('Ruth',)\": 0.0004743833017077799, \"('Harpo',)\": 0.0004743833017077799, \"('Hart-Scott-Rodino',)\": 0.0004743833017077799, \"('Kirkpatrick',)\": 0.0004743833017077799, \"('Backer',)\": 0.0004743833017077799, \"('Neil',)\": 0.0004743833017077799, \"('Valhi',)\": 0.0004743833017077799, \"('Watson',)\": 0.0004743833017077799, \"('Russel',)\": 0.0004743833017077799, \"('Mitsui',)\": 0.0004743833017077799, \"('Jalaalwalikraam',)\": 0.0004743833017077799, \"('Georgia-Pacific',)\": 0.0004743833017077799, \"('Lurie',)\": 0.0004743833017077799, \"('Tip',)\": 0.0004743833017077799, \"('Jerry',)\": 0.0004743833017077799, \"('Cerf',)\": 0.0004743833017077799, \"('Trade',)\": 0.0004743833017077799, \"('Eggers',)\": 0.0004743833017077799, \"('Congress',)\": 0.0004743833017077799, \"('LaSalle',)\": 0.0004743833017077799, \"('Westminster',)\": 0.0004743833017077799, \"('Ballantine\\\\/Del',)\": 0.0004743833017077799, \"('Phoenix',)\": 0.0004743833017077799, \"('Spiro',)\": 0.0004743833017077799, \"('Santa',)\": 0.0004743833017077799, \"('Peninsula',)\": 0.0004743833017077799, \"('Daily',)\": 0.0004743833017077799, \"('Shores',)\": 0.0004743833017077799, \"('Oct.',)\": 0.0004743833017077799, \"('Dumpster',)\": 0.0004743833017077799, \"('Bowman',)\": 0.0004743833017077799, \"('Ind.',)\": 0.0004743833017077799, \"('Sabhavasu',)\": 0.0004743833017077799, \"('Miklos',)\": 0.0004743833017077799, \"('Baum',)\": 0.0004743833017077799, \"('Restaurant',)\": 0.0004743833017077799, \"('Murray',)\": 0.0004743833017077799, \"('Israel',)\": 0.0004743833017077799, \"('Seniors',)\": 0.0004743833017077799, \"('Upham',)\": 0.0004743833017077799, \"('Mission',)\": 0.0004743833017077799, \"('Business',)\": 0.0004743833017077799, \"('Marc',)\": 0.0004743833017077799, \"('Carney',)\": 0.0004743833017077799, \"('Otero',)\": 0.0004743833017077799, \"('Kean',)\": 0.0004743833017077799, \"('Gardner',)\": 0.0004743833017077799, \"('Village',)\": 0.0004743833017077799, \"('S.p.A.',)\": 0.0004743833017077799, \"('Chamber',)\": 0.0004743833017077799, \"('Latin',)\": 0.0004743833017077799, \"('N.M.',)\": 0.0004743833017077799, \"('Thursday',)\": 0.0004743833017077799, \"('City',)\": 0.0004743833017077799, \"('Fischer',)\": 0.0004743833017077799, \"('Midland',)\": 0.0004743833017077799, \"('Avrett',)\": 0.0004743833017077799, \"('Rubinfien',)\": 0.0004743833017077799, \"('Springfield',)\": 0.0004743833017077799, \"('Protection',)\": 0.0004743833017077799, \"('Prof',)\": 0.0004743833017077799, \"('Brands',)\": 0.0004743833017077799, \"('Campeau',)\": 0.0004743833017077799, \"('Peter',)\": 0.0004743833017077799, \"('Institution',)\": 0.0004743833017077799, \"('Scherer',)\": 0.0004743833017077799, \"('NCNB',)\": 0.0004743833017077799, \"('Monetary',)\": 0.0004743833017077799, \"('the',)\": 0.0004743833017077799, \"('Council',)\": 0.0004743833017077799, \"('Review',)\": 0.0004743833017077799, \"('L.P.',)\": 0.0004743833017077799, \"('CAMPAIGN',)\": 0.0004743833017077799, \"('Chafic',)\": 0.0004743833017077799, \"('Klauser',)\": 0.0004743833017077799, \"('Budget',)\": 0.0004743833017077799, \"('Latour',)\": 0.0004743833017077799, \"('Taittinger',)\": 0.0004743833017077799, \"('Leningrad',)\": 0.0004743833017077799, \"('Wadsworth',)\": 0.0004743833017077799, \"('Dennis',)\": 0.0004743833017077799, \"('Keidanren',)\": 0.0004743833017077799, \"('Carnegie-Mellon',)\": 0.0004743833017077799, \"('Maxwell',)\": 0.0004743833017077799, \"('Pharaoh',)\": 0.0004743833017077799, \"('Mitsubishi',)\": 0.0004743833017077799, \"('DISCOUNT',)\": 0.0004743833017077799, \"('Chemical',)\": 0.0004743833017077799, \"('Lezovich',)\": 0.0004743833017077799, \"('Legal',)\": 0.0004743833017077799, \"('Enzor',)\": 0.0004743833017077799, \"('Taylor',)\": 0.0004743833017077799, \"('Purepac',)\": 0.0004743833017077799, \"('R.I.',)\": 0.0004743833017077799, \"('Mich.',)\": 0.0004743833017077799, \"('Enterprise',)\": 0.0004743833017077799, \"('Rowe',)\": 0.0004743833017077799, \"('F.',)\": 0.0004743833017077799, \"('Stronach',)\": 0.0004743833017077799, \"('Wamre',)\": 0.0004743833017077799, \"('Clinton',)\": 0.0004743833017077799, \"('Roukema',)\": 0.0004743833017077799, \"('Zealand',)\": 0.0004743833017077799, \"('Thai',)\": 0.0004743833017077799, \"('Hot',)\": 0.0004743833017077799, \"('Leming',)\": 0.0004743833017077799, \"('Ranieri',)\": 0.0004743833017077799, \"('Haney',)\": 0.0004743833017077799, \"('Ogilvy',)\": 0.0004743833017077799, \"('Conn.',)\": 0.0004743833017077799, \"('Deane',)\": 0.0004743833017077799, \"('Najarian',)\": 0.0004743833017077799, \"('W.R.',)\": 0.0004743833017077799, \"('Jeffrey',)\": 0.0004743833017077799, \"('Private',)\": 0.0004743833017077799, \"('Oak',)\": 0.0004743833017077799, \"('INTERPUBLIC',)\": 0.0004743833017077799, \"('Trustco',)\": 0.0004743833017077799, \"('McLeod',)\": 0.0004743833017077799, \"('Sweden',)\": 0.0004743833017077799, \"('Anglia',)\": 0.0004743833017077799, \"('Debt',)\": 0.0004743833017077799, \"('Miller',)\": 0.0004743833017077799, \"('Wickliffe',)\": 0.0004743833017077799, \"('Second',)\": 0.0004743833017077799, \"('Melamed',)\": 0.0004743833017077799, \"('Brownell',)\": 0.0004743833017077799, \"('Duchossois',)\": 0.0004743833017077799, \"('Berman',)\": 0.0004743833017077799, \"('Bush',)\": 0.0004743833017077799, \"('Ill.',)\": 0.0004743833017077799, \"('Valley',)\": 0.0004743833017077799, \"('Finance',)\": 0.0004743833017077799, \"('Bill',)\": 0.0004743833017077799, \"('Alzheimer',)\": 0.0004743833017077799, \"('Seagate',)\": 0.0004743833017077799, \"('Wilton',)\": 0.0004743833017077799, \"('Karl',)\": 0.0004743833017077799, \"('Hiroshi',)\": 0.0004743833017077799, \"('Morrison',)\": 0.0004743833017077799, \"('CoreStates',)\": 0.0004743833017077799, \"('Bowl',)\": 0.0004743833017077799, \"('Mindy',)\": 0.0004743833017077799, \"('Neal',)\": 0.0004743833017077799, \"('Murakami',)\": 0.0004743833017077799, \"('Elmhurst',)\": 0.0004743833017077799, \"('Williams',)\": 0.0004743833017077799, \"('Japan',)\": 0.0004743833017077799, \"('Dolphin',)\": 0.0004743833017077799, \"('J.',)\": 0.0004743833017077799, \"('Alleghany',)\": 0.0004743833017077799, \"('Prater',)\": 0.0004743833017077799, \"('Club',)\": 0.0004743833017077799, \"('Fellowship',)\": 0.0004743833017077799, \"('Monday',)\": 0.0004743833017077799, \"('Alysia',)\": 0.0004743833017077799, \"('Lefcourt',)\": 0.0004743833017077799, \"('York',)\": 0.0004743833017077799, \"('Citadel',)\": 0.0004743833017077799, \"('Troubled',)\": 0.0004743833017077799, \"('Orleans',)\": 0.0004743833017077799, \"('Moscow',)\": 0.0004743833017077799, \"('Lizhi',)\": 0.0004743833017077799, \"('Ray',)\": 0.0004743833017077799, \"('Shugart',)\": 0.0004743833017077799, \"('Dow',)\": 0.0004743833017077799, \"('Funny',)\": 0.0004743833017077799, \"('ASLACTON',)\": 0.0004743833017077799, \"('Robert',)\": 0.0004743833017077799, \"('Pitney',)\": 0.0004743833017077799, \"('Optical',)\": 0.0004743833017077799, \"('Fla.',)\": 0.0004743833017077799, \"('Nationale',)\": 0.0004743833017077799, \"('Stamford',)\": 0.0004743833017077799, \"('Dorrance',)\": 0.0004743833017077799, \"('Needham',)\": 0.0004743833017077799, \"('Harold',)\": 0.0004743833017077799, \"('McCabe',)\": 0.0004743833017077799, \"('Columbus',)\": 0.0004743833017077799, \"('Philadelphia',)\": 0.0004743833017077799, \"('Rapanelli',)\": 0.0004743833017077799, \"('Angeles',)\": 0.0004743833017077799, \"('Integra',)\": 0.0004743833017077799, \"('Jones',)\": 0.0004743833017077799, \"('Takeshi',)\": 0.0004743833017077799, \"('Leinonen',)\": 0.0004743833017077799, \"('Arighi',)\": 0.0004743833017077799, \"('Soviet',)\": 0.0004743833017077799, \"('G.',)\": 0.0004743833017077799, \"('N.C.',)\": 0.0004743833017077799, \"('Hazell',)\": 0.0004743833017077799, \"('Veselich',)\": 0.0004743833017077799, \"('Board',)\": 0.0004743833017077799, \"('Virgin',)\": 0.0004743833017077799, \"('Brean',)\": 0.0004743833017077799, \"('Mattress',)\": 0.0004743833017077799, \"('Administration',)\": 0.0004743833017077799, \"('Class',)\": 0.0004743833017077799, \"('Soups',)\": 0.0004743833017077799, \"('Pont',)\": 0.0004743833017077799, \"('Stoll',)\": 0.0004743833017077799, \"('Disease',)\": 0.0004743833017077799, \"('Assistant',)\": 0.0004743833017077799, \"('Tokyo',)\": 0.0004743833017077799, \"('Investment',)\": 0.0004743833017077799, \"('Symphony',)\": 0.0004743833017077799, \"('Regulatory',)\": 0.0004743833017077799, \"('Sixth',)\": 0.0004743833017077799, \"('Kidder',)\": 0.0004743833017077799, \"('Paribas',)\": 0.0004743833017077799, \"('Danzig',)\": 0.0004743833017077799, \"('Minnesota',)\": 0.0004743833017077799, \"('Truck',)\": 0.0004743833017077799, \"('O'Brien',)\": 0.0004743833017077799, \"('Wilbur',)\": 0.0004743833017077799, \"('ChemPlus',)\": 0.0004743833017077799, \"('Wong',)\": 0.0004743833017077799, \"('Des',)\": 0.0004743833017077799, \"('Teddy',)\": 0.0004743833017077799, \"('Solihull',)\": 0.0004743833017077799, \"('McCormick',)\": 0.0004743833017077799, \"('Bells',)\": 0.0004743833017077799, \"('Campbell',)\": 0.0004743833017077799, \"('Jersey',)\": 0.0004743833017077799, \"('Population',)\": 0.0004743833017077799, \"('Loews',)\": 0.0004743833017077799, \"('State',)\": 0.0004743833017077799, \"('OSHA',)\": 0.0004743833017077799, \"('UAL',)\": 0.0004743833017077799, \"('Tiphook',)\": 0.0004743833017077799, \"('N.',)\": 0.0004743833017077799, \"('Woodward',)\": 0.0004743833017077799, \"('Boulder',)\": 0.0004743833017077799, \"('Heiwado',)\": 0.0004743833017077799, \"('Baim',)\": 0.0004743833017077799, \"('Sherwood',)\": 0.0004743833017077799, \"('Grace',)\": 0.0004743833017077799, \"('Sotheby',)\": 0.0004743833017077799, \"('Taiwan',)\": 0.0004743833017077799, \"('Faulding',)\": 0.0004743833017077799, \"('Fields',)\": 0.0004743833017077799, \"('Orrick',)\": 0.0004743833017077799, \"('Bankers',)\": 0.0004743833017077799, \"('Kane',)\": 0.0004743833017077799, \"('Charter',)\": 0.0004743833017077799, \"('Scowcroft',)\": 0.0004743833017077799, \"('Assurance',)\": 0.0004743833017077799, \"('Society',)\": 0.0004743833017077799, \"('Pickens',)\": 0.0004743833017077799, \"('John',)\": 0.0004743833017077799, \"('Bass',)\": 0.0004743833017077799, \"('B.',)\": 0.0004743833017077799, \"('Strindberg',)\": 0.0004743833017077799, \"('Lane',)\": 0.0004743833017077799, \"('Corp.',)\": 0.0004743833017077799, \"('Spielvogel',)\": 0.0004743833017077799, \"('Consolidated',)\": 0.0004743833017077799, \"('Clark',)\": 0.0004743833017077799, \"('Miguel',)\": 0.0004743833017077799, \"('Odyssey',)\": 0.0004743833017077799, \"('Different',)\": 0.0004743833017077799, \"('No-Smoking',)\": 0.0004743833017077799, \"('Carlos',)\": 0.0004743833017077799, \"('Sigler',)\": 0.0004743833017077799, \"('Citicorp',)\": 0.0004743833017077799, \"('Sachs',)\": 0.0004743833017077799, \"('MacDonald',)\": 0.0004743833017077799, \"('Fountain',)\": 0.0004743833017077799, \"('Princeton',)\": 0.0004743833017077799, \"('Manufacturing',)\": 0.0004743833017077799, \"('S.I.',)\": 0.0004743833017077799, \"('Bolivia',)\": 0.0004743833017077799, \"('Berson',)\": 0.0004743833017077799, \"('Automobile',)\": 0.0004743833017077799, \"('Fed',)\": 0.0004743833017077799, \"('Katzenstein',)\": 0.0004743833017077799, \"('ACCOUNT',)\": 0.0004743833017077799, \"('Douglas',)\": 0.0004743833017077799, \"('Ackerman',)\": 0.0004743833017077799, \"('Canepa',)\": 0.0004743833017077799, \"('MEDICINE',)\": 0.0004743833017077799, \"('Piero',)\": 0.0004743833017077799, \"('Gaithersburg',)\": 0.0004743833017077799, \"('GMAC',)\": 0.0004743833017077799, \"('Squier',)\": 0.0004743833017077799, \"('Ailes',)\": 0.0004743833017077799, \"('GAF',)\": 0.0004743833017077799, \"('Haven',)\": 0.0004743833017077799, \"('Appellate',)\": 0.0004743833017077799, \"('Tandy',)\": 0.0004743833017077799, \"('Bradley',)\": 0.0004743833017077799, \"('Stores',)\": 0.0004743833017077799, \"('Pratt',)\": 0.0004743833017077799, \"('Barnett',)\": 0.0004743833017077799, \"('Series',)\": 0.0004743833017077799, \"('Cannell',)\": 0.0004743833017077799, \"('Northern',)\": 0.0004743833017077799, \"('Suisse',)\": 0.0004743833017077799, \"('Bank',)\": 0.0004743833017077799, \"('Boone',)\": 0.0004743833017077799, \"('Wayne',)\": 0.0004743833017077799, \"('Taizo',)\": 0.0004743833017077799, \"('Egypt',)\": 0.0004743833017077799, \"('Netherlands',)\": 0.0004743833017077799, \"('Rexinger',)\": 0.0004743833017077799, \"('Illinois',)\": 0.0004743833017077799, \"('Campaign',)\": 0.0004743833017077799, \"('Asian',)\": 0.0004743833017077799, \"('Hitachi',)\": 0.0004743833017077799, \"('Laser',)\": 0.0004743833017077799, \"('Ala',)\": 0.0004743833017077799, \"('Roger',)\": 0.0004743833017077799, \"('Minister',)\": 0.0004743833017077799, \"('Rouge',)\": 0.0004743833017077799, \"('Speedway',)\": 0.0004743833017077799, \"('Register',)\": 0.0004743833017077799, \"('Kondo',)\": 0.0004743833017077799, \"('COMMUNICATIONS',)\": 0.0004743833017077799, \"('Utah',)\": 0.0004743833017077799, \"('Sidak',)\": 0.0004743833017077799, \"('June',)\": 0.0004743833017077799, \"('McAlpine',)\": 0.0004743833017077799, \"('Gerald',)\": 0.0004743833017077799, \"('Comprehensive',)\": 0.0004743833017077799, \"('Leo',)\": 0.0004743833017077799, \"('Boca',)\": 0.0004743833017077799, \"('N.J',)\": 0.0004743833017077799, \"('Mercury',)\": 0.0004743833017077799, \"('Sigmund',)\": 0.0004743833017077799, \"('English',)\": 0.0004743833017077799, \"('Silicon',)\": 0.0004743833017077799, \"('Lucille',)\": 0.0004743833017077799, \"('Heights',)\": 0.0004743833017077799, \"('Metropolitan',)\": 0.0004743833017077799, \"('Souper',)\": 0.0004743833017077799, \"('Foot',)\": 0.0004743833017077799, \"('Glauber',)\": 0.0004743833017077799, \"('Christmas',)\": 0.0004743833017077799, \"('Sonny',)\": 0.0004743833017077799, \"('Petersburg',)\": 0.0004743833017077799, \"('Hammond',)\": 0.0004743833017077799, \"('Ross',)\": 0.0004743833017077799, \"('Technology',)\": 0.0004743833017077799, \"('Shangkun',)\": 0.0004743833017077799, \"('TRANSPLANT',)\": 0.0004743833017077799, \"('Hampton',)\": 0.0004743833017077799, \"('Timex',)\": 0.0004743833017077799, \"('Sanderoff',)\": 0.0004743833017077799, \"('Rent-A-Car',)\": 0.0004743833017077799, \"('DOONESBURY',)\": 0.0004743833017077799, \"('Edwards',)\": 0.0004743833017077799, \"('Express-Buick',)\": 0.0004743833017077799, \"('Commodore',)\": 0.0004743833017077799, \"('Fulton',)\": 0.0004743833017077799, \"('Alan',)\": 0.0004743833017077799, \"('Dill',)\": 0.0004743833017077799, \"('Mehrens',)\": 0.0004743833017077799, \"('W.',)\": 0.0004743833017077799, \"('Hoosier',)\": 0.0004743833017077799, \"('DDB',)\": 0.0004743833017077799, \"('Representative',)\": 0.0004743833017077799, \"('Women',)\": 0.0004743833017077799, \"('A.C.',)\": 0.0004743833017077799, \"('Danville',)\": 0.0004743833017077799, \"('Vos',)\": 0.0004743833017077799, \"('Hale',)\": 0.0004743833017077799, \"('ABA',)\": 0.0004743833017077799, \"('Fair',)\": 0.0004743833017077799, \"('Mac',)\": 0.0004743833017077799, \"('Inc.',)\": 0.0004743833017077799, \"('Johnson',)\": 0.0004743833017077799, \"('Calder',)\": 0.0004743833017077799, \"('Ill',)\": 0.0004743833017077799, \"('Heritage',)\": 0.0004743833017077799, \"('Landis',)\": 0.0004743833017077799, \"('Robbie',)\": 0.0004743833017077799, \"('NEC',)\": 0.0004743833017077799, \"('Telerate',)\": 0.0004743833017077799, \"('Carbide',)\": 0.0004743833017077799, \"('G',)\": 0.0004743833017077799, \"('Simeon',)\": 0.0004743833017077799, \"('Columbia',)\": 0.0004743833017077799, \"('RBC',)\": 0.0004743833017077799, \"('ASSOCIATION',)\": 0.0004743833017077799, \"('Osborn',)\": 0.0004743833017077799, \"('I.',)\": 0.0004743833017077799, \"('Ariz.',)\": 0.0004743833017077799, \"('Circulations',)\": 0.0004743833017077799, \"('Underwood',)\": 0.0004743833017077799, \"('Revolution',)\": 0.0004743833017077799, \"('Communication',)\": 0.0004743833017077799, \"('Clive',)\": 0.0004743833017077799, \"('Wakayama',)\": 0.0004743833017077799, \"('Russo',)\": 0.0004743833017077799, \"('Turkey',)\": 0.0004743833017077799, \"('NBC',)\": 0.0004743833017077799, \"('Triton',)\": 0.0004743833017077799, \"('Spitler',)\": 0.0004743833017077799, \"('Co.',)\": 0.0004743833017077799, \"('Monchecourt',)\": 0.0004743833017077799, \"('Mont',)\": 0.0004743833017077799, \"('Hummerstone',)\": 0.0004743833017077799, \"('Chivas',)\": 0.0004743833017077799, \"('Westport',)\": 0.0004743833017077799, \"('CAT',)\": 0.0004743833017077799, \"('Young',)\": 0.0004743833017077799, \"('MONEY',)\": 0.0004743833017077799, \"('Mark',)\": 0.0004743833017077799, \"('Cray\": 0.0004743833017077799, \"('Genel',)\": 0.0004743833017077799, \"('Zayed',)\": 0.0004743833017077799, \"('Goodman',)\": 0.0004743833017077799, \"('Mining',)\": 0.0004743833017077799, \"('Bendectin',)\": 0.0004743833017077799, \"('News',)\": 0.0004743833017077799, \"('Estates',)\": 0.0004743833017077799, \"('J.L.',)\": 0.0004743833017077799, \"('Department',)\": 0.0004743833017077799, \"('WHAS',)\": 0.0004743833017077799, \"('Cotran',)\": 0.0004743833017077799, \"('Washington',)\": 0.0004743833017077799, \"('Phillips',)\": 0.0004743833017077799, \"('Bunny',)\": 0.0004743833017077799, \"('Cathedral',)\": 0.0004743833017077799, \"('Sandifer',)\": 0.0004743833017077799, \"('McGovern',)\": 0.0004743833017077799, \"('Macmillan\\\\/McGraw-Hill',)\": 0.0004743833017077799, \"('Jim',)\": 0.0004743833017077799, \"('Union',)\": 0.0004743833017077799, \"('World',)\": 0.0004743833017077799, \"('Dunn',)\": 0.0004743833017077799, \"('Stevens',)\": 0.0004743833017077799, \"('Tramp',)\": 0.0004743833017077799, \"('May',)\": 0.0004743833017077799, \"('Bancorp',)\": 0.0004743833017077799, \"('Al',)\": 0.0004743833017077799, \"('Seahorse',)\": 0.0004743833017077799, \"('Borough',)\": 0.0004743833017077799, \"('Ohio',)\": 0.0004743833017077799, \"('Pty.',)\": 0.0004743833017077799, \"('Garret',)\": 0.0004743833017077799, \"('Dale',)\": 0.0004743833017077799, \"('LOAN',)\": 0.0004743833017077799, \"('Development',)\": 0.0004743833017077799, \"('Ward',)\": 0.0004743833017077799, \"('Education',)\": 0.0004743833017077799, \"('Biscayne',)\": 0.0004743833017077799, \"('Rothschild',)\": 0.0004743833017077799, \"('DES',)\": 0.0004743833017077799, \"('Dom',)\": 0.0004743833017077799, \"('Muscolina',)\": 0.0004743833017077799, \"('Moines',)\": 0.0004743833017077799, \"('Siegal',)\": 0.0004743833017077799, \"('Bar',)\": 0.0004743833017077799, \"('McFall',)\": 0.0004743833017077799, \"('Shrum',)\": 0.0004743833017077799, \"('Patents',)\": 0.0004743833017077799, \"('Great',)\": 0.0004743833017077799, \"('Times',)\": 0.0004743833017077799, \"('Iowa',)\": 0.0004743833017077799, \"('Inventor',)\": 0.0004743833017077799, \"('Akerfeldt',)\": 0.0004743833017077799, \"('Allied',)\": 0.0004743833017077799, \"('ShareData',)\": 0.0004743833017077799, \"('Lambert',)\": 0.0004743833017077799, \"('Texas',)\": 0.0004743833017077799, \"('Rock',)\": 0.0004743833017077799, \"('Prudential-Bache',)\": 0.0004743833017077799, \"('Leap',)\": 0.0004743833017077799, \"('Pramual',)\": 0.0004743833017077799, \"('Cask',)\": 0.0004743833017077799, \"('Wilfred',)\": 0.0004743833017077799, \"('Drexel',)\": 0.0004743833017077799, \"('Eastern',)\": 0.0004743833017077799, \"('Bermuda',)\": 0.0004743833017077799, \"('Chateau',)\": 0.0004743833017077799, \"('Perch',)\": 0.0004743833017077799, \"('Mifflin',)\": 0.0004743833017077799, \"('Utilities',)\": 0.0004743833017077799, \"('Highway',)\": 0.0004743833017077799, \"('Fax',)\": 0.0004743833017077799, \"('Kerensky',)\": 0.0004743833017077799, \"('Backe',)\": 0.0004743833017077799, \"('Ltd.',)\": 0.0004743833017077799, \"('Myron',)\": 0.0004743833017077799, \"('Cougar',)\": 0.0004743833017077799, \"('Barbara',)\": 0.0004743833017077799, \"('Cincinnati',)\": 0.0004743833017077799, \"('USA',)\": 0.0004743833017077799, \"('Enright',)\": 0.0004743833017077799, \"('INGERSOLL-RAND',)\": 0.0004743833017077799, \"('Emile',)\": 0.0004743833017077799, \"('Bromwich',)\": 0.0004743833017077799, \"('Supreme',)\": 0.0004743833017077799, \"('Midvale',)\": 0.0004743833017077799, \"('Deng',)\": 0.0004743833017077799, \"('Wilson',)\": 0.0004743833017077799, \"('Makato',)\": 0.0004743833017077799, \"('Nelms',)\": 0.0004743833017077799, \"('Curry',)\": 0.0004743833017077799, \"('Mrs.',)\": 0.0004743833017077799, \"('Organizations',)\": 0.0004743833017077799, \"('Menem',)\": 0.0004743833017077799, \"('Hawke',)\": 0.0004743833017077799, \"('Trockenbeerenauslesen',)\": 0.0004743833017077799, \"('Deborah',)\": 0.0004743833017077799, \"('Hampshire',)\": 0.0004743833017077799, \"('Mehta',)\": 0.0004743833017077799, \"('Wis.',)\": 0.0004743833017077799, \"('U.S.',)\": 0.0004743833017077799, \"('Alfred',)\": 0.0004743833017077799, \"('IBM',)\": 0.0004743833017077799, \"('Aquino',)\": 0.0004743833017077799, \"('Street',)\": 0.0004743833017077799, \"('Pamela',)\": 0.0004743833017077799, \"('Monticello',)\": 0.0004743833017077799, \"('Fulbright',)\": 0.0004743833017077799, \"('Jobs',)\": 0.0004743833017077799, \"('Money',)\": 0.0004743833017077799, \"('Rudolph',)\": 0.0004743833017077799, \"('Panama',)\": 0.0004743833017077799, \"('Patricia',)\": 0.0004743833017077799, \"('Monitor',)\": 0.0004743833017077799, \"('Us',)\": 0.0004743833017077799, \"('Brace',)\": 0.0004743833017077799, \"('McMillin',)\": 0.0004743833017077799, \"('Spillane',)\": 0.0004743833017077799, \"('Hawaii',)\": 0.0004743833017077799, \"('Dogs',)\": 0.0004743833017077799, \"('Pacific',)\": 0.0004743833017077799, \"('Trudeau',)\": 0.0004743833017077799, \"('Stockholm',)\": 0.0004743833017077799, \"('D.C.',)\": 0.0004743833017077799, \"('Smelting',)\": 0.0004743833017077799, \"('Hurley',)\": 0.0004743833017077799, \"('Fortune',)\": 0.0004743833017077799, \"('Sutcliffe',)\": 0.0004743833017077799, \"('USIA',)\": 0.0004743833017077799, \"('Xerox',)\": 0.0004743833017077799, \"('Dorothy',)\": 0.0004743833017077799, \"('Droz',)\": 0.0004743833017077799, \"('Chrysler',)\": 0.0004743833017077799, \"('Cellars',)\": 0.0004743833017077799, \"('Deposits-a',)\": 0.0004743833017077799, \"('Las',)\": 0.0004743833017077799, \"('Poor',)\": 0.0004743833017077799, \"('Media',)\": 0.0004743833017077799, \"('ACQUISITION',)\": 0.0004743833017077799, \"('Mara',)\": 0.0004743833017077799, \"('Taurus',)\": 0.0004743833017077799, \"('Manhattan',)\": 0.0004743833017077799, \"('Hammerton',)\": 0.0004743833017077799, \"('Hamilton',)\": 0.0004743833017077799, \"('Medical',)\": 0.0004743833017077799, \"('Palmer',)\": 0.0004743833017077799, \"('Guffey',)\": 0.0004743833017077799, \"('Signet',)\": 0.0004743833017077799, \"('Aloha',)\": 0.0004743833017077799, \"('Huxtable',)\": 0.0004743833017077799, \"('Article',)\": 0.0004743833017077799, \"('Iran-Contra',)\": 0.0004743833017077799, \"('Judge',)\": 0.0004743833017077799, \"('Daniel',)\": 0.0004743833017077799, \"('Caters',)\": 0.0004743833017077799, \"('Yang',)\": 0.0004743833017077799, \"('Torrington',)\": 0.0004743833017077799, \"('Arnold',)\": 0.0004743833017077799, \"('Salon',)\": 0.0004743833017077799, \"('Georgetown',)\": 0.0004743833017077799, \"('Riese',)\": 0.0004743833017077799, \"('Norwest',)\": 0.0004743833017077799, \"('Co',)\": 0.0004743833017077799, \"('Laura',)\": 0.0004743833017077799, \"('Seymour',)\": 0.0004743833017077799, \"('Marchese',)\": 0.0004743833017077799, \"('Dominus',)\": 0.0004743833017077799, \"('Majority',)\": 0.0004743833017077799, \"('Trettien',)\": 0.0004743833017077799, \"('Esso',)\": 0.0004743833017077799, \"('Abbey',)\": 0.0004743833017077799, \"('R.P.',)\": 0.0004743833017077799, \"('Randolph',)\": 0.0004743833017077799, \"('Dompierre',)\": 0.0004743833017077799, \"('Magleby',)\": 0.0004743833017077799, \"('Raton',)\": 0.0004743833017077799, \"('Brigham',)\": 0.0004743833017077799, \"('Fuentes',)\": 0.0004743833017077799, \"('Clemens',)\": 0.0004743833017077799, \"('Convention',)\": 0.0004743833017077799, \"('Artist',)\": 0.0004743833017077799, \"('PS',)\": 0.0004743833017077799, \"('Minn.',)\": 0.0004743833017077799, \"('Strait',)\": 0.0004743833017077799, \"('Relations',)\": 0.0004743833017077799, \"('WPP',)\": 0.0004743833017077799, \"('Bridgestone\\\\/Firestone',)\": 0.0004743833017077799, \"('Down',)\": 0.0004743833017077799, \"('CEO',)\": 0.0004743833017077799, \"('Del.',)\": 0.0004743833017077799, \"('Valrico',)\": 0.0004743833017077799, \"('Beijing',)\": 0.0004743833017077799, \"('Dover',)\": 0.0004743833017077799, \"('GHKM',)\": 0.0004743833017077799, \"('Phillip',)\": 0.0004743833017077799, \"('Kodansha',)\": 0.0004743833017077799, \"('Barbaresco',)\": 0.0004743833017077799, \"('Honolulu',)\": 0.0004743833017077799, \"('Warren',)\": 0.0004743833017077799, \"('River',)\": 0.0004743833017077799, \"('Treasury',)\": 0.0004743833017077799, \"('Novello',)\": 0.0004743833017077799, \"('Vegas',)\": 0.0004743833017077799, \"('Stieglitz',)\": 0.0004743833017077799, \"('Butler',)\": 0.0004743833017077799, \"('Reddington',)\": 0.0004743833017077799, \"('Nebraska',)\": 0.0004743833017077799, \"('Dallas',)\": 0.0004743833017077799, \"('Kuvin',)\": 0.0004743833017077799, \"('Orlando',)\": 0.0004743833017077799, \"('Rotie',)\": 0.0004743833017077799, \"('Skinner',)\": 0.0004743833017077799, \"('Negus',)\": 0.0004743833017077799, \"('Security',)\": 0.0004743833017077799, \"('Navy',)\": 0.0004743833017077799, \"('Wine',)\": 0.0004743833017077799, \"('Ridgefield',)\": 0.0004743833017077799, \"('Eugene',)\": 0.0004743833017077799, \"('Zaharah',)\": 0.0004743833017077799, \"('Psychiatry',)\": 0.0004743833017077799, \"('Cambridge',)\": 0.0004743833017077799, \"('Schaefer',)\": 0.0004743833017077799, \"('Breakey',)\": 0.0004743833017077799, \"('Cosby',)\": 0.0004743833017077799, \"('Pa.',)\": 0.0004743833017077799, \"('Criminal',)\": 0.0004743833017077799, \"('Nationwide',)\": 0.0004743833017077799, \"('AG',)\": 0.0004743833017077799, \"('Albany',)\": 0.0004743833017077799, \"('Nicole',)\": 0.0004743833017077799, \"('Frank',)\": 0.0004743833017077799, \"('Bowery',)\": 0.0004743833017077799, \"('Newsweek',)\": 0.0004743833017077799, \"('CORP',)\": 0.0004743833017077799, \"('Raleigh',)\": 0.0004743833017077799, \"('Creek',)\": 0.0004743833017077799, \"('Garry',)\": 0.0004743833017077799, \"('Peng',)\": 0.0004743833017077799, \"('Colo.',)\": 0.0004743833017077799, \"('Gold',)\": 0.0004743833017077799, \"('Data',)\": 0.0004743833017077799, \"('Blancs',)\": 0.0004743833017077799, \"('RATE',)\": 0.0004743833017077799, \"('HHS',)\": 0.0004743833017077799, \"('ON',)\": 0.0004743833017077799, \"('Champagne',)\": 0.0004743833017077799, \"('Nilson',)\": 0.0004743833017077799, \"('Joel',)\": 0.0004743833017077799, \"('Bon',)\": 0.0004743833017077799, \"('SCI',)\": 0.0004743833017077799, \"('Associates',)\": 0.0004743833017077799, \"('Rally',)\": 0.0004743833017077799, \"('Tiny',)\": 0.0004743833017077799, \"('Prebon',)\": 0.0004743833017077799, \"('Manchester',)\": 0.0004743833017077799, \"('Revenue',)\": 0.0004743833017077799, \"('Organization',)\": 0.0004743833017077799, \"('Legend',)\": 0.0004743833017077799, \"('Breeden',)\": 0.0004743833017077799, \"('Gulf',)\": 0.0004743833017077799, \"('Czechoslovakia',)\": 0.0004743833017077799, \"('L.',)\": 0.0004743833017077799, \"('Agriculture',)\": 0.0004743833017077799, \"('The',)\": 0.0004743833017077799, \"('Anne',)\": 0.0004743833017077799, \"('Times-Stock',)\": 0.0004743833017077799, \"('Sterling',)\": 0.0004743833017077799, \"('Capital',)\": 0.0004743833017077799, \"('Internatonal',)\": 0.0004743833017077799, \"('Graduate',)\": 0.0004743833017077799, \"('TEXAS',)\": 0.0004743833017077799, \"('October',)\": 0.0004743833017077799, \"('White',)\": 0.0004743833017077799, \"('Sunday',)\": 0.0004743833017077799, \"('Sullivan',)\": 0.0004743833017077799, \"('Brian',)\": 0.0004743833017077799, \"('Byron',)\": 0.0004743833017077799, \"('Vichy',)\": 0.0004743833017077799, \"('Government',)\": 0.0004743833017077799, \"('Harcourt',)\": 0.0004743833017077799, \"('Ancient',)\": 0.0004743833017077799, \"('New',)\": 0.0004743833017077799, \"('Control',)\": 0.0004743833017077799, \"('Noriega',)\": 0.0004743833017077799, \"('Stanford',)\": 0.0004743833017077799, \"('Place',)\": 0.0004743833017077799, \"('Book',)\": 0.0004743833017077799, \"('Constitution',)\": 0.0004743833017077799, \"('Steven',)\": 0.0004743833017077799, \"('C.J.B.',)\": 0.0004743833017077799, \"('Marty',)\": 0.0004743833017077799, \"('Argentina',)\": 0.0004743833017077799, \"('Vega',)\": 0.0004743833017077799, \"('Conn',)\": 0.0004743833017077799, \"('Powers',)\": 0.0004743833017077799, \"('Wheeland',)\": 0.0004743833017077799, \"('Huber',)\": 0.0004743833017077799, \"('Nev.',)\": 0.0004743833017077799, '<unk>': 0.0004743833017077799}\n",
      "[NP-SBJ {'([NN],)': 0.01182033096926714, '([PRP$], [NNS])': 0.009456264775413711, '([DT], [QP], [NNS])': 0.002364066193853428, '([NP], [PRN])': 0.009456264775413711, '([-NONE-],)': 0.12529550827423167, '([DT], [ADJP], [NN])': 0.004728132387706856, '([NP], [FRAG])': 0.004728132387706856, '([RB], [JJ])': 0.002364066193853428, '([DT], [JJ], [JJ], [NN])': 0.004728132387706856, \"([``], [NP], [''], [PP])\": 0.002364066193853428, '([PRP],)': 0.04964539007092199, '([DT], [NN], [NN])': 0.01182033096926714, '([NP], [NN])': 0.014184397163120567, '([DT], [JJ], [NN])': 0.028368794326241134, '([DT], [NNP], [NN])': 0.004728132387706856, '([NP], [:], [SBAR], [:])': 0.002364066193853428, '([JJ], [NN], [NNP], [NNP])': 0.002364066193853428, '([RBR], [JJ], [NN], [NNS])': 0.002364066193853428, '([NP], [,], [NP-LOC])': 0.0070921985815602835, '([NP], [ADJP])': 0.004728132387706856, '([DT], [NNP], [CC], [NNP])': 0.002364066193853428, '([NNS], [CC], [NNS])': 0.009456264775413711, '([NNP], [NNP], [NN])': 0.002364066193853428, '([JJR], [NNS])': 0.0070921985815602835, '([DT], [NNP], [NNS], [NN])': 0.002364066193853428, '([EX],)': 0.004728132387706856, '([NP], [,], [NP])': 0.002364066193853428, '([NP], [SBAR])': 0.02127659574468085, '([NN], [NN], [NN])': 0.002364066193853428, '([NP], [NP])': 0.0070921985815602835, '([PRP$], [$], [CD], [-NONE-])': 0.002364066193853428, '([JJ], [NNS])': 0.02127659574468085, '([NP], [PP])': 0.06855791962174941, '([NNP],)': 0.01182033096926714, '([NNP], [NNPS])': 0.002364066193853428, '([NNP], [NNS])': 0.004728132387706856, '([NP], [PP], [PP-LOC])': 0.002364066193853428, '([NP], [ADVP-LOC])': 0.002364066193853428, '([DT], [NN])': 0.06619385342789598, '([NNP], [NN], [NNS])': 0.004728132387706856, '([DT], [NNP], [NNP])': 0.0070921985815602835, '([JJ], [NN], [NNS])': 0.002364066193853428, '([NNS],)': 0.01182033096926714, '([NP],)': 0.002364066193853428, '([NP], [NN], [NNS])': 0.002364066193853428, '([DT], [NNS])': 0.02127659574468085, '([RB], [DT], [JJ], [NN])': 0.004728132387706856, '([DT], [CD], [JJ], [NNS])': 0.002364066193853428, '([NP], [,], [SBAR], [,])': 0.014184397163120567, '([JJ],)': 0.002364066193853428, '([PRP$], [NN], [NN])': 0.002364066193853428, '([DT], [NN], [NNS])': 0.004728132387706856, '([DT], [NP], [CC], [NP])': 0.004728132387706856, '([NP], [PP-DIR])': 0.002364066193853428, '([PRP], [CC], [NNS])': 0.002364066193853428, '([DT], [NNP], [NNP], [NNP])': 0.004728132387706856, '([NNP], [NNP], [NNP])': 0.01182033096926714, '([DT], [NNP])': 0.018912529550827423, '([NN], [NNS])': 0.016548463356973995, '([NN], [NNP], [NNP])': 0.002364066193853428, '([QP], [NNS])': 0.002364066193853428, '([CD], [JJ], [NNS])': 0.002364066193853428, '([NNP], [NNP])': 0.02127659574468085, '([NN], [NN], [NNS])': 0.002364066193853428, '([NP], [,], [NP], [,])': 0.02364066193853428, '([NP], [,], [NP-LOC], [,])': 0.01182033096926714, '([CD], [NNS])': 0.002364066193853428, '([PRP$], [JJ], [NN])': 0.004728132387706856, '([JJ], [NN], [NN], [NNS])': 0.002364066193853428, '([DT], [NNS], [NN])': 0.004728132387706856, '([DT], [NNP], [NNPS], [NNP])': 0.002364066193853428, '([NP], [,], [UCP], [,])': 0.002364066193853428, '([NP], [,], [PP], [,])': 0.002364066193853428, '([ADJP], [JJ], [NN])': 0.002364066193853428, '([NNP], [NNP], [NNS])': 0.004728132387706856, '([NP], [:], [PP-LOC], [:])': 0.002364066193853428, '([DT],)': 0.004728132387706856, '([CD],)': 0.004728132387706856, '([PRP], [CC], [PRP])': 0.002364066193853428, '([DT], [JJ], [NN], [NN])': 0.004728132387706856, '([NP], [VP])': 0.0070921985815602835, '([NP], [,], [PP-LOC], [,])': 0.002364066193853428, '([NP], [UCP])': 0.002364066193853428, '([JJ], [JJ], [NNS])': 0.004728132387706856, '([JJS], [NN], [NNS])': 0.002364066193853428, '([NP], [,], [VP], [,])': 0.009456264775413711, '([NP], [NNS])': 0.0070921985815602835, '([CD], [NN], [NN])': 0.002364066193853428, '([JJ], [NNP])': 0.002364066193853428, '([JJ], [PRN], [JJ], [NNS])': 0.002364066193853428, '([NP], [NN], [NN])': 0.004728132387706856, '([NP], [,], [ADJP])': 0.002364066193853428, '([NP], [PP-LOC], [PP])': 0.002364066193853428, '([PRP$], [NN], [S])': 0.002364066193853428, '([NP], [JJ], [NNS])': 0.002364066193853428, '([NP], [CC], [NP-TTL])': 0.002364066193853428, '([JJS],)': 0.002364066193853428, '([DT], [NNP], [CD], [NN])': 0.002364066193853428, '([NNP], [NNP], [NN], [NNS])': 0.002364066193853428, '([PRP$], [NN])': 0.004728132387706856, '([DT], [JJ], [NN], [NNS])': 0.002364066193853428, '([JJ], [NN])': 0.004728132387706856, '([JJ], [NN], [NN])': 0.002364066193853428, '([PRP$], [JJ], [NNS])': 0.002364066193853428, '([NP], [S])': 0.002364066193853428, '([NNS], [NNS])': 0.002364066193853428, '([DT], [VBG], [NNS])': 0.002364066193853428, '([DT], [CD], [NNS], [NN])': 0.002364066193853428, '([DT], [NNP], [NN], [NN])': 0.002364066193853428, '([NP], [NNP], [NNP])': 0.002364066193853428, '([NP], [JJ], [NN])': 0.002364066193853428, '([JJ], [NNS], [NNS])': 0.002364066193853428, '([NP], [,], [ADJP], [,])': 0.004728132387706856, '([NP], [PP-LOC])': 0.009456264775413711, '([DT], [NN], [JJ], [NN])': 0.002364066193853428, '([JJ], [NNP], [NNP])': 0.002364066193853428, '([DT], [DT], [NNS])': 0.002364066193853428, '([DT], [JJ], [NNS])': 0.004728132387706856, '([NNP], [NNP], [NNP], [NNP])': 0.002364066193853428, '([NP], [PP], [VP])': 0.002364066193853428, '([DT], [JJS], [CD], [NNS])': 0.002364066193853428, '([NNP], [NN])': 0.002364066193853428, '([NN], [CC], [NNS])': 0.002364066193853428, '([NP], [CC], [NP], [DT])': 0.002364066193853428, '([NP], [SBAR-LOC])': 0.002364066193853428, '([VBN], [NNS])': 0.002364066193853428, \"([``], [NNP], [''], [NNS])\": 0.002364066193853428, '([NP], [PP], [PP])': 0.002364066193853428, '([DT], [NN], [NN], [NN])': 0.002364066193853428, '([NN], [NN])': 0.002364066193853428, '([DT], [VBG], [QP], [-NONE-])': 0.002364066193853428, '([FW],)': 0.002364066193853428, '([JJ], [DT], [NN])': 0.002364066193853428, '([NP], [NNP])': 0.002364066193853428, '([NP], [NNP], [NNP], [NNP])': 0.002364066193853428, '([NP], [,], [CC], [NP])': 0.002364066193853428, '([NP], [PP-LOC], [PP-TMP])': 0.002364066193853428, '([VBG], [NNS])': 0.002364066193853428, '([DT], [NN], [S])': 0.002364066193853428, '([JJ], [NNP], [NNS])': 0.002364066193853428, '([PDT], [DT], [NN])': 0.002364066193853428, '([RBS], [JJ], [NN], [NNS])': 0.002364066193853428, '([NP], [CC], [NP])': 0.002364066193853428, '([NP], [NP], [:])': 0.002364066193853428, '([NP], [JJ], [NN], [NN])': 0.002364066193853428, '<unk>': 0.002364066193853428}\n",
      "[NN] {\"('report',)\": 0.00042826552462526765, \"('library',)\": 0.00042826552462526765, \"('department',)\": 0.00042826552462526765, \"('influence',)\": 0.00042826552462526765, \"('sex',)\": 0.00042826552462526765, \"('corruption',)\": 0.00042826552462526765, \"('study',)\": 0.00042826552462526765, \"('ground',)\": 0.00042826552462526765, \"('Micronite',)\": 0.00042826552462526765, \"('money',)\": 0.00042826552462526765, \"('novelist',)\": 0.00042826552462526765, \"('solicitor',)\": 0.00042826552462526765, \"('dam',)\": 0.00042826552462526765, \"('auto',)\": 0.00042826552462526765, \"('school-district',)\": 0.00042826552462526765, \"('pianist-comedian',)\": 0.00042826552462526765, \"('liquid',)\": 0.00042826552462526765, \"('bargain',)\": 0.00042826552462526765, \"('celebrity',)\": 0.00042826552462526765, \"('diaper',)\": 0.00042826552462526765, \"('advantage',)\": 0.00042826552462526765, \"('life-insurance',)\": 0.00042826552462526765, \"('result',)\": 0.00042826552462526765, \"('student',)\": 0.00042826552462526765, \"('responsibility',)\": 0.00042826552462526765, \"('gunship',)\": 0.00042826552462526765, \"('Cartoonist',)\": 0.00042826552462526765, \"('pattern',)\": 0.00042826552462526765, \"('TV',)\": 0.00042826552462526765, \"('publication',)\": 0.00042826552462526765, \"('memo',)\": 0.00042826552462526765, \"('financing',)\": 0.00042826552462526765, \"('aide',)\": 0.00042826552462526765, \"('greed',)\": 0.00042826552462526765, \"('strategy',)\": 0.00042826552462526765, \"('content',)\": 0.00042826552462526765, \"('relationship',)\": 0.00042826552462526765, \"('province',)\": 0.00042826552462526765, \"('theme',)\": 0.00042826552462526765, \"('indifference',)\": 0.00042826552462526765, \"('ownership',)\": 0.00042826552462526765, \"('superconductor',)\": 0.00042826552462526765, \"('evensong',)\": 0.00042826552462526765, \"('explosion',)\": 0.00042826552462526765, \"('specialist',)\": 0.00042826552462526765, \"('arrival',)\": 0.00042826552462526765, \"('attention',)\": 0.00042826552462526765, \"('difficulty',)\": 0.00042826552462526765, \"('confidence',)\": 0.00042826552462526765, \"('road',)\": 0.00042826552462526765, \"('election',)\": 0.00042826552462526765, \"('harassment',)\": 0.00042826552462526765, \"('sake',)\": 0.00042826552462526765, \"('dust',)\": 0.00042826552462526765, \"('opposition',)\": 0.00042826552462526765, \"('fraction',)\": 0.00042826552462526765, \"('Beauty',)\": 0.00042826552462526765, \"('friend',)\": 0.00042826552462526765, \"('Macmillan\\\\/McGraw',)\": 0.00042826552462526765, \"('night',)\": 0.00042826552462526765, \"('example',)\": 0.00042826552462526765, \"('hope',)\": 0.00042826552462526765, \"('difference',)\": 0.00042826552462526765, \"('diamond',)\": 0.00042826552462526765, \"('profession',)\": 0.00042826552462526765, \"('assembly-line',)\": 0.00042826552462526765, \"('manager',)\": 0.00042826552462526765, \"('brand',)\": 0.00042826552462526765, \"('extension',)\": 0.00042826552462526765, \"('business',)\": 0.00042826552462526765, \"('motor-home',)\": 0.00042826552462526765, \"('warehousing',)\": 0.00042826552462526765, \"('subscriber',)\": 0.00042826552462526765, \"('skill',)\": 0.00042826552462526765, \"('deprivation',)\": 0.00042826552462526765, \"('none',)\": 0.00042826552462526765, \"('model',)\": 0.00042826552462526765, \"('reduction',)\": 0.00042826552462526765, \"('lawsuit',)\": 0.00042826552462526765, \"('screen',)\": 0.00042826552462526765, \"('overcrowding',)\": 0.00042826552462526765, \"('PC',)\": 0.00042826552462526765, \"('diabetes',)\": 0.00042826552462526765, \"('compromise',)\": 0.00042826552462526765, \"('state',)\": 0.00042826552462526765, \"('shelter',)\": 0.00042826552462526765, \"('face',)\": 0.00042826552462526765, \"('emphasis',)\": 0.00042826552462526765, \"('cue',)\": 0.00042826552462526765, \"('score',)\": 0.00042826552462526765, \"('texture',)\": 0.00042826552462526765, \"('rancor',)\": 0.00042826552462526765, \"('anticipation',)\": 0.00042826552462526765, \"('billionaire',)\": 0.00042826552462526765, \"('presidency',)\": 0.00042826552462526765, \"('weakening',)\": 0.00042826552462526765, \"('Factory',)\": 0.00042826552462526765, \"('automation',)\": 0.00042826552462526765, \"('revenue',)\": 0.00042826552462526765, \"('yen',)\": 0.00042826552462526765, \"('concession',)\": 0.00042826552462526765, \"('part',)\": 0.00042826552462526765, \"('kicker',)\": 0.00042826552462526765, \"('bit',)\": 0.00042826552462526765, \"('rollover',)\": 0.00042826552462526765, \"('learning',)\": 0.00042826552462526765, \"('caller',)\": 0.00042826552462526765, \"('stress',)\": 0.00042826552462526765, \"('achievement',)\": 0.00042826552462526765, \"('boost',)\": 0.00042826552462526765, \"('A.',)\": 0.00042826552462526765, \"('chance',)\": 0.00042826552462526765, \"('spread',)\": 0.00042826552462526765, \"('lobbyist',)\": 0.00042826552462526765, \"('plot',)\": 0.00042826552462526765, \"('bonus',)\": 0.00042826552462526765, \"('spite',)\": 0.00042826552462526765, \"('Department',)\": 0.00042826552462526765, \"('line',)\": 0.00042826552462526765, \"('betterment',)\": 0.00042826552462526765, \"('fairness',)\": 0.00042826552462526765, \"('fine',)\": 0.00042826552462526765, \"('down',)\": 0.00042826552462526765, \"('No.',)\": 0.00042826552462526765, \"('drawing',)\": 0.00042826552462526765, \"('senate',)\": 0.00042826552462526765, \"('lieu',)\": 0.00042826552462526765, \"('winter',)\": 0.00042826552462526765, \"('representative',)\": 0.00042826552462526765, \"('star',)\": 0.00042826552462526765, \"('Deregulation',)\": 0.00042826552462526765, \"('illness',)\": 0.00042826552462526765, \"('intoxication',)\": 0.00042826552462526765, \"('Program',)\": 0.00042826552462526765, \"('college-bowl',)\": 0.00042826552462526765, \"('news',)\": 0.00042826552462526765, \"('waterworks',)\": 0.00042826552462526765, \"('balance',)\": 0.00042826552462526765, \"('mode',)\": 0.00042826552462526765, \"('therapy',)\": 0.00042826552462526765, \"('thrift',)\": 0.00042826552462526765, \"('physicist',)\": 0.00042826552462526765, \"('swing',)\": 0.00042826552462526765, \"('image',)\": 0.00042826552462526765, \"('application',)\": 0.00042826552462526765, \"('meeting',)\": 0.00042826552462526765, \"('care',)\": 0.00042826552462526765, \"('supermarket',)\": 0.00042826552462526765, \"('advance',)\": 0.00042826552462526765, \"('priority',)\": 0.00042826552462526765, \"('season',)\": 0.00042826552462526765, \"('deputy',)\": 0.00042826552462526765, \"('director',)\": 0.00042826552462526765, \"('engineering',)\": 0.00042826552462526765, \"('need',)\": 0.00042826552462526765, \"('honor',)\": 0.00042826552462526765, \"('tender',)\": 0.00042826552462526765, \"('widget',)\": 0.00042826552462526765, \"('knowledge',)\": 0.00042826552462526765, \"('project',)\": 0.00042826552462526765, \"('electorate',)\": 0.00042826552462526765, \"('franc',)\": 0.00042826552462526765, \"('Share',)\": 0.00042826552462526765, \"('assistance',)\": 0.00042826552462526765, \"('morass',)\": 0.00042826552462526765, \"('mainland',)\": 0.00042826552462526765, \"('crime',)\": 0.00042826552462526765, \"('target',)\": 0.00042826552462526765, \"('push',)\": 0.00042826552462526765, \"('motion',)\": 0.00042826552462526765, \"('disposal',)\": 0.00042826552462526765, \"('patient',)\": 0.00042826552462526765, \"('repair',)\": 0.00042826552462526765, \"('rock',)\": 0.00042826552462526765, \"('camera',)\": 0.00042826552462526765, \"('blood',)\": 0.00042826552462526765, \"('tool',)\": 0.00042826552462526765, \"('downgrade',)\": 0.00042826552462526765, \"('crapshoot',)\": 0.00042826552462526765, \"('child',)\": 0.00042826552462526765, \"('high-technology',)\": 0.00042826552462526765, \"('girl',)\": 0.00042826552462526765, \"('prayer',)\": 0.00042826552462526765, \"('dancing',)\": 0.00042826552462526765, \"('initiative',)\": 0.00042826552462526765, \"('experience',)\": 0.00042826552462526765, \"('refrigerator',)\": 0.00042826552462526765, \"('resistance',)\": 0.00042826552462526765, \"('notion',)\": 0.00042826552462526765, \"('globe',)\": 0.00042826552462526765, \"('door',)\": 0.00042826552462526765, \"('modification',)\": 0.00042826552462526765, \"('force',)\": 0.00042826552462526765, \"('try',)\": 0.00042826552462526765, \"('conference',)\": 0.00042826552462526765, \"('55-year-old',)\": 0.00042826552462526765, \"('ankle',)\": 0.00042826552462526765, \"('time',)\": 0.00042826552462526765, \"('rapport',)\": 0.00042826552462526765, \"('seller',)\": 0.00042826552462526765, \"('baseball',)\": 0.00042826552462526765, \"('office',)\": 0.00042826552462526765, \"('pulp',)\": 0.00042826552462526765, \"('tax',)\": 0.00042826552462526765, \"('legislation',)\": 0.00042826552462526765, \"('picture',)\": 0.00042826552462526765, \"('collection',)\": 0.00042826552462526765, \"('spouse',)\": 0.00042826552462526765, \"('agriculture',)\": 0.00042826552462526765, \"('investigation',)\": 0.00042826552462526765, \"('competitor',)\": 0.00042826552462526765, \"('passion',)\": 0.00042826552462526765, \"('division',)\": 0.00042826552462526765, \"('rim',)\": 0.00042826552462526765, \"('value',)\": 0.00042826552462526765, \"('petition',)\": 0.00042826552462526765, \"('announcer',)\": 0.00042826552462526765, \"('store',)\": 0.00042826552462526765, \"('catch',)\": 0.00042826552462526765, \"('disagreement',)\": 0.00042826552462526765, \"('one',)\": 0.00042826552462526765, \"('consumer',)\": 0.00042826552462526765, \"('actor',)\": 0.00042826552462526765, \"('band',)\": 0.00042826552462526765, \"('clouding',)\": 0.00042826552462526765, \"('disaster',)\": 0.00042826552462526765, \"('checkbook',)\": 0.00042826552462526765, \"('penny',)\": 0.00042826552462526765, \"('lifting',)\": 0.00042826552462526765, \"('tariff',)\": 0.00042826552462526765, \"('slump',)\": 0.00042826552462526765, \"('vintage',)\": 0.00042826552462526765, \"('prison',)\": 0.00042826552462526765, \"('afternoon',)\": 0.00042826552462526765, \"('creator',)\": 0.00042826552462526765, \"('DIAPER',)\": 0.00042826552462526765, \"('quantity',)\": 0.00042826552462526765, \"('ultimatum',)\": 0.00042826552462526765, \"('enrollment',)\": 0.00042826552462526765, \"('chatter',)\": 0.00042826552462526765, \"('Catch\": 0.00042826552462526765, \"('veto',)\": 0.00042826552462526765, \"('bill',)\": 0.00042826552462526765, \"('sugar',)\": 0.00042826552462526765, \"('debut',)\": 0.00042826552462526765, \"('truck',)\": 0.00042826552462526765, \"('pain',)\": 0.00042826552462526765, \"('denial',)\": 0.00042826552462526765, \"('betrayer',)\": 0.00042826552462526765, \"('gold',)\": 0.00042826552462526765, \"('gift',)\": 0.00042826552462526765, \"('consideration',)\": 0.00042826552462526765, \"('cataract',)\": 0.00042826552462526765, \"('warning',)\": 0.00042826552462526765, \"('viewership',)\": 0.00042826552462526765, \"('remorse',)\": 0.00042826552462526765, \"('temperature',)\": 0.00042826552462526765, \"('logic',)\": 0.00042826552462526765, \"('everybody',)\": 0.00042826552462526765, \"('slew',)\": 0.00042826552462526765, \"('sign',)\": 0.00042826552462526765, \"('trend',)\": 0.00042826552462526765, \"('bell',)\": 0.00042826552462526765, \"('import',)\": 0.00042826552462526765, \"('mudslinging',)\": 0.00042826552462526765, \"('overhead',)\": 0.00042826552462526765, \"('successor',)\": 0.00042826552462526765, \"('respect',)\": 0.00042826552462526765, \"('survivor',)\": 0.00042826552462526765, \"('shot',)\": 0.00042826552462526765, \"('crash',)\": 0.00042826552462526765, \"('evaluation',)\": 0.00042826552462526765, \"('widow',)\": 0.00042826552462526765, \"('rampage',)\": 0.00042826552462526765, \"('livestock',)\": 0.00042826552462526765, \"('bronze',)\": 0.00042826552462526765, \"('product',)\": 0.00042826552462526765, \"('area',)\": 0.00042826552462526765, \"('general',)\": 0.00042826552462526765, \"('referenda',)\": 0.00042826552462526765, \"('effort',)\": 0.00042826552462526765, \"('transition',)\": 0.00042826552462526765, \"('inner-city',)\": 0.00042826552462526765, \"('victim',)\": 0.00042826552462526765, \"('class',)\": 0.00042826552462526765, \"('notch',)\": 0.00042826552462526765, \"('trading',)\": 0.00042826552462526765, \"('scoop',)\": 0.00042826552462526765, \"('marketplace',)\": 0.00042826552462526765, \"('volunteer',)\": 0.00042826552462526765, \"('information',)\": 0.00042826552462526765, \"('lead',)\": 0.00042826552462526765, \"('wheat',)\": 0.00042826552462526765, \"('knight',)\": 0.00042826552462526765, \"('Part',)\": 0.00042826552462526765, \"('butterfly',)\": 0.00042826552462526765, \"('Propaganda',)\": 0.00042826552462526765, \"('acceleration',)\": 0.00042826552462526765, \"('support',)\": 0.00042826552462526765, \"('coupon',)\": 0.00042826552462526765, \"('skin',)\": 0.00042826552462526765, \"('close',)\": 0.00042826552462526765, \"('headline',)\": 0.00042826552462526765, \"('Copperweld',)\": 0.00042826552462526765, \"('picket',)\": 0.00042826552462526765, \"('society',)\": 0.00042826552462526765, \"('appeal',)\": 0.00042826552462526765, \"('witness',)\": 0.00042826552462526765, \"('rendering',)\": 0.00042826552462526765, \"('Recess',)\": 0.00042826552462526765, \"('overtime',)\": 0.00042826552462526765, \"('paperback',)\": 0.00042826552462526765, \"('review',)\": 0.00042826552462526765, \"('aftermath',)\": 0.00042826552462526765, \"('lure',)\": 0.00042826552462526765, \"('range',)\": 0.00042826552462526765, \"('connection',)\": 0.00042826552462526765, \"('lens',)\": 0.00042826552462526765, \"('evolution',)\": 0.00042826552462526765, \"('Diaper',)\": 0.00042826552462526765, \"('right',)\": 0.00042826552462526765, \"('housewife',)\": 0.00042826552462526765, \"('powder',)\": 0.00042826552462526765, \"('amount',)\": 0.00042826552462526765, \"('bell-ringer',)\": 0.00042826552462526765, \"('forum',)\": 0.00042826552462526765, \"('print',)\": 0.00042826552462526765, \"('concentration',)\": 0.00042826552462526765, \"('impetus',)\": 0.00042826552462526765, \"('presence',)\": 0.00042826552462526765, \"('bank',)\": 0.00042826552462526765, \"('retirement',)\": 0.00042826552462526765, \"('timing',)\": 0.00042826552462526765, \"('statue',)\": 0.00042826552462526765, \"('edition',)\": 0.00042826552462526765, \"('democracy',)\": 0.00042826552462526765, \"('nose',)\": 0.00042826552462526765, \"('outside',)\": 0.00042826552462526765, \"('chamber',)\": 0.00042826552462526765, \"('football',)\": 0.00042826552462526765, \"('garage',)\": 0.00042826552462526765, \"('Card',)\": 0.00042826552462526765, \"('fringe',)\": 0.00042826552462526765, \"('entrepreneur',)\": 0.00042826552462526765, \"('downtown',)\": 0.00042826552462526765, \"('incentive',)\": 0.00042826552462526765, \"('checking',)\": 0.00042826552462526765, \"('production',)\": 0.00042826552462526765, \"('session',)\": 0.00042826552462526765, \"('morbidity',)\": 0.00042826552462526765, \"('suppression',)\": 0.00042826552462526765, \"('mignon',)\": 0.00042826552462526765, \"('leasing',)\": 0.00042826552462526765, \"('brokerage',)\": 0.00042826552462526765, \"('belfry',)\": 0.00042826552462526765, \"('life-style',)\": 0.00042826552462526765, \"('tea',)\": 0.00042826552462526765, \"('Power',)\": 0.00042826552462526765, \"('broker',)\": 0.00042826552462526765, \"('duckling',)\": 0.00042826552462526765, \"('plastic',)\": 0.00042826552462526765, \"('guide',)\": 0.00042826552462526765, \"('fanfare',)\": 0.00042826552462526765, \"('piracy',)\": 0.00042826552462526765, \"('bottle',)\": 0.00042826552462526765, \"('organization',)\": 0.00042826552462526765, \"('backing',)\": 0.00042826552462526765, \"('payoff',)\": 0.00042826552462526765, \"('retailer',)\": 0.00042826552462526765, \"('section',)\": 0.00042826552462526765, \"('member',)\": 0.00042826552462526765, \"('AC\": 0.00042826552462526765, \"('finance',)\": 0.00042826552462526765, \"('crowd',)\": 0.00042826552462526765, \"('torrent',)\": 0.00042826552462526765, \"('portfolio',)\": 0.00042826552462526765, \"('misdemeanor',)\": 0.00042826552462526765, \"('exhaust',)\": 0.00042826552462526765, \"('producer',)\": 0.00042826552462526765, \"('computer',)\": 0.00042826552462526765, \"('refuge',)\": 0.00042826552462526765, \"('limitation',)\": 0.00042826552462526765, \"('Packaging',)\": 0.00042826552462526765, \"('subject',)\": 0.00042826552462526765, \"('wage',)\": 0.00042826552462526765, \"('casino',)\": 0.00042826552462526765, \"('group',)\": 0.00042826552462526765, \"('treatment',)\": 0.00042826552462526765, \"('cash',)\": 0.00042826552462526765, \"('hardware',)\": 0.00042826552462526765, \"('viewpoint',)\": 0.00042826552462526765, \"('legislature',)\": 0.00042826552462526765, \"('and',)\": 0.00042826552462526765, \"('campus',)\": 0.00042826552462526765, \"('punishment',)\": 0.00042826552462526765, \"('progress',)\": 0.00042826552462526765, \"('philosophy',)\": 0.00042826552462526765, \"('boogieman',)\": 0.00042826552462526765, \"('story',)\": 0.00042826552462526765, \"('tow',)\": 0.00042826552462526765, \"('Consequence',)\": 0.00042826552462526765, \"('current',)\": 0.00042826552462526765, \"('lack',)\": 0.00042826552462526765, \"('citizen',)\": 0.00042826552462526765, \"('cut',)\": 0.00042826552462526765, \"('coliseum',)\": 0.00042826552462526765, \"('program',)\": 0.00042826552462526765, \"('merchandise',)\": 0.00042826552462526765, \"('promise',)\": 0.00042826552462526765, \"('auditor',)\": 0.00042826552462526765, \"('recovery',)\": 0.00042826552462526765, \"('logo',)\": 0.00042826552462526765, \"('commodity',)\": 0.00042826552462526765, \"('banquet',)\": 0.00042826552462526765, \"('book',)\": 0.00042826552462526765, \"('water-authority',)\": 0.00042826552462526765, \"('purse',)\": 0.00042826552462526765, \"('plane',)\": 0.00042826552462526765, \"('rhythm',)\": 0.00042826552462526765, \"('outcry',)\": 0.00042826552462526765, \"('deadwood',)\": 0.00042826552462526765, \"('layer',)\": 0.00042826552462526765, \"('attack',)\": 0.00042826552462526765, \"('life',)\": 0.00042826552462526765, \"('net',)\": 0.00042826552462526765, \"('autumn',)\": 0.00042826552462526765, \"('half',)\": 0.00042826552462526765, \"('counterweight',)\": 0.00042826552462526765, \"('sauce',)\": 0.00042826552462526765, \"('police',)\": 0.00042826552462526765, \"('replacement',)\": 0.00042826552462526765, \"('enforcement',)\": 0.00042826552462526765, \"('field',)\": 0.00042826552462526765, \"('girlfriend',)\": 0.00042826552462526765, \"('lion',)\": 0.00042826552462526765, \"('licensing',)\": 0.00042826552462526765, \"('outlay',)\": 0.00042826552462526765, \"('launch',)\": 0.00042826552462526765, \"('turnover',)\": 0.00042826552462526765, \"('friction',)\": 0.00042826552462526765, \"('newcomer',)\": 0.00042826552462526765, \"('block',)\": 0.00042826552462526765, \"('oilman',)\": 0.00042826552462526765, \"('associate',)\": 0.00042826552462526765, \"('innovation',)\": 0.00042826552462526765, \"('market',)\": 0.00042826552462526765, \"('inverse',)\": 0.00042826552462526765, \"('briefing',)\": 0.00042826552462526765, \"('pretext',)\": 0.00042826552462526765, \"('diversification',)\": 0.00042826552462526765, \"('spin-off',)\": 0.00042826552462526765, \"('injury',)\": 0.00042826552462526765, \"('working',)\": 0.00042826552462526765, \"('choosing',)\": 0.00042826552462526765, \"('investing',)\": 0.00042826552462526765, \"('obsession',)\": 0.00042826552462526765, \"('district',)\": 0.00042826552462526765, \"('counterattack',)\": 0.00042826552462526765, \"('reorganization',)\": 0.00042826552462526765, \"('PHOTOGRAPH',)\": 0.00042826552462526765, \"('BALLOT',)\": 0.00042826552462526765, \"('predecessor',)\": 0.00042826552462526765, \"('lunch',)\": 0.00042826552462526765, \"('raising',)\": 0.00042826552462526765, \"('currency',)\": 0.00042826552462526765, \"('wealth',)\": 0.00042826552462526765, \"('maturity',)\": 0.00042826552462526765, \"('electricity',)\": 0.00042826552462526765, \"('landing',)\": 0.00042826552462526765, \"('exercise',)\": 0.00042826552462526765, \"('turnaround',)\": 0.00042826552462526765, \"('speech',)\": 0.00042826552462526765, \"('one-third',)\": 0.00042826552462526765, \"('curse',)\": 0.00042826552462526765, \"('Dec.',)\": 0.00042826552462526765, \"('escort',)\": 0.00042826552462526765, \"('purpose',)\": 0.00042826552462526765, \"('food-industry',)\": 0.00042826552462526765, \"('undersecretary',)\": 0.00042826552462526765, \"('respite',)\": 0.00042826552462526765, \"('collar',)\": 0.00042826552462526765, \"('ban',)\": 0.00042826552462526765, \"('purhasing',)\": 0.00042826552462526765, \"('player',)\": 0.00042826552462526765, \"('arsenide',)\": 0.00042826552462526765, \"('voting',)\": 0.00042826552462526765, \"('pollution',)\": 0.00042826552462526765, \"('gelatin',)\": 0.00042826552462526765, \"('change-ringing',)\": 0.00042826552462526765, \"('Japanese',)\": 0.00042826552462526765, \"('Oil',)\": 0.00042826552462526765, \"('midtown',)\": 0.00042826552462526765, \"('storm',)\": 0.00042826552462526765, \"('rapprochement',)\": 0.00042826552462526765, \"('issue',)\": 0.00042826552462526765, \"('blank',)\": 0.00042826552462526765, \"('telegraph',)\": 0.00042826552462526765, \"('boom',)\": 0.00042826552462526765, \"('acetate',)\": 0.00042826552462526765, \"('%',)\": 0.00042826552462526765, \"('decision',)\": 0.00042826552462526765, \"('Labor',)\": 0.00042826552462526765, \"('sluggishness',)\": 0.00042826552462526765, \"('laser',)\": 0.00042826552462526765, \"('wines',)\": 0.00042826552462526765, \"('lore',)\": 0.00042826552462526765, \"('fancy',)\": 0.00042826552462526765, \"('History',)\": 0.00042826552462526765, \"('capability',)\": 0.00042826552462526765, \"('scrutiny',)\": 0.00042826552462526765, \"('Test',)\": 0.00042826552462526765, \"('campaign',)\": 0.00042826552462526765, \"('weight',)\": 0.00042826552462526765, \"('corporation',)\": 0.00042826552462526765, \"('den',)\": 0.00042826552462526765, \"('proviso',)\": 0.00042826552462526765, \"('cleanliness',)\": 0.00042826552462526765, \"('kind',)\": 0.00042826552462526765, \"('reaction',)\": 0.00042826552462526765, \"('Index',)\": 0.00042826552462526765, \"('shame',)\": 0.00042826552462526765, \"('workplace',)\": 0.00042826552462526765, \"('grade',)\": 0.00042826552462526765, \"('satisfaction',)\": 0.00042826552462526765, \"('quality',)\": 0.00042826552462526765, \"('pit',)\": 0.00042826552462526765, \"('necklace',)\": 0.00042826552462526765, \"('permission',)\": 0.00042826552462526765, \"('conviction',)\": 0.00042826552462526765, \"('mayor',)\": 0.00042826552462526765, \"('institution',)\": 0.00042826552462526765, \"('Lorillard',)\": 0.00042826552462526765, \"('syndrome',)\": 0.00042826552462526765, \"('caution',)\": 0.00042826552462526765, \"('diagram',)\": 0.00042826552462526765, \"('merchant',)\": 0.00042826552462526765, \"('portion',)\": 0.00042826552462526765, \"('city',)\": 0.00042826552462526765, \"('businessman',)\": 0.00042826552462526765, \"('idea',)\": 0.00042826552462526765, \"('panic',)\": 0.00042826552462526765, \"('relevance',)\": 0.00042826552462526765, \"('plus',)\": 0.00042826552462526765, \"('format',)\": 0.00042826552462526765, \"('low-altitude',)\": 0.00042826552462526765, \"('defense',)\": 0.00042826552462526765, \"('Yesterday',)\": 0.00042826552462526765, \"('host',)\": 0.00042826552462526765, \"('highway',)\": 0.00042826552462526765, \"('replacement-car',)\": 0.00042826552462526765, \"('chemical',)\": 0.00042826552462526765, \"('home',)\": 0.00042826552462526765, \"('table',)\": 0.00042826552462526765, \"('reinstatement',)\": 0.00042826552462526765, \"('tally',)\": 0.00042826552462526765, \"('hysteria',)\": 0.00042826552462526765, \"('chairman',)\": 0.00042826552462526765, \"('gas',)\": 0.00042826552462526765, \"('sound',)\": 0.00042826552462526765, \"('bulk',)\": 0.00042826552462526765, \"('traitor',)\": 0.00042826552462526765, \"('toilet',)\": 0.00042826552462526765, \"('scholar',)\": 0.00042826552462526765, \"('activity',)\": 0.00042826552462526765, \"('hypocrisy',)\": 0.00042826552462526765, \"('protection',)\": 0.00042826552462526765, \"('package',)\": 0.00042826552462526765, \"('computing',)\": 0.00042826552462526765, \"('Today',)\": 0.00042826552462526765, \"('snow',)\": 0.00042826552462526765, \"('achievement-test',)\": 0.00042826552462526765, \"('in',)\": 0.00042826552462526765, \"('ovation',)\": 0.00042826552462526765, \"('wave',)\": 0.00042826552462526765, \"('signature',)\": 0.00042826552462526765, \"('side',)\": 0.00042826552462526765, \"('watch',)\": 0.00042826552462526765, \"('Speculation',)\": 0.00042826552462526765, \"('role',)\": 0.00042826552462526765, \"('household',)\": 0.00042826552462526765, \"('ABORTION',)\": 0.00042826552462526765, \"('psychology',)\": 0.00042826552462526765, \"('spokeswoman',)\": 0.00042826552462526765, \"('denominator',)\": 0.00042826552462526765, \"('Use',)\": 0.00042826552462526765, \"('agenda',)\": 0.00042826552462526765, \"('free-enterprise',)\": 0.00042826552462526765, \"('beauty',)\": 0.00042826552462526765, \"('minister',)\": 0.00042826552462526765, \"('elimination',)\": 0.00042826552462526765, \"('authority',)\": 0.00042826552462526765, \"('chalk',)\": 0.00042826552462526765, \"('recorder',)\": 0.00042826552462526765, \"('investor',)\": 0.00042826552462526765, \"('debacle',)\": 0.00042826552462526765, \"('potential',)\": 0.00042826552462526765, \"('co-chairman',)\": 0.00042826552462526765, \"('Government',)\": 0.00042826552462526765, \"('scale',)\": 0.00042826552462526765, \"('shipping',)\": 0.00042826552462526765, \"('ballroom',)\": 0.00042826552462526765, \"('mistake',)\": 0.00042826552462526765, \"('creature',)\": 0.00042826552462526765, \"('man',)\": 0.00042826552462526765, \"('trading-company',)\": 0.00042826552462526765, \"('detail',)\": 0.00042826552462526765, \"('stable',)\": 0.00042826552462526765, \"('vote',)\": 0.00042826552462526765, \"('country',)\": 0.00042826552462526765, \"('luck',)\": 0.00042826552462526765, \"('executive',)\": 0.00042826552462526765, \"('heart',)\": 0.00042826552462526765, \"('disease',)\": 0.00042826552462526765, \"('silicon',)\": 0.00042826552462526765, \"('spokewoman',)\": 0.00042826552462526765, \"('movie',)\": 0.00042826552462526765, \"('schoolteacher',)\": 0.00042826552462526765, \"('abuse',)\": 0.00042826552462526765, \"('pill',)\": 0.00042826552462526765, \"('key',)\": 0.00042826552462526765, \"('thing',)\": 0.00042826552462526765, \"('likeness',)\": 0.00042826552462526765, \"('branch',)\": 0.00042826552462526765, \"('nomination',)\": 0.00042826552462526765, \"('credit-rating',)\": 0.00042826552462526765, \"('subindustry',)\": 0.00042826552462526765, \"('ire',)\": 0.00042826552462526765, \"('jeopardy',)\": 0.00042826552462526765, \"('bond',)\": 0.00042826552462526765, \"('courage',)\": 0.00042826552462526765, \"('resort',)\": 0.00042826552462526765, \"('while',)\": 0.00042826552462526765, \"('bid',)\": 0.00042826552462526765, \"('tradition',)\": 0.00042826552462526765, \"('understanding',)\": 0.00042826552462526765, \"('handful',)\": 0.00042826552462526765, \"('uptick',)\": 0.00042826552462526765, \"('multitude',)\": 0.00042826552462526765, \"('filling',)\": 0.00042826552462526765, \"('focus',)\": 0.00042826552462526765, \"('biscuit',)\": 0.00042826552462526765, \"('neighborhood',)\": 0.00042826552462526765, \"('search',)\": 0.00042826552462526765, \"('pride',)\": 0.00042826552462526765, \"('helm',)\": 0.00042826552462526765, \"('acre',)\": 0.00042826552462526765, \"('squeeze',)\": 0.00042826552462526765, \"('drink',)\": 0.00042826552462526765, \"('trader',)\": 0.00042826552462526765, \"('travel',)\": 0.00042826552462526765, \"('dissident',)\": 0.00042826552462526765, \"('retaliation',)\": 0.00042826552462526765, \"('name',)\": 0.00042826552462526765, \"('assistant',)\": 0.00042826552462526765, \"('deadline',)\": 0.00042826552462526765, \"('preparation',)\": 0.00042826552462526765, \"('nature',)\": 0.00042826552462526765, \"('buy',)\": 0.00042826552462526765, \"('front',)\": 0.00042826552462526765, \"('criminal',)\": 0.00042826552462526765, \"('labor',)\": 0.00042826552462526765, \"('benchmark',)\": 0.00042826552462526765, \"('Erbamont',)\": 0.00042826552462526765, \"('copyright',)\": 0.00042826552462526765, \"('mesothelioma',)\": 0.00042826552462526765, \"('examination',)\": 0.00042826552462526765, \"('gamut',)\": 0.00042826552462526765, \"('announcement',)\": 0.00042826552462526765, \"('minimum',)\": 0.00042826552462526765, \"('Image',)\": 0.00042826552462526765, \"('mind',)\": 0.00042826552462526765, \"('price',)\": 0.00042826552462526765, \"('teacher',)\": 0.00042826552462526765, \"('poverty',)\": 0.00042826552462526765, \"('house',)\": 0.00042826552462526765, \"('courtroom',)\": 0.00042826552462526765, \"('savings',)\": 0.00042826552462526765, \"('middle',)\": 0.00042826552462526765, \"('page-one',)\": 0.00042826552462526765, \"('link',)\": 0.00042826552462526765, \"('troop',)\": 0.00042826552462526765, \"('extent',)\": 0.00042826552462526765, \"('buck',)\": 0.00042826552462526765, \"('merger',)\": 0.00042826552462526765, \"('Design',)\": 0.00042826552462526765, \"('desire',)\": 0.00042826552462526765, \"('paper',)\": 0.00042826552462526765, \"('municipality',)\": 0.00042826552462526765, \"('appropriation',)\": 0.00042826552462526765, \"('condition',)\": 0.00042826552462526765, \"('opinion',)\": 0.00042826552462526765, \"('struggle',)\": 0.00042826552462526765, \"('reinvestment',)\": 0.00042826552462526765, \"('citation',)\": 0.00042826552462526765, \"('complaint',)\": 0.00042826552462526765, \"('position',)\": 0.00042826552462526765, \"('analysis',)\": 0.00042826552462526765, \"('markdown',)\": 0.00042826552462526765, \"('mininum-wage',)\": 0.00042826552462526765, \"('racket',)\": 0.00042826552462526765, \"('defeat',)\": 0.00042826552462526765, \"('testing',)\": 0.00042826552462526765, \"('talk-show',)\": 0.00042826552462526765, \"('litigation',)\": 0.00042826552462526765, \"('jail',)\": 0.00042826552462526765, \"('scientist',)\": 0.00042826552462526765, \"('Revenue',)\": 0.00042826552462526765, \"('Everyone',)\": 0.00042826552462526765, \"('Volatility',)\": 0.00042826552462526765, \"('freeway',)\": 0.00042826552462526765, \"('Evidence',)\": 0.00042826552462526765, \"('oil',)\": 0.00042826552462526765, \"('box',)\": 0.00042826552462526765, \"('note',)\": 0.00042826552462526765, \"('campaigning',)\": 0.00042826552462526765, \"('scenario',)\": 0.00042826552462526765, \"('spirit',)\": 0.00042826552462526765, \"('bellwether',)\": 0.00042826552462526765, \"('chain',)\": 0.00042826552462526765, \"('deal',)\": 0.00042826552462526765, \"('speedway',)\": 0.00042826552462526765, \"('test',)\": 0.00042826552462526765, \"('ball',)\": 0.00042826552462526765, \"('integration',)\": 0.00042826552462526765, \"('contractor',)\": 0.00042826552462526765, \"('dismay',)\": 0.00042826552462526765, \"('notice',)\": 0.00042826552462526765, \"('task',)\": 0.00042826552462526765, \"('boutique',)\": 0.00042826552462526765, \"('visit',)\": 0.00042826552462526765, \"('work',)\": 0.00042826552462526765, \"('gain',)\": 0.00042826552462526765, \"('pie',)\": 0.00042826552462526765, \"('interference',)\": 0.00042826552462526765, \"('polystyrene',)\": 0.00042826552462526765, \"('intrusion',)\": 0.00042826552462526765, \"('surplus',)\": 0.00042826552462526765, \"('crackdown',)\": 0.00042826552462526765, \"('back',)\": 0.00042826552462526765, \"('real-estate',)\": 0.00042826552462526765, \"('resignation',)\": 0.00042826552462526765, \"('cost',)\": 0.00042826552462526765, \"('cooperation',)\": 0.00042826552462526765, \"('equivalent',)\": 0.00042826552462526765, \"('age',)\": 0.00042826552462526765, \"('mill',)\": 0.00042826552462526765, \"('television',)\": 0.00042826552462526765, \"('longevity',)\": 0.00042826552462526765, \"('objective',)\": 0.00042826552462526765, \"('worth',)\": 0.00042826552462526765, \"('headquarters',)\": 0.00042826552462526765, \"('penchant',)\": 0.00042826552462526765, \"('abortion',)\": 0.00042826552462526765, \"('high',)\": 0.00042826552462526765, \"('safety',)\": 0.00042826552462526765, \"('sponsor',)\": 0.00042826552462526765, \"('inadequacy',)\": 0.00042826552462526765, \"('murder',)\": 0.00042826552462526765, \"('bang',)\": 0.00042826552462526765, \"('syndication',)\": 0.00042826552462526765, \"('malnutrition',)\": 0.00042826552462526765, \"('unraveling',)\": 0.00042826552462526765, \"('withdrawal',)\": 0.00042826552462526765, \"('liability',)\": 0.00042826552462526765, \"('stature',)\": 0.00042826552462526765, \"('car-development',)\": 0.00042826552462526765, \"('recess',)\": 0.00042826552462526765, \"('inventory',)\": 0.00042826552462526765, \"('actress',)\": 0.00042826552462526765, \"('spending',)\": 0.00042826552462526765, \"('blow',)\": 0.00042826552462526765, \"('leadership',)\": 0.00042826552462526765, \"('figure',)\": 0.00042826552462526765, \"('record',)\": 0.00042826552462526765, \"('fabricator',)\": 0.00042826552462526765, \"('formula',)\": 0.00042826552462526765, \"('prosecution',)\": 0.00042826552462526765, \"('shortage',)\": 0.00042826552462526765, \"('plenty',)\": 0.00042826552462526765, \"('geography',)\": 0.00042826552462526765, \"('architecture',)\": 0.00042826552462526765, \"('sell',)\": 0.00042826552462526765, \"('past',)\": 0.00042826552462526765, \"('Spirit',)\": 0.00042826552462526765, \"('steelmaker',)\": 0.00042826552462526765, \"('royalty',)\": 0.00042826552462526765, \"('beginning',)\": 0.00042826552462526765, \"('patent',)\": 0.00042826552462526765, \"('breakfast',)\": 0.00042826552462526765, \"('estimation',)\": 0.00042826552462526765, \"('father-in-law',)\": 0.00042826552462526765, \"('booklet',)\": 0.00042826552462526765, \"('chunk',)\": 0.00042826552462526765, \"('health',)\": 0.00042826552462526765, \"('argument',)\": 0.00042826552462526765, \"('trust',)\": 0.00042826552462526765, \"('rebellion',)\": 0.00042826552462526765, \"('Pretax',)\": 0.00042826552462526765, \"('substance',)\": 0.00042826552462526765, \"('sweat',)\": 0.00042826552462526765, \"('Section',)\": 0.00042826552462526765, \"('peal',)\": 0.00042826552462526765, \"('grain',)\": 0.00042826552462526765, \"('practice',)\": 0.00042826552462526765, \"('folio',)\": 0.00042826552462526765, \"('logjam',)\": 0.00042826552462526765, \"('body',)\": 0.00042826552462526765, \"('disregard',)\": 0.00042826552462526765, \"('era',)\": 0.00042826552462526765, \"('rope',)\": 0.00042826552462526765, \"('Esso',)\": 0.00042826552462526765, \"('year',)\": 0.00042826552462526765, \"('slack',)\": 0.00042826552462526765, \"('participation',)\": 0.00042826552462526765, \"('Teacher',)\": 0.00042826552462526765, \"('point',)\": 0.00042826552462526765, \"('change',)\": 0.00042826552462526765, \"('romance',)\": 0.00042826552462526765, \"('way',)\": 0.00042826552462526765, \"('form',)\": 0.00042826552462526765, \"('effect',)\": 0.00042826552462526765, \"('transplant',)\": 0.00042826552462526765, \"('stuff',)\": 0.00042826552462526765, \"('bearing',)\": 0.00042826552462526765, \"('newspaper',)\": 0.00042826552462526765, \"('parliament',)\": 0.00042826552462526765, \"('use',)\": 0.00042826552462526765, \"('CREATOR'S',)\": 0.00042826552462526765, \"('loss',)\": 0.00042826552462526765, \"('interpretation',)\": 0.00042826552462526765, \"('funding',)\": 0.00042826552462526765, \"('cabinet',)\": 0.00042826552462526765, \"('ticket',)\": 0.00042826552462526765, \"('proposition',)\": 0.00042826552462526765, \"('microwave',)\": 0.00042826552462526765, \"('space',)\": 0.00042826552462526765, \"('prospect',)\": 0.00042826552462526765, \"('Fahrenheit',)\": 0.00042826552462526765, \"('holder',)\": 0.00042826552462526765, \"('data',)\": 0.00042826552462526765, \"('Backseat',)\": 0.00042826552462526765, \"('contract',)\": 0.00042826552462526765, \"('parking',)\": 0.00042826552462526765, \"('circuit-breaker',)\": 0.00042826552462526765, \"('self-esteem',)\": 0.00042826552462526765, \"('fault',)\": 0.00042826552462526765, \"('ballpark',)\": 0.00042826552462526765, \"('device',)\": 0.00042826552462526765, \"('traffic',)\": 0.00042826552462526765, \"('twin',)\": 0.00042826552462526765, \"('supercomputer',)\": 0.00042826552462526765, \"('Money',)\": 0.00042826552462526765, \"('journal',)\": 0.00042826552462526765, \"('option',)\": 0.00042826552462526765, \"('State',)\": 0.00042826552462526765, \"('beer-belly',)\": 0.00042826552462526765, \"('propaganda',)\": 0.00042826552462526765, \"('survival',)\": 0.00042826552462526765, \"('thirtysomething',)\": 0.00042826552462526765, \"('obligation',)\": 0.00042826552462526765, \"('operating',)\": 0.00042826552462526765, \"('Texan',)\": 0.00042826552462526765, \"('Velcro',)\": 0.00042826552462526765, \"('allocation',)\": 0.00042826552462526765, \"('fit',)\": 0.00042826552462526765, \"('sort',)\": 0.00042826552462526765, \"('species',)\": 0.00042826552462526765, \"('Cruise',)\": 0.00042826552462526765, \"('coaching',)\": 0.00042826552462526765, \"('thought',)\": 0.00042826552462526765, \"('disadvantage',)\": 0.00042826552462526765, \"('creditworthiness',)\": 0.00042826552462526765, \"('powerhouse',)\": 0.00042826552462526765, \"('lawyer',)\": 0.00042826552462526765, \"('publishing',)\": 0.00042826552462526765, \"('retort',)\": 0.00042826552462526765, \"('kidnapper',)\": 0.00042826552462526765, \"('good',)\": 0.00042826552462526765, \"('involvement',)\": 0.00042826552462526765, \"('radio',)\": 0.00042826552462526765, \"('street',)\": 0.00042826552462526765, \"('percentage',)\": 0.00042826552462526765, \"('sogo-shosha',)\": 0.00042826552462526765, \"('fund',)\": 0.00042826552462526765, \"('crane-safety',)\": 0.00042826552462526765, \"('size',)\": 0.00042826552462526765, \"('mega-stadium',)\": 0.00042826552462526765, \"('reform',)\": 0.00042826552462526765, \"('factory',)\": 0.00042826552462526765, \"('creation',)\": 0.00042826552462526765, \"('limit',)\": 0.00042826552462526765, \"('sight',)\": 0.00042826552462526765, \"('settlement',)\": 0.00042826552462526765, \"('preference',)\": 0.00042826552462526765, \"('economist',)\": 0.00042826552462526765, \"('bidding',)\": 0.00042826552462526765, \"('quarter',)\": 0.00042826552462526765, \"('vicar',)\": 0.00042826552462526765, \"('newsstand',)\": 0.00042826552462526765, \"('distribution',)\": 0.00042826552462526765, \"('landfill',)\": 0.00042826552462526765, \"('pioneer',)\": 0.00042826552462526765, \"('similarity',)\": 0.00042826552462526765, \"('superintendent',)\": 0.00042826552462526765, \"('act',)\": 0.00042826552462526765, \"('cable',)\": 0.00042826552462526765, \"('following',)\": 0.00042826552462526765, \"('agency',)\": 0.00042826552462526765, \"('introduction',)\": 0.00042826552462526765, \"('fact',)\": 0.00042826552462526765, \"('location',)\": 0.00042826552462526765, \"('gambling',)\": 0.00042826552462526765, \"('envoy',)\": 0.00042826552462526765, \"('Safety',)\": 0.00042826552462526765, \"('COLLECTING',)\": 0.00042826552462526765, \"('response',)\": 0.00042826552462526765, \"('stock-market',)\": 0.00042826552462526765, \"('blender',)\": 0.00042826552462526765, \"('concern',)\": 0.00042826552462526765, \"('trade',)\": 0.00042826552462526765, \"('angle',)\": 0.00042826552462526765, \"('fledgling',)\": 0.00042826552462526765, \"('apple',)\": 0.00042826552462526765, \"('Wine',)\": 0.00042826552462526765, \"('duo',)\": 0.00042826552462526765, \"('renewal',)\": 0.00042826552462526765, \"('card',)\": 0.00042826552462526765, \"('cardboard',)\": 0.00042826552462526765, \"('owner',)\": 0.00042826552462526765, \"('fee',)\": 0.00042826552462526765, \"('heartland',)\": 0.00042826552462526765, \"('access',)\": 0.00042826552462526765, \"('community',)\": 0.00042826552462526765, \"('instruction',)\": 0.00042826552462526765, \"('companion',)\": 0.00042826552462526765, \"('editing',)\": 0.00042826552462526765, \"('income',)\": 0.00042826552462526765, \"('spot',)\": 0.00042826552462526765, \"('habit',)\": 0.00042826552462526765, \"('publicity',)\": 0.00042826552462526765, \"('mobster',)\": 0.00042826552462526765, \"('aid',)\": 0.00042826552462526765, \"('climate',)\": 0.00042826552462526765, \"('brain',)\": 0.00042826552462526765, \"('drought',)\": 0.00042826552462526765, \"('run',)\": 0.00042826552462526765, \"('craze',)\": 0.00042826552462526765, \"('plea',)\": 0.00042826552462526765, \"('incident',)\": 0.00042826552462526765, \"('somebody',)\": 0.00042826552462526765, \"('operation',)\": 0.00042826552462526765, \"('toll',)\": 0.00042826552462526765, \"('quota',)\": 0.00042826552462526765, \"('cotton',)\": 0.00042826552462526765, \"('last',)\": 0.00042826552462526765, \"('disclosure',)\": 0.00042826552462526765, \"('prepayment',)\": 0.00042826552462526765, \"('flap',)\": 0.00042826552462526765, \"('career',)\": 0.00042826552462526765, \"('None',)\": 0.00042826552462526765, \"('taxation',)\": 0.00042826552462526765, \"('carrier',)\": 0.00042826552462526765, \"('index-fund',)\": 0.00042826552462526765, \"('appreciation',)\": 0.00042826552462526765, \"('association',)\": 0.00042826552462526765, \"('agreement',)\": 0.00042826552462526765, \"('juggernaut',)\": 0.00042826552462526765, \"('bickering',)\": 0.00042826552462526765, \"('export',)\": 0.00042826552462526765, \"('absurdity',)\": 0.00042826552462526765, \"('taste',)\": 0.00042826552462526765, \"('technique',)\": 0.00042826552462526765, \"('telephone',)\": 0.00042826552462526765, \"('provision',)\": 0.00042826552462526765, \"('expectation',)\": 0.00042826552462526765, \"('C\": 0.00042826552462526765, \"('circuit',)\": 0.00042826552462526765, \"('setback',)\": 0.00042826552462526765, \"('planner',)\": 0.00042826552462526765, \"('institute',)\": 0.00042826552462526765, \"('rout',)\": 0.00042826552462526765, \"('charge',)\": 0.00042826552462526765, \"('prefecture',)\": 0.00042826552462526765, \"('tenth',)\": 0.00042826552462526765, \"('truce',)\": 0.00042826552462526765, \"('nail',)\": 0.00042826552462526765, \"('share',)\": 0.00042826552462526765, \"('dilemma',)\": 0.00042826552462526765, \"('medicine',)\": 0.00042826552462526765, \"('consequence',)\": 0.00042826552462526765, \"('challenge',)\": 0.00042826552462526765, \"('classroom',)\": 0.00042826552462526765, \"('pretax',)\": 0.00042826552462526765, \"('incentive-bonus',)\": 0.00042826552462526765, \"('sterling',)\": 0.00042826552462526765, \"('solicitation',)\": 0.00042826552462526765, \"('asset',)\": 0.00042826552462526765, \"('Country',)\": 0.00042826552462526765, \"('museum',)\": 0.00042826552462526765, \"('future',)\": 0.00042826552462526765, \"('land',)\": 0.00042826552462526765, \"('programming',)\": 0.00042826552462526765, \"('period',)\": 0.00042826552462526765, \"('cement',)\": 0.00042826552462526765, \"('reasoning',)\": 0.00042826552462526765, \"('character',)\": 0.00042826552462526765, \"('asbestosis',)\": 0.00042826552462526765, \"('significance',)\": 0.00042826552462526765, \"('suspension',)\": 0.00042826552462526765, \"('fan',)\": 0.00042826552462526765, \"('material',)\": 0.00042826552462526765, \"('reality',)\": 0.00042826552462526765, \"('dinner',)\": 0.00042826552462526765, \"('doctrine',)\": 0.00042826552462526765, \"('closeness',)\": 0.00042826552462526765, \"('conversion',)\": 0.00042826552462526765, \"('refund',)\": 0.00042826552462526765, \"('seminar',)\": 0.00042826552462526765, \"('overcapacity',)\": 0.00042826552462526765, \"('hoopla',)\": 0.00042826552462526765, \"('giant',)\": 0.00042826552462526765, \"('removal',)\": 0.00042826552462526765, \"('implication',)\": 0.00042826552462526765, \"('court',)\": 0.00042826552462526765, \"('hospital',)\": 0.00042826552462526765, \"('uncertainty',)\": 0.00042826552462526765, \"('sentiment',)\": 0.00042826552462526765, \"('consumption',)\": 0.00042826552462526765, \"('phone',)\": 0.00042826552462526765, \"('ad',)\": 0.00042826552462526765, \"('takeover',)\": 0.00042826552462526765, \"('navigation',)\": 0.00042826552462526765, \"('livelihood',)\": 0.00042826552462526765, \"('meal',)\": 0.00042826552462526765, \"('filing',)\": 0.00042826552462526765, \"('promotion',)\": 0.00042826552462526765, \"('start-up',)\": 0.00042826552462526765, \"('contribution',)\": 0.00042826552462526765, \"('dispute',)\": 0.00042826552462526765, \"('summary',)\": 0.00042826552462526765, \"('addition',)\": 0.00042826552462526765, \"('garbage',)\": 0.00042826552462526765, \"('midnight',)\": 0.00042826552462526765, \"('power',)\": 0.00042826552462526765, \"('stance',)\": 0.00042826552462526765, \"('flux',)\": 0.00042826552462526765, \"('someone',)\": 0.00042826552462526765, \"('campaigner',)\": 0.00042826552462526765, \"('kit',)\": 0.00042826552462526765, \"('attendance',)\": 0.00042826552462526765, \"('array',)\": 0.00042826552462526765, \"('identity-management',)\": 0.00042826552462526765, \"('circle',)\": 0.00042826552462526765, \"('renovation',)\": 0.00042826552462526765, \"('plant',)\": 0.00042826552462526765, \"('request',)\": 0.00042826552462526765, \"('increase',)\": 0.00042826552462526765, \"('procurement',)\": 0.00042826552462526765, \"('bankruptcy',)\": 0.00042826552462526765, \"('lesson',)\": 0.00042826552462526765, \"('father',)\": 0.00042826552462526765, \"('unknown',)\": 0.00042826552462526765, \"('design',)\": 0.00042826552462526765, \"('switch',)\": 0.00042826552462526765, \"('core',)\": 0.00042826552462526765, \"('arbitrage',)\": 0.00042826552462526765, \"('row',)\": 0.00042826552462526765, \"('stone',)\": 0.00042826552462526765, \"('movement',)\": 0.00042826552462526765, \"('thunder',)\": 0.00042826552462526765, \"('building',)\": 0.00042826552462526765, \"('exclusion',)\": 0.00042826552462526765, \"('summons',)\": 0.00042826552462526765, \"('succession',)\": 0.00042826552462526765, \"('battle',)\": 0.00042826552462526765, \"('furniture',)\": 0.00042826552462526765, \"('light',)\": 0.00042826552462526765, \"('fragmentation',)\": 0.00042826552462526765, \"('cycle',)\": 0.00042826552462526765, \"('prosecutor',)\": 0.00042826552462526765, \"('insurer',)\": 0.00042826552462526765, \"('Profit',)\": 0.00042826552462526765, \"('Market',)\": 0.00042826552462526765, \"('good-faith',)\": 0.00042826552462526765, \"('stake',)\": 0.00042826552462526765, \"('third-quarter',)\": 0.00042826552462526765, \"('trademark',)\": 0.00042826552462526765, \"('vinyl',)\": 0.00042826552462526765, \"('chauffeur',)\": 0.00042826552462526765, \"('professor',)\": 0.00042826552462526765, \"('impression',)\": 0.00042826552462526765, \"('yesterday',)\": 0.00042826552462526765, \"('unavailability',)\": 0.00042826552462526765, \"('smoke',)\": 0.00042826552462526765, \"('insolvency',)\": 0.00042826552462526765, \"('relief',)\": 0.00042826552462526765, \"('escrow',)\": 0.00042826552462526765, \"('halt',)\": 0.00042826552462526765, \"('dominance',)\": 0.00042826552462526765, \"('airplane',)\": 0.00042826552462526765, \"('JUDGE',)\": 0.00042826552462526765, \"('tone',)\": 0.00042826552462526765, \"('pathlogy',)\": 0.00042826552462526765, \"('self',)\": 0.00042826552462526765, \"('fire',)\": 0.00042826552462526765, \"('hook',)\": 0.00042826552462526765, \"('head',)\": 0.00042826552462526765, \"('surprise',)\": 0.00042826552462526765, \"('commerce',)\": 0.00042826552462526765, \"('burden',)\": 0.00042826552462526765, \"('editor',)\": 0.00042826552462526765, \"('understatement',)\": 0.00042826552462526765, \"('Nov.',)\": 0.00042826552462526765, \"('cartoonist',)\": 0.00042826552462526765, \"('centennial',)\": 0.00042826552462526765, \"('surrender',)\": 0.00042826552462526765, \"('retail',)\": 0.00042826552462526765, \"('course',)\": 0.00042826552462526765, \"('Title',)\": 0.00042826552462526765, \"('bridge',)\": 0.00042826552462526765, \"('workforce',)\": 0.00042826552462526765, \"('completion',)\": 0.00042826552462526765, \"('leeway',)\": 0.00042826552462526765, \"('collapse',)\": 0.00042826552462526765, \"('prototype',)\": 0.00042826552462526765, \"('nervousness',)\": 0.00042826552462526765, \"('framework',)\": 0.00042826552462526765, \"('job',)\": 0.00042826552462526765, \"('assertion',)\": 0.00042826552462526765, \"('reliance',)\": 0.00042826552462526765, \"('park',)\": 0.00042826552462526765, \"('restaurant',)\": 0.00042826552462526765, \"('discontent',)\": 0.00042826552462526765, \"('ballot',)\": 0.00042826552462526765, \"('milestone',)\": 0.00042826552462526765, \"('capital',)\": 0.00042826552462526765, \"('remodeling',)\": 0.00042826552462526765, \"('squad',)\": 0.00042826552462526765, \"('Form',)\": 0.00042826552462526765, \"('question',)\": 0.00042826552462526765, \"('statement',)\": 0.00042826552462526765, \"('sickness',)\": 0.00042826552462526765, \"('unpopularity',)\": 0.00042826552462526765, \"('order',)\": 0.00042826552462526765, \"('stoppage',)\": 0.00042826552462526765, \"('loser',)\": 0.00042826552462526765, \"('buyer',)\": 0.00042826552462526765, \"('vineyard',)\": 0.00042826552462526765, \"('can',)\": 0.00042826552462526765, \"('event',)\": 0.00042826552462526765, \"('machinery',)\": 0.00042826552462526765, \"('exchange',)\": 0.00042826552462526765, \"('everything',)\": 0.00042826552462526765, \"('mother',)\": 0.00042826552462526765, \"('compound',)\": 0.00042826552462526765, \"('harbinger',)\": 0.00042826552462526765, \"('husband',)\": 0.00042826552462526765, \"('altar',)\": 0.00042826552462526765, \"('minus',)\": 0.00042826552462526765, \"('feature',)\": 0.00042826552462526765, \"('document',)\": 0.00042826552462526765, \"('survey',)\": 0.00042826552462526765, \"('packaging',)\": 0.00042826552462526765, \"('reading',)\": 0.00042826552462526765, \"('stock-price',)\": 0.00042826552462526765, \"('cancellation',)\": 0.00042826552462526765, \"('yield',)\": 0.00042826552462526765, \"('kidney',)\": 0.00042826552462526765, \"('markup',)\": 0.00042826552462526765, \"('degree',)\": 0.00042826552462526765, \"('goal',)\": 0.00042826552462526765, \"('truth-in-lending',)\": 0.00042826552462526765, \"('EVERYONE',)\": 0.00042826552462526765, \"('vision',)\": 0.00042826552462526765, \"('Chinese',)\": 0.00042826552462526765, \"('ambassador',)\": 0.00042826552462526765, \"('summer',)\": 0.00042826552462526765, \"('conglomerate',)\": 0.00042826552462526765, \"('phrase',)\": 0.00042826552462526765, \"('coke',)\": 0.00042826552462526765, \"('Champagne',)\": 0.00042826552462526765, \"('insistence',)\": 0.00042826552462526765, \"('crocidolite',)\": 0.00042826552462526765, \"('One',)\": 0.00042826552462526765, \"('pack',)\": 0.00042826552462526765, \"('network',)\": 0.00042826552462526765, \"('dislike',)\": 0.00042826552462526765, \"('mechanism',)\": 0.00042826552462526765, \"('low',)\": 0.00042826552462526765, \"('process',)\": 0.00042826552462526765, \"('upturn',)\": 0.00042826552462526765, \"('symmetry',)\": 0.00042826552462526765, \"('centimeter',)\": 0.00042826552462526765, \"('writer',)\": 0.00042826552462526765, \"('constituent',)\": 0.00042826552462526765, \"('credibility',)\": 0.00042826552462526765, \"('mainframe',)\": 0.00042826552462526765, \"('series',)\": 0.00042826552462526765, \"('Stadium',)\": 0.00042826552462526765, \"('Publishing',)\": 0.00042826552462526765, \"('maker',)\": 0.00042826552462526765, \"('knife',)\": 0.00042826552462526765, \"('raspberry',)\": 0.00042826552462526765, \"('governor',)\": 0.00042826552462526765, \"('prevalance',)\": 0.00042826552462526765, \"('re-election',)\": 0.00042826552462526765, \"('foot',)\": 0.00042826552462526765, \"('wrath',)\": 0.00042826552462526765, \"('proposal',)\": 0.00042826552462526765, \"('familiarization',)\": 0.00042826552462526765, \"('Californian',)\": 0.00042826552462526765, \"('supreme',)\": 0.00042826552462526765, \"('counterpart',)\": 0.00042826552462526765, \"('diethylstilbestrol',)\": 0.00042826552462526765, \"('dialogue',)\": 0.00042826552462526765, \"('magazine',)\": 0.00042826552462526765, \"('hitter',)\": 0.00042826552462526765, \"('rest',)\": 0.00042826552462526765, \"('trap',)\": 0.00042826552462526765, \"('exception',)\": 0.00042826552462526765, \"('rebound',)\": 0.00042826552462526765, \"('compassion',)\": 0.00042826552462526765, \"('foldability',)\": 0.00042826552462526765, \"('burlap',)\": 0.00042826552462526765, \"('fight',)\": 0.00042826552462526765, \"('diming',)\": 0.00042826552462526765, \"('Stock',)\": 0.00042826552462526765, \"('improvement',)\": 0.00042826552462526765, \"('restructuring',)\": 0.00042826552462526765, \"('luxury',)\": 0.00042826552462526765, \"('toast',)\": 0.00042826552462526765, \"('action',)\": 0.00042826552462526765, \"('breakdown',)\": 0.00042826552462526765, \"('slogan',)\": 0.00042826552462526765, \"('pact',)\": 0.00042826552462526765, \"('elite',)\": 0.00042826552462526765, \"('payment',)\": 0.00042826552462526765, \"('coverage',)\": 0.00042826552462526765, \"('victory',)\": 0.00042826552462526765, \"('Sterling',)\": 0.00042826552462526765, \"('disappointment',)\": 0.00042826552462526765, \"('employee',)\": 0.00042826552462526765, \"('accountant',)\": 0.00042826552462526765, \"('domination',)\": 0.00042826552462526765, \"('calculator',)\": 0.00042826552462526765, \"('sheet',)\": 0.00042826552462526765, \"('protest',)\": 0.00042826552462526765, \"('direction',)\": 0.00042826552462526765, \"('soul',)\": 0.00042826552462526765, \"('bureaucracy',)\": 0.00042826552462526765, \"('family',)\": 0.00042826552462526765, \"('reference',)\": 0.00042826552462526765, \"('credit',)\": 0.00042826552462526765, \"('hit',)\": 0.00042826552462526765, \"('fashion',)\": 0.00042826552462526765, \"('participant',)\": 0.00042826552462526765, \"('excellence',)\": 0.00042826552462526765, \"('nutrition',)\": 0.00042826552462526765, \"('decay',)\": 0.00042826552462526765, \"('slope',)\": 0.00042826552462526765, \"('aspect',)\": 0.00042826552462526765, \"('spokesman',)\": 0.00042826552462526765, \"('seat',)\": 0.00042826552462526765, \"('reporter',)\": 0.00042826552462526765, \"('perfection',)\": 0.00042826552462526765, \"('speculator',)\": 0.00042826552462526765, \"('place',)\": 0.00042826552462526765, \"('alcoholism',)\": 0.00042826552462526765, \"('filter',)\": 0.00042826552462526765, \"('doctor',)\": 0.00042826552462526765, \"('prejudice',)\": 0.00042826552462526765, \"('muster',)\": 0.00042826552462526765, \"('media',)\": 0.00042826552462526765, \"('hotel',)\": 0.00042826552462526765, \"('catch-up',)\": 0.00042826552462526765, \"('readership',)\": 0.00042826552462526765, \"('baby',)\": 0.00042826552462526765, \"('bat',)\": 0.00042826552462526765, \"('sphere',)\": 0.00042826552462526765, \"('speculation',)\": 0.00042826552462526765, \"('hormone',)\": 0.00042826552462526765, \"('sunlight',)\": 0.00042826552462526765, \"('benefit',)\": 0.00042826552462526765, \"('referendum',)\": 0.00042826552462526765, \"('intervention',)\": 0.00042826552462526765, \"('roof',)\": 0.00042826552462526765, \"('rally',)\": 0.00042826552462526765, \"('compensation',)\": 0.00042826552462526765, \"('card-member',)\": 0.00042826552462526765, \"('manufacturer',)\": 0.00042826552462526765, \"('president',)\": 0.00042826552462526765, \"('hint',)\": 0.00042826552462526765, \"('handling',)\": 0.00042826552462526765, \"('bias',)\": 0.00042826552462526765, \"('cult',)\": 0.00042826552462526765, \"('ruling',)\": 0.00042826552462526765, \"('nickel',)\": 0.00042826552462526765, \"('inkling',)\": 0.00042826552462526765, \"('Everybody',)\": 0.00042826552462526765, \"('list',)\": 0.00042826552462526765, \"('negotiator',)\": 0.00042826552462526765, \"('firm',)\": 0.00042826552462526765, \"('pressure',)\": 0.00042826552462526765, \"('supplier',)\": 0.00042826552462526765, \"('sufficiency',)\": 0.00042826552462526765, \"('resentment',)\": 0.00042826552462526765, \"('veal',)\": 0.00042826552462526765, \"('apartment',)\": 0.00042826552462526765, \"('mirror',)\": 0.00042826552462526765, \"('window',)\": 0.00042826552462526765, \"('sheaf',)\": 0.00042826552462526765, \"('depression',)\": 0.00042826552462526765, \"('best-seller',)\": 0.00042826552462526765, \"('execution',)\": 0.00042826552462526765, \"('vice',)\": 0.00042826552462526765, \"('pocket',)\": 0.00042826552462526765, \"('guy',)\": 0.00042826552462526765, \"('ordeal',)\": 0.00042826552462526765, \"('venture',)\": 0.00042826552462526765, \"('slate',)\": 0.00042826552462526765, \"('beverage',)\": 0.00042826552462526765, \"('PAPER',)\": 0.00042826552462526765, \"('duty',)\": 0.00042826552462526765, \"('privilege',)\": 0.00042826552462526765, \"('advent',)\": 0.00042826552462526765, \"('Change-ringing',)\": 0.00042826552462526765, \"('maximum',)\": 0.00042826552462526765, \"('sketch',)\": 0.00042826552462526765, \"('ceiling',)\": 0.00042826552462526765, \"('move',)\": 0.00042826552462526765, \"('Carrier',)\": 0.00042826552462526765, \"('post',)\": 0.00042826552462526765, \"('judiciary',)\": 0.00042826552462526765, \"('choice',)\": 0.00042826552462526765, \"('wisdom',)\": 0.00042826552462526765, \"('partner',)\": 0.00042826552462526765, \"('church',)\": 0.00042826552462526765, \"('lot',)\": 0.00042826552462526765, \"('audience',)\": 0.00042826552462526765, \"('decline',)\": 0.00042826552462526765, \"('glory',)\": 0.00042826552462526765, \"('round',)\": 0.00042826552462526765, \"('serial',)\": 0.00042826552462526765, \"('fiscal',)\": 0.00042826552462526765, \"('lobster',)\": 0.00042826552462526765, \"('genie',)\": 0.00042826552462526765, \"('homelessness',)\": 0.00042826552462526765, \"('fifth-grade',)\": 0.00042826552462526765, \"('Insurance',)\": 0.00042826552462526765, \"('grader',)\": 0.00042826552462526765, \"('panel',)\": 0.00042826552462526765, \"('variety',)\": 0.00042826552462526765, \"('center',)\": 0.00042826552462526765, \"('public',)\": 0.00042826552462526765, \"('dean',)\": 0.00042826552462526765, \"('adviser',)\": 0.00042826552462526765, \"('buckle',)\": 0.00042826552462526765, \"('date',)\": 0.00042826552462526765, \"('bottom',)\": 0.00042826552462526765, \"('crop',)\": 0.00042826552462526765, \"('banking',)\": 0.00042826552462526765, \"('inflation',)\": 0.00042826552462526765, \"('Arbitrage',)\": 0.00042826552462526765, \"('Growth',)\": 0.00042826552462526765, \"('perspective',)\": 0.00042826552462526765, \"('Drug',)\": 0.00042826552462526765, \"('shop',)\": 0.00042826552462526765, \"('Composer',)\": 0.00042826552462526765, \"('cloth',)\": 0.00042826552462526765, \"('crystal',)\": 0.00042826552462526765, \"('correspondence',)\": 0.00042826552462526765, \"('reputation',)\": 0.00042826552462526765, \"('mousseline',)\": 0.00042826552462526765, \"('text',)\": 0.00042826552462526765, \"('service',)\": 0.00042826552462526765, \"('morning',)\": 0.00042826552462526765, \"('hearing',)\": 0.00042826552462526765, \"('captive',)\": 0.00042826552462526765, \"('tooth',)\": 0.00042826552462526765, \"('suit',)\": 0.00042826552462526765, \"('offense',)\": 0.00042826552462526765, \"('cultivation',)\": 0.00042826552462526765, \"('housing',)\": 0.00042826552462526765, \"('harmony',)\": 0.00042826552462526765, \"('deposit',)\": 0.00042826552462526765, \"('petroleum',)\": 0.00042826552462526765, \"('maintenance',)\": 0.00042826552462526765, \"('airline',)\": 0.00042826552462526765, \"('Act',)\": 0.00042826552462526765, \"('shareholder',)\": 0.00042826552462526765, \"('sensation',)\": 0.00042826552462526765, \"('bout',)\": 0.00042826552462526765, \"('hero',)\": 0.00042826552462526765, \"('ascendency',)\": 0.00042826552462526765, \"('case',)\": 0.00042826552462526765, \"('count',)\": 0.00042826552462526765, \"('account',)\": 0.00042826552462526765, \"('faithful',)\": 0.00042826552462526765, \"('lover',)\": 0.00042826552462526765, \"('heating',)\": 0.00042826552462526765, \"('martyr',)\": 0.00042826552462526765, \"('presentation',)\": 0.00042826552462526765, \"('gut',)\": 0.00042826552462526765, \"('lap',)\": 0.00042826552462526765, \"('error',)\": 0.00042826552462526765, \"('expansion',)\": 0.00042826552462526765, \"('pool',)\": 0.00042826552462526765, \"('interest-rate',)\": 0.00042826552462526765, \"('EXCHANGE',)\": 0.00042826552462526765, \"('university',)\": 0.00042826552462526765, \"('passage',)\": 0.00042826552462526765, \"('segment',)\": 0.00042826552462526765, \"('bedding',)\": 0.00042826552462526765, \"('requirement',)\": 0.00042826552462526765, \"('secretary',)\": 0.00042826552462526765, \"('doubt',)\": 0.00042826552462526765, \"('week',)\": 0.00042826552462526765, \"('touch',)\": 0.00042826552462526765, \"('solidarity',)\": 0.00042826552462526765, \"('sigh',)\": 0.00042826552462526765, \"('majority',)\": 0.00042826552462526765, \"('invention',)\": 0.00042826552462526765, \"('version',)\": 0.00042826552462526765, \"('insurance-company',)\": 0.00042826552462526765, \"('station',)\": 0.00042826552462526765, \"('standing',)\": 0.00042826552462526765, \"('subscription',)\": 0.00042826552462526765, \"('subcommittee',)\": 0.00042826552462526765, \"('reporting',)\": 0.00042826552462526765, \"('censorship',)\": 0.00042826552462526765, \"('passport',)\": 0.00042826552462526765, \"('tension',)\": 0.00042826552462526765, \"('factor',)\": 0.00042826552462526765, \"('trial',)\": 0.00042826552462526765, \"('step',)\": 0.00042826552462526765, \"('record-keeping',)\": 0.00042826552462526765, \"('disapproval',)\": 0.00042826552462526765, \"('clause',)\": 0.00042826552462526765, \"('frenzy',)\": 0.00042826552462526765, \"('company',)\": 0.00042826552462526765, \"('person',)\": 0.00042826552462526765, \"('congressman',)\": 0.00042826552462526765, \"('lab',)\": 0.00042826552462526765, \"('recession',)\": 0.00042826552462526765, \"('return',)\": 0.00042826552462526765, \"('fraud',)\": 0.00042826552462526765, \"('slippage',)\": 0.00042826552462526765, \"('town',)\": 0.00042826552462526765, \"('supply',)\": 0.00042826552462526765, \"('knell',)\": 0.00042826552462526765, \"('arrangement',)\": 0.00042826552462526765, \"('loan',)\": 0.00042826552462526765, \"('Crime',)\": 0.00042826552462526765, \"('likelihood',)\": 0.00042826552462526765, \"('government',)\": 0.00042826552462526765, \"('profit',)\": 0.00042826552462526765, \"('retailing',)\": 0.00042826552462526765, \"('beer',)\": 0.00042826552462526765, \"('style',)\": 0.00042826552462526765, \"('retardation',)\": 0.00042826552462526765, \"('publisher',)\": 0.00042826552462526765, \"('excision',)\": 0.00042826552462526765, \"('risk',)\": 0.00042826552462526765, \"('silicone',)\": 0.00042826552462526765, \"('reflection',)\": 0.00042826552462526765, \"('are',)\": 0.00042826552462526765, \"('proportion',)\": 0.00042826552462526765, \"('intent',)\": 0.00042826552462526765, \"('social-studies',)\": 0.00042826552462526765, \"('look',)\": 0.00042826552462526765, \"('ringer',)\": 0.00042826552462526765, \"('playwright',)\": 0.00042826552462526765, \"('default',)\": 0.00042826552462526765, \"('equal-opportunity',)\": 0.00042826552462526765, \"('ounce',)\": 0.00042826552462526765, \"('Commodity',)\": 0.00042826552462526765, \"('level',)\": 0.00042826552462526765, \"('official',)\": 0.00042826552462526765, \"('polyester',)\": 0.00042826552462526765, \"('Chapter',)\": 0.00042826552462526765, \"('alternative',)\": 0.00042826552462526765, \"('caretaker',)\": 0.00042826552462526765, \"('evil',)\": 0.00042826552462526765, \"('truth',)\": 0.00042826552462526765, \"('valuation',)\": 0.00042826552462526765, \"('vindication',)\": 0.00042826552462526765, \"('deck',)\": 0.00042826552462526765, \"('flag',)\": 0.00042826552462526765, \"('eye',)\": 0.00042826552462526765, \"('one-upsmanship',)\": 0.00042826552462526765, \"('rash',)\": 0.00042826552462526765, \"('proprietor',)\": 0.00042826552462526765, \"('faith',)\": 0.00042826552462526765, \"('prize-fighter',)\": 0.00042826552462526765, \"('Ballot',)\": 0.00042826552462526765, \"('cow',)\": 0.00042826552462526765, \"('problem',)\": 0.00042826552462526765, \"('stigma',)\": 0.00042826552462526765, \"('milk',)\": 0.00042826552462526765, \"('taxpayer',)\": 0.00042826552462526765, \"('crystal-lattice',)\": 0.00042826552462526765, \"('custom',)\": 0.00042826552462526765, \"('liquid-nitrogen',)\": 0.00042826552462526765, \"('client',)\": 0.00042826552462526765, \"('violation',)\": 0.00042826552462526765, \"('purchase',)\": 0.00042826552462526765, \"('money-fund',)\": 0.00042826552462526765, \"('monster',)\": 0.00042826552462526765, \"('Failure',)\": 0.00042826552462526765, \"('aim',)\": 0.00042826552462526765, \"('rival',)\": 0.00042826552462526765, \"('advisory',)\": 0.00042826552462526765, \"('interbank',)\": 0.00042826552462526765, \"('civilization',)\": 0.00042826552462526765, \"('INTERBANK',)\": 0.00042826552462526765, \"('hole',)\": 0.00042826552462526765, \"('portrayal',)\": 0.00042826552462526765, \"('raise',)\": 0.00042826552462526765, \"('stability',)\": 0.00042826552462526765, \"('collateral',)\": 0.00042826552462526765, \"('hegemony',)\": 0.00042826552462526765, \"('purchasing',)\": 0.00042826552462526765, \"('employment',)\": 0.00042826552462526765, \"('transaction',)\": 0.00042826552462526765, \"('kindergarten',)\": 0.00042826552462526765, \"('control',)\": 0.00042826552462526765, \"('march',)\": 0.00042826552462526765, \"('liquidity',)\": 0.00042826552462526765, \"('fuel',)\": 0.00042826552462526765, \"('subsidiary',)\": 0.00042826552462526765, \"('tad',)\": 0.00042826552462526765, \"('consomme',)\": 0.00042826552462526765, \"('penetration',)\": 0.00042826552462526765, \"('technology',)\": 0.00042826552462526765, \"('cigarette',)\": 0.00042826552462526765, \"('dexterity',)\": 0.00042826552462526765, \"('semiconductor',)\": 0.00042826552462526765, \"('customer',)\": 0.00042826552462526765, \"('composting',)\": 0.00042826552462526765, \"('haul',)\": 0.00042826552462526765, \"('stadium',)\": 0.00042826552462526765, \"('Montedison',)\": 0.00042826552462526765, \"('banker',)\": 0.00042826552462526765, \"('telephone-information',)\": 0.00042826552462526765, \"('wish',)\": 0.00042826552462526765, \"('occupant',)\": 0.00042826552462526765, \"('dividend',)\": 0.00042826552462526765, \"('machine',)\": 0.00042826552462526765, \"('wife',)\": 0.00042826552462526765, \"('debate',)\": 0.00042826552462526765, \"('willingness',)\": 0.00042826552462526765, \"('frequency',)\": 0.00042826552462526765, \"('passbook',)\": 0.00042826552462526765, \"('female',)\": 0.00042826552462526765, \"('exhibition',)\": 0.00042826552462526765, \"('sympathy',)\": 0.00042826552462526765, \"('Northeast',)\": 0.00042826552462526765, \"('defendant',)\": 0.00042826552462526765, \"('development',)\": 0.00042826552462526765, \"('worship',)\": 0.00042826552462526765, \"('front-seat',)\": 0.00042826552462526765, \"('common',)\": 0.00042826552462526765, \"('depositary',)\": 0.00042826552462526765, \"('theory',)\": 0.00042826552462526765, \"('discretion',)\": 0.00042826552462526765, \"('total',)\": 0.00042826552462526765, \"('code',)\": 0.00042826552462526765, \"('railing',)\": 0.00042826552462526765, \"('Session',)\": 0.00042826552462526765, \"('blindfold',)\": 0.00042826552462526765, \"('sticker',)\": 0.00042826552462526765, \"('residence',)\": 0.00042826552462526765, \"('skittishness',)\": 0.00042826552462526765, \"('article',)\": 0.00042826552462526765, \"('crunch',)\": 0.00042826552462526765, \"('amendment',)\": 0.00042826552462526765, \"('system',)\": 0.00042826552462526765, \"('physics',)\": 0.00042826552462526765, \"('spinoff',)\": 0.00042826552462526765, \"('hostile',)\": 0.00042826552462526765, \"('element',)\": 0.00042826552462526765, \"('detective-story',)\": 0.00042826552462526765, \"('infusion',)\": 0.00042826552462526765, \"('wake',)\": 0.00042826552462526765, \"('monopoly',)\": 0.00042826552462526765, \"('estimate',)\": 0.00042826552462526765, \"('tag',)\": 0.00042826552462526765, \"('sale',)\": 0.00042826552462526765, \"('pound',)\": 0.00042826552462526765, \"('possibility',)\": 0.00042826552462526765, \"('close-up',)\": 0.00042826552462526765, \"('anyone',)\": 0.00042826552462526765, \"('behemoth',)\": 0.00042826552462526765, \"('hand',)\": 0.00042826552462526765, \"('talk',)\": 0.00042826552462526765, \"('son',)\": 0.00042826552462526765, \"('telecommunications',)\": 0.00042826552462526765, \"('underwriter',)\": 0.00042826552462526765, \"('union',)\": 0.00042826552462526765, \"('competition',)\": 0.00042826552462526765, \"('vagabond',)\": 0.00042826552462526765, \"('economics',)\": 0.00042826552462526765, \"('utility',)\": 0.00042826552462526765, \"('goverment',)\": 0.00042826552462526765, \"('breaker',)\": 0.00042826552462526765, \"('dormitory',)\": 0.00042826552462526765, \"('view',)\": 0.00042826552462526765, \"('cloud',)\": 0.00042826552462526765, \"('disaffiliation',)\": 0.00042826552462526765, \"('precedent',)\": 0.00042826552462526765, \"('consulting',)\": 0.00042826552462526765, \"('World',)\": 0.00042826552462526765, \"('founder',)\": 0.00042826552462526765, \"('painting',)\": 0.00042826552462526765, \"('veteran',)\": 0.00042826552462526765, \"('Midwest',)\": 0.00042826552462526765, \"('congregation',)\": 0.00042826552462526765, \"('circulation',)\": 0.00042826552462526765, \"('N.V',)\": 0.00042826552462526765, \"('slide',)\": 0.00042826552462526765, \"('dairy',)\": 0.00042826552462526765, \"('temptation',)\": 0.00042826552462526765, \"('language',)\": 0.00042826552462526765, \"('energy',)\": 0.00042826552462526765, \"('lender',)\": 0.00042826552462526765, \"('stockbroker',)\": 0.00042826552462526765, \"('strike',)\": 0.00042826552462526765, \"('leap',)\": 0.00042826552462526765, \"('sleep',)\": 0.00042826552462526765, \"('borough',)\": 0.00042826552462526765, \"('category',)\": 0.00042826552462526765, \"('thread',)\": 0.00042826552462526765, \"('hour',)\": 0.00042826552462526765, \"('buying',)\": 0.00042826552462526765, \"('freshman',)\": 0.00042826552462526765, \"('harm',)\": 0.00042826552462526765, \"('repayment',)\": 0.00042826552462526765, \"('stock',)\": 0.00042826552462526765, \"('management',)\": 0.00042826552462526765, \"('audit',)\": 0.00042826552462526765, \"('S&L',)\": 0.00042826552462526765, \"('conduit',)\": 0.00042826552462526765, \"('liberty',)\": 0.00042826552462526765, \"('Ringing',)\": 0.00042826552462526765, \"('nameplate',)\": 0.00042826552462526765, \"('drain',)\": 0.00042826552462526765, \"('inside',)\": 0.00042826552462526765, \"('damage',)\": 0.00042826552462526765, \"('signal',)\": 0.00042826552462526765, \"('slowdown',)\": 0.00042826552462526765, \"('bin',)\": 0.00042826552462526765, \"('principal',)\": 0.00042826552462526765, \"('intelligence',)\": 0.00042826552462526765, \"('stereo',)\": 0.00042826552462526765, \"('coordinator',)\": 0.00042826552462526765, \"('guarantee',)\": 0.00042826552462526765, \"('jury',)\": 0.00042826552462526765, \"('behest',)\": 0.00042826552462526765, \"('palace',)\": 0.00042826552462526765, \"('junk-bond',)\": 0.00042826552462526765, \"('controversy',)\": 0.00042826552462526765, \"('capitalism',)\": 0.00042826552462526765, \"('speed',)\": 0.00042826552462526765, \"('creditor',)\": 0.00042826552462526765, \"('counseling',)\": 0.00042826552462526765, \"('steel',)\": 0.00042826552462526765, \"('attorney',)\": 0.00042826552462526765, \"('officer',)\": 0.00042826552462526765, \"('hair',)\": 0.00042826552462526765, \"('pension',)\": 0.00042826552462526765, \"('variation',)\": 0.00042826552462526765, \"('manner',)\": 0.00042826552462526765, \"('penalty',)\": 0.00042826552462526765, \"('ton',)\": 0.00042826552462526765, \"('meatpacking',)\": 0.00042826552462526765, \"('small-company',)\": 0.00042826552462526765, \"('nothing',)\": 0.00042826552462526765, \"('nation',)\": 0.00042826552462526765, \"('dollar',)\": 0.00042826552462526765, \"('bar',)\": 0.00042826552462526765, \"('chest',)\": 0.00042826552462526765, \"('worker',)\": 0.00042826552462526765, \"('claim',)\": 0.00042826552462526765, \"('terrine',)\": 0.00042826552462526765, \"('illegality',)\": 0.00042826552462526765, \"('consultant',)\": 0.00042826552462526765, \"('farm',)\": 0.00042826552462526765, \"('declaration',)\": 0.00042826552462526765, \"('Guarantee',)\": 0.00042826552462526765, \"('smoking',)\": 0.00042826552462526765, \"('impatient',)\": 0.00042826552462526765, \"('privacy',)\": 0.00042826552462526765, \"('Anything',)\": 0.00042826552462526765, \"('pinning',)\": 0.00042826552462526765, \"('subtraction',)\": 0.00042826552462526765, \"('premium',)\": 0.00042826552462526765, \"('day',)\": 0.00042826552462526765, \"('salary',)\": 0.00042826552462526765, \"('batting',)\": 0.00042826552462526765, \"('coal',)\": 0.00042826552462526765, \"('curriculum',)\": 0.00042826552462526765, \"('route',)\": 0.00042826552462526765, \"('equipment',)\": 0.00042826552462526765, \"('Literacy',)\": 0.00042826552462526765, \"('letter',)\": 0.00042826552462526765, \"('sociology',)\": 0.00042826552462526765, \"('DEFENSE',)\": 0.00042826552462526765, \"('lottery',)\": 0.00042826552462526765, \"('delivery',)\": 0.00042826552462526765, \"('wonder',)\": 0.00042826552462526765, \"('behavior',)\": 0.00042826552462526765, \"('everyone',)\": 0.00042826552462526765, \"('Trading',)\": 0.00042826552462526765, \"('Seed',)\": 0.00042826552462526765, \"('brat',)\": 0.00042826552462526765, \"('lotter',)\": 0.00042826552462526765, \"('growth',)\": 0.00042826552462526765, \"('wine',)\": 0.00042826552462526765, \"('fear',)\": 0.00042826552462526765, \"('apology',)\": 0.00042826552462526765, \"('subskill',)\": 0.00042826552462526765, \"('psychiatrist',)\": 0.00042826552462526765, \"('affair',)\": 0.00042826552462526765, \"('proponent',)\": 0.00042826552462526765, \"('Price',)\": 0.00042826552462526765, \"('region',)\": 0.00042826552462526765, \"('threat',)\": 0.00042826552462526765, \"('sidewalk',)\": 0.00042826552462526765, \"('shape',)\": 0.00042826552462526765, \"('symbol',)\": 0.00042826552462526765, \"('consent',)\": 0.00042826552462526765, \"('litany',)\": 0.00042826552462526765, \"('staff',)\": 0.00042826552462526765, \"('pasta',)\": 0.00042826552462526765, \"('team',)\": 0.00042826552462526765, \"('call',)\": 0.00042826552462526765, \"('Civilization',)\": 0.00042826552462526765, \"('attempt',)\": 0.00042826552462526765, \"('budget',)\": 0.00042826552462526765, \"('overproduction',)\": 0.00042826552462526765, \"('environment',)\": 0.00042826552462526765, \"('chronicle',)\": 0.00042826552462526765, \"('caveat',)\": 0.00042826552462526765, \"('rating',)\": 0.00042826552462526765, \"('downside',)\": 0.00042826552462526765, \"('weakness',)\": 0.00042826552462526765, \"('crisis',)\": 0.00042826552462526765, \"('restriction',)\": 0.00042826552462526765, \"('violence',)\": 0.00042826552462526765, \"('establishment',)\": 0.00042826552462526765, \"('crib',)\": 0.00042826552462526765, \"('downgrading',)\": 0.00042826552462526765, \"('arm',)\": 0.00042826552462526765, \"('spring',)\": 0.00042826552462526765, \"('interrogation',)\": 0.00042826552462526765, \"('buy-back',)\": 0.00042826552462526765, \"('borrowing',)\": 0.00042826552462526765, \"('revolt',)\": 0.00042826552462526765, \"('scandal',)\": 0.00042826552462526765, \"('demise',)\": 0.00042826552462526765, \"('poor',)\": 0.00042826552462526765, \"('programmer',)\": 0.00042826552462526765, \"('margin',)\": 0.00042826552462526765, \"('radioactivity',)\": 0.00042826552462526765, \"('worry',)\": 0.00042826552462526765, \"('tramp',)\": 0.00042826552462526765, \"('game',)\": 0.00042826552462526765, \"('reach',)\": 0.00042826552462526765, \"('deviation',)\": 0.00042826552462526765, \"('race',)\": 0.00042826552462526765, \"('consensus',)\": 0.00042826552462526765, \"('Jail',)\": 0.00042826552462526765, \"('track',)\": 0.00042826552462526765, \"('guest',)\": 0.00042826552462526765, \"('Grain',)\": 0.00042826552462526765, \"('UNION',)\": 0.00042826552462526765, \"('set',)\": 0.00042826552462526765, \"('cent',)\": 0.00042826552462526765, \"('mark',)\": 0.00042826552462526765, \"('merchandising',)\": 0.00042826552462526765, \"('tobacco',)\": 0.00042826552462526765, \"('century',)\": 0.00042826552462526765, \"('voice',)\": 0.00042826552462526765, \"('placement',)\": 0.00042826552462526765, \"('surgery',)\": 0.00042826552462526765, \"('meaning',)\": 0.00042826552462526765, \"('peak',)\": 0.00042826552462526765, \"('generation',)\": 0.00042826552462526765, \"('month',)\": 0.00042826552462526765, \"('playing',)\": 0.00042826552462526765, \"('administration',)\": 0.00042826552462526765, \"('Legislation',)\": 0.00042826552462526765, \"('press',)\": 0.00042826552462526765, \"('minute',)\": 0.00042826552462526765, \"('holding',)\": 0.00042826552462526765, \"('term',)\": 0.00042826552462526765, \"('rule',)\": 0.00042826552462526765, \"('appetite',)\": 0.00042826552462526765, \"('property',)\": 0.00042826552462526765, \"('school',)\": 0.00042826552462526765, \"('freedom',)\": 0.00042826552462526765, \"('editorial',)\": 0.00042826552462526765, \"('surgeon',)\": 0.00042826552462526765, \"('regret',)\": 0.00042826552462526765, \"('syndicate',)\": 0.00042826552462526765, \"('insanity',)\": 0.00042826552462526765, \"('buildup',)\": 0.00042826552462526765, \"('gallium',)\": 0.00042826552462526765, \"('Year',)\": 0.00042826552462526765, \"('Asia',)\": 0.00042826552462526765, \"('film',)\": 0.00042826552462526765, \"('turf',)\": 0.00042826552462526765, \"('midyear',)\": 0.00042826552462526765, \"('expert',)\": 0.00042826552462526765, \"('End',)\": 0.00042826552462526765, \"('principle',)\": 0.00042826552462526765, \"('welfare',)\": 0.00042826552462526765, \"('assumption',)\": 0.00042826552462526765, \"('Bond',)\": 0.00042826552462526765, \"('page',)\": 0.00042826552462526765, \"('deterioration',)\": 0.00042826552462526765, \"('manufacturing',)\": 0.00042826552462526765, \"('Index-arbitrage',)\": 0.00042826552462526765, \"('entrance',)\": 0.00042826552462526765, \"('completeness',)\": 0.00042826552462526765, \"('economy',)\": 0.00042826552462526765, \"('restructure',)\": 0.00042826552462526765, \"('plate',)\": 0.00042826552462526765, \"('intention',)\": 0.00042826552462526765, \"('researcher',)\": 0.00042826552462526765, \"('castle',)\": 0.00042826552462526765, \"('decorator',)\": 0.00042826552462526765, \"('index',)\": 0.00042826552462526765, \"('radio-station',)\": 0.00042826552462526765, \"('estate',)\": 0.00042826552462526765, \"('slab',)\": 0.00042826552462526765, \"('party',)\": 0.00042826552462526765, \"('play',)\": 0.00042826552462526765, \"('nominee',)\": 0.00042826552462526765, \"('teaching',)\": 0.00042826552462526765, \"('recommendation',)\": 0.00042826552462526765, \"('barrel',)\": 0.00042826552462526765, \"('culprit',)\": 0.00042826552462526765, \"('criticism',)\": 0.00042826552462526765, \"('club',)\": 0.00042826552462526765, \"('regime',)\": 0.00042826552462526765, \"('listing',)\": 0.00042826552462526765, \"('cargo',)\": 0.00042826552462526765, \"('Highway',)\": 0.00042826552462526765, \"('sheepskin',)\": 0.00042826552462526765, \"('fret',)\": 0.00042826552462526765, \"('INQUIRY',)\": 0.00042826552462526765, \"('onus',)\": 0.00042826552462526765, \"('finding',)\": 0.00042826552462526765, \"('Science',)\": 0.00042826552462526765, \"('co-owner',)\": 0.00042826552462526765, \"('designer',)\": 0.00042826552462526765, \"('anybody',)\": 0.00042826552462526765, \"('selling',)\": 0.00042826552462526765, \"('approval',)\": 0.00042826552462526765, \"('moment',)\": 0.00042826552462526765, \"('productivity',)\": 0.00042826552462526765, \"('forest-product',)\": 0.00042826552462526765, \"('profitability',)\": 0.00042826552462526765, \"('intensity',)\": 0.00042826552462526765, \"('tree',)\": 0.00042826552462526765, \"('tort',)\": 0.00042826552462526765, \"('pressman',)\": 0.00042826552462526765, \"('committee',)\": 0.00042826552462526765, \"('pep',)\": 0.00042826552462526765, \"('Drink',)\": 0.00042826552462526765, \"('smattering',)\": 0.00042826552462526765, \"('buy-out',)\": 0.00042826552462526765, \"('law',)\": 0.00042826552462526765, \"('executive-office',)\": 0.00042826552462526765, \"('indictment',)\": 0.00042826552462526765, \"('type',)\": 0.00042826552462526765, \"('measure',)\": 0.00042826552462526765, \"('discount',)\": 0.00042826552462526765, \"('board',)\": 0.00042826552462526765, \"('manpower',)\": 0.00042826552462526765, \"('dust-up',)\": 0.00042826552462526765, \"('charm',)\": 0.00042826552462526765, \"('departure',)\": 0.00042826552462526765, \"('sheep',)\": 0.00042826552462526765, \"('engineer',)\": 0.00042826552462526765, \"('furor',)\": 0.00042826552462526765, \"('moratorium',)\": 0.00042826552462526765, \"('comment',)\": 0.00042826552462526765, \"('death',)\": 0.00042826552462526765, \"('reluctance',)\": 0.00042826552462526765, \"('advertising',)\": 0.00042826552462526765, \"('boy',)\": 0.00042826552462526765, \"('bitterness',)\": 0.00042826552462526765, \"('morale',)\": 0.00042826552462526765, \"('memory',)\": 0.00042826552462526765, \"('comeback',)\": 0.00042826552462526765, \"('pillow',)\": 0.00042826552462526765, \"('male',)\": 0.00042826552462526765, \"('standard',)\": 0.00042826552462526765, \"('anything',)\": 0.00042826552462526765, \"('Something',)\": 0.00042826552462526765, \"('chassis',)\": 0.00042826552462526765, \"('homework',)\": 0.00042826552462526765, \"('irony',)\": 0.00042826552462526765, \"('individual',)\": 0.00042826552462526765, \"('music',)\": 0.00042826552462526765, \"('turn',)\": 0.00042826552462526765, \"('rise',)\": 0.00042826552462526765, \"('rap',)\": 0.00042826552462526765, \"('specialty',)\": 0.00042826552462526765, \"('closing',)\": 0.00042826552462526765, \"('flexibility',)\": 0.00042826552462526765, \"('web',)\": 0.00042826552462526765, \"('flow',)\": 0.00042826552462526765, \"('outlook',)\": 0.00042826552462526765, \"('slowing',)\": 0.00042826552462526765, \"('guild',)\": 0.00042826552462526765, \"('friendship',)\": 0.00042826552462526765, \"('trigger',)\": 0.00042826552462526765, \"('doctorate',)\": 0.00042826552462526765, \"('depository',)\": 0.00042826552462526765, \"('numeral',)\": 0.00042826552462526765, \"('drop',)\": 0.00042826552462526765, \"('fueling',)\": 0.00042826552462526765, \"('senior',)\": 0.00042826552462526765, \"('joy',)\": 0.00042826552462526765, \"('1\\\\/10th',)\": 0.00042826552462526765, \"('rope-sight',)\": 0.00042826552462526765, \"('leash',)\": 0.00042826552462526765, \"('wholesale',)\": 0.00042826552462526765, \"('deregulation',)\": 0.00042826552462526765, \"('reason',)\": 0.00042826552462526765, \"('optimism',)\": 0.00042826552462526765, \"('industry',)\": 0.00042826552462526765, \"('spilling',)\": 0.00042826552462526765, \"('sum',)\": 0.00042826552462526765, \"('assault',)\": 0.00042826552462526765, \"('cheating',)\": 0.00042826552462526765, \"('facility',)\": 0.00042826552462526765, \"('zone',)\": 0.00042826552462526765, \"('clock',)\": 0.00042826552462526765, \"('motive',)\": 0.00042826552462526765, \"('interest',)\": 0.00042826552462526765, \"('turmoil',)\": 0.00042826552462526765, \"('nobody',)\": 0.00042826552462526765, \"('driver',)\": 0.00042826552462526765, \"('astonishment',)\": 0.00042826552462526765, \"('show',)\": 0.00042826552462526765, \"('maze',)\": 0.00042826552462526765, \"('master',)\": 0.00042826552462526765, \"('limbo',)\": 0.00042826552462526765, \"('asbestos',)\": 0.00042826552462526765, \"('operator',)\": 0.00042826552462526765, \"('tour',)\": 0.00042826552462526765, \"('food',)\": 0.00042826552462526765, \"('blessing',)\": 0.00042826552462526765, \"('prerogative',)\": 0.00042826552462526765, \"('offer',)\": 0.00042826552462526765, \"('fiber',)\": 0.00042826552462526765, \"('oversight',)\": 0.00042826552462526765, \"('transplantation',)\": 0.00042826552462526765, \"('shoulder',)\": 0.00042826552462526765, \"('nightmare',)\": 0.00042826552462526765, \"('conduct',)\": 0.00042826552462526765, \"('mortgage',)\": 0.00042826552462526765, \"('vortex',)\": 0.00042826552462526765, \"('stream',)\": 0.00042826552462526765, \"('rider',)\": 0.00042826552462526765, \"('Spending',)\": 0.00042826552462526765, \"('column',)\": 0.00042826552462526765, \"('cheerleading',)\": 0.00042826552462526765, \"('cancer',)\": 0.00042826552462526765, \"('concept',)\": 0.00042826552462526765, \"('stock-index',)\": 0.00042826552462526765, \"('pub',)\": 0.00042826552462526765, \"('recyclability',)\": 0.00042826552462526765, \"('youth',)\": 0.00042826552462526765, \"('minority',)\": 0.00042826552462526765, \"('comfort',)\": 0.00042826552462526765, \"('Merchant',)\": 0.00042826552462526765, \"('new-car',)\": 0.00042826552462526765, \"('Dividend',)\": 0.00042826552462526765, \"('fast-food',)\": 0.00042826552462526765, \"('refocusing',)\": 0.00042826552462526765, \"('stand',)\": 0.00042826552462526765, \"('installment',)\": 0.00042826552462526765, \"('elephant',)\": 0.00042826552462526765, \"('pence',)\": 0.00042826552462526765, \"('accordance',)\": 0.00042826552462526765, \"('waste',)\": 0.00042826552462526765, \"('common-law',)\": 0.00042826552462526765, \"('colony',)\": 0.00042826552462526765, \"('rhetoric',)\": 0.00042826552462526765, \"('approach',)\": 0.00042826552462526765, \"('glass',)\": 0.00042826552462526765, \"('secret',)\": 0.00042826552462526765, \"('word-processing',)\": 0.00042826552462526765, \"('powwow',)\": 0.00042826552462526765, \"('plan',)\": 0.00042826552462526765, \"('policy',)\": 0.00042826552462526765, \"('buffet',)\": 0.00042826552462526765, \"('trouble',)\": 0.00042826552462526765, \"('distributor',)\": 0.00042826552462526765, \"('strength',)\": 0.00042826552462526765, \"('outrage',)\": 0.00042826552462526765, \"('artist',)\": 0.00042826552462526765, \"('piece',)\": 0.00042826552462526765, \"('disruption',)\": 0.00042826552462526765, \"('bull',)\": 0.00042826552462526765, \"('acceptance',)\": 0.00042826552462526765, \"('chief',)\": 0.00042826552462526765, \"('virtue',)\": 0.00042826552462526765, \"('foundation',)\": 0.00042826552462526765, \"('incest',)\": 0.00042826552462526765, \"('regulation',)\": 0.00042826552462526765, \"('1980s',)\": 0.00042826552462526765, \"('alcohol',)\": 0.00042826552462526765, \"('rape',)\": 0.00042826552462526765, \"('roadblock',)\": 0.00042826552462526765, \"('hostility',)\": 0.00042826552462526765, \"('FAMILY',)\": 0.00042826552462526765, \"('awareness',)\": 0.00042826552462526765, \"('cocoa',)\": 0.00042826552462526765, \"('novel',)\": 0.00042826552462526765, \"('pay',)\": 0.00042826552462526765, \"('inquiry',)\": 0.00042826552462526765, \"('upscale',)\": 0.00042826552462526765, \"('wholesaler',)\": 0.00042826552462526765, \"('world',)\": 0.00042826552462526765, \"('load',)\": 0.00042826552462526765, \"('photograph',)\": 0.00042826552462526765, \"('analyst',)\": 0.00042826552462526765, \"('evidence',)\": 0.00042826552462526765, \"('agreed',)\": 0.00042826552462526765, \"('top',)\": 0.00042826552462526765, \"('plunge',)\": 0.00042826552462526765, \"('jam',)\": 0.00042826552462526765, \"('affiliate',)\": 0.00042826552462526765, \"('American',)\": 0.00042826552462526765, \"('wound',)\": 0.00042826552462526765, \"('undertone',)\": 0.00042826552462526765, \"('sticker-shock',)\": 0.00042826552462526765, \"('architect',)\": 0.00042826552462526765, \"('compliance',)\": 0.00042826552462526765, \"('administrator',)\": 0.00042826552462526765, \"('today',)\": 0.00042826552462526765, \"('tire',)\": 0.00042826552462526765, \"('leader',)\": 0.00042826552462526765, \"('offender',)\": 0.00042826552462526765, \"('index-arbitrage',)\": 0.00042826552462526765, \"('twin-jet',)\": 0.00042826552462526765, \"('immense',)\": 0.00042826552462526765, \"('shambles',)\": 0.00042826552462526765, \"('weapon',)\": 0.00042826552462526765, \"('research',)\": 0.00042826552462526765, \"('dessert',)\": 0.00042826552462526765, \"('fate',)\": 0.00042826552462526765, \"('kidnapping',)\": 0.00042826552462526765, \"('acne',)\": 0.00042826552462526765, \"('kindness',)\": 0.00042826552462526765, \"('program-trading',)\": 0.00042826552462526765, \"('grandstander',)\": 0.00042826552462526765, \"('standpoint',)\": 0.00042826552462526765, \"('ritual',)\": 0.00042826552462526765, \"('registration',)\": 0.00042826552462526765, \"('substitute',)\": 0.00042826552462526765, \"('persuasion',)\": 0.00042826552462526765, \"('woman',)\": 0.00042826552462526765, \"('diplomacy',)\": 0.00042826552462526765, \"('wrongdoing',)\": 0.00042826552462526765, \"('Compound',)\": 0.00042826552462526765, \"('combination',)\": 0.00042826552462526765, \"('magnitude',)\": 0.00042826552462526765, \"('beneficiary',)\": 0.00042826552462526765, \"('chip',)\": 0.00042826552462526765, \"('gasoline',)\": 0.00042826552462526765, \"('instance',)\": 0.00042826552462526765, \"('schoolchildren',)\": 0.00042826552462526765, \"('mail',)\": 0.00042826552462526765, \"('transportation',)\": 0.00042826552462526765, \"('adult',)\": 0.00042826552462526765, \"('basis',)\": 0.00042826552462526765, \"('surge',)\": 0.00042826552462526765, \"('flim-flammery',)\": 0.00042826552462526765, \"('volume',)\": 0.00042826552462526765, \"('word',)\": 0.00042826552462526765, \"('DEPOSIT',)\": 0.00042826552462526765, \"('fall',)\": 0.00042826552462526765, \"('average',)\": 0.00042826552462526765, \"('communication',)\": 0.00042826552462526765, \"('war',)\": 0.00042826552462526765, \"('suffering',)\": 0.00042826552462526765, \"('appointment',)\": 0.00042826552462526765, \"('microphone',)\": 0.00042826552462526765, \"('corn',)\": 0.00042826552462526765, \"('stage',)\": 0.00042826552462526765, \"('videocassette',)\": 0.00042826552462526765, \"('vehicle',)\": 0.00042826552462526765, \"('limited-partnership',)\": 0.00042826552462526765, \"('lung',)\": 0.00042826552462526765, \"('insurance',)\": 0.00042826552462526765, \"('education',)\": 0.00042826552462526765, \"('answer',)\": 0.00042826552462526765, \"('reader',)\": 0.00042826552462526765, \"('dawn',)\": 0.00042826552462526765, \"('author',)\": 0.00042826552462526765, \"('start',)\": 0.00042826552462526765, \"('membership',)\": 0.00042826552462526765, \"('mutual-fund',)\": 0.00042826552462526765, \"('schedule',)\": 0.00042826552462526765, \"('art',)\": 0.00042826552462526765, \"('grandfather',)\": 0.00042826552462526765, \"('oblivion',)\": 0.00042826552462526765, \"('existence',)\": 0.00042826552462526765, \"('backyard',)\": 0.00042826552462526765, \"('Source',)\": 0.00042826552462526765, \"('black',)\": 0.00042826552462526765, \"('tenure',)\": 0.00042826552462526765, \"('pace',)\": 0.00042826552462526765, \"('par',)\": 0.00042826552462526765, \"('vacation',)\": 0.00042826552462526765, \"('donor',)\": 0.00042826552462526765, \"('plight',)\": 0.00042826552462526765, \"('license',)\": 0.00042826552462526765, \"('candidate',)\": 0.00042826552462526765, \"('exit',)\": 0.00042826552462526765, \"('justice',)\": 0.00042826552462526765, \"('excess',)\": 0.00042826552462526765, \"('success',)\": 0.00042826552462526765, \"('railroad',)\": 0.00042826552462526765, \"('redemption',)\": 0.00042826552462526765, \"('flood',)\": 0.00042826552462526765, \"('facade',)\": 0.00042826552462526765, \"('swap',)\": 0.00042826552462526765, \"('iota',)\": 0.00042826552462526765, \"('goodwill',)\": 0.00042826552462526765, \"('favor',)\": 0.00042826552462526765, \"('release',)\": 0.00042826552462526765, \"('newsroom',)\": 0.00042826552462526765, \"('label',)\": 0.00042826552462526765, \"('perception',)\": 0.00042826552462526765, \"('debt',)\": 0.00042826552462526765, \"('premiere',)\": 0.00042826552462526765, \"('history',)\": 0.00042826552462526765, \"('waif',)\": 0.00042826552462526765, \"('pricing',)\": 0.00042826552462526765, \"('minicrash',)\": 0.00042826552462526765, \"('deficit',)\": 0.00042826552462526765, \"('mathematics',)\": 0.00042826552462526765, \"('length',)\": 0.00042826552462526765, \"('judge',)\": 0.00042826552462526765, \"('status',)\": 0.00042826552462526765, \"('sensitivity',)\": 0.00042826552462526765, \"('foam',)\": 0.00042826552462526765, \"('loyalty',)\": 0.00042826552462526765, \"('drug',)\": 0.00042826552462526765, \"('yielding',)\": 0.00042826552462526765, \"('performance',)\": 0.00042826552462526765, \"('something',)\": 0.00042826552462526765, \"('crusade',)\": 0.00042826552462526765, \"('Law',)\": 0.00042826552462526765, \"('hostage',)\": 0.00042826552462526765, \"('item',)\": 0.00042826552462526765, \"('equity',)\": 0.00042826552462526765, \"('creativity',)\": 0.00042826552462526765, \"('counter',)\": 0.00042826552462526765, \"('exposure',)\": 0.00042826552462526765, \"('sense',)\": 0.00042826552462526765, \"('embassy',)\": 0.00042826552462526765, \"('FALL',)\": 0.00042826552462526765, \"('projector',)\": 0.00042826552462526765, \"('refusal',)\": 0.00042826552462526765, \"('base',)\": 0.00042826552462526765, \"('employer',)\": 0.00042826552462526765, \"('junk',)\": 0.00042826552462526765, \"('investment',)\": 0.00042826552462526765, \"('interview',)\": 0.00042826552462526765, \"('car',)\": 0.00042826552462526765, \"('message',)\": 0.00042826552462526765, \"('Output',)\": 0.00042826552462526765, \"('entertainment',)\": 0.00042826552462526765, \"('water',)\": 0.00042826552462526765, \"('dismissal',)\": 0.00042826552462526765, \"('commercial',)\": 0.00042826552462526765, \"('onslaught',)\": 0.00042826552462526765, \"('situation',)\": 0.00042826552462526765, \"('independence',)\": 0.00042826552462526765, \"('grant',)\": 0.00042826552462526765, \"('recognition',)\": 0.00042826552462526765, \"('homeless',)\": 0.00042826552462526765, \"('contingent',)\": 0.00042826552462526765, \"('advice',)\": 0.00042826552462526765, \"('RULING',)\": 0.00042826552462526765, \"('disarray',)\": 0.00042826552462526765, \"('basket',)\": 0.00042826552462526765, \"('abortionist',)\": 0.00042826552462526765, \"('year-end',)\": 0.00042826552462526765, \"('cadet',)\": 0.00042826552462526765, \"('forecast',)\": 0.00042826552462526765, \"('worsening',)\": 0.00042826552462526765, \"('electric-utility',)\": 0.00042826552462526765, \"('security',)\": 0.00042826552462526765, \"('ministry',)\": 0.00042826552462526765, \"('dozen',)\": 0.00042826552462526765, \"('population',)\": 0.00042826552462526765, \"('aircraft',)\": 0.00042826552462526765, \"('impact',)\": 0.00042826552462526765, \"('acquisition',)\": 0.00042826552462526765, \"('decrease',)\": 0.00042826552462526765, \"('textile',)\": 0.00042826552462526765, \"('lieutenant',)\": 0.00042826552462526765, \"('barrier',)\": 0.00042826552462526765, \"('match',)\": 0.00042826552462526765, \"('rate',)\": 0.00042826552462526765, \"('exemption',)\": 0.00042826552462526765, \"('council',)\": 0.00042826552462526765, \"('single-family',)\": 0.00042826552462526765, \"('F',)\": 0.00042826552462526765, \"('context',)\": 0.00042826552462526765, \"('disk',)\": 0.00042826552462526765, \"('billing',)\": 0.00042826552462526765, \"('school-board',)\": 0.00042826552462526765, \"('ability',)\": 0.00042826552462526765, \"('end',)\": 0.00042826552462526765, \"('living',)\": 0.00042826552462526765, \"('premises',)\": 0.00042826552462526765, \"('decade',)\": 0.00042826552462526765, \"('flightiness',)\": 0.00042826552462526765, \"('college',)\": 0.00042826552462526765, \"('white',)\": 0.00042826552462526765, \"('accountability',)\": 0.00042826552462526765, \"('twindam',)\": 0.00042826552462526765, \"('efficiency',)\": 0.00042826552462526765, \"('stalemate',)\": 0.00042826552462526765, \"('tissue',)\": 0.00042826552462526765, \"('mailing',)\": 0.00042826552462526765, \"('tie-in',)\": 0.00042826552462526765, \"('warrant',)\": 0.00042826552462526765, \"('floor',)\": 0.00042826552462526765, \"('len',)\": 0.00042826552462526765, \"('hill',)\": 0.00042826552462526765, \"('fluctuation',)\": 0.00042826552462526765, \"('initiate',)\": 0.00042826552462526765, \"('routine',)\": 0.00042826552462526765, \"('remainder',)\": 0.00042826552462526765, \"('enthusiasm',)\": 0.00042826552462526765, \"('desktop',)\": 0.00042826552462526765, \"('tower',)\": 0.00042826552462526765, \"('sky',)\": 0.00042826552462526765, \"('strip',)\": 0.00042826552462526765, \"('prestige',)\": 0.00042826552462526765, \"('help',)\": 0.00042826552462526765, \"('capacity',)\": 0.00042826552462526765, \"('sector',)\": 0.00042826552462526765, \"('worthiness',)\": 0.00042826552462526765, \"('separation',)\": 0.00042826552462526765, \"('marketer',)\": 0.00042826552462526765, \"('passenger',)\": 0.00042826552462526765, \"('matter',)\": 0.00042826552462526765, \"('rear-seat',)\": 0.00042826552462526765, \"('wine-making',)\": 0.00042826552462526765, \"('behalf',)\": 0.00042826552462526765, \"('source',)\": 0.00042826552462526765, \"('felony',)\": 0.00042826552462526765, \"('statute',)\": 0.00042826552462526765, \"('commitment',)\": 0.00042826552462526765, \"('couple',)\": 0.00042826552462526765, \"('bass',)\": 0.00042826552462526765, \"('attitude',)\": 0.00042826552462526765, \"('Policy',)\": 0.00042826552462526765, \"('faculty',)\": 0.00042826552462526765, \"('anger',)\": 0.00042826552462526765, \"('commission',)\": 0.00042826552462526765, \"('construction',)\": 0.00042826552462526765, \"('lady',)\": 0.00042826552462526765, \"('homosexual',)\": 0.00042826552462526765, \"('downturn',)\": 0.00042826552462526765, \"('opportunity',)\": 0.00042826552462526765, \"('indicator',)\": 0.00042826552462526765, \"('Root',)\": 0.00042826552462526765, \"('demand',)\": 0.00042826552462526765, \"('volatility',)\": 0.00042826552462526765, \"('sweepstakes',)\": 0.00042826552462526765, \"('parent',)\": 0.00042826552462526765, \"('dissemination',)\": 0.00042826552462526765, \"('massacre',)\": 0.00042826552462526765, \"('unit',)\": 0.00042826552462526765, \"('hay',)\": 0.00042826552462526765, \"('ringing',)\": 0.00042826552462526765, \"('WAR',)\": 0.00042826552462526765, \"('evening',)\": 0.00042826552462526765, \"('certificate',)\": 0.00042826552462526765, \"('crack',)\": 0.00042826552462526765, \"('aerospace',)\": 0.00042826552462526765, \"('destination',)\": 0.00042826552462526765, \"('air',)\": 0.00042826552462526765, \"('downfall',)\": 0.00042826552462526765, \"('prescription',)\": 0.00042826552462526765, \"('measurement',)\": 0.00042826552462526765, \"('empire',)\": 0.00042826552462526765, \"('cell',)\": 0.00042826552462526765, \"('inheritor',)\": 0.00042826552462526765, \"('structure',)\": 0.00042826552462526765, \"('divergence',)\": 0.00042826552462526765, \"('mania',)\": 0.00042826552462526765, \"('prostitute',)\": 0.00042826552462526765, \"('escape',)\": 0.00042826552462526765, \"('polyproplene',)\": 0.00042826552462526765, \"('subminimum',)\": 0.00042826552462526765, \"('chrysotile',)\": 0.00042826552462526765, \"('realization',)\": 0.00042826552462526765, \"('training',)\": 0.00042826552462526765, \"('belt',)\": 0.00042826552462526765, \"('Solution',)\": 0.00042826552462526765, \"('science',)\": 0.00042826552462526765, \"('resolution',)\": 0.00042826552462526765, \"('greenmailer',)\": 0.00042826552462526765, \"('TRIAL',)\": 0.00042826552462526765, \"('number',)\": 0.00042826552462526765, \"('warming',)\": 0.00042826552462526765, \"('marketing',)\": 0.00042826552462526765, \"('cause',)\": 0.00042826552462526765, \"('addiction',)\": 0.00042826552462526765, \"('auction',)\": 0.00042826552462526765, \"('relation',)\": 0.00042826552462526765, \"('applicability',)\": 0.00042826552462526765, \"('cosmetic',)\": 0.00042826552462526765, \"('software',)\": 0.00042826552462526765, \"('motor',)\": 0.00042826552462526765, \"('skepticism',)\": 0.00042826552462526765, \"('inventiveness',)\": 0.00042826552462526765, \"('offering',)\": 0.00042826552462526765, \"('Excision',)\": 0.00042826552462526765, '<unk>': 0.00042826552462526765}\n",
      "[VP] {'([VB], [ADVP-MNR])': 0.0006548788474132286, '([VBZ], [ADVP-TMP])': 0.0006548788474132286, '([VBZ], [ADJP-PRD], [S-PRP])': 0.0006548788474132286, '([VBP], [NP-CLR], [PP-CLR])': 0.0006548788474132286, '([VP], [CC], [VP], [ADVP-LOC])': 0.0006548788474132286, '([VBD], [PP-PRD])': 0.0006548788474132286, '([VBD], [PP-TMP], [S])': 0.0006548788474132286, '([VB], [ADVP-CLR], [PP-DIR])': 0.0006548788474132286, '([VP], [:], [CC], [VP])': 0.0006548788474132286, '([VB], [RB], [ADVP], [VP])': 0.0006548788474132286, '([VB], [PP-CLR], [S-PRP])': 0.0006548788474132286, '([VBD], [:], [SBAR])': 0.0006548788474132286, '([VB], [NP], [PP-TMP], [SBAR-PRP])': 0.0006548788474132286, '([VBZ], [PRT], [PP-LOC])': 0.0006548788474132286, '([ADVP-MNR], [VBN], [NP], [SBAR-TMP])': 0.0006548788474132286, '([ADVP-TMP], [VBN], [NP])': 0.0006548788474132286, '([VP], [CC], [VP], [NP': 0.0006548788474132286, '([VB], [S], [PP-TMP])': 0.0006548788474132286, '([VBN], [NP], [ADVP-CLR], [PP])': 0.0006548788474132286, '([VBP], [NP-TMP-CLR])': 0.0006548788474132286, '([VBZ], [ADVP-PRD], [PP-TMP])': 0.0006548788474132286, '([VB], [NP], [PP-LOC], [NP-TMP])': 0.0006548788474132286, '([VBN], [NP], [PP-TMP], [PP-DTV])': 0.0006548788474132286, '([VBP], [NP], [SBAR-TMP])': 0.0006548788474132286, '([VBD], [PP-TMP], [PP], [PP-TMP])': 0.0006548788474132286, '([VBD], [NP], [PP-DIR])': 0.0006548788474132286, '([VBD], [NP-PRD], [PP])': 0.0006548788474132286, '([ADVP], [VBN], [PP-TMP])': 0.0006548788474132286, '([VBN], [NP], [PP-PRP])': 0.0006548788474132286, '([VBP], [DT], [VP])': 0.0006548788474132286, '([VBG], [``], [NP])': 0.0006548788474132286, '([VBG], [S-ADV], [S-PRP])': 0.0006548788474132286, '([VBN], [NP], [PRN], [SBAR-PRP])': 0.0006548788474132286, '([VB], [ADVP-LOC])': 0.0006548788474132286, '([VBZ], [ADVP], [PP-CLR])': 0.0006548788474132286, '([VBD], [PP-DIR], [,], [S-ADV])': 0.0006548788474132286, '([VBG], [PP-MNR], [ADVP-TMP])': 0.0006548788474132286, '([VBG], [PRT], [NP])': 0.0006548788474132286, '([VB], [CC], [VB], [NP])': 0.0006548788474132286, '([VBD], [PP-PRD], [SBAR-ADV])': 0.0006548788474132286, '([VB], [SBAR], [ADVP-TMP])': 0.0006548788474132286, '([VB], [PP-CLR], [PP-LOC], [PRN])': 0.0006548788474132286, '([VBN], [PP-PRD], [NP-TMP])': 0.0006548788474132286, '([JJ], [NP], [ADVP-MNR], [SBAR-PRP])': 0.0006548788474132286, '([VBZ], [PP-DIR], [ADVP-TMP])': 0.0006548788474132286, '([VBP], [PP-CLR], [PP-CLR])': 0.0006548788474132286, '([VBD], [ADVP], [VP])': 0.0006548788474132286, \"([ADVP-MNR], [VBP], [''], [S])\": 0.0006548788474132286, '([VBD], [PP-DIR-CLR])': 0.0006548788474132286, '([VBP], [PP-MNR])': 0.0006548788474132286, '([NNS], [NP], [PP-CLR])': 0.0006548788474132286, '([VBZ], [NP-PRD], [ADVP])': 0.0006548788474132286, '([VBZ], [ADJP-PRD], [NP-TMP])': 0.0006548788474132286, '([VBD], [PRT], [NP-TMP], [PP-CLR])': 0.0006548788474132286, '([VBN], [PP-CLR], [PP])': 0.0006548788474132286, '([VB], [ADJP-PRD], [S': 0.0013097576948264572, '([VBD], [SBAR], [NP-TMP])': 0.0006548788474132286, '([VBD], [NP-EXT], [,], [PP-TMP])': 0.0006548788474132286, '([ADVP-MNR], [VBN], [NP], [PP])': 0.0006548788474132286, '([VBZ], [RB], [ADJP-PRD], [S': 0.0006548788474132286, '([VBG], [ADVP-DIR], [PP])': 0.0006548788474132286, '([VBD], [NP], [PP])': 0.0006548788474132286, '([VBP], [ADVP], [NP-PRD])': 0.0006548788474132286, '([VBD], [NP], [PP-DIR], [NP-TMP])': 0.0006548788474132286, '([VB], [ADVP], [PP-CLR])': 0.0006548788474132286, '([VBP], [S])': 0.0006548788474132286, '([VBP], [NP-TMP], [PP-DIR], [PP])': 0.0006548788474132286, '([VB], [ADJP-PRD], [SBAR': 0.0006548788474132286, '([VBN], [PP-CLR], [PP-TMP])': 0.0006548788474132286, '([VBG], [NP], [NP])': 0.0006548788474132286, '([VBG], [``], [NP], [PP-CLR])': 0.0006548788474132286, '([VBD], [PP-PRP])': 0.0006548788474132286, '([VBD], [PP-MNR], [PP-CLR])': 0.0006548788474132286, '([VB], [ADVP], [PP-TMP])': 0.0006548788474132286, '([VBD], [PRT], [ADVP-MNR], [PP-TMP])': 0.0006548788474132286, '([VBP], [ADVP-TMP], [S-PRP])': 0.0006548788474132286, '([VBD], [ADVP], [PP-TMP])': 0.0006548788474132286, '([VB], [NP], [PP-CLR], [ADVP-MNR])': 0.0006548788474132286, '([VB], [NP], [``], [S-ADV])': 0.0006548788474132286, '([VBD], [ADVP], [ADJP-PRD])': 0.0006548788474132286, '([VB], [NP], [``], [SBAR-PRP])': 0.0006548788474132286, '([ADVP-MNR], [VBZ], [NP])': 0.0006548788474132286, '([VBZ], [SBAR-NOM])': 0.0006548788474132286, '([VBN], [NP': 0.008513425016371971, '([ADVP], [-LRB-], [MD], [VP])': 0.0006548788474132286, '([VBZ], [PP-LOC], [NP])': 0.0006548788474132286, '([VB], [PP-MNR])': 0.0006548788474132286, '([VBZ], [RB], [PP-PRD])': 0.0006548788474132286, '([VBP], [ADVP-TMP], [PP-PRD-LOC])': 0.0006548788474132286, '([VBD], [NP-PRD], [,], [PP])': 0.0006548788474132286, '([VBG], [PP], [PP-TMP])': 0.0006548788474132286, '([ADVP-LOC], [VP], [CC], [VP])': 0.0006548788474132286, '([VB], [NP], [ADVP-LOC])': 0.0006548788474132286, '([VB], [ADVP], [PP-LOC])': 0.0006548788474132286, '([VB], [:], [SBARQ])': 0.0006548788474132286, '([ADVP-MNR], [VBG], [NP], [PP-CLR])': 0.0006548788474132286, '([VBP], [NP], [PP-MNR])': 0.0006548788474132286, '([VBD], [NP], [NP-ADV])': 0.0006548788474132286, '([VBP], [CC], [VBP], [NP])': 0.0006548788474132286, '([VBN], [SBAR-NOM])': 0.0006548788474132286, '([VBN], [CC], [VBN], [NP])': 0.0006548788474132286, '([VBD], [S], [SBAR-TMP])': 0.0006548788474132286, '([VBP], [RB], [ADVP], [VP])': 0.0006548788474132286, '([VBD], [NP-PRD], [ADVP-TMP])': 0.0006548788474132286, '([VP], [,], [CC], [VP])': 0.0006548788474132286, '([VBG], [PP-CLR], [,], [SBAR-PRP])': 0.0006548788474132286, '([VB], [S])': 0.0006548788474132286, '([VBN], [PP-CLR], [PP-MNR])': 0.0006548788474132286, '([VBN], [NP])': 0.0006548788474132286, '([ADVP-MNR], [VBD], [NP], [PP-LOC])': 0.0006548788474132286, '([ADVP], [VBG], [S])': 0.0006548788474132286, '([VBD], [PP-DIR])': 0.0006548788474132286, '([VB], [PRT], [NP])': 0.0006548788474132286, '([VBZ], [ADJP-PRD], [ADVP-TMP])': 0.0006548788474132286, '([VBD], [PP-LOC], [PP-LOC])': 0.0006548788474132286, '([VBN], [PP-LOC], [PP-TMP])': 0.0006548788474132286, '([VBN], [NP], [PP-LOC], [PP-TMP])': 0.0006548788474132286, '([VBZ], [NP-PRD], [SBAR-ADV])': 0.0006548788474132286, '([VBZ], [PP-LOC], [NP-PRD])': 0.0006548788474132286, '([VBZ], [NP], [PP-DIR])': 0.0006548788474132286, '([NNS], [NP], [PP-DIR])': 0.0006548788474132286, '([VBD], [ADVP-TMP], [PP-LOC-PRD])': 0.0006548788474132286, '([ADVP], [VBD], [ADVP-CLR])': 0.0006548788474132286, '([VBN], [NP], [PP-DIR], [PP-LOC])': 0.0006548788474132286, '([VBN], [NP], [PRT], [PP])': 0.0006548788474132286, '([VBN], [PP-CLR], [S-CLR])': 0.0006548788474132286, '([VBZ], [PP': 0.0006548788474132286, '([VB], [PP-LOC-PRD], [PP-CLR])': 0.0006548788474132286, '([VBN], [ADJP-PRD], [PP-LOC])': 0.0006548788474132286, '([VBP], [NP], [PP-MNR], [S': 0.0006548788474132286, '([VB], [PP-PRD-LOC], [PP-TMP], [S-PRP])': 0.0006548788474132286, '([VB], [ADJP-PRD], [,], [SBAR-ADV])': 0.0006548788474132286, '([VBN], [ADVP-TMP], [VP])': 0.0006548788474132286, '([VB], [PP-PRD], [PP-TMP])': 0.0006548788474132286, '([VBZ], [ADVP-CLR], [PP-CLR])': 0.0006548788474132286, '([VBZ], [PP-LOC-PRD])': 0.0006548788474132286, '([VBG], [NP], [SBAR-ADV])': 0.0006548788474132286, '([VBZ], [RB], [NP-PRD], [PP-LOC])': 0.0006548788474132286, '([ADVP], [VBG], [NP])': 0.0006548788474132286, '([VBZ], [NP], [ADVP-TMP])': 0.0006548788474132286, '([VBD], [PP-CLR], [:], [PP])': 0.0006548788474132286, '([VBG], [NP], [PP-TMP], [PRN])': 0.0006548788474132286, '([JJ],)': 0.0006548788474132286, '([ADVP-MNR], [VBD], [PRT], [NP])': 0.0006548788474132286, '([VB], [PP-LOC-PRD], [PP-LOC])': 0.0006548788474132286, '([VBD], [NP-EXT])': 0.0006548788474132286, '([VBZ], [RB], [ADJP-PRD], [PP])': 0.0006548788474132286, '([VBD], [SBAR], [,], [SBAR-ADV])': 0.0006548788474132286, '([VB], [RB], [VP])': 0.0006548788474132286, '([VBZ], [ADVP-TMP], [S])': 0.0006548788474132286, '([VBN], [PP], [SBAR-TMP])': 0.0006548788474132286, '([VB], [ADVP], [VP])': 0.0006548788474132286, '([VBG], [PP-CLR], [PP-TMP])': 0.0006548788474132286, '([VBD], [ADJP-PRD': 0.0006548788474132286, '([ADVP-MNR], [VB], [NP])': 0.0006548788474132286, '([VBD], [NP], [PP-DIR-CLR])': 0.0006548788474132286, '([VBP], [NP], [,], [SBAR-ADV])': 0.0006548788474132286, '([VBG], [PP-MNR], [NP])': 0.0006548788474132286, '([VBD], [ADVP-CLR], [PP-TMP], [ADVP-TMP])': 0.0006548788474132286, '([VBD], [PRT], [SBAR])': 0.0006548788474132286, '([-NONE-], [NP])': 0.0006548788474132286, '([VB], [NP], [ADVP-DIR], [PP-TMP])': 0.0006548788474132286, '([VBG], [NP-EXT], [NP-TMP])': 0.0006548788474132286, '([VBG], [ADJP-PRD])': 0.0006548788474132286, '([VBD], [S], [PP-MNR])': 0.0006548788474132286, '([VBD], [PP-CLR], [ADVP-TMP])': 0.0006548788474132286, '([VBZ], [ADJP-PRD], [PP-PRP])': 0.0006548788474132286, '([ADVP-MNR], [VBN], [NP], [NP])': 0.0006548788474132286, '([VBD], [NP], [,], [SBAR-ADV])': 0.0006548788474132286, '([VBP], [ADVP-MNR], [PP-LOC])': 0.0006548788474132286, '([VBP], [PRT], [PP-CLR])': 0.0006548788474132286, '([VBD], [NP-EXT], [,], [S-ADV])': 0.0006548788474132286, '([VBP], [PRT], [SBAR])': 0.0006548788474132286, '([VBD], [NP], [PP-CLR])': 0.0006548788474132286, '([VBZ], [RB])': 0.0006548788474132286, '([VBD], [S], [S-ADV])': 0.0006548788474132286, '([VBN], [S], [,], [S-ADV])': 0.0006548788474132286, '([VBP], [NP], [ADVP-MNR], [SBAR-TMP])': 0.0006548788474132286, '([VBZ], [PP])': 0.0006548788474132286, '([VBD], [NP-ADV], [NP-TMP], [PP-TMP])': 0.0006548788474132286, '([VB], [NP], [ADVP-CLR])': 0.0006548788474132286, '([VB], [NP-CLR], [PP-CLR])': 0.0006548788474132286, '([VB], [UCP-MNR])': 0.0006548788474132286, '([VB], [NP], [PP-LOC-CLR])': 0.0006548788474132286, '([VBZ], [ADVP-DIR])': 0.0006548788474132286, '([VBD], [PP-TMP], [PP-LOC])': 0.0006548788474132286, '([VBD], [PP-CLR], [PP-CLR])': 0.0006548788474132286, '([VBZ], [ADJP-PRD], [SBAR': 0.0019646365422396855, '([VBG], [NP], [ADVP-CLR])': 0.0006548788474132286, '([VBG], [SBAR-TMP])': 0.0006548788474132286, '([VBN], [NP], [PP-DIR], [PP-TMP])': 0.0006548788474132286, '([VBZ], [PRT], [PP-LOC-CLR])': 0.0006548788474132286, '([VBP], [NP-TMP])': 0.0006548788474132286, '([VBD], [S], [PP], [SBAR-TMP])': 0.0006548788474132286, '([VBP], [NP], [NP-ADV])': 0.0006548788474132286, '([VBN], [NP], [SBAR-PRP])': 0.0006548788474132286, '([VBZ], [``], [ADVP-TMP], [NP-PRD])': 0.0006548788474132286, \"([VB], [''], [PP-LOC])\": 0.0006548788474132286, '([NN], [PRT], [NP])': 0.0006548788474132286, '([VBN], [NP], [NP])': 0.0006548788474132286, '([VBD], [PP-LOC-CLR], [NP-TMP], [S-PRP])': 0.0006548788474132286, '([VBG], [PRT], [NP], [PP-TMP])': 0.0006548788474132286, '([VBG], [PP-CLR], [SBAR])': 0.0006548788474132286, '([VB], [SBAR-PRD])': 0.0006548788474132286, '([VB], [ADJP-PRD], [PP-TMP])': 0.0006548788474132286, '([VBD], [ADVP-MNR], [ADVP])': 0.0006548788474132286, '([VBD], [NP], [S-PRP], [ADVP-TMP])': 0.0006548788474132286, '([VBN], [NP], [ADVP-LOC])': 0.0006548788474132286, '([VBG], [NP], [ADVP-MNR], [SBAR-TMP])': 0.0006548788474132286, '([VBN], [NP], [S])': 0.0006548788474132286, '([VBZ], [PP-TMP])': 0.0006548788474132286, '([ADVP-MNR], [VBG], [PP-CLR])': 0.0006548788474132286, '([VBP], [PP-TMP])': 0.0006548788474132286, '([VBN], [NP], [PP-CLR], [SBAR-TMP])': 0.0006548788474132286, '([VBG], [ADVP-CLR], [PP-CLR])': 0.0006548788474132286, '([VBZ], [PRN], [VP])': 0.0006548788474132286, '([VBP], [NP], [PP-TMP])': 0.0006548788474132286, '([VBN], [ADJP-PRD], [SBAR-TMP])': 0.0006548788474132286, '([VBN], [NP], [ADVP-DIR], [PP-DIR])': 0.0006548788474132286, '([VBN], [PP-CLR], [PP-TMP], [PP])': 0.0006548788474132286, '([VBZ], [,], [``], [FRAG])': 0.0006548788474132286, '([VBZ], [ADVP-MNR], [PP-CLR], [ADVP-LOC])': 0.0006548788474132286, '([VBD], [PP-LOC], [PP-CLR])': 0.0006548788474132286, '([VBG], [PP-TMP])': 0.0006548788474132286, '([VB], [PP], [NP-PRD])': 0.0006548788474132286, '([VBG], [NP], [ADVP-LOC])': 0.0006548788474132286, '([ADVP], [JJ], [NP], [PP])': 0.0006548788474132286, '([VBD], [NP], [ADVP], [PP])': 0.0006548788474132286, '([ADVP-MNR], [VBD], [NP])': 0.0006548788474132286, '([VB], [NP': 0.005893909626719057, '([VBN], [NP], [NP-EXT])': 0.0006548788474132286, '([VBP], [PP-DIR], [S-ADV])': 0.0006548788474132286, '([VBG], [NP], [ADVP-TMP])': 0.0006548788474132286, '([VB], [ADVP-MNR], [PP])': 0.0006548788474132286, '([VBG], [PP-LOC-CLR], [PP-LOC])': 0.0006548788474132286, '([VBN], [NP], [PP], [PP-PRP])': 0.0006548788474132286, '([VBD], [NP], [``], [PP])': 0.0006548788474132286, '([VBN], [NP], [PRT], [PP-LOC])': 0.0006548788474132286, '([ADVP-TMP], [VBZ], [S])': 0.0006548788474132286, '([VB], [ADVP-LOC], [SBAR-NOM': 0.0006548788474132286, '([VBP], [RB], [ADVP-TMP], [VP])': 0.0006548788474132286, '([VBZ], [ADVP], [NP-PRD], [SBAR': 0.0006548788474132286, '([VBP], [ADVP])': 0.0006548788474132286, '([VBN], [NP], [ADVP-TMP], [NP-TMP])': 0.0006548788474132286, '([MD], [PRN], [ADVP], [VP])': 0.0006548788474132286, '([VB], [NP], [PP-TMP], [SBAR-TMP])': 0.0006548788474132286, '([VBN], [NP], [NP], [PP-LOC])': 0.0006548788474132286, '([VBG], [NP': 0.006548788474132285, '([VB], [NP], [,], [PP])': 0.0006548788474132286, '([VBP], [PP-DIR])': 0.0006548788474132286, '([VBN], [NP], [PP-MNR], [PP-LOC])': 0.0006548788474132286, '([ADVP-TMP], [VBG], [SBAR-ADV])': 0.0006548788474132286, '([VBG], [NP], [PP-CLR], [PP-CLR])': 0.0006548788474132286, '([VBN], [NP], [PP-LOC], [PP': 0.0006548788474132286, '([ADVP-TMP], [VBD], [PP-CLR], [PP-TMP])': 0.0006548788474132286, '([VBZ], [ADVP], [NP-PRD], [PP-LOC])': 0.0006548788474132286, '([VB], [SBAR])': 0.0006548788474132286, '([VP], [PRN], [SBAR-PRP])': 0.0006548788474132286, '([VBD], [SBAR-CLR])': 0.0006548788474132286, '([VBN], [PP-CLR], [PP-BNF])': 0.0006548788474132286, '([VBD], [S], [ADVP-TMP])': 0.0006548788474132286, '([VBP], [``], [ADJP-PRD])': 0.0006548788474132286, '([VBD], [PP])': 0.0006548788474132286, '([VBD], [ADVP-CLR])': 0.0006548788474132286, '([VBD], [NP], [PP-DIR], [SBAR': 0.0006548788474132286, '([VBN], [NP-CLR], [S-CLR])': 0.0006548788474132286, '([VBZ], [ADVP-LOC-CLR])': 0.0006548788474132286, '([VBG], [NP-TMP': 0.0006548788474132286, '([JJ], [PP-CLR])': 0.0006548788474132286, '([VBG], [NP], [PP-TMP], [PP': 0.0006548788474132286, '([VBG], [PRT], [NP': 0.0006548788474132286, '([VBP], [NP], [ADVP-TMP])': 0.0006548788474132286, '([VB], [``], [NP-PRD])': 0.0006548788474132286, '([VB], [SBAR-TMP])': 0.0006548788474132286, '([VBZ], [SBARQ])': 0.0006548788474132286, '([VBN], [ADVP-TMP])': 0.0006548788474132286, '([VBZ], [NP-PRD], [,], [SBAR-ADV])': 0.0006548788474132286, '([VBN], [NP], [SINV])': 0.0006548788474132286, '([VB], [S], [SBAR-PRP])': 0.0006548788474132286, '([VBZ], [ADJP-PRD], [S': 0.0013097576948264572, '([TO], [VP])': 0.0006548788474132286, '([VBD], [ADVP-MNR], [PP-LOC])': 0.0006548788474132286, '([VBD], [S-PRP])': 0.0006548788474132286, '([VBD], [RB], [VP])': 0.0006548788474132286, '([VB], [PP-CLR], [PP-CLR])': 0.0006548788474132286, '([VBN], [NP], [SBAR-CLR])': 0.0006548788474132286, '([VBG], [NP], [PP-CLR], [VP': 0.0006548788474132286, '([VB], [ADJP-PRD], [SBAR-ADV])': 0.0006548788474132286, '([VB], [PRT], [PP-TMP], [SBAR-ADV])': 0.0006548788474132286, '([VBD], [NP': 0.0032743942370661427, '([VBD], [S], [PP], [PP-TMP])': 0.0006548788474132286, '([VBG], [PP-LOC], [PP-MNR])': 0.0006548788474132286, '([VB], [NP], [PP-CLR])': 0.0006548788474132286, '([VB], [PRT], [NP], [ADVP])': 0.0006548788474132286, '([VBZ], [NP-PRD], [SBAR])': 0.0006548788474132286, '([VB], [VP])': 0.0006548788474132286, '([VB], [PRT], [PP-LOC])': 0.0006548788474132286, '([VB], [ADVP], [PP-MNR])': 0.0006548788474132286, '([VB], [PRT], [ADVP-TMP], [SBAR-CLR])': 0.0006548788474132286, '([VB], [``], [NP])': 0.0006548788474132286, '([VBZ], [PP], [NP-PRD])': 0.0006548788474132286, '([VBG], [ADVP-CLR], [ADVP-TMP], [S-PRP])': 0.0006548788474132286, '([VBG], [NP], [ADVP-MNR])': 0.0006548788474132286, '([ADVP-MNR], [VBN], [NP])': 0.0006548788474132286, '([VB], [NP], [PP-CLR], [PP-CLR])': 0.0006548788474132286, '([VB], [NP], [PP-TMP], [PP-CLR])': 0.0006548788474132286, '([VBG], [PP-CLR], [PP-LOC])': 0.0006548788474132286, '([MD], [ADVP-TMP], [VP])': 0.0006548788474132286, '([VBG], [ADVP-MNR], [PP-CLR])': 0.0006548788474132286, '([VBN], [NP], [PP-DIR], [PP])': 0.0006548788474132286, '([VBP], [NP-PRD], [PRN])': 0.0006548788474132286, '([VB], [PP-CLR])': 0.0006548788474132286, '([VBN], [NP], [ADVP-TMP], [SBAR-ADV])': 0.0006548788474132286, '([VB], [ADJP-CLR])': 0.0006548788474132286, '([VBN], [PP-CLR], [PP-LOC])': 0.0006548788474132286, '([VB], [NP], [PP-TMP])': 0.0006548788474132286, '([VBN], [NP], [ADVP-DIR], [PP])': 0.0006548788474132286, '([VBZ], [PP-LOC-CLR])': 0.0006548788474132286, '([MD], [ADVP], [ADVP-TMP], [VP])': 0.0006548788474132286, '([VBD], [SBARQ])': 0.0006548788474132286, '([VBN], [NP-PRD])': 0.0006548788474132286, '([VBD], [NP-TMP], [PP-PRP])': 0.0006548788474132286, '([VB], [NP], [PRT])': 0.0006548788474132286, '([VB], [ADJP-PRD], [,], [S-ADV])': 0.0006548788474132286, '([VBP], [NP], [PP-MNR], [SBAR-TMP])': 0.0006548788474132286, '([VBG], [NP-EXT], [PP-TMP])': 0.0006548788474132286, '([VB], [PP-DIR], [NP-TMP])': 0.0006548788474132286, '([VBG], [PP-TMP-CLR])': 0.0006548788474132286, '([VB], [PP-CLR], [SBAR])': 0.0006548788474132286, '([VBD], [PP-TMP], [PP-CLR])': 0.0006548788474132286, '([MD], [ADVP-MNR], [VP])': 0.0006548788474132286, '([VBN], [ADJP-PRD], [,], [SBAR-PRP])': 0.0006548788474132286, '([VBP], [PRN], [VP])': 0.0006548788474132286, '([VBP], [NP])': 0.0006548788474132286, '([VBD], [NP], [PP], [SBAR-PRP])': 0.0006548788474132286, '([MD], [RB], [ADVP], [VP])': 0.0006548788474132286, '([VBD], [NP-EXT], [PP-DIR], [PP-LOC])': 0.0006548788474132286, '([VBN], [NP], [PP': 0.0013097576948264572, '([VBZ], [NP], [:], [S-ADV])': 0.0006548788474132286, '([VB], [ADJP-PRD], [ADVP])': 0.0006548788474132286, '([VBG], [NP], [PP-MNR])': 0.0006548788474132286, '([ADVP-TMP], [VBD], [NP])': 0.0006548788474132286, '([VBN], [ADVP-CLR], [PP-LOC], [PP-TMP])': 0.0006548788474132286, '([VBG], [PRT], [NP], [SBAR-ADV])': 0.0006548788474132286, '([VBD], [NP-CLR], [PP-LOC-CLR], [ADVP-TMP])': 0.0006548788474132286, '([VBP], [NP], [PP-CLR])': 0.0006548788474132286, '([VB], [NP], [PP-PRP], [PP-TMP])': 0.0006548788474132286, '([ADVP-MNR], [VBD], [NP-PRD])': 0.0006548788474132286, '([VBZ], [NP], [PP-CLR], [S-PRP])': 0.0006548788474132286, '([VBG], [NP], [PRT], [PP-TMP])': 0.0006548788474132286, '([VBD], [NP], [PP-LOC], [SBAR': 0.0006548788474132286, '([VBZ], [NP], [PP], [PP-CLR])': 0.0006548788474132286, '([VBD], [PP-LOC], [SBAR])': 0.0006548788474132286, '([ADVP-MNR], [VB], [NP], [SBAR-ADV])': 0.0006548788474132286, '([VBN], [NP], [PP-CLR': 0.0006548788474132286, '([VBZ], [PP-CLR], [PP-TMP])': 0.0006548788474132286, '([VBD], [PP-DIR], [PP-DIR])': 0.0006548788474132286, '([VBN], [ADVP-DIR], [ADVP-TMP])': 0.0006548788474132286, '([ADVP], [VBN], [PP-CLR])': 0.0006548788474132286, '([VBD], [NP], [PP-TMP], [PP])': 0.0006548788474132286, '([VBD], [NP], [PRT], [PP])': 0.0006548788474132286, '([VBN], [PP], [ADVP-LOC], [PP-CLR])': 0.0006548788474132286, '([JJ], [NP], [PP])': 0.0006548788474132286, '([VBZ], [NP], [PP-LOC-CLR])': 0.0006548788474132286, '([VBZ], [ADVP-TMP], [NP-PRD])': 0.0006548788474132286, '([VB], [PP-DIR-CLR], [SBAR-PRP])': 0.0006548788474132286, '([VBG], [ADVP-MNR], [PP])': 0.0006548788474132286, '([VBN], [ADVP-MNR])': 0.0006548788474132286, '([VBD], [NP-CLR])': 0.0006548788474132286, '([VB], [S], [NP-TMP])': 0.0006548788474132286, '([VBD], [NP], [PP-CLR], [ADVP-TMP])': 0.0006548788474132286, '([VBZ], [RB], [ADJP-PRD], [SBAR-ADV])': 0.0006548788474132286, '([VBD], [PRT], [NP], [PP-PRP])': 0.0006548788474132286, '([VBG], [VP])': 0.0006548788474132286, '([VBZ], [RB], [NP-PRD])': 0.0006548788474132286, '([VBD], [PRT], [PP-LOC], [NP-TMP])': 0.0006548788474132286, '([ADVP-MNR], [VBG], [NP])': 0.0006548788474132286, '([VBD], [PP-EXT], [PP-TMP], [PP-DIR])': 0.0006548788474132286, '([JJ], [S])': 0.0006548788474132286, '([ADVP-MNR], [VBN], [NP], [PP-CLR])': 0.0006548788474132286, '([VB], [PRT], [PP-LOC-CLR])': 0.0006548788474132286, '([VBD], [S], [PP-TMP], [NP-TMP])': 0.0006548788474132286, '([VBZ], [``], [ADJP-PRD], [S': 0.0006548788474132286, '([VB], [ADVP], [ADJP-PRD], [PP': 0.0006548788474132286, '([VBD], [PP-LOC-CLR], [SBAR])': 0.0006548788474132286, '([VBZ], [S], [,], [SBAR-ADV])': 0.0006548788474132286, '([VBZ], [:], [``], [S-CLF])': 0.0006548788474132286, '([VBD], [NP], [S])': 0.0006548788474132286, '([VBG], [PRT], [PP-LOC], [SBAR-MNR])': 0.0006548788474132286, '([VB], [NP], [NP-TMP])': 0.0006548788474132286, '([VBN], [NP], [PP-LOC-CLR], [SBAR-TMP])': 0.0006548788474132286, '([VB], [NP-PRD], [PP-LOC])': 0.0006548788474132286, '([VBN], [NP], [,], [SBAR-ADV])': 0.0006548788474132286, '([VBZ], [``], [VP])': 0.0006548788474132286, '([VBN], [NP], [ADVP-TMP])': 0.0006548788474132286, '([ADVP-TMP], [VB], [PRT], [NP])': 0.0006548788474132286, '([ADVP-MNR], [VBD], [NP], [PP-CLR])': 0.0006548788474132286, '([VBP], [NP], [PP])': 0.0006548788474132286, '([VBD], [PP-MNR])': 0.0006548788474132286, '([VBD], [PP-PRD], [PP-LOC])': 0.0006548788474132286, '([JJ], [,], [SBAR-ADV])': 0.0006548788474132286, '([VBD], [SBAR])': 0.0006548788474132286, '([VB], [NP-PRD], [ADVP-TMP])': 0.0006548788474132286, '([VBP], [SBAR-TMP])': 0.0006548788474132286, '([VBZ], [PP-LOC], [ADVP-MNR])': 0.0006548788474132286, '([VBG], [PP-CLR], [UCP-TMP])': 0.0006548788474132286, '([VBD], [PP-CLR], [NP-TMP], [S-PRP])': 0.0006548788474132286, '([-NONE-], [ADVP-PRD])': 0.0006548788474132286, '([VBN], [PP-MNR])': 0.0006548788474132286, '([VBN], [NP], [PP-LOC], [SBAR': 0.0006548788474132286, '([VBD], [SBAR-PRP])': 0.0006548788474132286, '([VBN], [NP], [PP-LOC-CLR])': 0.0006548788474132286, '([VBZ], [NP], [,], [SBAR-ADV])': 0.0006548788474132286, '([VB], [PP-TMP], [NP': 0.0006548788474132286, '([VBZ], [NP], [NP], [SBAR-ADV])': 0.0006548788474132286, '([VBG], [ADJP], [SBAR-PRP])': 0.0006548788474132286, '([VBZ], [PRT], [SBAR])': 0.0006548788474132286, '([ADVP-TMP], [VBG], [PP-CLR])': 0.0006548788474132286, '([VB], [ADVP-MNR], [VP])': 0.0006548788474132286, '([VBN], [PP], [S])': 0.0006548788474132286, '([VBN], [ADJP-PRD], [ADVP])': 0.0006548788474132286, '([VB], [NP], [PP-EXT], [S-PRP])': 0.0006548788474132286, '([VBZ], [SQ])': 0.0006548788474132286, '([VBP], [RB], [ADJP-PRD])': 0.0006548788474132286, '([VB], [NP], [PP-CLR], [SBAR-ADV])': 0.0006548788474132286, '([VBG], [ADVP-CLR], [S-PRP])': 0.0006548788474132286, '([VBZ], [NP': 0.0013097576948264572, '([VBP], [PP-PRD])': 0.0006548788474132286, '([VBN], [NP], [S-ADV])': 0.0006548788474132286, '([VBP], [ADJP-PRD], [SBAR-TMP])': 0.0006548788474132286, '([VBP], [NP-PRD], [,], [PP])': 0.0006548788474132286, '([VBN], [PP-LOC-PRD])': 0.0006548788474132286, '([VP], [CC], [VP], [S-PRP])': 0.0006548788474132286, '([VB], [NP], [PP-DIR-CLR])': 0.0006548788474132286, '([VBZ], [ADVP-TMP], [ADJP-PRD])': 0.0006548788474132286, '([VBD], [ADVP-PRD], [PP-TMP])': 0.0006548788474132286, '([VBP], [ADVP-TMP], [PP-PRD], [PP])': 0.0006548788474132286, '([VB], [PP-TMP], [S-CLR])': 0.0006548788474132286, '([VB], [S], [ADVP-MNR])': 0.0006548788474132286, '([VBG], [ADVP], [SBAR])': 0.0006548788474132286, '([VBZ], [NP], [PP-LOC])': 0.0006548788474132286, '([VBN], [ADVP-MNR], [SBAR-TMP])': 0.0006548788474132286, '([VBZ], [SBAR-LOC-PRD])': 0.0006548788474132286, '([VBD], [PP-LOC-CLR], [SBAR-TMP])': 0.0006548788474132286, '([VB], [S-ADV], [SBAR-TMP])': 0.0006548788474132286, '([VB], [PP-CLR], [NP-TMP])': 0.0006548788474132286, '([ADVP], [TO], [VP])': 0.0006548788474132286, '([VBZ], [RB], [ADVP], [VP])': 0.0006548788474132286, '([VB], [NP], [PP-DTV])': 0.0006548788474132286, '([VBD], [SBAR], [ADVP-TMP])': 0.0006548788474132286, '([VBG], [NP], [S-ADV])': 0.0006548788474132286, '([VBG], [ADVP])': 0.0006548788474132286, '([VB], [NP], [NP-ADV])': 0.0006548788474132286, '([VBD], [PRT], [PP-TMP], [NP])': 0.0006548788474132286, '([VBG], [NP], [PP-TMP])': 0.0006548788474132286, '([VBD], [NP], [,], [PP-LOC])': 0.0006548788474132286, '([VBZ], [NP-PRD], [ADVP-TMP])': 0.0006548788474132286, '([VBD], [NP], [NP-TMP-CLR], [PP-MNR])': 0.0006548788474132286, '([VB], [NP-PRD], [PP])': 0.0006548788474132286, '([VBD], [ADVP-TMP], [PP-PRD], [ADVP-TMP])': 0.0006548788474132286, '([VBZ], [NP], [PP-MNR])': 0.0006548788474132286, '([VBD], [PP-TMP], [ADVP-TMP])': 0.0006548788474132286, '([VBD], [ADJP-PRD], [SBAR': 0.0013097576948264572, '([VBN], [NP], [``], [PP-MNR])': 0.0006548788474132286, '([ADVP], [VBN], [ADVP-MNR], [PP-TMP])': 0.0006548788474132286, '([VBD], [PP-TMP-CLR], [PP])': 0.0006548788474132286, '([VBD], [NP], [NP-TMP])': 0.0006548788474132286, '([VB], [PRN], [SBAR])': 0.0006548788474132286, '([VB], [ADVP-DIR], [PP-DIR])': 0.0006548788474132286, '([VBP], [RB], [NP])': 0.0006548788474132286, '([VB], [PP-PRP])': 0.0006548788474132286, '([VBD], [RB], [ADJP-PRD])': 0.0006548788474132286, '([VBP], [NP], [PP-LOC])': 0.0006548788474132286, '([VBD], [PRT], [UCP])': 0.0006548788474132286, '([VBZ], [SINV])': 0.0006548788474132286, '([VBZ], [PRT], [PP-CLR])': 0.0006548788474132286, '([VB], [NP-SBJ], [PP-LOC-CLR])': 0.0006548788474132286, '([CC], [VP], [CC], [VP])': 0.0006548788474132286, '([VBZ], [SBAR-PRD])': 0.0006548788474132286, '([VB], [PRT], [NP], [SBAR-TMP])': 0.0006548788474132286, '([VBP], [PP-LOC-CLR])': 0.0006548788474132286, '([VBZ], [PRN], [NP])': 0.0006548788474132286, '([VBZ], [NP-PRD], [ADVP-CLR], [S': 0.0006548788474132286, '([VBG], [NP], [PP-LOC])': 0.0006548788474132286, '([VBZ], [``], [NP-PRD])': 0.0006548788474132286, '([VBG], [NP], [ADVP-TMP], [SBAR-PRP])': 0.0006548788474132286, '([VBG], [PP], [SBAR])': 0.0006548788474132286, '([VB], [NP], [ADVP-TMP])': 0.0006548788474132286, '([VBZ], [FRAG])': 0.0006548788474132286, '([VBP], [ADVP-MNR], [PP])': 0.0006548788474132286, '([VBD], [NP], [ADVP-MNR])': 0.0006548788474132286, '([VBD], [NP], [PP], [PP])': 0.0006548788474132286, '([VBN], [NP], [PP-LOC], [ADVP-TMP])': 0.0006548788474132286, '([VB], [PP-LOC-PRD], [PP-PRP])': 0.0006548788474132286, '([VBZ], [NP], [SBAR-NOM])': 0.0006548788474132286, '([-NONE-], [ADVP])': 0.0006548788474132286, '([VBN], [NP], [PRT])': 0.0006548788474132286, '([VB], [UCP])': 0.0006548788474132286, '([VB], [PP-CLR], [ADVP-MNR])': 0.0006548788474132286, '([VBZ], [ADVP-MNR], [PP-CLR])': 0.0006548788474132286, \"([TO], [``], [VP], [''])\": 0.0006548788474132286, '([VBD], [ADVP-MNR], [VP])': 0.0006548788474132286, '([VBN], [NP], [PP-TMP])': 0.0006548788474132286, '([VBZ], [PRT], [NP])': 0.0006548788474132286, '([VB], [NP], [PP-CLR], [PP-LOC])': 0.0006548788474132286, '([VBP], [SBAR], [,], [PP])': 0.0006548788474132286, '([VP], [CC], [,], [VP])': 0.0006548788474132286, '([VBZ], [RB], [PP-LOC-PRD])': 0.0006548788474132286, '([VBZ], [NP], [,], [S-ADV])': 0.0006548788474132286, '([NN], [NP-PRD])': 0.0006548788474132286, '([VBD], [ADVP-PRD], [ADVP], [PP-LOC])': 0.0006548788474132286, '([VBD], [NP-TMP], [PP-CLR], [PP-LOC])': 0.0006548788474132286, '([VB], [PP-TMP], [,], [NP])': 0.0006548788474132286, '([VBZ], [VP])': 0.0006548788474132286, '([VBG], [NP], [PRN], [PP-CLR])': 0.0006548788474132286, '([VBP], [ADJP-PRD], [PRN], [S-ADV])': 0.0006548788474132286, '([VB], [NP], [SBAR-PRP])': 0.0006548788474132286, '([VBD], [ADJP], [PP-CLR])': 0.0006548788474132286, '([VBP], [PP], [PP-CLR])': 0.0006548788474132286, '([ADVP-MNR], [VBP], [NP], [PP-CLR])': 0.0006548788474132286, '([VBN], [S], [ADVP])': 0.0006548788474132286, '([VBP], [NP], [ADVP-MNR], [ADVP-MNR])': 0.0006548788474132286, '([VBD], [PRT], [NP])': 0.0006548788474132286, '([VBG], [NP], [PP])': 0.0006548788474132286, '([VBZ], [NP], [NP], [PP-MNR])': 0.0006548788474132286, '([-NONE-], [ADVP-TMP])': 0.0006548788474132286, '([VBD], [ADVP-MNR])': 0.0006548788474132286, '([VB], [ADJP-PRD], [PP])': 0.0006548788474132286, '([VBP], [NP], [PP-PRP])': 0.0006548788474132286, '([ADVP], [VB], [NP])': 0.0006548788474132286, '([VP], [,], [VP])': 0.0006548788474132286, '([VB], [SBAR-ADV])': 0.0006548788474132286, '([VBN], [NP], [PP-CLR], [PP-TMP': 0.0006548788474132286, '([VBD], [ADVP-PRD], [PP-TMP], [PP-DIR': 0.0006548788474132286, '([VBP], [SBAR-PRP])': 0.0006548788474132286, '([VBD], [NP], [ADVP-PRP])': 0.0006548788474132286, '([VBZ], [ADJP-PRD], [PP])': 0.0006548788474132286, '([VBZ], [S], [SBAR-ADV])': 0.0006548788474132286, '([VBD], [NP], [PP-CLR], [PP-LOC])': 0.0006548788474132286, '([VBD], [PP-CLR], [S-PRP], [NP-TMP])': 0.0006548788474132286, '([VBD], [NP-PRD], [SBAR-ADV])': 0.0006548788474132286, '([VBG], [NP], [PP-TMP], [PP-MNR])': 0.0006548788474132286, '([VB], [NP], [PP-CLR], [NP-TMP])': 0.0006548788474132286, '([-NONE-], [NP], [PP-LOC])': 0.0006548788474132286, '([VB],)': 0.0006548788474132286, '([VBG], [NP], [PRT])': 0.0006548788474132286, '([VBN], [PP-LOC-CLR], [ADVP])': 0.0006548788474132286, '([VBD], [PP-DIR], [S-PRP])': 0.0006548788474132286, '([VBP], [PP-LOC])': 0.0006548788474132286, '([VBZ], [PP-DIR], [ADVP-TMP], [PP-DIR': 0.0006548788474132286, '([VBG], [NP], [NP], [SBAR-TMP])': 0.0006548788474132286, '([VBD], [NP], [,], [PP-TMP])': 0.0006548788474132286, '([ADVP-TMP], [VBD], [PP-CLR], [PP-LOC])': 0.0006548788474132286, '([VBD], [NP], [SBAR-PRP])': 0.0006548788474132286, '([VBD], [NP-TMP], [PP-LOC])': 0.0006548788474132286, '([VB], [CC], [VB], [NP-TTL])': 0.0006548788474132286, '([VBZ], [NP], [NP-TMP])': 0.0006548788474132286, '([VP], [NP])': 0.0006548788474132286, '([ADVP], [VBD], [SBAR])': 0.0006548788474132286, '([VBD], [NP], [PP-MNR], [S-PRP])': 0.0006548788474132286, '([VBP], [ADVP-LOC])': 0.0006548788474132286, '([VB], [NP], [PP-CLR], [S-ADV])': 0.0006548788474132286, '([VP], [,], [CONJP], [VP])': 0.0006548788474132286, '([VBD], [NP-EXT], [NP-TMP], [ADVP-TMP])': 0.0006548788474132286, '([VBZ], [PRN], [SBAR])': 0.0006548788474132286, '([VBD], [ADJP-PRD], [PP])': 0.0006548788474132286, '([VB], [NP], [SBAR-TMP])': 0.0006548788474132286, '([VBD], [PP-MNR], [S-ADV])': 0.0006548788474132286, '([VBN], [NP], [NP], [ADVP-LOC])': 0.0006548788474132286, '([VBN], [PP-TMP], [,], [SBAR])': 0.0006548788474132286, '([VP], [CC], [VP])': 0.0006548788474132286, '([VBP], [PP-DIR], [ADVP-TMP])': 0.0006548788474132286, '([VBP], [ADJP-PRD], [SBAR-ADV])': 0.0006548788474132286, '([VBG], [ADJP-PRD], [:], [S-ADV])': 0.0006548788474132286, '([VB], [PP-DIR], [PP-PRP])': 0.0006548788474132286, '([VBN], [S])': 0.0006548788474132286, '([VBZ], [ADVP-MNR], [S-CLR])': 0.0006548788474132286, '([VBD], [S], [,], [S-ADV])': 0.0006548788474132286, '([VBP], [ADVP-CLR])': 0.0006548788474132286, '([VBN], [NP], [PRT], [PP-MNR])': 0.0006548788474132286, '([VBD], [NP], [PP-CLR], [ADVP-LOC])': 0.0006548788474132286, '([VBG], [NP], [PP-LOC-CLR], [PP-TMP])': 0.0006548788474132286, '([VBG], [ADVP], [PP-LOC-CLR])': 0.0006548788474132286, '([VBD], [NP-EXT], [S-CLR])': 0.0006548788474132286, '([VBZ], [NP-PRD], [,], [S-ADV])': 0.0006548788474132286, '([VBN], [NP], [PP-CLR], [PP-LOC])': 0.0006548788474132286, '([VBP], [RB], [NP-PRD])': 0.0006548788474132286, '([VBN], [PP-LOC-CLR], [,], [ADVP])': 0.0006548788474132286, '([VBD], [PP-TMP], [SBAR-TMP])': 0.0006548788474132286, '([VB], [PP-DIR], [PP-LOC])': 0.0006548788474132286, '([VBG], [PP-LOC], [PP-TMP])': 0.0006548788474132286, '([VBN], [NP], [PP-TMP], [PP': 0.0006548788474132286, '([VBD], [NP-TMP])': 0.0006548788474132286, '([VBN], [NP], [PP-CLR], [PP-PRP])': 0.0006548788474132286, '([VBZ], [PP-LOC-PRD], [ADVP-PRP])': 0.0006548788474132286, '([VBG], [S], [PP-PRP])': 0.0006548788474132286, '([VBZ], [PP-LOC])': 0.0006548788474132286, '([VBG], [ADVP-CLR])': 0.0006548788474132286, '([VBN], [VP])': 0.0006548788474132286, '([VP], [CC], [VP], [VP': 0.0006548788474132286, \"([VB], [PP-TMP], [''], [SBAR-ADV])\": 0.0006548788474132286, '([VBG], [NP], [PP-PRP])': 0.0006548788474132286, '([PRN], [VBN], [NP])': 0.0006548788474132286, '([ADVP], [MD], [VP])': 0.0006548788474132286, '([VBP], [NP], [,], [NP-ADV])': 0.0006548788474132286, '([TO], [ADVP], [VP])': 0.0006548788474132286, '([VBD], [S])': 0.0006548788474132286, '([VBD], [SBAR], [PP-LOC])': 0.0006548788474132286, '([VBN], [NP], [PP-CLR], [ADVP-MNR])': 0.0006548788474132286, '([VB], [NP], [SBAR-ADV])': 0.0006548788474132286, '([VBN], [NP], [PP-DTV])': 0.0006548788474132286, '([NN], [SBAR])': 0.0006548788474132286, '([VBZ], [NP], [PP])': 0.0006548788474132286, '([VBD], [RB], [ADJP-PRD], [SBAR-PRP])': 0.0006548788474132286, '([VBZ], [ADJP])': 0.0006548788474132286, '([VBD], [NP], [NP-TMP], [ADVP-TMP])': 0.0006548788474132286, '([VB], [ADVP-PRD])': 0.0006548788474132286, '([VBN], [SBAR])': 0.0006548788474132286, '([VBN], [NP-TMP], [S])': 0.0006548788474132286, '([VB], [NP], [ADVP-MNR])': 0.0006548788474132286, '([VB], [PP-LOC-PRD])': 0.0006548788474132286, '([VBP], [NP': 0.0032743942370661427, '([VBN], [ADVP-DIR])': 0.0006548788474132286, '([VBZ], [SBAR])': 0.0006548788474132286, '([VBN], [NP], [PP-TMP], [PP-MNR])': 0.0006548788474132286, '([VBN], [S], [PP-LOC])': 0.0006548788474132286, '([VBD], [NP-PRD], [,], [S-ADV])': 0.0006548788474132286, '([VBG], [PRT], [PP], [PP-TMP])': 0.0006548788474132286, '([VBZ], [NP], [NP-ADV])': 0.0006548788474132286, '([VBD], [ADVP], [NP-PRD])': 0.0006548788474132286, '([VBZ], [PP-PRD])': 0.0006548788474132286, '([VBP], [NP], [ADVP-LOC])': 0.0006548788474132286, '([NP': 0.0006548788474132286, '([VBD], [ADJP-PRD], [:], [PP-TMP])': 0.0006548788474132286, '([VB], [PP-CLR], [NP])': 0.0006548788474132286, '([VB], [NP], [S-PRP])': 0.0006548788474132286, '([VBN], [PP-LOC])': 0.0006548788474132286, '([VBD], [ADJP-PRD], [PP-TMP], [PP-TMP])': 0.0006548788474132286, '([VBN], [PP-CLR], [``], [NP])': 0.0006548788474132286, '([VB], [PRT])': 0.0006548788474132286, '([VBZ], [PP-PRD], [SBAR': 0.0006548788474132286, '([VP], [,], [SBAR-ADV])': 0.0006548788474132286, '([VBN], [NP], [PP-EXT])': 0.0006548788474132286, '([VBD], [ADVP-LOC], [PP-TMP])': 0.0006548788474132286, '([VBN], [S], [PP-TMP])': 0.0006548788474132286, '([VBZ], [NP], [,], [PP-MNR])': 0.0006548788474132286, '([VBN], [S], [SBAR-ADV])': 0.0006548788474132286, '([VBN], [NP-TMP])': 0.0006548788474132286, '([VBZ], [RB], [ADVP-LOC-PRD])': 0.0006548788474132286, '([VBD], [NP], [PP-LOC], [ADVP-TMP])': 0.0006548788474132286, '([VBG], [PP-DIR], [,], [PP])': 0.0006548788474132286, '([VBZ], [ADJP-PRD], [PRN], [ADVP])': 0.0006548788474132286, '([VBD], [:], [VP])': 0.0006548788474132286, '([VBN], [NP], [ADVP-TMP], [PP-MNR])': 0.0006548788474132286, '([VBP], [NP], [S-PRP])': 0.0006548788474132286, '([VBD], [S], [PP-LOC])': 0.0006548788474132286, '([VBZ], [PP-LOC], [,], [S-ADV])': 0.0006548788474132286, '([ADVP], [VBG], [NP], [PP-DIR])': 0.0006548788474132286, '([VBN], [NP-EXT])': 0.0006548788474132286, '([VBN], [NP], [PP-MNR], [PP])': 0.0006548788474132286, '([VBD], [ADVP-PRD], [PP])': 0.0006548788474132286, '([VB], [NP], [PP-PUT], [PP-PRP])': 0.0006548788474132286, '([VB], [ADJP-PRD], [,], [SBAR-PRP])': 0.0006548788474132286, '([VBP], [NP], [,], [PP])': 0.0006548788474132286, '([VBD], [NP], [ADVP-LOC])': 0.0006548788474132286, '([ADVP-MNR], [VBD], [NP], [SBAR-TMP])': 0.0006548788474132286, '([ADVP], [VBP], [ADVP-DIR])': 0.0006548788474132286, '([ADVP-MNR], [VBD], [PP-LOC], [SBAR])': 0.0006548788474132286, '([VBZ], [CC], [VBZ], [NP])': 0.0006548788474132286, '([VBG], [CC], [VBG], [S-PRP])': 0.0006548788474132286, '([VP], [CC], [VP], [PP-LOC])': 0.0006548788474132286, '([VBZ],)': 0.0006548788474132286, '([VBP], [NP-PRD], [PP-LOC])': 0.0006548788474132286, '([VBN], [PP-LOC-PRD], [NP-TMP], [S-ADV])': 0.0006548788474132286, '([ADVP-MNR], [VBN], [PP-CLR])': 0.0006548788474132286, '([VBD], [NP], [PP-PRP])': 0.0006548788474132286, '([VBZ], [NP], [,], [PP])': 0.0006548788474132286, '([VBZ], [NP], [S-CLR])': 0.0006548788474132286, '([VBZ], [NP-PRD], [,], [PP])': 0.0006548788474132286, '([VBG], [NP], [PP-DIR], [SBAR': 0.0006548788474132286, '([VB], [SBAR-NOM])': 0.0006548788474132286, '([VBN], [NP], [PP], [PP-CLR])': 0.0006548788474132286, '([VBP], [RB], [ADJP-PRD], [ADVP])': 0.0006548788474132286, '([VB], [NP-EXT], [PP-TMP])': 0.0006548788474132286, '([VB], [SBAR-NOM], [ADVP-MNR])': 0.0006548788474132286, '([VBD], [PP-TMP])': 0.0006548788474132286, '([VBN], [PRT], [NP], [PP-CLR])': 0.0006548788474132286, '([VBP], [ADJP-PRD], [PP-CLR])': 0.0006548788474132286, '([VB], [NP], [PP-TMP], [PP-TMP])': 0.0006548788474132286, '([VBG], [ADVP-MNR], [VP])': 0.0006548788474132286, '([VBN], [S-CLR], [PP-TMP])': 0.0006548788474132286, '([IN], [S])': 0.0006548788474132286, '([VBN], [NP-TTL], [SBAR-PRP])': 0.0006548788474132286, '([VBN], [NP], [PP-LOC], [PP-PRP])': 0.0006548788474132286, '([VB], [``], [NP-TTL])': 0.0006548788474132286, '([VB], [,], [S-ADV])': 0.0006548788474132286, '([VB], [NP], [PP-BNF])': 0.0006548788474132286, '([VBN], [PRT])': 0.0006548788474132286, '([VBD], [RB], [``], [VP])': 0.0006548788474132286, '([NN], [ADVP-MNR], [PP-CLR])': 0.0006548788474132286, '([VBD], [ADVP-TMP], [NP-PRD])': 0.0006548788474132286, '([VBD], [NP], [PRT], [PP-CLR])': 0.0006548788474132286, '([VBD], [NP], [PP-DIR], [PP-DIR])': 0.0006548788474132286, '([VBG], [NP-TMP], [PP-LOC])': 0.0006548788474132286, '([VP], [CC], [VP], [SBAR-PRP])': 0.0006548788474132286, '([VBD], [RB], [ADVP])': 0.0006548788474132286, '([VBG], [PP-LOC], [,], [S-ADV])': 0.0006548788474132286, '([VBN], [NP], [PP])': 0.0006548788474132286, '([VB], [PP-LOC], [ADVP-PRP])': 0.0006548788474132286, '([VBN], [PRT], [SBAR-PRP])': 0.0006548788474132286, '([VBZ], [NP], [SBAR-ADV])': 0.0006548788474132286, '([VBP], [NP], [SBAR-PRP])': 0.0006548788474132286, '([VBN], [NP], [SBAR-MNR])': 0.0006548788474132286, '([VBP], [PP-MNR], [,], [S-ADV])': 0.0006548788474132286, '([VBZ], [ADVP], [ADJP-PRD])': 0.0006548788474132286, '([VB], [NP], [PP-PUT])': 0.0006548788474132286, '([MD], [RB], [VP])': 0.0006548788474132286, '([VBD], [PP-CLR], [,], [SBAR-ADV])': 0.0006548788474132286, '([VBD], [S-PRD])': 0.0006548788474132286, '([VBP], [PP], [NP])': 0.0006548788474132286, '([VB], [NP-PRD])': 0.0006548788474132286, '([VBG], [NP], [ADVP-MNR], [PP-LOC])': 0.0006548788474132286, '([VB], [ADVP-MNR], [PP-CLR])': 0.0006548788474132286, '([VBD], [PP-MNR], [,], [SBAR-ADV])': 0.0006548788474132286, '([VBN], [S], [SBAR-PRP])': 0.0006548788474132286, '([VBD], [PP-CLR], [PP-LOC])': 0.0006548788474132286, '([VBD], [NP], [NP-TMP], [PP-MNR])': 0.0006548788474132286, '([VBP], [PP-PRD-LOC])': 0.0006548788474132286, '([VBN], [NP], [ADVP-TMP], [PP])': 0.0006548788474132286, '([VBG], [NP], [PP], [PP-MNR])': 0.0006548788474132286, '([VB], [PP-CLR], [PP])': 0.0006548788474132286, '([VBZ], [PRT], [PP])': 0.0006548788474132286, '([VBN], [NP], [,], [S-ADV])': 0.0006548788474132286, '([VBG], [NP], [SBAR-PRP])': 0.0006548788474132286, '([VB], [PP], [,], [S-ADV])': 0.0006548788474132286, '([VBG], [SBAR-NOM])': 0.0006548788474132286, '([ADVP-MNR], [VBN], [PP-LOC-CLR])': 0.0006548788474132286, '([VB], [-RRB-], [NP-PRD])': 0.0006548788474132286, '([VBD], [PP-LOC-PRD], [S-ADV])': 0.0006548788474132286, '([VBG], [NP-TMP-CLR])': 0.0006548788474132286, '([VBP], [NP], [ADVP])': 0.0006548788474132286, '([VP], [PRN])': 0.0006548788474132286, '([VB], [ADVP-MNR], [PP-LOC])': 0.0006548788474132286, '([VP], [CC], [RB], [VP])': 0.0006548788474132286, '([VBP], [PP-PRD], [,], [S-ADV])': 0.0006548788474132286, '([VBZ], [``], [S])': 0.0006548788474132286, '([VBG], [NP-TMP])': 0.0006548788474132286, '([VBD], [PP-CLR], [NP])': 0.0006548788474132286, '([VBG], [NP], [,], [ADVP-CLR])': 0.0006548788474132286, '([VBG],)': 0.0006548788474132286, '([VBD], [PP-LOC-PRD])': 0.0006548788474132286, \"([VBG], [NP], [''], [PP-CLR])\": 0.0006548788474132286, '([VBD], [SBAR], [PP-TMP])': 0.0006548788474132286, '([VB], [,], [ADVP])': 0.0006548788474132286, '([VBP], [ADVP-DIR])': 0.0006548788474132286, '([VBD], [PP-DIR], [PP-TMP], [S])': 0.0006548788474132286, '([VP], [:], [NP])': 0.0006548788474132286, '([VBZ], [ADJP-PRD], [SBAR-ADV])': 0.0006548788474132286, '([VBG], [NP], [PRT], [PP-MNR])': 0.0006548788474132286, '([VBG], [:], [``], [S])': 0.0006548788474132286, '([VBD], [ADVP-DIR], [PP-TMP])': 0.0006548788474132286, '([VBD], [PRT], [PP-CLR])': 0.0006548788474132286, '([VBN], [PP-TMP], [,], [S-ADV])': 0.0006548788474132286, '([VBG], [NP], [ADVP-DIR])': 0.0006548788474132286, '([VBG], [NP], [,], [PP-DTV])': 0.0006548788474132286, '([VP], [,], [ADVP], [VP])': 0.0006548788474132286, '([VBZ], [NP-PRD], [PP-LOC], [ADVP-TMP])': 0.0006548788474132286, '([VBG], [PP-CLR])': 0.0006548788474132286, '([VBD], [ADVP-MNR], [PP-DIR])': 0.0006548788474132286, '([VB], [PP-TMP], [S-PRP-CLR])': 0.0006548788474132286, '([VBG], [NP], [PP-DIR])': 0.0006548788474132286, '([VBP], [S], [SBAR-ADV])': 0.0006548788474132286, '([VBN], [ADJP-PRD], [NP-TMP], [PP])': 0.0006548788474132286, '([VBD], [PRT], [NP], [PP])': 0.0006548788474132286, '([VB], [ADVP], [ADVP-TMP])': 0.0006548788474132286, '([VBD], [S], [,], [PP-LOC])': 0.0006548788474132286, '([VBD], [PRT], [S])': 0.0006548788474132286, '([VBN], [ADVP-PRD-LOC], [PP-TMP])': 0.0006548788474132286, '([VBG], [PRN], [SBAR-PRP])': 0.0006548788474132286, '([VBZ], [S], [ADVP])': 0.0006548788474132286, '([VBP], [SBAR], [ADVP-TMP])': 0.0006548788474132286, '([VBP], [ADVP-TMP])': 0.0006548788474132286, '([VBZ], [NP], [``], [NP])': 0.0006548788474132286, '([VBD], [NP], [PP-TMP])': 0.0006548788474132286, '([VBP], [PP-LOC], [PP-TMP])': 0.0006548788474132286, '([ADVP], [VBD], [S])': 0.0006548788474132286, '([VB], [NP], [:], [PP-TMP])': 0.0006548788474132286, '([TO], [ADVP-LOC], [VP])': 0.0006548788474132286, '([VB], [NP], [ADVP-CLR], [ADVP-TMP])': 0.0006548788474132286, '([ADVP-TMP], [VBZ], [PP-CLR])': 0.0006548788474132286, '([VBP], [ADVP], [PP-PRD])': 0.0006548788474132286, '([VBD], [NP-PRD], [ADVP-MNR])': 0.0006548788474132286, '([VBN], [NP], [NP-TMP], [ADVP-TMP])': 0.0006548788474132286, '([VBP], [ADVP], [PP-LOC-PRD])': 0.0006548788474132286, '([VB], [NP], [PP-CLR], [PP])': 0.0006548788474132286, '([VBZ], [NP], [NP], [SBAR-PRP])': 0.0006548788474132286, '([VBP], [VP])': 0.0006548788474132286, '([VBD], [NP], [NP-TMP], [PP-LOC])': 0.0006548788474132286, '([VBN], [PP-MNR': 0.0006548788474132286, '([VBN], [NP-PRD], [SBAR-TMP])': 0.0006548788474132286, '([VBD], [ADVP-CLR], [PP-TMP])': 0.0006548788474132286, '([VBP], [SBAR], [,], [SBAR-ADV])': 0.0006548788474132286, '([ADVP-TMP], [VBG], [S])': 0.0006548788474132286, '([VBN], [NP], [SBAR])': 0.0006548788474132286, '([VBP], [NP], [,], [ADVP])': 0.0006548788474132286, '([VBP], [NP-PRD], [NP-TMP])': 0.0006548788474132286, '([VBP], [PP-CLR], [PP-MNR])': 0.0006548788474132286, '([VBD], [S], [SBAR-PRP])': 0.0006548788474132286, '([VBN], [NP], [PP-DIR])': 0.0006548788474132286, '([VBD], [PRT], [NP], [PP-TMP])': 0.0006548788474132286, '([VBZ], [SBAR], [,], [S-ADV])': 0.0006548788474132286, '([VBN], [NP], [PP-PUT])': 0.0006548788474132286, '([VBZ], [NP], [ADVP-LOC])': 0.0006548788474132286, '([VBD], [NP-ADV], [NP-TMP], [SBAR-TMP])': 0.0006548788474132286, '([ADVP-TMP], [VBG], [PP-DIR])': 0.0006548788474132286, '([VB], [ADVP-MNR], [NP])': 0.0006548788474132286, '([VBN], [NP], [S-PRP-CLR])': 0.0006548788474132286, '([VBD], [ADJP-PRD], [ADVP-TMP])': 0.0006548788474132286, '([VB], [NP], [S-CLR])': 0.0006548788474132286, '([VBG], [PP-CLR], [PP-CLR])': 0.0006548788474132286, '([VBP], [NP], [NP-TMP])': 0.0006548788474132286, '([VBN], [PP-CLR], [ADVP-MNR])': 0.0006548788474132286, '([VB], [NP], [S-ADV])': 0.0006548788474132286, '([PP-LOC], [VBD], [NP])': 0.0006548788474132286, '([ADVP-MNR], [VBP], [SBAR-NOM])': 0.0006548788474132286, '([VBD], [NP], [PRT])': 0.0006548788474132286, '([VBN], [NP], [NP-TMP], [PP])': 0.0006548788474132286, '([VB], [PRT], [SBAR])': 0.0006548788474132286, '([VB], [PRT], [NP], [S-PRP])': 0.0006548788474132286, '([TO], [NP])': 0.0006548788474132286, '([VBN], [PP-PRP])': 0.0006548788474132286, '([ADVP], [RB], [VBG], [ADVP])': 0.0006548788474132286, '([VBD], [NP], [ADVP-MNR], [PP-DIR-CLR])': 0.0006548788474132286, '([VBG], [NP-CLR])': 0.0006548788474132286, '([VBN], [PRT], [ADVP-LOC])': 0.0006548788474132286, '([VB], [PP-LOC])': 0.0006548788474132286, '([VBN], [NP], [PP-CLR], [S-CLR])': 0.0006548788474132286, '([VBD], [PRT])': 0.0006548788474132286, '([VBG], [NP], [NP-EXT])': 0.0006548788474132286, '([VBZ], [ADVP], [ADJP-PRD], [SBAR': 0.0013097576948264572, '([VBZ], [PRT])': 0.0006548788474132286, '([VB], [NP], [PRN])': 0.0006548788474132286, '([VBG], [NP], [SBAR-TMP])': 0.0006548788474132286, '([VBD], [ADJP])': 0.0006548788474132286, '([-NONE-], [,], [S-ADV])': 0.0006548788474132286, '([VB], [PP-CLR], [NP], [ADVP-MNR])': 0.0006548788474132286, '([NN], [S])': 0.0006548788474132286, '([VBG], [S], [SBAR-ADV])': 0.0006548788474132286, '([VBZ], [PP-CLR])': 0.0006548788474132286, '([VBN], [NP], [SBAR-TMP])': 0.0006548788474132286, '([VBD], [PP-LOC-CLR])': 0.0006548788474132286, '([VBP], [NP-CLR])': 0.0006548788474132286, '([VB], [PRN], [PP-CLR])': 0.0006548788474132286, '([VBN], [ADVP], [VP])': 0.0006548788474132286, '([VBZ], [RB], [ADVP-PRD])': 0.0006548788474132286, '([VBD], [RB], [NP])': 0.0006548788474132286, '([VBG], [PP-LOC], [ADVP-TMP])': 0.0006548788474132286, '([VBN], [NP], [SBAR': 0.0006548788474132286, '([VBD], [NP-EXT], [PP-DIR], [PP-TMP])': 0.0006548788474132286, '([VBG], [PP-CLR], [ADVP-TMP])': 0.0006548788474132286, '([VBP], [PP-TMP-CLR])': 0.0006548788474132286, '([VBD], [ADVP-DIR], [PP-DIR])': 0.0006548788474132286, '([VB], [NP], [PP-CLR], [ADVP-LOC])': 0.0006548788474132286, '([VBZ], [ADJP-PRD], [SBAR-PRP])': 0.0006548788474132286, '([VBP], [NP-PRD])': 0.0006548788474132286, '([VBZ], [ADVP], [NP-PRD])': 0.0006548788474132286, '([VBD], [SBAR-NOM])': 0.0006548788474132286, '([VBD], [NP-PRD])': 0.0006548788474132286, '([VB], [PP-TMP], [PP-TMP])': 0.0006548788474132286, '([VBZ], [RB], [NP])': 0.0006548788474132286, '([VBG], [S])': 0.0006548788474132286, '([VBP], [NP], [S-CLR])': 0.0006548788474132286, '([VBD], [NP-EXT], [PP-TMP], [PP-DIR])': 0.0006548788474132286, '([VBP], [NP], [NP], [PP-TMP])': 0.0006548788474132286, '([VBG], [PP-DIR], [PP])': 0.0006548788474132286, '([VBP], [ADVP-MNR], [VP])': 0.0006548788474132286, '([VBD], [NP], [PP-DTV])': 0.0006548788474132286, '([VP], [CC], [VP], [PP-TMP])': 0.0006548788474132286, '([VBN], [NP], [,], [PP])': 0.0006548788474132286, '([VBN], [NP], [PP-TMP], [PP-LOC])': 0.0006548788474132286, '([VBG], [PP-CLR], [SBAR-TMP])': 0.0006548788474132286, '([VBG], [PP-DIR])': 0.0006548788474132286, '([VBD], [NP], [S-CLR], [SBAR-PRP])': 0.0006548788474132286, '([VBD], [NP-EXT], [PP-CLR], [PP])': 0.0006548788474132286, '([VBD], [PP-TMP-PRD])': 0.0006548788474132286, '([VB], [ADVP-DIR], [NP])': 0.0006548788474132286, \"([VBZ], [S], [''], [PP-TMP])\": 0.0006548788474132286, '([VBG], [ADVP-MNR], [NP-TMP])': 0.0006548788474132286, '([VBG], [NP], [PP-PUT])': 0.0006548788474132286, '([VBD], [PP-CLR], [SBAR-PRP])': 0.0006548788474132286, '([VBN], [NP], [PP-DTV], [PP])': 0.0006548788474132286, '([VBZ], [:], [``], [S])': 0.0006548788474132286, '([VBG], [PP-LOC], [S-PRP])': 0.0006548788474132286, '([VBP], [ADVP-DIR], [,], [S-ADV])': 0.0006548788474132286, '([VBN], [S], [ADJP-ADV])': 0.0006548788474132286, '([NP-TMP], [VBD], [NP])': 0.0006548788474132286, '([VB], [NP], [,], [SBAR-ADV])': 0.0006548788474132286, '([VBD], [SBAR], [,], [S-ADV])': 0.0006548788474132286, '([VBN], [PP-DIR], [PP-DIR])': 0.0006548788474132286, '([MD], [``], [VP])': 0.0006548788474132286, '([VBP], [S], [,], [SBAR-PRP])': 0.0006548788474132286, '([VBP], [S-CLR])': 0.0006548788474132286, '([VBD], [NP], [PP-TMP], [S-PRP])': 0.0006548788474132286, '([VBN], [NP], [PP-CLR], [PP-TMP])': 0.0006548788474132286, '([VBG], [NP], [:], [S-ADV])': 0.0006548788474132286, '([VBZ], [SBAR-NOM-PRD])': 0.0006548788474132286, '([VBZ], [PP-CLR], [NP])': 0.0006548788474132286, '([NN], [PP-CLR])': 0.0006548788474132286, '([VBZ], [PP-DIR])': 0.0006548788474132286, '([VBN], [:], [NP': 0.0006548788474132286, '([VB], [ADJP-PRD], [SBAR-TMP])': 0.0006548788474132286, '([VB], [NP], [PP-LOC], [SBAR-TMP])': 0.0006548788474132286, '([VBZ], [S])': 0.0006548788474132286, '([VBN], [NP], [PP-LOC], [PP])': 0.0006548788474132286, '([VBD], [NP-TMP], [SBAR])': 0.0006548788474132286, '([VBN], [NP], [S-PRP])': 0.0006548788474132286, '([VBN], [NP], [PP-TMP], [PP])': 0.0006548788474132286, '([VBD], [PP-DIR], [SBAR-PRP])': 0.0006548788474132286, '([VB], [PRT], [NP], [PP])': 0.0006548788474132286, '([VB], [NP-EXT], [NP-TMP], [S-CLR])': 0.0006548788474132286, '([VBD], [NP], [PP-CLR], [VP': 0.0006548788474132286, '([VP], [CC], [PRN], [VP])': 0.0006548788474132286, '([VBZ], [ADVP-PRD])': 0.0006548788474132286, '([VBZ], [NP], [SBAR-PRP])': 0.0006548788474132286, '([VBZ], [S], [PP-LOC])': 0.0006548788474132286, '([VB], [ADVP], [ADVP])': 0.0006548788474132286, '([VBN], [NP], [NP], [ADVP-TMP])': 0.0006548788474132286, '([MD], [ADVP], [ADVP], [VP])': 0.0006548788474132286, '([VBZ], [NP-TMP])': 0.0006548788474132286, '([VBD], [PP], [NP])': 0.0006548788474132286, '([VBN], [NP], [PP-LGS], [PP-CLR])': 0.0006548788474132286, '([VBG], [NP], [PP-BNF])': 0.0006548788474132286, '([VBN], [ADVP-DIR], [PP-TMP])': 0.0006548788474132286, '([VBN], [NP], [NP-EXT], [PP-TMP])': 0.0006548788474132286, '([VBN], [NP], [PP-CLR])': 0.0006548788474132286, \"([VB], [''], [SBAR])\": 0.0006548788474132286, '([NN], [NP])': 0.0006548788474132286, '([VBN], [ADJP-PRD], [PP-MNR], [PP-TMP])': 0.0006548788474132286, '([VBG], [PP-DIR], [,], [S-ADV])': 0.0006548788474132286, '([VBZ], [NP], [S-MNR])': 0.0006548788474132286, '([VBP], [NP-PRD], [,], [SBAR-ADV])': 0.0006548788474132286, '([VBN], [NP], [ADVP-TMP], [PP-LOC])': 0.0006548788474132286, '([RB], [VBG], [NP])': 0.0006548788474132286, '([VB], [NP], [PP-EXT])': 0.0006548788474132286, '([VB], [NP], [S-PRP-CLR])': 0.0006548788474132286, '([VBZ], [NP], [ADVP-MNR])': 0.0006548788474132286, '([VBP], [NP], [SBAR])': 0.0006548788474132286, '([VBZ], [NP], [NP])': 0.0006548788474132286, '([VBN], [``], [ADJP-PRD])': 0.0006548788474132286, '([VBN], [ADVP])': 0.0006548788474132286, '([VBP], [ADVP-MNR], [SBAR])': 0.0006548788474132286, '([VBN], [ADVP-TMP], [SBAR])': 0.0006548788474132286, '([VBZ], [NP], [SBAR-TMP])': 0.0006548788474132286, '([VBN], [NP], [ADVP-TMP], [SBAR': 0.0006548788474132286, '([VB], [NP], [PRT], [PP-CLR])': 0.0006548788474132286, '([JJ], [NP])': 0.0006548788474132286, '([VBG], [PRN], [NP])': 0.0006548788474132286, '([VBD], [S], [PP-LOC], [SBAR-TMP])': 0.0006548788474132286, '([VBN], [NP], [PP], [PP])': 0.0006548788474132286, '([VBD], [NP-EXT], [ADVP-TMP])': 0.0006548788474132286, '([VBN], [NP], [PP-LOC], [NP-TMP])': 0.0006548788474132286, '([VBZ], [ADJP-PRD], [PP': 0.0013097576948264572, '([VBZ], [NP-PRD], [,], [SBAR])': 0.0006548788474132286, '([VB], [NP-MNR])': 0.0006548788474132286, '([VBD], [NP], [S-ADV])': 0.0006548788474132286, '([VBN], [NP-SBJ': 0.0006548788474132286, '([VB], [ADVP-CLR])': 0.0006548788474132286, '([VB], [NP], [SBAR-TMP], [PRN])': 0.0006548788474132286, '([VBD], [PP-TMP], [PP-TMP])': 0.0006548788474132286, '([VBD], [NP], [,], [PP])': 0.0006548788474132286, '([VBD], [PP-TMP], [VP])': 0.0006548788474132286, '([VB], [ADVP-TMP])': 0.0006548788474132286, '([VBD], [PP-CLR], [PP-TMP])': 0.0006548788474132286, '([ADVP-MNR], [VBG])': 0.0006548788474132286, '([VBD], [PP-LOC], [NP-TMP], [SBAR])': 0.0006548788474132286, '([VB], [PP-PRD])': 0.0006548788474132286, '([VBZ], [NP-ADV], [VP])': 0.0006548788474132286, '([ADVP], [VBN], [NP], [PP])': 0.0006548788474132286, '([VBD], [ADJP-PRD], [SBAR-PRP])': 0.0006548788474132286, '([VBZ], [RB], [ADVP-TMP], [VP])': 0.0006548788474132286, '([VBZ], [PP-MNR-CLR], [SBAR-PRP])': 0.0006548788474132286, '([VBN], [NP], [PP-CLR], [VP': 0.0006548788474132286, '([VBD], [ADVP-TMP], [VP])': 0.0006548788474132286, '([VB], [NP], [PP-CLR], [PP-MNR])': 0.0006548788474132286, '([VBN], [PP])': 0.0006548788474132286, '([VBZ], [PP-CLR], [,], [SBAR-ADV])': 0.0006548788474132286, '([VBD], [S], [SBAR-ADV])': 0.0006548788474132286, '([VBN], [NP], [PP-LOC-CLR], [PP-LOC])': 0.0006548788474132286, '([VBD], [NP-EXT], [PP-DIR], [PP])': 0.0006548788474132286, '([VBZ], [NP])': 0.0006548788474132286, '([VBZ], [``], [SBAR])': 0.0006548788474132286, '([VB], [PP-LOC-PRD], [PP-TMP])': 0.0006548788474132286, '([VBD], [PP-TMP], [NP-TMP])': 0.0006548788474132286, '([VBG], [PP-TMP], [SBAR-TMP])': 0.0006548788474132286, '([VB], [NP], [PP-CLR], [SBAR': 0.0006548788474132286, '([NN], [PP-DIR])': 0.0006548788474132286, '([VBP], [NP], [SBAR-ADV])': 0.0006548788474132286, '([VBD], [ADVP], [S-PRP])': 0.0006548788474132286, '([VBZ], [RB], [ADJP-PRD])': 0.0006548788474132286, '([VBZ], [PP-CLR], [PP-CLR])': 0.0006548788474132286, '([VBD], [NP], [PRN], [SBAR-PRP])': 0.0006548788474132286, '([VBN], [NP-PRD], [PRN], [PP])': 0.0006548788474132286, '([VB], [S], [PP-MNR])': 0.0006548788474132286, '([MD], [ADVP], [VP])': 0.0006548788474132286, '([POS], [ADJP-PRD])': 0.0006548788474132286, '([VBD], [PP-DIR], [PP-TMP], [ADVP-TMP])': 0.0006548788474132286, '([VB], [ADVP-MNR], [SBAR])': 0.0006548788474132286, '([VB], [NP])': 0.0006548788474132286, '([VB], [SBAR-CLR])': 0.0006548788474132286, '([VBZ], [:], [NP': 0.0006548788474132286, '([VBG], [PP-PRD])': 0.0006548788474132286, '([VBZ], [SBAR], [SBAR-PRP])': 0.0006548788474132286, '([VBD], [SBAR-TMP])': 0.0006548788474132286, '([VBD], [NP], [PP': 0.0006548788474132286, '([VBN], [PRT], [NP], [PP-PRP])': 0.0006548788474132286, '([VBG], [PP': 0.0006548788474132286, '([VB], [PP-TMP-CLR])': 0.0006548788474132286, '([VBN], [NP], [PP-CLR], [PP-CLR])': 0.0006548788474132286, '([VB], [PP-CLR], [SBAR-ADV])': 0.0006548788474132286, '([VBP], [NP-PRD], [,], [S-ADV])': 0.0006548788474132286, '([VB], [NP], [,], [NP': 0.0006548788474132286, '([VBD], [NP], [SBAR-NOM])': 0.0006548788474132286, '([VBD], [ADVP-PRD], [NP-TMP])': 0.0006548788474132286, '([VBP], [ADVP-MNR])': 0.0006548788474132286, '([VBN], [``], [NP])': 0.0006548788474132286, '([VBD], [NP], [,], [S-ADV])': 0.0006548788474132286, '([VBD], [NP], [PP], [PP-TMP])': 0.0006548788474132286, '([VBG], [ADVP-MNR])': 0.0006548788474132286, '([VBN], [S], [PP])': 0.0006548788474132286, '([VBG], [NP], [PP-CLR], [S-PRP])': 0.0006548788474132286, '([VB], [NP], [ADVP-PRP])': 0.0006548788474132286, '([VBN], [NP], [PP-MNR], [PP-TMP])': 0.0006548788474132286, '([VBG], [NP], [PP-LOC], [PP-LOC])': 0.0006548788474132286, '([VBD], [PP-LOC], [PP-TMP])': 0.0006548788474132286, '([VB], [PRT], [PP-CLR])': 0.0006548788474132286, '([VBG], [ADVP-DIR], [S-PRP])': 0.0006548788474132286, '([VBG], [``], [NP-TTL])': 0.0006548788474132286, '([VBD], [NP-EXT], [PP-DIR], [PP-DIR])': 0.0006548788474132286, '([VBZ], [PP-CLR], [,], [SBAR-PRP])': 0.0006548788474132286, '([VBD], [RB], [ADJP-PRD], [SBAR-NOM': 0.0006548788474132286, '([MD], [ADVP-MNR], [VB], [NP])': 0.0006548788474132286, '([VBZ], [``], [NP])': 0.0006548788474132286, '([VBD], [PP-CLR], [NP-TMP], [SBAR-TMP])': 0.0006548788474132286, '([VBP], [ADJP-PRD])': 0.0006548788474132286, '([VBD], [NP-PRD], [NP-TMP], [PP': 0.0006548788474132286, '([VBN], [NP], [ADVP-MNR], [PP-CLR])': 0.0006548788474132286, '([VB], [UCP-LOC-CLR])': 0.0006548788474132286, '([VBG], [NP], [PP-DIR], [PP-DIR])': 0.0006548788474132286, '([VB], [PP-LOC], [NP-TMP], [S-PRP])': 0.0006548788474132286, '([VBP], [RB], [ADJP-PRD], [PP-LOC])': 0.0006548788474132286, '([VBG], [PP], [PP-CLR])': 0.0006548788474132286, '([VB], [PP], [ADVP-TMP])': 0.0006548788474132286, '([VBD], [NP], [``], [PP-MNR])': 0.0006548788474132286, '([VBD], [ADJP-PRD], [PRN])': 0.0006548788474132286, '([VBP], [ADVP-MNR], [PP-CLR], [PP])': 0.0006548788474132286, '([VBP], [ADVP-TMP], [NP-PRD], [SBAR-PRP])': 0.0006548788474132286, '([VBD], [PP-DIR], [ADVP-TMP])': 0.0006548788474132286, '([VBZ], [NP-PRD], [ADVP-LOC])': 0.0006548788474132286, '([VB], [PP-DIR], [PP-DIR])': 0.0006548788474132286, '([VBD], [:], [``], [S])': 0.0006548788474132286, '([VBG], [NP], [PP-CLR], [S': 0.0006548788474132286, '([VBN], [NP], [PP-TMP], [ADVP-TMP])': 0.0006548788474132286, \"([VBP], [``], [NP-TTL], [''])\": 0.0006548788474132286, '([VBG], [PP-CLR], [S-CLR])': 0.0006548788474132286, '([VBP], [ADJP])': 0.0006548788474132286, '([VBD], [NP], [PP-TMP], [ADVP-TMP])': 0.0006548788474132286, '([VBN], [PP], [PP], [ADVP-TMP])': 0.0006548788474132286, '([VBG], [PP-DIR], [PP-TMP])': 0.0006548788474132286, '([VB], [ADVP-DIR])': 0.0006548788474132286, '([VB], [S], [NP-ADV])': 0.0006548788474132286, '([VBN], [ADVP-EXT], [PP-TMP])': 0.0006548788474132286, '([VB], [NP], [PP-MNR])': 0.0006548788474132286, '([ADVP-TMP], [VBN], [NP], [PP-LGS])': 0.0006548788474132286, '([VBP], [PRT], [PP-DIR])': 0.0006548788474132286, '([VBN], [NP], [PP], [PRN])': 0.0006548788474132286, '([VBD], [NP], [PP-BNF])': 0.0006548788474132286, '([VBG], [PP-DIR], [NP-ADV])': 0.0006548788474132286, '([VBG], [ADVP], [NP-TMP])': 0.0006548788474132286, '([VBP], [NP], [,], [S-ADV])': 0.0006548788474132286, '([VBD], [NP], [PP-LOC])': 0.0006548788474132286, '([VB], [NP-PRD], [SBAR-PRP])': 0.0006548788474132286, '([VB], [PP-DIR-CLR])': 0.0006548788474132286, '([VBG], [NP-PRD])': 0.0006548788474132286, '([VBD], [PP-PRD], [NP])': 0.0006548788474132286, '([VBZ], [SBAR-TMP])': 0.0006548788474132286, '([VBD], [NP], [NP-TMP], [SBAR-PRP])': 0.0006548788474132286, '([VBD], [PP-TMP], [SBAR])': 0.0006548788474132286, '([VBN], [S], [PP-PRP])': 0.0006548788474132286, '([VBD], [PP-LOC], [,], [SBAR-ADV])': 0.0006548788474132286, '([VBD], [ADVP-PRD])': 0.0006548788474132286, '([VBN], [NP], [PP-LOC], [PP-CLR])': 0.0006548788474132286, '([VB], [ADVP-MNR], [PP-DIR])': 0.0006548788474132286, '([VBN], [NP], [PP-CLR], [PP])': 0.0006548788474132286, '([ADVP], [VBZ], [NP], [PP-CLR])': 0.0006548788474132286, '([VB], [PP], [PP-LOC])': 0.0006548788474132286, '([VBP], [ADJP-PRD], [PP])': 0.0006548788474132286, '([VBG], [SBAR-PRP])': 0.0006548788474132286, '([VBZ], [NP-PRD], [SBAR': 0.0006548788474132286, '([VBZ], [NP], [SBAR-NOM], [ADVP-MNR])': 0.0006548788474132286, '([VBD], [ADVP])': 0.0006548788474132286, '([VBZ], [ADJP-PRD])': 0.0006548788474132286, '([VBG], [S], [SBAR-TMP])': 0.0006548788474132286, '([VBD], [NP], [ADVP])': 0.0006548788474132286, '([VB], [PRT], [PP])': 0.0006548788474132286, '([VBN], [S], [NP-TMP])': 0.0006548788474132286, '([VBN], [PRT], [NP], [PP-TMP])': 0.0006548788474132286, '([VBD], [SBAR-NOM], [,], [S-PRP])': 0.0006548788474132286, '([VBN], [PP-PRP], [S])': 0.0006548788474132286, '([VBP], [PRT], [NP], [PP-CLR])': 0.0006548788474132286, '([VBZ], [NP], [PP-TMP])': 0.0006548788474132286, '([VBP], [PRT], [ADVP-TMP])': 0.0006548788474132286, '([VBP], [ADVP-TMP], [ADJP-PRD])': 0.0006548788474132286, '([VB], [NP], [PP-MNR], [ADVP-MNR])': 0.0006548788474132286, '([VBG], [ADVP], [PP-DIR])': 0.0006548788474132286, '([VBD], [NP], [PP-DIR], [PP-LOC])': 0.0006548788474132286, '([VBZ], [ADVP], [NP-PRD], [PP])': 0.0006548788474132286, '([VBD], [PP-LOC-PRD], [NP-TMP], [S-PRP])': 0.0006548788474132286, '([VBD], [VP])': 0.0006548788474132286, '([VBG], [S-PRP])': 0.0006548788474132286, '([ADVP-MNR], [VBN], [``], [SBAR])': 0.0006548788474132286, '([VB], [PP-DIR], [PP-TMP])': 0.0006548788474132286, '([PP-TMP], [VBZ], [VP])': 0.0006548788474132286, '([VBZ], [NP-PRD], [PP-LOC])': 0.0006548788474132286, '([VBN], [PRT], [,], [ADVP-TMP])': 0.0006548788474132286, '([VBZ], [PRT], [S])': 0.0006548788474132286, '([PRN], [VBZ], [VP])': 0.0006548788474132286, '([VB], [PRT], [ADVP-MNR])': 0.0006548788474132286, '([ADVP], [VBN], [NP])': 0.0006548788474132286, '([VB], [NP], [NP])': 0.0006548788474132286, '([VB], [PP-DIR])': 0.0006548788474132286, '([VBD], [NP-PRD], [SBAR])': 0.0006548788474132286, '([VBP], [ADVP-PRD], [PP-TMP])': 0.0006548788474132286, '([VBZ], [PP-CLR], [ADVP-TMP])': 0.0006548788474132286, '([VBD], [RB], [ADVP], [VP])': 0.0006548788474132286, '([VBD], [PP-CLR], [PP-TMP], [PP])': 0.0006548788474132286, '([VBD], [ADVP-DIR], [NP-TMP], [PP])': 0.0006548788474132286, '([VBD], [PP-LOC-PRD], [,], [ADVP])': 0.0006548788474132286, '([VB], [S], [SBAR-TMP])': 0.0006548788474132286, '([VBN],)': 0.0006548788474132286, '([VBD], [CC], [VBD], [NP])': 0.0006548788474132286, '([VBG], [NP], [PP-DIR-CLR])': 0.0006548788474132286, '([VP], [,], [RB], [VP])': 0.0006548788474132286, '([ADVP], [VBD], [PP-DIR], [PP-DIR])': 0.0006548788474132286, '([ADVP-TMP], [VBN], [NP], [PP-CLR])': 0.0006548788474132286, '([VBZ], [PP], [NP])': 0.0006548788474132286, '([ADVP-TMP], [VBG], [ADVP-DIR])': 0.0006548788474132286, '([VBN], [PRT], [NP])': 0.0006548788474132286, '([VBD], [ADVP-TMP], [S])': 0.0006548788474132286, '([VBD], [NP], [,], [SBAR-TMP])': 0.0006548788474132286, '([VBN], [PP-DIR])': 0.0006548788474132286, '([IN], [NP])': 0.0006548788474132286, '([VBD], [ADJP-PRD], [PP-TMP])': 0.0006548788474132286, '([VBG], [ADVP-DIR], [PP-DIR])': 0.0006548788474132286, '([VBP], [PP-CLR], [ADVP-TMP], [NP])': 0.0006548788474132286, '([VBZ], [,], [``], [S])': 0.0006548788474132286, '([ADVP-MNR], [VBP], [NP])': 0.0006548788474132286, '([VBG], [PP-TMP], [S])': 0.0006548788474132286, '([VBD], [NP-PRD], [SBAR-TMP])': 0.0006548788474132286, '([VBZ], [NP-TTL])': 0.0006548788474132286, '([VBG], [NP], [S-PRP])': 0.0006548788474132286, '([VBG], [NP], [PP-CLR])': 0.0006548788474132286, '([VBD], [NP], [SBAR])': 0.0006548788474132286, '([VBP], [PRT], [PP], [NP-TMP])': 0.0006548788474132286, '([VBG], [CC], [VBG], [NP])': 0.0006548788474132286, '([VBD], [RB], [ADJP-PRD], [PP-PRP])': 0.0006548788474132286, '([VBP], [``], [VP])': 0.0006548788474132286, '([VBP], [PP-CLR], [PP])': 0.0006548788474132286, '([VBN], [PP-CLR])': 0.0006548788474132286, '([VB], [PP-CLR], [PP-MNR])': 0.0006548788474132286, '([VBD], [NP], [PP-MNR])': 0.0006548788474132286, '([VP], [CC], [ADVP], [VP])': 0.0006548788474132286, '([VBN], [NP], [SBAR-ADV])': 0.0006548788474132286, '([TO], [``], [VP])': 0.0006548788474132286, '([VBD], [SBAR], [,], [PP': 0.0006548788474132286, '([VBZ], [NP], [PP], [PP-LOC])': 0.0006548788474132286, '([VBZ], [NP-PRD], [PP-TMP])': 0.0006548788474132286, '([VP], [CC], [``], [VP])': 0.0006548788474132286, '([VBG], [ADVP-TMP], [NP])': 0.0006548788474132286, '([VBD], [NP], [PP-CLR], [S-PRP])': 0.0006548788474132286, '([VBG], [NP], [ADVP])': 0.0006548788474132286, '([VBN], [ADVP-MNR], [PP-CLR])': 0.0006548788474132286, '([VB], [PRT], [NP], [ADVP-TMP])': 0.0006548788474132286, '([-NONE-], [PP-TMP])': 0.0006548788474132286, '([VBD], [ADVP-MNR], [SBAR-PRP])': 0.0006548788474132286, '([VBD], [NP], [PP-CLR], [PP-TMP])': 0.0006548788474132286, '([VBD], [NP], [PP-TMP], [VP': 0.0006548788474132286, '([VBP], [ADVP-MNR], [ADVP-TMP])': 0.0006548788474132286, '([VBG], [PRN], [S])': 0.0006548788474132286, '([VB], [PP-LOC-PRD], [SBAR-TMP])': 0.0006548788474132286, \"([VBD], [PRT], [''], [SBAR-PRP])\": 0.0006548788474132286, '([VBZ], [``], [UCP-PRD])': 0.0006548788474132286, '([VBN], [PP-CLR-LOC], [S-PRP])': 0.0006548788474132286, '([VBD], [PP-CLR], [PP-MNR])': 0.0006548788474132286, '([VBG], [NP], [NP-TMP])': 0.0006548788474132286, '([VBZ], [NP], [,], [SBAR])': 0.0006548788474132286, '([VBG], [ADVP-MNR], [:], [SBAR-ADV])': 0.0006548788474132286, '([VB], [PP-CLR], [PP-LOC])': 0.0006548788474132286, '([VBD], [NP-TMP-CLR])': 0.0006548788474132286, '([VB], [S-PRD])': 0.0006548788474132286, '([MD], [S])': 0.0006548788474132286, '([VB], [ADJP-PRD], [PP-LOC])': 0.0006548788474132286, '([VBD], [ADVP-LOC-PRD])': 0.0006548788474132286, '([VBP], [NP-PRD], [ADVP-TMP])': 0.0006548788474132286, '([VBD], [ADVP-TMP])': 0.0006548788474132286, '([ADVP], [VBP], [NP])': 0.0006548788474132286, '([VBD], [S], [PP-TMP])': 0.0006548788474132286, '([VBD], [RB], [S])': 0.0006548788474132286, '([VB], [SBAR], [PP-LOC])': 0.0006548788474132286, '([VBG], [PP])': 0.0006548788474132286, '([VBP], [ADJP-PRD], [SBAR-PRP])': 0.0006548788474132286, '([VB], [PP-LOC], [NP-TMP])': 0.0006548788474132286, '([VBD], [ADVP-LOC-CLR], [PP-LOC])': 0.0006548788474132286, '([VBN], [PP-PRD])': 0.0006548788474132286, '([VBP], [PRT], [NP])': 0.0006548788474132286, '([VB], [NP-TMP-CLR])': 0.0006548788474132286, '([VB], [PRN], [NP-PRD])': 0.0006548788474132286, '([VBG], [PP-LOC])': 0.0006548788474132286, '([VBN], [PRT], [PP], [PP-TMP])': 0.0006548788474132286, '([NN],)': 0.0006548788474132286, '([VBP], [ADVP], [ADJP-PRD])': 0.0006548788474132286, '([NN], [NP], [PP-CLR])': 0.0006548788474132286, '([VBZ], [ADVP-TMP], [VP])': 0.0006548788474132286, '([ADVP-TMP], [VBD], [NP], [PP-CLR])': 0.0006548788474132286, '([VB], [NP], [PP-LOC], [PP-TMP])': 0.0006548788474132286, '([VBN], [NP], [NP-TMP], [PP-LOC])': 0.0006548788474132286, '([VBN], [NP], [PP], [PP-LOC])': 0.0006548788474132286, '([VBZ], [ADVP-MNR], [VP])': 0.0006548788474132286, '([VB], [NP-PRD], [,], [SBAR-ADV])': 0.0006548788474132286, '([VBP], [PP-PRD], [PP], [PP-TMP])': 0.0006548788474132286, '([VBZ], [RB], [S-PRD])': 0.0006548788474132286, '([VP], [,], [NP])': 0.0006548788474132286, '([VBN], [NP], [ADVP])': 0.0006548788474132286, '([VBN], [PRT], [NP], [PP])': 0.0006548788474132286, '([PP-TMP': 0.0006548788474132286, '([VB], [NP], [ADVP-DIR], [PP-DIR])': 0.0006548788474132286, '([VBZ], [ADVP], [NP])': 0.0006548788474132286, '([VBZ], [ADVP], [ADJP-PRD], [S': 0.0006548788474132286, '([VBZ], [S], [S-ADV])': 0.0006548788474132286, '([VBZ], [PP-CLR], [PP])': 0.0006548788474132286, '([VBP], [PRT], [PP-TMP])': 0.0006548788474132286, '([VBN], [NP], [PP-LOC])': 0.0006548788474132286, '([VBD], [PP-DIR], [PP-PRP])': 0.0006548788474132286, '([VBD], [NP], [PRN], [S-PRP])': 0.0006548788474132286, '([VBN], [PP-DIR], [S-ADV])': 0.0006548788474132286, '([ADVP-TMP], [VBZ], [NP], [PP-LOC])': 0.0006548788474132286, '([VBG], [PRT])': 0.0006548788474132286, '([VBD], [NP], [PP-EXT])': 0.0006548788474132286, '([VBD], [NP-PRD], [PP-TMP])': 0.0006548788474132286, '([VBP], [NP], [ADVP-MNR])': 0.0006548788474132286, '([VBP], [ADVP-LOC], [PP-CLR])': 0.0006548788474132286, '([VBG], [NP], [PP-DTV])': 0.0006548788474132286, '([VBG], [NP], [NP-TMP], [PP])': 0.0006548788474132286, '([VBZ], [ADVP-LOC-CLR], [PP-CLR])': 0.0006548788474132286, '([VBP], [PP-PRD], [ADVP-TMP])': 0.0006548788474132286, '([VBG], [NP], [,], [PP])': 0.0006548788474132286, '([VBZ], [``], [ADJP-PRD])': 0.0006548788474132286, '([VBP], [PP-CLR], [ADVP-TMP])': 0.0006548788474132286, '([VBN], [PP-TMP])': 0.0006548788474132286, '([VBP],)': 0.0006548788474132286, '([VBZ], [S-PRD])': 0.0006548788474132286, '([VB], [NP], [PP])': 0.0006548788474132286, '([VBN], [NP], [PP-MNR])': 0.0006548788474132286, '([VBN], [PP-DIR], [S-PRP])': 0.0006548788474132286, '([VB], [NP], [PP-DIR])': 0.0006548788474132286, '([VBN], [NP], [PP-TMP], [SBAR-PRP])': 0.0006548788474132286, '([VBN], [S], [ADVP-TMP-CLR])': 0.0006548788474132286, '([VBN], [NP], [ADVP], [PP-TMP])': 0.0006548788474132286, '([VBG], [PP-LOC-CLR])': 0.0006548788474132286, '([VBP], [ADVP], [VP])': 0.0006548788474132286, '([VB], [NP-TMP], [SBAR-ADV])': 0.0006548788474132286, '([VB], [NP], [S])': 0.0006548788474132286, '([ADVP-TMP], [MD], [VP])': 0.0006548788474132286, '([VBP], [ADVP-LOC-PRD])': 0.0006548788474132286, '([VBD], [NP], [,], [ADVP])': 0.0006548788474132286, '([VBZ], [NP-ADV], [ADJP-PRD])': 0.0006548788474132286, '([VBG], [PP-MNR])': 0.0006548788474132286, '([VBG], [NP])': 0.0006548788474132286, '([ADVP-MNR], [VBZ], [S])': 0.0006548788474132286, '([VBD], [PP-PRD], [PP-TMP])': 0.0006548788474132286, '([VBD], [NP-EXT], [PP-TMP])': 0.0006548788474132286, '([VBD], [ADVP-CLR], [PP-DIR], [PP-DIR])': 0.0006548788474132286, '([VB], [ADVP-PRP])': 0.0006548788474132286, '([VB], [S], [SBAR-ADV])': 0.0006548788474132286, '([VBD], [NP], [ADVP-DIR], [ADVP-TMP])': 0.0006548788474132286, '([VBZ], [NP], [PP-CLR], [PP-LOC])': 0.0006548788474132286, '([JJ], [VP])': 0.0006548788474132286, '([VB], [PP-CLR], [:], [SBAR-ADV])': 0.0006548788474132286, '([VB], [NP], [PP-TMP], [SBAR-ADV])': 0.0006548788474132286, '([VBD], [ADVP], [PP-TMP], [S-PRP])': 0.0006548788474132286, '([VBD], [PP-CLR], [S-PRP])': 0.0006548788474132286, '([VBN], [NP-PRD], [PP-TMP])': 0.0006548788474132286, '([VB], [ADVP])': 0.0006548788474132286, '([VBD], [NP], [PP-LOC], [NP-TMP])': 0.0006548788474132286, '([VBG], [ADVP-CLR], [PP-LOC])': 0.0006548788474132286, '([VBD], [NP], [PRT], [PP-DIR])': 0.0006548788474132286, '([VBD], [NP-TMP], [,], [SBAR-TMP])': 0.0006548788474132286, '([ADVP-MNR], [VBN])': 0.0006548788474132286, '([VB], [PP-TMP], [SBAR-ADV])': 0.0006548788474132286, '([VB], [NP], [,], [S-ADV])': 0.0006548788474132286, '([VBZ], [PP-LOC], [NP-TMP])': 0.0006548788474132286, '([VBN], [NP-TMP], [PP])': 0.0006548788474132286, \"([PP], [''], [VB], [NP])\": 0.0006548788474132286, '([VB], [PP-CLR], [PP-TMP])': 0.0006548788474132286, '([VBG], [NP], [S-CLR])': 0.0006548788474132286, '([MD], [ADVP], [RB], [VP])': 0.0006548788474132286, '([VBD], [,], [``], [S])': 0.0006548788474132286, '([VBD], [RB], [PRN], [VP])': 0.0006548788474132286, '([VB], [NP], [,], [PP-LOC])': 0.0006548788474132286, '([IN], [NP], [PP-TMP])': 0.0006548788474132286, '([VBG], [NP], [ADVP-DIR], [S-PRP])': 0.0006548788474132286, '([VB], [NP], [PP-CLR], [SBAR-TMP])': 0.0006548788474132286, '([VBZ], [ADVP-PRD], [PP], [ADVP-LOC])': 0.0006548788474132286, '([VBN], [SBAR-ADV])': 0.0006548788474132286, '([VB], [PP-CLR': 0.0006548788474132286, '([VBD], [ADJP-PRD])': 0.0006548788474132286, '([ADVP], [VBP], [SBAR])': 0.0006548788474132286, '([VBD], [ADVP-LOC], [VP])': 0.0006548788474132286, '([VBN], [NP], [ADVP-MNR])': 0.0006548788474132286, '([VBD], [NP], [,], [NP': 0.0006548788474132286, '([VB], [UCP-PRD])': 0.0006548788474132286, '([VB], [ADJP], [,], [PP])': 0.0006548788474132286, '([VBD],)': 0.0006548788474132286, '([VB], [NP], [ADVP|PRT], [PP-PUT])': 0.0006548788474132286, '([VBD], [NP], [PP-PUT])': 0.0006548788474132286, '([VBZ], [NP-PRD], [PP])': 0.0006548788474132286, '([VBZ], [S], [,], [S-ADV])': 0.0006548788474132286, '([VBD], [NP-EXT], [NP-TMP], [SBAR-TMP])': 0.0006548788474132286, '([VBZ], [PP-TMP], [VP])': 0.0006548788474132286, '([VBN], [ADJP-PRD], [,], [PP-LOC])': 0.0006548788474132286, '([VB], [PP-DIR], [,], [PP])': 0.0006548788474132286, '([VBN], [NP], [PP], [PP-TMP])': 0.0006548788474132286, '([-NONE-],)': 0.0006548788474132286, '([VBD], [ADVP], [ADVP-TMP])': 0.0006548788474132286, '([VBD], [,], [``], [NP-TTL])': 0.0006548788474132286, '([VBN], [S], [SBAR-TMP])': 0.0006548788474132286, '([VBN], [PRT], [PP-CLR])': 0.0006548788474132286, '([VBZ], [NP], [PP-CLR])': 0.0006548788474132286, '([VB], [PP], [ADVP-MNR])': 0.0006548788474132286, '([VBG], [ADVP-DIR])': 0.0006548788474132286, '([VBN], [PP], [PP-TMP])': 0.0006548788474132286, '([VBG], [,], [``], [S])': 0.0006548788474132286, '([VB], [CC], [VB])': 0.0006548788474132286, '([VBZ], [NP], [PP-DIR], [PP': 0.0006548788474132286, '([VBZ], [PP-TMP-CLR])': 0.0006548788474132286, '([VB], [PRT], [S-PRP])': 0.0006548788474132286, '([VBZ], [NP-PRD])': 0.0006548788474132286, '([VB], [NP], [``], [SBAR-TMP])': 0.0006548788474132286, '([VBP], [SBAR-NOM-PRD])': 0.0006548788474132286, '([VBZ], [PP-LOC], [SBAR-ADV])': 0.0006548788474132286, '([VBG], [PP-PRP], [PP-DIR], [PP-TMP])': 0.0006548788474132286, '([VBD], [NP], [PP-LOC], [PP-TMP])': 0.0006548788474132286, '([VBZ], [ADVP], [S-NOM-PRD])': 0.0006548788474132286, '([VBN], [NP], [ADVP-MNR], [PP-LOC])': 0.0006548788474132286, '([VBG], [NP], [,], [S-ADV])': 0.0006548788474132286, '([VB], [NP], [S-TMP])': 0.0006548788474132286, '([VBP], [SBAR])': 0.0006548788474132286, '([VBN], [NP], [NP-MNR])': 0.0006548788474132286, '([VB], [NP], [PP-DIR-CLR], [PP-PRP])': 0.0006548788474132286, '([VBN], [NP], [ADVP-MNR], [PP])': 0.0006548788474132286, '([VP],)': 0.0006548788474132286, '([VBZ], [NP], [PP': 0.0006548788474132286, \"([VBZ], [''], [PP\": 0.0006548788474132286, '([VBD], [PP-DIR], [NP-TMP])': 0.0006548788474132286, '([VBP], [PP])': 0.0006548788474132286, '([VBD], [PP-CLR])': 0.0006548788474132286, '([VB], [,], [``], [S])': 0.0006548788474132286, '([VBG], [NP], [PP-LOC-CLR])': 0.0006548788474132286, '([VBD], [PP-CLR], [SBAR])': 0.0006548788474132286, '([VBP], [S], [ADVP-TMP])': 0.0006548788474132286, '([VBD], [NP], [SBAR-TMP])': 0.0006548788474132286, '([VBN], [ADJP-PRD])': 0.0006548788474132286, '([VBD], [PP-CLR-LOC], [PP-DIR])': 0.0006548788474132286, '([VBN], [NP], [PP-CLR], [ADVP-TMP])': 0.0006548788474132286, '([VB], [ADVP-MNR], [SBAR-ADV])': 0.0006548788474132286, '([VBZ], [S], [S-PRP])': 0.0006548788474132286, '([VB], [PRT], [NP], [PP-TMP])': 0.0006548788474132286, '([VP], [,], [NP-ADV])': 0.0006548788474132286, '([VBP], [UCP])': 0.0006548788474132286, '([VBD], [NP])': 0.0006548788474132286, '([VBD], [PP-LOC], [ADVP-TMP])': 0.0006548788474132286, '([VBD], [ADVP-MNR], [PP-CLR])': 0.0006548788474132286, '([VB], [NP], [PP-PRP])': 0.0006548788474132286, '([VBG], [NP], [PP-LOC], [PP])': 0.0006548788474132286, '([NNS], [NP])': 0.0006548788474132286, '([VBZ], [RB], [VP])': 0.0006548788474132286, '([VBD], [PRT], [PP-LOC])': 0.0006548788474132286, '([VBD], [PP-EXT], [PP-DIR], [PP])': 0.0006548788474132286, '([VBN], [S-CLR])': 0.0006548788474132286, '([VBZ], [PP-LOC-CLR], [,], [ADVP])': 0.0006548788474132286, '([VBD], [NP-EXT], [PP])': 0.0006548788474132286, '([VBD], [NP-EXT], [PP-DIR])': 0.0006548788474132286, '([VBN], [NP], [NP-TMP])': 0.0006548788474132286, '([VBD], [NP-PRD], [NP-TMP])': 0.0006548788474132286, '([MD], [VP])': 0.0006548788474132286, '([VBD], [RB], [ADVP-TMP], [VP])': 0.0006548788474132286, '([VBN], [NP], [``], [SBAR-ADV])': 0.0006548788474132286, '([VBD], [PP-CLR], [NP-TMP])': 0.0006548788474132286, '([VBP], [NP], [NP])': 0.0006548788474132286, '([VBD], [PP-CLR], [PP])': 0.0006548788474132286, '([VBD], [PP-DIR], [PP])': 0.0006548788474132286, '([-NONE-], [PP-LOC])': 0.0006548788474132286, \"([VBD], [''], [NP])\": 0.0006548788474132286, '([VBZ], [``], [INTJ])': 0.0006548788474132286, '([VBD], [PP-CLR], [,], [ADVP])': 0.0006548788474132286, '([VB], [PP-LOC], [PP-TMP])': 0.0006548788474132286, '([VBG], [NP], [PP': 0.0006548788474132286, '([VB], [NP], [PP-LOC])': 0.0006548788474132286, '([ADVP-TMP], [VBP], [NP])': 0.0006548788474132286, '([VBG], [ADVP-MNR], [PP-LOC])': 0.0006548788474132286, '([VBZ], [NP], [S-PRP])': 0.0006548788474132286, '([VBN], [NP], [PP-LOC], [ADVP-MNR])': 0.0006548788474132286, '([VBD], [NP], [ADVP-TMP])': 0.0006548788474132286, '([VB], [NP-TMP])': 0.0006548788474132286, '([NN], [PP-LOC], [NP-TMP])': 0.0006548788474132286, '([VB], [NP], [ADVP])': 0.0006548788474132286, '([VBN], [NP], [PP-TMP], [PP-CLR])': 0.0006548788474132286, '([VBD], [PP-LOC])': 0.0006548788474132286, '([VB], [PP-TMP])': 0.0006548788474132286, '([VBZ], [ADVP], [VP])': 0.0006548788474132286, '([VBD], [PP-LOC], [SBAR': 0.0006548788474132286, '([VBP], [UCP-PRD])': 0.0006548788474132286, '([VBN], [ADJP-PRD], [PP-TMP])': 0.0006548788474132286, '([VBZ], [ADVP-CLR])': 0.0006548788474132286, '([VBD], [PP-DIR], [PP-DIR], [PP-TMP])': 0.0006548788474132286, '([VBZ], [PP-MNR])': 0.0006548788474132286, '([VBD], [ADVP], [PP])': 0.0006548788474132286, '([VBD], [NP], [S], [ADVP-TMP])': 0.0006548788474132286, '([VBG], [SBAR])': 0.0006548788474132286, '([ADVP-TMP], [VBG])': 0.0006548788474132286, '([VBD], [RB], [NP-PRD])': 0.0006548788474132286, '([VBG], [ADVP-LOC])': 0.0006548788474132286, '([VB], [PP])': 0.0006548788474132286, '([VB], [NP], [SBAR-MNR])': 0.0006548788474132286, '([VBG], [PP-CLR], [,], [VP': 0.0006548788474132286, '([VBD], [NP-CLR], [ADVP-TMP])': 0.0006548788474132286, '([VBD], [ADVP-DIR])': 0.0006548788474132286, '([VBD], [NP-ADV], [SBAR-ADV])': 0.0006548788474132286, '([VBN], [NP], [ADVP-TMP], [S-PRP])': 0.0006548788474132286, '([VB], [NP], [PP], [PP-LOC])': 0.0006548788474132286, '([NN], [NP], [PP])': 0.0006548788474132286, '([VBN], [NP], [S-CLR])': 0.0006548788474132286, '([VBP], [ADVP-TMP], [VP])': 0.0006548788474132286, '([VBG], [PP-PRP])': 0.0006548788474132286, '([VB], [ADJP-PRD])': 0.0006548788474132286, '([VBD], [NP], [NP])': 0.0006548788474132286, '([VBZ], [ADJP-PRD], [:], [NP': 0.0006548788474132286, '([VBN], [ADJP-PRD], [,], [SBAR-ADV])': 0.0006548788474132286, '([VB], [ADVP-DIR], [S-ADV], [ADVP-LOC])': 0.0006548788474132286, '([VB], [PP-LOC-CLR], [PP-LOC])': 0.0006548788474132286, '([VBZ], [PP-TMP], [SBAR])': 0.0006548788474132286, '([VBZ], [UCP-PRP])': 0.0006548788474132286, '([VBN], [NP], [NP], [PP-TMP])': 0.0006548788474132286, '([VBP], [PP-LOC-PRD])': 0.0006548788474132286, '([VB], [NP], [ADVP-TMP], [PP-DIR])': 0.0006548788474132286, '([VBG], [SBAR-ADV])': 0.0006548788474132286, '([VBD], [PRT], [PP])': 0.0006548788474132286, '([VBD], [SBAR-PRD])': 0.0006548788474132286, '([VBP], [RB], [VP])': 0.0006548788474132286, '([VBD], [NP-PRD], [,], [ADVP])': 0.0006548788474132286, '([VBN], [NP], [ADJP-ADV])': 0.0006548788474132286, '([VBP], [ADJP-PRD], [,], [S-ADV])': 0.0006548788474132286, '([VBD], [ADVP-TMP], [SBAR])': 0.0006548788474132286, '([VBG], [NP], [PP-CLR], [SBAR-TMP])': 0.0006548788474132286, '([VBD], [PP], [PP-CLR])': 0.0006548788474132286, '([VBD], [NP], [S-PRP])': 0.0006548788474132286, '([VBN], [NP], [PP], [ADVP-LOC])': 0.0006548788474132286, '([VBP], [PP-CLR])': 0.0006548788474132286, '([VBD], [``], [ADJP-PRD])': 0.0006548788474132286, '([ADVP-MNR], [VB], [PP], [ADVP-TMP])': 0.0006548788474132286, '([VBD], [PP-PRD], [PP])': 0.0006548788474132286, '([VB], [PP], [ADVP])': 0.0006548788474132286, '([VBN], [NP], [NP-ADV])': 0.0006548788474132286, '([VBD], [ADVP-CLR], [PP-TMP], [PP-TMP])': 0.0006548788474132286, '([VB], [NP], [S-MNR], [PP-TMP])': 0.0006548788474132286, '([VBD], [NP-CLR], [PP-CLR])': 0.0006548788474132286, '([ADVP], [VBD], [PP-DIR], [ADVP-TMP])': 0.0006548788474132286, '([VB], [NP-EXT], [PP-DIR])': 0.0006548788474132286, '([VBN], [NP-PRD], [,], [S-ADV])': 0.0006548788474132286, '([VBN], [NP], [PP-DIR], [ADVP-TMP])': 0.0006548788474132286, '([VBZ], [RB], [ADJP-PRD], [SBAR': 0.0006548788474132286, '<unk>': 0.0006548788474132286}\n",
      "[ADVP] {'([IN], [NP])': 0.017857142857142856, '([RB], [NP], [PP])': 0.017857142857142856, '([DT], [DT])': 0.017857142857142856, '([RB], [IN])': 0.017857142857142856, '([PDT],)': 0.017857142857142856, '([NP-ADV], [RBR])': 0.017857142857142856, '([IN], [DT])': 0.017857142857142856, '([NN],)': 0.017857142857142856, '([IN], [NN])': 0.017857142857142856, '([DT],)': 0.017857142857142856, '([RP],)': 0.017857142857142856, '([ADVP], [SBAR])': 0.017857142857142856, '([JJR],)': 0.017857142857142856, '([JJ],)': 0.017857142857142856, '([RBR],)': 0.017857142857142856, '([VB], [RB])': 0.017857142857142856, '([RB], [RBR])': 0.017857142857142856, '([IN],)': 0.017857142857142856, '([ADVP], [PP])': 0.017857142857142856, '([RB], [RBR], [RB])': 0.017857142857142856, '([RBR], [RB])': 0.017857142857142856, '([NP], [JJR])': 0.017857142857142856, '([RB], [IN], [RB])': 0.017857142857142856, '([DT], [RBR])': 0.017857142857142856, '([RB], [NP])': 0.017857142857142856, '([IN], [RB])': 0.017857142857142856, '([NP], [RBR])': 0.017857142857142856, '([CD],)': 0.017857142857142856, '([JJ], [PP])': 0.017857142857142856, '([RB], [JJ])': 0.017857142857142856, '([RB], [RB])': 0.017857142857142856, '([RB], [NP], [PP-TMP])': 0.017857142857142856, '([IN], [JJS])': 0.017857142857142856, '([``], [RB], [RB], [.])': 0.017857142857142856, '([NP-ADV], [JJR])': 0.017857142857142856, '([NNP],)': 0.017857142857142856, '([CD], [TO], [CD])': 0.017857142857142856, '([RB], [PP])': 0.017857142857142856, '([RB],)': 0.017857142857142856, '([-NONE-],)': 0.017857142857142856, '([DT], [NN], [SBAR])': 0.017857142857142856, '([JJS],)': 0.017857142857142856, '([DT], [DT], [JJ])': 0.017857142857142856, '([RB], [NN], [IN], [NN])': 0.017857142857142856, '([RB], [JJR])': 0.017857142857142856, '([ADVP-TMP], [CC], [ADVP])': 0.017857142857142856, '([NP], [IN])': 0.017857142857142856, '([DT], [NN], [SBAR-NOM])': 0.017857142857142856, '([RBR], [IN])': 0.017857142857142856, '([RB], [JJ], [RB])': 0.017857142857142856, '([RB], [CC], [RB])': 0.017857142857142856, '([IN], [PP])': 0.017857142857142856, '([RBR], [CC], [RBR])': 0.017857142857142856, '([RBS], [RB])': 0.017857142857142856, '([RB], [RB], [RB])': 0.017857142857142856, '<unk>': 0.017857142857142856}\n",
      "[VBN] {\"('Asked',)\": 0.0016750418760469012, \"('portrayed',)\": 0.0016750418760469012, \"('worked',)\": 0.0016750418760469012, \"('surfaced',)\": 0.0016750418760469012, \"('designed',)\": 0.0016750418760469012, \"('cultivated',)\": 0.0016750418760469012, \"('Confronted',)\": 0.0016750418760469012, \"('eliminated',)\": 0.0016750418760469012, \"('offered',)\": 0.0016750418760469012, \"('associated',)\": 0.0016750418760469012, \"('posted',)\": 0.0016750418760469012, \"('blocked',)\": 0.0016750418760469012, \"('sold',)\": 0.0016750418760469012, \"('followed',)\": 0.0016750418760469012, \"('Put',)\": 0.0016750418760469012, \"('Filmed',)\": 0.0016750418760469012, \"('tried',)\": 0.0016750418760469012, \"('ratified',)\": 0.0016750418760469012, \"('pointed',)\": 0.0016750418760469012, \"('jumped',)\": 0.0016750418760469012, \"('Annualized',)\": 0.0016750418760469012, \"('midsized',)\": 0.0016750418760469012, \"('renovated',)\": 0.0016750418760469012, \"('attempted',)\": 0.0016750418760469012, \"('composed',)\": 0.0016750418760469012, \"('rung',)\": 0.0016750418760469012, \"('cluttered',)\": 0.0016750418760469012, \"('automated',)\": 0.0016750418760469012, \"('created',)\": 0.0016750418760469012, \"('overused',)\": 0.0016750418760469012, \"('shown',)\": 0.0016750418760469012, \"('concerned',)\": 0.0016750418760469012, \"('troubled',)\": 0.0016750418760469012, \"('Reached',)\": 0.0016750418760469012, \"('listed',)\": 0.0016750418760469012, \"('stacked',)\": 0.0016750418760469012, \"('cleaned',)\": 0.0016750418760469012, \"('mortgaged',)\": 0.0016750418760469012, \"('ended',)\": 0.0016750418760469012, \"('limited',)\": 0.0016750418760469012, \"('retired',)\": 0.0016750418760469012, \"('approved',)\": 0.0016750418760469012, \"('presented',)\": 0.0016750418760469012, \"('classified',)\": 0.0016750418760469012, \"('cooled',)\": 0.0016750418760469012, \"('failed',)\": 0.0016750418760469012, \"('terminated',)\": 0.0016750418760469012, \"('clashed',)\": 0.0016750418760469012, \"('achieved',)\": 0.0016750418760469012, \"('rumored',)\": 0.0016750418760469012, \"('fixed',)\": 0.0016750418760469012, \"('signed',)\": 0.0016750418760469012, \"('adopted',)\": 0.0016750418760469012, \"('gained',)\": 0.0016750418760469012, \"('registered',)\": 0.0016750418760469012, \"('chaired',)\": 0.0016750418760469012, \"('finished',)\": 0.0016750418760469012, \"('prompted',)\": 0.0016750418760469012, \"('clarified',)\": 0.0016750418760469012, \"('identified',)\": 0.0016750418760469012, \"('indicated',)\": 0.0016750418760469012, \"('scattered',)\": 0.0016750418760469012, \"('accrued',)\": 0.0016750418760469012, \"('protected',)\": 0.0016750418760469012, \"('measured',)\": 0.0016750418760469012, \"('retained',)\": 0.0016750418760469012, \"('deemed',)\": 0.0016750418760469012, \"('Developed',)\": 0.0016750418760469012, \"('interrogated',)\": 0.0016750418760469012, \"('beaten',)\": 0.0016750418760469012, \"('confined',)\": 0.0016750418760469012, \"('dismissed',)\": 0.0016750418760469012, \"('noticed',)\": 0.0016750418760469012, \"('scared',)\": 0.0016750418760469012, \"('educated',)\": 0.0016750418760469012, \"('frozen',)\": 0.0016750418760469012, \"('torn',)\": 0.0016750418760469012, \"('borrowed',)\": 0.0016750418760469012, \"('put',)\": 0.0016750418760469012, \"('sought',)\": 0.0016750418760469012, \"('reclaimed',)\": 0.0016750418760469012, \"('forgotten',)\": 0.0016750418760469012, \"('embroiled',)\": 0.0016750418760469012, \"('labeled',)\": 0.0016750418760469012, \"('engaged',)\": 0.0016750418760469012, \"('rusted',)\": 0.0016750418760469012, \"('raised',)\": 0.0016750418760469012, \"('banned',)\": 0.0016750418760469012, \"('recouped',)\": 0.0016750418760469012, \"('switched',)\": 0.0016750418760469012, \"('speculated',)\": 0.0016750418760469012, \"('nominated',)\": 0.0016750418760469012, \"('beleaguered',)\": 0.0016750418760469012, \"('increased',)\": 0.0016750418760469012, \"('believed',)\": 0.0016750418760469012, \"('alleged',)\": 0.0016750418760469012, \"('written',)\": 0.0016750418760469012, \"('read',)\": 0.0016750418760469012, \"('dumped',)\": 0.0016750418760469012, \"('promised',)\": 0.0016750418760469012, \"('focused',)\": 0.0016750418760469012, \"('gored',)\": 0.0016750418760469012, \"('wedded',)\": 0.0016750418760469012, \"('recorded',)\": 0.0016750418760469012, \"('Funded',)\": 0.0016750418760469012, \"('permitted',)\": 0.0016750418760469012, \"('taken',)\": 0.0016750418760469012, \"('crippled',)\": 0.0016750418760469012, \"('refused',)\": 0.0016750418760469012, \"('cut',)\": 0.0016750418760469012, \"('fallen',)\": 0.0016750418760469012, \"('pleased',)\": 0.0016750418760469012, \"('overcome',)\": 0.0016750418760469012, \"('warned',)\": 0.0016750418760469012, \"('recruited',)\": 0.0016750418760469012, \"('turned',)\": 0.0016750418760469012, \"('laid',)\": 0.0016750418760469012, \"('named',)\": 0.0016750418760469012, \"('matched',)\": 0.0016750418760469012, \"('moved',)\": 0.0016750418760469012, \"('planned',)\": 0.0016750418760469012, \"('charged',)\": 0.0016750418760469012, \"('expedited',)\": 0.0016750418760469012, \"('used',)\": 0.0016750418760469012, \"('estimated',)\": 0.0016750418760469012, \"('accepted',)\": 0.0016750418760469012, \"('thought',)\": 0.0016750418760469012, \"('decided',)\": 0.0016750418760469012, \"('spread',)\": 0.0016750418760469012, \"('outlawed',)\": 0.0016750418760469012, \"('vested',)\": 0.0016750418760469012, \"('superimposed',)\": 0.0016750418760469012, \"('consented',)\": 0.0016750418760469012, \"('ranged',)\": 0.0016750418760469012, \"('compared',)\": 0.0016750418760469012, \"('printed',)\": 0.0016750418760469012, \"('implemented',)\": 0.0016750418760469012, \"('overstated',)\": 0.0016750418760469012, \"('broken',)\": 0.0016750418760469012, \"('appointed',)\": 0.0016750418760469012, \"('murdered',)\": 0.0016750418760469012, \"('afflicted',)\": 0.0016750418760469012, \"('transformed',)\": 0.0016750418760469012, \"('headed',)\": 0.0016750418760469012, \"('auctioned',)\": 0.0016750418760469012, \"('operated',)\": 0.0016750418760469012, \"('solved',)\": 0.0016750418760469012, \"('done',)\": 0.0016750418760469012, \"('settled',)\": 0.0016750418760469012, \"('carried',)\": 0.0016750418760469012, \"('industrialized',)\": 0.0016750418760469012, \"('rescheduled',)\": 0.0016750418760469012, \"('looked',)\": 0.0016750418760469012, \"('expelled',)\": 0.0016750418760469012, \"('worried',)\": 0.0016750418760469012, \"('negotiated',)\": 0.0016750418760469012, \"('opened',)\": 0.0016750418760469012, \"('curbed',)\": 0.0016750418760469012, \"('financed',)\": 0.0016750418760469012, \"('repaired',)\": 0.0016750418760469012, \"('muffled',)\": 0.0016750418760469012, \"('learned',)\": 0.0016750418760469012, \"('faded',)\": 0.0016750418760469012, \"('boosted',)\": 0.0016750418760469012, \"('disputed',)\": 0.0016750418760469012, \"('called',)\": 0.0016750418760469012, \"('sent',)\": 0.0016750418760469012, \"('got',)\": 0.0016750418760469012, \"('traded',)\": 0.0016750418760469012, \"('asked',)\": 0.0016750418760469012, \"('expected',)\": 0.0016750418760469012, \"('reported',)\": 0.0016750418760469012, \"('practiced',)\": 0.0016750418760469012, \"('judged',)\": 0.0016750418760469012, \"('provoked',)\": 0.0016750418760469012, \"('generated',)\": 0.0016750418760469012, \"('Regarded',)\": 0.0016750418760469012, \"('fueled',)\": 0.0016750418760469012, \"('alarmed',)\": 0.0016750418760469012, \"('attached',)\": 0.0016750418760469012, \"('assessed',)\": 0.0016750418760469012, \"('enclosed',)\": 0.0016750418760469012, \"('entered',)\": 0.0016750418760469012, \"('ensnarled',)\": 0.0016750418760469012, \"('handled',)\": 0.0016750418760469012, \"('come',)\": 0.0016750418760469012, \"('initiated',)\": 0.0016750418760469012, \"('shut',)\": 0.0016750418760469012, \"('exacerbated',)\": 0.0016750418760469012, \"('desired',)\": 0.0016750418760469012, \"('sustained',)\": 0.0016750418760469012, \"('quoted',)\": 0.0016750418760469012, \"('invented',)\": 0.0016750418760469012, \"('proposed',)\": 0.0016750418760469012, \"('received',)\": 0.0016750418760469012, \"('spent',)\": 0.0016750418760469012, \"('forgiven',)\": 0.0016750418760469012, \"('organized',)\": 0.0016750418760469012, \"('convicted',)\": 0.0016750418760469012, \"('considered',)\": 0.0016750418760469012, \"('watched',)\": 0.0016750418760469012, \"('capped',)\": 0.0016750418760469012, \"('Given',)\": 0.0016750418760469012, \"('improved',)\": 0.0016750418760469012, \"('prolonged',)\": 0.0016750418760469012, \"('awarded',)\": 0.0016750418760469012, \"('endorsed',)\": 0.0016750418760469012, \"('guaranteed',)\": 0.0016750418760469012, \"('tightened',)\": 0.0016750418760469012, \"('introduced',)\": 0.0016750418760469012, \"('populated',)\": 0.0016750418760469012, \"('reaped',)\": 0.0016750418760469012, \"('OFFERED',)\": 0.0016750418760469012, \"('missed',)\": 0.0016750418760469012, \"('halted',)\": 0.0016750418760469012, \"('left',)\": 0.0016750418760469012, \"('accounted',)\": 0.0016750418760469012, \"('incorporated',)\": 0.0016750418760469012, \"('removed',)\": 0.0016750418760469012, \"('voted',)\": 0.0016750418760469012, \"('pushed',)\": 0.0016750418760469012, \"('hurt',)\": 0.0016750418760469012, \"('moderated',)\": 0.0016750418760469012, \"('disappointed',)\": 0.0016750418760469012, \"('priced',)\": 0.0016750418760469012, \"('threatened',)\": 0.0016750418760469012, \"('commanded',)\": 0.0016750418760469012, \"('committed',)\": 0.0016750418760469012, \"('repaid',)\": 0.0016750418760469012, \"('codified',)\": 0.0016750418760469012, \"('empowered',)\": 0.0016750418760469012, \"('classed',)\": 0.0016750418760469012, \"('acquired',)\": 0.0016750418760469012, \"('treated',)\": 0.0016750418760469012, \"('interested',)\": 0.0016750418760469012, \"('diversified',)\": 0.0016750418760469012, \"('gone',)\": 0.0016750418760469012, \"('tailored',)\": 0.0016750418760469012, \"('rejected',)\": 0.0016750418760469012, \"('impaired',)\": 0.0016750418760469012, \"('discovered',)\": 0.0016750418760469012, \"('determined',)\": 0.0016750418760469012, \"('talked',)\": 0.0016750418760469012, \"('suspended',)\": 0.0016750418760469012, \"('answered',)\": 0.0016750418760469012, \"('positioned',)\": 0.0016750418760469012, \"('buoyed',)\": 0.0016750418760469012, \"('synchronized',)\": 0.0016750418760469012, \"('said',)\": 0.0016750418760469012, \"('preapproved',)\": 0.0016750418760469012, \"('subordinated',)\": 0.0016750418760469012, \"('assembled',)\": 0.0016750418760469012, \"('stoked',)\": 0.0016750418760469012, \"('produced',)\": 0.0016750418760469012, \"('deprived',)\": 0.0016750418760469012, \"('provided',)\": 0.0016750418760469012, \"('assisted',)\": 0.0016750418760469012, \"('prepared',)\": 0.0016750418760469012, \"('reached',)\": 0.0016750418760469012, \"('cast',)\": 0.0016750418760469012, \"('wasted',)\": 0.0016750418760469012, \"('compiled',)\": 0.0016750418760469012, \"('stressed',)\": 0.0016750418760469012, \"('understood',)\": 0.0016750418760469012, \"('discontinued',)\": 0.0016750418760469012, \"('expunged',)\": 0.0016750418760469012, \"('rated',)\": 0.0016750418760469012, \"('interviewed',)\": 0.0016750418760469012, \"('surveyed',)\": 0.0016750418760469012, \"('deteriorated',)\": 0.0016750418760469012, \"('existed',)\": 0.0016750418760469012, \"('assumed',)\": 0.0016750418760469012, \"('outpaced',)\": 0.0016750418760469012, \"('Related',)\": 0.0016750418760469012, \"('filled',)\": 0.0016750418760469012, \"('rolled',)\": 0.0016750418760469012, \"('tested',)\": 0.0016750418760469012, \"('Guaranteed',)\": 0.0016750418760469012, \"('replaced',)\": 0.0016750418760469012, \"('rooted',)\": 0.0016750418760469012, \"('forced',)\": 0.0016750418760469012, \"('won',)\": 0.0016750418760469012, \"('intended',)\": 0.0016750418760469012, \"('mollified',)\": 0.0016750418760469012, \"('drawn',)\": 0.0016750418760469012, \"('blamed',)\": 0.0016750418760469012, \"('respected',)\": 0.0016750418760469012, \"('formed',)\": 0.0016750418760469012, \"('clobbered',)\": 0.0016750418760469012, \"('colored',)\": 0.0016750418760469012, \"('tracked',)\": 0.0016750418760469012, \"('perceived',)\": 0.0016750418760469012, \"('drafted',)\": 0.0016750418760469012, \"('Rated',)\": 0.0016750418760469012, \"('dominated',)\": 0.0016750418760469012, \"('barred',)\": 0.0016750418760469012, \"('declared',)\": 0.0016750418760469012, \"('grown',)\": 0.0016750418760469012, \"('known',)\": 0.0016750418760469012, \"('lent',)\": 0.0016750418760469012, \"('scrapped',)\": 0.0016750418760469012, \"('closed',)\": 0.0016750418760469012, \"('zoomed',)\": 0.0016750418760469012, \"('described',)\": 0.0016750418760469012, \"('fired',)\": 0.0016750418760469012, \"('staid',)\": 0.0016750418760469012, \"('milked',)\": 0.0016750418760469012, \"('hired',)\": 0.0016750418760469012, \"('parched',)\": 0.0016750418760469012, \"('inflated',)\": 0.0016750418760469012, \"('exposed',)\": 0.0016750418760469012, \"('stopped',)\": 0.0016750418760469012, \"('tripled',)\": 0.0016750418760469012, \"('stated',)\": 0.0016750418760469012, \"('hampered',)\": 0.0016750418760469012, \"('favored',)\": 0.0016750418760469012, \"('loaded',)\": 0.0016750418760469012, \"('corrected',)\": 0.0016750418760469012, \"('rectified',)\": 0.0016750418760469012, \"('echoed',)\": 0.0016750418760469012, \"('equipped',)\": 0.0016750418760469012, \"('convinced',)\": 0.0016750418760469012, \"('polarized',)\": 0.0016750418760469012, \"('agreed',)\": 0.0016750418760469012, \"('spooked',)\": 0.0016750418760469012, \"('reduced',)\": 0.0016750418760469012, \"('relied',)\": 0.0016750418760469012, \"('escalated',)\": 0.0016750418760469012, \"('observed',)\": 0.0016750418760469012, \"('converted',)\": 0.0016750418760469012, \"('opposed',)\": 0.0016750418760469012, \"('scheduled',)\": 0.0016750418760469012, \"('diagnosed',)\": 0.0016750418760469012, \"('clamped',)\": 0.0016750418760469012, \"('kicked',)\": 0.0016750418760469012, \"('serviced',)\": 0.0016750418760469012, \"('enacted',)\": 0.0016750418760469012, \"('minted',)\": 0.0016750418760469012, \"('manufactured',)\": 0.0016750418760469012, \"('become',)\": 0.0016750418760469012, \"('issued',)\": 0.0016750418760469012, \"('relegated',)\": 0.0016750418760469012, \"('based',)\": 0.0016750418760469012, \"('tanked',)\": 0.0016750418760469012, \"('insured',)\": 0.0016750418760469012, \"('diminished',)\": 0.0016750418760469012, \"('viewed',)\": 0.0016750418760469012, \"('contacted',)\": 0.0016750418760469012, \"('UPHELD',)\": 0.0016750418760469012, \"('shipped',)\": 0.0016750418760469012, \"('headlined',)\": 0.0016750418760469012, \"('hunted',)\": 0.0016750418760469012, \"('attracted',)\": 0.0016750418760469012, \"('upheld',)\": 0.0016750418760469012, \"('mixed',)\": 0.0016750418760469012, \"('expanded',)\": 0.0016750418760469012, \"('supported',)\": 0.0016750418760469012, \"('targeted',)\": 0.0016750418760469012, \"('surged',)\": 0.0016750418760469012, \"('lost',)\": 0.0016750418760469012, \"('passed',)\": 0.0016750418760469012, \"('unsettled',)\": 0.0016750418760469012, \"('cushioned',)\": 0.0016750418760469012, \"('killed',)\": 0.0016750418760469012, \"('triggered',)\": 0.0016750418760469012, \"('alienated',)\": 0.0016750418760469012, \"('fattened',)\": 0.0016750418760469012, \"('responded',)\": 0.0016750418760469012, \"('decorated',)\": 0.0016750418760469012, \"('discussed',)\": 0.0016750418760469012, \"('flirted',)\": 0.0016750418760469012, \"('requested',)\": 0.0016750418760469012, \"('burned',)\": 0.0016750418760469012, \"('incurred',)\": 0.0016750418760469012, \"('depressed',)\": 0.0016750418760469012, \"('allocated',)\": 0.0016750418760469012, \"('expressed',)\": 0.0016750418760469012, \"('spurred',)\": 0.0016750418760469012, \"('instructed',)\": 0.0016750418760469012, \"('proved',)\": 0.0016750418760469012, \"('Stung',)\": 0.0016750418760469012, \"('maintained',)\": 0.0016750418760469012, \"('run',)\": 0.0016750418760469012, \"('disclosed',)\": 0.0016750418760469012, \"('announced',)\": 0.0016750418760469012, \"('strapped',)\": 0.0016750418760469012, \"('construed',)\": 0.0016750418760469012, \"('chastised',)\": 0.0016750418760469012, \"('led',)\": 0.0016750418760469012, \"('damaged',)\": 0.0016750418760469012, \"('found',)\": 0.0016750418760469012, \"('pursued',)\": 0.0016750418760469012, \"('heated',)\": 0.0016750418760469012, \"('frightened',)\": 0.0016750418760469012, \"('offset',)\": 0.0016750418760469012, \"('risen',)\": 0.0016750418760469012, \"('needed',)\": 0.0016750418760469012, \"('romanticized',)\": 0.0016750418760469012, \"('Concerned',)\": 0.0016750418760469012, \"('competed',)\": 0.0016750418760469012, \"('contributed',)\": 0.0016750418760469012, \"('altered',)\": 0.0016750418760469012, \"('owed',)\": 0.0016750418760469012, \"('made',)\": 0.0016750418760469012, \"('performed',)\": 0.0016750418760469012, \"('wanted',)\": 0.0016750418760469012, \"('accumulated',)\": 0.0016750418760469012, \"('elected',)\": 0.0016750418760469012, \"('launched',)\": 0.0016750418760469012, \"('ordered',)\": 0.0016750418760469012, \"('studied',)\": 0.0016750418760469012, \"('stabbed',)\": 0.0016750418760469012, \"('trained',)\": 0.0016750418760469012, \"('related',)\": 0.0016750418760469012, \"('collected',)\": 0.0016750418760469012, \"('covered',)\": 0.0016750418760469012, \"('installed',)\": 0.0016750418760469012, \"('chosen',)\": 0.0016750418760469012, \"('preferred',)\": 0.0016750418760469012, \"('valued',)\": 0.0016750418760469012, \"('publicized',)\": 0.0016750418760469012, \"('backed',)\": 0.0016750418760469012, \"('documented',)\": 0.0016750418760469012, \"('placed',)\": 0.0016750418760469012, \"('abandoned',)\": 0.0016750418760469012, \"('fed',)\": 0.0016750418760469012, \"('replicated',)\": 0.0016750418760469012, \"('vowed',)\": 0.0016750418760469012, \"('crowded',)\": 0.0016750418760469012, \"('funded',)\": 0.0016750418760469012, \"('been',)\": 0.0016750418760469012, \"('Founded',)\": 0.0016750418760469012, \"('managed',)\": 0.0016750418760469012, \"('knitted',)\": 0.0016750418760469012, \"('purchased',)\": 0.0016750418760469012, \"('Left',)\": 0.0016750418760469012, \"('adjusted',)\": 0.0016750418760469012, \"('stripped',)\": 0.0016750418760469012, \"('squeezed',)\": 0.0016750418760469012, \"('designated',)\": 0.0016750418760469012, \"('completed',)\": 0.0016750418760469012, \"('founded',)\": 0.0016750418760469012, \"('advertised',)\": 0.0016750418760469012, \"('caused',)\": 0.0016750418760469012, \"('developed',)\": 0.0016750418760469012, \"('lifted',)\": 0.0016750418760469012, \"('denied',)\": 0.0016750418760469012, \"('twinned',)\": 0.0016750418760469012, \"('dressed',)\": 0.0016750418760469012, \"('feared',)\": 0.0016750418760469012, \"('crossed',)\": 0.0016750418760469012, \"('appropriated',)\": 0.0016750418760469012, \"('painted',)\": 0.0016750418760469012, \"('harmed',)\": 0.0016750418760469012, \"('returned',)\": 0.0016750418760469012, \"('allowed',)\": 0.0016750418760469012, \"('noted',)\": 0.0016750418760469012, \"('changed',)\": 0.0016750418760469012, \"('enjoyed',)\": 0.0016750418760469012, \"('had',)\": 0.0016750418760469012, \"('pegged',)\": 0.0016750418760469012, \"('characterized',)\": 0.0016750418760469012, \"('mired',)\": 0.0016750418760469012, \"('employed',)\": 0.0016750418760469012, \"('orchestrated',)\": 0.0016750418760469012, \"('refunded',)\": 0.0016750418760469012, \"('applied',)\": 0.0016750418760469012, \"('helped',)\": 0.0016750418760469012, \"('continued',)\": 0.0016750418760469012, \"('pressed',)\": 0.0016750418760469012, \"('justified',)\": 0.0016750418760469012, \"('aimed',)\": 0.0016750418760469012, \"('amended',)\": 0.0016750418760469012, \"('nurtured',)\": 0.0016750418760469012, \"('soared',)\": 0.0016750418760469012, \"('recycled',)\": 0.0016750418760469012, \"('redeemed',)\": 0.0016750418760469012, \"('hit',)\": 0.0016750418760469012, \"('enhanced',)\": 0.0016750418760469012, \"('accused',)\": 0.0016750418760469012, \"('cited',)\": 0.0016750418760469012, \"('disapproved',)\": 0.0016750418760469012, \"('predicated',)\": 0.0016750418760469012, \"('Provided',)\": 0.0016750418760469012, \"('released',)\": 0.0016750418760469012, \"('exhibited',)\": 0.0016750418760469012, \"('assured',)\": 0.0016750418760469012, \"('linked',)\": 0.0016750418760469012, \"('represented',)\": 0.0016750418760469012, \"('added',)\": 0.0016750418760469012, \"('invested',)\": 0.0016750418760469012, \"('touted',)\": 0.0016750418760469012, \"('chilled',)\": 0.0016750418760469012, \"('mailed',)\": 0.0016750418760469012, \"('confirmed',)\": 0.0016750418760469012, \"('inserted',)\": 0.0016750418760469012, \"('heard',)\": 0.0016750418760469012, \"('held',)\": 0.0016750418760469012, \"('swapped',)\": 0.0016750418760469012, \"('shaken',)\": 0.0016750418760469012, \"('stepped',)\": 0.0016750418760469012, \"('robbed',)\": 0.0016750418760469012, \"('contained',)\": 0.0016750418760469012, \"('mounted',)\": 0.0016750418760469012, \"('engineered',)\": 0.0016750418760469012, \"('coupled',)\": 0.0016750418760469012, \"('regulated',)\": 0.0016750418760469012, \"('sparked',)\": 0.0016750418760469012, \"('prohibited',)\": 0.0016750418760469012, \"('complained',)\": 0.0016750418760469012, \"('executed',)\": 0.0016750418760469012, \"('involved',)\": 0.0016750418760469012, \"('set',)\": 0.0016750418760469012, \"('integrated',)\": 0.0016750418760469012, \"('rationed',)\": 0.0016750418760469012, \"('served',)\": 0.0016750418760469012, \"('argued',)\": 0.0016750418760469012, \"('climbed',)\": 0.0016750418760469012, \"('located',)\": 0.0016750418760469012, \"('died',)\": 0.0016750418760469012, \"('started',)\": 0.0016750418760469012, \"('accelerated',)\": 0.0016750418760469012, \"('built',)\": 0.0016750418760469012, \"('Estimated',)\": 0.0016750418760469012, \"('imported',)\": 0.0016750418760469012, \"('seen',)\": 0.0016750418760469012, \"('kept',)\": 0.0016750418760469012, \"('prosecuted',)\": 0.0016750418760469012, \"('renewed',)\": 0.0016750418760469012, \"('oriented',)\": 0.0016750418760469012, \"('required',)\": 0.0016750418760469012, \"('caught',)\": 0.0016750418760469012, \"('hidden',)\": 0.0016750418760469012, \"('reallocated',)\": 0.0016750418760469012, \"('anticipated',)\": 0.0016750418760469012, \"('scrambled',)\": 0.0016750418760469012, \"('skyrocketed',)\": 0.0016750418760469012, \"('connected',)\": 0.0016750418760469012, \"('earned',)\": 0.0016750418760469012, \"('referred',)\": 0.0016750418760469012, \"('revived',)\": 0.0016750418760469012, \"('structured',)\": 0.0016750418760469012, \"('instituted',)\": 0.0016750418760469012, \"('played',)\": 0.0016750418760469012, \"('included',)\": 0.0016750418760469012, \"('overpriced',)\": 0.0016750418760469012, \"('exercised',)\": 0.0016750418760469012, \"('dropped',)\": 0.0016750418760469012, \"('rarefied',)\": 0.0016750418760469012, \"('divided',)\": 0.0016750418760469012, \"('specified',)\": 0.0016750418760469012, \"('entrenched',)\": 0.0016750418760469012, \"('absorbed',)\": 0.0016750418760469012, \"('entrusted',)\": 0.0016750418760469012, \"('tied',)\": 0.0016750418760469012, \"('given',)\": 0.0016750418760469012, \"('locked',)\": 0.0016750418760469012, \"('filed',)\": 0.0016750418760469012, \"('chopped',)\": 0.0016750418760469012, \"('regarded',)\": 0.0016750418760469012, \"('impressed',)\": 0.0016750418760469012, \"('met',)\": 0.0016750418760469012, \"('upset',)\": 0.0016750418760469012, \"('paid',)\": 0.0016750418760469012, \"('mentioned',)\": 0.0016750418760469012, \"('proven',)\": 0.0016750418760469012, \"('lowered',)\": 0.0016750418760469012, \"('fined',)\": 0.0016750418760469012, \"('exhausted',)\": 0.0016750418760469012, \"('gotten',)\": 0.0016750418760469012, \"('welcomed',)\": 0.0016750418760469012, \"('postponed',)\": 0.0016750418760469012, \"('brought',)\": 0.0016750418760469012, \"('obsessed',)\": 0.0016750418760469012, \"('withdrawn',)\": 0.0016750418760469012, \"('faced',)\": 0.0016750418760469012, \"('collapsed',)\": 0.0016750418760469012, \"('infringed',)\": 0.0016750418760469012, \"('owned',)\": 0.0016750418760469012, \"('begun',)\": 0.0016750418760469012, \"('remarked',)\": 0.0016750418760469012, \"('obtained',)\": 0.0016750418760469012, \"('Posted',)\": 0.0016750418760469012, \"('secured',)\": 0.0016750418760469012, \"('discarded',)\": 0.0016750418760469012, \"('marketed',)\": 0.0016750418760469012, \"('assigned',)\": 0.0016750418760469012, \"('combined',)\": 0.0016750418760469012, \"('Rekindled',)\": 0.0016750418760469012, \"('flooded',)\": 0.0016750418760469012, \"('defined',)\": 0.0016750418760469012, \"('plunged',)\": 0.0016750418760469012, \"('condemned',)\": 0.0016750418760469012, \"('surprised',)\": 0.0016750418760469012, \"('advised',)\": 0.0016750418760469012, \"('excited',)\": 0.0016750418760469012, '<unk>': 0.0016750418760469012}\n",
      "[RB] {\"('nonetheless',)\": 0.0024154589371980675, \"('basically',)\": 0.0024154589371980675, \"('approximately',)\": 0.0024154589371980675, \"('last',)\": 0.0024154589371980675, \"('yet',)\": 0.0024154589371980675, \"('Some',)\": 0.0024154589371980675, \"('now',)\": 0.0024154589371980675, \"('fine',)\": 0.0024154589371980675, \"('ahead',)\": 0.0024154589371980675, \"('all',)\": 0.0024154589371980675, \"('gradually',)\": 0.0024154589371980675, \"('around',)\": 0.0024154589371980675, \"('high',)\": 0.0024154589371980675, \"('exceedingly',)\": 0.0024154589371980675, \"('Nevertheless',)\": 0.0024154589371980675, \"('single-handedly',)\": 0.0024154589371980675, \"('already',)\": 0.0024154589371980675, \"('allegedly',)\": 0.0024154589371980675, \"('rhythmically',)\": 0.0024154589371980675, \"('precisely',)\": 0.0024154589371980675, \"('officially',)\": 0.0024154589371980675, \"('smoothly',)\": 0.0024154589371980675, \"('Altogether',)\": 0.0024154589371980675, \"('roughly',)\": 0.0024154589371980675, \"('well',)\": 0.0024154589371980675, \"('likely',)\": 0.0024154589371980675, \"('above',)\": 0.0024154589371980675, \"('seriously',)\": 0.0024154589371980675, \"('illegally',)\": 0.0024154589371980675, \"('smartly',)\": 0.0024154589371980675, \"('easily',)\": 0.0024154589371980675, \"('partly',)\": 0.0024154589371980675, \"('Little',)\": 0.0024154589371980675, \"('strongly',)\": 0.0024154589371980675, \"('Recently',)\": 0.0024154589371980675, \"('prospectively',)\": 0.0024154589371980675, \"('sometimes',)\": 0.0024154589371980675, \"('fairly',)\": 0.0024154589371980675, \"('hither',)\": 0.0024154589371980675, \"('badly',)\": 0.0024154589371980675, \"('meanwhile',)\": 0.0024154589371980675, \"('notably',)\": 0.0024154589371980675, \"('constantly',)\": 0.0024154589371980675, \"('fast',)\": 0.0024154589371980675, \"('still',)\": 0.0024154589371980675, \"('back',)\": 0.0024154589371980675, \"('universally',)\": 0.0024154589371980675, \"('frankly',)\": 0.0024154589371980675, \"('elsewhere',)\": 0.0024154589371980675, \"('effectively',)\": 0.0024154589371980675, \"('hardly',)\": 0.0024154589371980675, \"('abroad',)\": 0.0024154589371980675, \"('Even',)\": 0.0024154589371980675, \"('consistently',)\": 0.0024154589371980675, \"('Mostly',)\": 0.0024154589371980675, \"('enormously',)\": 0.0024154589371980675, \"('very',)\": 0.0024154589371980675, \"('Rather',)\": 0.0024154589371980675, \"('rather',)\": 0.0024154589371980675, \"('essentially',)\": 0.0024154589371980675, \"('highly',)\": 0.0024154589371980675, \"('predictably',)\": 0.0024154589371980675, \"('possibly',)\": 0.0024154589371980675, \"('newly',)\": 0.0024154589371980675, \"('dramatically',)\": 0.0024154589371980675, \"('Once',)\": 0.0024154589371980675, \"('spectacularly',)\": 0.0024154589371980675, \"('promptly',)\": 0.0024154589371980675, \"('instead',)\": 0.0024154589371980675, \"('structurally',)\": 0.0024154589371980675, \"('traditionally',)\": 0.0024154589371980675, \"('prominently',)\": 0.0024154589371980675, \"('darned',)\": 0.0024154589371980675, \"('mistakenly',)\": 0.0024154589371980675, \"('clearly',)\": 0.0024154589371980675, \"('frequently',)\": 0.0024154589371980675, \"('downward',)\": 0.0024154589371980675, \"('home',)\": 0.0024154589371980675, \"('plus',)\": 0.0024154589371980675, \"('downright',)\": 0.0024154589371980675, \"('historically',)\": 0.0024154589371980675, \"('domestically',)\": 0.0024154589371980675, \"('upstream',)\": 0.0024154589371980675, \"('No',)\": 0.0024154589371980675, \"('alternatively',)\": 0.0024154589371980675, \"('properly',)\": 0.0024154589371980675, \"('Traditionally',)\": 0.0024154589371980675, \"('apiece',)\": 0.0024154589371980675, \"('accidentally',)\": 0.0024154589371980675, \"('Always',)\": 0.0024154589371980675, \"('simultaneously',)\": 0.0024154589371980675, \"('ever',)\": 0.0024154589371980675, \"('slightly',)\": 0.0024154589371980675, \"('close',)\": 0.0024154589371980675, \"('much',)\": 0.0024154589371980675, \"('especially',)\": 0.0024154589371980675, \"('because',)\": 0.0024154589371980675, \"('here',)\": 0.0024154589371980675, \"('prior',)\": 0.0024154589371980675, \"('drastically',)\": 0.0024154589371980675, \"('that',)\": 0.0024154589371980675, \"('Much',)\": 0.0024154589371980675, \"('Invariably',)\": 0.0024154589371980675, \"('lately',)\": 0.0024154589371980675, \"('successfully',)\": 0.0024154589371980675, \"('short',)\": 0.0024154589371980675, \"('relentlessly',)\": 0.0024154589371980675, \"('harshly',)\": 0.0024154589371980675, \"('moreover',)\": 0.0024154589371980675, \"('yon',)\": 0.0024154589371980675, \"('Also',)\": 0.0024154589371980675, \"('voluntarily',)\": 0.0024154589371980675, \"('slowly',)\": 0.0024154589371980675, \"('normally',)\": 0.0024154589371980675, \"('closely',)\": 0.0024154589371980675, \"('Back',)\": 0.0024154589371980675, \"('sufficiently',)\": 0.0024154589371980675, \"('narrowly',)\": 0.0024154589371980675, \"('excessively',)\": 0.0024154589371980675, \"('awfully',)\": 0.0024154589371980675, \"('tentatively',)\": 0.0024154589371980675, \"('tight',)\": 0.0024154589371980675, \"('not',)\": 0.0024154589371980675, \"('but',)\": 0.0024154589371980675, \"('fractionally',)\": 0.0024154589371980675, \"('increasingly',)\": 0.0024154589371980675, \"('up',)\": 0.0024154589371980675, \"('yes',)\": 0.0024154589371980675, \"('also',)\": 0.0024154589371980675, \"('rarely',)\": 0.0024154589371980675, \"('Virtually',)\": 0.0024154589371980675, \"('almost',)\": 0.0024154589371980675, \"('never',)\": 0.0024154589371980675, \"('equally',)\": 0.0024154589371980675, \"('financially',)\": 0.0024154589371980675, \"('strictly',)\": 0.0024154589371980675, \"('actively',)\": 0.0024154589371980675, \"('chiefly',)\": 0.0024154589371980675, \"('afterwards',)\": 0.0024154589371980675, \"('extremely',)\": 0.0024154589371980675, \"('modestly',)\": 0.0024154589371980675, \"('shortly',)\": 0.0024154589371980675, \"('always',)\": 0.0024154589371980675, \"('Certainly',)\": 0.0024154589371980675, \"('mentally',)\": 0.0024154589371980675, \"('then',)\": 0.0024154589371980675, \"('Again',)\": 0.0024154589371980675, \"('Currently',)\": 0.0024154589371980675, \"('jointly',)\": 0.0024154589371980675, \"('heavily',)\": 0.0024154589371980675, \"('openly',)\": 0.0024154589371980675, \"('repeatedly',)\": 0.0024154589371980675, \"('evenly',)\": 0.0024154589371980675, \"('largely',)\": 0.0024154589371980675, \"('wildly',)\": 0.0024154589371980675, \"('longer',)\": 0.0024154589371980675, \"('really',)\": 0.0024154589371980675, \"('carefully',)\": 0.0024154589371980675, \"('stocks',)\": 0.0024154589371980675, \"('indefinitely',)\": 0.0024154589371980675, \"('Similarly',)\": 0.0024154589371980675, \"('surely',)\": 0.0024154589371980675, \"('upside',)\": 0.0024154589371980675, \"('ago',)\": 0.0024154589371980675, \"('Probably',)\": 0.0024154589371980675, \"('namely',)\": 0.0024154589371980675, \"('far',)\": 0.0024154589371980675, \"('initially',)\": 0.0024154589371980675, \"('favorably',)\": 0.0024154589371980675, \"('technically',)\": 0.0024154589371980675, \"('Sometimes',)\": 0.0024154589371980675, \"('overseas',)\": 0.0024154589371980675, \"('everywhere',)\": 0.0024154589371980675, \"('any',)\": 0.0024154589371980675, \"('relatively',)\": 0.0024154589371980675, \"('So',)\": 0.0024154589371980675, \"('once',)\": 0.0024154589371980675, \"('vice',)\": 0.0024154589371980675, \"('apart',)\": 0.0024154589371980675, \"('nearby',)\": 0.0024154589371980675, \"('Moreover',)\": 0.0024154589371980675, \"('seasonally',)\": 0.0024154589371980675, \"('surreptitiously',)\": 0.0024154589371980675, \"('invariably',)\": 0.0024154589371980675, \"('Sure',)\": 0.0024154589371980675, \"('Shortly',)\": 0.0024154589371980675, \"('therefore',)\": 0.0024154589371980675, \"('early',)\": 0.0024154589371980675, \"('sooner',)\": 0.0024154589371980675, \"('beforehand',)\": 0.0024154589371980675, \"('faultlessly',)\": 0.0024154589371980675, \"('Previously',)\": 0.0024154589371980675, \"('triple',)\": 0.0024154589371980675, \"('alone',)\": 0.0024154589371980675, \"('Just',)\": 0.0024154589371980675, \"('madly',)\": 0.0024154589371980675, \"('over',)\": 0.0024154589371980675, \"('merely',)\": 0.0024154589371980675, \"('no',)\": 0.0024154589371980675, \"('scarcely',)\": 0.0024154589371980675, \"('annually',)\": 0.0024154589371980675, \"('Often',)\": 0.0024154589371980675, \"('Nonetheless',)\": 0.0024154589371980675, \"('Further',)\": 0.0024154589371980675, \"('widely',)\": 0.0024154589371980675, \"('Far',)\": 0.0024154589371980675, \"('skyward',)\": 0.0024154589371980675, \"('aggressively',)\": 0.0024154589371980675, \"('Then',)\": 0.0024154589371980675, \"('out',)\": 0.0024154589371980675, \"('eventually',)\": 0.0024154589371980675, \"('absolutely',)\": 0.0024154589371980675, \"('earlier',)\": 0.0024154589371980675, \"('informally',)\": 0.0024154589371980675, \"('away',)\": 0.0024154589371980675, \"('unrealistically',)\": 0.0024154589371980675, \"('else',)\": 0.0024154589371980675, \"('differently',)\": 0.0024154589371980675, \"('robustly',)\": 0.0024154589371980675, \"('However',)\": 0.0024154589371980675, \"('directly',)\": 0.0024154589371980675, \"('hopefully',)\": 0.0024154589371980675, \"('sure',)\": 0.0024154589371980675, \"('marvelously',)\": 0.0024154589371980675, \"('Perhaps',)\": 0.0024154589371980675, \"('marginally',)\": 0.0024154589371980675, \"('potentially',)\": 0.0024154589371980675, \"('exclusively',)\": 0.0024154589371980675, \"('Almost',)\": 0.0024154589371980675, \"('Already',)\": 0.0024154589371980675, \"('either',)\": 0.0024154589371980675, \"('scrupulously',)\": 0.0024154589371980675, \"('wide',)\": 0.0024154589371980675, \"('accurately',)\": 0.0024154589371980675, \"('mechanically',)\": 0.0024154589371980675, \"('maybe',)\": 0.0024154589371980675, \"('presumably',)\": 0.0024154589371980675, \"('probably',)\": 0.0024154589371980675, \"('editorially',)\": 0.0024154589371980675, \"('together',)\": 0.0024154589371980675, \"('stringently',)\": 0.0024154589371980675, \"('again',)\": 0.0024154589371980675, \"('after',)\": 0.0024154589371980675, \"('manually',)\": 0.0024154589371980675, \"('in',)\": 0.0024154589371980675, \"('entirely',)\": 0.0024154589371980675, \"('vertically',)\": 0.0024154589371980675, \"('for',)\": 0.0024154589371980675, \"('however',)\": 0.0024154589371980675, \"('significantly',)\": 0.0024154589371980675, \"('Particularly',)\": 0.0024154589371980675, \"('rapidly',)\": 0.0024154589371980675, \"('Unfortunately',)\": 0.0024154589371980675, \"('Thus',)\": 0.0024154589371980675, \"('recently',)\": 0.0024154589371980675, \"('locally',)\": 0.0024154589371980675, \"('just',)\": 0.0024154589371980675, \"('nearly',)\": 0.0024154589371980675, \"('long',)\": 0.0024154589371980675, \"('finally',)\": 0.0024154589371980675, \"('anytime',)\": 0.0024154589371980675, \"('formerly',)\": 0.0024154589371980675, \"('broadly',)\": 0.0024154589371980675, \"('continually',)\": 0.0024154589371980675, \"('usually',)\": 0.0024154589371980675, \"('moderately',)\": 0.0024154589371980675, \"('typically',)\": 0.0024154589371980675, \"('Typically',)\": 0.0024154589371980675, \"('perhaps',)\": 0.0024154589371980675, \"('Soon',)\": 0.0024154589371980675, \"('somehow',)\": 0.0024154589371980675, \"('derisively',)\": 0.0024154589371980675, \"('little',)\": 0.0024154589371980675, \"('so',)\": 0.0024154589371980675, \"('poorly',)\": 0.0024154589371980675, \"('immediately',)\": 0.0024154589371980675, \"('though',)\": 0.0024154589371980675, \"('apparently',)\": 0.0024154589371980675, \"('Indeed',)\": 0.0024154589371980675, \"('LATE',)\": 0.0024154589371980675, \"('unsuccessfully',)\": 0.0024154589371980675, \"('Yet',)\": 0.0024154589371980675, \"('there',)\": 0.0024154589371980675, \"('straight',)\": 0.0024154589371980675, \"('indeed',)\": 0.0024154589371980675, \"('radically',)\": 0.0024154589371980675, \"('about',)\": 0.0024154589371980675, \"('n't',)\": 0.0024154589371980675, \"('duly',)\": 0.0024154589371980675, \"('before',)\": 0.0024154589371980675, \"('brilliantly',)\": 0.0024154589371980675, \"('Frankly',)\": 0.0024154589371980675, \"('obviously',)\": 0.0024154589371980675, \"('adequately',)\": 0.0024154589371980675, \"('down',)\": 0.0024154589371980675, \"('inaccurately',)\": 0.0024154589371980675, \"('on',)\": 0.0024154589371980675, \"('supposedly',)\": 0.0024154589371980675, \"('Partly',)\": 0.0024154589371980675, \"('substantially',)\": 0.0024154589371980675, \"('altogether',)\": 0.0024154589371980675, \"('fully',)\": 0.0024154589371980675, \"('quickly',)\": 0.0024154589371980675, \"('exactly',)\": 0.0024154589371980675, \"('Only',)\": 0.0024154589371980675, \"('swiftly',)\": 0.0024154589371980675, \"('Now',)\": 0.0024154589371980675, \"('utterly',)\": 0.0024154589371980675, \"('deeply',)\": 0.0024154589371980675, \"('sharply',)\": 0.0024154589371980675, \"('Too',)\": 0.0024154589371980675, \"('tenfold',)\": 0.0024154589371980675, \"('nowhere',)\": 0.0024154589371980675, \"('originally',)\": 0.0024154589371980675, \"('Prior',)\": 0.0024154589371980675, \"('privately',)\": 0.0024154589371980675, \"('generally',)\": 0.0024154589371980675, \"('late',)\": 0.0024154589371980675, \"('right',)\": 0.0024154589371980675, \"('considerably',)\": 0.0024154589371980675, \"('vitally',)\": 0.0024154589371980675, \"('necessarily',)\": 0.0024154589371980675, \"('fundamentally',)\": 0.0024154589371980675, \"('exceptionally',)\": 0.0024154589371980675, \"('publicly',)\": 0.0024154589371980675, \"('intimately',)\": 0.0024154589371980675, \"('soon',)\": 0.0024154589371980675, \"('federally',)\": 0.0024154589371980675, \"('profitably',)\": 0.0024154589371980675, \"('globally',)\": 0.0024154589371980675, \"('particularly',)\": 0.0024154589371980675, \"('newsweekly',)\": 0.0024154589371980675, \"('Totally',)\": 0.0024154589371980675, \"('actually',)\": 0.0024154589371980675, \"('Separately',)\": 0.0024154589371980675, \"('clear',)\": 0.0024154589371980675, \"('After',)\": 0.0024154589371980675, \"('separately',)\": 0.0024154589371980675, \"('as',)\": 0.0024154589371980675, \"('surprisingly',)\": 0.0024154589371980675, \"('low',)\": 0.0024154589371980675, \"('personally',)\": 0.0024154589371980675, \"('Right',)\": 0.0024154589371980675, \"('tidily',)\": 0.0024154589371980675, \"('desperately',)\": 0.0024154589371980675, \"('Not',)\": 0.0024154589371980675, \"('certainly',)\": 0.0024154589371980675, \"('often',)\": 0.0024154589371980675, \"('p.m',)\": 0.0024154589371980675, \"('mainly',)\": 0.0024154589371980675, \"('As',)\": 0.0024154589371980675, \"('Still',)\": 0.0024154589371980675, \"('Late',)\": 0.0024154589371980675, \"('mostly',)\": 0.0024154589371980675, \"('solely',)\": 0.0024154589371980675, \"('by',)\": 0.0024154589371980675, \"('primarily',)\": 0.0024154589371980675, \"('even',)\": 0.0024154589371980675, \"('honorably',)\": 0.0024154589371980675, \"('thus',)\": 0.0024154589371980675, \"('reportedly',)\": 0.0024154589371980675, \"('previously',)\": 0.0024154589371980675, \"('completely',)\": 0.0024154589371980675, \"('laboriously',)\": 0.0024154589371980675, \"('expressly',)\": 0.0024154589371980675, \"('anywhere',)\": 0.0024154589371980675, \"('flat',)\": 0.0024154589371980675, \"('off',)\": 0.0024154589371980675, \"('virtually',)\": 0.0024154589371980675, \"('enough',)\": 0.0024154589371980675, \"('unbearably',)\": 0.0024154589371980675, \"('twice',)\": 0.0024154589371980675, \"('Here',)\": 0.0024154589371980675, \"('Maybe',)\": 0.0024154589371980675, \"('alike',)\": 0.0024154589371980675, \"('perfectly',)\": 0.0024154589371980675, \"('quite',)\": 0.0024154589371980675, \"('studiously',)\": 0.0024154589371980675, \"('forward',)\": 0.0024154589371980675, \"('politely',)\": 0.0024154589371980675, \"('Financially',)\": 0.0024154589371980675, \"('hydraulically',)\": 0.0024154589371980675, \"('too',)\": 0.0024154589371980675, \"('amazingly',)\": 0.0024154589371980675, \"('occasionally',)\": 0.0024154589371980675, \"('free',)\": 0.0024154589371980675, \"('Instead',)\": 0.0024154589371980675, \"('steadily',)\": 0.0024154589371980675, \"('currently',)\": 0.0024154589371980675, \"('further',)\": 0.0024154589371980675, \"('only',)\": 0.0024154589371980675, \"('Academically',)\": 0.0024154589371980675, \"('Meanwhile',)\": 0.0024154589371980675, \"('pretty',)\": 0.0024154589371980675, \"('ultimately',)\": 0.0024154589371980675, \"('slow',)\": 0.0024154589371980675, \"('unusually',)\": 0.0024154589371980675, \"('first',)\": 0.0024154589371980675, \"('damn',)\": 0.0024154589371980675, \"('inherently',)\": 0.0024154589371980675, \"('partially',)\": 0.0024154589371980675, \"('hard',)\": 0.0024154589371980675, \"('greatly',)\": 0.0024154589371980675, \"('below',)\": 0.0024154589371980675, \"('purely',)\": 0.0024154589371980675, \"('temporarily',)\": 0.0024154589371980675, \"('continuously',)\": 0.0024154589371980675, \"('Actually',)\": 0.0024154589371980675, \"('simply',)\": 0.0024154589371980675, \"('unfairly',)\": 0.0024154589371980675, \"('cautiously',)\": 0.0024154589371980675, \"('anyway',)\": 0.0024154589371980675, \"('suddenly',)\": 0.0024154589371980675, '<unk>': 0.0024154589371980675}\n",
      "[JJ] {\"('verbatim',)\": 0.0006605019815059445, \"('Outside',)\": 0.0006605019815059445, \"('six-month',)\": 0.0006605019815059445, \"('photographic',)\": 0.0006605019815059445, \"('troubled',)\": 0.0006605019815059445, \"('meaningful',)\": 0.0006605019815059445, \"('clear',)\": 0.0006605019815059445, \"('disaster-assistance',)\": 0.0006605019815059445, \"('partisan',)\": 0.0006605019815059445, \"('test-practice',)\": 0.0006605019815059445, \"('city-owned',)\": 0.0006605019815059445, \"('wild',)\": 0.0006605019815059445, \"('overnight',)\": 0.0006605019815059445, \"('quarterly',)\": 0.0006605019815059445, \"('unattractive',)\": 0.0006605019815059445, \"('omnipresent',)\": 0.0006605019815059445, \"('prominent',)\": 0.0006605019815059445, \"('computer-generated',)\": 0.0006605019815059445, \"('sprawling',)\": 0.0006605019815059445, \"('youthful',)\": 0.0006605019815059445, \"('disproportionate',)\": 0.0006605019815059445, \"('venerable',)\": 0.0006605019815059445, \"('socialist',)\": 0.0006605019815059445, \"('year-long',)\": 0.0006605019815059445, \"('overleveraged',)\": 0.0006605019815059445, \"('valuable',)\": 0.0006605019815059445, \"('blind',)\": 0.0006605019815059445, \"('real',)\": 0.0006605019815059445, \"('interior',)\": 0.0006605019815059445, \"('20-point',)\": 0.0006605019815059445, \"('computer-aided',)\": 0.0006605019815059445, \"('uncharted',)\": 0.0006605019815059445, \"('unmarked',)\": 0.0006605019815059445, \"('two-time-losers',)\": 0.0006605019815059445, \"('the',)\": 0.0006605019815059445, \"('two-tiered',)\": 0.0006605019815059445, \"('nine-member',)\": 0.0006605019815059445, \"('immediate',)\": 0.0006605019815059445, \"('pro-democracy',)\": 0.0006605019815059445, \"('assistant',)\": 0.0006605019815059445, \"('judicial',)\": 0.0006605019815059445, \"('good-natured',)\": 0.0006605019815059445, \"('familiar',)\": 0.0006605019815059445, \"('stark',)\": 0.0006605019815059445, \"('truthful',)\": 0.0006605019815059445, \"('outrageous',)\": 0.0006605019815059445, \"('travel-related',)\": 0.0006605019815059445, \"('Odd-year',)\": 0.0006605019815059445, \"('unusual',)\": 0.0006605019815059445, \"('true',)\": 0.0006605019815059445, \"('careful',)\": 0.0006605019815059445, \"('Reagan-Bush',)\": 0.0006605019815059445, \"('outraged',)\": 0.0006605019815059445, \"('line-item',)\": 0.0006605019815059445, \"('50-state',)\": 0.0006605019815059445, \"('much',)\": 0.0006605019815059445, \"('long-term',)\": 0.0006605019815059445, \"('Corporate',)\": 0.0006605019815059445, \"('Skilled',)\": 0.0006605019815059445, \"('great',)\": 0.0006605019815059445, \"('eight-count',)\": 0.0006605019815059445, \"('parallel',)\": 0.0006605019815059445, \"('available',)\": 0.0006605019815059445, \"('upward',)\": 0.0006605019815059445, \"('state-supervised',)\": 0.0006605019815059445, \"('disturbing',)\": 0.0006605019815059445, \"('crude',)\": 0.0006605019815059445, \"('NIH-appointed',)\": 0.0006605019815059445, \"('hierarchical',)\": 0.0006605019815059445, \"('tasty',)\": 0.0006605019815059445, \"('consumer-driven',)\": 0.0006605019815059445, \"('real-estate',)\": 0.0006605019815059445, \"('questionable',)\": 0.0006605019815059445, \"('economic',)\": 0.0006605019815059445, \"('after-tax',)\": 0.0006605019815059445, \"('Short',)\": 0.0006605019815059445, \"('super-absorbent',)\": 0.0006605019815059445, \"('supportive',)\": 0.0006605019815059445, \"('good',)\": 0.0006605019815059445, \"('sudden',)\": 0.0006605019815059445, \"('government-funded',)\": 0.0006605019815059445, \"('British',)\": 0.0006605019815059445, \"('undiplomatic',)\": 0.0006605019815059445, \"('TIRED',)\": 0.0006605019815059445, \"('cast-iron',)\": 0.0006605019815059445, \"('paltry',)\": 0.0006605019815059445, \"('off-year',)\": 0.0006605019815059445, \"('affordable',)\": 0.0006605019815059445, \"('coincidental',)\": 0.0006605019815059445, \"('unable',)\": 0.0006605019815059445, \"('solicitous',)\": 0.0006605019815059445, \"('proof',)\": 0.0006605019815059445, \"('conspicuous',)\": 0.0006605019815059445, \"('corporate-wide',)\": 0.0006605019815059445, \"('damaged',)\": 0.0006605019815059445, \"('peculiar',)\": 0.0006605019815059445, \"('mathematical',)\": 0.0006605019815059445, \"('heated',)\": 0.0006605019815059445, \"('anti-China',)\": 0.0006605019815059445, \"('Philippine',)\": 0.0006605019815059445, \"('emotional',)\": 0.0006605019815059445, \"('benevolent',)\": 0.0006605019815059445, \"('prescient',)\": 0.0006605019815059445, \"('Many',)\": 0.0006605019815059445, \"('ninth',)\": 0.0006605019815059445, \"('evident',)\": 0.0006605019815059445, \"('giant',)\": 0.0006605019815059445, \"('sexy',)\": 0.0006605019815059445, \"('low-ability',)\": 0.0006605019815059445, \"('54-year-old',)\": 0.0006605019815059445, \"('64-year-old',)\": 0.0006605019815059445, \"('90-cent-an-hour',)\": 0.0006605019815059445, \"('incomplete',)\": 0.0006605019815059445, \"('foldable',)\": 0.0006605019815059445, \"('punishable',)\": 0.0006605019815059445, \"('even',)\": 0.0006605019815059445, \"('north',)\": 0.0006605019815059445, \"('securities-based',)\": 0.0006605019815059445, \"('pharmaceutical',)\": 0.0006605019815059445, \"('indirect',)\": 0.0006605019815059445, \"('10-lap',)\": 0.0006605019815059445, \"('battery-operated',)\": 0.0006605019815059445, \"('intellectual-property',)\": 0.0006605019815059445, \"('promissory',)\": 0.0006605019815059445, \"('wrenching',)\": 0.0006605019815059445, \"('breathtaking',)\": 0.0006605019815059445, \"('afraid',)\": 0.0006605019815059445, \"('unrecognizable',)\": 0.0006605019815059445, \"('next',)\": 0.0006605019815059445, \"('monthly',)\": 0.0006605019815059445, \"('major-league',)\": 0.0006605019815059445, \"('anti-abortion',)\": 0.0006605019815059445, \"('Swiss',)\": 0.0006605019815059445, \"('worst-case',)\": 0.0006605019815059445, \"('fit',)\": 0.0006605019815059445, \"('so-called',)\": 0.0006605019815059445, \"('American-style',)\": 0.0006605019815059445, \"('odd-sounding',)\": 0.0006605019815059445, \"('government-certified',)\": 0.0006605019815059445, \"('vagrant',)\": 0.0006605019815059445, \"('antitrust-law',)\": 0.0006605019815059445, \"('late',)\": 0.0006605019815059445, \"('eternal',)\": 0.0006605019815059445, \"('housing-assistance',)\": 0.0006605019815059445, \"('crash',)\": 0.0006605019815059445, \"('single',)\": 0.0006605019815059445, \"('apprehensive',)\": 0.0006605019815059445, \"('30-year',)\": 0.0006605019815059445, \"('Unable',)\": 0.0006605019815059445, \"('intentioned',)\": 0.0006605019815059445, \"('promising',)\": 0.0006605019815059445, \"('joint-venture',)\": 0.0006605019815059445, \"('one-year',)\": 0.0006605019815059445, \"('supplemental',)\": 0.0006605019815059445, \"('additional',)\": 0.0006605019815059445, \"('used',)\": 0.0006605019815059445, \"('high-tech',)\": 0.0006605019815059445, \"('big',)\": 0.0006605019815059445, \"('financial',)\": 0.0006605019815059445, \"('various',)\": 0.0006605019815059445, \"('unwary',)\": 0.0006605019815059445, \"('yen-denominated',)\": 0.0006605019815059445, \"('big-ticket',)\": 0.0006605019815059445, \"('certified',)\": 0.0006605019815059445, \"('continental',)\": 0.0006605019815059445, \"('momentary',)\": 0.0006605019815059445, \"('steady',)\": 0.0006605019815059445, \"('fundamentalist',)\": 0.0006605019815059445, \"('satisfactory',)\": 0.0006605019815059445, \"('Funny',)\": 0.0006605019815059445, \"('disappointing',)\": 0.0006605019815059445, \"('void',)\": 0.0006605019815059445, \"('potential',)\": 0.0006605019815059445, \"('stock-specialist',)\": 0.0006605019815059445, \"('unheard',)\": 0.0006605019815059445, \"('deviant',)\": 0.0006605019815059445, \"('blue-collar',)\": 0.0006605019815059445, \"('190-point',)\": 0.0006605019815059445, \"('needle-like',)\": 0.0006605019815059445, \"('war-damaged',)\": 0.0006605019815059445, \"('25-year-old',)\": 0.0006605019815059445, \"('unique',)\": 0.0006605019815059445, \"('startling',)\": 0.0006605019815059445, \"('Democratic',)\": 0.0006605019815059445, \"('expensive',)\": 0.0006605019815059445, \"('unfounded',)\": 0.0006605019815059445, \"('crucial',)\": 0.0006605019815059445, \"('egregious',)\": 0.0006605019815059445, \"('bad',)\": 0.0006605019815059445, \"('stupid',)\": 0.0006605019815059445, \"('anti-miscarriage',)\": 0.0006605019815059445, \"('conceivable',)\": 0.0006605019815059445, \"('Dutch',)\": 0.0006605019815059445, \"('unauthorized',)\": 0.0006605019815059445, \"('smooth',)\": 0.0006605019815059445, \"('index-arbitrage',)\": 0.0006605019815059445, \"('uncomfortable',)\": 0.0006605019815059445, \"('timely',)\": 0.0006605019815059445, \"('independent',)\": 0.0006605019815059445, \"('desultory',)\": 0.0006605019815059445, \"('general',)\": 0.0006605019815059445, \"('N.J.-based',)\": 0.0006605019815059445, \"('common',)\": 0.0006605019815059445, \"('near-record',)\": 0.0006605019815059445, \"('official',)\": 0.0006605019815059445, \"('accelerated',)\": 0.0006605019815059445, \"('tired',)\": 0.0006605019815059445, \"('lousy',)\": 0.0006605019815059445, \"('self-perpetuating',)\": 0.0006605019815059445, \"('packed',)\": 0.0006605019815059445, \"('subsequent',)\": 0.0006605019815059445, \"('immune',)\": 0.0006605019815059445, \"('distant',)\": 0.0006605019815059445, \"('definitive',)\": 0.0006605019815059445, \"('Public',)\": 0.0006605019815059445, \"('suburban',)\": 0.0006605019815059445, \"('impudent',)\": 0.0006605019815059445, \"('supercilious',)\": 0.0006605019815059445, \"('interesting',)\": 0.0006605019815059445, \"('unimpeded',)\": 0.0006605019815059445, \"('inaccurate',)\": 0.0006605019815059445, \"('commercial',)\": 0.0006605019815059445, \"('four-year',)\": 0.0006605019815059445, \"('unofficial',)\": 0.0006605019815059445, \"('test-preparation',)\": 0.0006605019815059445, \"('nominal',)\": 0.0006605019815059445, \"('mundane',)\": 0.0006605019815059445, \"('inverted',)\": 0.0006605019815059445, \"('bilateral',)\": 0.0006605019815059445, \"('far',)\": 0.0006605019815059445, \"('implicit',)\": 0.0006605019815059445, \"('training-wage',)\": 0.0006605019815059445, \"('nonfat',)\": 0.0006605019815059445, \"('instrumental',)\": 0.0006605019815059445, \"('record',)\": 0.0006605019815059445, \"('eclectic',)\": 0.0006605019815059445, \"('record-keeping',)\": 0.0006605019815059445, \"('premier',)\": 0.0006605019815059445, \"('complicated',)\": 0.0006605019815059445, \"('fierce',)\": 0.0006605019815059445, \"('semiannual',)\": 0.0006605019815059445, \"('overseas',)\": 0.0006605019815059445, \"('yearly',)\": 0.0006605019815059445, \"('unfair-trade',)\": 0.0006605019815059445, \"('foreign',)\": 0.0006605019815059445, \"('one-time',)\": 0.0006605019815059445, \"('five-year',)\": 0.0006605019815059445, \"('infectious',)\": 0.0006605019815059445, \"('liable',)\": 0.0006605019815059445, \"('fresh',)\": 0.0006605019815059445, \"('sunny',)\": 0.0006605019815059445, \"('sprightly',)\": 0.0006605019815059445, \"('buy-back',)\": 0.0006605019815059445, \"('northern',)\": 0.0006605019815059445, \"('prying',)\": 0.0006605019815059445, \"('practical',)\": 0.0006605019815059445, \"('corporate',)\": 0.0006605019815059445, \"('objectionable',)\": 0.0006605019815059445, \"('rival',)\": 0.0006605019815059445, \"('lap-shoulder',)\": 0.0006605019815059445, \"('six-inch',)\": 0.0006605019815059445, \"('industry-wide',)\": 0.0006605019815059445, \"('four-year-old',)\": 0.0006605019815059445, \"('unlikely',)\": 0.0006605019815059445, \"('red-carpet',)\": 0.0006605019815059445, \"('monied',)\": 0.0006605019815059445, \"('Chinese',)\": 0.0006605019815059445, \"('journalistic',)\": 0.0006605019815059445, \"('pregnant',)\": 0.0006605019815059445, \"('mobile',)\": 0.0006605019815059445, \"('less-than-brilliant',)\": 0.0006605019815059445, \"('muzzling',)\": 0.0006605019815059445, \"('enough',)\": 0.0006605019815059445, \"('U.S.-Japanese',)\": 0.0006605019815059445, \"('main',)\": 0.0006605019815059445, \"('rapid',)\": 0.0006605019815059445, \"('export-oriented',)\": 0.0006605019815059445, \"('fast',)\": 0.0006605019815059445, \"('privileged',)\": 0.0006605019815059445, \"('small-time',)\": 0.0006605019815059445, \"('conditional',)\": 0.0006605019815059445, \"('leveraged',)\": 0.0006605019815059445, \"('Scandinavian',)\": 0.0006605019815059445, \"('current-carrying',)\": 0.0006605019815059445, \"('total',)\": 0.0006605019815059445, \"('Few',)\": 0.0006605019815059445, \"('one-newspaper',)\": 0.0006605019815059445, \"('slow',)\": 0.0006605019815059445, \"('regional',)\": 0.0006605019815059445, \"('elderly',)\": 0.0006605019815059445, \"('inauspicious',)\": 0.0006605019815059445, \"('capped',)\": 0.0006605019815059445, \"('unanimous',)\": 0.0006605019815059445, \"('widespread',)\": 0.0006605019815059445, \"('newsworthy',)\": 0.0006605019815059445, \"('Perpetual',)\": 0.0006605019815059445, \"('dismal',)\": 0.0006605019815059445, \"('mortgage-backed',)\": 0.0006605019815059445, \"('whipping',)\": 0.0006605019815059445, \"('current',)\": 0.0006605019815059445, \"('Standardized',)\": 0.0006605019815059445, \"('eighth',)\": 0.0006605019815059445, \"('ill',)\": 0.0006605019815059445, \"('solid',)\": 0.0006605019815059445, \"('yielding',)\": 0.0006605019815059445, \"('flatulent',)\": 0.0006605019815059445, \"('educational',)\": 0.0006605019815059445, \"('sorry',)\": 0.0006605019815059445, \"('tumultuous',)\": 0.0006605019815059445, \"('double',)\": 0.0006605019815059445, \"('nice',)\": 0.0006605019815059445, \"('unloaded',)\": 0.0006605019815059445, \"('equal',)\": 0.0006605019815059445, \"('principal',)\": 0.0006605019815059445, \"('nutty',)\": 0.0006605019815059445, \"('fifth',)\": 0.0006605019815059445, \"('white',)\": 0.0006605019815059445, \"('agricultural',)\": 0.0006605019815059445, \"('Chicago-style',)\": 0.0006605019815059445, \"('brutal',)\": 0.0006605019815059445, \"('blue',)\": 0.0006605019815059445, \"('get-out-the-vote',)\": 0.0006605019815059445, \"('one-day',)\": 0.0006605019815059445, \"('primary',)\": 0.0006605019815059445, \"('62%-owned',)\": 0.0006605019815059445, \"('abortion-related',)\": 0.0006605019815059445, \"('wary',)\": 0.0006605019815059445, \"('idiomatic',)\": 0.0006605019815059445, \"('two-week',)\": 0.0006605019815059445, \"('pre\": 0.001321003963011889, \"('fixed-rate',)\": 0.0006605019815059445, \"('market-share',)\": 0.0006605019815059445, \"('physical',)\": 0.0006605019815059445, \"('unfocused',)\": 0.0006605019815059445, \"('nondurable',)\": 0.0006605019815059445, \"('democratic',)\": 0.0006605019815059445, \"('deluxe',)\": 0.0006605019815059445, \"('impetuous',)\": 0.0006605019815059445, \"('citizen-sparked',)\": 0.0006605019815059445, \"('environmental',)\": 0.0006605019815059445, \"('solemn',)\": 0.0006605019815059445, \"('executive',)\": 0.0006605019815059445, \"('one-third',)\": 0.0006605019815059445, \"('Proper',)\": 0.0006605019815059445, \"('everyday',)\": 0.0006605019815059445, \"('collective-bargaining',)\": 0.0006605019815059445, \"('tie-breaking',)\": 0.0006605019815059445, \"('heavy',)\": 0.0006605019815059445, \"('direct-investment',)\": 0.0006605019815059445, \"('good-hearted',)\": 0.0006605019815059445, \"('intriguing',)\": 0.0006605019815059445, \"('gigantic',)\": 0.0006605019815059445, \"('compelling',)\": 0.0006605019815059445, \"('Pro-forma',)\": 0.0006605019815059445, \"('municipal',)\": 0.0006605019815059445, \"('influential',)\": 0.0006605019815059445, \"('12-member',)\": 0.0006605019815059445, \"('sophisticated',)\": 0.0006605019815059445, \"('17-year-old',)\": 0.0006605019815059445, \"('sluggish',)\": 0.0006605019815059445, \"('long-tenured',)\": 0.0006605019815059445, \"('speculative',)\": 0.0006605019815059445, \"('many',)\": 0.0006605019815059445, \"('short-wave',)\": 0.0006605019815059445, \"('Later',)\": 0.0006605019815059445, \"('elementary',)\": 0.0006605019815059445, \"('labor-backed',)\": 0.0006605019815059445, \"('dismayed',)\": 0.0006605019815059445, \"('Nearby',)\": 0.0006605019815059445, \"('nonexecutive',)\": 0.0006605019815059445, \"('eight-month',)\": 0.0006605019815059445, \"('willing',)\": 0.0006605019815059445, \"('historical',)\": 0.0006605019815059445, \"('drunk',)\": 0.0006605019815059445, \"('engaging',)\": 0.0006605019815059445, \"('soft',)\": 0.0006605019815059445, \"('genuine',)\": 0.0006605019815059445, \"('profitable',)\": 0.0006605019815059445, \"('unsolicited',)\": 0.0006605019815059445, \"('social',)\": 0.0006605019815059445, \"('weekly',)\": 0.0006605019815059445, \"('numerous',)\": 0.0006605019815059445, \"('energy-services',)\": 0.0006605019815059445, \"('Long-term',)\": 0.0006605019815059445, \"('beautiful',)\": 0.0006605019815059445, \"('search-and-seizure',)\": 0.0006605019815059445, \"('12-point',)\": 0.0006605019815059445, \"('lend-lease',)\": 0.0006605019815059445, \"('mutual',)\": 0.0006605019815059445, \"('moderate',)\": 0.0006605019815059445, \"('unabated',)\": 0.0006605019815059445, \"('funny',)\": 0.0006605019815059445, \"('price-depressing',)\": 0.0006605019815059445, \"('sad',)\": 0.0006605019815059445, \"('working',)\": 0.0006605019815059445, \"('altruistic',)\": 0.0006605019815059445, \"('unjust',)\": 0.0006605019815059445, \"('political',)\": 0.0006605019815059445, \"('huge',)\": 0.0006605019815059445, \"('combined',)\": 0.0006605019815059445, \"('tissue-transplant',)\": 0.0006605019815059445, \"('modest',)\": 0.0006605019815059445, \"('more',)\": 0.0006605019815059445, \"('money-losing',)\": 0.0006605019815059445, \"('bold',)\": 0.0006605019815059445, \"('pre-emptive',)\": 0.0006605019815059445, \"('subject',)\": 0.0006605019815059445, \"('cohesive',)\": 0.0006605019815059445, \"('intense',)\": 0.0006605019815059445, \"('progressive',)\": 0.0006605019815059445, \"('formal',)\": 0.0006605019815059445, \"('identical',)\": 0.0006605019815059445, \"('unwilling',)\": 0.0006605019815059445, \"('lackluster',)\": 0.0006605019815059445, \"('fellow',)\": 0.0006605019815059445, \"('relieved',)\": 0.0006605019815059445, \"('usual',)\": 0.0006605019815059445, \"('following',)\": 0.0006605019815059445, \"('brief',)\": 0.0006605019815059445, \"('if',)\": 0.0006605019815059445, \"('dramatic',)\": 0.0006605019815059445, \"('Russian',)\": 0.0006605019815059445, \"('recent',)\": 0.0006605019815059445, \"('high-balance',)\": 0.0006605019815059445, \"('63-year-old',)\": 0.0006605019815059445, \"('money-center',)\": 0.0006605019815059445, \"('Comprehensive',)\": 0.0006605019815059445, \"('side-crash',)\": 0.0006605019815059445, \"('antitrust',)\": 0.0006605019815059445, \"('Individual',)\": 0.0006605019815059445, \"('high-volume',)\": 0.0006605019815059445, \"('preset',)\": 0.0006605019815059445, \"('costly',)\": 0.0006605019815059445, \"('steep',)\": 0.0006605019815059445, \"('exact',)\": 0.0006605019815059445, \"('differential',)\": 0.0006605019815059445, \"('mammoth',)\": 0.0006605019815059445, \"('precise',)\": 0.0006605019815059445, \"('interested',)\": 0.0006605019815059445, \"('female',)\": 0.0006605019815059445, \"('Private',)\": 0.0006605019815059445, \"('whimsical',)\": 0.0006605019815059445, \"('impartial',)\": 0.0006605019815059445, \"('long-time',)\": 0.0006605019815059445, \"('magnetic',)\": 0.0006605019815059445, \"('bureaucratic',)\": 0.0006605019815059445, \"('conventional',)\": 0.0006605019815059445, \"('elaborate',)\": 0.0006605019815059445, \"('mid-size',)\": 0.0006605019815059445, \"('bottom-line',)\": 0.0006605019815059445, \"('galling',)\": 0.0006605019815059445, \"('retractable',)\": 0.0006605019815059445, \"('full-time',)\": 0.0006605019815059445, \"('high-risk',)\": 0.0006605019815059445, \"('sure',)\": 0.0006605019815059445, \"('economical',)\": 0.0006605019815059445, \"('austere',)\": 0.0006605019815059445, \"('Washington-based',)\": 0.0006605019815059445, \"('operational',)\": 0.0006605019815059445, \"('senior',)\": 0.0006605019815059445, \"('scenic',)\": 0.0006605019815059445, \"('cardiovascular',)\": 0.0006605019815059445, \"('separate',)\": 0.0006605019815059445, \"('perpetual',)\": 0.0006605019815059445, \"('market-oriented',)\": 0.0006605019815059445, \"('disparate',)\": 0.0006605019815059445, \"('hard-hitting',)\": 0.0006605019815059445, \"('feline',)\": 0.0006605019815059445, \"('past',)\": 0.0006605019815059445, \"('English',)\": 0.0006605019815059445, \"('custom-chip',)\": 0.0006605019815059445, \"('hazardous',)\": 0.0006605019815059445, \"('multi-crystal',)\": 0.0006605019815059445, \"('voluntary',)\": 0.0006605019815059445, \"('half-hour',)\": 0.0006605019815059445, \"('pre-Communist',)\": 0.0006605019815059445, \"('self-regulatory',)\": 0.0006605019815059445, \"('500-stock',)\": 0.0006605019815059445, \"('devastating',)\": 0.0006605019815059445, \"('residential',)\": 0.0006605019815059445, \"('U.S.',)\": 0.0006605019815059445, \"('frantic',)\": 0.0006605019815059445, \"('generic',)\": 0.0006605019815059445, \"('due',)\": 0.0006605019815059445, \"('takeover-stock',)\": 0.0006605019815059445, \"('fearful',)\": 0.0006605019815059445, \"('helpful',)\": 0.0006605019815059445, \"('advertorial',)\": 0.0006605019815059445, \"('wide',)\": 0.0006605019815059445, \"('high-priced',)\": 0.0006605019815059445, \"('vague',)\": 0.0006605019815059445, \"('theological',)\": 0.0006605019815059445, \"('gentle',)\": 0.0006605019815059445, \"('unfunded',)\": 0.0006605019815059445, \"('limited',)\": 0.0006605019815059445, \"('old',)\": 0.0006605019815059445, \"('light-truck',)\": 0.0006605019815059445, \"('sweeping',)\": 0.0006605019815059445, \"('worthy',)\": 0.0006605019815059445, \"('futures-related',)\": 0.0006605019815059445, \"('heavy-duty',)\": 0.0006605019815059445, \"('unfair',)\": 0.0006605019815059445, \"('modern-day',)\": 0.0006605019815059445, \"('bilingual',)\": 0.0006605019815059445, \"('four-day',)\": 0.0006605019815059445, \"('negative',)\": 0.0006605019815059445, \"('built-from-kit',)\": 0.0006605019815059445, \"('broad',)\": 0.0006605019815059445, \"('Argentine',)\": 0.0006605019815059445, \"('effective',)\": 0.0006605019815059445, \"('re-thought',)\": 0.0006605019815059445, \"('efficient',)\": 0.0006605019815059445, \"('84-month',)\": 0.0006605019815059445, \"('hot',)\": 0.0006605019815059445, \"('male-dominated',)\": 0.0006605019815059445, \"('uncompensated',)\": 0.0006605019815059445, \"('unsecured',)\": 0.0006605019815059445, \"('young',)\": 0.0006605019815059445, \"('peaceful',)\": 0.0006605019815059445, \"('metropolitan',)\": 0.0006605019815059445, \"('roof-crush',)\": 0.0006605019815059445, \"('mushy',)\": 0.0006605019815059445, \"('cute',)\": 0.0006605019815059445, \"('statutory',)\": 0.0006605019815059445, \"('nationwide',)\": 0.0006605019815059445, \"('consecutive',)\": 0.0006605019815059445, \"('further',)\": 0.0006605019815059445, \"('loose',)\": 0.0006605019815059445, \"('recipient',)\": 0.0006605019815059445, \"('JUDICIAL',)\": 0.0006605019815059445, \"('popular',)\": 0.0006605019815059445, \"('Huge',)\": 0.0006605019815059445, \"('full',)\": 0.0006605019815059445, \"('extra',)\": 0.0006605019815059445, \"('clannish',)\": 0.0006605019815059445, \"('62-year-old',)\": 0.0006605019815059445, \"('volatile',)\": 0.0006605019815059445, \"('Net',)\": 0.0006605019815059445, \"('possible',)\": 0.0006605019815059445, \"('page-one',)\": 0.0006605019815059445, \"('staggering',)\": 0.0006605019815059445, \"('standard',)\": 0.0006605019815059445, \"('five-inch',)\": 0.0006605019815059445, \"('hardest-hit',)\": 0.0006605019815059445, \"('straight',)\": 0.0006605019815059445, \"('crib',)\": 0.0006605019815059445, \"('round-trip',)\": 0.0006605019815059445, \"('Roman',)\": 0.0006605019815059445, \"('first-rate',)\": 0.0006605019815059445, \"('carefree',)\": 0.0006605019815059445, \"('unproven',)\": 0.0006605019815059445, \"('a',)\": 0.0006605019815059445, \"('serious',)\": 0.0006605019815059445, \"('upstate',)\": 0.0006605019815059445, \"('lynch-mob',)\": 0.0006605019815059445, \"('inner',)\": 0.0006605019815059445, \"('electric',)\": 0.0006605019815059445, \"('incredible',)\": 0.0006605019815059445, \"('presidential',)\": 0.0006605019815059445, \"('new-home',)\": 0.0006605019815059445, \"('fetal-tissue',)\": 0.0006605019815059445, \"('cash-flow',)\": 0.0006605019815059445, \"('friendly',)\": 0.0006605019815059445, \"('buttoned-down',)\": 0.0006605019815059445, \"('scarce',)\": 0.0006605019815059445, \"('deceptive',)\": 0.0006605019815059445, \"('chary',)\": 0.0006605019815059445, \"('favorable',)\": 0.0006605019815059445, \"('level',)\": 0.0006605019815059445, \"('bottom',)\": 0.0006605019815059445, \"('Great',)\": 0.0006605019815059445, \"('Crude',)\": 0.0006605019815059445, \"('second-largest',)\": 0.0006605019815059445, \"('acting',)\": 0.0006605019815059445, \"('automotive',)\": 0.0006605019815059445, \"('neat',)\": 0.0006605019815059445, \"('symbolic',)\": 0.0006605019815059445, \"('spectacular',)\": 0.0006605019815059445, \"('Sept.',)\": 0.0006605019815059445, \"('precious',)\": 0.0006605019815059445, \"('unjustified',)\": 0.0006605019815059445, \"('low-cost',)\": 0.0006605019815059445, \"('Other',)\": 0.0006605019815059445, \"('striking',)\": 0.0006605019815059445, \"('extended',)\": 0.0006605019815059445, \"('facial',)\": 0.0006605019815059445, \"('scholarly',)\": 0.0006605019815059445, \"('14-hour',)\": 0.0006605019815059445, \"('York-based',)\": 0.0006605019815059445, \"('payable',)\": 0.0006605019815059445, \"('comfortable',)\": 0.0006605019815059445, \"('Sacramento-based',)\": 0.0006605019815059445, \"('confident',)\": 0.0006605019815059445, \"('classical',)\": 0.0006605019815059445, \"('insider-trading',)\": 0.0006605019815059445, \"('stock-manipulation',)\": 0.0006605019815059445, \"('midsized',)\": 0.0006605019815059445, \"('sufficient',)\": 0.0006605019815059445, \"('grim',)\": 0.0006605019815059445, \"('vicious',)\": 0.0006605019815059445, \"('cost-benefit',)\": 0.0006605019815059445, \"('incapable',)\": 0.0006605019815059445, \"('favorite',)\": 0.0006605019815059445, \"('pre-cooked',)\": 0.0006605019815059445, \"('resistant',)\": 0.0006605019815059445, \"('controlled',)\": 0.0006605019815059445, \"('most-likely-successor',)\": 0.0006605019815059445, \"('necessary',)\": 0.0006605019815059445, \"('High-grade',)\": 0.0006605019815059445, \"('three-lawyer',)\": 0.0006605019815059445, \"('parts-engineering',)\": 0.0006605019815059445, \"('new',)\": 0.0006605019815059445, \"('fabled',)\": 0.0006605019815059445, \"('noble',)\": 0.0006605019815059445, \"('nine-year',)\": 0.0006605019815059445, \"('student-test',)\": 0.0006605019815059445, \"('pick-up',)\": 0.0006605019815059445, \"('multilevel',)\": 0.0006605019815059445, \"('Small',)\": 0.0006605019815059445, \"('Heightened',)\": 0.0006605019815059445, \"('soured',)\": 0.0006605019815059445, \"('highest-pitched',)\": 0.0006605019815059445, \"('ready',)\": 0.0006605019815059445, \"('childish',)\": 0.0006605019815059445, \"('auto-safety',)\": 0.0006605019815059445, \"('Retail',)\": 0.0006605019815059445, \"('closed-end',)\": 0.0006605019815059445, \"('52-week',)\": 0.0006605019815059445, \"('square',)\": 0.0006605019815059445, \"('unsympathetic',)\": 0.0006605019815059445, \"('equity-purchase',)\": 0.0006605019815059445, \"('unlike',)\": 0.0006605019815059445, \"('successful',)\": 0.0006605019815059445, \"('18-year-old',)\": 0.0006605019815059445, \"('unfilled',)\": 0.0006605019815059445, \"('seventh',)\": 0.0006605019815059445, \"('first',)\": 0.0006605019815059445, \"('responsive',)\": 0.0006605019815059445, \"('31-year-old',)\": 0.0006605019815059445, \"('direct',)\": 0.0006605019815059445, \"('prestigious',)\": 0.0006605019815059445, \"('harmful',)\": 0.0006605019815059445, \"('systematic',)\": 0.0006605019815059445, \"('erudite',)\": 0.0006605019815059445, \"('video-viewing',)\": 0.0006605019815059445, \"('sometimes-exhausting',)\": 0.0006605019815059445, \"('gubernatorial',)\": 0.0006605019815059445, \"('gloomy',)\": 0.0006605019815059445, \"('imperative',)\": 0.0006605019815059445, \"('over',)\": 0.0006605019815059445, \"('forcing',)\": 0.0006605019815059445, \"('underprivileged',)\": 0.0006605019815059445, \"('laughing',)\": 0.0006605019815059445, \"('non-core',)\": 0.0006605019815059445, \"('leery',)\": 0.0006605019815059445, \"('gradual',)\": 0.0006605019815059445, \"('rich',)\": 0.0006605019815059445, \"('100-share',)\": 0.0006605019815059445, \"('wealthy',)\": 0.0006605019815059445, \"('first-time',)\": 0.0006605019815059445, \"('explanatory',)\": 0.0006605019815059445, \"('direct-mail',)\": 0.0006605019815059445, \"('regimented',)\": 0.0006605019815059445, \"('famed',)\": 0.0006605019815059445, \"('explosive',)\": 0.0006605019815059445, \"('triple-A',)\": 0.0006605019815059445, \"('peripheral',)\": 0.0006605019815059445, \"('above',)\": 0.0006605019815059445, \"('persuasive',)\": 0.0006605019815059445, \"('unpublished',)\": 0.0006605019815059445, \"('promotional',)\": 0.0006605019815059445, \"('statewide',)\": 0.0006605019815059445, \"('uncomplaining',)\": 0.0006605019815059445, \"('would-be',)\": 0.0006605019815059445, \"('longer-term',)\": 0.0006605019815059445, \"('federal',)\": 0.0006605019815059445, \"('healthy',)\": 0.0006605019815059445, \"('language-housekeeper',)\": 0.0006605019815059445, \"('black',)\": 0.0006605019815059445, \"('69-point',)\": 0.0006605019815059445, \"('consistent',)\": 0.0006605019815059445, \"('normal',)\": 0.0006605019815059445, \"('8300',)\": 0.0006605019815059445, \"('high-rate',)\": 0.0006605019815059445, \"('pension-fund',)\": 0.0006605019815059445, \"('Hawaiian',)\": 0.0006605019815059445, \"('joint',)\": 0.0006605019815059445, \"('public',)\": 0.0006605019815059445, \"('cautious',)\": 0.0006605019815059445, \"('84-year-old',)\": 0.0006605019815059445, \"('impossible',)\": 0.0006605019815059445, \"('appropriate',)\": 0.0006605019815059445, \"('Nasty',)\": 0.0006605019815059445, \"('basic',)\": 0.0006605019815059445, \"('aesthetic',)\": 0.0006605019815059445, \"('low-tech',)\": 0.0006605019815059445, \"('melt-textured',)\": 0.0006605019815059445, \"('wrong',)\": 0.0006605019815059445, \"('protracted',)\": 0.0006605019815059445, \"('furious',)\": 0.0006605019815059445, \"('Jersey-based',)\": 0.0006605019815059445, \"('capital-markets',)\": 0.0006605019815059445, \"('million-a-year',)\": 0.0006605019815059445, \"('lovely',)\": 0.0006605019815059445, \"('light',)\": 0.0006605019815059445, \"('playful',)\": 0.0006605019815059445, \"('flashy',)\": 0.0006605019815059445, \"('key',)\": 0.0006605019815059445, \"('diversionary',)\": 0.0006605019815059445, \"('decisive',)\": 0.0006605019815059445, \"('excessive',)\": 0.0006605019815059445, \"('important',)\": 0.0006605019815059445, \"('outside',)\": 0.0006605019815059445, \"('complex',)\": 0.0006605019815059445, \"('30-point',)\": 0.0006605019815059445, \"('year-ago',)\": 0.0006605019815059445, \"('buy-out',)\": 0.0006605019815059445, \"('solvent',)\": 0.0006605019815059445, \"('Czech',)\": 0.0006605019815059445, \"('aware',)\": 0.0006605019815059445, \"('non-biodegradable',)\": 0.0006605019815059445, \"('Toronto-based',)\": 0.0006605019815059445, \"('sharp',)\": 0.0006605019815059445, \"('we-Japanese',)\": 0.0006605019815059445, \"('active',)\": 0.0006605019815059445, \"('criminal',)\": 0.0006605019815059445, \"('prime',)\": 0.0006605019815059445, \"('extensive',)\": 0.0006605019815059445, \"('240-page',)\": 0.0006605019815059445, \"('comprehensive',)\": 0.0006605019815059445, \"('stiff',)\": 0.0006605019815059445, \"('shallow',)\": 0.0006605019815059445, \"('third',)\": 0.0006605019815059445, \"('excise',)\": 0.0006605019815059445, \"('damaging',)\": 0.0006605019815059445, \"('deserving',)\": 0.0006605019815059445, \"('major',)\": 0.0006605019815059445, \"('unintelligible',)\": 0.0006605019815059445, \"('male',)\": 0.0006605019815059445, \"('red',)\": 0.0006605019815059445, \"('small',)\": 0.0006605019815059445, \"('lightning-fast',)\": 0.0006605019815059445, \"('on-campus',)\": 0.0006605019815059445, \"('computer-system-design',)\": 0.0006605019815059445, \"('cumbersome',)\": 0.0006605019815059445, \"('food-shop',)\": 0.0006605019815059445, \"('high-rise',)\": 0.0006605019815059445, \"('school-sponsored',)\": 0.0006605019815059445, \"('billion-dollar',)\": 0.0006605019815059445, \"('myriad',)\": 0.0006605019815059445, \"('self-aggrandizing',)\": 0.0006605019815059445, \"('sympathetic',)\": 0.0006605019815059445, \"('special',)\": 0.0006605019815059445, \"('dumbfounded',)\": 0.0006605019815059445, \"('tremendous',)\": 0.0006605019815059445, \"('high-yield',)\": 0.0006605019815059445, \"('school-research',)\": 0.0006605019815059445, \"('top-selling',)\": 0.0006605019815059445, \"('red-and-white',)\": 0.0006605019815059445, \"('related',)\": 0.0006605019815059445, \"('price-support',)\": 0.0006605019815059445, \"('content',)\": 0.0006605019815059445, \"('Abrupt',)\": 0.0006605019815059445, \"('40-year-old',)\": 0.0006605019815059445, \"('attorney-client',)\": 0.0006605019815059445, \"('attractive',)\": 0.0006605019815059445, \"('top-level',)\": 0.0006605019815059445, \"('fiber-end',)\": 0.0006605019815059445, \"('36-day',)\": 0.0006605019815059445, \"('Big',)\": 0.0006605019815059445, \"('Homeless',)\": 0.0006605019815059445, \"('junk-bond',)\": 0.0006605019815059445, \"('one-yen',)\": 0.0006605019815059445, \"('capitalist',)\": 0.0006605019815059445, \"('merger-related',)\": 0.0006605019815059445, \"('conservative',)\": 0.0006605019815059445, \"('arched',)\": 0.0006605019815059445, \"('feudal',)\": 0.0006605019815059445, \"('whole',)\": 0.0006605019815059445, \"('Preliminary',)\": 0.0006605019815059445, \"('rate-sensitive',)\": 0.0006605019815059445, \"('over-the-counter',)\": 0.0006605019815059445, \"('replete',)\": 0.0006605019815059445, \"('accurate',)\": 0.0006605019815059445, \"('tricky',)\": 0.0006605019815059445, \"('distorted',)\": 0.0006605019815059445, \"('demographic',)\": 0.0006605019815059445, \"('odd',)\": 0.0006605019815059445, \"('unstinting',)\": 0.0006605019815059445, \"('Senate-House',)\": 0.0006605019815059445, \"('FEDERAL',)\": 0.0006605019815059445, \"('technical',)\": 0.0006605019815059445, \"('dollar-denominated',)\": 0.0006605019815059445, \"('unhappy',)\": 0.0006605019815059445, \"('advanced',)\": 0.0006605019815059445, \"('semicircular',)\": 0.0006605019815059445, \"('closing',)\": 0.0006605019815059445, \"('post-hearing',)\": 0.0006605019815059445, \"('crystal-lattice',)\": 0.0006605019815059445, \"('medical',)\": 0.0006605019815059445, \"('recyclable',)\": 0.0006605019815059445, \"('outstanding',)\": 0.0006605019815059445, \"('low',)\": 0.0006605019815059445, \"('fetal',)\": 0.0006605019815059445, \"('machine-gun-toting',)\": 0.0006605019815059445, \"('unethical',)\": 0.0006605019815059445, \"('convertible',)\": 0.0006605019815059445, \"('fast-growing',)\": 0.0006605019815059445, \"('amusing',)\": 0.0006605019815059445, \"('higher-salaried',)\": 0.0006605019815059445, \"('band-wagon',)\": 0.0006605019815059445, \"('asbestos-related',)\": 0.0006605019815059445, \"('36-minute',)\": 0.0006605019815059445, \"('test-prep',)\": 0.0006605019815059445, \"('flagrant',)\": 0.0006605019815059445, \"('more-efficient',)\": 0.0006605019815059445, \"('bearish',)\": 0.0006605019815059445, \"('Strategic',)\": 0.0006605019815059445, \"('150-point',)\": 0.0006605019815059445, \"('whirling',)\": 0.0006605019815059445, \"('forthcoming',)\": 0.0006605019815059445, \"('outright',)\": 0.0006605019815059445, \"('short',)\": 0.0006605019815059445, \"('geometrical',)\": 0.0006605019815059445, \"('legal',)\": 0.0006605019815059445, \"('short-term',)\": 0.0006605019815059445, \"('severe',)\": 0.0006605019815059445, \"('beneficial',)\": 0.0006605019815059445, \"('Soviet',)\": 0.0006605019815059445, \"('car-care',)\": 0.0006605019815059445, \"('intellectual',)\": 0.0006605019815059445, \"('cop-killer',)\": 0.0006605019815059445, \"('disagreeable',)\": 0.0006605019815059445, \"('feasible',)\": 0.0006605019815059445, \"('recession-inspired',)\": 0.0006605019815059445, \"('counterrevolutionary',)\": 0.0006605019815059445, \"('inadequate',)\": 0.0006605019815059445, \"('morale-damaging',)\": 0.0006605019815059445, \"('58-year-old',)\": 0.0006605019815059445, \"('American-made',)\": 0.0006605019815059445, \"('Common',)\": 0.0006605019815059445, \"('Medical',)\": 0.0006605019815059445, \"('wherewithal',)\": 0.0006605019815059445, \"('Palestinian',)\": 0.0006605019815059445, \"('receptive',)\": 0.0006605019815059445, \"('thin-lipped',)\": 0.0006605019815059445, \"('to',)\": 0.0006605019815059445, \"('severable',)\": 0.0006605019815059445, \"('low-ball',)\": 0.0006605019815059445, \"('Nipponese',)\": 0.0006605019815059445, \"('bloody',)\": 0.0006605019815059445, \"('fond',)\": 0.0006605019815059445, \"('shaded',)\": 0.0006605019815059445, \"('same',)\": 0.0006605019815059445, \"('U.S.-Japan',)\": 0.0006605019815059445, \"('dreadful',)\": 0.0006605019815059445, \"('synthetic',)\": 0.0006605019815059445, \"('unpleasant',)\": 0.0006605019815059445, \"('surprising',)\": 0.0006605019815059445, \"('eligible',)\": 0.0006605019815059445, \"('narrow',)\": 0.0006605019815059445, \"('prefectural',)\": 0.0006605019815059445, \"('two-year',)\": 0.0006605019815059445, \"('firm',)\": 0.0006605019815059445, \"('nearly\": 0.0006605019815059445, \"('enviable',)\": 0.0006605019815059445, \"('easy',)\": 0.0006605019815059445, \"('white-collar',)\": 0.0006605019815059445, \"('triple-A-rated',)\": 0.0006605019815059445, \"('split',)\": 0.0006605019815059445, \"('flat',)\": 0.0006605019815059445, \"('security-type',)\": 0.0006605019815059445, \"('obedient',)\": 0.0006605019815059445, \"('fastest-growing',)\": 0.0006605019815059445, \"('longstanding',)\": 0.0006605019815059445, \"('empty',)\": 0.0006605019815059445, \"('Justice',)\": 0.0006605019815059445, \"('Financial',)\": 0.0006605019815059445, \"('cool',)\": 0.0006605019815059445, \"('automatic',)\": 0.0006605019815059445, \"('seven-day',)\": 0.0006605019815059445, \"('plenty',)\": 0.0006605019815059445, \"('yellow',)\": 0.0006605019815059445, \"('summer\\\\/winter',)\": 0.0006605019815059445, \"('21-month',)\": 0.0006605019815059445, \"('state-owned',)\": 0.0006605019815059445, \"('yen-support',)\": 0.0006605019815059445, \"('negotiable',)\": 0.0006605019815059445, \"('razor-thin',)\": 0.0006605019815059445, \"('sport-utility',)\": 0.0006605019815059445, \"('Muzzling',)\": 0.0006605019815059445, \"('such',)\": 0.0006605019815059445, \"('lasting',)\": 0.0006605019815059445, \"('wheel-loader',)\": 0.0006605019815059445, \"('Philadelphia-based',)\": 0.0006605019815059445, \"('daily',)\": 0.0006605019815059445, \"('secondary',)\": 0.0006605019815059445, \"('Lead',)\": 0.0006605019815059445, \"('index-related',)\": 0.0006605019815059445, \"('fluent',)\": 0.0006605019815059445, \"('eager',)\": 0.0006605019815059445, \"('harsh',)\": 0.0006605019815059445, \"('ugly',)\": 0.0006605019815059445, \"('slack',)\": 0.0006605019815059445, \"('Current',)\": 0.0006605019815059445, \"('athletic',)\": 0.0006605019815059445, \"('seasonal',)\": 0.0006605019815059445, \"('crushed',)\": 0.0006605019815059445, \"('then-Speaker',)\": 0.0006605019815059445, \"('Asian',)\": 0.0006605019815059445, \"('program-trading',)\": 0.0006605019815059445, \"('internal',)\": 0.0006605019815059445, \"('sports-oriented',)\": 0.0006605019815059445, \"('Japanese',)\": 0.0006605019815059445, \"('tabloid',)\": 0.0006605019815059445, \"('sensitive',)\": 0.0006605019815059445, \"('Possible',)\": 0.0006605019815059445, \"('silent',)\": 0.0006605019815059445, \"('letter-writing',)\": 0.0006605019815059445, \"('do-it-yourself',)\": 0.0006605019815059445, \"('unchanged',)\": 0.0006605019815059445, \"('unfathomable',)\": 0.0006605019815059445, \"('Second',)\": 0.0006605019815059445, \"('fiber-optic',)\": 0.0006605019815059445, \"('evil',)\": 0.0006605019815059445, \"('rusty',)\": 0.0006605019815059445, \"('own',)\": 0.0006605019815059445, \"('discordant',)\": 0.0006605019815059445, \"('middle',)\": 0.0006605019815059445, \"('princely',)\": 0.0006605019815059445, \"('mean',)\": 0.0006605019815059445, \"('quantitative',)\": 0.0006605019815059445, \"('concrete',)\": 0.0006605019815059445, \"('tense',)\": 0.0006605019815059445, \"('male-only',)\": 0.0006605019815059445, \"('tubular',)\": 0.0006605019815059445, \"('uncanny',)\": 0.0006605019815059445, \"('money-market',)\": 0.0006605019815059445, \"('certain',)\": 0.0006605019815059445, \"('weird',)\": 0.0006605019815059445, \"('anti-program',)\": 0.0006605019815059445, \"('preliminary',)\": 0.0006605019815059445, \"('pressured',)\": 0.0006605019815059445, \"('one-week',)\": 0.0006605019815059445, \"('complete',)\": 0.0006605019815059445, \"('head',)\": 0.0006605019815059445, \"('nonprofit',)\": 0.0006605019815059445, \"('one-hour',)\": 0.0006605019815059445, \"('fourth',)\": 0.0006605019815059445, \"('loyal',)\": 0.0006605019815059445, \"('top-yielding',)\": 0.0006605019815059445, \"('ancillary',)\": 0.0006605019815059445, \"('humble',)\": 0.0006605019815059445, \"('middle-ground',)\": 0.0006605019815059445, \"('stunned',)\": 0.0006605019815059445, \"('bygone',)\": 0.0006605019815059445, \"('docile',)\": 0.0006605019815059445, \"('Federal',)\": 0.0006605019815059445, \"('gilt',)\": 0.0006605019815059445, \"('well-known',)\": 0.0006605019815059445, \"('Much',)\": 0.0006605019815059445, \"('civil',)\": 0.0006605019815059445, \"('entertaining',)\": 0.0006605019815059445, \"('close',)\": 0.0006605019815059445, \"('few',)\": 0.0006605019815059445, \"('world-wide',)\": 0.0006605019815059445, \"('mental',)\": 0.0006605019815059445, \"('obvious',)\": 0.0006605019815059445, \"('Anglian',)\": 0.0006605019815059445, \"('hard-charging',)\": 0.0006605019815059445, \"('large',)\": 0.0006605019815059445, \"('Last',)\": 0.0006605019815059445, \"('unwashed',)\": 0.0006605019815059445, \"('retentive',)\": 0.0006605019815059445, \"('sole',)\": 0.0006605019815059445, \"('distasteful',)\": 0.0006605019815059445, \"('powerful',)\": 0.0006605019815059445, \"('short-lived',)\": 0.0006605019815059445, \"('Test-preparation',)\": 0.0006605019815059445, \"('tall',)\": 0.0006605019815059445, \"('jurisdictional',)\": 0.0006605019815059445, \"('congressional',)\": 0.0006605019815059445, \"('contingency-fee',)\": 0.0006605019815059445, \"('academic',)\": 0.0006605019815059445, \"('homosexual',)\": 0.0006605019815059445, \"('awful',)\": 0.0006605019815059445, \"('Red-blooded',)\": 0.0006605019815059445, \"('trivial',)\": 0.0006605019815059445, \"('matching',)\": 0.0006605019815059445, \"('institutional',)\": 0.0006605019815059445, \"('labor-intensive',)\": 0.0006605019815059445, \"('NBC-owned',)\": 0.0006605019815059445, \"('positive',)\": 0.0006605019815059445, \"('lucky',)\": 0.0006605019815059445, \"('English-speaking',)\": 0.0006605019815059445, \"('pre-existing',)\": 0.0006605019815059445, \"('much-larger',)\": 0.0006605019815059445, \"('anti-drug',)\": 0.0006605019815059445, \"('start-up',)\": 0.0006605019815059445, \"('bitter',)\": 0.0006605019815059445, \"('Varying',)\": 0.0006605019815059445, \"('compatible',)\": 0.0006605019815059445, \"('Cost-effective',)\": 0.0006605019815059445, \"('elusive',)\": 0.0006605019815059445, \"('airline-related',)\": 0.0006605019815059445, \"('electrical-safety',)\": 0.0006605019815059445, \"('mere',)\": 0.0006605019815059445, \"('chief',)\": 0.0006605019815059445, \"('product-design',)\": 0.0006605019815059445, \"('anecdotal',)\": 0.0006605019815059445, \"('fiscal',)\": 0.0006605019815059445, \"('entire',)\": 0.0006605019815059445, \"('excess',)\": 0.0006605019815059445, \"('enlarged',)\": 0.0006605019815059445, \"('nonfinancial',)\": 0.0006605019815059445, \"('comparable',)\": 0.0006605019815059445, \"('architectural',)\": 0.0006605019815059445, \"('punitive',)\": 0.0006605019815059445, \"('vacant',)\": 0.0006605019815059445, \"('foreign-led',)\": 0.0006605019815059445, \"('balkanized',)\": 0.0006605019815059445, \"('unproductive',)\": 0.0006605019815059445, \"('superior',)\": 0.0006605019815059445, \"('cash-rich',)\": 0.0006605019815059445, \"('large-scale',)\": 0.0006605019815059445, \"('mortgage-based',)\": 0.0006605019815059445, \"('ceramic',)\": 0.0006605019815059445, \"('multibillion-dollar',)\": 0.0006605019815059445, \"('gross',)\": 0.0006605019815059445, \"('single-family',)\": 0.0006605019815059445, \"('bell-ringing',)\": 0.0006605019815059445, \"('90-day',)\": 0.0006605019815059445, \"('Republican',)\": 0.0006605019815059445, \"('one-month',)\": 0.0006605019815059445, \"('erroneous',)\": 0.0006605019815059445, \"('collective',)\": 0.0006605019815059445, \"('mechanical',)\": 0.0006605019815059445, \"('Encouraged',)\": 0.0006605019815059445, \"('decade-long',)\": 0.0006605019815059445, \"('open',)\": 0.0006605019815059445, \"('dusty',)\": 0.0006605019815059445, \"('free-lance',)\": 0.0006605019815059445, \"('imminent',)\": 0.0006605019815059445, \"('Minneapolis-based',)\": 0.0006605019815059445, \"('anti-morning-sickness',)\": 0.0006605019815059445, \"('suspect',)\": 0.0006605019815059445, \"('finite',)\": 0.0006605019815059445, \"('exciting',)\": 0.0006605019815059445, \"('quiet',)\": 0.0006605019815059445, \"('standing',)\": 0.0006605019815059445, \"('wholesale',)\": 0.0006605019815059445, \"('ambitious',)\": 0.0006605019815059445, \"('European',)\": 0.0006605019815059445, \"('benign',)\": 0.0006605019815059445, \"('improper',)\": 0.0006605019815059445, \"('aggressive',)\": 0.0006605019815059445, \"('High',)\": 0.0006605019815059445, \"('upset',)\": 0.0006605019815059445, \"('constitutional',)\": 0.0006605019815059445, \"('Several',)\": 0.0006605019815059445, \"('ethical',)\": 0.0006605019815059445, \"('school-improvement',)\": 0.0006605019815059445, \"('roughhewn',)\": 0.0006605019815059445, \"('resilient',)\": 0.0006605019815059445, \"('beaten',)\": 0.0006605019815059445, \"('how-to',)\": 0.0006605019815059445, \"('convenient',)\": 0.0006605019815059445, \"('grand',)\": 0.0006605019815059445, \"('early',)\": 0.0006605019815059445, \"('Traditional',)\": 0.0006605019815059445, \"('sometimes-tawdry',)\": 0.0006605019815059445, \"('wine-buying',)\": 0.0006605019815059445, \"('akin',)\": 0.0006605019815059445, \"('Such',)\": 0.0006605019815059445, \"('bald-faced',)\": 0.0006605019815059445, \"('other',)\": 0.0006605019815059445, \"('interim',)\": 0.0006605019815059445, \"('computer-driven',)\": 0.0006605019815059445, \"('stable',)\": 0.0006605019815059445, \"('238,000-circulation',)\": 0.0006605019815059445, \"('average',)\": 0.0006605019815059445, \"('fat',)\": 0.0006605019815059445, \"('single-digit',)\": 0.0006605019815059445, \"('back',)\": 0.0006605019815059445, \"('ordinary',)\": 0.0006605019815059445, \"('stereotyped',)\": 0.0006605019815059445, \"('absurd',)\": 0.0006605019815059445, \"('taxable',)\": 0.0006605019815059445, \"('two-letter',)\": 0.0006605019815059445, \"('substantial',)\": 0.0006605019815059445, \"('nearby',)\": 0.0006605019815059445, \"('Dollar-yen',)\": 0.0006605019815059445, \"('dry',)\": 0.0006605019815059445, \"('Solomonic',)\": 0.0006605019815059445, \"('First',)\": 0.0006605019815059445, \"('foreign-stock',)\": 0.0006605019815059445, \"('unaware',)\": 0.0006605019815059445, \"('alive',)\": 0.0006605019815059445, \"('10-day',)\": 0.0006605019815059445, \"('scientific',)\": 0.0006605019815059445, \"('slippery',)\": 0.0006605019815059445, \"('imaginative',)\": 0.0006605019815059445, \"('cozy',)\": 0.0006605019815059445, \"('larger-than-normal',)\": 0.0006605019815059445, \"('anti-takeover',)\": 0.0006605019815059445, \"('non-callable',)\": 0.0006605019815059445, \"('year-to-year',)\": 0.0006605019815059445, \"('personal',)\": 0.0006605019815059445, \"('self-serving',)\": 0.0006605019815059445, \"('lower-priority',)\": 0.0006605019815059445, \"('automotive-lighting',)\": 0.0006605019815059445, \"('Strong',)\": 0.0006605019815059445, \"('Serial',)\": 0.0006605019815059445, \"('medium-sized',)\": 0.0006605019815059445, \"('30-day',)\": 0.0006605019815059445, \"('double-digit',)\": 0.0006605019815059445, \"('37-year-old',)\": 0.0006605019815059445, \"('malignant',)\": 0.0006605019815059445, \"('inevitable',)\": 0.0006605019815059445, \"('unneeded',)\": 0.0006605019815059445, \"('tight',)\": 0.0006605019815059445, \"('blue-chip',)\": 0.0006605019815059445, \"('weak',)\": 0.0006605019815059445, \"('entangled',)\": 0.0006605019815059445, \"('green',)\": 0.0006605019815059445, \"('teenage',)\": 0.0006605019815059445, \"('overhead',)\": 0.0006605019815059445, \"('aghast',)\": 0.0006605019815059445, \"('desirable',)\": 0.0006605019815059445, \"('similar',)\": 0.0006605019815059445, \"('robotic',)\": 0.0006605019815059445, \"('when-issued',)\": 0.0006605019815059445, \"('Basic',)\": 0.0006605019815059445, \"('known',)\": 0.0006605019815059445, \"('shirt-sleeved',)\": 0.0006605019815059445, \"('improbable',)\": 0.0006605019815059445, \"('mind-boggling',)\": 0.0006605019815059445, \"('sentimental',)\": 0.0006605019815059445, \"('Next',)\": 0.0006605019815059445, \"('ideological',)\": 0.0006605019815059445, \"('run-down',)\": 0.0006605019815059445, \"('electrical',)\": 0.0006605019815059445, \"('very',)\": 0.0006605019815059445, \"('upscale',)\": 0.0006605019815059445, \"('six-bottle',)\": 0.0006605019815059445, \"('Canadian',)\": 0.0006605019815059445, \"('applicable',)\": 0.0006605019815059445, \"('top',)\": 0.0006605019815059445, \"('10th',)\": 0.0006605019815059445, \"('botched',)\": 0.0006605019815059445, \"('literary',)\": 0.0006605019815059445, \"('specific',)\": 0.0006605019815059445, \"('sinister',)\": 0.0006605019815059445, \"('black-and-white',)\": 0.0006605019815059445, \"('dead-eyed',)\": 0.0006605019815059445, \"('well-connected',)\": 0.0006605019815059445, \"('Coincident',)\": 0.0006605019815059445, \"('sweet',)\": 0.0006605019815059445, \"('organized',)\": 0.0006605019815059445, \"('near',)\": 0.0006605019815059445, \"('three-year',)\": 0.0006605019815059445, \"('foul',)\": 0.0006605019815059445, \"('Total',)\": 0.0006605019815059445, \"('original',)\": 0.0006605019815059445, \"('American',)\": 0.0006605019815059445, \"('unworkable',)\": 0.0006605019815059445, \"('59-year-old',)\": 0.0006605019815059445, \"('exceptional',)\": 0.0006605019815059445, \"('70-a-share',)\": 0.0006605019815059445, \"('raw',)\": 0.0006605019815059445, \"('cold',)\": 0.0006605019815059445, \"('disaffected',)\": 0.0006605019815059445, \"('inspirational',)\": 0.0006605019815059445, \"('psychiatric',)\": 0.0006605019815059445, \"('test-coaching',)\": 0.0006605019815059445, \"('East',)\": 0.0006605019815059445, \"('non-religious',)\": 0.0006605019815059445, \"('angry',)\": 0.0006605019815059445, \"('vast',)\": 0.0006605019815059445, \"('cutthroat',)\": 0.0006605019815059445, \"('downward',)\": 0.0006605019815059445, \"('needy',)\": 0.0006605019815059445, \"('old-time',)\": 0.0006605019815059445, \"('court-ordered',)\": 0.0006605019815059445, \"('individual',)\": 0.0006605019815059445, \"('high-level',)\": 0.0006605019815059445, \"('computer-assisted',)\": 0.0006605019815059445, \"('confused',)\": 0.0006605019815059445, \"('floating-rate',)\": 0.0006605019815059445, \"('detailed',)\": 0.0006605019815059445, \"('safe',)\": 0.0006605019815059445, \"('local',)\": 0.0006605019815059445, \"('off',)\": 0.0006605019815059445, \"('interest-bearing',)\": 0.0006605019815059445, \"('correct',)\": 0.0006605019815059445, \"('Italian',)\": 0.0006605019815059445, \"('critical',)\": 0.0006605019815059445, \"('unconstitutional',)\": 0.0006605019815059445, \"('mediocre',)\": 0.0006605019815059445, \"('stock-selection',)\": 0.0006605019815059445, \"('avid',)\": 0.0006605019815059445, \"('lofty',)\": 0.0006605019815059445, \"('sassy',)\": 0.0006605019815059445, \"('computerized',)\": 0.0006605019815059445, \"('historic',)\": 0.0006605019815059445, \"('standardized',)\": 0.0006605019815059445, \"('Polish',)\": 0.0006605019815059445, \"('materialistic',)\": 0.0006605019815059445, \"('visible',)\": 0.0006605019815059445, \"('able',)\": 0.0006605019815059445, \"('year-earlier',)\": 0.0006605019815059445, \"('Negotiable',)\": 0.0006605019815059445, \"('capital-gains',)\": 0.0006605019815059445, \"('tough',)\": 0.0006605019815059445, \"('teacher-cadet',)\": 0.0006605019815059445, \"('high-stakes',)\": 0.0006605019815059445, \"('Hot',)\": 0.0006605019815059445, \"('Political',)\": 0.0006605019815059445, \"('pre-approved',)\": 0.0006605019815059445, \"('greedy',)\": 0.0006605019815059445, \"('index-fund',)\": 0.0006605019815059445, \"('disappointed',)\": 0.0006605019815059445, \"('simple',)\": 0.0006605019815059445, \"('intricate',)\": 0.0006605019815059445, \"('strategic',)\": 0.0006605019815059445, \"('minimum',)\": 0.0006605019815059445, \"('third-quarter',)\": 0.0006605019815059445, \"('last',)\": 0.0006605019815059445, \"('drop-in',)\": 0.0006605019815059445, \"('regular',)\": 0.0006605019815059445, \"('illegal',)\": 0.0006605019815059445, \"('%',)\": 0.0006605019815059445, \"('strong',)\": 0.0006605019815059445, \"('drop-off',)\": 0.0006605019815059445, \"('policy-making',)\": 0.0006605019815059445, \"('modern',)\": 0.0006605019815059445, \"('exercisable',)\": 0.0006605019815059445, \"('ancient',)\": 0.0006605019815059445, \"('nervous',)\": 0.0006605019815059445, \"('biannual',)\": 0.0006605019815059445, \"('Average',)\": 0.0006605019815059445, \"('predictable',)\": 0.0006605019815059445, \"('degenerative',)\": 0.0006605019815059445, \"('single-A',)\": 0.0006605019815059445, \"('disruptive',)\": 0.0006605019815059445, \"('only',)\": 0.0006605019815059445, \"('classic',)\": 0.0006605019815059445, \"('countless',)\": 0.0006605019815059445, \"('pursuant',)\": 0.0006605019815059445, \"('curly',)\": 0.0006605019815059445, \"('unenticing',)\": 0.0006605019815059445, \"('rural',)\": 0.0006605019815059445, \"('undisclosed',)\": 0.0006605019815059445, \"('useful',)\": 0.0006605019815059445, \"('touchy',)\": 0.0006605019815059445, \"('disciplinary',)\": 0.0006605019815059445, \"('less-serious',)\": 0.0006605019815059445, \"('astronomical',)\": 0.0006605019815059445, \"('asset-sale',)\": 0.0006605019815059445, \"('London-based',)\": 0.0006605019815059445, \"('inappropriate',)\": 0.0006605019815059445, \"('fundamental',)\": 0.0006605019815059445, \"('five-point',)\": 0.0006605019815059445, \"('confidential',)\": 0.0006605019815059445, \"('old-fashioned',)\": 0.0006605019815059445, \"('thin',)\": 0.0006605019815059445, \"('subordinate',)\": 0.0006605019815059445, \"('automotive-parts',)\": 0.0006605019815059445, \"('520-lawyer',)\": 0.0006605019815059445, \"('enormous',)\": 0.0006605019815059445, \"('bicameral',)\": 0.0006605019815059445, \"('Australian',)\": 0.0006605019815059445, \"('hostile',)\": 0.0006605019815059445, \"('likely',)\": 0.0006605019815059445, \"('minimal',)\": 0.0006605019815059445, \"('private',)\": 0.0006605019815059445, \"('exclusive',)\": 0.0006605019815059445, \"('drag-down',)\": 0.0006605019815059445, \"('overall',)\": 0.0006605019815059445, \"('seasoned',)\": 0.0006605019815059445, \"('cancer-causing',)\": 0.0006605019815059445, \"('dark',)\": 0.0006605019815059445, \"('stock-picking',)\": 0.0006605019815059445, \"('minute',)\": 0.0006605019815059445, \"('confrontational',)\": 0.0006605019815059445, \"('cocky',)\": 0.0006605019815059445, \"('plastic',)\": 0.0006605019815059445, \"('three-digit',)\": 0.0006605019815059445, \"('tiny',)\": 0.0006605019815059445, \"('annual',)\": 0.0006605019815059445, \"('undesirable',)\": 0.0006605019815059445, \"('different',)\": 0.0006605019815059445, \"('particular',)\": 0.0006605019815059445, \"('military',)\": 0.0006605019815059445, \"('disembodied',)\": 0.0006605019815059445, \"('professional',)\": 0.0006605019815059445, \"('floral',)\": 0.0006605019815059445, \"('composite',)\": 0.0006605019815059445, \"('tender',)\": 0.0006605019815059445, \"('Renaissance-style',)\": 0.0006605019815059445, \"('double-A',)\": 0.0006605019815059445, \"('competitive',)\": 0.0006605019815059445, \"('phony',)\": 0.0006605019815059445, \"('poor',)\": 0.0006605019815059445, \"('Western',)\": 0.0006605019815059445, \"('resigned',)\": 0.0006605019815059445, \"('previous',)\": 0.0006605019815059445, \"('raring',)\": 0.0006605019815059445, \"('legislative',)\": 0.0006605019815059445, \"('extraordinary',)\": 0.0006605019815059445, \"('relative',)\": 0.0006605019815059445, \"('revenue-desperate',)\": 0.0006605019815059445, \"('actual',)\": 0.0006605019815059445, \"('old-style',)\": 0.0006605019815059445, \"('sixth',)\": 0.0006605019815059445, \"('savings-and-loan',)\": 0.0006605019815059445, \"('inflationary',)\": 0.0006605019815059445, \"('30-minute',)\": 0.0006605019815059445, \"('contrary',)\": 0.0006605019815059445, \"('annualized',)\": 0.0006605019815059445, \"('Long',)\": 0.0006605019815059445, \"('sizable',)\": 0.0006605019815059445, \"('Economic',)\": 0.0006605019815059445, \"('industrial',)\": 0.0006605019815059445, \"('administrative',)\": 0.0006605019815059445, \"('mouth-up',)\": 0.0006605019815059445, \"('knowledgeable',)\": 0.0006605019815059445, \"('human',)\": 0.0006605019815059445, \"('contemporary',)\": 0.0006605019815059445, \"('controversial',)\": 0.0006605019815059445, \"('endless',)\": 0.0006605019815059445, \"('growing',)\": 0.0006605019815059445, \"('interstate',)\": 0.0006605019815059445, \"('loathsome',)\": 0.0006605019815059445, \"('Due',)\": 0.0006605019815059445, \"('industrial-production',)\": 0.0006605019815059445, \"('chaotic',)\": 0.0006605019815059445, \"('underlying',)\": 0.0006605019815059445, \"('anxious',)\": 0.0006605019815059445, \"('retail',)\": 0.0006605019815059445, \"('considerable',)\": 0.0006605019815059445, \"('Uzi-model',)\": 0.0006605019815059445, \"('distributable',)\": 0.0006605019815059445, \"('unrestricted',)\": 0.0006605019815059445, \"('Egyptian',)\": 0.0006605019815059445, \"('one-house',)\": 0.0006605019815059445, \"('net',)\": 0.0006605019815059445, \"('balanced',)\": 0.0006605019815059445, \"('absolute',)\": 0.0006605019815059445, \"('yttrium-containing',)\": 0.0006605019815059445, \"('Francisco-based',)\": 0.0006605019815059445, \"('five-day',)\": 0.0006605019815059445, \"('notable',)\": 0.0006605019815059445, \"('Close',)\": 0.0006605019815059445, \"('durable',)\": 0.0006605019815059445, \"('adequate',)\": 0.0006605019815059445, \"('Southeast',)\": 0.0006605019815059445, \"('bank-backed',)\": 0.0006605019815059445, \"('car-safety',)\": 0.0006605019815059445, \"('natural',)\": 0.0006605019815059445, \"('hard-drinking',)\": 0.0006605019815059445, \"('home-market',)\": 0.0006605019815059445, \"('former',)\": 0.0006605019815059445, \"('and',)\": 0.0006605019815059445, \"('intraocular',)\": 0.0006605019815059445, \"('petulant',)\": 0.0006605019815059445, \"('planned',)\": 0.0006605019815059445, \"('nameless',)\": 0.0006605019815059445, \"('electronic',)\": 0.0006605019815059445, \"('juvenile',)\": 0.0006605019815059445, \"('kind',)\": 0.0006605019815059445, \"('duty-free',)\": 0.0006605019815059445, \"('permanent',)\": 0.0006605019815059445, \"('untrained',)\": 0.0006605019815059445, \"('nuclear',)\": 0.0006605019815059445, \"('Austrian',)\": 0.0006605019815059445, \"('pro-choice',)\": 0.0006605019815059445, \"('inherent',)\": 0.0006605019815059445, \"('hard',)\": 0.0006605019815059445, \"('Fourth',)\": 0.0006605019815059445, \"('traditional',)\": 0.0006605019815059445, \"('guilty',)\": 0.0006605019815059445, \"('external',)\": 0.0006605019815059445, \"('Cultural',)\": 0.0006605019815059445, \"('intermediate',)\": 0.0006605019815059445, \"('Bermuda-based',)\": 0.0006605019815059445, \"('extramarital',)\": 0.0006605019815059445, \"('seven-year',)\": 0.0006605019815059445, \"('unitary',)\": 0.0006605019815059445, \"('significant',)\": 0.0006605019815059445, \"('cyclical',)\": 0.0006605019815059445, \"('lucrative',)\": 0.0006605019815059445, \"('unclear',)\": 0.0006605019815059445, \"('second',)\": 0.0006605019815059445, \"('New',)\": 0.0006605019815059445, \"('leading',)\": 0.0006605019815059445, \"('sound',)\": 0.0006605019815059445, \"('unreasonable',)\": 0.0006605019815059445, \"('ornamental',)\": 0.0006605019815059445, \"('15-day',)\": 0.0006605019815059445, \"('mature',)\": 0.0006605019815059445, \"('Supportive',)\": 0.0006605019815059445, \"('little',)\": 0.0006605019815059445, \"('dead',)\": 0.0006605019815059445, \"('troublesome',)\": 0.0006605019815059445, \"('difficult',)\": 0.0006605019815059445, \"('strong-willed',)\": 0.0006605019815059445, \"('rear',)\": 0.0006605019815059445, \"('37-a-share',)\": 0.0006605019815059445, \"('Atlanta-based',)\": 0.0006605019815059445, \"('metric',)\": 0.0006605019815059445, \"('embarrassing',)\": 0.0006605019815059445, \"('Follow-up',)\": 0.0006605019815059445, \"('French',)\": 0.0006605019815059445, \"('national',)\": 0.0006605019815059445, \"('stock-index',)\": 0.0006605019815059445, \"('hospitable',)\": 0.0006605019815059445, \"('African',)\": 0.0006605019815059445, \"('high',)\": 0.0006605019815059445, \"('cavernous',)\": 0.0006605019815059445, \"('single-lot',)\": 0.0006605019815059445, \"('non-encapsulating',)\": 0.0006605019815059445, \"('exempt',)\": 0.0006605019815059445, \"('consonant',)\": 0.0006605019815059445, \"('fanciful',)\": 0.0006605019815059445, \"('four-color',)\": 0.0006605019815059445, \"('regrettable',)\": 0.0006605019815059445, \"('strict',)\": 0.0006605019815059445, \"('responsible',)\": 0.0006605019815059445, \"('53-year-old',)\": 0.0006605019815059445, \"('land-idling',)\": 0.0006605019815059445, \"('pretax',)\": 0.0006605019815059445, \"('four-foot-high',)\": 0.0006605019815059445, \"('Christian',)\": 0.0006605019815059445, \"('minor',)\": 0.0006605019815059445, \"('big-time',)\": 0.0006605019815059445, \"('free',)\": 0.0006605019815059445, \"('family-planning',)\": 0.0006605019815059445, \"('prospective',)\": 0.0006605019815059445, \"('winning',)\": 0.0006605019815059445, \"('substance-abusing',)\": 0.0006605019815059445, \"('recessionary',)\": 0.0006605019815059445, \"('central',)\": 0.0006605019815059445, \"('unsuccessful',)\": 0.0006605019815059445, \"('right',)\": 0.0006605019815059445, \"('ultimate',)\": 0.0006605019815059445, \"('adjustable',)\": 0.0006605019815059445, \"('initial',)\": 0.0006605019815059445, \"('alleged',)\": 0.0006605019815059445, \"('German',)\": 0.0006605019815059445, \"('long',)\": 0.0006605019815059445, \"('10-year',)\": 0.0006605019815059445, \"('temporary',)\": 0.0006605019815059445, \"('odd-year',)\": 0.0006605019815059445, \"('fragile',)\": 0.0006605019815059445, \"('hypothetical',)\": 0.0006605019815059445, \"('canine',)\": 0.0006605019815059445, \"('ongoing',)\": 0.0006605019815059445, \"('depositary',)\": 0.0006605019815059445, \"('day-care',)\": 0.0006605019815059445, \"('quick',)\": 0.0006605019815059445, \"('dirty',)\": 0.0006605019815059445, \"('one-country',)\": 0.0006605019815059445, \"('high-quality',)\": 0.0006605019815059445, \"('war-rationed',)\": 0.0006605019815059445, \"('off-off',)\": 0.0006605019815059445, \"('happy',)\": 0.0006605019815059445, \"('two-year-old',)\": 0.0006605019815059445, \"('international',)\": 0.0006605019815059445, \"('future',)\": 0.0006605019815059445, \"('integrated',)\": 0.0006605019815059445, \"('broad-based',)\": 0.0006605019815059445, \"('nonresidential',)\": 0.0006605019815059445, \"('stellar',)\": 0.0006605019815059445, \"('domestic',)\": 0.0006605019815059445, \"('unfettered',)\": 0.0006605019815059445, \"('hefty',)\": 0.0006605019815059445, \"('regulatory',)\": 0.0006605019815059445, \"('insidious',)\": 0.0006605019815059445, \"('diplomatic',)\": 0.0006605019815059445, \"('safe-deposit',)\": 0.0006605019815059445, \"('needed',)\": 0.0006605019815059445, \"('global',)\": 0.0006605019815059445, \"('gut-wrenching',)\": 0.0006605019815059445, \"('captivating',)\": 0.0006605019815059445, \"('vitriolic',)\": 0.0006605019815059445, \"('bright',)\": 0.0006605019815059445, \"('chocolate',)\": 0.0006605019815059445, \"('Typical',)\": 0.0006605019815059445, \"('open-end',)\": 0.0006605019815059445, \"('homeless',)\": 0.0006605019815059445, \"('persistent',)\": 0.0006605019815059445, \"('Industrial',)\": 0.0006605019815059445, \"('impressive',)\": 0.0006605019815059445, \"('11th',)\": 0.0006605019815059445, \"('energetic',)\": 0.0006605019815059445, \"('later',)\": 0.0006605019815059445, \"('rough',)\": 0.0006605019815059445, \"('discretionary',)\": 0.0006605019815059445, \"('COMMERCIAL',)\": 0.0006605019815059445, \"('funded',)\": 0.0006605019815059445, \"('51-year-old',)\": 0.0006605019815059445, \"('preventative',)\": 0.0006605019815059445, \"('full-length',)\": 0.0006605019815059445, \"('front',)\": 0.0006605019815059445, \"('final',)\": 0.0006605019815059445, \"('worth',)\": 0.0006605019815059445, \"('several',)\": 0.0006605019815059445, \"('poignant',)\": 0.0006605019815059445, \"('brilliant',)\": 0.0006605019815059445, \"('preferred',)\": 0.0006605019815059445, \"('low-priced',)\": 0.0006605019815059445, '<unk>': 0.0006605019815059445}\n",
      "[VB] {\"('lessen',)\": 0.0016501650165016502, \"('pass',)\": 0.0016501650165016502, \"('offer',)\": 0.0016501650165016502, \"('afford',)\": 0.0016501650165016502, \"('reflect',)\": 0.0016501650165016502, \"('discuss',)\": 0.0016501650165016502, \"('block',)\": 0.0016501650165016502, \"('unload',)\": 0.0016501650165016502, \"('mention',)\": 0.0016501650165016502, \"('chase',)\": 0.0016501650165016502, \"('retain',)\": 0.0016501650165016502, \"('spread',)\": 0.0016501650165016502, \"('penetrate',)\": 0.0016501650165016502, \"('shore',)\": 0.0016501650165016502, \"('reclaim',)\": 0.0016501650165016502, \"('follow',)\": 0.0016501650165016502, \"('stifle',)\": 0.0016501650165016502, \"('honor',)\": 0.0016501650165016502, \"('touch',)\": 0.0016501650165016502, \"('deserve',)\": 0.0016501650165016502, \"('offend',)\": 0.0016501650165016502, \"('spark',)\": 0.0016501650165016502, \"('protect',)\": 0.0016501650165016502, \"('erect',)\": 0.0016501650165016502, \"('slow',)\": 0.0016501650165016502, \"('lead',)\": 0.0016501650165016502, \"('C'mon',)\": 0.0016501650165016502, \"('drop',)\": 0.0016501650165016502, \"('clean',)\": 0.0016501650165016502, \"('define',)\": 0.0016501650165016502, \"('focus',)\": 0.0016501650165016502, \"('shake',)\": 0.0016501650165016502, \"('cover',)\": 0.0016501650165016502, \"('give',)\": 0.0016501650165016502, \"('celebrate',)\": 0.0016501650165016502, \"('expand',)\": 0.0016501650165016502, \"('persuade',)\": 0.0016501650165016502, \"('slash',)\": 0.0016501650165016502, \"('lift',)\": 0.0016501650165016502, \"('time',)\": 0.0016501650165016502, \"('store',)\": 0.0016501650165016502, \"('catch',)\": 0.0016501650165016502, \"('tote',)\": 0.0016501650165016502, \"('purchase',)\": 0.0016501650165016502, \"('begin',)\": 0.0016501650165016502, \"('scrape',)\": 0.0016501650165016502, \"('suffer',)\": 0.0016501650165016502, \"('capture',)\": 0.0016501650165016502, \"('double',)\": 0.0016501650165016502, \"('bolster',)\": 0.0016501650165016502, \"('eclipse',)\": 0.0016501650165016502, \"('wait',)\": 0.0016501650165016502, \"('beg',)\": 0.0016501650165016502, \"('receive',)\": 0.0016501650165016502, \"('hurt',)\": 0.0016501650165016502, \"('favor',)\": 0.0016501650165016502, \"('conduct',)\": 0.0016501650165016502, \"('bring',)\": 0.0016501650165016502, \"('continue',)\": 0.0016501650165016502, \"('ban',)\": 0.0016501650165016502, \"('reprove',)\": 0.0016501650165016502, \"('lock',)\": 0.0016501650165016502, \"('evolve',)\": 0.0016501650165016502, \"('demand',)\": 0.0016501650165016502, \"('realize',)\": 0.0016501650165016502, \"('convince',)\": 0.0016501650165016502, \"('teach',)\": 0.0016501650165016502, \"('declare',)\": 0.0016501650165016502, \"('overlap',)\": 0.0016501650165016502, \"('sacrifice',)\": 0.0016501650165016502, \"('advertise',)\": 0.0016501650165016502, \"('refund',)\": 0.0016501650165016502, \"('help',)\": 0.0016501650165016502, \"('taper',)\": 0.0016501650165016502, \"('uptick',)\": 0.0016501650165016502, \"('sign',)\": 0.0016501650165016502, \"('discourage',)\": 0.0016501650165016502, \"('reduce',)\": 0.0016501650165016502, \"('cheat',)\": 0.0016501650165016502, \"('usurp',)\": 0.0016501650165016502, \"('merit',)\": 0.0016501650165016502, \"('inhibit',)\": 0.0016501650165016502, \"('contain',)\": 0.0016501650165016502, \"('cost',)\": 0.0016501650165016502, \"('represent',)\": 0.0016501650165016502, \"('implant',)\": 0.0016501650165016502, \"('juggle',)\": 0.0016501650165016502, \"('stand',)\": 0.0016501650165016502, \"('justify',)\": 0.0016501650165016502, \"('ring',)\": 0.0016501650165016502, \"('flourish',)\": 0.0016501650165016502, \"('defeat',)\": 0.0016501650165016502, \"('improve',)\": 0.0016501650165016502, \"('read',)\": 0.0016501650165016502, \"('specialize',)\": 0.0016501650165016502, \"('swap',)\": 0.0016501650165016502, \"('eliminate',)\": 0.0016501650165016502, \"('contract',)\": 0.0016501650165016502, \"('notify',)\": 0.0016501650165016502, \"('compete',)\": 0.0016501650165016502, \"('care',)\": 0.0016501650165016502, \"('launch',)\": 0.0016501650165016502, \"('close',)\": 0.0016501650165016502, \"('reap',)\": 0.0016501650165016502, \"('negotiate',)\": 0.0016501650165016502, \"('Take',)\": 0.0016501650165016502, \"('Make',)\": 0.0016501650165016502, \"('turn',)\": 0.0016501650165016502, \"('become',)\": 0.0016501650165016502, \"('determine',)\": 0.0016501650165016502, \"('imagine',)\": 0.0016501650165016502, \"('trust',)\": 0.0016501650165016502, \"('put',)\": 0.0016501650165016502, \"('hope',)\": 0.0016501650165016502, \"('retard',)\": 0.0016501650165016502, \"('own',)\": 0.0016501650165016502, \"('carry',)\": 0.0016501650165016502, \"('hang',)\": 0.0016501650165016502, \"('add',)\": 0.0016501650165016502, \"('withdraw',)\": 0.0016501650165016502, \"('slip',)\": 0.0016501650165016502, \"('polish',)\": 0.0016501650165016502, \"('conclude',)\": 0.0016501650165016502, \"('redistribute',)\": 0.0016501650165016502, \"('approve',)\": 0.0016501650165016502, \"('deal',)\": 0.0016501650165016502, \"('last',)\": 0.0016501650165016502, \"('test',)\": 0.0016501650165016502, \"('contest',)\": 0.0016501650165016502, \"('pressure',)\": 0.0016501650165016502, \"('regulate',)\": 0.0016501650165016502, \"('assemble',)\": 0.0016501650165016502, \"('impose',)\": 0.0016501650165016502, \"('destroy',)\": 0.0016501650165016502, \"('push',)\": 0.0016501650165016502, \"('arrest',)\": 0.0016501650165016502, \"('single',)\": 0.0016501650165016502, \"('resist',)\": 0.0016501650165016502, \"('resolve',)\": 0.0016501650165016502, \"('compensate',)\": 0.0016501650165016502, \"('check',)\": 0.0016501650165016502, \"('intend',)\": 0.0016501650165016502, \"('herald',)\": 0.0016501650165016502, \"('let',)\": 0.0016501650165016502, \"('handle',)\": 0.0016501650165016502, \"('violate',)\": 0.0016501650165016502, \"('allow',)\": 0.0016501650165016502, \"('cite',)\": 0.0016501650165016502, \"('amend',)\": 0.0016501650165016502, \"('advance',)\": 0.0016501650165016502, \"('undo',)\": 0.0016501650165016502, \"('sew',)\": 0.0016501650165016502, \"('entice',)\": 0.0016501650165016502, \"('speak',)\": 0.0016501650165016502, \"('Forget',)\": 0.0016501650165016502, \"('produce',)\": 0.0016501650165016502, \"('compromise',)\": 0.0016501650165016502, \"('spur',)\": 0.0016501650165016502, \"('prevent',)\": 0.0016501650165016502, \"('telephone',)\": 0.0016501650165016502, \"('measure',)\": 0.0016501650165016502, \"('photocopy',)\": 0.0016501650165016502, \"('defuse',)\": 0.0016501650165016502, \"('decline',)\": 0.0016501650165016502, \"('wield',)\": 0.0016501650165016502, \"('complicate',)\": 0.0016501650165016502, \"('craft',)\": 0.0016501650165016502, \"('refile',)\": 0.0016501650165016502, \"('play',)\": 0.0016501650165016502, \"('reprint',)\": 0.0016501650165016502, \"('accommodate',)\": 0.0016501650165016502, \"('watch',)\": 0.0016501650165016502, \"('indicate',)\": 0.0016501650165016502, \"('seduce',)\": 0.0016501650165016502, \"('respond',)\": 0.0016501650165016502, \"('agree',)\": 0.0016501650165016502, \"('back',)\": 0.0016501650165016502, \"('include',)\": 0.0016501650165016502, \"('appear',)\": 0.0016501650165016502, \"('reach',)\": 0.0016501650165016502, \"('trash',)\": 0.0016501650165016502, \"('train',)\": 0.0016501650165016502, \"('involve',)\": 0.0016501650165016502, \"('hold',)\": 0.0016501650165016502, \"('fly',)\": 0.0016501650165016502, \"('resubmit',)\": 0.0016501650165016502, \"('devote',)\": 0.0016501650165016502, \"('diversify',)\": 0.0016501650165016502, \"('support',)\": 0.0016501650165016502, \"('quote',)\": 0.0016501650165016502, \"('call',)\": 0.0016501650165016502, \"('Do',)\": 0.0016501650165016502, \"('Think',)\": 0.0016501650165016502, \"('Pick',)\": 0.0016501650165016502, \"('shoot',)\": 0.0016501650165016502, \"('earn',)\": 0.0016501650165016502, \"('hire',)\": 0.0016501650165016502, \"('identify',)\": 0.0016501650165016502, \"('encounter',)\": 0.0016501650165016502, \"('promote',)\": 0.0016501650165016502, \"('bludgeon',)\": 0.0016501650165016502, \"('save',)\": 0.0016501650165016502, \"('despise',)\": 0.0016501650165016502, \"('aim',)\": 0.0016501650165016502, \"('make',)\": 0.0016501650165016502, \"('disgorge',)\": 0.0016501650165016502, \"('apologize',)\": 0.0016501650165016502, \"('withstand',)\": 0.0016501650165016502, \"('believe',)\": 0.0016501650165016502, \"('enact',)\": 0.0016501650165016502, \"('discharge',)\": 0.0016501650165016502, \"('serve',)\": 0.0016501650165016502, \"('renew',)\": 0.0016501650165016502, \"('combat',)\": 0.0016501650165016502, \"('clear',)\": 0.0016501650165016502, \"('look',)\": 0.0016501650165016502, \"('bless',)\": 0.0016501650165016502, \"('default',)\": 0.0016501650165016502, \"('signal',)\": 0.0016501650165016502, \"('settle',)\": 0.0016501650165016502, \"('belong',)\": 0.0016501650165016502, \"('beat',)\": 0.0016501650165016502, \"('depend',)\": 0.0016501650165016502, \"('select',)\": 0.0016501650165016502, \"('encourage',)\": 0.0016501650165016502, \"('rule',)\": 0.0016501650165016502, \"('switch',)\": 0.0016501650165016502, \"('harass',)\": 0.0016501650165016502, \"('explain',)\": 0.0016501650165016502, \"('house',)\": 0.0016501650165016502, \"('impede',)\": 0.0016501650165016502, \"('set',)\": 0.0016501650165016502, \"('override',)\": 0.0016501650165016502, \"('invite',)\": 0.0016501650165016502, \"('range',)\": 0.0016501650165016502, \"('get',)\": 0.0016501650165016502, \"('achieve',)\": 0.0016501650165016502, \"('debate',)\": 0.0016501650165016502, \"('have',)\": 0.0016501650165016502, \"('exceed',)\": 0.0016501650165016502, \"('end',)\": 0.0016501650165016502, \"('manufacture',)\": 0.0016501650165016502, \"('entertain',)\": 0.0016501650165016502, \"('enable',)\": 0.0016501650165016502, \"('regenerate',)\": 0.0016501650165016502, \"('attend',)\": 0.0016501650165016502, \"('feel',)\": 0.0016501650165016502, \"('veto',)\": 0.0016501650165016502, \"('vary',)\": 0.0016501650165016502, \"('know',)\": 0.0016501650165016502, \"('delete',)\": 0.0016501650165016502, \"('computerize',)\": 0.0016501650165016502, \"('choose',)\": 0.0016501650165016502, \"('pour',)\": 0.0016501650165016502, \"('audit',)\": 0.0016501650165016502, \"('diminish',)\": 0.0016501650165016502, \"('pay',)\": 0.0016501650165016502, \"('emerge',)\": 0.0016501650165016502, \"('execute',)\": 0.0016501650165016502, \"('monopolize',)\": 0.0016501650165016502, \"('plan',)\": 0.0016501650165016502, \"('sit',)\": 0.0016501650165016502, \"('perform',)\": 0.0016501650165016502, \"('view',)\": 0.0016501650165016502, \"('sound',)\": 0.0016501650165016502, \"('stake',)\": 0.0016501650165016502, \"('talk',)\": 0.0016501650165016502, \"('fold',)\": 0.0016501650165016502, \"('broaden',)\": 0.0016501650165016502, \"('disappear',)\": 0.0016501650165016502, \"('contribute',)\": 0.0016501650165016502, \"('augment',)\": 0.0016501650165016502, \"('assert',)\": 0.0016501650165016502, \"('step',)\": 0.0016501650165016502, \"('recommend',)\": 0.0016501650165016502, \"('hit',)\": 0.0016501650165016502, \"('maximize',)\": 0.0016501650165016502, \"('oversee',)\": 0.0016501650165016502, \"('affect',)\": 0.0016501650165016502, \"('stop',)\": 0.0016501650165016502, \"('redeem',)\": 0.0016501650165016502, \"('confuse',)\": 0.0016501650165016502, \"('consider',)\": 0.0016501650165016502, \"('provide',)\": 0.0016501650165016502, \"('argue',)\": 0.0016501650165016502, \"('wear',)\": 0.0016501650165016502, \"('rise',)\": 0.0016501650165016502, \"('happen',)\": 0.0016501650165016502, \"('publish',)\": 0.0016501650165016502, \"('appoint',)\": 0.0016501650165016502, \"('vote',)\": 0.0016501650165016502, \"('Consider',)\": 0.0016501650165016502, \"('restore',)\": 0.0016501650165016502, \"('predispose',)\": 0.0016501650165016502, \"('review',)\": 0.0016501650165016502, \"('log',)\": 0.0016501650165016502, \"('export',)\": 0.0016501650165016502, \"('stay',)\": 0.0016501650165016502, \"('go',)\": 0.0016501650165016502, \"('succeed',)\": 0.0016501650165016502, \"('engage',)\": 0.0016501650165016502, \"('wish',)\": 0.0016501650165016502, \"('introduce',)\": 0.0016501650165016502, \"('describe',)\": 0.0016501650165016502, \"('share',)\": 0.0016501650165016502, \"('attract',)\": 0.0016501650165016502, \"('oppose',)\": 0.0016501650165016502, \"('overcome',)\": 0.0016501650165016502, \"('control',)\": 0.0016501650165016502, \"('halve',)\": 0.0016501650165016502, \"('color',)\": 0.0016501650165016502, \"('top',)\": 0.0016501650165016502, \"('match',)\": 0.0016501650165016502, \"('weaken',)\": 0.0016501650165016502, \"('come',)\": 0.0016501650165016502, \"('join',)\": 0.0016501650165016502, \"('report',)\": 0.0016501650165016502, \"('replace',)\": 0.0016501650165016502, \"('study',)\": 0.0016501650165016502, \"('fail',)\": 0.0016501650165016502, \"('supply',)\": 0.0016501650165016502, \"('work',)\": 0.0016501650165016502, \"('analyze',)\": 0.0016501650165016502, \"('target',)\": 0.0016501650165016502, \"('try',)\": 0.0016501650165016502, \"('jump',)\": 0.0016501650165016502, \"('note',)\": 0.0016501650165016502, \"('license',)\": 0.0016501650165016502, \"('seize',)\": 0.0016501650165016502, \"('clarify',)\": 0.0016501650165016502, \"('win',)\": 0.0016501650165016502, \"('permit',)\": 0.0016501650165016502, \"('take',)\": 0.0016501650165016502, \"('elaborate',)\": 0.0016501650165016502, \"('Kill',)\": 0.0016501650165016502, \"('manipulate',)\": 0.0016501650165016502, \"('impart',)\": 0.0016501650165016502, \"('prescribe',)\": 0.0016501650165016502, \"('account',)\": 0.0016501650165016502, \"('tip',)\": 0.0016501650165016502, \"('answer',)\": 0.0016501650165016502, \"('charge',)\": 0.0016501650165016502, \"('exploit',)\": 0.0016501650165016502, \"('modify',)\": 0.0016501650165016502, \"('strip',)\": 0.0016501650165016502, \"('commit',)\": 0.0016501650165016502, \"('transfer',)\": 0.0016501650165016502, \"('seek',)\": 0.0016501650165016502, \"('apply',)\": 0.0016501650165016502, \"('unwind',)\": 0.0016501650165016502, \"('risk',)\": 0.0016501650165016502, \"('figure',)\": 0.0016501650165016502, \"('fabricate',)\": 0.0016501650165016502, \"('understand',)\": 0.0016501650165016502, \"('bounce',)\": 0.0016501650165016502, \"('prove',)\": 0.0016501650165016502, \"('trade',)\": 0.0016501650165016502, \"('book',)\": 0.0016501650165016502, \"('load',)\": 0.0016501650165016502, \"('rewrite',)\": 0.0016501650165016502, \"('combine',)\": 0.0016501650165016502, \"('replicate',)\": 0.0016501650165016502, \"('redeploy',)\": 0.0016501650165016502, \"('concern',)\": 0.0016501650165016502, \"('cure',)\": 0.0016501650165016502, \"('intimidate',)\": 0.0016501650165016502, \"('think',)\": 0.0016501650165016502, \"('mature',)\": 0.0016501650165016502, \"('resonate',)\": 0.0016501650165016502, \"('acquire',)\": 0.0016501650165016502, \"('roll',)\": 0.0016501650165016502, \"('string',)\": 0.0016501650165016502, \"('benefit',)\": 0.0016501650165016502, \"('equip',)\": 0.0016501650165016502, \"('duck',)\": 0.0016501650165016502, \"('abide',)\": 0.0016501650165016502, \"('announce',)\": 0.0016501650165016502, \"('want',)\": 0.0016501650165016502, \"('file',)\": 0.0016501650165016502, \"('create',)\": 0.0016501650165016502, \"('return',)\": 0.0016501650165016502, \"('draw',)\": 0.0016501650165016502, \"('occur',)\": 0.0016501650165016502, \"('issue',)\": 0.0016501650165016502, \"('display',)\": 0.0016501650165016502, \"('mind',)\": 0.0016501650165016502, \"('command',)\": 0.0016501650165016502, \"('start',)\": 0.0016501650165016502, \"('erode',)\": 0.0016501650165016502, \"('increase',)\": 0.0016501650165016502, \"('buy',)\": 0.0016501650165016502, \"('grapple',)\": 0.0016501650165016502, \"('implement',)\": 0.0016501650165016502, \"('complete',)\": 0.0016501650165016502, \"('mend',)\": 0.0016501650165016502, \"('ease',)\": 0.0016501650165016502, \"('curb',)\": 0.0016501650165016502, \"('use',)\": 0.0016501650165016502, \"('maintain',)\": 0.0016501650165016502, \"('punish',)\": 0.0016501650165016502, \"('discredit',)\": 0.0016501650165016502, \"('attack',)\": 0.0016501650165016502, \"('lose',)\": 0.0016501650165016502, \"('move',)\": 0.0016501650165016502, \"('merge',)\": 0.0016501650165016502, \"('welcome',)\": 0.0016501650165016502, \"('sell',)\": 0.0016501650165016502, \"('shrug',)\": 0.0016501650165016502, \"('emigrate',)\": 0.0016501650165016502, \"('deliver',)\": 0.0016501650165016502, \"('spend',)\": 0.0016501650165016502, \"('result',)\": 0.0016501650165016502, \"('profit',)\": 0.0016501650165016502, \"('stem',)\": 0.0016501650165016502, \"('grant',)\": 0.0016501650165016502, \"('seem',)\": 0.0016501650165016502, \"('tolerate',)\": 0.0016501650165016502, \"('tuck',)\": 0.0016501650165016502, \"('head',)\": 0.0016501650165016502, \"('propagandize',)\": 0.0016501650165016502, \"('Buy',)\": 0.0016501650165016502, \"('build',)\": 0.0016501650165016502, \"('gain',)\": 0.0016501650165016502, \"('pair',)\": 0.0016501650165016502, \"('project',)\": 0.0016501650165016502, \"('operate',)\": 0.0016501650165016502, \"('faint',)\": 0.0016501650165016502, \"('offset',)\": 0.0016501650165016502, \"('learn',)\": 0.0016501650165016502, \"('recognize',)\": 0.0016501650165016502, \"('print',)\": 0.0016501650165016502, \"('meet',)\": 0.0016501650165016502, \"('preclude',)\": 0.0016501650165016502, \"('exercise',)\": 0.0016501650165016502, \"('scream',)\": 0.0016501650165016502, \"('matter',)\": 0.0016501650165016502, \"('denounce',)\": 0.0016501650165016502, \"('face',)\": 0.0016501650165016502, \"('phase',)\": 0.0016501650165016502, \"('decide',)\": 0.0016501650165016502, \"('install',)\": 0.0016501650165016502, \"('survive',)\": 0.0016501650165016502, \"('institute',)\": 0.0016501650165016502, \"('raise',)\": 0.0016501650165016502, \"('please',)\": 0.0016501650165016502, \"('copy',)\": 0.0016501650165016502, \"('Put',)\": 0.0016501650165016502, \"('swallow',)\": 0.0016501650165016502, \"('counteract',)\": 0.0016501650165016502, \"('insert',)\": 0.0016501650165016502, \"('invent',)\": 0.0016501650165016502, \"('hear',)\": 0.0016501650165016502, \"('red-flag',)\": 0.0016501650165016502, \"('reject',)\": 0.0016501650165016502, \"('boast',)\": 0.0016501650165016502, \"('pursue',)\": 0.0016501650165016502, \"('map',)\": 0.0016501650165016502, \"('pick',)\": 0.0016501650165016502, \"('reopen',)\": 0.0016501650165016502, \"('glamorize',)\": 0.0016501650165016502, \"('enter',)\": 0.0016501650165016502, \"('ensure',)\": 0.0016501650165016502, \"('recruit',)\": 0.0016501650165016502, \"('finance',)\": 0.0016501650165016502, \"('cause',)\": 0.0016501650165016502, \"('accept',)\": 0.0016501650165016502, \"('design',)\": 0.0016501650165016502, \"('fund',)\": 0.0016501650165016502, \"('chat',)\": 0.0016501650165016502, \"('act',)\": 0.0016501650165016502, \"('slide',)\": 0.0016501650165016502, \"('speed',)\": 0.0016501650165016502, \"('reward',)\": 0.0016501650165016502, \"('Choose',)\": 0.0016501650165016502, \"('accompany',)\": 0.0016501650165016502, \"('predict',)\": 0.0016501650165016502, \"('parallel',)\": 0.0016501650165016502, \"('gauge',)\": 0.0016501650165016502, \"('find',)\": 0.0016501650165016502, \"('deny',)\": 0.0016501650165016502, \"('breathe',)\": 0.0016501650165016502, \"('contradict',)\": 0.0016501650165016502, \"('Compare',)\": 0.0016501650165016502, \"('total',)\": 0.0016501650165016502, \"('change',)\": 0.0016501650165016502, \"('travel',)\": 0.0016501650165016502, \"('brief',)\": 0.0016501650165016502, \"('migrate',)\": 0.0016501650165016502, \"('nominate',)\": 0.0016501650165016502, \"('send',)\": 0.0016501650165016502, \"('lure',)\": 0.0016501650165016502, \"('worry',)\": 0.0016501650165016502, \"('breach',)\": 0.0016501650165016502, \"('submit',)\": 0.0016501650165016502, \"('direct',)\": 0.0016501650165016502, \"('consist',)\": 0.0016501650165016502, \"('die',)\": 0.0016501650165016502, \"('resume',)\": 0.0016501650165016502, \"('remove',)\": 0.0016501650165016502, \"('run',)\": 0.0016501650165016502, \"('record',)\": 0.0016501650165016502, \"('qualify',)\": 0.0016501650165016502, \"('say',)\": 0.0016501650165016502, \"('pull',)\": 0.0016501650165016502, \"('inform',)\": 0.0016501650165016502, \"('disseminate',)\": 0.0016501650165016502, \"('keep',)\": 0.0016501650165016502, \"('cope',)\": 0.0016501650165016502, \"('weather',)\": 0.0016501650165016502, \"('post',)\": 0.0016501650165016502, \"('live',)\": 0.0016501650165016502, \"('Sit',)\": 0.0016501650165016502, \"('pose',)\": 0.0016501650165016502, \"('revive',)\": 0.0016501650165016502, \"('reallocate',)\": 0.0016501650165016502, \"('excise',)\": 0.0016501650165016502, \"('correct',)\": 0.0016501650165016502, \"('disclose',)\": 0.0016501650165016502, \"('like',)\": 0.0016501650165016502, \"('require',)\": 0.0016501650165016502, \"('do',)\": 0.0016501650165016502, \"('sleep',)\": 0.0016501650165016502, \"('force',)\": 0.0016501650165016502, \"('speculate',)\": 0.0016501650165016502, \"('administer',)\": 0.0016501650165016502, \"('entrench',)\": 0.0016501650165016502, \"('be',)\": 0.0016501650165016502, \"('recover',)\": 0.0016501650165016502, \"('mean',)\": 0.0016501650165016502, \"('discontinue',)\": 0.0016501650165016502, \"('exist',)\": 0.0016501650165016502, \"('ask',)\": 0.0016501650165016502, \"('abandon',)\": 0.0016501650165016502, \"('highlight',)\": 0.0016501650165016502, \"('acknowledge',)\": 0.0016501650165016502, \"('Eliminate',)\": 0.0016501650165016502, \"('swing',)\": 0.0016501650165016502, \"('recall',)\": 0.0016501650165016502, \"('treat',)\": 0.0016501650165016502, \"('generate',)\": 0.0016501650165016502, \"('boost',)\": 0.0016501650165016502, \"('emasculate',)\": 0.0016501650165016502, \"('open',)\": 0.0016501650165016502, \"('comment',)\": 0.0016501650165016502, \"('yield',)\": 0.0016501650165016502, \"('suit',)\": 0.0016501650165016502, \"('address',)\": 0.0016501650165016502, \"('enforce',)\": 0.0016501650165016502, \"('underpin',)\": 0.0016501650165016502, \"('shut',)\": 0.0016501650165016502, \"('decrease',)\": 0.0016501650165016502, \"('bend',)\": 0.0016501650165016502, \"('leave',)\": 0.0016501650165016502, \"('expect',)\": 0.0016501650165016502, \"('cut',)\": 0.0016501650165016502, \"('panic',)\": 0.0016501650165016502, \"('fill',)\": 0.0016501650165016502, \"('blip',)\": 0.0016501650165016502, \"('bar',)\": 0.0016501650165016502, \"('obtain',)\": 0.0016501650165016502, \"('place',)\": 0.0016501650165016502, \"('experience',)\": 0.0016501650165016502, \"('fend',)\": 0.0016501650165016502, \"('avoid',)\": 0.0016501650165016502, \"('limit',)\": 0.0016501650165016502, \"('break',)\": 0.0016501650165016502, \"('see',)\": 0.0016501650165016502, \"('compel',)\": 0.0016501650165016502, \"('name',)\": 0.0016501650165016502, \"('expire',)\": 0.0016501650165016502, \"('endorse',)\": 0.0016501650165016502, \"('sue',)\": 0.0016501650165016502, \"('suspend',)\": 0.0016501650165016502, \"('steal',)\": 0.0016501650165016502, \"('provoke',)\": 0.0016501650165016502, \"('divest',)\": 0.0016501650165016502, \"('crack',)\": 0.0016501650165016502, \"('even',)\": 0.0016501650165016502, \"('link',)\": 0.0016501650165016502, \"('whipsaw',)\": 0.0016501650165016502, \"('sink',)\": 0.0016501650165016502, \"('Send',)\": 0.0016501650165016502, \"('tilt',)\": 0.0016501650165016502, \"('withhold',)\": 0.0016501650165016502, \"('fall',)\": 0.0016501650165016502, \"('prosecute',)\": 0.0016501650165016502, \"('extend',)\": 0.0016501650165016502, \"('hunker',)\": 0.0016501650165016502, \"('develop',)\": 0.0016501650165016502, \"('rate',)\": 0.0016501650165016502, \"('facilitate',)\": 0.0016501650165016502, \"('remain',)\": 0.0016501650165016502, \"('assist',)\": 0.0016501650165016502, \"('underline',)\": 0.0016501650165016502, \"('suspect',)\": 0.0016501650165016502, \"('aid',)\": 0.0016501650165016502, \"('testify',)\": 0.0016501650165016502, \"('prepare',)\": 0.0016501650165016502, \"('Remember',)\": 0.0016501650165016502, \"('split',)\": 0.0016501650165016502, \"('ward',)\": 0.0016501650165016502, \"('assure',)\": 0.0016501650165016502, \"('concentrate',)\": 0.0016501650165016502, \"('buffet',)\": 0.0016501650165016502, \"('establish',)\": 0.0016501650165016502, '<unk>': 0.0016501650165016502}\n",
      "[NNS] {\"('inventories',)\": 0.0007751937984496124, \"('neutrons',)\": 0.0007751937984496124, \"('buyers',)\": 0.0007751937984496124, \"('transactions',)\": 0.0007751937984496124, \"('subscriptions',)\": 0.0007751937984496124, \"('representatives',)\": 0.0007751937984496124, \"('swaps',)\": 0.0007751937984496124, \"('Sundays',)\": 0.0007751937984496124, \"('sheets',)\": 0.0007751937984496124, \"('executives',)\": 0.0007751937984496124, \"('observations',)\": 0.0007751937984496124, \"('expenses',)\": 0.0007751937984496124, \"('swings',)\": 0.0007751937984496124, \"('platitudes',)\": 0.0007751937984496124, \"('Dealers',)\": 0.0007751937984496124, \"('results',)\": 0.0007751937984496124, \"('workers',)\": 0.0007751937984496124, \"('books',)\": 0.0007751937984496124, \"('debts',)\": 0.0007751937984496124, \"('cells',)\": 0.0007751937984496124, \"('newspapers',)\": 0.0007751937984496124, \"('watchers',)\": 0.0007751937984496124, \"('intertitles',)\": 0.0007751937984496124, \"('colleagues',)\": 0.0007751937984496124, \"('debentures',)\": 0.0007751937984496124, \"('sides',)\": 0.0007751937984496124, \"('accomplishments',)\": 0.0007751937984496124, \"('savings',)\": 0.0007751937984496124, \"('lawsuits',)\": 0.0007751937984496124, \"('Employers',)\": 0.0007751937984496124, \"('calculations',)\": 0.0007751937984496124, \"('hustlers',)\": 0.0007751937984496124, \"('sanctions',)\": 0.0007751937984496124, \"('missiles',)\": 0.0007751937984496124, \"('anti-abortionists',)\": 0.0007751937984496124, \"('fixtures',)\": 0.0007751937984496124, \"('generalizations',)\": 0.0007751937984496124, \"('arbitragers',)\": 0.0007751937984496124, \"('pins',)\": 0.0007751937984496124, \"('BANKERS',)\": 0.0007751937984496124, \"('Policies',)\": 0.0007751937984496124, \"('defendants',)\": 0.0007751937984496124, \"('brokers',)\": 0.0007751937984496124, \"('families',)\": 0.0007751937984496124, \"('drinks',)\": 0.0007751937984496124, \"('demonstrations',)\": 0.0007751937984496124, \"('requests',)\": 0.0007751937984496124, \"('appropriators',)\": 0.0007751937984496124, \"('takings',)\": 0.0007751937984496124, \"('calls',)\": 0.0007751937984496124, \"('administrators',)\": 0.0007751937984496124, \"('causes',)\": 0.0007751937984496124, \"('indexers',)\": 0.0007751937984496124, \"('alcoholics',)\": 0.0007751937984496124, \"('Producers',)\": 0.0007751937984496124, \"('stocks',)\": 0.0007751937984496124, \"('valuations',)\": 0.0007751937984496124, \"('spirits',)\": 0.0007751937984496124, \"('lawyers',)\": 0.0007751937984496124, \"('tigers',)\": 0.0007751937984496124, \"('Manufacturers',)\": 0.0007751937984496124, \"('bloods',)\": 0.0007751937984496124, \"('advocates',)\": 0.0007751937984496124, \"('viewpoints',)\": 0.0007751937984496124, \"('transplants',)\": 0.0007751937984496124, \"('borders',)\": 0.0007751937984496124, \"('texts',)\": 0.0007751937984496124, \"('carriers',)\": 0.0007751937984496124, \"('moments',)\": 0.0007751937984496124, \"('dealers',)\": 0.0007751937984496124, \"('champions',)\": 0.0007751937984496124, \"('billings',)\": 0.0007751937984496124, \"('cups',)\": 0.0007751937984496124, \"('beds',)\": 0.0007751937984496124, \"('signs',)\": 0.0007751937984496124, \"('giveaways',)\": 0.0007751937984496124, \"('carillons',)\": 0.0007751937984496124, \"('days',)\": 0.0007751937984496124, \"('doors',)\": 0.0007751937984496124, \"('areas',)\": 0.0007751937984496124, \"('gyrations',)\": 0.0007751937984496124, \"('strings',)\": 0.0007751937984496124, \"('theaters',)\": 0.0007751937984496124, \"('circumstances',)\": 0.0007751937984496124, \"('bags',)\": 0.0007751937984496124, \"('hotels',)\": 0.0007751937984496124, \"('belts',)\": 0.0007751937984496124, \"('prints',)\": 0.0007751937984496124, \"('structures',)\": 0.0007751937984496124, \"('incentives',)\": 0.0007751937984496124, \"('Japanese',)\": 0.0007751937984496124, \"('interventions',)\": 0.0007751937984496124, \"('possessions',)\": 0.0007751937984496124, \"('Soviets',)\": 0.0007751937984496124, \"('decades',)\": 0.0007751937984496124, \"('women',)\": 0.0007751937984496124, \"('journalists',)\": 0.0007751937984496124, \"('lines',)\": 0.0007751937984496124, \"('vaccines',)\": 0.0007751937984496124, \"('moons',)\": 0.0007751937984496124, \"('systems',)\": 0.0007751937984496124, \"('speculators',)\": 0.0007751937984496124, \"('acts',)\": 0.0007751937984496124, \"('managers',)\": 0.0007751937984496124, \"('growers',)\": 0.0007751937984496124, \"('weeklies',)\": 0.0007751937984496124, \"('Payments',)\": 0.0007751937984496124, \"('performers',)\": 0.0007751937984496124, \"('manufacturers',)\": 0.0007751937984496124, \"('pools',)\": 0.0007751937984496124, \"('Analysts',)\": 0.0007751937984496124, \"('ADRs',)\": 0.0007751937984496124, \"('jugglers',)\": 0.0007751937984496124, \"('airlines',)\": 0.0007751937984496124, \"('pockets',)\": 0.0007751937984496124, \"('Assets',)\": 0.0007751937984496124, \"('options',)\": 0.0007751937984496124, \"('tire-kickers',)\": 0.0007751937984496124, \"('refunds',)\": 0.0007751937984496124, \"('fibers',)\": 0.0007751937984496124, \"('shows',)\": 0.0007751937984496124, \"('returns',)\": 0.0007751937984496124, \"('needs',)\": 0.0007751937984496124, \"('belfries',)\": 0.0007751937984496124, \"('neighborhoods',)\": 0.0007751937984496124, \"('contacts',)\": 0.0007751937984496124, \"('acquisitions',)\": 0.0007751937984496124, \"('effects',)\": 0.0007751937984496124, \"('pickers',)\": 0.0007751937984496124, \"('negotiations',)\": 0.0007751937984496124, \"('suspensions',)\": 0.0007751937984496124, \"('Compromises',)\": 0.0007751937984496124, \"('IOUs',)\": 0.0007751937984496124, \"('rises',)\": 0.0007751937984496124, \"('alumni',)\": 0.0007751937984496124, \"('purchases',)\": 0.0007751937984496124, \"('charts',)\": 0.0007751937984496124, \"('joys',)\": 0.0007751937984496124, \"('queers',)\": 0.0007751937984496124, \"('attempts',)\": 0.0007751937984496124, \"('friends',)\": 0.0007751937984496124, \"('bonds',)\": 0.0007751937984496124, \"('Payouts',)\": 0.0007751937984496124, \"('indications',)\": 0.0007751937984496124, \"('fees',)\": 0.0007751937984496124, \"('burdens',)\": 0.0007751937984496124, \"('diseases',)\": 0.0007751937984496124, \"('colleges',)\": 0.0007751937984496124, \"('magazines',)\": 0.0007751937984496124, \"('restrictions',)\": 0.0007751937984496124, \"('rivals',)\": 0.0007751937984496124, \"('pickups',)\": 0.0007751937984496124, \"('fields',)\": 0.0007751937984496124, \"('shivers',)\": 0.0007751937984496124, \"('Individuals',)\": 0.0007751937984496124, \"('hospitals',)\": 0.0007751937984496124, \"('droughts',)\": 0.0007751937984496124, \"('wizards',)\": 0.0007751937984496124, \"('words',)\": 0.0007751937984496124, \"('children',)\": 0.0007751937984496124, \"('moves',)\": 0.0007751937984496124, \"('traders',)\": 0.0007751937984496124, \"('practitioners',)\": 0.0007751937984496124, \"('salarymen',)\": 0.0007751937984496124, \"('growths',)\": 0.0007751937984496124, \"('tablets',)\": 0.0007751937984496124, \"('passions',)\": 0.0007751937984496124, \"('inmates',)\": 0.0007751937984496124, \"('posts',)\": 0.0007751937984496124, \"('C.D.s',)\": 0.0007751937984496124, \"('deaths',)\": 0.0007751937984496124, \"('benefits',)\": 0.0007751937984496124, \"('boyfriends',)\": 0.0007751937984496124, \"('Prosecutors',)\": 0.0007751937984496124, \"('forces',)\": 0.0007751937984496124, \"('apples',)\": 0.0007751937984496124, \"('People',)\": 0.0007751937984496124, \"('shortages',)\": 0.0007751937984496124, \"('stockbrokers',)\": 0.0007751937984496124, \"('offices',)\": 0.0007751937984496124, \"('companies',)\": 0.0007751937984496124, \"('commissions',)\": 0.0007751937984496124, \"('letters',)\": 0.0007751937984496124, \"('framers',)\": 0.0007751937984496124, \"('railcars',)\": 0.0007751937984496124, \"('Attorneys',)\": 0.0007751937984496124, \"('subjects',)\": 0.0007751937984496124, \"('appropriations',)\": 0.0007751937984496124, \"('pharaohs',)\": 0.0007751937984496124, \"('beneficiaries',)\": 0.0007751937984496124, \"('Experts',)\": 0.0007751937984496124, \"('currencies',)\": 0.0007751937984496124, \"('building-products',)\": 0.0007751937984496124, \"('records',)\": 0.0007751937984496124, \"('clients',)\": 0.0007751937984496124, \"('passers-by',)\": 0.0007751937984496124, \"('peaks',)\": 0.0007751937984496124, \"('lesions',)\": 0.0007751937984496124, \"('responses',)\": 0.0007751937984496124, \"('approaches',)\": 0.0007751937984496124, \"('economies',)\": 0.0007751937984496124, \"('bases',)\": 0.0007751937984496124, \"('inefficiencies',)\": 0.0007751937984496124, \"('fines',)\": 0.0007751937984496124, \"('scientists',)\": 0.0007751937984496124, \"('policies',)\": 0.0007751937984496124, \"('Researchers',)\": 0.0007751937984496124, \"('shadows',)\": 0.0007751937984496124, \"('stations',)\": 0.0007751937984496124, \"('degrees',)\": 0.0007751937984496124, \"('plainclothes',)\": 0.0007751937984496124, \"('dividends',)\": 0.0007751937984496124, \"('stirrings',)\": 0.0007751937984496124, \"('data',)\": 0.0007751937984496124, \"('generators',)\": 0.0007751937984496124, \"('index-options',)\": 0.0007751937984496124, \"('certificates',)\": 0.0007751937984496124, \"('smokers',)\": 0.0007751937984496124, \"('allies',)\": 0.0007751937984496124, \"('watchdogs',)\": 0.0007751937984496124, \"('deposits',)\": 0.0007751937984496124, \"('editors',)\": 0.0007751937984496124, \"('openings',)\": 0.0007751937984496124, \"('drivers',)\": 0.0007751937984496124, \"('delays',)\": 0.0007751937984496124, \"('telecommunications',)\": 0.0007751937984496124, \"('RATES',)\": 0.0007751937984496124, \"('ballots',)\": 0.0007751937984496124, \"('parts',)\": 0.0007751937984496124, \"('benchmarks',)\": 0.0007751937984496124, \"('damages',)\": 0.0007751937984496124, \"('stores',)\": 0.0007751937984496124, \"('pieces',)\": 0.0007751937984496124, \"('shareholders',)\": 0.0007751937984496124, \"('visits',)\": 0.0007751937984496124, \"('implications',)\": 0.0007751937984496124, \"('examinations',)\": 0.0007751937984496124, \"('agencies',)\": 0.0007751937984496124, \"('pricings',)\": 0.0007751937984496124, \"('lungs',)\": 0.0007751937984496124, \"('cards',)\": 0.0007751937984496124, \"('persons',)\": 0.0007751937984496124, \"('superiors',)\": 0.0007751937984496124, \"('particulars',)\": 0.0007751937984496124, \"('members',)\": 0.0007751937984496124, \"('savers\\\\/investors',)\": 0.0007751937984496124, \"('Futures',)\": 0.0007751937984496124, \"('sports',)\": 0.0007751937984496124, \"('commitments',)\": 0.0007751937984496124, \"('mistakes',)\": 0.0007751937984496124, \"('obstacles',)\": 0.0007751937984496124, \"('audiocassettes',)\": 0.0007751937984496124, \"('names',)\": 0.0007751937984496124, \"('comedies',)\": 0.0007751937984496124, \"('CDs',)\": 0.0007751937984496124, \"('aisles',)\": 0.0007751937984496124, \"('corners',)\": 0.0007751937984496124, \"('farms',)\": 0.0007751937984496124, \"('machines',)\": 0.0007751937984496124, \"('thousands',)\": 0.0007751937984496124, \"('municipalities',)\": 0.0007751937984496124, \"('items',)\": 0.0007751937984496124, \"('addresses',)\": 0.0007751937984496124, \"('chemicals',)\": 0.0007751937984496124, \"('Interviews',)\": 0.0007751937984496124, \"('guys',)\": 0.0007751937984496124, \"('broadcasts',)\": 0.0007751937984496124, \"('Stadiums',)\": 0.0007751937984496124, \"('attractions',)\": 0.0007751937984496124, \"('medallions',)\": 0.0007751937984496124, \"('contradictions',)\": 0.0007751937984496124, \"('amphobiles',)\": 0.0007751937984496124, \"('Corporations',)\": 0.0007751937984496124, \"('studies',)\": 0.0007751937984496124, \"('thanks',)\": 0.0007751937984496124, \"('cases',)\": 0.0007751937984496124, \"('factors',)\": 0.0007751937984496124, \"('groups',)\": 0.0007751937984496124, \"('perceptions',)\": 0.0007751937984496124, \"('declines',)\": 0.0007751937984496124, \"('technologies',)\": 0.0007751937984496124, \"('computers',)\": 0.0007751937984496124, \"('octogenarians',)\": 0.0007751937984496124, \"('crashes',)\": 0.0007751937984496124, \"('samples',)\": 0.0007751937984496124, \"('tens',)\": 0.0007751937984496124, \"('interests',)\": 0.0007751937984496124, \"('acquirers',)\": 0.0007751937984496124, \"('blocks',)\": 0.0007751937984496124, \"('solutions',)\": 0.0007751937984496124, \"('aspects',)\": 0.0007751937984496124, \"('ways',)\": 0.0007751937984496124, \"('hurdles',)\": 0.0007751937984496124, \"('concerns',)\": 0.0007751937984496124, \"('suppliers',)\": 0.0007751937984496124, \"('cues',)\": 0.0007751937984496124, \"('details',)\": 0.0007751937984496124, \"('rankings',)\": 0.0007751937984496124, \"('Judges',)\": 0.0007751937984496124, \"('unions',)\": 0.0007751937984496124, \"('speeches',)\": 0.0007751937984496124, \"('Critics',)\": 0.0007751937984496124, \"('actions',)\": 0.0007751937984496124, \"('strategies',)\": 0.0007751937984496124, \"('supercomputers',)\": 0.0007751937984496124, \"('inquiries',)\": 0.0007751937984496124, \"('prizes',)\": 0.0007751937984496124, \"('felonies',)\": 0.0007751937984496124, \"('doctors',)\": 0.0007751937984496124, \"('merits',)\": 0.0007751937984496124, \"('soldiers',)\": 0.0007751937984496124, \"('banks',)\": 0.0007751937984496124, \"('men',)\": 0.0007751937984496124, \"('disclosures',)\": 0.0007751937984496124, \"('electronics',)\": 0.0007751937984496124, \"('emergencies',)\": 0.0007751937984496124, \"('warrants',)\": 0.0007751937984496124, \"('maturities',)\": 0.0007751937984496124, \"('grants',)\": 0.0007751937984496124, \"('vans',)\": 0.0007751937984496124, \"('periods',)\": 0.0007751937984496124, \"('guarantees',)\": 0.0007751937984496124, \"('limits',)\": 0.0007751937984496124, \"('marketers',)\": 0.0007751937984496124, \"('holdings',)\": 0.0007751937984496124, \"('associates',)\": 0.0007751937984496124, \"('concessions',)\": 0.0007751937984496124, \"('breakers',)\": 0.0007751937984496124, \"('schoolboys',)\": 0.0007751937984496124, \"('copies',)\": 0.0007751937984496124, \"('agents',)\": 0.0007751937984496124, \"('soybeans',)\": 0.0007751937984496124, \"('programs',)\": 0.0007751937984496124, \"('businessmen',)\": 0.0007751937984496124, \"('shares',)\": 0.0007751937984496124, \"('tons',)\": 0.0007751937984496124, \"('reductions',)\": 0.0007751937984496124, \"('strains',)\": 0.0007751937984496124, \"('models',)\": 0.0007751937984496124, \"('papers',)\": 0.0007751937984496124, \"('advances',)\": 0.0007751937984496124, \"('elections',)\": 0.0007751937984496124, \"('allegations',)\": 0.0007751937984496124, \"('writers',)\": 0.0007751937984496124, \"('exits',)\": 0.0007751937984496124, \"('imports',)\": 0.0007751937984496124, \"('Superconductors',)\": 0.0007751937984496124, \"('alternatives',)\": 0.0007751937984496124, \"('markets',)\": 0.0007751937984496124, \"('gangs',)\": 0.0007751937984496124, \"('Germans',)\": 0.0007751937984496124, \"('vicars',)\": 0.0007751937984496124, \"('findings',)\": 0.0007751937984496124, \"('odds',)\": 0.0007751937984496124, \"('sights',)\": 0.0007751937984496124, \"('councils',)\": 0.0007751937984496124, \"('giants',)\": 0.0007751937984496124, \"('specifics',)\": 0.0007751937984496124, \"('wines',)\": 0.0007751937984496124, \"('stands',)\": 0.0007751937984496124, \"('controls',)\": 0.0007751937984496124, \"('Sales',)\": 0.0007751937984496124, \"('objectives',)\": 0.0007751937984496124, \"('restaurants',)\": 0.0007751937984496124, \"('reruns',)\": 0.0007751937984496124, \"('Pressures',)\": 0.0007751937984496124, \"('producers',)\": 0.0007751937984496124, \"('products',)\": 0.0007751937984496124, \"('statistics',)\": 0.0007751937984496124, \"('consumers',)\": 0.0007751937984496124, \"('workbooks',)\": 0.0007751937984496124, \"('characters',)\": 0.0007751937984496124, \"('topics',)\": 0.0007751937984496124, \"('opponents',)\": 0.0007751937984496124, \"('accidents',)\": 0.0007751937984496124, \"('skirmishes',)\": 0.0007751937984496124, \"('gains',)\": 0.0007751937984496124, \"('materials',)\": 0.0007751937984496124, \"('miles',)\": 0.0007751937984496124, \"('Voters',)\": 0.0007751937984496124, \"('drums',)\": 0.0007751937984496124, \"('instruments',)\": 0.0007751937984496124, \"('issues',)\": 0.0007751937984496124, \"('films',)\": 0.0007751937984496124, \"('loans',)\": 0.0007751937984496124, \"('laws',)\": 0.0007751937984496124, \"('Reserves',)\": 0.0007751937984496124, \"('authorities',)\": 0.0007751937984496124, \"('briefings',)\": 0.0007751937984496124, \"('tours',)\": 0.0007751937984496124, \"('railings',)\": 0.0007751937984496124, \"('candidates',)\": 0.0007751937984496124, \"('boosters',)\": 0.0007751937984496124, \"('virtues',)\": 0.0007751937984496124, \"('organizations',)\": 0.0007751937984496124, \"('combines',)\": 0.0007751937984496124, \"('bottles',)\": 0.0007751937984496124, \"('Exports',)\": 0.0007751937984496124, \"('Associates',)\": 0.0007751937984496124, \"('articles',)\": 0.0007751937984496124, \"('users',)\": 0.0007751937984496124, \"('methods',)\": 0.0007751937984496124, \"('planners',)\": 0.0007751937984496124, \"('goblins',)\": 0.0007751937984496124, \"('capital-gains',)\": 0.0007751937984496124, \"('discussions',)\": 0.0007751937984496124, \"('securities',)\": 0.0007751937984496124, \"('reasons',)\": 0.0007751937984496124, \"('ratepayers',)\": 0.0007751937984496124, \"('projects',)\": 0.0007751937984496124, \"('proceedings',)\": 0.0007751937984496124, \"('automobiles',)\": 0.0007751937984496124, \"('rigors',)\": 0.0007751937984496124, \"('screens',)\": 0.0007751937984496124, \"('tactics',)\": 0.0007751937984496124, \"('billions',)\": 0.0007751937984496124, \"('sections',)\": 0.0007751937984496124, \"('Documents',)\": 0.0007751937984496124, \"('amounts',)\": 0.0007751937984496124, \"('referrals',)\": 0.0007751937984496124, \"('blacks',)\": 0.0007751937984496124, \"('reps',)\": 0.0007751937984496124, \"('sacks',)\": 0.0007751937984496124, \"('tutorials',)\": 0.0007751937984496124, \"('dams',)\": 0.0007751937984496124, \"('operations',)\": 0.0007751937984496124, \"('cutbacks',)\": 0.0007751937984496124, \"('margins',)\": 0.0007751937984496124, \"('opinions',)\": 0.0007751937984496124, \"('lawmakers',)\": 0.0007751937984496124, \"('thugs',)\": 0.0007751937984496124, \"('duties',)\": 0.0007751937984496124, \"('stairs',)\": 0.0007751937984496124, \"('places',)\": 0.0007751937984496124, \"('problems',)\": 0.0007751937984496124, \"('works',)\": 0.0007751937984496124, \"('Countries',)\": 0.0007751937984496124, \"('architects',)\": 0.0007751937984496124, \"('advertisements',)\": 0.0007751937984496124, \"('premiums',)\": 0.0007751937984496124, \"('superpremiums',)\": 0.0007751937984496124, \"('notes',)\": 0.0007751937984496124, \"('jolts',)\": 0.0007751937984496124, \"('points',)\": 0.0007751937984496124, \"('services',)\": 0.0007751937984496124, \"('1920s',)\": 0.0007751937984496124, \"('counterparts',)\": 0.0007751937984496124, \"('classmates',)\": 0.0007751937984496124, \"('decisions',)\": 0.0007751937984496124, \"('floors',)\": 0.0007751937984496124, \"('vintages',)\": 0.0007751937984496124, \"('judgments',)\": 0.0007751937984496124, \"('media',)\": 0.0007751937984496124, \"('corkscrews',)\": 0.0007751937984496124, \"('graders',)\": 0.0007751937984496124, \"('fasteners',)\": 0.0007751937984496124, \"('bonuses',)\": 0.0007751937984496124, \"('complaints',)\": 0.0007751937984496124, \"('managements',)\": 0.0007751937984496124, \"('streets',)\": 0.0007751937984496124, \"('cigarettes',)\": 0.0007751937984496124, \"('losses',)\": 0.0007751937984496124, \"('features',)\": 0.0007751937984496124, \"('bids',)\": 0.0007751937984496124, \"('hands',)\": 0.0007751937984496124, \"('matters',)\": 0.0007751937984496124, \"('chefs',)\": 0.0007751937984496124, \"('curses',)\": 0.0007751937984496124, \"('flows',)\": 0.0007751937984496124, \"('aftereffects',)\": 0.0007751937984496124, \"('ethics',)\": 0.0007751937984496124, \"('Imports',)\": 0.0007751937984496124, \"('incisions',)\": 0.0007751937984496124, \"('vetoes',)\": 0.0007751937984496124, \"('categories',)\": 0.0007751937984496124, \"('weekends',)\": 0.0007751937984496124, \"('Economists',)\": 0.0007751937984496124, \"('versions',)\": 0.0007751937984496124, \"('sounds',)\": 0.0007751937984496124, \"('BIRDS',)\": 0.0007751937984496124, \"('covers',)\": 0.0007751937984496124, \"('risks',)\": 0.0007751937984496124, \"('boosts',)\": 0.0007751937984496124, \"('scenes',)\": 0.0007751937984496124, \"('pennies',)\": 0.0007751937984496124, \"('feet',)\": 0.0007751937984496124, \"('Destinations',)\": 0.0007751937984496124, \"('amps',)\": 0.0007751937984496124, \"('proceeds',)\": 0.0007751937984496124, \"('Workers',)\": 0.0007751937984496124, \"('individuals',)\": 0.0007751937984496124, \"('warranties',)\": 0.0007751937984496124, \"('bunches',)\": 0.0007751937984496124, \"('reservations',)\": 0.0007751937984496124, \"('prerogatives',)\": 0.0007751937984496124, \"('credits',)\": 0.0007751937984496124, \"('economics',)\": 0.0007751937984496124, \"('airports',)\": 0.0007751937984496124, \"('combinations',)\": 0.0007751937984496124, \"('tormentors',)\": 0.0007751937984496124, \"('courts',)\": 0.0007751937984496124, \"('patients',)\": 0.0007751937984496124, \"('exports',)\": 0.0007751937984496124, \"('bells',)\": 0.0007751937984496124, \"('cabs',)\": 0.0007751937984496124, \"('properties',)\": 0.0007751937984496124, \"('stockholders',)\": 0.0007751937984496124, \"('sell-offs',)\": 0.0007751937984496124, \"('creditors',)\": 0.0007751937984496124, \"('two-sevenths',)\": 0.0007751937984496124, \"('marketing-communications',)\": 0.0007751937984496124, \"('Barrels',)\": 0.0007751937984496124, \"('sets',)\": 0.0007751937984496124, \"('barrels',)\": 0.0007751937984496124, \"('uncertainties',)\": 0.0007751937984496124, \"('CEOs',)\": 0.0007751937984496124, \"('English',)\": 0.0007751937984496124, \"('cuvees',)\": 0.0007751937984496124, \"('minutes',)\": 0.0007751937984496124, \"('procedures',)\": 0.0007751937984496124, \"('worms',)\": 0.0007751937984496124, \"('departures',)\": 0.0007751937984496124, \"('languages',)\": 0.0007751937984496124, \"('autos',)\": 0.0007751937984496124, \"('citations',)\": 0.0007751937984496124, \"('trades',)\": 0.0007751937984496124, \"('meals',)\": 0.0007751937984496124, \"('buses',)\": 0.0007751937984496124, \"('fluctuations',)\": 0.0007751937984496124, \"('violations',)\": 0.0007751937984496124, \"('foundations',)\": 0.0007751937984496124, \"('figures',)\": 0.0007751937984496124, \"('cuts',)\": 0.0007751937984496124, \"('leases',)\": 0.0007751937984496124, \"('Earnings',)\": 0.0007751937984496124, \"('employees',)\": 0.0007751937984496124, \"('pulls',)\": 0.0007751937984496124, \"('thumbs',)\": 0.0007751937984496124, \"('forecasts',)\": 0.0007751937984496124, \"('newsstands',)\": 0.0007751937984496124, \"('ropes',)\": 0.0007751937984496124, \"('sub-segments',)\": 0.0007751937984496124, \"('facilities',)\": 0.0007751937984496124, \"('demonstrators',)\": 0.0007751937984496124, \"('Scientists',)\": 0.0007751937984496124, \"('parties',)\": 0.0007751937984496124, \"('campaigns',)\": 0.0007751937984496124, \"('developments',)\": 0.0007751937984496124, \"('retailers',)\": 0.0007751937984496124, \"('taxpayers',)\": 0.0007751937984496124, \"('shops',)\": 0.0007751937984496124, \"('parishes',)\": 0.0007751937984496124, \"('rewards',)\": 0.0007751937984496124, \"('incomes',)\": 0.0007751937984496124, \"('grapes',)\": 0.0007751937984496124, \"('hobbyists',)\": 0.0007751937984496124, \"('contributions',)\": 0.0007751937984496124, \"('designations',)\": 0.0007751937984496124, \"('documents',)\": 0.0007751937984496124, \"('jitters',)\": 0.0007751937984496124, \"('co-developers',)\": 0.0007751937984496124, \"('things',)\": 0.0007751937984496124, \"('bulls',)\": 0.0007751937984496124, \"('conditions',)\": 0.0007751937984496124, \"('districts',)\": 0.0007751937984496124, \"('rounds',)\": 0.0007751937984496124, \"('inferences',)\": 0.0007751937984496124, \"('Buyers',)\": 0.0007751937984496124, \"('Mitsubishi',)\": 0.0007751937984496124, \"('ones',)\": 0.0007751937984496124, \"('leaders',)\": 0.0007751937984496124, \"('cattle',)\": 0.0007751937984496124, \"('seats',)\": 0.0007751937984496124, \"('IRAs',)\": 0.0007751937984496124, \"('centers',)\": 0.0007751937984496124, \"('Americana',)\": 0.0007751937984496124, \"('lyrics',)\": 0.0007751937984496124, \"('drugs',)\": 0.0007751937984496124, \"('Shipments',)\": 0.0007751937984496124, \"('backlogs',)\": 0.0007751937984496124, \"('divisions',)\": 0.0007751937984496124, \"('foreigners',)\": 0.0007751937984496124, \"('Modifications',)\": 0.0007751937984496124, \"('patents',)\": 0.0007751937984496124, \"('locations',)\": 0.0007751937984496124, \"('Editorials',)\": 0.0007751937984496124, \"('aides',)\": 0.0007751937984496124, \"('Graduates',)\": 0.0007751937984496124, \"('wafers',)\": 0.0007751937984496124, \"('holidays',)\": 0.0007751937984496124, \"('public-relations',)\": 0.0007751937984496124, \"('networks',)\": 0.0007751937984496124, \"('commercials',)\": 0.0007751937984496124, \"('cracks',)\": 0.0007751937984496124, \"('millionaires',)\": 0.0007751937984496124, \"('states',)\": 0.0007751937984496124, \"('links',)\": 0.0007751937984496124, \"('recommendations',)\": 0.0007751937984496124, \"('trucks',)\": 0.0007751937984496124, \"('confines',)\": 0.0007751937984496124, \"('owners',)\": 0.0007751937984496124, \"('youngsters',)\": 0.0007751937984496124, \"('students',)\": 0.0007751937984496124, \"('screenwriters',)\": 0.0007751937984496124, \"('witches',)\": 0.0007751937984496124, \"('anxieties',)\": 0.0007751937984496124, \"('sectors',)\": 0.0007751937984496124, \"('avenues',)\": 0.0007751937984496124, \"('ventures',)\": 0.0007751937984496124, \"('Items',)\": 0.0007751937984496124, \"('relations',)\": 0.0007751937984496124, \"('justices',)\": 0.0007751937984496124, \"('techniques',)\": 0.0007751937984496124, \"('signboards',)\": 0.0007751937984496124, \"('lookee-loos',)\": 0.0007751937984496124, \"('copyrights',)\": 0.0007751937984496124, \"('tags',)\": 0.0007751937984496124, \"('surpluses',)\": 0.0007751937984496124, \"('vehicles',)\": 0.0007751937984496124, \"('reds',)\": 0.0007751937984496124, \"('patterns',)\": 0.0007751937984496124, \"('earnings',)\": 0.0007751937984496124, \"('hundreds',)\": 0.0007751937984496124, \"('professionals',)\": 0.0007751937984496124, \"('adults',)\": 0.0007751937984496124, \"('six-packs',)\": 0.0007751937984496124, \"('employers',)\": 0.0007751937984496124, \"('meetings',)\": 0.0007751937984496124, \"('Spreads',)\": 0.0007751937984496124, \"('tickets',)\": 0.0007751937984496124, \"('skills',)\": 0.0007751937984496124, \"('numbers',)\": 0.0007751937984496124, \"('hours',)\": 0.0007751937984496124, \"('telephones',)\": 0.0007751937984496124, \"('supporters',)\": 0.0007751937984496124, \"('advertisers',)\": 0.0007751937984496124, \"('fronts',)\": 0.0007751937984496124, \"('rules',)\": 0.0007751937984496124, \"('increases',)\": 0.0007751937984496124, \"('Securities',)\": 0.0007751937984496124, \"('months',)\": 0.0007751937984496124, \"('interactions',)\": 0.0007751937984496124, \"('rates',)\": 0.0007751937984496124, \"('attacks',)\": 0.0007751937984496124, \"('regions',)\": 0.0007751937984496124, \"('Jews',)\": 0.0007751937984496124, \"('occurrences',)\": 0.0007751937984496124, \"('dummies',)\": 0.0007751937984496124, \"('Periods',)\": 0.0007751937984496124, \"('lives',)\": 0.0007751937984496124, \"('sales',)\": 0.0007751937984496124, \"('columns',)\": 0.0007751937984496124, \"('boomers',)\": 0.0007751937984496124, \"('nets',)\": 0.0007751937984496124, \"('opportunities',)\": 0.0007751937984496124, \"('Charities',)\": 0.0007751937984496124, \"('guilders',)\": 0.0007751937984496124, \"('variables',)\": 0.0007751937984496124, \"('researchers',)\": 0.0007751937984496124, \"('clues',)\": 0.0007751937984496124, \"('rights',)\": 0.0007751937984496124, \"('killings',)\": 0.0007751937984496124, \"('competitions',)\": 0.0007751937984496124, \"('towns',)\": 0.0007751937984496124, \"('episodes',)\": 0.0007751937984496124, \"('clubs',)\": 0.0007751937984496124, \"('abortions',)\": 0.0007751937984496124, \"('TROUBLES',)\": 0.0007751937984496124, \"('rifles',)\": 0.0007751937984496124, \"('proposals',)\": 0.0007751937984496124, \"('superconductors',)\": 0.0007751937984496124, \"('booklets',)\": 0.0007751937984496124, \"('copycats',)\": 0.0007751937984496124, \"('pressures',)\": 0.0007751937984496124, \"('clerks',)\": 0.0007751937984496124, \"('masters',)\": 0.0007751937984496124, \"('cars',)\": 0.0007751937984496124, \"('starts',)\": 0.0007751937984496124, \"('Relations',)\": 0.0007751937984496124, \"('quotas',)\": 0.0007751937984496124, \"('tubes',)\": 0.0007751937984496124, \"('indicators',)\": 0.0007751937984496124, \"('parallels',)\": 0.0007751937984496124, \"('offerings',)\": 0.0007751937984496124, \"('spiders',)\": 0.0007751937984496124, \"('protections',)\": 0.0007751937984496124, \"('Cataracts',)\": 0.0007751937984496124, \"('Americans',)\": 0.0007751937984496124, \"('corridors',)\": 0.0007751937984496124, \"('voters',)\": 0.0007751937984496124, \"('scripts',)\": 0.0007751937984496124, \"('clouds',)\": 0.0007751937984496124, \"('warnings',)\": 0.0007751937984496124, \"('accountants',)\": 0.0007751937984496124, \"('ambassadors',)\": 0.0007751937984496124, \"('capsules',)\": 0.0007751937984496124, \"('contracts',)\": 0.0007751937984496124, \"('buildings',)\": 0.0007751937984496124, \"('vacations',)\": 0.0007751937984496124, \"('jobs',)\": 0.0007751937984496124, \"('marks',)\": 0.0007751937984496124, \"('CERTIFICATES',)\": 0.0007751937984496124, \"('appointments',)\": 0.0007751937984496124, \"('obligations',)\": 0.0007751937984496124, \"('arms',)\": 0.0007751937984496124, \"('investigations',)\": 0.0007751937984496124, \"('travelers',)\": 0.0007751937984496124, \"('cousins',)\": 0.0007751937984496124, \"('playgrounds',)\": 0.0007751937984496124, \"('Appropriations',)\": 0.0007751937984496124, \"('ballplayers',)\": 0.0007751937984496124, \"('callers',)\": 0.0007751937984496124, \"('motives',)\": 0.0007751937984496124, \"('teachers',)\": 0.0007751937984496124, \"('politics',)\": 0.0007751937984496124, \"('ramparts',)\": 0.0007751937984496124, \"('conflicts',)\": 0.0007751937984496124, \"('wrists',)\": 0.0007751937984496124, \"('imbalances',)\": 0.0007751937984496124, \"('slides',)\": 0.0007751937984496124, \"('semesters',)\": 0.0007751937984496124, \"('honors',)\": 0.0007751937984496124, \"('merchants',)\": 0.0007751937984496124, \"('stalls',)\": 0.0007751937984496124, \"('shovels',)\": 0.0007751937984496124, \"('wires',)\": 0.0007751937984496124, \"('prospects',)\": 0.0007751937984496124, \"('exposures',)\": 0.0007751937984496124, \"('financings',)\": 0.0007751937984496124, \"('pills',)\": 0.0007751937984496124, \"('dealings',)\": 0.0007751937984496124, \"('lobbies',)\": 0.0007751937984496124, \"('magnets',)\": 0.0007751937984496124, \"('8300s',)\": 0.0007751937984496124, \"('improvements',)\": 0.0007751937984496124, \"('multinationals',)\": 0.0007751937984496124, \"('francs',)\": 0.0007751937984496124, \"('consequences',)\": 0.0007751937984496124, \"('preferences',)\": 0.0007751937984496124, \"('exchanges',)\": 0.0007751937984496124, \"('resources',)\": 0.0007751937984496124, \"('expenditures',)\": 0.0007751937984496124, \"('years',)\": 0.0007751937984496124, \"('SERVICES',)\": 0.0007751937984496124, \"('authors',)\": 0.0007751937984496124, \"('minivans',)\": 0.0007751937984496124, \"('regulators',)\": 0.0007751937984496124, \"('fighters',)\": 0.0007751937984496124, \"('proponents',)\": 0.0007751937984496124, \"('pounds',)\": 0.0007751937984496124, \"('miscarriages',)\": 0.0007751937984496124, \"('others',)\": 0.0007751937984496124, \"('autions',)\": 0.0007751937984496124, \"('shirts',)\": 0.0007751937984496124, \"('slowdowns',)\": 0.0007751937984496124, \"('therapies',)\": 0.0007751937984496124, \"('chips',)\": 0.0007751937984496124, \"('emotions',)\": 0.0007751937984496124, \"('halts',)\": 0.0007751937984496124, \"('issuers',)\": 0.0007751937984496124, \"('witnesses',)\": 0.0007751937984496124, \"('errors',)\": 0.0007751937984496124, \"('forest-products',)\": 0.0007751937984496124, \"('injuries',)\": 0.0007751937984496124, \"('prices',)\": 0.0007751937984496124, \"('Fans',)\": 0.0007751937984496124, \"('collections',)\": 0.0007751937984496124, \"('conversations',)\": 0.0007751937984496124, \"('charges',)\": 0.0007751937984496124, \"('bullets',)\": 0.0007751937984496124, \"('yields',)\": 0.0007751937984496124, \"('noodles',)\": 0.0007751937984496124, \"('reforms',)\": 0.0007751937984496124, \"('plants',)\": 0.0007751937984496124, \"('fights',)\": 0.0007751937984496124, \"('critics',)\": 0.0007751937984496124, \"('1990s',)\": 0.0007751937984496124, \"('heirs',)\": 0.0007751937984496124, \"('appliances',)\": 0.0007751937984496124, \"('profits',)\": 0.0007751937984496124, \"('Areas',)\": 0.0007751937984496124, \"('shudders',)\": 0.0007751937984496124, \"('ACCEPTANCES',)\": 0.0007751937984496124, \"('devices',)\": 0.0007751937984496124, \"('funds',)\": 0.0007751937984496124, \"('multiples',)\": 0.0007751937984496124, \"('heebie-jeebies',)\": 0.0007751937984496124, \"('schemes',)\": 0.0007751937984496124, \"('buy-outs',)\": 0.0007751937984496124, \"('communications',)\": 0.0007751937984496124, \"('Factories',)\": 0.0007751937984496124, \"('entrants',)\": 0.0007751937984496124, \"('headrests',)\": 0.0007751937984496124, \"('spreads',)\": 0.0007751937984496124, \"('barriers',)\": 0.0007751937984496124, \"('anti-programmers',)\": 0.0007751937984496124, \"('answers',)\": 0.0007751937984496124, \"('people',)\": 0.0007751937984496124, \"('retorts',)\": 0.0007751937984496124, \"('prisoners',)\": 0.0007751937984496124, \"('Worksheets',)\": 0.0007751937984496124, \"('regulations',)\": 0.0007751937984496124, \"('metals',)\": 0.0007751937984496124, \"('Fees',)\": 0.0007751937984496124, \"('Seats',)\": 0.0007751937984496124, \"('milestones',)\": 0.0007751937984496124, \"('plaintiffs',)\": 0.0007751937984496124, \"('roofs',)\": 0.0007751937984496124, \"('salaries',)\": 0.0007751937984496124, \"('gifts',)\": 0.0007751937984496124, \"('worksheets',)\": 0.0007751937984496124, \"('deficiencies',)\": 0.0007751937984496124, \"('receipts',)\": 0.0007751937984496124, \"('balls',)\": 0.0007751937984496124, \"('Hours',)\": 0.0007751937984496124, \"('Citizens',)\": 0.0007751937984496124, \"('discos',)\": 0.0007751937984496124, \"('operators',)\": 0.0007751937984496124, \"('bundles',)\": 0.0007751937984496124, \"('teams',)\": 0.0007751937984496124, \"('COMPUTERS',)\": 0.0007751937984496124, \"('ships',)\": 0.0007751937984496124, \"('foods',)\": 0.0007751937984496124, \"('futures',)\": 0.0007751937984496124, \"('write-downs',)\": 0.0007751937984496124, \"('Cartons',)\": 0.0007751937984496124, \"('generations',)\": 0.0007751937984496124, \"('ministers',)\": 0.0007751937984496124, \"('activities',)\": 0.0007751937984496124, \"('parents',)\": 0.0007751937984496124, \"('wives',)\": 0.0007751937984496124, \"('starters',)\": 0.0007751937984496124, \"('beers',)\": 0.0007751937984496124, \"('Orders',)\": 0.0007751937984496124, \"('investor-relations',)\": 0.0007751937984496124, \"('settlements',)\": 0.0007751937984496124, \"('penalties',)\": 0.0007751937984496124, \"('crystals',)\": 0.0007751937984496124, \"('views',)\": 0.0007751937984496124, \"('tests',)\": 0.0007751937984496124, \"('providers',)\": 0.0007751937984496124, \"('universities',)\": 0.0007751937984496124, \"('situations',)\": 0.0007751937984496124, \"('packages',)\": 0.0007751937984496124, \"('backers',)\": 0.0007751937984496124, \"('listeners',)\": 0.0007751937984496124, \"('senses',)\": 0.0007751937984496124, \"('plans',)\": 0.0007751937984496124, \"('dashes',)\": 0.0007751937984496124, \"('affairs',)\": 0.0007751937984496124, \"('arts',)\": 0.0007751937984496124, \"('Lawyers',)\": 0.0007751937984496124, \"('standards',)\": 0.0007751937984496124, \"('vicissitudes',)\": 0.0007751937984496124, \"('purchasers',)\": 0.0007751937984496124, \"('printers',)\": 0.0007751937984496124, \"('targets',)\": 0.0007751937984496124, \"('arbs',)\": 0.0007751937984496124, \"('kits',)\": 0.0007751937984496124, \"('complexes',)\": 0.0007751937984496124, \"('viewers',)\": 0.0007751937984496124, \"('Packages',)\": 0.0007751937984496124, \"('Eurobonds',)\": 0.0007751937984496124, \"('Skills',)\": 0.0007751937984496124, \"('marbles',)\": 0.0007751937984496124, \"('industrials',)\": 0.0007751937984496124, \"('units',)\": 0.0007751937984496124, \"('questions',)\": 0.0007751937984496124, \"('hazards',)\": 0.0007751937984496124, \"('additions',)\": 0.0007751937984496124, \"('elevators',)\": 0.0007751937984496124, \"('commodities',)\": 0.0007751937984496124, \"('daughters',)\": 0.0007751937984496124, \"('baskets',)\": 0.0007751937984496124, \"('orders',)\": 0.0007751937984496124, \"('dances',)\": 0.0007751937984496124, \"('kinds',)\": 0.0007751937984496124, \"('eyes',)\": 0.0007751937984496124, \"('spenders',)\": 0.0007751937984496124, \"('portfolios',)\": 0.0007751937984496124, \"('seconds',)\": 0.0007751937984496124, \"('careers',)\": 0.0007751937984496124, \"('Inventories',)\": 0.0007751937984496124, \"('stakes',)\": 0.0007751937984496124, \"('jockeys',)\": 0.0007751937984496124, \"('weddings',)\": 0.0007751937984496124, \"('brakes',)\": 0.0007751937984496124, \"('cornerstones',)\": 0.0007751937984496124, \"('criteria',)\": 0.0007751937984496124, \"('stadiums',)\": 0.0007751937984496124, \"('tissues',)\": 0.0007751937984496124, \"('processes',)\": 0.0007751937984496124, \"('players',)\": 0.0007751937984496124, \"('environmentalists',)\": 0.0007751937984496124, \"('customers',)\": 0.0007751937984496124, \"('discounts',)\": 0.0007751937984496124, \"('specialists',)\": 0.0007751937984496124, \"('partisans',)\": 0.0007751937984496124, \"('widgets',)\": 0.0007751937984496124, \"('movies',)\": 0.0007751937984496124, \"('Foreigners',)\": 0.0007751937984496124, \"('subscribers',)\": 0.0007751937984496124, \"('borrowings',)\": 0.0007751937984496124, \"('lights',)\": 0.0007751937984496124, \"('SALARIES',)\": 0.0007751937984496124, \"('deeds',)\": 0.0007751937984496124, \"('cents',)\": 0.0007751937984496124, \"('Stockholders',)\": 0.0007751937984496124, \"('arrangements',)\": 0.0007751937984496124, \"('goodies',)\": 0.0007751937984496124, \"('times',)\": 0.0007751937984496124, \"('outsiders',)\": 0.0007751937984496124, \"('quarters',)\": 0.0007751937984496124, \"('watches',)\": 0.0007751937984496124, \"('wages',)\": 0.0007751937984496124, \"('Ratings',)\": 0.0007751937984496124, \"('three-sevenths',)\": 0.0007751937984496124, \"('churches',)\": 0.0007751937984496124, \"('Banks',)\": 0.0007751937984496124, \"('modems',)\": 0.0007751937984496124, \"('failures',)\": 0.0007751937984496124, \"('trends',)\": 0.0007751937984496124, \"('photographs',)\": 0.0007751937984496124, \"('segments',)\": 0.0007751937984496124, \"('PCs',)\": 0.0007751937984496124, \"('taxes',)\": 0.0007751937984496124, \"('sources',)\": 0.0007751937984496124, \"('reporters',)\": 0.0007751937984496124, \"('analysts',)\": 0.0007751937984496124, \"('examples',)\": 0.0007751937984496124, \"('contributors',)\": 0.0007751937984496124, \"('liberals',)\": 0.0007751937984496124, \"('officers',)\": 0.0007751937984496124, \"('editions',)\": 0.0007751937984496124, \"('spaces',)\": 0.0007751937984496124, \"('matches',)\": 0.0007751937984496124, \"('businesses',)\": 0.0007751937984496124, \"('Ideas',)\": 0.0007751937984496124, \"('negatives',)\": 0.0007751937984496124, \"('keyboards',)\": 0.0007751937984496124, \"('battles',)\": 0.0007751937984496124, \"('Farmers',)\": 0.0007751937984496124, \"('filings',)\": 0.0007751937984496124, \"('revenues',)\": 0.0007751937984496124, \"('bricks',)\": 0.0007751937984496124, \"('Friends',)\": 0.0007751937984496124, \"('ringers',)\": 0.0007751937984496124, \"('politicians',)\": 0.0007751937984496124, \"('dozens',)\": 0.0007751937984496124, \"('remarks',)\": 0.0007751937984496124, \"('purposes',)\": 0.0007751937984496124, \"('makers',)\": 0.0007751937984496124, \"('checks',)\": 0.0007751937984496124, \"('claims',)\": 0.0007751937984496124, \"('talks',)\": 0.0007751937984496124, \"('positions',)\": 0.0007751937984496124, \"('discrepancies',)\": 0.0007751937984496124, \"('folks',)\": 0.0007751937984496124, \"('advantages',)\": 0.0007751937984496124, \"('Vacancies',)\": 0.0007751937984496124, \"('credentials',)\": 0.0007751937984496124, \"('trials',)\": 0.0007751937984496124, \"('ranks',)\": 0.0007751937984496124, \"('styles',)\": 0.0007751937984496124, \"('means',)\": 0.0007751937984496124, \"('mechanisms',)\": 0.0007751937984496124, \"('games',)\": 0.0007751937984496124, \"('phobias',)\": 0.0007751937984496124, \"('arrows',)\": 0.0007751937984496124, \"('durable-goods',)\": 0.0007751937984496124, \"('crops',)\": 0.0007751937984496124, \"('reports',)\": 0.0007751937984496124, \"('museums',)\": 0.0007751937984496124, \"('educators',)\": 0.0007751937984496124, \"('Equivalents',)\": 0.0007751937984496124, \"('bidders',)\": 0.0007751937984496124, \"('flights',)\": 0.0007751937984496124, \"('stages',)\": 0.0007751937984496124, \"('ounces',)\": 0.0007751937984496124, \"('designers',)\": 0.0007751937984496124, \"('ushers',)\": 0.0007751937984496124, \"('contests',)\": 0.0007751937984496124, \"('efforts',)\": 0.0007751937984496124, \"('posters',)\": 0.0007751937984496124, \"('motors',)\": 0.0007751937984496124, \"('fixes',)\": 0.0007751937984496124, \"('halls',)\": 0.0007751937984496124, \"('binders',)\": 0.0007751937984496124, \"('threats',)\": 0.0007751937984496124, \"('schools',)\": 0.0007751937984496124, \"('departments',)\": 0.0007751937984496124, \"('T-shirts',)\": 0.0007751937984496124, \"('drawbacks',)\": 0.0007751937984496124, \"('efficiencies',)\": 0.0007751937984496124, \"('engineers',)\": 0.0007751937984496124, \"('walls',)\": 0.0007751937984496124, \"('worries',)\": 0.0007751937984496124, \"('publications',)\": 0.0007751937984496124, \"('manipulators',)\": 0.0007751937984496124, \"('principals',)\": 0.0007751937984496124, \"('fans',)\": 0.0007751937984496124, \"('ideas',)\": 0.0007751937984496124, \"('derivatives',)\": 0.0007751937984496124, \"('Billings',)\": 0.0007751937984496124, \"('victims',)\": 0.0007751937984496124, \"('judges',)\": 0.0007751937984496124, \"('desires',)\": 0.0007751937984496124, \"('microcomputers',)\": 0.0007751937984496124, \"('payrolls',)\": 0.0007751937984496124, \"('legislators',)\": 0.0007751937984496124, \"('firings',)\": 0.0007751937984496124, \"('classifications',)\": 0.0007751937984496124, \"('estimates',)\": 0.0007751937984496124, \"('church-goers',)\": 0.0007751937984496124, \"('accounts',)\": 0.0007751937984496124, \"('laurels',)\": 0.0007751937984496124, \"('functions',)\": 0.0007751937984496124, \"('Stockbrokers',)\": 0.0007751937984496124, \"('releases',)\": 0.0007751937984496124, \"('classes',)\": 0.0007751937984496124, \"('vendors',)\": 0.0007751937984496124, \"('diplomats',)\": 0.0007751937984496124, \"('images',)\": 0.0007751937984496124, \"('lenders',)\": 0.0007751937984496124, \"('dynamics',)\": 0.0007751937984496124, \"('millions',)\": 0.0007751937984496124, \"('Gilts',)\": 0.0007751937984496124, \"('Ringers',)\": 0.0007751937984496124, \"('measures',)\": 0.0007751937984496124, \"('bills',)\": 0.0007751937984496124, \"('quantities',)\": 0.0007751937984496124, \"('drives',)\": 0.0007751937984496124, \"('bargains',)\": 0.0007751937984496124, \"('chairs',)\": 0.0007751937984496124, \"('disposables',)\": 0.0007751937984496124, \"('Fears',)\": 0.0007751937984496124, \"('narcotics',)\": 0.0007751937984496124, \"('titans',)\": 0.0007751937984496124, \"('landfills',)\": 0.0007751937984496124, \"('economists',)\": 0.0007751937984496124, \"('tunes',)\": 0.0007751937984496124, \"('wings',)\": 0.0007751937984496124, \"('requirements',)\": 0.0007751937984496124, \"('overruns',)\": 0.0007751937984496124, \"('bankers',)\": 0.0007751937984496124, \"('events',)\": 0.0007751937984496124, \"('guards',)\": 0.0007751937984496124, \"('Firms',)\": 0.0007751937984496124, \"('sub-markets',)\": 0.0007751937984496124, \"('competitors',)\": 0.0007751937984496124, \"('couples',)\": 0.0007751937984496124, \"('officials',)\": 0.0007751937984496124, \"('hopes',)\": 0.0007751937984496124, \"('transfers',)\": 0.0007751937984496124, \"('Colleges',)\": 0.0007751937984496124, \"('bars',)\": 0.0007751937984496124, \"('thrifts',)\": 0.0007751937984496124, \"('reformers',)\": 0.0007751937984496124, \"('horoscopes',)\": 0.0007751937984496124, \"('pyramids',)\": 0.0007751937984496124, \"('police',)\": 0.0007751937984496124, \"('Discos',)\": 0.0007751937984496124, \"('moneymakers',)\": 0.0007751937984496124, \"('appeals',)\": 0.0007751937984496124, \"('sparkplugs',)\": 0.0007751937984496124, \"('filters',)\": 0.0007751937984496124, \"('directors',)\": 0.0007751937984496124, \"('erasures',)\": 0.0007751937984496124, \"('terms',)\": 0.0007751937984496124, \"('sorts',)\": 0.0007751937984496124, \"('clerics',)\": 0.0007751937984496124, \"('scholars',)\": 0.0007751937984496124, \"('demands',)\": 0.0007751937984496124, \"('genes',)\": 0.0007751937984496124, \"('prosecutors',)\": 0.0007751937984496124, \"('stars',)\": 0.0007751937984496124, \"('aspersions',)\": 0.0007751937984496124, \"('sponsors',)\": 0.0007751937984496124, \"('troubles',)\": 0.0007751937984496124, \"('portions',)\": 0.0007751937984496124, \"('yen',)\": 0.0007751937984496124, \"('countries',)\": 0.0007751937984496124, \"('waters',)\": 0.0007751937984496124, \"('PETS',)\": 0.0007751937984496124, \"('accessories',)\": 0.0007751937984496124, \"('depressions',)\": 0.0007751937984496124, \"('pages',)\": 0.0007751937984496124, \"('practices',)\": 0.0007751937984496124, \"('Yields',)\": 0.0007751937984496124, \"('sellers',)\": 0.0007751937984496124, \"('contractors',)\": 0.0007751937984496124, \"('graphs',)\": 0.0007751937984496124, \"('clippings',)\": 0.0007751937984496124, \"('changes',)\": 0.0007751937984496124, \"('inches',)\": 0.0007751937984496124, \"('humans',)\": 0.0007751937984496124, \"('levels',)\": 0.0007751937984496124, \"('ensembles',)\": 0.0007751937984496124, \"('three-quarters',)\": 0.0007751937984496124, \"('dollars',)\": 0.0007751937984496124, \"('guests',)\": 0.0007751937984496124, \"('weeks',)\": 0.0007751937984496124, \"('movements',)\": 0.0007751937984496124, \"('citizens',)\": 0.0007751937984496124, \"('subsidiaries',)\": 0.0007751937984496124, \"('costs',)\": 0.0007751937984496124, \"('attorneys',)\": 0.0007751937984496124, \"('photos',)\": 0.0007751937984496124, \"('underwriters',)\": 0.0007751937984496124, \"('institutions',)\": 0.0007751937984496124, \"('steps',)\": 0.0007751937984496124, \"('Investors',)\": 0.0007751937984496124, \"('environments',)\": 0.0007751937984496124, \"('cities',)\": 0.0007751937984496124, \"('Signs',)\": 0.0007751937984496124, \"('polls',)\": 0.0007751937984496124, \"('investors',)\": 0.0007751937984496124, \"('visitors',)\": 0.0007751937984496124, \"('tapes',)\": 0.0007751937984496124, \"('pistols',)\": 0.0007751937984496124, \"('initiatives',)\": 0.0007751937984496124, \"('constraints',)\": 0.0007751937984496124, \"('Advocates',)\": 0.0007751937984496124, \"('consultants',)\": 0.0007751937984496124, \"('amendments',)\": 0.0007751937984496124, \"('personnel',)\": 0.0007751937984496124, \"('marriages',)\": 0.0007751937984496124, \"('sites',)\": 0.0007751937984496124, \"('presidents',)\": 0.0007751937984496124, \"('bellringers',)\": 0.0007751937984496124, \"('tallies',)\": 0.0007751937984496124, \"('pharmaceuticals',)\": 0.0007751937984496124, \"('heads',)\": 0.0007751937984496124, \"('oils',)\": 0.0007751937984496124, \"('quotations',)\": 0.0007751937984496124, \"('kids',)\": 0.0007751937984496124, \"('deals',)\": 0.0007751937984496124, \"('busloads',)\": 0.0007751937984496124, \"('signals',)\": 0.0007751937984496124, \"('civics',)\": 0.0007751937984496124, \"('traditionalists',)\": 0.0007751937984496124, \"('assertions',)\": 0.0007751937984496124, \"('mid\": 0.0007751937984496124, \"('disputes',)\": 0.0007751937984496124, \"('assets',)\": 0.0007751937984496124, \"('experts',)\": 0.0007751937984496124, \"('processors',)\": 0.0007751937984496124, \"('neighbors',)\": 0.0007751937984496124, \"('wheels',)\": 0.0007751937984496124, \"('holders',)\": 0.0007751937984496124, \"('promotions',)\": 0.0007751937984496124, \"('protesters',)\": 0.0007751937984496124, \"('semiconductors',)\": 0.0007751937984496124, \"('symptoms',)\": 0.0007751937984496124, \"('peculiarities',)\": 0.0007751937984496124, \"('knowns',)\": 0.0007751937984496124, \"('sweatshirts',)\": 0.0007751937984496124, \"('replies',)\": 0.0007751937984496124, \"('execs',)\": 0.0007751937984496124, \"('peals',)\": 0.0007751937984496124, \"('POTABLES',)\": 0.0007751937984496124, \"('homes',)\": 0.0007751937984496124, \"('corporations',)\": 0.0007751937984496124, \"('offenders',)\": 0.0007751937984496124, \"('protests',)\": 0.0007751937984496124, \"('ads',)\": 0.0007751937984496124, \"('assaults',)\": 0.0007751937984496124, \"('forms',)\": 0.0007751937984496124, \"('goods',)\": 0.0007751937984496124, \"('mistrials',)\": 0.0007751937984496124, \"('governors',)\": 0.0007751937984496124, \"('cycles',)\": 0.0007751937984496124, \"('expectations',)\": 0.0007751937984496124, \"('fears',)\": 0.0007751937984496124, \"('fires',)\": 0.0007751937984496124, \"('observers',)\": 0.0007751937984496124, \"('payouts',)\": 0.0007751937984496124, \"('Officials',)\": 0.0007751937984496124, \"('Risks',)\": 0.0007751937984496124, \"('comments',)\": 0.0007751937984496124, \"('cheerleaders',)\": 0.0007751937984496124, \"('investments',)\": 0.0007751937984496124, \"('labels',)\": 0.0007751937984496124, \"('two-thirds',)\": 0.0007751937984496124, \"('Plans',)\": 0.0007751937984496124, \"('borrowers',)\": 0.0007751937984496124, \"('headquarters',)\": 0.0007751937984496124, \"('passages',)\": 0.0007751937984496124, \"('Communists',)\": 0.0007751937984496124, \"('auctions',)\": 0.0007751937984496124, \"('fatalities',)\": 0.0007751937984496124, \"('houses',)\": 0.0007751937984496124, \"('Participants',)\": 0.0007751937984496124, \"('essays',)\": 0.0007751937984496124, \"('trays',)\": 0.0007751937984496124, \"('dinosaurs',)\": 0.0007751937984496124, \"('Commissions',)\": 0.0007751937984496124, \"('academics',)\": 0.0007751937984496124, \"('powers',)\": 0.0007751937984496124, \"('Lids',)\": 0.0007751937984496124, \"('rapists',)\": 0.0007751937984496124, \"('committees',)\": 0.0007751937984496124, \"('shipments',)\": 0.0007751937984496124, \"('mothers',)\": 0.0007751937984496124, \"('Auctions',)\": 0.0007751937984496124, \"('mergers',)\": 0.0007751937984496124, \"('ties',)\": 0.0007751937984496124, \"('bridges',)\": 0.0007751937984496124, \"('Patients',)\": 0.0007751937984496124, \"('Champagnes',)\": 0.0007751937984496124, \"('values',)\": 0.0007751937984496124, \"('Polls',)\": 0.0007751937984496124, \"('necessities',)\": 0.0007751937984496124, \"('rings',)\": 0.0007751937984496124, \"('partners',)\": 0.0007751937984496124, \"('preparatives',)\": 0.0007751937984496124, \"('reins',)\": 0.0007751937984496124, \"('Courts',)\": 0.0007751937984496124, \"('offers',)\": 0.0007751937984496124, \"('reserves',)\": 0.0007751937984496124, \"('parlors',)\": 0.0007751937984496124, \"('mortgages',)\": 0.0007751937984496124, \"('ambitions',)\": 0.0007751937984496124, \"('administrations',)\": 0.0007751937984496124, \"('accommodations',)\": 0.0007751937984496124, \"('provisions',)\": 0.0007751937984496124, \"('negotiators',)\": 0.0007751937984496124, \"('sums',)\": 0.0007751937984496124, \"('boys',)\": 0.0007751937984496124, \"('stones',)\": 0.0007751937984496124, \"('Neanderthals',)\": 0.0007751937984496124, \"('Proponents',)\": 0.0007751937984496124, \"('Characters',)\": 0.0007751937984496124, \"('feelings',)\": 0.0007751937984496124, \"('showings',)\": 0.0007751937984496124, \"('fits',)\": 0.0007751937984496124, \"('magicians',)\": 0.0007751937984496124, \"('EURODOLLARS',)\": 0.0007751937984496124, \"('arguments',)\": 0.0007751937984496124, \"('Results',)\": 0.0007751937984496124, \"('parishioners',)\": 0.0007751937984496124, \"('subskills',)\": 0.0007751937984496124, \"('ISSUES',)\": 0.0007751937984496124, \"('rentals',)\": 0.0007751937984496124, \"('riders',)\": 0.0007751937984496124, \"('guns',)\": 0.0007751937984496124, \"('aids',)\": 0.0007751937984496124, \"('crews',)\": 0.0007751937984496124, \"('farmers',)\": 0.0007751937984496124, \"('firms',)\": 0.0007751937984496124, \"('PAPERS',)\": 0.0007751937984496124, \"('males',)\": 0.0007751937984496124, \"('intrusions',)\": 0.0007751937984496124, \"('outlets',)\": 0.0007751937984496124, \"('voices',)\": 0.0007751937984496124, \"('affiliates',)\": 0.0007751937984496124, \"('pirates',)\": 0.0007751937984496124, \"('differences',)\": 0.0007751937984496124, \"('types',)\": 0.0007751937984496124, \"('congressmen',)\": 0.0007751937984496124, \"('instances',)\": 0.0007751937984496124, \"('classics',)\": 0.0007751937984496124, \"('participants',)\": 0.0007751937984496124, \"('identities',)\": 0.0007751937984496124, \"('Terms',)\": 0.0007751937984496124, \"('responsibilities',)\": 0.0007751937984496124, \"('disorders',)\": 0.0007751937984496124, \"('Pictures',)\": 0.0007751937984496124, \"('payments',)\": 0.0007751937984496124, \"('staffs',)\": 0.0007751937984496124, \"('acres',)\": 0.0007751937984496124, \"('insiders',)\": 0.0007751937984496124, \"('excesses',)\": 0.0007751937984496124, \"('niches',)\": 0.0007751937984496124, \"('branches',)\": 0.0007751937984496124, \"('nations',)\": 0.0007751937984496124, \"('scores',)\": 0.0007751937984496124, \"('Bonds',)\": 0.0007751937984496124, \"('smiles',)\": 0.0007751937984496124, \"('applications',)\": 0.0007751937984496124, \"('protocols',)\": 0.0007751937984496124, \"('innuendoes',)\": 0.0007751937984496124, \"('ratings',)\": 0.0007751937984496124, \"('facts',)\": 0.0007751937984496124, \"('memories',)\": 0.0007751937984496124, \"('loops',)\": 0.0007751937984496124, \"('uses',)\": 0.0007751937984496124, \"('dailies',)\": 0.0007751937984496124, \"('tools',)\": 0.0007751937984496124, '<unk>': 0.0007751937984496124}\n",
      "[VBG] {\"('lending',)\": 0.00196078431372549, \"('prohibiting',)\": 0.00196078431372549, \"('recommending',)\": 0.00196078431372549, \"('fetching',)\": 0.00196078431372549, \"('posing',)\": 0.00196078431372549, \"('limiting',)\": 0.00196078431372549, \"('Arbitraging',)\": 0.00196078431372549, \"('disseminating',)\": 0.00196078431372549, \"('descending',)\": 0.00196078431372549, \"('visiting',)\": 0.00196078431372549, \"('bearing',)\": 0.00196078431372549, \"('lying',)\": 0.00196078431372549, \"('Legislating',)\": 0.00196078431372549, \"('enjoying',)\": 0.00196078431372549, \"('ignoring',)\": 0.00196078431372549, \"('reshaping',)\": 0.00196078431372549, \"('becoming',)\": 0.00196078431372549, \"('resulting',)\": 0.00196078431372549, \"('serving',)\": 0.00196078431372549, \"('placing',)\": 0.00196078431372549, \"('doing',)\": 0.00196078431372549, \"('reviewing',)\": 0.00196078431372549, \"('advancing',)\": 0.00196078431372549, \"('teetering',)\": 0.00196078431372549, \"('reporting',)\": 0.00196078431372549, \"('managing',)\": 0.00196078431372549, \"('offending',)\": 0.00196078431372549, \"('barking',)\": 0.00196078431372549, \"('inviting',)\": 0.00196078431372549, \"('concentrating',)\": 0.00196078431372549, \"('hurting',)\": 0.00196078431372549, \"('introducing',)\": 0.00196078431372549, \"('buying',)\": 0.00196078431372549, \"('denying',)\": 0.00196078431372549, \"('condemning',)\": 0.00196078431372549, \"('recruiting',)\": 0.00196078431372549, \"('resisting',)\": 0.00196078431372549, \"('carrying',)\": 0.00196078431372549, \"('evoking',)\": 0.00196078431372549, \"('hailing',)\": 0.00196078431372549, \"('soaring',)\": 0.00196078431372549, \"('Standing',)\": 0.00196078431372549, \"('evaluating',)\": 0.00196078431372549, \"('DIALING',)\": 0.00196078431372549, \"('transforming',)\": 0.00196078431372549, \"('claiming',)\": 0.00196078431372549, \"('shoring',)\": 0.00196078431372549, \"('according',)\": 0.00196078431372549, \"('suing',)\": 0.00196078431372549, \"('dwindling',)\": 0.00196078431372549, \"('sending',)\": 0.00196078431372549, \"('reciting',)\": 0.00196078431372549, \"('sounding',)\": 0.00196078431372549, \"('lessening',)\": 0.00196078431372549, \"('attacking',)\": 0.00196078431372549, \"('deterring',)\": 0.00196078431372549, \"('finding',)\": 0.00196078431372549, \"('failing',)\": 0.00196078431372549, \"('discontinuing',)\": 0.00196078431372549, \"('abating',)\": 0.00196078431372549, \"('building',)\": 0.00196078431372549, \"('mailing',)\": 0.00196078431372549, \"('Having',)\": 0.00196078431372549, \"('issuing',)\": 0.00196078431372549, \"('existing',)\": 0.00196078431372549, \"('authorizing',)\": 0.00196078431372549, \"('appearing',)\": 0.00196078431372549, \"('defying',)\": 0.00196078431372549, \"('saving',)\": 0.00196078431372549, \"('designing',)\": 0.00196078431372549, \"('growing',)\": 0.00196078431372549, \"('preserving',)\": 0.00196078431372549, \"('speaking',)\": 0.00196078431372549, \"('encroaching',)\": 0.00196078431372549, \"('prosecuting',)\": 0.00196078431372549, \"('receiving',)\": 0.00196078431372549, \"('paying',)\": 0.00196078431372549, \"('laughing',)\": 0.00196078431372549, \"('creating',)\": 0.00196078431372549, \"('saying',)\": 0.00196078431372549, \"('asking',)\": 0.00196078431372549, \"('quitting',)\": 0.00196078431372549, \"('transacting',)\": 0.00196078431372549, \"('insinuating',)\": 0.00196078431372549, \"('Adopting',)\": 0.00196078431372549, \"('tracking',)\": 0.00196078431372549, \"('encircling',)\": 0.00196078431372549, \"('scaring',)\": 0.00196078431372549, \"('assuming',)\": 0.00196078431372549, \"('declining',)\": 0.00196078431372549, \"('involving',)\": 0.00196078431372549, \"('passing',)\": 0.00196078431372549, \"('replicating',)\": 0.00196078431372549, \"('denouncing',)\": 0.00196078431372549, \"('quoting',)\": 0.00196078431372549, \"('leveling',)\": 0.00196078431372549, \"('betting',)\": 0.00196078431372549, \"('covering',)\": 0.00196078431372549, \"('retaining',)\": 0.00196078431372549, \"('stressing',)\": 0.00196078431372549, \"('ranging',)\": 0.00196078431372549, \"('signaling',)\": 0.00196078431372549, \"('obtaining',)\": 0.00196078431372549, \"('totaling',)\": 0.00196078431372549, \"('sagging',)\": 0.00196078431372549, \"('practicing',)\": 0.00196078431372549, \"('gauging',)\": 0.00196078431372549, \"('backing',)\": 0.00196078431372549, \"('eyeing',)\": 0.00196078431372549, \"('falling',)\": 0.00196078431372549, \"('traveling',)\": 0.00196078431372549, \"('permitting',)\": 0.00196078431372549, \"('sorting',)\": 0.00196078431372549, \"('targeting',)\": 0.00196078431372549, \"('stepping',)\": 0.00196078431372549, \"('arguing',)\": 0.00196078431372549, \"('pitting',)\": 0.00196078431372549, \"('going',)\": 0.00196078431372549, \"('focusing',)\": 0.00196078431372549, \"('weighing',)\": 0.00196078431372549, \"('disclosing',)\": 0.00196078431372549, \"('abridging',)\": 0.00196078431372549, \"('prevailing',)\": 0.00196078431372549, \"('expanding',)\": 0.00196078431372549, \"('using',)\": 0.00196078431372549, \"('awarding',)\": 0.00196078431372549, \"('initialing',)\": 0.00196078431372549, \"('having',)\": 0.00196078431372549, \"('agreeing',)\": 0.00196078431372549, \"('photocopying',)\": 0.00196078431372549, \"('giving',)\": 0.00196078431372549, \"('struggling',)\": 0.00196078431372549, \"('noticing',)\": 0.00196078431372549, \"('leading',)\": 0.00196078431372549, \"('drinking',)\": 0.00196078431372549, \"('pressing',)\": 0.00196078431372549, \"('Filling',)\": 0.00196078431372549, \"('raising',)\": 0.00196078431372549, \"('entering',)\": 0.00196078431372549, \"('spurring',)\": 0.00196078431372549, \"('aiming',)\": 0.00196078431372549, \"('exceeding',)\": 0.00196078431372549, \"('exerting',)\": 0.00196078431372549, \"('TRIMMING',)\": 0.00196078431372549, \"('drawing',)\": 0.00196078431372549, \"('jumping',)\": 0.00196078431372549, \"('studying',)\": 0.00196078431372549, \"('mobilizing',)\": 0.00196078431372549, \"('maturing',)\": 0.00196078431372549, \"('indulging',)\": 0.00196078431372549, \"('transporting',)\": 0.00196078431372549, \"('Judging',)\": 0.00196078431372549, \"('writing',)\": 0.00196078431372549, \"('making',)\": 0.00196078431372549, \"('ringing',)\": 0.00196078431372549, \"('viewing',)\": 0.00196078431372549, \"('belonging',)\": 0.00196078431372549, \"('manufacturing',)\": 0.00196078431372549, \"('boarding',)\": 0.00196078431372549, \"('satisfying',)\": 0.00196078431372549, \"('proving',)\": 0.00196078431372549, \"('executing',)\": 0.00196078431372549, \"('getting',)\": 0.00196078431372549, \"('deteriorating',)\": 0.00196078431372549, \"('casting',)\": 0.00196078431372549, \"('purchasing',)\": 0.00196078431372549, \"('urging',)\": 0.00196078431372549, \"('contributing',)\": 0.00196078431372549, \"('reeling',)\": 0.00196078431372549, \"('marketing',)\": 0.00196078431372549, \"('eating',)\": 0.00196078431372549, \"('curbing',)\": 0.00196078431372549, \"('setting',)\": 0.00196078431372549, \"('developing',)\": 0.00196078431372549, \"('phasing',)\": 0.00196078431372549, \"('looking',)\": 0.00196078431372549, \"('ratcheting',)\": 0.00196078431372549, \"('dominating',)\": 0.00196078431372549, \"('thinking',)\": 0.00196078431372549, \"('easing',)\": 0.00196078431372549, \"('fainting',)\": 0.00196078431372549, \"('lagging',)\": 0.00196078431372549, \"('acknowledging',)\": 0.00196078431372549, \"('propelling',)\": 0.00196078431372549, \"('striving',)\": 0.00196078431372549, \"('sacrificing',)\": 0.00196078431372549, \"('behaving',)\": 0.00196078431372549, \"('counting',)\": 0.00196078431372549, \"('bringing',)\": 0.00196078431372549, \"('directing',)\": 0.00196078431372549, \"('stimulating',)\": 0.00196078431372549, \"('causing',)\": 0.00196078431372549, \"('succeeding',)\": 0.00196078431372549, \"('initiating',)\": 0.00196078431372549, \"('committing',)\": 0.00196078431372549, \"('citing',)\": 0.00196078431372549, \"('promoting',)\": 0.00196078431372549, \"('cutting',)\": 0.00196078431372549, \"('climbing',)\": 0.00196078431372549, \"('pealing',)\": 0.00196078431372549, \"('banning',)\": 0.00196078431372549, \"('sliding',)\": 0.00196078431372549, \"('Assuming',)\": 0.00196078431372549, \"('remaining',)\": 0.00196078431372549, \"('foundering',)\": 0.00196078431372549, \"('depending',)\": 0.00196078431372549, \"('controlling',)\": 0.00196078431372549, \"('hitting',)\": 0.00196078431372549, \"('racing',)\": 0.00196078431372549, \"('featuring',)\": 0.00196078431372549, \"('negotiating',)\": 0.00196078431372549, \"('plunging',)\": 0.00196078431372549, \"('recovering',)\": 0.00196078431372549, \"('booming',)\": 0.00196078431372549, \"('revising',)\": 0.00196078431372549, \"('sleeping',)\": 0.00196078431372549, \"('experiencing',)\": 0.00196078431372549, \"('demanding',)\": 0.00196078431372549, \"('seeking',)\": 0.00196078431372549, \"('maintaining',)\": 0.00196078431372549, \"('installing',)\": 0.00196078431372549, \"('uttering',)\": 0.00196078431372549, \"('changing',)\": 0.00196078431372549, \"('publishing',)\": 0.00196078431372549, \"('retiring',)\": 0.00196078431372549, \"('letting',)\": 0.00196078431372549, \"('warning',)\": 0.00196078431372549, \"('stretching',)\": 0.00196078431372549, \"('producing',)\": 0.00196078431372549, \"('worrying',)\": 0.00196078431372549, \"('providing',)\": 0.00196078431372549, \"('competing',)\": 0.00196078431372549, \"('jeopardizing',)\": 0.00196078431372549, \"('joining',)\": 0.00196078431372549, \"('telling',)\": 0.00196078431372549, \"('bundling',)\": 0.00196078431372549, \"('removing',)\": 0.00196078431372549, \"('recalling',)\": 0.00196078431372549, \"('dating',)\": 0.00196078431372549, \"('rewarding',)\": 0.00196078431372549, \"('signing',)\": 0.00196078431372549, \"('Offering',)\": 0.00196078431372549, \"('indicating',)\": 0.00196078431372549, \"('scrutinizing',)\": 0.00196078431372549, \"('varying',)\": 0.00196078431372549, \"('owning',)\": 0.00196078431372549, \"('characterizing',)\": 0.00196078431372549, \"('guarding',)\": 0.00196078431372549, \"('keeping',)\": 0.00196078431372549, \"('tailoring',)\": 0.00196078431372549, \"('inquiring',)\": 0.00196078431372549, \"('asserting',)\": 0.00196078431372549, \"('dividing',)\": 0.00196078431372549, \"('forecasting',)\": 0.00196078431372549, \"('spending',)\": 0.00196078431372549, \"('showing',)\": 0.00196078431372549, \"('emerging',)\": 0.00196078431372549, \"('refunding',)\": 0.00196078431372549, \"('refreshing',)\": 0.00196078431372549, \"('attending',)\": 0.00196078431372549, \"('overriding',)\": 0.00196078431372549, \"('ending',)\": 0.00196078431372549, \"('offsetting',)\": 0.00196078431372549, \"('checking',)\": 0.00196078431372549, \"('relating',)\": 0.00196078431372549, \"('crashing',)\": 0.00196078431372549, \"('surrounding',)\": 0.00196078431372549, \"('Following',)\": 0.00196078431372549, \"('bombarding',)\": 0.00196078431372549, \"('leaving',)\": 0.00196078431372549, \"('consisting',)\": 0.00196078431372549, \"('stacking',)\": 0.00196078431372549, \"('replacing',)\": 0.00196078431372549, \"('underlying',)\": 0.00196078431372549, \"('encouraging',)\": 0.00196078431372549, \"('Encouraging',)\": 0.00196078431372549, \"('completing',)\": 0.00196078431372549, \"('working',)\": 0.00196078431372549, \"('scrambling',)\": 0.00196078431372549, \"('preventing',)\": 0.00196078431372549, \"('requesting',)\": 0.00196078431372549, \"('Being',)\": 0.00196078431372549, \"('operating',)\": 0.00196078431372549, \"('waiting',)\": 0.00196078431372549, \"('yielding',)\": 0.00196078431372549, \"('Performing',)\": 0.00196078431372549, \"('requiring',)\": 0.00196078431372549, \"('cooperating',)\": 0.00196078431372549, \"('following',)\": 0.00196078431372549, \"('trading',)\": 0.00196078431372549, \"('choosing',)\": 0.00196078431372549, \"('occupying',)\": 0.00196078431372549, \"('advertising',)\": 0.00196078431372549, \"('killing',)\": 0.00196078431372549, \"('continuing',)\": 0.00196078431372549, \"('attracting',)\": 0.00196078431372549, \"('sketching',)\": 0.00196078431372549, \"('pumping',)\": 0.00196078431372549, \"('subjecting',)\": 0.00196078431372549, \"('discouraging',)\": 0.00196078431372549, \"('Moving',)\": 0.00196078431372549, \"('investing',)\": 0.00196078431372549, \"('undergoing',)\": 0.00196078431372549, \"('driving',)\": 0.00196078431372549, \"('calling',)\": 0.00196078431372549, \"('thumbing',)\": 0.00196078431372549, \"('investigating',)\": 0.00196078431372549, \"('accepting',)\": 0.00196078431372549, \"('contesting',)\": 0.00196078431372549, \"('devastating',)\": 0.00196078431372549, \"('altering',)\": 0.00196078431372549, \"('regulating',)\": 0.00196078431372549, \"('being',)\": 0.00196078431372549, \"('undercutting',)\": 0.00196078431372549, \"('turning',)\": 0.00196078431372549, \"('pushing',)\": 0.00196078431372549, \"('apologizing',)\": 0.00196078431372549, \"('explaining',)\": 0.00196078431372549, \"('performing',)\": 0.00196078431372549, \"('shaping',)\": 0.00196078431372549, \"('twisting',)\": 0.00196078431372549, \"('talking',)\": 0.00196078431372549, \"('restricting',)\": 0.00196078431372549, \"('wooing',)\": 0.00196078431372549, \"('broadcasting',)\": 0.00196078431372549, \"('dealing',)\": 0.00196078431372549, \"('attempting',)\": 0.00196078431372549, \"('complaining',)\": 0.00196078431372549, \"('servicing',)\": 0.00196078431372549, \"('copying',)\": 0.00196078431372549, \"('impending',)\": 0.00196078431372549, \"('beginning',)\": 0.00196078431372549, \"('devouring',)\": 0.00196078431372549, \"('pending',)\": 0.00196078431372549, \"('Getting',)\": 0.00196078431372549, \"('fuming',)\": 0.00196078431372549, \"('winning',)\": 0.00196078431372549, \"('upsetting',)\": 0.00196078431372549, \"('Winning',)\": 0.00196078431372549, \"('starting',)\": 0.00196078431372549, \"('offering',)\": 0.00196078431372549, \"('containing',)\": 0.00196078431372549, \"('transferring',)\": 0.00196078431372549, \"('cascading',)\": 0.00196078431372549, \"('clearing',)\": 0.00196078431372549, \"('cruising',)\": 0.00196078431372549, \"('appealing',)\": 0.00196078431372549, \"('surviving',)\": 0.00196078431372549, \"('putting',)\": 0.00196078431372549, \"('feeling',)\": 0.00196078431372549, \"('heading',)\": 0.00196078431372549, \"('extending',)\": 0.00196078431372549, \"('restructuring',)\": 0.00196078431372549, \"('Citing',)\": 0.00196078431372549, \"('marching',)\": 0.00196078431372549, \"('crossing',)\": 0.00196078431372549, \"('Continuing',)\": 0.00196078431372549, \"('forcing',)\": 0.00196078431372549, \"('segmenting',)\": 0.00196078431372549, \"('waiving',)\": 0.00196078431372549, \"('PORTING',)\": 0.00196078431372549, \"('needing',)\": 0.00196078431372549, \"('coming',)\": 0.00196078431372549, \"('safeguarding',)\": 0.00196078431372549, \"('Observing',)\": 0.00196078431372549, \"('exchanging',)\": 0.00196078431372549, \"('walking',)\": 0.00196078431372549, \"('Knowing',)\": 0.00196078431372549, \"('smothering',)\": 0.00196078431372549, \"('sitting',)\": 0.00196078431372549, \"('funding',)\": 0.00196078431372549, \"('holding',)\": 0.00196078431372549, \"('acquiring',)\": 0.00196078431372549, \"('imposing',)\": 0.00196078431372549, \"('admitting',)\": 0.00196078431372549, \"('enabling',)\": 0.00196078431372549, \"('lowering',)\": 0.00196078431372549, \"('sentencing',)\": 0.00196078431372549, \"('filling',)\": 0.00196078431372549, \"('including',)\": 0.00196078431372549, \"('sparking',)\": 0.00196078431372549, \"('seeing',)\": 0.00196078431372549, \"('selling',)\": 0.00196078431372549, \"('facing',)\": 0.00196078431372549, \"('ordering',)\": 0.00196078431372549, \"('trying',)\": 0.00196078431372549, \"('adjusting',)\": 0.00196078431372549, \"('heating',)\": 0.00196078431372549, \"('arising',)\": 0.00196078431372549, \"('searching',)\": 0.00196078431372549, \"('watching',)\": 0.00196078431372549, \"('regarding',)\": 0.00196078431372549, \"('conducting',)\": 0.00196078431372549, \"('moving',)\": 0.00196078431372549, \"('collecting',)\": 0.00196078431372549, \"('accounting',)\": 0.00196078431372549, \"('amending',)\": 0.00196078431372549, \"('challenging',)\": 0.00196078431372549, \"('stemming',)\": 0.00196078431372549, \"('predicting',)\": 0.00196078431372549, \"('deducting',)\": 0.00196078431372549, \"('functioning',)\": 0.00196078431372549, \"('anticipating',)\": 0.00196078431372549, \"('planning',)\": 0.00196078431372549, \"('considering',)\": 0.00196078431372549, \"('addressing',)\": 0.00196078431372549, \"('fawning',)\": 0.00196078431372549, \"('commenting',)\": 0.00196078431372549, \"('undertaking',)\": 0.00196078431372549, \"('According',)\": 0.00196078431372549, \"('reducing',)\": 0.00196078431372549, \"('overpaying',)\": 0.00196078431372549, \"('conceding',)\": 0.00196078431372549, \"('pointing',)\": 0.00196078431372549, \"('returning',)\": 0.00196078431372549, \"('labeling',)\": 0.00196078431372549, \"('diversifying',)\": 0.00196078431372549, \"('granting',)\": 0.00196078431372549, \"('frustrating',)\": 0.00196078431372549, \"('improving',)\": 0.00196078431372549, \"('losing',)\": 0.00196078431372549, \"('gaining',)\": 0.00196078431372549, \"('expecting',)\": 0.00196078431372549, \"('naming',)\": 0.00196078431372549, \"('Determining',)\": 0.00196078431372549, \"('Beginning',)\": 0.00196078431372549, \"('ailing',)\": 0.00196078431372549, \"('living',)\": 0.00196078431372549, \"('meaning',)\": 0.00196078431372549, \"('crying',)\": 0.00196078431372549, \"('shrinking',)\": 0.00196078431372549, \"('inching',)\": 0.00196078431372549, \"('reflecting',)\": 0.00196078431372549, \"('demonstrating',)\": 0.00196078431372549, \"('fundraising',)\": 0.00196078431372549, \"('establishing',)\": 0.00196078431372549, \"('boosting',)\": 0.00196078431372549, \"('picking',)\": 0.00196078431372549, \"('correcting',)\": 0.00196078431372549, \"('wallowing',)\": 0.00196078431372549, \"('opening',)\": 0.00196078431372549, \"('pulling',)\": 0.00196078431372549, \"('alleging',)\": 0.00196078431372549, \"('proposing',)\": 0.00196078431372549, \"('deliberating',)\": 0.00196078431372549, \"('mating',)\": 0.00196078431372549, \"('recognizing',)\": 0.00196078431372549, \"('Taking',)\": 0.00196078431372549, \"('representing',)\": 0.00196078431372549, \"('increasing',)\": 0.00196078431372549, \"('factoring',)\": 0.00196078431372549, \"('declaring',)\": 0.00196078431372549, \"('championing',)\": 0.00196078431372549, \"('closing',)\": 0.00196078431372549, \"('accusing',)\": 0.00196078431372549, \"('ushering',)\": 0.00196078431372549, \"('Excluding',)\": 0.00196078431372549, \"('borrowing',)\": 0.00196078431372549, \"('achieving',)\": 0.00196078431372549, \"('converting',)\": 0.00196078431372549, \"('outlawing',)\": 0.00196078431372549, \"('noting',)\": 0.00196078431372549, \"('taking',)\": 0.00196078431372549, \"('posting',)\": 0.00196078431372549, \"('adapting',)\": 0.00196078431372549, \"('snaking',)\": 0.00196078431372549, \"('justifying',)\": 0.00196078431372549, \"('happening',)\": 0.00196078431372549, \"('wrecking',)\": 0.00196078431372549, \"('queuing',)\": 0.00196078431372549, \"('limping',)\": 0.00196078431372549, \"('swelling',)\": 0.00196078431372549, \"('rising',)\": 0.00196078431372549, \"('referring',)\": 0.00196078431372549, \"('punishing',)\": 0.00196078431372549, \"('researching',)\": 0.00196078431372549, \"('rallying',)\": 0.00196078431372549, \"('packaging',)\": 0.00196078431372549, \"('reinstating',)\": 0.00196078431372549, \"('redeeming',)\": 0.00196078431372549, \"('running',)\": 0.00196078431372549, \"('quashing',)\": 0.00196078431372549, \"('discussing',)\": 0.00196078431372549, \"('responding',)\": 0.00196078431372549, \"('playing',)\": 0.00196078431372549, \"('Reducing',)\": 0.00196078431372549, \"('leveraging',)\": 0.00196078431372549, \"('eliminating',)\": 0.00196078431372549, \"('financing',)\": 0.00196078431372549, \"('banking',)\": 0.00196078431372549, \"('looming',)\": 0.00196078431372549, \"('protecting',)\": 0.00196078431372549, \"('retaliating',)\": 0.00196078431372549, \"('engaging',)\": 0.00196078431372549, \"('specializing',)\": 0.00196078431372549, \"('SWITCHING',)\": 0.00196078431372549, \"('abolishing',)\": 0.00196078431372549, \"('helping',)\": 0.00196078431372549, \"('adding',)\": 0.00196078431372549, \"('sweeping',)\": 0.00196078431372549, \"('delivering',)\": 0.00196078431372549, \"('rebounding',)\": 0.00196078431372549, \"('fighting',)\": 0.00196078431372549, \"('abounding',)\": 0.00196078431372549, \"('slashing',)\": 0.00196078431372549, \"('slowing',)\": 0.00196078431372549, \"('refitting',)\": 0.00196078431372549, \"('Defending',)\": 0.00196078431372549, \"('breaking',)\": 0.00196078431372549, '<unk>': 0.00196078431372549}\n",
      "[WHNP {'([WP$], [NN], [CC], [NN])': 0.0030303030303030303, '([WP$], [NNS])': 0.00909090909090909, '([WP],)': 0.4, '([WDT],)': 0.48787878787878786, '([WP$], [NN])': 0.00909090909090909, '([IN],)': 0.015151515151515152, '([WHNP], [PP])': 0.006060606060606061, '([-NONE-],)': 0.00909090909090909, '([NP], [WHPP])': 0.0030303030303030303, '([WP], [NN])': 0.0030303030303030303, '([WHNP], [WHPP])': 0.006060606060606061, '([WDT], [NNS])': 0.006060606060606061, '([WP$], [NP])': 0.0030303030303030303, '([WHNP], [ADVP])': 0.0030303030303030303, '([WDT], [JJ], [NN])': 0.0030303030303030303, '([WHNP], [PP], [ADJP])': 0.0030303030303030303, '([WDT], [JJ], [NNS])': 0.0030303030303030303, '([WDT], [NN], [NNS])': 0.0030303030303030303, '([DT], [WHPP])': 0.0030303030303030303, '([WHNP], [,], [NP], [,])': 0.0030303030303030303, '([WDT], [NN])': 0.006060606060606061, '([DT],)': 0.0030303030303030303, '([WP], [RB])': 0.0030303030303030303, '([WP$], [JJ], [NNS])': 0.0030303030303030303, '<unk>': 0.0030303030303030303}\n",
      "[NNPS] {\"('Tots',)\": 0.012048192771084338, \"('Resources',)\": 0.012048192771084338, \"('Stores',)\": 0.012048192771084338, \"('ADRs',)\": 0.012048192771084338, \"('Markets',)\": 0.012048192771084338, \"('Writers',)\": 0.012048192771084338, \"('Soviets',)\": 0.012048192771084338, \"('Partners',)\": 0.012048192771084338, \"('Angels',)\": 0.012048192771084338, \"('Centers',)\": 0.012048192771084338, \"('Bricklayers',)\": 0.012048192771084338, \"('Motors',)\": 0.012048192771084338, \"('Dealers',)\": 0.012048192771084338, \"('Futures',)\": 0.012048192771084338, \"('Bridges',)\": 0.012048192771084338, \"('Articles',)\": 0.012048192771084338, \"('Notes',)\": 0.012048192771084338, \"('Machines',)\": 0.012048192771084338, \"('Delegates',)\": 0.012048192771084338, \"('Foods',)\": 0.012048192771084338, \"('BILLS',)\": 0.012048192771084338, \"('Preferences',)\": 0.012048192771084338, \"('Virginians',)\": 0.012048192771084338, \"('Toys',)\": 0.012048192771084338, \"('Airlines',)\": 0.012048192771084338, \"('Messrs.',)\": 0.012048192771084338, \"('Americans',)\": 0.012048192771084338, \"('Securities',)\": 0.012048192771084338, \"('Materials',)\": 0.012048192771084338, \"('Appropriations',)\": 0.012048192771084338, \"('Netherlands',)\": 0.012048192771084338, \"('Parkinson',)\": 0.012048192771084338, \"('Yorkers',)\": 0.012048192771084338, \"('Options',)\": 0.012048192771084338, \"('Services',)\": 0.012048192771084338, \"('Appeals',)\": 0.012048192771084338, \"('Dakotas',)\": 0.012048192771084338, \"('Underwoods',)\": 0.012048192771084338, \"('Instruments',)\": 0.012048192771084338, \"('Laboratories',)\": 0.012048192771084338, \"('Investors',)\": 0.012048192771084338, \"('Chardonnays',)\": 0.012048192771084338, \"('Plains',)\": 0.012048192771084338, \"('Fundamentalists',)\": 0.012048192771084338, \"('States',)\": 0.012048192771084338, \"('Friends',)\": 0.012048192771084338, \"('Containers',)\": 0.012048192771084338, \"('Nations',)\": 0.012048192771084338, \"('Travelers',)\": 0.012048192771084338, \"('BRIEFS',)\": 0.012048192771084338, \"('FUNDS',)\": 0.012048192771084338, \"('Industries',)\": 0.012048192771084338, \"('Charities',)\": 0.012048192771084338, \"('Philippines',)\": 0.012048192771084338, \"('Institutes',)\": 0.012048192771084338, \"('Democrats',)\": 0.012048192771084338, \"('Islands',)\": 0.012048192771084338, \"('RATES',)\": 0.012048192771084338, \"('Giants',)\": 0.012048192771084338, \"('F-series',)\": 0.012048192771084338, \"('Systems',)\": 0.012048192771084338, \"('Brothers',)\": 0.012048192771084338, \"('Associates',)\": 0.012048192771084338, \"('Lawyers',)\": 0.012048192771084338, \"('Dolphins',)\": 0.012048192771084338, \"('Savings',)\": 0.012048192771084338, \"('Craftsmen',)\": 0.012048192771084338, \"('Builders',)\": 0.012048192771084338, \"('Cabernets',)\": 0.012048192771084338, \"('ASSETS',)\": 0.012048192771084338, \"('Springs',)\": 0.012048192771084338, \"('Publications',)\": 0.012048192771084338, \"('Lawmakers',)\": 0.012048192771084338, \"('ASSOCIATES',)\": 0.012048192771084338, \"('Republicans',)\": 0.012048192771084338, \"('Asians',)\": 0.012048192771084338, \"('Rieslings',)\": 0.012048192771084338, \"('Works',)\": 0.012048192771084338, \"('Productions',)\": 0.012048192771084338, \"('Burgundies',)\": 0.012048192771084338, \"('Utilities',)\": 0.012048192771084338, \"('Communications',)\": 0.012048192771084338, '<unk>': 0.012048192771084338}\n",
      "[NP] {'([DT], [JJ], [JJ])': 0.001148105625717566, '([NN], [JJ], [NNS])': 0.001148105625717566, '([NP], [,], [ADVP-TMP], [NP])': 0.001148105625717566, '([$], [CD], [-NONE-])': 0.001148105625717566, '([RB], [JJR], [NNS])': 0.001148105625717566, '([NP], [SBAR-LOC])': 0.001148105625717566, '([JJR], [JJ], [NN])': 0.001148105625717566, '([NP], [NNP], [NNPS], [NNP])': 0.001148105625717566, '([NP], [PP], [,], [NP])': 0.001148105625717566, '([PRP$], [JJ], [VBG], [NN])': 0.001148105625717566, '([NP], [NP-TMP], [PP])': 0.001148105625717566, '([JJR], [NNP], [NN], [NNS])': 0.001148105625717566, '([RB], [NNP])': 0.001148105625717566, '([NP], [PP-TMP], [VP])': 0.001148105625717566, '([JJ], [JJ], [NNS], [NNS])': 0.001148105625717566, '([DT], [JJ], [JJ], [NNS])': 0.001148105625717566, '([NP], [NNS], [NN])': 0.001148105625717566, '([DT], [VBG], [NN], [NN])': 0.001148105625717566, '([PDT], [DT], [NN], [NN])': 0.001148105625717566, '([CD], [NN], [NN], [NNS])': 0.001148105625717566, '([DT], [NNS], [NN])': 0.001148105625717566, '([NNS], [S])': 0.001148105625717566, '([DT], [NAC-LOC], [NN], [NN])': 0.001148105625717566, '([CD], [JJ], [NN], [QP])': 0.001148105625717566, '([NNP], [NNS], [NNS])': 0.001148105625717566, '([NP], [ADVP])': 0.001148105625717566, '([ADVP-TMP], [NN], [NN], [NN])': 0.001148105625717566, '([DT], [CD], [NX])': 0.001148105625717566, '([CD], [CD], [NN])': 0.001148105625717566, '([DT], [NNS], [RB])': 0.001148105625717566, '([DT], [VBG], [CD], [NNS])': 0.001148105625717566, '([RB], [NNPS])': 0.001148105625717566, '([DT], [JJ], [NN], [POS])': 0.001148105625717566, '([JJ], [NN], [NNS])': 0.001148105625717566, '([NP], [,], [NP-LOC], [SBAR])': 0.001148105625717566, '([JJ], [JJ], [NNP], [NNS])': 0.001148105625717566, '([DT], [JJS], [NN])': 0.001148105625717566, '([PRP$], [UCP], [NN])': 0.001148105625717566, '([VBG], [NN])': 0.001148105625717566, '([NP], [NN], [S])': 0.001148105625717566, '([ADVP], [CD])': 0.001148105625717566, '([PRP$], [JJ], [VBG], [NNS])': 0.001148105625717566, '([NP], [NN], [SBAR])': 0.001148105625717566, '([DT], [JJR])': 0.001148105625717566, '([NNP], [NNP], [NNP], [POS])': 0.001148105625717566, '([NP], [NN], [CC], [NN])': 0.001148105625717566, '([NP], [PP], [ADVP-LOC], [SBAR': 0.001148105625717566, '([JJR], [NN], [NNS])': 0.001148105625717566, '([JJ], [NN], [VBG], [NNS])': 0.001148105625717566, '([NNS], [NN])': 0.001148105625717566, '([DT], [NNPS])': 0.001148105625717566, '([ADJP], [NN], [NNS], [NN])': 0.001148105625717566, '([NNP], [POS])': 0.001148105625717566, '([JJS], [NNS])': 0.001148105625717566, '([ADJP], [JJ], [NNS])': 0.001148105625717566, '([NP], [NP-ADV])': 0.001148105625717566, \"([NP], [''], [VP])\": 0.001148105625717566, '([DT], [NNPS], [NNP])': 0.001148105625717566, '([NN], [VBG])': 0.001148105625717566, '([RB], [DT], [ADJP], [NNS])': 0.001148105625717566, '([NNP], [NNP], [NNPS], [NNP])': 0.001148105625717566, '([VBG], [NN], [NNS])': 0.001148105625717566, '([DT], [ADJP], [NNP], [NN])': 0.001148105625717566, '([JJ], [NNP], [NNS])': 0.001148105625717566, '([DT], [VBN], [QP], [-NONE-])': 0.001148105625717566, '([NP], [PP-LOC], [,], [SBAR])': 0.001148105625717566, '([NN], [CC], [JJ], [NNS])': 0.001148105625717566, '([NNP], [IN], [NNP])': 0.001148105625717566, '([NP], [,], [PP], [,])': 0.001148105625717566, '([CD], [NNS])': 0.001148105625717566, '([NP], [PP], [,], [PP-LOC])': 0.001148105625717566, '([DT], [NNS], [CC], [NNS])': 0.001148105625717566, '([NP], [,], [CC], [NP])': 0.001148105625717566, '([PRP$], [ADJP], [NN])': 0.001148105625717566, '([PRP$], [NNP], [NNP], [NNP])': 0.001148105625717566, '([CD], [ADJP], [NNS])': 0.001148105625717566, '([DT], [JJS], [CD], [NNS])': 0.001148105625717566, \"([``], [NN], [''], [NNS])\": 0.001148105625717566, '([NP], [PRN])': 0.001148105625717566, '([DT], [JJ], [DT])': 0.001148105625717566, '([ADVP], [DT])': 0.001148105625717566, '([NP], [VBN], [QP], [-NONE-])': 0.001148105625717566, '([NN], [CC], [DT])': 0.001148105625717566, '([VBG], [NNS], [.])': 0.001148105625717566, '([JJ], [DT], [JJ], [NN])': 0.001148105625717566, '([NNP], [NNPS], [NNP], [NNP])': 0.001148105625717566, '([PRP$], [NN], [NN], [NN])': 0.001148105625717566, '([ADJP], [NNP])': 0.001148105625717566, '([NNS], [CC], [NN], [NN])': 0.001148105625717566, '([NP], [NNS], [S])': 0.001148105625717566, '([JJS], [JJ], [NNS])': 0.001148105625717566, '([NP], [JJ], [CD], [NNS])': 0.001148105625717566, '([DT], [JJ], [CD])': 0.001148105625717566, \"([``], [NP], [NN], [''])\": 0.001148105625717566, '([DT], [RB])': 0.001148105625717566, '([QP], [NNP], [NNS])': 0.001148105625717566, '([DT], [CD], [CC], [CD])': 0.001148105625717566, '([NP], [,], [NP-LOC], [.])': 0.001148105625717566, '([NP], [NNP])': 0.001148105625717566, '([JJR], [DT], [NN])': 0.001148105625717566, '([NNP], [NNPS], [NNP], [POS])': 0.001148105625717566, '([DT], [JJ], [CD], [NN])': 0.001148105625717566, '([DT], [``], [NN])': 0.001148105625717566, '([ADJP], [NN], [NNS])': 0.001148105625717566, '([CD], [NN], [NNS])': 0.001148105625717566, '([DT], [VBG])': 0.001148105625717566, '([NNP], [NNP], [NN])': 0.001148105625717566, '([PRP$], [NNP], [NN], [NN])': 0.001148105625717566, '([CD], [NN], [QP])': 0.001148105625717566, '([NP], [SBAR-TMP])': 0.001148105625717566, '([NP], [PP], [PP-DIR])': 0.001148105625717566, '([NN], [NNP], [POS])': 0.001148105625717566, '([JJ], [NNS], [NNS])': 0.001148105625717566, '([NP], [PP-LOC], [NP-TMP])': 0.001148105625717566, '([NP], [PP-LOC], [PP-TMP])': 0.001148105625717566, '([NP], [,], [SBAR-TMP])': 0.001148105625717566, '([RB], [JJ])': 0.001148105625717566, '([UCP], [NN])': 0.001148105625717566, '([NP], [ADVP-TMP])': 0.001148105625717566, '([JJ], [CD], [NNP], [NNS])': 0.001148105625717566, '([NP], [,], [NP])': 0.001148105625717566, '([NNP], [NNP], [NN], [NNS])': 0.001148105625717566, '([DT], [CD], [CD], [NNS])': 0.001148105625717566, '([NP], [JJ], [NN])': 0.001148105625717566, '([NP], [PP], [PP-LOC])': 0.001148105625717566, '([NP], [NX])': 0.001148105625717566, '([NNP], [CC], [NNP])': 0.001148105625717566, '([NP], [PP], [,], [PP])': 0.001148105625717566, '([JJ], [,], [JJ], [NNS])': 0.001148105625717566, '([DT], [ADJP], [CD])': 0.001148105625717566, '([PRP$], [NN], [NNS])': 0.001148105625717566, '([NNP], [NN], [NN])': 0.001148105625717566, '([NP], [VP], [.])': 0.001148105625717566, \"([DT], [``], [NN], [''])\": 0.001148105625717566, '([PRP$], [JJ], [NN])': 0.001148105625717566, '([NNP], [NNP], [NNS])': 0.001148105625717566, '([NNP], [:])': 0.001148105625717566, \"([JJ], [``], [NN], [''])\": 0.001148105625717566, '([DT], [VBG], [NN])': 0.001148105625717566, '([PRP$], [JJS], [NNS])': 0.001148105625717566, '([NN], [CC], [NN], [NNS])': 0.001148105625717566, '([NP], [NN], [NN])': 0.001148105625717566, '([NNP], [CD])': 0.001148105625717566, '([RB], [NN], [NNS])': 0.001148105625717566, '([DT], [CD], [NNP], [NN])': 0.001148105625717566, '([VB], [NNS])': 0.001148105625717566, '([NP], [JJ], [ADJP], [NN])': 0.001148105625717566, '([DT], [DT], [JJ], [NNS])': 0.001148105625717566, '([DT], [VBN], [NN], [NN])': 0.001148105625717566, \"([NP], [''], [SBAR])\": 0.001148105625717566, '([NP], [CD], [NN])': 0.001148105625717566, '([JJ], [JJ], [NN])': 0.001148105625717566, '([NP], [VBN], [NNS])': 0.001148105625717566, '([NP], [PP-LOC])': 0.001148105625717566, '([DT], [VBG], [NNP], [NN])': 0.001148105625717566, '([NP], [PRN], [:])': 0.001148105625717566, '([NP], [PP], [PP-LOC], [PP])': 0.001148105625717566, '([NAC], [POS])': 0.001148105625717566, '([JJ], [NNS], [CC], [NN])': 0.001148105625717566, '([PRP$], [``], [NX-TTL])': 0.001148105625717566, '([CD], [RB])': 0.001148105625717566, '([NN], [RB])': 0.001148105625717566, '([ADJP], [DT], [NN])': 0.001148105625717566, '([DT], [NN], [JJR])': 0.001148105625717566, '([PRP$], [NP])': 0.001148105625717566, '([ADJP], [NNP], [NNS])': 0.001148105625717566, '([NP], [PP-LOC], [ADVP-TMP], [SBAR])': 0.001148105625717566, '([JJ], [NNS], [POS])': 0.001148105625717566, '([RB], [CD], [NN])': 0.001148105625717566, '([IN],)': 0.001148105625717566, '([ADVP-TMP], [NP], [PP])': 0.001148105625717566, '([RB], [DT], [CD])': 0.001148105625717566, '([NN], [NNS], [CC], [NNS])': 0.001148105625717566, '([PRP$], [JJS], [JJ], [NNS])': 0.001148105625717566, '([NP], [CC], [ADVP], [NP])': 0.001148105625717566, '([PRP$], [NNP], [NNP], [NN])': 0.001148105625717566, '([JJ], [ADJP], [NNS])': 0.001148105625717566, '([NP], [CD], [JJS], [NNS])': 0.001148105625717566, '([NP], [CONJP], [NP])': 0.001148105625717566, '([NP], [PP], [PRN])': 0.001148105625717566, '([NP], [:], [SQ], [.])': 0.001148105625717566, '([NP], [NNP], [NNP], [NNP])': 0.001148105625717566, '([CD], [NN], [NN])': 0.001148105625717566, '([NP], [CC], [NP], [PP': 0.001148105625717566, '([NP], [PP], [RRC])': 0.001148105625717566, '([JJR], [NN], [NN], [NN])': 0.001148105625717566, '([NP], [NNS])': 0.001148105625717566, '([CD], [JJ], [NN])': 0.001148105625717566, '([NN], [VBD], [NNS])': 0.001148105625717566, '([DT], [JJ], [NNP], [NNP])': 0.001148105625717566, '([RB], [DT], [NN])': 0.001148105625717566, '([PRP$], [JJ], [JJ], [NNS])': 0.001148105625717566, '([NP], [NNS], [CC], [NNS])': 0.001148105625717566, '([ADVP-TMP], [$], [CD], [-NONE-])': 0.001148105625717566, '([PRP$], [NX])': 0.001148105625717566, '([NNP],)': 0.001148105625717566, '([DT], [CD], [NNS])': 0.001148105625717566, '([CD], [CD])': 0.001148105625717566, '([NNP], [NNPS])': 0.001148105625717566, '([PRP],)': 0.001148105625717566, '([CD], [NNP], [NNS])': 0.001148105625717566, '([JJ], [NNS], [S])': 0.001148105625717566, '([NN], [NN], [NN])': 0.001148105625717566, '([NNP], [NNS])': 0.001148105625717566, '([PRP$], [NNS], [CC], [NNS])': 0.001148105625717566, '([PRP$], [JJ], [NNS])': 0.001148105625717566, '([JJ], [NN], [POS])': 0.001148105625717566, '([CD], [CC], [CD])': 0.001148105625717566, '([RB], [NN])': 0.001148105625717566, '([JJS],)': 0.001148105625717566, '([NP], [PP-TMP], [SBAR])': 0.001148105625717566, '([VBN], [NNS], [NNS])': 0.001148105625717566, '([PRP$], [NNP], [NN])': 0.001148105625717566, '([NP], [VP], [PP-LOC])': 0.001148105625717566, '([NP], [,], [SBAR], [,])': 0.001148105625717566, '([DT], [NNP], [NN], [NN])': 0.001148105625717566, '([NP], [,], [PP-LOC])': 0.001148105625717566, '([NP], [:], [NP], [:])': 0.001148105625717566, '([NP], [RB], [NP])': 0.001148105625717566, '([NN], [NNS], [NNS])': 0.001148105625717566, '([PRP$], [CD], [NN], [NNS])': 0.001148105625717566, '([CD], [CD], [JJ], [NNS])': 0.001148105625717566, '([DT], [JJ], [NN], [S])': 0.001148105625717566, '([JJ], [JJ], [NX])': 0.001148105625717566, '([RB], [DT], [JJ])': 0.001148105625717566, '([PRP$], [NN], [NN])': 0.001148105625717566, '([NP], [PP], [PP], [.])': 0.001148105625717566, '([QP], [VBN], [NNS])': 0.001148105625717566, '([JJR],)': 0.001148105625717566, '([$], [CD], [-NONE-], [QP])': 0.001148105625717566, '([DT], [NN], [NN], [SBAR])': 0.001148105625717566, '([NP], [PP-DIR])': 0.001148105625717566, '([NNP], [NN], [NNP], [NNP])': 0.001148105625717566, '([VBG],)': 0.001148105625717566, '([NAC], [NNP], [NNP])': 0.001148105625717566, '([PRP$], [NN], [POS])': 0.001148105625717566, '([NP], [NNS], [NNS])': 0.001148105625717566, '([DT], [NP])': 0.001148105625717566, '([NNP], [NNP], [CC], [NNP])': 0.001148105625717566, '([NP], [ADJP], [NP-TMP])': 0.001148105625717566, '([DT], [NNP], [NNP])': 0.001148105625717566, '([NN], [SBAR])': 0.001148105625717566, '([DT], [JJ], [JJS], [NN])': 0.001148105625717566, '([NP], [,], [CONJP], [NP])': 0.001148105625717566, '([NP], [ADJP], [VP])': 0.001148105625717566, '([NP], [PP], [NP])': 0.001148105625717566, '([NP], [:], [ADJP], [:])': 0.001148105625717566, '([UCP], [NNS])': 0.001148105625717566, '([QP], [DT], [JJ], [NN])': 0.001148105625717566, '([IN], [DT], [JJ], [NN])': 0.001148105625717566, '([PRP$], [NNP], [NNS])': 0.001148105625717566, '([NP], [PP-LOC], [ADJP])': 0.001148105625717566, '([DT], [VBG], [NN], [SBAR])': 0.001148105625717566, \"([NP], [''], [ADVP])\": 0.001148105625717566, '([JJ], [NNP], [NNP], [NN])': 0.001148105625717566, '([JJR], [JJ], [NX])': 0.001148105625717566, '([JJ], [NNS], [NN])': 0.001148105625717566, '([NNP], [NNP], [NNP], [NNS])': 0.001148105625717566, '([NP], [PP], [NP-LOC])': 0.001148105625717566, '([DT],)': 0.001148105625717566, '([NP], [,], [PP-DIR], [,])': 0.001148105625717566, '([NNS], [RB])': 0.001148105625717566, '([DT], [JJS], [NNS], [NN])': 0.001148105625717566, '([DT], [JJ], [NNP], [NNS])': 0.001148105625717566, '([VBN], [JJ], [NN])': 0.001148105625717566, '([PRP$], [NN], [NNS], [NN])': 0.001148105625717566, '([NP], [PP-LOC': 0.001148105625717566, '([NP], [:], [S])': 0.001148105625717566, '([DT], [JJ], [NNS])': 0.001148105625717566, '([PRP$], [NAC-LOC], [NN])': 0.001148105625717566, '([NNP], [,], [NNP])': 0.001148105625717566, '([DT], [NP], [NN], [SBAR])': 0.001148105625717566, '([ADVP-TMP], [NN])': 0.001148105625717566, '([FW],)': 0.001148105625717566, '([DT], [ADJP], [JJ], [NN])': 0.001148105625717566, '([JJ], [JJ], [NN], [NNS])': 0.001148105625717566, '([PRP$], [JJS], [NN])': 0.001148105625717566, '([NNP], [NNP], [NNP], [:])': 0.001148105625717566, '([NNP], [NNP], [POS])': 0.001148105625717566, '([NP], [,], [PP-TMP])': 0.001148105625717566, '([NP], [JJ], [JJ], [NN])': 0.001148105625717566, '([NNP], [NNP], [.], [NNP])': 0.001148105625717566, '([NP], [,], [PP])': 0.001148105625717566, '([NNP], [NNP])': 0.001148105625717566, '([RB], [DT], [NNS])': 0.001148105625717566, '([NN], [NNP], [NNP])': 0.001148105625717566, '([NN], [VBG], [NN])': 0.001148105625717566, '([PRP$], [JJS])': 0.001148105625717566, '([$], [QP], [-NONE-])': 0.001148105625717566, '([PRP$], [NNS])': 0.001148105625717566, '([NP], [NP-TMP], [PP-LOC])': 0.001148105625717566, '([NP], [NN], [JJ])': 0.001148105625717566, '([QP], [NNP], [NN])': 0.001148105625717566, '([DT], [NN], [CC], [NNS])': 0.001148105625717566, '([NP], [JJS], [VBG], [NNS])': 0.001148105625717566, '([NP], [JJ], [JJ], [VBG])': 0.001148105625717566, '([NP], [CD], [NN], [NNS])': 0.001148105625717566, '([NP], [ADJP], [NNS])': 0.001148105625717566, \"([JJ], [NN], [''])\": 0.001148105625717566, '([DT], [JJR], [NN], [S])': 0.001148105625717566, '([NP], [PP], [S])': 0.001148105625717566, '([PRP$], [VBN], [NN])': 0.001148105625717566, '([NNP], [NNP], [JJ], [NNS])': 0.001148105625717566, '([CD], [NN], [NNS], [NNS])': 0.001148105625717566, '([PRP$], [NN], [NN], [NNS])': 0.001148105625717566, '([NN], [CC], [NNS], [NNS])': 0.001148105625717566, '([DT], [NNP], [NNS], [NN])': 0.001148105625717566, '([NP], [,], [PP-DIR])': 0.001148105625717566, '([NP], [PP-CLR], [PP])': 0.001148105625717566, '([JJ], [JJ], [NNP])': 0.001148105625717566, '([$], [CD], [CD], [-NONE-])': 0.001148105625717566, '([DT], [JJR], [JJ], [NN])': 0.001148105625717566, '([PRP$], [JJ], [NNP], [NN])': 0.001148105625717566, '([NP], [SBAR-PRP])': 0.001148105625717566, '([DT], [NNP], [JJ], [NN])': 0.001148105625717566, '([DT], [JJ], [NN], [NNS])': 0.001148105625717566, '([NP], [JJR], [NNS])': 0.001148105625717566, '([NP], [,], [SBAR-LOC])': 0.001148105625717566, '([DT], [``], [NN], [S])': 0.001148105625717566, '([QP],)': 0.001148105625717566, '([DT], [NNP])': 0.001148105625717566, '([DT], [JJ], [NNS], [S])': 0.001148105625717566, '([DT], [JJ], [NNS], [POS])': 0.001148105625717566, '([NP], [SBAR])': 0.001148105625717566, '([NP], [PP-LOC], [PP-TMP], [PP])': 0.001148105625717566, '([NP], [,], [ADVP])': 0.001148105625717566, '([JJ], [,], [ADJP], [NNS])': 0.001148105625717566, '([DT], [NN], [CC], [NN])': 0.001148105625717566, '([NP], [:], [ADVP-LOC])': 0.001148105625717566, '([DT], [VBG], [JJ], [NNS])': 0.001148105625717566, '([NP], [PP-CLR])': 0.001148105625717566, '([DT], [NAC], [NNS])': 0.001148105625717566, '([NP], [:], [VP], [.])': 0.001148105625717566, '([DT], [NNS])': 0.001148105625717566, '([NP], [ADJP])': 0.001148105625717566, '([DT], [JJS])': 0.001148105625717566, '([NP], [JJ])': 0.001148105625717566, '([CD], [NN], [JJ], [NNS])': 0.001148105625717566, '([DT], [NAC-LOC], [NN])': 0.001148105625717566, '([NN], [NNP], [NNP], [NNP])': 0.001148105625717566, '([NP], [NNP], [NNP], [NNS])': 0.001148105625717566, '([DT], [ADJP], [NNS])': 0.001148105625717566, '([NP], [ADVP-LOC], [PP])': 0.001148105625717566, '([NP], [PP-LOC], [SBAR])': 0.001148105625717566, '([NNP], [CC], [NNP], [.])': 0.001148105625717566, '([PRP$], [CD], [NNP])': 0.001148105625717566, '([RB], [DT], [QP], [NNS])': 0.001148105625717566, '([NP], [NP-LOC])': 0.001148105625717566, '([VBG], [NNS])': 0.001148105625717566, '([NN],)': 0.001148105625717566, '([NNP], [CD], [NNS])': 0.001148105625717566, '([NP], [SBAR], [.])': 0.001148105625717566, '([VBG], [NX])': 0.001148105625717566, '([JJ], [UCP], [NNS])': 0.001148105625717566, '([NP], [JJ], [NN], [NN])': 0.001148105625717566, '([JJ], [VBN], [NN])': 0.001148105625717566, '([JJ], [NN], [CC], [NN])': 0.001148105625717566, '([NP], [,], [VP], [,])': 0.001148105625717566, '([DT], [JJS], [VBG], [NNS])': 0.001148105625717566, \"([NP], [,], [''], [NP])\": 0.001148105625717566, '([NN], [JJ], [NN])': 0.001148105625717566, '([DT], [VBN], [CD], [NN])': 0.001148105625717566, '([WP], [RB])': 0.001148105625717566, '([VB], [NN])': 0.001148105625717566, '([NP], [NNS], [SBAR])': 0.001148105625717566, '([NP], [NP-TMP])': 0.001148105625717566, '([PDT], [DT], [NNS])': 0.001148105625717566, '([NP], [SBAR], [,], [PP])': 0.001148105625717566, '([QP], [NN], [NNS])': 0.001148105625717566, '([ADJP], [ADJP], [NNS])': 0.001148105625717566, '([NAC], [JJ], [NN])': 0.001148105625717566, '([DT], [NNS], [NNS])': 0.001148105625717566, '([DT], [NN])': 0.001148105625717566, '([JJ], [NN], [SBAR])': 0.001148105625717566, '([NNPS], [POS])': 0.001148105625717566, '([NNP], [NNP], [.])': 0.001148105625717566, '([NP], [JJS], [NN], [NNS])': 0.001148105625717566, '([NP], [CC], [NP])': 0.001148105625717566, '([NNP], [NN], [NN], [NN])': 0.001148105625717566, '([VBN], [JJ], [NNS])': 0.001148105625717566, '([JJ], [JJ], [NNS], [S])': 0.001148105625717566, '([NP], [PP], [:], [NP])': 0.001148105625717566, '([NX-TTL], [NNS], [POS])': 0.001148105625717566, \"([NP], [''], [PP])\": 0.001148105625717566, '([ADJP], [NN], [QP])': 0.001148105625717566, '([NP], [,], [NP-LOC])': 0.001148105625717566, '([NNP], [NNP], [NNP], [NNP])': 0.001148105625717566, '([DT], [NNP], [CD], [NNP])': 0.001148105625717566, '([RB], [DT], [JJ], [NN])': 0.001148105625717566, '([QP], [NN])': 0.001148105625717566, '([CD], [NNS], [JJ])': 0.001148105625717566, '([JJ], [JJ], [NNS])': 0.001148105625717566, '([NP], [PP-DIR], [,], [PP])': 0.001148105625717566, '([NP-TTL], [CC], [NP-TTL])': 0.001148105625717566, '([NP], [PP], [PP])': 0.001148105625717566, '([NP], [JJ], [CD])': 0.001148105625717566, '([DT], [NNP], [NN])': 0.001148105625717566, '([PRP$], [NNP])': 0.001148105625717566, '([NNP], [CD], [,], [CD])': 0.001148105625717566, '([NP], [JJS], [NNS])': 0.001148105625717566, \"([JJ], [NNS], [''])\": 0.001148105625717566, '([NP], [NP-LOC], [.])': 0.001148105625717566, '([VBN], [NNS])': 0.001148105625717566, '([SBAR-NOM], [CC], [NP])': 0.001148105625717566, '([DT], [JJ], [VBG], [NNS])': 0.001148105625717566, '([PRP$], [ADJP], [NN], [NN])': 0.001148105625717566, '([PRP$], [CD], [JJR], [NNS])': 0.001148105625717566, '([DT], [NN], [S])': 0.001148105625717566, '([RBR],)': 0.001148105625717566, '([JJS], [RB], [JJ], [NNS])': 0.001148105625717566, '([DT], [NNS], [POS])': 0.001148105625717566, '([DT], [JJ], [NN], [NNP])': 0.001148105625717566, '([DT], [NAC-TMP], [NN])': 0.001148105625717566, '([PRP$], [JJ], [CD], [NNS])': 0.001148105625717566, '([NP], [NP])': 0.001148105625717566, '([NP], [ADJP], [NN])': 0.001148105625717566, '([NP], [PRN], [SBAR])': 0.001148105625717566, '([CD], [NP], [NNS])': 0.001148105625717566, '([NP], [PP], [NP-TMP])': 0.001148105625717566, '([NP], [ADVP], [PP])': 0.001148105625717566, '([DT], [CD], [NNS], [POS])': 0.001148105625717566, '([NNP], [NN], [NNP], [NN])': 0.001148105625717566, '([NP], [PRN], [VP])': 0.001148105625717566, '([NP], [PP], [ADVP-TMP])': 0.001148105625717566, '([DT], [NN], [JJ], [NNS])': 0.001148105625717566, '([NP], [:], [NP])': 0.001148105625717566, '([DT], [NNP], [NN], [CD])': 0.001148105625717566, '([PRP$], [NN], [S])': 0.001148105625717566, '([DT], [QP], [-NONE-])': 0.001148105625717566, '([NP], [PP-TMP], [PP])': 0.001148105625717566, '([NP], [PP])': 0.001148105625717566, '([CD], [NNS], [QP])': 0.001148105625717566, '([QP], [-NONE-], [QP])': 0.001148105625717566, '([NP], [,], [ADJP])': 0.001148105625717566, '([DT], [JJ])': 0.001148105625717566, '([NN], [CC], [VBG], [NN])': 0.001148105625717566, '([JJ], [NN], [NNS], [NN])': 0.001148105625717566, '([NP], [PP], [PP-LOC], [SBAR])': 0.001148105625717566, '([CD], [NNP], [NN], [NNS])': 0.001148105625717566, '([NN], [NN])': 0.001148105625717566, '([NP], [VP], [SBAR])': 0.001148105625717566, '([DT], [``], [JJ], [NN])': 0.001148105625717566, '([CD], [VBN], [NNS])': 0.001148105625717566, '([DT], [UCP], [NN])': 0.001148105625717566, '([NP], [VP])': 0.001148105625717566, '([RB], [JJ], [NNS])': 0.001148105625717566, '([NP], [,], [NP], [NP])': 0.001148105625717566, '([DT], [VBN], [NN], [POS])': 0.001148105625717566, '([NNPS], [NNPS])': 0.001148105625717566, '([DT], [JJ], [NN])': 0.001148105625717566, '([DT], [VBN], [ADJP], [NN])': 0.001148105625717566, '([DT], [ADJP], [NNP])': 0.001148105625717566, '([PRP$], [ADJP], [JJ], [NN])': 0.001148105625717566, '([JJR], [NN])': 0.001148105625717566, '([NP], [PP], [,], [SBAR-LOC])': 0.001148105625717566, '([NNS], [CC], [NNS])': 0.001148105625717566, '([JJ], [CC], [DT], [NN])': 0.001148105625717566, '([NP], [JJS], [CC], [JJS])': 0.001148105625717566, '([NP], [NNP], [NN])': 0.001148105625717566, '([DT], [NNS], [S])': 0.001148105625717566, '([NP], [NP], [.])': 0.001148105625717566, '([VBG], [CC], [NN])': 0.001148105625717566, '([PP-LOC': 0.001148105625717566, '([NP], [QP], [.])': 0.001148105625717566, '([NP], [PP], [PP-TMP])': 0.001148105625717566, '([RB], [JJ], [NN])': 0.001148105625717566, '([NP], [ADJP], [PP])': 0.001148105625717566, '([DT], [NX])': 0.001148105625717566, '([IN], [DT], [NN])': 0.001148105625717566, '([JJ], [JJ], [NN], [NN])': 0.001148105625717566, '([DT], [RB], [JJS])': 0.001148105625717566, '([PRP$], [JJ], [NN], [S])': 0.001148105625717566, '([DT], [NNP], [VBG], [NN])': 0.001148105625717566, '([NP], [,], [UCP])': 0.001148105625717566, '([NP], [NNP], [NNP], [NN])': 0.001148105625717566, '([NNP], [NNP], [NNP])': 0.001148105625717566, '([DT], [VBN], [NNS])': 0.001148105625717566, '([DT], [NN], [SBAR])': 0.001148105625717566, '([DT], [NNP], [NNP], [NNP])': 0.001148105625717566, '([NNP], [NX])': 0.001148105625717566, '([NP-TTL], [,], [SBAR])': 0.001148105625717566, '([S-NOM], [CC], [NP])': 0.001148105625717566, '([IN], [CD], [NNS])': 0.001148105625717566, '([NNP], [JJ], [NN])': 0.001148105625717566, '([DT], [NNP], [CD])': 0.001148105625717566, '([DT], [RBS], [JJ], [NN])': 0.001148105625717566, '([NAC], [NN], [NN])': 0.001148105625717566, '([DT], [NN], [VBZ])': 0.001148105625717566, '([JJ], [CD])': 0.001148105625717566, '([DT], [NAC], [NN])': 0.001148105625717566, '([NP], [ADVP-LOC])': 0.001148105625717566, '([NN], [VBG], [NNS])': 0.001148105625717566, '([NNS], [NNS])': 0.001148105625717566, '([DT], [NN], [JJ], [NN])': 0.001148105625717566, '([``], [NN])': 0.001148105625717566, '([NP], [NN], [NNS])': 0.001148105625717566, '([DT], [VBG], [NNP])': 0.001148105625717566, '([DT], [JJ], [NAC-LOC], [NN])': 0.001148105625717566, '([JJ], [NN], [NNP], [NNP])': 0.001148105625717566, '([ADJP], [JJR])': 0.001148105625717566, '([JJ], [NN], [NN], [NN])': 0.001148105625717566, '([NP], [PP], [SBAR-TMP])': 0.001148105625717566, '([DT], [``], [ADJP], [NN])': 0.001148105625717566, '([DT], [JJS], [NNS])': 0.001148105625717566, '([NP], [SBAR], [SBAR])': 0.001148105625717566, '([DT], [NNP], [NNP], [NN])': 0.001148105625717566, '([DT], [NN], [CD], [NN])': 0.001148105625717566, '([PRP$], [JJ])': 0.001148105625717566, '([DT], [CD], [VBN], [NNS])': 0.001148105625717566, '([DT], [JJR], [NNS])': 0.001148105625717566, '([DT], [NNP], [NNS])': 0.001148105625717566, '([NN], [CD], [NN], [NNS])': 0.001148105625717566, '([DT], [JJ], [NN], [CD])': 0.001148105625717566, '([CD], [JJ], [JJ], [NNS])': 0.001148105625717566, '([PRP$], [JJ], [CD], [NN])': 0.001148105625717566, '([PRP$], [NNS], [POS])': 0.001148105625717566, '([NN], [NNS])': 0.001148105625717566, '([DT], [CD], [NN])': 0.001148105625717566, '([DT], [NN], [NNS])': 0.001148105625717566, '([RB], [JJ], [DT], [NN])': 0.001148105625717566, '([PRP$], [JJR], [NN])': 0.001148105625717566, '([NNP], [.])': 0.001148105625717566, '([JJ], [VBN], [NNS])': 0.001148105625717566, '([NN], [POS])': 0.001148105625717566, '([NP], [SBAR], [PP])': 0.001148105625717566, '([RB], [CD])': 0.001148105625717566, \"([NP], [''], [PP-LOC])\": 0.001148105625717566, '([PRP$], [VBG], [JJ], [NNS])': 0.001148105625717566, '([NNS], [CC], [NN])': 0.001148105625717566, '([PRP$], [NNS], [S])': 0.001148105625717566, '([NNP], [NNP], [PRN], [NNP])': 0.001148105625717566, '([DT], [ADJP], [NX-TTL])': 0.001148105625717566, '([NN], [CC], [NN])': 0.001148105625717566, '([CD], [JJ], [NNS])': 0.001148105625717566, '([NP], [:], [``], [SBAR-ADV])': 0.001148105625717566, \"([``], [NNP], [''], [NNS])\": 0.001148105625717566, '([DT], [$], [CD], [-NONE-])': 0.001148105625717566, '([PRP$], [JJ], [JJ], [NN])': 0.001148105625717566, '([PRP$], [NN], [CC], [NN])': 0.001148105625717566, '([NAC], [NNS])': 0.001148105625717566, '([NNP], [NNPS], [NNP])': 0.001148105625717566, '([DT], [NN], [NNS], [POS])': 0.001148105625717566, '([JJ], [NNP])': 0.001148105625717566, '([NP], [UCP])': 0.001148105625717566, '([NP], [NN], [PRN], [S])': 0.001148105625717566, '([DT], [NNP], [CD], [NN])': 0.001148105625717566, '([DT], [NNP], [NNPS])': 0.001148105625717566, '([PRP$],)': 0.001148105625717566, '([DT], [JJ], [JJ], [NN])': 0.001148105625717566, '([NP], [NN])': 0.001148105625717566, '([PRP$], [JJ], [NN], [POS])': 0.001148105625717566, \"([DT], [''], [NNS])\": 0.001148105625717566, '([JJ], [NN], [NNP], [NNS])': 0.001148105625717566, '([NNP], [CC], [JJ], [NNS])': 0.001148105625717566, '([NN], [NN], [CC], [VBZ])': 0.001148105625717566, '([DT], [VBG], [JJ], [NN])': 0.001148105625717566, '([NN], [CD])': 0.001148105625717566, '([ADJP], [NNP], [NNP])': 0.001148105625717566, '([DT], [NNP], [NNS], [NNS])': 0.001148105625717566, '([JJR], [NNS])': 0.001148105625717566, '([NP], [NNP], [CD], [NN])': 0.001148105625717566, '([PRP$], [JJ], [ADJP], [NN])': 0.001148105625717566, '([RB], [DT])': 0.001148105625717566, '([DT], [JJR], [CD])': 0.001148105625717566, '([NNP], [NNPS], [POS])': 0.001148105625717566, '([PDT], [DT], [JJ], [NN])': 0.001148105625717566, '([NP], [ADJP], [PP], [SBAR])': 0.001148105625717566, '([NNP], [NNP], [NNP], [.])': 0.001148105625717566, '([JJ], [NN], [NN])': 0.001148105625717566, '([NP], [,], [ADVP-TMP])': 0.001148105625717566, '([VBG], [JJ], [NNS])': 0.001148105625717566, '([NP], [VP], [PP])': 0.001148105625717566, '([DT], [RBR], [JJ], [NN])': 0.001148105625717566, '([JJ], [NNP], [JJ], [NNS])': 0.001148105625717566, '([NNP], [CC], [NNP], [NNP])': 0.001148105625717566, '([QP], [PRP$], [NN], [NN])': 0.001148105625717566, '([NP], [PP-TMP], [PP-TMP])': 0.001148105625717566, '([DT], [JJS], [JJ], [NNS])': 0.001148105625717566, \"([NP], [PP], [''], [SBAR])\": 0.001148105625717566, '([NNP], [RB], [NNS])': 0.001148105625717566, '([DT], [NN], [NN], [NN])': 0.001148105625717566, '([DT], [NNPS], [NNP], [NN])': 0.001148105625717566, '([PDT], [PRP$], [NNS])': 0.001148105625717566, '([JJ], [NNP], [POS])': 0.001148105625717566, '([QP], [NNP], [NNP], [NNS])': 0.001148105625717566, '([PDT], [DT], [NN])': 0.001148105625717566, \"([NP], [,], [''], [PP])\": 0.001148105625717566, '([VBN], [NN])': 0.001148105625717566, '([NP], [CD], [NN], [NN])': 0.001148105625717566, \"([NP], [SBAR], [,], [''])\": 0.001148105625717566, '([NP], [NP-ADV], [ADVP])': 0.001148105625717566, \"([``], [NP], [''], [SBAR])\": 0.001148105625717566, '([NP], [:], [ADJP])': 0.001148105625717566, '([NP], [PP], [PP], [PP': 0.001148105625717566, '([NNP], [NNP], [JJ], [NN])': 0.001148105625717566, '([NP], [TO], [NP])': 0.001148105625717566, '([DT], [CD], [VBG], [NNS])': 0.001148105625717566, '([CD], [NN], [POS])': 0.001148105625717566, '([CD], [NNP], [NNP])': 0.001148105625717566, '([ADJP], [JJ], [NN])': 0.001148105625717566, '([NP], [PP], [VP])': 0.001148105625717566, '([ADJP], [NNS])': 0.001148105625717566, '([NNP], [CC], [NNP], [NNS])': 0.001148105625717566, '([DT], [NN], [NN])': 0.001148105625717566, '([DT], [NNP], [CC], [NNP])': 0.001148105625717566, '([DT], [NNP], [NNP], [CD])': 0.001148105625717566, '([NNP], [DT], [NNP])': 0.001148105625717566, '([JJ], [NNS])': 0.001148105625717566, '([DT], [PRP])': 0.001148105625717566, '([JJ], [VBG])': 0.001148105625717566, '([NP], [:], [SBAR-NOM])': 0.001148105625717566, '([DT], [NNP], [POS])': 0.001148105625717566, '([ADJP], [NN], [NNP], [NNP])': 0.001148105625717566, '([DT], [NNP], [NNP], [POS])': 0.001148105625717566, '([NP], [``], [S-TTL])': 0.001148105625717566, '([DT], [NN], [NN], [S])': 0.001148105625717566, '([CD], [NNP], [NN])': 0.001148105625717566, '([RB], [CD], [NNS])': 0.001148105625717566, '([NP], [PRN], [PP])': 0.001148105625717566, '([NNS],)': 0.001148105625717566, '([NP], [JJS], [VBN], [NN])': 0.001148105625717566, '([VBN], [NN], [NNS])': 0.001148105625717566, '([PRP$], [NNP], [CD], [NN])': 0.001148105625717566, '([DT], [JJR], [NN], [NN])': 0.001148105625717566, '([PRP$], [PRN], [NN])': 0.001148105625717566, '([NP], [:], [``], [S])': 0.001148105625717566, '([DT], [ADJP], [NN])': 0.001148105625717566, '([DT], [NNS], [CC], [VBZ])': 0.001148105625717566, '([ADVP], [DT], [JJ], [NN])': 0.001148105625717566, '([NP], [PP], [PP], [SBAR-ADV])': 0.001148105625717566, '([JJ], [,], [JJ], [NN])': 0.001148105625717566, '([DT], [CD], [NN], [NN])': 0.001148105625717566, '([DT], [JJ], [CD], [NNS])': 0.001148105625717566, '([PRP$], [IN], [NNS])': 0.001148105625717566, '([RB], [RB])': 0.001148105625717566, '([NP], [,], [NP], [,])': 0.001148105625717566, '([DT], [CD], [JJ], [NNS])': 0.001148105625717566, '([QP], [NN], [NN])': 0.001148105625717566, '([DT], [CC], [NN])': 0.001148105625717566, '([DT], [JJS], [NN], [NNS])': 0.001148105625717566, '([PRP$], [CD], [NN])': 0.001148105625717566, '([DT], [JJ], [ADJP], [NN])': 0.001148105625717566, '([RB], [DT], [JJ], [NNS])': 0.001148105625717566, '([NNPS], [NNP])': 0.001148105625717566, '([ADJP], [-LRB-], [NNS], [-RRB-])': 0.001148105625717566, '([JJ], [NX])': 0.001148105625717566, '([PRP$], [JJS], [NN], [NN])': 0.001148105625717566, '([CD], [JJ], [NN], [NNS])': 0.001148105625717566, '([NP], [PP], [S': 0.002296211251435132, '([VBN], [NN], [NN])': 0.001148105625717566, '([DT], [NP], [CC], [NP])': 0.001148105625717566, '([NP], [:], [CC], [NP])': 0.001148105625717566, '([DT], [VBN], [NN])': 0.001148105625717566, '([CD],)': 0.001148105625717566, '([DT], [CD])': 0.001148105625717566, '([DT], [NNP], [NN], [POS])': 0.001148105625717566, '([NP], [PP-LOC], [NP])': 0.001148105625717566, '([QP], [NNS], [NN])': 0.001148105625717566, '([VB],)': 0.001148105625717566, '([NP], [NNPS], [NNP], [NNP])': 0.001148105625717566, '([DT], [JJ], [QP], [NNS])': 0.001148105625717566, '([NP], [CC], [PRN], [NP])': 0.001148105625717566, '([NP], [,], [NP-LOC], [,])': 0.001148105625717566, '([PRP$], [JJ], [NN], [NN])': 0.001148105625717566, \"([``], [NP], [''], [PP-LOC])\": 0.001148105625717566, '([ADJP], [NN])': 0.001148105625717566, '([PRP$], [NX-TTL], [JJ], [NNS])': 0.001148105625717566, '([JJ], [NNP], [NNP], [NNP])': 0.001148105625717566, '([NN], [CC], [NNS])': 0.001148105625717566, '([NP], [NP-ADV], [QP': 0.001148105625717566, '([PRP$], [NNS], [NN])': 0.001148105625717566, '([NP], [PP], [PP], [PP])': 0.001148105625717566, '([QP], [JJ], [NNS])': 0.001148105625717566, '([CD], [ADJP], [JJ], [NNS])': 0.001148105625717566, '([NNP], [NNP], [NNP], [NN])': 0.001148105625717566, '([NP], [``], [VP])': 0.001148105625717566, '([ADJP], [NN], [NN])': 0.001148105625717566, '([NP], [PP], [SBAR-PRP])': 0.001148105625717566, '([DT], [JJ], [VBG], [NN])': 0.001148105625717566, '([JJ], [CC], [JJ], [NNS])': 0.001148105625717566, '([NNP], [NN], [NNP])': 0.001148105625717566, '([NNS], [POS])': 0.001148105625717566, '([RBS],)': 0.001148105625717566, '([CD], [NN], [-NONE-])': 0.001148105625717566, '([NP], [NNP], [NNP])': 0.001148105625717566, '([NP], [.])': 0.001148105625717566, '([NP], [PP], [PRN], [NP])': 0.001148105625717566, '([VBG], [JJ], [NN])': 0.001148105625717566, '([PRP$], [QP], [NNS])': 0.001148105625717566, '([NAC-LOC], [NN])': 0.001148105625717566, '([NP], [-LRB-], [NP], [-RRB-])': 0.001148105625717566, '([JJR], [JJ], [NNS])': 0.001148105625717566, '([JJ], [CD], [NNS])': 0.001148105625717566, '([NNPS], [NNP], [NNP], [NNP])': 0.001148105625717566, '([DT], [CD], [NN], [NNS])': 0.001148105625717566, \"([DT], [``], [NNS], [''])\": 0.001148105625717566, '([NP], [PP], [,], [VP])': 0.001148105625717566, '([NP], [,], [RB], [NP])': 0.001148105625717566, '([DT], [NX-TTL])': 0.001148105625717566, '([ADJP], [NNP], [NNPS], [NNP])': 0.001148105625717566, '([JJ], [NNP], [NNP])': 0.001148105625717566, '([NP], [JJ], [NN], [NNS])': 0.001148105625717566, '([DT], [NN], [VBG], [NN])': 0.001148105625717566, '([DT], [ADJP], [NNS], [NN])': 0.001148105625717566, '([DT], [NNP], [NNP], [NNS])': 0.001148105625717566, '([DT], [NNS], [CC], [NN])': 0.001148105625717566, '([CD], [JJ])': 0.001148105625717566, '([NNP], [NNP], [NNPS])': 0.001148105625717566, '([NP], [,], [NP], [.])': 0.001148105625717566, '([DT], [NN], [NNS], [NN])': 0.001148105625717566, '([S-NOM], [,], [NP])': 0.001148105625717566, '([DT], [NN], [POS])': 0.001148105625717566, '([DT], [NAC], [NNP])': 0.001148105625717566, '([DT], [``], [NN], [NN])': 0.001148105625717566, \"([``], [QP], [''], [NNS])\": 0.001148105625717566, '([IN], [JJ], [NN])': 0.001148105625717566, '([DT], [JJ], [NNS], [NN])': 0.001148105625717566, '([NN], [NN], [CC], [NN])': 0.001148105625717566, '([PRP], [NN], [NN])': 0.001148105625717566, '([NNP], [JJ], [NNS])': 0.001148105625717566, '([NP], [ADJP], [NN], [NNS])': 0.001148105625717566, '([NNPS],)': 0.001148105625717566, '([NP], [PP], [PP], [NP-TMP])': 0.001148105625717566, '([LST], [VBN], [NN])': 0.001148105625717566, '([-NONE-],)': 0.001148105625717566, '([JJ], [VBG], [NNS])': 0.001148105625717566, '([NN], [NNS], [NN])': 0.001148105625717566, '([DT], [ADJP], [QP], [-NONE-])': 0.001148105625717566, '([PRP$], [VBN], [NNS], [NN])': 0.001148105625717566, '([DT], [VBN], [CD], [CD])': 0.001148105625717566, '([JJ], [SBAR])': 0.001148105625717566, '([PRP$], [CD], [NNS])': 0.001148105625717566, '([DT], [JJS], [RB])': 0.001148105625717566, '([JJ], [NN], [VBZ])': 0.001148105625717566, '([DT], [ADJP], [NN], [NN])': 0.001148105625717566, '([DT], [JJ], [NX])': 0.001148105625717566, '([ADJP], [VBG], [NNS])': 0.001148105625717566, '([DT], [JJ], [NNP])': 0.001148105625717566, '([VBZ], [S])': 0.001148105625717566, '([NP], [NNP], [NNPS])': 0.001148105625717566, '([PRP$], [JJ], [VBN], [NNS])': 0.001148105625717566, '([DT], [VBN], [NN], [NNS])': 0.001148105625717566, '([CD], [JJR], [NNS])': 0.001148105625717566, '([DT], [JJ], [NN], [NN])': 0.001148105625717566, '([JJ], [NNS], [CC], [NNS])': 0.001148105625717566, '([DT], [NNP], [.])': 0.001148105625717566, '([NNS], [CONJP], [NNS])': 0.001148105625717566, '([NP], [JJ], [NNP], [NNP])': 0.001148105625717566, '([JJ], [JJ], [JJ], [NNS])': 0.001148105625717566, '([CD], [POS])': 0.001148105625717566, '([QP], [DT], [NN])': 0.001148105625717566, '([NP], [PP], [PP], [PP-TMP])': 0.001148105625717566, \"([``], [JJ], [''], [NNS])\": 0.001148105625717566, '([DT], [JJ], [QP], [-NONE-])': 0.001148105625717566, '([NP], [JJR], [NN])': 0.001148105625717566, '([CD], [NNP], [NNP], [NN])': 0.001148105625717566, '([LST], [NP], [PP])': 0.001148105625717566, '([JJ], [NNP], [NN], [NNS])': 0.001148105625717566, '([NP], [NNS], [CC], [NN])': 0.001148105625717566, '([JJ], [NN], [S])': 0.001148105625717566, '([CD], [CC], [JJR], [NNS])': 0.001148105625717566, '([ADVP], [DT], [QP], [-NONE-])': 0.001148105625717566, '([NP],)': 0.001148105625717566, '([NP], [ADJP], [JJ], [NN])': 0.001148105625717566, '([PRP$], [JJ], [NP], [NN])': 0.001148105625717566, '([NP], [S-NOM])': 0.001148105625717566, '([DT], [NN], [,], [SBAR])': 0.001148105625717566, '([DT], [JJR], [ADJP], [NN])': 0.001148105625717566, '([NN], [NN], [NNS])': 0.001148105625717566, '([NNP], [NN])': 0.001148105625717566, '([NNS], [CC], [NN], [NNS])': 0.001148105625717566, '([CD], [RB], [.])': 0.001148105625717566, '([NAC-LOC], [CD], [NNP], [NNP])': 0.001148105625717566, '([LST], [NP], [VP])': 0.001148105625717566, '([NP], [PP-LOC], [PP])': 0.001148105625717566, '([DT], [NN], [QP], [-NONE-])': 0.001148105625717566, '([ADVP], [NP], [CC], [NP])': 0.001148105625717566, '([NP], [CC], [NP-TTL])': 0.001148105625717566, '([DT], [NN], [PRN])': 0.001148105625717566, '([NP], [PP], [.])': 0.001148105625717566, '([JJ],)': 0.001148105625717566, '([PRP$], [JJ], [NNP], [NNP])': 0.001148105625717566, '([DT], [DT], [NN])': 0.001148105625717566, '([QP], [NN], [NN], [NNS])': 0.001148105625717566, '([DT], [NN], [NNP])': 0.001148105625717566, '([JJS], [NN], [NNS])': 0.001148105625717566, '([QP], [JJ], [NN])': 0.001148105625717566, '([DT], [JJS], [JJ], [NN])': 0.001148105625717566, '([PRP$], [CD], [CC], [CD])': 0.001148105625717566, '([NN], [NN], [CC], [NNS])': 0.001148105625717566, '([DT], [CD], [CD])': 0.001148105625717566, '([NP], [ADVP-DIR], [PP-DIR])': 0.001148105625717566, '([PRP$], [NN])': 0.001148105625717566, '([JJ], [NN])': 0.001148105625717566, '([WDT],)': 0.001148105625717566, '([IN], [JJ], [NN], [NN])': 0.001148105625717566, '([DT], [JJ], [NN], [QP])': 0.001148105625717566, '([NNP], [NN], [VBN], [NNS])': 0.001148105625717566, '([DT], [NN], [CD])': 0.001148105625717566, '([NP], [NP], [PP])': 0.001148105625717566, '([NP], [VBG], [NN])': 0.001148105625717566, '([DT], [JJR], [NN])': 0.001148105625717566, '([DT], [JJ], [NNP], [NN])': 0.001148105625717566, '([RB], [NNS])': 0.001148105625717566, '([JJ], [VBG], [NN])': 0.001148105625717566, '([NP], [PP], [SBAR])': 0.001148105625717566, '([NP], [VBN], [NNP], [NN])': 0.001148105625717566, '([NP], [``], [JJ], [NNS])': 0.001148105625717566, \"([``], [NP-TTL], [''], [PRN])\": 0.001148105625717566, '([PRP$], [JJ], [NN], [NNS])': 0.001148105625717566, '([RB],)': 0.001148105625717566, '([DT], [NNP], [CD], [NNS])': 0.001148105625717566, '([DT], [ADJP], [NN], [POS])': 0.001148105625717566, '([DT], [VBG], [NNS])': 0.001148105625717566, '([NP], [PP-TMP])': 0.001148105625717566, '([NP], [NAC-LOC], [NN], [NN])': 0.001148105625717566, '([NN], [NN], [NN], [NN])': 0.001148105625717566, '([DT], [RB], [CD], [NNS])': 0.001148105625717566, '([JJ], [NNP], [CD])': 0.001148105625717566, '([DT], [JJS], [NN], [RB])': 0.001148105625717566, '([DT], [JJ], [VBN], [NNS])': 0.001148105625717566, '([NP], [JJ], [NNS])': 0.001148105625717566, '([DT], [NNS], [SBAR])': 0.001148105625717566, '([NNP], [NN], [NNS])': 0.001148105625717566, '([NP], [PRN], [SBAR-TMP])': 0.001148105625717566, '([NP], [PP-LOC], [VP])': 0.001148105625717566, '([NP], [PP], [,], [SBAR])': 0.001148105625717566, '([JJS], [JJ], [JJ], [NNS])': 0.001148105625717566, '([NP], [:], [NP], [.])': 0.001148105625717566, '([NNP], [CC], [NNP], [POS])': 0.001148105625717566, '([QP], [NNS])': 0.001148105625717566, '([DT], [ADJP])': 0.001148105625717566, '([DT], [ADJP], [NN], [NNS])': 0.001148105625717566, '([NNP], [NP])': 0.001148105625717566, '([JJ], [DT], [NN])': 0.001148105625717566, '([NP], [VBN], [NN], [NNS])': 0.001148105625717566, '([DT], [JJ], [VBG])': 0.001148105625717566, '([NP], [NN], [JJ], [NN])': 0.001148105625717566, '([PRP], [NN])': 0.001148105625717566, '([DT], [QP], [NNS])': 0.001148105625717566, '([NP], [NNPS])': 0.001148105625717566, '([DT], [JJS], [NN], [NN])': 0.001148105625717566, '([NP], [JJS], [NN])': 0.001148105625717566, '([JJR], [NN], [NN])': 0.001148105625717566, '([CD], [NN])': 0.001148105625717566, '([NP], [NNP], [NN], [NN])': 0.001148105625717566, '([RB], [DT], [VBG], [NNS])': 0.001148105625717566, '([ADJP], [VBN], [NN])': 0.001148105625717566, '([DT], [JJ], [NNP], [NNPS])': 0.001148105625717566, '([NN], [S])': 0.001148105625717566, '([DT], [NN], [NN], [POS])': 0.001148105625717566, '([NP], [RRC])': 0.001148105625717566, '([NN], [NNS], [POS])': 0.001148105625717566, '([DT], [NNP], [NX])': 0.001148105625717566, '([NP], [PP], [PP-PRP])': 0.001148105625717566, '([DT], [JJ], [NNS], [NNS])': 0.001148105625717566, '([NP], [PP], [ADVP])': 0.001148105625717566, '([PDT], [DT])': 0.001148105625717566, '([QP], [-NONE-])': 0.001148105625717566, '([DT], [RB], [JJ], [NN])': 0.001148105625717566, '([NP], [,], [VP])': 0.001148105625717566, '([NP], [PP-LOC], [PRN])': 0.001148105625717566, '([JJ], [NN], [NN], [NNS])': 0.001148105625717566, '([NP], [NAC-LOC], [NN], [NNS])': 0.001148105625717566, '([NP], [PP], [PP-DIR], [PP])': 0.001148105625717566, '([RB], [JJR])': 0.001148105625717566, '([NP], [,], [SBAR])': 0.001148105625717566, '([NNS], [SBAR])': 0.001148105625717566, '([PRP$], [NNP], [NNP], [NNS])': 0.001148105625717566, '<unk>': 0.001148105625717566}\n",
      "[NP-LGS] {'([NNS],)': 0.017241379310344827, '([JJ], [NN])': 0.017241379310344827, '([DT], [NNP], [NN])': 0.017241379310344827, '([NNP], [NNP], [NNP], [NNP])': 0.017241379310344827, '([NP], [,], [SBAR])': 0.017241379310344827, '([DT], [NNP], [NNS])': 0.017241379310344827, '([NP], [,], [NP-LOC])': 0.017241379310344827, '([JJ], [NNP], [NNP], [NNS])': 0.017241379310344827, '([DT], [NNP], [NNP], [NNP])': 0.017241379310344827, '([NP], [PP-LOC])': 0.017241379310344827, '([NNP], [NNP])': 0.017241379310344827, '([JJ], [NNS])': 0.017241379310344827, '([NNP], [NNPS], [NNP], [NNP])': 0.017241379310344827, '([NP], [,], [NP-LOC], [,])': 0.017241379310344827, '([NP], [CC], [NP])': 0.017241379310344827, '([NN],)': 0.017241379310344827, '([NNP], [CC], [NNP])': 0.017241379310344827, '([NNP], [NNP], [NNP])': 0.017241379310344827, '([NP], [NN], [S])': 0.017241379310344827, '([NP], [PP])': 0.017241379310344827, '([NP], [NNP], [NNP], [NNP])': 0.017241379310344827, '([NP], [NP])': 0.017241379310344827, '([PRP],)': 0.017241379310344827, '([NP], [JJ], [NN])': 0.017241379310344827, '([NP], [PRN])': 0.017241379310344827, '([DT], [NNP])': 0.017241379310344827, '([NP], [PP], [SBAR])': 0.017241379310344827, '([NNP],)': 0.017241379310344827, '([NNP], [NNPS], [NNP])': 0.017241379310344827, '([NP], [PP-LOC], [PP])': 0.017241379310344827, '([DT], [NN])': 0.017241379310344827, '([NNS], [SBAR])': 0.017241379310344827, '([VBN], [NN])': 0.017241379310344827, '([PRP$], [NNS])': 0.017241379310344827, '([DT], [JJ], [NN])': 0.017241379310344827, '([NP], [,], [ADVP], [NP])': 0.017241379310344827, '([NP], [,], [NP])': 0.017241379310344827, '([DT], [NNP], [NN], [NNS])': 0.017241379310344827, '([DT], [NN], [JJ], [NN])': 0.017241379310344827, '([NP], [,], [NP], [SBAR])': 0.017241379310344827, '([NP], [,], [NP], [,])': 0.017241379310344827, '([NP],)': 0.017241379310344827, '([DT], [NP], [CC], [NP])': 0.017241379310344827, '([NP], [VP])': 0.017241379310344827, '([DT], [NNP], [NNP])': 0.017241379310344827, '([NN], [NNS])': 0.017241379310344827, '([JJ], [NNS], [CC], [NNS])': 0.017241379310344827, '([DT], [NNP], [CC], [NNP])': 0.017241379310344827, '([DT], [NN], [NN])': 0.017241379310344827, '([QP], [NN], [NNS])': 0.017241379310344827, '([NN], [NN])': 0.017241379310344827, '([NP], [NN])': 0.017241379310344827, '([DT],)': 0.017241379310344827, '([NNP], [CC], [NNP], [NNP])': 0.017241379310344827, '([NP], [PP], [PP])': 0.017241379310344827, '([QP], [JJ], [NNS])': 0.017241379310344827, '([NP], [NNS])': 0.017241379310344827, '<unk>': 0.017241379310344827}\n",
      "[CD] {\"('82,389',)\": 0.0015408320493066256, \"('98.3',)\": 0.0015408320493066256, \"('2.87',)\": 0.0015408320493066256, \"('4.10',)\": 0.0015408320493066256, \"('1.7',)\": 0.0015408320493066256, \"('25',)\": 0.0015408320493066256, \"('5.29',)\": 0.0015408320493066256, \"('13.8',)\": 0.0015408320493066256, \"('4.6',)\": 0.0015408320493066256, \"(''40s',)\": 0.0015408320493066256, \"('13\\\\/16',)\": 0.0015408320493066256, \"('28',)\": 0.0015408320493066256, \"('4.898',)\": 0.0015408320493066256, \"('155',)\": 0.0015408320493066256, \"('361,376',)\": 0.0015408320493066256, \"('234.4',)\": 0.0015408320493066256, \"('1\\\\/8',)\": 0.0015408320493066256, \"('295',)\": 0.0015408320493066256, \"('1637',)\": 0.0015408320493066256, \"('1934',)\": 0.0015408320493066256, \"('2.3',)\": 0.0015408320493066256, \"('3.42',)\": 0.0015408320493066256, \"('36.9',)\": 0.0015408320493066256, \"('7.15',)\": 0.0015408320493066256, \"('Fifteen',)\": 0.0015408320493066256, \"('75-year-old',)\": 0.0015408320493066256, \"('340,000',)\": 0.0015408320493066256, \"('32.8',)\": 0.0015408320493066256, \"('11.5',)\": 0.0015408320493066256, \"('235',)\": 0.0015408320493066256, \"('7\\\\/8',)\": 0.0015408320493066256, \"('3.9',)\": 0.0015408320493066256, \"('1937\": 0.0015408320493066256, \"('271,124',)\": 0.0015408320493066256, \"('343',)\": 0.0015408320493066256, \"('2009',)\": 0.0015408320493066256, \"('138',)\": 0.0015408320493066256, \"('1968',)\": 0.0015408320493066256, \"('13.625',)\": 0.0015408320493066256, \"('29',)\": 0.0015408320493066256, \"('1787',)\": 0.0015408320493066256, \"('127.03',)\": 0.0015408320493066256, \"('24.95',)\": 0.0015408320493066256, \"('0.4',)\": 0.0015408320493066256, \"('1,500',)\": 0.0015408320493066256, \"('16.125',)\": 0.0015408320493066256, \"('59',)\": 0.0015408320493066256, \"('2005',)\": 0.0015408320493066256, \"('Four',)\": 0.0015408320493066256, \"('seven',)\": 0.0015408320493066256, \"('1903',)\": 0.0015408320493066256, \"('140',)\": 0.0015408320493066256, \"('57.7',)\": 0.0015408320493066256, \"('374.19',)\": 0.0015408320493066256, \"('40',)\": 0.0015408320493066256, \"('99.1',)\": 0.0015408320493066256, \"('672',)\": 0.0015408320493066256, \"('115',)\": 0.0015408320493066256, \"('7.3',)\": 0.0015408320493066256, \"('11.6',)\": 0.0015408320493066256, \"('109.73',)\": 0.0015408320493066256, \"('Two',)\": 0.0015408320493066256, \"('86.12',)\": 0.0015408320493066256, \"('61',)\": 0.0015408320493066256, \"('2.1',)\": 0.0015408320493066256, \"('45.3',)\": 0.0015408320493066256, \"('72',)\": 0.0015408320493066256, \"('8.53',)\": 0.0015408320493066256, \"('700',)\": 0.0015408320493066256, \"('118',)\": 0.0015408320493066256, \"('1980s',)\": 0.0015408320493066256, \"('eight',)\": 0.0015408320493066256, \"('8.75',)\": 0.0015408320493066256, \"('135',)\": 0.0015408320493066256, \"('5.276',)\": 0.0015408320493066256, \"('3.35',)\": 0.0015408320493066256, \"('65',)\": 0.0015408320493066256, \"('278.7',)\": 0.0015408320493066256, \"('5',)\": 0.0015408320493066256, \"('321,000',)\": 0.0015408320493066256, \"('1917',)\": 0.0015408320493066256, \"('21',)\": 0.0015408320493066256, \"('7.65',)\": 0.0015408320493066256, \"('125',)\": 0.0015408320493066256, \"('16.7',)\": 0.0015408320493066256, \"('1970',)\": 0.0015408320493066256, \"('18,000',)\": 0.0015408320493066256, \"('2029',)\": 0.0015408320493066256, \"('900',)\": 0.0015408320493066256, \"('51',)\": 0.0015408320493066256, \"('500,000',)\": 0.0015408320493066256, \"('1.92',)\": 0.0015408320493066256, \"('71,309',)\": 0.0015408320493066256, \"('1.8415',)\": 0.0015408320493066256, \"('6.9',)\": 0.0015408320493066256, \"('3057',)\": 0.0015408320493066256, \"('5.39',)\": 0.0015408320493066256, \"('360',)\": 0.0015408320493066256, \"('500',)\": 0.0015408320493066256, \"('2,700',)\": 0.0015408320493066256, \"('1953',)\": 0.0015408320493066256, \"('271\": 0.0015408320493066256, \"('28.6',)\": 0.0015408320493066256, \"('300',)\": 0.0015408320493066256, \"('3.18',)\": 0.0015408320493066256, \"('83.4',)\": 0.0015408320493066256, \"('3:15',)\": 0.0015408320493066256, \"('the',)\": 0.0015408320493066256, \"('51.25',)\": 0.0015408320493066256, \"('80',)\": 0.0015408320493066256, \"('244,000',)\": 0.0015408320493066256, \"('4',)\": 0.0015408320493066256, \"('10.5',)\": 0.0015408320493066256, \"('Three',)\": 0.0015408320493066256, \"('30',)\": 0.0015408320493066256, \"('8.30',)\": 0.0015408320493066256, \"('644',)\": 0.0015408320493066256, \"('225.6',)\": 0.0015408320493066256, \"('382\": 0.0015408320493066256, \"('30,537',)\": 0.0015408320493066256, \"('2.42',)\": 0.0015408320493066256, \"('8.65',)\": 0.0015408320493066256, \"('877,663',)\": 0.0015408320493066256, \"('2,500',)\": 0.0015408320493066256, \"('250,000',)\": 0.0015408320493066256, \"('130.6',)\": 0.0015408320493066256, \"('16',)\": 0.0015408320493066256, \"('8.56',)\": 0.0015408320493066256, \"('8.15',)\": 0.0015408320493066256, \"('2019',)\": 0.0015408320493066256, \"('71',)\": 0.0015408320493066256, \"('501',)\": 0.0015408320493066256, \"('1,620',)\": 0.0015408320493066256, \"('143.80',)\": 0.0015408320493066256, \"('15',)\": 0.0015408320493066256, \"('57.6',)\": 0.0015408320493066256, \"('23.72',)\": 0.0015408320493066256, \"('27.1',)\": 0.0015408320493066256, \"('400',)\": 0.0015408320493066256, \"('120,000',)\": 0.0015408320493066256, \"('1984',)\": 0.0015408320493066256, \"('737.5',)\": 0.0015408320493066256, \"(''30s',)\": 0.0015408320493066256, \"('2.95',)\": 0.0015408320493066256, \"('37',)\": 0.0015408320493066256, \"('3,600',)\": 0.0015408320493066256, \"('93',)\": 0.0015408320493066256, \"('11\\\\/16',)\": 0.0015408320493066256, \"('four',)\": 0.0015408320493066256, \"('76',)\": 0.0015408320493066256, \"('2,303,328',)\": 0.0015408320493066256, \"('100,980',)\": 0.0015408320493066256, \"('2.46',)\": 0.0015408320493066256, \"('7.50',)\": 0.0015408320493066256, \"('90',)\": 0.0015408320493066256, \"('21.9',)\": 0.0015408320493066256, \"('850',)\": 0.0015408320493066256, \"('1901',)\": 0.0015408320493066256, \"('88',)\": 0.0015408320493066256, \"('48',)\": 0.0015408320493066256, \"('47',)\": 0.0015408320493066256, \"('94',)\": 0.0015408320493066256, \"('8.55',)\": 0.0015408320493066256, \"('59.9',)\": 0.0015408320493066256, \"('23.4',)\": 0.0015408320493066256, \"('415.6',)\": 0.0015408320493066256, \"('325,000',)\": 0.0015408320493066256, \"('133',)\": 0.0015408320493066256, \"('4.9',)\": 0.0015408320493066256, \"('7.62',)\": 0.0015408320493066256, \"('11,762',)\": 0.0015408320493066256, \"('321',)\": 0.0015408320493066256, \"('0.3',)\": 0.0015408320493066256, \"('69',)\": 0.0015408320493066256, \"('380',)\": 0.0015408320493066256, \"('thousand',)\": 0.0015408320493066256, \"('150',)\": 0.0015408320493066256, \"('396,000',)\": 0.0015408320493066256, \"('81.8',)\": 0.0015408320493066256, \"('7.74',)\": 0.0015408320493066256, \"('29.3',)\": 0.0015408320493066256, \"('3\\\\/8',)\": 0.0015408320493066256, \"('188',)\": 0.0015408320493066256, \"('2',)\": 0.0015408320493066256, \"('100',)\": 0.0015408320493066256, \"('1985',)\": 0.0015408320493066256, \"('TWO',)\": 0.0015408320493066256, \"('86',)\": 0.0015408320493066256, \"('62.625',)\": 0.0015408320493066256, \"('5\\\\/8',)\": 0.0015408320493066256, \"('2.65',)\": 0.0015408320493066256, \"('34',)\": 0.0015408320493066256, \"('26',)\": 0.0015408320493066256, \"('10.2',)\": 0.0015408320493066256, \"('93,000',)\": 0.0015408320493066256, \"('7.88',)\": 0.0015408320493066256, \"('388',)\": 0.0015408320493066256, \"('14,821',)\": 0.0015408320493066256, \"('89',)\": 0.0015408320493066256, \"('50.45',)\": 0.0015408320493066256, \"('10',)\": 0.0015408320493066256, \"('200',)\": 0.0015408320493066256, \"('331,000',)\": 0.0015408320493066256, \"('7.8',)\": 0.0015408320493066256, \"('66.5',)\": 0.0015408320493066256, \"('1973',)\": 0.0015408320493066256, \"('99',)\": 0.0015408320493066256, \"('500,004',)\": 0.0015408320493066256, \"('1992\": 0.0015408320493066256, \"('1.64',)\": 0.0015408320493066256, \"('141.9',)\": 0.0015408320493066256, \"('142.85',)\": 0.0015408320493066256, \"('8.48',)\": 0.0015408320493066256, \"('19.3',)\": 0.0015408320493066256, \"('hundred',)\": 0.0015408320493066256, \"('mid\": 0.0015408320493066256, \"('1982',)\": 0.0015408320493066256, \"('45,000',)\": 0.0015408320493066256, \"('187',)\": 0.0015408320493066256, \"('6.25',)\": 0.0015408320493066256, \"('352.9',)\": 0.0015408320493066256, \"('225',)\": 0.0015408320493066256, \"('9.75',)\": 0.0015408320493066256, \"('4.8',)\": 0.0015408320493066256, \"('436.01',)\": 0.0015408320493066256, \"('1986\": 0.0015408320493066256, \"('1,200',)\": 0.0015408320493066256, \"('1948',)\": 0.0015408320493066256, \"('7.5',)\": 0.0015408320493066256, \"('777',)\": 0.0015408320493066256, \"('45.75',)\": 0.0015408320493066256, \"('3.253',)\": 0.0015408320493066256, \"('128',)\": 0.0015408320493066256, \"('two',)\": 0.0015408320493066256, \"('26.2',)\": 0.0015408320493066256, \"('12,252',)\": 0.0015408320493066256, \"('1993',)\": 0.0015408320493066256, \"('27',)\": 0.0015408320493066256, \"('1975',)\": 0.0015408320493066256, \"('3.5',)\": 0.0015408320493066256, \"('89.7',)\": 0.0015408320493066256, \"('620',)\": 0.0015408320493066256, \"('9',)\": 0.0015408320493066256, \"('1990s',)\": 0.0015408320493066256, \"('42',)\": 0.0015408320493066256, \"('7',)\": 0.0015408320493066256, \"('10-year',)\": 0.0015408320493066256, \"('7.45',)\": 0.0015408320493066256, \"('2.50',)\": 0.0015408320493066256, \"('3.2',)\": 0.0015408320493066256, \"('1956',)\": 0.0015408320493066256, \"('17.95',)\": 0.0015408320493066256, \"('1.8500',)\": 0.0015408320493066256, \"('23.5',)\": 0.0015408320493066256, \"('47.125',)\": 0.0015408320493066256, \"('1996',)\": 0.0015408320493066256, \"('13,056',)\": 0.0015408320493066256, \"('1986',)\": 0.0015408320493066256, \"('three',)\": 0.0015408320493066256, \"('0.1',)\": 0.0015408320493066256, \"('85.1',)\": 0.0015408320493066256, \"('Cray\": 0.0015408320493066256, \"('44',)\": 0.0015408320493066256, \"('50.38',)\": 0.0015408320493066256, \"('100,000',)\": 0.0015408320493066256, \"('8.467',)\": 0.0015408320493066256, \"('251.2',)\": 0.0015408320493066256, \"('176',)\": 0.0015408320493066256, \"('30,841',)\": 0.0015408320493066256, \"('1987\": 0.0015408320493066256, \"('4.25',)\": 0.0015408320493066256, \"('7.422',)\": 0.0015408320493066256, \"('0.5',)\": 0.0015408320493066256, \"('trillion',)\": 0.0015408320493066256, \"('3.23',)\": 0.0015408320493066256, \"('45',)\": 0.0015408320493066256, \"('6.70',)\": 0.0015408320493066256, \"('1\\\\/4',)\": 0.0015408320493066256, \"('1967',)\": 0.0015408320493066256, \"('18.95',)\": 0.0015408320493066256, \"('456.64',)\": 0.0015408320493066256, \"('8.575',)\": 0.0015408320493066256, \"('3.80',)\": 0.0015408320493066256, \"('119',)\": 0.0015408320493066256, \"('0.2',)\": 0.0015408320493066256, \"('175',)\": 0.0015408320493066256, \"('1.55',)\": 0.0015408320493066256, \"('58',)\": 0.0015408320493066256, \"('230\": 0.0015408320493066256, \"('38',)\": 0.0015408320493066256, \"('2.5',)\": 0.0015408320493066256, \"('105',)\": 0.0015408320493066256, \"('154.2',)\": 0.0015408320493066256, \"('2.8',)\": 0.0015408320493066256, \"('19',)\": 0.0015408320493066256, \"('57',)\": 0.0015408320493066256, \"('0.25',)\": 0.0015408320493066256, \"('13.50',)\": 0.0015408320493066256, \"('3.3',)\": 0.0015408320493066256, \"('1970s',)\": 0.0015408320493066256, \"('60,000',)\": 0.0015408320493066256, \"('2,000',)\": 0.0015408320493066256, \"('13',)\": 0.0015408320493066256, \"('273.5',)\": 0.0015408320493066256, \"('1.5755',)\": 0.0015408320493066256, \"('49.9',)\": 0.0015408320493066256, \"('7.95',)\": 0.0015408320493066256, \"('1.01',)\": 0.0015408320493066256, \"('101',)\": 0.0015408320493066256, \"('1,000',)\": 0.0015408320493066256, \"('33',)\": 0.0015408320493066256, \"('5.4',)\": 0.0015408320493066256, \"('29.4',)\": 0.0015408320493066256, \"('1980',)\": 0.0015408320493066256, \"('38.3',)\": 0.0015408320493066256, \"('266',)\": 0.0015408320493066256, \"('450',)\": 0.0015408320493066256, \"('12.5',)\": 0.0015408320493066256, \"(''86',)\": 0.0015408320493066256, \"('1928\": 0.0015408320493066256, \"('1976',)\": 0.0015408320493066256, \"('446.62',)\": 0.0015408320493066256, \"('10,000',)\": 0.0015408320493066256, \"('43',)\": 0.0015408320493066256, \"('46',)\": 0.0015408320493066256, \"('95,142',)\": 0.0015408320493066256, \"('six',)\": 0.0015408320493066256, \"('3.4',)\": 0.0015408320493066256, \"('1999',)\": 0.0015408320493066256, \"('73',)\": 0.0015408320493066256, \"('467',)\": 0.0015408320493066256, \"('7\\\\/16',)\": 0.0015408320493066256, \"('4.1',)\": 0.0015408320493066256, \"('26,000',)\": 0.0015408320493066256, \"('280',)\": 0.0015408320493066256, \"('241',)\": 0.0015408320493066256, \"('32',)\": 0.0015408320493066256, \"('8300',)\": 0.0015408320493066256, \"('1972',)\": 0.0015408320493066256, \"('89.9',)\": 0.0015408320493066256, \"('9.82',)\": 0.0015408320493066256, \"('40,000',)\": 0.0015408320493066256, \"('1990',)\": 0.0015408320493066256, \"('8.19',)\": 0.0015408320493066256, \"('64',)\": 0.0015408320493066256, \"('98',)\": 0.0015408320493066256, \"('350,000',)\": 0.0015408320493066256, \"('3.7',)\": 0.0015408320493066256, \"('1.8',)\": 0.0015408320493066256, \"('133.8',)\": 0.0015408320493066256, \"('228',)\": 0.0015408320493066256, \"('29.9',)\": 0.0015408320493066256, \"('16,072',)\": 0.0015408320493066256, \"('9.8',)\": 0.0015408320493066256, \"('Five',)\": 0.0015408320493066256, \"('62',)\": 0.0015408320493066256, \"('274',)\": 0.0015408320493066256, \"('Nine',)\": 0.0015408320493066256, \"('4.875',)\": 0.0015408320493066256, \"('352.7',)\": 0.0015408320493066256, \"('IX',)\": 0.0015408320493066256, \"('700,000',)\": 0.0015408320493066256, \"('4,645',)\": 0.0015408320493066256, \"('94.8',)\": 0.0015408320493066256, \"('One',)\": 0.0015408320493066256, \"('534',)\": 0.0015408320493066256, \"('6.20',)\": 0.0015408320493066256, \"('320',)\": 0.0015408320493066256, \"('5.57',)\": 0.0015408320493066256, \"('36',)\": 0.0015408320493066256, \"('23,403',)\": 0.0015408320493066256, \"('15,000',)\": 0.0015408320493066256, \"('133.7',)\": 0.0015408320493066256, \"('120',)\": 0.0015408320493066256, \"('89,500',)\": 0.0015408320493066256, \"('63',)\": 0.0015408320493066256, \"('203',)\": 0.0015408320493066256, \"('722',)\": 0.0015408320493066256, \"('77,000',)\": 0.0015408320493066256, \"('184',)\": 0.0015408320493066256, \"('47.5',)\": 0.0015408320493066256, \"('8.60',)\": 0.0015408320493066256, \"('2.4',)\": 0.0015408320493066256, \"('9.37',)\": 0.0015408320493066256, \"('600',)\": 0.0015408320493066256, \"('4.5',)\": 0.0015408320493066256, \"('858,000',)\": 0.0015408320493066256, \"('1.6',)\": 0.0015408320493066256, \"('113.2',)\": 0.0015408320493066256, \"('50,000',)\": 0.0015408320493066256, \"('20.5',)\": 0.0015408320493066256, \"('1.75',)\": 0.0015408320493066256, \"('3\": 0.0015408320493066256, \"('85',)\": 0.0015408320493066256, \"('7.80',)\": 0.0015408320493066256, \"('339',)\": 0.0015408320493066256, \"('1.125',)\": 0.0015408320493066256, \"('150.00',)\": 0.0015408320493066256, \"('million',)\": 0.0015408320493066256, \"('4,393,237',)\": 0.0015408320493066256, \"('2.2',)\": 0.0015408320493066256, \"('7,500',)\": 0.0015408320493066256, \"('180',)\": 0.0015408320493066256, \"('3.6',)\": 0.0015408320493066256, \"('1.85',)\": 0.0015408320493066256, \"('3.19',)\": 0.0015408320493066256, \"('1987',)\": 0.0015408320493066256, \"('1.1',)\": 0.0015408320493066256, \"('0.7',)\": 0.0015408320493066256, \"('1.61',)\": 0.0015408320493066256, \"('23',)\": 0.0015408320493066256, \"('7.272',)\": 0.0015408320493066256, \"('236.74',)\": 0.0015408320493066256, \"('800',)\": 0.0015408320493066256, \"('1997',)\": 0.0015408320493066256, \"('705.6',)\": 0.0015408320493066256, \"('2.875',)\": 0.0015408320493066256, \"('1.5805',)\": 0.0015408320493066256, \"('1.2',)\": 0.0015408320493066256, \"('1925',)\": 0.0015408320493066256, \"('18',)\": 0.0015408320493066256, \"('6.1',)\": 0.0015408320493066256, \"('28.4',)\": 0.0015408320493066256, \"('one',)\": 0.0015408320493066256, \"('240',)\": 0.0015408320493066256, \"('605',)\": 0.0015408320493066256, \"('449.04',)\": 0.0015408320493066256, \"('1955',)\": 0.0015408320493066256, \"('250',)\": 0.0015408320493066256, \"('170,000',)\": 0.0015408320493066256, \"('1.82',)\": 0.0015408320493066256, \"('1994',)\": 0.0015408320493066256, \"('3.61',)\": 0.0015408320493066256, \"('7.20',)\": 0.0015408320493066256, \"('370',)\": 0.0015408320493066256, \"('1.65',)\": 0.0015408320493066256, \"('8.70',)\": 0.0015408320493066256, \"('70.7',)\": 0.0015408320493066256, \"('144',)\": 0.0015408320493066256, \"('3,288,453',)\": 0.0015408320493066256, \"('2\": 0.0015408320493066256, \"('145',)\": 0.0015408320493066256, \"('1920s',)\": 0.0015408320493066256, \"(''82',)\": 0.0015408320493066256, \"('1971',)\": 0.0015408320493066256, \"('9.625',)\": 0.0015408320493066256, \"('6.03',)\": 0.0015408320493066256, \"('130.7',)\": 0.0015408320493066256, \"('1.28',)\": 0.0015408320493066256, \"('300\": 0.0015408320493066256, \"('1.9',)\": 0.0015408320493066256, \"('118.6',)\": 0.0015408320493066256, \"('4,000',)\": 0.0015408320493066256, \"('236.79',)\": 0.0015408320493066256, \"('1\\\\/2',)\": 0.0015408320493066256, \"('270',)\": 0.0015408320493066256, \"('2.80',)\": 0.0015408320493066256, \"('2017',)\": 0.0015408320493066256, \"('FIRST',)\": 0.0015408320493066256, \"('41',)\": 0.0015408320493066256, \"('6,000',)\": 0.0015408320493066256, \"('50',)\": 0.0015408320493066256, \"('190',)\": 0.0015408320493066256, \"('1991\": 0.0030816640986132513, \"('1:30',)\": 0.0015408320493066256, \"('30.9',)\": 0.0015408320493066256, \"('400,000',)\": 0.0015408320493066256, \"('billion',)\": 0.0015408320493066256, \"('143.93',)\": 0.0015408320493066256, \"('7.40',)\": 0.0015408320493066256, \"('8.50',)\": 0.0015408320493066256, \"('1992',)\": 0.0015408320493066256, \"('3.8',)\": 0.0015408320493066256, \"(''50s',)\": 0.0015408320493066256, \"('78',)\": 0.0015408320493066256, \"('30s',)\": 0.0015408320493066256, \"('24',)\": 0.0015408320493066256, \"('600,000',)\": 0.0015408320493066256, \"('9.3',)\": 0.0015408320493066256, \"('17.3',)\": 0.0015408320493066256, \"('701',)\": 0.0015408320493066256, \"('9,118',)\": 0.0015408320493066256, \"('7.458',)\": 0.0015408320493066256, \"('179',)\": 0.0015408320493066256, \"('59.6',)\": 0.0015408320493066256, \"('1961',)\": 0.0015408320493066256, \"('1.5',)\": 0.0015408320493066256, \"('12',)\": 0.0015408320493066256, \"('3.01',)\": 0.0015408320493066256, \"('5.5',)\": 0.0015408320493066256, \"('220',)\": 0.0015408320493066256, \"('160',)\": 0.0015408320493066256, \"('5.3',)\": 0.0015408320493066256, \"('212',)\": 0.0015408320493066256, \"('14.6',)\": 0.0015408320493066256, \"('37.5',)\": 0.0015408320493066256, \"('49',)\": 0.0015408320493066256, \"('8.14',)\": 0.0015408320493066256, \"('1991',)\": 0.0015408320493066256, \"('153.3',)\": 0.0015408320493066256, \"('35.7',)\": 0.0015408320493066256, \"('143.08',)\": 0.0015408320493066256, \"('106',)\": 0.0015408320493066256, \"('8.22',)\": 0.0015408320493066256, \"('1,298',)\": 0.0015408320493066256, \"('6.5',)\": 0.0015408320493066256, \"('16,000',)\": 0.0015408320493066256, \"('415.8',)\": 0.0015408320493066256, \"('31',)\": 0.0015408320493066256, \"('9.9',)\": 0.0015408320493066256, \"('0.9',)\": 0.0015408320493066256, \"('9.45',)\": 0.0015408320493066256, \"('8',)\": 0.0015408320493066256, \"('374.20',)\": 0.0015408320493066256, \"('23,000',)\": 0.0015408320493066256, \"('200,000',)\": 0.0015408320493066256, \"('8.04',)\": 0.0015408320493066256, \"('6',)\": 0.0015408320493066256, \"('4.75',)\": 0.0015408320493066256, \"('77.70',)\": 0.0015408320493066256, \"('1989',)\": 0.0015408320493066256, \"('139',)\": 0.0015408320493066256, \"('1977',)\": 0.0015408320493066256, \"('2.6',)\": 0.0015408320493066256, \"('9.5',)\": 0.0015408320493066256, \"('1965',)\": 0.0015408320493066256, \"('20s',)\": 0.0015408320493066256, \"('8.35',)\": 0.0015408320493066256, \"('42.5',)\": 0.0015408320493066256, \"('70',)\": 0.0015408320493066256, \"('1',)\": 0.0015408320493066256, \"('149.9',)\": 0.0015408320493066256, \"('2.25',)\": 0.0015408320493066256, \"('11,000',)\": 0.0015408320493066256, \"('13.73',)\": 0.0015408320493066256, \"('55',)\": 0.0015408320493066256, \"('191.9',)\": 0.0015408320493066256, \"('2.7',)\": 0.0015408320493066256, \"('4.3',)\": 0.0015408320493066256, \"('5.9',)\": 0.0015408320493066256, \"('47.6',)\": 0.0015408320493066256, \"('2.44',)\": 0.0015408320493066256, \"('130',)\": 0.0015408320493066256, \"('2.29',)\": 0.0015408320493066256, \"('52',)\": 0.0015408320493066256, \"('2000',)\": 0.0015408320493066256, \"('1983',)\": 0.0015408320493066256, \"('64.5',)\": 0.0015408320493066256, \"('80.8',)\": 0.0015408320493066256, \"('3\\\\/4',)\": 0.0015408320493066256, \"('214',)\": 0.0015408320493066256, \"('8.47',)\": 0.0015408320493066256, \"('8.64',)\": 0.0015408320493066256, \"('195',)\": 0.0015408320493066256, \"('13.5',)\": 0.0015408320493066256, \"('1950s',)\": 0.0015408320493066256, \"('8.07',)\": 0.0015408320493066256, \"('7.90',)\": 0.0015408320493066256, \"('6\\\\/2',)\": 0.0015408320493066256, \"('1973\": 0.0015408320493066256, \"('107',)\": 0.0015408320493066256, \"('917',)\": 0.0015408320493066256, \"('11',)\": 0.0015408320493066256, \"('62.5',)\": 0.0015408320493066256, \"('1.39',)\": 0.0015408320493066256, \"('8.45',)\": 0.0015408320493066256, \"('847',)\": 0.0015408320493066256, \"('8.06',)\": 0.0015408320493066256, \"('53',)\": 0.0015408320493066256, \"('300,000',)\": 0.0015408320493066256, \"('750',)\": 0.0015408320493066256, \"('6.79',)\": 0.0015408320493066256, \"('1929',)\": 0.0015408320493066256, \"('14.5',)\": 0.0015408320493066256, \"('14',)\": 0.0015408320493066256, \"('5,000',)\": 0.0015408320493066256, \"('3',)\": 0.0015408320493066256, \"('46.1',)\": 0.0015408320493066256, \"('22',)\": 0.0015408320493066256, \"('6,500',)\": 0.0015408320493066256, \"('77.56',)\": 0.0015408320493066256, \"('8.12',)\": 0.0015408320493066256, \"('20,000',)\": 0.0015408320493066256, \"('17',)\": 0.0015408320493066256, \"('1960s',)\": 0.0015408320493066256, \"('301',)\": 0.0015408320493066256, \"('8.25',)\": 0.0015408320493066256, \"('1933',)\": 0.0015408320493066256, \"('1,400',)\": 0.0015408320493066256, \"('1940s',)\": 0.0015408320493066256, \"('1st',)\": 0.0015408320493066256, \"('72.7',)\": 0.0015408320493066256, \"('245',)\": 0.0015408320493066256, \"('6.40',)\": 0.0015408320493066256, \"('84.29',)\": 0.0015408320493066256, \"('4.4',)\": 0.0015408320493066256, \"('5.7',)\": 0.0015408320493066256, \"('3,500',)\": 0.0015408320493066256, \"('68',)\": 0.0015408320493066256, \"('497.34',)\": 0.0015408320493066256, \"('992,000',)\": 0.0015408320493066256, \"('THREE',)\": 0.0015408320493066256, \"('7.78',)\": 0.0015408320493066256, \"('2645.90',)\": 0.0015408320493066256, \"('18,444',)\": 0.0015408320493066256, \"('25.6',)\": 0.0015408320493066256, \"('1966',)\": 0.0015408320493066256, \"('7.55',)\": 0.0015408320493066256, \"('3.375',)\": 0.0015408320493066256, \"('Ten',)\": 0.0015408320493066256, \"('240,000',)\": 0.0015408320493066256, \"('1.457',)\": 0.0015408320493066256, \"('353',)\": 0.0015408320493066256, \"('730',)\": 0.0015408320493066256, \"('22.75',)\": 0.0015408320493066256, \"('25.50',)\": 0.0015408320493066256, \"('nine',)\": 0.0015408320493066256, \"('77',)\": 0.0015408320493066256, \"('30,000',)\": 0.0015408320493066256, \"('3.75',)\": 0.0015408320493066256, \"('1614',)\": 0.0015408320493066256, \"('126,000',)\": 0.0015408320493066256, \"('6.21',)\": 0.0015408320493066256, \"('3.1',)\": 0.0015408320493066256, \"('25,000',)\": 0.0015408320493066256, \"('38.375',)\": 0.0015408320493066256, \"('570',)\": 0.0015408320493066256, \"('35',)\": 0.0015408320493066256, \"('963',)\": 0.0015408320493066256, \"('148.9',)\": 0.0015408320493066256, \"('75',)\": 0.0015408320493066256, \"('20',)\": 0.0015408320493066256, \"('1988',)\": 0.0015408320493066256, \"('609',)\": 0.0015408320493066256, \"('1979',)\": 0.0015408320493066256, \"('3.43',)\": 0.0015408320493066256, \"('five',)\": 0.0015408320493066256, \"('445',)\": 0.0015408320493066256, \"('121.6',)\": 0.0015408320493066256, \"('767',)\": 0.0015408320493066256, \"('1981',)\": 0.0015408320493066256, \"('37.3',)\": 0.0015408320493066256, \"('60',)\": 0.0015408320493066256, \"('490',)\": 0.0015408320493066256, \"('57.50',)\": 0.0015408320493066256, \"('149',)\": 0.0015408320493066256, \"('550,000',)\": 0.0015408320493066256, '<unk>': 0.0015408320493066256}\n",
      "[SBAR] {'([WHNP': 0.9025270758122743, '([-LRB-], [WHNP': 0.0036101083032490976, '([SBAR], [,], [CC], [SBAR])': 0.0036101083032490976, '([WHADVP': 0.018050541516245487, '([IN], [``], [S])': 0.0036101083032490976, '([SBAR], [CC], [SBAR])': 0.0036101083032490976, '([IN], [,], [S])': 0.0036101083032490976, '([WHPP': 0.010830324909747292, '([SBAR], [,], [SBAR])': 0.0036101083032490976, '([-NONE-], [SINV])': 0.0036101083032490976, '([-NONE-],)': 0.0036101083032490976, '([IN], [WHADVP': 0.0036101083032490976, '([DT], [S])': 0.0036101083032490976, '([IN], [S-ADV])': 0.0036101083032490976, '([-NONE-], [S-CLF])': 0.0036101083032490976, '([IN], [S])': 0.0036101083032490976, '([WHNP], [S])': 0.0036101083032490976, '([RB], [S])': 0.0036101083032490976, '([WHADVP], [S])': 0.0036101083032490976, '([SBAR], [SBAR])': 0.0036101083032490976, '([-NONE-], [S])': 0.0036101083032490976, '<unk>': 0.0036101083032490976}\n",
      "[S] {'([S-NOM-SBJ], [ADVP], [VP])': 0.002652519893899204, '([NP-SBJ': 0.5278514588859416, '([NP-SBJ], [ADVP-TMP], [VP])': 0.002652519893899204, '([PP], [NP-SBJ], [VP], [.])': 0.002652519893899204, '([PP-PRP], [NP-SBJ': 0.002652519893899204, '([S-ADV], [,], [NP-SBJ': 0.007957559681697613, \"([''], [NP-SBJ\": 0.002652519893899204, '([NP-SBJ], [PP-PRD], [S])': 0.002652519893899204, '([PP-TMP], [NP-SBJ], [VP])': 0.002652519893899204, '([ADVP], [NP-SBJ': 0.005305039787798408, '([NP-SBJ], [ADVP-LOC], [VP], [.])': 0.002652519893899204, '([PP], [,], [NP-SBJ': 0.005305039787798408, '([S-TPC': 0.007957559681697613, '([NP-SBJ], [PP-PRD])': 0.002652519893899204, '([NP-SBJ], [``], [VP])': 0.002652519893899204, '([S], [CC], [S])': 0.002652519893899204, '([NP-SBJ], [PP], [VP])': 0.002652519893899204, '([NP-SBJ], [ADJP-PRD], [ADVP])': 0.002652519893899204, '([PP], [,], [NP-SBJ], [VP])': 0.002652519893899204, '([NP-SBJ], [ADJP-PRD], [NP-TMP])': 0.002652519893899204, '([:], [NP-SBJ], [VP], [.])': 0.002652519893899204, '([NP-SBJ], [``], [PP-TTL])': 0.002652519893899204, '([NP-SBJ], [NP-PRD-TTL])': 0.002652519893899204, '([PP-LOC], [NP-SBJ], [VP], [.])': 0.002652519893899204, '([NP-SBJ], [PP-TMP], [VP])': 0.002652519893899204, '([PP-LOC], [,], [NP-SBJ], [VP])': 0.002652519893899204, '([NP-SBJ], [:], [VP])': 0.002652519893899204, '([``], [NP-SBJ], [VP], [.])': 0.002652519893899204, '([SBAR-ADV], [NP-SBJ], [VP])': 0.002652519893899204, '([NP-SBJ], [,], [VP])': 0.002652519893899204, '([NP-SBJ], [NP-PRD])': 0.002652519893899204, '([LST], [NP-SBJ], [VP], [PRN])': 0.002652519893899204, '([PP], [NP-SBJ': 0.010610079575596816, '([SBAR-TMP], [NP-SBJ], [VP])': 0.002652519893899204, '([CC], [NP-SBJ': 0.015915119363395226, '([S], [:], [S], [.])': 0.002652519893899204, '([NP-SBJ], [ADVP-PRD])': 0.002652519893899204, '([NP-TMP], [NP-SBJ': 0.005305039787798408, '([SBAR-PRP], [,], [NP-SBJ': 0.002652519893899204, '([PP-TMP], [NP-SBJ': 0.002652519893899204, '([NP-VOC], [INTJ], [NP-SBJ], [VP])': 0.002652519893899204, '([ADVP-TMP], [NP-SBJ': 0.005305039787798408, '([SBAR-TMP], [,], [NP-SBJ': 0.007957559681697613, '([NP-SBJ], [VP], [ADVP-TMP])': 0.002652519893899204, '([PP-TMP], [,], [NP-SBJ': 0.007957559681697613, '([PP-MNR], [,], [NP-SBJ': 0.002652519893899204, '([S-NOM-SBJ], [VP])': 0.002652519893899204, '([NP-SBJ], [NP-TMP], [VP])': 0.002652519893899204, '([LST], [NP-SBJ], [VP], [.])': 0.002652519893899204, '([NP-TTL-SBJ], [VP], [.])': 0.002652519893899204, '([NP-TPC': 0.002652519893899204, '([S-ADV], [,], [NP-SBJ], [VP])': 0.002652519893899204, '([NP-SBJ], [ADVP], [VP], [.])': 0.002652519893899204, '([S': 0.002652519893899204, '([ADVP-MNR], [NP-SBJ], [VP], [.])': 0.002652519893899204, '([S-NOM-SBJ], [VP], [.])': 0.002652519893899204, '([S], [CC], [S], [.])': 0.002652519893899204, '([NP-SBJ], [ADJP-PRD], [S': 0.005305039787798408, '([NP-SBJ], [ADVP-MNR], [VP])': 0.002652519893899204, '([NP-TTL-SBJ], [ADVP-TMP], [VP])': 0.002652519893899204, '([PP-LOC], [NP-SBJ': 0.007957559681697613, '([``], [NP-SBJ': 0.010610079575596816, '([SBAR-NOM-SBJ], [VP])': 0.002652519893899204, '([ADVP], [NP-SBJ], [VP])': 0.002652519893899204, '([NP-SBJ], [ADJP-PRD], [PP])': 0.002652519893899204, '([NP-MNR], [NP-SBJ': 0.002652519893899204, '([``], [PP-MNR], [NP-SBJ': 0.002652519893899204, '([NP-SBJ], [NP-TMP], [VP], [.])': 0.002652519893899204, '([NP-SBJ], [ADVP-TMP], [``], [VP])': 0.002652519893899204, '([NP-SBJ], [CONJP], [VP])': 0.002652519893899204, '([NP-TMP], [NP-SBJ], [VP])': 0.002652519893899204, '([SBAR-ADV], [NP-SBJ], [VP], [.])': 0.002652519893899204, '([NP-SBJ], [RB], [VP])': 0.002652519893899204, '([S], [:], [NN], [S])': 0.002652519893899204, '([NP-TTL-SBJ], [VP])': 0.002652519893899204, '([NP-SBJ], [PRN], [VP])': 0.002652519893899204, '([ADVP-MNR], [,], [NP-SBJ], [VP])': 0.002652519893899204, '([NP-SBJ], [DT], [VP], [.])': 0.002652519893899204, '([ADVP-TMP], [NP-SBJ], [VP])': 0.002652519893899204, '([NP-SBJ], [NP-PRD], [S': 0.002652519893899204, '([S], [,], [S])': 0.002652519893899204, '([NP-SBJ], [ADVP-LOC], [:], [VP])': 0.002652519893899204, '([NP-SBJ], [``], [NP-PRD])': 0.002652519893899204, '([S], [:], [S])': 0.002652519893899204, '([NP-SBJ], [ADVP], [VP])': 0.002652519893899204, '([NP-SBJ], [ADVP-TMP], [VP], [.])': 0.002652519893899204, '([NP-SBJ], [``], [VP], [.])': 0.002652519893899204, '([NP-TMP], [NP-SBJ], [VP], [.])': 0.002652519893899204, '([NP-TTL-SBJ': 0.002652519893899204, \"([NP-SBJ], [``], [NP-PRD], [''])\": 0.002652519893899204, '([CC], [S-NOM-SBJ], [VP], [.])': 0.002652519893899204, '([NP-SBJ], [VP], [:])': 0.002652519893899204, '([PP], [NP-SBJ], [VP])': 0.002652519893899204, '([NP-SBJ], [VP], [.])': 0.002652519893899204, '([NP-SBJ], [PP-LOC-PRD])': 0.002652519893899204, '([S], [,], [S], [.])': 0.002652519893899204, '([ADVP-TMP], [,], [NP-SBJ': 0.002652519893899204, '([CC], [NP-SBJ], [VP], [.])': 0.002652519893899204, '([CC], [NP-SBJ], [ADVP-TMP], [VP])': 0.002652519893899204, '([NP-SBJ], [VP], [,])': 0.002652519893899204, '([ADVP-TMP], [S], [CC], [S])': 0.002652519893899204, '([ADVP-TMP], [,], [NP-SBJ], [VP])': 0.002652519893899204, '([NP-SBJ], [``], [RB], [ADJP-PRD])': 0.002652519893899204, '([``], [SBAR-NOM-SBJ], [VP], [.])': 0.002652519893899204, '([IN], [NP-SBJ], [VP])': 0.002652519893899204, '([PP-LOC], [NP-SBJ], [VP])': 0.002652519893899204, '([PP-LOC], [,], [NP-SBJ': 0.002652519893899204, '([-NONE-],)': 0.002652519893899204, '([NP-SBJ], [VP], [PP-LOC])': 0.002652519893899204, '([NP-SBJ], [,], [VP], [.])': 0.002652519893899204, \"([``], [NP-SBJ], [''], [VP])\": 0.002652519893899204, '([NP-SBJ], [NP-TTL-PRD])': 0.002652519893899204, '([NP-SBJ], [:], [VP], [.])': 0.002652519893899204, '([NP-SBJ], [UCP-PRD])': 0.002652519893899204, '([UCP], [,], [NP-SBJ': 0.002652519893899204, '([CC], [NP-SBJ], [VP])': 0.002652519893899204, \"([SBAR-NOM-SBJ], [VP], [.], [''])\": 0.002652519893899204, '([PP-TPC': 0.002652519893899204, '([SBAR-ADV], [,], [NP-SBJ': 0.005305039787798408, '([ADVP], [NP-SBJ], [VP], [.])': 0.002652519893899204, '([SBAR-ADV], [,], [NP-SBJ], [VP])': 0.002652519893899204, '([NP-SBJ], [ADVP-MNR], [VP], [.])': 0.002652519893899204, \"([NP-SBJ], [VP], [.], [''])\": 0.002652519893899204, '([PP-TMP], [,], [NP-SBJ], [VP])': 0.002652519893899204, '([``], [NP-SBJ], [VP])': 0.002652519893899204, \"([``], [NP-TTL-SBJ], [''], [VP])\": 0.002652519893899204, '([ADJP-PRD], [NP-SBJ])': 0.002652519893899204, '([PP-TMP], [NP-SBJ], [VP], [.])': 0.002652519893899204, '([S], [CC], [S], [S': 0.002652519893899204, '([NP-SBJ], [ADJP-PRD])': 0.002652519893899204, '([ADJP-PRD], [SBAR-SBJ])': 0.002652519893899204, '([NP-SBJ], [PP-TMP], [VP], [.])': 0.002652519893899204, '([NP-SBJ], [RB], [VP], [.])': 0.002652519893899204, '([CC], [NP-TTL-SBJ], [VP], [.])': 0.002652519893899204, '([ADVP], [,], [NP-SBJ': 0.002652519893899204, '([NP-SBJ], [VP], [PP-TMP])': 0.002652519893899204, '([SBAR-TMP], [,], [NP-SBJ], [VP])': 0.002652519893899204, '([ADVP], [,], [NP-SBJ], [VP])': 0.002652519893899204, '([``], [NP-SBJ], [VP], [:])': 0.002652519893899204, '([NP-SBJ], [VP])': 0.002652519893899204, '([NP-SBJ], [PRN], [VP], [.])': 0.002652519893899204, '([S-ADV], [NP-SBJ': 0.002652519893899204, '([INTJ], [,], [NP-SBJ], [VP])': 0.002652519893899204, '([IN], [NP-SBJ], [VP], [.])': 0.002652519893899204, \"([S-SBJ], [''], [VP], [.])\": 0.002652519893899204, '([RB], [NP-SBJ], [VP], [.])': 0.002652519893899204, '([SBAR-NOM-SBJ], [VP], [.])': 0.002652519893899204, '([S], [,], [CC], [S])': 0.002652519893899204, '([SBAR-TMP], [NP-SBJ': 0.002652519893899204, '([S-NOM-SBJ], [ADJP-PRD])': 0.002652519893899204, '([ADVP-TMP], [NP-SBJ], [VP], [.])': 0.002652519893899204, '<unk>': 0.002652519893899204}\n",
      "[NP-PRD] {'([NP], [PRN])': 0.009259259259259259, '([NP], [PRN], [SBAR])': 0.009259259259259259, '([PDT], [DT], [JJ], [NN])': 0.009259259259259259, '([NP], [SBAR])': 0.009259259259259259, '([PRP$], [NN])': 0.009259259259259259, '([NP], [,], [SBAR])': 0.009259259259259259, '([NP], [PP])': 0.009259259259259259, '([NP], [PP], [,], [SBAR])': 0.009259259259259259, '([DT], [JJS], [NN], [NNS])': 0.009259259259259259, '([DT], [JJ], [NN], [NN])': 0.009259259259259259, '([CD], [NN], [NNS])': 0.009259259259259259, '([DT], [NNP], [CD])': 0.009259259259259259, '([NP], [ADVP])': 0.009259259259259259, '([NP], [PP], [PP-LOC])': 0.009259259259259259, '([DT], [NN], [SBAR])': 0.009259259259259259, '([NN], [NNS])': 0.009259259259259259, '([QP], [-NONE-])': 0.009259259259259259, '([NP], [PP], [PP-TMP])': 0.009259259259259259, '([NP], [PP], [SBAR])': 0.009259259259259259, \"([DT], [``], [NN], [''])\": 0.009259259259259259, '([NP], [ADJP])': 0.009259259259259259, '([NP], [NP])': 0.009259259259259259, \"([``], [NP], [''], [PRN])\": 0.009259259259259259, '([NNP], [NNP], [NNP])': 0.009259259259259259, '([NNS], [SBAR])': 0.009259259259259259, '([NP], [PP-LOC], [SBAR])': 0.009259259259259259, '([RB], [JJ], [NNS])': 0.009259259259259259, '([JJR],)': 0.009259259259259259, '([NP], [``], [NP])': 0.009259259259259259, '([NP], [CC], [NP], [PP': 0.018518518518518517, '([DT], [NAC], [NN])': 0.009259259259259259, '([DT], [ADJP])': 0.009259259259259259, '([$], [CD], [-NONE-])': 0.009259259259259259, '([DT], [VBG], [NN])': 0.009259259259259259, '([NP], [PP], [SBAR': 0.009259259259259259, '([NP], [,], [RB], [S-NOM])': 0.009259259259259259, '([NP], [CC], [ADVP], [NP])': 0.009259259259259259, '([DT], [NN])': 0.009259259259259259, '([NP], [PP-TMP])': 0.009259259259259259, '([DT], [RB], [JJ], [NN])': 0.009259259259259259, '([NN], [SBAR])': 0.009259259259259259, '([NP],)': 0.009259259259259259, '([NP], [ADJP], [PP])': 0.009259259259259259, '([DT], [``], [NN])': 0.009259259259259259, '([DT], [JJ], [NN])': 0.009259259259259259, '([NP], [PP], [PP])': 0.009259259259259259, '([``], [NP], [SBAR])': 0.009259259259259259, '([NP], [VP])': 0.009259259259259259, '([NP], [,], [ADVP])': 0.009259259259259259, '([NNP], [NN])': 0.009259259259259259, '([DT],)': 0.009259259259259259, '([NP], [JJ], [NN], [NN])': 0.009259259259259259, '([NP], [SBAR-LOC])': 0.009259259259259259, '([JJ], [JJ], [NNS], [SBAR])': 0.009259259259259259, '([NP], [PRN], [PP])': 0.009259259259259259, '([NNP],)': 0.009259259259259259, '([CD], [NN])': 0.009259259259259259, '([NP], [:], [VP])': 0.009259259259259259, '([NP], [PP], [S': 0.009259259259259259, '([NP], [PP-DIR])': 0.009259259259259259, '([NP], [PP], [ADJP], [VP])': 0.009259259259259259, '([NP], [PP], [NP])': 0.009259259259259259, '([QP], [NN])': 0.009259259259259259, '([NP], [ADVP-LOC], [PP-CLR])': 0.009259259259259259, '([DT], [JJS])': 0.009259259259259259, '([DT], [JJ], [JJ], [NN])': 0.009259259259259259, '([CD], [NN], [SBAR])': 0.009259259259259259, '([NN],)': 0.009259259259259259, '([DT], [NN], [S])': 0.009259259259259259, '([DT], [JJ])': 0.009259259259259259, '([DT], [NN], [FW], [NN])': 0.009259259259259259, '([NP], [:], [NP])': 0.009259259259259259, '([JJ], [NN])': 0.009259259259259259, '([JJ], [NN], [NNS])': 0.009259259259259259, '([NN], [NN])': 0.009259259259259259, '([PRP$], [JJ], [NN])': 0.009259259259259259, '([DT], [NN], [NN])': 0.009259259259259259, '([DT], [NN], [JJ])': 0.009259259259259259, '([NP], [PP-LOC], [SBAR-LOC])': 0.009259259259259259, '([-NONE-],)': 0.009259259259259259, '([NNP], [NNP])': 0.009259259259259259, '([ADJP], [JJ], [NNS])': 0.009259259259259259, '([NP], [X])': 0.009259259259259259, '([DT], [JJR], [NN])': 0.009259259259259259, '([NP], [,], [NP])': 0.009259259259259259, '([NP], [,], [CC], [NP])': 0.009259259259259259, '([NP], [PP-LOC])': 0.009259259259259259, '([NNS], [,], [RB], [NNS])': 0.009259259259259259, '([NP], [SBAR-TMP])': 0.009259259259259259, '([NP], [PP-LOC], [S': 0.009259259259259259, '([DT], [ADJP], [NN])': 0.009259259259259259, '([DT], [NNS])': 0.009259259259259259, '([JJ], [NN], [NN], [NNS])': 0.009259259259259259, '([NP], [VP], [PP])': 0.009259259259259259, '([JJ], [NNS])': 0.009259259259259259, '([NP], [CC], [ADVP-TMP], [NP])': 0.009259259259259259, '([DT], [VBG], [VBG], [NN])': 0.009259259259259259, '([CD],)': 0.009259259259259259, '([CD], [JJ], [CD])': 0.009259259259259259, '([NP], [PP-LOC], [PP])': 0.009259259259259259, '([NNS],)': 0.009259259259259259, '([DT], [JJ], [QP], [NNS])': 0.009259259259259259, '([NP], [JJ], [JJ], [NN])': 0.009259259259259259, '([VBG], [NN], [SBAR])': 0.009259259259259259, '([VBN], [NNS])': 0.009259259259259259, '([NP], [CC], [NP])': 0.009259259259259259, '<unk>': 0.009259259259259259}\n",
      "[INTJ] {'([VB], [,], [RB])': 0.16666666666666666, '([RB], [JJ])': 0.16666666666666666, '([VB],)': 0.16666666666666666, '([RB],)': 0.16666666666666666, '([UH],)': 0.16666666666666666, '<unk>': 0.16666666666666666}\n",
      "[VBZ] {\"('begins',)\": 0.003436426116838488, \"('Adds',)\": 0.003436426116838488, \"('parallels',)\": 0.003436426116838488, \"('reports',)\": 0.003436426116838488, \"('picks',)\": 0.003436426116838488, \"('exhibits',)\": 0.003436426116838488, \"('relies',)\": 0.003436426116838488, \"('emerges',)\": 0.003436426116838488, \"('orders',)\": 0.003436426116838488, \"('interjects',)\": 0.003436426116838488, \"('faces',)\": 0.003436426116838488, \"('rates',)\": 0.003436426116838488, \"('asserts',)\": 0.003436426116838488, \"('benefits',)\": 0.003436426116838488, \"('involves',)\": 0.003436426116838488, \"('brings',)\": 0.003436426116838488, \"('signals',)\": 0.003436426116838488, \"('meets',)\": 0.003436426116838488, \"('blames',)\": 0.003436426116838488, \"('has',)\": 0.003436426116838488, \"('equals',)\": 0.003436426116838488, \"('charges',)\": 0.003436426116838488, \"('dissolves',)\": 0.003436426116838488, \"('does',)\": 0.003436426116838488, \"(''S',)\": 0.003436426116838488, \"('factors',)\": 0.003436426116838488, \"('creates',)\": 0.003436426116838488, \"('thinks',)\": 0.003436426116838488, \"('exists',)\": 0.003436426116838488, \"('ends',)\": 0.003436426116838488, \"('leaves',)\": 0.003436426116838488, \"('Touches',)\": 0.003436426116838488, \"('starts',)\": 0.003436426116838488, \"('earns',)\": 0.003436426116838488, \"('grows',)\": 0.003436426116838488, \"('posts',)\": 0.003436426116838488, \"('decries',)\": 0.003436426116838488, \"('alerts',)\": 0.003436426116838488, \"('marks',)\": 0.003436426116838488, \"('prevents',)\": 0.003436426116838488, \"('amounts',)\": 0.003436426116838488, \"('invades',)\": 0.003436426116838488, \"('happens',)\": 0.003436426116838488, \"('threatens',)\": 0.003436426116838488, \"('centers',)\": 0.003436426116838488, \"('suspects',)\": 0.003436426116838488, \"('states',)\": 0.003436426116838488, \"('represents',)\": 0.003436426116838488, \"('conforms',)\": 0.003436426116838488, \"('shrinks',)\": 0.003436426116838488, \"('proscribes',)\": 0.003436426116838488, \"('warns',)\": 0.003436426116838488, \"('wins',)\": 0.003436426116838488, \"('responds',)\": 0.003436426116838488, \"('perceives',)\": 0.003436426116838488, \"('speaks',)\": 0.003436426116838488, \"('looks',)\": 0.003436426116838488, \"('Earns',)\": 0.003436426116838488, \"('disturbs',)\": 0.003436426116838488, \"('contends',)\": 0.003436426116838488, \"('harms',)\": 0.003436426116838488, \"('serves',)\": 0.003436426116838488, \"('develops',)\": 0.003436426116838488, \"('goes',)\": 0.003436426116838488, \"('manages',)\": 0.003436426116838488, \"('pushes',)\": 0.003436426116838488, \"('fails',)\": 0.003436426116838488, \"('runs',)\": 0.003436426116838488, \"('claims',)\": 0.003436426116838488, \"('values',)\": 0.003436426116838488, \"('expires',)\": 0.003436426116838488, \"('gains',)\": 0.003436426116838488, \"('protects',)\": 0.003436426116838488, \"('quips',)\": 0.003436426116838488, \"('acknowledges',)\": 0.003436426116838488, \"('confirms',)\": 0.003436426116838488, \"('sees',)\": 0.003436426116838488, \"('gets',)\": 0.003436426116838488, \"('accounts',)\": 0.003436426116838488, \"('outranks',)\": 0.003436426116838488, \"('offers',)\": 0.003436426116838488, \"('plays',)\": 0.003436426116838488, \"('prompts',)\": 0.003436426116838488, \"('blocks',)\": 0.003436426116838488, \"('pitches',)\": 0.003436426116838488, \"('treats',)\": 0.003436426116838488, \"('encourages',)\": 0.003436426116838488, \"('causes',)\": 0.003436426116838488, \"('recalls',)\": 0.003436426116838488, \"('keeps',)\": 0.003436426116838488, \"('wears',)\": 0.003436426116838488, \"('occurs',)\": 0.003436426116838488, \"('Fails',)\": 0.003436426116838488, \"('lacks',)\": 0.003436426116838488, \"('joins',)\": 0.003436426116838488, \"('costs',)\": 0.003436426116838488, \"('means',)\": 0.003436426116838488, \"('empowers',)\": 0.003436426116838488, \"('changes',)\": 0.003436426116838488, \"('contrasts',)\": 0.003436426116838488, \"('anticipates',)\": 0.003436426116838488, \"('Competes',)\": 0.003436426116838488, \"('follows',)\": 0.003436426116838488, \"('moves',)\": 0.003436426116838488, \"('reflects',)\": 0.003436426116838488, \"('turns',)\": 0.003436426116838488, \"('estimates',)\": 0.003436426116838488, \"('measures',)\": 0.003436426116838488, \"('reasons',)\": 0.003436426116838488, \"('presumes',)\": 0.003436426116838488, \"('understands',)\": 0.003436426116838488, \"('attributes',)\": 0.003436426116838488, \"('shows',)\": 0.003436426116838488, \"('calls',)\": 0.003436426116838488, \"('aces',)\": 0.003436426116838488, \"('aims',)\": 0.003436426116838488, \"('worries',)\": 0.003436426116838488, \"('Is',)\": 0.003436426116838488, \"('places',)\": 0.003436426116838488, \"('opens',)\": 0.003436426116838488, \"('argues',)\": 0.003436426116838488, \"('stresses',)\": 0.003436426116838488, \"('disappears',)\": 0.003436426116838488, \"('Takes',)\": 0.003436426116838488, \"('resembles',)\": 0.003436426116838488, \"('receives',)\": 0.003436426116838488, \"('promises',)\": 0.003436426116838488, \"('loses',)\": 0.003436426116838488, \"('casts',)\": 0.003436426116838488, \"('takes',)\": 0.003436426116838488, \"('approves',)\": 0.003436426116838488, \"('complains',)\": 0.003436426116838488, \"('admits',)\": 0.003436426116838488, \"('blinks',)\": 0.003436426116838488, \"('makes',)\": 0.003436426116838488, \"('fumes',)\": 0.003436426116838488, \"('outstrips',)\": 0.003436426116838488, \"('covers',)\": 0.003436426116838488, \"(''s',)\": 0.003436426116838488, \"('publishes',)\": 0.003436426116838488, \"('scoffs',)\": 0.003436426116838488, \"('favors',)\": 0.003436426116838488, \"('notes',)\": 0.003436426116838488, \"('feels',)\": 0.003436426116838488, \"('CLEARS',)\": 0.003436426116838488, \"('considers',)\": 0.003436426116838488, \"('becomes',)\": 0.003436426116838488, \"('perpetuates',)\": 0.003436426116838488, \"('heads',)\": 0.003436426116838488, \"('appears',)\": 0.003436426116838488, \"('bans',)\": 0.003436426116838488, \"('denies',)\": 0.003436426116838488, \"('demonstrates',)\": 0.003436426116838488, \"('predicts',)\": 0.003436426116838488, \"('aspires',)\": 0.003436426116838488, \"('awards',)\": 0.003436426116838488, \"('carries',)\": 0.003436426116838488, \"('comments',)\": 0.003436426116838488, \"('AGREES',)\": 0.003436426116838488, \"('forces',)\": 0.003436426116838488, \"('doubts',)\": 0.003436426116838488, \"('views',)\": 0.003436426116838488, \"('operates',)\": 0.003436426116838488, \"('executes',)\": 0.003436426116838488, \"('sends',)\": 0.003436426116838488, \"('answers',)\": 0.003436426116838488, \"('rings',)\": 0.003436426116838488, \"('dominates',)\": 0.003436426116838488, \"('sets',)\": 0.003436426116838488, \"('comes',)\": 0.003436426116838488, \"('targets',)\": 0.003436426116838488, \"('implies',)\": 0.003436426116838488, \"('helps',)\": 0.003436426116838488, \"('continues',)\": 0.003436426116838488, \"('invests',)\": 0.003436426116838488, \"('purrs',)\": 0.003436426116838488, \"('adds',)\": 0.003436426116838488, \"('holds',)\": 0.003436426116838488, \"('seems',)\": 0.003436426116838488, \"('defeats',)\": 0.003436426116838488, \"('compares',)\": 0.003436426116838488, \"('acts',)\": 0.003436426116838488, \"('consists',)\": 0.003436426116838488, \"('works',)\": 0.003436426116838488, \"('eases',)\": 0.003436426116838488, \"('tells',)\": 0.003436426116838488, \"('indicates',)\": 0.003436426116838488, \"('belongs',)\": 0.003436426116838488, \"('improves',)\": 0.003436426116838488, \"('combines',)\": 0.003436426116838488, \"('initiatives',)\": 0.003436426116838488, \"('suggests',)\": 0.003436426116838488, \"('repeals',)\": 0.003436426116838488, \"('specializes',)\": 0.003436426116838488, \"('gauges',)\": 0.003436426116838488, \"('sounds',)\": 0.003436426116838488, \"('wants',)\": 0.003436426116838488, \"('retires',)\": 0.003436426116838488, \"('reasserts',)\": 0.003436426116838488, \"('is',)\": 0.003436426116838488, \"('owns',)\": 0.003436426116838488, \"('eliminates',)\": 0.003436426116838488, \"('chooses',)\": 0.003436426116838488, \"('boosts',)\": 0.003436426116838488, \"('tracks',)\": 0.003436426116838488, \"('lapses',)\": 0.003436426116838488, \"('replies',)\": 0.003436426116838488, \"('finds',)\": 0.003436426116838488, \"('illustrates',)\": 0.003436426116838488, \"('controls',)\": 0.003436426116838488, \"('gives',)\": 0.003436426116838488, \"('teaches',)\": 0.003436426116838488, \"('asks',)\": 0.003436426116838488, \"('warrants',)\": 0.003436426116838488, \"('expands',)\": 0.003436426116838488, \"('attempts',)\": 0.003436426116838488, \"('uses',)\": 0.003436426116838488, \"('opposes',)\": 0.003436426116838488, \"('employs',)\": 0.003436426116838488, \"('sanctions',)\": 0.003436426116838488, \"('plans',)\": 0.003436426116838488, \"('introduces',)\": 0.003436426116838488, \"('transfers',)\": 0.003436426116838488, \"('entitles',)\": 0.003436426116838488, \"('cites',)\": 0.003436426116838488, \"('talks',)\": 0.003436426116838488, \"('prohibits',)\": 0.003436426116838488, \"('competes',)\": 0.003436426116838488, \"('Says',)\": 0.003436426116838488, \"('lives',)\": 0.003436426116838488, \"('draws',)\": 0.003436426116838488, \"('enables',)\": 0.003436426116838488, \"('provides',)\": 0.003436426116838488, \"('puts',)\": 0.003436426116838488, \"('attracts',)\": 0.003436426116838488, \"('supplies',)\": 0.003436426116838488, \"('believes',)\": 0.003436426116838488, \"('hangs',)\": 0.003436426116838488, \"('refuses',)\": 0.003436426116838488, \"('Closes',)\": 0.003436426116838488, \"('disagrees',)\": 0.003436426116838488, \"('imposes',)\": 0.003436426116838488, \"('mirrors',)\": 0.003436426116838488, \"('remains',)\": 0.003436426116838488, \"('counts',)\": 0.003436426116838488, \"('builds',)\": 0.003436426116838488, \"('insists',)\": 0.003436426116838488, \"('sells',)\": 0.003436426116838488, \"('tempts',)\": 0.003436426116838488, \"('erodes',)\": 0.003436426116838488, \"('describes',)\": 0.003436426116838488, \"('broadcasts',)\": 0.003436426116838488, \"('stands',)\": 0.003436426116838488, \"('enters',)\": 0.003436426116838488, \"('digs',)\": 0.003436426116838488, \"('explains',)\": 0.003436426116838488, \"('increases',)\": 0.003436426116838488, \"('concedes',)\": 0.003436426116838488, \"('decides',)\": 0.003436426116838488, \"('markets',)\": 0.003436426116838488, \"('declines',)\": 0.003436426116838488, \"('fills',)\": 0.003436426116838488, \"('spurns',)\": 0.003436426116838488, \"('returns',)\": 0.003436426116838488, \"('needs',)\": 0.003436426116838488, \"('says',)\": 0.003436426116838488, \"('reaches',)\": 0.003436426116838488, \"('includes',)\": 0.003436426116838488, \"('trades',)\": 0.003436426116838488, \"('seeks',)\": 0.003436426116838488, \"('defends',)\": 0.003436426116838488, \"('hopes',)\": 0.003436426116838488, \"('breaks',)\": 0.003436426116838488, \"('acquires',)\": 0.003436426116838488, \"('contains',)\": 0.003436426116838488, \"('knows',)\": 0.003436426116838488, \"('spends',)\": 0.003436426116838488, \"('expects',)\": 0.003436426116838488, \"('stays',)\": 0.003436426116838488, \"('flows',)\": 0.003436426116838488, \"('requires',)\": 0.003436426116838488, \"('throws',)\": 0.003436426116838488, \"('agrees',)\": 0.003436426116838488, \"('resists',)\": 0.003436426116838488, \"('succeeds',)\": 0.003436426116838488, \"('matters',)\": 0.003436426116838488, \"('restricts',)\": 0.003436426116838488, \"('propagandizes',)\": 0.003436426116838488, \"('raises',)\": 0.003436426116838488, \"('pins',)\": 0.003436426116838488, '<unk>': 0.003436426116838488}\n",
      "[S-TPC {'([NP-SBJ], [ADVP], [VP])': 0.045454545454545456, '([S-NOM-SBJ], [ADVP], [VP])': 0.015151515151515152, '([SBAR-TMP], [,], [NP-SBJ], [VP])': 0.030303030303030304, '([PP-LOC], [,], [NP-SBJ': 0.015151515151515152, '([NP-SBJ': 0.16666666666666666, '([S], [IN], [S])': 0.015151515151515152, '([SBAR-TMP], [,], [NP-SBJ': 0.015151515151515152, '([S], [:], [S])': 0.030303030303030304, '([S], [,], [CC], [S])': 0.06060606060606061, '([S-PRP], [,], [NP-SBJ': 0.015151515151515152, '([CC], [NP-SBJ], [NP-TMP], [VP])': 0.015151515151515152, '([NP-TMP], [,], [NP-SBJ': 0.015151515151515152, '([S], [CC], [S])': 0.030303030303030304, '([PP-LOC], [,], [NP-SBJ], [VP])': 0.015151515151515152, '([S-ADV], [,], [NP-SBJ], [VP])': 0.015151515151515152, '([NP-SBJ], [VP])': 0.06060606060606061, '([PP], [,], [NP-SBJ': 0.015151515151515152, '([S-NOM-SBJ], [VP])': 0.015151515151515152, '([NP-SBJ], [ADVP-TMP], [VP])': 0.030303030303030304, '([NP-TMP], [,], [NP-SBJ], [VP])': 0.015151515151515152, '([ADVP], [,], [NP-SBJ], [VP])': 0.015151515151515152, '([S-SBJ], [VP])': 0.015151515151515152, '([S-ADV], [,], [NP-SBJ': 0.015151515151515152, '([NP-SBJ], [VP], [,])': 0.015151515151515152, '([SBAR-ADV], [,], [NP-SBJ': 0.015151515151515152, '([NP-SBJ], [``], [VP])': 0.015151515151515152, '([SBAR-ADV], [,], [NP-SBJ], [VP])': 0.045454545454545456, '([CC], [NP-SBJ': 0.015151515151515152, '([NP-SBJ], [ADVP], [ADVP-TMP], [VP])': 0.015151515151515152, '([PP-TMP], [,], [NP-SBJ], [VP])': 0.030303030303030304, '([ADVP-TMP], [,], [NP-SBJ], [VP])': 0.015151515151515152, '([SBAR-NOM-SBJ], [VP])': 0.015151515151515152, '([PP], [,], [NP-SBJ], [VP])': 0.015151515151515152, '([CC], [``], [NP-SBJ], [VP])': 0.015151515151515152, '([RB], [NP-SBJ], [VP])': 0.015151515151515152, '([CC], [NP-SBJ], [VP])': 0.015151515151515152, '([PP-TMP], [,], [NP-SBJ': 0.015151515151515152, '([ADVP-TMP], [NP-SBJ], [VP])': 0.015151515151515152, '([``], [NP-SBJ], [VP])': 0.015151515151515152, '([S], [:], [SBARQ])': 0.015151515151515152, '<unk>': 0.015151515151515152}\n",
      "[NP-SBJ] {'([NP], [VP], [PP])': 0.0034965034965034965, '([NNP], [NNP], [POS])': 0.0034965034965034965, '([NP], [PP], [PRN])': 0.0034965034965034965, '([DT], [CD], [NN])': 0.0034965034965034965, '([JJ], [CC], [NN], [NNS])': 0.0034965034965034965, '([NP], [NNPS])': 0.0034965034965034965, '([NP], [NP-TMP])': 0.0034965034965034965, '([JJ], [NN], [NN], [NNS])': 0.0034965034965034965, '([NP], [,], [PP])': 0.0034965034965034965, '([CD],)': 0.0034965034965034965, '([NP], [,], [SBAR], [,])': 0.0034965034965034965, '([NP], [PP-DIR])': 0.0034965034965034965, '([QP],)': 0.0034965034965034965, '([NP], [SBAR], [PP])': 0.0034965034965034965, '([NNS], [CC], [NNS])': 0.0034965034965034965, '([DT], [ADJP], [NNP])': 0.0034965034965034965, '([NP], [,], [PP], [,])': 0.0034965034965034965, '([-NONE-],)': 0.0034965034965034965, '([DT], [NN], [NNS])': 0.0034965034965034965, '([DT], [ADJP], [NNS])': 0.0034965034965034965, '([NP], [JJ], [NNS], [NNS])': 0.0034965034965034965, '([NP], [PP], [PP])': 0.0034965034965034965, '([DT], [NNP], [NNP])': 0.0034965034965034965, '([RB],)': 0.0034965034965034965, '([VBN], [NN])': 0.0034965034965034965, '([RB], [JJ], [NNS])': 0.0034965034965034965, '([DT], [NNPS])': 0.0034965034965034965, '([NP], [NP-ADV])': 0.0034965034965034965, '([NNP], [VBZ])': 0.0034965034965034965, '([VBG], [NN])': 0.0034965034965034965, '([DT], [VBG], [CD], [NNS])': 0.0034965034965034965, '([NP], [NNS], [NN])': 0.0034965034965034965, '([DT], [NNS], [NNS])': 0.0034965034965034965, '([NP], [ADVP-LOC])': 0.0034965034965034965, '([NNP], [NNPS])': 0.0034965034965034965, '([DT], [RBS], [JJ], [NN])': 0.0034965034965034965, '([DT], [NN], [NN], [NN])': 0.0034965034965034965, '([NP], [PP-LOC], [NP])': 0.0034965034965034965, '([CD], [NNS], [CC], [NNS])': 0.0034965034965034965, '([DT], [VBN], [NN])': 0.0034965034965034965, '([NN],)': 0.0034965034965034965, '([DT], [NNS], [NN])': 0.0034965034965034965, '([NN], [NN], [NN])': 0.0034965034965034965, '([ADJP], [NN])': 0.0034965034965034965, '([NP], [NP], [PP-LOC])': 0.0034965034965034965, '([DT],)': 0.0034965034965034965, '([CD], [NN], [NN])': 0.0034965034965034965, '([NP], [,], [SBAR-LOC], [,])': 0.0034965034965034965, '([DT], [ADJP], [NN])': 0.0034965034965034965, '([DT], [JJ], [NNPS])': 0.0034965034965034965, '([VBN], [NN], [SBAR])': 0.0034965034965034965, '([DT], [NNP], [POS], [NNP])': 0.0034965034965034965, '([CD], [CD], [NNP])': 0.0034965034965034965, '([CD], [NNP], [NNP], [NNS])': 0.0034965034965034965, '([JJS],)': 0.0034965034965034965, '([NP], [CC], [NP])': 0.0034965034965034965, '([PRP$], [NNS], [NN])': 0.0034965034965034965, '([RBR], [JJ], [NNS])': 0.0034965034965034965, '([DT], [CD], [NNS], [NNS])': 0.0034965034965034965, '([NP], [PP-LOC], [NP-TMP])': 0.0034965034965034965, '([NN], [NN], [NNP], [NNP])': 0.0034965034965034965, '([DT], [JJS], [NN])': 0.0034965034965034965, '([NP], [PP], [SBAR])': 0.0034965034965034965, '([DT], [VBG], [NNS])': 0.0034965034965034965, '([NN], [NN], [NN], [NNS])': 0.0034965034965034965, '([NP], [,], [CC], [NP])': 0.0034965034965034965, '([NP], [PP])': 0.0034965034965034965, '([DT], [NNP], [NN], [NN])': 0.0034965034965034965, '([DT], [NAC], [NN])': 0.0034965034965034965, '([PRP$], [JJ], [NN])': 0.0034965034965034965, '([NN], [NNS], [NN])': 0.0034965034965034965, '([NP], [NNP], [NNP], [CD])': 0.0034965034965034965, '([NP], [S])': 0.0034965034965034965, '([NNP], [NNP], [NNS])': 0.0034965034965034965, '([DT], [NNP], [NNP], [NNS])': 0.0034965034965034965, '([NP], [VBG], [NN], [NNS])': 0.0034965034965034965, '([NN], [NNS])': 0.0034965034965034965, '([NP], [VBN], [NN])': 0.0034965034965034965, '([NP], [JJ], [NNS], [NN])': 0.0034965034965034965, '([DT], [JJ], [NX])': 0.0034965034965034965, '([NNP], [CC], [NNP])': 0.0034965034965034965, '([NP], [NNP], [NNP], [NNS])': 0.0034965034965034965, '([DT], [CD], [NNP])': 0.0034965034965034965, '([NP], [,], [NP], [SBAR])': 0.0034965034965034965, '([NN], [.], [NNP])': 0.0034965034965034965, '([NNP], [NNP], [NNP])': 0.0034965034965034965, '([CD], [NNS])': 0.0034965034965034965, '([VBG], [NNS])': 0.0034965034965034965, '([NP], [,], [NP])': 0.0034965034965034965, '([NNP], [NNP], [NN])': 0.0034965034965034965, '([NP],)': 0.0034965034965034965, \"([NP], [PP], [''], [VP])\": 0.0034965034965034965, '([DT], [NNP], [JJ], [NN])': 0.0034965034965034965, '([NP], [NNP], [NNP])': 0.0034965034965034965, '([NP], [JJ], [JJ], [NNS])': 0.0034965034965034965, '([PRP$], [NNS], [CC], [NNS])': 0.0034965034965034965, '([NP], [PP], [S': 0.0034965034965034965, '([DT], [CD], [NNS])': 0.0034965034965034965, '([NP], [PP-TMP], [PP])': 0.0034965034965034965, '([NP], [,], [NP-LOC])': 0.0034965034965034965, '([DT], [JJ], [JJ], [NN])': 0.0034965034965034965, '([DT], [ADJP], [JJ], [NN])': 0.0034965034965034965, '([NNP], [POS])': 0.0034965034965034965, '([DT], [ADJP], [NN], [NNS])': 0.0034965034965034965, '([JJ], [NN], [NNS])': 0.0034965034965034965, '([DT], [NNS], [RB])': 0.0034965034965034965, '([JJ], [NN], [NN])': 0.0034965034965034965, '([DT], [NN], [NN])': 0.0034965034965034965, '([NN], [S])': 0.0034965034965034965, '([ADJP], [NNS])': 0.0034965034965034965, '([PRP$], [NNS])': 0.0034965034965034965, '([NP], [:], [NP])': 0.0034965034965034965, '([NNP], [.], [NNP])': 0.0034965034965034965, '([DT], [JJ], [JJ], [NNS])': 0.0034965034965034965, '([DT], [JJ], [NNP])': 0.0034965034965034965, '([NP], [,], [VP], [,])': 0.0034965034965034965, '([DT], [JJ], [NNS])': 0.0034965034965034965, '([JJ], [VBN], [NNS])': 0.0034965034965034965, '([NP], [NN], [NNS], [NN])': 0.0034965034965034965, '([NP], [NN], [NNS])': 0.0034965034965034965, '([NP-TTL], [CC], [NP-TTL])': 0.0034965034965034965, '([DT], [JJ], [ADJP], [NN])': 0.0034965034965034965, '([DT], [NP], [CC], [NP])': 0.0034965034965034965, '([DT], [JJ], [NN])': 0.0034965034965034965, '([DT], [NAC-LOC], [NN])': 0.0034965034965034965, '([NP], [ADJP])': 0.0034965034965034965, '([PDT], [DT], [NN], [NNS])': 0.0034965034965034965, '([DT], [JJS], [NN], [NN])': 0.0034965034965034965, '([EX],)': 0.0034965034965034965, '([IN],)': 0.0034965034965034965, '([NP], [NN], [CC], [NN])': 0.0034965034965034965, '([QP], [NNS])': 0.0034965034965034965, '([DT], [QP], [-NONE-])': 0.0034965034965034965, '([ADJP], [VBG], [NN])': 0.0034965034965034965, '([NNP], [NNPS], [NNP])': 0.0034965034965034965, '([NNPS], [NNP], [CC], [NNP])': 0.0034965034965034965, '([DT], [NN])': 0.0034965034965034965, '([PRP], [NN])': 0.0034965034965034965, '([NP], [-LRB-], [PP-LOC], [-RRB-])': 0.0034965034965034965, '([NP], [NP])': 0.0034965034965034965, '([DT], [NNS], [CC], [NNS])': 0.0034965034965034965, '([NP], [PP], [VP])': 0.0034965034965034965, '([DT], [NNP], [NNP], [NNP])': 0.0034965034965034965, '([NP], [PP], [PP], [PP])': 0.0034965034965034965, '([CD], [JJ], [NNS])': 0.0034965034965034965, '([NN], [CC], [NN])': 0.0034965034965034965, '([PRP],)': 0.0034965034965034965, '([DT], [JJR], [NN])': 0.0034965034965034965, '([NP], [VP])': 0.0034965034965034965, '([NP], [SBAR])': 0.0034965034965034965, '([NNP], [NN])': 0.0034965034965034965, '([NNP], [CC], [NNP], [NNP])': 0.0034965034965034965, '([CD], [JJ], [NN])': 0.0034965034965034965, '([PRP$], [JJ], [NNS])': 0.0034965034965034965, \"([NP], [``], [S-TTL], [''])\": 0.0034965034965034965, '([DT], [VBG])': 0.0034965034965034965, '([DT], [JJS], [NNS])': 0.0034965034965034965, '([JJ], [NNS], [NNS])': 0.0034965034965034965, '([NNP],)': 0.0034965034965034965, '([PRP$],)': 0.0034965034965034965, '([JJ], [-LRB-], [NN], [-RRB-])': 0.0034965034965034965, '([NP], [NN], [NN], [NNS])': 0.0034965034965034965, '([DT], [VBG], [NN])': 0.0034965034965034965, '([RB], [JJ], [NN])': 0.0034965034965034965, '([DT], [NNP])': 0.0034965034965034965, '([NN], [NNP], [NNS])': 0.0034965034965034965, '([DT], [NN], [VBG], [NN])': 0.0034965034965034965, '([NNS],)': 0.0034965034965034965, '([NN], [NN])': 0.0034965034965034965, '([DT], [JJ], [NNS], [NN])': 0.0034965034965034965, '([JJ], [DT], [NN])': 0.0034965034965034965, '([DT], [NNP], [NNS])': 0.0034965034965034965, '([NNP], [NNP])': 0.0034965034965034965, '([PRP$], [NNP], [NNP], [NNP])': 0.0034965034965034965, '([DT], [NN], [S])': 0.0034965034965034965, '([NP], [PP-TMP])': 0.0034965034965034965, '([IN], [JJ], [NNS])': 0.0034965034965034965, '([PRP$], [NN])': 0.0034965034965034965, '([NP], [,], [SBAR])': 0.0034965034965034965, '([NP], [NN], [NN])': 0.0034965034965034965, '([DT], [JJ], [NN], [NNS])': 0.0034965034965034965, '([DT], [NNP], [CD], [NN])': 0.0034965034965034965, '([JJS], [NNS])': 0.0034965034965034965, '([NP], [,], [ADJP], [,])': 0.0034965034965034965, '([NP], [,], [NP], [,])': 0.0034965034965034965, '([WDT],)': 0.0034965034965034965, '([DT], [JJ], [NNP], [NNP])': 0.0034965034965034965, '([NP], [NNS])': 0.0034965034965034965, '([NP], [,], [RRC], [,])': 0.0034965034965034965, '([NNS], [SBAR])': 0.0034965034965034965, '([JJ], [JJ], [NNS])': 0.0034965034965034965, '([NP], [NNP], [NNP], [NNP])': 0.0034965034965034965, '([NP], [NN])': 0.0034965034965034965, '([NP], [NN], [PP-LOC])': 0.0034965034965034965, '([PRP$], [NNP], [NNP], [NN])': 0.0034965034965034965, '([NP], [VBN], [NNS])': 0.0034965034965034965, '([NP], [JJ], [NN], [NN])': 0.0034965034965034965, '([NNS], [S])': 0.0034965034965034965, '([CD], [NN])': 0.0034965034965034965, '([PDT], [DT], [JJ], [NN])': 0.0034965034965034965, '([DT], [JJ], [NN], [NN])': 0.0034965034965034965, '([NNP], [NNP], [CC], [NNP])': 0.0034965034965034965, '([NNPS],)': 0.0034965034965034965, '([NP], [``], [NN], [S])': 0.0034965034965034965, '([DT], [CD], [NNS], [RB])': 0.0034965034965034965, '([DT], [NNP], [NN])': 0.0034965034965034965, '([UCP], [NNS])': 0.0034965034965034965, '([JJ], [NN])': 0.0034965034965034965, '([JJ], [NNS])': 0.0034965034965034965, '([NP], [,], [PRN])': 0.0034965034965034965, '([NP], [PP], [PP-LOC], [PP])': 0.0034965034965034965, '([DT], [DT], [NNS])': 0.0034965034965034965, '([JJR], [NNP], [NN], [NNS])': 0.0034965034965034965, '([NP], [PP], [NP-TMP], [PRN])': 0.0034965034965034965, '([NNP], [NN], [NNS])': 0.0034965034965034965, '([DT], [NN], [SBAR])': 0.0034965034965034965, '([JJ], [NNP], [NNP], [NNP])': 0.0034965034965034965, '([NP], [NNP])': 0.0034965034965034965, '([PRP$], [JJS], [NN])': 0.0034965034965034965, '([DT], [NNP], [NNP], [NN])': 0.0034965034965034965, '([NP], [VP], [SBAR], [,])': 0.0034965034965034965, '([NNS], [NNS])': 0.0034965034965034965, '([JJR], [NNS])': 0.0034965034965034965, '([NP], [PP], [PP-TMP])': 0.0034965034965034965, '([NP], [:], [NP], [:])': 0.0034965034965034965, '([IN], [DT])': 0.0034965034965034965, '([NP': 0.0034965034965034965, '([NP], [JJ], [NNS])': 0.0034965034965034965, '([NAC], [NNP])': 0.0034965034965034965, '([JJ], [NNPS])': 0.0034965034965034965, '([NP], [NNP], [CD], [NN])': 0.0034965034965034965, '([DT], [CD], [NN], [NN])': 0.0034965034965034965, '([DT], [NNS])': 0.0034965034965034965, '([NP], [PP-LOC], [PP])': 0.0034965034965034965, '([NP], [JJ], [NNS], [S])': 0.0034965034965034965, '([NP], [VP], [PRN])': 0.0034965034965034965, '([NP], [NNP], [NN])': 0.0034965034965034965, '([JJS], [NNPS])': 0.0034965034965034965, '([NP], [PP], [NP])': 0.0034965034965034965, '([NAC], [NNS])': 0.0034965034965034965, '([NP], [PRN], [PP])': 0.0034965034965034965, '([NP], [NN], [S])': 0.0034965034965034965, '([DT], [VBN], [NNS])': 0.0034965034965034965, '([NP], [,], [NP-LOC], [,])': 0.0034965034965034965, '([NP], [PP], [PP-DIR])': 0.0034965034965034965, '([DT], [ADJP], [CD])': 0.0034965034965034965, '([NP], [JJ], [NN])': 0.0034965034965034965, '([JJ], [NNP], [NNP], [NNS])': 0.0034965034965034965, '([NP], [,], [VP])': 0.0034965034965034965, '([NNP], [NNP], [NNP], [NNP])': 0.0034965034965034965, '([DT], [JJR], [NNS])': 0.0034965034965034965, '([JJ], [VBG], [NNS])': 0.0034965034965034965, '([DT], [JJ], [NNS], [NNS])': 0.0034965034965034965, '([NP], [RRC])': 0.0034965034965034965, '([DT], [CD])': 0.0034965034965034965, '([DT], [JJ], [CD], [NNS])': 0.0034965034965034965, '([NP], [JJ], [NN], [NNS])': 0.0034965034965034965, '([NP-LOC], [SBAR], [,])': 0.0034965034965034965, '([NP], [PRN])': 0.0034965034965034965, '([QP], [NN])': 0.0034965034965034965, '([NP-TTL], [PP])': 0.0034965034965034965, '([NP], [NN], [JJ], [NN])': 0.0034965034965034965, '([NP], [VBG], [NNS])': 0.0034965034965034965, '([JJ],)': 0.0034965034965034965, '([JJ], [NNS], [CC], [NNS])': 0.0034965034965034965, '([NN], [CD])': 0.0034965034965034965, '([NP], [PP-LOC])': 0.0034965034965034965, '([JJ], [NNP], [NNP])': 0.0034965034965034965, '([VBG],)': 0.0034965034965034965, '([NN], [NN], [NNS])': 0.0034965034965034965, '([NP], [SBAR-ADV])': 0.0034965034965034965, '([DT], [NN], [NN], [S])': 0.0034965034965034965, '([PRP$], [NN], [NN])': 0.0034965034965034965, '([DT], [VBN], [NN], [NN])': 0.0034965034965034965, '([PRP$], [NN], [POS])': 0.0034965034965034965, \"([NP], [``], [NP-TTL], [''])\": 0.0034965034965034965, '([NP], [PP], [,])': 0.0034965034965034965, '([NNP], [NNS])': 0.0034965034965034965, '([DT], [JJ])': 0.0034965034965034965, '([DT], [PRP])': 0.0034965034965034965, '([NN], [CC], [NN], [NNS])': 0.0034965034965034965, '([NNP], [NN], [NN])': 0.0034965034965034965, '([PRP$], [NN], [NNS])': 0.0034965034965034965, '([NP], [PP], [PP-LOC])': 0.0034965034965034965, '([NNP], [CD], [NNS])': 0.0034965034965034965, '<unk>': 0.0034965034965034965}\n",
      "[NP-EXT] {'([CD], [NN])': 0.08333333333333333, '([NP], [:], [NP])': 0.08333333333333333, '([QP],)': 0.08333333333333333, '([CD], [NNS])': 0.08333333333333333, '([NP], [PP])': 0.08333333333333333, '([CD],)': 0.08333333333333333, '([NP], [NP-ADV])': 0.08333333333333333, '([NNS],)': 0.08333333333333333, '([$], [CD], [-NONE-])': 0.08333333333333333, '([QP], [NNS])': 0.08333333333333333, '([QP], [NN])': 0.08333333333333333, '<unk>': 0.08333333333333333}\n",
      "[ADVP-LOC-CLR] {'([-NONE-],)': 0.3333333333333333, '([RB],)': 0.3333333333333333, '<unk>': 0.3333333333333333}\n",
      "[PP-TMP {'([IN], [NP])': 0.8, '<unk>': 0.2}\n",
      "[WRB] {\"('when',)\": 0.1, \"('How',)\": 0.1, \"('Why',)\": 0.1, \"('how',)\": 0.1, \"('whereby',)\": 0.1, \"('why',)\": 0.1, \"('When',)\": 0.1, \"('Where',)\": 0.1, \"('where',)\": 0.1, '<unk>': 0.1}\n",
      "[VBD] {\"('eliminated',)\": 0.0022675736961451248, \"('failed',)\": 0.0022675736961451248, \"('angered',)\": 0.0022675736961451248, \"('saw',)\": 0.0022675736961451248, \"('put',)\": 0.0022675736961451248, \"('referred',)\": 0.0022675736961451248, \"('enticed',)\": 0.0022675736961451248, \"('named',)\": 0.0022675736961451248, \"('strengthened',)\": 0.0022675736961451248, \"('accepted',)\": 0.0022675736961451248, \"('opposed',)\": 0.0022675736961451248, \"('graduated',)\": 0.0022675736961451248, \"('screwed',)\": 0.0022675736961451248, \"('alleged',)\": 0.0022675736961451248, \"('denied',)\": 0.0022675736961451248, \"('visited',)\": 0.0022675736961451248, \"('suffered',)\": 0.0022675736961451248, \"('snapped',)\": 0.0022675736961451248, \"('favored',)\": 0.0022675736961451248, \"('noted',)\": 0.0022675736961451248, \"('aimed',)\": 0.0022675736961451248, \"('brightened',)\": 0.0022675736961451248, \"('retired',)\": 0.0022675736961451248, \"('soared',)\": 0.0022675736961451248, \"('surfaced',)\": 0.0022675736961451248, \"('reduced',)\": 0.0022675736961451248, \"('accelerated',)\": 0.0022675736961451248, \"('obtained',)\": 0.0022675736961451248, \"('trailed',)\": 0.0022675736961451248, \"('evolved',)\": 0.0022675736961451248, \"('made',)\": 0.0022675736961451248, \"('banned',)\": 0.0022675736961451248, \"('fell',)\": 0.0022675736961451248, \"('joined',)\": 0.0022675736961451248, \"('committed',)\": 0.0022675736961451248, \"('waited',)\": 0.0022675736961451248, \"('admitted',)\": 0.0022675736961451248, \"('passed',)\": 0.0022675736961451248, \"('disclosed',)\": 0.0022675736961451248, \"('studied',)\": 0.0022675736961451248, \"('invested',)\": 0.0022675736961451248, \"('dreamt',)\": 0.0022675736961451248, \"('slipped',)\": 0.0022675736961451248, \"('tripled',)\": 0.0022675736961451248, \"('fueled',)\": 0.0022675736961451248, \"('imported',)\": 0.0022675736961451248, \"('taught',)\": 0.0022675736961451248, \"('befuddled',)\": 0.0022675736961451248, \"('anticipated',)\": 0.0022675736961451248, \"('explained',)\": 0.0022675736961451248, \"('earned',)\": 0.0022675736961451248, \"('hid',)\": 0.0022675736961451248, \"('surrendered',)\": 0.0022675736961451248, \"('stepped',)\": 0.0022675736961451248, \"('sold',)\": 0.0022675736961451248, \"('maintained',)\": 0.0022675736961451248, \"('paid',)\": 0.0022675736961451248, \"('ventilated',)\": 0.0022675736961451248, \"('squeezed',)\": 0.0022675736961451248, \"('lowered',)\": 0.0022675736961451248, \"('claimed',)\": 0.0022675736961451248, \"('remained',)\": 0.0022675736961451248, \"('cranked',)\": 0.0022675736961451248, \"('dropped',)\": 0.0022675736961451248, \"('polled',)\": 0.0022675736961451248, \"('devoted',)\": 0.0022675736961451248, \"('stood',)\": 0.0022675736961451248, \"('damaged',)\": 0.0022675736961451248, \"('increased',)\": 0.0022675736961451248, \"('sounded',)\": 0.0022675736961451248, \"('forced',)\": 0.0022675736961451248, \"('appeared',)\": 0.0022675736961451248, \"('criticized',)\": 0.0022675736961451248, \"('copied',)\": 0.0022675736961451248, \"('distinguished',)\": 0.0022675736961451248, \"('quipped',)\": 0.0022675736961451248, \"('disciplined',)\": 0.0022675736961451248, \"('billed',)\": 0.0022675736961451248, \"('managed',)\": 0.0022675736961451248, \"('touched',)\": 0.0022675736961451248, \"('totaled',)\": 0.0022675736961451248, \"('established',)\": 0.0022675736961451248, \"('concluded',)\": 0.0022675736961451248, \"('said',)\": 0.0022675736961451248, \"('hosted',)\": 0.0022675736961451248, \"('picked',)\": 0.0022675736961451248, \"('inspired',)\": 0.0022675736961451248, \"('acted',)\": 0.0022675736961451248, \"('traced',)\": 0.0022675736961451248, \"('breathed',)\": 0.0022675736961451248, \"('devised',)\": 0.0022675736961451248, \"('rebuffed',)\": 0.0022675736961451248, \"('advised',)\": 0.0022675736961451248, \"('believed',)\": 0.0022675736961451248, \"('thought',)\": 0.0022675736961451248, \"('read',)\": 0.0022675736961451248, \"('estimated',)\": 0.0022675736961451248, \"('loved',)\": 0.0022675736961451248, \"('welcomed',)\": 0.0022675736961451248, \"('lay',)\": 0.0022675736961451248, \"('averaged',)\": 0.0022675736961451248, \"('replaced',)\": 0.0022675736961451248, \"('had',)\": 0.0022675736961451248, \"('lasted',)\": 0.0022675736961451248, \"('rebuked',)\": 0.0022675736961451248, \"('transformed',)\": 0.0022675736961451248, \"('inched',)\": 0.0022675736961451248, \"('dubbed',)\": 0.0022675736961451248, \"('omitted',)\": 0.0022675736961451248, \"('recommended',)\": 0.0022675736961451248, \"('solved',)\": 0.0022675736961451248, \"('collaborated',)\": 0.0022675736961451248, \"('secured',)\": 0.0022675736961451248, \"('left',)\": 0.0022675736961451248, \"('raised',)\": 0.0022675736961451248, \"('limited',)\": 0.0022675736961451248, \"('surged',)\": 0.0022675736961451248, \"('heard',)\": 0.0022675736961451248, \"('authorized',)\": 0.0022675736961451248, \"('drove',)\": 0.0022675736961451248, \"('screened',)\": 0.0022675736961451248, \"('built',)\": 0.0022675736961451248, \"('participated',)\": 0.0022675736961451248, \"('sweetened',)\": 0.0022675736961451248, \"('introduced',)\": 0.0022675736961451248, \"('slid',)\": 0.0022675736961451248, \"('attributed',)\": 0.0022675736961451248, \"('attended',)\": 0.0022675736961451248, \"('declared',)\": 0.0022675736961451248, \"('downgraded',)\": 0.0022675736961451248, \"('registered',)\": 0.0022675736961451248, \"('responded',)\": 0.0022675736961451248, \"('were',)\": 0.0022675736961451248, \"('imposed',)\": 0.0022675736961451248, \"('spotted',)\": 0.0022675736961451248, \"('dismissed',)\": 0.0022675736961451248, \"('suggested',)\": 0.0022675736961451248, \"('begot',)\": 0.0022675736961451248, \"('waived',)\": 0.0022675736961451248, \"('deemed',)\": 0.0022675736961451248, \"('argued',)\": 0.0022675736961451248, \"('dreamed',)\": 0.0022675736961451248, \"('acceded',)\": 0.0022675736961451248, \"('bid',)\": 0.0022675736961451248, \"('featured',)\": 0.0022675736961451248, \"('lauded',)\": 0.0022675736961451248, \"('announced',)\": 0.0022675736961451248, \"('served',)\": 0.0022675736961451248, \"('rushed',)\": 0.0022675736961451248, \"('climbed',)\": 0.0022675736961451248, \"('approved',)\": 0.0022675736961451248, \"('examined',)\": 0.0022675736961451248, \"('chose',)\": 0.0022675736961451248, \"('received',)\": 0.0022675736961451248, \"('mounted',)\": 0.0022675736961451248, \"('stirred',)\": 0.0022675736961451248, \"('terminated',)\": 0.0022675736961451248, \"('continued',)\": 0.0022675736961451248, \"('licensed',)\": 0.0022675736961451248, \"('reviewed',)\": 0.0022675736961451248, \"('fretted',)\": 0.0022675736961451248, \"('escaped',)\": 0.0022675736961451248, \"('defended',)\": 0.0022675736961451248, \"('launched',)\": 0.0022675736961451248, \"('removed',)\": 0.0022675736961451248, \"('renewed',)\": 0.0022675736961451248, \"('emphasized',)\": 0.0022675736961451248, \"('died',)\": 0.0022675736961451248, \"('negotiated',)\": 0.0022675736961451248, \"('entered',)\": 0.0022675736961451248, \"('expressed',)\": 0.0022675736961451248, \"('was',)\": 0.0022675736961451248, \"('occurred',)\": 0.0022675736961451248, \"('reopened',)\": 0.0022675736961451248, \"('aired',)\": 0.0022675736961451248, \"('entitled',)\": 0.0022675736961451248, \"('ran',)\": 0.0022675736961451248, \"('disagreed',)\": 0.0022675736961451248, \"('tied',)\": 0.0022675736961451248, \"('sent',)\": 0.0022675736961451248, \"('struggled',)\": 0.0022675736961451248, \"('spoke',)\": 0.0022675736961451248, \"('brought',)\": 0.0022675736961451248, \"('knew',)\": 0.0022675736961451248, \"('arranged',)\": 0.0022675736961451248, \"('did',)\": 0.0022675736961451248, \"('cut',)\": 0.0022675736961451248, \"('hauled',)\": 0.0022675736961451248, \"('jumped',)\": 0.0022675736961451248, \"('poured',)\": 0.0022675736961451248, \"('produced',)\": 0.0022675736961451248, \"('used',)\": 0.0022675736961451248, \"('succeeded',)\": 0.0022675736961451248, \"('curtailed',)\": 0.0022675736961451248, \"('upheld',)\": 0.0022675736961451248, \"('arrived',)\": 0.0022675736961451248, \"('sneaked',)\": 0.0022675736961451248, \"('implied',)\": 0.0022675736961451248, \"('feared',)\": 0.0022675736961451248, \"('ranged',)\": 0.0022675736961451248, \"('expired',)\": 0.0022675736961451248, \"('printed',)\": 0.0022675736961451248, \"('began',)\": 0.0022675736961451248, \"('plunged',)\": 0.0022675736961451248, \"('helped',)\": 0.0022675736961451248, \"('expanded',)\": 0.0022675736961451248, \"('won',)\": 0.0022675736961451248, \"('recovered',)\": 0.0022675736961451248, \"('retraced',)\": 0.0022675736961451248, \"('bowed',)\": 0.0022675736961451248, \"('carried',)\": 0.0022675736961451248, \"('shot',)\": 0.0022675736961451248, \"('took',)\": 0.0022675736961451248, \"('marketed',)\": 0.0022675736961451248, \"('planned',)\": 0.0022675736961451248, \"('attached',)\": 0.0022675736961451248, \"('came',)\": 0.0022675736961451248, \"('overvalued',)\": 0.0022675736961451248, \"('guided',)\": 0.0022675736961451248, \"('led',)\": 0.0022675736961451248, \"('determined',)\": 0.0022675736961451248, \"('changed',)\": 0.0022675736961451248, \"('held',)\": 0.0022675736961451248, \"('developed',)\": 0.0022675736961451248, \"('pointed',)\": 0.0022675736961451248, \"('lost',)\": 0.0022675736961451248, \"('drifted',)\": 0.0022675736961451248, \"('contributed',)\": 0.0022675736961451248, \"('reached',)\": 0.0022675736961451248, \"('followed',)\": 0.0022675736961451248, \"('skipped',)\": 0.0022675736961451248, \"('CHANGED',)\": 0.0022675736961451248, \"('issued',)\": 0.0022675736961451248, \"('compared',)\": 0.0022675736961451248, \"('cautioned',)\": 0.0022675736961451248, \"('understood',)\": 0.0022675736961451248, \"('started',)\": 0.0022675736961451248, \"('depended',)\": 0.0022675736961451248, \"('restored',)\": 0.0022675736961451248, \"('killed',)\": 0.0022675736961451248, \"('finished',)\": 0.0022675736961451248, \"('viewed',)\": 0.0022675736961451248, \"('kept',)\": 0.0022675736961451248, \"('sued',)\": 0.0022675736961451248, \"('broadened',)\": 0.0022675736961451248, \"('asked',)\": 0.0022675736961451248, \"('backed',)\": 0.0022675736961451248, \"('booked',)\": 0.0022675736961451248, \"('tried',)\": 0.0022675736961451248, \"('spent',)\": 0.0022675736961451248, \"('fared',)\": 0.0022675736961451248, \"('praised',)\": 0.0022675736961451248, \"('complained',)\": 0.0022675736961451248, \"('controlled',)\": 0.0022675736961451248, \"('lacked',)\": 0.0022675736961451248, \"('broke',)\": 0.0022675736961451248, \"('balked',)\": 0.0022675736961451248, \"('published',)\": 0.0022675736961451248, \"('completed',)\": 0.0022675736961451248, \"('harped',)\": 0.0022675736961451248, \"('inherited',)\": 0.0022675736961451248, \"('signed',)\": 0.0022675736961451248, \"('insisted',)\": 0.0022675736961451248, \"('let',)\": 0.0022675736961451248, \"('found',)\": 0.0022675736961451248, \"('matched',)\": 0.0022675736961451248, \"('evaluated',)\": 0.0022675736961451248, \"('spurned',)\": 0.0022675736961451248, \"('moved',)\": 0.0022675736961451248, \"('materialized',)\": 0.0022675736961451248, \"('hired',)\": 0.0022675736961451248, \"('caused',)\": 0.0022675736961451248, \"('proposed',)\": 0.0022675736961451248, \"('ended',)\": 0.0022675736961451248, \"('grew',)\": 0.0022675736961451248, \"('weighed',)\": 0.0022675736961451248, \"('filed',)\": 0.0022675736961451248, \"('advocated',)\": 0.0022675736961451248, \"('realized',)\": 0.0022675736961451248, \"('wrote',)\": 0.0022675736961451248, \"('doubled',)\": 0.0022675736961451248, \"('saved',)\": 0.0022675736961451248, \"('cared',)\": 0.0022675736961451248, \"('restructured',)\": 0.0022675736961451248, \"('lengthened',)\": 0.0022675736961451248, \"('reversed',)\": 0.0022675736961451248, \"('nominated',)\": 0.0022675736961451248, \"('fielded',)\": 0.0022675736961451248, \"('sought',)\": 0.0022675736961451248, \"('refused',)\": 0.0022675736961451248, \"('leapt',)\": 0.0022675736961451248, \"('curled',)\": 0.0022675736961451248, \"('barred',)\": 0.0022675736961451248, \"('resigned',)\": 0.0022675736961451248, \"('beat',)\": 0.0022675736961451248, \"('numbered',)\": 0.0022675736961451248, \"('amounted',)\": 0.0022675736961451248, \"('ruled',)\": 0.0022675736961451248, \"('violated',)\": 0.0022675736961451248, \"('met',)\": 0.0022675736961451248, \"('knocked',)\": 0.0022675736961451248, \"('underwent',)\": 0.0022675736961451248, \"('worked',)\": 0.0022675736961451248, \"('obligated',)\": 0.0022675736961451248, \"('placed',)\": 0.0022675736961451248, \"('treated',)\": 0.0022675736961451248, \"('purchased',)\": 0.0022675736961451248, \"('stretched',)\": 0.0022675736961451248, \"('bought',)\": 0.0022675736961451248, \"('reported',)\": 0.0022675736961451248, \"('felt',)\": 0.0022675736961451248, \"('yielded',)\": 0.0022675736961451248, \"('hoped',)\": 0.0022675736961451248, \"('have',)\": 0.0022675736961451248, \"('summoned',)\": 0.0022675736961451248, \"('unleashed',)\": 0.0022675736961451248, \"('wound',)\": 0.0022675736961451248, \"('chastised',)\": 0.0022675736961451248, \"('dumped',)\": 0.0022675736961451248, \"('agreed',)\": 0.0022675736961451248, \"('recorded',)\": 0.0022675736961451248, \"('tumbled',)\": 0.0022675736961451248, \"('exuded',)\": 0.0022675736961451248, \"('rose',)\": 0.0022675736961451248, \"('settled',)\": 0.0022675736961451248, \"('hung',)\": 0.0022675736961451248, \"('returned',)\": 0.0022675736961451248, \"('raced',)\": 0.0022675736961451248, \"('gave',)\": 0.0022675736961451248, \"('stuck',)\": 0.0022675736961451248, \"('urged',)\": 0.0022675736961451248, \"('handed',)\": 0.0022675736961451248, \"('quoted',)\": 0.0022675736961451248, \"('blamed',)\": 0.0022675736961451248, \"('formed',)\": 0.0022675736961451248, \"('reflected',)\": 0.0022675736961451248, \"('boosted',)\": 0.0022675736961451248, \"('triggered',)\": 0.0022675736961451248, \"('remarked',)\": 0.0022675736961451248, \"('fired',)\": 0.0022675736961451248, \"('enraged',)\": 0.0022675736961451248, \"('benefited',)\": 0.0022675736961451248, \"('accused',)\": 0.0022675736961451248, \"('Asked',)\": 0.0022675736961451248, \"('stopped',)\": 0.0022675736961451248, \"('threatened',)\": 0.0022675736961451248, \"('called',)\": 0.0022675736961451248, \"('confirmed',)\": 0.0022675736961451248, \"('halted',)\": 0.0022675736961451248, \"('adopted',)\": 0.0022675736961451248, \"('identified',)\": 0.0022675736961451248, \"('added',)\": 0.0022675736961451248, \"('stored',)\": 0.0022675736961451248, \"('bled',)\": 0.0022675736961451248, \"('enabled',)\": 0.0022675736961451248, \"('concentrated',)\": 0.0022675736961451248, \"('contracted',)\": 0.0022675736961451248, \"('bothered',)\": 0.0022675736961451248, \"('decried',)\": 0.0022675736961451248, \"('posted',)\": 0.0022675736961451248, \"('decided',)\": 0.0022675736961451248, \"('sacked',)\": 0.0022675736961451248, \"('contained',)\": 0.0022675736961451248, \"('fed',)\": 0.0022675736961451248, \"('needed',)\": 0.0022675736961451248, \"('suspended',)\": 0.0022675736961451248, \"('fought',)\": 0.0022675736961451248, \"('meant',)\": 0.0022675736961451248, \"('possessed',)\": 0.0022675736961451248, \"('set',)\": 0.0022675736961451248, \"('asserted',)\": 0.0022675736961451248, \"('endorsed',)\": 0.0022675736961451248, \"('profited',)\": 0.0022675736961451248, \"('involved',)\": 0.0022675736961451248, \"('aggravated',)\": 0.0022675736961451248, \"('declined',)\": 0.0022675736961451248, \"('got',)\": 0.0022675736961451248, \"('mixed',)\": 0.0022675736961451248, \"('annoyed',)\": 0.0022675736961451248, \"('assured',)\": 0.0022675736961451248, \"('reacted',)\": 0.0022675736961451248, \"('skidded',)\": 0.0022675736961451248, \"('intended',)\": 0.0022675736961451248, \"('prompted',)\": 0.0022675736961451248, \"('reminded',)\": 0.0022675736961451248, \"('applied',)\": 0.0022675736961451248, \"('voted',)\": 0.0022675736961451248, \"('rejected',)\": 0.0022675736961451248, \"('indicated',)\": 0.0022675736961451248, \"('merged',)\": 0.0022675736961451248, \"('owed',)\": 0.0022675736961451248, \"('ushered',)\": 0.0022675736961451248, \"('wanted',)\": 0.0022675736961451248, \"('released',)\": 0.0022675736961451248, \"('gained',)\": 0.0022675736961451248, \"('edged',)\": 0.0022675736961451248, \"('became',)\": 0.0022675736961451248, \"('stressed',)\": 0.0022675736961451248, \"('described',)\": 0.0022675736961451248, \"('adapted',)\": 0.0022675736961451248, \"('pulled',)\": 0.0022675736961451248, \"('turned',)\": 0.0022675736961451248, \"('discussed',)\": 0.0022675736961451248, \"('speculated',)\": 0.0022675736961451248, \"('invented',)\": 0.0022675736961451248, \"('clipped',)\": 0.0022675736961451248, \"('circulated',)\": 0.0022675736961451248, \"('created',)\": 0.0022675736961451248, \"('resolved',)\": 0.0022675736961451248, \"('patented',)\": 0.0022675736961451248, \"('represented',)\": 0.0022675736961451248, \"('stated',)\": 0.0022675736961451248, \"('predicted',)\": 0.0022675736961451248, \"('awarded',)\": 0.0022675736961451248, \"('allowed',)\": 0.0022675736961451248, \"('eased',)\": 0.0022675736961451248, \"('pleaded',)\": 0.0022675736961451248, \"('resulted',)\": 0.0022675736961451248, \"('clicked',)\": 0.0022675736961451248, \"('approached',)\": 0.0022675736961451248, \"('folded',)\": 0.0022675736961451248, \"('happened',)\": 0.0022675736961451248, \"('consented',)\": 0.0022675736961451248, \"('seized',)\": 0.0022675736961451248, \"('drooled',)\": 0.0022675736961451248, \"('expelled',)\": 0.0022675736961451248, \"('opened',)\": 0.0022675736961451248, \"('included',)\": 0.0022675736961451248, \"('cited',)\": 0.0022675736961451248, \"('ordered',)\": 0.0022675736961451248, \"('evaporated',)\": 0.0022675736961451248, \"('kicked',)\": 0.0022675736961451248, \"('learned',)\": 0.0022675736961451248, \"('closed',)\": 0.0022675736961451248, \"('acquired',)\": 0.0022675736961451248, \"('went',)\": 0.0022675736961451248, \"('seemed',)\": 0.0022675736961451248, \"('showed',)\": 0.0022675736961451248, \"('told',)\": 0.0022675736961451248, \"('offered',)\": 0.0022675736961451248, '<unk>': 0.0022675736961451248}\n",
      "[PP-MNR] {'([-NONE-],)': 0.125, '([IN], [S-NOM])': 0.125, '([ADVP], [IN], [NP])': 0.125, \"([IN], [``], [NP], [''])\": 0.125, '([IN], [NP])': 0.125, '([PP], [PP])': 0.125, '([IN], [ADVP])': 0.125, '<unk>': 0.125}\n",
      "[NP-LOC] {'([DT], [NNP])': 0.125, '([NNP],)': 0.125, '([NNP], [.])': 0.125, '([NP], [,], [NP], [,])': 0.125, '([NP], [,], [NP])': 0.125, '([RB],)': 0.125, '([NNP], [NNP])': 0.125, '<unk>': 0.125}\n",
      "[DT] {\"('The',)\": 0.025, \"('Another',)\": 0.025, \"('another',)\": 0.025, \"('la',)\": 0.025, \"('These',)\": 0.025, \"('This',)\": 0.025, \"('the',)\": 0.025, \"('no',)\": 0.025, \"('either',)\": 0.025, \"('this',)\": 0.025, \"('Those',)\": 0.025, \"('all',)\": 0.025, \"('neither',)\": 0.025, \"('AN',)\": 0.025, \"('Every',)\": 0.025, \"('an',)\": 0.025, \"('any',)\": 0.025, \"('le',)\": 0.025, \"('half',)\": 0.025, \"('that',)\": 0.025, \"('each',)\": 0.025, \"('All',)\": 0.025, \"('Neither',)\": 0.025, \"('Both',)\": 0.025, \"('A',)\": 0.025, \"('every',)\": 0.025, \"('Some',)\": 0.025, \"('a',)\": 0.025, \"('both',)\": 0.025, \"('THE',)\": 0.025, \"('these',)\": 0.025, \"('An',)\": 0.025, \"('Each',)\": 0.025, \"('No',)\": 0.025, \"('some',)\": 0.025, \"('That',)\": 0.025, \"('del',)\": 0.025, \"('Any',)\": 0.025, \"('those',)\": 0.025, '<unk>': 0.025}\n",
      "[PRN] {'([-LRB-], [NP], [PP], [-RRB-])': 0.01694915254237288, '([,], [ADVP-MNR], [,])': 0.01694915254237288, '([,], [PP-MNR], [,])': 0.01694915254237288, '([,], [INTJ], [NP], [,])': 0.01694915254237288, '([:], [PP], [NP])': 0.01694915254237288, '([-LRB-], [PP], [-RRB-])': 0.01694915254237288, '([,], [ADVP-TMP], [,])': 0.01694915254237288, '([,], [CC], [NP])': 0.01694915254237288, '([:], [VP], [:])': 0.01694915254237288, '([:], [PP], [:])': 0.01694915254237288, '([-LRB-], [VP], [-RRB-])': 0.01694915254237288, '([-LRB-], [SBAR-ADV], [-RRB-])': 0.01694915254237288, '([,], [NP': 0.01694915254237288, '([,], [PP-TMP], [,])': 0.01694915254237288, '([SBAR],)': 0.01694915254237288, '([:], [S-ADV], [:])': 0.01694915254237288, '([:], [PP-TMP], [:])': 0.01694915254237288, '([,], [ADVP], [,])': 0.01694915254237288, '([-LRB-], [S], [-RRB-])': 0.01694915254237288, '([,], [CC], [PP-CLR])': 0.01694915254237288, '([,], [NP-SBJ], [VP], [,])': 0.01694915254237288, '([:], [ADJP])': 0.01694915254237288, '([,], [IN], [DT], [,])': 0.01694915254237288, '([:], [ADJP], [:])': 0.01694915254237288, '([S],)': 0.01694915254237288, '([,], [PP], [,])': 0.01694915254237288, \"([,], [''], [S], [,])\": 0.01694915254237288, '([:], [CC], [NP], [:])': 0.01694915254237288, '([:], [S])': 0.01694915254237288, '([:], [SBAR])': 0.01694915254237288, '([,], [SBAR-LOC], [,])': 0.01694915254237288, '([:], [PP])': 0.01694915254237288, '([:], [CC], [JJ], [:])': 0.01694915254237288, '([-LRB-], [CC], [VP], [-RRB-])': 0.01694915254237288, '([:], [NP], [PP], [:])': 0.01694915254237288, '([,], [PP])': 0.01694915254237288, '([SINV],)': 0.01694915254237288, '([,], [S], [,])': 0.01694915254237288, '([:], [SBAR], [:])': 0.01694915254237288, '([:], [NP-LOC], [PP-TMP])': 0.01694915254237288, '([:], [NP], [PP-DIR], [:])': 0.01694915254237288, '([-LRB-], [NP-LOC], [-RRB-])': 0.01694915254237288, '([-LRB-], [ADVP], [NP], [-RRB-])': 0.01694915254237288, '([,], [PP-LOC], [,])': 0.01694915254237288, '([-LRB-], [S-ADV], [-RRB-])': 0.01694915254237288, '([-LRB-], [ADJP], [-RRB-])': 0.01694915254237288, '([,], [SBAR-ADV], [,])': 0.01694915254237288, '([:], [ADVP], [NP])': 0.01694915254237288, '([:], [S], [:])': 0.01694915254237288, '([-LRB-], [NP], [-RRB-])': 0.01694915254237288, '([:], [NP], [:])': 0.01694915254237288, \"([,], [''], [SINV], [,])\": 0.01694915254237288, '([:], [CC], [NN], [:])': 0.01694915254237288, '([,], [SBAR], [,])': 0.01694915254237288, '([:], [SBAR-SBJ], [:])': 0.01694915254237288, '([,], [SINV], [,])': 0.01694915254237288, '([SINV], [,])': 0.01694915254237288, '([:], [NP])': 0.01694915254237288, '<unk>': 0.01694915254237288}\n",
      "[-NONE-] {\"('*T*\": 0.5873015873015873, \"('*\": 0.36961451247165533, \"('*PPA*\": 0.006802721088435374, \"('*RNR*\": 0.006802721088435374, \"('*ICH*\": 0.009070294784580499, \"('*EXP*\": 0.006802721088435374, \"('*?*',)\": 0.0022675736961451248, \"('*U*',)\": 0.0022675736961451248, \"('*NOT*',)\": 0.0022675736961451248, \"('0',)\": 0.0022675736961451248, \"('*',)\": 0.0022675736961451248, '<unk>': 0.0022675736961451248}\n",
      "[LS] {\"('2',)\": 0.125, \"('b',)\": 0.125, \"('5',)\": 0.125, \"('1',)\": 0.125, \"('3',)\": 0.125, \"('4',)\": 0.125, \"('a',)\": 0.125, '<unk>': 0.125}\n",
      "[QP] {'([IN], [CD])': 0.01639344262295082, '([CD], [CC], [RB])': 0.01639344262295082, '([RB], [JJR], [IN], [CD])': 0.01639344262295082, '([CD], [TO], [CD])': 0.01639344262295082, '([RB], [NN])': 0.01639344262295082, '([RBR], [IN], [CD])': 0.01639344262295082, '([CC], [RBR])': 0.01639344262295082, '([JJR], [IN], [CD], [CD])': 0.01639344262295082, '([CC], [CD])': 0.01639344262295082, '([RB],)': 0.01639344262295082, '([IN], [#], [CD], [CD])': 0.01639344262295082, '([IN], [JJS], [DT])': 0.01639344262295082, '([JJR], [IN], [DT])': 0.01639344262295082, '([RB], [IN], [CD], [CD])': 0.01639344262295082, '([DT], [JJ], [CD])': 0.01639344262295082, '([$], [CD], [CD])': 0.01639344262295082, '([#], [CD], [CD])': 0.01639344262295082, '([DT], [CD])': 0.01639344262295082, '([RP], [CD])': 0.01639344262295082, '([JJ], [CD], [CD])': 0.01639344262295082, '([DT], [$], [CD], [CD])': 0.01639344262295082, '([CD], [CD])': 0.01639344262295082, '([RB], [RB], [$], [CD])': 0.01639344262295082, '([IN], [TO], [CD])': 0.01639344262295082, '([IN], [JJS], [CD])': 0.01639344262295082, '([RB], [JJ])': 0.01639344262295082, '([JJR], [IN], [$], [CD])': 0.01639344262295082, '([IN], [$], [CD])': 0.01639344262295082, '([CD], [NNS])': 0.01639344262295082, '([CC], [RB])': 0.01639344262295082, '([IN], [TO], [$], [CD])': 0.01639344262295082, '([RBR], [IN], [DT])': 0.01639344262295082, '([-NONE-],)': 0.01639344262295082, '([RBR], [IN], [CD], [NNS])': 0.01639344262295082, '([CD], [CC], [CD])': 0.01639344262295082, '([CD], [CC], [JJR])': 0.01639344262295082, '([IN], [CD], [CD])': 0.01639344262295082, '([RB], [$], [CD])': 0.01639344262295082, '([IN], [IN], [CD])': 0.01639344262295082, '([CD], [IN], [CD])': 0.01639344262295082, '([DT], [CD], [CD])': 0.01639344262295082, '([RB], [IN], [CD])': 0.01639344262295082, '([RB], [$], [CD], [CD])': 0.01639344262295082, '([JJR], [IN], [CD])': 0.01639344262295082, '([JJR], [IN], [PDT])': 0.01639344262295082, '([RB], [RB], [DT])': 0.01639344262295082, '([RB], [CD])': 0.01639344262295082, '([JJR], [IN], [DT], [JJ])': 0.01639344262295082, '([RB], [CD], [CD])': 0.01639344262295082, '([JJ], [IN], [CD], [NNS])': 0.01639344262295082, '([RB], [DT], [JJ])': 0.01639344262295082, '([DT], [NN], [IN], [CD])': 0.01639344262295082, '([CC], [JJR])': 0.01639344262295082, '([IN], [$], [CD], [CD])': 0.01639344262295082, '([RB], [DT], [NN])': 0.01639344262295082, '([JJ], [NNS])': 0.01639344262295082, '([RB], [JJ], [IN], [DT])': 0.01639344262295082, '([IN], [JJS], [DT], [NN])': 0.01639344262295082, '([RB], [DT])': 0.01639344262295082, '([RB], [JJ], [IN], [CD])': 0.01639344262295082, '<unk>': 0.01639344262295082}\n",
      "[IN] {\"('including',)\": 0.008695652173913044, \"('unlike',)\": 0.008695652173913044, \"('whether',)\": 0.008695652173913044, \"('under',)\": 0.008695652173913044, \"('for',)\": 0.008695652173913044, \"('With',)\": 0.008695652173913044, \"('While',)\": 0.008695652173913044, \"('once',)\": 0.008695652173913044, \"('around',)\": 0.008695652173913044, \"('Over',)\": 0.008695652173913044, \"('On',)\": 0.008695652173913044, \"('upon',)\": 0.008695652173913044, \"('Behind',)\": 0.008695652173913044, \"('Without',)\": 0.008695652173913044, \"('next',)\": 0.008695652173913044, \"('OF',)\": 0.008695652173913044, \"('without',)\": 0.008695652173913044, \"('while',)\": 0.008695652173913044, \"('By',)\": 0.008695652173913044, \"('Though',)\": 0.008695652173913044, \"('between',)\": 0.008695652173913044, \"('Whereas',)\": 0.008695652173913044, \"('toward',)\": 0.008695652173913044, \"('Against',)\": 0.008695652173913044, \"('although',)\": 0.008695652173913044, \"('across',)\": 0.008695652173913044, \"('Until',)\": 0.008695652173913044, \"('Like',)\": 0.008695652173913044, \"('amid',)\": 0.008695652173913044, \"('Although',)\": 0.008695652173913044, \"('About',)\": 0.008695652173913044, \"('against',)\": 0.008695652173913044, \"('From',)\": 0.008695652173913044, \"('Unlike',)\": 0.008695652173913044, \"('with',)\": 0.008695652173913044, \"('outside',)\": 0.008695652173913044, \"('and',)\": 0.008695652173913044, \"('Along',)\": 0.008695652173913044, \"('behind',)\": 0.008695652173913044, \"('vs.',)\": 0.008695652173913044, \"('off',)\": 0.008695652173913044, \"('about',)\": 0.008695652173913044, \"('within',)\": 0.008695652173913044, \"('ago',)\": 0.008695652173913044, \"('Because',)\": 0.008695652173913044, \"('worth',)\": 0.008695652173913044, \"('of',)\": 0.008695652173913044, \"('on',)\": 0.008695652173913044, \"('down',)\": 0.008695652173913044, \"('from',)\": 0.008695652173913044, \"('Under',)\": 0.008695652173913044, \"('because',)\": 0.008695652173913044, \"('except',)\": 0.008695652173913044, \"('Among',)\": 0.008695652173913044, \"('During',)\": 0.008695652173913044, \"('Unless',)\": 0.008695652173913044, \"('to',)\": 0.008695652173913044, \"('that',)\": 0.008695652173913044, \"('like',)\": 0.008695652173913044, \"('unless',)\": 0.008695652173913044, \"('But',)\": 0.008695652173913044, \"('Than',)\": 0.008695652173913044, \"('In',)\": 0.008695652173913044, \"('Besides',)\": 0.008695652173913044, \"('beyond',)\": 0.008695652173913044, \"('via',)\": 0.008695652173913044, \"('among',)\": 0.008695652173913044, \"('Once',)\": 0.008695652173913044, \"('into',)\": 0.008695652173913044, \"('If',)\": 0.008695652173913044, \"('As',)\": 0.008695652173913044, \"('far',)\": 0.008695652173913044, \"('by',)\": 0.008695652173913044, \"('complicated',)\": 0.008695652173913044, \"('Since',)\": 0.008695652173913044, \"('After',)\": 0.008695652173913044, \"('@',)\": 0.008695652173913044, \"('Despite',)\": 0.008695652173913044, \"('near',)\": 0.008695652173913044, \"('after',)\": 0.008695652173913044, \"('At',)\": 0.008695652173913044, \"('notwithstanding',)\": 0.008695652173913044, \"('a',)\": 0.008695652173913044, \"('out',)\": 0.008695652173913044, \"('at',)\": 0.008695652173913044, \"('de',)\": 0.008695652173913044, \"('before',)\": 0.008695652173913044, \"('per',)\": 0.008695652173913044, \"('until',)\": 0.008695652173913044, \"('Of',)\": 0.008695652173913044, \"('Except',)\": 0.008695652173913044, \"('onto',)\": 0.008695652173913044, \"('though',)\": 0.008695652173913044, \"('are',)\": 0.008695652173913044, \"('if',)\": 0.008695652173913044, \"('over',)\": 0.008695652173913044, \"('above',)\": 0.008695652173913044, \"('below',)\": 0.008695652173913044, \"('which',)\": 0.008695652173913044, \"('throughout',)\": 0.008695652173913044, \"('during',)\": 0.008695652173913044, \"('along',)\": 0.008695652173913044, \"('OVER',)\": 0.008695652173913044, \"('up',)\": 0.008695652173913044, \"('despite',)\": 0.008695652173913044, \"('Before',)\": 0.008695652173913044, \"('so',)\": 0.008695652173913044, \"('since',)\": 0.008695652173913044, \"('For',)\": 0.008695652173913044, \"('through',)\": 0.008695652173913044, \"('in',)\": 0.008695652173913044, \"('as',)\": 0.008695652173913044, \"('than',)\": 0.008695652173913044, \"('So',)\": 0.008695652173913044, '<unk>': 0.008695652173913044}\n",
      "[SBAR-ADV] {'([VBN], [,], [IN], [S])': 0.05263157894736842, '([RB], [IN], [S])': 0.05263157894736842, '([ADVP], [IN], [S])': 0.05263157894736842, '([WHNP': 0.21052631578947367, '([IN], [CC], [WHADVP': 0.05263157894736842, '([NN], [S])': 0.05263157894736842, '([SBAR], [CC], [SBAR])': 0.05263157894736842, '([SBAR], [:], [CC], [SBAR])': 0.05263157894736842, '([IN], [IN], [S])': 0.05263157894736842, '([IN], [S], [CC], [RB])': 0.05263157894736842, '([IN], [S])': 0.05263157894736842, '([SINV],)': 0.05263157894736842, '([IN], [FRAG])': 0.05263157894736842, '([-NONE-],)': 0.05263157894736842, '([IN], [SINV])': 0.05263157894736842, '<unk>': 0.05263157894736842}\n",
      "[PP] {'([ADVP], [PP], [PP])': 0.014492753623188406, '([TO], [S-NOM])': 0.014492753623188406, '([RB], [NP])': 0.014492753623188406, '([RB], [IN], [NP])': 0.014492753623188406, '([IN], [SBAR])': 0.014492753623188406, '([JJ], [NP])': 0.014492753623188406, '([IN], [ADVP], [S-NOM])': 0.014492753623188406, '([CC], [PP])': 0.014492753623188406, '([IN], [CC], [IN], [NP])': 0.014492753623188406, '([IN], [NP-LGS], [SBAR])': 0.014492753623188406, '([IN], [UCP])': 0.014492753623188406, '([IN], [NP-LOC])': 0.014492753623188406, '([ADVP], [IN], [S-NOM])': 0.014492753623188406, '([JJ], [IN], [S-NOM])': 0.014492753623188406, '([RB], [IN], [S-NOM])': 0.014492753623188406, '([VBN], [IN], [NP])': 0.014492753623188406, '([DT], [PP], [CC], [PP])': 0.014492753623188406, '([-NONE-],)': 0.014492753623188406, '([IN], [NP])': 0.014492753623188406, '([IN], [S-NOM])': 0.014492753623188406, '([ADVP], [IN], [NP-LGS])': 0.014492753623188406, '([VBG], [PP])': 0.014492753623188406, '([PP], [,], [PP])': 0.014492753623188406, '([IN], [IN], [NP])': 0.014492753623188406, \"([IN], [``], [NP-TTL], [''])\": 0.014492753623188406, '([PP], [CC], [PP])': 0.014492753623188406, '([TO], [NP])': 0.014492753623188406, '([IN], [``], [S])': 0.014492753623188406, '([IN], [ADJP])': 0.014492753623188406, '([IN], [ADVP-TMP])': 0.014492753623188406, \"([IN], [''], [NP])\": 0.014492753623188406, '([IN], [NP], [,])': 0.014492753623188406, '([NN], [NP])': 0.014492753623188406, '([RBR], [IN], [NP])': 0.014492753623188406, '([IN],)': 0.014492753623188406, '([IN], [NP], [NP-TMP])': 0.014492753623188406, '([ADVP-TMP], [IN], [NP])': 0.014492753623188406, '([PP], [ADVP])': 0.014492753623188406, '([IN], [SBAR-NOM])': 0.014492753623188406, '([RB], [RB], [IN], [NP])': 0.014492753623188406, '([IN], [SBAR-LOC])': 0.014492753623188406, '([IN], [PP-LOC])': 0.014492753623188406, '([ADVP], [TO], [NP])': 0.014492753623188406, '([IN], [S-MNR])': 0.014492753623188406, '([IN], [NP], [.])': 0.014492753623188406, '([CC], [NP])': 0.014492753623188406, '([IN], [NP-LGS])': 0.014492753623188406, '([ADVP], [IN], [NP])': 0.014492753623188406, '([JJ], [IN], [NP])': 0.014492753623188406, '([VBG], [PRN], [NP])': 0.014492753623188406, '([IN], [``], [NP])': 0.014492753623188406, '([VBG], [NP])': 0.014492753623188406, '([IN], [FRAG])': 0.014492753623188406, '([IN], [NP], [ADVP-TMP])': 0.014492753623188406, '([NP-ADV], [IN], [NP])': 0.014492753623188406, '([IN], [NP], [PP-TMP])': 0.014492753623188406, '([RBR], [NP])': 0.014492753623188406, \"([IN], [``], [ADJP], [''])\": 0.014492753623188406, \"([IN], [``], [NP], [''])\": 0.014492753623188406, '([ADVP], [``], [IN], [NP])': 0.014492753623188406, '([IN], [PP-TMP])': 0.014492753623188406, '([IN], [NP-TTL])': 0.014492753623188406, '([CC], [ADVP], [RB], [PP-TMP])': 0.014492753623188406, '([PP], [PP])': 0.014492753623188406, '([VBN], [PP])': 0.014492753623188406, '([IN], [ADVP])': 0.014492753623188406, '([IN], [PP])': 0.014492753623188406, '([DT], [TO], [NP])': 0.014492753623188406, '<unk>': 0.014492753623188406}\n",
      "[ADVP-LOC] {'([RB], [CC], [RB])': 0.07692307692307693, '([-NONE-],)': 0.07692307692307693, '([IN], [NP])': 0.07692307692307693, '([RB], [RB])': 0.07692307692307693, '([DT], [IN])': 0.07692307692307693, '([IN],)': 0.07692307692307693, '([NP], [RB])': 0.07692307692307693, '([RB], [NN])': 0.07692307692307693, '([IN], [RB])': 0.07692307692307693, '([JJ],)': 0.07692307692307693, '([RB], [PP])': 0.07692307692307693, '([RB],)': 0.07692307692307693, '<unk>': 0.07692307692307693}\n",
      "[VBP] {\"('exhaust',)\": 0.0037735849056603774, \"('kill',)\": 0.0037735849056603774, \"('indicate',)\": 0.0037735849056603774, \"('expire',)\": 0.0037735849056603774, \"('represent',)\": 0.0037735849056603774, \"('warn',)\": 0.0037735849056603774, \"('reflect',)\": 0.0037735849056603774, \"('enjoy',)\": 0.0037735849056603774, \"('lock',)\": 0.0037735849056603774, \"('insist',)\": 0.0037735849056603774, \"('cause',)\": 0.0037735849056603774, \"('touch',)\": 0.0037735849056603774, \"('mature',)\": 0.0037735849056603774, \"('understand',)\": 0.0037735849056603774, \"('help',)\": 0.0037735849056603774, \"('pay',)\": 0.0037735849056603774, \"('make',)\": 0.0037735849056603774, \"('agree',)\": 0.0037735849056603774, \"('swim',)\": 0.0037735849056603774, \"('Lure',)\": 0.0037735849056603774, \"('do',)\": 0.0037735849056603774, \"('raise',)\": 0.0037735849056603774, \"('use',)\": 0.0037735849056603774, \"('air',)\": 0.0037735849056603774, \"('suffer',)\": 0.0037735849056603774, \"('permit',)\": 0.0037735849056603774, \"('point',)\": 0.0037735849056603774, \"('applaud',)\": 0.0037735849056603774, \"('ascribe',)\": 0.0037735849056603774, \"('play',)\": 0.0037735849056603774, \"('violate',)\": 0.0037735849056603774, \"('win',)\": 0.0037735849056603774, \"('ripen',)\": 0.0037735849056603774, \"('respond',)\": 0.0037735849056603774, \"('face',)\": 0.0037735849056603774, \"('memorize',)\": 0.0037735849056603774, \"('cry',)\": 0.0037735849056603774, \"('prevent',)\": 0.0037735849056603774, \"('buy',)\": 0.0037735849056603774, \"('hope',)\": 0.0037735849056603774, \"('deem',)\": 0.0037735849056603774, \"('say',)\": 0.0037735849056603774, \"('conduct',)\": 0.0037735849056603774, \"('calculate',)\": 0.0037735849056603774, \"('accept',)\": 0.0037735849056603774, \"('stop',)\": 0.0037735849056603774, \"('read',)\": 0.0037735849056603774, \"('promise',)\": 0.0037735849056603774, \"('resent',)\": 0.0037735849056603774, \"('weigh',)\": 0.0037735849056603774, \"('whistle',)\": 0.0037735849056603774, \"('perpetuate',)\": 0.0037735849056603774, \"('undercut',)\": 0.0037735849056603774, \"('figure',)\": 0.0037735849056603774, \"('draw',)\": 0.0037735849056603774, \"('include',)\": 0.0037735849056603774, \"('live',)\": 0.0037735849056603774, \"('refer',)\": 0.0037735849056603774, \"('approve',)\": 0.0037735849056603774, \"('believe',)\": 0.0037735849056603774, \"('feel',)\": 0.0037735849056603774, \"('concede',)\": 0.0037735849056603774, \"('question',)\": 0.0037735849056603774, \"('contain',)\": 0.0037735849056603774, \"('feed',)\": 0.0037735849056603774, \"('examine',)\": 0.0037735849056603774, \"('commit',)\": 0.0037735849056603774, \"('create',)\": 0.0037735849056603774, \"('fare',)\": 0.0037735849056603774, \"('lengthen',)\": 0.0037735849056603774, \"('intend',)\": 0.0037735849056603774, \"('argue',)\": 0.0037735849056603774, \"('hold',)\": 0.0037735849056603774, \"(''ve',)\": 0.0037735849056603774, \"('plan',)\": 0.0037735849056603774, \"('convey',)\": 0.0037735849056603774, \"('are',)\": 0.0037735849056603774, \"('avoid',)\": 0.0037735849056603774, \"('cater',)\": 0.0037735849056603774, \"('occur',)\": 0.0037735849056603774, \"('battle',)\": 0.0037735849056603774, \"('Do',)\": 0.0037735849056603774, \"('decline',)\": 0.0037735849056603774, \"('pursue',)\": 0.0037735849056603774, \"('look',)\": 0.0037735849056603774, \"('has',)\": 0.0037735849056603774, \"('realize',)\": 0.0037735849056603774, \"('stare',)\": 0.0037735849056603774, \"('work',)\": 0.0037735849056603774, \"('settle',)\": 0.0037735849056603774, \"('lack',)\": 0.0037735849056603774, \"('hang',)\": 0.0037735849056603774, \"('go',)\": 0.0037735849056603774, \"('manage',)\": 0.0037735849056603774, \"('eat',)\": 0.0037735849056603774, \"('build',)\": 0.0037735849056603774, \"('suggest',)\": 0.0037735849056603774, \"('appear',)\": 0.0037735849056603774, \"('trade',)\": 0.0037735849056603774, \"('blip',)\": 0.0037735849056603774, \"('watch',)\": 0.0037735849056603774, \"('decide',)\": 0.0037735849056603774, \"('disapprove',)\": 0.0037735849056603774, \"('provide',)\": 0.0037735849056603774, \"('ask',)\": 0.0037735849056603774, \"('own',)\": 0.0037735849056603774, \"('like',)\": 0.0037735849056603774, \"('mean',)\": 0.0037735849056603774, \"('need',)\": 0.0037735849056603774, \"('espouse',)\": 0.0037735849056603774, \"('bankroll',)\": 0.0037735849056603774, \"('reach',)\": 0.0037735849056603774, \"('arise',)\": 0.0037735849056603774, \"('cite',)\": 0.0037735849056603774, \"('lead',)\": 0.0037735849056603774, \"('hit',)\": 0.0037735849056603774, \"('fear',)\": 0.0037735849056603774, \"('expect',)\": 0.0037735849056603774, \"('worry',)\": 0.0037735849056603774, \"('advise',)\": 0.0037735849056603774, \"('know',)\": 0.0037735849056603774, \"('total',)\": 0.0037735849056603774, \"('ai',)\": 0.0037735849056603774, \"('seem',)\": 0.0037735849056603774, \"('test',)\": 0.0037735849056603774, \"('stem',)\": 0.0037735849056603774, \"('set',)\": 0.0037735849056603774, \"('consist',)\": 0.0037735849056603774, \"('consider',)\": 0.0037735849056603774, \"('return',)\": 0.0037735849056603774, \"('trespass',)\": 0.0037735849056603774, \"('delay',)\": 0.0037735849056603774, \"('invest',)\": 0.0037735849056603774, \"('find',)\": 0.0037735849056603774, \"('flush',)\": 0.0037735849056603774, \"('appeal',)\": 0.0037735849056603774, \"('study',)\": 0.0037735849056603774, \"('pine',)\": 0.0037735849056603774, \"('loom',)\": 0.0037735849056603774, \"('view',)\": 0.0037735849056603774, \"('pull',)\": 0.0037735849056603774, \"('range',)\": 0.0037735849056603774, \"('amass',)\": 0.0037735849056603774, \"('ease',)\": 0.0037735849056603774, \"('evoke',)\": 0.0037735849056603774, \"('ring',)\": 0.0037735849056603774, \"('describe',)\": 0.0037735849056603774, \"('stand',)\": 0.0037735849056603774, \"('attract',)\": 0.0037735849056603774, \"('spend',)\": 0.0037735849056603774, \"('weaken',)\": 0.0037735849056603774, \"('conclude',)\": 0.0037735849056603774, \"('suspect',)\": 0.0037735849056603774, \"('fly',)\": 0.0037735849056603774, \"('conflict',)\": 0.0037735849056603774, \"('tend',)\": 0.0037735849056603774, \"('let',)\": 0.0037735849056603774, \"('succeed',)\": 0.0037735849056603774, \"('get',)\": 0.0037735849056603774, \"('assume',)\": 0.0037735849056603774, \"('predict',)\": 0.0037735849056603774, \"('transcribe',)\": 0.0037735849056603774, \"('profess',)\": 0.0037735849056603774, \"('hire',)\": 0.0037735849056603774, \"('channel',)\": 0.0037735849056603774, \"('tell',)\": 0.0037735849056603774, \"('deal',)\": 0.0037735849056603774, \"('spook',)\": 0.0037735849056603774, \"('note',)\": 0.0037735849056603774, \"('refuse',)\": 0.0037735849056603774, \"('jet',)\": 0.0037735849056603774, \"('stretch',)\": 0.0037735849056603774, \"('require',)\": 0.0037735849056603774, \"('approach',)\": 0.0037735849056603774, \"('show',)\": 0.0037735849056603774, \"('add',)\": 0.0037735849056603774, \"('carry',)\": 0.0037735849056603774, \"('fall',)\": 0.0037735849056603774, \"('recede',)\": 0.0037735849056603774, \"(''re',)\": 0.0037735849056603774, \"('claim',)\": 0.0037735849056603774, \"('prefer',)\": 0.0037735849056603774, \"('operate',)\": 0.0037735849056603774, \"('charge',)\": 0.0037735849056603774, \"('constitute',)\": 0.0037735849056603774, \"('sound',)\": 0.0037735849056603774, \"('eliminate',)\": 0.0037735849056603774, \"('assist',)\": 0.0037735849056603774, \"('mirror',)\": 0.0037735849056603774, \"('possess',)\": 0.0037735849056603774, \"('come',)\": 0.0037735849056603774, \"('teach',)\": 0.0037735849056603774, \"('complain',)\": 0.0037735849056603774, \"('fail',)\": 0.0037735849056603774, \"('materialize',)\": 0.0037735849056603774, \"('keep',)\": 0.0037735849056603774, \"('propose',)\": 0.0037735849056603774, \"('continue',)\": 0.0037735849056603774, \"('subscribe',)\": 0.0037735849056603774, \"('run',)\": 0.0037735849056603774, \"('differ',)\": 0.0037735849056603774, \"('send',)\": 0.0037735849056603774, \"('beat',)\": 0.0037735849056603774, \"('call',)\": 0.0037735849056603774, \"('print',)\": 0.0037735849056603774, \"('start',)\": 0.0037735849056603774, \"('import',)\": 0.0037735849056603774, \"('sidestep',)\": 0.0037735849056603774, \"('account',)\": 0.0037735849056603774, \"('walk',)\": 0.0037735849056603774, \"('want',)\": 0.0037735849056603774, \"('drive',)\": 0.0037735849056603774, \"('advocate',)\": 0.0037735849056603774, \"('exceed',)\": 0.0037735849056603774, \"('urge',)\": 0.0037735849056603774, \"('sell',)\": 0.0037735849056603774, \"('begin',)\": 0.0037735849056603774, \"('portray',)\": 0.0037735849056603774, \"('place',)\": 0.0037735849056603774, \"('belong',)\": 0.0037735849056603774, \"('underscore',)\": 0.0037735849056603774, \"('oppose',)\": 0.0037735849056603774, \"('test-drive',)\": 0.0037735849056603774, \"('dislike',)\": 0.0037735849056603774, \"('telegraph',)\": 0.0037735849056603774, \"('give',)\": 0.0037735849056603774, \"('have',)\": 0.0037735849056603774, \"('drift',)\": 0.0037735849056603774, \"('allow',)\": 0.0037735849056603774, \"('seek',)\": 0.0037735849056603774, \"('take',)\": 0.0037735849056603774, \"('swing',)\": 0.0037735849056603774, \"('denounce',)\": 0.0037735849056603774, \"('skip',)\": 0.0037735849056603774, \"('improve',)\": 0.0037735849056603774, \"('receive',)\": 0.0037735849056603774, \"('talk',)\": 0.0037735849056603774, \"('mention',)\": 0.0037735849056603774, \"('recognize',)\": 0.0037735849056603774, \"('disagree',)\": 0.0037735849056603774, \"('see',)\": 0.0037735849056603774, \"('drink',)\": 0.0037735849056603774, \"('dismiss',)\": 0.0037735849056603774, \"('contrast',)\": 0.0037735849056603774, \"('regard',)\": 0.0037735849056603774, \"('voice',)\": 0.0037735849056603774, \"('tune',)\": 0.0037735849056603774, \"('deserve',)\": 0.0037735849056603774, \"('meet',)\": 0.0037735849056603774, \"('extend',)\": 0.0037735849056603774, \"('promote',)\": 0.0037735849056603774, \"('copy',)\": 0.0037735849056603774, \"('offer',)\": 0.0037735849056603774, \"('encourage',)\": 0.0037735849056603774, \"(''m',)\": 0.0037735849056603774, \"('change',)\": 0.0037735849056603774, \"('rise',)\": 0.0037735849056603774, \"('think',)\": 0.0037735849056603774, \"('engage',)\": 0.0037735849056603774, \"('imply',)\": 0.0037735849056603774, \"('mark',)\": 0.0037735849056603774, \"('state',)\": 0.0037735849056603774, \"('become',)\": 0.0037735849056603774, \"('jostle',)\": 0.0037735849056603774, '<unk>': 0.0037735849056603774}\n",
      "[WDT] {\"('That',)\": 0.14285714285714285, \"('whichever',)\": 0.14285714285714285, \"('which',)\": 0.14285714285714285, \"('THAT',)\": 0.14285714285714285, \"('that',)\": 0.14285714285714285, \"('what',)\": 0.14285714285714285, '<unk>': 0.14285714285714285}\n",
      "[S-HLN] {'([NP-SBJ], [VP], [:])': 0.16666666666666666, '([NP-SBJ': 0.3333333333333333, '([NP-SBJ], [VP], [.])': 0.16666666666666666, '([NP-SBJ], [VP])': 0.16666666666666666, '<unk>': 0.16666666666666666}\n",
      "[S {'([NP-SBJ], [VP])': 0.15, '([NP-SBJ], [PRN], [VP], [.])': 0.05, '([NP-SBJ], [VP], [.])': 0.15, '([S], [,], [NP-SBJ': 0.05, '([NP-SBJ': 0.25, '([PP], [,], [NP-SBJ], [VP])': 0.05, '([ADVP], [PRN], [NP-SBJ], [VP])': 0.05, '([S-NOM-SBJ], [VP])': 0.05, '([PP], [,], [NP-SBJ': 0.05, '([PRN], [NP-SBJ], [VP])': 0.05, '([CC], [NP-SBJ], [VP], [.])': 0.05, '<unk>': 0.05}\n",
      "[WP] {\"('what',)\": 0.16666666666666666, \"('whom',)\": 0.16666666666666666, \"('Who',)\": 0.16666666666666666, \"('who',)\": 0.16666666666666666, \"('What',)\": 0.16666666666666666, '<unk>': 0.16666666666666666}\n",
      "[NP {'([NNS],)': 0.04, '([NP], [VP])': 0.02, '([NP], [PP-DIR])': 0.02, '([PRP$], [NN])': 0.02, '([NP], [PP])': 0.04, '([$], [CD], [-NONE-])': 0.04, '([QP], [-NONE-])': 0.04, '([PRP],)': 0.06, '([NNP],)': 0.04, '([QP], [DT], [VBN], [NN])': 0.02, '([SBAR-NOM], [CC], [NP])': 0.02, '([ADVP], [NP], [SBAR])': 0.02, '([-NONE-],)': 0.1, '([NNP], [NNP])': 0.02, '([NP],)': 0.02, '([NP], [:], [NP])': 0.02, '([DT], [NN])': 0.06, '([NN], [NNS])': 0.02, '([DT], [NNP], [NN])': 0.02, '([NP], [NNS])': 0.02, '([DT], [JJ], [NN])': 0.04, '([NP], [CC], [NP])': 0.04, '([DT], [NNP])': 0.02, '([NNP], [NNPS])': 0.02, '([NP], [NN])': 0.02, '([JJ], [NN], [NNS])': 0.02, '([DT], [NNP], [NNP])': 0.02, '([JJ], [NNP], [NNP])': 0.02, '([JJ], [NNS])': 0.02, '([NN], [NN])': 0.02, '([NP], [,], [SBAR], [,])': 0.02, '([NNP], [NN], [NNS])': 0.02, '([NNP], [NNP], [NNS])': 0.02, '([DT], [NNS])': 0.02, '<unk>': 0.02}\n",
      "[RP] {\"('off',)\": 0.0625, \"('on',)\": 0.0625, \"('out',)\": 0.0625, \"('about',)\": 0.0625, \"('over',)\": 0.0625, \"('away',)\": 0.0625, \"('down',)\": 0.0625, \"('across',)\": 0.0625, \"('up',)\": 0.0625, \"('through',)\": 0.0625, \"('back',)\": 0.0625, \"('together',)\": 0.0625, \"('for',)\": 0.0625, \"('around',)\": 0.0625, \"('in',)\": 0.0625, '<unk>': 0.0625}\n",
      "[NX] {'([JJS], [JJ], [NN])': 0.03333333333333333, '([JJS], [NN])': 0.03333333333333333, '([JJ], [NN])': 0.03333333333333333, '([NX-TTL], [CC], [NX-TTL])': 0.03333333333333333, '([DT], [NN])': 0.03333333333333333, '([NX], [CC], [NX])': 0.03333333333333333, '([NNS],)': 0.03333333333333333, '([DT], [JJ], [NN])': 0.03333333333333333, '([JJS], [NN], [NN])': 0.03333333333333333, '([JJ], [NN], [NN])': 0.03333333333333333, '([JJ], [NN], [NNS])': 0.03333333333333333, '([JJ], [NNS])': 0.03333333333333333, '([NNP], [NNP], [NN])': 0.03333333333333333, '([NN],)': 0.03333333333333333, '([NN], [NNS])': 0.03333333333333333, '([NN], [VBG], [NN])': 0.03333333333333333, '([NX], [PP])': 0.03333333333333333, '([NNP], [NN])': 0.03333333333333333, '([NN], [NN], [NN])': 0.03333333333333333, '([NNP], [NNP])': 0.03333333333333333, '([VBN], [NNS])': 0.03333333333333333, '([-NONE-],)': 0.03333333333333333, '([NNP], [NNP], [NNP])': 0.03333333333333333, '([JJ], [JJ], [NN])': 0.03333333333333333, '([NNS], [NN])': 0.03333333333333333, '([NN], [NN])': 0.03333333333333333, '([NX], [CC], [NX], [PP': 0.03333333333333333, '([NN], [JJ], [NN])': 0.03333333333333333, '([JJ], [JJ], [NNS])': 0.03333333333333333, '<unk>': 0.03333333333333333}\n",
      "[PP-DIR] {'([IN], [NP], [PP-TMP])': 0.05555555555555555, '([TO], [VP])': 0.05555555555555555, '([IN], [NP], [NP-TMP])': 0.05555555555555555, '([IN], [NP-TMP])': 0.05555555555555555, '([TO], [NP])': 0.05555555555555555, '([IN], [ADVP-TMP])': 0.05555555555555555, '([TO], [NP], [PP-TMP])': 0.05555555555555555, '([PP], [PP])': 0.05555555555555555, '([ADVP], [IN], [SBAR-NOM])': 0.05555555555555555, '([IN], [NP])': 0.05555555555555555, '([PP], [CC], [PP])': 0.05555555555555555, '([PP], [PP], [NP-ADV': 0.05555555555555555, '([ADVP], [IN], [NP])': 0.05555555555555555, '([IN], [PP])': 0.05555555555555555, '([-NONE-],)': 0.05555555555555555, '([IN], [NP], [ADVP-TMP])': 0.05555555555555555, '([IN], [CC], [IN], [NP])': 0.05555555555555555, '<unk>': 0.05555555555555555}\n",
      "[PRP] {\"('himself',)\": 0.038461538461538464, \"('we',)\": 0.038461538461538464, \"('itself',)\": 0.038461538461538464, \"('She',)\": 0.038461538461538464, \"('he',)\": 0.038461538461538464, \"('yourself',)\": 0.038461538461538464, \"('her',)\": 0.038461538461538464, \"('You',)\": 0.038461538461538464, \"('It',)\": 0.038461538461538464, \"('him',)\": 0.038461538461538464, \"('it',)\": 0.038461538461538464, \"('We',)\": 0.038461538461538464, \"('me',)\": 0.038461538461538464, \"('one',)\": 0.038461538461538464, \"('herself',)\": 0.038461538461538464, \"('she',)\": 0.038461538461538464, \"('you',)\": 0.038461538461538464, \"('they',)\": 0.038461538461538464, \"('I',)\": 0.038461538461538464, \"('He',)\": 0.038461538461538464, \"('us',)\": 0.038461538461538464, \"('them',)\": 0.038461538461538464, \"('They',)\": 0.038461538461538464, \"('themselves',)\": 0.038461538461538464, \"('IT',)\": 0.038461538461538464, '<unk>': 0.038461538461538464}\n",
      "[NP-TTL-SBJ] {'([NNP],)': 0.14285714285714285, '([PRP], [NNP], [NNP], [NNP])': 0.14285714285714285, '([DT], [NNP], [NNP])': 0.14285714285714285, '([DT], [NNP], [NNP], [NNP])': 0.14285714285714285, '([NNP], [NNPS])': 0.14285714285714285, '([NNP], [NNP])': 0.14285714285714285, '<unk>': 0.14285714285714285}\n",
      "[ADJP-PRD] {'([RBR], [JJ], [PP])': 0.0136986301369863, '([VBD],)': 0.0136986301369863, '([NP-ADV], [JJ])': 0.0136986301369863, '([JJR], [CC], [JJR], [SBAR])': 0.0136986301369863, '([ADJP], [CC], [ADJP])': 0.0136986301369863, '([RB], [RB])': 0.0136986301369863, \"([``], [VBN], [''], [PP-CLR])\": 0.0136986301369863, '([NP-ADV], [RB], [PP-DIR])': 0.0136986301369863, '([RB], [JJ], [S])': 0.0136986301369863, '([ADJP], [,], [ADJP])': 0.0136986301369863, '([JJ], [RBR])': 0.0136986301369863, \"([``], [RB], [VBN], [''])\": 0.0136986301369863, '([RB], [VBN], [S])': 0.0136986301369863, '([JJ], [PP])': 0.0136986301369863, '([JJ], [PP], [``], [PP])': 0.0136986301369863, '([JJ], [RB], [S])': 0.0136986301369863, '([RB], [JJ], [SBAR])': 0.0136986301369863, '([RB], [SBAR])': 0.0136986301369863, '([JJ],)': 0.0136986301369863, '([JJ], [PP-TMP])': 0.0136986301369863, '([JJ], [S])': 0.0136986301369863, '([JJ], [NP-TMP])': 0.0136986301369863, '([RB], [S-CLR])': 0.0136986301369863, '([RBR], [JJ], [SBAR])': 0.0136986301369863, '([RB],)': 0.0136986301369863, '([RBR], [JJ], [S])': 0.0136986301369863, '([RB], [JJR])': 0.0136986301369863, '([VBN], [PP])': 0.0136986301369863, '([NP-ADV], [JJR])': 0.0136986301369863, '([RB], [JJ], [CC], [JJ])': 0.0136986301369863, \"([``], [JJ], [''])\": 0.0136986301369863, '([RBS], [JJ])': 0.0136986301369863, '([-NONE-],)': 0.0136986301369863, '([JJ], [CC], [JJ], [PP])': 0.0136986301369863, '([ADVP], [JJ])': 0.0136986301369863, '([JJ], [NP-TMP], [PP])': 0.0136986301369863, '([UH],)': 0.0136986301369863, '([RB], [JJ], [PP])': 0.0136986301369863, '([VB],)': 0.0136986301369863, '([JJR], [IN])': 0.0136986301369863, '([ADJP], [PP])': 0.0136986301369863, '([JJ], [PP-LOC])': 0.0136986301369863, '([JJS],)': 0.0136986301369863, '([VBN], [NP], [PP])': 0.0136986301369863, '([RB], [VBG], [PP])': 0.0136986301369863, '([VBN], [SBAR])': 0.0136986301369863, '([NN],)': 0.0136986301369863, '([VBN],)': 0.0136986301369863, '([IN], [NP])': 0.0136986301369863, '([JJ], [SBAR])': 0.0136986301369863, '([QP], [JJR])': 0.0136986301369863, '([RBR], [JJ])': 0.0136986301369863, '([RB], [RBR], [JJ])': 0.0136986301369863, '([ADJP], [S])': 0.0136986301369863, '([RB], [JJ])': 0.0136986301369863, '([IN], [S-NOM])': 0.0136986301369863, '([VBG],)': 0.0136986301369863, '([ADJP], [CC], [RB], [ADJP])': 0.0136986301369863, '([RB], [VBN], [PP])': 0.0136986301369863, '([ADJP], [CC], [ADJP], [SBAR': 0.0136986301369863, '([RB], [JJ], [PP-LOC])': 0.0136986301369863, '([JJ], [,], [RB], [JJ])': 0.0136986301369863, '([ADJP], [SBAR])': 0.0136986301369863, '([RBR], [VBN])': 0.0136986301369863, '([JJR],)': 0.0136986301369863, '([JJ], [CC], [JJ])': 0.0136986301369863, '([JJ], [PP-DIR])': 0.0136986301369863, '([JJR], [SBAR])': 0.0136986301369863, '([JJR], [PP])': 0.0136986301369863, '([ADVP], [IN], [JJ], [PP])': 0.0136986301369863, '([RB], [VBN])': 0.0136986301369863, '([JJ], [NP])': 0.0136986301369863, '<unk>': 0.0136986301369863}\n",
      "[ADJP] {'([JJ], [RB], [SBAR])': 0.011363636363636364, '([QP], [-NONE-])': 0.011363636363636364, '([ADVP-TMP], [RB], [JJ])': 0.011363636363636364, '([RB], [RB], [JJ])': 0.011363636363636364, '([CD], [NNS])': 0.011363636363636364, '([JJ], [,], [CC], [JJ])': 0.011363636363636364, '([NN],)': 0.011363636363636364, '([JJ], [RB])': 0.011363636363636364, '([VB], [JJR])': 0.011363636363636364, '([JJ], [JJR])': 0.011363636363636364, '([JJR], [JJ])': 0.011363636363636364, '([RB], [JJ], [CC], [JJ])': 0.011363636363636364, '([RBS], [RB], [JJ])': 0.011363636363636364, '([CD], [NN])': 0.011363636363636364, '([JJR], [CC], [JJR])': 0.011363636363636364, '([ADVP-TMP], [VBN])': 0.011363636363636364, '([JJ], [NP-TMP])': 0.011363636363636364, '([JJ], [PRN])': 0.011363636363636364, '([RBR], [JJ], [PP])': 0.011363636363636364, '([JJ], [CC], [NNP])': 0.011363636363636364, '([NP], [JJ])': 0.011363636363636364, '([RB],)': 0.011363636363636364, '([RB], [RB], [S])': 0.011363636363636364, '([CD], [CD], [NN])': 0.011363636363636364, '([JJ], [PP])': 0.011363636363636364, '([VBN], [PP-CLR])': 0.011363636363636364, '([$], [JJ], [-NONE-])': 0.011363636363636364, '([DT],)': 0.011363636363636364, '([QP], [NN])': 0.011363636363636364, '([QP], [JJR])': 0.011363636363636364, '([JJ], [JJ])': 0.011363636363636364, '([NNS], [PRN], [VBN])': 0.011363636363636364, '([VBN],)': 0.011363636363636364, '([RB], [VBN], [PRT], [PP])': 0.011363636363636364, '([JJR], [PP])': 0.011363636363636364, '([RBS], [JJ])': 0.011363636363636364, '([NP-ADV], [JJR])': 0.011363636363636364, '([RB], [VBN])': 0.011363636363636364, '([JJR],)': 0.011363636363636364, '([RB], [JJ], [PP])': 0.011363636363636364, '([VBG], [CC], [VBG])': 0.011363636363636364, '([ADJP], [PP])': 0.011363636363636364, '([RB], [RB], [JJ], [PP])': 0.011363636363636364, '([JJR], [VBN])': 0.011363636363636364, '([JJ], [JJS])': 0.011363636363636364, '([NNP], [NNP])': 0.011363636363636364, '([JJ], [CC], [VBG])': 0.011363636363636364, '([ADVP], [RB], [JJR])': 0.011363636363636364, '([-NONE-],)': 0.011363636363636364, '([ADVP], [JJ])': 0.011363636363636364, '([JJ], [SBAR])': 0.011363636363636364, '([NNP], [,], [JJ])': 0.011363636363636364, '([QP], [RB], [JJ])': 0.011363636363636364, '([RB], [RBR], [JJ])': 0.011363636363636364, '([NN], [NN])': 0.011363636363636364, '([NP-ADV], [JJ])': 0.011363636363636364, '([JJ], [PP-TMP])': 0.011363636363636364, '([RB], [JJ], [PP-LOC])': 0.011363636363636364, '([NNS], [CC], [NNS])': 0.011363636363636364, '([ADVP-TMP], [JJ])': 0.011363636363636364, '([JJ], [S])': 0.011363636363636364, '([ADJP], [,], [CC], [ADJP])': 0.011363636363636364, '([JJ], [PP-LOC])': 0.011363636363636364, '([RB], [JJ])': 0.011363636363636364, '([ADJP], [CC], [ADJP])': 0.011363636363636364, '([NN], [JJ])': 0.011363636363636364, '([RB], [DT])': 0.011363636363636364, '([RBS], [VBN])': 0.011363636363636364, '([$], [CD], [-NONE-])': 0.011363636363636364, '([RB], [RB], [PP], [S])': 0.011363636363636364, '([JJ], [CC], [JJ])': 0.011363636363636364, '([NN], [RB], [SBAR])': 0.011363636363636364, '([RBR], [JJ])': 0.011363636363636364, '([RB], [RB])': 0.011363636363636364, '([JJS], [JJ], [S])': 0.011363636363636364, '([JJ],)': 0.011363636363636364, '([RB], [JJR])': 0.011363636363636364, '([$], [CD], [JJ])': 0.011363636363636364, '([JJS], [JJ])': 0.011363636363636364, '([RB], [VBG])': 0.011363636363636364, '([JJ], [CD], [NN])': 0.011363636363636364, '([NNP], [JJ])': 0.011363636363636364, '([ADVP], [JJ], [PP])': 0.011363636363636364, '([VBN], [PP])': 0.011363636363636364, '([RB], [JJR], [IN])': 0.011363636363636364, '([ADVP], [VBN])': 0.011363636363636364, '([DT], [ADJP], [CC], [ADJP])': 0.011363636363636364, '<unk>': 0.011363636363636364}\n",
      "[S-PRP] {'([S], [CC], [S])': 0.125, '([NP-SBJ': 0.375, '([NP-SBJ], [VP])': 0.125, '([ADVP], [NP-SBJ], [VP])': 0.125, '([ADVP], [NP-SBJ': 0.125, '<unk>': 0.125}\n",
      "[SBARQ-NOM] {'([WHNP': 0.3333333333333333, '([WHADVP': 0.3333333333333333, '<unk>': 0.3333333333333333}\n",
      "[S-NOM] {'([NP-SBJ], [IN], [VP])': 0.06666666666666667, '([NP-SBJ': 0.4666666666666667, '([NP-SBJ], [PP-LOC-PRD])': 0.06666666666666667, '([NP-SBJ], [VP])': 0.06666666666666667, '([NP-SBJ], [ADVP-TMP], [VP])': 0.06666666666666667, '([NP-SBJ], [RB], [VP])': 0.06666666666666667, '([NP-SBJ], [VP], [,])': 0.06666666666666667, '([NP-SBJ], [ADVP], [VP])': 0.06666666666666667, '<unk>': 0.06666666666666667}\n",
      "[PP-DTV] {'([TO], [NP])': 0.3333333333333333, '([PP], [,], [CC], [PP])': 0.3333333333333333, '<unk>': 0.3333333333333333}\n",
      "[JJR] {\"('Higher',)\": 0.023255813953488372, \"('more',)\": 0.023255813953488372, \"('riskier',)\": 0.023255813953488372, \"('lighter',)\": 0.023255813953488372, \"('steeper',)\": 0.023255813953488372, \"('greater',)\": 0.023255813953488372, \"('faster',)\": 0.023255813953488372, \"('softer',)\": 0.023255813953488372, \"('younger',)\": 0.023255813953488372, \"('earlier',)\": 0.023255813953488372, \"('worse',)\": 0.023255813953488372, \"('Earlier',)\": 0.023255813953488372, \"('Longer',)\": 0.023255813953488372, \"('sharper',)\": 0.023255813953488372, \"('happier',)\": 0.023255813953488372, \"('stronger',)\": 0.023255813953488372, \"('newer',)\": 0.023255813953488372, \"('higher',)\": 0.023255813953488372, \"('further',)\": 0.023255813953488372, \"('broader',)\": 0.023255813953488372, \"('better',)\": 0.023255813953488372, \"('harder',)\": 0.023255813953488372, \"('Shorter',)\": 0.023255813953488372, \"('older',)\": 0.023255813953488372, \"('slower',)\": 0.023255813953488372, \"('closer',)\": 0.023255813953488372, \"('savvier',)\": 0.023255813953488372, \"('fuller',)\": 0.023255813953488372, \"('longer',)\": 0.023255813953488372, \"('bigger',)\": 0.023255813953488372, \"('Moreover',)\": 0.023255813953488372, \"('lesser',)\": 0.023255813953488372, \"('cleaner',)\": 0.023255813953488372, \"('smaller',)\": 0.023255813953488372, \"('lower',)\": 0.023255813953488372, \"('cheaper',)\": 0.023255813953488372, \"('More',)\": 0.023255813953488372, \"('easier',)\": 0.023255813953488372, \"('larger',)\": 0.023255813953488372, \"('fewer',)\": 0.023255813953488372, \"('less',)\": 0.023255813953488372, \"('stiffer',)\": 0.023255813953488372, '<unk>': 0.023255813953488372}\n",
      "[ADVP-TMP] {'([RB], [RB])': 0.027777777777777776, '([IN], [IN])': 0.027777777777777776, '([NP], [RB])': 0.027777777777777776, '([IN], [RB], [SBAR])': 0.027777777777777776, '([NP], [JJ])': 0.027777777777777776, '([NP-ADV], [PRN])': 0.027777777777777776, '([RB], [.])': 0.027777777777777776, '([RB], [RB], [PP])': 0.027777777777777776, '([IN], [RB])': 0.027777777777777776, '([RBR], [RB])': 0.027777777777777776, '([RBR], [NP])': 0.027777777777777776, '([DT], [RBR])': 0.027777777777777776, '([RB], [RBR])': 0.027777777777777776, '([ADVP], [SBAR])': 0.027777777777777776, '([JJ],)': 0.027777777777777776, '([RB],)': 0.027777777777777776, '([RB], [CC], [RB])': 0.027777777777777776, '([RBS], [RB])': 0.027777777777777776, '([RB], [PP])': 0.027777777777777776, '([RB], [RB], [RB])': 0.027777777777777776, '([NP], [JJR])': 0.027777777777777776, '([RBR],)': 0.027777777777777776, '([NP], [RB], [PP])': 0.027777777777777776, '([JJR],)': 0.027777777777777776, '([ADVP], [PP])': 0.027777777777777776, '([-NONE-],)': 0.027777777777777776, '([NN],)': 0.027777777777777776, '([NP], [IN])': 0.027777777777777776, '([JJ], [RP])': 0.027777777777777776, '([DT], [IN], [DT], [JJ])': 0.027777777777777776, '([RB], [IN])': 0.027777777777777776, '([NP], [RBR])': 0.027777777777777776, '([IN], [JJS], [RB])': 0.027777777777777776, '([IN],)': 0.027777777777777776, '([RB], [JJR])': 0.027777777777777776, '<unk>': 0.027777777777777776}\n",
      "[FW] {\"('de',)\": 0.2, \"('Perestroika',)\": 0.2, \"('etc.',)\": 0.2, \"('besuboru',)\": 0.2, '<unk>': 0.2}\n",
      "[SINV] {'([ADVP], [VP], [NP-SBJ])': 0.05, '([PP-TPC': 0.1, '([PP-LOC-CLR-TPC': 0.05, '([MD], [NP-SBJ], [VP])': 0.05, '([S-TPC': 0.05, '([ADVP-PRD-TPC': 0.1, '([VBZ], [NP-SBJ], [VP])': 0.05, '([VP-TPC': 0.05, '([PP-LOC-PRD-TPC': 0.05, '([MD], [NP-SBJ': 0.05, '([VP], [NP-SBJ])': 0.05, '([-NONE-],)': 0.05, '([VB], [VP], [NP-SBJ])': 0.05, '([PP-LOC-TPC': 0.05, '([VBZ], [NP-SBJ': 0.05, '([ADVP-LOC-PRD-TPC': 0.05, '([VBD], [NP-SBJ], [VP])': 0.05, '<unk>': 0.05}\n",
      "[UCP-PRD] {'([ADJP-PRD], [:], [NP-PRD])': 0.25, '([ADJP], [:], [CC], [PP])': 0.25, '([VP], [CC], [ADJP])': 0.25, '<unk>': 0.25}\n",
      "[PP-LOC] {'([RB],)': 0.058823529411764705, '([RB], [IN], [NP])': 0.058823529411764705, '([PP], [:], [JJ], [PP])': 0.058823529411764705, '([ADVP-TMP], [IN], [NP])': 0.058823529411764705, '([IN], [PP])': 0.058823529411764705, '([NP-ADV], [IN], [NP])': 0.058823529411764705, '([PP], [CC], [PP])': 0.058823529411764705, '([-NONE-],)': 0.058823529411764705, '([ADVP], [IN], [NP])': 0.058823529411764705, '([NNP], [NP])': 0.058823529411764705, '([IN], [SBAR-NOM])': 0.058823529411764705, '([IN], [``], [NP-TTL])': 0.058823529411764705, '([IN], [NP], [:])': 0.058823529411764705, '([IN], [NP])': 0.058823529411764705, '([DT], [IN], [NP])': 0.058823529411764705, '([IN], [S-NOM])': 0.058823529411764705, '<unk>': 0.058823529411764705}\n",
      "[UCP] {'([S], [CC], [SBAR])': 0.07692307692307693, '([JJ], [CC], [NNP], [NNP])': 0.07692307692307693, '([NP], [CC], [ADJP])': 0.07692307692307693, '([NN], [CC], [JJ])': 0.07692307692307693, '([JJ], [CC], [NN])': 0.07692307692307693, '([PP-TMP], [,], [CC], [S])': 0.07692307692307693, '([ADVP], [CC], [PP])': 0.07692307692307693, '([SBAR-TMP], [CC], [S-PRP])': 0.07692307692307693, '([NNP], [CC], [JJ])': 0.07692307692307693, '([NP], [CC], [SBAR])': 0.07692307692307693, '([PP], [PRN])': 0.07692307692307693, '([ADJP], [CC], [NP])': 0.07692307692307693, '<unk>': 0.07692307692307693}\n",
      "[NP-CLR] {'([NN],)': 0.3333333333333333, '([NNS],)': 0.3333333333333333, '<unk>': 0.3333333333333333}\n",
      "[PP-CLR] {'([IN], [ADJP])': 0.03225806451612903, '([RP], [S-NOM])': 0.03225806451612903, '([IN], [``], [NP-TTL])': 0.03225806451612903, '([IN], [S-NOM])': 0.03225806451612903, '([IN], [SBAR])': 0.03225806451612903, '([IN], [``], [NP])': 0.03225806451612903, '([TO], [NP])': 0.03225806451612903, '([PP], [CONJP], [PP])': 0.03225806451612903, '([PP], [CC], [PP])': 0.03225806451612903, '([RB], [ADJP])': 0.03225806451612903, '([IN], [``], [S-NOM])': 0.03225806451612903, '([IN], [NP': 0.03225806451612903, '([TO], [S-NOM])': 0.03225806451612903, '([PP], [,], [CC], [PP])': 0.03225806451612903, '([PP], [,], [ADVP], [PP])': 0.03225806451612903, '([RP], [NP])': 0.03225806451612903, '([IN], [SBAR-NOM])': 0.03225806451612903, '([ADVP], [IN], [NP])': 0.03225806451612903, '([IN],)': 0.03225806451612903, '([IN], [ADVP-TMP])': 0.03225806451612903, \"([IN], [``], [NP], [''])\": 0.03225806451612903, '([PP], [PP], [PP])': 0.03225806451612903, '([TO], [NP': 0.03225806451612903, '([-NONE-],)': 0.03225806451612903, '([RB], [PP], [CC], [PP])': 0.03225806451612903, \"([IN], [''], [NP])\": 0.03225806451612903, '([RB], [NP])': 0.03225806451612903, '([PP], [PP])': 0.03225806451612903, '([IN], [NP])': 0.03225806451612903, '([IN], [PP])': 0.03225806451612903, '<unk>': 0.03225806451612903}\n",
      "[FRAG] {'([FRAG], [:], [FRAG], [.])': 0.029411764705882353, '([ADJP-PRD],)': 0.029411764705882353, '([NP-SBJ': 0.2647058823529412, '([NP-SBJ], [PP-TMP])': 0.029411764705882353, '([S-ADV], [:], [NP], [.])': 0.029411764705882353, '([RB], [NP-TMP], [.])': 0.029411764705882353, '([NP],)': 0.029411764705882353, '([PP], [:], [NP], [.])': 0.029411764705882353, '([NP], [:], [S], [.])': 0.029411764705882353, '([PP],)': 0.029411764705882353, '([NP-SBJ], [,], [NP])': 0.029411764705882353, '([WHNP], [SBAR], [.])': 0.029411764705882353, '([ADVP],)': 0.029411764705882353, '([RB], [PP])': 0.029411764705882353, '([NP-SBJ], [NP])': 0.029411764705882353, '([ADVP-TMP], [ADVP-LOC])': 0.029411764705882353, '([NP], [,], [SBAR-PRP], [.])': 0.029411764705882353, '([NP], [.])': 0.029411764705882353, '([PP-LOC],)': 0.029411764705882353, '([-NONE-],)': 0.029411764705882353, '([ADVP], [ADJP])': 0.029411764705882353, '([ADJP], [.])': 0.029411764705882353, '([NP], [:], [S])': 0.029411764705882353, '([RB], [NP-SBJ])': 0.029411764705882353, '([SBAR-ADV],)': 0.029411764705882353, '<unk>': 0.029411764705882353}\n",
      "[PP-DIR-CLR] {'([IN], [PP])': 0.25, '([IN], [NP])': 0.25, '([TO], [NP])': 0.25, '<unk>': 0.25}\n",
      "[ADVP-DIR-CLR] {'([IN],)': 0.5, '<unk>': 0.5}\n",
      "[RRC] {'([ADJP], [PP-LOC], [PP])': 0.16666666666666666, '([VP],)': 0.16666666666666666, '([PP-TMP], [NP])': 0.16666666666666666, '([ADVP-TMP], [VP])': 0.16666666666666666, '([ADJP], [NP-TMP])': 0.16666666666666666, '<unk>': 0.16666666666666666}\n",
      "[PP-CLR {'([TO], [NP])': 0.5, '([IN], [NP])': 0.25, '<unk>': 0.25}\n",
      "[NP-HLN] {'([NP], [SBAR], [:])': 0.058823529411764705, '([CD], [NNP], [:])': 0.058823529411764705, '([JJ], [NN], [:])': 0.058823529411764705, '([NNP], [NNPS], [:], [.])': 0.058823529411764705, '([NNS], [:])': 0.058823529411764705, '([NP], [PP-LOC], [:])': 0.058823529411764705, '([NP], [PRN], [:])': 0.058823529411764705, '([NNPS], [:])': 0.058823529411764705, '([NN], [:])': 0.058823529411764705, '([NP], [,], [NP], [:])': 0.058823529411764705, '([NNP], [:])': 0.058823529411764705, '([NNPS], [NNP])': 0.058823529411764705, '([NNS], [.])': 0.058823529411764705, '([NP], [,], [NP-LOC], [:])': 0.058823529411764705, '([NNP], [NNP], [:])': 0.058823529411764705, '([NNP], [NNPS], [:])': 0.058823529411764705, '<unk>': 0.058823529411764705}\n",
      "[SBARQ] {'([WHNP': 0.47058823529411764, '([WHADVP': 0.17647058823529413, '([FRAG], [,], [SBARQ], [.])': 0.058823529411764705, '([WHADVP], [SQ], [.])': 0.058823529411764705, '([WRB], [RP], [FRAG], [.])': 0.058823529411764705, '([RB], [WHNP': 0.058823529411764705, '([-NONE-],)': 0.058823529411764705, '<unk>': 0.058823529411764705}\n",
      "[PRP$] {\"('His',)\": 0.07142857142857142, \"('My',)\": 0.07142857142857142, \"('its',)\": 0.07142857142857142, \"('Its',)\": 0.07142857142857142, \"('Their',)\": 0.07142857142857142, \"('their',)\": 0.07142857142857142, \"('her',)\": 0.07142857142857142, \"('Your',)\": 0.07142857142857142, \"('our',)\": 0.07142857142857142, \"('his',)\": 0.07142857142857142, \"('your',)\": 0.07142857142857142, \"('Her',)\": 0.07142857142857142, \"('my',)\": 0.07142857142857142, '<unk>': 0.07142857142857142}\n",
      "[ADVP-PRD] {'([VBN], [PP])': 0.07142857142857142, '([RB], [RB])': 0.07142857142857142, '([RB], [NP], [PP])': 0.07142857142857142, '([IN], [NP])': 0.07142857142857142, '([CD],)': 0.07142857142857142, '([RB], [PP])': 0.07142857142857142, '([RB], [NP])': 0.07142857142857142, '([-NONE-],)': 0.07142857142857142, '([RB],)': 0.07142857142857142, '([IN], [ADVP])': 0.07142857142857142, '([JJ], [NP], [PP])': 0.07142857142857142, '([RP], [S])': 0.07142857142857142, '([RB], [IN])': 0.07142857142857142, '<unk>': 0.07142857142857142}\n",
      "[NP-TMP] {'([NP], [ADVP])': 0.02631578947368421, '([JJ], [DT], [NN])': 0.02631578947368421, '([DT], [JJ], [NN])': 0.02631578947368421, '([NN], [NN])': 0.02631578947368421, '([CD], [NNS])': 0.02631578947368421, '([CD], [CC], [CD])': 0.02631578947368421, '([RBR], [DT], [NN])': 0.02631578947368421, '([RB], [DT], [NN])': 0.02631578947368421, '([DT], [NNS])': 0.02631578947368421, '([NN], [CD])': 0.02631578947368421, '([QP], [NN])': 0.02631578947368421, '([NP], [,], [NP])': 0.02631578947368421, '([NP], [NP-ADV])': 0.02631578947368421, '([NNP], [CD], [,], [CD])': 0.02631578947368421, '([JJ], [NNP], [CD])': 0.02631578947368421, '([JJ], [NNS])': 0.02631578947368421, '([NNP],)': 0.02631578947368421, '([CD],)': 0.02631578947368421, '([NP], [,], [SBAR])': 0.02631578947368421, '([NN],)': 0.02631578947368421, '([NNP], [CD])': 0.02631578947368421, '([CD], [NN])': 0.02631578947368421, '([QP], [NNS])': 0.02631578947368421, '([DT], [JJ], [NN], [NN])': 0.02631578947368421, '([RB], [NN])': 0.02631578947368421, '([DT], [NN])': 0.02631578947368421, '([JJR], [DT], [NN])': 0.02631578947368421, '([NP], [SBAR])': 0.02631578947368421, '([IN], [NN])': 0.02631578947368421, '([NNP], [NN])': 0.02631578947368421, '([NP], [PP])': 0.02631578947368421, '([JJ], [CD])': 0.02631578947368421, '([RB], [JJ], [NN])': 0.02631578947368421, '([JJ], [NN])': 0.02631578947368421, '([DT], [NNP])': 0.02631578947368421, '([IN], [NNP])': 0.02631578947368421, '([JJ], [NNP])': 0.02631578947368421, '<unk>': 0.02631578947368421}\n",
      "[SBAR-NOM] {'([WHNP': 0.7272727272727273, '([WHADVP': 0.13636363636363635, '([IN], [S])': 0.045454545454545456, '([SBAR], [CC], [SBAR])': 0.045454545454545456, '<unk>': 0.045454545454545456}\n",
      "[SBAR-PRP] {'([IN], [NN], [S])': 0.07692307692307693, '([IN], [``], [S])': 0.07692307692307693, '([RB], [S': 0.07692307692307693, '([RB], [IN], [S])': 0.07692307692307693, '([SBAR], [,], [CC], [SBAR-PRP])': 0.07692307692307693, '([WHNP': 0.15384615384615385, '([ADVP], [IN], [S])': 0.07692307692307693, '([WHADVP], [S])': 0.07692307692307693, '([IN], [IN], [S])': 0.07692307692307693, '([WHADVP': 0.07692307692307693, '([IN], [S])': 0.07692307692307693, '<unk>': 0.07692307692307693}\n",
      "[WHPP {'([IN], [WHNP])': 0.75, '<unk>': 0.25}\n",
      "[JJS] {\"('best-selling',)\": 0.03571428571428571, \"('earliest',)\": 0.03571428571428571, \"('most',)\": 0.03571428571428571, \"('best',)\": 0.03571428571428571, \"('fastest',)\": 0.03571428571428571, \"('strongest',)\": 0.03571428571428571, \"('least',)\": 0.03571428571428571, \"('greatest',)\": 0.03571428571428571, \"('brightest',)\": 0.03571428571428571, \"('hottest',)\": 0.03571428571428571, \"('largest',)\": 0.03571428571428571, \"('highest',)\": 0.03571428571428571, \"('smallest',)\": 0.03571428571428571, \"('oldest',)\": 0.03571428571428571, \"('Most',)\": 0.03571428571428571, \"('loveliest',)\": 0.03571428571428571, \"('worst',)\": 0.03571428571428571, \"('finest',)\": 0.03571428571428571, \"('loudest',)\": 0.03571428571428571, \"('busiest',)\": 0.03571428571428571, \"('priciest',)\": 0.03571428571428571, \"('lowest',)\": 0.03571428571428571, \"('biggest',)\": 0.03571428571428571, \"('cheapest',)\": 0.03571428571428571, \"('third-highest',)\": 0.03571428571428571, \"('longest',)\": 0.03571428571428571, \"('latest',)\": 0.03571428571428571, '<unk>': 0.03571428571428571}\n",
      "[CC] {\"('minus',)\": 0.05555555555555555, \"('yet',)\": 0.05555555555555555, \"('plus',)\": 0.05555555555555555, \"('versus',)\": 0.05555555555555555, \"('Or',)\": 0.05555555555555555, \"('either',)\": 0.05555555555555555, \"('&',)\": 0.05555555555555555, \"('Either',)\": 0.05555555555555555, \"('Yet',)\": 0.05555555555555555, \"('v.',)\": 0.05555555555555555, \"('or',)\": 0.05555555555555555, \"('and',)\": 0.05555555555555555, \"('but',)\": 0.05555555555555555, \"('nor',)\": 0.05555555555555555, \"('But',)\": 0.05555555555555555, \"('And',)\": 0.05555555555555555, \"('Nor',)\": 0.05555555555555555, '<unk>': 0.05555555555555555}\n",
      "[#] {\"('#',)\": 0.5, '<unk>': 0.5}\n",
      "[,] {\"('Wa',)\": 0.3333333333333333, \"(',',)\": 0.3333333333333333, '<unk>': 0.3333333333333333}\n",
      "[NX-TTL] {'([NNP], [NNP], [NNP])': 0.14285714285714285, '([NNP], [NNPS])': 0.14285714285714285, '([NNP], [NNP])': 0.14285714285714285, '([NP],)': 0.14285714285714285, '([NP], [PP])': 0.14285714285714285, '([NNP],)': 0.14285714285714285, '<unk>': 0.14285714285714285}\n",
      "[ADVP-PUT] {'([IN], [PP])': 0.5, '<unk>': 0.5}\n",
      "[NP-ADV] {'([DT], [JJS])': 0.05, '([QP], [NN])': 0.05, '([NP], [NP-ADV])': 0.05, '([DT], [NN])': 0.05, '([RB], [DT], [NN])': 0.05, '([CD], [NNS])': 0.05, '([NP], [PP])': 0.05, '([DT], [RB])': 0.05, '([NP], [PP-LOC])': 0.05, '([QP], [-NONE-])': 0.05, '([PRP],)': 0.05, '([$], [CD], [-NONE-])': 0.05, '([NP], [SBAR])': 0.05, '([DT], [NN], [QP])': 0.05, '([DT],)': 0.05, '([QP], [NNS])': 0.05, '([CD], [NN])': 0.05, '([DT], [ADJP])': 0.05, '([-NONE-],)': 0.05, '<unk>': 0.05}\n",
      "[ADVP-PRD-LOC] {'([IN],)': 0.5, '<unk>': 0.5}\n",
      "[NP-TMP {'([JJ], [JJ], [NN])': 0.6666666666666666, '<unk>': 0.3333333333333333}\n",
      "[S-ADV] {'([NP-SBJ': 0.4, '([NP-SBJ], [NP-PRD])': 0.05, '([ADVP], [NP-SBJ], [VP])': 0.05, '([NP-SBJ], [ADVP], [PP-PRD])': 0.05, '([NP-SBJ], [ADVP-TMP], [NP-PRD])': 0.05, '([-NONE-],)': 0.05, '([NP-SBJ], [ADVP-TMP], [VP])': 0.05, '([NP-SBJ], [ADVP-LOC-PRD], [PP])': 0.05, '([NP-SBJ], [ADVP-TMP], [ADJP-PRD])': 0.05, '([NP-SBJ], [ADJP-PRD])': 0.05, '([NP-SBJ], [ADVP], [VP])': 0.05, '([NP-SBJ], [VP])': 0.05, '<unk>': 0.05}\n",
      "[SBAR-LOC] {'([WHADVP': 0.5, '([-NONE-],)': 0.125, '([SBAR], [CC], [SBAR])': 0.125, '([WHPP': 0.125, '<unk>': 0.125}\n",
      "[NP-TTL] {'([DT], [CD], [NNP])': 0.07692307692307693, '([NNP], [NNP], [NNP])': 0.07692307692307693, '([-NONE-],)': 0.07692307692307693, '([NNP],)': 0.07692307692307693, '([NNP], [NNPS])': 0.07692307692307693, '([DT], [NNP], [NNP])': 0.07692307692307693, '([PRP], [NNP], [NNP], [,])': 0.07692307692307693, '([NP], [PP-LOC])': 0.07692307692307693, '([NP], [PP])': 0.07692307692307693, '([DT], [NNP], [NNP], [NNP])': 0.07692307692307693, '([DT], [NNP], [IN], [NNP])': 0.07692307692307693, '([NNP], [NNP])': 0.07692307692307693, '<unk>': 0.07692307692307693}\n",
      "[PP-BNF] {'([IN], [NP])': 0.5, '<unk>': 0.5}\n",
      "[WHADVP {'([-NONE-],)': 0.2857142857142857, '([WRB], [JJ])': 0.14285714285714285, '([WRB], [RB])': 0.07142857142857142, '([WRB],)': 0.35714285714285715, '([IN],)': 0.07142857142857142, '<unk>': 0.07142857142857142}\n",
      "[SBAR-NOM-SBJ] {'([WHNP': 0.7777777777777778, '([WHADVP': 0.1111111111111111, '<unk>': 0.1111111111111111}\n",
      "[S-PRP-CLR] {'([NP-SBJ': 0.3333333333333333, '([NP-SBJ], [VP])': 0.3333333333333333, '<unk>': 0.3333333333333333}\n",
      "[PP-LOC-PRD] {'([IN], [NP])': 0.2, '([-NONE-],)': 0.2, '([ADVP], [IN], [NP])': 0.2, '([RB], [IN], [NP])': 0.2, '<unk>': 0.2}\n",
      "[.] {\"('?',)\": 0.25, \"('.',)\": 0.25, \"('!',)\": 0.25, '<unk>': 0.25}\n",
      "[NP-MNR] {'([NP], [SBAR])': 0.25, '([NNP], [NNP], [NNP])': 0.25, '([DT], [NN])': 0.25, '<unk>': 0.25}\n",
      "[:] {\"('-',)\": 0.16666666666666666, \"('--',)\": 0.16666666666666666, \"(';',)\": 0.16666666666666666, \"('...',)\": 0.16666666666666666, \"(':',)\": 0.16666666666666666, '<unk>': 0.16666666666666666}\n",
      "[PP-PRP] {'([RB], [IN], [NP])': 0.1111111111111111, '([JJ], [PP])': 0.1111111111111111, '([ADVP], [IN], [IN], [NP])': 0.1111111111111111, '([IN], [S-NOM])': 0.1111111111111111, '([IN], [NP])': 0.1111111111111111, '([IN], [IN], [NP])': 0.1111111111111111, '([IN], [IN], [SBAR-NOM])': 0.1111111111111111, '([IN], [PP])': 0.1111111111111111, '<unk>': 0.1111111111111111}\n",
      "[PP {'([RB], [IN], [NP])': 0.058823529411764705, '([IN], [PP-TMP])': 0.058823529411764705, '([IN], [PP-LOC])': 0.058823529411764705, '([IN], [PP])': 0.058823529411764705, '([TO], [NP])': 0.11764705882352941, '([IN], [NP])': 0.17647058823529413, '([IN], [``], [NP])': 0.058823529411764705, '([IN], [S-NOM])': 0.058823529411764705, '([IN], [SBAR-NOM])': 0.058823529411764705, '([JJ], [IN], [NP])': 0.058823529411764705, '([VBN], [PP])': 0.058823529411764705, '([VBG], [NP])': 0.058823529411764705, '([ADVP], [IN], [NP])': 0.058823529411764705, '<unk>': 0.058823529411764705}\n",
      "[SQ] {'([-NONE-],)': 0.0625, '([VBZ], [NP-SBJ': 0.0625, '([MD], [NP-SBJ], [VP])': 0.0625, '([VBD], [RB], [NP-SBJ], [VP])': 0.0625, '([NP-SBJ], [VP])': 0.0625, '([VBZ], [NP-SBJ], [ADVP-PRD], [ADVP-TMP])': 0.0625, '([VBZ], [NP-SBJ], [VP])': 0.0625, '([VBZ], [NP-SBJ], [NP-PRD])': 0.0625, '([FRAG],)': 0.0625, '([VBZ], [NP-SBJ], [ADVP-TMP], [VP])': 0.0625, '([VBZ], [NP-SBJ], [PP-LOC-PRD])': 0.0625, '([VBP], [NP-SBJ], [VP], [ADJP': 0.0625, '([VBP], [NP-SBJ': 0.0625, '([VBP], [NP-SBJ], [VP])': 0.0625, '([VBZ], [NP-SBJ], [ADJP-PRD])': 0.0625, '<unk>': 0.0625}\n",
      "[ADVP-MNR] {'([JJ],)': 0.058823529411764705, '([RB], [RBR])': 0.058823529411764705, '([JJ], [PP])': 0.058823529411764705, '([RB], [JJ])': 0.058823529411764705, '([RBR], [RB])': 0.058823529411764705, '([ADVP], [PP])': 0.058823529411764705, '([RBS], [RB])': 0.058823529411764705, '([NN], [CC], [NN])': 0.058823529411764705, '([ADVP], [PRN])': 0.058823529411764705, '([ADVP], [SBAR])': 0.058823529411764705, '([RBR],)': 0.058823529411764705, '([RB], [RB])': 0.058823529411764705, '([-NONE-],)': 0.058823529411764705, '([IN],)': 0.058823529411764705, '([RB], [CC], [RB])': 0.058823529411764705, '([RB],)': 0.058823529411764705, '<unk>': 0.058823529411764705}\n",
      "[PP-TPC {'([IN], [NP])': 0.6666666666666666, '<unk>': 0.3333333333333333}\n",
      "[SBARQ-TPC {'([WHNP': 0.6666666666666666, '<unk>': 0.3333333333333333}\n",
      "[ADVP|PRT] {'([RB],)': 0.5, '<unk>': 0.5}\n",
      "[SBAR {'([IN], [S])': 0.2, '([WHPP': 0.06666666666666667, '([WHNP': 0.3333333333333333, '([IN], [``], [S])': 0.06666666666666667, '([SBAR], [:], [NN], [SBAR])': 0.06666666666666667, '([-NONE-], [S])': 0.06666666666666667, '([DT], [S])': 0.06666666666666667, '([WHADVP': 0.06666666666666667, '<unk>': 0.06666666666666667}\n",
      "[''] {\"(''',)\": 0.3333333333333333, \"('''',)\": 0.3333333333333333, '<unk>': 0.3333333333333333}\n",
      "[RBR] {\"('less',)\": 0.0625, \"('sooner',)\": 0.0625, \"('higher',)\": 0.0625, \"('harder',)\": 0.0625, \"('further',)\": 0.0625, \"('lower',)\": 0.0625, \"('later',)\": 0.0625, \"('never',)\": 0.0625, \"('earlier',)\": 0.0625, \"('More',)\": 0.0625, \"('drearier',)\": 0.0625, \"('closer',)\": 0.0625, \"('better',)\": 0.0625, \"('longer',)\": 0.0625, \"('more',)\": 0.0625, '<unk>': 0.0625}\n",
      "[CONJP] {'([RB], [JJ])': 0.125, '([CC], [RB])': 0.125, '([IN], [IN])': 0.125, '([RB], [IN])': 0.125, '([RB], [RB], [IN])': 0.125, '([RB], [TO], [VB])': 0.125, '([RB], [RB])': 0.125, '<unk>': 0.125}\n",
      "[WHNP] {'([WDT],)': 0.09090909090909091, '([WRB], [RB])': 0.09090909090909091, '([WDT], [NNS])': 0.09090909090909091, '([PRP],)': 0.09090909090909091, '([DT], [NN])': 0.09090909090909091, '([WRB], [JJ])': 0.09090909090909091, '([WP$], [NN], [NN])': 0.09090909090909091, '([QP], [-NONE-])': 0.09090909090909091, '([-NONE-],)': 0.09090909090909091, '([WP],)': 0.09090909090909091, '<unk>': 0.09090909090909091}\n",
      "[``] {\"('``',)\": 0.3333333333333333, \"('`',)\": 0.3333333333333333, '<unk>': 0.3333333333333333}\n",
      "[RBS] {\"('Most',)\": 0.3333333333333333, \"('most',)\": 0.3333333333333333, '<unk>': 0.3333333333333333}\n",
      "[NP-VOC] {'([NNS],)': 0.3333333333333333, '([NNP],)': 0.3333333333333333, '<unk>': 0.3333333333333333}\n",
      "[PDT] {\"('all',)\": 0.16666666666666666, \"('such',)\": 0.16666666666666666, \"('both',)\": 0.16666666666666666, \"('half',)\": 0.16666666666666666, \"('Such',)\": 0.16666666666666666, '<unk>': 0.16666666666666666}\n",
      "[SBAR-TMP] {'([WHADVP': 0.29411764705882354, '([WHADVP], [S])': 0.058823529411764705, '([ADVP], [IN], [S])': 0.058823529411764705, '([RB], [IN], [S])': 0.058823529411764705, '([RB], [WHADVP': 0.058823529411764705, '([WHADVP], [FRAG])': 0.058823529411764705, '([WHPP': 0.058823529411764705, '([IN], [NN], [S])': 0.058823529411764705, '([IN], [S])': 0.058823529411764705, '([NP-ADV], [IN], [S])': 0.058823529411764705, '([RB], [S])': 0.058823529411764705, '([SBAR], [,], [CC], [SBAR])': 0.058823529411764705, '<unk>': 0.058823529411764705}\n",
      "[MD] {\"('shall',)\": 0.058823529411764705, \"('will',)\": 0.058823529411764705, \"('wo',)\": 0.058823529411764705, \"('ought',)\": 0.058823529411764705, \"('should',)\": 0.058823529411764705, \"('must',)\": 0.058823529411764705, \"('Can',)\": 0.058823529411764705, \"(''ll',)\": 0.058823529411764705, \"('would',)\": 0.058823529411764705, \"('may',)\": 0.058823529411764705, \"('could',)\": 0.058823529411764705, \"('ca',)\": 0.058823529411764705, \"('might',)\": 0.058823529411764705, \"('Could',)\": 0.058823529411764705, \"('can',)\": 0.058823529411764705, \"(''d',)\": 0.058823529411764705, '<unk>': 0.058823529411764705}\n",
      "[S-NOM-SBJ] {'([NP-SBJ], [VP])': 0.3333333333333333, '([NP-SBJ': 0.3333333333333333, '<unk>': 0.3333333333333333}\n",
      "[NAC] {'([DT], [NNP], [PP])': 0.25, '([NNP], [PP])': 0.25, '([CD], [NNS], [PP])': 0.25, '<unk>': 0.25}\n",
      "[PP-TMP] {'([TO], [NP])': 0.05555555555555555, '([PP], [,], [PP])': 0.05555555555555555, '([IN], [S-NOM])': 0.05555555555555555, '([PP], [PP])': 0.05555555555555555, '([NP], [IN], [NP])': 0.05555555555555555, '([IN], [ADJP])': 0.05555555555555555, '([IN], [ADVP])': 0.05555555555555555, '([PP-DIR], [PP-DIR])': 0.05555555555555555, '([-NONE-],)': 0.05555555555555555, '([NP-ADV], [IN], [NP])': 0.05555555555555555, '([RB], [IN], [S-NOM])': 0.05555555555555555, '([VBG], [NP])': 0.05555555555555555, '([IN], [NP])': 0.05555555555555555, '([ADVP], [IN], [NP])': 0.05555555555555555, '([NP], [IN], [S-NOM])': 0.05555555555555555, '([RB], [S-NOM])': 0.05555555555555555, '([NP-EXT], [IN], [NP])': 0.05555555555555555, '<unk>': 0.05555555555555555}\n",
      "[ADVP-DIR] {'([RP],)': 0.07142857142857142, '([IN],)': 0.07142857142857142, '([RB], [IN])': 0.07142857142857142, '([JJR], [PP])': 0.07142857142857142, '([RBR],)': 0.07142857142857142, '([-NONE-],)': 0.07142857142857142, '([RB], [CC], [RB])': 0.07142857142857142, '([RB], [PP])': 0.07142857142857142, '([RB],)': 0.07142857142857142, '([RB], [NP])': 0.07142857142857142, '([RB], [RB])': 0.07142857142857142, '([RBR], [PP])': 0.07142857142857142, '([NN], [NN], [RB])': 0.07142857142857142, '<unk>': 0.07142857142857142}\n",
      "[PRT] {'([RB],)': 0.16666666666666666, '([JJ],)': 0.16666666666666666, '([RP],)': 0.16666666666666666, '([RBR],)': 0.16666666666666666, '([IN],)': 0.16666666666666666, '<unk>': 0.16666666666666666}\n",
      "[SBAR-PRD] {'([IN], [IN], [S])': 0.14285714285714285, '([DT], [S])': 0.14285714285714285, '([WHADVP': 0.2857142857142857, '([IN], [S])': 0.14285714285714285, '([-NONE-], [S])': 0.14285714285714285, '<unk>': 0.14285714285714285}\n",
      "[PP-PRD] {'([RB], [IN], [NP])': 0.0625, '([IN], [ADJP])': 0.0625, '([IN], [PP])': 0.0625, '([ADJP], [IN], [NP])': 0.0625, '([JJ], [TO], [NP])': 0.0625, '([IN], [ADVP])': 0.0625, '([TO], [NP])': 0.0625, '([IN], [S-NOM])': 0.0625, '([IN], [SBAR-NOM])': 0.0625, '([-NONE-],)': 0.0625, '([IN], [NP])': 0.0625, '([ADVP], [IN], [NP])': 0.0625, '([NP-ADV], [IN], [NP])': 0.0625, '([VBN], [PP])': 0.0625, '([PP], [SBAR])': 0.0625, '<unk>': 0.0625}\n",
      "[S-CLF] {'([CC], [NP-SBJ], [VP], [.])': 0.25, '([NP-SBJ], [VP])': 0.25, '([NP-SBJ], [VP], [.])': 0.25, '<unk>': 0.25}\n",
      "[EX] {\"('there',)\": 0.3333333333333333, \"('There',)\": 0.3333333333333333, '<unk>': 0.3333333333333333}\n",
      "[NP-TTL-PRD] {'([NNP],)': 0.5, '<unk>': 0.5}\n",
      "[SBAR-NOM-PRD] {'([WHNP': 0.75, '<unk>': 0.25}\n",
      "[WP$] {\"('whose',)\": 0.5, '<unk>': 0.5}\n",
      "[NP-TPC] {'([NNP], [NNP])': 0.5, '<unk>': 0.5}\n",
      "[ADJP-CLR] {'([JJ], [SBAR])': 0.5, '<unk>': 0.5}\n",
      "[TO] {\"('To',)\": 0.25, \"('to',)\": 0.25, \"('TO',)\": 0.25, '<unk>': 0.25}\n",
      "[ADVP-PRP] {'([-NONE-],)': 0.5, '<unk>': 0.5}\n",
      "[NP-TTL-SBJ {'([NNP], [NNP])': 0.3333333333333333, '([NNP],)': 0.3333333333333333, '<unk>': 0.3333333333333333}\n",
      "[PP-LOC-TPC {'([IN], [NP])': 0.5, '<unk>': 0.5}\n",
      "[PP-PRD-LOC] {'([IN], [NP])': 0.3333333333333333, '([ADVP], [IN], [NP])': 0.3333333333333333, '<unk>': 0.3333333333333333}\n",
      "[ADJP {'([RB], [JJ], [PP])': 0.3333333333333333, '([JJ], [PP])': 0.3333333333333333, '<unk>': 0.3333333333333333}\n",
      "[NAC-LOC] {'([NNP], [,], [NNP], [,])': 0.2, '([NNP], [NNP], [,], [NNP])': 0.2, '([NNP], [JJ])': 0.2, '([NNP], [,], [NNP])': 0.2, '<unk>': 0.2}\n",
      "[ADVP-CLR] {'([RB], [JJ])': 0.1, '([IN], [PP])': 0.1, '([RB], [JJR])': 0.1, '([JJR],)': 0.1, '([RB], [NP])': 0.1, '([RB], [NP], [PP])': 0.1, '([RB],)': 0.1, '([-NONE-],)': 0.1, '([RB], [PP])': 0.1, '<unk>': 0.1}\n",
      "[VP {'([VBG], [SBAR])': 0.14285714285714285, '([VBG], [NP])': 0.14285714285714285, '([VBG], [PP])': 0.14285714285714285, '([VBN], [NP], [PP])': 0.14285714285714285, '([VBN], [NP], [PP-LOC])': 0.14285714285714285, '([VBG], [:], [``], [S])': 0.14285714285714285, '<unk>': 0.14285714285714285}\n",
      "[S-PRD] {'([NP-SBJ': 0.6666666666666666, '([NP-SBJ], [VP])': 0.16666666666666666, '<unk>': 0.16666666666666666}\n",
      "[ADVP-DIR-TPC {'([RB],)': 0.5, '<unk>': 0.5}\n",
      "[X] {'([PP],)': 0.3333333333333333, '([IN],)': 0.3333333333333333, '<unk>': 0.3333333333333333}\n",
      "[NP-TMP-CLR] {'([NNP], [CD])': 0.2, '([DT], [JJ], [NNS])': 0.2, '([DT], [NN])': 0.2, '([NNP], [CD], [,], [CD])': 0.2, '<unk>': 0.2}\n",
      "[SBAR-ADV {'([IN], [S])': 0.5, '([-NONE-],)': 0.25, '<unk>': 0.25}\n",
      "[UCP-TMP] {'([PP], [CC], [NP])': 0.5, '<unk>': 0.5}\n",
      "[LST] {'([LS], [.])': 0.25, '([LS], [-RRB-])': 0.25, '([LS], [:])': 0.25, '<unk>': 0.25}\n",
      "[SBAR-PRP {'([WHNP': 0.5, '<unk>': 0.5}\n",
      "[PP-LOC-PRD-TPC {'([IN], [NP])': 0.5, '<unk>': 0.5}\n",
      "[PP-PUT] {'([IN], [NP])': 0.3333333333333333, '([IN], [PP])': 0.3333333333333333, '<unk>': 0.3333333333333333}\n",
      "[WHADVP] {'([WRB],)': 0.3333333333333333, '([RB],)': 0.3333333333333333, '<unk>': 0.3333333333333333}\n",
      "[NP-PRD-TTL] {'([NNP], [NNPS])': 0.5, '<unk>': 0.5}\n",
      "[POS] {\"(''s',)\": 0.3333333333333333, \"(''',)\": 0.3333333333333333, '<unk>': 0.3333333333333333}\n",
      "[PP-LOC-CLR] {'([-NONE-],)': 0.25, '([IN], [NP])': 0.25, '([JJ], [PP])': 0.25, '<unk>': 0.25}\n",
      "[S-SBJ] {'([NP-SBJ': 0.3333333333333333, '([NP-SBJ], [VP])': 0.3333333333333333, '<unk>': 0.3333333333333333}\n",
      "[$] {\"('US$',)\": 0.25, \"('C$',)\": 0.25, \"('$',)\": 0.25, '<unk>': 0.25}\n",
      "[PP-DIR {'([IN], [NP])': 0.4, '([TO], [NP])': 0.4, '<unk>': 0.2}\n",
      "[PP-TMP-CLR] {'([IN], [NP])': 0.5, '<unk>': 0.5}\n",
      "[SBAR-MNR] {'([IN], [IN], [S])': 0.3333333333333333, '([IN], [S])': 0.3333333333333333, '<unk>': 0.3333333333333333}\n",
      "[UH] {\"('no',)\": 0.25, \"('Oh',)\": 0.25, \"('OK',)\": 0.25, '<unk>': 0.25}\n",
      "[ADJP-PRD {'([RB], [JJ], [S])': 0.5, '<unk>': 0.5}\n",
      "[NP-ADV {'([DT], [NN])': 0.5, '<unk>': 0.5}\n",
      "[-LRB-] {\"('-LRB-',)\": 0.3333333333333333, \"('-LCB-',)\": 0.3333333333333333, '<unk>': 0.3333333333333333}\n",
      "[FRAG-HLN] {'([NP], [:], [S], [.])': 0.5, '<unk>': 0.5}\n",
      "[ADJP-TPC {'([RB], [JJ])': 0.5, '<unk>': 0.5}\n",
      "[ADJP-TMP] {'([JJ], [PP])': 0.5, '<unk>': 0.5}\n",
      "[ADVP-PRD-LOC {'([RB], [RB], [PP-LOC], [S])': 0.5, '<unk>': 0.5}\n",
      "[ADVP-PRD-TPC {'([RB],)': 0.6666666666666666, '<unk>': 0.3333333333333333}\n",
      "[FRAG-TTL-SBJ {'([INTJ], [,], [NP-VOC])': 0.5, '<unk>': 0.5}\n",
      "[SBAR-SBJ] {'([RB], [IN], [S])': 0.3333333333333333, '([IN], [S])': 0.3333333333333333, '<unk>': 0.3333333333333333}\n",
      "[SBAR-CLR] {'([IN], [S])': 0.25, '([IN], [S-NOM])': 0.25, '([WHADVP': 0.25, '<unk>': 0.25}\n",
      "[PP-CLR-LOC] {'([IN], [NP])': 0.5, '<unk>': 0.5}\n",
      "[UCP-LOC-CLR] {'([SBAR-NOM], [:], [PP])': 0.5, '<unk>': 0.5}\n",
      "[PP-LOC {'([IN], [NP])': 0.6666666666666666, '<unk>': 0.3333333333333333}\n",
      "[NP-TMP-HLN] {'([NP], [,], [NP])': 0.5, '<unk>': 0.5}\n",
      "[ADVP-LOC-PRD-TPC {'([RB],)': 0.5, '<unk>': 0.5}\n",
      "[S-TMP] {'([NP-SBJ], [VP], [PP-TMP])': 0.3333333333333333, '([NP-SBJ], [VP])': 0.3333333333333333, '<unk>': 0.3333333333333333}\n",
      "[FRAG-ADV] {'([IN], [ADVP])': 0.3333333333333333, '([WHADVP], [ADJP])': 0.3333333333333333, '<unk>': 0.3333333333333333}\n",
      "[SINV-TPC {'([CC], [VBP], [NP-SBJ': 0.5, '<unk>': 0.5}\n",
      "[WHPP] {'([IN], [WHNP])': 0.5, '<unk>': 0.5}\n",
      "[NP-TPC {'([NP], [SBAR])': 0.5, '<unk>': 0.5}\n",
      "[ADVP-TMP-CLR] {'([-NONE-],)': 0.5, '<unk>': 0.5}\n",
      "[UCP-MNR] {'([DT], [ADVP], [CC], [PP])': 0.5, '<unk>': 0.5}\n",
      "[SBAR-NOM {'([WHNP': 0.3333333333333333, '([WHADVP': 0.3333333333333333, '<unk>': 0.3333333333333333}\n",
      "[VP-TPC {'([VBG], [NP])': 0.5, '<unk>': 0.5}\n",
      "[X-HLN] {'([NNP], [NNP], [.])': 0.5, '<unk>': 0.5}\n",
      "[PP-TTL] {'([NNP], [NP])': 0.5, '<unk>': 0.5}\n",
      "[S-NOM-PRD] {'([NP-SBJ], [VP])': 0.5, '<unk>': 0.5}\n",
      "[PP-EXT] {'([IN], [NP])': 0.5, '<unk>': 0.5}\n",
      "[SQ-TPC {'([VBP], [NP-SBJ], [VP], [.])': 0.5, '<unk>': 0.5}\n",
      "[S-ADV {'([NP-SBJ], [VP])': 0.5, '<unk>': 0.5}\n",
      "[PP-TMP-PRD] {'([IN], [NP])': 0.5, '<unk>': 0.5}\n",
      "[-RRB-] {\"('-RRB-',)\": 0.3333333333333333, \"('-RCB-',)\": 0.3333333333333333, '<unk>': 0.3333333333333333}\n",
      "[QP {'([CC], [RB])': 0.5, '<unk>': 0.5}\n",
      "[ADVP-LOC-PRD] {'([-NONE-],)': 0.2, '([RB],)': 0.2, '([NP], [IN])': 0.2, '([RB], [PP])': 0.2, '<unk>': 0.2}\n",
      "[S-CLR] {'([NP-SBJ': 0.3333333333333333, '([NP-SBJ], [VP])': 0.16666666666666666, '([NP-SBJ], [ADJP-PRD])': 0.16666666666666666, '([S], [,], [CC], [S])': 0.16666666666666666, '<unk>': 0.16666666666666666}\n",
      "[PP-TPC] {'([IN], [NP])': 0.5, '<unk>': 0.5}\n",
      "[SYM] {\"('&',)\": 0.5, '<unk>': 0.5}\n",
      "[S-TTL] {'([NP-SBJ], [VP])': 0.5, '<unk>': 0.5}\n",
      "[ADJP-ADV] {'([JJ], [PP])': 0.5, '<unk>': 0.5}\n",
      "[PP-LOC-CLR-TPC {'([IN], [NP])': 0.5, '<unk>': 0.5}\n",
      "[PP-MNR {'([IN], [NP])': 0.5, '<unk>': 0.5}\n",
      "[NX {'([NP], [SBAR])': 0.3333333333333333, '([NNS],)': 0.3333333333333333, '<unk>': 0.3333333333333333}\n",
      "[ADVP-EXT] {'([RB], [RB])': 0.5, '<unk>': 0.5}\n",
      "[SBAR-LOC-PRD] {'([WHADVP': 0.5, '<unk>': 0.5}\n",
      "[S-MNR] {'([NP-SBJ], [VP])': 0.5, '<unk>': 0.5}\n",
      "[PP-MNR-CLR] {'([IN], [NP])': 0.5, '<unk>': 0.5}\n",
      "[PP-LGS] {'([IN], [NP])': 0.5, '<unk>': 0.5}\n"
     ]
    }
   ],
   "source": [
    "def compute_maximum_likelihood_estimates(cfg: CFG, joint_counts):\n",
    "    \"\"\"\n",
    "    Use the gathered counts to compute the maximum likelihood estimates.\n",
    "\n",
    "    :param cfg: a CFG object\n",
    "    :param joint_counts: counts as computed by `count_rules` and smoothed by `add_pseudo_counts_and_unk_rules`\n",
    "    :returns: cpds as a dictionary of dictionaries where\n",
    "        cpds[X][r] is the MLE parameter for rule r whose LHS is X\n",
    "    \"\"\"\n",
    "    cpds = {lhs: {}\n",
    "            for lhs in joint_counts}\n",
    "    for lhs in joint_counts:\n",
    "        total = sum(joint_counts[lhs].values())\n",
    "        for rhs in joint_counts[lhs]:\n",
    "            cpds[lhs][rhs] = joint_counts[lhs][rhs] / total\n",
    "    # By now they're more useful than an MLE is, but whatever:\n",
    "#     for lhs in cpds:\n",
    "#         cpds[lhs] = max(cpds[lhs], key=cpds[lhs].get)\n",
    "    return cpds\n",
    "\n",
    "\n",
    "joint_counts = count_rules(training_parses)\n",
    "add_pseudo_counts_and_unk_rules(ptb_grammar, joint_counts, 1.)\n",
    "p_R = compute_maximum_likelihood_estimates(ptb_grammar, joint_counts)\n",
    "\n",
    "for i, x in enumerate(p_R):\n",
    "    if i > 42:\n",
    "        break\n",
    "    print(x, p_R[x])"
   ]
  },
  {
   "cell_type": "markdown",
   "metadata": {},
   "source": [
    "### Garbage"
   ]
  },
  {
   "cell_type": "code",
   "execution_count": null,
   "metadata": {},
   "outputs": [],
   "source": []
  }
 ],
 "metadata": {
  "colab": {
   "collapsed_sections": [],
   "default_view": {},
   "name": "joden.ipynb",
   "provenance": [],
   "version": "0.3.2",
   "views": {}
  },
  "kernelspec": {
   "display_name": "Python 3",
   "language": "python",
   "name": "python3"
  },
  "language_info": {
   "codemirror_mode": {
    "name": "ipython",
    "version": 3
   },
   "file_extension": ".py",
   "mimetype": "text/x-python",
   "name": "python",
   "nbconvert_exporter": "python",
   "pygments_lexer": "ipython3",
   "version": "3.6.4"
  },
  "varInspector": {
   "cols": {
    "lenName": 16,
    "lenType": 16,
    "lenVar": 40
   },
   "kernels_config": {
    "python": {
     "delete_cmd_postfix": "",
     "delete_cmd_prefix": "del ",
     "library": "var_list.py",
     "varRefreshCmd": "print(var_dic_list())"
    },
    "r": {
     "delete_cmd_postfix": ") ",
     "delete_cmd_prefix": "rm(",
     "library": "var_list.r",
     "varRefreshCmd": "cat(var_dic_list()) "
    }
   },
   "types_to_exclude": [
    "module",
    "function",
    "builtin_function_or_method",
    "instance",
    "_Feature"
   ],
   "window_display": false
  }
 },
 "nbformat": 4,
 "nbformat_minor": 1
}
