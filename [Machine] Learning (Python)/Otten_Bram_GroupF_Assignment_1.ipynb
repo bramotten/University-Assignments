{
 "cells": [
  {
   "cell_type": "markdown",
   "metadata": {},
   "source": [
    "# The basics\n",
    "\n",
    "Before we get started with the actual assignment please fill in you name, student ID and group below. Double click this *Markdown* cell to edit the content.\n",
    "\n",
    "\n",
    "### Name: Bram Otten\n",
    "\n",
    "### Student ID: 10992456\n",
    "\n",
    "### Group: F\n",
    "\n",
    "Also edit the file name to include this information, replacing *LastName*, *FirstName* and *GroupX*. Edit the file name by double clicking it at the top the page. Improperly formated assignments will not be graded, so make sure to do this right away!\n"
   ]
  },
  {
   "cell_type": "markdown",
   "metadata": {},
   "source": [
    "# Sudoku solver\n",
    "\n",
    "Now that we have all the tools setup, we can get started with the actual assignment for this week. You will build a simple [Sudoku](https://en.wikipedia.org/wiki/Sudoku) solver using some of the installed tools, in order to get a little more familiar with them. There are *11 points* in total for these excersises, indicated in square brackets after the title of each section.\n",
    "\n",
    "## Loading the puzzle [1 pt]\n",
    "\n",
    "Provided with the assignment are 2 folders, labeled `easy` and `hard`, each containing 3 puzzles of their respective difficulties. You can open the files with any text editor and see they are simply [CSV](https://en.wikipedia.org/wiki/Comma-separated_values) formatted files with 9 rows and 9 columns. Some of the cells are are already filled with numbers `1` to `9`, while others have a `0` value to indicate they are still blank.\n",
    "\n",
    "A Sudoku puzzle is nothing more than a grid of numbers, so you can very naturally represent the puzzle as a 2-dimensional array. As mentioned in the previous section, *NumPy* is great for handling any multidimensional arrays. In this case you can use the [loadtxt](https://docs.scipy.org/doc/numpy/reference/generated/numpy.loadtxt.html) function to convert the CSV file to a *Numpy* array.\n",
    "\n",
    "Below is some code to get you started. There is the import of *Numpy*, a constant that will come in handy later and the start of your function definition. Finish the function so it returns a *Numpy* array of the provided `filename` argument. The test below the function should then print out the array, so you can see what the puzzle looks like."
   ]
  },
  {
   "cell_type": "code",
   "execution_count": null,
   "metadata": {},
   "outputs": [],
   "source": [
    "import numpy as np\n",
    "\n",
    "MAX_VALUE = 9\n",
    "\n",
    "def load_sudoku(filename):\n",
    "    file = open(filename, 'r')\n",
    "    return np.loadtxt(file, delimiter=',', dtype=\"int\")\n",
    "\n",
    "sudoku = load_sudoku('easy/puzzle1.csv')\n",
    "print(sudoku)"
   ]
  },
  {
   "cell_type": "markdown",
   "metadata": {},
   "source": [
    "## Cell indices [1 pt]\n",
    "\n",
    "Now that we have the puzzle stored as an array, we can easily access a cell at a specific coordinate using the array indices. Some basics are covered [here](https://docs.scipy.org/doc/numpy/user/basics.indexing.html). Most features work exactly the same as for lists, except that for a 2-dimensional array in *NumPy* you would write `array[3, 4]` instead of the traditional `list[3][4]`.\n",
    "\n",
    "Use the indexing to write the two simple functions for the *Sudoku* grid and test that they work."
   ]
  },
  {
   "cell_type": "code",
   "execution_count": null,
   "metadata": {},
   "outputs": [],
   "source": [
    "def get_value(grid, x, y):\n",
    "    \n",
    "    # Could (aka should) copy-paste some check like this to every f\n",
    "    if x > MAX_VALUE or x < 0 or y > MAX_VALUE or y < 0:\n",
    "        return \"OUT OF BOUNDS\"\n",
    "    \n",
    "    return grid[y, x]\n",
    "\n",
    "def set_value(grid, x, y, val):\n",
    "    grid[y, x] = val\n",
    "    \n",
    "# Test\n",
    "print(sudoku)\n",
    "original = get_value(sudoku, 7, 8)\n",
    "set_value(sudoku, 7, 8, 42)\n",
    "set_value(sudoku, 7, 8, 42)\n",
    "print(sudoku)\n",
    "set_value(sudoku, 7, 8, original)\n",
    "print(sudoku)"
   ]
  },
  {
   "cell_type": "markdown",
   "metadata": {},
   "source": [
    "## Rows and columns  [1 pt]\n",
    "\n",
    "In order to solve a *Sudoku*, you need to be able to find what values are already filled in a cells row or column. Basic slicing of indices works for *Numpy* arrays just as it does for lists. For a complete overview of the options, see [the documentation](https://docs.scipy.org/doc/numpy/reference/arrays.indexing.html).\n",
    "\n",
    "You can use these options to select individual rows or column from the grid. Complete the two functions below and make sure to test them to see if they do what you would expect."
   ]
  },
  {
   "cell_type": "code",
   "execution_count": null,
   "metadata": {},
   "outputs": [],
   "source": [
    "def get_row(grid, y):\n",
    "    return grid[y, :]\n",
    "    \n",
    "def get_column(grid, x):\n",
    "    return grid[:, x]\n",
    "    \n",
    "# Test\n",
    "print(sudoku)\n",
    "print(get_row(sudoku, 2))\n",
    "print(get_column(sudoku, 6))"
   ]
  },
  {
   "cell_type": "markdown",
   "metadata": {},
   "source": [
    "## Sudoku squares [2 pts]\n",
    "\n",
    "Now that you can extract rows and columns, logically the next step is to extract the 3x3 squares. This is a little trickier, but not that hard to do with a short helper function. First write a function that computes the upper and lower bound of the box containing and index. If for example you wanted the upper and lower bound for the index `5`, your function should return `3, 6`, because `5` is in between box-borders `3` and `6`.\n",
    "    \n",
    "    | 0 1 2 | 3 4 5 | 6 7 8 |\n",
    "    0 ..... 3 ..... 6 ..... 9\n",
    "\n",
    "If you use this function for the x and y position of your cells, you will know exactly what parts of the grid to slice the square from. This will make the actual `get_square` function a lot more straight foward.\n",
    "\n",
    "Fill in the code for both functions below and test them to see the produce the correct output."
   ]
  },
  {
   "cell_type": "code",
   "execution_count": null,
   "metadata": {},
   "outputs": [],
   "source": [
    "def square_bounds(ind):\n",
    "    \n",
    "    if MAX_VALUE != 9:\n",
    "        return \"NOT IMPLEMENTED THIS GRID SIZE\"\n",
    "    \n",
    "    if ind in [0, 1, 2]:\n",
    "        return (0, 3)\n",
    "    if ind in [3, 4, 5]:\n",
    "        return (3, 6)\n",
    "    if ind in [6, 7, 8]:\n",
    "        return (6, 9)\n",
    "\n",
    "def get_square(grid, x, y):\n",
    "    \n",
    "    # This one is a little confusing because np arrays are\n",
    "    # used. Could nest some for's and use get_value.\n",
    "    (npy1, npy2) = square_bounds(x)\n",
    "    (npx1, npx2) = square_bounds(y)\n",
    "    return grid[npx1:npx2, npy1:npy2]\n",
    "\n",
    "# Test\n",
    "print(sudoku)\n",
    "print(square_bounds(2))\n",
    "print(get_square(sudoku, 7, 0))"
   ]
  },
  {
   "cell_type": "markdown",
   "metadata": {},
   "source": [
    "## Possible cell values [2 pts]\n",
    "\n",
    "Now we can access the values already filled in the rows, columns and squares. However, in order to solve the sudoku we need the opposite information; which values can still be used for an open cell. For this write a function `not_used`, which takes a set values and returns which of the 9 numbers have not been used yet. One possible solution might be to use the *Numpy* function [setdiff1d](https://docs.scipy.org/doc/numpy/reference/generated/numpy.setdiff1d.html), but there are plenty of other valid solutions.\n",
    "\n",
    "With all these functions written, finding out what valid values can be used to fill a cell is actually pretty easy. You can simply use `get_row`, `get_column` and `get_square` and figure out what values are `not_used` for each of these. Then all that remains is find the unused values that occur in all 3 of the unused value sets, meaning they are actually valid options for that specific cell. Again, a possible solution might be to use another *NumPy* set function, [intersect1d](https://docs.scipy.org/doc/numpy/reference/generated/numpy.intersect1d.html), but feel free to write your own solution. Fill in the code for the function `possible_values` below and test it for some coordinates."
   ]
  },
  {
   "cell_type": "code",
   "execution_count": null,
   "metadata": {},
   "outputs": [],
   "source": [
    "def not_used(vals):\n",
    "    numbers = np.array([1, 2, 3, 4, 5, 6, 7, 8, 9])\n",
    "    values = np.array(vals)\n",
    "    return np.setdiff1d(numbers, values)\n",
    "\n",
    "def possible_values(grid, x, y):\n",
    "    \n",
    "    freeRow = not_used(get_row(grid, y))\n",
    "    freeColumn = not_used(get_column(grid, x))\n",
    "    freeSquare = not_used(get_square(grid, x, y))\n",
    "    \n",
    "    return np.intersect1d(np.intersect1d(freeRow, freeColumn), freeSquare)\n",
    "\n",
    "# Test\n",
    "print(not_used([2, 3, 4]))\n",
    "print(not_used(np.array([4, 2])))\n",
    "print(sudoku)\n",
    "print(possible_values(sudoku, 7, 1))"
   ]
  },
  {
   "cell_type": "markdown",
   "metadata": {},
   "source": [
    "## Simple solutions [2 pts]\n",
    "\n",
    "Now that we can find the possible values of a cell, solving the *Sudoku* is just repeating that process until the grid is completely solved! First write a short function to detect a square has been complete solved, called `is_solved`. Remember that cells that have not been filled yet have the value `0`.\n",
    "\n",
    "Now for a simple solution you can just loop through the grid coordinates repeatedly, finding cells which have not been filled yet. Then, using the `possible_values` function you can determine what the options are for that cell. If there is only **1** possible option for an unfilled cell, you can fill that cell with that option. Repeat this process until every cell in the grid is filled."
   ]
  },
  {
   "cell_type": "code",
   "execution_count": null,
   "metadata": {},
   "outputs": [],
   "source": [
    "def is_solved(grid):\n",
    "    return not 0 in grid\n",
    "\n",
    "def set_global(grid):\n",
    "    global globalState\n",
    "    globalState = grid\n",
    "\n",
    "def solve_simple(grid, newHere = True):\n",
    "    \n",
    "    if newHere:\n",
    "        set_global(False)\n",
    "        # Could check if the given grid is even valid.\n",
    "        # Theoretically, it can only not be just \n",
    "        # after reading a file.\n",
    "        # for in for etc., check if actual value\n",
    "        # is in possible values\n",
    "                 \n",
    "    # Get next problem (done if there are none)\n",
    "    (yList, xList) = np.where(grid == 0)\n",
    "    if xList.size == 0:\n",
    "        set_global(grid)\n",
    "        return globalState\n",
    "    \n",
    "    # Fill in the first problem that can only be solved\n",
    "    # one way. Then do the whole thing again\n",
    "    for index in range(yList.size):\n",
    "        x = xList[index]\n",
    "        y = yList[index]\n",
    "        pos = possible_values(grid, x, y)\n",
    "        if pos.size == 0:\n",
    "            return False\n",
    "        elif pos.size == 1:\n",
    "            set_value(grid, x, y, pos[0])\n",
    "            solve_simple(grid, False)\n",
    "            break\n",
    "    \n",
    "    return globalState\n",
    "\n",
    "# Test\n",
    "sudoku = load_sudoku('easy/puzzle3.csv')\n",
    "print(sudoku, is_solved(sudoku))\n",
    "print(\"Solving...\")\n",
    "print(solve_simple(sudoku))"
   ]
  },
  {
   "cell_type": "markdown",
   "metadata": {},
   "source": [
    "## Diving in depth first [2 pts]\n",
    "\n",
    "As you may have found out, this simple solution method works fine for the `easy` puzzles, but fails to find solutions for the `hard` puzzles. This means that when trying to solve those puzzle, the grid might not have obvious cells to fill (i.e. all unfilled cells have multiple possible values). To solve them, you could try to search through all possible solutions to see if you can find the correct one.\n",
    "\n",
    "This kind of tree seach problem should conjure images of your *Prolog* days, and indeed can be solved using [Depth First Search](https://en.wikipedia.org/wiki/Depth-first_search). You can write recursive functions in *Python* as well, just make sure to `return` the correct result to the function that made the recursive call. However, these are all just suggestions. Feel free to use [Breath First Search](https://en.wikipedia.org/wiki/Breadth-first_search) instead and use an iterative solution instead of recursion. Fill in the function below and test it on both `easy` (should give the same answer as `solve_simpe`) and `hard` problems."
   ]
  },
  {
   "cell_type": "code",
   "execution_count": null,
   "metadata": {
    "scrolled": true
   },
   "outputs": [],
   "source": [
    "def solve_complete(grid, newHere = True):\n",
    "    \n",
    "    if newHere:\n",
    "        set_global(False)\n",
    "    \n",
    "    # Get next problem (done if there are none)\n",
    "    (yList, xList) = np.where(grid == 0)\n",
    "    if xList.size < 1:\n",
    "        set_global(grid)\n",
    "        return globalState\n",
    "    x = xList[0]\n",
    "    y = yList[0]\n",
    "    \n",
    "    pos = possible_values(grid, x, y)\n",
    "    if pos.size == 0:\n",
    "        return False\n",
    "    \n",
    "    # Try implementing, on a copied board\n",
    "    # because this may be a dead end\n",
    "    for value in pos:\n",
    "        gridCopy = np.copy(grid)\n",
    "        set_value(gridCopy, x, y, value)\n",
    "        solve_complete(gridCopy, False)\n",
    "    \n",
    "    return globalState\n",
    "    \n",
    "puzzle = load_sudoku('hard/puzzle6.csv')\n",
    "print(puzzle)\n",
    "print(\"Solving...\")\n",
    "print(solve_complete(puzzle))"
   ]
  }
 ],
 "metadata": {
  "kernelspec": {
   "display_name": "Python 3",
   "language": "python",
   "name": "python3"
  },
  "language_info": {
   "codemirror_mode": {
    "name": "ipython",
    "version": 3
   },
   "file_extension": ".py",
   "mimetype": "text/x-python",
   "name": "python",
   "nbconvert_exporter": "python",
   "pygments_lexer": "ipython3",
   "version": "3.6.3"
  }
 },
 "nbformat": 4,
 "nbformat_minor": 2
}